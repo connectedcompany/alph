{
 "cells": [
  {
   "cell_type": "code",
   "execution_count": 10,
   "metadata": {},
   "outputs": [],
   "source": [
    "import altair as alt\n",
    "import networkx as nx\n",
    "import sys\n",
    "\"..\" not in sys.path and sys.path.append(\"..\")\n",
    "\n",
    "from alph import alph"
   ]
  },
  {
   "cell_type": "markdown",
   "metadata": {},
   "source": [
    "Unstyled one liner"
   ]
  },
  {
   "cell_type": "code",
   "execution_count": 11,
   "metadata": {},
   "outputs": [
    {
     "data": {
      "text/html": [
       "\n",
       "<div id=\"altair-viz-001b67efe43b4048955815e1dc34e554\"></div>\n",
       "<script type=\"text/javascript\">\n",
       "  var VEGA_DEBUG = (typeof VEGA_DEBUG == \"undefined\") ? {} : VEGA_DEBUG;\n",
       "  (function(spec, embedOpt){\n",
       "    let outputDiv = document.currentScript.previousElementSibling;\n",
       "    if (outputDiv.id !== \"altair-viz-001b67efe43b4048955815e1dc34e554\") {\n",
       "      outputDiv = document.getElementById(\"altair-viz-001b67efe43b4048955815e1dc34e554\");\n",
       "    }\n",
       "    const paths = {\n",
       "      \"vega\": \"https://cdn.jsdelivr.net/npm//vega@5?noext\",\n",
       "      \"vega-lib\": \"https://cdn.jsdelivr.net/npm//vega-lib?noext\",\n",
       "      \"vega-lite\": \"https://cdn.jsdelivr.net/npm//vega-lite@4.17.0?noext\",\n",
       "      \"vega-embed\": \"https://cdn.jsdelivr.net/npm//vega-embed@6?noext\",\n",
       "    };\n",
       "\n",
       "    function maybeLoadScript(lib, version) {\n",
       "      var key = `${lib.replace(\"-\", \"\")}_version`;\n",
       "      return (VEGA_DEBUG[key] == version) ?\n",
       "        Promise.resolve(paths[lib]) :\n",
       "        new Promise(function(resolve, reject) {\n",
       "          var s = document.createElement('script');\n",
       "          document.getElementsByTagName(\"head\")[0].appendChild(s);\n",
       "          s.async = true;\n",
       "          s.onload = () => {\n",
       "            VEGA_DEBUG[key] = version;\n",
       "            return resolve(paths[lib]);\n",
       "          };\n",
       "          s.onerror = () => reject(`Error loading script: ${paths[lib]}`);\n",
       "          s.src = paths[lib];\n",
       "        });\n",
       "    }\n",
       "\n",
       "    function showError(err) {\n",
       "      outputDiv.innerHTML = `<div class=\"error\" style=\"color:red;\">${err}</div>`;\n",
       "      throw err;\n",
       "    }\n",
       "\n",
       "    function displayChart(vegaEmbed) {\n",
       "      vegaEmbed(outputDiv, spec, embedOpt)\n",
       "        .catch(err => showError(`Javascript Error: ${err.message}<br>This usually means there's a typo in your chart specification. See the javascript console for the full traceback.`));\n",
       "    }\n",
       "\n",
       "    if(typeof define === \"function\" && define.amd) {\n",
       "      requirejs.config({paths});\n",
       "      require([\"vega-embed\"], displayChart, err => showError(`Error loading script: ${err.message}`));\n",
       "    } else {\n",
       "      maybeLoadScript(\"vega\", \"5\")\n",
       "        .then(() => maybeLoadScript(\"vega-lite\", \"4.17.0\"))\n",
       "        .then(() => maybeLoadScript(\"vega-embed\", \"6\"))\n",
       "        .catch(showError)\n",
       "        .then(() => displayChart(vegaEmbed));\n",
       "    }\n",
       "  })({\"config\": {\"view\": {\"continuousWidth\": 400, \"continuousHeight\": 300, \"strokeWidth\": 0}}, \"layer\": [{\"data\": {\"name\": \"data-a70f7ae3e756648e513d4619f66cfdbc\"}, \"mark\": \"line\", \"encoding\": {\"color\": {\"value\": \"#606060\"}, \"detail\": {\"field\": \"edge\", \"type\": \"quantitative\"}, \"opacity\": {\"value\": 1.0}, \"strokeWidth\": {\"value\": 2.0}, \"x\": {\"axis\": {\"domain\": false, \"grid\": false, \"labels\": false, \"ticks\": false, \"title\": \"\"}, \"field\": \"x\", \"type\": \"quantitative\"}, \"y\": {\"axis\": {\"domain\": false, \"grid\": false, \"labels\": false, \"ticks\": false, \"title\": \"\"}, \"field\": \"y\", \"type\": \"quantitative\"}}}, {\"layer\": [{\"mark\": \"circle\", \"encoding\": {\"fill\": {\"value\": \"rgba(0,0,0,0\"}, \"opacity\": {\"value\": 1}, \"size\": {\"field\": \"__node_halo_size\", \"legend\": null, \"scale\": null, \"type\": \"quantitative\"}, \"stroke\": {\"value\": \"#343434\"}, \"strokeWidth\": {\"value\": 2}, \"x\": {\"axis\": {\"domain\": false, \"grid\": false, \"labels\": false, \"ticks\": false, \"title\": \"\"}, \"field\": \"x\", \"type\": \"quantitative\"}, \"y\": {\"axis\": {\"domain\": false, \"grid\": false, \"labels\": false, \"ticks\": false, \"title\": \"\"}, \"field\": \"y\", \"type\": \"quantitative\"}}}, {\"mark\": \"circle\", \"encoding\": {\"fill\": {\"value\": \"#000\"}, \"opacity\": {\"value\": 1}, \"size\": {\"value\": 100}, \"stroke\": {\"value\": \"#565656\"}, \"strokeWidth\": {\"value\": 0}, \"tooltip\": [], \"x\": {\"axis\": {\"domain\": false, \"grid\": false, \"labels\": false, \"ticks\": false, \"title\": \"\"}, \"field\": \"x\", \"type\": \"quantitative\"}, \"y\": {\"axis\": {\"domain\": false, \"grid\": false, \"labels\": false, \"ticks\": false, \"title\": \"\"}, \"field\": \"y\", \"type\": \"quantitative\"}}}], \"data\": {\"name\": \"data-cf5f8d326402e1a0df2557aabd2641c2\"}}], \"height\": 300, \"resolve\": {\"scale\": {\"color\": \"independent\", \"fill\": \"independent\", \"opacity\": \"independent\", \"size\": \"independent\", \"strokeWidth\": \"independent\"}}, \"width\": 400, \"$schema\": \"https://vega.github.io/schema/vega-lite/v4.17.0.json\", \"datasets\": {\"data-a70f7ae3e756648e513d4619f66cfdbc\": [{\"target\": 1, \"source\": 0, \"y\": 359.6090110996564, \"edge\": 0, \"pair\": [0, 1], \"x\": 437.985198936302}, {\"target\": 1, \"source\": 0, \"y\": 412.76745204686335, \"edge\": 0, \"pair\": [0, 1], \"x\": 91.44549779266288}, {\"target\": 2, \"source\": 0, \"y\": 359.6090110996564, \"edge\": 1, \"pair\": [0, 2], \"x\": 437.985198936302}, {\"target\": 2, \"source\": 0, \"y\": 513.1026737059002, \"edge\": 1, \"pair\": [0, 2], \"x\": 666.7609114456766}, {\"target\": 3, \"source\": 0, \"y\": 359.6090110996564, \"edge\": 2, \"pair\": [0, 3], \"x\": 437.985198936302}, {\"target\": 3, \"source\": 0, \"y\": 547.6789821106518, \"edge\": 2, \"pair\": [0, 3], \"x\": 339.5578289556071}, {\"target\": 5, \"source\": 0, \"y\": 359.6090110996564, \"edge\": 3, \"pair\": [0, 5], \"x\": 437.985198936302}, {\"target\": 5, \"source\": 0, \"y\": 293.4478242632225, \"edge\": 3, \"pair\": [0, 5], \"x\": 686.6513715720284}, {\"target\": 3, \"source\": 1, \"y\": 412.76745204686335, \"edge\": 4, \"pair\": [1, 3], \"x\": 91.44549779266288}, {\"target\": 3, \"source\": 1, \"y\": 547.6789821106518, \"edge\": 4, \"pair\": [1, 3], \"x\": 339.5578289556071}, {\"target\": 4, \"source\": 1, \"y\": 412.76745204686335, \"edge\": 5, \"pair\": [1, 4], \"x\": 91.44549779266288}, {\"target\": 4, \"source\": 1, \"y\": 241.1524308162842, \"edge\": 5, \"pair\": [1, 4], \"x\": 0.0}, {\"target\": 6, \"source\": 1, \"y\": 412.76745204686335, \"edge\": 6, \"pair\": [1, 6], \"x\": 91.44549779266288}, {\"target\": 6, \"source\": 1, \"y\": 154.55491479318633, \"edge\": 6, \"pair\": [1, 6], \"x\": 228.20660967265962}, {\"target\": 3, \"source\": 2, \"y\": 513.1026737059002, \"edge\": 7, \"pair\": [2, 3], \"x\": 666.7609114456766}, {\"target\": 3, \"source\": 2, \"y\": 547.6789821106518, \"edge\": 7, \"pair\": [2, 3], \"x\": 339.5578289556071}, {\"target\": 5, \"source\": 2, \"y\": 513.1026737059002, \"edge\": 8, \"pair\": [2, 5], \"x\": 666.7609114456766}, {\"target\": 5, \"source\": 2, \"y\": 293.4478242632225, \"edge\": 8, \"pair\": [2, 5], \"x\": 686.6513715720284}, {\"target\": 4, \"source\": 3, \"y\": 547.6789821106518, \"edge\": 9, \"pair\": [3, 4], \"x\": 339.5578289556071}, {\"target\": 4, \"source\": 3, \"y\": 241.1524308162842, \"edge\": 9, \"pair\": [3, 4], \"x\": 0.0}, {\"target\": 5, \"source\": 3, \"y\": 547.6789821106518, \"edge\": 10, \"pair\": [3, 5], \"x\": 339.5578289556071}, {\"target\": 5, \"source\": 3, \"y\": 293.4478242632225, \"edge\": 10, \"pair\": [3, 5], \"x\": 686.6513715720284}, {\"target\": 6, \"source\": 3, \"y\": 547.6789821106518, \"edge\": 11, \"pair\": [3, 6], \"x\": 339.5578289556071}, {\"target\": 6, \"source\": 3, \"y\": 154.55491479318633, \"edge\": 11, \"pair\": [3, 6], \"x\": 228.20660967265962}, {\"target\": 6, \"source\": 4, \"y\": 241.1524308162842, \"edge\": 12, \"pair\": [4, 6], \"x\": 0.0}, {\"target\": 6, \"source\": 4, \"y\": 154.55491479318633, \"edge\": 12, \"pair\": [4, 6], \"x\": 228.20660967265962}, {\"target\": 6, \"source\": 5, \"y\": 293.4478242632225, \"edge\": 13, \"pair\": [5, 6], \"x\": 686.6513715720284}, {\"target\": 6, \"source\": 5, \"y\": 154.55491479318633, \"edge\": 13, \"pair\": [5, 6], \"x\": 228.20660967265962}, {\"target\": 7, \"source\": 5, \"y\": 293.4478242632225, \"edge\": 14, \"pair\": [5, 7], \"x\": 686.6513715720284}, {\"target\": 7, \"source\": 5, \"y\": 21.825826183954945, \"edge\": 14, \"pair\": [5, 7], \"x\": 431.63337132525135}, {\"target\": 7, \"source\": 6, \"y\": 154.55491479318633, \"edge\": 15, \"pair\": [6, 7], \"x\": 228.20660967265962}, {\"target\": 7, \"source\": 6, \"y\": 21.825826183954945, \"edge\": 15, \"pair\": [6, 7], \"x\": 431.63337132525135}, {\"target\": 8, \"source\": 7, \"y\": 21.825826183954945, \"edge\": 16, \"pair\": [7, 8], \"x\": 431.63337132525135}, {\"target\": 8, \"source\": 7, \"y\": 35.58832548107118, \"edge\": 16, \"pair\": [7, 8], \"x\": 640.2541611222451}, {\"target\": 9, \"source\": 8, \"y\": 35.58832548107118, \"edge\": 17, \"pair\": [8, 9], \"x\": 640.2541611222451}, {\"target\": 9, \"source\": 8, \"y\": 102.62983794330721, \"edge\": 17, \"pair\": [8, 9], \"x\": 786.2271058736753}], \"data-cf5f8d326402e1a0df2557aabd2641c2\": [{\"y\": 359.6090110996564, \"x\": 437.985198936302, \"__node_size\": 100, \"__node_r\": 5.0, \"__node_halo_size\": 196.0}, {\"y\": 412.76745204686335, \"x\": 91.44549779266288, \"__node_size\": 100, \"__node_r\": 5.0, \"__node_halo_size\": 196.0}, {\"y\": 513.1026737059002, \"x\": 666.7609114456766, \"__node_size\": 100, \"__node_r\": 5.0, \"__node_halo_size\": 196.0}, {\"y\": 547.6789821106518, \"x\": 339.5578289556071, \"__node_size\": 100, \"__node_r\": 5.0, \"__node_halo_size\": 196.0}, {\"y\": 241.1524308162842, \"x\": 0.0, \"__node_size\": 100, \"__node_r\": 5.0, \"__node_halo_size\": 196.0}, {\"y\": 293.4478242632225, \"x\": 686.6513715720284, \"__node_size\": 100, \"__node_r\": 5.0, \"__node_halo_size\": 196.0}, {\"y\": 154.55491479318633, \"x\": 228.20660967265962, \"__node_size\": 100, \"__node_r\": 5.0, \"__node_halo_size\": 196.0}, {\"y\": 21.825826183954945, \"x\": 431.63337132525135, \"__node_size\": 100, \"__node_r\": 5.0, \"__node_halo_size\": 196.0}, {\"y\": 35.58832548107118, \"x\": 640.2541611222451, \"__node_size\": 100, \"__node_r\": 5.0, \"__node_halo_size\": 196.0}, {\"y\": 102.62983794330721, \"x\": 786.2271058736753, \"__node_size\": 100, \"__node_r\": 5.0, \"__node_halo_size\": 196.0}]}}, {\"mode\": \"vega-lite\"});\n",
       "</script>"
      ],
      "text/plain": [
       "alt.LayerChart(...)"
      ]
     },
     "execution_count": 11,
     "metadata": {},
     "output_type": "execute_result"
    }
   ],
   "source": [
    "G = nx.krackhardt_kite_graph()\n",
    "\n",
    "chart =  alph(G)\n",
    "\n",
    "chart.configure_view(strokeWidth=0).properties(width=400, height=300)"
   ]
  },
  {
   "cell_type": "code",
   "execution_count": null,
   "metadata": {},
   "outputs": [],
   "source": []
  }
 ],
 "metadata": {
  "kernelspec": {
   "display_name": "Python 3.8.2 ('venv': venv)",
   "language": "python",
   "name": "python3"
  },
  "language_info": {
   "codemirror_mode": {
    "name": "ipython",
    "version": 3
   },
   "file_extension": ".py",
   "mimetype": "text/x-python",
   "name": "python",
   "nbconvert_exporter": "python",
   "pygments_lexer": "ipython3",
   "version": "3.8.2"
  },
  "metadata": {
   "interpreter": {
    "hash": "f9eeaac1386f103cfc819cf6645f9259fc0b8eda53ad5c9114a115ed18ca0cb8"
   }
  },
  "orig_nbformat": 2,
  "vscode": {
   "interpreter": {
    "hash": "121ccb6ef33f050b5231fe1f8644b93952e7f3a79e0892dcb9cd03f1749809c5"
   }
  }
 },
 "nbformat": 4,
 "nbformat_minor": 2
}
