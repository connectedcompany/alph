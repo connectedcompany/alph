{
 "cells": [
  {
   "cell_type": "markdown",
   "metadata": {},
   "source": [
    "## Minimal, unstyled one-liner\n",
    "\n",
    "This example shows\n",
    "\n",
    "- how to import alph\n",
    "- how to render a minimal graph with a call to the alph function\n",
    "\n",
    "Fittingly, it uses a simple 10-node graph - the classic [Krackhardt kite graph](https://en.wikipedia.org/wiki/Krackhardt_kite_graph), available directly from NetworkX.\n",
    "\n",
    "Note that node positions will vary from one invocation to another, as the default layout uses the system random number generator without seeding it."
   ]
  },
  {
   "cell_type": "code",
   "execution_count": 1,
   "metadata": {},
   "outputs": [],
   "source": [
    "import sys\n",
    "import networkx as nx\n",
    "\n",
    "\"..\" not in sys.path and sys.path.append(\"..\")\n",
    "from alph import alph, util\n",
    "\n",
    "util.set_altair_renderer()"
   ]
  },
  {
   "cell_type": "code",
   "execution_count": 2,
   "metadata": {},
   "outputs": [
    {
     "data": {
      "application/vnd.vegalite.v5+json": {
       "$schema": "https://vega.github.io/schema/vega-lite/v5.8.0.json",
       "config": {
        "view": {
         "continuousHeight": 300,
         "continuousWidth": 300,
         "strokeWidth": 0
        }
       },
       "datasets": {
        "data-ab2b63f450c2ab1ddfd919ed8de6db58": [
         {
          "edge": 0,
          "pair": [
           0,
           1
          ],
          "source": 0,
          "target": 1,
          "x": 119.7270566873519,
          "y": 205.8669606041425
         },
         {
          "edge": 0,
          "pair": [
           0,
           1
          ],
          "source": 0,
          "target": 1,
          "x": 151.25169359260187,
          "y": 429.87150410689753
         },
         {
          "edge": 1,
          "pair": [
           0,
           2
          ],
          "source": 0,
          "target": 2,
          "x": 119.7270566873519,
          "y": 205.8669606041425
         },
         {
          "edge": 1,
          "pair": [
           0,
           2
          ],
          "source": 0,
          "target": 2,
          "x": 279.3513875456896,
          "y": 82.74202103530243
         },
         {
          "edge": 2,
          "pair": [
           0,
           3
          ],
          "source": 0,
          "target": 3,
          "x": 119.7270566873519,
          "y": 205.8669606041425
         },
         {
          "edge": 2,
          "pair": [
           0,
           3
          ],
          "source": 0,
          "target": 3,
          "x": 321.62060989671284,
          "y": 301.50004661987185
         },
         {
          "edge": 3,
          "pair": [
           0,
           5
          ],
          "source": 0,
          "target": 5,
          "x": 119.7270566873519,
          "y": 205.8669606041425
         },
         {
          "edge": 3,
          "pair": [
           0,
           5
          ],
          "source": 0,
          "target": 5,
          "x": 480.8945251389499,
          "y": 140.7808242557435
         },
         {
          "edge": 4,
          "pair": [
           1,
           3
          ],
          "source": 1,
          "target": 3,
          "x": 151.25169359260187,
          "y": 429.87150410689753
         },
         {
          "edge": 4,
          "pair": [
           1,
           3
          ],
          "source": 1,
          "target": 3,
          "x": 321.62060989671284,
          "y": 301.50004661987185
         },
         {
          "edge": 5,
          "pair": [
           1,
           4
          ],
          "source": 1,
          "target": 4,
          "x": 151.25169359260187,
          "y": 429.87150410689753
         },
         {
          "edge": 5,
          "pair": [
           1,
           4
          ],
          "source": 1,
          "target": 4,
          "x": 327.697096040837,
          "y": 538.1253165599708
         },
         {
          "edge": 6,
          "pair": [
           1,
           6
          ],
          "source": 1,
          "target": 6,
          "x": 151.25169359260187,
          "y": 429.87150410689753
         },
         {
          "edge": 6,
          "pair": [
           1,
           6
          ],
          "source": 1,
          "target": 6,
          "x": 518.8086590050945,
          "y": 463.65981802345965
         },
         {
          "edge": 7,
          "pair": [
           2,
           3
          ],
          "source": 2,
          "target": 3,
          "x": 279.3513875456896,
          "y": 82.74202103530243
         },
         {
          "edge": 7,
          "pair": [
           2,
           3
          ],
          "source": 2,
          "target": 3,
          "x": 321.62060989671284,
          "y": 301.50004661987185
         },
         {
          "edge": 8,
          "pair": [
           2,
           5
          ],
          "source": 2,
          "target": 5,
          "x": 279.3513875456896,
          "y": 82.74202103530243
         },
         {
          "edge": 8,
          "pair": [
           2,
           5
          ],
          "source": 2,
          "target": 5,
          "x": 480.8945251389499,
          "y": 140.7808242557435
         },
         {
          "edge": 9,
          "pair": [
           3,
           4
          ],
          "source": 3,
          "target": 4,
          "x": 321.62060989671284,
          "y": 301.50004661987185
         },
         {
          "edge": 9,
          "pair": [
           3,
           4
          ],
          "source": 3,
          "target": 4,
          "x": 327.697096040837,
          "y": 538.1253165599708
         },
         {
          "edge": 10,
          "pair": [
           3,
           5
          ],
          "source": 3,
          "target": 5,
          "x": 321.62060989671284,
          "y": 301.50004661987185
         },
         {
          "edge": 10,
          "pair": [
           3,
           5
          ],
          "source": 3,
          "target": 5,
          "x": 480.8945251389499,
          "y": 140.7808242557435
         },
         {
          "edge": 11,
          "pair": [
           3,
           6
          ],
          "source": 3,
          "target": 6,
          "x": 321.62060989671284,
          "y": 301.50004661987185
         },
         {
          "edge": 11,
          "pair": [
           3,
           6
          ],
          "source": 3,
          "target": 6,
          "x": 518.8086590050945,
          "y": 463.65981802345965
         },
         {
          "edge": 12,
          "pair": [
           4,
           6
          ],
          "source": 4,
          "target": 6,
          "x": 327.697096040837,
          "y": 538.1253165599708
         },
         {
          "edge": 12,
          "pair": [
           4,
           6
          ],
          "source": 4,
          "target": 6,
          "x": 518.8086590050945,
          "y": 463.65981802345965
         },
         {
          "edge": 13,
          "pair": [
           5,
           6
          ],
          "source": 5,
          "target": 6,
          "x": 480.8945251389499,
          "y": 140.7808242557435
         },
         {
          "edge": 13,
          "pair": [
           5,
           6
          ],
          "source": 5,
          "target": 6,
          "x": 518.8086590050945,
          "y": 463.65981802345965
         },
         {
          "edge": 14,
          "pair": [
           5,
           7
          ],
          "source": 5,
          "target": 7,
          "x": 480.8945251389499,
          "y": 140.7808242557435
         },
         {
          "edge": 14,
          "pair": [
           5,
           7
          ],
          "source": 5,
          "target": 7,
          "x": 659.4829411342928,
          "y": 331.959042227891
         },
         {
          "edge": 15,
          "pair": [
           6,
           7
          ],
          "source": 6,
          "target": 7,
          "x": 518.8086590050945,
          "y": 463.65981802345965
         },
         {
          "edge": 15,
          "pair": [
           6,
           7
          ],
          "source": 6,
          "target": 7,
          "x": 659.4829411342928,
          "y": 331.959042227891
         },
         {
          "edge": 16,
          "pair": [
           7,
           8
          ],
          "source": 7,
          "target": 8,
          "x": 659.4829411342928,
          "y": 331.959042227891
         },
         {
          "edge": 16,
          "pair": [
           7,
           8
          ],
          "source": 7,
          "target": 8,
          "x": 709.8057251918987,
          "y": 186.1687369475191
         },
         {
          "edge": 17,
          "pair": [
           8,
           9
          ],
          "source": 8,
          "target": 9,
          "x": 709.8057251918987,
          "y": 186.1687369475191
         },
         {
          "edge": 17,
          "pair": [
           8,
           9
          ],
          "source": 8,
          "target": 9,
          "x": 800,
          "y": 257.175883147632
         }
        ],
        "data-f75222240ead53aca6b6d9152f98a8b8": [
         {
          "__node_r": 5,
          "__node_size": 100,
          "x": 119.7270566873519,
          "y": 205.8669606041425
         },
         {
          "__node_r": 5,
          "__node_size": 100,
          "x": 151.25169359260187,
          "y": 429.87150410689753
         },
         {
          "__node_r": 5,
          "__node_size": 100,
          "x": 279.3513875456896,
          "y": 82.74202103530243
         },
         {
          "__node_r": 5,
          "__node_size": 100,
          "x": 321.62060989671284,
          "y": 301.50004661987185
         },
         {
          "__node_r": 5,
          "__node_size": 100,
          "x": 327.697096040837,
          "y": 538.1253165599708
         },
         {
          "__node_r": 5,
          "__node_size": 100,
          "x": 480.8945251389499,
          "y": 140.7808242557435
         },
         {
          "__node_r": 5,
          "__node_size": 100,
          "x": 518.8086590050945,
          "y": 463.65981802345965
         },
         {
          "__node_r": 5,
          "__node_size": 100,
          "x": 659.4829411342928,
          "y": 331.959042227891
         },
         {
          "__node_r": 5,
          "__node_size": 100,
          "x": 709.8057251918987,
          "y": 186.1687369475191
         },
         {
          "__node_r": 5,
          "__node_size": 100,
          "x": 800,
          "y": 257.175883147632
         }
        ]
       },
       "height": 300,
       "layer": [
        {
         "data": {
          "name": "data-ab2b63f450c2ab1ddfd919ed8de6db58"
         },
         "encoding": {
          "color": {
           "value": "#606060"
          },
          "detail": {
           "field": "edge",
           "type": "quantitative"
          },
          "opacity": {
           "value": 1
          },
          "strokeWidth": {
           "value": 2
          },
          "x": {
           "axis": {
            "domain": false,
            "grid": false,
            "labels": false,
            "ticks": false,
            "title": ""
           },
           "field": "x",
           "type": "quantitative"
          },
          "y": {
           "axis": {
            "domain": false,
            "grid": false,
            "labels": false,
            "ticks": false,
            "title": ""
           },
           "field": "y",
           "type": "quantitative"
          }
         },
         "mark": {
          "type": "line"
         }
        },
        {
         "data": {
          "name": "data-f75222240ead53aca6b6d9152f98a8b8"
         },
         "encoding": {
          "fill": {
           "value": "#000"
          },
          "opacity": {
           "value": 1
          },
          "size": {
           "value": 100
          },
          "stroke": {
           "value": "#565656"
          },
          "strokeWidth": {
           "value": 0
          },
          "tooltip": [],
          "x": {
           "axis": {
            "domain": false,
            "grid": false,
            "labels": false,
            "ticks": false,
            "title": ""
           },
           "field": "x",
           "type": "quantitative"
          },
          "y": {
           "axis": {
            "domain": false,
            "grid": false,
            "labels": false,
            "ticks": false,
            "title": ""
           },
           "field": "y",
           "type": "quantitative"
          }
         },
         "mark": {
          "type": "circle"
         }
        }
       ],
       "resolve": {
        "scale": {
         "color": "independent",
         "fill": "independent",
         "opacity": "independent",
         "size": "independent",
         "strokeWidth": "independent"
        }
       },
       "width": 400
      },
      "text/plain": [
       "<VegaLite 5 object>\n",
       "\n",
       "If you see this message, it means the renderer has not been properly enabled\n",
       "for the frontend that you are using. For more information, see\n",
       "https://altair-viz.github.io/user_guide/display_frontends.html#troubleshooting\n"
      ]
     },
     "execution_count": 2,
     "metadata": {},
     "output_type": "execute_result"
    }
   ],
   "source": [
    "G = nx.krackhardt_kite_graph()\n",
    "\n",
    "chart = alph(G)\n",
    "\n",
    "chart.configure_view(strokeWidth=0).properties(width=400, height=300)"
   ]
  },
  {
   "cell_type": "code",
   "execution_count": null,
   "metadata": {},
   "outputs": [],
   "source": []
  }
 ],
 "metadata": {
  "kernelspec": {
   "display_name": "Python 3 (ipykernel)",
   "language": "python",
   "name": "python3"
  },
  "language_info": {
   "codemirror_mode": {
    "name": "ipython",
    "version": 3
   },
   "file_extension": ".py",
   "mimetype": "text/x-python",
   "name": "python",
   "nbconvert_exporter": "python",
   "pygments_lexer": "ipython3",
   "version": "3.10.7"
  },
  "metadata": {
   "interpreter": {
    "hash": "f9eeaac1386f103cfc819cf6645f9259fc0b8eda53ad5c9114a115ed18ca0cb8"
   }
  },
  "vscode": {
   "interpreter": {
    "hash": "121ccb6ef33f050b5231fe1f8644b93952e7f3a79e0892dcb9cd03f1749809c5"
   }
  }
 },
 "nbformat": 4,
 "nbformat_minor": 4
}
