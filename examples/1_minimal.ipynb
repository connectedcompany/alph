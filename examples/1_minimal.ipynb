{
 "cells": [
  {
   "cell_type": "markdown",
   "metadata": {},
   "source": [
    "## Minimal, unstyled one-liner\n",
    "\n",
    "This example shows\n",
    "\n",
    "- how to import alph\n",
    "- how to render a minimal graph with a call to the alph function\n",
    "\n",
    "Fittingly, it uses a simple 10-node graph - the classic [Krackhardt kite graph](https://en.wikipedia.org/wiki/Krackhardt_kite_graph), available directly from NetworkX.\n",
    "\n",
    "Note that node positions will vary from one invocation to another, as the default layout uses the system random number generator without seeding it."
   ]
  },
  {
   "cell_type": "code",
   "execution_count": 4,
   "metadata": {},
   "outputs": [
    {
     "data": {
      "text/plain": [
       "RendererRegistry.enable('default')"
      ]
     },
     "execution_count": 4,
     "metadata": {},
     "output_type": "execute_result"
    }
   ],
   "source": [
    "import sys\n",
    "import networkx as nx\n",
    "\n",
    "\"..\" not in sys.path and sys.path.append(\"..\")\n",
    "from alph import alph, util\n",
    "\n",
    "# util.set_altair_renderer()\n",
    "import altair as alt\n",
    "alt.renderers.enable('default')"
   ]
  },
  {
   "cell_type": "code",
   "execution_count": 5,
   "metadata": {},
   "outputs": [
    {
     "data": {
      "text/html": [
       "\n",
       "<style>\n",
       "  #altair-viz-250a25f5a0ed463f9e0c9a573848235b.vega-embed {\n",
       "    width: 100%;\n",
       "    display: flex;\n",
       "  }\n",
       "\n",
       "  #altair-viz-250a25f5a0ed463f9e0c9a573848235b.vega-embed details,\n",
       "  #altair-viz-250a25f5a0ed463f9e0c9a573848235b.vega-embed details summary {\n",
       "    position: relative;\n",
       "  }\n",
       "</style>\n",
       "<div id=\"altair-viz-250a25f5a0ed463f9e0c9a573848235b\"></div>\n",
       "<script type=\"text/javascript\">\n",
       "  var VEGA_DEBUG = (typeof VEGA_DEBUG == \"undefined\") ? {} : VEGA_DEBUG;\n",
       "  (function(spec, embedOpt){\n",
       "    let outputDiv = document.currentScript.previousElementSibling;\n",
       "    if (outputDiv.id !== \"altair-viz-250a25f5a0ed463f9e0c9a573848235b\") {\n",
       "      outputDiv = document.getElementById(\"altair-viz-250a25f5a0ed463f9e0c9a573848235b\");\n",
       "    }\n",
       "    const paths = {\n",
       "      \"vega\": \"https://cdn.jsdelivr.net/npm/vega@5?noext\",\n",
       "      \"vega-lib\": \"https://cdn.jsdelivr.net/npm/vega-lib?noext\",\n",
       "      \"vega-lite\": \"https://cdn.jsdelivr.net/npm/vega-lite@5.8.0?noext\",\n",
       "      \"vega-embed\": \"https://cdn.jsdelivr.net/npm/vega-embed@6?noext\",\n",
       "    };\n",
       "\n",
       "    function maybeLoadScript(lib, version) {\n",
       "      var key = `${lib.replace(\"-\", \"\")}_version`;\n",
       "      return (VEGA_DEBUG[key] == version) ?\n",
       "        Promise.resolve(paths[lib]) :\n",
       "        new Promise(function(resolve, reject) {\n",
       "          var s = document.createElement('script');\n",
       "          document.getElementsByTagName(\"head\")[0].appendChild(s);\n",
       "          s.async = true;\n",
       "          s.onload = () => {\n",
       "            VEGA_DEBUG[key] = version;\n",
       "            return resolve(paths[lib]);\n",
       "          };\n",
       "          s.onerror = () => reject(`Error loading script: ${paths[lib]}`);\n",
       "          s.src = paths[lib];\n",
       "        });\n",
       "    }\n",
       "\n",
       "    function showError(err) {\n",
       "      outputDiv.innerHTML = `<div class=\"error\" style=\"color:red;\">${err}</div>`;\n",
       "      throw err;\n",
       "    }\n",
       "\n",
       "    function displayChart(vegaEmbed) {\n",
       "      vegaEmbed(outputDiv, spec, embedOpt)\n",
       "        .catch(err => showError(`Javascript Error: ${err.message}<br>This usually means there's a typo in your chart specification. See the javascript console for the full traceback.`));\n",
       "    }\n",
       "\n",
       "    if(typeof define === \"function\" && define.amd) {\n",
       "      requirejs.config({paths});\n",
       "      require([\"vega-embed\"], displayChart, err => showError(`Error loading script: ${err.message}`));\n",
       "    } else {\n",
       "      maybeLoadScript(\"vega\", \"5\")\n",
       "        .then(() => maybeLoadScript(\"vega-lite\", \"5.8.0\"))\n",
       "        .then(() => maybeLoadScript(\"vega-embed\", \"6\"))\n",
       "        .catch(showError)\n",
       "        .then(() => displayChart(vegaEmbed));\n",
       "    }\n",
       "  })({\"config\": {\"view\": {\"continuousWidth\": 300, \"continuousHeight\": 300, \"strokeWidth\": 0}}, \"layer\": [{\"data\": {\"name\": \"data-8f039204da15a6bcf2c689becef0a3ba\"}, \"mark\": {\"type\": \"line\"}, \"encoding\": {\"color\": {\"value\": \"#606060\"}, \"detail\": {\"field\": \"edge\", \"type\": \"quantitative\"}, \"opacity\": {\"value\": 1.0}, \"strokeWidth\": {\"value\": 2.0}, \"x\": {\"axis\": {\"domain\": false, \"grid\": false, \"labels\": false, \"ticks\": false, \"title\": \"\"}, \"field\": \"x\", \"type\": \"quantitative\"}, \"y\": {\"axis\": {\"domain\": false, \"grid\": false, \"labels\": false, \"ticks\": false, \"title\": \"\"}, \"field\": \"y\", \"type\": \"quantitative\"}}}, {\"data\": {\"name\": \"data-d670ced0b23c889fc51fb3f4a371fc82\"}, \"mark\": {\"type\": \"circle\"}, \"encoding\": {\"fill\": {\"value\": \"#000\"}, \"opacity\": {\"value\": 1}, \"size\": {\"value\": 100}, \"stroke\": {\"value\": \"#565656\"}, \"strokeWidth\": {\"value\": 0}, \"tooltip\": [], \"x\": {\"axis\": {\"domain\": false, \"grid\": false, \"labels\": false, \"ticks\": false, \"title\": \"\"}, \"field\": \"x\", \"type\": \"quantitative\"}, \"y\": {\"axis\": {\"domain\": false, \"grid\": false, \"labels\": false, \"ticks\": false, \"title\": \"\"}, \"field\": \"y\", \"type\": \"quantitative\"}}}], \"height\": 300, \"resolve\": {\"scale\": {\"color\": \"independent\", \"fill\": \"independent\", \"opacity\": \"independent\", \"size\": \"independent\", \"strokeWidth\": \"independent\"}}, \"width\": 400, \"$schema\": \"https://vega.github.io/schema/vega-lite/v5.8.0.json\", \"datasets\": {\"data-8f039204da15a6bcf2c689becef0a3ba\": [{\"source\": 0, \"edge\": 0, \"y\": 354.8086934235086, \"x\": 426.1107848008212, \"target\": 1, \"pair\": [0, 1]}, {\"source\": 0, \"edge\": 0, \"y\": 57.892463165814235, \"x\": 212.38364008666863, \"target\": 1, \"pair\": [0, 1]}, {\"source\": 0, \"edge\": 1, \"y\": 354.8086934235086, \"x\": 426.1107848008212, \"target\": 2, \"pair\": [0, 2]}, {\"source\": 0, \"edge\": 1, \"y\": 528.4883945404814, \"x\": 610.977296798304, \"target\": 2, \"pair\": [0, 2]}, {\"source\": 0, \"edge\": 2, \"y\": 354.8086934235086, \"x\": 426.1107848008212, \"target\": 3, \"pair\": [0, 3]}, {\"source\": 0, \"edge\": 2, \"y\": 400.3976335917642, \"x\": 116.26007964957381, \"target\": 3, \"pair\": [0, 3]}, {\"source\": 0, \"edge\": 3, \"y\": 354.8086934235086, \"x\": 426.1107848008212, \"target\": 5, \"pair\": [0, 5]}, {\"source\": 0, \"edge\": 3, \"y\": 572.8420616737541, \"x\": 375.3985340244119, \"target\": 5, \"pair\": [0, 5]}, {\"source\": 1, \"edge\": 4, \"y\": 57.892463165814235, \"x\": 212.38364008666863, \"target\": 3, \"pair\": [1, 3]}, {\"source\": 1, \"edge\": 4, \"y\": 400.3976335917642, \"x\": 116.26007964957381, \"target\": 3, \"pair\": [1, 3]}, {\"source\": 1, \"edge\": 5, \"y\": 57.892463165814235, \"x\": 212.38364008666863, \"target\": 4, \"pair\": [1, 4]}, {\"source\": 1, \"edge\": 5, \"y\": 177.02100152933474, \"x\": 31.548662436574563, \"target\": 4, \"pair\": [1, 4]}, {\"source\": 1, \"edge\": 6, \"y\": 57.892463165814235, \"x\": 212.38364008666863, \"target\": 6, \"pair\": [1, 6]}, {\"source\": 1, \"edge\": 6, \"y\": 138.2759673068073, \"x\": 447.11534619510974, \"target\": 6, \"pair\": [1, 6]}, {\"source\": 2, \"edge\": 7, \"y\": 528.4883945404814, \"x\": 610.977296798304, \"target\": 3, \"pair\": [2, 3]}, {\"source\": 2, \"edge\": 7, \"y\": 400.3976335917642, \"x\": 116.26007964957381, \"target\": 3, \"pair\": [2, 3]}, {\"source\": 2, \"edge\": 8, \"y\": 528.4883945404814, \"x\": 610.977296798304, \"target\": 5, \"pair\": [2, 5]}, {\"source\": 2, \"edge\": 8, \"y\": 572.8420616737541, \"x\": 375.3985340244119, \"target\": 5, \"pair\": [2, 5]}, {\"source\": 3, \"edge\": 9, \"y\": 400.3976335917642, \"x\": 116.26007964957381, \"target\": 4, \"pair\": [3, 4]}, {\"source\": 3, \"edge\": 9, \"y\": 177.02100152933474, \"x\": 31.548662436574563, \"target\": 4, \"pair\": [3, 4]}, {\"source\": 3, \"edge\": 10, \"y\": 400.3976335917642, \"x\": 116.26007964957381, \"target\": 5, \"pair\": [3, 5]}, {\"source\": 3, \"edge\": 10, \"y\": 572.8420616737541, \"x\": 375.3985340244119, \"target\": 5, \"pair\": [3, 5]}, {\"source\": 3, \"edge\": 11, \"y\": 400.3976335917642, \"x\": 116.26007964957381, \"target\": 6, \"pair\": [3, 6]}, {\"source\": 3, \"edge\": 11, \"y\": 138.2759673068073, \"x\": 447.11534619510974, \"target\": 6, \"pair\": [3, 6]}, {\"source\": 4, \"edge\": 12, \"y\": 177.02100152933474, \"x\": 31.548662436574563, \"target\": 6, \"pair\": [4, 6]}, {\"source\": 4, \"edge\": 12, \"y\": 138.2759673068073, \"x\": 447.11534619510974, \"target\": 6, \"pair\": [4, 6]}, {\"source\": 5, \"edge\": 13, \"y\": 572.8420616737541, \"x\": 375.3985340244119, \"target\": 6, \"pair\": [5, 6]}, {\"source\": 5, \"edge\": 13, \"y\": 138.2759673068073, \"x\": 447.11534619510974, \"target\": 6, \"pair\": [5, 6]}, {\"source\": 5, \"edge\": 14, \"y\": 572.8420616737541, \"x\": 375.3985340244119, \"target\": 7, \"pair\": [5, 7]}, {\"source\": 5, \"edge\": 14, \"y\": 332.23588579699106, \"x\": 766.9515061632015, \"target\": 7, \"pair\": [5, 7]}, {\"source\": 6, \"edge\": 15, \"y\": 138.2759673068073, \"x\": 447.11534619510974, \"target\": 7, \"pair\": [6, 7]}, {\"source\": 6, \"edge\": 15, \"y\": 332.23588579699106, \"x\": 766.9515061632015, \"target\": 7, \"pair\": [6, 7]}, {\"source\": 7, \"edge\": 16, \"y\": 332.23588579699106, \"x\": 766.9515061632015, \"target\": 8, \"pair\": [7, 8]}, {\"source\": 7, \"edge\": 16, \"y\": 153.56144867744268, \"x\": 800.0, \"target\": 8, \"pair\": [7, 8]}, {\"source\": 8, \"edge\": 17, \"y\": 153.56144867744268, \"x\": 800.0, \"target\": 9, \"pair\": [8, 9]}, {\"source\": 8, \"edge\": 17, \"y\": 27.668567264055536, \"x\": 710.3570875530411, \"target\": 9, \"pair\": [8, 9]}], \"data-d670ced0b23c889fc51fb3f4a371fc82\": [{\"y\": 354.8086934235086, \"x\": 426.1107848008212, \"__node_size\": 100, \"__node_r\": 5.0}, {\"y\": 57.892463165814235, \"x\": 212.38364008666863, \"__node_size\": 100, \"__node_r\": 5.0}, {\"y\": 528.4883945404814, \"x\": 610.977296798304, \"__node_size\": 100, \"__node_r\": 5.0}, {\"y\": 400.3976335917642, \"x\": 116.26007964957381, \"__node_size\": 100, \"__node_r\": 5.0}, {\"y\": 177.02100152933474, \"x\": 31.548662436574563, \"__node_size\": 100, \"__node_r\": 5.0}, {\"y\": 572.8420616737541, \"x\": 375.3985340244119, \"__node_size\": 100, \"__node_r\": 5.0}, {\"y\": 138.2759673068073, \"x\": 447.11534619510974, \"__node_size\": 100, \"__node_r\": 5.0}, {\"y\": 332.23588579699106, \"x\": 766.9515061632015, \"__node_size\": 100, \"__node_r\": 5.0}, {\"y\": 153.56144867744268, \"x\": 800.0, \"__node_size\": 100, \"__node_r\": 5.0}, {\"y\": 27.668567264055536, \"x\": 710.3570875530411, \"__node_size\": 100, \"__node_r\": 5.0}]}}, {\"mode\": \"vega-lite\"});\n",
       "</script>"
      ],
      "text/plain": [
       "alt.LayerChart(...)"
      ]
     },
     "execution_count": 5,
     "metadata": {},
     "output_type": "execute_result"
    }
   ],
   "source": [
    "G = nx.krackhardt_kite_graph()\n",
    "\n",
    "chart = alph(G)\n",
    "\n",
    "chart.configure_view(strokeWidth=0).properties(width=400, height=300)"
   ]
  },
  {
   "cell_type": "code",
   "execution_count": null,
   "metadata": {},
   "outputs": [],
   "source": []
  }
 ],
 "metadata": {
  "kernelspec": {
   "display_name": "Python 3 (ipykernel)",
   "language": "python",
   "name": "python3"
  },
  "language_info": {
   "codemirror_mode": {
    "name": "ipython",
    "version": 3
   },
   "file_extension": ".py",
   "mimetype": "text/x-python",
   "name": "python",
   "nbconvert_exporter": "python",
   "pygments_lexer": "ipython3",
   "version": "3.10.7"
  },
  "metadata": {
   "interpreter": {
    "hash": "f9eeaac1386f103cfc819cf6645f9259fc0b8eda53ad5c9114a115ed18ca0cb8"
   }
  },
  "vscode": {
   "interpreter": {
    "hash": "121ccb6ef33f050b5231fe1f8644b93952e7f3a79e0892dcb9cd03f1749809c5"
   }
  }
 },
 "nbformat": 4,
 "nbformat_minor": 4
}
