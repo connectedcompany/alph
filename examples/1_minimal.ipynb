{
 "cells": [
  {
   "cell_type": "code",
   "execution_count": 10,
   "metadata": {},
   "outputs": [],
   "source": [
    "import altair as alt\n",
    "import networkx as nx\n",
    "import sys\n",
    "\"..\" not in sys.path and sys.path.append(\"..\")\n",
    "\n",
    "from alph import alph"
   ]
  },
  {
   "cell_type": "markdown",
   "metadata": {},
   "source": [
    "Unstyled one liner"
   ]
  },
  {
   "cell_type": "code",
   "execution_count": 11,
   "metadata": {},
   "outputs": [
    {
     "data": {
      "application/vnd.vegalite.v4+json": {
       "$schema": "https://vega.github.io/schema/vega-lite/v4.17.0.json",
       "config": {
        "view": {
         "continuousHeight": 300,
         "continuousWidth": 400,
         "strokeWidth": 0
        }
       },
       "datasets": {
        "data-889baf8423e76d55b6ee097af8668374": [
         {
          "__node_r": 5,
          "__node_size": 100,
          "x": 454.14596324702404,
          "y": 53.916934194508265
         },
         {
          "__node_r": 5,
          "__node_size": 100,
          "x": 710.2167813848664,
          "y": 212.86803015019365
         },
         {
          "__node_r": 5,
          "__node_size": 100,
          "x": 209.22266009583998,
          "y": 92.04715856086027
         },
         {
          "__node_r": 5,
          "__node_size": 100,
          "x": 459.2595157945575,
          "y": 246.78119272418766
         },
         {
          "__node_r": 5,
          "__node_size": 100,
          "x": 726.1851711722384,
          "y": 400.28166045368687
         },
         {
          "__node_r": 5,
          "__node_size": 100,
          "x": 185.3618486007846,
          "y": 268.60213221945713
         },
         {
          "__node_r": 5,
          "__node_size": 100,
          "x": 516.9392919497368,
          "y": 477.84822042008886
         },
         {
          "__node_r": 5,
          "__node_size": 100,
          "x": 277.7869063963561,
          "y": 525.8769526473121
         },
         {
          "__node_r": 5,
          "__node_size": 100,
          "x": 98.92795743925919,
          "y": 474.7238268579706
         },
         {
          "__node_r": 5,
          "__node_size": 100,
          "x": 0,
          "y": 381.4550730742756
         }
        ],
        "data-bc138e3324641e0980684c00d0853bb8": [
         {
          "edge": 0,
          "pair": [
           0,
           1
          ],
          "source": 0,
          "target": 1,
          "x": 454.14596324702404,
          "y": 53.916934194508265
         },
         {
          "edge": 0,
          "pair": [
           0,
           1
          ],
          "source": 0,
          "target": 1,
          "x": 710.2167813848664,
          "y": 212.86803015019365
         },
         {
          "edge": 1,
          "pair": [
           0,
           2
          ],
          "source": 0,
          "target": 2,
          "x": 454.14596324702404,
          "y": 53.916934194508265
         },
         {
          "edge": 1,
          "pair": [
           0,
           2
          ],
          "source": 0,
          "target": 2,
          "x": 209.22266009583998,
          "y": 92.04715856086027
         },
         {
          "edge": 2,
          "pair": [
           0,
           3
          ],
          "source": 0,
          "target": 3,
          "x": 454.14596324702404,
          "y": 53.916934194508265
         },
         {
          "edge": 2,
          "pair": [
           0,
           3
          ],
          "source": 0,
          "target": 3,
          "x": 459.2595157945575,
          "y": 246.78119272418766
         },
         {
          "edge": 3,
          "pair": [
           0,
           5
          ],
          "source": 0,
          "target": 5,
          "x": 454.14596324702404,
          "y": 53.916934194508265
         },
         {
          "edge": 3,
          "pair": [
           0,
           5
          ],
          "source": 0,
          "target": 5,
          "x": 185.3618486007846,
          "y": 268.60213221945713
         },
         {
          "edge": 4,
          "pair": [
           1,
           3
          ],
          "source": 1,
          "target": 3,
          "x": 710.2167813848664,
          "y": 212.86803015019365
         },
         {
          "edge": 4,
          "pair": [
           1,
           3
          ],
          "source": 1,
          "target": 3,
          "x": 459.2595157945575,
          "y": 246.78119272418766
         },
         {
          "edge": 5,
          "pair": [
           1,
           4
          ],
          "source": 1,
          "target": 4,
          "x": 710.2167813848664,
          "y": 212.86803015019365
         },
         {
          "edge": 5,
          "pair": [
           1,
           4
          ],
          "source": 1,
          "target": 4,
          "x": 726.1851711722384,
          "y": 400.28166045368687
         },
         {
          "edge": 6,
          "pair": [
           1,
           6
          ],
          "source": 1,
          "target": 6,
          "x": 710.2167813848664,
          "y": 212.86803015019365
         },
         {
          "edge": 6,
          "pair": [
           1,
           6
          ],
          "source": 1,
          "target": 6,
          "x": 516.9392919497368,
          "y": 477.84822042008886
         },
         {
          "edge": 7,
          "pair": [
           2,
           3
          ],
          "source": 2,
          "target": 3,
          "x": 209.22266009583998,
          "y": 92.04715856086027
         },
         {
          "edge": 7,
          "pair": [
           2,
           3
          ],
          "source": 2,
          "target": 3,
          "x": 459.2595157945575,
          "y": 246.78119272418766
         },
         {
          "edge": 8,
          "pair": [
           2,
           5
          ],
          "source": 2,
          "target": 5,
          "x": 209.22266009583998,
          "y": 92.04715856086027
         },
         {
          "edge": 8,
          "pair": [
           2,
           5
          ],
          "source": 2,
          "target": 5,
          "x": 185.3618486007846,
          "y": 268.60213221945713
         },
         {
          "edge": 9,
          "pair": [
           3,
           4
          ],
          "source": 3,
          "target": 4,
          "x": 459.2595157945575,
          "y": 246.78119272418766
         },
         {
          "edge": 9,
          "pair": [
           3,
           4
          ],
          "source": 3,
          "target": 4,
          "x": 726.1851711722384,
          "y": 400.28166045368687
         },
         {
          "edge": 10,
          "pair": [
           3,
           5
          ],
          "source": 3,
          "target": 5,
          "x": 459.2595157945575,
          "y": 246.78119272418766
         },
         {
          "edge": 10,
          "pair": [
           3,
           5
          ],
          "source": 3,
          "target": 5,
          "x": 185.3618486007846,
          "y": 268.60213221945713
         },
         {
          "edge": 11,
          "pair": [
           3,
           6
          ],
          "source": 3,
          "target": 6,
          "x": 459.2595157945575,
          "y": 246.78119272418766
         },
         {
          "edge": 11,
          "pair": [
           3,
           6
          ],
          "source": 3,
          "target": 6,
          "x": 516.9392919497368,
          "y": 477.84822042008886
         },
         {
          "edge": 12,
          "pair": [
           4,
           6
          ],
          "source": 4,
          "target": 6,
          "x": 726.1851711722384,
          "y": 400.28166045368687
         },
         {
          "edge": 12,
          "pair": [
           4,
           6
          ],
          "source": 4,
          "target": 6,
          "x": 516.9392919497368,
          "y": 477.84822042008886
         },
         {
          "edge": 13,
          "pair": [
           5,
           6
          ],
          "source": 5,
          "target": 6,
          "x": 185.3618486007846,
          "y": 268.60213221945713
         },
         {
          "edge": 13,
          "pair": [
           5,
           6
          ],
          "source": 5,
          "target": 6,
          "x": 516.9392919497368,
          "y": 477.84822042008886
         },
         {
          "edge": 14,
          "pair": [
           5,
           7
          ],
          "source": 5,
          "target": 7,
          "x": 185.3618486007846,
          "y": 268.60213221945713
         },
         {
          "edge": 14,
          "pair": [
           5,
           7
          ],
          "source": 5,
          "target": 7,
          "x": 277.7869063963561,
          "y": 525.8769526473121
         },
         {
          "edge": 15,
          "pair": [
           6,
           7
          ],
          "source": 6,
          "target": 7,
          "x": 516.9392919497368,
          "y": 477.84822042008886
         },
         {
          "edge": 15,
          "pair": [
           6,
           7
          ],
          "source": 6,
          "target": 7,
          "x": 277.7869063963561,
          "y": 525.8769526473121
         },
         {
          "edge": 16,
          "pair": [
           7,
           8
          ],
          "source": 7,
          "target": 8,
          "x": 277.7869063963561,
          "y": 525.8769526473121
         },
         {
          "edge": 16,
          "pair": [
           7,
           8
          ],
          "source": 7,
          "target": 8,
          "x": 98.92795743925919,
          "y": 474.7238268579706
         },
         {
          "edge": 17,
          "pair": [
           8,
           9
          ],
          "source": 8,
          "target": 9,
          "x": 98.92795743925919,
          "y": 474.7238268579706
         },
         {
          "edge": 17,
          "pair": [
           8,
           9
          ],
          "source": 8,
          "target": 9,
          "x": 0,
          "y": 381.4550730742756
         }
        ]
       },
       "height": 300,
       "layer": [
        {
         "data": {
          "name": "data-bc138e3324641e0980684c00d0853bb8"
         },
         "encoding": {
          "color": {
           "value": "#606060"
          },
          "detail": {
           "field": "edge",
           "type": "quantitative"
          },
          "opacity": {
           "value": 1
          },
          "strokeWidth": {
           "value": 2
          },
          "x": {
           "axis": {
            "domain": false,
            "grid": false,
            "labels": false,
            "ticks": false,
            "title": ""
           },
           "field": "x",
           "type": "quantitative"
          },
          "y": {
           "axis": {
            "domain": false,
            "grid": false,
            "labels": false,
            "ticks": false,
            "title": ""
           },
           "field": "y",
           "type": "quantitative"
          }
         },
         "mark": "line"
        },
        {
         "data": {
          "name": "data-889baf8423e76d55b6ee097af8668374"
         },
         "encoding": {
          "fill": {
           "value": "#000"
          },
          "opacity": {
           "value": 1
          },
          "size": {
           "value": 100
          },
          "stroke": {
           "value": "#565656"
          },
          "strokeWidth": {
           "value": 0
          },
          "tooltip": [],
          "x": {
           "axis": {
            "domain": false,
            "grid": false,
            "labels": false,
            "ticks": false,
            "title": ""
           },
           "field": "x",
           "type": "quantitative"
          },
          "y": {
           "axis": {
            "domain": false,
            "grid": false,
            "labels": false,
            "ticks": false,
            "title": ""
           },
           "field": "y",
           "type": "quantitative"
          }
         },
         "mark": "circle"
        }
       ],
       "resolve": {
        "scale": {
         "color": "independent",
         "fill": "independent",
         "opacity": "independent",
         "size": "independent",
         "strokeWidth": "independent"
        }
       },
       "width": 400
      },
      "image/png": "[encoded data removed]",
      "text/plain": [
       "<VegaLite 4 object>\n",
       "\n",
       "If you see this message, it means the renderer has not been properly enabled\n",
       "for the frontend that you are using. For more information, see\n",
       "https://altair-viz.github.io/user_guide/troubleshooting.html\n"
      ]
     },
     "execution_count": 11,
     "metadata": {},
     "output_type": "execute_result"
    }
   ],
   "source": [
    "G = nx.krackhardt_kite_graph()\n",
    "\n",
    "chart =  alph(G)\n",
    "\n",
    "chart.configure_view(strokeWidth=0).properties(width=400, height=300)"
   ]
  },
  {
   "cell_type": "code",
   "execution_count": null,
   "metadata": {},
   "outputs": [],
   "source": []
  }
 ],
 "metadata": {
  "kernelspec": {
   "display_name": "Python 3 (ipykernel)",
   "language": "python",
   "name": "python3"
  },
  "language_info": {
   "codemirror_mode": {
    "name": "ipython",
    "version": 3
   },
   "file_extension": ".py",
   "mimetype": "text/x-python",
   "name": "python",
   "nbconvert_exporter": "python",
   "pygments_lexer": "ipython3",
   "version": "3.10.7"
  },
  "metadata": {
   "interpreter": {
    "hash": "f9eeaac1386f103cfc819cf6645f9259fc0b8eda53ad5c9114a115ed18ca0cb8"
   }
  },
  "vscode": {
   "interpreter": {
    "hash": "121ccb6ef33f050b5231fe1f8644b93952e7f3a79e0892dcb9cd03f1749809c5"
   }
  }
 },
 "nbformat": 4,
 "nbformat_minor": 4
}
