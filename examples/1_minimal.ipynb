{
 "cells": [
  {
   "cell_type": "code",
   "execution_count": 1,
   "metadata": {},
   "outputs": [],
   "source": [
    "import altair as alt\n",
    "import networkx as nx\n",
    "import sys\n",
    "\"..\" not in sys.path and sys.path.append(\"..\")\n",
    "\n",
    "from alph import alph"
   ]
  },
  {
   "cell_type": "markdown",
   "metadata": {},
   "source": [
    "Unstyled one liner"
   ]
  },
  {
   "cell_type": "code",
   "execution_count": 2,
   "metadata": {},
   "outputs": [
    {
     "data": {
      "text/html": [
       "\n",
       "<div id=\"altair-viz-f04e2c39caa74964b428b261ee924ac5\"></div>\n",
       "<script type=\"text/javascript\">\n",
       "  var VEGA_DEBUG = (typeof VEGA_DEBUG == \"undefined\") ? {} : VEGA_DEBUG;\n",
       "  (function(spec, embedOpt){\n",
       "    let outputDiv = document.currentScript.previousElementSibling;\n",
       "    if (outputDiv.id !== \"altair-viz-f04e2c39caa74964b428b261ee924ac5\") {\n",
       "      outputDiv = document.getElementById(\"altair-viz-f04e2c39caa74964b428b261ee924ac5\");\n",
       "    }\n",
       "    const paths = {\n",
       "      \"vega\": \"https://cdn.jsdelivr.net/npm//vega@5?noext\",\n",
       "      \"vega-lib\": \"https://cdn.jsdelivr.net/npm//vega-lib?noext\",\n",
       "      \"vega-lite\": \"https://cdn.jsdelivr.net/npm//vega-lite@4.17.0?noext\",\n",
       "      \"vega-embed\": \"https://cdn.jsdelivr.net/npm//vega-embed@6?noext\",\n",
       "    };\n",
       "\n",
       "    function maybeLoadScript(lib, version) {\n",
       "      var key = `${lib.replace(\"-\", \"\")}_version`;\n",
       "      return (VEGA_DEBUG[key] == version) ?\n",
       "        Promise.resolve(paths[lib]) :\n",
       "        new Promise(function(resolve, reject) {\n",
       "          var s = document.createElement('script');\n",
       "          document.getElementsByTagName(\"head\")[0].appendChild(s);\n",
       "          s.async = true;\n",
       "          s.onload = () => {\n",
       "            VEGA_DEBUG[key] = version;\n",
       "            return resolve(paths[lib]);\n",
       "          };\n",
       "          s.onerror = () => reject(`Error loading script: ${paths[lib]}`);\n",
       "          s.src = paths[lib];\n",
       "        });\n",
       "    }\n",
       "\n",
       "    function showError(err) {\n",
       "      outputDiv.innerHTML = `<div class=\"error\" style=\"color:red;\">${err}</div>`;\n",
       "      throw err;\n",
       "    }\n",
       "\n",
       "    function displayChart(vegaEmbed) {\n",
       "      vegaEmbed(outputDiv, spec, embedOpt)\n",
       "        .catch(err => showError(`Javascript Error: ${err.message}<br>This usually means there's a typo in your chart specification. See the javascript console for the full traceback.`));\n",
       "    }\n",
       "\n",
       "    if(typeof define === \"function\" && define.amd) {\n",
       "      requirejs.config({paths});\n",
       "      require([\"vega-embed\"], displayChart, err => showError(`Error loading script: ${err.message}`));\n",
       "    } else {\n",
       "      maybeLoadScript(\"vega\", \"5\")\n",
       "        .then(() => maybeLoadScript(\"vega-lite\", \"4.17.0\"))\n",
       "        .then(() => maybeLoadScript(\"vega-embed\", \"6\"))\n",
       "        .catch(showError)\n",
       "        .then(() => displayChart(vegaEmbed));\n",
       "    }\n",
       "  })({\"config\": {\"view\": {\"continuousWidth\": 400, \"continuousHeight\": 300, \"strokeWidth\": 0}}, \"layer\": [{\"data\": {\"name\": \"data-3e7ac3c62211bd2f1cc1655f51d5fa39\"}, \"mark\": \"line\", \"encoding\": {\"color\": {\"value\": \"#606060\"}, \"detail\": {\"field\": \"edge\", \"type\": \"quantitative\"}, \"opacity\": {\"value\": 1.0}, \"strokeWidth\": {\"value\": 2.0}, \"x\": {\"axis\": {\"domain\": false, \"grid\": false, \"labels\": false, \"ticks\": false, \"title\": \"\"}, \"field\": \"x\", \"type\": \"quantitative\"}, \"y\": {\"axis\": {\"domain\": false, \"grid\": false, \"labels\": false, \"ticks\": false, \"title\": \"\"}, \"field\": \"y\", \"type\": \"quantitative\"}}}, {\"data\": {\"name\": \"data-f6aab11c9f73ceb0676504f366f4117d\"}, \"mark\": \"circle\", \"encoding\": {\"fill\": {\"value\": \"#000\"}, \"opacity\": {\"value\": 1}, \"size\": {\"value\": 100}, \"stroke\": {\"value\": \"#565656\"}, \"strokeWidth\": {\"value\": 0}, \"tooltip\": [], \"x\": {\"axis\": {\"domain\": false, \"grid\": false, \"labels\": false, \"ticks\": false, \"title\": \"\"}, \"field\": \"x\", \"type\": \"quantitative\"}, \"y\": {\"axis\": {\"domain\": false, \"grid\": false, \"labels\": false, \"ticks\": false, \"title\": \"\"}, \"field\": \"y\", \"type\": \"quantitative\"}}}], \"height\": 300, \"resolve\": {\"scale\": {\"color\": \"independent\", \"fill\": \"independent\", \"opacity\": \"independent\", \"size\": \"independent\", \"strokeWidth\": \"independent\"}}, \"width\": 400, \"$schema\": \"https://vega.github.io/schema/vega-lite/v4.17.0.json\", \"datasets\": {\"data-3e7ac3c62211bd2f1cc1655f51d5fa39\": [{\"y\": 383.17249141248453, \"edge\": 0, \"pair\": [0, 1], \"x\": 433.7993305373179, \"source\": 0, \"target\": 1}, {\"y\": 170.57586698070213, \"edge\": 0, \"pair\": [0, 1], \"x\": 154.91646862627033, \"source\": 0, \"target\": 1}, {\"y\": 383.17249141248453, \"edge\": 1, \"pair\": [0, 2], \"x\": 433.7993305373179, \"source\": 0, \"target\": 2}, {\"y\": 551.0713341365562, \"edge\": 1, \"pair\": [0, 2], \"x\": 497.90035306432173, \"source\": 0, \"target\": 2}, {\"y\": 383.17249141248453, \"edge\": 2, \"pair\": [0, 3], \"x\": 433.7993305373179, \"source\": 0, \"target\": 3}, {\"y\": 465.74164901232814, \"edge\": 2, \"pair\": [0, 3], \"x\": 222.19886463894346, \"source\": 0, \"target\": 3}, {\"y\": 383.17249141248453, \"edge\": 3, \"pair\": [0, 5], \"x\": 433.7993305373179, \"source\": 0, \"target\": 5}, {\"y\": 387.43279342757023, \"edge\": 3, \"pair\": [0, 5], \"x\": 673.2083277345889, \"source\": 0, \"target\": 5}, {\"y\": 170.57586698070213, \"edge\": 4, \"pair\": [1, 3], \"x\": 154.91646862627033, \"source\": 1, \"target\": 3}, {\"y\": 465.74164901232814, \"edge\": 4, \"pair\": [1, 3], \"x\": 222.19886463894346, \"source\": 1, \"target\": 3}, {\"y\": 170.57586698070213, \"edge\": 5, \"pair\": [1, 4], \"x\": 154.91646862627033, \"source\": 1, \"target\": 4}, {\"y\": 303.2897086983638, \"edge\": 5, \"pair\": [1, 4], \"x\": 64.40402785305065, \"source\": 1, \"target\": 4}, {\"y\": 170.57586698070213, \"edge\": 6, \"pair\": [1, 6], \"x\": 154.91646862627033, \"source\": 1, \"target\": 6}, {\"y\": 192.14521605035267, \"edge\": 6, \"pair\": [1, 6], \"x\": 381.24271515138844, \"source\": 1, \"target\": 6}, {\"y\": 551.0713341365562, \"edge\": 7, \"pair\": [2, 3], \"x\": 497.90035306432173, \"source\": 2, \"target\": 3}, {\"y\": 465.74164901232814, \"edge\": 7, \"pair\": [2, 3], \"x\": 222.19886463894346, \"source\": 2, \"target\": 3}, {\"y\": 551.0713341365562, \"edge\": 8, \"pair\": [2, 5], \"x\": 497.90035306432173, \"source\": 2, \"target\": 5}, {\"y\": 387.43279342757023, \"edge\": 8, \"pair\": [2, 5], \"x\": 673.2083277345889, \"source\": 2, \"target\": 5}, {\"y\": 465.74164901232814, \"edge\": 9, \"pair\": [3, 4], \"x\": 222.19886463894346, \"source\": 3, \"target\": 4}, {\"y\": 303.2897086983638, \"edge\": 9, \"pair\": [3, 4], \"x\": 64.40402785305065, \"source\": 3, \"target\": 4}, {\"y\": 465.74164901232814, \"edge\": 10, \"pair\": [3, 5], \"x\": 222.19886463894346, \"source\": 3, \"target\": 5}, {\"y\": 387.43279342757023, \"edge\": 10, \"pair\": [3, 5], \"x\": 673.2083277345889, \"source\": 3, \"target\": 5}, {\"y\": 465.74164901232814, \"edge\": 11, \"pair\": [3, 6], \"x\": 222.19886463894346, \"source\": 3, \"target\": 6}, {\"y\": 192.14521605035267, \"edge\": 11, \"pair\": [3, 6], \"x\": 381.24271515138844, \"source\": 3, \"target\": 6}, {\"y\": 303.2897086983638, \"edge\": 12, \"pair\": [4, 6], \"x\": 64.40402785305065, \"source\": 4, \"target\": 6}, {\"y\": 192.14521605035267, \"edge\": 12, \"pair\": [4, 6], \"x\": 381.24271515138844, \"source\": 4, \"target\": 6}, {\"y\": 387.43279342757023, \"edge\": 13, \"pair\": [5, 6], \"x\": 673.2083277345889, \"source\": 5, \"target\": 6}, {\"y\": 192.14521605035267, \"edge\": 13, \"pair\": [5, 6], \"x\": 381.24271515138844, \"source\": 5, \"target\": 6}, {\"y\": 387.43279342757023, \"edge\": 14, \"pair\": [5, 7], \"x\": 673.2083277345889, \"source\": 5, \"target\": 7}, {\"y\": 182.29882037267708, \"edge\": 14, \"pair\": [5, 7], \"x\": 689.5623189055855, \"source\": 5, \"target\": 7}, {\"y\": 192.14521605035267, \"edge\": 15, \"pair\": [6, 7], \"x\": 381.24271515138844, \"source\": 6, \"target\": 7}, {\"y\": 182.29882037267708, \"edge\": 15, \"pair\": [6, 7], \"x\": 689.5623189055855, \"source\": 6, \"target\": 7}, {\"y\": 182.29882037267708, \"edge\": 16, \"pair\": [7, 8], \"x\": 689.5623189055855, \"source\": 7, \"target\": 8}, {\"y\": 48.98638508328105, \"edge\": 16, \"pair\": [7, 8], \"x\": 574.3968319456721, \"source\": 7, \"target\": 8}, {\"y\": 48.98638508328105, \"edge\": 17, \"pair\": [8, 9], \"x\": 574.3968319456721, \"source\": 8, \"target\": 9}, {\"y\": 0.0, \"edge\": 17, \"pair\": [8, 9], \"x\": 421.8326996323701, \"source\": 8, \"target\": 9}], \"data-f6aab11c9f73ceb0676504f366f4117d\": [{\"y\": 383.17249141248453, \"x\": 433.7993305373179, \"__node_size\": 100, \"__node_r\": 5.0}, {\"y\": 170.57586698070213, \"x\": 154.91646862627033, \"__node_size\": 100, \"__node_r\": 5.0}, {\"y\": 551.0713341365562, \"x\": 497.90035306432173, \"__node_size\": 100, \"__node_r\": 5.0}, {\"y\": 465.74164901232814, \"x\": 222.19886463894346, \"__node_size\": 100, \"__node_r\": 5.0}, {\"y\": 303.2897086983638, \"x\": 64.40402785305065, \"__node_size\": 100, \"__node_r\": 5.0}, {\"y\": 387.43279342757023, \"x\": 673.2083277345889, \"__node_size\": 100, \"__node_r\": 5.0}, {\"y\": 192.14521605035267, \"x\": 381.24271515138844, \"__node_size\": 100, \"__node_r\": 5.0}, {\"y\": 182.29882037267708, \"x\": 689.5623189055855, \"__node_size\": 100, \"__node_r\": 5.0}, {\"y\": 48.98638508328105, \"x\": 574.3968319456721, \"__node_size\": 100, \"__node_r\": 5.0}, {\"y\": 0.0, \"x\": 421.8326996323701, \"__node_size\": 100, \"__node_r\": 5.0}]}}, {\"mode\": \"vega-lite\"});\n",
       "</script>"
      ],
      "text/plain": [
       "alt.LayerChart(...)"
      ]
     },
     "execution_count": 2,
     "metadata": {},
     "output_type": "execute_result"
    }
   ],
   "source": [
    "G = nx.krackhardt_kite_graph()\n",
    "\n",
    "chart =  alph(G)\n",
    "\n",
    "chart.configure_view(strokeWidth=0).properties(width=400, height=300)"
   ]
  },
  {
   "cell_type": "code",
   "execution_count": null,
   "metadata": {},
   "outputs": [],
   "source": []
  }
 ],
 "metadata": {
  "kernelspec": {
   "display_name": "Python 3.8.2 ('venv': venv)",
   "language": "python",
   "name": "python3"
  },
  "language_info": {
   "codemirror_mode": {
    "name": "ipython",
    "version": 3
   },
   "file_extension": ".py",
   "mimetype": "text/x-python",
   "name": "python",
   "nbconvert_exporter": "python",
   "pygments_lexer": "ipython3",
   "version": "3.10.7"
  },
  "metadata": {
   "interpreter": {
    "hash": "f9eeaac1386f103cfc819cf6645f9259fc0b8eda53ad5c9114a115ed18ca0cb8"
   }
  },
  "orig_nbformat": 2,
  "vscode": {
   "interpreter": {
    "hash": "121ccb6ef33f050b5231fe1f8644b93952e7f3a79e0892dcb9cd03f1749809c5"
   }
  }
 },
 "nbformat": 4,
 "nbformat_minor": 2
}
