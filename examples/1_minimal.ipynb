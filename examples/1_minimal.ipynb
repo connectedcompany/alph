{
 "cells": [
  {
   "cell_type": "code",
   "execution_count": 6,
   "metadata": {},
   "outputs": [],
   "source": [
    "import altair as alt\n",
    "import networkx as nx\n",
    "import sys\n",
    "\"..\" not in sys.path and sys.path.append(\"..\")\n",
    "\n",
    "from alph import alph\n",
    "\n",
    "try:\n",
    "    alt.renderers.enable('jupyterlab')\n",
    "except ValueError:\n",
    "    pass"
   ]
  },
  {
   "cell_type": "markdown",
   "metadata": {},
   "source": [
    "Unstyled one liner"
   ]
  },
  {
   "cell_type": "code",
   "execution_count": 7,
   "metadata": {},
   "outputs": [
    {
     "data": {
      "application/vnd.vegalite.v4+json": {
       "$schema": "https://vega.github.io/schema/vega-lite/v4.17.0.json",
       "config": {
        "view": {
         "continuousHeight": 300,
         "continuousWidth": 400,
         "strokeWidth": 0
        }
       },
       "datasets": {
        "data-b0fa46cd8f257461eff4d218e4a0687c": [
         {
          "edge": 0,
          "pair": [
           0,
           1
          ],
          "source": 0,
          "target": 1,
          "x": 87.35507873404381,
          "y": 417.203905746011
         },
         {
          "edge": 0,
          "pair": [
           0,
           1
          ],
          "source": 0,
          "target": 1,
          "x": 105.08488970979457,
          "y": 166.92021709059486
         },
         {
          "edge": 1,
          "pair": [
           0,
           2
          ],
          "source": 0,
          "target": 2,
          "x": 87.35507873404381,
          "y": 417.203905746011
         },
         {
          "edge": 1,
          "pair": [
           0,
           2
          ],
          "source": 0,
          "target": 2,
          "x": 532.8133379629909,
          "y": 512.1967397871662
         },
         {
          "edge": 2,
          "pair": [
           0,
           3
          ],
          "source": 0,
          "target": 3,
          "x": 87.35507873404381,
          "y": 417.203905746011
         },
         {
          "edge": 2,
          "pair": [
           0,
           3
          ],
          "source": 0,
          "target": 3,
          "x": 332.9691246854357,
          "y": 306.44035529218445
         },
         {
          "edge": 3,
          "pair": [
           0,
           5
          ],
          "source": 0,
          "target": 5,
          "x": 87.35507873404381,
          "y": 417.203905746011
         },
         {
          "edge": 3,
          "pair": [
           0,
           5
          ],
          "source": 0,
          "target": 5,
          "x": 331.98380205432915,
          "y": 537.520945694934
         },
         {
          "edge": 4,
          "pair": [
           1,
           3
          ],
          "source": 1,
          "target": 3,
          "x": 105.08488970979457,
          "y": 166.92021709059486
         },
         {
          "edge": 4,
          "pair": [
           1,
           3
          ],
          "source": 1,
          "target": 3,
          "x": 332.9691246854357,
          "y": 306.44035529218445
         },
         {
          "edge": 5,
          "pair": [
           1,
           4
          ],
          "source": 1,
          "target": 4,
          "x": 105.08488970979457,
          "y": 166.92021709059486
         },
         {
          "edge": 5,
          "pair": [
           1,
           4
          ],
          "source": 1,
          "target": 4,
          "x": 299.62550551870555,
          "y": 28.15578731699806
         },
         {
          "edge": 6,
          "pair": [
           1,
           6
          ],
          "source": 1,
          "target": 6,
          "x": 105.08488970979457,
          "y": 166.92021709059486
         },
         {
          "edge": 6,
          "pair": [
           1,
           6
          ],
          "source": 1,
          "target": 6,
          "x": 505.41823038392073,
          "y": 135.83144927644588
         },
         {
          "edge": 7,
          "pair": [
           2,
           3
          ],
          "source": 2,
          "target": 3,
          "x": 532.8133379629909,
          "y": 512.1967397871662
         },
         {
          "edge": 7,
          "pair": [
           2,
           3
          ],
          "source": 2,
          "target": 3,
          "x": 332.9691246854357,
          "y": 306.44035529218445
         },
         {
          "edge": 8,
          "pair": [
           2,
           5
          ],
          "source": 2,
          "target": 5,
          "x": 532.8133379629909,
          "y": 512.1967397871662
         },
         {
          "edge": 8,
          "pair": [
           2,
           5
          ],
          "source": 2,
          "target": 5,
          "x": 331.98380205432915,
          "y": 537.520945694934
         },
         {
          "edge": 9,
          "pair": [
           3,
           4
          ],
          "source": 3,
          "target": 4,
          "x": 332.9691246854357,
          "y": 306.44035529218445
         },
         {
          "edge": 9,
          "pair": [
           3,
           4
          ],
          "source": 3,
          "target": 4,
          "x": 299.62550551870555,
          "y": 28.15578731699806
         },
         {
          "edge": 10,
          "pair": [
           3,
           5
          ],
          "source": 3,
          "target": 5,
          "x": 332.9691246854357,
          "y": 306.44035529218445
         },
         {
          "edge": 10,
          "pair": [
           3,
           5
          ],
          "source": 3,
          "target": 5,
          "x": 331.98380205432915,
          "y": 537.520945694934
         },
         {
          "edge": 11,
          "pair": [
           3,
           6
          ],
          "source": 3,
          "target": 6,
          "x": 332.9691246854357,
          "y": 306.44035529218445
         },
         {
          "edge": 11,
          "pair": [
           3,
           6
          ],
          "source": 3,
          "target": 6,
          "x": 505.41823038392073,
          "y": 135.83144927644588
         },
         {
          "edge": 12,
          "pair": [
           4,
           6
          ],
          "source": 4,
          "target": 6,
          "x": 299.62550551870555,
          "y": 28.15578731699806
         },
         {
          "edge": 12,
          "pair": [
           4,
           6
          ],
          "source": 4,
          "target": 6,
          "x": 505.41823038392073,
          "y": 135.83144927644588
         },
         {
          "edge": 13,
          "pair": [
           5,
           6
          ],
          "source": 5,
          "target": 6,
          "x": 331.98380205432915,
          "y": 537.520945694934
         },
         {
          "edge": 13,
          "pair": [
           5,
           6
          ],
          "source": 5,
          "target": 6,
          "x": 505.41823038392073,
          "y": 135.83144927644588
         },
         {
          "edge": 14,
          "pair": [
           5,
           7
          ],
          "source": 5,
          "target": 7,
          "x": 331.98380205432915,
          "y": 537.520945694934
         },
         {
          "edge": 14,
          "pair": [
           5,
           7
          ],
          "source": 5,
          "target": 7,
          "x": 702.8766670119335,
          "y": 382.37493944209484
         },
         {
          "edge": 15,
          "pair": [
           6,
           7
          ],
          "source": 6,
          "target": 7,
          "x": 505.41823038392073,
          "y": 135.83144927644588
         },
         {
          "edge": 15,
          "pair": [
           6,
           7
          ],
          "source": 6,
          "target": 7,
          "x": 702.8766670119335,
          "y": 382.37493944209484
         },
         {
          "edge": 16,
          "pair": [
           7,
           8
          ],
          "source": 7,
          "target": 8,
          "x": 702.8766670119335,
          "y": 382.37493944209484
         },
         {
          "edge": 16,
          "pair": [
           7,
           8
          ],
          "source": 7,
          "target": 8,
          "x": 800,
          "y": 249.5586912196498
         },
         {
          "edge": 17,
          "pair": [
           8,
           9
          ],
          "source": 8,
          "target": 9,
          "x": 800,
          "y": 249.5586912196498
         },
         {
          "edge": 17,
          "pair": [
           8,
           9
          ],
          "source": 8,
          "target": 9,
          "x": 770.6710241893688,
          "y": 127.29829454970694
         }
        ],
        "data-ebb3109aea19c637a269a5e0f89e838a": [
         {
          "__node_r": 5,
          "__node_size": 100,
          "x": 87.35507873404381,
          "y": 417.203905746011
         },
         {
          "__node_r": 5,
          "__node_size": 100,
          "x": 105.08488970979457,
          "y": 166.92021709059486
         },
         {
          "__node_r": 5,
          "__node_size": 100,
          "x": 532.8133379629909,
          "y": 512.1967397871662
         },
         {
          "__node_r": 5,
          "__node_size": 100,
          "x": 332.9691246854357,
          "y": 306.44035529218445
         },
         {
          "__node_r": 5,
          "__node_size": 100,
          "x": 299.62550551870555,
          "y": 28.15578731699806
         },
         {
          "__node_r": 5,
          "__node_size": 100,
          "x": 331.98380205432915,
          "y": 537.520945694934
         },
         {
          "__node_r": 5,
          "__node_size": 100,
          "x": 505.41823038392073,
          "y": 135.83144927644588
         },
         {
          "__node_r": 5,
          "__node_size": 100,
          "x": 702.8766670119335,
          "y": 382.37493944209484
         },
         {
          "__node_r": 5,
          "__node_size": 100,
          "x": 800,
          "y": 249.5586912196498
         },
         {
          "__node_r": 5,
          "__node_size": 100,
          "x": 770.6710241893688,
          "y": 127.29829454970694
         }
        ]
       },
       "height": 300,
       "layer": [
        {
         "data": {
          "name": "data-b0fa46cd8f257461eff4d218e4a0687c"
         },
         "encoding": {
          "color": {
           "value": "#606060"
          },
          "detail": {
           "field": "edge",
           "type": "quantitative"
          },
          "opacity": {
           "value": 1
          },
          "strokeWidth": {
           "value": 2
          },
          "x": {
           "axis": {
            "domain": false,
            "grid": false,
            "labels": false,
            "ticks": false,
            "title": ""
           },
           "field": "x",
           "type": "quantitative"
          },
          "y": {
           "axis": {
            "domain": false,
            "grid": false,
            "labels": false,
            "ticks": false,
            "title": ""
           },
           "field": "y",
           "type": "quantitative"
          }
         },
         "mark": "line"
        },
        {
         "data": {
          "name": "data-ebb3109aea19c637a269a5e0f89e838a"
         },
         "encoding": {
          "fill": {
           "value": "#000"
          },
          "opacity": {
           "value": 1
          },
          "size": {
           "value": 100
          },
          "stroke": {
           "value": "#565656"
          },
          "strokeWidth": {
           "value": 0
          },
          "tooltip": [],
          "x": {
           "axis": {
            "domain": false,
            "grid": false,
            "labels": false,
            "ticks": false,
            "title": ""
           },
           "field": "x",
           "type": "quantitative"
          },
          "y": {
           "axis": {
            "domain": false,
            "grid": false,
            "labels": false,
            "ticks": false,
            "title": ""
           },
           "field": "y",
           "type": "quantitative"
          }
         },
         "mark": "circle"
        }
       ],
       "resolve": {
        "scale": {
         "color": "independent",
         "fill": "independent",
         "opacity": "independent",
         "size": "independent",
         "strokeWidth": "independent"
        }
       },
       "width": 400
      },
      "image/png": "[encoded data removed]",
      "text/plain": [
       "<VegaLite 4 object>\n",
       "\n",
       "If you see this message, it means the renderer has not been properly enabled\n",
       "for the frontend that you are using. For more information, see\n",
       "https://altair-viz.github.io/user_guide/troubleshooting.html\n"
      ]
     },
     "execution_count": 7,
     "metadata": {},
     "output_type": "execute_result"
    }
   ],
   "source": [
    "G = nx.krackhardt_kite_graph()\n",
    "\n",
    "chart =  alph(G)\n",
    "\n",
    "chart.configure_view(strokeWidth=0).properties(width=400, height=300)"
   ]
  },
  {
   "cell_type": "code",
   "execution_count": null,
   "metadata": {},
   "outputs": [],
   "source": []
  }
 ],
 "metadata": {
  "kernelspec": {
   "display_name": "Python 3 (ipykernel)",
   "language": "python",
   "name": "python3"
  },
  "language_info": {
   "codemirror_mode": {
    "name": "ipython",
    "version": 3
   },
   "file_extension": ".py",
   "mimetype": "text/x-python",
   "name": "python",
   "nbconvert_exporter": "python",
   "pygments_lexer": "ipython3",
   "version": "3.10.7"
  },
  "metadata": {
   "interpreter": {
    "hash": "f9eeaac1386f103cfc819cf6645f9259fc0b8eda53ad5c9114a115ed18ca0cb8"
   }
  },
  "vscode": {
   "interpreter": {
    "hash": "121ccb6ef33f050b5231fe1f8644b93952e7f3a79e0892dcb9cd03f1749809c5"
   }
  }
 },
 "nbformat": 4,
 "nbformat_minor": 4
}
