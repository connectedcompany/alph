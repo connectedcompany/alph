{
 "cells": [
  {
   "cell_type": "markdown",
   "metadata": {},
   "source": [
    "## Minimal, unstyled one-liner\n",
    "\n",
    "This example shows\n",
    "\n",
    "- how to import alph\n",
    "- how to render a minimal graph with a call to the alph function\n",
    "\n",
    "Fittingly, it uses a simple 10-node graph - the classic [Krackhardt kite graph](https://en.wikipedia.org/wiki/Krackhardt_kite_graph), available directly from NetworkX.\n",
    "\n",
    "Note that node positions will vary from one invocation to another, as the default layout uses the system random number generator without seeding it."
   ]
  },
  {
   "cell_type": "code",
   "execution_count": 1,
   "metadata": {},
   "outputs": [],
   "source": [
    "import sys\n",
    "import networkx as nx\n",
    "\n",
    "\"..\" not in sys.path and sys.path.append(\"..\")\n",
    "from alph import alph, util\n",
    "\n",
    "util.set_altair_renderer()"
   ]
  },
  {
   "cell_type": "code",
   "execution_count": 2,
   "metadata": {},
   "outputs": [
    {
     "data": {
      "application/vnd.vegalite.v4+json": {
       "$schema": "https://vega.github.io/schema/vega-lite/v4.17.0.json",
       "config": {
        "view": {
         "continuousHeight": 300,
         "continuousWidth": 400,
         "strokeWidth": 0
        }
       },
       "datasets": {
        "data-3b7157368d1343f4a5a43a2078edf952": [
         {
          "edge": 0,
          "pair": [
           0,
           1
          ],
          "source": 0,
          "target": 1,
          "x": 482.0861726542049,
          "y": 46.851003736831316
         },
         {
          "edge": 0,
          "pair": [
           0,
           1
          ],
          "source": 0,
          "target": 1,
          "x": 475.78263086661275,
          "y": 411.66611753150465
         },
         {
          "edge": 1,
          "pair": [
           0,
           2
          ],
          "source": 0,
          "target": 2,
          "x": 482.0861726542049,
          "y": 46.851003736831316
         },
         {
          "edge": 1,
          "pair": [
           0,
           2
          ],
          "source": 0,
          "target": 2,
          "x": 697.305442282433,
          "y": 116.0328504457114
         },
         {
          "edge": 2,
          "pair": [
           0,
           3
          ],
          "source": 0,
          "target": 3,
          "x": 482.0861726542049,
          "y": 46.851003736831316
         },
         {
          "edge": 2,
          "pair": [
           0,
           3
          ],
          "source": 0,
          "target": 3,
          "x": 730.3502393036858,
          "y": 332.3872281675466
         },
         {
          "edge": 3,
          "pair": [
           0,
           5
          ],
          "source": 0,
          "target": 5,
          "x": 482.0861726542049,
          "y": 46.851003736831316
         },
         {
          "edge": 3,
          "pair": [
           0,
           5
          ],
          "source": 0,
          "target": 5,
          "x": 312.65358876967326,
          "y": 205.88659772120016
         },
         {
          "edge": 4,
          "pair": [
           1,
           3
          ],
          "source": 1,
          "target": 3,
          "x": 475.78263086661275,
          "y": 411.66611753150465
         },
         {
          "edge": 4,
          "pair": [
           1,
           3
          ],
          "source": 1,
          "target": 3,
          "x": 730.3502393036858,
          "y": 332.3872281675466
         },
         {
          "edge": 5,
          "pair": [
           1,
           4
          ],
          "source": 1,
          "target": 4,
          "x": 475.78263086661275,
          "y": 411.66611753150465
         },
         {
          "edge": 5,
          "pair": [
           1,
           4
          ],
          "source": 1,
          "target": 4,
          "x": 543.504810542626,
          "y": 597.9712066302368
         },
         {
          "edge": 6,
          "pair": [
           1,
           6
          ],
          "source": 1,
          "target": 6,
          "x": 475.78263086661275,
          "y": 411.66611753150465
         },
         {
          "edge": 6,
          "pair": [
           1,
           6
          ],
          "source": 1,
          "target": 6,
          "x": 232.65692262920564,
          "y": 523.1862781661548
         },
         {
          "edge": 7,
          "pair": [
           2,
           3
          ],
          "source": 2,
          "target": 3,
          "x": 697.305442282433,
          "y": 116.0328504457114
         },
         {
          "edge": 7,
          "pair": [
           2,
           3
          ],
          "source": 2,
          "target": 3,
          "x": 730.3502393036858,
          "y": 332.3872281675466
         },
         {
          "edge": 8,
          "pair": [
           2,
           5
          ],
          "source": 2,
          "target": 5,
          "x": 697.305442282433,
          "y": 116.0328504457114
         },
         {
          "edge": 8,
          "pair": [
           2,
           5
          ],
          "source": 2,
          "target": 5,
          "x": 312.65358876967326,
          "y": 205.88659772120016
         },
         {
          "edge": 9,
          "pair": [
           3,
           4
          ],
          "source": 3,
          "target": 4,
          "x": 730.3502393036858,
          "y": 332.3872281675466
         },
         {
          "edge": 9,
          "pair": [
           3,
           4
          ],
          "source": 3,
          "target": 4,
          "x": 543.504810542626,
          "y": 597.9712066302368
         },
         {
          "edge": 10,
          "pair": [
           3,
           5
          ],
          "source": 3,
          "target": 5,
          "x": 730.3502393036858,
          "y": 332.3872281675466
         },
         {
          "edge": 10,
          "pair": [
           3,
           5
          ],
          "source": 3,
          "target": 5,
          "x": 312.65358876967326,
          "y": 205.88659772120016
         },
         {
          "edge": 11,
          "pair": [
           3,
           6
          ],
          "source": 3,
          "target": 6,
          "x": 730.3502393036858,
          "y": 332.3872281675466
         },
         {
          "edge": 11,
          "pair": [
           3,
           6
          ],
          "source": 3,
          "target": 6,
          "x": 232.65692262920564,
          "y": 523.1862781661548
         },
         {
          "edge": 12,
          "pair": [
           4,
           6
          ],
          "source": 4,
          "target": 6,
          "x": 543.504810542626,
          "y": 597.9712066302368
         },
         {
          "edge": 12,
          "pair": [
           4,
           6
          ],
          "source": 4,
          "target": 6,
          "x": 232.65692262920564,
          "y": 523.1862781661548
         },
         {
          "edge": 13,
          "pair": [
           5,
           6
          ],
          "source": 5,
          "target": 6,
          "x": 312.65358876967326,
          "y": 205.88659772120016
         },
         {
          "edge": 13,
          "pair": [
           5,
           6
          ],
          "source": 5,
          "target": 6,
          "x": 232.65692262920564,
          "y": 523.1862781661548
         },
         {
          "edge": 14,
          "pair": [
           5,
           7
          ],
          "source": 5,
          "target": 7,
          "x": 312.65358876967326,
          "y": 205.88659772120016
         },
         {
          "edge": 14,
          "pair": [
           5,
           7
          ],
          "source": 5,
          "target": 7,
          "x": 18.12050633177945,
          "y": 348.4812402150109
         },
         {
          "edge": 15,
          "pair": [
           6,
           7
          ],
          "source": 6,
          "target": 7,
          "x": 232.65692262920564,
          "y": 523.1862781661548
         },
         {
          "edge": 15,
          "pair": [
           6,
           7
          ],
          "source": 6,
          "target": 7,
          "x": 18.12050633177945,
          "y": 348.4812402150109
         },
         {
          "edge": 16,
          "pair": [
           7,
           8
          ],
          "source": 7,
          "target": 8,
          "x": 18.12050633177945,
          "y": 348.4812402150109
         },
         {
          "edge": 16,
          "pair": [
           7,
           8
          ],
          "source": 7,
          "target": 8,
          "x": 0,
          "y": 161.47415660581538
         },
         {
          "edge": 17,
          "pair": [
           8,
           9
          ],
          "source": 8,
          "target": 9,
          "x": 0,
          "y": 161.47415660581538
         },
         {
          "edge": 17,
          "pair": [
           8,
           9
          ],
          "source": 8,
          "target": 9,
          "x": 95.30910112474074,
          "y": 35.95144109004065
         }
        ],
        "data-fe19525cae7b270736552237294307d2": [
         {
          "__node_r": 5,
          "__node_size": 100,
          "x": 482.0861726542049,
          "y": 46.851003736831316
         },
         {
          "__node_r": 5,
          "__node_size": 100,
          "x": 475.78263086661275,
          "y": 411.66611753150465
         },
         {
          "__node_r": 5,
          "__node_size": 100,
          "x": 697.305442282433,
          "y": 116.0328504457114
         },
         {
          "__node_r": 5,
          "__node_size": 100,
          "x": 730.3502393036858,
          "y": 332.3872281675466
         },
         {
          "__node_r": 5,
          "__node_size": 100,
          "x": 543.504810542626,
          "y": 597.9712066302368
         },
         {
          "__node_r": 5,
          "__node_size": 100,
          "x": 312.65358876967326,
          "y": 205.88659772120016
         },
         {
          "__node_r": 5,
          "__node_size": 100,
          "x": 232.65692262920564,
          "y": 523.1862781661548
         },
         {
          "__node_r": 5,
          "__node_size": 100,
          "x": 18.12050633177945,
          "y": 348.4812402150109
         },
         {
          "__node_r": 5,
          "__node_size": 100,
          "x": 0,
          "y": 161.47415660581538
         },
         {
          "__node_r": 5,
          "__node_size": 100,
          "x": 95.30910112474074,
          "y": 35.95144109004065
         }
        ]
       },
       "height": 300,
       "layer": [
        {
         "data": {
          "name": "data-3b7157368d1343f4a5a43a2078edf952"
         },
         "encoding": {
          "color": {
           "value": "#606060"
          },
          "detail": {
           "field": "edge",
           "type": "quantitative"
          },
          "opacity": {
           "value": 1
          },
          "strokeWidth": {
           "value": 2
          },
          "x": {
           "axis": {
            "domain": false,
            "grid": false,
            "labels": false,
            "ticks": false,
            "title": ""
           },
           "field": "x",
           "type": "quantitative"
          },
          "y": {
           "axis": {
            "domain": false,
            "grid": false,
            "labels": false,
            "ticks": false,
            "title": ""
           },
           "field": "y",
           "type": "quantitative"
          }
         },
         "mark": "line"
        },
        {
         "data": {
          "name": "data-fe19525cae7b270736552237294307d2"
         },
         "encoding": {
          "fill": {
           "value": "#000"
          },
          "opacity": {
           "value": 1
          },
          "size": {
           "value": 100
          },
          "stroke": {
           "value": "#565656"
          },
          "strokeWidth": {
           "value": 0
          },
          "tooltip": [],
          "x": {
           "axis": {
            "domain": false,
            "grid": false,
            "labels": false,
            "ticks": false,
            "title": ""
           },
           "field": "x",
           "type": "quantitative"
          },
          "y": {
           "axis": {
            "domain": false,
            "grid": false,
            "labels": false,
            "ticks": false,
            "title": ""
           },
           "field": "y",
           "type": "quantitative"
          }
         },
         "mark": "circle"
        }
       ],
       "resolve": {
        "scale": {
         "color": "independent",
         "fill": "independent",
         "opacity": "independent",
         "size": "independent",
         "strokeWidth": "independent"
        }
       },
       "width": 400
      },
      "image/png": "[encoded data removed]",
      "text/plain": [
       "<VegaLite 4 object>\n",
       "\n",
       "If you see this message, it means the renderer has not been properly enabled\n",
       "for the frontend that you are using. For more information, see\n",
       "https://altair-viz.github.io/user_guide/troubleshooting.html\n"
      ]
     },
     "execution_count": 2,
     "metadata": {},
     "output_type": "execute_result"
    }
   ],
   "source": [
    "G = nx.krackhardt_kite_graph()\n",
    "\n",
    "chart = alph(G)\n",
    "\n",
    "chart.configure_view(strokeWidth=0).properties(width=400, height=300)"
   ]
  },
  {
   "cell_type": "code",
   "execution_count": null,
   "metadata": {},
   "outputs": [],
   "source": []
  }
 ],
 "metadata": {
  "kernelspec": {
   "display_name": "Python 3 (ipykernel)",
   "language": "python",
   "name": "python3"
  },
  "language_info": {
   "codemirror_mode": {
    "name": "ipython",
    "version": 3
   },
   "file_extension": ".py",
   "mimetype": "text/x-python",
   "name": "python",
   "nbconvert_exporter": "python",
   "pygments_lexer": "ipython3",
   "version": "3.10.7"
  },
  "metadata": {
   "interpreter": {
    "hash": "f9eeaac1386f103cfc819cf6645f9259fc0b8eda53ad5c9114a115ed18ca0cb8"
   }
  },
  "vscode": {
   "interpreter": {
    "hash": "121ccb6ef33f050b5231fe1f8644b93952e7f3a79e0892dcb9cd03f1749809c5"
   }
  }
 },
 "nbformat": 4,
 "nbformat_minor": 4
}
