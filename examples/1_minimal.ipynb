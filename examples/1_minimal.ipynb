{
 "cells": [
  {
   "cell_type": "markdown",
   "metadata": {},
   "source": [
    "## Minimal, unstyled one-liner\n",
    "\n",
    "This example shows\n",
    "\n",
    "- how to import alph\n",
    "- how to render a minimal graph with a call to the alph function\n",
    "\n",
    "Fittingly, it uses a simple 10-node graph - the classic [Krackhardt kite graph](https://en.wikipedia.org/wiki/Krackhardt_kite_graph), available directly from NetworkX.\n",
    "\n",
    "Note that node positions will vary from one invocation to another, as the default layout uses the system random number generator without seeding it."
   ]
  },
  {
   "cell_type": "code",
   "execution_count": 1,
   "metadata": {},
   "outputs": [],
   "source": [
    "import sys\n",
    "import networkx as nx\n",
    "\n",
    "\"..\" not in sys.path and sys.path.append(\"..\")\n",
    "from alph import alph, util\n",
    "\n",
    "util.set_altair_renderer()"
   ]
  },
  {
   "cell_type": "code",
   "execution_count": 2,
   "metadata": {},
   "outputs": [
    {
     "data": {
      "application/vnd.vegalite.v4+json": {
       "$schema": "https://vega.github.io/schema/vega-lite/v4.17.0.json",
       "config": {
        "view": {
         "continuousHeight": 300,
         "continuousWidth": 400,
         "strokeWidth": 0
        }
       },
       "datasets": {
        "data-180572d7cc68b31151efb72b77c4ba99": [
         {
          "__node_r": 5,
          "__node_size": 100,
          "x": 63.49951041136664,
          "y": 326.8412961159352
         },
         {
          "__node_r": 5,
          "__node_size": 100,
          "x": 263.80582785055964,
          "y": 531.2591493894078
         },
         {
          "__node_r": 5,
          "__node_size": 100,
          "x": 129.49445097635294,
          "y": 142.4608466536432
         },
         {
          "__node_r": 5,
          "__node_size": 100,
          "x": 324.44202852074324,
          "y": 342.0342466671178
         },
         {
          "__node_r": 5,
          "__node_size": 100,
          "x": 516.7294518213951,
          "y": 554.4034385470392
         },
         {
          "__node_r": 5,
          "__node_size": 100,
          "x": 370.0425555557654,
          "y": 134.62212600618375
         },
         {
          "__node_r": 5,
          "__node_size": 100,
          "x": 634.0526598154754,
          "y": 399.5165474244651
         },
         {
          "__node_r": 5,
          "__node_size": 100,
          "x": 713.1174845061919,
          "y": 220.11291392298133
         },
         {
          "__node_r": 5,
          "__node_size": 100,
          "x": 654.305061232234,
          "y": 80.83906957497027
         },
         {
          "__node_r": 5,
          "__node_size": 100,
          "x": 533.7635419526292,
          "y": 0
         }
        ],
        "data-b4a80857e2c8a402f663b9d7efc73a85": [
         {
          "edge": 0,
          "pair": [
           0,
           1
          ],
          "source": 0,
          "target": 1,
          "x": 63.49951041136664,
          "y": 326.8412961159352
         },
         {
          "edge": 0,
          "pair": [
           0,
           1
          ],
          "source": 0,
          "target": 1,
          "x": 263.80582785055964,
          "y": 531.2591493894078
         },
         {
          "edge": 1,
          "pair": [
           0,
           2
          ],
          "source": 0,
          "target": 2,
          "x": 63.49951041136664,
          "y": 326.8412961159352
         },
         {
          "edge": 1,
          "pair": [
           0,
           2
          ],
          "source": 0,
          "target": 2,
          "x": 129.49445097635294,
          "y": 142.4608466536432
         },
         {
          "edge": 2,
          "pair": [
           0,
           3
          ],
          "source": 0,
          "target": 3,
          "x": 63.49951041136664,
          "y": 326.8412961159352
         },
         {
          "edge": 2,
          "pair": [
           0,
           3
          ],
          "source": 0,
          "target": 3,
          "x": 324.44202852074324,
          "y": 342.0342466671178
         },
         {
          "edge": 3,
          "pair": [
           0,
           5
          ],
          "source": 0,
          "target": 5,
          "x": 63.49951041136664,
          "y": 326.8412961159352
         },
         {
          "edge": 3,
          "pair": [
           0,
           5
          ],
          "source": 0,
          "target": 5,
          "x": 370.0425555557654,
          "y": 134.62212600618375
         },
         {
          "edge": 4,
          "pair": [
           1,
           3
          ],
          "source": 1,
          "target": 3,
          "x": 263.80582785055964,
          "y": 531.2591493894078
         },
         {
          "edge": 4,
          "pair": [
           1,
           3
          ],
          "source": 1,
          "target": 3,
          "x": 324.44202852074324,
          "y": 342.0342466671178
         },
         {
          "edge": 5,
          "pair": [
           1,
           4
          ],
          "source": 1,
          "target": 4,
          "x": 263.80582785055964,
          "y": 531.2591493894078
         },
         {
          "edge": 5,
          "pair": [
           1,
           4
          ],
          "source": 1,
          "target": 4,
          "x": 516.7294518213951,
          "y": 554.4034385470392
         },
         {
          "edge": 6,
          "pair": [
           1,
           6
          ],
          "source": 1,
          "target": 6,
          "x": 263.80582785055964,
          "y": 531.2591493894078
         },
         {
          "edge": 6,
          "pair": [
           1,
           6
          ],
          "source": 1,
          "target": 6,
          "x": 634.0526598154754,
          "y": 399.5165474244651
         },
         {
          "edge": 7,
          "pair": [
           2,
           3
          ],
          "source": 2,
          "target": 3,
          "x": 129.49445097635294,
          "y": 142.4608466536432
         },
         {
          "edge": 7,
          "pair": [
           2,
           3
          ],
          "source": 2,
          "target": 3,
          "x": 324.44202852074324,
          "y": 342.0342466671178
         },
         {
          "edge": 8,
          "pair": [
           2,
           5
          ],
          "source": 2,
          "target": 5,
          "x": 129.49445097635294,
          "y": 142.4608466536432
         },
         {
          "edge": 8,
          "pair": [
           2,
           5
          ],
          "source": 2,
          "target": 5,
          "x": 370.0425555557654,
          "y": 134.62212600618375
         },
         {
          "edge": 9,
          "pair": [
           3,
           4
          ],
          "source": 3,
          "target": 4,
          "x": 324.44202852074324,
          "y": 342.0342466671178
         },
         {
          "edge": 9,
          "pair": [
           3,
           4
          ],
          "source": 3,
          "target": 4,
          "x": 516.7294518213951,
          "y": 554.4034385470392
         },
         {
          "edge": 10,
          "pair": [
           3,
           5
          ],
          "source": 3,
          "target": 5,
          "x": 324.44202852074324,
          "y": 342.0342466671178
         },
         {
          "edge": 10,
          "pair": [
           3,
           5
          ],
          "source": 3,
          "target": 5,
          "x": 370.0425555557654,
          "y": 134.62212600618375
         },
         {
          "edge": 11,
          "pair": [
           3,
           6
          ],
          "source": 3,
          "target": 6,
          "x": 324.44202852074324,
          "y": 342.0342466671178
         },
         {
          "edge": 11,
          "pair": [
           3,
           6
          ],
          "source": 3,
          "target": 6,
          "x": 634.0526598154754,
          "y": 399.5165474244651
         },
         {
          "edge": 12,
          "pair": [
           4,
           6
          ],
          "source": 4,
          "target": 6,
          "x": 516.7294518213951,
          "y": 554.4034385470392
         },
         {
          "edge": 12,
          "pair": [
           4,
           6
          ],
          "source": 4,
          "target": 6,
          "x": 634.0526598154754,
          "y": 399.5165474244651
         },
         {
          "edge": 13,
          "pair": [
           5,
           6
          ],
          "source": 5,
          "target": 6,
          "x": 370.0425555557654,
          "y": 134.62212600618375
         },
         {
          "edge": 13,
          "pair": [
           5,
           6
          ],
          "source": 5,
          "target": 6,
          "x": 634.0526598154754,
          "y": 399.5165474244651
         },
         {
          "edge": 14,
          "pair": [
           5,
           7
          ],
          "source": 5,
          "target": 7,
          "x": 370.0425555557654,
          "y": 134.62212600618375
         },
         {
          "edge": 14,
          "pair": [
           5,
           7
          ],
          "source": 5,
          "target": 7,
          "x": 713.1174845061919,
          "y": 220.11291392298133
         },
         {
          "edge": 15,
          "pair": [
           6,
           7
          ],
          "source": 6,
          "target": 7,
          "x": 634.0526598154754,
          "y": 399.5165474244651
         },
         {
          "edge": 15,
          "pair": [
           6,
           7
          ],
          "source": 6,
          "target": 7,
          "x": 713.1174845061919,
          "y": 220.11291392298133
         },
         {
          "edge": 16,
          "pair": [
           7,
           8
          ],
          "source": 7,
          "target": 8,
          "x": 713.1174845061919,
          "y": 220.11291392298133
         },
         {
          "edge": 16,
          "pair": [
           7,
           8
          ],
          "source": 7,
          "target": 8,
          "x": 654.305061232234,
          "y": 80.83906957497027
         },
         {
          "edge": 17,
          "pair": [
           8,
           9
          ],
          "source": 8,
          "target": 9,
          "x": 654.305061232234,
          "y": 80.83906957497027
         },
         {
          "edge": 17,
          "pair": [
           8,
           9
          ],
          "source": 8,
          "target": 9,
          "x": 533.7635419526292,
          "y": 0
         }
        ]
       },
       "height": 300,
       "layer": [
        {
         "data": {
          "name": "data-b4a80857e2c8a402f663b9d7efc73a85"
         },
         "encoding": {
          "color": {
           "value": "#606060"
          },
          "detail": {
           "field": "edge",
           "type": "quantitative"
          },
          "opacity": {
           "value": 1
          },
          "strokeWidth": {
           "value": 2
          },
          "x": {
           "axis": {
            "domain": false,
            "grid": false,
            "labels": false,
            "ticks": false,
            "title": ""
           },
           "field": "x",
           "type": "quantitative"
          },
          "y": {
           "axis": {
            "domain": false,
            "grid": false,
            "labels": false,
            "ticks": false,
            "title": ""
           },
           "field": "y",
           "type": "quantitative"
          }
         },
         "mark": "line"
        },
        {
         "data": {
          "name": "data-180572d7cc68b31151efb72b77c4ba99"
         },
         "encoding": {
          "fill": {
           "value": "#000"
          },
          "opacity": {
           "value": 1
          },
          "size": {
           "value": 100
          },
          "stroke": {
           "value": "#565656"
          },
          "strokeWidth": {
           "value": 0
          },
          "tooltip": [],
          "x": {
           "axis": {
            "domain": false,
            "grid": false,
            "labels": false,
            "ticks": false,
            "title": ""
           },
           "field": "x",
           "type": "quantitative"
          },
          "y": {
           "axis": {
            "domain": false,
            "grid": false,
            "labels": false,
            "ticks": false,
            "title": ""
           },
           "field": "y",
           "type": "quantitative"
          }
         },
         "mark": "circle"
        }
       ],
       "resolve": {
        "scale": {
         "color": "independent",
         "fill": "independent",
         "opacity": "independent",
         "size": "independent",
         "strokeWidth": "independent"
        }
       },
       "width": 400
      },
      "image/png": "[encoded data removed]",
      "text/plain": [
       "<VegaLite 4 object>\n",
       "\n",
       "If you see this message, it means the renderer has not been properly enabled\n",
       "for the frontend that you are using. For more information, see\n",
       "https://altair-viz.github.io/user_guide/troubleshooting.html\n"
      ]
     },
     "execution_count": 2,
     "metadata": {},
     "output_type": "execute_result"
    }
   ],
   "source": [
    "G = nx.krackhardt_kite_graph()\n",
    "\n",
    "chart = alph(G)\n",
    "\n",
    "chart.configure_view(strokeWidth=0).properties(width=400, height=300)"
   ]
  },
  {
   "cell_type": "code",
   "execution_count": null,
   "metadata": {},
   "outputs": [],
   "source": []
  }
 ],
 "metadata": {
  "kernelspec": {
   "display_name": "Python 3 (ipykernel)",
   "language": "python",
   "name": "python3"
  },
  "language_info": {
   "codemirror_mode": {
    "name": "ipython",
    "version": 3
   },
   "file_extension": ".py",
   "mimetype": "text/x-python",
   "name": "python",
   "nbconvert_exporter": "python",
   "pygments_lexer": "ipython3",
   "version": "3.10.7"
  },
  "metadata": {
   "interpreter": {
    "hash": "f9eeaac1386f103cfc819cf6645f9259fc0b8eda53ad5c9114a115ed18ca0cb8"
   }
  },
  "vscode": {
   "interpreter": {
    "hash": "121ccb6ef33f050b5231fe1f8644b93952e7f3a79e0892dcb9cd03f1749809c5"
   }
  }
 },
 "nbformat": 4,
 "nbformat_minor": 4
}
