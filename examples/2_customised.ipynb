{
 "cells": [
  {
   "cell_type": "code",
   "execution_count": 1,
   "metadata": {},
   "outputs": [],
   "source": [
    "import altair as alt\n",
    "import networkx as nx\n",
    "import numpy as np\n",
    "import pandas as pd\n",
    "import sys\n",
    "\"..\" not in sys.path and sys.path.append(\"..\")\n",
    "\n",
    "from faker import Faker\n",
    "from alph import alph, layers, layout\n",
    "from alph.util import generate_interaction_graph\n",
    "\n",
    "%reload_ext autoreload\n",
    "%autoreload 2"
   ]
  },
  {
   "cell_type": "markdown",
   "metadata": {},
   "source": [
    "Let's generate some data:\n",
    "\n",
    "- a graph made up of interaction patterns\n",
    "- some fake names\n",
    "- a centrality measure\n",
    "- a couple of categories - jobs and countries\n"
   ]
  },
  {
   "cell_type": "code",
   "execution_count": 2,
   "metadata": {},
   "outputs": [
    {
     "name": "stdout",
     "output_type": "stream",
     "text": [
      "G: 26 node(s), 37 edge(s)\n"
     ]
    }
   ],
   "source": [
    "seed = 321\n",
    "np_random = np.random.RandomState(seed)\n",
    "Faker.seed(seed)\n",
    "fake = Faker(\"en_uk\")\n",
    "\n",
    "jobs = [fake.job() for _ in range(8)]\n",
    "countries = [fake.country() for _ in range(4)]\n",
    "\n",
    "G = generate_interaction_graph(\n",
    "    nodes=list(\"abcdefghijklmnopqrstuvwxyz\"), mean_time_between_interactions=1, seed=seed\n",
    ")\n",
    "\n",
    "nx.set_node_attributes(G, {\n",
    "    n: {\n",
    "        \"id\": n,\n",
    "        \"name\": fake.first_name(),\n",
    "        \"job\": np_random.choice(jobs),\n",
    "        \"country\": np_random.choice(countries, p=[0.4, 0.3, 0.2, 0.1]),\n",
    "    } for n in G.nodes()\n",
    "})\n",
    "nx.set_node_attributes(G, nx.degree_centrality(G), \"degree_centrality\")\n",
    "\n",
    "print(f\"G: {len(G.nodes)} node(s), {len(G.edges)} edge(s)\")"
   ]
  },
  {
   "cell_type": "markdown",
   "metadata": {},
   "source": [
    "Simple customisation - custom layout and styling"
   ]
  },
  {
   "cell_type": "code",
   "execution_count": 4,
   "metadata": {},
   "outputs": [
    {
     "data": {
      "text/html": [
       "\n",
       "<div id=\"altair-viz-44ab771bb5584b43875380e4d0ca9c92\"></div>\n",
       "<script type=\"text/javascript\">\n",
       "  var VEGA_DEBUG = (typeof VEGA_DEBUG == \"undefined\") ? {} : VEGA_DEBUG;\n",
       "  (function(spec, embedOpt){\n",
       "    let outputDiv = document.currentScript.previousElementSibling;\n",
       "    if (outputDiv.id !== \"altair-viz-44ab771bb5584b43875380e4d0ca9c92\") {\n",
       "      outputDiv = document.getElementById(\"altair-viz-44ab771bb5584b43875380e4d0ca9c92\");\n",
       "    }\n",
       "    const paths = {\n",
       "      \"vega\": \"https://cdn.jsdelivr.net/npm//vega@5?noext\",\n",
       "      \"vega-lib\": \"https://cdn.jsdelivr.net/npm//vega-lib?noext\",\n",
       "      \"vega-lite\": \"https://cdn.jsdelivr.net/npm//vega-lite@4.17.0?noext\",\n",
       "      \"vega-embed\": \"https://cdn.jsdelivr.net/npm//vega-embed@6?noext\",\n",
       "    };\n",
       "\n",
       "    function maybeLoadScript(lib, version) {\n",
       "      var key = `${lib.replace(\"-\", \"\")}_version`;\n",
       "      return (VEGA_DEBUG[key] == version) ?\n",
       "        Promise.resolve(paths[lib]) :\n",
       "        new Promise(function(resolve, reject) {\n",
       "          var s = document.createElement('script');\n",
       "          document.getElementsByTagName(\"head\")[0].appendChild(s);\n",
       "          s.async = true;\n",
       "          s.onload = () => {\n",
       "            VEGA_DEBUG[key] = version;\n",
       "            return resolve(paths[lib]);\n",
       "          };\n",
       "          s.onerror = () => reject(`Error loading script: ${paths[lib]}`);\n",
       "          s.src = paths[lib];\n",
       "        });\n",
       "    }\n",
       "\n",
       "    function showError(err) {\n",
       "      outputDiv.innerHTML = `<div class=\"error\" style=\"color:red;\">${err}</div>`;\n",
       "      throw err;\n",
       "    }\n",
       "\n",
       "    function displayChart(vegaEmbed) {\n",
       "      vegaEmbed(outputDiv, spec, embedOpt)\n",
       "        .catch(err => showError(`Javascript Error: ${err.message}<br>This usually means there's a typo in your chart specification. See the javascript console for the full traceback.`));\n",
       "    }\n",
       "\n",
       "    if(typeof define === \"function\" && define.amd) {\n",
       "      requirejs.config({paths});\n",
       "      require([\"vega-embed\"], displayChart, err => showError(`Error loading script: ${err.message}`));\n",
       "    } else {\n",
       "      maybeLoadScript(\"vega\", \"5\")\n",
       "        .then(() => maybeLoadScript(\"vega-lite\", \"4.17.0\"))\n",
       "        .then(() => maybeLoadScript(\"vega-embed\", \"6\"))\n",
       "        .catch(showError)\n",
       "        .then(() => displayChart(vegaEmbed));\n",
       "    }\n",
       "  })({\"config\": {\"view\": {\"continuousWidth\": 400, \"continuousHeight\": 300, \"strokeWidth\": 0}}, \"layer\": [{\"data\": {\"name\": \"data-7fb3bc30e099ed56d2b509b7b9476339\"}, \"mark\": \"line\", \"encoding\": {\"color\": {\"value\": \"black\"}, \"detail\": {\"field\": \"edge\", \"type\": \"quantitative\"}, \"opacity\": {\"field\": \"weight\", \"legend\": null, \"scale\": {\"range\": [0.3, 1]}, \"type\": \"quantitative\"}, \"strokeWidth\": {\"field\": \"weight\", \"legend\": null, \"scale\": {\"range\": [0.1, 5]}, \"type\": \"quantitative\"}, \"x\": {\"axis\": {\"domain\": false, \"grid\": false, \"labels\": false, \"ticks\": false, \"title\": \"\"}, \"field\": \"x\", \"type\": \"quantitative\"}, \"y\": {\"axis\": {\"domain\": false, \"grid\": false, \"labels\": false, \"ticks\": false, \"title\": \"\"}, \"field\": \"y\", \"type\": \"quantitative\"}}}, {\"layer\": [{\"mark\": \"circle\", \"encoding\": {\"fill\": {\"value\": \"#ccc\"}, \"opacity\": {\"value\": 1}, \"size\": {\"field\": \"degree_centrality\", \"legend\": null, \"scale\": {\"domain\": [0, 1], \"range\": [150, 2000]}, \"type\": \"quantitative\"}, \"stroke\": {\"value\": \"navy\"}, \"strokeWidth\": {\"value\": 5}, \"tooltip\": [{\"field\": \"name\", \"type\": \"nominal\"}], \"x\": {\"axis\": {\"domain\": false, \"grid\": false, \"labels\": false, \"ticks\": false, \"title\": \"\"}, \"field\": \"x\", \"type\": \"quantitative\"}, \"y\": {\"axis\": {\"domain\": false, \"grid\": false, \"labels\": false, \"ticks\": false, \"title\": \"\"}, \"field\": \"y\", \"type\": \"quantitative\"}}}, {\"mark\": {\"type\": \"text\", \"align\": \"center\", \"baseline\": \"middle\", \"color\": \"black\", \"size\": 10}, \"encoding\": {\"text\": {\"field\": \"name\", \"type\": \"nominal\"}, \"x\": {\"axis\": {\"domain\": false, \"grid\": false, \"labels\": false, \"ticks\": false, \"title\": \"\"}, \"field\": \"x\", \"type\": \"quantitative\"}, \"y\": {\"axis\": {\"domain\": false, \"grid\": false, \"labels\": false, \"ticks\": false, \"title\": \"\"}, \"field\": \"__y_label\", \"type\": \"quantitative\"}}}], \"data\": {\"name\": \"data-c372960659b7c2df616830cec8104da2\"}}], \"height\": 600, \"resolve\": {\"scale\": {\"color\": \"independent\", \"fill\": \"independent\", \"opacity\": \"independent\", \"size\": \"independent\", \"strokeWidth\": \"independent\"}}, \"width\": 1000, \"$schema\": \"https://vega.github.io/schema/vega-lite/v4.17.0.json\", \"datasets\": {\"data-7fb3bc30e099ed56d2b509b7b9476339\": [{\"target\": \"b\", \"y\": 338.314059637023, \"pair\": [\"a\", \"b\"], \"x\": 507.07419409760945, \"edge\": 0, \"weight\": 2.1711002791746328, \"source\": \"a\"}, {\"target\": \"b\", \"y\": 266.5279175540802, \"pair\": [\"a\", \"b\"], \"x\": 553.7594331360107, \"edge\": 0, \"weight\": 2.1711002791746328, \"source\": \"a\"}, {\"target\": \"a\", \"y\": 338.314059637023, \"pair\": [\"a\", \"a\"], \"x\": 507.07419409760945, \"edge\": 1, \"weight\": 0.08111500432061784, \"source\": \"a\"}, {\"target\": \"a\", \"y\": 338.314059637023, \"pair\": [\"a\", \"a\"], \"x\": 507.07419409760945, \"edge\": 1, \"weight\": 0.08111500432061784, \"source\": \"a\"}, {\"target\": \"n\", \"y\": 338.314059637023, \"pair\": [\"a\", \"n\"], \"x\": 507.07419409760945, \"edge\": 2, \"weight\": 3.894485555057686, \"source\": \"a\"}, {\"target\": \"n\", \"y\": 371.5978246016392, \"pair\": [\"a\", \"n\"], \"x\": 530.132539285232, \"edge\": 2, \"weight\": 3.894485555057686, \"source\": \"a\"}, {\"target\": \"c\", \"y\": 338.314059637023, \"pair\": [\"a\", \"c\"], \"x\": 507.07419409760945, \"edge\": 3, \"weight\": 0.28458215954322813, \"source\": \"a\"}, {\"target\": \"c\", \"y\": 164.69055777925243, \"pair\": [\"a\", \"c\"], \"x\": 491.6745822845327, \"edge\": 3, \"weight\": 0.28458215954322813, \"source\": \"a\"}, {\"target\": \"r\", \"y\": 338.314059637023, \"pair\": [\"a\", \"r\"], \"x\": 507.07419409760945, \"edge\": 4, \"weight\": 1.3979003207738256, \"source\": \"a\"}, {\"target\": \"r\", \"y\": 297.9936183782895, \"pair\": [\"a\", \"r\"], \"x\": 572.6233770410169, \"edge\": 4, \"weight\": 1.3979003207738256, \"source\": \"a\"}, {\"target\": \"d\", \"y\": 338.314059637023, \"pair\": [\"a\", \"d\"], \"x\": 507.07419409760945, \"edge\": 5, \"weight\": 0.7479743671314023, \"source\": \"a\"}, {\"target\": \"d\", \"y\": 273.49377547999757, \"pair\": [\"a\", \"d\"], \"x\": 627.4711081703894, \"edge\": 5, \"weight\": 0.7479743671314023, \"source\": \"a\"}, {\"target\": \"e\", \"y\": 338.314059637023, \"pair\": [\"a\", \"e\"], \"x\": 507.07419409760945, \"edge\": 6, \"weight\": 2.381127919483545, \"source\": \"a\"}, {\"target\": \"e\", \"y\": 339.92692857939153, \"pair\": [\"a\", \"e\"], \"x\": 421.8447451353727, \"edge\": 6, \"weight\": 2.381127919483545, \"source\": \"a\"}, {\"target\": \"g\", \"y\": 338.314059637023, \"pair\": [\"a\", \"g\"], \"x\": 507.07419409760945, \"edge\": 7, \"weight\": 2.154771281295787, \"source\": \"a\"}, {\"target\": \"g\", \"y\": 260.5520795189725, \"pair\": [\"a\", \"g\"], \"x\": 512.0590991815761, \"edge\": 7, \"weight\": 2.154771281295787, \"source\": \"a\"}, {\"target\": \"h\", \"y\": 338.314059637023, \"pair\": [\"a\", \"h\"], \"x\": 507.07419409760945, \"edge\": 8, \"weight\": 0.09350766110202048, \"source\": \"a\"}, {\"target\": \"h\", \"y\": 272.6001606239135, \"pair\": [\"a\", \"h\"], \"x\": 829.9765088327964, \"edge\": 8, \"weight\": 0.09350766110202048, \"source\": \"a\"}, {\"target\": \"j\", \"y\": 338.314059637023, \"pair\": [\"a\", \"j\"], \"x\": 507.07419409760945, \"edge\": 9, \"weight\": 0.7284523302666718, \"source\": \"a\"}, {\"target\": \"j\", \"y\": 390.05102366406715, \"pair\": [\"a\", \"j\"], \"x\": 636.3287639409779, \"edge\": 9, \"weight\": 0.7284523302666718, \"source\": \"a\"}, {\"target\": \"k\", \"y\": 338.314059637023, \"pair\": [\"a\", \"k\"], \"x\": 507.07419409760945, \"edge\": 10, \"weight\": 0.4210173579792248, \"source\": \"a\"}, {\"target\": \"k\", \"y\": 378.02697257585663, \"pair\": [\"a\", \"k\"], \"x\": 228.03947909813508, \"edge\": 10, \"weight\": 0.4210173579792248, \"source\": \"a\"}, {\"target\": \"l\", \"y\": 338.314059637023, \"pair\": [\"a\", \"l\"], \"x\": 507.07419409760945, \"edge\": 11, \"weight\": 0.2386299670960798, \"source\": \"a\"}, {\"target\": \"l\", \"y\": 439.28278477340734, \"pair\": [\"a\", \"l\"], \"x\": 279.83559555501586, \"edge\": 11, \"weight\": 0.2386299670960798, \"source\": \"a\"}, {\"target\": \"p\", \"y\": 338.314059637023, \"pair\": [\"a\", \"p\"], \"x\": 507.07419409760945, \"edge\": 12, \"weight\": 0.44733990950860786, \"source\": \"a\"}, {\"target\": \"p\", \"y\": 457.5136718004792, \"pair\": [\"a\", \"p\"], \"x\": 421.7852696503968, \"edge\": 12, \"weight\": 0.44733990950860786, \"source\": \"a\"}, {\"target\": \"q\", \"y\": 338.314059637023, \"pair\": [\"a\", \"q\"], \"x\": 507.07419409760945, \"edge\": 13, \"weight\": 0.31577319007667387, \"source\": \"a\"}, {\"target\": \"q\", \"y\": 473.1474437677073, \"pair\": [\"a\", \"q\"], \"x\": 643.7674013770247, \"edge\": 13, \"weight\": 0.31577319007667387, \"source\": \"a\"}, {\"target\": \"s\", \"y\": 338.314059637023, \"pair\": [\"a\", \"s\"], \"x\": 507.07419409760945, \"edge\": 14, \"weight\": 1.4339102902507364, \"source\": \"a\"}, {\"target\": \"s\", \"y\": 268.9248994442792, \"pair\": [\"a\", \"s\"], \"x\": 437.0394233239018, \"edge\": 14, \"weight\": 1.4339102902507364, \"source\": \"a\"}, {\"target\": \"t\", \"y\": 338.314059637023, \"pair\": [\"a\", \"t\"], \"x\": 507.07419409760945, \"edge\": 15, \"weight\": 0.650167961109687, \"source\": \"a\"}, {\"target\": \"t\", \"y\": 440.19894394312433, \"pair\": [\"a\", \"t\"], \"x\": 530.0529555832046, \"edge\": 15, \"weight\": 0.650167961109687, \"source\": \"a\"}, {\"target\": \"v\", \"y\": 338.314059637023, \"pair\": [\"a\", \"v\"], \"x\": 507.07419409760945, \"edge\": 16, \"weight\": 0.1042441132781697, \"source\": \"a\"}, {\"target\": \"v\", \"y\": 588.1706437291125, \"pair\": [\"a\", \"v\"], \"x\": 527.6386717059313, \"edge\": 16, \"weight\": 0.1042441132781697, \"source\": \"a\"}, {\"target\": \"w\", \"y\": 338.314059637023, \"pair\": [\"a\", \"w\"], \"x\": 507.07419409760945, \"edge\": 17, \"weight\": 0.3221282940185491, \"source\": \"a\"}, {\"target\": \"w\", \"y\": 399.7417127074782, \"pair\": [\"a\", \"w\"], \"x\": 747.0972451870033, \"edge\": 17, \"weight\": 0.3221282940185491, \"source\": \"a\"}, {\"target\": \"y\", \"y\": 338.314059637023, \"pair\": [\"a\", \"y\"], \"x\": 507.07419409760945, \"edge\": 18, \"weight\": 1.5819555806072163, \"source\": \"a\"}, {\"target\": \"y\", \"y\": 384.6349534620467, \"pair\": [\"a\", \"y\"], \"x\": 436.0558533851753, \"edge\": 18, \"weight\": 1.5819555806072163, \"source\": \"a\"}, {\"target\": \"c\", \"y\": 266.5279175540802, \"pair\": [\"b\", \"c\"], \"x\": 553.7594331360107, \"edge\": 19, \"weight\": 0.7214855755209555, \"source\": \"b\"}, {\"target\": \"c\", \"y\": 164.69055777925243, \"pair\": [\"b\", \"c\"], \"x\": 491.6745822845327, \"edge\": 19, \"weight\": 0.7214855755209555, \"source\": \"b\"}, {\"target\": \"d\", \"y\": 266.5279175540802, \"pair\": [\"b\", \"d\"], \"x\": 553.7594331360107, \"edge\": 20, \"weight\": 0.6038455777931652, \"source\": \"b\"}, {\"target\": \"d\", \"y\": 273.49377547999757, \"pair\": [\"b\", \"d\"], \"x\": 627.4711081703894, \"edge\": 20, \"weight\": 0.6038455777931652, \"source\": \"b\"}, {\"target\": \"f\", \"y\": 266.5279175540802, \"pair\": [\"b\", \"f\"], \"x\": 553.7594331360107, \"edge\": 21, \"weight\": 0.2945741005184152, \"source\": \"b\"}, {\"target\": \"f\", \"y\": 204.72151406985185, \"pair\": [\"b\", \"f\"], \"x\": 552.0268536736627, \"edge\": 21, \"weight\": 0.2945741005184152, \"source\": \"b\"}, {\"target\": \"h\", \"y\": 266.5279175540802, \"pair\": [\"b\", \"h\"], \"x\": 553.7594331360107, \"edge\": 22, \"weight\": 0.12101191984454629, \"source\": \"b\"}, {\"target\": \"h\", \"y\": 272.6001606239135, \"pair\": [\"b\", \"h\"], \"x\": 829.9765088327964, \"edge\": 22, \"weight\": 0.12101191984454629, \"source\": \"b\"}, {\"target\": \"f\", \"y\": 164.69055777925243, \"pair\": [\"c\", \"f\"], \"x\": 491.6745822845327, \"edge\": 23, \"weight\": 1.7390515657912486, \"source\": \"c\"}, {\"target\": \"f\", \"y\": 204.72151406985185, \"pair\": [\"c\", \"f\"], \"x\": 552.0268536736627, \"edge\": 23, \"weight\": 1.7390515657912486, \"source\": \"c\"}, {\"target\": \"c\", \"y\": 164.69055777925243, \"pair\": [\"c\", \"c\"], \"x\": 491.6745822845327, \"edge\": 24, \"weight\": 0.38236424738404223, \"source\": \"c\"}, {\"target\": \"c\", \"y\": 164.69055777925243, \"pair\": [\"c\", \"c\"], \"x\": 491.6745822845327, \"edge\": 24, \"weight\": 0.38236424738404223, \"source\": \"c\"}, {\"target\": \"d\", \"y\": 164.69055777925243, \"pair\": [\"c\", \"d\"], \"x\": 491.6745822845327, \"edge\": 25, \"weight\": 0.16523677374144413, \"source\": \"c\"}, {\"target\": \"d\", \"y\": 273.49377547999757, \"pair\": [\"c\", \"d\"], \"x\": 627.4711081703894, \"edge\": 25, \"weight\": 0.16523677374144413, \"source\": \"c\"}, {\"target\": \"i\", \"y\": 164.69055777925243, \"pair\": [\"c\", \"i\"], \"x\": 491.6745822845327, \"edge\": 26, \"weight\": 0.2420455577974949, \"source\": \"c\"}, {\"target\": \"i\", \"y\": 0.0, \"pair\": [\"c\", \"i\"], \"x\": 438.3125442629583, \"edge\": 26, \"weight\": 0.2420455577974949, \"source\": \"c\"}, {\"target\": \"o\", \"y\": 164.69055777925243, \"pair\": [\"c\", \"o\"], \"x\": 491.6745822845327, \"edge\": 27, \"weight\": 2.431672911983474, \"source\": \"c\"}, {\"target\": \"o\", \"y\": 115.7121118523095, \"pair\": [\"c\", \"o\"], \"x\": 467.1017370437286, \"edge\": 27, \"weight\": 2.431672911983474, \"source\": \"c\"}, {\"target\": \"r\", \"y\": 164.69055777925243, \"pair\": [\"c\", \"r\"], \"x\": 491.6745822845327, \"edge\": 28, \"weight\": 0.04407221377279017, \"source\": \"c\"}, {\"target\": \"r\", \"y\": 297.9936183782895, \"pair\": [\"c\", \"r\"], \"x\": 572.6233770410169, \"edge\": 28, \"weight\": 0.04407221377279017, \"source\": \"c\"}, {\"target\": \"s\", \"y\": 164.69055777925243, \"pair\": [\"c\", \"s\"], \"x\": 491.6745822845327, \"edge\": 29, \"weight\": 0.47152865008985506, \"source\": \"c\"}, {\"target\": \"s\", \"y\": 268.9248994442792, \"pair\": [\"c\", \"s\"], \"x\": 437.0394233239018, \"edge\": 29, \"weight\": 0.47152865008985506, \"source\": \"c\"}, {\"target\": \"u\", \"y\": 164.69055777925243, \"pair\": [\"c\", \"u\"], \"x\": 491.6745822845327, \"edge\": 30, \"weight\": 0.38267513728658287, \"source\": \"c\"}, {\"target\": \"u\", \"y\": 40.3851922698034, \"pair\": [\"c\", \"u\"], \"x\": 566.2535685630239, \"edge\": 30, \"weight\": 0.38267513728658287, \"source\": \"c\"}, {\"target\": \"x\", \"y\": 164.69055777925243, \"pair\": [\"c\", \"x\"], \"x\": 491.6745822845327, \"edge\": 31, \"weight\": 0.43700689721428215, \"source\": \"c\"}, {\"target\": \"x\", \"y\": 72.65828037606121, \"pair\": [\"c\", \"x\"], \"x\": 356.62767363104757, \"edge\": 31, \"weight\": 0.43700689721428215, \"source\": \"c\"}, {\"target\": \"g\", \"y\": 204.72151406985185, \"pair\": [\"f\", \"g\"], \"x\": 552.0268536736627, \"edge\": 32, \"weight\": 2.7084138559230357, \"source\": \"f\"}, {\"target\": \"g\", \"y\": 260.5520795189725, \"pair\": [\"f\", \"g\"], \"x\": 512.0590991815761, \"edge\": 32, \"weight\": 2.7084138559230357, \"source\": \"f\"}, {\"target\": \"r\", \"y\": 204.72151406985185, \"pair\": [\"f\", \"r\"], \"x\": 552.0268536736627, \"edge\": 33, \"weight\": 0.4919142469344901, \"source\": \"f\"}, {\"target\": \"r\", \"y\": 297.9936183782895, \"pair\": [\"f\", \"r\"], \"x\": 572.6233770410169, \"edge\": 33, \"weight\": 0.4919142469344901, \"source\": \"f\"}, {\"target\": \"z\", \"y\": 204.72151406985185, \"pair\": [\"f\", \"z\"], \"x\": 552.0268536736627, \"edge\": 34, \"weight\": 2.26278224012567, \"source\": \"f\"}, {\"target\": \"z\", \"y\": 159.93590720637175, \"pair\": [\"f\", \"z\"], \"x\": 614.6827765358306, \"edge\": 34, \"weight\": 2.26278224012567, \"source\": \"f\"}, {\"target\": \"l\", \"y\": 378.02697257585663, \"pair\": [\"k\", \"l\"], \"x\": 228.03947909813508, \"edge\": 35, \"weight\": 0.1572425453010757, \"source\": \"k\"}, {\"target\": \"l\", \"y\": 439.28278477340734, \"pair\": [\"k\", \"l\"], \"x\": 279.83559555501586, \"edge\": 35, \"weight\": 0.1572425453010757, \"source\": \"k\"}, {\"target\": \"m\", \"y\": 378.02697257585663, \"pair\": [\"k\", \"m\"], \"x\": 228.03947909813508, \"edge\": 36, \"weight\": 0.6740512643178811, \"source\": \"k\"}, {\"target\": \"m\", \"y\": 401.1970222054844, \"pair\": [\"k\", \"m\"], \"x\": 70.73860031844653, \"edge\": 36, \"weight\": 0.6740512643178811, \"source\": \"k\"}], \"data-c372960659b7c2df616830cec8104da2\": [{\"x\": 507.07419409760945, \"name\": \"Rosie\", \"job\": \"Surveyor, planning and development\", \"degree_centrality\": 0.8, \"y\": 338.314059637023, \"id\": \"a\", \"country\": \"Korea\", \"__node_size\": 1630.0, \"__node_r\": 20.18662923818635, \"__y_label\": 306.1274303988366}, {\"x\": 553.7594331360107, \"name\": \"Mary\", \"job\": \"Financial trader\", \"degree_centrality\": 0.2, \"y\": 266.5279175540802, \"id\": \"b\", \"country\": \"Jamaica\", \"__node_size\": 520.0, \"__node_r\": 11.40175425099138, \"__y_label\": 243.12616330308882}, {\"x\": 491.6745822845327, \"name\": \"Sandra\", \"job\": \"Nurse, adult\", \"degree_centrality\": 0.48, \"y\": 164.69055777925243, \"id\": \"c\", \"country\": \"Vietnam\", \"__node_size\": 1038.0, \"__node_r\": 16.109003693587013, \"__y_label\": 136.5815540856654}, {\"x\": 627.4711081703894, \"name\": \"Francis\", \"job\": \"Health and safety adviser\", \"degree_centrality\": 0.12, \"y\": 273.49377547999757, \"id\": \"d\", \"country\": \"Netherlands Antilles\", \"__node_size\": 372.0, \"__node_r\": 9.643650760992955, \"__y_label\": 251.8501247190046}, {\"x\": 421.8447451353727, \"name\": \"Stephen\", \"job\": \"Health and safety adviser\", \"degree_centrality\": 0.04, \"y\": 339.92692857939153, \"id\": \"e\", \"country\": \"Korea\", \"__node_size\": 224.0, \"__node_r\": 7.483314773547883, \"__y_label\": 320.44361380584365}, {\"x\": 552.0268536736627, \"name\": \"Denise\", \"job\": \"Private music teacher\", \"degree_centrality\": 0.2, \"y\": 204.72151406985185, \"id\": \"f\", \"country\": \"Vietnam\", \"__node_size\": 520.0, \"__node_r\": 11.40175425099138, \"__y_label\": 181.31975981886046}, {\"x\": 512.0590991815761, \"name\": \"Tony\", \"job\": \"Comptroller\", \"degree_centrality\": 0.08, \"y\": 260.5520795189725, \"id\": \"g\", \"country\": \"Vietnam\", \"__node_size\": 298.0, \"__node_r\": 8.631338250816034, \"__y_label\": 239.92074126815646}, {\"x\": 829.9765088327964, \"name\": \"Ann\", \"job\": \"Private music teacher\", \"degree_centrality\": 0.08, \"y\": 272.6001606239135, \"id\": \"h\", \"country\": \"Vietnam\", \"__node_size\": 298.0, \"__node_r\": 8.631338250816034, \"__y_label\": 251.96882237309745}, {\"x\": 438.3125442629583, \"name\": \"Ryan\", \"job\": \"Licensed conveyancer\", \"degree_centrality\": 0.04, \"y\": 0.0, \"id\": \"i\", \"country\": \"Jamaica\", \"__node_size\": 224.0, \"__node_r\": 7.483314773547883, \"__y_label\": -19.48331477354788}, {\"x\": 636.3287639409779, \"name\": \"Charlotte\", \"job\": \"Private music teacher\", \"degree_centrality\": 0.04, \"y\": 390.05102366406715, \"id\": \"j\", \"country\": \"Korea\", \"__node_size\": 224.0, \"__node_r\": 7.483314773547883, \"__y_label\": 370.56770889051927}, {\"x\": 228.03947909813508, \"name\": \"Kimberley\", \"job\": \"Comptroller\", \"degree_centrality\": 0.12, \"y\": 378.02697257585663, \"id\": \"k\", \"country\": \"Netherlands Antilles\", \"__node_size\": 372.0, \"__node_r\": 9.643650760992955, \"__y_label\": 356.3833218148637}, {\"x\": 279.83559555501586, \"name\": \"Wendy\", \"job\": \"Nurse, adult\", \"degree_centrality\": 0.08, \"y\": 439.28278477340734, \"id\": \"l\", \"country\": \"Vietnam\", \"__node_size\": 298.0, \"__node_r\": 8.631338250816034, \"__y_label\": 418.6514465225913}, {\"x\": 70.73860031844653, \"name\": \"Gordon\", \"job\": \"Licensed conveyancer\", \"degree_centrality\": 0.04, \"y\": 401.1970222054844, \"id\": \"m\", \"country\": \"Netherlands Antilles\", \"__node_size\": 224.0, \"__node_r\": 7.483314773547883, \"__y_label\": 381.71370743193654}, {\"x\": 530.132539285232, \"name\": \"Nicholas\", \"job\": \"Licensed conveyancer\", \"degree_centrality\": 0.04, \"y\": 371.5978246016392, \"id\": \"n\", \"country\": \"Netherlands Antilles\", \"__node_size\": 224.0, \"__node_r\": 7.483314773547883, \"__y_label\": 352.11450982809134}, {\"x\": 467.1017370437286, \"name\": \"Ross\", \"job\": \"Private music teacher\", \"degree_centrality\": 0.04, \"y\": 115.7121118523095, \"id\": \"o\", \"country\": \"Jamaica\", \"__node_size\": 224.0, \"__node_r\": 7.483314773547883, \"__y_label\": 96.22879707876162}, {\"x\": 421.7852696503968, \"name\": \"Rhys\", \"job\": \"Nurse, adult\", \"degree_centrality\": 0.04, \"y\": 457.5136718004792, \"id\": \"p\", \"country\": \"Korea\", \"__node_size\": 224.0, \"__node_r\": 7.483314773547883, \"__y_label\": 438.0303570269313}, {\"x\": 643.7674013770247, \"name\": \"Lauren\", \"job\": \"Surveyor, planning and development\", \"degree_centrality\": 0.04, \"y\": 473.1474437677073, \"id\": \"q\", \"country\": \"Netherlands Antilles\", \"__node_size\": 224.0, \"__node_r\": 7.483314773547883, \"__y_label\": 453.6641289941594}, {\"x\": 572.6233770410169, \"name\": \"Ann\", \"job\": \"Surveyor, planning and development\", \"degree_centrality\": 0.12, \"y\": 297.9936183782895, \"id\": \"r\", \"country\": \"Vietnam\", \"__node_size\": 372.0, \"__node_r\": 9.643650760992955, \"__y_label\": 276.34996761729656}, {\"x\": 437.0394233239018, \"name\": \"Abbie\", \"job\": \"Minerals surveyor\", \"degree_centrality\": 0.08, \"y\": 268.9248994442792, \"id\": \"s\", \"country\": \"Vietnam\", \"__node_size\": 298.0, \"__node_r\": 8.631338250816034, \"__y_label\": 248.29356119346318}, {\"x\": 530.0529555832046, \"name\": \"Katherine\", \"job\": \"Financial trader\", \"degree_centrality\": 0.04, \"y\": 440.19894394312433, \"id\": \"t\", \"country\": \"Vietnam\", \"__node_size\": 224.0, \"__node_r\": 7.483314773547883, \"__y_label\": 420.71562916957646}, {\"x\": 566.2535685630239, \"name\": \"Glenn\", \"job\": \"Licensed conveyancer\", \"degree_centrality\": 0.04, \"y\": 40.3851922698034, \"id\": \"u\", \"country\": \"Vietnam\", \"__node_size\": 224.0, \"__node_r\": 7.483314773547883, \"__y_label\": 20.901877496255516}, {\"x\": 527.6386717059313, \"name\": \"Jason\", \"job\": \"Minerals surveyor\", \"degree_centrality\": 0.04, \"y\": 588.1706437291125, \"id\": \"v\", \"country\": \"Jamaica\", \"__node_size\": 224.0, \"__node_r\": 7.483314773547883, \"__y_label\": 568.6873289555646}, {\"x\": 747.0972451870033, \"name\": \"Tony\", \"job\": \"Financial trader\", \"degree_centrality\": 0.04, \"y\": 399.7417127074782, \"id\": \"w\", \"country\": \"Vietnam\", \"__node_size\": 224.0, \"__node_r\": 7.483314773547883, \"__y_label\": 380.2583979339303}, {\"x\": 356.62767363104757, \"name\": \"Angela\", \"job\": \"Comptroller\", \"degree_centrality\": 0.04, \"y\": 72.65828037606121, \"id\": \"x\", \"country\": \"Vietnam\", \"__node_size\": 224.0, \"__node_r\": 7.483314773547883, \"__y_label\": 53.174965602513325}, {\"x\": 436.0558533851753, \"name\": \"Linda\", \"job\": \"Financial trader\", \"degree_centrality\": 0.04, \"y\": 384.6349534620467, \"id\": \"y\", \"country\": \"Korea\", \"__node_size\": 224.0, \"__node_r\": 7.483314773547883, \"__y_label\": 365.15163868849885}, {\"x\": 614.6827765358306, \"name\": \"Sian\", \"job\": \"Comptroller\", \"degree_centrality\": 0.04, \"y\": 159.93590720637175, \"id\": \"z\", \"country\": \"Korea\", \"__node_size\": 224.0, \"__node_r\": 7.483314773547883, \"__y_label\": 140.45259243282388}]}}, {\"mode\": \"vega-lite\"});\n",
       "</script>"
      ],
      "text/plain": [
       "alt.LayerChart(...)"
      ]
     },
     "execution_count": 4,
     "metadata": {},
     "output_type": "execute_result"
    }
   ],
   "source": [
    "alph(\n",
    "    G,\n",
    "    weight_attr=\"weight\",\n",
    "    # layout_fn=lambda g: nx.fruchterman_reingold_layout(g, weight=\"weight\", k=1.5),\n",
    "    layout_fn=lambda g: nx.spring_layout(g, weight=\"weight\", k=3, iterations=5000, seed=seed),\n",
    "    node_args=dict(\n",
    "        size=alt.Size(\"degree_centrality\", scale=alt.Scale(domain=[0,1], range=[150, 2000]), legend=None),\n",
    "        halo_offset=None,\n",
    "        fill=\"#ccc\",\n",
    "        stroke=\"navy\",\n",
    "        strokeWidth=5,\n",
    "        tooltip_attrs=[\"name\"],\n",
    "        label_attr=\"name\",\n",
    "    ),\n",
    "    edge_args=dict(color=\"black\"),\n",
    "    width=1000, height=600,\n",
    ").configure_view(strokeWidth=0)"
   ]
  },
  {
   "cell_type": "markdown",
   "metadata": {},
   "source": [
    "Simple customisation - conditionally highlight nodes and edges"
   ]
  },
  {
   "cell_type": "code",
   "execution_count": 5,
   "metadata": {},
   "outputs": [
    {
     "data": {
      "text/html": [
       "\n",
       "<div id=\"altair-viz-02568c1b38f54c438f0e042cd88d156a\"></div>\n",
       "<script type=\"text/javascript\">\n",
       "  var VEGA_DEBUG = (typeof VEGA_DEBUG == \"undefined\") ? {} : VEGA_DEBUG;\n",
       "  (function(spec, embedOpt){\n",
       "    let outputDiv = document.currentScript.previousElementSibling;\n",
       "    if (outputDiv.id !== \"altair-viz-02568c1b38f54c438f0e042cd88d156a\") {\n",
       "      outputDiv = document.getElementById(\"altair-viz-02568c1b38f54c438f0e042cd88d156a\");\n",
       "    }\n",
       "    const paths = {\n",
       "      \"vega\": \"https://cdn.jsdelivr.net/npm//vega@5?noext\",\n",
       "      \"vega-lib\": \"https://cdn.jsdelivr.net/npm//vega-lib?noext\",\n",
       "      \"vega-lite\": \"https://cdn.jsdelivr.net/npm//vega-lite@4.17.0?noext\",\n",
       "      \"vega-embed\": \"https://cdn.jsdelivr.net/npm//vega-embed@6?noext\",\n",
       "    };\n",
       "\n",
       "    function maybeLoadScript(lib, version) {\n",
       "      var key = `${lib.replace(\"-\", \"\")}_version`;\n",
       "      return (VEGA_DEBUG[key] == version) ?\n",
       "        Promise.resolve(paths[lib]) :\n",
       "        new Promise(function(resolve, reject) {\n",
       "          var s = document.createElement('script');\n",
       "          document.getElementsByTagName(\"head\")[0].appendChild(s);\n",
       "          s.async = true;\n",
       "          s.onload = () => {\n",
       "            VEGA_DEBUG[key] = version;\n",
       "            return resolve(paths[lib]);\n",
       "          };\n",
       "          s.onerror = () => reject(`Error loading script: ${paths[lib]}`);\n",
       "          s.src = paths[lib];\n",
       "        });\n",
       "    }\n",
       "\n",
       "    function showError(err) {\n",
       "      outputDiv.innerHTML = `<div class=\"error\" style=\"color:red;\">${err}</div>`;\n",
       "      throw err;\n",
       "    }\n",
       "\n",
       "    function displayChart(vegaEmbed) {\n",
       "      vegaEmbed(outputDiv, spec, embedOpt)\n",
       "        .catch(err => showError(`Javascript Error: ${err.message}<br>This usually means there's a typo in your chart specification. See the javascript console for the full traceback.`));\n",
       "    }\n",
       "\n",
       "    if(typeof define === \"function\" && define.amd) {\n",
       "      requirejs.config({paths});\n",
       "      require([\"vega-embed\"], displayChart, err => showError(`Error loading script: ${err.message}`));\n",
       "    } else {\n",
       "      maybeLoadScript(\"vega\", \"5\")\n",
       "        .then(() => maybeLoadScript(\"vega-lite\", \"4.17.0\"))\n",
       "        .then(() => maybeLoadScript(\"vega-embed\", \"6\"))\n",
       "        .catch(showError)\n",
       "        .then(() => displayChart(vegaEmbed));\n",
       "    }\n",
       "  })({\"config\": {\"view\": {\"continuousWidth\": 400, \"continuousHeight\": 300, \"strokeWidth\": 0}}, \"layer\": [{\"data\": {\"name\": \"data-7fb3bc30e099ed56d2b509b7b9476339\"}, \"mark\": \"line\", \"encoding\": {\"color\": {\"condition\": {\"value\": \"#f33\", \"test\": \"((((datum.source === 'c') || (datum.target === 'c')) || (datum.source === 'b')) || (datum.target === 'b'))\"}, \"value\": \"#999\"}, \"detail\": {\"field\": \"edge\", \"type\": \"quantitative\"}, \"opacity\": {\"field\": \"weight\", \"legend\": null, \"scale\": {\"range\": [0.3, 1]}, \"type\": \"quantitative\"}, \"strokeWidth\": {\"field\": \"weight\", \"legend\": null, \"scale\": {\"range\": [0.1, 5]}, \"type\": \"quantitative\"}, \"x\": {\"axis\": {\"domain\": false, \"grid\": false, \"labels\": false, \"ticks\": false, \"title\": \"\"}, \"field\": \"x\", \"type\": \"quantitative\"}, \"y\": {\"axis\": {\"domain\": false, \"grid\": false, \"labels\": false, \"ticks\": false, \"title\": \"\"}, \"field\": \"y\", \"type\": \"quantitative\"}}}, {\"layer\": [{\"mark\": \"circle\", \"encoding\": {\"fill\": {\"value\": \"rgba(0,0,0,0\"}, \"opacity\": {\"condition\": {\"value\": 1, \"test\": \"(datum.name == 'Mary') || (datum.name == 'Sandra')\"}, \"value\": 0}, \"size\": {\"field\": \"__node_halo_size\", \"legend\": null, \"scale\": null, \"type\": \"quantitative\"}, \"stroke\": {\"value\": \"red\"}, \"strokeWidth\": {\"value\": 2}, \"x\": {\"axis\": {\"domain\": false, \"grid\": false, \"labels\": false, \"ticks\": false, \"title\": \"\"}, \"field\": \"x\", \"type\": \"quantitative\"}, \"y\": {\"axis\": {\"domain\": false, \"grid\": false, \"labels\": false, \"ticks\": false, \"title\": \"\"}, \"field\": \"y\", \"type\": \"quantitative\"}}}, {\"mark\": \"circle\", \"encoding\": {\"fill\": {\"value\": \"#ad6\"}, \"opacity\": {\"value\": 1}, \"size\": {\"value\": 256}, \"stroke\": {\"value\": \"#444\"}, \"strokeWidth\": {\"value\": 1}, \"tooltip\": [{\"field\": \"name\", \"type\": \"nominal\"}, {\"field\": \"id\", \"type\": \"nominal\"}], \"x\": {\"axis\": {\"domain\": false, \"grid\": false, \"labels\": false, \"ticks\": false, \"title\": \"\"}, \"field\": \"x\", \"type\": \"quantitative\"}, \"y\": {\"axis\": {\"domain\": false, \"grid\": false, \"labels\": false, \"ticks\": false, \"title\": \"\"}, \"field\": \"y\", \"type\": \"quantitative\"}}}, {\"mark\": {\"type\": \"text\", \"align\": \"center\", \"baseline\": \"middle\", \"color\": \"black\", \"size\": 10}, \"encoding\": {\"text\": {\"field\": \"name\", \"type\": \"nominal\"}, \"x\": {\"axis\": {\"domain\": false, \"grid\": false, \"labels\": false, \"ticks\": false, \"title\": \"\"}, \"field\": \"x\", \"type\": \"quantitative\"}, \"y\": {\"axis\": {\"domain\": false, \"grid\": false, \"labels\": false, \"ticks\": false, \"title\": \"\"}, \"field\": \"__y_label\", \"type\": \"quantitative\"}}}], \"data\": {\"name\": \"data-712a3c0e0c41fee346c6d0feb5400715\"}}], \"height\": 600, \"resolve\": {\"scale\": {\"color\": \"independent\", \"fill\": \"independent\", \"opacity\": \"independent\", \"size\": \"independent\", \"strokeWidth\": \"independent\"}}, \"width\": 1000, \"$schema\": \"https://vega.github.io/schema/vega-lite/v4.17.0.json\", \"datasets\": {\"data-7fb3bc30e099ed56d2b509b7b9476339\": [{\"target\": \"b\", \"y\": 338.314059637023, \"pair\": [\"a\", \"b\"], \"x\": 507.07419409760945, \"edge\": 0, \"weight\": 2.1711002791746328, \"source\": \"a\"}, {\"target\": \"b\", \"y\": 266.5279175540802, \"pair\": [\"a\", \"b\"], \"x\": 553.7594331360107, \"edge\": 0, \"weight\": 2.1711002791746328, \"source\": \"a\"}, {\"target\": \"a\", \"y\": 338.314059637023, \"pair\": [\"a\", \"a\"], \"x\": 507.07419409760945, \"edge\": 1, \"weight\": 0.08111500432061784, \"source\": \"a\"}, {\"target\": \"a\", \"y\": 338.314059637023, \"pair\": [\"a\", \"a\"], \"x\": 507.07419409760945, \"edge\": 1, \"weight\": 0.08111500432061784, \"source\": \"a\"}, {\"target\": \"n\", \"y\": 338.314059637023, \"pair\": [\"a\", \"n\"], \"x\": 507.07419409760945, \"edge\": 2, \"weight\": 3.894485555057686, \"source\": \"a\"}, {\"target\": \"n\", \"y\": 371.5978246016392, \"pair\": [\"a\", \"n\"], \"x\": 530.132539285232, \"edge\": 2, \"weight\": 3.894485555057686, \"source\": \"a\"}, {\"target\": \"c\", \"y\": 338.314059637023, \"pair\": [\"a\", \"c\"], \"x\": 507.07419409760945, \"edge\": 3, \"weight\": 0.28458215954322813, \"source\": \"a\"}, {\"target\": \"c\", \"y\": 164.69055777925243, \"pair\": [\"a\", \"c\"], \"x\": 491.6745822845327, \"edge\": 3, \"weight\": 0.28458215954322813, \"source\": \"a\"}, {\"target\": \"r\", \"y\": 338.314059637023, \"pair\": [\"a\", \"r\"], \"x\": 507.07419409760945, \"edge\": 4, \"weight\": 1.3979003207738256, \"source\": \"a\"}, {\"target\": \"r\", \"y\": 297.9936183782895, \"pair\": [\"a\", \"r\"], \"x\": 572.6233770410169, \"edge\": 4, \"weight\": 1.3979003207738256, \"source\": \"a\"}, {\"target\": \"d\", \"y\": 338.314059637023, \"pair\": [\"a\", \"d\"], \"x\": 507.07419409760945, \"edge\": 5, \"weight\": 0.7479743671314023, \"source\": \"a\"}, {\"target\": \"d\", \"y\": 273.49377547999757, \"pair\": [\"a\", \"d\"], \"x\": 627.4711081703894, \"edge\": 5, \"weight\": 0.7479743671314023, \"source\": \"a\"}, {\"target\": \"e\", \"y\": 338.314059637023, \"pair\": [\"a\", \"e\"], \"x\": 507.07419409760945, \"edge\": 6, \"weight\": 2.381127919483545, \"source\": \"a\"}, {\"target\": \"e\", \"y\": 339.92692857939153, \"pair\": [\"a\", \"e\"], \"x\": 421.8447451353727, \"edge\": 6, \"weight\": 2.381127919483545, \"source\": \"a\"}, {\"target\": \"g\", \"y\": 338.314059637023, \"pair\": [\"a\", \"g\"], \"x\": 507.07419409760945, \"edge\": 7, \"weight\": 2.154771281295787, \"source\": \"a\"}, {\"target\": \"g\", \"y\": 260.5520795189725, \"pair\": [\"a\", \"g\"], \"x\": 512.0590991815761, \"edge\": 7, \"weight\": 2.154771281295787, \"source\": \"a\"}, {\"target\": \"h\", \"y\": 338.314059637023, \"pair\": [\"a\", \"h\"], \"x\": 507.07419409760945, \"edge\": 8, \"weight\": 0.09350766110202048, \"source\": \"a\"}, {\"target\": \"h\", \"y\": 272.6001606239135, \"pair\": [\"a\", \"h\"], \"x\": 829.9765088327964, \"edge\": 8, \"weight\": 0.09350766110202048, \"source\": \"a\"}, {\"target\": \"j\", \"y\": 338.314059637023, \"pair\": [\"a\", \"j\"], \"x\": 507.07419409760945, \"edge\": 9, \"weight\": 0.7284523302666718, \"source\": \"a\"}, {\"target\": \"j\", \"y\": 390.05102366406715, \"pair\": [\"a\", \"j\"], \"x\": 636.3287639409779, \"edge\": 9, \"weight\": 0.7284523302666718, \"source\": \"a\"}, {\"target\": \"k\", \"y\": 338.314059637023, \"pair\": [\"a\", \"k\"], \"x\": 507.07419409760945, \"edge\": 10, \"weight\": 0.4210173579792248, \"source\": \"a\"}, {\"target\": \"k\", \"y\": 378.02697257585663, \"pair\": [\"a\", \"k\"], \"x\": 228.03947909813508, \"edge\": 10, \"weight\": 0.4210173579792248, \"source\": \"a\"}, {\"target\": \"l\", \"y\": 338.314059637023, \"pair\": [\"a\", \"l\"], \"x\": 507.07419409760945, \"edge\": 11, \"weight\": 0.2386299670960798, \"source\": \"a\"}, {\"target\": \"l\", \"y\": 439.28278477340734, \"pair\": [\"a\", \"l\"], \"x\": 279.83559555501586, \"edge\": 11, \"weight\": 0.2386299670960798, \"source\": \"a\"}, {\"target\": \"p\", \"y\": 338.314059637023, \"pair\": [\"a\", \"p\"], \"x\": 507.07419409760945, \"edge\": 12, \"weight\": 0.44733990950860786, \"source\": \"a\"}, {\"target\": \"p\", \"y\": 457.5136718004792, \"pair\": [\"a\", \"p\"], \"x\": 421.7852696503968, \"edge\": 12, \"weight\": 0.44733990950860786, \"source\": \"a\"}, {\"target\": \"q\", \"y\": 338.314059637023, \"pair\": [\"a\", \"q\"], \"x\": 507.07419409760945, \"edge\": 13, \"weight\": 0.31577319007667387, \"source\": \"a\"}, {\"target\": \"q\", \"y\": 473.1474437677073, \"pair\": [\"a\", \"q\"], \"x\": 643.7674013770247, \"edge\": 13, \"weight\": 0.31577319007667387, \"source\": \"a\"}, {\"target\": \"s\", \"y\": 338.314059637023, \"pair\": [\"a\", \"s\"], \"x\": 507.07419409760945, \"edge\": 14, \"weight\": 1.4339102902507364, \"source\": \"a\"}, {\"target\": \"s\", \"y\": 268.9248994442792, \"pair\": [\"a\", \"s\"], \"x\": 437.0394233239018, \"edge\": 14, \"weight\": 1.4339102902507364, \"source\": \"a\"}, {\"target\": \"t\", \"y\": 338.314059637023, \"pair\": [\"a\", \"t\"], \"x\": 507.07419409760945, \"edge\": 15, \"weight\": 0.650167961109687, \"source\": \"a\"}, {\"target\": \"t\", \"y\": 440.19894394312433, \"pair\": [\"a\", \"t\"], \"x\": 530.0529555832046, \"edge\": 15, \"weight\": 0.650167961109687, \"source\": \"a\"}, {\"target\": \"v\", \"y\": 338.314059637023, \"pair\": [\"a\", \"v\"], \"x\": 507.07419409760945, \"edge\": 16, \"weight\": 0.1042441132781697, \"source\": \"a\"}, {\"target\": \"v\", \"y\": 588.1706437291125, \"pair\": [\"a\", \"v\"], \"x\": 527.6386717059313, \"edge\": 16, \"weight\": 0.1042441132781697, \"source\": \"a\"}, {\"target\": \"w\", \"y\": 338.314059637023, \"pair\": [\"a\", \"w\"], \"x\": 507.07419409760945, \"edge\": 17, \"weight\": 0.3221282940185491, \"source\": \"a\"}, {\"target\": \"w\", \"y\": 399.7417127074782, \"pair\": [\"a\", \"w\"], \"x\": 747.0972451870033, \"edge\": 17, \"weight\": 0.3221282940185491, \"source\": \"a\"}, {\"target\": \"y\", \"y\": 338.314059637023, \"pair\": [\"a\", \"y\"], \"x\": 507.07419409760945, \"edge\": 18, \"weight\": 1.5819555806072163, \"source\": \"a\"}, {\"target\": \"y\", \"y\": 384.6349534620467, \"pair\": [\"a\", \"y\"], \"x\": 436.0558533851753, \"edge\": 18, \"weight\": 1.5819555806072163, \"source\": \"a\"}, {\"target\": \"c\", \"y\": 266.5279175540802, \"pair\": [\"b\", \"c\"], \"x\": 553.7594331360107, \"edge\": 19, \"weight\": 0.7214855755209555, \"source\": \"b\"}, {\"target\": \"c\", \"y\": 164.69055777925243, \"pair\": [\"b\", \"c\"], \"x\": 491.6745822845327, \"edge\": 19, \"weight\": 0.7214855755209555, \"source\": \"b\"}, {\"target\": \"d\", \"y\": 266.5279175540802, \"pair\": [\"b\", \"d\"], \"x\": 553.7594331360107, \"edge\": 20, \"weight\": 0.6038455777931652, \"source\": \"b\"}, {\"target\": \"d\", \"y\": 273.49377547999757, \"pair\": [\"b\", \"d\"], \"x\": 627.4711081703894, \"edge\": 20, \"weight\": 0.6038455777931652, \"source\": \"b\"}, {\"target\": \"f\", \"y\": 266.5279175540802, \"pair\": [\"b\", \"f\"], \"x\": 553.7594331360107, \"edge\": 21, \"weight\": 0.2945741005184152, \"source\": \"b\"}, {\"target\": \"f\", \"y\": 204.72151406985185, \"pair\": [\"b\", \"f\"], \"x\": 552.0268536736627, \"edge\": 21, \"weight\": 0.2945741005184152, \"source\": \"b\"}, {\"target\": \"h\", \"y\": 266.5279175540802, \"pair\": [\"b\", \"h\"], \"x\": 553.7594331360107, \"edge\": 22, \"weight\": 0.12101191984454629, \"source\": \"b\"}, {\"target\": \"h\", \"y\": 272.6001606239135, \"pair\": [\"b\", \"h\"], \"x\": 829.9765088327964, \"edge\": 22, \"weight\": 0.12101191984454629, \"source\": \"b\"}, {\"target\": \"f\", \"y\": 164.69055777925243, \"pair\": [\"c\", \"f\"], \"x\": 491.6745822845327, \"edge\": 23, \"weight\": 1.7390515657912486, \"source\": \"c\"}, {\"target\": \"f\", \"y\": 204.72151406985185, \"pair\": [\"c\", \"f\"], \"x\": 552.0268536736627, \"edge\": 23, \"weight\": 1.7390515657912486, \"source\": \"c\"}, {\"target\": \"c\", \"y\": 164.69055777925243, \"pair\": [\"c\", \"c\"], \"x\": 491.6745822845327, \"edge\": 24, \"weight\": 0.38236424738404223, \"source\": \"c\"}, {\"target\": \"c\", \"y\": 164.69055777925243, \"pair\": [\"c\", \"c\"], \"x\": 491.6745822845327, \"edge\": 24, \"weight\": 0.38236424738404223, \"source\": \"c\"}, {\"target\": \"d\", \"y\": 164.69055777925243, \"pair\": [\"c\", \"d\"], \"x\": 491.6745822845327, \"edge\": 25, \"weight\": 0.16523677374144413, \"source\": \"c\"}, {\"target\": \"d\", \"y\": 273.49377547999757, \"pair\": [\"c\", \"d\"], \"x\": 627.4711081703894, \"edge\": 25, \"weight\": 0.16523677374144413, \"source\": \"c\"}, {\"target\": \"i\", \"y\": 164.69055777925243, \"pair\": [\"c\", \"i\"], \"x\": 491.6745822845327, \"edge\": 26, \"weight\": 0.2420455577974949, \"source\": \"c\"}, {\"target\": \"i\", \"y\": 0.0, \"pair\": [\"c\", \"i\"], \"x\": 438.3125442629583, \"edge\": 26, \"weight\": 0.2420455577974949, \"source\": \"c\"}, {\"target\": \"o\", \"y\": 164.69055777925243, \"pair\": [\"c\", \"o\"], \"x\": 491.6745822845327, \"edge\": 27, \"weight\": 2.431672911983474, \"source\": \"c\"}, {\"target\": \"o\", \"y\": 115.7121118523095, \"pair\": [\"c\", \"o\"], \"x\": 467.1017370437286, \"edge\": 27, \"weight\": 2.431672911983474, \"source\": \"c\"}, {\"target\": \"r\", \"y\": 164.69055777925243, \"pair\": [\"c\", \"r\"], \"x\": 491.6745822845327, \"edge\": 28, \"weight\": 0.04407221377279017, \"source\": \"c\"}, {\"target\": \"r\", \"y\": 297.9936183782895, \"pair\": [\"c\", \"r\"], \"x\": 572.6233770410169, \"edge\": 28, \"weight\": 0.04407221377279017, \"source\": \"c\"}, {\"target\": \"s\", \"y\": 164.69055777925243, \"pair\": [\"c\", \"s\"], \"x\": 491.6745822845327, \"edge\": 29, \"weight\": 0.47152865008985506, \"source\": \"c\"}, {\"target\": \"s\", \"y\": 268.9248994442792, \"pair\": [\"c\", \"s\"], \"x\": 437.0394233239018, \"edge\": 29, \"weight\": 0.47152865008985506, \"source\": \"c\"}, {\"target\": \"u\", \"y\": 164.69055777925243, \"pair\": [\"c\", \"u\"], \"x\": 491.6745822845327, \"edge\": 30, \"weight\": 0.38267513728658287, \"source\": \"c\"}, {\"target\": \"u\", \"y\": 40.3851922698034, \"pair\": [\"c\", \"u\"], \"x\": 566.2535685630239, \"edge\": 30, \"weight\": 0.38267513728658287, \"source\": \"c\"}, {\"target\": \"x\", \"y\": 164.69055777925243, \"pair\": [\"c\", \"x\"], \"x\": 491.6745822845327, \"edge\": 31, \"weight\": 0.43700689721428215, \"source\": \"c\"}, {\"target\": \"x\", \"y\": 72.65828037606121, \"pair\": [\"c\", \"x\"], \"x\": 356.62767363104757, \"edge\": 31, \"weight\": 0.43700689721428215, \"source\": \"c\"}, {\"target\": \"g\", \"y\": 204.72151406985185, \"pair\": [\"f\", \"g\"], \"x\": 552.0268536736627, \"edge\": 32, \"weight\": 2.7084138559230357, \"source\": \"f\"}, {\"target\": \"g\", \"y\": 260.5520795189725, \"pair\": [\"f\", \"g\"], \"x\": 512.0590991815761, \"edge\": 32, \"weight\": 2.7084138559230357, \"source\": \"f\"}, {\"target\": \"r\", \"y\": 204.72151406985185, \"pair\": [\"f\", \"r\"], \"x\": 552.0268536736627, \"edge\": 33, \"weight\": 0.4919142469344901, \"source\": \"f\"}, {\"target\": \"r\", \"y\": 297.9936183782895, \"pair\": [\"f\", \"r\"], \"x\": 572.6233770410169, \"edge\": 33, \"weight\": 0.4919142469344901, \"source\": \"f\"}, {\"target\": \"z\", \"y\": 204.72151406985185, \"pair\": [\"f\", \"z\"], \"x\": 552.0268536736627, \"edge\": 34, \"weight\": 2.26278224012567, \"source\": \"f\"}, {\"target\": \"z\", \"y\": 159.93590720637175, \"pair\": [\"f\", \"z\"], \"x\": 614.6827765358306, \"edge\": 34, \"weight\": 2.26278224012567, \"source\": \"f\"}, {\"target\": \"l\", \"y\": 378.02697257585663, \"pair\": [\"k\", \"l\"], \"x\": 228.03947909813508, \"edge\": 35, \"weight\": 0.1572425453010757, \"source\": \"k\"}, {\"target\": \"l\", \"y\": 439.28278477340734, \"pair\": [\"k\", \"l\"], \"x\": 279.83559555501586, \"edge\": 35, \"weight\": 0.1572425453010757, \"source\": \"k\"}, {\"target\": \"m\", \"y\": 378.02697257585663, \"pair\": [\"k\", \"m\"], \"x\": 228.03947909813508, \"edge\": 36, \"weight\": 0.6740512643178811, \"source\": \"k\"}, {\"target\": \"m\", \"y\": 401.1970222054844, \"pair\": [\"k\", \"m\"], \"x\": 70.73860031844653, \"edge\": 36, \"weight\": 0.6740512643178811, \"source\": \"k\"}], \"data-712a3c0e0c41fee346c6d0feb5400715\": [{\"x\": 507.07419409760945, \"name\": \"Rosie\", \"job\": \"Surveyor, planning and development\", \"degree_centrality\": 0.8, \"y\": 338.314059637023, \"id\": \"a\", \"country\": \"Korea\", \"__node_size\": 256, \"__node_r\": 8.0, \"__node_halo_size\": 484.0, \"__y_label\": 316.314059637023}, {\"x\": 553.7594331360107, \"name\": \"Mary\", \"job\": \"Financial trader\", \"degree_centrality\": 0.2, \"y\": 266.5279175540802, \"id\": \"b\", \"country\": \"Jamaica\", \"__node_size\": 256, \"__node_r\": 8.0, \"__node_halo_size\": 484.0, \"__y_label\": 244.5279175540802}, {\"x\": 491.6745822845327, \"name\": \"Sandra\", \"job\": \"Nurse, adult\", \"degree_centrality\": 0.48, \"y\": 164.69055777925243, \"id\": \"c\", \"country\": \"Vietnam\", \"__node_size\": 256, \"__node_r\": 8.0, \"__node_halo_size\": 484.0, \"__y_label\": 142.69055777925243}, {\"x\": 627.4711081703894, \"name\": \"Francis\", \"job\": \"Health and safety adviser\", \"degree_centrality\": 0.12, \"y\": 273.49377547999757, \"id\": \"d\", \"country\": \"Netherlands Antilles\", \"__node_size\": 256, \"__node_r\": 8.0, \"__node_halo_size\": 484.0, \"__y_label\": 251.49377547999757}, {\"x\": 421.8447451353727, \"name\": \"Stephen\", \"job\": \"Health and safety adviser\", \"degree_centrality\": 0.04, \"y\": 339.92692857939153, \"id\": \"e\", \"country\": \"Korea\", \"__node_size\": 256, \"__node_r\": 8.0, \"__node_halo_size\": 484.0, \"__y_label\": 317.92692857939153}, {\"x\": 552.0268536736627, \"name\": \"Denise\", \"job\": \"Private music teacher\", \"degree_centrality\": 0.2, \"y\": 204.72151406985185, \"id\": \"f\", \"country\": \"Vietnam\", \"__node_size\": 256, \"__node_r\": 8.0, \"__node_halo_size\": 484.0, \"__y_label\": 182.72151406985185}, {\"x\": 512.0590991815761, \"name\": \"Tony\", \"job\": \"Comptroller\", \"degree_centrality\": 0.08, \"y\": 260.5520795189725, \"id\": \"g\", \"country\": \"Vietnam\", \"__node_size\": 256, \"__node_r\": 8.0, \"__node_halo_size\": 484.0, \"__y_label\": 238.5520795189725}, {\"x\": 829.9765088327964, \"name\": \"Ann\", \"job\": \"Private music teacher\", \"degree_centrality\": 0.08, \"y\": 272.6001606239135, \"id\": \"h\", \"country\": \"Vietnam\", \"__node_size\": 256, \"__node_r\": 8.0, \"__node_halo_size\": 484.0, \"__y_label\": 250.6001606239135}, {\"x\": 438.3125442629583, \"name\": \"Ryan\", \"job\": \"Licensed conveyancer\", \"degree_centrality\": 0.04, \"y\": 0.0, \"id\": \"i\", \"country\": \"Jamaica\", \"__node_size\": 256, \"__node_r\": 8.0, \"__node_halo_size\": 484.0, \"__y_label\": -22.0}, {\"x\": 636.3287639409779, \"name\": \"Charlotte\", \"job\": \"Private music teacher\", \"degree_centrality\": 0.04, \"y\": 390.05102366406715, \"id\": \"j\", \"country\": \"Korea\", \"__node_size\": 256, \"__node_r\": 8.0, \"__node_halo_size\": 484.0, \"__y_label\": 368.05102366406715}, {\"x\": 228.03947909813508, \"name\": \"Kimberley\", \"job\": \"Comptroller\", \"degree_centrality\": 0.12, \"y\": 378.02697257585663, \"id\": \"k\", \"country\": \"Netherlands Antilles\", \"__node_size\": 256, \"__node_r\": 8.0, \"__node_halo_size\": 484.0, \"__y_label\": 356.02697257585663}, {\"x\": 279.83559555501586, \"name\": \"Wendy\", \"job\": \"Nurse, adult\", \"degree_centrality\": 0.08, \"y\": 439.28278477340734, \"id\": \"l\", \"country\": \"Vietnam\", \"__node_size\": 256, \"__node_r\": 8.0, \"__node_halo_size\": 484.0, \"__y_label\": 417.28278477340734}, {\"x\": 70.73860031844653, \"name\": \"Gordon\", \"job\": \"Licensed conveyancer\", \"degree_centrality\": 0.04, \"y\": 401.1970222054844, \"id\": \"m\", \"country\": \"Netherlands Antilles\", \"__node_size\": 256, \"__node_r\": 8.0, \"__node_halo_size\": 484.0, \"__y_label\": 379.1970222054844}, {\"x\": 530.132539285232, \"name\": \"Nicholas\", \"job\": \"Licensed conveyancer\", \"degree_centrality\": 0.04, \"y\": 371.5978246016392, \"id\": \"n\", \"country\": \"Netherlands Antilles\", \"__node_size\": 256, \"__node_r\": 8.0, \"__node_halo_size\": 484.0, \"__y_label\": 349.5978246016392}, {\"x\": 467.1017370437286, \"name\": \"Ross\", \"job\": \"Private music teacher\", \"degree_centrality\": 0.04, \"y\": 115.7121118523095, \"id\": \"o\", \"country\": \"Jamaica\", \"__node_size\": 256, \"__node_r\": 8.0, \"__node_halo_size\": 484.0, \"__y_label\": 93.7121118523095}, {\"x\": 421.7852696503968, \"name\": \"Rhys\", \"job\": \"Nurse, adult\", \"degree_centrality\": 0.04, \"y\": 457.5136718004792, \"id\": \"p\", \"country\": \"Korea\", \"__node_size\": 256, \"__node_r\": 8.0, \"__node_halo_size\": 484.0, \"__y_label\": 435.5136718004792}, {\"x\": 643.7674013770247, \"name\": \"Lauren\", \"job\": \"Surveyor, planning and development\", \"degree_centrality\": 0.04, \"y\": 473.1474437677073, \"id\": \"q\", \"country\": \"Netherlands Antilles\", \"__node_size\": 256, \"__node_r\": 8.0, \"__node_halo_size\": 484.0, \"__y_label\": 451.1474437677073}, {\"x\": 572.6233770410169, \"name\": \"Ann\", \"job\": \"Surveyor, planning and development\", \"degree_centrality\": 0.12, \"y\": 297.9936183782895, \"id\": \"r\", \"country\": \"Vietnam\", \"__node_size\": 256, \"__node_r\": 8.0, \"__node_halo_size\": 484.0, \"__y_label\": 275.9936183782895}, {\"x\": 437.0394233239018, \"name\": \"Abbie\", \"job\": \"Minerals surveyor\", \"degree_centrality\": 0.08, \"y\": 268.9248994442792, \"id\": \"s\", \"country\": \"Vietnam\", \"__node_size\": 256, \"__node_r\": 8.0, \"__node_halo_size\": 484.0, \"__y_label\": 246.92489944427922}, {\"x\": 530.0529555832046, \"name\": \"Katherine\", \"job\": \"Financial trader\", \"degree_centrality\": 0.04, \"y\": 440.19894394312433, \"id\": \"t\", \"country\": \"Vietnam\", \"__node_size\": 256, \"__node_r\": 8.0, \"__node_halo_size\": 484.0, \"__y_label\": 418.19894394312433}, {\"x\": 566.2535685630239, \"name\": \"Glenn\", \"job\": \"Licensed conveyancer\", \"degree_centrality\": 0.04, \"y\": 40.3851922698034, \"id\": \"u\", \"country\": \"Vietnam\", \"__node_size\": 256, \"__node_r\": 8.0, \"__node_halo_size\": 484.0, \"__y_label\": 18.385192269803397}, {\"x\": 527.6386717059313, \"name\": \"Jason\", \"job\": \"Minerals surveyor\", \"degree_centrality\": 0.04, \"y\": 588.1706437291125, \"id\": \"v\", \"country\": \"Jamaica\", \"__node_size\": 256, \"__node_r\": 8.0, \"__node_halo_size\": 484.0, \"__y_label\": 566.1706437291125}, {\"x\": 747.0972451870033, \"name\": \"Tony\", \"job\": \"Financial trader\", \"degree_centrality\": 0.04, \"y\": 399.7417127074782, \"id\": \"w\", \"country\": \"Vietnam\", \"__node_size\": 256, \"__node_r\": 8.0, \"__node_halo_size\": 484.0, \"__y_label\": 377.7417127074782}, {\"x\": 356.62767363104757, \"name\": \"Angela\", \"job\": \"Comptroller\", \"degree_centrality\": 0.04, \"y\": 72.65828037606121, \"id\": \"x\", \"country\": \"Vietnam\", \"__node_size\": 256, \"__node_r\": 8.0, \"__node_halo_size\": 484.0, \"__y_label\": 50.658280376061214}, {\"x\": 436.0558533851753, \"name\": \"Linda\", \"job\": \"Financial trader\", \"degree_centrality\": 0.04, \"y\": 384.6349534620467, \"id\": \"y\", \"country\": \"Korea\", \"__node_size\": 256, \"__node_r\": 8.0, \"__node_halo_size\": 484.0, \"__y_label\": 362.6349534620467}, {\"x\": 614.6827765358306, \"name\": \"Sian\", \"job\": \"Comptroller\", \"degree_centrality\": 0.04, \"y\": 159.93590720637175, \"id\": \"z\", \"country\": \"Korea\", \"__node_size\": 256, \"__node_r\": 8.0, \"__node_halo_size\": 484.0, \"__y_label\": 137.93590720637175}]}}, {\"mode\": \"vega-lite\"});\n",
       "</script>"
      ],
      "text/plain": [
       "alt.LayerChart(...)"
      ]
     },
     "execution_count": 5,
     "metadata": {},
     "output_type": "execute_result"
    }
   ],
   "source": [
    "alph(\n",
    "    G,\n",
    "    weight_attr=\"weight\",\n",
    "    layout_fn=lambda g: nx.spring_layout(g, weight=\"weight\", k=3, iterations=5000, seed=seed),\n",
    "    node_args=dict(\n",
    "        size=(8*2) ** 2,\n",
    "        fill=\"#ad6\",\n",
    "        stroke=\"#444\",\n",
    "        strokeWidth=1,\n",
    "        halo_offset=2,\n",
    "        halo_opacity=alt.condition(\n",
    "            \"(datum.name == 'Mary') || (datum.name == 'Sandra')\",\n",
    "            alt.value(1),\n",
    "            alt.value(0)\n",
    "        ),\n",
    "        halo_stroke=\"red\",\n",
    "        halo_strokeWidth=2,\n",
    "        tooltip_attrs=[\"name\", \"id\"],\n",
    "        label_attr=\"name\",\n",
    "    ),\n",
    "    edge_args=dict(\n",
    "        color=alt.condition(\n",
    "            (\n",
    "                (alt.datum.source == 'c')\n",
    "                | (alt.datum.target == 'c')\n",
    "                | (alt.datum.source == 'b')\n",
    "                | (alt.datum.target == 'b')\n",
    "            ),\n",
    "            alt.value(\"#f33\"),\n",
    "            alt.value(\"#999\")\n",
    "        ),\n",
    "    ),\n",
    "    width=1000, height=600,\n",
    ").configure_view(strokeWidth=0)"
   ]
  },
  {
   "cell_type": "markdown",
   "metadata": {},
   "source": [
    "Combination of two plots altair-style, showing the use of Altair settings"
   ]
  },
  {
   "cell_type": "code",
   "execution_count": 7,
   "metadata": {},
   "outputs": [
    {
     "data": {
      "text/html": [
       "\n",
       "<div id=\"altair-viz-01c5e475fb04452b8b140e5e45b26252\"></div>\n",
       "<script type=\"text/javascript\">\n",
       "  var VEGA_DEBUG = (typeof VEGA_DEBUG == \"undefined\") ? {} : VEGA_DEBUG;\n",
       "  (function(spec, embedOpt){\n",
       "    let outputDiv = document.currentScript.previousElementSibling;\n",
       "    if (outputDiv.id !== \"altair-viz-01c5e475fb04452b8b140e5e45b26252\") {\n",
       "      outputDiv = document.getElementById(\"altair-viz-01c5e475fb04452b8b140e5e45b26252\");\n",
       "    }\n",
       "    const paths = {\n",
       "      \"vega\": \"https://cdn.jsdelivr.net/npm//vega@5?noext\",\n",
       "      \"vega-lib\": \"https://cdn.jsdelivr.net/npm//vega-lib?noext\",\n",
       "      \"vega-lite\": \"https://cdn.jsdelivr.net/npm//vega-lite@4.17.0?noext\",\n",
       "      \"vega-embed\": \"https://cdn.jsdelivr.net/npm//vega-embed@6?noext\",\n",
       "    };\n",
       "\n",
       "    function maybeLoadScript(lib, version) {\n",
       "      var key = `${lib.replace(\"-\", \"\")}_version`;\n",
       "      return (VEGA_DEBUG[key] == version) ?\n",
       "        Promise.resolve(paths[lib]) :\n",
       "        new Promise(function(resolve, reject) {\n",
       "          var s = document.createElement('script');\n",
       "          document.getElementsByTagName(\"head\")[0].appendChild(s);\n",
       "          s.async = true;\n",
       "          s.onload = () => {\n",
       "            VEGA_DEBUG[key] = version;\n",
       "            return resolve(paths[lib]);\n",
       "          };\n",
       "          s.onerror = () => reject(`Error loading script: ${paths[lib]}`);\n",
       "          s.src = paths[lib];\n",
       "        });\n",
       "    }\n",
       "\n",
       "    function showError(err) {\n",
       "      outputDiv.innerHTML = `<div class=\"error\" style=\"color:red;\">${err}</div>`;\n",
       "      throw err;\n",
       "    }\n",
       "\n",
       "    function displayChart(vegaEmbed) {\n",
       "      vegaEmbed(outputDiv, spec, embedOpt)\n",
       "        .catch(err => showError(`Javascript Error: ${err.message}<br>This usually means there's a typo in your chart specification. See the javascript console for the full traceback.`));\n",
       "    }\n",
       "\n",
       "    if(typeof define === \"function\" && define.amd) {\n",
       "      requirejs.config({paths});\n",
       "      require([\"vega-embed\"], displayChart, err => showError(`Error loading script: ${err.message}`));\n",
       "    } else {\n",
       "      maybeLoadScript(\"vega\", \"5\")\n",
       "        .then(() => maybeLoadScript(\"vega-lite\", \"4.17.0\"))\n",
       "        .then(() => maybeLoadScript(\"vega-embed\", \"6\"))\n",
       "        .catch(showError)\n",
       "        .then(() => displayChart(vegaEmbed));\n",
       "    }\n",
       "  })({\"config\": {\"view\": {\"continuousWidth\": 400, \"continuousHeight\": 300}}, \"hconcat\": [{\"layer\": [{\"data\": {\"name\": \"data-9ff27348c8566cb965ecb8cdc86803c5\"}, \"mark\": \"line\", \"encoding\": {\"color\": {\"value\": \"black\"}, \"detail\": {\"field\": \"edge\", \"type\": \"quantitative\"}, \"opacity\": {\"field\": \"weight\", \"legend\": null, \"scale\": {\"range\": [0.3, 1]}, \"type\": \"quantitative\"}, \"strokeWidth\": {\"field\": \"weight\", \"legend\": null, \"scale\": {\"range\": [0.1, 5]}, \"type\": \"quantitative\"}, \"x\": {\"axis\": {\"domain\": false, \"grid\": false, \"labels\": false, \"ticks\": false, \"title\": \"\"}, \"field\": \"x\", \"type\": \"quantitative\"}, \"y\": {\"axis\": {\"domain\": false, \"grid\": false, \"labels\": false, \"ticks\": false, \"title\": \"\"}, \"field\": \"y\", \"type\": \"quantitative\"}}}, {\"layer\": [{\"mark\": \"circle\", \"encoding\": {\"fill\": {\"value\": \"#fff\"}, \"opacity\": {\"value\": 1}, \"size\": {\"field\": \"degree_centrality\", \"legend\": null, \"scale\": {\"domain\": [0, 1], \"range\": [150, 2000]}, \"type\": \"quantitative\"}, \"stroke\": {\"field\": \"job\", \"scale\": {\"scheme\": \"category10\"}, \"type\": \"nominal\"}, \"strokeWidth\": {\"value\": 5}, \"tooltip\": [{\"field\": \"name\", \"type\": \"nominal\"}, {\"field\": \"job\", \"type\": \"nominal\"}, {\"field\": \"country\", \"type\": \"nominal\"}], \"x\": {\"axis\": {\"domain\": false, \"grid\": false, \"labels\": false, \"ticks\": false, \"title\": \"\"}, \"field\": \"x\", \"type\": \"quantitative\"}, \"y\": {\"axis\": {\"domain\": false, \"grid\": false, \"labels\": false, \"ticks\": false, \"title\": \"\"}, \"field\": \"y\", \"type\": \"quantitative\"}}}, {\"mark\": {\"type\": \"text\", \"align\": \"center\", \"baseline\": \"middle\", \"color\": \"black\", \"size\": 10}, \"encoding\": {\"text\": {\"field\": \"name\", \"type\": \"nominal\"}, \"x\": {\"axis\": {\"domain\": false, \"grid\": false, \"labels\": false, \"ticks\": false, \"title\": \"\"}, \"field\": \"x\", \"type\": \"quantitative\"}, \"y\": {\"axis\": {\"domain\": false, \"grid\": false, \"labels\": false, \"ticks\": false, \"title\": \"\"}, \"field\": \"__y_label\", \"type\": \"quantitative\"}}}], \"data\": {\"name\": \"data-e7799511c789b2c646ff2426de794301\"}}], \"height\": 600, \"resolve\": {\"scale\": {\"color\": \"independent\", \"fill\": \"independent\", \"opacity\": \"independent\", \"size\": \"independent\", \"strokeWidth\": \"independent\"}}, \"width\": 600}, {\"layer\": [{\"data\": {\"name\": \"data-9ff27348c8566cb965ecb8cdc86803c5\"}, \"mark\": \"line\", \"encoding\": {\"color\": {\"value\": \"black\"}, \"detail\": {\"field\": \"edge\", \"type\": \"quantitative\"}, \"opacity\": {\"field\": \"weight\", \"legend\": null, \"scale\": {\"range\": [0.3, 1]}, \"type\": \"quantitative\"}, \"strokeWidth\": {\"field\": \"weight\", \"legend\": null, \"scale\": {\"range\": [0.1, 5]}, \"type\": \"quantitative\"}, \"x\": {\"axis\": {\"domain\": false, \"grid\": false, \"labels\": false, \"ticks\": false, \"title\": \"\"}, \"field\": \"x\", \"type\": \"quantitative\"}, \"y\": {\"axis\": {\"domain\": false, \"grid\": false, \"labels\": false, \"ticks\": false, \"title\": \"\"}, \"field\": \"y\", \"type\": \"quantitative\"}}}, {\"layer\": [{\"mark\": \"circle\", \"encoding\": {\"fill\": {\"field\": \"degree_centrality\", \"scale\": {\"scheme\": \"greys\"}, \"type\": \"quantitative\"}, \"opacity\": {\"value\": 1}, \"size\": {\"field\": \"degree_centrality\", \"legend\": null, \"scale\": {\"domain\": [0, 1], \"range\": [150, 2000]}, \"type\": \"quantitative\"}, \"stroke\": {\"field\": \"job\", \"scale\": {\"scheme\": \"category10\"}, \"type\": \"nominal\"}, \"strokeWidth\": {\"value\": 0}, \"tooltip\": [{\"field\": \"name\", \"type\": \"nominal\"}, {\"field\": \"job\", \"type\": \"nominal\"}, {\"field\": \"country\", \"type\": \"nominal\"}], \"x\": {\"axis\": {\"domain\": false, \"grid\": false, \"labels\": false, \"ticks\": false, \"title\": \"\"}, \"field\": \"x\", \"type\": \"quantitative\"}, \"y\": {\"axis\": {\"domain\": false, \"grid\": false, \"labels\": false, \"ticks\": false, \"title\": \"\"}, \"field\": \"y\", \"type\": \"quantitative\"}}}, {\"mark\": {\"type\": \"text\", \"align\": \"center\", \"baseline\": \"middle\", \"color\": \"black\", \"size\": 10}, \"encoding\": {\"text\": {\"field\": \"name\", \"type\": \"nominal\"}, \"x\": {\"axis\": {\"domain\": false, \"grid\": false, \"labels\": false, \"ticks\": false, \"title\": \"\"}, \"field\": \"x\", \"type\": \"quantitative\"}, \"y\": {\"axis\": {\"domain\": false, \"grid\": false, \"labels\": false, \"ticks\": false, \"title\": \"\"}, \"field\": \"__y_label\", \"type\": \"quantitative\"}}}], \"data\": {\"name\": \"data-e7799511c789b2c646ff2426de794301\"}}], \"height\": 600, \"resolve\": {\"scale\": {\"color\": \"independent\", \"fill\": \"independent\", \"opacity\": \"independent\", \"size\": \"independent\", \"strokeWidth\": \"independent\"}}, \"width\": 600}], \"$schema\": \"https://vega.github.io/schema/vega-lite/v4.17.0.json\", \"datasets\": {\"data-9ff27348c8566cb965ecb8cdc86803c5\": [{\"target\": \"b\", \"y\": 335.7369972488257, \"pair\": [\"a\", \"b\"], \"x\": 302.4471332751882, \"edge\": 0, \"weight\": 2.1711002791746328, \"source\": \"a\"}, {\"target\": \"b\", \"y\": 270.1663078944016, \"pair\": [\"a\", \"b\"], \"x\": 331.2541076703197, \"edge\": 0, \"weight\": 2.1711002791746328, \"source\": \"a\"}, {\"target\": \"a\", \"y\": 335.7369972488257, \"pair\": [\"a\", \"a\"], \"x\": 302.4471332751882, \"edge\": 1, \"weight\": 0.08111500432061784, \"source\": \"a\"}, {\"target\": \"a\", \"y\": 335.7369972488257, \"pair\": [\"a\", \"a\"], \"x\": 302.4471332751882, \"edge\": 1, \"weight\": 0.08111500432061784, \"source\": \"a\"}, {\"target\": \"n\", \"y\": 335.7369972488257, \"pair\": [\"a\", \"n\"], \"x\": 302.4471332751882, \"edge\": 2, \"weight\": 3.894485555057686, \"source\": \"a\"}, {\"target\": \"n\", \"y\": 367.1850056164964, \"pair\": [\"a\", \"n\"], \"x\": 313.992618508104, \"edge\": 2, \"weight\": 3.894485555057686, \"source\": \"a\"}, {\"target\": \"c\", \"y\": 335.7369972488257, \"pair\": [\"a\", \"c\"], \"x\": 302.4471332751882, \"edge\": 3, \"weight\": 0.28458215954322813, \"source\": \"a\"}, {\"target\": \"c\", \"y\": 174.16643306990815, \"pair\": [\"a\", \"c\"], \"x\": 300.6328239855789, \"edge\": 3, \"weight\": 0.28458215954322813, \"source\": \"a\"}, {\"target\": \"r\", \"y\": 335.7369972488257, \"pair\": [\"a\", \"r\"], \"x\": 302.4471332751882, \"edge\": 4, \"weight\": 1.3979003207738256, \"source\": \"a\"}, {\"target\": \"r\", \"y\": 299.83823717630526, \"pair\": [\"a\", \"r\"], \"x\": 340.55079713983093, \"edge\": 4, \"weight\": 1.3979003207738256, \"source\": \"a\"}, {\"target\": \"d\", \"y\": 335.7369972488257, \"pair\": [\"a\", \"d\"], \"x\": 302.4471332751882, \"edge\": 5, \"weight\": 0.7479743671314023, \"source\": \"a\"}, {\"target\": \"d\", \"y\": 278.3630693815341, \"pair\": [\"a\", \"d\"], \"x\": 372.0497306212238, \"edge\": 5, \"weight\": 0.7479743671314023, \"source\": \"a\"}, {\"target\": \"e\", \"y\": 335.7369972488257, \"pair\": [\"a\", \"e\"], \"x\": 302.4471332751882, \"edge\": 6, \"weight\": 2.381127919483545, \"source\": \"a\"}, {\"target\": \"e\", \"y\": 335.2391857078448, \"pair\": [\"a\", \"e\"], \"x\": 254.90039310854905, \"edge\": 6, \"weight\": 2.381127919483545, \"source\": \"a\"}, {\"target\": \"g\", \"y\": 335.7369972488257, \"pair\": [\"a\", \"g\"], \"x\": 302.4471332751882, \"edge\": 7, \"weight\": 2.154771281295787, \"source\": \"a\"}, {\"target\": \"g\", \"y\": 263.66745965756775, \"pair\": [\"a\", \"g\"], \"x\": 308.2507999781633, \"edge\": 7, \"weight\": 2.154771281295787, \"source\": \"a\"}, {\"target\": \"h\", \"y\": 335.7369972488257, \"pair\": [\"a\", \"h\"], \"x\": 302.4471332751882, \"edge\": 8, \"weight\": 0.09350766110202048, \"source\": \"a\"}, {\"target\": \"h\", \"y\": 282.2657614607865, \"pair\": [\"a\", \"h\"], \"x\": 484.90512040226474, \"edge\": 8, \"weight\": 0.09350766110202048, \"source\": \"a\"}, {\"target\": \"j\", \"y\": 335.7369972488257, \"pair\": [\"a\", \"j\"], \"x\": 302.4471332751882, \"edge\": 9, \"weight\": 0.7284523302666718, \"source\": \"a\"}, {\"target\": \"j\", \"y\": 386.82603505547536, \"pair\": [\"a\", \"j\"], \"x\": 372.4254586685491, \"edge\": 9, \"weight\": 0.7284523302666718, \"source\": \"a\"}, {\"target\": \"k\", \"y\": 335.7369972488257, \"pair\": [\"a\", \"k\"], \"x\": 302.4471332751882, \"edge\": 10, \"weight\": 0.4210173579792248, \"source\": \"a\"}, {\"target\": \"k\", \"y\": 366.1002924741327, \"pair\": [\"a\", \"k\"], \"x\": 145.43995794359392, \"edge\": 10, \"weight\": 0.4210173579792248, \"source\": \"a\"}, {\"target\": \"l\", \"y\": 335.7369972488257, \"pair\": [\"a\", \"l\"], \"x\": 302.4471332751882, \"edge\": 11, \"weight\": 0.2386299670960798, \"source\": \"a\"}, {\"target\": \"l\", \"y\": 424.18747578210815, \"pair\": [\"a\", \"l\"], \"x\": 171.9113970958278, \"edge\": 11, \"weight\": 0.2386299670960798, \"source\": \"a\"}, {\"target\": \"p\", \"y\": 335.7369972488257, \"pair\": [\"a\", \"p\"], \"x\": 302.4471332751882, \"edge\": 12, \"weight\": 0.44733990950860786, \"source\": \"a\"}, {\"target\": \"p\", \"y\": 444.4250234916495, \"pair\": [\"a\", \"p\"], \"x\": 250.27479525691624, \"edge\": 12, \"weight\": 0.44733990950860786, \"source\": \"a\"}, {\"target\": \"q\", \"y\": 335.7369972488257, \"pair\": [\"a\", \"q\"], \"x\": 302.4471332751882, \"edge\": 13, \"weight\": 0.31577319007667387, \"source\": \"a\"}, {\"target\": \"q\", \"y\": 464.12830703485236, \"pair\": [\"a\", \"q\"], \"x\": 373.35484090662834, \"edge\": 13, \"weight\": 0.31577319007667387, \"source\": \"a\"}, {\"target\": \"s\", \"y\": 335.7369972488257, \"pair\": [\"a\", \"s\"], \"x\": 302.4471332751882, \"edge\": 14, \"weight\": 1.4339102902507364, \"source\": \"a\"}, {\"target\": \"s\", \"y\": 269.67139669967014, \"pair\": [\"a\", \"s\"], \"x\": 266.13149823004255, \"edge\": 14, \"weight\": 1.4339102902507364, \"source\": \"a\"}, {\"target\": \"t\", \"y\": 335.7369972488257, \"pair\": [\"a\", \"t\"], \"x\": 302.4471332751882, \"edge\": 15, \"weight\": 0.650167961109687, \"source\": \"a\"}, {\"target\": \"t\", \"y\": 430.88533310713956, \"pair\": [\"a\", \"t\"], \"x\": 311.25954975535865, \"edge\": 15, \"weight\": 0.650167961109687, \"source\": \"a\"}, {\"target\": \"v\", \"y\": 335.7369972488257, \"pair\": [\"a\", \"v\"], \"x\": 302.4471332751882, \"edge\": 16, \"weight\": 0.1042441132781697, \"source\": \"a\"}, {\"target\": \"v\", \"y\": 568.224396027022, \"pair\": [\"a\", \"v\"], \"x\": 304.25350766814984, \"edge\": 16, \"weight\": 0.1042441132781697, \"source\": \"a\"}, {\"target\": \"w\", \"y\": 335.7369972488257, \"pair\": [\"a\", \"w\"], \"x\": 302.4471332751882, \"edge\": 17, \"weight\": 0.3221282940185491, \"source\": \"a\"}, {\"target\": \"w\", \"y\": 398.3639024681762, \"pair\": [\"a\", \"w\"], \"x\": 433.783146790095, \"edge\": 17, \"weight\": 0.3221282940185491, \"source\": \"a\"}, {\"target\": \"y\", \"y\": 335.7369972488257, \"pair\": [\"a\", \"y\"], \"x\": 302.4471332751882, \"edge\": 18, \"weight\": 1.5819555806072163, \"source\": \"a\"}, {\"target\": \"y\", \"y\": 377.0828790280029, \"pair\": [\"a\", \"y\"], \"x\": 261.0673803637253, \"edge\": 18, \"weight\": 1.5819555806072163, \"source\": \"a\"}, {\"target\": \"c\", \"y\": 270.1663078944016, \"pair\": [\"b\", \"c\"], \"x\": 331.2541076703197, \"edge\": 19, \"weight\": 0.7214855755209555, \"source\": \"b\"}, {\"target\": \"c\", \"y\": 174.16643306990815, \"pair\": [\"b\", \"c\"], \"x\": 300.6328239855789, \"edge\": 19, \"weight\": 0.7214855755209555, \"source\": \"b\"}, {\"target\": \"d\", \"y\": 270.1663078944016, \"pair\": [\"b\", \"d\"], \"x\": 331.2541076703197, \"edge\": 20, \"weight\": 0.6038455777931652, \"source\": \"b\"}, {\"target\": \"d\", \"y\": 278.3630693815341, \"pair\": [\"b\", \"d\"], \"x\": 372.0497306212238, \"edge\": 20, \"weight\": 0.6038455777931652, \"source\": \"b\"}, {\"target\": \"f\", \"y\": 270.1663078944016, \"pair\": [\"b\", \"f\"], \"x\": 331.2541076703197, \"edge\": 21, \"weight\": 0.2945741005184152, \"source\": \"b\"}, {\"target\": \"f\", \"y\": 212.74697251999663, \"pair\": [\"b\", \"f\"], \"x\": 332.6995937850388, \"edge\": 21, \"weight\": 0.2945741005184152, \"source\": \"b\"}, {\"target\": \"h\", \"y\": 270.1663078944016, \"pair\": [\"b\", \"h\"], \"x\": 331.2541076703197, \"edge\": 22, \"weight\": 0.12101191984454629, \"source\": \"b\"}, {\"target\": \"h\", \"y\": 282.2657614607865, \"pair\": [\"b\", \"h\"], \"x\": 484.90512040226474, \"edge\": 22, \"weight\": 0.12101191984454629, \"source\": \"b\"}, {\"target\": \"f\", \"y\": 174.16643306990815, \"pair\": [\"c\", \"f\"], \"x\": 300.6328239855789, \"edge\": 23, \"weight\": 1.7390515657912486, \"source\": \"c\"}, {\"target\": \"f\", \"y\": 212.74697251999663, \"pair\": [\"c\", \"f\"], \"x\": 332.6995937850388, \"edge\": 23, \"weight\": 1.7390515657912486, \"source\": \"c\"}, {\"target\": \"c\", \"y\": 174.16643306990815, \"pair\": [\"c\", \"c\"], \"x\": 300.6328239855789, \"edge\": 24, \"weight\": 0.38236424738404223, \"source\": \"c\"}, {\"target\": \"c\", \"y\": 174.16643306990815, \"pair\": [\"c\", \"c\"], \"x\": 300.6328239855789, \"edge\": 24, \"weight\": 0.38236424738404223, \"source\": \"c\"}, {\"target\": \"d\", \"y\": 174.16643306990815, \"pair\": [\"c\", \"d\"], \"x\": 300.6328239855789, \"edge\": 25, \"weight\": 0.16523677374144413, \"source\": \"c\"}, {\"target\": \"d\", \"y\": 278.3630693815341, \"pair\": [\"c\", \"d\"], \"x\": 372.0497306212238, \"edge\": 25, \"weight\": 0.16523677374144413, \"source\": \"c\"}, {\"target\": \"i\", \"y\": 174.16643306990815, \"pair\": [\"c\", \"i\"], \"x\": 300.6328239855789, \"edge\": 26, \"weight\": 0.2420455577974949, \"source\": \"c\"}, {\"target\": \"i\", \"y\": 20.0, \"pair\": [\"c\", \"i\"], \"x\": 277.3059902669355, \"edge\": 26, \"weight\": 0.2420455577974949, \"source\": \"c\"}, {\"target\": \"o\", \"y\": 174.16643306990815, \"pair\": [\"c\", \"o\"], \"x\": 300.6328239855789, \"edge\": 27, \"weight\": 2.431672911983474, \"source\": \"c\"}, {\"target\": \"o\", \"y\": 128.11221392285037, \"pair\": [\"c\", \"o\"], \"x\": 288.85632374726487, \"edge\": 27, \"weight\": 2.431672911983474, \"source\": \"c\"}, {\"target\": \"r\", \"y\": 174.16643306990815, \"pair\": [\"c\", \"r\"], \"x\": 300.6328239855789, \"edge\": 28, \"weight\": 0.04407221377279017, \"source\": \"c\"}, {\"target\": \"r\", \"y\": 299.83823717630526, \"pair\": [\"c\", \"r\"], \"x\": 340.55079713983093, \"edge\": 28, \"weight\": 0.04407221377279017, \"source\": \"c\"}, {\"target\": \"s\", \"y\": 174.16643306990815, \"pair\": [\"c\", \"s\"], \"x\": 300.6328239855789, \"edge\": 29, \"weight\": 0.47152865008985506, \"source\": \"c\"}, {\"target\": \"s\", \"y\": 269.67139669967014, \"pair\": [\"c\", \"s\"], \"x\": 266.13149823004255, \"edge\": 29, \"weight\": 0.47152865008985506, \"source\": \"c\"}, {\"target\": \"u\", \"y\": 174.16643306990815, \"pair\": [\"c\", \"u\"], \"x\": 300.6328239855789, \"edge\": 30, \"weight\": 0.38267513728658287, \"source\": \"c\"}, {\"target\": \"u\", \"y\": 60.48485986249481, \"pair\": [\"c\", \"u\"], \"x\": 347.02199884306395, \"edge\": 30, \"weight\": 0.38267513728658287, \"source\": \"c\"}, {\"target\": \"x\", \"y\": 174.16643306990815, \"pair\": [\"c\", \"x\"], \"x\": 300.6328239855789, \"edge\": 31, \"weight\": 0.43700689721428215, \"source\": \"c\"}, {\"target\": \"x\", \"y\": 85.55881299860852, \"pair\": [\"c\", \"x\"], \"x\": 228.97806235313934, \"edge\": 31, \"weight\": 0.43700689721428215, \"source\": \"c\"}, {\"target\": \"g\", \"y\": 212.74697251999663, \"pair\": [\"f\", \"g\"], \"x\": 332.6995937850388, \"edge\": 32, \"weight\": 2.7084138559230357, \"source\": \"f\"}, {\"target\": \"g\", \"y\": 263.66745965756775, \"pair\": [\"f\", \"g\"], \"x\": 308.2507999781633, \"edge\": 32, \"weight\": 2.7084138559230357, \"source\": \"f\"}, {\"target\": \"r\", \"y\": 212.74697251999663, \"pair\": [\"f\", \"r\"], \"x\": 332.6995937850388, \"edge\": 33, \"weight\": 0.4919142469344901, \"source\": \"f\"}, {\"target\": \"r\", \"y\": 299.83823717630526, \"pair\": [\"f\", \"r\"], \"x\": 340.55079713983093, \"edge\": 33, \"weight\": 0.4919142469344901, \"source\": \"f\"}, {\"target\": \"z\", \"y\": 212.74697251999663, \"pair\": [\"f\", \"z\"], \"x\": 332.6995937850388, \"edge\": 34, \"weight\": 2.26278224012567, \"source\": \"f\"}, {\"target\": \"z\", \"y\": 172.6287233172454, \"pair\": [\"f\", \"z\"], \"x\": 369.352470834976, \"edge\": 34, \"weight\": 2.26278224012567, \"source\": \"f\"}, {\"target\": \"l\", \"y\": 366.1002924741327, \"pair\": [\"k\", \"l\"], \"x\": 145.43995794359392, \"edge\": 35, \"weight\": 0.1572425453010757, \"source\": \"k\"}, {\"target\": \"l\", \"y\": 424.18747578210815, \"pair\": [\"k\", \"l\"], \"x\": 171.9113970958278, \"edge\": 35, \"weight\": 0.1572425453010757, \"source\": \"k\"}, {\"target\": \"m\", \"y\": 366.1002924741327, \"pair\": [\"k\", \"m\"], \"x\": 145.43995794359392, \"edge\": 36, \"weight\": 0.6740512643178811, \"source\": \"k\"}, {\"target\": \"m\", \"y\": 383.94491899690547, \"pair\": [\"k\", \"m\"], \"x\": 56.900502801471994, \"edge\": 36, \"weight\": 0.6740512643178811, \"source\": \"k\"}], \"data-e7799511c789b2c646ff2426de794301\": [{\"x\": 302.4471332751882, \"name\": \"Rosie\", \"job\": \"Surveyor, planning and development\", \"degree_centrality\": 0.8, \"y\": 335.7369972488257, \"id\": \"a\", \"country\": \"Korea\", \"__node_size\": 1630.0, \"__node_r\": 20.18662923818635, \"__y_label\": 303.5503680106393}, {\"x\": 331.2541076703197, \"name\": \"Mary\", \"job\": \"Financial trader\", \"degree_centrality\": 0.2, \"y\": 270.1663078944016, \"id\": \"b\", \"country\": \"Jamaica\", \"__node_size\": 520.0, \"__node_r\": 11.40175425099138, \"__y_label\": 246.76455364341024}, {\"x\": 300.6328239855789, \"name\": \"Sandra\", \"job\": \"Nurse, adult\", \"degree_centrality\": 0.48, \"y\": 174.16643306990815, \"id\": \"c\", \"country\": \"Vietnam\", \"__node_size\": 1038.0, \"__node_r\": 16.109003693587013, \"__y_label\": 146.05742937632112}, {\"x\": 372.0497306212238, \"name\": \"Francis\", \"job\": \"Health and safety adviser\", \"degree_centrality\": 0.12, \"y\": 278.3630693815341, \"id\": \"d\", \"country\": \"Netherlands Antilles\", \"__node_size\": 372.0, \"__node_r\": 9.643650760992955, \"__y_label\": 256.71941862054115}, {\"x\": 254.90039310854905, \"name\": \"Stephen\", \"job\": \"Health and safety adviser\", \"degree_centrality\": 0.04, \"y\": 335.2391857078448, \"id\": \"e\", \"country\": \"Korea\", \"__node_size\": 224.0, \"__node_r\": 7.483314773547883, \"__y_label\": 315.7558709342969}, {\"x\": 332.6995937850388, \"name\": \"Denise\", \"job\": \"Private music teacher\", \"degree_centrality\": 0.2, \"y\": 212.74697251999663, \"id\": \"f\", \"country\": \"Vietnam\", \"__node_size\": 520.0, \"__node_r\": 11.40175425099138, \"__y_label\": 189.34521826900524}, {\"x\": 308.2507999781633, \"name\": \"Tony\", \"job\": \"Comptroller\", \"degree_centrality\": 0.08, \"y\": 263.66745965756775, \"id\": \"g\", \"country\": \"Vietnam\", \"__node_size\": 298.0, \"__node_r\": 8.631338250816034, \"__y_label\": 243.0361214067517}, {\"x\": 484.90512040226474, \"name\": \"Ann\", \"job\": \"Private music teacher\", \"degree_centrality\": 0.08, \"y\": 282.2657614607865, \"id\": \"h\", \"country\": \"Vietnam\", \"__node_size\": 298.0, \"__node_r\": 8.631338250816034, \"__y_label\": 261.63442320997046}, {\"x\": 277.3059902669355, \"name\": \"Ryan\", \"job\": \"Licensed conveyancer\", \"degree_centrality\": 0.04, \"y\": 20.0, \"id\": \"i\", \"country\": \"Jamaica\", \"__node_size\": 224.0, \"__node_r\": 7.483314773547883, \"__y_label\": 0.5166852264521182}, {\"x\": 372.4254586685491, \"name\": \"Charlotte\", \"job\": \"Private music teacher\", \"degree_centrality\": 0.04, \"y\": 386.82603505547536, \"id\": \"j\", \"country\": \"Korea\", \"__node_size\": 224.0, \"__node_r\": 7.483314773547883, \"__y_label\": 367.3427202819275}, {\"x\": 145.43995794359392, \"name\": \"Kimberley\", \"job\": \"Comptroller\", \"degree_centrality\": 0.12, \"y\": 366.1002924741327, \"id\": \"k\", \"country\": \"Netherlands Antilles\", \"__node_size\": 372.0, \"__node_r\": 9.643650760992955, \"__y_label\": 344.45664171313973}, {\"x\": 171.9113970958278, \"name\": \"Wendy\", \"job\": \"Nurse, adult\", \"degree_centrality\": 0.08, \"y\": 424.18747578210815, \"id\": \"l\", \"country\": \"Vietnam\", \"__node_size\": 298.0, \"__node_r\": 8.631338250816034, \"__y_label\": 403.5561375312921}, {\"x\": 56.900502801471994, \"name\": \"Gordon\", \"job\": \"Licensed conveyancer\", \"degree_centrality\": 0.04, \"y\": 383.94491899690547, \"id\": \"m\", \"country\": \"Netherlands Antilles\", \"__node_size\": 224.0, \"__node_r\": 7.483314773547883, \"__y_label\": 364.4616042233576}, {\"x\": 313.992618508104, \"name\": \"Nicholas\", \"job\": \"Licensed conveyancer\", \"degree_centrality\": 0.04, \"y\": 367.1850056164964, \"id\": \"n\", \"country\": \"Netherlands Antilles\", \"__node_size\": 224.0, \"__node_r\": 7.483314773547883, \"__y_label\": 347.70169084294855}, {\"x\": 288.85632374726487, \"name\": \"Ross\", \"job\": \"Private music teacher\", \"degree_centrality\": 0.04, \"y\": 128.11221392285037, \"id\": \"o\", \"country\": \"Jamaica\", \"__node_size\": 224.0, \"__node_r\": 7.483314773547883, \"__y_label\": 108.62889914930248}, {\"x\": 250.27479525691624, \"name\": \"Rhys\", \"job\": \"Nurse, adult\", \"degree_centrality\": 0.04, \"y\": 444.4250234916495, \"id\": \"p\", \"country\": \"Korea\", \"__node_size\": 224.0, \"__node_r\": 7.483314773547883, \"__y_label\": 424.9417087181016}, {\"x\": 373.35484090662834, \"name\": \"Lauren\", \"job\": \"Surveyor, planning and development\", \"degree_centrality\": 0.04, \"y\": 464.12830703485236, \"id\": \"q\", \"country\": \"Netherlands Antilles\", \"__node_size\": 224.0, \"__node_r\": 7.483314773547883, \"__y_label\": 444.6449922613045}, {\"x\": 340.55079713983093, \"name\": \"Ann\", \"job\": \"Surveyor, planning and development\", \"degree_centrality\": 0.12, \"y\": 299.83823717630526, \"id\": \"r\", \"country\": \"Vietnam\", \"__node_size\": 372.0, \"__node_r\": 9.643650760992955, \"__y_label\": 278.1945864153123}, {\"x\": 266.13149823004255, \"name\": \"Abbie\", \"job\": \"Minerals surveyor\", \"degree_centrality\": 0.08, \"y\": 269.67139669967014, \"id\": \"s\", \"country\": \"Vietnam\", \"__node_size\": 298.0, \"__node_r\": 8.631338250816034, \"__y_label\": 249.0400584488541}, {\"x\": 311.25954975535865, \"name\": \"Katherine\", \"job\": \"Financial trader\", \"degree_centrality\": 0.04, \"y\": 430.88533310713956, \"id\": \"t\", \"country\": \"Vietnam\", \"__node_size\": 224.0, \"__node_r\": 7.483314773547883, \"__y_label\": 411.4020183335917}, {\"x\": 347.02199884306395, \"name\": \"Glenn\", \"job\": \"Licensed conveyancer\", \"degree_centrality\": 0.04, \"y\": 60.48485986249481, \"id\": \"u\", \"country\": \"Vietnam\", \"__node_size\": 224.0, \"__node_r\": 7.483314773547883, \"__y_label\": 41.001545088946926}, {\"x\": 304.25350766814984, \"name\": \"Jason\", \"job\": \"Minerals surveyor\", \"degree_centrality\": 0.04, \"y\": 568.224396027022, \"id\": \"v\", \"country\": \"Jamaica\", \"__node_size\": 224.0, \"__node_r\": 7.483314773547883, \"__y_label\": 548.741081253474}, {\"x\": 433.783146790095, \"name\": \"Tony\", \"job\": \"Financial trader\", \"degree_centrality\": 0.04, \"y\": 398.3639024681762, \"id\": \"w\", \"country\": \"Vietnam\", \"__node_size\": 224.0, \"__node_r\": 7.483314773547883, \"__y_label\": 378.88058769462833}, {\"x\": 228.97806235313934, \"name\": \"Angela\", \"job\": \"Comptroller\", \"degree_centrality\": 0.04, \"y\": 85.55881299860852, \"id\": \"x\", \"country\": \"Vietnam\", \"__node_size\": 224.0, \"__node_r\": 7.483314773547883, \"__y_label\": 66.07549822506063}, {\"x\": 261.0673803637253, \"name\": \"Linda\", \"job\": \"Financial trader\", \"degree_centrality\": 0.04, \"y\": 377.0828790280029, \"id\": \"y\", \"country\": \"Korea\", \"__node_size\": 224.0, \"__node_r\": 7.483314773547883, \"__y_label\": 357.599564254455}, {\"x\": 369.352470834976, \"name\": \"Sian\", \"job\": \"Comptroller\", \"degree_centrality\": 0.04, \"y\": 172.6287233172454, \"id\": \"z\", \"country\": \"Korea\", \"__node_size\": 224.0, \"__node_r\": 7.483314773547883, \"__y_label\": 153.14540854369753}]}}, {\"mode\": \"vega-lite\"});\n",
       "</script>"
      ],
      "text/plain": [
       "alt.HConcatChart(...)"
      ]
     },
     "execution_count": 7,
     "metadata": {},
     "output_type": "execute_result"
    }
   ],
   "source": [
    "g1 = alph(\n",
    "    G,\n",
    "    weight_attr=\"weight\",\n",
    "    layout_fn=lambda g: nx.spring_layout(g, weight=\"weight\", k=4, iterations=5000, seed=seed),\n",
    "    node_args=dict(\n",
    "        size=alt.Size(\n",
    "            \"degree_centrality\",\n",
    "            scale=alt.Scale(domain=[0,1], range=[150, 2000]),\n",
    "            legend=None\n",
    "        ),\n",
    "        halo_offset=None,\n",
    "        fill=\"#fff\",\n",
    "        stroke=alt.Color(\"job\", scale=alt.Scale(scheme=\"category10\")),\n",
    "        strokeWidth=5,\n",
    "        tooltip_attrs=[\"name\", \"job\", \"country\"],\n",
    "        label_attr=\"name\",\n",
    "    ),\n",
    "    edge_args=dict(color=\"black\"),\n",
    "    width=600,\n",
    "    height=600,\n",
    "    padding=20,\n",
    ")\n",
    "\n",
    "g2 = alph(\n",
    "    G,\n",
    "    weight_attr=\"weight\",\n",
    "    layout_fn=lambda g: nx.spring_layout(g, weight=\"weight\", k=4, iterations=5000, seed=seed),\n",
    "    node_args=dict(\n",
    "        size=alt.Size(\n",
    "            \"degree_centrality\",\n",
    "            scale=alt.Scale(domain=[0,1], range=[150, 2000]),\n",
    "            legend=None\n",
    "        ),\n",
    "        halo_offset=None,\n",
    "        fill=alt.Color(\"degree_centrality\", scale=alt.Scale(scheme=\"greys\")),\n",
    "        stroke=alt.Color(\"job\", scale=alt.Scale(scheme=\"category10\")),\n",
    "        strokeWidth=0,\n",
    "        tooltip_attrs=[\"name\", \"job\", \"country\"],\n",
    "        label_attr=\"name\",\n",
    "    ),\n",
    "    edge_args=dict(color=\"black\"),\n",
    "    width=600,\n",
    "    height=600,\n",
    "    padding=20,\n",
    ")\n",
    "\n",
    "g1 | g2"
   ]
  }
 ],
 "metadata": {
  "kernelspec": {
   "display_name": "Python 3.8.2 ('venv': venv)",
   "language": "python",
   "name": "python3"
  },
  "language_info": {
   "codemirror_mode": {
    "name": "ipython",
    "version": 3
   },
   "file_extension": ".py",
   "mimetype": "text/x-python",
   "name": "python",
   "nbconvert_exporter": "python",
   "pygments_lexer": "ipython3",
   "version": "3.8.2"
  },
  "metadata": {
   "interpreter": {
    "hash": "f9eeaac1386f103cfc819cf6645f9259fc0b8eda53ad5c9114a115ed18ca0cb8"
   }
  },
  "orig_nbformat": 2,
  "vscode": {
   "interpreter": {
    "hash": "121ccb6ef33f050b5231fe1f8644b93952e7f3a79e0892dcb9cd03f1749809c5"
   }
  }
 },
 "nbformat": 4,
 "nbformat_minor": 2
}
