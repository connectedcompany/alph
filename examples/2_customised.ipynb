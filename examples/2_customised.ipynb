{
 "cells": [
  {
   "cell_type": "code",
   "execution_count": 1,
   "metadata": {},
   "outputs": [],
   "source": [
    "import altair as alt\n",
    "import networkx as nx\n",
    "import numpy as np\n",
    "import pandas as pd\n",
    "import sys\n",
    "\"..\" not in sys.path and sys.path.append(\"..\")\n",
    "\n",
    "from faker import Faker\n",
    "from alph import alph, layers, layout, util\n",
    "\n",
    "util.set_altair_renderer()"
   ]
  },
  {
   "cell_type": "markdown",
   "metadata": {},
   "source": [
    "Let's generate some data:\n",
    "\n",
    "- a graph made up of interaction patterns\n",
    "- some fake names\n",
    "- a centrality measure\n",
    "- a couple of categories - jobs and countries\n"
   ]
  },
  {
   "cell_type": "code",
   "execution_count": 2,
   "metadata": {},
   "outputs": [
    {
     "name": "stdout",
     "output_type": "stream",
     "text": [
      "G: 26 node(s), 32 edge(s)\n"
     ]
    }
   ],
   "source": [
    "seed = 321\n",
    "np_random = np.random.RandomState(seed)\n",
    "Faker.seed(seed)\n",
    "fake = Faker(\"en_uk\")\n",
    "\n",
    "jobs = [fake.job() for _ in range(8)]\n",
    "countries = [fake.country() for _ in range(4)]\n",
    "\n",
    "G = util.generate_interaction_graph(\n",
    "    nodes=list(\"abcdefghijklmnopqrstuvwxyz\"), mean_time_between_interactions=1, seed=seed\n",
    ")\n",
    "\n",
    "nx.set_node_attributes(G, {\n",
    "    n: {\n",
    "        \"id\": n,\n",
    "        \"name\": fake.first_name(),\n",
    "        \"job\": np_random.choice(jobs),\n",
    "        \"country\": np_random.choice(countries, p=[0.4, 0.3, 0.2, 0.1]),\n",
    "    } for n in G.nodes()\n",
    "})\n",
    "nx.set_node_attributes(G, nx.degree_centrality(G), \"degree_centrality\")\n",
    "\n",
    "print(f\"G: {len(G.nodes)} node(s), {len(G.edges)} edge(s)\")"
   ]
  },
  {
   "cell_type": "markdown",
   "metadata": {},
   "source": [
    "Simple customisation - custom layout and styling"
   ]
  },
  {
   "cell_type": "code",
   "execution_count": 6,
   "metadata": {},
   "outputs": [
    {
     "data": {
      "application/vnd.vegalite.v4+json": {
       "$schema": "https://vega.github.io/schema/vega-lite/v4.17.0.json",
       "config": {
        "view": {
         "continuousHeight": 300,
         "continuousWidth": 400,
         "strokeWidth": 0
        }
       },
       "datasets": {
        "data-c5d621ff9a2593f3eae34402082d2712": [
         {
          "edge": 0,
          "pair": [
           "a",
           "b"
          ],
          "source": "a",
          "target": "b",
          "weight": 2.1711002791746328,
          "x": 424.3170797711625,
          "y": 221.89023883553944
         },
         {
          "edge": 0,
          "pair": [
           "a",
           "b"
          ],
          "source": "a",
          "target": "b",
          "weight": 2.1711002791746328,
          "x": 437.86863074023387,
          "y": 277.3146868723641
         },
         {
          "edge": 1,
          "pair": [
           "a",
           "c"
          ],
          "source": "a",
          "target": "c",
          "weight": 0.08111500432061784,
          "x": 424.3170797711625,
          "y": 221.89023883553944
         },
         {
          "edge": 1,
          "pair": [
           "a",
           "c"
          ],
          "source": "a",
          "target": "c",
          "weight": 0.08111500432061784,
          "x": 636.726049204516,
          "y": 363.997045282286
         },
         {
          "edge": 2,
          "pair": [
           "a",
           "k"
          ],
          "source": "a",
          "target": "k",
          "weight": 3.894485555057686,
          "x": 424.3170797711625,
          "y": 221.89023883553944
         },
         {
          "edge": 2,
          "pair": [
           "a",
           "k"
          ],
          "source": "a",
          "target": "k",
          "weight": 3.894485555057686,
          "x": 379.6582297868632,
          "y": 219.42433260760984
         },
         {
          "edge": 3,
          "pair": [
           "a",
           "d"
          ],
          "source": "a",
          "target": "d",
          "weight": 0.28458215954322813,
          "x": 424.3170797711625,
          "y": 221.89023883553944
         },
         {
          "edge": 3,
          "pair": [
           "a",
           "d"
          ],
          "source": "a",
          "target": "d",
          "weight": 0.28458215954322813,
          "x": 434.46923278480335,
          "y": 127.179639455076
         },
         {
          "edge": 4,
          "pair": [
           "a",
           "v"
          ],
          "source": "a",
          "target": "v",
          "weight": 1.3979003207738256,
          "x": 424.3170797711625,
          "y": 221.89023883553944
         },
         {
          "edge": 4,
          "pair": [
           "a",
           "v"
          ],
          "source": "a",
          "target": "v",
          "weight": 1.3979003207738256,
          "x": 400.18858491919127,
          "y": 170.28415179051328
         },
         {
          "edge": 5,
          "pair": [
           "b",
           "c"
          ],
          "source": "b",
          "target": "c",
          "weight": 0.7479743671314023,
          "x": 437.86863074023387,
          "y": 277.3146868723641
         },
         {
          "edge": 5,
          "pair": [
           "b",
           "c"
          ],
          "source": "b",
          "target": "c",
          "weight": 0.7479743671314023,
          "x": 636.726049204516,
          "y": 363.997045282286
         },
         {
          "edge": 6,
          "pair": [
           "b",
           "b"
          ],
          "source": "b",
          "target": "b",
          "weight": 2.381127919483545,
          "x": 437.86863074023387,
          "y": 277.3146868723641
         },
         {
          "edge": 6,
          "pair": [
           "b",
           "b"
          ],
          "source": "b",
          "target": "b",
          "weight": 2.381127919483545,
          "x": 437.86863074023387,
          "y": 277.3146868723641
         },
         {
          "edge": 7,
          "pair": [
           "b",
           "g"
          ],
          "source": "b",
          "target": "g",
          "weight": 2.154771281295787,
          "x": 437.86863074023387,
          "y": 277.3146868723641
         },
         {
          "edge": 7,
          "pair": [
           "b",
           "g"
          ],
          "source": "b",
          "target": "g",
          "weight": 2.154771281295787,
          "x": 393.35590188183147,
          "y": 300.4899151278726
         },
         {
          "edge": 8,
          "pair": [
           "b",
           "d"
          ],
          "source": "b",
          "target": "d",
          "weight": 0.09350766110202048,
          "x": 437.86863074023387,
          "y": 277.3146868723641
         },
         {
          "edge": 8,
          "pair": [
           "b",
           "d"
          ],
          "source": "b",
          "target": "d",
          "weight": 0.09350766110202048,
          "x": 434.46923278480335,
          "y": 127.179639455076
         },
         {
          "edge": 9,
          "pair": [
           "b",
           "e"
          ],
          "source": "b",
          "target": "e",
          "weight": 0.7284523302666718,
          "x": 437.86863074023387,
          "y": 277.3146868723641
         },
         {
          "edge": 9,
          "pair": [
           "b",
           "e"
          ],
          "source": "b",
          "target": "e",
          "weight": 0.7284523302666718,
          "x": 287.40855315683893,
          "y": 239.79178031588438
         },
         {
          "edge": 10,
          "pair": [
           "b",
           "h"
          ],
          "source": "b",
          "target": "h",
          "weight": 0.4210173579792248,
          "x": 437.86863074023387,
          "y": 277.3146868723641
         },
         {
          "edge": 10,
          "pair": [
           "b",
           "h"
          ],
          "source": "b",
          "target": "h",
          "weight": 0.4210173579792248,
          "x": 568.3311448793881,
          "y": 218.71752842520021
         },
         {
          "edge": 11,
          "pair": [
           "b",
           "i"
          ],
          "source": "b",
          "target": "i",
          "weight": 0.2386299670960798,
          "x": 437.86863074023387,
          "y": 277.3146868723641
         },
         {
          "edge": 11,
          "pair": [
           "b",
           "i"
          ],
          "source": "b",
          "target": "i",
          "weight": 0.2386299670960798,
          "x": 226.54657667478202,
          "y": 319.6163869090704
         },
         {
          "edge": 12,
          "pair": [
           "b",
           "k"
          ],
          "source": "b",
          "target": "k",
          "weight": 0.44733990950860786,
          "x": 437.86863074023387,
          "y": 277.3146868723641
         },
         {
          "edge": 12,
          "pair": [
           "b",
           "k"
          ],
          "source": "b",
          "target": "k",
          "weight": 0.44733990950860786,
          "x": 379.6582297868632,
          "y": 219.42433260760984
         },
         {
          "edge": 13,
          "pair": [
           "b",
           "n"
          ],
          "source": "b",
          "target": "n",
          "weight": 0.31577319007667387,
          "x": 437.86863074023387,
          "y": 277.3146868723641
         },
         {
          "edge": 13,
          "pair": [
           "b",
           "n"
          ],
          "source": "b",
          "target": "n",
          "weight": 0.31577319007667387,
          "x": 307.4182893269071,
          "y": 366.2024700820846
         },
         {
          "edge": 14,
          "pair": [
           "b",
           "o"
          ],
          "source": "b",
          "target": "o",
          "weight": 1.4339102902507364,
          "x": 437.86863074023387,
          "y": 277.3146868723641
         },
         {
          "edge": 14,
          "pair": [
           "b",
           "o"
          ],
          "source": "b",
          "target": "o",
          "weight": 1.4339102902507364,
          "x": 358.22196132008776,
          "y": 274.17491807898466
         },
         {
          "edge": 15,
          "pair": [
           "b",
           "p"
          ],
          "source": "b",
          "target": "p",
          "weight": 0.650167961109687,
          "x": 437.86863074023387,
          "y": 277.3146868723641
         },
         {
          "edge": 15,
          "pair": [
           "b",
           "p"
          ],
          "source": "b",
          "target": "p",
          "weight": 0.650167961109687,
          "x": 532.6678615826585,
          "y": 320.84751003588127
         },
         {
          "edge": 16,
          "pair": [
           "b",
           "r"
          ],
          "source": "b",
          "target": "r",
          "weight": 0.1042441132781697,
          "x": 437.86863074023387,
          "y": 277.3146868723641
         },
         {
          "edge": 16,
          "pair": [
           "b",
           "r"
          ],
          "source": "b",
          "target": "r",
          "weight": 0.1042441132781697,
          "x": 231.9919208859217,
          "y": 129.68517687603511
         },
         {
          "edge": 17,
          "pair": [
           "b",
           "u"
          ],
          "source": "b",
          "target": "u",
          "weight": 0.3221282940185491,
          "x": 437.86863074023387,
          "y": 277.3146868723641
         },
         {
          "edge": 17,
          "pair": [
           "b",
           "u"
          ],
          "source": "b",
          "target": "u",
          "weight": 0.3221282940185491,
          "x": 528.60804044027,
          "y": 175.92250129651913
         },
         {
          "edge": 18,
          "pair": [
           "b",
           "x"
          ],
          "source": "b",
          "target": "x",
          "weight": 1.5819555806072163,
          "x": 437.86863074023387,
          "y": 277.3146868723641
         },
         {
          "edge": 18,
          "pair": [
           "b",
           "x"
          ],
          "source": "b",
          "target": "x",
          "weight": 1.5819555806072163,
          "x": 457.10893378182107,
          "y": 314.77029143717664
         },
         {
          "edge": 19,
          "pair": [
           "b",
           "y"
          ],
          "source": "b",
          "target": "y",
          "weight": 0.7214855755209555,
          "x": 437.86863074023387,
          "y": 277.3146868723641
         },
         {
          "edge": 19,
          "pair": [
           "b",
           "y"
          ],
          "source": "b",
          "target": "y",
          "weight": 0.7214855755209555,
          "x": 392.2109872201377,
          "y": 346.8031543727445
         },
         {
          "edge": 20,
          "pair": [
           "b",
           "z"
          ],
          "source": "b",
          "target": "z",
          "weight": 0.6038455777931652,
          "x": 437.86863074023387,
          "y": 277.3146868723641
         },
         {
          "edge": 20,
          "pair": [
           "b",
           "z"
          ],
          "source": "b",
          "target": "z",
          "weight": 0.6038455777931652,
          "x": 541.4885080393504,
          "y": 257.6299065908347
         },
         {
          "edge": 21,
          "pair": [
           "c",
           "l"
          ],
          "source": "c",
          "target": "l",
          "weight": 0.2945741005184152,
          "x": 636.726049204516,
          "y": 363.997045282286
         },
         {
          "edge": 21,
          "pair": [
           "c",
           "l"
          ],
          "source": "c",
          "target": "l",
          "weight": 0.2945741005184152,
          "x": 645.0638858461592,
          "y": 474.1145829449592
         },
         {
          "edge": 22,
          "pair": [
           "c",
           "c"
          ],
          "source": "c",
          "target": "c",
          "weight": 0.12101191984454629,
          "x": 636.726049204516,
          "y": 363.997045282286
         },
         {
          "edge": 22,
          "pair": [
           "c",
           "c"
          ],
          "source": "c",
          "target": "c",
          "weight": 0.12101191984454629,
          "x": 636.726049204516,
          "y": 363.997045282286
         },
         {
          "edge": 23,
          "pair": [
           "c",
           "j"
          ],
          "source": "c",
          "target": "j",
          "weight": 1.7390515657912486,
          "x": 636.726049204516,
          "y": 363.997045282286
         },
         {
          "edge": 23,
          "pair": [
           "c",
           "j"
          ],
          "source": "c",
          "target": "j",
          "weight": 1.7390515657912486,
          "x": 703.6931531564669,
          "y": 362.2689809171561
         },
         {
          "edge": 24,
          "pair": [
           "c",
           "m"
          ],
          "source": "c",
          "target": "m",
          "weight": 0.38236424738404223,
          "x": 636.726049204516,
          "y": 363.997045282286
         },
         {
          "edge": 24,
          "pair": [
           "c",
           "m"
          ],
          "source": "c",
          "target": "m",
          "weight": 0.38236424738404223,
          "x": 801.6456162118717,
          "y": 346.8621835355639
         },
         {
          "edge": 25,
          "pair": [
           "c",
           "p"
          ],
          "source": "c",
          "target": "p",
          "weight": 0.16523677374144413,
          "x": 636.726049204516,
          "y": 363.997045282286
         },
         {
          "edge": 25,
          "pair": [
           "c",
           "p"
          ],
          "source": "c",
          "target": "p",
          "weight": 0.16523677374144413,
          "x": 532.6678615826585,
          "y": 320.84751003588127
         },
         {
          "edge": 26,
          "pair": [
           "c",
           "q"
          ],
          "source": "c",
          "target": "q",
          "weight": 0.2420455577974949,
          "x": 636.726049204516,
          "y": 363.997045282286
         },
         {
          "edge": 26,
          "pair": [
           "c",
           "q"
          ],
          "source": "c",
          "target": "q",
          "weight": 0.2420455577974949,
          "x": 758.8974947289965,
          "y": 465.78385259334533
         },
         {
          "edge": 27,
          "pair": [
           "c",
           "s"
          ],
          "source": "c",
          "target": "s",
          "weight": 2.431672911983474,
          "x": 636.726049204516,
          "y": 363.997045282286
         },
         {
          "edge": 27,
          "pair": [
           "c",
           "s"
          ],
          "source": "c",
          "target": "s",
          "weight": 2.431672911983474,
          "x": 650.5962362542085,
          "y": 398.39347116422874
         },
         {
          "edge": 28,
          "pair": [
           "c",
           "t"
          ],
          "source": "c",
          "target": "t",
          "weight": 0.04407221377279017,
          "x": 636.726049204516,
          "y": 363.997045282286
         },
         {
          "edge": 28,
          "pair": [
           "c",
           "t"
          ],
          "source": "c",
          "target": "t",
          "weight": 0.04407221377279017,
          "x": 1000,
          "y": 486.68568471977926
         },
         {
          "edge": 29,
          "pair": [
           "c",
           "w"
          ],
          "source": "c",
          "target": "w",
          "weight": 0.47152865008985506,
          "x": 636.726049204516,
          "y": 363.997045282286
         },
         {
          "edge": 29,
          "pair": [
           "c",
           "w"
          ],
          "source": "c",
          "target": "w",
          "weight": 0.47152865008985506,
          "x": 765.4336142373475,
          "y": 404.72183789524667
         },
         {
          "edge": 30,
          "pair": [
           "e",
           "k"
          ],
          "source": "e",
          "target": "k",
          "weight": 0.38267513728658287,
          "x": 287.40855315683893,
          "y": 239.79178031588438
         },
         {
          "edge": 30,
          "pair": [
           "e",
           "k"
          ],
          "source": "e",
          "target": "k",
          "weight": 0.38267513728658287,
          "x": 379.6582297868632,
          "y": 219.42433260760984
         },
         {
          "edge": 31,
          "pair": [
           "e",
           "f"
          ],
          "source": "e",
          "target": "f",
          "weight": 0.43700689721428215,
          "x": 287.40855315683893,
          "y": 239.79178031588438
         },
         {
          "edge": 31,
          "pair": [
           "e",
           "f"
          ],
          "source": "e",
          "target": "f",
          "weight": 0.43700689721428215,
          "x": 136.08351316818468,
          "y": 216.42777183804407
         }
        ],
        "data-cb5c9d53cb0223a3c21f3ba6d2ce2127": [
         {
          "__node_r": 11.40175425099138,
          "__node_size": 520,
          "__y_label": 198.48848458454805,
          "country": "Korea",
          "degree_centrality": 0.2,
          "id": "a",
          "job": "Surveyor, planning and development",
          "name": "Rosie",
          "x": 424.3170797711625,
          "y": 221.89023883553944
         },
         {
          "__node_r": 19.248376554920156,
          "__node_size": 1482,
          "__y_label": 246.06631031744394,
          "country": "Jamaica",
          "degree_centrality": 0.72,
          "id": "b",
          "job": "Financial trader",
          "name": "Mary",
          "x": 437.86863074023387,
          "y": 277.3146868723641
         },
         {
          "__node_r": 16.109003693587013,
          "__node_size": 1038,
          "__y_label": 335.888041588699,
          "country": "Vietnam",
          "degree_centrality": 0.48,
          "id": "c",
          "job": "Nurse, adult",
          "name": "Sandra",
          "x": 636.726049204516,
          "y": 363.997045282286
         },
         {
          "__node_r": 8.631338250816034,
          "__node_size": 298,
          "__y_label": 106.54830120425997,
          "country": "Netherlands Antilles",
          "degree_centrality": 0.08,
          "id": "d",
          "job": "Health and safety adviser",
          "name": "Francis",
          "x": 434.46923278480335,
          "y": 127.179639455076
         },
         {
          "__node_r": 9.643650760992955,
          "__node_size": 372,
          "__y_label": 218.14812955489143,
          "country": "Korea",
          "degree_centrality": 0.12,
          "id": "e",
          "job": "Health and safety adviser",
          "name": "Stephen",
          "x": 287.40855315683893,
          "y": 239.79178031588438
         },
         {
          "__node_r": 7.483314773547883,
          "__node_size": 224,
          "__y_label": 196.9444570644962,
          "country": "Vietnam",
          "degree_centrality": 0.04,
          "id": "f",
          "job": "Private music teacher",
          "name": "Denise",
          "x": 136.08351316818468,
          "y": 216.42777183804407
         },
         {
          "__node_r": 7.483314773547883,
          "__node_size": 224,
          "__y_label": 281.00660035432475,
          "country": "Vietnam",
          "degree_centrality": 0.04,
          "id": "g",
          "job": "Comptroller",
          "name": "Tony",
          "x": 393.35590188183147,
          "y": 300.4899151278726
         },
         {
          "__node_r": 7.483314773547883,
          "__node_size": 224,
          "__y_label": 199.23421365165234,
          "country": "Vietnam",
          "degree_centrality": 0.04,
          "id": "h",
          "job": "Private music teacher",
          "name": "Ann",
          "x": 568.3311448793881,
          "y": 218.71752842520021
         },
         {
          "__node_r": 7.483314773547883,
          "__node_size": 224,
          "__y_label": 300.1330721355225,
          "country": "Jamaica",
          "degree_centrality": 0.04,
          "id": "i",
          "job": "Licensed conveyancer",
          "name": "Ryan",
          "x": 226.54657667478202,
          "y": 319.6163869090704
         },
         {
          "__node_r": 7.483314773547883,
          "__node_size": 224,
          "__y_label": 342.78566614360824,
          "country": "Korea",
          "degree_centrality": 0.04,
          "id": "j",
          "job": "Private music teacher",
          "name": "Charlotte",
          "x": 703.6931531564669,
          "y": 362.2689809171561
         },
         {
          "__node_r": 9.643650760992955,
          "__node_size": 372,
          "__y_label": 197.7806818466169,
          "country": "Netherlands Antilles",
          "degree_centrality": 0.12,
          "id": "k",
          "job": "Comptroller",
          "name": "Kimberley",
          "x": 379.6582297868632,
          "y": 219.42433260760984
         },
         {
          "__node_r": 7.483314773547883,
          "__node_size": 224,
          "__y_label": 454.6312681714113,
          "country": "Vietnam",
          "degree_centrality": 0.04,
          "id": "l",
          "job": "Nurse, adult",
          "name": "Wendy",
          "x": 645.0638858461592,
          "y": 474.1145829449592
         },
         {
          "__node_r": 7.483314773547883,
          "__node_size": 224,
          "__y_label": 327.378868762016,
          "country": "Netherlands Antilles",
          "degree_centrality": 0.04,
          "id": "m",
          "job": "Licensed conveyancer",
          "name": "Gordon",
          "x": 801.6456162118717,
          "y": 346.8621835355639
         },
         {
          "__node_r": 7.483314773547883,
          "__node_size": 224,
          "__y_label": 346.7191553085367,
          "country": "Netherlands Antilles",
          "degree_centrality": 0.04,
          "id": "n",
          "job": "Licensed conveyancer",
          "name": "Nicholas",
          "x": 307.4182893269071,
          "y": 366.2024700820846
         },
         {
          "__node_r": 7.483314773547883,
          "__node_size": 224,
          "__y_label": 254.6916033054368,
          "country": "Jamaica",
          "degree_centrality": 0.04,
          "id": "o",
          "job": "Private music teacher",
          "name": "Ross",
          "x": 358.22196132008776,
          "y": 274.17491807898466
         },
         {
          "__node_r": 8.631338250816034,
          "__node_size": 298,
          "__y_label": 300.2161717850652,
          "country": "Korea",
          "degree_centrality": 0.08,
          "id": "p",
          "job": "Nurse, adult",
          "name": "Rhys",
          "x": 532.6678615826585,
          "y": 320.84751003588127
         },
         {
          "__node_r": 7.483314773547883,
          "__node_size": 224,
          "__y_label": 446.30053781979746,
          "country": "Netherlands Antilles",
          "degree_centrality": 0.04,
          "id": "q",
          "job": "Surveyor, planning and development",
          "name": "Lauren",
          "x": 758.8974947289965,
          "y": 465.78385259334533
         },
         {
          "__node_r": 7.483314773547883,
          "__node_size": 224,
          "__y_label": 110.20186210248723,
          "country": "Vietnam",
          "degree_centrality": 0.04,
          "id": "r",
          "job": "Surveyor, planning and development",
          "name": "Ann",
          "x": 231.9919208859217,
          "y": 129.68517687603511
         },
         {
          "__node_r": 7.483314773547883,
          "__node_size": 224,
          "__y_label": 378.91015639068087,
          "country": "Vietnam",
          "degree_centrality": 0.04,
          "id": "s",
          "job": "Minerals surveyor",
          "name": "Abbie",
          "x": 650.5962362542085,
          "y": 398.39347116422874
         },
         {
          "__node_r": 7.483314773547883,
          "__node_size": 224,
          "__y_label": 467.2023699462314,
          "country": "Vietnam",
          "degree_centrality": 0.04,
          "id": "t",
          "job": "Financial trader",
          "name": "Katherine",
          "x": 1000,
          "y": 486.68568471977926
         },
         {
          "__node_r": 7.483314773547883,
          "__node_size": 224,
          "__y_label": 156.43918652297126,
          "country": "Vietnam",
          "degree_centrality": 0.04,
          "id": "u",
          "job": "Licensed conveyancer",
          "name": "Glenn",
          "x": 528.60804044027,
          "y": 175.92250129651913
         },
         {
          "__node_r": 7.483314773547883,
          "__node_size": 224,
          "__y_label": 150.8008370169654,
          "country": "Jamaica",
          "degree_centrality": 0.04,
          "id": "v",
          "job": "Minerals surveyor",
          "name": "Jason",
          "x": 400.18858491919127,
          "y": 170.28415179051328
         },
         {
          "__node_r": 7.483314773547883,
          "__node_size": 224,
          "__y_label": 385.2385231216988,
          "country": "Vietnam",
          "degree_centrality": 0.04,
          "id": "w",
          "job": "Financial trader",
          "name": "Tony",
          "x": 765.4336142373475,
          "y": 404.72183789524667
         },
         {
          "__node_r": 7.483314773547883,
          "__node_size": 224,
          "__y_label": 295.28697666362876,
          "country": "Vietnam",
          "degree_centrality": 0.04,
          "id": "x",
          "job": "Comptroller",
          "name": "Angela",
          "x": 457.10893378182107,
          "y": 314.77029143717664
         },
         {
          "__node_r": 7.483314773547883,
          "__node_size": 224,
          "__y_label": 327.3198395991966,
          "country": "Korea",
          "degree_centrality": 0.04,
          "id": "y",
          "job": "Financial trader",
          "name": "Linda",
          "x": 392.2109872201377,
          "y": 346.8031543727445
         },
         {
          "__node_r": 7.483314773547883,
          "__node_size": 224,
          "__y_label": 238.14659181728683,
          "country": "Korea",
          "degree_centrality": 0.04,
          "id": "z",
          "job": "Comptroller",
          "name": "Sian",
          "x": 541.4885080393504,
          "y": 257.6299065908347
         }
        ]
       },
       "height": 600,
       "layer": [
        {
         "data": {
          "name": "data-c5d621ff9a2593f3eae34402082d2712"
         },
         "encoding": {
          "color": {
           "value": "black"
          },
          "detail": {
           "field": "edge",
           "type": "quantitative"
          },
          "opacity": {
           "field": "weight",
           "legend": null,
           "scale": {
            "range": [
             0.3,
             1
            ]
           },
           "type": "quantitative"
          },
          "strokeWidth": {
           "field": "weight",
           "legend": null,
           "scale": {
            "range": [
             0.1,
             5
            ]
           },
           "type": "quantitative"
          },
          "x": {
           "axis": {
            "domain": false,
            "grid": false,
            "labels": false,
            "ticks": false,
            "title": ""
           },
           "field": "x",
           "type": "quantitative"
          },
          "y": {
           "axis": {
            "domain": false,
            "grid": false,
            "labels": false,
            "ticks": false,
            "title": ""
           },
           "field": "y",
           "type": "quantitative"
          }
         },
         "mark": "line"
        },
        {
         "data": {
          "name": "data-cb5c9d53cb0223a3c21f3ba6d2ce2127"
         },
         "layer": [
          {
           "encoding": {
            "fill": {
             "value": "#ccc"
            },
            "opacity": {
             "value": 1
            },
            "size": {
             "field": "degree_centrality",
             "legend": null,
             "scale": {
              "domain": [
               0,
               1
              ],
              "range": [
               150,
               2000
              ]
             },
             "type": "quantitative"
            },
            "stroke": {
             "value": "navy"
            },
            "strokeWidth": {
             "value": 5
            },
            "tooltip": [
             {
              "field": "name",
              "type": "nominal"
             }
            ],
            "x": {
             "axis": {
              "domain": false,
              "grid": false,
              "labels": false,
              "ticks": false,
              "title": ""
             },
             "field": "x",
             "type": "quantitative"
            },
            "y": {
             "axis": {
              "domain": false,
              "grid": false,
              "labels": false,
              "ticks": false,
              "title": ""
             },
             "field": "y",
             "type": "quantitative"
            }
           },
           "mark": "circle"
          },
          {
           "encoding": {
            "text": {
             "field": "name",
             "type": "nominal"
            },
            "x": {
             "axis": {
              "domain": false,
              "grid": false,
              "labels": false,
              "ticks": false,
              "title": ""
             },
             "field": "x",
             "type": "quantitative"
            },
            "y": {
             "axis": {
              "domain": false,
              "grid": false,
              "labels": false,
              "ticks": false,
              "title": ""
             },
             "field": "__y_label",
             "type": "quantitative"
            }
           },
           "mark": {
            "align": "center",
            "baseline": "middle",
            "color": "black",
            "size": 10,
            "type": "text"
           }
          }
         ]
        }
       ],
       "resolve": {
        "scale": {
         "color": "independent",
         "fill": "independent",
         "opacity": "independent",
         "size": "independent",
         "strokeWidth": "independent"
        }
       },
       "width": 1000
      },
      "image/png": "[encoded data removed]",
      "text/plain": [
       "<VegaLite 4 object>\n",
       "\n",
       "If you see this message, it means the renderer has not been properly enabled\n",
       "for the frontend that you are using. For more information, see\n",
       "https://altair-viz.github.io/user_guide/troubleshooting.html\n"
      ]
     },
     "execution_count": 6,
     "metadata": {},
     "output_type": "execute_result"
    }
   ],
   "source": [
    "alph(\n",
    "    G,\n",
    "    weight_attr=\"weight\",\n",
    "    layout_fn=lambda g: nx.spring_layout(g, weight=\"weight\", k=3, iterations=5000, seed=seed),\n",
    "    node_args=dict(\n",
    "        size=alt.Size(\"degree_centrality\", scale=alt.Scale(domain=[0,1], range=[150, 2000]), legend=None),\n",
    "        fill=\"#ccc\",\n",
    "        stroke=\"navy\",\n",
    "        strokeWidth=5,\n",
    "        tooltip_attrs=[\"name\"],\n",
    "        label_attr=\"name\",\n",
    "    ),\n",
    "    edge_args=dict(color=\"black\"),\n",
    "    width=1000, height=600,\n",
    ").configure_view(strokeWidth=0)"
   ]
  },
  {
   "cell_type": "markdown",
   "metadata": {},
   "source": [
    "Simple customisation - conditionally highlight nodes and edges"
   ]
  },
  {
   "cell_type": "code",
   "execution_count": 4,
   "metadata": {},
   "outputs": [
    {
     "data": {
      "application/vnd.vegalite.v4+json": {
       "$schema": "https://vega.github.io/schema/vega-lite/v4.17.0.json",
       "config": {
        "view": {
         "continuousHeight": 300,
         "continuousWidth": 400,
         "strokeWidth": 0
        }
       },
       "datasets": {
        "data-c5d621ff9a2593f3eae34402082d2712": [
         {
          "edge": 0,
          "pair": [
           "a",
           "b"
          ],
          "source": "a",
          "target": "b",
          "weight": 2.1711002791746328,
          "x": 424.3170797711625,
          "y": 221.89023883553944
         },
         {
          "edge": 0,
          "pair": [
           "a",
           "b"
          ],
          "source": "a",
          "target": "b",
          "weight": 2.1711002791746328,
          "x": 437.86863074023387,
          "y": 277.3146868723641
         },
         {
          "edge": 1,
          "pair": [
           "a",
           "c"
          ],
          "source": "a",
          "target": "c",
          "weight": 0.08111500432061784,
          "x": 424.3170797711625,
          "y": 221.89023883553944
         },
         {
          "edge": 1,
          "pair": [
           "a",
           "c"
          ],
          "source": "a",
          "target": "c",
          "weight": 0.08111500432061784,
          "x": 636.726049204516,
          "y": 363.997045282286
         },
         {
          "edge": 2,
          "pair": [
           "a",
           "k"
          ],
          "source": "a",
          "target": "k",
          "weight": 3.894485555057686,
          "x": 424.3170797711625,
          "y": 221.89023883553944
         },
         {
          "edge": 2,
          "pair": [
           "a",
           "k"
          ],
          "source": "a",
          "target": "k",
          "weight": 3.894485555057686,
          "x": 379.6582297868632,
          "y": 219.42433260760984
         },
         {
          "edge": 3,
          "pair": [
           "a",
           "d"
          ],
          "source": "a",
          "target": "d",
          "weight": 0.28458215954322813,
          "x": 424.3170797711625,
          "y": 221.89023883553944
         },
         {
          "edge": 3,
          "pair": [
           "a",
           "d"
          ],
          "source": "a",
          "target": "d",
          "weight": 0.28458215954322813,
          "x": 434.46923278480335,
          "y": 127.179639455076
         },
         {
          "edge": 4,
          "pair": [
           "a",
           "v"
          ],
          "source": "a",
          "target": "v",
          "weight": 1.3979003207738256,
          "x": 424.3170797711625,
          "y": 221.89023883553944
         },
         {
          "edge": 4,
          "pair": [
           "a",
           "v"
          ],
          "source": "a",
          "target": "v",
          "weight": 1.3979003207738256,
          "x": 400.18858491919127,
          "y": 170.28415179051328
         },
         {
          "edge": 5,
          "pair": [
           "b",
           "c"
          ],
          "source": "b",
          "target": "c",
          "weight": 0.7479743671314023,
          "x": 437.86863074023387,
          "y": 277.3146868723641
         },
         {
          "edge": 5,
          "pair": [
           "b",
           "c"
          ],
          "source": "b",
          "target": "c",
          "weight": 0.7479743671314023,
          "x": 636.726049204516,
          "y": 363.997045282286
         },
         {
          "edge": 6,
          "pair": [
           "b",
           "b"
          ],
          "source": "b",
          "target": "b",
          "weight": 2.381127919483545,
          "x": 437.86863074023387,
          "y": 277.3146868723641
         },
         {
          "edge": 6,
          "pair": [
           "b",
           "b"
          ],
          "source": "b",
          "target": "b",
          "weight": 2.381127919483545,
          "x": 437.86863074023387,
          "y": 277.3146868723641
         },
         {
          "edge": 7,
          "pair": [
           "b",
           "g"
          ],
          "source": "b",
          "target": "g",
          "weight": 2.154771281295787,
          "x": 437.86863074023387,
          "y": 277.3146868723641
         },
         {
          "edge": 7,
          "pair": [
           "b",
           "g"
          ],
          "source": "b",
          "target": "g",
          "weight": 2.154771281295787,
          "x": 393.35590188183147,
          "y": 300.4899151278726
         },
         {
          "edge": 8,
          "pair": [
           "b",
           "d"
          ],
          "source": "b",
          "target": "d",
          "weight": 0.09350766110202048,
          "x": 437.86863074023387,
          "y": 277.3146868723641
         },
         {
          "edge": 8,
          "pair": [
           "b",
           "d"
          ],
          "source": "b",
          "target": "d",
          "weight": 0.09350766110202048,
          "x": 434.46923278480335,
          "y": 127.179639455076
         },
         {
          "edge": 9,
          "pair": [
           "b",
           "e"
          ],
          "source": "b",
          "target": "e",
          "weight": 0.7284523302666718,
          "x": 437.86863074023387,
          "y": 277.3146868723641
         },
         {
          "edge": 9,
          "pair": [
           "b",
           "e"
          ],
          "source": "b",
          "target": "e",
          "weight": 0.7284523302666718,
          "x": 287.40855315683893,
          "y": 239.79178031588438
         },
         {
          "edge": 10,
          "pair": [
           "b",
           "h"
          ],
          "source": "b",
          "target": "h",
          "weight": 0.4210173579792248,
          "x": 437.86863074023387,
          "y": 277.3146868723641
         },
         {
          "edge": 10,
          "pair": [
           "b",
           "h"
          ],
          "source": "b",
          "target": "h",
          "weight": 0.4210173579792248,
          "x": 568.3311448793881,
          "y": 218.71752842520021
         },
         {
          "edge": 11,
          "pair": [
           "b",
           "i"
          ],
          "source": "b",
          "target": "i",
          "weight": 0.2386299670960798,
          "x": 437.86863074023387,
          "y": 277.3146868723641
         },
         {
          "edge": 11,
          "pair": [
           "b",
           "i"
          ],
          "source": "b",
          "target": "i",
          "weight": 0.2386299670960798,
          "x": 226.54657667478202,
          "y": 319.6163869090704
         },
         {
          "edge": 12,
          "pair": [
           "b",
           "k"
          ],
          "source": "b",
          "target": "k",
          "weight": 0.44733990950860786,
          "x": 437.86863074023387,
          "y": 277.3146868723641
         },
         {
          "edge": 12,
          "pair": [
           "b",
           "k"
          ],
          "source": "b",
          "target": "k",
          "weight": 0.44733990950860786,
          "x": 379.6582297868632,
          "y": 219.42433260760984
         },
         {
          "edge": 13,
          "pair": [
           "b",
           "n"
          ],
          "source": "b",
          "target": "n",
          "weight": 0.31577319007667387,
          "x": 437.86863074023387,
          "y": 277.3146868723641
         },
         {
          "edge": 13,
          "pair": [
           "b",
           "n"
          ],
          "source": "b",
          "target": "n",
          "weight": 0.31577319007667387,
          "x": 307.4182893269071,
          "y": 366.2024700820846
         },
         {
          "edge": 14,
          "pair": [
           "b",
           "o"
          ],
          "source": "b",
          "target": "o",
          "weight": 1.4339102902507364,
          "x": 437.86863074023387,
          "y": 277.3146868723641
         },
         {
          "edge": 14,
          "pair": [
           "b",
           "o"
          ],
          "source": "b",
          "target": "o",
          "weight": 1.4339102902507364,
          "x": 358.22196132008776,
          "y": 274.17491807898466
         },
         {
          "edge": 15,
          "pair": [
           "b",
           "p"
          ],
          "source": "b",
          "target": "p",
          "weight": 0.650167961109687,
          "x": 437.86863074023387,
          "y": 277.3146868723641
         },
         {
          "edge": 15,
          "pair": [
           "b",
           "p"
          ],
          "source": "b",
          "target": "p",
          "weight": 0.650167961109687,
          "x": 532.6678615826585,
          "y": 320.84751003588127
         },
         {
          "edge": 16,
          "pair": [
           "b",
           "r"
          ],
          "source": "b",
          "target": "r",
          "weight": 0.1042441132781697,
          "x": 437.86863074023387,
          "y": 277.3146868723641
         },
         {
          "edge": 16,
          "pair": [
           "b",
           "r"
          ],
          "source": "b",
          "target": "r",
          "weight": 0.1042441132781697,
          "x": 231.9919208859217,
          "y": 129.68517687603511
         },
         {
          "edge": 17,
          "pair": [
           "b",
           "u"
          ],
          "source": "b",
          "target": "u",
          "weight": 0.3221282940185491,
          "x": 437.86863074023387,
          "y": 277.3146868723641
         },
         {
          "edge": 17,
          "pair": [
           "b",
           "u"
          ],
          "source": "b",
          "target": "u",
          "weight": 0.3221282940185491,
          "x": 528.60804044027,
          "y": 175.92250129651913
         },
         {
          "edge": 18,
          "pair": [
           "b",
           "x"
          ],
          "source": "b",
          "target": "x",
          "weight": 1.5819555806072163,
          "x": 437.86863074023387,
          "y": 277.3146868723641
         },
         {
          "edge": 18,
          "pair": [
           "b",
           "x"
          ],
          "source": "b",
          "target": "x",
          "weight": 1.5819555806072163,
          "x": 457.10893378182107,
          "y": 314.77029143717664
         },
         {
          "edge": 19,
          "pair": [
           "b",
           "y"
          ],
          "source": "b",
          "target": "y",
          "weight": 0.7214855755209555,
          "x": 437.86863074023387,
          "y": 277.3146868723641
         },
         {
          "edge": 19,
          "pair": [
           "b",
           "y"
          ],
          "source": "b",
          "target": "y",
          "weight": 0.7214855755209555,
          "x": 392.2109872201377,
          "y": 346.8031543727445
         },
         {
          "edge": 20,
          "pair": [
           "b",
           "z"
          ],
          "source": "b",
          "target": "z",
          "weight": 0.6038455777931652,
          "x": 437.86863074023387,
          "y": 277.3146868723641
         },
         {
          "edge": 20,
          "pair": [
           "b",
           "z"
          ],
          "source": "b",
          "target": "z",
          "weight": 0.6038455777931652,
          "x": 541.4885080393504,
          "y": 257.6299065908347
         },
         {
          "edge": 21,
          "pair": [
           "c",
           "l"
          ],
          "source": "c",
          "target": "l",
          "weight": 0.2945741005184152,
          "x": 636.726049204516,
          "y": 363.997045282286
         },
         {
          "edge": 21,
          "pair": [
           "c",
           "l"
          ],
          "source": "c",
          "target": "l",
          "weight": 0.2945741005184152,
          "x": 645.0638858461592,
          "y": 474.1145829449592
         },
         {
          "edge": 22,
          "pair": [
           "c",
           "c"
          ],
          "source": "c",
          "target": "c",
          "weight": 0.12101191984454629,
          "x": 636.726049204516,
          "y": 363.997045282286
         },
         {
          "edge": 22,
          "pair": [
           "c",
           "c"
          ],
          "source": "c",
          "target": "c",
          "weight": 0.12101191984454629,
          "x": 636.726049204516,
          "y": 363.997045282286
         },
         {
          "edge": 23,
          "pair": [
           "c",
           "j"
          ],
          "source": "c",
          "target": "j",
          "weight": 1.7390515657912486,
          "x": 636.726049204516,
          "y": 363.997045282286
         },
         {
          "edge": 23,
          "pair": [
           "c",
           "j"
          ],
          "source": "c",
          "target": "j",
          "weight": 1.7390515657912486,
          "x": 703.6931531564669,
          "y": 362.2689809171561
         },
         {
          "edge": 24,
          "pair": [
           "c",
           "m"
          ],
          "source": "c",
          "target": "m",
          "weight": 0.38236424738404223,
          "x": 636.726049204516,
          "y": 363.997045282286
         },
         {
          "edge": 24,
          "pair": [
           "c",
           "m"
          ],
          "source": "c",
          "target": "m",
          "weight": 0.38236424738404223,
          "x": 801.6456162118717,
          "y": 346.8621835355639
         },
         {
          "edge": 25,
          "pair": [
           "c",
           "p"
          ],
          "source": "c",
          "target": "p",
          "weight": 0.16523677374144413,
          "x": 636.726049204516,
          "y": 363.997045282286
         },
         {
          "edge": 25,
          "pair": [
           "c",
           "p"
          ],
          "source": "c",
          "target": "p",
          "weight": 0.16523677374144413,
          "x": 532.6678615826585,
          "y": 320.84751003588127
         },
         {
          "edge": 26,
          "pair": [
           "c",
           "q"
          ],
          "source": "c",
          "target": "q",
          "weight": 0.2420455577974949,
          "x": 636.726049204516,
          "y": 363.997045282286
         },
         {
          "edge": 26,
          "pair": [
           "c",
           "q"
          ],
          "source": "c",
          "target": "q",
          "weight": 0.2420455577974949,
          "x": 758.8974947289965,
          "y": 465.78385259334533
         },
         {
          "edge": 27,
          "pair": [
           "c",
           "s"
          ],
          "source": "c",
          "target": "s",
          "weight": 2.431672911983474,
          "x": 636.726049204516,
          "y": 363.997045282286
         },
         {
          "edge": 27,
          "pair": [
           "c",
           "s"
          ],
          "source": "c",
          "target": "s",
          "weight": 2.431672911983474,
          "x": 650.5962362542085,
          "y": 398.39347116422874
         },
         {
          "edge": 28,
          "pair": [
           "c",
           "t"
          ],
          "source": "c",
          "target": "t",
          "weight": 0.04407221377279017,
          "x": 636.726049204516,
          "y": 363.997045282286
         },
         {
          "edge": 28,
          "pair": [
           "c",
           "t"
          ],
          "source": "c",
          "target": "t",
          "weight": 0.04407221377279017,
          "x": 1000,
          "y": 486.68568471977926
         },
         {
          "edge": 29,
          "pair": [
           "c",
           "w"
          ],
          "source": "c",
          "target": "w",
          "weight": 0.47152865008985506,
          "x": 636.726049204516,
          "y": 363.997045282286
         },
         {
          "edge": 29,
          "pair": [
           "c",
           "w"
          ],
          "source": "c",
          "target": "w",
          "weight": 0.47152865008985506,
          "x": 765.4336142373475,
          "y": 404.72183789524667
         },
         {
          "edge": 30,
          "pair": [
           "e",
           "k"
          ],
          "source": "e",
          "target": "k",
          "weight": 0.38267513728658287,
          "x": 287.40855315683893,
          "y": 239.79178031588438
         },
         {
          "edge": 30,
          "pair": [
           "e",
           "k"
          ],
          "source": "e",
          "target": "k",
          "weight": 0.38267513728658287,
          "x": 379.6582297868632,
          "y": 219.42433260760984
         },
         {
          "edge": 31,
          "pair": [
           "e",
           "f"
          ],
          "source": "e",
          "target": "f",
          "weight": 0.43700689721428215,
          "x": 287.40855315683893,
          "y": 239.79178031588438
         },
         {
          "edge": 31,
          "pair": [
           "e",
           "f"
          ],
          "source": "e",
          "target": "f",
          "weight": 0.43700689721428215,
          "x": 136.08351316818468,
          "y": 216.42777183804407
         }
        ],
        "data-dea5ac342e7f40b0061904985ea7e322": [
         {
          "__node_halo_size": 484,
          "__node_r": 8,
          "__node_size": 256,
          "__y_label": 199.89023883553944,
          "country": "Korea",
          "degree_centrality": 0.2,
          "id": "a",
          "job": "Surveyor, planning and development",
          "name": "Rosie",
          "x": 424.3170797711625,
          "y": 221.89023883553944
         },
         {
          "__node_halo_size": 484,
          "__node_r": 8,
          "__node_size": 256,
          "__y_label": 255.31468687236412,
          "country": "Jamaica",
          "degree_centrality": 0.72,
          "id": "b",
          "job": "Financial trader",
          "name": "Mary",
          "x": 437.86863074023387,
          "y": 277.3146868723641
         },
         {
          "__node_halo_size": 484,
          "__node_r": 8,
          "__node_size": 256,
          "__y_label": 341.997045282286,
          "country": "Vietnam",
          "degree_centrality": 0.48,
          "id": "c",
          "job": "Nurse, adult",
          "name": "Sandra",
          "x": 636.726049204516,
          "y": 363.997045282286
         },
         {
          "__node_halo_size": 484,
          "__node_r": 8,
          "__node_size": 256,
          "__y_label": 105.179639455076,
          "country": "Netherlands Antilles",
          "degree_centrality": 0.08,
          "id": "d",
          "job": "Health and safety adviser",
          "name": "Francis",
          "x": 434.46923278480335,
          "y": 127.179639455076
         },
         {
          "__node_halo_size": 484,
          "__node_r": 8,
          "__node_size": 256,
          "__y_label": 217.79178031588438,
          "country": "Korea",
          "degree_centrality": 0.12,
          "id": "e",
          "job": "Health and safety adviser",
          "name": "Stephen",
          "x": 287.40855315683893,
          "y": 239.79178031588438
         },
         {
          "__node_halo_size": 484,
          "__node_r": 8,
          "__node_size": 256,
          "__y_label": 194.42777183804407,
          "country": "Vietnam",
          "degree_centrality": 0.04,
          "id": "f",
          "job": "Private music teacher",
          "name": "Denise",
          "x": 136.08351316818468,
          "y": 216.42777183804407
         },
         {
          "__node_halo_size": 484,
          "__node_r": 8,
          "__node_size": 256,
          "__y_label": 278.4899151278726,
          "country": "Vietnam",
          "degree_centrality": 0.04,
          "id": "g",
          "job": "Comptroller",
          "name": "Tony",
          "x": 393.35590188183147,
          "y": 300.4899151278726
         },
         {
          "__node_halo_size": 484,
          "__node_r": 8,
          "__node_size": 256,
          "__y_label": 196.71752842520021,
          "country": "Vietnam",
          "degree_centrality": 0.04,
          "id": "h",
          "job": "Private music teacher",
          "name": "Ann",
          "x": 568.3311448793881,
          "y": 218.71752842520021
         },
         {
          "__node_halo_size": 484,
          "__node_r": 8,
          "__node_size": 256,
          "__y_label": 297.6163869090704,
          "country": "Jamaica",
          "degree_centrality": 0.04,
          "id": "i",
          "job": "Licensed conveyancer",
          "name": "Ryan",
          "x": 226.54657667478202,
          "y": 319.6163869090704
         },
         {
          "__node_halo_size": 484,
          "__node_r": 8,
          "__node_size": 256,
          "__y_label": 340.2689809171561,
          "country": "Korea",
          "degree_centrality": 0.04,
          "id": "j",
          "job": "Private music teacher",
          "name": "Charlotte",
          "x": 703.6931531564669,
          "y": 362.2689809171561
         },
         {
          "__node_halo_size": 484,
          "__node_r": 8,
          "__node_size": 256,
          "__y_label": 197.42433260760984,
          "country": "Netherlands Antilles",
          "degree_centrality": 0.12,
          "id": "k",
          "job": "Comptroller",
          "name": "Kimberley",
          "x": 379.6582297868632,
          "y": 219.42433260760984
         },
         {
          "__node_halo_size": 484,
          "__node_r": 8,
          "__node_size": 256,
          "__y_label": 452.1145829449592,
          "country": "Vietnam",
          "degree_centrality": 0.04,
          "id": "l",
          "job": "Nurse, adult",
          "name": "Wendy",
          "x": 645.0638858461592,
          "y": 474.1145829449592
         },
         {
          "__node_halo_size": 484,
          "__node_r": 8,
          "__node_size": 256,
          "__y_label": 324.8621835355639,
          "country": "Netherlands Antilles",
          "degree_centrality": 0.04,
          "id": "m",
          "job": "Licensed conveyancer",
          "name": "Gordon",
          "x": 801.6456162118717,
          "y": 346.8621835355639
         },
         {
          "__node_halo_size": 484,
          "__node_r": 8,
          "__node_size": 256,
          "__y_label": 344.2024700820846,
          "country": "Netherlands Antilles",
          "degree_centrality": 0.04,
          "id": "n",
          "job": "Licensed conveyancer",
          "name": "Nicholas",
          "x": 307.4182893269071,
          "y": 366.2024700820846
         },
         {
          "__node_halo_size": 484,
          "__node_r": 8,
          "__node_size": 256,
          "__y_label": 252.17491807898466,
          "country": "Jamaica",
          "degree_centrality": 0.04,
          "id": "o",
          "job": "Private music teacher",
          "name": "Ross",
          "x": 358.22196132008776,
          "y": 274.17491807898466
         },
         {
          "__node_halo_size": 484,
          "__node_r": 8,
          "__node_size": 256,
          "__y_label": 298.84751003588127,
          "country": "Korea",
          "degree_centrality": 0.08,
          "id": "p",
          "job": "Nurse, adult",
          "name": "Rhys",
          "x": 532.6678615826585,
          "y": 320.84751003588127
         },
         {
          "__node_halo_size": 484,
          "__node_r": 8,
          "__node_size": 256,
          "__y_label": 443.78385259334533,
          "country": "Netherlands Antilles",
          "degree_centrality": 0.04,
          "id": "q",
          "job": "Surveyor, planning and development",
          "name": "Lauren",
          "x": 758.8974947289965,
          "y": 465.78385259334533
         },
         {
          "__node_halo_size": 484,
          "__node_r": 8,
          "__node_size": 256,
          "__y_label": 107.68517687603511,
          "country": "Vietnam",
          "degree_centrality": 0.04,
          "id": "r",
          "job": "Surveyor, planning and development",
          "name": "Ann",
          "x": 231.9919208859217,
          "y": 129.68517687603511
         },
         {
          "__node_halo_size": 484,
          "__node_r": 8,
          "__node_size": 256,
          "__y_label": 376.39347116422874,
          "country": "Vietnam",
          "degree_centrality": 0.04,
          "id": "s",
          "job": "Minerals surveyor",
          "name": "Abbie",
          "x": 650.5962362542085,
          "y": 398.39347116422874
         },
         {
          "__node_halo_size": 484,
          "__node_r": 8,
          "__node_size": 256,
          "__y_label": 464.68568471977926,
          "country": "Vietnam",
          "degree_centrality": 0.04,
          "id": "t",
          "job": "Financial trader",
          "name": "Katherine",
          "x": 1000,
          "y": 486.68568471977926
         },
         {
          "__node_halo_size": 484,
          "__node_r": 8,
          "__node_size": 256,
          "__y_label": 153.92250129651913,
          "country": "Vietnam",
          "degree_centrality": 0.04,
          "id": "u",
          "job": "Licensed conveyancer",
          "name": "Glenn",
          "x": 528.60804044027,
          "y": 175.92250129651913
         },
         {
          "__node_halo_size": 484,
          "__node_r": 8,
          "__node_size": 256,
          "__y_label": 148.28415179051328,
          "country": "Jamaica",
          "degree_centrality": 0.04,
          "id": "v",
          "job": "Minerals surveyor",
          "name": "Jason",
          "x": 400.18858491919127,
          "y": 170.28415179051328
         },
         {
          "__node_halo_size": 484,
          "__node_r": 8,
          "__node_size": 256,
          "__y_label": 382.72183789524667,
          "country": "Vietnam",
          "degree_centrality": 0.04,
          "id": "w",
          "job": "Financial trader",
          "name": "Tony",
          "x": 765.4336142373475,
          "y": 404.72183789524667
         },
         {
          "__node_halo_size": 484,
          "__node_r": 8,
          "__node_size": 256,
          "__y_label": 292.77029143717664,
          "country": "Vietnam",
          "degree_centrality": 0.04,
          "id": "x",
          "job": "Comptroller",
          "name": "Angela",
          "x": 457.10893378182107,
          "y": 314.77029143717664
         },
         {
          "__node_halo_size": 484,
          "__node_r": 8,
          "__node_size": 256,
          "__y_label": 324.8031543727445,
          "country": "Korea",
          "degree_centrality": 0.04,
          "id": "y",
          "job": "Financial trader",
          "name": "Linda",
          "x": 392.2109872201377,
          "y": 346.8031543727445
         },
         {
          "__node_halo_size": 484,
          "__node_r": 8,
          "__node_size": 256,
          "__y_label": 235.6299065908347,
          "country": "Korea",
          "degree_centrality": 0.04,
          "id": "z",
          "job": "Comptroller",
          "name": "Sian",
          "x": 541.4885080393504,
          "y": 257.6299065908347
         }
        ]
       },
       "height": 600,
       "layer": [
        {
         "data": {
          "name": "data-c5d621ff9a2593f3eae34402082d2712"
         },
         "encoding": {
          "color": {
           "condition": {
            "test": "((((datum.source === 'c') || (datum.target === 'c')) || (datum.source === 'b')) || (datum.target === 'b'))",
            "value": "#f33"
           },
           "value": "#999"
          },
          "detail": {
           "field": "edge",
           "type": "quantitative"
          },
          "opacity": {
           "field": "weight",
           "legend": null,
           "scale": {
            "range": [
             0.3,
             1
            ]
           },
           "type": "quantitative"
          },
          "strokeWidth": {
           "field": "weight",
           "legend": null,
           "scale": {
            "range": [
             0.1,
             5
            ]
           },
           "type": "quantitative"
          },
          "x": {
           "axis": {
            "domain": false,
            "grid": false,
            "labels": false,
            "ticks": false,
            "title": ""
           },
           "field": "x",
           "type": "quantitative"
          },
          "y": {
           "axis": {
            "domain": false,
            "grid": false,
            "labels": false,
            "ticks": false,
            "title": ""
           },
           "field": "y",
           "type": "quantitative"
          }
         },
         "mark": "line"
        },
        {
         "data": {
          "name": "data-dea5ac342e7f40b0061904985ea7e322"
         },
         "layer": [
          {
           "encoding": {
            "fill": {
             "value": "rgba(0,0,0,0"
            },
            "opacity": {
             "condition": {
              "test": "(datum.name == 'Mary') || (datum.name == 'Sandra')",
              "value": 1
             },
             "value": 0
            },
            "size": {
             "field": "__node_halo_size",
             "legend": null,
             "scale": null,
             "type": "quantitative"
            },
            "stroke": {
             "value": "red"
            },
            "strokeWidth": {
             "value": 2
            },
            "x": {
             "axis": {
              "domain": false,
              "grid": false,
              "labels": false,
              "ticks": false,
              "title": ""
             },
             "field": "x",
             "type": "quantitative"
            },
            "y": {
             "axis": {
              "domain": false,
              "grid": false,
              "labels": false,
              "ticks": false,
              "title": ""
             },
             "field": "y",
             "type": "quantitative"
            }
           },
           "mark": "circle"
          },
          {
           "encoding": {
            "fill": {
             "value": "#ad6"
            },
            "opacity": {
             "value": 1
            },
            "size": {
             "value": 256
            },
            "stroke": {
             "value": "#444"
            },
            "strokeWidth": {
             "value": 1
            },
            "tooltip": [
             {
              "field": "name",
              "type": "nominal"
             },
             {
              "field": "id",
              "type": "nominal"
             }
            ],
            "x": {
             "axis": {
              "domain": false,
              "grid": false,
              "labels": false,
              "ticks": false,
              "title": ""
             },
             "field": "x",
             "type": "quantitative"
            },
            "y": {
             "axis": {
              "domain": false,
              "grid": false,
              "labels": false,
              "ticks": false,
              "title": ""
             },
             "field": "y",
             "type": "quantitative"
            }
           },
           "mark": "circle"
          },
          {
           "encoding": {
            "text": {
             "field": "name",
             "type": "nominal"
            },
            "x": {
             "axis": {
              "domain": false,
              "grid": false,
              "labels": false,
              "ticks": false,
              "title": ""
             },
             "field": "x",
             "type": "quantitative"
            },
            "y": {
             "axis": {
              "domain": false,
              "grid": false,
              "labels": false,
              "ticks": false,
              "title": ""
             },
             "field": "__y_label",
             "type": "quantitative"
            }
           },
           "mark": {
            "align": "center",
            "baseline": "middle",
            "color": "black",
            "size": 10,
            "type": "text"
           }
          }
         ]
        }
       ],
       "resolve": {
        "scale": {
         "color": "independent",
         "fill": "independent",
         "opacity": "independent",
         "size": "independent",
         "strokeWidth": "independent"
        }
       },
       "width": 1000
      },
      "image/png": "[encoded data removed]",
      "text/plain": [
       "<VegaLite 4 object>\n",
       "\n",
       "If you see this message, it means the renderer has not been properly enabled\n",
       "for the frontend that you are using. For more information, see\n",
       "https://altair-viz.github.io/user_guide/troubleshooting.html\n"
      ]
     },
     "execution_count": 4,
     "metadata": {},
     "output_type": "execute_result"
    }
   ],
   "source": [
    "alph(\n",
    "    G,\n",
    "    weight_attr=\"weight\",\n",
    "    layout_fn=lambda g: nx.spring_layout(g, weight=\"weight\", k=3, iterations=5000, seed=seed),\n",
    "    node_args=dict(\n",
    "        size=(8*2) ** 2,\n",
    "        fill=\"#ad6\",\n",
    "        stroke=\"#444\",\n",
    "        strokeWidth=1,\n",
    "        halo_offset=2,\n",
    "        halo_opacity=alt.condition(\n",
    "            \"(datum.name == 'Mary') || (datum.name == 'Sandra')\",\n",
    "            alt.value(1),\n",
    "            alt.value(0)\n",
    "        ),\n",
    "        halo_stroke=\"red\",\n",
    "        halo_strokeWidth=2,\n",
    "        tooltip_attrs=[\"name\", \"id\"],\n",
    "        label_attr=\"name\",\n",
    "    ),\n",
    "    edge_args=dict(\n",
    "        color=alt.condition(\n",
    "            (\n",
    "                (alt.datum.source == 'c')\n",
    "                | (alt.datum.target == 'c')\n",
    "                | (alt.datum.source == 'b')\n",
    "                | (alt.datum.target == 'b')\n",
    "            ),\n",
    "            alt.value(\"#f33\"),\n",
    "            alt.value(\"#999\")\n",
    "        ),\n",
    "    ),\n",
    "    width=1000, height=600,\n",
    ").configure_view(strokeWidth=0)"
   ]
  },
  {
   "cell_type": "markdown",
   "metadata": {},
   "source": [
    "Combination of two plots altair-style, showing the use of Altair settings"
   ]
  },
  {
   "cell_type": "code",
   "execution_count": 8,
   "metadata": {},
   "outputs": [
    {
     "data": {
      "application/vnd.vegalite.v4+json": {
       "$schema": "https://vega.github.io/schema/vega-lite/v4.17.0.json",
       "config": {
        "view": {
         "continuousHeight": 300,
         "continuousWidth": 400
        }
       },
       "datasets": {
        "data-5575e2130e232df52d496b0cb9074625": [
         {
          "edge": 0,
          "pair": [
           "a",
           "b"
          ],
          "source": "a",
          "target": "b",
          "weight": 2.1711002791746328,
          "x": 262.4032720672867,
          "y": 218.51844302049412
         },
         {
          "edge": 0,
          "pair": [
           "a",
           "b"
          ],
          "source": "a",
          "target": "b",
          "weight": 2.1711002791746328,
          "x": 265.12301623503686,
          "y": 274.5722230133613
         },
         {
          "edge": 1,
          "pair": [
           "a",
           "c"
          ],
          "source": "a",
          "target": "c",
          "weight": 0.08111500432061784,
          "x": 262.4032720672867,
          "y": 218.51844302049412
         },
         {
          "edge": 1,
          "pair": [
           "a",
           "c"
          ],
          "source": "a",
          "target": "c",
          "weight": 0.08111500432061784,
          "x": 375.3355583434606,
          "y": 369.8142731977135
         },
         {
          "edge": 2,
          "pair": [
           "a",
           "k"
          ],
          "source": "a",
          "target": "k",
          "weight": 3.894485555057686,
          "x": 262.4032720672867,
          "y": 218.51844302049412
         },
         {
          "edge": 2,
          "pair": [
           "a",
           "k"
          ],
          "source": "a",
          "target": "k",
          "weight": 3.894485555057686,
          "x": 235.97673623159682,
          "y": 213.36421848694312
         },
         {
          "edge": 3,
          "pair": [
           "a",
           "d"
          ],
          "source": "a",
          "target": "d",
          "weight": 0.28458215954322813,
          "x": 262.4032720672867,
          "y": 218.51844302049412
         },
         {
          "edge": 3,
          "pair": [
           "a",
           "d"
          ],
          "source": "a",
          "target": "d",
          "weight": 0.28458215954322813,
          "x": 277.71349178556875,
          "y": 126.11789535093503
         },
         {
          "edge": 4,
          "pair": [
           "a",
           "v"
          ],
          "source": "a",
          "target": "v",
          "weight": 1.3979003207738256,
          "x": 262.4032720672867,
          "y": 218.51844302049412
         },
         {
          "edge": 4,
          "pair": [
           "a",
           "v"
          ],
          "source": "a",
          "target": "v",
          "weight": 1.3979003207738256,
          "x": 252.96544581378717,
          "y": 166.15127473317875
         },
         {
          "edge": 5,
          "pair": [
           "b",
           "c"
          ],
          "source": "b",
          "target": "c",
          "weight": 0.7479743671314023,
          "x": 265.12301623503686,
          "y": 274.5722230133613
         },
         {
          "edge": 5,
          "pair": [
           "b",
           "c"
          ],
          "source": "b",
          "target": "c",
          "weight": 0.7479743671314023,
          "x": 375.3355583434606,
          "y": 369.8142731977135
         },
         {
          "edge": 6,
          "pair": [
           "b",
           "b"
          ],
          "source": "b",
          "target": "b",
          "weight": 2.381127919483545,
          "x": 265.12301623503686,
          "y": 274.5722230133613
         },
         {
          "edge": 6,
          "pair": [
           "b",
           "b"
          ],
          "source": "b",
          "target": "b",
          "weight": 2.381127919483545,
          "x": 265.12301623503686,
          "y": 274.5722230133613
         },
         {
          "edge": 7,
          "pair": [
           "b",
           "g"
          ],
          "source": "b",
          "target": "g",
          "weight": 2.154771281295787,
          "x": 265.12301623503686,
          "y": 274.5722230133613
         },
         {
          "edge": 7,
          "pair": [
           "b",
           "g"
          ],
          "source": "b",
          "target": "g",
          "weight": 2.154771281295787,
          "x": 234.05133993235305,
          "y": 262.6613006503459
         },
         {
          "edge": 8,
          "pair": [
           "b",
           "d"
          ],
          "source": "b",
          "target": "d",
          "weight": 0.09350766110202048,
          "x": 265.12301623503686,
          "y": 274.5722230133613
         },
         {
          "edge": 8,
          "pair": [
           "b",
           "d"
          ],
          "source": "b",
          "target": "d",
          "weight": 0.09350766110202048,
          "x": 277.71349178556875,
          "y": 126.11789535093503
         },
         {
          "edge": 9,
          "pair": [
           "b",
           "e"
          ],
          "source": "b",
          "target": "e",
          "weight": 0.7284523302666718,
          "x": 265.12301623503686,
          "y": 274.5722230133613
         },
         {
          "edge": 9,
          "pair": [
           "b",
           "e"
          ],
          "source": "b",
          "target": "e",
          "weight": 0.7284523302666718,
          "x": 179.66851422464572,
          "y": 230.3835121029952
         },
         {
          "edge": 10,
          "pair": [
           "b",
           "h"
          ],
          "source": "b",
          "target": "h",
          "weight": 0.4210173579792248,
          "x": 265.12301623503686,
          "y": 274.5722230133613
         },
         {
          "edge": 10,
          "pair": [
           "b",
           "h"
          ],
          "source": "b",
          "target": "h",
          "weight": 0.4210173579792248,
          "x": 347.20164272781216,
          "y": 224.99594193230064
         },
         {
          "edge": 11,
          "pair": [
           "b",
           "i"
          ],
          "source": "b",
          "target": "i",
          "weight": 0.2386299670960798,
          "x": 265.12301623503686,
          "y": 274.5722230133613
         },
         {
          "edge": 11,
          "pair": [
           "b",
           "i"
          ],
          "source": "b",
          "target": "i",
          "weight": 0.2386299670960798,
          "x": 136.39022838160764,
          "y": 304.52262231411936
         },
         {
          "edge": 12,
          "pair": [
           "b",
           "k"
          ],
          "source": "b",
          "target": "k",
          "weight": 0.44733990950860786,
          "x": 265.12301623503686,
          "y": 274.5722230133613
         },
         {
          "edge": 12,
          "pair": [
           "b",
           "k"
          ],
          "source": "b",
          "target": "k",
          "weight": 0.44733990950860786,
          "x": 235.97673623159682,
          "y": 213.36421848694312
         },
         {
          "edge": 13,
          "pair": [
           "b",
           "n"
          ],
          "source": "b",
          "target": "n",
          "weight": 0.31577319007667387,
          "x": 265.12301623503686,
          "y": 274.5722230133613
         },
         {
          "edge": 13,
          "pair": [
           "b",
           "n"
          ],
          "source": "b",
          "target": "n",
          "weight": 0.31577319007667387,
          "x": 180.7688997745457,
          "y": 356.06117374234503
         },
         {
          "edge": 14,
          "pair": [
           "b",
           "o"
          ],
          "source": "b",
          "target": "o",
          "weight": 1.4339102902507364,
          "x": 265.12301623503686,
          "y": 274.5722230133613
         },
         {
          "edge": 14,
          "pair": [
           "b",
           "o"
          ],
          "source": "b",
          "target": "o",
          "weight": 1.4339102902507364,
          "x": 220.5807212362082,
          "y": 294.9703563149756
         },
         {
          "edge": 15,
          "pair": [
           "b",
           "p"
          ],
          "source": "b",
          "target": "p",
          "weight": 0.650167961109687,
          "x": 265.12301623503686,
          "y": 274.5722230133613
         },
         {
          "edge": 15,
          "pair": [
           "b",
           "p"
          ],
          "source": "b",
          "target": "p",
          "weight": 0.650167961109687,
          "x": 314.53448065074343,
          "y": 324.83760163257364
         },
         {
          "edge": 16,
          "pair": [
           "b",
           "r"
          ],
          "source": "b",
          "target": "r",
          "weight": 0.1042441132781697,
          "x": 265.12301623503686,
          "y": 274.5722230133613
         },
         {
          "edge": 16,
          "pair": [
           "b",
           "r"
          ],
          "source": "b",
          "target": "r",
          "weight": 0.1042441132781697,
          "x": 155.3235834470518,
          "y": 119.26015560627162
         },
         {
          "edge": 17,
          "pair": [
           "b",
           "u"
          ],
          "source": "b",
          "target": "u",
          "weight": 0.3221282940185491,
          "x": 265.12301623503686,
          "y": 274.5722230133613
         },
         {
          "edge": 17,
          "pair": [
           "b",
           "u"
          ],
          "source": "b",
          "target": "u",
          "weight": 0.3221282940185491,
          "x": 328.9023117731874,
          "y": 180.33639605297898
         },
         {
          "edge": 18,
          "pair": [
           "b",
           "x"
          ],
          "source": "b",
          "target": "x",
          "weight": 1.5819555806072163,
          "x": 265.12301623503686,
          "y": 274.5722230133613
         },
         {
          "edge": 18,
          "pair": [
           "b",
           "x"
          ],
          "source": "b",
          "target": "x",
          "weight": 1.5819555806072163,
          "x": 268.88833764786955,
          "y": 312.08910546002807
         },
         {
          "edge": 19,
          "pair": [
           "b",
           "y"
          ],
          "source": "b",
          "target": "y",
          "weight": 0.7214855755209555,
          "x": 265.12301623503686,
          "y": 274.5722230133613
         },
         {
          "edge": 19,
          "pair": [
           "b",
           "y"
          ],
          "source": "b",
          "target": "y",
          "weight": 0.7214855755209555,
          "x": 234.84044889742285,
          "y": 341.61084774331067
         },
         {
          "edge": 20,
          "pair": [
           "b",
           "z"
          ],
          "source": "b",
          "target": "z",
          "weight": 0.6038455777931652,
          "x": 265.12301623503686,
          "y": 274.5722230133613
         },
         {
          "edge": 20,
          "pair": [
           "b",
           "z"
          ],
          "source": "b",
          "target": "z",
          "weight": 0.6038455777931652,
          "x": 328.6511431928947,
          "y": 263.3569737533694
         },
         {
          "edge": 21,
          "pair": [
           "c",
           "l"
          ],
          "source": "c",
          "target": "l",
          "weight": 0.2945741005184152,
          "x": 375.3355583434606,
          "y": 369.8142731977135
         },
         {
          "edge": 21,
          "pair": [
           "c",
           "l"
          ],
          "source": "c",
          "target": "l",
          "weight": 0.2945741005184152,
          "x": 371.25226622180134,
          "y": 478.71607474875435
         },
         {
          "edge": 22,
          "pair": [
           "c",
           "c"
          ],
          "source": "c",
          "target": "c",
          "weight": 0.12101191984454629,
          "x": 375.3355583434606,
          "y": 369.8142731977135
         },
         {
          "edge": 22,
          "pair": [
           "c",
           "c"
          ],
          "source": "c",
          "target": "c",
          "weight": 0.12101191984454629,
          "x": 375.3355583434606,
          "y": 369.8142731977135
         },
         {
          "edge": 23,
          "pair": [
           "c",
           "j"
          ],
          "source": "c",
          "target": "j",
          "weight": 1.7390515657912486,
          "x": 375.3355583434606,
          "y": 369.8142731977135
         },
         {
          "edge": 23,
          "pair": [
           "c",
           "j"
          ],
          "source": "c",
          "target": "j",
          "weight": 1.7390515657912486,
          "x": 415.0446784029193,
          "y": 371.2899169104012
         },
         {
          "edge": 24,
          "pair": [
           "c",
           "m"
          ],
          "source": "c",
          "target": "m",
          "weight": 0.38236424738404223,
          "x": 375.3355583434606,
          "y": 369.8142731977135
         },
         {
          "edge": 24,
          "pair": [
           "c",
           "m"
          ],
          "source": "c",
          "target": "m",
          "weight": 0.38236424738404223,
          "x": 474.2249873367827,
          "y": 361.1733438903679
         },
         {
          "edge": 25,
          "pair": [
           "c",
           "p"
          ],
          "source": "c",
          "target": "p",
          "weight": 0.16523677374144413,
          "x": 375.3355583434606,
          "y": 369.8142731977135
         },
         {
          "edge": 25,
          "pair": [
           "c",
           "p"
          ],
          "source": "c",
          "target": "p",
          "weight": 0.16523677374144413,
          "x": 314.53448065074343,
          "y": 324.83760163257364
         },
         {
          "edge": 26,
          "pair": [
           "c",
           "q"
          ],
          "source": "c",
          "target": "q",
          "weight": 0.2420455577974949,
          "x": 375.3355583434606,
          "y": 369.8142731977135
         },
         {
          "edge": 26,
          "pair": [
           "c",
           "q"
          ],
          "source": "c",
          "target": "q",
          "weight": 0.2420455577974949,
          "x": 439.19968266906716,
          "y": 476.11723586543485
         },
         {
          "edge": 27,
          "pair": [
           "c",
           "s"
          ],
          "source": "c",
          "target": "s",
          "weight": 2.431672911983474,
          "x": 375.3355583434606,
          "y": 369.8142731977135
         },
         {
          "edge": 27,
          "pair": [
           "c",
           "s"
          ],
          "source": "c",
          "target": "s",
          "weight": 2.431672911983474,
          "x": 380.76491974608155,
          "y": 404.35555223228437
         },
         {
          "edge": 28,
          "pair": [
           "c",
           "t"
          ],
          "source": "c",
          "target": "t",
          "weight": 0.04407221377279017,
          "x": 375.3355583434606,
          "y": 369.8142731977135
         },
         {
          "edge": 28,
          "pair": [
           "c",
           "t"
          ],
          "source": "c",
          "target": "t",
          "weight": 0.04407221377279017,
          "x": 580,
          "y": 508.585618000919
         },
         {
          "edge": 29,
          "pair": [
           "c",
           "w"
          ],
          "source": "c",
          "target": "w",
          "weight": 0.47152865008985506,
          "x": 375.3355583434606,
          "y": 369.8142731977135
         },
         {
          "edge": 29,
          "pair": [
           "c",
           "w"
          ],
          "source": "c",
          "target": "w",
          "weight": 0.47152865008985506,
          "x": 448.00925762499475,
          "y": 416.308216547825
         },
         {
          "edge": 30,
          "pair": [
           "e",
           "k"
          ],
          "source": "e",
          "target": "k",
          "weight": 0.38267513728658287,
          "x": 179.66851422464572,
          "y": 230.3835121029952
         },
         {
          "edge": 30,
          "pair": [
           "e",
           "k"
          ],
          "source": "e",
          "target": "k",
          "weight": 0.38267513728658287,
          "x": 235.97673623159682,
          "y": 213.36421848694312
         },
         {
          "edge": 31,
          "pair": [
           "e",
           "f"
          ],
          "source": "e",
          "target": "f",
          "weight": 0.43700689721428215,
          "x": 179.66851422464572,
          "y": 230.3835121029952
         },
         {
          "edge": 31,
          "pair": [
           "e",
           "f"
          ],
          "source": "e",
          "target": "f",
          "weight": 0.43700689721428215,
          "x": 92.18503563527419,
          "y": 199.82972669577345
         }
        ],
        "data-81d3e859940b6e2b228e4ada7373cd17": [
         {
          "__node_r": 11.40175425099138,
          "__node_size": 520,
          "__y_label": 195.11668876950273,
          "country": "Korea",
          "degree_centrality": 0.2,
          "id": "a",
          "job": "Surveyor, planning and development",
          "name": "Rosie",
          "x": 262.4032720672867,
          "y": 218.51844302049412
         },
         {
          "__node_r": 19.248376554920156,
          "__node_size": 1482,
          "__y_label": 243.32384645844112,
          "country": "Jamaica",
          "degree_centrality": 0.72,
          "id": "b",
          "job": "Financial trader",
          "name": "Mary",
          "x": 265.12301623503686,
          "y": 274.5722230133613
         },
         {
          "__node_r": 16.109003693587013,
          "__node_size": 1038,
          "__y_label": 341.7052695041265,
          "country": "Vietnam",
          "degree_centrality": 0.48,
          "id": "c",
          "job": "Nurse, adult",
          "name": "Sandra",
          "x": 375.3355583434606,
          "y": 369.8142731977135
         },
         {
          "__node_r": 8.631338250816034,
          "__node_size": 298,
          "__y_label": 105.486557100119,
          "country": "Netherlands Antilles",
          "degree_centrality": 0.08,
          "id": "d",
          "job": "Health and safety adviser",
          "name": "Francis",
          "x": 277.71349178556875,
          "y": 126.11789535093503
         },
         {
          "__node_r": 9.643650760992955,
          "__node_size": 372,
          "__y_label": 208.73986134200226,
          "country": "Korea",
          "degree_centrality": 0.12,
          "id": "e",
          "job": "Health and safety adviser",
          "name": "Stephen",
          "x": 179.66851422464572,
          "y": 230.3835121029952
         },
         {
          "__node_r": 7.483314773547883,
          "__node_size": 224,
          "__y_label": 180.34641192222557,
          "country": "Vietnam",
          "degree_centrality": 0.04,
          "id": "f",
          "job": "Private music teacher",
          "name": "Denise",
          "x": 92.18503563527419,
          "y": 199.82972669577345
         },
         {
          "__node_r": 7.483314773547883,
          "__node_size": 224,
          "__y_label": 243.177985876798,
          "country": "Vietnam",
          "degree_centrality": 0.04,
          "id": "g",
          "job": "Comptroller",
          "name": "Tony",
          "x": 234.05133993235305,
          "y": 262.6613006503459
         },
         {
          "__node_r": 7.483314773547883,
          "__node_size": 224,
          "__y_label": 205.51262715875276,
          "country": "Vietnam",
          "degree_centrality": 0.04,
          "id": "h",
          "job": "Private music teacher",
          "name": "Ann",
          "x": 347.20164272781216,
          "y": 224.99594193230064
         },
         {
          "__node_r": 7.483314773547883,
          "__node_size": 224,
          "__y_label": 285.0393075405715,
          "country": "Jamaica",
          "degree_centrality": 0.04,
          "id": "i",
          "job": "Licensed conveyancer",
          "name": "Ryan",
          "x": 136.39022838160764,
          "y": 304.52262231411936
         },
         {
          "__node_r": 7.483314773547883,
          "__node_size": 224,
          "__y_label": 351.8066021368533,
          "country": "Korea",
          "degree_centrality": 0.04,
          "id": "j",
          "job": "Private music teacher",
          "name": "Charlotte",
          "x": 415.0446784029193,
          "y": 371.2899169104012
         },
         {
          "__node_r": 9.643650760992955,
          "__node_size": 372,
          "__y_label": 191.72056772595016,
          "country": "Netherlands Antilles",
          "degree_centrality": 0.12,
          "id": "k",
          "job": "Comptroller",
          "name": "Kimberley",
          "x": 235.97673623159682,
          "y": 213.36421848694312
         },
         {
          "__node_r": 7.483314773547883,
          "__node_size": 224,
          "__y_label": 459.2327599752065,
          "country": "Vietnam",
          "degree_centrality": 0.04,
          "id": "l",
          "job": "Nurse, adult",
          "name": "Wendy",
          "x": 371.25226622180134,
          "y": 478.71607474875435
         },
         {
          "__node_r": 7.483314773547883,
          "__node_size": 224,
          "__y_label": 341.69002911682,
          "country": "Netherlands Antilles",
          "degree_centrality": 0.04,
          "id": "m",
          "job": "Licensed conveyancer",
          "name": "Gordon",
          "x": 474.2249873367827,
          "y": 361.1733438903679
         },
         {
          "__node_r": 7.483314773547883,
          "__node_size": 224,
          "__y_label": 336.57785896879716,
          "country": "Netherlands Antilles",
          "degree_centrality": 0.04,
          "id": "n",
          "job": "Licensed conveyancer",
          "name": "Nicholas",
          "x": 180.7688997745457,
          "y": 356.06117374234503
         },
         {
          "__node_r": 7.483314773547883,
          "__node_size": 224,
          "__y_label": 275.48704154142774,
          "country": "Jamaica",
          "degree_centrality": 0.04,
          "id": "o",
          "job": "Private music teacher",
          "name": "Ross",
          "x": 220.5807212362082,
          "y": 294.9703563149756
         },
         {
          "__node_r": 8.631338250816034,
          "__node_size": 298,
          "__y_label": 304.2062633817576,
          "country": "Korea",
          "degree_centrality": 0.08,
          "id": "p",
          "job": "Nurse, adult",
          "name": "Rhys",
          "x": 314.53448065074343,
          "y": 324.83760163257364
         },
         {
          "__node_r": 7.483314773547883,
          "__node_size": 224,
          "__y_label": 456.633921091887,
          "country": "Netherlands Antilles",
          "degree_centrality": 0.04,
          "id": "q",
          "job": "Surveyor, planning and development",
          "name": "Lauren",
          "x": 439.19968266906716,
          "y": 476.11723586543485
         },
         {
          "__node_r": 7.483314773547883,
          "__node_size": 224,
          "__y_label": 99.77684083272374,
          "country": "Vietnam",
          "degree_centrality": 0.04,
          "id": "r",
          "job": "Surveyor, planning and development",
          "name": "Ann",
          "x": 155.3235834470518,
          "y": 119.26015560627162
         },
         {
          "__node_r": 7.483314773547883,
          "__node_size": 224,
          "__y_label": 384.8722374587365,
          "country": "Vietnam",
          "degree_centrality": 0.04,
          "id": "s",
          "job": "Minerals surveyor",
          "name": "Abbie",
          "x": 380.76491974608155,
          "y": 404.35555223228437
         },
         {
          "__node_r": 7.483314773547883,
          "__node_size": 224,
          "__y_label": 489.1023032273711,
          "country": "Vietnam",
          "degree_centrality": 0.04,
          "id": "t",
          "job": "Financial trader",
          "name": "Katherine",
          "x": 580,
          "y": 508.585618000919
         },
         {
          "__node_r": 7.483314773547883,
          "__node_size": 224,
          "__y_label": 160.8530812794311,
          "country": "Vietnam",
          "degree_centrality": 0.04,
          "id": "u",
          "job": "Licensed conveyancer",
          "name": "Glenn",
          "x": 328.9023117731874,
          "y": 180.33639605297898
         },
         {
          "__node_r": 7.483314773547883,
          "__node_size": 224,
          "__y_label": 146.66795995963088,
          "country": "Jamaica",
          "degree_centrality": 0.04,
          "id": "v",
          "job": "Minerals surveyor",
          "name": "Jason",
          "x": 252.96544581378717,
          "y": 166.15127473317875
         },
         {
          "__node_r": 7.483314773547883,
          "__node_size": 224,
          "__y_label": 396.8249017742771,
          "country": "Vietnam",
          "degree_centrality": 0.04,
          "id": "w",
          "job": "Financial trader",
          "name": "Tony",
          "x": 448.00925762499475,
          "y": 416.308216547825
         },
         {
          "__node_r": 7.483314773547883,
          "__node_size": 224,
          "__y_label": 292.6057906864802,
          "country": "Vietnam",
          "degree_centrality": 0.04,
          "id": "x",
          "job": "Comptroller",
          "name": "Angela",
          "x": 268.88833764786955,
          "y": 312.08910546002807
         },
         {
          "__node_r": 7.483314773547883,
          "__node_size": 224,
          "__y_label": 322.1275329697628,
          "country": "Korea",
          "degree_centrality": 0.04,
          "id": "y",
          "job": "Financial trader",
          "name": "Linda",
          "x": 234.84044889742285,
          "y": 341.61084774331067
         },
         {
          "__node_r": 7.483314773547883,
          "__node_size": 224,
          "__y_label": 243.87365897982153,
          "country": "Korea",
          "degree_centrality": 0.04,
          "id": "z",
          "job": "Comptroller",
          "name": "Sian",
          "x": 328.6511431928947,
          "y": 263.3569737533694
         }
        ]
       },
       "hconcat": [
        {
         "height": 600,
         "layer": [
          {
           "data": {
            "name": "data-5575e2130e232df52d496b0cb9074625"
           },
           "encoding": {
            "color": {
             "value": "black"
            },
            "detail": {
             "field": "edge",
             "type": "quantitative"
            },
            "opacity": {
             "field": "weight",
             "legend": null,
             "scale": {
              "range": [
               0.3,
               1
              ]
             },
             "type": "quantitative"
            },
            "strokeWidth": {
             "field": "weight",
             "legend": null,
             "scale": {
              "range": [
               0.1,
               5
              ]
             },
             "type": "quantitative"
            },
            "x": {
             "axis": {
              "domain": false,
              "grid": false,
              "labels": false,
              "ticks": false,
              "title": ""
             },
             "field": "x",
             "type": "quantitative"
            },
            "y": {
             "axis": {
              "domain": false,
              "grid": false,
              "labels": false,
              "ticks": false,
              "title": ""
             },
             "field": "y",
             "type": "quantitative"
            }
           },
           "mark": "line"
          },
          {
           "data": {
            "name": "data-81d3e859940b6e2b228e4ada7373cd17"
           },
           "layer": [
            {
             "encoding": {
              "fill": {
               "value": "#fff"
              },
              "opacity": {
               "value": 1
              },
              "size": {
               "field": "degree_centrality",
               "legend": null,
               "scale": {
                "domain": [
                 0,
                 1
                ],
                "range": [
                 150,
                 2000
                ]
               },
               "type": "quantitative"
              },
              "stroke": {
               "field": "job",
               "scale": {
                "scheme": "category10"
               },
               "type": "nominal"
              },
              "strokeWidth": {
               "value": 5
              },
              "tooltip": [
               {
                "field": "name",
                "type": "nominal"
               },
               {
                "field": "job",
                "type": "nominal"
               },
               {
                "field": "country",
                "type": "nominal"
               }
              ],
              "x": {
               "axis": {
                "domain": false,
                "grid": false,
                "labels": false,
                "ticks": false,
                "title": ""
               },
               "field": "x",
               "type": "quantitative"
              },
              "y": {
               "axis": {
                "domain": false,
                "grid": false,
                "labels": false,
                "ticks": false,
                "title": ""
               },
               "field": "y",
               "type": "quantitative"
              }
             },
             "mark": "circle"
            },
            {
             "encoding": {
              "text": {
               "field": "name",
               "type": "nominal"
              },
              "x": {
               "axis": {
                "domain": false,
                "grid": false,
                "labels": false,
                "ticks": false,
                "title": ""
               },
               "field": "x",
               "type": "quantitative"
              },
              "y": {
               "axis": {
                "domain": false,
                "grid": false,
                "labels": false,
                "ticks": false,
                "title": ""
               },
               "field": "__y_label",
               "type": "quantitative"
              }
             },
             "mark": {
              "align": "center",
              "baseline": "middle",
              "color": "black",
              "size": 10,
              "type": "text"
             }
            }
           ]
          }
         ],
         "resolve": {
          "scale": {
           "color": "independent",
           "fill": "independent",
           "opacity": "independent",
           "size": "independent",
           "strokeWidth": "independent"
          }
         },
         "width": 600
        },
        {
         "height": 600,
         "layer": [
          {
           "data": {
            "name": "data-5575e2130e232df52d496b0cb9074625"
           },
           "encoding": {
            "color": {
             "value": "black"
            },
            "detail": {
             "field": "edge",
             "type": "quantitative"
            },
            "opacity": {
             "field": "weight",
             "legend": null,
             "scale": {
              "range": [
               0.3,
               1
              ]
             },
             "type": "quantitative"
            },
            "strokeWidth": {
             "field": "weight",
             "legend": null,
             "scale": {
              "range": [
               0.1,
               5
              ]
             },
             "type": "quantitative"
            },
            "x": {
             "axis": {
              "domain": false,
              "grid": false,
              "labels": false,
              "ticks": false,
              "title": ""
             },
             "field": "x",
             "type": "quantitative"
            },
            "y": {
             "axis": {
              "domain": false,
              "grid": false,
              "labels": false,
              "ticks": false,
              "title": ""
             },
             "field": "y",
             "type": "quantitative"
            }
           },
           "mark": "line"
          },
          {
           "data": {
            "name": "data-81d3e859940b6e2b228e4ada7373cd17"
           },
           "layer": [
            {
             "encoding": {
              "fill": {
               "field": "degree_centrality",
               "scale": {
                "scheme": "greys"
               },
               "type": "quantitative"
              },
              "opacity": {
               "value": 1
              },
              "size": {
               "field": "degree_centrality",
               "legend": null,
               "scale": {
                "domain": [
                 0,
                 1
                ],
                "range": [
                 150,
                 2000
                ]
               },
               "type": "quantitative"
              },
              "stroke": {
               "field": "job",
               "scale": {
                "scheme": "category10"
               },
               "type": "nominal"
              },
              "strokeWidth": {
               "value": 0
              },
              "tooltip": [
               {
                "field": "name",
                "type": "nominal"
               },
               {
                "field": "job",
                "type": "nominal"
               },
               {
                "field": "country",
                "type": "nominal"
               }
              ],
              "x": {
               "axis": {
                "domain": false,
                "grid": false,
                "labels": false,
                "ticks": false,
                "title": ""
               },
               "field": "x",
               "type": "quantitative"
              },
              "y": {
               "axis": {
                "domain": false,
                "grid": false,
                "labels": false,
                "ticks": false,
                "title": ""
               },
               "field": "y",
               "type": "quantitative"
              }
             },
             "mark": "circle"
            },
            {
             "encoding": {
              "text": {
               "field": "name",
               "type": "nominal"
              },
              "x": {
               "axis": {
                "domain": false,
                "grid": false,
                "labels": false,
                "ticks": false,
                "title": ""
               },
               "field": "x",
               "type": "quantitative"
              },
              "y": {
               "axis": {
                "domain": false,
                "grid": false,
                "labels": false,
                "ticks": false,
                "title": ""
               },
               "field": "__y_label",
               "type": "quantitative"
              }
             },
             "mark": {
              "align": "center",
              "baseline": "middle",
              "color": "black",
              "size": 10,
              "type": "text"
             }
            }
           ]
          }
         ],
         "resolve": {
          "scale": {
           "color": "independent",
           "fill": "independent",
           "opacity": "independent",
           "size": "independent",
           "strokeWidth": "independent"
          }
         },
         "width": 600
        }
       ]
      },
      "image/png": "[encoded data removed]",
      "text/plain": [
       "<VegaLite 4 object>\n",
       "\n",
       "If you see this message, it means the renderer has not been properly enabled\n",
       "for the frontend that you are using. For more information, see\n",
       "https://altair-viz.github.io/user_guide/troubleshooting.html\n"
      ]
     },
     "execution_count": 8,
     "metadata": {},
     "output_type": "execute_result"
    }
   ],
   "source": [
    "g1 = alph(\n",
    "    G,\n",
    "    weight_attr=\"weight\",\n",
    "    layout_fn=lambda g: nx.spring_layout(g, weight=\"weight\", k=4, iterations=5000, seed=seed),\n",
    "    node_args=dict(\n",
    "        size=alt.Size(\n",
    "            \"degree_centrality\",\n",
    "            scale=alt.Scale(domain=[0,1], range=[150, 2000]),\n",
    "            legend=None\n",
    "        ),\n",
    "        fill=\"#fff\",\n",
    "        stroke=alt.Color(\"job\", scale=alt.Scale(scheme=\"category10\")),\n",
    "        strokeWidth=5,\n",
    "        tooltip_attrs=[\"name\", \"job\", \"country\"],\n",
    "        label_attr=\"name\",\n",
    "    ),\n",
    "    edge_args=dict(color=\"black\"),\n",
    "    width=600,\n",
    "    height=600,\n",
    "    padding=20,\n",
    ")\n",
    "\n",
    "g2 = alph(\n",
    "    G,\n",
    "    weight_attr=\"weight\",\n",
    "    layout_fn=lambda g: nx.spring_layout(g, weight=\"weight\", k=4, iterations=5000, seed=seed),\n",
    "    node_args=dict(\n",
    "        size=alt.Size(\n",
    "            \"degree_centrality\",\n",
    "            scale=alt.Scale(domain=[0,1], range=[150, 2000]),\n",
    "            legend=None\n",
    "        ),\n",
    "        fill=alt.Color(\"degree_centrality\", scale=alt.Scale(scheme=\"greys\")),\n",
    "        stroke=alt.Color(\"job\", scale=alt.Scale(scheme=\"category10\")),\n",
    "        strokeWidth=0,\n",
    "        tooltip_attrs=[\"name\", \"job\", \"country\"],\n",
    "        label_attr=\"name\",\n",
    "    ),\n",
    "    edge_args=dict(color=\"black\"),\n",
    "    width=600,\n",
    "    height=600,\n",
    "    padding=20,\n",
    ")\n",
    "\n",
    "g1 | g2"
   ]
  },
  {
   "cell_type": "code",
   "execution_count": null,
   "metadata": {},
   "outputs": [],
   "source": []
  }
 ],
 "metadata": {
  "kernelspec": {
   "display_name": "Python 3 (ipykernel)",
   "language": "python",
   "name": "python3"
  },
  "language_info": {
   "codemirror_mode": {
    "name": "ipython",
    "version": 3
   },
   "file_extension": ".py",
   "mimetype": "text/x-python",
   "name": "python",
   "nbconvert_exporter": "python",
   "pygments_lexer": "ipython3",
   "version": "3.10.7"
  },
  "metadata": {
   "interpreter": {
    "hash": "f9eeaac1386f103cfc819cf6645f9259fc0b8eda53ad5c9114a115ed18ca0cb8"
   }
  },
  "vscode": {
   "interpreter": {
    "hash": "121ccb6ef33f050b5231fe1f8644b93952e7f3a79e0892dcb9cd03f1749809c5"
   }
  }
 },
 "nbformat": 4,
 "nbformat_minor": 4
}
