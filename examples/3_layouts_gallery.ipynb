{
 "cells": [
  {
   "cell_type": "markdown",
   "metadata": {},
   "source": [
    "## Layouts gallery\n",
    "\n",
    "This example shows\n",
    "\n",
    "- a selection of layouts easily accessible via alph\n",
    "- layout seeding for repeatable rendering\n",
    "- use of degree centrality for node sizing\n",
    "- use of Altair for custom facet-style plots, with custom captions\n",
    "\n",
    "It is based on the classic [Zachary's Karate Club graph](https://en.wikipedia.org/wiki/Zachary%27s_karate_club), available from NetworkX."
   ]
  },
  {
   "cell_type": "code",
   "execution_count": 1,
   "metadata": {},
   "outputs": [],
   "source": [
    "import sys\n",
    "\n",
    "import altair as alt\n",
    "import networkx as nx\n",
    "import numpy as np\n",
    "\n",
    "\"..\" not in sys.path and sys.path.append(\"..\")\n",
    "from alph import alph, layout, util\n",
    "\n",
    "util.set_altair_renderer()"
   ]
  },
  {
   "cell_type": "markdown",
   "metadata": {},
   "source": [
    "First, generate the Karate Club graph, and set a degree centrality attribute on each node."
   ]
  },
  {
   "cell_type": "code",
   "execution_count": 2,
   "metadata": {},
   "outputs": [],
   "source": [
    "G_karate_club = nx.karate_club_graph()\n",
    "nx.set_node_attributes(\n",
    "    G_karate_club,\n",
    "    nx.degree_centrality(G_karate_club),\n",
    "    \"degree_centrality\"\n",
    ")"
   ]
  },
  {
   "cell_type": "markdown",
   "metadata": {},
   "source": [
    "Define the various layouts we'd like to render, and seed them for consistent representation."
   ]
  },
  {
   "cell_type": "code",
   "execution_count": 3,
   "metadata": {},
   "outputs": [],
   "source": [
    "SEED = 123\n",
    "\n",
    "LAYOUTS_SPEC = {\n",
    "    \"NetworkX spring layout\": lambda g: nx.spring_layout(\n",
    "        g,\n",
    "        weight=\"weight\",\n",
    "        k=1,\n",
    "        iterations=1000,\n",
    "        seed=SEED\n",
    "    ),\n",
    "    \"NetworkX Fruchterman Reingold layout\": lambda g: nx.fruchterman_reingold_layout(\n",
    "        g,\n",
    "        weight=\"weight\",\n",
    "        k=0.3,\n",
    "        seed=SEED\n",
    "    ),\n",
    "    \"scikit-network Force Atlas layout\": lambda g: layout.force_atlas_sknet(\n",
    "        g,\n",
    "        n_iter=100,\n",
    "        gravity_factor=0.01,\n",
    "        repulsive_factor=0.1,\n",
    "        init_seed=SEED,\n",
    "    ),\n",
    "    \"ForceAtlas2 (fa2) library layout\": lambda g: layout.force_atlas(\n",
    "        g,\n",
    "        weight_attr=\"weight\",\n",
    "        strongGravityMode=True,\n",
    "        gravity=1,\n",
    "        edgeWeightInfluence=1.2,\n",
    "        seed=SEED,\n",
    "    ),\n",
    "    \"Graphviz dot layout\": lambda g: nx.nx_agraph.graphviz_layout(\n",
    "        g,\n",
    "        prog=\"dot\"\n",
    "    ),\n",
    "    \"Graphviz neato layout\": lambda g: nx.nx_agraph.graphviz_layout(\n",
    "        g,\n",
    "        prog=\"neato\"\n",
    "    ),\n",
    "}\n",
    "\n",
    "# store the captions and the layout functinos separately for convenience below\n",
    "captions, layout_fns = zip(*LAYOUTS_SPEC.items())"
   ]
  },
  {
   "cell_type": "markdown",
   "metadata": {},
   "source": [
    "Define the charting function; we invoke `alph` with the chosen layout and caption,\n",
    "plus various node and edge attributes."
   ]
  },
  {
   "cell_type": "code",
   "execution_count": 4,
   "metadata": {},
   "outputs": [],
   "source": [
    "def chart_for_layout(layout_fn, caption):\n",
    "    return alph(\n",
    "        G_karate_club,\n",
    "        weight_attr=\"weight\",\n",
    "        layout_fn=layout_fn,\n",
    "        node_args=dict(\n",
    "            size=alt.Size(\n",
    "                \"degree_centrality\",\n",
    "                scale=alt.Scale(domain=[0,1],\n",
    "                range=[4**2, 16**2]),\n",
    "                legend=None\n",
    "            ),\n",
    "            fill=alt.Color(\"club:N\", legend=None),\n",
    "            stroke=\"#888\",\n",
    "            strokeWidth=0.3,\n",
    "            tooltip_attrs=[\"club\"],\n",
    "        ),\n",
    "        edge_args=dict(\n",
    "            color=\"black\",\n",
    "            opacity=0.3,\n",
    "            strokeWidth=alt.Size(\n",
    "                \"weight:Q\",\n",
    "                scale=alt.Scale(domain=[0,1], range=[0, 0.2]),\n",
    "                legend=None\n",
    "            ),\n",
    "        ),\n",
    "        width=300,\n",
    "        height=300,\n",
    "        padding=16,\n",
    "        prop_kwargs=dict(\n",
    "            title=alt.TitleParams(\n",
    "                caption,\n",
    "                baseline='bottom',\n",
    "                orient='bottom',\n",
    "                fontWeight='normal',\n",
    "                fontSize=10\n",
    "            ),\n",
    "        ),\n",
    "    )"
   ]
  },
  {
   "cell_type": "markdown",
   "metadata": {},
   "source": [
    "Finally, iterate over the layouts, and render the corresponding graphs\n",
    "in a grid with the specified number of columns."
   ]
  },
  {
   "cell_type": "code",
   "execution_count": 5,
   "metadata": {},
   "outputs": [
    {
     "data": {
      "application/vnd.vegalite.v4+json": {
       "$schema": "https://vega.github.io/schema/vega-lite/v4.17.0.json",
       "config": {
        "view": {
         "continuousHeight": 300,
         "continuousWidth": 400,
         "strokeWidth": 0
        }
       },
       "datasets": {
        "data-1859e08d4d681f2eea058e26247f564e": [
         {
          "__node_r": 5.752469825293227,
          "__node_size": 132.36363636363637,
          "club": "Mr. Hi",
          "degree_centrality": 0.48484848484848486,
          "x": 109.1478968375806,
          "y": 108.56984955480505
         },
         {
          "__node_r": 4.51260859854213,
          "__node_size": 81.45454545454545,
          "club": "Mr. Hi",
          "degree_centrality": 0.2727272727272727,
          "x": 83.02262818544673,
          "y": 93.75867362603623
         },
         {
          "__node_r": 4.709757762541316,
          "__node_size": 88.72727272727273,
          "club": "Mr. Hi",
          "degree_centrality": 0.30303030303030304,
          "x": 94.3367209088118,
          "y": 78.94749769726744
         },
         {
          "__node_r": 3.8612291966536914,
          "__node_size": 59.63636363636364,
          "club": "Mr. Hi",
          "degree_centrality": 0.18181818181818182,
          "x": 55.25167331900522,
          "y": 64.13632176849862
         },
         {
          "__node_r": 3.0748244591432297,
          "__node_size": 37.81818181818182,
          "club": "Mr. Hi",
          "degree_centrality": 0.09090909090909091,
          "x": 191.84362910653977,
          "y": 93.75867362603623
         },
         {
          "__node_r": 3.3574882386580707,
          "__node_size": 45.09090909090909,
          "club": "Mr. Hi",
          "degree_centrality": 0.12121212121212122,
          "x": 214.4718145532699,
          "y": 93.75867362603623
         },
         {
          "__node_r": 3.3574882386580707,
          "__node_size": 45.09090909090909,
          "club": "Mr. Hi",
          "degree_centrality": 0.12121212121212122,
          "x": 214.4718145532699,
          "y": 78.94749769726744
         },
         {
          "__node_r": 3.3574882386580707,
          "__node_size": 45.09090909090909,
          "club": "Mr. Hi",
          "degree_centrality": 0.12121212121212122,
          "x": 74.3827755603316,
          "y": 49.325145839729814
         },
         {
          "__node_r": 3.6181361349331636,
          "__node_size": 52.36363636363637,
          "club": "Mr. Hi",
          "degree_centrality": 0.15151515151515152,
          "x": 116.96490635554191,
          "y": 64.13632176849862
         },
         {
          "__node_r": 2.76339711883103,
          "__node_size": 30.545454545454547,
          "club": "Officer",
          "degree_centrality": 0.06060606060606061,
          "x": 88.16539760515812,
          "y": 34.51396991096101
         },
         {
          "__node_r": 3.0748244591432297,
          "__node_size": 37.81818181818182,
          "club": "Mr. Hi",
          "degree_centrality": 0.09090909090909091,
          "x": 199.66063862450108,
          "y": 78.94749769726744
         },
         {
          "__node_r": 2.412090756622109,
          "__node_size": 23.272727272727273,
          "club": "Mr. Hi",
          "degree_centrality": 0.030303030303030304,
          "x": 229.2809333742708,
          "y": 93.75867362603623
         },
         {
          "__node_r": 2.76339711883103,
          "__node_size": 30.545454545454547,
          "club": "Mr. Hi",
          "degree_centrality": 0.06060606060606061,
          "x": 40.440497390236416,
          "y": 49.325145839729814
         },
         {
          "__node_r": 3.6181361349331636,
          "__node_size": 52.36363636363637,
          "club": "Mr. Hi",
          "degree_centrality": 0.15151515151515152,
          "x": 55.25167331900522,
          "y": 49.325145839729814
         },
         {
          "__node_r": 2.76339711883103,
          "__node_size": 30.545454545454547,
          "club": "Officer",
          "degree_centrality": 0.06060606060606061,
          "x": 133.42176849861835,
          "y": 49.325145839729814
         },
         {
          "__node_r": 2.76339711883103,
          "__node_size": 30.545454545454547,
          "club": "Officer",
          "degree_centrality": 0.06060606060606061,
          "x": 148.23294442738717,
          "y": 49.325145839729814
         },
         {
          "__node_r": 2.76339711883103,
          "__node_size": 30.545454545454547,
          "club": "Mr. Hi",
          "degree_centrality": 0.06060606060606061,
          "x": 284,
          "y": 64.13632176849862
         },
         {
          "__node_r": 2.76339711883103,
          "__node_size": 30.545454545454547,
          "club": "Mr. Hi",
          "degree_centrality": 0.06060606060606061,
          "x": 109.1478968375806,
          "y": 78.94749769726744
         },
         {
          "__node_r": 2.76339711883103,
          "__node_size": 30.545454545454547,
          "club": "Officer",
          "degree_centrality": 0.06060606060606061,
          "x": 201.3063248388087,
          "y": 49.325145839729814
         },
         {
          "__node_r": 3.0748244591432297,
          "__node_size": 37.81818181818182,
          "club": "Mr. Hi",
          "degree_centrality": 0.09090909090909091,
          "x": 24.80606693276021,
          "y": 78.94749769726744
         },
         {
          "__node_r": 2.76339711883103,
          "__node_size": 30.545454545454547,
          "club": "Officer",
          "degree_centrality": 0.06060606060606061,
          "x": 216.11750076757752,
          "y": 49.325145839729814
         },
         {
          "__node_r": 2.76339711883103,
          "__node_size": 30.545454545454547,
          "club": "Mr. Hi",
          "degree_centrality": 0.06060606060606061,
          "x": 123.9590727663494,
          "y": 78.94749769726744
         },
         {
          "__node_r": 2.76339711883103,
          "__node_size": 30.545454545454547,
          "club": "Officer",
          "degree_centrality": 0.06060606060606061,
          "x": 230.92661958857846,
          "y": 49.325145839729814
         },
         {
          "__node_r": 3.6181361349331636,
          "__node_size": 52.36363636363637,
          "club": "Officer",
          "degree_centrality": 0.15151515151515152,
          "x": 184.84946269573226,
          "y": 78.94749769726744
         },
         {
          "__node_r": 3.0748244591432297,
          "__node_size": 37.81818181818182,
          "club": "Officer",
          "degree_centrality": 0.09090909090909091,
          "x": 170.03828676696347,
          "y": 78.94749769726744
         },
         {
          "__node_r": 3.0748244591432297,
          "__node_size": 37.81818181818182,
          "club": "Officer",
          "degree_centrality": 0.09090909090909091,
          "x": 184.84946269573226,
          "y": 64.13632176849862
         },
         {
          "__node_r": 2.76339711883103,
          "__node_size": 30.545454545454547,
          "club": "Officer",
          "degree_centrality": 0.06060606060606061,
          "x": 269.18882407123124,
          "y": 64.13632176849862
         },
         {
          "__node_r": 3.3574882386580707,
          "__node_size": 45.09090909090909,
          "club": "Officer",
          "degree_centrality": 0.12121212121212122,
          "x": 170.03828676696347,
          "y": 64.13632176849862
         },
         {
          "__node_r": 3.0748244591432297,
          "__node_size": 37.81818181818182,
          "club": "Officer",
          "degree_centrality": 0.09090909090909091,
          "x": 131.77608228431072,
          "y": 64.13632176849862
         },
         {
          "__node_r": 3.3574882386580707,
          "__node_size": 45.09090909090909,
          "club": "Officer",
          "degree_centrality": 0.12121212121212122,
          "x": 261.37181455326987,
          "y": 49.325145839729814
         },
         {
          "__node_r": 3.3574882386580707,
          "__node_size": 45.09090909090909,
          "club": "Officer",
          "degree_centrality": 0.12121212121212122,
          "x": 110.79358305188825,
          "y": 49.325145839729814
         },
         {
          "__node_r": 3.8612291966536914,
          "__node_size": 59.63636363636364,
          "club": "Officer",
          "degree_centrality": 0.18181818181818182,
          "x": 178.6781393920786,
          "y": 49.325145839729814
         },
         {
          "__node_r": 5.081159495448044,
          "__node_size": 103.27272727272728,
          "club": "Officer",
          "degree_centrality": 0.36363636363636365,
          "x": 167.36404666871354,
          "y": 34.51396991096101
         },
         {
          "__node_r": 5.908391567007971,
          "__node_size": 139.63636363636363,
          "club": "Officer",
          "degree_centrality": 0.5151515151515151,
          "x": 167.36404666871354,
          "y": 19.7027939821922
         }
        ],
        "data-19cd25a2cb1af9f15029b7f687f86521": [
         {
          "__node_r": 5.752469825293227,
          "__node_size": 132.36363636363637,
          "club": "Mr. Hi",
          "degree_centrality": 0.48484848484848486,
          "x": 75.34042332587809,
          "y": 200.61827541002015
         },
         {
          "__node_r": 4.51260859854213,
          "__node_size": 81.45454545454545,
          "club": "Mr. Hi",
          "degree_centrality": 0.2727272727272727,
          "x": 135.50051178314496,
          "y": 232.28356923323324
         },
         {
          "__node_r": 4.709757762541316,
          "__node_size": 88.72727272727273,
          "club": "Mr. Hi",
          "degree_centrality": 0.30303030303030304,
          "x": 164.44981027937476,
          "y": 199.07733671833338
         },
         {
          "__node_r": 3.8612291966536914,
          "__node_size": 59.63636363636364,
          "club": "Mr. Hi",
          "degree_centrality": 0.18181818181818182,
          "x": 94.90590119477949,
          "y": 257.35665400165635
         },
         {
          "__node_r": 3.0748244591432297,
          "__node_size": 37.81818181818182,
          "club": "Mr. Hi",
          "degree_centrality": 0.09090909090909091,
          "x": 242.8408006647217,
          "y": 198.0664119691968
         },
         {
          "__node_r": 3.3574882386580707,
          "__node_size": 45.09090909090909,
          "club": "Mr. Hi",
          "degree_centrality": 0.12121212121212122,
          "x": 224.72789880667094,
          "y": 251.11635632706452
         },
         {
          "__node_r": 3.3574882386580707,
          "__node_size": 45.09090909090909,
          "club": "Mr. Hi",
          "degree_centrality": 0.12121212121212122,
          "x": 224.2933436815151,
          "y": 229.5545839387629
         },
         {
          "__node_r": 3.3574882386580707,
          "__node_size": 45.09090909090909,
          "club": "Mr. Hi",
          "degree_centrality": 0.12121212121212122,
          "x": 135.85812616848844,
          "y": 272.14849507005107
         },
         {
          "__node_r": 3.6181361349331636,
          "__node_size": 52.36363636363637,
          "club": "Mr. Hi",
          "degree_centrality": 0.15151515151515152,
          "x": 195.35394216007117,
          "y": 152.30131641781472
         },
         {
          "__node_r": 2.76339711883103,
          "__node_size": 30.545454545454547,
          "club": "Officer",
          "degree_centrality": 0.06060606060606061,
          "x": 246.80771723634942,
          "y": 141.59886162915308
         },
         {
          "__node_r": 3.0748244591432297,
          "__node_size": 37.81818181818182,
          "club": "Mr. Hi",
          "degree_centrality": 0.09090909090909091,
          "x": 257.8958787831277,
          "y": 215.66646555884344
         },
         {
          "__node_r": 2.412090756622109,
          "__node_size": 23.272727272727273,
          "club": "Mr. Hi",
          "degree_centrality": 0.030303030303030304,
          "x": 16,
          "y": 190.4737771467935
         },
         {
          "__node_r": 2.76339711883103,
          "__node_size": 30.545454545454547,
          "club": "Mr. Hi",
          "degree_centrality": 0.06060606060606061,
          "x": 53.18887321297999,
          "y": 260.1458547296339
         },
         {
          "__node_r": 3.6181361349331636,
          "__node_size": 52.36363636363637,
          "club": "Mr. Hi",
          "degree_centrality": 0.15151515151515152,
          "x": 122.87421204357311,
          "y": 180.98476362941216
         },
         {
          "__node_r": 2.76339711883103,
          "__node_size": 30.545454545454547,
          "club": "Officer",
          "degree_centrality": 0.06060606060606061,
          "x": 228.99509576340873,
          "y": 80.77584011473759
         },
         {
          "__node_r": 2.76339711883103,
          "__node_size": 30.545454545454547,
          "club": "Officer",
          "degree_centrality": 0.06060606060606061,
          "x": 171.76121844235394,
          "y": 72.35085238608266
         },
         {
          "__node_r": 2.76339711883103,
          "__node_size": 30.545454545454547,
          "club": "Mr. Hi",
          "degree_centrality": 0.06060606060606061,
          "x": 248.95041546938234,
          "y": 251.5010581473393
         },
         {
          "__node_r": 2.76339711883103,
          "__node_size": 30.545454545454547,
          "club": "Mr. Hi",
          "degree_centrality": 0.06060606060606061,
          "x": 16.09655261044712,
          "y": 155.52323713037273
         },
         {
          "__node_r": 2.76339711883103,
          "__node_size": 30.545454545454547,
          "club": "Officer",
          "degree_centrality": 0.06060606060606061,
          "x": 245.74602447827542,
          "y": 102.67987735307909
         },
         {
          "__node_r": 3.0748244591432297,
          "__node_size": 37.81818181818182,
          "club": "Mr. Hi",
          "degree_centrality": 0.09090909090909091,
          "x": 53.212713810840356,
          "y": 142.91563073445
         },
         {
          "__node_r": 2.76339711883103,
          "__node_size": 30.545454545454547,
          "club": "Officer",
          "degree_centrality": 0.06060606060606061,
          "x": 235.35076377296585,
          "y": 50.68865492680384
         },
         {
          "__node_r": 2.76339711883103,
          "__node_size": 30.545454545454547,
          "club": "Mr. Hi",
          "degree_centrality": 0.06060606060606061,
          "x": 171.62872577318996,
          "y": 280.3026887244505
         },
         {
          "__node_r": 2.76339711883103,
          "__node_size": 30.545454545454547,
          "club": "Officer",
          "degree_centrality": 0.06060606060606061,
          "x": 206.18756426468985,
          "y": 101.19675728063196
         },
         {
          "__node_r": 3.6181361349331636,
          "__node_size": 52.36363636363637,
          "club": "Officer",
          "degree_centrality": 0.15151515151515152,
          "x": 129.79105369378675,
          "y": 53.75824107924058
         },
         {
          "__node_r": 3.0748244591432297,
          "__node_size": 37.81818181818182,
          "club": "Officer",
          "degree_centrality": 0.09090909090909091,
          "x": 56.16396810387523,
          "y": 79.68508795522786
         },
         {
          "__node_r": 3.0748244591432297,
          "__node_size": 37.81818181818182,
          "club": "Officer",
          "degree_centrality": 0.09090909090909091,
          "x": 81.45532943194424,
          "y": 49.6674963249328
         },
         {
          "__node_r": 2.76339711883103,
          "__node_size": 30.545454545454547,
          "club": "Officer",
          "degree_centrality": 0.06060606060606061,
          "x": 150.88816030394196,
          "y": 30.046875869222852
         },
         {
          "__node_r": 3.3574882386580707,
          "__node_size": 45.09090909090909,
          "club": "Officer",
          "degree_centrality": 0.12121212121212122,
          "x": 104.81261378517719,
          "y": 97.24232503939227
         },
         {
          "__node_r": 3.0748244591432297,
          "__node_size": 37.81818181818182,
          "club": "Officer",
          "degree_centrality": 0.09090909090909091,
          "x": 93.94563907911201,
          "y": 124.46624397385379
         },
         {
          "__node_r": 3.3574882386580707,
          "__node_size": 45.09090909090909,
          "club": "Officer",
          "degree_centrality": 0.12121212121212122,
          "x": 168.37045517033232,
          "y": 26.497663483571294
         },
         {
          "__node_r": 3.3574882386580707,
          "__node_size": 45.09090909090909,
          "club": "Officer",
          "degree_centrality": 0.12121212121212122,
          "x": 220.55203627551344,
          "y": 132.92466672001314
         },
         {
          "__node_r": 3.8612291966536914,
          "__node_size": 59.63636363636364,
          "club": "Officer",
          "degree_centrality": 0.18181818181818182,
          "x": 91.48207399958316,
          "y": 70.00721881622316
         },
         {
          "__node_r": 5.081159495448044,
          "__node_size": 103.27272727272728,
          "club": "Officer",
          "degree_centrality": 0.36363636363636365,
          "x": 201.03716851268632,
          "y": 63.17108287149741
         },
         {
          "__node_r": 5.908391567007971,
          "__node_size": 139.63636363636363,
          "club": "Officer",
          "degree_centrality": 0.5151515151515151,
          "x": 164.16736029047362,
          "y": 105.06093221410134
         }
        ],
        "data-2a2e019ca7cf8d73fb14fa870c3a3692": [
         {
          "__node_r": 5.752469825293227,
          "__node_size": 132.36363636363637,
          "club": "Mr. Hi",
          "degree_centrality": 0.48484848484848486,
          "x": 109.21737482736917,
          "y": 113.69017033023773
         },
         {
          "__node_r": 4.51260859854213,
          "__node_size": 81.45454545454545,
          "club": "Mr. Hi",
          "degree_centrality": 0.2727272727272727,
          "x": 132.18323779229812,
          "y": 121.3523642198119
         },
         {
          "__node_r": 4.709757762541316,
          "__node_size": 88.72727272727273,
          "club": "Mr. Hi",
          "degree_centrality": 0.30303030303030304,
          "x": 142.66166800802432,
          "y": 146.5568435986972
         },
         {
          "__node_r": 3.8612291966536914,
          "__node_size": 59.63636363636364,
          "club": "Mr. Hi",
          "degree_centrality": 0.18181818181818182,
          "x": 140.02099605786296,
          "y": 96.93449788126571
         },
         {
          "__node_r": 3.0748244591432297,
          "__node_size": 37.81818181818182,
          "club": "Mr. Hi",
          "degree_centrality": 0.09090909090909091,
          "x": 79.95255013178684,
          "y": 72.16449024641298
         },
         {
          "__node_r": 3.3574882386580707,
          "__node_size": 45.09090909090909,
          "club": "Mr. Hi",
          "degree_centrality": 0.12121212121212122,
          "x": 48.112620790007824,
          "y": 91.22081508176035
         },
         {
          "__node_r": 3.3574882386580707,
          "__node_size": 45.09090909090909,
          "club": "Mr. Hi",
          "degree_centrality": 0.12121212121212122,
          "x": 55.11077167633867,
          "y": 81.87994696938405
         },
         {
          "__node_r": 3.3574882386580707,
          "__node_size": 45.09090909090909,
          "club": "Mr. Hi",
          "degree_centrality": 0.12121212121212122,
          "x": 135.64480200854078,
          "y": 110.07524588399292
         },
         {
          "__node_r": 3.6181361349331636,
          "__node_size": 52.36363636363637,
          "club": "Mr. Hi",
          "degree_centrality": 0.15151515151515152,
          "x": 165.01903985681926,
          "y": 154.91839356083892
         },
         {
          "__node_r": 2.76339711883103,
          "__node_size": 30.545454545454547,
          "club": "Officer",
          "degree_centrality": 0.06060606060606061,
          "x": 130.510651009559,
          "y": 205.68054477625847
         },
         {
          "__node_r": 3.0748244591432297,
          "__node_size": 37.81818181818182,
          "club": "Mr. Hi",
          "degree_centrality": 0.09090909090909091,
          "x": 62.85173599087686,
          "y": 65.35282554040126
         },
         {
          "__node_r": 2.412090756622109,
          "__node_size": 23.272727272727273,
          "club": "Mr. Hi",
          "degree_centrality": 0.030303030303030304,
          "x": 66.22938064151293,
          "y": 141.67024230765222
         },
         {
          "__node_r": 2.76339711883103,
          "__node_size": 30.545454545454547,
          "club": "Mr. Hi",
          "degree_centrality": 0.06060606060606061,
          "x": 149.86889893869017,
          "y": 56.17821398117589
         },
         {
          "__node_r": 3.6181361349331636,
          "__node_size": 52.36363636363637,
          "club": "Mr. Hi",
          "degree_centrality": 0.15151515151515152,
          "x": 150.60058749935806,
          "y": 132.2328120101675
         },
         {
          "__node_r": 2.76339711883103,
          "__node_size": 30.545454545454547,
          "club": "Officer",
          "degree_centrality": 0.06060606060606061,
          "x": 176.68291369681407,
          "y": 183.9392512203733
         },
         {
          "__node_r": 2.76339711883103,
          "__node_size": 30.545454545454547,
          "club": "Officer",
          "degree_centrality": 0.06060606060606061,
          "x": 207.93785625160797,
          "y": 148.1337143195409
         },
         {
          "__node_r": 2.76339711883103,
          "__node_size": 30.545454545454547,
          "club": "Mr. Hi",
          "degree_centrality": 0.06060606060606061,
          "x": 16,
          "y": 70.08210627712133
         },
         {
          "__node_r": 2.76339711883103,
          "__node_size": 30.545454545454547,
          "club": "Mr. Hi",
          "degree_centrality": 0.06060606060606061,
          "x": 111.4260351373485,
          "y": 62.16322698234085
         },
         {
          "__node_r": 2.76339711883103,
          "__node_size": 30.545454545454547,
          "club": "Officer",
          "degree_centrality": 0.06060606060606061,
          "x": 228.80583414260417,
          "y": 233.66270782032723
         },
         {
          "__node_r": 3.0748244591432297,
          "__node_size": 37.81818181818182,
          "club": "Mr. Hi",
          "degree_centrality": 0.09090909090909091,
          "x": 164.14197026344692,
          "y": 107.65921497185028
         },
         {
          "__node_r": 2.76339711883103,
          "__node_size": 30.545454545454547,
          "club": "Officer",
          "degree_centrality": 0.06060606060606061,
          "x": 248.34307189714252,
          "y": 164.4935619216727
         },
         {
          "__node_r": 2.76339711883103,
          "__node_size": 30.545454545454547,
          "club": "Mr. Hi",
          "degree_centrality": 0.06060606060606061,
          "x": 81.0242985865018,
          "y": 118.18638865927
         },
         {
          "__node_r": 2.76339711883103,
          "__node_size": 30.545454545454547,
          "club": "Officer",
          "degree_centrality": 0.06060606060606061,
          "x": 238.70803282857867,
          "y": 184.3504372186825
         },
         {
          "__node_r": 3.6181361349331636,
          "__node_size": 52.36363636363637,
          "club": "Officer",
          "degree_centrality": 0.15151515151515152,
          "x": 196.560662125522,
          "y": 215.62146115873384
         },
         {
          "__node_r": 3.0748244591432297,
          "__node_size": 37.81818181818182,
          "club": "Officer",
          "degree_centrality": 0.09090909090909091,
          "x": 150.96712715235986,
          "y": 251.02619833480185
         },
         {
          "__node_r": 3.0748244591432297,
          "__node_size": 37.81818181818182,
          "club": "Officer",
          "degree_centrality": 0.09090909090909091,
          "x": 168.4787409256817,
          "y": 233.66994548724898
         },
         {
          "__node_r": 2.76339711883103,
          "__node_size": 30.545454545454547,
          "club": "Officer",
          "degree_centrality": 0.06060606060606061,
          "x": 251.7792448434008,
          "y": 214.19047776989257
         },
         {
          "__node_r": 3.3574882386580707,
          "__node_size": 45.09090909090909,
          "club": "Officer",
          "degree_centrality": 0.12121212121212122,
          "x": 168.9281805694228,
          "y": 213.66292104204388
         },
         {
          "__node_r": 3.0748244591432297,
          "__node_size": 37.81818181818182,
          "club": "Officer",
          "degree_centrality": 0.09090909090909091,
          "x": 162.13888753632392,
          "y": 192.21466799902228
         },
         {
          "__node_r": 3.3574882386580707,
          "__node_size": 45.09090909090909,
          "club": "Officer",
          "degree_centrality": 0.12121212121212122,
          "x": 227.25465060755863,
          "y": 207.84634431005705
         },
         {
          "__node_r": 3.3574882386580707,
          "__node_size": 45.09090909090909,
          "club": "Officer",
          "degree_centrality": 0.12121212121212122,
          "x": 184.89504828115483,
          "y": 147.52492234663248
         },
         {
          "__node_r": 3.8612291966536914,
          "__node_size": 59.63636363636364,
          "club": "Officer",
          "degree_centrality": 0.18181818181818182,
          "x": 155.7862858626828,
          "y": 198.31982237106334
         },
         {
          "__node_r": 5.081159495448044,
          "__node_size": 103.27272727272728,
          "club": "Officer",
          "degree_centrality": 0.36363636363636365,
          "x": 200.97951813398362,
          "y": 180.70942102295686
         },
         {
          "__node_r": 5.908391567007971,
          "__node_size": 139.63636363636363,
          "club": "Officer",
          "degree_centrality": 0.5151515151515151,
          "x": 191.1773259288198,
          "y": 182.63580237831079
         }
        ],
        "data-3421c71d1f82e13ff4e4827f52438cee": [
         {
          "edge": 0,
          "pair": [
           0,
           1
          ],
          "source": 0,
          "target": 1,
          "weight": 4,
          "x": 146.73908443253154,
          "y": 127.94234793444781
         },
         {
          "edge": 0,
          "pair": [
           0,
           1
          ],
          "source": 0,
          "target": 1,
          "weight": 4,
          "x": 164.6851473043192,
          "y": 151.23190143659917
         },
         {
          "edge": 1,
          "pair": [
           0,
           2
          ],
          "source": 0,
          "target": 2,
          "weight": 5,
          "x": 146.73908443253154,
          "y": 127.94234793444781
         },
         {
          "edge": 1,
          "pair": [
           0,
           2
          ],
          "source": 0,
          "target": 2,
          "weight": 5,
          "x": 116.56222520044203,
          "y": 167.39470033622533
         },
         {
          "edge": 2,
          "pair": [
           0,
           3
          ],
          "source": 0,
          "target": 3,
          "weight": 3,
          "x": 146.73908443253154,
          "y": 127.94234793444781
         },
         {
          "edge": 2,
          "pair": [
           0,
           3
          ],
          "source": 0,
          "target": 3,
          "weight": 3,
          "x": 108.62260468834496,
          "y": 132.2272224965319
         },
         {
          "edge": 3,
          "pair": [
           0,
           4
          ],
          "source": 0,
          "target": 4,
          "weight": 3,
          "x": 146.73908443253154,
          "y": 127.94234793444781
         },
         {
          "edge": 3,
          "pair": [
           0,
           4
          ],
          "source": 0,
          "target": 4,
          "weight": 3,
          "x": 195.54884672356633,
          "y": 100.24819543391878
         },
         {
          "edge": 4,
          "pair": [
           0,
           5
          ],
          "source": 0,
          "target": 5,
          "weight": 3,
          "x": 146.73908443253154,
          "y": 127.94234793444781
         },
         {
          "edge": 4,
          "pair": [
           0,
           5
          ],
          "source": 0,
          "target": 5,
          "weight": 3,
          "x": 139.68794526345488,
          "y": 72.13248689191414
         },
         {
          "edge": 5,
          "pair": [
           0,
           6
          ],
          "source": 0,
          "target": 6,
          "weight": 3,
          "x": 146.73908443253154,
          "y": 127.94234793444781
         },
         {
          "edge": 5,
          "pair": [
           0,
           6
          ],
          "source": 0,
          "target": 6,
          "weight": 3,
          "x": 167.533328630881,
          "y": 75.80928734334955
         },
         {
          "edge": 6,
          "pair": [
           0,
           7
          ],
          "source": 0,
          "target": 7,
          "weight": 2,
          "x": 146.73908443253154,
          "y": 127.94234793444781
         },
         {
          "edge": 6,
          "pair": [
           0,
           7
          ],
          "source": 0,
          "target": 7,
          "weight": 2,
          "x": 124.04185182572711,
          "y": 120.94792034045754
         },
         {
          "edge": 7,
          "pair": [
           0,
           8
          ],
          "source": 0,
          "target": 8,
          "weight": 2,
          "x": 146.73908443253154,
          "y": 127.94234793444781
         },
         {
          "edge": 7,
          "pair": [
           0,
           8
          ],
          "source": 0,
          "target": 8,
          "weight": 2,
          "x": 148.26399567374386,
          "y": 186.20403940655052
         },
         {
          "edge": 8,
          "pair": [
           0,
           10
          ],
          "source": 0,
          "target": 10,
          "weight": 2,
          "x": 146.73908443253154,
          "y": 127.94234793444781
         },
         {
          "edge": 8,
          "pair": [
           0,
           10
          ],
          "source": 0,
          "target": 10,
          "weight": 2,
          "x": 170.0034327902001,
          "y": 91.42639486492206
         },
         {
          "edge": 9,
          "pair": [
           0,
           11
          ],
          "source": 0,
          "target": 11,
          "weight": 3,
          "x": 146.73908443253154,
          "y": 127.94234793444781
         },
         {
          "edge": 9,
          "pair": [
           0,
           11
          ],
          "source": 0,
          "target": 11,
          "weight": 3,
          "x": 111.82365803766663,
          "y": 78.84146622463615
         },
         {
          "edge": 10,
          "pair": [
           0,
           12
          ],
          "source": 0,
          "target": 12,
          "weight": 1,
          "x": 146.73908443253154,
          "y": 127.94234793444781
         },
         {
          "edge": 10,
          "pair": [
           0,
           12
          ],
          "source": 0,
          "target": 12,
          "weight": 1,
          "x": 94.23046718863887,
          "y": 92.91349838941008
         },
         {
          "edge": 11,
          "pair": [
           0,
           13
          ],
          "source": 0,
          "target": 13,
          "weight": 3,
          "x": 146.73908443253154,
          "y": 127.94234793444781
         },
         {
          "edge": 11,
          "pair": [
           0,
           13
          ],
          "source": 0,
          "target": 13,
          "weight": 3,
          "x": 139.4295925325057,
          "y": 170.8541064164962
         },
         {
          "edge": 12,
          "pair": [
           0,
           17
          ],
          "source": 0,
          "target": 17,
          "weight": 2,
          "x": 146.73908443253154,
          "y": 127.94234793444781
         },
         {
          "edge": 12,
          "pair": [
           0,
           17
          ],
          "source": 0,
          "target": 17,
          "weight": 2,
          "x": 206.21062283981095,
          "y": 143.0717359102772
         },
         {
          "edge": 13,
          "pair": [
           0,
           19
          ],
          "source": 0,
          "target": 19,
          "weight": 2,
          "x": 146.73908443253154,
          "y": 127.94234793444781
         },
         {
          "edge": 13,
          "pair": [
           0,
           19
          ],
          "source": 0,
          "target": 19,
          "weight": 2,
          "x": 166.91580259105123,
          "y": 183.16681949636737
         },
         {
          "edge": 14,
          "pair": [
           0,
           21
          ],
          "source": 0,
          "target": 21,
          "weight": 2,
          "x": 146.73908443253154,
          "y": 127.94234793444781
         },
         {
          "edge": 14,
          "pair": [
           0,
           21
          ],
          "source": 0,
          "target": 21,
          "weight": 2,
          "x": 200.45124732548024,
          "y": 126.0456608121135
         },
         {
          "edge": 15,
          "pair": [
           0,
           31
          ],
          "source": 0,
          "target": 31,
          "weight": 2,
          "x": 146.73908443253154,
          "y": 127.94234793444781
         },
         {
          "edge": 15,
          "pair": [
           0,
           31
          ],
          "source": 0,
          "target": 31,
          "weight": 2,
          "x": 96.55564176718158,
          "y": 167.3757964778632
         },
         {
          "edge": 16,
          "pair": [
           1,
           2
          ],
          "source": 1,
          "target": 2,
          "weight": 6,
          "x": 164.6851473043192,
          "y": 151.23190143659917
         },
         {
          "edge": 16,
          "pair": [
           1,
           2
          ],
          "source": 1,
          "target": 2,
          "weight": 6,
          "x": 116.56222520044203,
          "y": 167.39470033622533
         },
         {
          "edge": 17,
          "pair": [
           1,
           3
          ],
          "source": 1,
          "target": 3,
          "weight": 3,
          "x": 164.6851473043192,
          "y": 151.23190143659917
         },
         {
          "edge": 17,
          "pair": [
           1,
           3
          ],
          "source": 1,
          "target": 3,
          "weight": 3,
          "x": 108.62260468834496,
          "y": 132.2272224965319
         },
         {
          "edge": 18,
          "pair": [
           1,
           7
          ],
          "source": 1,
          "target": 7,
          "weight": 4,
          "x": 164.6851473043192,
          "y": 151.23190143659917
         },
         {
          "edge": 18,
          "pair": [
           1,
           7
          ],
          "source": 1,
          "target": 7,
          "weight": 4,
          "x": 124.04185182572711,
          "y": 120.94792034045754
         },
         {
          "edge": 19,
          "pair": [
           1,
           13
          ],
          "source": 1,
          "target": 13,
          "weight": 5,
          "x": 164.6851473043192,
          "y": 151.23190143659917
         },
         {
          "edge": 19,
          "pair": [
           1,
           13
          ],
          "source": 1,
          "target": 13,
          "weight": 5,
          "x": 139.4295925325057,
          "y": 170.8541064164962
         },
         {
          "edge": 20,
          "pair": [
           1,
           17
          ],
          "source": 1,
          "target": 17,
          "weight": 1,
          "x": 164.6851473043192,
          "y": 151.23190143659917
         },
         {
          "edge": 20,
          "pair": [
           1,
           17
          ],
          "source": 1,
          "target": 17,
          "weight": 1,
          "x": 206.21062283981095,
          "y": 143.0717359102772
         },
         {
          "edge": 21,
          "pair": [
           1,
           19
          ],
          "source": 1,
          "target": 19,
          "weight": 2,
          "x": 164.6851473043192,
          "y": 151.23190143659917
         },
         {
          "edge": 21,
          "pair": [
           1,
           19
          ],
          "source": 1,
          "target": 19,
          "weight": 2,
          "x": 166.91580259105123,
          "y": 183.16681949636737
         },
         {
          "edge": 22,
          "pair": [
           1,
           21
          ],
          "source": 1,
          "target": 21,
          "weight": 2,
          "x": 164.6851473043192,
          "y": 151.23190143659917
         },
         {
          "edge": 22,
          "pair": [
           1,
           21
          ],
          "source": 1,
          "target": 21,
          "weight": 2,
          "x": 200.45124732548024,
          "y": 126.0456608121135
         },
         {
          "edge": 23,
          "pair": [
           1,
           30
          ],
          "source": 1,
          "target": 30,
          "weight": 2,
          "x": 164.6851473043192,
          "y": 151.23190143659917
         },
         {
          "edge": 23,
          "pair": [
           1,
           30
          ],
          "source": 1,
          "target": 30,
          "weight": 2,
          "x": 169.07084244433472,
          "y": 211.18233758905268
         },
         {
          "edge": 24,
          "pair": [
           2,
           3
          ],
          "source": 2,
          "target": 3,
          "weight": 3,
          "x": 116.56222520044203,
          "y": 167.39470033622533
         },
         {
          "edge": 24,
          "pair": [
           2,
           3
          ],
          "source": 2,
          "target": 3,
          "weight": 3,
          "x": 108.62260468834496,
          "y": 132.2272224965319
         },
         {
          "edge": 25,
          "pair": [
           2,
           7
          ],
          "source": 2,
          "target": 7,
          "weight": 4,
          "x": 116.56222520044203,
          "y": 167.39470033622533
         },
         {
          "edge": 25,
          "pair": [
           2,
           7
          ],
          "source": 2,
          "target": 7,
          "weight": 4,
          "x": 124.04185182572711,
          "y": 120.94792034045754
         },
         {
          "edge": 26,
          "pair": [
           2,
           8
          ],
          "source": 2,
          "target": 8,
          "weight": 5,
          "x": 116.56222520044203,
          "y": 167.39470033622533
         },
         {
          "edge": 26,
          "pair": [
           2,
           8
          ],
          "source": 2,
          "target": 8,
          "weight": 5,
          "x": 148.26399567374386,
          "y": 186.20403940655052
         },
         {
          "edge": 27,
          "pair": [
           2,
           9
          ],
          "source": 2,
          "target": 9,
          "weight": 1,
          "x": 116.56222520044203,
          "y": 167.39470033622533
         },
         {
          "edge": 27,
          "pair": [
           2,
           9
          ],
          "source": 2,
          "target": 9,
          "weight": 1,
          "x": 90.49380451905668,
          "y": 205.46076979144624
         },
         {
          "edge": 28,
          "pair": [
           2,
           13
          ],
          "source": 2,
          "target": 13,
          "weight": 3,
          "x": 116.56222520044203,
          "y": 167.39470033622533
         },
         {
          "edge": 28,
          "pair": [
           2,
           13
          ],
          "source": 2,
          "target": 13,
          "weight": 3,
          "x": 139.4295925325057,
          "y": 170.8541064164962
         },
         {
          "edge": 29,
          "pair": [
           2,
           27
          ],
          "source": 2,
          "target": 27,
          "weight": 2,
          "x": 116.56222520044203,
          "y": 167.39470033622533
         },
         {
          "edge": 29,
          "pair": [
           2,
           27
          ],
          "source": 2,
          "target": 27,
          "weight": 2,
          "x": 68.07571888739977,
          "y": 192.82038983329807
         },
         {
          "edge": 30,
          "pair": [
           2,
           28
          ],
          "source": 2,
          "target": 28,
          "weight": 2,
          "x": 116.56222520044203,
          "y": 167.39470033622533
         },
         {
          "edge": 30,
          "pair": [
           2,
           28
          ],
          "source": 2,
          "target": 28,
          "weight": 2,
          "x": 79.13258564341304,
          "y": 186.92238602431166
         },
         {
          "edge": 31,
          "pair": [
           2,
           32
          ],
          "source": 2,
          "target": 32,
          "weight": 2,
          "x": 116.56222520044203,
          "y": 167.39470033622533
         },
         {
          "edge": 31,
          "pair": [
           2,
           32
          ],
          "source": 2,
          "target": 32,
          "weight": 2,
          "x": 124.57115985986692,
          "y": 226.05337283393288
         },
         {
          "edge": 32,
          "pair": [
           3,
           7
          ],
          "source": 3,
          "target": 7,
          "weight": 3,
          "x": 108.62260468834496,
          "y": 132.2272224965319
         },
         {
          "edge": 32,
          "pair": [
           3,
           7
          ],
          "source": 3,
          "target": 7,
          "weight": 3,
          "x": 124.04185182572711,
          "y": 120.94792034045754
         },
         {
          "edge": 33,
          "pair": [
           3,
           12
          ],
          "source": 3,
          "target": 12,
          "weight": 3,
          "x": 108.62260468834496,
          "y": 132.2272224965319
         },
         {
          "edge": 33,
          "pair": [
           3,
           12
          ],
          "source": 3,
          "target": 12,
          "weight": 3,
          "x": 94.23046718863887,
          "y": 92.91349838941008
         },
         {
          "edge": 34,
          "pair": [
           3,
           13
          ],
          "source": 3,
          "target": 13,
          "weight": 3,
          "x": 108.62260468834496,
          "y": 132.2272224965319
         },
         {
          "edge": 34,
          "pair": [
           3,
           13
          ],
          "source": 3,
          "target": 13,
          "weight": 3,
          "x": 139.4295925325057,
          "y": 170.8541064164962
         },
         {
          "edge": 35,
          "pair": [
           4,
           6
          ],
          "source": 4,
          "target": 6,
          "weight": 2,
          "x": 195.54884672356633,
          "y": 100.24819543391878
         },
         {
          "edge": 35,
          "pair": [
           4,
           6
          ],
          "source": 4,
          "target": 6,
          "weight": 2,
          "x": 167.533328630881,
          "y": 75.80928734334955
         },
         {
          "edge": 36,
          "pair": [
           4,
           10
          ],
          "source": 4,
          "target": 10,
          "weight": 3,
          "x": 195.54884672356633,
          "y": 100.24819543391878
         },
         {
          "edge": 36,
          "pair": [
           4,
           10
          ],
          "source": 4,
          "target": 10,
          "weight": 3,
          "x": 170.0034327902001,
          "y": 91.42639486492206
         },
         {
          "edge": 37,
          "pair": [
           5,
           6
          ],
          "source": 5,
          "target": 6,
          "weight": 5,
          "x": 139.68794526345488,
          "y": 72.13248689191414
         },
         {
          "edge": 37,
          "pair": [
           5,
           6
          ],
          "source": 5,
          "target": 6,
          "weight": 5,
          "x": 167.533328630881,
          "y": 75.80928734334955
         },
         {
          "edge": 38,
          "pair": [
           5,
           10
          ],
          "source": 5,
          "target": 10,
          "weight": 3,
          "x": 139.68794526345488,
          "y": 72.13248689191414
         },
         {
          "edge": 38,
          "pair": [
           5,
           10
          ],
          "source": 5,
          "target": 10,
          "weight": 3,
          "x": 170.0034327902001,
          "y": 91.42639486492206
         },
         {
          "edge": 39,
          "pair": [
           5,
           16
          ],
          "source": 5,
          "target": 16,
          "weight": 3,
          "x": 139.68794526345488,
          "y": 72.13248689191414
         },
         {
          "edge": 39,
          "pair": [
           5,
           16
          ],
          "source": 5,
          "target": 16,
          "weight": 3,
          "x": 163.98570454492017,
          "y": 27.34231501728151
         },
         {
          "edge": 40,
          "pair": [
           6,
           16
          ],
          "source": 6,
          "target": 16,
          "weight": 3,
          "x": 167.533328630881,
          "y": 75.80928734334955
         },
         {
          "edge": 40,
          "pair": [
           6,
           16
          ],
          "source": 6,
          "target": 16,
          "weight": 3,
          "x": 163.98570454492017,
          "y": 27.34231501728151
         },
         {
          "edge": 41,
          "pair": [
           8,
           30
          ],
          "source": 8,
          "target": 30,
          "weight": 3,
          "x": 148.26399567374386,
          "y": 186.20403940655052
         },
         {
          "edge": 41,
          "pair": [
           8,
           30
          ],
          "source": 8,
          "target": 30,
          "weight": 3,
          "x": 169.07084244433472,
          "y": 211.18233758905268
         },
         {
          "edge": 42,
          "pair": [
           8,
           32
          ],
          "source": 8,
          "target": 32,
          "weight": 3,
          "x": 148.26399567374386,
          "y": 186.20403940655052
         },
         {
          "edge": 42,
          "pair": [
           8,
           32
          ],
          "source": 8,
          "target": 32,
          "weight": 3,
          "x": 124.57115985986692,
          "y": 226.05337283393288
         },
         {
          "edge": 43,
          "pair": [
           8,
           33
          ],
          "source": 8,
          "target": 33,
          "weight": 4,
          "x": 148.26399567374386,
          "y": 186.20403940655052
         },
         {
          "edge": 43,
          "pair": [
           8,
           33
          ],
          "source": 8,
          "target": 33,
          "weight": 4,
          "x": 115.25785897345466,
          "y": 221.66767769391734
         },
         {
          "edge": 44,
          "pair": [
           9,
           33
          ],
          "source": 9,
          "target": 33,
          "weight": 2,
          "x": 90.49380451905668,
          "y": 205.46076979144624
         },
         {
          "edge": 44,
          "pair": [
           9,
           33
          ],
          "source": 9,
          "target": 33,
          "weight": 2,
          "x": 115.25785897345466,
          "y": 221.66767769391734
         },
         {
          "edge": 45,
          "pair": [
           13,
           33
          ],
          "source": 13,
          "target": 33,
          "weight": 3,
          "x": 139.4295925325057,
          "y": 170.8541064164962
         },
         {
          "edge": 45,
          "pair": [
           13,
           33
          ],
          "source": 13,
          "target": 33,
          "weight": 3,
          "x": 115.25785897345466,
          "y": 221.66767769391734
         },
         {
          "edge": 46,
          "pair": [
           14,
           32
          ],
          "source": 14,
          "target": 32,
          "weight": 3,
          "x": 139.29096423785003,
          "y": 268.1081564035644
         },
         {
          "edge": 46,
          "pair": [
           14,
           32
          ],
          "source": 14,
          "target": 32,
          "weight": 3,
          "x": 124.57115985986692,
          "y": 226.05337283393288
         },
         {
          "edge": 47,
          "pair": [
           14,
           33
          ],
          "source": 14,
          "target": 33,
          "weight": 2,
          "x": 139.29096423785003,
          "y": 268.1081564035644
         },
         {
          "edge": 47,
          "pair": [
           14,
           33
          ],
          "source": 14,
          "target": 33,
          "weight": 2,
          "x": 115.25785897345466,
          "y": 221.66767769391734
         },
         {
          "edge": 48,
          "pair": [
           15,
           32
          ],
          "source": 15,
          "target": 32,
          "weight": 3,
          "x": 168.83769485786837,
          "y": 247.84322023935482
         },
         {
          "edge": 48,
          "pair": [
           15,
           32
          ],
          "source": 15,
          "target": 32,
          "weight": 3,
          "x": 124.57115985986692,
          "y": 226.05337283393288
         },
         {
          "edge": 49,
          "pair": [
           15,
           33
          ],
          "source": 15,
          "target": 33,
          "weight": 4,
          "x": 168.83769485786837,
          "y": 247.84322023935482
         },
         {
          "edge": 49,
          "pair": [
           15,
           33
          ],
          "source": 15,
          "target": 33,
          "weight": 4,
          "x": 115.25785897345466,
          "y": 221.66767769391734
         },
         {
          "edge": 50,
          "pair": [
           18,
           32
          ],
          "source": 18,
          "target": 32,
          "weight": 1,
          "x": 156.43046248618654,
          "y": 260.5907220615551
         },
         {
          "edge": 50,
          "pair": [
           18,
           32
          ],
          "source": 18,
          "target": 32,
          "weight": 1,
          "x": 124.57115985986692,
          "y": 226.05337283393288
         },
         {
          "edge": 51,
          "pair": [
           18,
           33
          ],
          "source": 18,
          "target": 33,
          "weight": 2,
          "x": 156.43046248618654,
          "y": 260.5907220615551
         },
         {
          "edge": 51,
          "pair": [
           18,
           33
          ],
          "source": 18,
          "target": 33,
          "weight": 2,
          "x": 115.25785897345466,
          "y": 221.66767769391734
         },
         {
          "edge": 52,
          "pair": [
           19,
           33
          ],
          "source": 19,
          "target": 33,
          "weight": 1,
          "x": 166.91580259105123,
          "y": 183.16681949636737
         },
         {
          "edge": 52,
          "pair": [
           19,
           33
          ],
          "source": 19,
          "target": 33,
          "weight": 1,
          "x": 115.25785897345466,
          "y": 221.66767769391734
         },
         {
          "edge": 53,
          "pair": [
           20,
           32
          ],
          "source": 20,
          "target": 32,
          "weight": 3,
          "x": 106.36044297100938,
          "y": 267.9884319672709
         },
         {
          "edge": 53,
          "pair": [
           20,
           32
          ],
          "source": 20,
          "target": 32,
          "weight": 3,
          "x": 124.57115985986692,
          "y": 226.05337283393288
         },
         {
          "edge": 54,
          "pair": [
           20,
           33
          ],
          "source": 20,
          "target": 33,
          "weight": 1,
          "x": 106.36044297100938,
          "y": 267.9884319672709
         },
         {
          "edge": 54,
          "pair": [
           20,
           33
          ],
          "source": 20,
          "target": 33,
          "weight": 1,
          "x": 115.25785897345466,
          "y": 221.66767769391734
         },
         {
          "edge": 55,
          "pair": [
           22,
           32
          ],
          "source": 22,
          "target": 32,
          "weight": 2,
          "x": 71.901229691284,
          "y": 253.93026263196253
         },
         {
          "edge": 55,
          "pair": [
           22,
           32
          ],
          "source": 22,
          "target": 32,
          "weight": 2,
          "x": 124.57115985986692,
          "y": 226.05337283393288
         },
         {
          "edge": 56,
          "pair": [
           22,
           33
          ],
          "source": 22,
          "target": 33,
          "weight": 3,
          "x": 71.901229691284,
          "y": 253.93026263196253
         },
         {
          "edge": 56,
          "pair": [
           22,
           33
          ],
          "source": 22,
          "target": 33,
          "weight": 3,
          "x": 115.25785897345466,
          "y": 221.66767769391734
         },
         {
          "edge": 57,
          "pair": [
           23,
           25
          ],
          "source": 23,
          "target": 25,
          "weight": 5,
          "x": 60.5784486609767,
          "y": 229.550586630928
         },
         {
          "edge": 57,
          "pair": [
           23,
           25
          ],
          "source": 23,
          "target": 25,
          "weight": 5,
          "x": 33.01347252592227,
          "y": 180.26822788083985
         },
         {
          "edge": 58,
          "pair": [
           23,
           27
          ],
          "source": 23,
          "target": 27,
          "weight": 4,
          "x": 60.5784486609767,
          "y": 229.550586630928
         },
         {
          "edge": 58,
          "pair": [
           23,
           27
          ],
          "source": 23,
          "target": 27,
          "weight": 4,
          "x": 68.07571888739977,
          "y": 192.82038983329807
         },
         {
          "edge": 59,
          "pair": [
           23,
           29
          ],
          "source": 23,
          "target": 29,
          "weight": 3,
          "x": 60.5784486609767,
          "y": 229.550586630928
         },
         {
          "edge": 59,
          "pair": [
           23,
           29
          ],
          "source": 23,
          "target": 29,
          "weight": 3,
          "x": 86.2908466765418,
          "y": 259.368272554137
         },
         {
          "edge": 60,
          "pair": [
           23,
           32
          ],
          "source": 23,
          "target": 32,
          "weight": 5,
          "x": 60.5784486609767,
          "y": 229.550586630928
         },
         {
          "edge": 60,
          "pair": [
           23,
           32
          ],
          "source": 23,
          "target": 32,
          "weight": 5,
          "x": 124.57115985986692,
          "y": 226.05337283393288
         },
         {
          "edge": 61,
          "pair": [
           23,
           33
          ],
          "source": 23,
          "target": 33,
          "weight": 4,
          "x": 60.5784486609767,
          "y": 229.550586630928
         },
         {
          "edge": 61,
          "pair": [
           23,
           33
          ],
          "source": 23,
          "target": 33,
          "weight": 4,
          "x": 115.25785897345466,
          "y": 221.66767769391734
         },
         {
          "edge": 62,
          "pair": [
           24,
           25
          ],
          "source": 24,
          "target": 25,
          "weight": 2,
          "x": 41.61535820930615,
          "y": 148.4530342573652
         },
         {
          "edge": 62,
          "pair": [
           24,
           25
          ],
          "source": 24,
          "target": 25,
          "weight": 2,
          "x": 33.01347252592227,
          "y": 180.26822788083985
         },
         {
          "edge": 63,
          "pair": [
           24,
           27
          ],
          "source": 24,
          "target": 27,
          "weight": 3,
          "x": 41.61535820930615,
          "y": 148.4530342573652
         },
         {
          "edge": 63,
          "pair": [
           24,
           27
          ],
          "source": 24,
          "target": 27,
          "weight": 3,
          "x": 68.07571888739977,
          "y": 192.82038983329807
         },
         {
          "edge": 64,
          "pair": [
           24,
           31
          ],
          "source": 24,
          "target": 31,
          "weight": 2,
          "x": 41.61535820930615,
          "y": 148.4530342573652
         },
         {
          "edge": 64,
          "pair": [
           24,
           31
          ],
          "source": 24,
          "target": 31,
          "weight": 2,
          "x": 96.55564176718158,
          "y": 167.3757964778632
         },
         {
          "edge": 65,
          "pair": [
           25,
           31
          ],
          "source": 25,
          "target": 31,
          "weight": 7,
          "x": 33.01347252592227,
          "y": 180.26822788083985
         },
         {
          "edge": 65,
          "pair": [
           25,
           31
          ],
          "source": 25,
          "target": 31,
          "weight": 7,
          "x": 96.55564176718158,
          "y": 167.3757964778632
         },
         {
          "edge": 66,
          "pair": [
           26,
           29
          ],
          "source": 26,
          "target": 29,
          "weight": 4,
          "x": 115.47840398767957,
          "y": 284
         },
         {
          "edge": 66,
          "pair": [
           26,
           29
          ],
          "source": 26,
          "target": 29,
          "weight": 4,
          "x": 86.2908466765418,
          "y": 259.368272554137
         },
         {
          "edge": 67,
          "pair": [
           26,
           33
          ],
          "source": 26,
          "target": 33,
          "weight": 2,
          "x": 115.47840398767957,
          "y": 284
         },
         {
          "edge": 67,
          "pair": [
           26,
           33
          ],
          "source": 26,
          "target": 33,
          "weight": 2,
          "x": 115.25785897345466,
          "y": 221.66767769391734
         },
         {
          "edge": 68,
          "pair": [
           27,
           33
          ],
          "source": 27,
          "target": 33,
          "weight": 4,
          "x": 68.07571888739977,
          "y": 192.82038983329807
         },
         {
          "edge": 68,
          "pair": [
           27,
           33
          ],
          "source": 27,
          "target": 33,
          "weight": 4,
          "x": 115.25785897345466,
          "y": 221.66767769391734
         },
         {
          "edge": 69,
          "pair": [
           28,
           31
          ],
          "source": 28,
          "target": 31,
          "weight": 2,
          "x": 79.13258564341304,
          "y": 186.92238602431166
         },
         {
          "edge": 69,
          "pair": [
           28,
           31
          ],
          "source": 28,
          "target": 31,
          "weight": 2,
          "x": 96.55564176718158,
          "y": 167.3757964778632
         },
         {
          "edge": 70,
          "pair": [
           28,
           33
          ],
          "source": 28,
          "target": 33,
          "weight": 2,
          "x": 79.13258564341304,
          "y": 186.92238602431166
         },
         {
          "edge": 70,
          "pair": [
           28,
           33
          ],
          "source": 28,
          "target": 33,
          "weight": 2,
          "x": 115.25785897345466,
          "y": 221.66767769391734
         },
         {
          "edge": 71,
          "pair": [
           29,
           32
          ],
          "source": 29,
          "target": 32,
          "weight": 4,
          "x": 86.2908466765418,
          "y": 259.368272554137
         },
         {
          "edge": 71,
          "pair": [
           29,
           32
          ],
          "source": 29,
          "target": 32,
          "weight": 4,
          "x": 124.57115985986692,
          "y": 226.05337283393288
         },
         {
          "edge": 72,
          "pair": [
           29,
           33
          ],
          "source": 29,
          "target": 33,
          "weight": 2,
          "x": 86.2908466765418,
          "y": 259.368272554137
         },
         {
          "edge": 72,
          "pair": [
           29,
           33
          ],
          "source": 29,
          "target": 33,
          "weight": 2,
          "x": 115.25785897345466,
          "y": 221.66767769391734
         },
         {
          "edge": 73,
          "pair": [
           30,
           32
          ],
          "source": 30,
          "target": 32,
          "weight": 3,
          "x": 169.07084244433472,
          "y": 211.18233758905268
         },
         {
          "edge": 73,
          "pair": [
           30,
           32
          ],
          "source": 30,
          "target": 32,
          "weight": 3,
          "x": 124.57115985986692,
          "y": 226.05337283393288
         },
         {
          "edge": 74,
          "pair": [
           30,
           33
          ],
          "source": 30,
          "target": 33,
          "weight": 3,
          "x": 169.07084244433472,
          "y": 211.18233758905268
         },
         {
          "edge": 74,
          "pair": [
           30,
           33
          ],
          "source": 30,
          "target": 33,
          "weight": 3,
          "x": 115.25785897345466,
          "y": 221.66767769391734
         },
         {
          "edge": 75,
          "pair": [
           31,
           32
          ],
          "source": 31,
          "target": 32,
          "weight": 4,
          "x": 96.55564176718158,
          "y": 167.3757964778632
         },
         {
          "edge": 75,
          "pair": [
           31,
           32
          ],
          "source": 31,
          "target": 32,
          "weight": 4,
          "x": 124.57115985986692,
          "y": 226.05337283393288
         },
         {
          "edge": 76,
          "pair": [
           31,
           33
          ],
          "source": 31,
          "target": 33,
          "weight": 4,
          "x": 96.55564176718158,
          "y": 167.3757964778632
         },
         {
          "edge": 76,
          "pair": [
           31,
           33
          ],
          "source": 31,
          "target": 33,
          "weight": 4,
          "x": 115.25785897345466,
          "y": 221.66767769391734
         },
         {
          "edge": 77,
          "pair": [
           32,
           33
          ],
          "source": 32,
          "target": 33,
          "weight": 5,
          "x": 124.57115985986692,
          "y": 226.05337283393288
         },
         {
          "edge": 77,
          "pair": [
           32,
           33
          ],
          "source": 32,
          "target": 33,
          "weight": 5,
          "x": 115.25785897345466,
          "y": 221.66767769391734
         }
        ],
        "data-447c792c61bffbee459a3810625c0c72": [
         {
          "__node_r": 5.752469825293227,
          "__node_size": 132.36363636363637,
          "club": "Mr. Hi",
          "degree_centrality": 0.48484848484848486,
          "x": 176.44864214967177,
          "y": 105.11594509567368
         },
         {
          "__node_r": 4.51260859854213,
          "__node_size": 81.45454545454545,
          "club": "Mr. Hi",
          "degree_centrality": 0.2727272727272727,
          "x": 172.7452029070595,
          "y": 128.33581664309517
         },
         {
          "__node_r": 4.709757762541316,
          "__node_size": 88.72727272727273,
          "club": "Mr. Hi",
          "degree_centrality": 0.30303030303030304,
          "x": 151.0244816418917,
          "y": 140.23929526695076
         },
         {
          "__node_r": 3.8612291966536914,
          "__node_size": 59.63636363636364,
          "club": "Mr. Hi",
          "degree_centrality": 0.18181818181818182,
          "x": 187.48529697624605,
          "y": 125.57104435875834
         },
         {
          "__node_r": 3.0748244591432297,
          "__node_size": 37.81818181818182,
          "club": "Mr. Hi",
          "degree_centrality": 0.09090909090909091,
          "x": 187.19373350469166,
          "y": 65.54982639956644
         },
         {
          "__node_r": 3.3574882386580707,
          "__node_size": 45.09090909090909,
          "club": "Mr. Hi",
          "degree_centrality": 0.12121212121212122,
          "x": 163.66394257554003,
          "y": 50.68928407327983
         },
         {
          "__node_r": 3.3574882386580707,
          "__node_size": 45.09090909090909,
          "club": "Mr. Hi",
          "degree_centrality": 0.12121212121212122,
          "x": 173.45095041173212,
          "y": 49.61362778388113
         },
         {
          "__node_r": 3.3574882386580707,
          "__node_size": 45.09090909090909,
          "club": "Mr. Hi",
          "degree_centrality": 0.12121212121212122,
          "x": 160.60062951903768,
          "y": 113.41053568061433
         },
         {
          "__node_r": 3.6181361349331636,
          "__node_size": 52.36363636363637,
          "club": "Mr. Hi",
          "degree_centrality": 0.15151515151515152,
          "x": 135.89858322031904,
          "y": 154.84060317577897
         },
         {
          "__node_r": 2.76339711883103,
          "__node_size": 30.545454545454547,
          "club": "Officer",
          "degree_centrality": 0.06060606060606061,
          "x": 91.41808702455859,
          "y": 148.81864484353554
         },
         {
          "__node_r": 3.0748244591432297,
          "__node_size": 37.81818181818182,
          "club": "Mr. Hi",
          "degree_centrality": 0.09090909090909091,
          "x": 189.7804954319646,
          "y": 49.34016554617881
         },
         {
          "__node_r": 2.412090756622109,
          "__node_size": 23.272727272727273,
          "club": "Mr. Hi",
          "degree_centrality": 0.030303030303030304,
          "x": 213.0593587776863,
          "y": 71.756043441582
         },
         {
          "__node_r": 2.76339711883103,
          "__node_size": 30.545454545454547,
          "club": "Mr. Hi",
          "degree_centrality": 0.06060606060606061,
          "x": 227.48530984477952,
          "y": 123.7542772753259
         },
         {
          "__node_r": 3.6181361349331636,
          "__node_size": 52.36363636363637,
          "club": "Mr. Hi",
          "degree_centrality": 0.15151515151515152,
          "x": 162.33619955069685,
          "y": 144.9203876843213
         },
         {
          "__node_r": 2.76339711883103,
          "__node_size": 30.545454545454547,
          "club": "Officer",
          "degree_centrality": 0.06060606060606061,
          "x": 91.44231654404071,
          "y": 218.79592474543702
         },
         {
          "__node_r": 2.76339711883103,
          "__node_size": 30.545454545454547,
          "club": "Officer",
          "degree_centrality": 0.06060606060606061,
          "x": 92.0861032705758,
          "y": 199.6670117187159
         },
         {
          "__node_r": 2.76339711883103,
          "__node_size": 30.545454545454547,
          "club": "Mr. Hi",
          "degree_centrality": 0.06060606060606061,
          "x": 164.6264903969595,
          "y": 16
         },
         {
          "__node_r": 2.76339711883103,
          "__node_size": 30.545454545454547,
          "club": "Mr. Hi",
          "degree_centrality": 0.06060606060606061,
          "x": 221.76626136012,
          "y": 94.03627719816751
         },
         {
          "__node_r": 2.76339711883103,
          "__node_size": 30.545454545454547,
          "club": "Officer",
          "degree_centrality": 0.06060606060606061,
          "x": 87.83549028865812,
          "y": 236.34667777969338
         },
         {
          "__node_r": 3.0748244591432297,
          "__node_size": 37.81818181818182,
          "club": "Mr. Hi",
          "degree_centrality": 0.09090909090909091,
          "x": 184.9118022804947,
          "y": 151.19900362915018
         },
         {
          "__node_r": 2.76339711883103,
          "__node_size": 30.545454545454547,
          "club": "Officer",
          "degree_centrality": 0.06060606060606061,
          "x": 71.04588897871827,
          "y": 207.12695282278042
         },
         {
          "__node_r": 2.76339711883103,
          "__node_size": 30.545454545454547,
          "club": "Mr. Hi",
          "degree_centrality": 0.06060606060606061,
          "x": 207.90038405301644,
          "y": 106.39151440283612
         },
         {
          "__node_r": 2.76339711883103,
          "__node_size": 30.545454545454547,
          "club": "Officer",
          "degree_centrality": 0.06060606060606061,
          "x": 80.44270931598415,
          "y": 184.11320815537692
         },
         {
          "__node_r": 3.6181361349331636,
          "__node_size": 52.36363636363637,
          "club": "Officer",
          "degree_centrality": 0.15151515151515152,
          "x": 135.33913279156258,
          "y": 214.08876480809946
         },
         {
          "__node_r": 3.0748244591432297,
          "__node_size": 37.81818181818182,
          "club": "Officer",
          "degree_centrality": 0.09090909090909091,
          "x": 179.54992463061146,
          "y": 219.72780054208513
         },
         {
          "__node_r": 3.0748244591432297,
          "__node_size": 37.81818181818182,
          "club": "Officer",
          "degree_centrality": 0.09090909090909091,
          "x": 159.91534822501748,
          "y": 213.5581742487217
         },
         {
          "__node_r": 2.76339711883103,
          "__node_size": 30.545454545454547,
          "club": "Officer",
          "degree_centrality": 0.06060606060606061,
          "x": 116.69063242568639,
          "y": 248.83600084284572
         },
         {
          "__node_r": 3.3574882386580707,
          "__node_size": 45.09090909090909,
          "club": "Officer",
          "degree_centrality": 0.12121212121212122,
          "x": 153.63024954246484,
          "y": 197.975620475271
         },
         {
          "__node_r": 3.0748244591432297,
          "__node_size": 37.81818181818182,
          "club": "Officer",
          "degree_centrality": 0.09090909090909091,
          "x": 117.83714015328192,
          "y": 157.53979887295816
         },
         {
          "__node_r": 3.3574882386580707,
          "__node_size": 45.09090909090909,
          "club": "Officer",
          "degree_centrality": 0.12121212121212122,
          "x": 117.67165375193207,
          "y": 227.9928912811701
         },
         {
          "__node_r": 3.3574882386580707,
          "__node_size": 45.09090909090909,
          "club": "Officer",
          "degree_centrality": 0.12121212121212122,
          "x": 136.1300433269701,
          "y": 168.59022623464205
         },
         {
          "__node_r": 3.8612291966536914,
          "__node_size": 59.63636363636364,
          "club": "Officer",
          "degree_centrality": 0.18181818181818182,
          "x": 151.37349184793695,
          "y": 182.5089624385868
         },
         {
          "__node_r": 5.081159495448044,
          "__node_size": 103.27272727272728,
          "club": "Officer",
          "degree_centrality": 0.36363636363636365,
          "x": 114.93330176650704,
          "y": 194.18495652153572
         },
         {
          "__node_r": 5.908391567007971,
          "__node_size": 139.63636363636363,
          "club": "Officer",
          "degree_centrality": 0.5151515151515151,
          "x": 122.28072151358596,
          "y": 189.36473601338446
         }
        ],
        "data-582eec9189bc878bdf12428f598ec301": [
         {
          "__node_r": 5.752469825293227,
          "__node_size": 132.36363636363637,
          "club": "Mr. Hi",
          "degree_centrality": 0.48484848484848486,
          "x": 146.73908443253154,
          "y": 127.94234793444781
         },
         {
          "__node_r": 4.51260859854213,
          "__node_size": 81.45454545454545,
          "club": "Mr. Hi",
          "degree_centrality": 0.2727272727272727,
          "x": 164.6851473043192,
          "y": 151.23190143659917
         },
         {
          "__node_r": 4.709757762541316,
          "__node_size": 88.72727272727273,
          "club": "Mr. Hi",
          "degree_centrality": 0.30303030303030304,
          "x": 116.56222520044203,
          "y": 167.39470033622533
         },
         {
          "__node_r": 3.8612291966536914,
          "__node_size": 59.63636363636364,
          "club": "Mr. Hi",
          "degree_centrality": 0.18181818181818182,
          "x": 108.62260468834496,
          "y": 132.2272224965319
         },
         {
          "__node_r": 3.0748244591432297,
          "__node_size": 37.81818181818182,
          "club": "Mr. Hi",
          "degree_centrality": 0.09090909090909091,
          "x": 195.54884672356633,
          "y": 100.24819543391878
         },
         {
          "__node_r": 3.3574882386580707,
          "__node_size": 45.09090909090909,
          "club": "Mr. Hi",
          "degree_centrality": 0.12121212121212122,
          "x": 139.68794526345488,
          "y": 72.13248689191414
         },
         {
          "__node_r": 3.3574882386580707,
          "__node_size": 45.09090909090909,
          "club": "Mr. Hi",
          "degree_centrality": 0.12121212121212122,
          "x": 167.533328630881,
          "y": 75.80928734334955
         },
         {
          "__node_r": 3.3574882386580707,
          "__node_size": 45.09090909090909,
          "club": "Mr. Hi",
          "degree_centrality": 0.12121212121212122,
          "x": 124.04185182572711,
          "y": 120.94792034045754
         },
         {
          "__node_r": 3.6181361349331636,
          "__node_size": 52.36363636363637,
          "club": "Mr. Hi",
          "degree_centrality": 0.15151515151515152,
          "x": 148.26399567374386,
          "y": 186.20403940655052
         },
         {
          "__node_r": 2.76339711883103,
          "__node_size": 30.545454545454547,
          "club": "Officer",
          "degree_centrality": 0.06060606060606061,
          "x": 90.49380451905668,
          "y": 205.46076979144624
         },
         {
          "__node_r": 3.0748244591432297,
          "__node_size": 37.81818181818182,
          "club": "Mr. Hi",
          "degree_centrality": 0.09090909090909091,
          "x": 170.0034327902001,
          "y": 91.42639486492206
         },
         {
          "__node_r": 2.412090756622109,
          "__node_size": 23.272727272727273,
          "club": "Mr. Hi",
          "degree_centrality": 0.030303030303030304,
          "x": 111.82365803766663,
          "y": 78.84146622463615
         },
         {
          "__node_r": 2.76339711883103,
          "__node_size": 30.545454545454547,
          "club": "Mr. Hi",
          "degree_centrality": 0.06060606060606061,
          "x": 94.23046718863887,
          "y": 92.91349838941008
         },
         {
          "__node_r": 3.6181361349331636,
          "__node_size": 52.36363636363637,
          "club": "Mr. Hi",
          "degree_centrality": 0.15151515151515152,
          "x": 139.4295925325057,
          "y": 170.8541064164962
         },
         {
          "__node_r": 2.76339711883103,
          "__node_size": 30.545454545454547,
          "club": "Officer",
          "degree_centrality": 0.06060606060606061,
          "x": 139.29096423785003,
          "y": 268.1081564035644
         },
         {
          "__node_r": 2.76339711883103,
          "__node_size": 30.545454545454547,
          "club": "Officer",
          "degree_centrality": 0.06060606060606061,
          "x": 168.83769485786837,
          "y": 247.84322023935482
         },
         {
          "__node_r": 2.76339711883103,
          "__node_size": 30.545454545454547,
          "club": "Mr. Hi",
          "degree_centrality": 0.06060606060606061,
          "x": 163.98570454492017,
          "y": 27.34231501728151
         },
         {
          "__node_r": 2.76339711883103,
          "__node_size": 30.545454545454547,
          "club": "Mr. Hi",
          "degree_centrality": 0.06060606060606061,
          "x": 206.21062283981095,
          "y": 143.0717359102772
         },
         {
          "__node_r": 2.76339711883103,
          "__node_size": 30.545454545454547,
          "club": "Officer",
          "degree_centrality": 0.06060606060606061,
          "x": 156.43046248618654,
          "y": 260.5907220615551
         },
         {
          "__node_r": 3.0748244591432297,
          "__node_size": 37.81818181818182,
          "club": "Mr. Hi",
          "degree_centrality": 0.09090909090909091,
          "x": 166.91580259105123,
          "y": 183.16681949636737
         },
         {
          "__node_r": 2.76339711883103,
          "__node_size": 30.545454545454547,
          "club": "Officer",
          "degree_centrality": 0.06060606060606061,
          "x": 106.36044297100938,
          "y": 267.9884319672709
         },
         {
          "__node_r": 2.76339711883103,
          "__node_size": 30.545454545454547,
          "club": "Mr. Hi",
          "degree_centrality": 0.06060606060606061,
          "x": 200.45124732548024,
          "y": 126.0456608121135
         },
         {
          "__node_r": 2.76339711883103,
          "__node_size": 30.545454545454547,
          "club": "Officer",
          "degree_centrality": 0.06060606060606061,
          "x": 71.901229691284,
          "y": 253.93026263196253
         },
         {
          "__node_r": 3.6181361349331636,
          "__node_size": 52.36363636363637,
          "club": "Officer",
          "degree_centrality": 0.15151515151515152,
          "x": 60.5784486609767,
          "y": 229.550586630928
         },
         {
          "__node_r": 3.0748244591432297,
          "__node_size": 37.81818181818182,
          "club": "Officer",
          "degree_centrality": 0.09090909090909091,
          "x": 41.61535820930615,
          "y": 148.4530342573652
         },
         {
          "__node_r": 3.0748244591432297,
          "__node_size": 37.81818181818182,
          "club": "Officer",
          "degree_centrality": 0.09090909090909091,
          "x": 33.01347252592227,
          "y": 180.26822788083985
         },
         {
          "__node_r": 2.76339711883103,
          "__node_size": 30.545454545454547,
          "club": "Officer",
          "degree_centrality": 0.06060606060606061,
          "x": 115.47840398767957,
          "y": 284
         },
         {
          "__node_r": 3.3574882386580707,
          "__node_size": 45.09090909090909,
          "club": "Officer",
          "degree_centrality": 0.12121212121212122,
          "x": 68.07571888739977,
          "y": 192.82038983329807
         },
         {
          "__node_r": 3.0748244591432297,
          "__node_size": 37.81818181818182,
          "club": "Officer",
          "degree_centrality": 0.09090909090909091,
          "x": 79.13258564341304,
          "y": 186.92238602431166
         },
         {
          "__node_r": 3.3574882386580707,
          "__node_size": 45.09090909090909,
          "club": "Officer",
          "degree_centrality": 0.12121212121212122,
          "x": 86.2908466765418,
          "y": 259.368272554137
         },
         {
          "__node_r": 3.3574882386580707,
          "__node_size": 45.09090909090909,
          "club": "Officer",
          "degree_centrality": 0.12121212121212122,
          "x": 169.07084244433472,
          "y": 211.18233758905268
         },
         {
          "__node_r": 3.8612291966536914,
          "__node_size": 59.63636363636364,
          "club": "Officer",
          "degree_centrality": 0.18181818181818182,
          "x": 96.55564176718158,
          "y": 167.3757964778632
         },
         {
          "__node_r": 5.081159495448044,
          "__node_size": 103.27272727272728,
          "club": "Officer",
          "degree_centrality": 0.36363636363636365,
          "x": 124.57115985986692,
          "y": 226.05337283393288
         },
         {
          "__node_r": 5.908391567007971,
          "__node_size": 139.63636363636363,
          "club": "Officer",
          "degree_centrality": 0.5151515151515151,
          "x": 115.25785897345466,
          "y": 221.66767769391734
         }
        ],
        "data-59ec161e364aa016830785f8399c1e8a": [
         {
          "edge": 0,
          "pair": [
           0,
           1
          ],
          "source": 0,
          "target": 1,
          "weight": 4,
          "x": 109.1478968375806,
          "y": 108.56984955480505
         },
         {
          "edge": 0,
          "pair": [
           0,
           1
          ],
          "source": 0,
          "target": 1,
          "weight": 4,
          "x": 83.02262818544673,
          "y": 93.75867362603623
         },
         {
          "edge": 1,
          "pair": [
           0,
           2
          ],
          "source": 0,
          "target": 2,
          "weight": 5,
          "x": 109.1478968375806,
          "y": 108.56984955480505
         },
         {
          "edge": 1,
          "pair": [
           0,
           2
          ],
          "source": 0,
          "target": 2,
          "weight": 5,
          "x": 94.3367209088118,
          "y": 78.94749769726744
         },
         {
          "edge": 2,
          "pair": [
           0,
           3
          ],
          "source": 0,
          "target": 3,
          "weight": 3,
          "x": 109.1478968375806,
          "y": 108.56984955480505
         },
         {
          "edge": 2,
          "pair": [
           0,
           3
          ],
          "source": 0,
          "target": 3,
          "weight": 3,
          "x": 55.25167331900522,
          "y": 64.13632176849862
         },
         {
          "edge": 3,
          "pair": [
           0,
           4
          ],
          "source": 0,
          "target": 4,
          "weight": 3,
          "x": 109.1478968375806,
          "y": 108.56984955480505
         },
         {
          "edge": 3,
          "pair": [
           0,
           4
          ],
          "source": 0,
          "target": 4,
          "weight": 3,
          "x": 191.84362910653977,
          "y": 93.75867362603623
         },
         {
          "edge": 4,
          "pair": [
           0,
           5
          ],
          "source": 0,
          "target": 5,
          "weight": 3,
          "x": 109.1478968375806,
          "y": 108.56984955480505
         },
         {
          "edge": 4,
          "pair": [
           0,
           5
          ],
          "source": 0,
          "target": 5,
          "weight": 3,
          "x": 214.4718145532699,
          "y": 93.75867362603623
         },
         {
          "edge": 5,
          "pair": [
           0,
           6
          ],
          "source": 0,
          "target": 6,
          "weight": 3,
          "x": 109.1478968375806,
          "y": 108.56984955480505
         },
         {
          "edge": 5,
          "pair": [
           0,
           6
          ],
          "source": 0,
          "target": 6,
          "weight": 3,
          "x": 214.4718145532699,
          "y": 78.94749769726744
         },
         {
          "edge": 6,
          "pair": [
           0,
           7
          ],
          "source": 0,
          "target": 7,
          "weight": 2,
          "x": 109.1478968375806,
          "y": 108.56984955480505
         },
         {
          "edge": 6,
          "pair": [
           0,
           7
          ],
          "source": 0,
          "target": 7,
          "weight": 2,
          "x": 74.3827755603316,
          "y": 49.325145839729814
         },
         {
          "edge": 7,
          "pair": [
           0,
           8
          ],
          "source": 0,
          "target": 8,
          "weight": 2,
          "x": 109.1478968375806,
          "y": 108.56984955480505
         },
         {
          "edge": 7,
          "pair": [
           0,
           8
          ],
          "source": 0,
          "target": 8,
          "weight": 2,
          "x": 116.96490635554191,
          "y": 64.13632176849862
         },
         {
          "edge": 8,
          "pair": [
           0,
           10
          ],
          "source": 0,
          "target": 10,
          "weight": 2,
          "x": 109.1478968375806,
          "y": 108.56984955480505
         },
         {
          "edge": 8,
          "pair": [
           0,
           10
          ],
          "source": 0,
          "target": 10,
          "weight": 2,
          "x": 199.66063862450108,
          "y": 78.94749769726744
         },
         {
          "edge": 9,
          "pair": [
           0,
           11
          ],
          "source": 0,
          "target": 11,
          "weight": 3,
          "x": 109.1478968375806,
          "y": 108.56984955480505
         },
         {
          "edge": 9,
          "pair": [
           0,
           11
          ],
          "source": 0,
          "target": 11,
          "weight": 3,
          "x": 229.2809333742708,
          "y": 93.75867362603623
         },
         {
          "edge": 10,
          "pair": [
           0,
           12
          ],
          "source": 0,
          "target": 12,
          "weight": 1,
          "x": 109.1478968375806,
          "y": 108.56984955480505
         },
         {
          "edge": 10,
          "pair": [
           0,
           12
          ],
          "source": 0,
          "target": 12,
          "weight": 1,
          "x": 40.440497390236416,
          "y": 49.325145839729814
         },
         {
          "edge": 11,
          "pair": [
           0,
           13
          ],
          "source": 0,
          "target": 13,
          "weight": 3,
          "x": 109.1478968375806,
          "y": 108.56984955480505
         },
         {
          "edge": 11,
          "pair": [
           0,
           13
          ],
          "source": 0,
          "target": 13,
          "weight": 3,
          "x": 55.25167331900522,
          "y": 49.325145839729814
         },
         {
          "edge": 12,
          "pair": [
           0,
           17
          ],
          "source": 0,
          "target": 17,
          "weight": 2,
          "x": 109.1478968375806,
          "y": 108.56984955480505
         },
         {
          "edge": 12,
          "pair": [
           0,
           17
          ],
          "source": 0,
          "target": 17,
          "weight": 2,
          "x": 109.1478968375806,
          "y": 78.94749769726744
         },
         {
          "edge": 13,
          "pair": [
           0,
           19
          ],
          "source": 0,
          "target": 19,
          "weight": 2,
          "x": 109.1478968375806,
          "y": 108.56984955480505
         },
         {
          "edge": 13,
          "pair": [
           0,
           19
          ],
          "source": 0,
          "target": 19,
          "weight": 2,
          "x": 24.80606693276021,
          "y": 78.94749769726744
         },
         {
          "edge": 14,
          "pair": [
           0,
           21
          ],
          "source": 0,
          "target": 21,
          "weight": 2,
          "x": 109.1478968375806,
          "y": 108.56984955480505
         },
         {
          "edge": 14,
          "pair": [
           0,
           21
          ],
          "source": 0,
          "target": 21,
          "weight": 2,
          "x": 123.9590727663494,
          "y": 78.94749769726744
         },
         {
          "edge": 15,
          "pair": [
           0,
           31
          ],
          "source": 0,
          "target": 31,
          "weight": 2,
          "x": 109.1478968375806,
          "y": 108.56984955480505
         },
         {
          "edge": 15,
          "pair": [
           0,
           31
          ],
          "source": 0,
          "target": 31,
          "weight": 2,
          "x": 178.6781393920786,
          "y": 49.325145839729814
         },
         {
          "edge": 16,
          "pair": [
           1,
           2
          ],
          "source": 1,
          "target": 2,
          "weight": 6,
          "x": 83.02262818544673,
          "y": 93.75867362603623
         },
         {
          "edge": 16,
          "pair": [
           1,
           2
          ],
          "source": 1,
          "target": 2,
          "weight": 6,
          "x": 94.3367209088118,
          "y": 78.94749769726744
         },
         {
          "edge": 17,
          "pair": [
           1,
           3
          ],
          "source": 1,
          "target": 3,
          "weight": 3,
          "x": 83.02262818544673,
          "y": 93.75867362603623
         },
         {
          "edge": 17,
          "pair": [
           1,
           3
          ],
          "source": 1,
          "target": 3,
          "weight": 3,
          "x": 55.25167331900522,
          "y": 64.13632176849862
         },
         {
          "edge": 18,
          "pair": [
           1,
           7
          ],
          "source": 1,
          "target": 7,
          "weight": 4,
          "x": 83.02262818544673,
          "y": 93.75867362603623
         },
         {
          "edge": 18,
          "pair": [
           1,
           7
          ],
          "source": 1,
          "target": 7,
          "weight": 4,
          "x": 74.3827755603316,
          "y": 49.325145839729814
         },
         {
          "edge": 19,
          "pair": [
           1,
           13
          ],
          "source": 1,
          "target": 13,
          "weight": 5,
          "x": 83.02262818544673,
          "y": 93.75867362603623
         },
         {
          "edge": 19,
          "pair": [
           1,
           13
          ],
          "source": 1,
          "target": 13,
          "weight": 5,
          "x": 55.25167331900522,
          "y": 49.325145839729814
         },
         {
          "edge": 20,
          "pair": [
           1,
           17
          ],
          "source": 1,
          "target": 17,
          "weight": 1,
          "x": 83.02262818544673,
          "y": 93.75867362603623
         },
         {
          "edge": 20,
          "pair": [
           1,
           17
          ],
          "source": 1,
          "target": 17,
          "weight": 1,
          "x": 109.1478968375806,
          "y": 78.94749769726744
         },
         {
          "edge": 21,
          "pair": [
           1,
           19
          ],
          "source": 1,
          "target": 19,
          "weight": 2,
          "x": 83.02262818544673,
          "y": 93.75867362603623
         },
         {
          "edge": 21,
          "pair": [
           1,
           19
          ],
          "source": 1,
          "target": 19,
          "weight": 2,
          "x": 24.80606693276021,
          "y": 78.94749769726744
         },
         {
          "edge": 22,
          "pair": [
           1,
           21
          ],
          "source": 1,
          "target": 21,
          "weight": 2,
          "x": 83.02262818544673,
          "y": 93.75867362603623
         },
         {
          "edge": 22,
          "pair": [
           1,
           21
          ],
          "source": 1,
          "target": 21,
          "weight": 2,
          "x": 123.9590727663494,
          "y": 78.94749769726744
         },
         {
          "edge": 23,
          "pair": [
           1,
           30
          ],
          "source": 1,
          "target": 30,
          "weight": 2,
          "x": 83.02262818544673,
          "y": 93.75867362603623
         },
         {
          "edge": 23,
          "pair": [
           1,
           30
          ],
          "source": 1,
          "target": 30,
          "weight": 2,
          "x": 110.79358305188825,
          "y": 49.325145839729814
         },
         {
          "edge": 24,
          "pair": [
           2,
           3
          ],
          "source": 2,
          "target": 3,
          "weight": 3,
          "x": 94.3367209088118,
          "y": 78.94749769726744
         },
         {
          "edge": 24,
          "pair": [
           2,
           3
          ],
          "source": 2,
          "target": 3,
          "weight": 3,
          "x": 55.25167331900522,
          "y": 64.13632176849862
         },
         {
          "edge": 25,
          "pair": [
           2,
           7
          ],
          "source": 2,
          "target": 7,
          "weight": 4,
          "x": 94.3367209088118,
          "y": 78.94749769726744
         },
         {
          "edge": 25,
          "pair": [
           2,
           7
          ],
          "source": 2,
          "target": 7,
          "weight": 4,
          "x": 74.3827755603316,
          "y": 49.325145839729814
         },
         {
          "edge": 26,
          "pair": [
           2,
           8
          ],
          "source": 2,
          "target": 8,
          "weight": 5,
          "x": 94.3367209088118,
          "y": 78.94749769726744
         },
         {
          "edge": 26,
          "pair": [
           2,
           8
          ],
          "source": 2,
          "target": 8,
          "weight": 5,
          "x": 116.96490635554191,
          "y": 64.13632176849862
         },
         {
          "edge": 27,
          "pair": [
           2,
           9
          ],
          "source": 2,
          "target": 9,
          "weight": 1,
          "x": 94.3367209088118,
          "y": 78.94749769726744
         },
         {
          "edge": 27,
          "pair": [
           2,
           9
          ],
          "source": 2,
          "target": 9,
          "weight": 1,
          "x": 88.16539760515812,
          "y": 34.51396991096101
         },
         {
          "edge": 28,
          "pair": [
           2,
           13
          ],
          "source": 2,
          "target": 13,
          "weight": 3,
          "x": 94.3367209088118,
          "y": 78.94749769726744
         },
         {
          "edge": 28,
          "pair": [
           2,
           13
          ],
          "source": 2,
          "target": 13,
          "weight": 3,
          "x": 55.25167331900522,
          "y": 49.325145839729814
         },
         {
          "edge": 29,
          "pair": [
           2,
           27
          ],
          "source": 2,
          "target": 27,
          "weight": 2,
          "x": 94.3367209088118,
          "y": 78.94749769726744
         },
         {
          "edge": 29,
          "pair": [
           2,
           27
          ],
          "source": 2,
          "target": 27,
          "weight": 2,
          "x": 170.03828676696347,
          "y": 64.13632176849862
         },
         {
          "edge": 30,
          "pair": [
           2,
           28
          ],
          "source": 2,
          "target": 28,
          "weight": 2,
          "x": 94.3367209088118,
          "y": 78.94749769726744
         },
         {
          "edge": 30,
          "pair": [
           2,
           28
          ],
          "source": 2,
          "target": 28,
          "weight": 2,
          "x": 131.77608228431072,
          "y": 64.13632176849862
         },
         {
          "edge": 31,
          "pair": [
           2,
           32
          ],
          "source": 2,
          "target": 32,
          "weight": 2,
          "x": 94.3367209088118,
          "y": 78.94749769726744
         },
         {
          "edge": 31,
          "pair": [
           2,
           32
          ],
          "source": 2,
          "target": 32,
          "weight": 2,
          "x": 167.36404666871354,
          "y": 34.51396991096101
         },
         {
          "edge": 32,
          "pair": [
           3,
           7
          ],
          "source": 3,
          "target": 7,
          "weight": 3,
          "x": 55.25167331900522,
          "y": 64.13632176849862
         },
         {
          "edge": 32,
          "pair": [
           3,
           7
          ],
          "source": 3,
          "target": 7,
          "weight": 3,
          "x": 74.3827755603316,
          "y": 49.325145839729814
         },
         {
          "edge": 33,
          "pair": [
           3,
           12
          ],
          "source": 3,
          "target": 12,
          "weight": 3,
          "x": 55.25167331900522,
          "y": 64.13632176849862
         },
         {
          "edge": 33,
          "pair": [
           3,
           12
          ],
          "source": 3,
          "target": 12,
          "weight": 3,
          "x": 40.440497390236416,
          "y": 49.325145839729814
         },
         {
          "edge": 34,
          "pair": [
           3,
           13
          ],
          "source": 3,
          "target": 13,
          "weight": 3,
          "x": 55.25167331900522,
          "y": 64.13632176849862
         },
         {
          "edge": 34,
          "pair": [
           3,
           13
          ],
          "source": 3,
          "target": 13,
          "weight": 3,
          "x": 55.25167331900522,
          "y": 49.325145839729814
         },
         {
          "edge": 35,
          "pair": [
           4,
           6
          ],
          "source": 4,
          "target": 6,
          "weight": 2,
          "x": 191.84362910653977,
          "y": 93.75867362603623
         },
         {
          "edge": 35,
          "pair": [
           4,
           6
          ],
          "source": 4,
          "target": 6,
          "weight": 2,
          "x": 214.4718145532699,
          "y": 78.94749769726744
         },
         {
          "edge": 36,
          "pair": [
           4,
           10
          ],
          "source": 4,
          "target": 10,
          "weight": 3,
          "x": 191.84362910653977,
          "y": 93.75867362603623
         },
         {
          "edge": 36,
          "pair": [
           4,
           10
          ],
          "source": 4,
          "target": 10,
          "weight": 3,
          "x": 199.66063862450108,
          "y": 78.94749769726744
         },
         {
          "edge": 37,
          "pair": [
           5,
           6
          ],
          "source": 5,
          "target": 6,
          "weight": 5,
          "x": 214.4718145532699,
          "y": 93.75867362603623
         },
         {
          "edge": 37,
          "pair": [
           5,
           6
          ],
          "source": 5,
          "target": 6,
          "weight": 5,
          "x": 214.4718145532699,
          "y": 78.94749769726744
         },
         {
          "edge": 38,
          "pair": [
           5,
           10
          ],
          "source": 5,
          "target": 10,
          "weight": 3,
          "x": 214.4718145532699,
          "y": 93.75867362603623
         },
         {
          "edge": 38,
          "pair": [
           5,
           10
          ],
          "source": 5,
          "target": 10,
          "weight": 3,
          "x": 199.66063862450108,
          "y": 78.94749769726744
         },
         {
          "edge": 39,
          "pair": [
           5,
           16
          ],
          "source": 5,
          "target": 16,
          "weight": 3,
          "x": 214.4718145532699,
          "y": 93.75867362603623
         },
         {
          "edge": 39,
          "pair": [
           5,
           16
          ],
          "source": 5,
          "target": 16,
          "weight": 3,
          "x": 284,
          "y": 64.13632176849862
         },
         {
          "edge": 40,
          "pair": [
           6,
           16
          ],
          "source": 6,
          "target": 16,
          "weight": 3,
          "x": 214.4718145532699,
          "y": 78.94749769726744
         },
         {
          "edge": 40,
          "pair": [
           6,
           16
          ],
          "source": 6,
          "target": 16,
          "weight": 3,
          "x": 284,
          "y": 64.13632176849862
         },
         {
          "edge": 41,
          "pair": [
           8,
           30
          ],
          "source": 8,
          "target": 30,
          "weight": 3,
          "x": 116.96490635554191,
          "y": 64.13632176849862
         },
         {
          "edge": 41,
          "pair": [
           8,
           30
          ],
          "source": 8,
          "target": 30,
          "weight": 3,
          "x": 110.79358305188825,
          "y": 49.325145839729814
         },
         {
          "edge": 42,
          "pair": [
           8,
           32
          ],
          "source": 8,
          "target": 32,
          "weight": 3,
          "x": 116.96490635554191,
          "y": 64.13632176849862
         },
         {
          "edge": 42,
          "pair": [
           8,
           32
          ],
          "source": 8,
          "target": 32,
          "weight": 3,
          "x": 167.36404666871354,
          "y": 34.51396991096101
         },
         {
          "edge": 43,
          "pair": [
           8,
           33
          ],
          "source": 8,
          "target": 33,
          "weight": 4,
          "x": 116.96490635554191,
          "y": 64.13632176849862
         },
         {
          "edge": 43,
          "pair": [
           8,
           33
          ],
          "source": 8,
          "target": 33,
          "weight": 4,
          "x": 167.36404666871354,
          "y": 19.7027939821922
         },
         {
          "edge": 44,
          "pair": [
           9,
           33
          ],
          "source": 9,
          "target": 33,
          "weight": 2,
          "x": 88.16539760515812,
          "y": 34.51396991096101
         },
         {
          "edge": 44,
          "pair": [
           9,
           33
          ],
          "source": 9,
          "target": 33,
          "weight": 2,
          "x": 167.36404666871354,
          "y": 19.7027939821922
         },
         {
          "edge": 45,
          "pair": [
           13,
           33
          ],
          "source": 13,
          "target": 33,
          "weight": 3,
          "x": 55.25167331900522,
          "y": 49.325145839729814
         },
         {
          "edge": 45,
          "pair": [
           13,
           33
          ],
          "source": 13,
          "target": 33,
          "weight": 3,
          "x": 167.36404666871354,
          "y": 19.7027939821922
         },
         {
          "edge": 46,
          "pair": [
           14,
           32
          ],
          "source": 14,
          "target": 32,
          "weight": 3,
          "x": 133.42176849861835,
          "y": 49.325145839729814
         },
         {
          "edge": 46,
          "pair": [
           14,
           32
          ],
          "source": 14,
          "target": 32,
          "weight": 3,
          "x": 167.36404666871354,
          "y": 34.51396991096101
         },
         {
          "edge": 47,
          "pair": [
           14,
           33
          ],
          "source": 14,
          "target": 33,
          "weight": 2,
          "x": 133.42176849861835,
          "y": 49.325145839729814
         },
         {
          "edge": 47,
          "pair": [
           14,
           33
          ],
          "source": 14,
          "target": 33,
          "weight": 2,
          "x": 167.36404666871354,
          "y": 19.7027939821922
         },
         {
          "edge": 48,
          "pair": [
           15,
           32
          ],
          "source": 15,
          "target": 32,
          "weight": 3,
          "x": 148.23294442738717,
          "y": 49.325145839729814
         },
         {
          "edge": 48,
          "pair": [
           15,
           32
          ],
          "source": 15,
          "target": 32,
          "weight": 3,
          "x": 167.36404666871354,
          "y": 34.51396991096101
         },
         {
          "edge": 49,
          "pair": [
           15,
           33
          ],
          "source": 15,
          "target": 33,
          "weight": 4,
          "x": 148.23294442738717,
          "y": 49.325145839729814
         },
         {
          "edge": 49,
          "pair": [
           15,
           33
          ],
          "source": 15,
          "target": 33,
          "weight": 4,
          "x": 167.36404666871354,
          "y": 19.7027939821922
         },
         {
          "edge": 50,
          "pair": [
           18,
           32
          ],
          "source": 18,
          "target": 32,
          "weight": 1,
          "x": 201.3063248388087,
          "y": 49.325145839729814
         },
         {
          "edge": 50,
          "pair": [
           18,
           32
          ],
          "source": 18,
          "target": 32,
          "weight": 1,
          "x": 167.36404666871354,
          "y": 34.51396991096101
         },
         {
          "edge": 51,
          "pair": [
           18,
           33
          ],
          "source": 18,
          "target": 33,
          "weight": 2,
          "x": 201.3063248388087,
          "y": 49.325145839729814
         },
         {
          "edge": 51,
          "pair": [
           18,
           33
          ],
          "source": 18,
          "target": 33,
          "weight": 2,
          "x": 167.36404666871354,
          "y": 19.7027939821922
         },
         {
          "edge": 52,
          "pair": [
           19,
           33
          ],
          "source": 19,
          "target": 33,
          "weight": 1,
          "x": 24.80606693276021,
          "y": 78.94749769726744
         },
         {
          "edge": 52,
          "pair": [
           19,
           33
          ],
          "source": 19,
          "target": 33,
          "weight": 1,
          "x": 167.36404666871354,
          "y": 19.7027939821922
         },
         {
          "edge": 53,
          "pair": [
           20,
           32
          ],
          "source": 20,
          "target": 32,
          "weight": 3,
          "x": 216.11750076757752,
          "y": 49.325145839729814
         },
         {
          "edge": 53,
          "pair": [
           20,
           32
          ],
          "source": 20,
          "target": 32,
          "weight": 3,
          "x": 167.36404666871354,
          "y": 34.51396991096101
         },
         {
          "edge": 54,
          "pair": [
           20,
           33
          ],
          "source": 20,
          "target": 33,
          "weight": 1,
          "x": 216.11750076757752,
          "y": 49.325145839729814
         },
         {
          "edge": 54,
          "pair": [
           20,
           33
          ],
          "source": 20,
          "target": 33,
          "weight": 1,
          "x": 167.36404666871354,
          "y": 19.7027939821922
         },
         {
          "edge": 55,
          "pair": [
           22,
           32
          ],
          "source": 22,
          "target": 32,
          "weight": 2,
          "x": 230.92661958857846,
          "y": 49.325145839729814
         },
         {
          "edge": 55,
          "pair": [
           22,
           32
          ],
          "source": 22,
          "target": 32,
          "weight": 2,
          "x": 167.36404666871354,
          "y": 34.51396991096101
         },
         {
          "edge": 56,
          "pair": [
           22,
           33
          ],
          "source": 22,
          "target": 33,
          "weight": 3,
          "x": 230.92661958857846,
          "y": 49.325145839729814
         },
         {
          "edge": 56,
          "pair": [
           22,
           33
          ],
          "source": 22,
          "target": 33,
          "weight": 3,
          "x": 167.36404666871354,
          "y": 19.7027939821922
         },
         {
          "edge": 57,
          "pair": [
           23,
           25
          ],
          "source": 23,
          "target": 25,
          "weight": 5,
          "x": 184.84946269573226,
          "y": 78.94749769726744
         },
         {
          "edge": 57,
          "pair": [
           23,
           25
          ],
          "source": 23,
          "target": 25,
          "weight": 5,
          "x": 184.84946269573226,
          "y": 64.13632176849862
         },
         {
          "edge": 58,
          "pair": [
           23,
           27
          ],
          "source": 23,
          "target": 27,
          "weight": 4,
          "x": 184.84946269573226,
          "y": 78.94749769726744
         },
         {
          "edge": 58,
          "pair": [
           23,
           27
          ],
          "source": 23,
          "target": 27,
          "weight": 4,
          "x": 170.03828676696347,
          "y": 64.13632176849862
         },
         {
          "edge": 59,
          "pair": [
           23,
           29
          ],
          "source": 23,
          "target": 29,
          "weight": 3,
          "x": 184.84946269573226,
          "y": 78.94749769726744
         },
         {
          "edge": 59,
          "pair": [
           23,
           29
          ],
          "source": 23,
          "target": 29,
          "weight": 3,
          "x": 261.37181455326987,
          "y": 49.325145839729814
         },
         {
          "edge": 60,
          "pair": [
           23,
           32
          ],
          "source": 23,
          "target": 32,
          "weight": 5,
          "x": 184.84946269573226,
          "y": 78.94749769726744
         },
         {
          "edge": 60,
          "pair": [
           23,
           32
          ],
          "source": 23,
          "target": 32,
          "weight": 5,
          "x": 167.36404666871354,
          "y": 34.51396991096101
         },
         {
          "edge": 61,
          "pair": [
           23,
           33
          ],
          "source": 23,
          "target": 33,
          "weight": 4,
          "x": 184.84946269573226,
          "y": 78.94749769726744
         },
         {
          "edge": 61,
          "pair": [
           23,
           33
          ],
          "source": 23,
          "target": 33,
          "weight": 4,
          "x": 167.36404666871354,
          "y": 19.7027939821922
         },
         {
          "edge": 62,
          "pair": [
           24,
           25
          ],
          "source": 24,
          "target": 25,
          "weight": 2,
          "x": 170.03828676696347,
          "y": 78.94749769726744
         },
         {
          "edge": 62,
          "pair": [
           24,
           25
          ],
          "source": 24,
          "target": 25,
          "weight": 2,
          "x": 184.84946269573226,
          "y": 64.13632176849862
         },
         {
          "edge": 63,
          "pair": [
           24,
           27
          ],
          "source": 24,
          "target": 27,
          "weight": 3,
          "x": 170.03828676696347,
          "y": 78.94749769726744
         },
         {
          "edge": 63,
          "pair": [
           24,
           27
          ],
          "source": 24,
          "target": 27,
          "weight": 3,
          "x": 170.03828676696347,
          "y": 64.13632176849862
         },
         {
          "edge": 64,
          "pair": [
           24,
           31
          ],
          "source": 24,
          "target": 31,
          "weight": 2,
          "x": 170.03828676696347,
          "y": 78.94749769726744
         },
         {
          "edge": 64,
          "pair": [
           24,
           31
          ],
          "source": 24,
          "target": 31,
          "weight": 2,
          "x": 178.6781393920786,
          "y": 49.325145839729814
         },
         {
          "edge": 65,
          "pair": [
           25,
           31
          ],
          "source": 25,
          "target": 31,
          "weight": 7,
          "x": 184.84946269573226,
          "y": 64.13632176849862
         },
         {
          "edge": 65,
          "pair": [
           25,
           31
          ],
          "source": 25,
          "target": 31,
          "weight": 7,
          "x": 178.6781393920786,
          "y": 49.325145839729814
         },
         {
          "edge": 66,
          "pair": [
           26,
           29
          ],
          "source": 26,
          "target": 29,
          "weight": 4,
          "x": 269.18882407123124,
          "y": 64.13632176849862
         },
         {
          "edge": 66,
          "pair": [
           26,
           29
          ],
          "source": 26,
          "target": 29,
          "weight": 4,
          "x": 261.37181455326987,
          "y": 49.325145839729814
         },
         {
          "edge": 67,
          "pair": [
           26,
           33
          ],
          "source": 26,
          "target": 33,
          "weight": 2,
          "x": 269.18882407123124,
          "y": 64.13632176849862
         },
         {
          "edge": 67,
          "pair": [
           26,
           33
          ],
          "source": 26,
          "target": 33,
          "weight": 2,
          "x": 167.36404666871354,
          "y": 19.7027939821922
         },
         {
          "edge": 68,
          "pair": [
           27,
           33
          ],
          "source": 27,
          "target": 33,
          "weight": 4,
          "x": 170.03828676696347,
          "y": 64.13632176849862
         },
         {
          "edge": 68,
          "pair": [
           27,
           33
          ],
          "source": 27,
          "target": 33,
          "weight": 4,
          "x": 167.36404666871354,
          "y": 19.7027939821922
         },
         {
          "edge": 69,
          "pair": [
           28,
           31
          ],
          "source": 28,
          "target": 31,
          "weight": 2,
          "x": 131.77608228431072,
          "y": 64.13632176849862
         },
         {
          "edge": 69,
          "pair": [
           28,
           31
          ],
          "source": 28,
          "target": 31,
          "weight": 2,
          "x": 178.6781393920786,
          "y": 49.325145839729814
         },
         {
          "edge": 70,
          "pair": [
           28,
           33
          ],
          "source": 28,
          "target": 33,
          "weight": 2,
          "x": 131.77608228431072,
          "y": 64.13632176849862
         },
         {
          "edge": 70,
          "pair": [
           28,
           33
          ],
          "source": 28,
          "target": 33,
          "weight": 2,
          "x": 167.36404666871354,
          "y": 19.7027939821922
         },
         {
          "edge": 71,
          "pair": [
           29,
           32
          ],
          "source": 29,
          "target": 32,
          "weight": 4,
          "x": 261.37181455326987,
          "y": 49.325145839729814
         },
         {
          "edge": 71,
          "pair": [
           29,
           32
          ],
          "source": 29,
          "target": 32,
          "weight": 4,
          "x": 167.36404666871354,
          "y": 34.51396991096101
         },
         {
          "edge": 72,
          "pair": [
           29,
           33
          ],
          "source": 29,
          "target": 33,
          "weight": 2,
          "x": 261.37181455326987,
          "y": 49.325145839729814
         },
         {
          "edge": 72,
          "pair": [
           29,
           33
          ],
          "source": 29,
          "target": 33,
          "weight": 2,
          "x": 167.36404666871354,
          "y": 19.7027939821922
         },
         {
          "edge": 73,
          "pair": [
           30,
           32
          ],
          "source": 30,
          "target": 32,
          "weight": 3,
          "x": 110.79358305188825,
          "y": 49.325145839729814
         },
         {
          "edge": 73,
          "pair": [
           30,
           32
          ],
          "source": 30,
          "target": 32,
          "weight": 3,
          "x": 167.36404666871354,
          "y": 34.51396991096101
         },
         {
          "edge": 74,
          "pair": [
           30,
           33
          ],
          "source": 30,
          "target": 33,
          "weight": 3,
          "x": 110.79358305188825,
          "y": 49.325145839729814
         },
         {
          "edge": 74,
          "pair": [
           30,
           33
          ],
          "source": 30,
          "target": 33,
          "weight": 3,
          "x": 167.36404666871354,
          "y": 19.7027939821922
         },
         {
          "edge": 75,
          "pair": [
           31,
           32
          ],
          "source": 31,
          "target": 32,
          "weight": 4,
          "x": 178.6781393920786,
          "y": 49.325145839729814
         },
         {
          "edge": 75,
          "pair": [
           31,
           32
          ],
          "source": 31,
          "target": 32,
          "weight": 4,
          "x": 167.36404666871354,
          "y": 34.51396991096101
         },
         {
          "edge": 76,
          "pair": [
           31,
           33
          ],
          "source": 31,
          "target": 33,
          "weight": 4,
          "x": 178.6781393920786,
          "y": 49.325145839729814
         },
         {
          "edge": 76,
          "pair": [
           31,
           33
          ],
          "source": 31,
          "target": 33,
          "weight": 4,
          "x": 167.36404666871354,
          "y": 19.7027939821922
         },
         {
          "edge": 77,
          "pair": [
           32,
           33
          ],
          "source": 32,
          "target": 33,
          "weight": 5,
          "x": 167.36404666871354,
          "y": 34.51396991096101
         },
         {
          "edge": 77,
          "pair": [
           32,
           33
          ],
          "source": 32,
          "target": 33,
          "weight": 5,
          "x": 167.36404666871354,
          "y": 19.7027939821922
         }
        ],
        "data-89a70a53473d4e9b9794a8549d09f139": [
         {
          "__node_r": 5.752469825293227,
          "__node_size": 132.36363636363637,
          "club": "Mr. Hi",
          "degree_centrality": 0.48484848484848486,
          "x": 174.01723405469713,
          "y": 157.93567302140193
         },
         {
          "__node_r": 4.51260859854213,
          "__node_size": 81.45454545454545,
          "club": "Mr. Hi",
          "degree_centrality": 0.2727272727272727,
          "x": 207.34919714134898,
          "y": 162.06227394894603
         },
         {
          "__node_r": 4.709757762541316,
          "__node_size": 88.72727272727273,
          "club": "Mr. Hi",
          "degree_centrality": 0.30303030303030304,
          "x": 134.43673645868728,
          "y": 147.07019520210255
         },
         {
          "__node_r": 3.8612291966536914,
          "__node_size": 59.63636363636364,
          "club": "Mr. Hi",
          "degree_centrality": 0.18181818181818182,
          "x": 164.7780061105397,
          "y": 192.87148125308792
         },
         {
          "__node_r": 3.0748244591432297,
          "__node_size": 37.81818181818182,
          "club": "Mr. Hi",
          "degree_centrality": 0.09090909090909091,
          "x": 179.18074520441596,
          "y": 122.01739473332461
         },
         {
          "__node_r": 3.3574882386580707,
          "__node_size": 45.09090909090909,
          "club": "Mr. Hi",
          "degree_centrality": 0.12121212121212122,
          "x": 220.44472389264394,
          "y": 86.2623664734071
         },
         {
          "__node_r": 3.3574882386580707,
          "__node_size": 45.09090909090909,
          "club": "Mr. Hi",
          "degree_centrality": 0.12121212121212122,
          "x": 223.29445408844475,
          "y": 94.65697223429483
         },
         {
          "__node_r": 3.3574882386580707,
          "__node_size": 45.09090909090909,
          "club": "Mr. Hi",
          "degree_centrality": 0.12121212121212122,
          "x": 176.62655831162797,
          "y": 191.89818397629438
         },
         {
          "__node_r": 3.6181361349331636,
          "__node_size": 52.36363636363637,
          "club": "Mr. Hi",
          "degree_centrality": 0.15151515151515152,
          "x": 167.4031877362457,
          "y": 88.08275327377332
         },
         {
          "__node_r": 2.76339711883103,
          "__node_size": 30.545454545454547,
          "club": "Officer",
          "degree_centrality": 0.06060606060606061,
          "x": 141.948517990803,
          "y": 107.13276175616534
         },
         {
          "__node_r": 3.0748244591432297,
          "__node_size": 37.81818181818182,
          "club": "Mr. Hi",
          "degree_centrality": 0.09090909090909091,
          "x": 177.7691190089055,
          "y": 119.12744489951231
         },
         {
          "__node_r": 2.412090756622109,
          "__node_size": 23.272727272727273,
          "club": "Mr. Hi",
          "degree_centrality": 0.030303030303030304,
          "x": 133.01333272334523,
          "y": 190.26401589527373
         },
         {
          "__node_r": 2.76339711883103,
          "__node_size": 30.545454545454547,
          "club": "Mr. Hi",
          "degree_centrality": 0.06060606060606061,
          "x": 153.0231821099417,
          "y": 197.9089236192527
         },
         {
          "__node_r": 3.6181361349331636,
          "__node_size": 52.36363636363637,
          "club": "Mr. Hi",
          "degree_centrality": 0.15151515151515152,
          "x": 186.73359993356772,
          "y": 145.03766725437615
         },
         {
          "__node_r": 2.76339711883103,
          "__node_size": 30.545454545454547,
          "club": "Officer",
          "degree_centrality": 0.06060606060606061,
          "x": 129.96983371617543,
          "y": 37.914472388561094
         },
         {
          "__node_r": 2.76339711883103,
          "__node_size": 30.545454545454547,
          "club": "Officer",
          "degree_centrality": 0.06060606060606061,
          "x": 133.19583066401864,
          "y": 22.50430600852861
         },
         {
          "__node_r": 2.76339711883103,
          "__node_size": 30.545454545454547,
          "club": "Mr. Hi",
          "degree_centrality": 0.06060606060606061,
          "x": 228.54983674992806,
          "y": 62.93193777826997
         },
         {
          "__node_r": 2.76339711883103,
          "__node_size": 30.545454545454547,
          "club": "Mr. Hi",
          "degree_centrality": 0.06060606060606061,
          "x": 197.41637448577998,
          "y": 174.69889900644375
         },
         {
          "__node_r": 2.76339711883103,
          "__node_size": 30.545454545454547,
          "club": "Officer",
          "degree_centrality": 0.06060606060606061,
          "x": 120.84457918643675,
          "y": 54.42597562126649
         },
         {
          "__node_r": 3.0748244591432297,
          "__node_size": 37.81818181818182,
          "club": "Mr. Hi",
          "degree_centrality": 0.09090909090909091,
          "x": 183.55830304659642,
          "y": 127.45762485306913
         },
         {
          "__node_r": 2.76339711883103,
          "__node_size": 30.545454545454547,
          "club": "Officer",
          "degree_centrality": 0.06060606060606061,
          "x": 135.94347165801793,
          "y": 39.93716418101464
         },
         {
          "__node_r": 2.76339711883103,
          "__node_size": 30.545454545454547,
          "club": "Mr. Hi",
          "degree_centrality": 0.06060606060606061,
          "x": 202.67448893375422,
          "y": 177.7203513896208
         },
         {
          "__node_r": 2.76339711883103,
          "__node_size": 30.545454545454547,
          "club": "Officer",
          "degree_centrality": 0.06060606060606061,
          "x": 137.83034628743854,
          "y": 32.68836521587771
         },
         {
          "__node_r": 3.6181361349331636,
          "__node_size": 52.36363636363637,
          "club": "Officer",
          "degree_centrality": 0.15151515151515152,
          "x": 68.10717077066344,
          "y": 64.52393628045607
         },
         {
          "__node_r": 3.0748244591432297,
          "__node_size": 37.81818181818182,
          "club": "Officer",
          "degree_centrality": 0.09090909090909091,
          "x": 53.32660666559339,
          "y": 125.06356941250365
         },
         {
          "__node_r": 3.0748244591432297,
          "__node_size": 37.81818181818182,
          "club": "Officer",
          "degree_centrality": 0.09090909090909091,
          "x": 43.967049969983194,
          "y": 113.23718595298581
         },
         {
          "__node_r": 2.76339711883103,
          "__node_size": 30.545454545454547,
          "club": "Officer",
          "degree_centrality": 0.06060606060606061,
          "x": 134.40847306512765,
          "y": 16
         },
         {
          "__node_r": 3.3574882386580707,
          "__node_size": 45.09090909090909,
          "club": "Officer",
          "degree_centrality": 0.12121212121212122,
          "x": 76.40223301731972,
          "y": 104.47467081890252
         },
         {
          "__node_r": 3.0748244591432297,
          "__node_size": 37.81818181818182,
          "club": "Officer",
          "degree_centrality": 0.09090909090909091,
          "x": 105.3957041893718,
          "y": 120.97346770836296
         },
         {
          "__node_r": 3.3574882386580707,
          "__node_size": 45.09090909090909,
          "club": "Officer",
          "degree_centrality": 0.12121212121212122,
          "x": 101.71331301717727,
          "y": 24.130493836766846
         },
         {
          "__node_r": 3.3574882386580707,
          "__node_size": 45.09090909090909,
          "club": "Officer",
          "degree_centrality": 0.12121212121212122,
          "x": 180.917560336488,
          "y": 77.1264905795907
         },
         {
          "__node_r": 3.8612291966536914,
          "__node_size": 59.63636363636364,
          "club": "Officer",
          "degree_centrality": 0.18181818181818182,
          "x": 82.62717515110698,
          "y": 121.95233188725487
         },
         {
          "__node_r": 5.081159495448044,
          "__node_size": 103.27272727272728,
          "club": "Officer",
          "degree_centrality": 0.36363636363636365,
          "x": 115.80579177746667,
          "y": 46.8038479630529
         },
         {
          "__node_r": 5.908391567007971,
          "__node_size": 139.63636363636363,
          "club": "Officer",
          "degree_centrality": 0.5151515151515151,
          "x": 134.83452007652568,
          "y": 65.97481198114315
         }
        ],
        "data-b5cd3a720abfea92f4eb4d91a6bdc07f": [
         {
          "edge": 0,
          "pair": [
           0,
           1
          ],
          "source": 0,
          "target": 1,
          "weight": 4,
          "x": 75.34042332587809,
          "y": 200.61827541002015
         },
         {
          "edge": 0,
          "pair": [
           0,
           1
          ],
          "source": 0,
          "target": 1,
          "weight": 4,
          "x": 135.50051178314496,
          "y": 232.28356923323324
         },
         {
          "edge": 1,
          "pair": [
           0,
           2
          ],
          "source": 0,
          "target": 2,
          "weight": 5,
          "x": 75.34042332587809,
          "y": 200.61827541002015
         },
         {
          "edge": 1,
          "pair": [
           0,
           2
          ],
          "source": 0,
          "target": 2,
          "weight": 5,
          "x": 164.44981027937476,
          "y": 199.07733671833338
         },
         {
          "edge": 2,
          "pair": [
           0,
           3
          ],
          "source": 0,
          "target": 3,
          "weight": 3,
          "x": 75.34042332587809,
          "y": 200.61827541002015
         },
         {
          "edge": 2,
          "pair": [
           0,
           3
          ],
          "source": 0,
          "target": 3,
          "weight": 3,
          "x": 94.90590119477949,
          "y": 257.35665400165635
         },
         {
          "edge": 3,
          "pair": [
           0,
           4
          ],
          "source": 0,
          "target": 4,
          "weight": 3,
          "x": 75.34042332587809,
          "y": 200.61827541002015
         },
         {
          "edge": 3,
          "pair": [
           0,
           4
          ],
          "source": 0,
          "target": 4,
          "weight": 3,
          "x": 242.8408006647217,
          "y": 198.0664119691968
         },
         {
          "edge": 4,
          "pair": [
           0,
           5
          ],
          "source": 0,
          "target": 5,
          "weight": 3,
          "x": 75.34042332587809,
          "y": 200.61827541002015
         },
         {
          "edge": 4,
          "pair": [
           0,
           5
          ],
          "source": 0,
          "target": 5,
          "weight": 3,
          "x": 224.72789880667094,
          "y": 251.11635632706452
         },
         {
          "edge": 5,
          "pair": [
           0,
           6
          ],
          "source": 0,
          "target": 6,
          "weight": 3,
          "x": 75.34042332587809,
          "y": 200.61827541002015
         },
         {
          "edge": 5,
          "pair": [
           0,
           6
          ],
          "source": 0,
          "target": 6,
          "weight": 3,
          "x": 224.2933436815151,
          "y": 229.5545839387629
         },
         {
          "edge": 6,
          "pair": [
           0,
           7
          ],
          "source": 0,
          "target": 7,
          "weight": 2,
          "x": 75.34042332587809,
          "y": 200.61827541002015
         },
         {
          "edge": 6,
          "pair": [
           0,
           7
          ],
          "source": 0,
          "target": 7,
          "weight": 2,
          "x": 135.85812616848844,
          "y": 272.14849507005107
         },
         {
          "edge": 7,
          "pair": [
           0,
           8
          ],
          "source": 0,
          "target": 8,
          "weight": 2,
          "x": 75.34042332587809,
          "y": 200.61827541002015
         },
         {
          "edge": 7,
          "pair": [
           0,
           8
          ],
          "source": 0,
          "target": 8,
          "weight": 2,
          "x": 195.35394216007117,
          "y": 152.30131641781472
         },
         {
          "edge": 8,
          "pair": [
           0,
           10
          ],
          "source": 0,
          "target": 10,
          "weight": 2,
          "x": 75.34042332587809,
          "y": 200.61827541002015
         },
         {
          "edge": 8,
          "pair": [
           0,
           10
          ],
          "source": 0,
          "target": 10,
          "weight": 2,
          "x": 257.8958787831277,
          "y": 215.66646555884344
         },
         {
          "edge": 9,
          "pair": [
           0,
           11
          ],
          "source": 0,
          "target": 11,
          "weight": 3,
          "x": 75.34042332587809,
          "y": 200.61827541002015
         },
         {
          "edge": 9,
          "pair": [
           0,
           11
          ],
          "source": 0,
          "target": 11,
          "weight": 3,
          "x": 16,
          "y": 190.4737771467935
         },
         {
          "edge": 10,
          "pair": [
           0,
           12
          ],
          "source": 0,
          "target": 12,
          "weight": 1,
          "x": 75.34042332587809,
          "y": 200.61827541002015
         },
         {
          "edge": 10,
          "pair": [
           0,
           12
          ],
          "source": 0,
          "target": 12,
          "weight": 1,
          "x": 53.18887321297999,
          "y": 260.1458547296339
         },
         {
          "edge": 11,
          "pair": [
           0,
           13
          ],
          "source": 0,
          "target": 13,
          "weight": 3,
          "x": 75.34042332587809,
          "y": 200.61827541002015
         },
         {
          "edge": 11,
          "pair": [
           0,
           13
          ],
          "source": 0,
          "target": 13,
          "weight": 3,
          "x": 122.87421204357311,
          "y": 180.98476362941216
         },
         {
          "edge": 12,
          "pair": [
           0,
           17
          ],
          "source": 0,
          "target": 17,
          "weight": 2,
          "x": 75.34042332587809,
          "y": 200.61827541002015
         },
         {
          "edge": 12,
          "pair": [
           0,
           17
          ],
          "source": 0,
          "target": 17,
          "weight": 2,
          "x": 16.09655261044712,
          "y": 155.52323713037273
         },
         {
          "edge": 13,
          "pair": [
           0,
           19
          ],
          "source": 0,
          "target": 19,
          "weight": 2,
          "x": 75.34042332587809,
          "y": 200.61827541002015
         },
         {
          "edge": 13,
          "pair": [
           0,
           19
          ],
          "source": 0,
          "target": 19,
          "weight": 2,
          "x": 53.212713810840356,
          "y": 142.91563073445
         },
         {
          "edge": 14,
          "pair": [
           0,
           21
          ],
          "source": 0,
          "target": 21,
          "weight": 2,
          "x": 75.34042332587809,
          "y": 200.61827541002015
         },
         {
          "edge": 14,
          "pair": [
           0,
           21
          ],
          "source": 0,
          "target": 21,
          "weight": 2,
          "x": 171.62872577318996,
          "y": 280.3026887244505
         },
         {
          "edge": 15,
          "pair": [
           0,
           31
          ],
          "source": 0,
          "target": 31,
          "weight": 2,
          "x": 75.34042332587809,
          "y": 200.61827541002015
         },
         {
          "edge": 15,
          "pair": [
           0,
           31
          ],
          "source": 0,
          "target": 31,
          "weight": 2,
          "x": 91.48207399958316,
          "y": 70.00721881622316
         },
         {
          "edge": 16,
          "pair": [
           1,
           2
          ],
          "source": 1,
          "target": 2,
          "weight": 6,
          "x": 135.50051178314496,
          "y": 232.28356923323324
         },
         {
          "edge": 16,
          "pair": [
           1,
           2
          ],
          "source": 1,
          "target": 2,
          "weight": 6,
          "x": 164.44981027937476,
          "y": 199.07733671833338
         },
         {
          "edge": 17,
          "pair": [
           1,
           3
          ],
          "source": 1,
          "target": 3,
          "weight": 3,
          "x": 135.50051178314496,
          "y": 232.28356923323324
         },
         {
          "edge": 17,
          "pair": [
           1,
           3
          ],
          "source": 1,
          "target": 3,
          "weight": 3,
          "x": 94.90590119477949,
          "y": 257.35665400165635
         },
         {
          "edge": 18,
          "pair": [
           1,
           7
          ],
          "source": 1,
          "target": 7,
          "weight": 4,
          "x": 135.50051178314496,
          "y": 232.28356923323324
         },
         {
          "edge": 18,
          "pair": [
           1,
           7
          ],
          "source": 1,
          "target": 7,
          "weight": 4,
          "x": 135.85812616848844,
          "y": 272.14849507005107
         },
         {
          "edge": 19,
          "pair": [
           1,
           13
          ],
          "source": 1,
          "target": 13,
          "weight": 5,
          "x": 135.50051178314496,
          "y": 232.28356923323324
         },
         {
          "edge": 19,
          "pair": [
           1,
           13
          ],
          "source": 1,
          "target": 13,
          "weight": 5,
          "x": 122.87421204357311,
          "y": 180.98476362941216
         },
         {
          "edge": 20,
          "pair": [
           1,
           17
          ],
          "source": 1,
          "target": 17,
          "weight": 1,
          "x": 135.50051178314496,
          "y": 232.28356923323324
         },
         {
          "edge": 20,
          "pair": [
           1,
           17
          ],
          "source": 1,
          "target": 17,
          "weight": 1,
          "x": 16.09655261044712,
          "y": 155.52323713037273
         },
         {
          "edge": 21,
          "pair": [
           1,
           19
          ],
          "source": 1,
          "target": 19,
          "weight": 2,
          "x": 135.50051178314496,
          "y": 232.28356923323324
         },
         {
          "edge": 21,
          "pair": [
           1,
           19
          ],
          "source": 1,
          "target": 19,
          "weight": 2,
          "x": 53.212713810840356,
          "y": 142.91563073445
         },
         {
          "edge": 22,
          "pair": [
           1,
           21
          ],
          "source": 1,
          "target": 21,
          "weight": 2,
          "x": 135.50051178314496,
          "y": 232.28356923323324
         },
         {
          "edge": 22,
          "pair": [
           1,
           21
          ],
          "source": 1,
          "target": 21,
          "weight": 2,
          "x": 171.62872577318996,
          "y": 280.3026887244505
         },
         {
          "edge": 23,
          "pair": [
           1,
           30
          ],
          "source": 1,
          "target": 30,
          "weight": 2,
          "x": 135.50051178314496,
          "y": 232.28356923323324
         },
         {
          "edge": 23,
          "pair": [
           1,
           30
          ],
          "source": 1,
          "target": 30,
          "weight": 2,
          "x": 220.55203627551344,
          "y": 132.92466672001314
         },
         {
          "edge": 24,
          "pair": [
           2,
           3
          ],
          "source": 2,
          "target": 3,
          "weight": 3,
          "x": 164.44981027937476,
          "y": 199.07733671833338
         },
         {
          "edge": 24,
          "pair": [
           2,
           3
          ],
          "source": 2,
          "target": 3,
          "weight": 3,
          "x": 94.90590119477949,
          "y": 257.35665400165635
         },
         {
          "edge": 25,
          "pair": [
           2,
           7
          ],
          "source": 2,
          "target": 7,
          "weight": 4,
          "x": 164.44981027937476,
          "y": 199.07733671833338
         },
         {
          "edge": 25,
          "pair": [
           2,
           7
          ],
          "source": 2,
          "target": 7,
          "weight": 4,
          "x": 135.85812616848844,
          "y": 272.14849507005107
         },
         {
          "edge": 26,
          "pair": [
           2,
           8
          ],
          "source": 2,
          "target": 8,
          "weight": 5,
          "x": 164.44981027937476,
          "y": 199.07733671833338
         },
         {
          "edge": 26,
          "pair": [
           2,
           8
          ],
          "source": 2,
          "target": 8,
          "weight": 5,
          "x": 195.35394216007117,
          "y": 152.30131641781472
         },
         {
          "edge": 27,
          "pair": [
           2,
           9
          ],
          "source": 2,
          "target": 9,
          "weight": 1,
          "x": 164.44981027937476,
          "y": 199.07733671833338
         },
         {
          "edge": 27,
          "pair": [
           2,
           9
          ],
          "source": 2,
          "target": 9,
          "weight": 1,
          "x": 246.80771723634942,
          "y": 141.59886162915308
         },
         {
          "edge": 28,
          "pair": [
           2,
           13
          ],
          "source": 2,
          "target": 13,
          "weight": 3,
          "x": 164.44981027937476,
          "y": 199.07733671833338
         },
         {
          "edge": 28,
          "pair": [
           2,
           13
          ],
          "source": 2,
          "target": 13,
          "weight": 3,
          "x": 122.87421204357311,
          "y": 180.98476362941216
         },
         {
          "edge": 29,
          "pair": [
           2,
           27
          ],
          "source": 2,
          "target": 27,
          "weight": 2,
          "x": 164.44981027937476,
          "y": 199.07733671833338
         },
         {
          "edge": 29,
          "pair": [
           2,
           27
          ],
          "source": 2,
          "target": 27,
          "weight": 2,
          "x": 104.81261378517719,
          "y": 97.24232503939227
         },
         {
          "edge": 30,
          "pair": [
           2,
           28
          ],
          "source": 2,
          "target": 28,
          "weight": 2,
          "x": 164.44981027937476,
          "y": 199.07733671833338
         },
         {
          "edge": 30,
          "pair": [
           2,
           28
          ],
          "source": 2,
          "target": 28,
          "weight": 2,
          "x": 93.94563907911201,
          "y": 124.46624397385379
         },
         {
          "edge": 31,
          "pair": [
           2,
           32
          ],
          "source": 2,
          "target": 32,
          "weight": 2,
          "x": 164.44981027937476,
          "y": 199.07733671833338
         },
         {
          "edge": 31,
          "pair": [
           2,
           32
          ],
          "source": 2,
          "target": 32,
          "weight": 2,
          "x": 201.03716851268632,
          "y": 63.17108287149741
         },
         {
          "edge": 32,
          "pair": [
           3,
           7
          ],
          "source": 3,
          "target": 7,
          "weight": 3,
          "x": 94.90590119477949,
          "y": 257.35665400165635
         },
         {
          "edge": 32,
          "pair": [
           3,
           7
          ],
          "source": 3,
          "target": 7,
          "weight": 3,
          "x": 135.85812616848844,
          "y": 272.14849507005107
         },
         {
          "edge": 33,
          "pair": [
           3,
           12
          ],
          "source": 3,
          "target": 12,
          "weight": 3,
          "x": 94.90590119477949,
          "y": 257.35665400165635
         },
         {
          "edge": 33,
          "pair": [
           3,
           12
          ],
          "source": 3,
          "target": 12,
          "weight": 3,
          "x": 53.18887321297999,
          "y": 260.1458547296339
         },
         {
          "edge": 34,
          "pair": [
           3,
           13
          ],
          "source": 3,
          "target": 13,
          "weight": 3,
          "x": 94.90590119477949,
          "y": 257.35665400165635
         },
         {
          "edge": 34,
          "pair": [
           3,
           13
          ],
          "source": 3,
          "target": 13,
          "weight": 3,
          "x": 122.87421204357311,
          "y": 180.98476362941216
         },
         {
          "edge": 35,
          "pair": [
           4,
           6
          ],
          "source": 4,
          "target": 6,
          "weight": 2,
          "x": 242.8408006647217,
          "y": 198.0664119691968
         },
         {
          "edge": 35,
          "pair": [
           4,
           6
          ],
          "source": 4,
          "target": 6,
          "weight": 2,
          "x": 224.2933436815151,
          "y": 229.5545839387629
         },
         {
          "edge": 36,
          "pair": [
           4,
           10
          ],
          "source": 4,
          "target": 10,
          "weight": 3,
          "x": 242.8408006647217,
          "y": 198.0664119691968
         },
         {
          "edge": 36,
          "pair": [
           4,
           10
          ],
          "source": 4,
          "target": 10,
          "weight": 3,
          "x": 257.8958787831277,
          "y": 215.66646555884344
         },
         {
          "edge": 37,
          "pair": [
           5,
           6
          ],
          "source": 5,
          "target": 6,
          "weight": 5,
          "x": 224.72789880667094,
          "y": 251.11635632706452
         },
         {
          "edge": 37,
          "pair": [
           5,
           6
          ],
          "source": 5,
          "target": 6,
          "weight": 5,
          "x": 224.2933436815151,
          "y": 229.5545839387629
         },
         {
          "edge": 38,
          "pair": [
           5,
           10
          ],
          "source": 5,
          "target": 10,
          "weight": 3,
          "x": 224.72789880667094,
          "y": 251.11635632706452
         },
         {
          "edge": 38,
          "pair": [
           5,
           10
          ],
          "source": 5,
          "target": 10,
          "weight": 3,
          "x": 257.8958787831277,
          "y": 215.66646555884344
         },
         {
          "edge": 39,
          "pair": [
           5,
           16
          ],
          "source": 5,
          "target": 16,
          "weight": 3,
          "x": 224.72789880667094,
          "y": 251.11635632706452
         },
         {
          "edge": 39,
          "pair": [
           5,
           16
          ],
          "source": 5,
          "target": 16,
          "weight": 3,
          "x": 248.95041546938234,
          "y": 251.5010581473393
         },
         {
          "edge": 40,
          "pair": [
           6,
           16
          ],
          "source": 6,
          "target": 16,
          "weight": 3,
          "x": 224.2933436815151,
          "y": 229.5545839387629
         },
         {
          "edge": 40,
          "pair": [
           6,
           16
          ],
          "source": 6,
          "target": 16,
          "weight": 3,
          "x": 248.95041546938234,
          "y": 251.5010581473393
         },
         {
          "edge": 41,
          "pair": [
           8,
           30
          ],
          "source": 8,
          "target": 30,
          "weight": 3,
          "x": 195.35394216007117,
          "y": 152.30131641781472
         },
         {
          "edge": 41,
          "pair": [
           8,
           30
          ],
          "source": 8,
          "target": 30,
          "weight": 3,
          "x": 220.55203627551344,
          "y": 132.92466672001314
         },
         {
          "edge": 42,
          "pair": [
           8,
           32
          ],
          "source": 8,
          "target": 32,
          "weight": 3,
          "x": 195.35394216007117,
          "y": 152.30131641781472
         },
         {
          "edge": 42,
          "pair": [
           8,
           32
          ],
          "source": 8,
          "target": 32,
          "weight": 3,
          "x": 201.03716851268632,
          "y": 63.17108287149741
         },
         {
          "edge": 43,
          "pair": [
           8,
           33
          ],
          "source": 8,
          "target": 33,
          "weight": 4,
          "x": 195.35394216007117,
          "y": 152.30131641781472
         },
         {
          "edge": 43,
          "pair": [
           8,
           33
          ],
          "source": 8,
          "target": 33,
          "weight": 4,
          "x": 164.16736029047362,
          "y": 105.06093221410134
         },
         {
          "edge": 44,
          "pair": [
           9,
           33
          ],
          "source": 9,
          "target": 33,
          "weight": 2,
          "x": 246.80771723634942,
          "y": 141.59886162915308
         },
         {
          "edge": 44,
          "pair": [
           9,
           33
          ],
          "source": 9,
          "target": 33,
          "weight": 2,
          "x": 164.16736029047362,
          "y": 105.06093221410134
         },
         {
          "edge": 45,
          "pair": [
           13,
           33
          ],
          "source": 13,
          "target": 33,
          "weight": 3,
          "x": 122.87421204357311,
          "y": 180.98476362941216
         },
         {
          "edge": 45,
          "pair": [
           13,
           33
          ],
          "source": 13,
          "target": 33,
          "weight": 3,
          "x": 164.16736029047362,
          "y": 105.06093221410134
         },
         {
          "edge": 46,
          "pair": [
           14,
           32
          ],
          "source": 14,
          "target": 32,
          "weight": 3,
          "x": 228.99509576340873,
          "y": 80.77584011473759
         },
         {
          "edge": 46,
          "pair": [
           14,
           32
          ],
          "source": 14,
          "target": 32,
          "weight": 3,
          "x": 201.03716851268632,
          "y": 63.17108287149741
         },
         {
          "edge": 47,
          "pair": [
           14,
           33
          ],
          "source": 14,
          "target": 33,
          "weight": 2,
          "x": 228.99509576340873,
          "y": 80.77584011473759
         },
         {
          "edge": 47,
          "pair": [
           14,
           33
          ],
          "source": 14,
          "target": 33,
          "weight": 2,
          "x": 164.16736029047362,
          "y": 105.06093221410134
         },
         {
          "edge": 48,
          "pair": [
           15,
           32
          ],
          "source": 15,
          "target": 32,
          "weight": 3,
          "x": 171.76121844235394,
          "y": 72.35085238608266
         },
         {
          "edge": 48,
          "pair": [
           15,
           32
          ],
          "source": 15,
          "target": 32,
          "weight": 3,
          "x": 201.03716851268632,
          "y": 63.17108287149741
         },
         {
          "edge": 49,
          "pair": [
           15,
           33
          ],
          "source": 15,
          "target": 33,
          "weight": 4,
          "x": 171.76121844235394,
          "y": 72.35085238608266
         },
         {
          "edge": 49,
          "pair": [
           15,
           33
          ],
          "source": 15,
          "target": 33,
          "weight": 4,
          "x": 164.16736029047362,
          "y": 105.06093221410134
         },
         {
          "edge": 50,
          "pair": [
           18,
           32
          ],
          "source": 18,
          "target": 32,
          "weight": 1,
          "x": 245.74602447827542,
          "y": 102.67987735307909
         },
         {
          "edge": 50,
          "pair": [
           18,
           32
          ],
          "source": 18,
          "target": 32,
          "weight": 1,
          "x": 201.03716851268632,
          "y": 63.17108287149741
         },
         {
          "edge": 51,
          "pair": [
           18,
           33
          ],
          "source": 18,
          "target": 33,
          "weight": 2,
          "x": 245.74602447827542,
          "y": 102.67987735307909
         },
         {
          "edge": 51,
          "pair": [
           18,
           33
          ],
          "source": 18,
          "target": 33,
          "weight": 2,
          "x": 164.16736029047362,
          "y": 105.06093221410134
         },
         {
          "edge": 52,
          "pair": [
           19,
           33
          ],
          "source": 19,
          "target": 33,
          "weight": 1,
          "x": 53.212713810840356,
          "y": 142.91563073445
         },
         {
          "edge": 52,
          "pair": [
           19,
           33
          ],
          "source": 19,
          "target": 33,
          "weight": 1,
          "x": 164.16736029047362,
          "y": 105.06093221410134
         },
         {
          "edge": 53,
          "pair": [
           20,
           32
          ],
          "source": 20,
          "target": 32,
          "weight": 3,
          "x": 235.35076377296585,
          "y": 50.68865492680384
         },
         {
          "edge": 53,
          "pair": [
           20,
           32
          ],
          "source": 20,
          "target": 32,
          "weight": 3,
          "x": 201.03716851268632,
          "y": 63.17108287149741
         },
         {
          "edge": 54,
          "pair": [
           20,
           33
          ],
          "source": 20,
          "target": 33,
          "weight": 1,
          "x": 235.35076377296585,
          "y": 50.68865492680384
         },
         {
          "edge": 54,
          "pair": [
           20,
           33
          ],
          "source": 20,
          "target": 33,
          "weight": 1,
          "x": 164.16736029047362,
          "y": 105.06093221410134
         },
         {
          "edge": 55,
          "pair": [
           22,
           32
          ],
          "source": 22,
          "target": 32,
          "weight": 2,
          "x": 206.18756426468985,
          "y": 101.19675728063196
         },
         {
          "edge": 55,
          "pair": [
           22,
           32
          ],
          "source": 22,
          "target": 32,
          "weight": 2,
          "x": 201.03716851268632,
          "y": 63.17108287149741
         },
         {
          "edge": 56,
          "pair": [
           22,
           33
          ],
          "source": 22,
          "target": 33,
          "weight": 3,
          "x": 206.18756426468985,
          "y": 101.19675728063196
         },
         {
          "edge": 56,
          "pair": [
           22,
           33
          ],
          "source": 22,
          "target": 33,
          "weight": 3,
          "x": 164.16736029047362,
          "y": 105.06093221410134
         },
         {
          "edge": 57,
          "pair": [
           23,
           25
          ],
          "source": 23,
          "target": 25,
          "weight": 5,
          "x": 129.79105369378675,
          "y": 53.75824107924058
         },
         {
          "edge": 57,
          "pair": [
           23,
           25
          ],
          "source": 23,
          "target": 25,
          "weight": 5,
          "x": 81.45532943194424,
          "y": 49.6674963249328
         },
         {
          "edge": 58,
          "pair": [
           23,
           27
          ],
          "source": 23,
          "target": 27,
          "weight": 4,
          "x": 129.79105369378675,
          "y": 53.75824107924058
         },
         {
          "edge": 58,
          "pair": [
           23,
           27
          ],
          "source": 23,
          "target": 27,
          "weight": 4,
          "x": 104.81261378517719,
          "y": 97.24232503939227
         },
         {
          "edge": 59,
          "pair": [
           23,
           29
          ],
          "source": 23,
          "target": 29,
          "weight": 3,
          "x": 129.79105369378675,
          "y": 53.75824107924058
         },
         {
          "edge": 59,
          "pair": [
           23,
           29
          ],
          "source": 23,
          "target": 29,
          "weight": 3,
          "x": 168.37045517033232,
          "y": 26.497663483571294
         },
         {
          "edge": 60,
          "pair": [
           23,
           32
          ],
          "source": 23,
          "target": 32,
          "weight": 5,
          "x": 129.79105369378675,
          "y": 53.75824107924058
         },
         {
          "edge": 60,
          "pair": [
           23,
           32
          ],
          "source": 23,
          "target": 32,
          "weight": 5,
          "x": 201.03716851268632,
          "y": 63.17108287149741
         },
         {
          "edge": 61,
          "pair": [
           23,
           33
          ],
          "source": 23,
          "target": 33,
          "weight": 4,
          "x": 129.79105369378675,
          "y": 53.75824107924058
         },
         {
          "edge": 61,
          "pair": [
           23,
           33
          ],
          "source": 23,
          "target": 33,
          "weight": 4,
          "x": 164.16736029047362,
          "y": 105.06093221410134
         },
         {
          "edge": 62,
          "pair": [
           24,
           25
          ],
          "source": 24,
          "target": 25,
          "weight": 2,
          "x": 56.16396810387523,
          "y": 79.68508795522786
         },
         {
          "edge": 62,
          "pair": [
           24,
           25
          ],
          "source": 24,
          "target": 25,
          "weight": 2,
          "x": 81.45532943194424,
          "y": 49.6674963249328
         },
         {
          "edge": 63,
          "pair": [
           24,
           27
          ],
          "source": 24,
          "target": 27,
          "weight": 3,
          "x": 56.16396810387523,
          "y": 79.68508795522786
         },
         {
          "edge": 63,
          "pair": [
           24,
           27
          ],
          "source": 24,
          "target": 27,
          "weight": 3,
          "x": 104.81261378517719,
          "y": 97.24232503939227
         },
         {
          "edge": 64,
          "pair": [
           24,
           31
          ],
          "source": 24,
          "target": 31,
          "weight": 2,
          "x": 56.16396810387523,
          "y": 79.68508795522786
         },
         {
          "edge": 64,
          "pair": [
           24,
           31
          ],
          "source": 24,
          "target": 31,
          "weight": 2,
          "x": 91.48207399958316,
          "y": 70.00721881622316
         },
         {
          "edge": 65,
          "pair": [
           25,
           31
          ],
          "source": 25,
          "target": 31,
          "weight": 7,
          "x": 81.45532943194424,
          "y": 49.6674963249328
         },
         {
          "edge": 65,
          "pair": [
           25,
           31
          ],
          "source": 25,
          "target": 31,
          "weight": 7,
          "x": 91.48207399958316,
          "y": 70.00721881622316
         },
         {
          "edge": 66,
          "pair": [
           26,
           29
          ],
          "source": 26,
          "target": 29,
          "weight": 4,
          "x": 150.88816030394196,
          "y": 30.046875869222852
         },
         {
          "edge": 66,
          "pair": [
           26,
           29
          ],
          "source": 26,
          "target": 29,
          "weight": 4,
          "x": 168.37045517033232,
          "y": 26.497663483571294
         },
         {
          "edge": 67,
          "pair": [
           26,
           33
          ],
          "source": 26,
          "target": 33,
          "weight": 2,
          "x": 150.88816030394196,
          "y": 30.046875869222852
         },
         {
          "edge": 67,
          "pair": [
           26,
           33
          ],
          "source": 26,
          "target": 33,
          "weight": 2,
          "x": 164.16736029047362,
          "y": 105.06093221410134
         },
         {
          "edge": 68,
          "pair": [
           27,
           33
          ],
          "source": 27,
          "target": 33,
          "weight": 4,
          "x": 104.81261378517719,
          "y": 97.24232503939227
         },
         {
          "edge": 68,
          "pair": [
           27,
           33
          ],
          "source": 27,
          "target": 33,
          "weight": 4,
          "x": 164.16736029047362,
          "y": 105.06093221410134
         },
         {
          "edge": 69,
          "pair": [
           28,
           31
          ],
          "source": 28,
          "target": 31,
          "weight": 2,
          "x": 93.94563907911201,
          "y": 124.46624397385379
         },
         {
          "edge": 69,
          "pair": [
           28,
           31
          ],
          "source": 28,
          "target": 31,
          "weight": 2,
          "x": 91.48207399958316,
          "y": 70.00721881622316
         },
         {
          "edge": 70,
          "pair": [
           28,
           33
          ],
          "source": 28,
          "target": 33,
          "weight": 2,
          "x": 93.94563907911201,
          "y": 124.46624397385379
         },
         {
          "edge": 70,
          "pair": [
           28,
           33
          ],
          "source": 28,
          "target": 33,
          "weight": 2,
          "x": 164.16736029047362,
          "y": 105.06093221410134
         },
         {
          "edge": 71,
          "pair": [
           29,
           32
          ],
          "source": 29,
          "target": 32,
          "weight": 4,
          "x": 168.37045517033232,
          "y": 26.497663483571294
         },
         {
          "edge": 71,
          "pair": [
           29,
           32
          ],
          "source": 29,
          "target": 32,
          "weight": 4,
          "x": 201.03716851268632,
          "y": 63.17108287149741
         },
         {
          "edge": 72,
          "pair": [
           29,
           33
          ],
          "source": 29,
          "target": 33,
          "weight": 2,
          "x": 168.37045517033232,
          "y": 26.497663483571294
         },
         {
          "edge": 72,
          "pair": [
           29,
           33
          ],
          "source": 29,
          "target": 33,
          "weight": 2,
          "x": 164.16736029047362,
          "y": 105.06093221410134
         },
         {
          "edge": 73,
          "pair": [
           30,
           32
          ],
          "source": 30,
          "target": 32,
          "weight": 3,
          "x": 220.55203627551344,
          "y": 132.92466672001314
         },
         {
          "edge": 73,
          "pair": [
           30,
           32
          ],
          "source": 30,
          "target": 32,
          "weight": 3,
          "x": 201.03716851268632,
          "y": 63.17108287149741
         },
         {
          "edge": 74,
          "pair": [
           30,
           33
          ],
          "source": 30,
          "target": 33,
          "weight": 3,
          "x": 220.55203627551344,
          "y": 132.92466672001314
         },
         {
          "edge": 74,
          "pair": [
           30,
           33
          ],
          "source": 30,
          "target": 33,
          "weight": 3,
          "x": 164.16736029047362,
          "y": 105.06093221410134
         },
         {
          "edge": 75,
          "pair": [
           31,
           32
          ],
          "source": 31,
          "target": 32,
          "weight": 4,
          "x": 91.48207399958316,
          "y": 70.00721881622316
         },
         {
          "edge": 75,
          "pair": [
           31,
           32
          ],
          "source": 31,
          "target": 32,
          "weight": 4,
          "x": 201.03716851268632,
          "y": 63.17108287149741
         },
         {
          "edge": 76,
          "pair": [
           31,
           33
          ],
          "source": 31,
          "target": 33,
          "weight": 4,
          "x": 91.48207399958316,
          "y": 70.00721881622316
         },
         {
          "edge": 76,
          "pair": [
           31,
           33
          ],
          "source": 31,
          "target": 33,
          "weight": 4,
          "x": 164.16736029047362,
          "y": 105.06093221410134
         },
         {
          "edge": 77,
          "pair": [
           32,
           33
          ],
          "source": 32,
          "target": 33,
          "weight": 5,
          "x": 201.03716851268632,
          "y": 63.17108287149741
         },
         {
          "edge": 77,
          "pair": [
           32,
           33
          ],
          "source": 32,
          "target": 33,
          "weight": 5,
          "x": 164.16736029047362,
          "y": 105.06093221410134
         }
        ],
        "data-ba430ea5287c5d2c3f185c0821d1b151": [
         {
          "edge": 0,
          "pair": [
           0,
           1
          ],
          "source": 0,
          "target": 1,
          "weight": 4,
          "x": 176.44864214967177,
          "y": 105.11594509567368
         },
         {
          "edge": 0,
          "pair": [
           0,
           1
          ],
          "source": 0,
          "target": 1,
          "weight": 4,
          "x": 172.7452029070595,
          "y": 128.33581664309517
         },
         {
          "edge": 1,
          "pair": [
           0,
           2
          ],
          "source": 0,
          "target": 2,
          "weight": 5,
          "x": 176.44864214967177,
          "y": 105.11594509567368
         },
         {
          "edge": 1,
          "pair": [
           0,
           2
          ],
          "source": 0,
          "target": 2,
          "weight": 5,
          "x": 151.0244816418917,
          "y": 140.23929526695076
         },
         {
          "edge": 2,
          "pair": [
           0,
           3
          ],
          "source": 0,
          "target": 3,
          "weight": 3,
          "x": 176.44864214967177,
          "y": 105.11594509567368
         },
         {
          "edge": 2,
          "pair": [
           0,
           3
          ],
          "source": 0,
          "target": 3,
          "weight": 3,
          "x": 187.48529697624605,
          "y": 125.57104435875834
         },
         {
          "edge": 3,
          "pair": [
           0,
           4
          ],
          "source": 0,
          "target": 4,
          "weight": 3,
          "x": 176.44864214967177,
          "y": 105.11594509567368
         },
         {
          "edge": 3,
          "pair": [
           0,
           4
          ],
          "source": 0,
          "target": 4,
          "weight": 3,
          "x": 187.19373350469166,
          "y": 65.54982639956644
         },
         {
          "edge": 4,
          "pair": [
           0,
           5
          ],
          "source": 0,
          "target": 5,
          "weight": 3,
          "x": 176.44864214967177,
          "y": 105.11594509567368
         },
         {
          "edge": 4,
          "pair": [
           0,
           5
          ],
          "source": 0,
          "target": 5,
          "weight": 3,
          "x": 163.66394257554003,
          "y": 50.68928407327983
         },
         {
          "edge": 5,
          "pair": [
           0,
           6
          ],
          "source": 0,
          "target": 6,
          "weight": 3,
          "x": 176.44864214967177,
          "y": 105.11594509567368
         },
         {
          "edge": 5,
          "pair": [
           0,
           6
          ],
          "source": 0,
          "target": 6,
          "weight": 3,
          "x": 173.45095041173212,
          "y": 49.61362778388113
         },
         {
          "edge": 6,
          "pair": [
           0,
           7
          ],
          "source": 0,
          "target": 7,
          "weight": 2,
          "x": 176.44864214967177,
          "y": 105.11594509567368
         },
         {
          "edge": 6,
          "pair": [
           0,
           7
          ],
          "source": 0,
          "target": 7,
          "weight": 2,
          "x": 160.60062951903768,
          "y": 113.41053568061433
         },
         {
          "edge": 7,
          "pair": [
           0,
           8
          ],
          "source": 0,
          "target": 8,
          "weight": 2,
          "x": 176.44864214967177,
          "y": 105.11594509567368
         },
         {
          "edge": 7,
          "pair": [
           0,
           8
          ],
          "source": 0,
          "target": 8,
          "weight": 2,
          "x": 135.89858322031904,
          "y": 154.84060317577897
         },
         {
          "edge": 8,
          "pair": [
           0,
           10
          ],
          "source": 0,
          "target": 10,
          "weight": 2,
          "x": 176.44864214967177,
          "y": 105.11594509567368
         },
         {
          "edge": 8,
          "pair": [
           0,
           10
          ],
          "source": 0,
          "target": 10,
          "weight": 2,
          "x": 189.7804954319646,
          "y": 49.34016554617881
         },
         {
          "edge": 9,
          "pair": [
           0,
           11
          ],
          "source": 0,
          "target": 11,
          "weight": 3,
          "x": 176.44864214967177,
          "y": 105.11594509567368
         },
         {
          "edge": 9,
          "pair": [
           0,
           11
          ],
          "source": 0,
          "target": 11,
          "weight": 3,
          "x": 213.0593587776863,
          "y": 71.756043441582
         },
         {
          "edge": 10,
          "pair": [
           0,
           12
          ],
          "source": 0,
          "target": 12,
          "weight": 1,
          "x": 176.44864214967177,
          "y": 105.11594509567368
         },
         {
          "edge": 10,
          "pair": [
           0,
           12
          ],
          "source": 0,
          "target": 12,
          "weight": 1,
          "x": 227.48530984477952,
          "y": 123.7542772753259
         },
         {
          "edge": 11,
          "pair": [
           0,
           13
          ],
          "source": 0,
          "target": 13,
          "weight": 3,
          "x": 176.44864214967177,
          "y": 105.11594509567368
         },
         {
          "edge": 11,
          "pair": [
           0,
           13
          ],
          "source": 0,
          "target": 13,
          "weight": 3,
          "x": 162.33619955069685,
          "y": 144.9203876843213
         },
         {
          "edge": 12,
          "pair": [
           0,
           17
          ],
          "source": 0,
          "target": 17,
          "weight": 2,
          "x": 176.44864214967177,
          "y": 105.11594509567368
         },
         {
          "edge": 12,
          "pair": [
           0,
           17
          ],
          "source": 0,
          "target": 17,
          "weight": 2,
          "x": 221.76626136012,
          "y": 94.03627719816751
         },
         {
          "edge": 13,
          "pair": [
           0,
           19
          ],
          "source": 0,
          "target": 19,
          "weight": 2,
          "x": 176.44864214967177,
          "y": 105.11594509567368
         },
         {
          "edge": 13,
          "pair": [
           0,
           19
          ],
          "source": 0,
          "target": 19,
          "weight": 2,
          "x": 184.9118022804947,
          "y": 151.19900362915018
         },
         {
          "edge": 14,
          "pair": [
           0,
           21
          ],
          "source": 0,
          "target": 21,
          "weight": 2,
          "x": 176.44864214967177,
          "y": 105.11594509567368
         },
         {
          "edge": 14,
          "pair": [
           0,
           21
          ],
          "source": 0,
          "target": 21,
          "weight": 2,
          "x": 207.90038405301644,
          "y": 106.39151440283612
         },
         {
          "edge": 15,
          "pair": [
           0,
           31
          ],
          "source": 0,
          "target": 31,
          "weight": 2,
          "x": 176.44864214967177,
          "y": 105.11594509567368
         },
         {
          "edge": 15,
          "pair": [
           0,
           31
          ],
          "source": 0,
          "target": 31,
          "weight": 2,
          "x": 151.37349184793695,
          "y": 182.5089624385868
         },
         {
          "edge": 16,
          "pair": [
           1,
           2
          ],
          "source": 1,
          "target": 2,
          "weight": 6,
          "x": 172.7452029070595,
          "y": 128.33581664309517
         },
         {
          "edge": 16,
          "pair": [
           1,
           2
          ],
          "source": 1,
          "target": 2,
          "weight": 6,
          "x": 151.0244816418917,
          "y": 140.23929526695076
         },
         {
          "edge": 17,
          "pair": [
           1,
           3
          ],
          "source": 1,
          "target": 3,
          "weight": 3,
          "x": 172.7452029070595,
          "y": 128.33581664309517
         },
         {
          "edge": 17,
          "pair": [
           1,
           3
          ],
          "source": 1,
          "target": 3,
          "weight": 3,
          "x": 187.48529697624605,
          "y": 125.57104435875834
         },
         {
          "edge": 18,
          "pair": [
           1,
           7
          ],
          "source": 1,
          "target": 7,
          "weight": 4,
          "x": 172.7452029070595,
          "y": 128.33581664309517
         },
         {
          "edge": 18,
          "pair": [
           1,
           7
          ],
          "source": 1,
          "target": 7,
          "weight": 4,
          "x": 160.60062951903768,
          "y": 113.41053568061433
         },
         {
          "edge": 19,
          "pair": [
           1,
           13
          ],
          "source": 1,
          "target": 13,
          "weight": 5,
          "x": 172.7452029070595,
          "y": 128.33581664309517
         },
         {
          "edge": 19,
          "pair": [
           1,
           13
          ],
          "source": 1,
          "target": 13,
          "weight": 5,
          "x": 162.33619955069685,
          "y": 144.9203876843213
         },
         {
          "edge": 20,
          "pair": [
           1,
           17
          ],
          "source": 1,
          "target": 17,
          "weight": 1,
          "x": 172.7452029070595,
          "y": 128.33581664309517
         },
         {
          "edge": 20,
          "pair": [
           1,
           17
          ],
          "source": 1,
          "target": 17,
          "weight": 1,
          "x": 221.76626136012,
          "y": 94.03627719816751
         },
         {
          "edge": 21,
          "pair": [
           1,
           19
          ],
          "source": 1,
          "target": 19,
          "weight": 2,
          "x": 172.7452029070595,
          "y": 128.33581664309517
         },
         {
          "edge": 21,
          "pair": [
           1,
           19
          ],
          "source": 1,
          "target": 19,
          "weight": 2,
          "x": 184.9118022804947,
          "y": 151.19900362915018
         },
         {
          "edge": 22,
          "pair": [
           1,
           21
          ],
          "source": 1,
          "target": 21,
          "weight": 2,
          "x": 172.7452029070595,
          "y": 128.33581664309517
         },
         {
          "edge": 22,
          "pair": [
           1,
           21
          ],
          "source": 1,
          "target": 21,
          "weight": 2,
          "x": 207.90038405301644,
          "y": 106.39151440283612
         },
         {
          "edge": 23,
          "pair": [
           1,
           30
          ],
          "source": 1,
          "target": 30,
          "weight": 2,
          "x": 172.7452029070595,
          "y": 128.33581664309517
         },
         {
          "edge": 23,
          "pair": [
           1,
           30
          ],
          "source": 1,
          "target": 30,
          "weight": 2,
          "x": 136.1300433269701,
          "y": 168.59022623464205
         },
         {
          "edge": 24,
          "pair": [
           2,
           3
          ],
          "source": 2,
          "target": 3,
          "weight": 3,
          "x": 151.0244816418917,
          "y": 140.23929526695076
         },
         {
          "edge": 24,
          "pair": [
           2,
           3
          ],
          "source": 2,
          "target": 3,
          "weight": 3,
          "x": 187.48529697624605,
          "y": 125.57104435875834
         },
         {
          "edge": 25,
          "pair": [
           2,
           7
          ],
          "source": 2,
          "target": 7,
          "weight": 4,
          "x": 151.0244816418917,
          "y": 140.23929526695076
         },
         {
          "edge": 25,
          "pair": [
           2,
           7
          ],
          "source": 2,
          "target": 7,
          "weight": 4,
          "x": 160.60062951903768,
          "y": 113.41053568061433
         },
         {
          "edge": 26,
          "pair": [
           2,
           8
          ],
          "source": 2,
          "target": 8,
          "weight": 5,
          "x": 151.0244816418917,
          "y": 140.23929526695076
         },
         {
          "edge": 26,
          "pair": [
           2,
           8
          ],
          "source": 2,
          "target": 8,
          "weight": 5,
          "x": 135.89858322031904,
          "y": 154.84060317577897
         },
         {
          "edge": 27,
          "pair": [
           2,
           9
          ],
          "source": 2,
          "target": 9,
          "weight": 1,
          "x": 151.0244816418917,
          "y": 140.23929526695076
         },
         {
          "edge": 27,
          "pair": [
           2,
           9
          ],
          "source": 2,
          "target": 9,
          "weight": 1,
          "x": 91.41808702455859,
          "y": 148.81864484353554
         },
         {
          "edge": 28,
          "pair": [
           2,
           13
          ],
          "source": 2,
          "target": 13,
          "weight": 3,
          "x": 151.0244816418917,
          "y": 140.23929526695076
         },
         {
          "edge": 28,
          "pair": [
           2,
           13
          ],
          "source": 2,
          "target": 13,
          "weight": 3,
          "x": 162.33619955069685,
          "y": 144.9203876843213
         },
         {
          "edge": 29,
          "pair": [
           2,
           27
          ],
          "source": 2,
          "target": 27,
          "weight": 2,
          "x": 151.0244816418917,
          "y": 140.23929526695076
         },
         {
          "edge": 29,
          "pair": [
           2,
           27
          ],
          "source": 2,
          "target": 27,
          "weight": 2,
          "x": 153.63024954246484,
          "y": 197.975620475271
         },
         {
          "edge": 30,
          "pair": [
           2,
           28
          ],
          "source": 2,
          "target": 28,
          "weight": 2,
          "x": 151.0244816418917,
          "y": 140.23929526695076
         },
         {
          "edge": 30,
          "pair": [
           2,
           28
          ],
          "source": 2,
          "target": 28,
          "weight": 2,
          "x": 117.83714015328192,
          "y": 157.53979887295816
         },
         {
          "edge": 31,
          "pair": [
           2,
           32
          ],
          "source": 2,
          "target": 32,
          "weight": 2,
          "x": 151.0244816418917,
          "y": 140.23929526695076
         },
         {
          "edge": 31,
          "pair": [
           2,
           32
          ],
          "source": 2,
          "target": 32,
          "weight": 2,
          "x": 114.93330176650704,
          "y": 194.18495652153572
         },
         {
          "edge": 32,
          "pair": [
           3,
           7
          ],
          "source": 3,
          "target": 7,
          "weight": 3,
          "x": 187.48529697624605,
          "y": 125.57104435875834
         },
         {
          "edge": 32,
          "pair": [
           3,
           7
          ],
          "source": 3,
          "target": 7,
          "weight": 3,
          "x": 160.60062951903768,
          "y": 113.41053568061433
         },
         {
          "edge": 33,
          "pair": [
           3,
           12
          ],
          "source": 3,
          "target": 12,
          "weight": 3,
          "x": 187.48529697624605,
          "y": 125.57104435875834
         },
         {
          "edge": 33,
          "pair": [
           3,
           12
          ],
          "source": 3,
          "target": 12,
          "weight": 3,
          "x": 227.48530984477952,
          "y": 123.7542772753259
         },
         {
          "edge": 34,
          "pair": [
           3,
           13
          ],
          "source": 3,
          "target": 13,
          "weight": 3,
          "x": 187.48529697624605,
          "y": 125.57104435875834
         },
         {
          "edge": 34,
          "pair": [
           3,
           13
          ],
          "source": 3,
          "target": 13,
          "weight": 3,
          "x": 162.33619955069685,
          "y": 144.9203876843213
         },
         {
          "edge": 35,
          "pair": [
           4,
           6
          ],
          "source": 4,
          "target": 6,
          "weight": 2,
          "x": 187.19373350469166,
          "y": 65.54982639956644
         },
         {
          "edge": 35,
          "pair": [
           4,
           6
          ],
          "source": 4,
          "target": 6,
          "weight": 2,
          "x": 173.45095041173212,
          "y": 49.61362778388113
         },
         {
          "edge": 36,
          "pair": [
           4,
           10
          ],
          "source": 4,
          "target": 10,
          "weight": 3,
          "x": 187.19373350469166,
          "y": 65.54982639956644
         },
         {
          "edge": 36,
          "pair": [
           4,
           10
          ],
          "source": 4,
          "target": 10,
          "weight": 3,
          "x": 189.7804954319646,
          "y": 49.34016554617881
         },
         {
          "edge": 37,
          "pair": [
           5,
           6
          ],
          "source": 5,
          "target": 6,
          "weight": 5,
          "x": 163.66394257554003,
          "y": 50.68928407327983
         },
         {
          "edge": 37,
          "pair": [
           5,
           6
          ],
          "source": 5,
          "target": 6,
          "weight": 5,
          "x": 173.45095041173212,
          "y": 49.61362778388113
         },
         {
          "edge": 38,
          "pair": [
           5,
           10
          ],
          "source": 5,
          "target": 10,
          "weight": 3,
          "x": 163.66394257554003,
          "y": 50.68928407327983
         },
         {
          "edge": 38,
          "pair": [
           5,
           10
          ],
          "source": 5,
          "target": 10,
          "weight": 3,
          "x": 189.7804954319646,
          "y": 49.34016554617881
         },
         {
          "edge": 39,
          "pair": [
           5,
           16
          ],
          "source": 5,
          "target": 16,
          "weight": 3,
          "x": 163.66394257554003,
          "y": 50.68928407327983
         },
         {
          "edge": 39,
          "pair": [
           5,
           16
          ],
          "source": 5,
          "target": 16,
          "weight": 3,
          "x": 164.6264903969595,
          "y": 16
         },
         {
          "edge": 40,
          "pair": [
           6,
           16
          ],
          "source": 6,
          "target": 16,
          "weight": 3,
          "x": 173.45095041173212,
          "y": 49.61362778388113
         },
         {
          "edge": 40,
          "pair": [
           6,
           16
          ],
          "source": 6,
          "target": 16,
          "weight": 3,
          "x": 164.6264903969595,
          "y": 16
         },
         {
          "edge": 41,
          "pair": [
           8,
           30
          ],
          "source": 8,
          "target": 30,
          "weight": 3,
          "x": 135.89858322031904,
          "y": 154.84060317577897
         },
         {
          "edge": 41,
          "pair": [
           8,
           30
          ],
          "source": 8,
          "target": 30,
          "weight": 3,
          "x": 136.1300433269701,
          "y": 168.59022623464205
         },
         {
          "edge": 42,
          "pair": [
           8,
           32
          ],
          "source": 8,
          "target": 32,
          "weight": 3,
          "x": 135.89858322031904,
          "y": 154.84060317577897
         },
         {
          "edge": 42,
          "pair": [
           8,
           32
          ],
          "source": 8,
          "target": 32,
          "weight": 3,
          "x": 114.93330176650704,
          "y": 194.18495652153572
         },
         {
          "edge": 43,
          "pair": [
           8,
           33
          ],
          "source": 8,
          "target": 33,
          "weight": 4,
          "x": 135.89858322031904,
          "y": 154.84060317577897
         },
         {
          "edge": 43,
          "pair": [
           8,
           33
          ],
          "source": 8,
          "target": 33,
          "weight": 4,
          "x": 122.28072151358596,
          "y": 189.36473601338446
         },
         {
          "edge": 44,
          "pair": [
           9,
           33
          ],
          "source": 9,
          "target": 33,
          "weight": 2,
          "x": 91.41808702455859,
          "y": 148.81864484353554
         },
         {
          "edge": 44,
          "pair": [
           9,
           33
          ],
          "source": 9,
          "target": 33,
          "weight": 2,
          "x": 122.28072151358596,
          "y": 189.36473601338446
         },
         {
          "edge": 45,
          "pair": [
           13,
           33
          ],
          "source": 13,
          "target": 33,
          "weight": 3,
          "x": 162.33619955069685,
          "y": 144.9203876843213
         },
         {
          "edge": 45,
          "pair": [
           13,
           33
          ],
          "source": 13,
          "target": 33,
          "weight": 3,
          "x": 122.28072151358596,
          "y": 189.36473601338446
         },
         {
          "edge": 46,
          "pair": [
           14,
           32
          ],
          "source": 14,
          "target": 32,
          "weight": 3,
          "x": 91.44231654404071,
          "y": 218.79592474543702
         },
         {
          "edge": 46,
          "pair": [
           14,
           32
          ],
          "source": 14,
          "target": 32,
          "weight": 3,
          "x": 114.93330176650704,
          "y": 194.18495652153572
         },
         {
          "edge": 47,
          "pair": [
           14,
           33
          ],
          "source": 14,
          "target": 33,
          "weight": 2,
          "x": 91.44231654404071,
          "y": 218.79592474543702
         },
         {
          "edge": 47,
          "pair": [
           14,
           33
          ],
          "source": 14,
          "target": 33,
          "weight": 2,
          "x": 122.28072151358596,
          "y": 189.36473601338446
         },
         {
          "edge": 48,
          "pair": [
           15,
           32
          ],
          "source": 15,
          "target": 32,
          "weight": 3,
          "x": 92.0861032705758,
          "y": 199.6670117187159
         },
         {
          "edge": 48,
          "pair": [
           15,
           32
          ],
          "source": 15,
          "target": 32,
          "weight": 3,
          "x": 114.93330176650704,
          "y": 194.18495652153572
         },
         {
          "edge": 49,
          "pair": [
           15,
           33
          ],
          "source": 15,
          "target": 33,
          "weight": 4,
          "x": 92.0861032705758,
          "y": 199.6670117187159
         },
         {
          "edge": 49,
          "pair": [
           15,
           33
          ],
          "source": 15,
          "target": 33,
          "weight": 4,
          "x": 122.28072151358596,
          "y": 189.36473601338446
         },
         {
          "edge": 50,
          "pair": [
           18,
           32
          ],
          "source": 18,
          "target": 32,
          "weight": 1,
          "x": 87.83549028865812,
          "y": 236.34667777969338
         },
         {
          "edge": 50,
          "pair": [
           18,
           32
          ],
          "source": 18,
          "target": 32,
          "weight": 1,
          "x": 114.93330176650704,
          "y": 194.18495652153572
         },
         {
          "edge": 51,
          "pair": [
           18,
           33
          ],
          "source": 18,
          "target": 33,
          "weight": 2,
          "x": 87.83549028865812,
          "y": 236.34667777969338
         },
         {
          "edge": 51,
          "pair": [
           18,
           33
          ],
          "source": 18,
          "target": 33,
          "weight": 2,
          "x": 122.28072151358596,
          "y": 189.36473601338446
         },
         {
          "edge": 52,
          "pair": [
           19,
           33
          ],
          "source": 19,
          "target": 33,
          "weight": 1,
          "x": 184.9118022804947,
          "y": 151.19900362915018
         },
         {
          "edge": 52,
          "pair": [
           19,
           33
          ],
          "source": 19,
          "target": 33,
          "weight": 1,
          "x": 122.28072151358596,
          "y": 189.36473601338446
         },
         {
          "edge": 53,
          "pair": [
           20,
           32
          ],
          "source": 20,
          "target": 32,
          "weight": 3,
          "x": 71.04588897871827,
          "y": 207.12695282278042
         },
         {
          "edge": 53,
          "pair": [
           20,
           32
          ],
          "source": 20,
          "target": 32,
          "weight": 3,
          "x": 114.93330176650704,
          "y": 194.18495652153572
         },
         {
          "edge": 54,
          "pair": [
           20,
           33
          ],
          "source": 20,
          "target": 33,
          "weight": 1,
          "x": 71.04588897871827,
          "y": 207.12695282278042
         },
         {
          "edge": 54,
          "pair": [
           20,
           33
          ],
          "source": 20,
          "target": 33,
          "weight": 1,
          "x": 122.28072151358596,
          "y": 189.36473601338446
         },
         {
          "edge": 55,
          "pair": [
           22,
           32
          ],
          "source": 22,
          "target": 32,
          "weight": 2,
          "x": 80.44270931598415,
          "y": 184.11320815537692
         },
         {
          "edge": 55,
          "pair": [
           22,
           32
          ],
          "source": 22,
          "target": 32,
          "weight": 2,
          "x": 114.93330176650704,
          "y": 194.18495652153572
         },
         {
          "edge": 56,
          "pair": [
           22,
           33
          ],
          "source": 22,
          "target": 33,
          "weight": 3,
          "x": 80.44270931598415,
          "y": 184.11320815537692
         },
         {
          "edge": 56,
          "pair": [
           22,
           33
          ],
          "source": 22,
          "target": 33,
          "weight": 3,
          "x": 122.28072151358596,
          "y": 189.36473601338446
         },
         {
          "edge": 57,
          "pair": [
           23,
           25
          ],
          "source": 23,
          "target": 25,
          "weight": 5,
          "x": 135.33913279156258,
          "y": 214.08876480809946
         },
         {
          "edge": 57,
          "pair": [
           23,
           25
          ],
          "source": 23,
          "target": 25,
          "weight": 5,
          "x": 159.91534822501748,
          "y": 213.5581742487217
         },
         {
          "edge": 58,
          "pair": [
           23,
           27
          ],
          "source": 23,
          "target": 27,
          "weight": 4,
          "x": 135.33913279156258,
          "y": 214.08876480809946
         },
         {
          "edge": 58,
          "pair": [
           23,
           27
          ],
          "source": 23,
          "target": 27,
          "weight": 4,
          "x": 153.63024954246484,
          "y": 197.975620475271
         },
         {
          "edge": 59,
          "pair": [
           23,
           29
          ],
          "source": 23,
          "target": 29,
          "weight": 3,
          "x": 135.33913279156258,
          "y": 214.08876480809946
         },
         {
          "edge": 59,
          "pair": [
           23,
           29
          ],
          "source": 23,
          "target": 29,
          "weight": 3,
          "x": 117.67165375193207,
          "y": 227.9928912811701
         },
         {
          "edge": 60,
          "pair": [
           23,
           32
          ],
          "source": 23,
          "target": 32,
          "weight": 5,
          "x": 135.33913279156258,
          "y": 214.08876480809946
         },
         {
          "edge": 60,
          "pair": [
           23,
           32
          ],
          "source": 23,
          "target": 32,
          "weight": 5,
          "x": 114.93330176650704,
          "y": 194.18495652153572
         },
         {
          "edge": 61,
          "pair": [
           23,
           33
          ],
          "source": 23,
          "target": 33,
          "weight": 4,
          "x": 135.33913279156258,
          "y": 214.08876480809946
         },
         {
          "edge": 61,
          "pair": [
           23,
           33
          ],
          "source": 23,
          "target": 33,
          "weight": 4,
          "x": 122.28072151358596,
          "y": 189.36473601338446
         },
         {
          "edge": 62,
          "pair": [
           24,
           25
          ],
          "source": 24,
          "target": 25,
          "weight": 2,
          "x": 179.54992463061146,
          "y": 219.72780054208513
         },
         {
          "edge": 62,
          "pair": [
           24,
           25
          ],
          "source": 24,
          "target": 25,
          "weight": 2,
          "x": 159.91534822501748,
          "y": 213.5581742487217
         },
         {
          "edge": 63,
          "pair": [
           24,
           27
          ],
          "source": 24,
          "target": 27,
          "weight": 3,
          "x": 179.54992463061146,
          "y": 219.72780054208513
         },
         {
          "edge": 63,
          "pair": [
           24,
           27
          ],
          "source": 24,
          "target": 27,
          "weight": 3,
          "x": 153.63024954246484,
          "y": 197.975620475271
         },
         {
          "edge": 64,
          "pair": [
           24,
           31
          ],
          "source": 24,
          "target": 31,
          "weight": 2,
          "x": 179.54992463061146,
          "y": 219.72780054208513
         },
         {
          "edge": 64,
          "pair": [
           24,
           31
          ],
          "source": 24,
          "target": 31,
          "weight": 2,
          "x": 151.37349184793695,
          "y": 182.5089624385868
         },
         {
          "edge": 65,
          "pair": [
           25,
           31
          ],
          "source": 25,
          "target": 31,
          "weight": 7,
          "x": 159.91534822501748,
          "y": 213.5581742487217
         },
         {
          "edge": 65,
          "pair": [
           25,
           31
          ],
          "source": 25,
          "target": 31,
          "weight": 7,
          "x": 151.37349184793695,
          "y": 182.5089624385868
         },
         {
          "edge": 66,
          "pair": [
           26,
           29
          ],
          "source": 26,
          "target": 29,
          "weight": 4,
          "x": 116.69063242568639,
          "y": 248.83600084284572
         },
         {
          "edge": 66,
          "pair": [
           26,
           29
          ],
          "source": 26,
          "target": 29,
          "weight": 4,
          "x": 117.67165375193207,
          "y": 227.9928912811701
         },
         {
          "edge": 67,
          "pair": [
           26,
           33
          ],
          "source": 26,
          "target": 33,
          "weight": 2,
          "x": 116.69063242568639,
          "y": 248.83600084284572
         },
         {
          "edge": 67,
          "pair": [
           26,
           33
          ],
          "source": 26,
          "target": 33,
          "weight": 2,
          "x": 122.28072151358596,
          "y": 189.36473601338446
         },
         {
          "edge": 68,
          "pair": [
           27,
           33
          ],
          "source": 27,
          "target": 33,
          "weight": 4,
          "x": 153.63024954246484,
          "y": 197.975620475271
         },
         {
          "edge": 68,
          "pair": [
           27,
           33
          ],
          "source": 27,
          "target": 33,
          "weight": 4,
          "x": 122.28072151358596,
          "y": 189.36473601338446
         },
         {
          "edge": 69,
          "pair": [
           28,
           31
          ],
          "source": 28,
          "target": 31,
          "weight": 2,
          "x": 117.83714015328192,
          "y": 157.53979887295816
         },
         {
          "edge": 69,
          "pair": [
           28,
           31
          ],
          "source": 28,
          "target": 31,
          "weight": 2,
          "x": 151.37349184793695,
          "y": 182.5089624385868
         },
         {
          "edge": 70,
          "pair": [
           28,
           33
          ],
          "source": 28,
          "target": 33,
          "weight": 2,
          "x": 117.83714015328192,
          "y": 157.53979887295816
         },
         {
          "edge": 70,
          "pair": [
           28,
           33
          ],
          "source": 28,
          "target": 33,
          "weight": 2,
          "x": 122.28072151358596,
          "y": 189.36473601338446
         },
         {
          "edge": 71,
          "pair": [
           29,
           32
          ],
          "source": 29,
          "target": 32,
          "weight": 4,
          "x": 117.67165375193207,
          "y": 227.9928912811701
         },
         {
          "edge": 71,
          "pair": [
           29,
           32
          ],
          "source": 29,
          "target": 32,
          "weight": 4,
          "x": 114.93330176650704,
          "y": 194.18495652153572
         },
         {
          "edge": 72,
          "pair": [
           29,
           33
          ],
          "source": 29,
          "target": 33,
          "weight": 2,
          "x": 117.67165375193207,
          "y": 227.9928912811701
         },
         {
          "edge": 72,
          "pair": [
           29,
           33
          ],
          "source": 29,
          "target": 33,
          "weight": 2,
          "x": 122.28072151358596,
          "y": 189.36473601338446
         },
         {
          "edge": 73,
          "pair": [
           30,
           32
          ],
          "source": 30,
          "target": 32,
          "weight": 3,
          "x": 136.1300433269701,
          "y": 168.59022623464205
         },
         {
          "edge": 73,
          "pair": [
           30,
           32
          ],
          "source": 30,
          "target": 32,
          "weight": 3,
          "x": 114.93330176650704,
          "y": 194.18495652153572
         },
         {
          "edge": 74,
          "pair": [
           30,
           33
          ],
          "source": 30,
          "target": 33,
          "weight": 3,
          "x": 136.1300433269701,
          "y": 168.59022623464205
         },
         {
          "edge": 74,
          "pair": [
           30,
           33
          ],
          "source": 30,
          "target": 33,
          "weight": 3,
          "x": 122.28072151358596,
          "y": 189.36473601338446
         },
         {
          "edge": 75,
          "pair": [
           31,
           32
          ],
          "source": 31,
          "target": 32,
          "weight": 4,
          "x": 151.37349184793695,
          "y": 182.5089624385868
         },
         {
          "edge": 75,
          "pair": [
           31,
           32
          ],
          "source": 31,
          "target": 32,
          "weight": 4,
          "x": 114.93330176650704,
          "y": 194.18495652153572
         },
         {
          "edge": 76,
          "pair": [
           31,
           33
          ],
          "source": 31,
          "target": 33,
          "weight": 4,
          "x": 151.37349184793695,
          "y": 182.5089624385868
         },
         {
          "edge": 76,
          "pair": [
           31,
           33
          ],
          "source": 31,
          "target": 33,
          "weight": 4,
          "x": 122.28072151358596,
          "y": 189.36473601338446
         },
         {
          "edge": 77,
          "pair": [
           32,
           33
          ],
          "source": 32,
          "target": 33,
          "weight": 5,
          "x": 114.93330176650704,
          "y": 194.18495652153572
         },
         {
          "edge": 77,
          "pair": [
           32,
           33
          ],
          "source": 32,
          "target": 33,
          "weight": 5,
          "x": 122.28072151358596,
          "y": 189.36473601338446
         }
        ],
        "data-cbb996903de13b095cdc6e70d1844d51": [
         {
          "edge": 0,
          "pair": [
           0,
           1
          ],
          "source": 0,
          "target": 1,
          "weight": 4,
          "x": 174.01723405469713,
          "y": 157.93567302140193
         },
         {
          "edge": 0,
          "pair": [
           0,
           1
          ],
          "source": 0,
          "target": 1,
          "weight": 4,
          "x": 207.34919714134898,
          "y": 162.06227394894603
         },
         {
          "edge": 1,
          "pair": [
           0,
           2
          ],
          "source": 0,
          "target": 2,
          "weight": 5,
          "x": 174.01723405469713,
          "y": 157.93567302140193
         },
         {
          "edge": 1,
          "pair": [
           0,
           2
          ],
          "source": 0,
          "target": 2,
          "weight": 5,
          "x": 134.43673645868728,
          "y": 147.07019520210255
         },
         {
          "edge": 2,
          "pair": [
           0,
           3
          ],
          "source": 0,
          "target": 3,
          "weight": 3,
          "x": 174.01723405469713,
          "y": 157.93567302140193
         },
         {
          "edge": 2,
          "pair": [
           0,
           3
          ],
          "source": 0,
          "target": 3,
          "weight": 3,
          "x": 164.7780061105397,
          "y": 192.87148125308792
         },
         {
          "edge": 3,
          "pair": [
           0,
           4
          ],
          "source": 0,
          "target": 4,
          "weight": 3,
          "x": 174.01723405469713,
          "y": 157.93567302140193
         },
         {
          "edge": 3,
          "pair": [
           0,
           4
          ],
          "source": 0,
          "target": 4,
          "weight": 3,
          "x": 179.18074520441596,
          "y": 122.01739473332461
         },
         {
          "edge": 4,
          "pair": [
           0,
           5
          ],
          "source": 0,
          "target": 5,
          "weight": 3,
          "x": 174.01723405469713,
          "y": 157.93567302140193
         },
         {
          "edge": 4,
          "pair": [
           0,
           5
          ],
          "source": 0,
          "target": 5,
          "weight": 3,
          "x": 220.44472389264394,
          "y": 86.2623664734071
         },
         {
          "edge": 5,
          "pair": [
           0,
           6
          ],
          "source": 0,
          "target": 6,
          "weight": 3,
          "x": 174.01723405469713,
          "y": 157.93567302140193
         },
         {
          "edge": 5,
          "pair": [
           0,
           6
          ],
          "source": 0,
          "target": 6,
          "weight": 3,
          "x": 223.29445408844475,
          "y": 94.65697223429483
         },
         {
          "edge": 6,
          "pair": [
           0,
           7
          ],
          "source": 0,
          "target": 7,
          "weight": 2,
          "x": 174.01723405469713,
          "y": 157.93567302140193
         },
         {
          "edge": 6,
          "pair": [
           0,
           7
          ],
          "source": 0,
          "target": 7,
          "weight": 2,
          "x": 176.62655831162797,
          "y": 191.89818397629438
         },
         {
          "edge": 7,
          "pair": [
           0,
           8
          ],
          "source": 0,
          "target": 8,
          "weight": 2,
          "x": 174.01723405469713,
          "y": 157.93567302140193
         },
         {
          "edge": 7,
          "pair": [
           0,
           8
          ],
          "source": 0,
          "target": 8,
          "weight": 2,
          "x": 167.4031877362457,
          "y": 88.08275327377332
         },
         {
          "edge": 8,
          "pair": [
           0,
           10
          ],
          "source": 0,
          "target": 10,
          "weight": 2,
          "x": 174.01723405469713,
          "y": 157.93567302140193
         },
         {
          "edge": 8,
          "pair": [
           0,
           10
          ],
          "source": 0,
          "target": 10,
          "weight": 2,
          "x": 177.7691190089055,
          "y": 119.12744489951231
         },
         {
          "edge": 9,
          "pair": [
           0,
           11
          ],
          "source": 0,
          "target": 11,
          "weight": 3,
          "x": 174.01723405469713,
          "y": 157.93567302140193
         },
         {
          "edge": 9,
          "pair": [
           0,
           11
          ],
          "source": 0,
          "target": 11,
          "weight": 3,
          "x": 133.01333272334523,
          "y": 190.26401589527373
         },
         {
          "edge": 10,
          "pair": [
           0,
           12
          ],
          "source": 0,
          "target": 12,
          "weight": 1,
          "x": 174.01723405469713,
          "y": 157.93567302140193
         },
         {
          "edge": 10,
          "pair": [
           0,
           12
          ],
          "source": 0,
          "target": 12,
          "weight": 1,
          "x": 153.0231821099417,
          "y": 197.9089236192527
         },
         {
          "edge": 11,
          "pair": [
           0,
           13
          ],
          "source": 0,
          "target": 13,
          "weight": 3,
          "x": 174.01723405469713,
          "y": 157.93567302140193
         },
         {
          "edge": 11,
          "pair": [
           0,
           13
          ],
          "source": 0,
          "target": 13,
          "weight": 3,
          "x": 186.73359993356772,
          "y": 145.03766725437615
         },
         {
          "edge": 12,
          "pair": [
           0,
           17
          ],
          "source": 0,
          "target": 17,
          "weight": 2,
          "x": 174.01723405469713,
          "y": 157.93567302140193
         },
         {
          "edge": 12,
          "pair": [
           0,
           17
          ],
          "source": 0,
          "target": 17,
          "weight": 2,
          "x": 197.41637448577998,
          "y": 174.69889900644375
         },
         {
          "edge": 13,
          "pair": [
           0,
           19
          ],
          "source": 0,
          "target": 19,
          "weight": 2,
          "x": 174.01723405469713,
          "y": 157.93567302140193
         },
         {
          "edge": 13,
          "pair": [
           0,
           19
          ],
          "source": 0,
          "target": 19,
          "weight": 2,
          "x": 183.55830304659642,
          "y": 127.45762485306913
         },
         {
          "edge": 14,
          "pair": [
           0,
           21
          ],
          "source": 0,
          "target": 21,
          "weight": 2,
          "x": 174.01723405469713,
          "y": 157.93567302140193
         },
         {
          "edge": 14,
          "pair": [
           0,
           21
          ],
          "source": 0,
          "target": 21,
          "weight": 2,
          "x": 202.67448893375422,
          "y": 177.7203513896208
         },
         {
          "edge": 15,
          "pair": [
           0,
           31
          ],
          "source": 0,
          "target": 31,
          "weight": 2,
          "x": 174.01723405469713,
          "y": 157.93567302140193
         },
         {
          "edge": 15,
          "pair": [
           0,
           31
          ],
          "source": 0,
          "target": 31,
          "weight": 2,
          "x": 82.62717515110698,
          "y": 121.95233188725487
         },
         {
          "edge": 16,
          "pair": [
           1,
           2
          ],
          "source": 1,
          "target": 2,
          "weight": 6,
          "x": 207.34919714134898,
          "y": 162.06227394894603
         },
         {
          "edge": 16,
          "pair": [
           1,
           2
          ],
          "source": 1,
          "target": 2,
          "weight": 6,
          "x": 134.43673645868728,
          "y": 147.07019520210255
         },
         {
          "edge": 17,
          "pair": [
           1,
           3
          ],
          "source": 1,
          "target": 3,
          "weight": 3,
          "x": 207.34919714134898,
          "y": 162.06227394894603
         },
         {
          "edge": 17,
          "pair": [
           1,
           3
          ],
          "source": 1,
          "target": 3,
          "weight": 3,
          "x": 164.7780061105397,
          "y": 192.87148125308792
         },
         {
          "edge": 18,
          "pair": [
           1,
           7
          ],
          "source": 1,
          "target": 7,
          "weight": 4,
          "x": 207.34919714134898,
          "y": 162.06227394894603
         },
         {
          "edge": 18,
          "pair": [
           1,
           7
          ],
          "source": 1,
          "target": 7,
          "weight": 4,
          "x": 176.62655831162797,
          "y": 191.89818397629438
         },
         {
          "edge": 19,
          "pair": [
           1,
           13
          ],
          "source": 1,
          "target": 13,
          "weight": 5,
          "x": 207.34919714134898,
          "y": 162.06227394894603
         },
         {
          "edge": 19,
          "pair": [
           1,
           13
          ],
          "source": 1,
          "target": 13,
          "weight": 5,
          "x": 186.73359993356772,
          "y": 145.03766725437615
         },
         {
          "edge": 20,
          "pair": [
           1,
           17
          ],
          "source": 1,
          "target": 17,
          "weight": 1,
          "x": 207.34919714134898,
          "y": 162.06227394894603
         },
         {
          "edge": 20,
          "pair": [
           1,
           17
          ],
          "source": 1,
          "target": 17,
          "weight": 1,
          "x": 197.41637448577998,
          "y": 174.69889900644375
         },
         {
          "edge": 21,
          "pair": [
           1,
           19
          ],
          "source": 1,
          "target": 19,
          "weight": 2,
          "x": 207.34919714134898,
          "y": 162.06227394894603
         },
         {
          "edge": 21,
          "pair": [
           1,
           19
          ],
          "source": 1,
          "target": 19,
          "weight": 2,
          "x": 183.55830304659642,
          "y": 127.45762485306913
         },
         {
          "edge": 22,
          "pair": [
           1,
           21
          ],
          "source": 1,
          "target": 21,
          "weight": 2,
          "x": 207.34919714134898,
          "y": 162.06227394894603
         },
         {
          "edge": 22,
          "pair": [
           1,
           21
          ],
          "source": 1,
          "target": 21,
          "weight": 2,
          "x": 202.67448893375422,
          "y": 177.7203513896208
         },
         {
          "edge": 23,
          "pair": [
           1,
           30
          ],
          "source": 1,
          "target": 30,
          "weight": 2,
          "x": 207.34919714134898,
          "y": 162.06227394894603
         },
         {
          "edge": 23,
          "pair": [
           1,
           30
          ],
          "source": 1,
          "target": 30,
          "weight": 2,
          "x": 180.917560336488,
          "y": 77.1264905795907
         },
         {
          "edge": 24,
          "pair": [
           2,
           3
          ],
          "source": 2,
          "target": 3,
          "weight": 3,
          "x": 134.43673645868728,
          "y": 147.07019520210255
         },
         {
          "edge": 24,
          "pair": [
           2,
           3
          ],
          "source": 2,
          "target": 3,
          "weight": 3,
          "x": 164.7780061105397,
          "y": 192.87148125308792
         },
         {
          "edge": 25,
          "pair": [
           2,
           7
          ],
          "source": 2,
          "target": 7,
          "weight": 4,
          "x": 134.43673645868728,
          "y": 147.07019520210255
         },
         {
          "edge": 25,
          "pair": [
           2,
           7
          ],
          "source": 2,
          "target": 7,
          "weight": 4,
          "x": 176.62655831162797,
          "y": 191.89818397629438
         },
         {
          "edge": 26,
          "pair": [
           2,
           8
          ],
          "source": 2,
          "target": 8,
          "weight": 5,
          "x": 134.43673645868728,
          "y": 147.07019520210255
         },
         {
          "edge": 26,
          "pair": [
           2,
           8
          ],
          "source": 2,
          "target": 8,
          "weight": 5,
          "x": 167.4031877362457,
          "y": 88.08275327377332
         },
         {
          "edge": 27,
          "pair": [
           2,
           9
          ],
          "source": 2,
          "target": 9,
          "weight": 1,
          "x": 134.43673645868728,
          "y": 147.07019520210255
         },
         {
          "edge": 27,
          "pair": [
           2,
           9
          ],
          "source": 2,
          "target": 9,
          "weight": 1,
          "x": 141.948517990803,
          "y": 107.13276175616534
         },
         {
          "edge": 28,
          "pair": [
           2,
           13
          ],
          "source": 2,
          "target": 13,
          "weight": 3,
          "x": 134.43673645868728,
          "y": 147.07019520210255
         },
         {
          "edge": 28,
          "pair": [
           2,
           13
          ],
          "source": 2,
          "target": 13,
          "weight": 3,
          "x": 186.73359993356772,
          "y": 145.03766725437615
         },
         {
          "edge": 29,
          "pair": [
           2,
           27
          ],
          "source": 2,
          "target": 27,
          "weight": 2,
          "x": 134.43673645868728,
          "y": 147.07019520210255
         },
         {
          "edge": 29,
          "pair": [
           2,
           27
          ],
          "source": 2,
          "target": 27,
          "weight": 2,
          "x": 76.40223301731972,
          "y": 104.47467081890252
         },
         {
          "edge": 30,
          "pair": [
           2,
           28
          ],
          "source": 2,
          "target": 28,
          "weight": 2,
          "x": 134.43673645868728,
          "y": 147.07019520210255
         },
         {
          "edge": 30,
          "pair": [
           2,
           28
          ],
          "source": 2,
          "target": 28,
          "weight": 2,
          "x": 105.3957041893718,
          "y": 120.97346770836296
         },
         {
          "edge": 31,
          "pair": [
           2,
           32
          ],
          "source": 2,
          "target": 32,
          "weight": 2,
          "x": 134.43673645868728,
          "y": 147.07019520210255
         },
         {
          "edge": 31,
          "pair": [
           2,
           32
          ],
          "source": 2,
          "target": 32,
          "weight": 2,
          "x": 115.80579177746667,
          "y": 46.8038479630529
         },
         {
          "edge": 32,
          "pair": [
           3,
           7
          ],
          "source": 3,
          "target": 7,
          "weight": 3,
          "x": 164.7780061105397,
          "y": 192.87148125308792
         },
         {
          "edge": 32,
          "pair": [
           3,
           7
          ],
          "source": 3,
          "target": 7,
          "weight": 3,
          "x": 176.62655831162797,
          "y": 191.89818397629438
         },
         {
          "edge": 33,
          "pair": [
           3,
           12
          ],
          "source": 3,
          "target": 12,
          "weight": 3,
          "x": 164.7780061105397,
          "y": 192.87148125308792
         },
         {
          "edge": 33,
          "pair": [
           3,
           12
          ],
          "source": 3,
          "target": 12,
          "weight": 3,
          "x": 153.0231821099417,
          "y": 197.9089236192527
         },
         {
          "edge": 34,
          "pair": [
           3,
           13
          ],
          "source": 3,
          "target": 13,
          "weight": 3,
          "x": 164.7780061105397,
          "y": 192.87148125308792
         },
         {
          "edge": 34,
          "pair": [
           3,
           13
          ],
          "source": 3,
          "target": 13,
          "weight": 3,
          "x": 186.73359993356772,
          "y": 145.03766725437615
         },
         {
          "edge": 35,
          "pair": [
           4,
           6
          ],
          "source": 4,
          "target": 6,
          "weight": 2,
          "x": 179.18074520441596,
          "y": 122.01739473332461
         },
         {
          "edge": 35,
          "pair": [
           4,
           6
          ],
          "source": 4,
          "target": 6,
          "weight": 2,
          "x": 223.29445408844475,
          "y": 94.65697223429483
         },
         {
          "edge": 36,
          "pair": [
           4,
           10
          ],
          "source": 4,
          "target": 10,
          "weight": 3,
          "x": 179.18074520441596,
          "y": 122.01739473332461
         },
         {
          "edge": 36,
          "pair": [
           4,
           10
          ],
          "source": 4,
          "target": 10,
          "weight": 3,
          "x": 177.7691190089055,
          "y": 119.12744489951231
         },
         {
          "edge": 37,
          "pair": [
           5,
           6
          ],
          "source": 5,
          "target": 6,
          "weight": 5,
          "x": 220.44472389264394,
          "y": 86.2623664734071
         },
         {
          "edge": 37,
          "pair": [
           5,
           6
          ],
          "source": 5,
          "target": 6,
          "weight": 5,
          "x": 223.29445408844475,
          "y": 94.65697223429483
         },
         {
          "edge": 38,
          "pair": [
           5,
           10
          ],
          "source": 5,
          "target": 10,
          "weight": 3,
          "x": 220.44472389264394,
          "y": 86.2623664734071
         },
         {
          "edge": 38,
          "pair": [
           5,
           10
          ],
          "source": 5,
          "target": 10,
          "weight": 3,
          "x": 177.7691190089055,
          "y": 119.12744489951231
         },
         {
          "edge": 39,
          "pair": [
           5,
           16
          ],
          "source": 5,
          "target": 16,
          "weight": 3,
          "x": 220.44472389264394,
          "y": 86.2623664734071
         },
         {
          "edge": 39,
          "pair": [
           5,
           16
          ],
          "source": 5,
          "target": 16,
          "weight": 3,
          "x": 228.54983674992806,
          "y": 62.93193777826997
         },
         {
          "edge": 40,
          "pair": [
           6,
           16
          ],
          "source": 6,
          "target": 16,
          "weight": 3,
          "x": 223.29445408844475,
          "y": 94.65697223429483
         },
         {
          "edge": 40,
          "pair": [
           6,
           16
          ],
          "source": 6,
          "target": 16,
          "weight": 3,
          "x": 228.54983674992806,
          "y": 62.93193777826997
         },
         {
          "edge": 41,
          "pair": [
           8,
           30
          ],
          "source": 8,
          "target": 30,
          "weight": 3,
          "x": 167.4031877362457,
          "y": 88.08275327377332
         },
         {
          "edge": 41,
          "pair": [
           8,
           30
          ],
          "source": 8,
          "target": 30,
          "weight": 3,
          "x": 180.917560336488,
          "y": 77.1264905795907
         },
         {
          "edge": 42,
          "pair": [
           8,
           32
          ],
          "source": 8,
          "target": 32,
          "weight": 3,
          "x": 167.4031877362457,
          "y": 88.08275327377332
         },
         {
          "edge": 42,
          "pair": [
           8,
           32
          ],
          "source": 8,
          "target": 32,
          "weight": 3,
          "x": 115.80579177746667,
          "y": 46.8038479630529
         },
         {
          "edge": 43,
          "pair": [
           8,
           33
          ],
          "source": 8,
          "target": 33,
          "weight": 4,
          "x": 167.4031877362457,
          "y": 88.08275327377332
         },
         {
          "edge": 43,
          "pair": [
           8,
           33
          ],
          "source": 8,
          "target": 33,
          "weight": 4,
          "x": 134.83452007652568,
          "y": 65.97481198114315
         },
         {
          "edge": 44,
          "pair": [
           9,
           33
          ],
          "source": 9,
          "target": 33,
          "weight": 2,
          "x": 141.948517990803,
          "y": 107.13276175616534
         },
         {
          "edge": 44,
          "pair": [
           9,
           33
          ],
          "source": 9,
          "target": 33,
          "weight": 2,
          "x": 134.83452007652568,
          "y": 65.97481198114315
         },
         {
          "edge": 45,
          "pair": [
           13,
           33
          ],
          "source": 13,
          "target": 33,
          "weight": 3,
          "x": 186.73359993356772,
          "y": 145.03766725437615
         },
         {
          "edge": 45,
          "pair": [
           13,
           33
          ],
          "source": 13,
          "target": 33,
          "weight": 3,
          "x": 134.83452007652568,
          "y": 65.97481198114315
         },
         {
          "edge": 46,
          "pair": [
           14,
           32
          ],
          "source": 14,
          "target": 32,
          "weight": 3,
          "x": 129.96983371617543,
          "y": 37.914472388561094
         },
         {
          "edge": 46,
          "pair": [
           14,
           32
          ],
          "source": 14,
          "target": 32,
          "weight": 3,
          "x": 115.80579177746667,
          "y": 46.8038479630529
         },
         {
          "edge": 47,
          "pair": [
           14,
           33
          ],
          "source": 14,
          "target": 33,
          "weight": 2,
          "x": 129.96983371617543,
          "y": 37.914472388561094
         },
         {
          "edge": 47,
          "pair": [
           14,
           33
          ],
          "source": 14,
          "target": 33,
          "weight": 2,
          "x": 134.83452007652568,
          "y": 65.97481198114315
         },
         {
          "edge": 48,
          "pair": [
           15,
           32
          ],
          "source": 15,
          "target": 32,
          "weight": 3,
          "x": 133.19583066401864,
          "y": 22.50430600852861
         },
         {
          "edge": 48,
          "pair": [
           15,
           32
          ],
          "source": 15,
          "target": 32,
          "weight": 3,
          "x": 115.80579177746667,
          "y": 46.8038479630529
         },
         {
          "edge": 49,
          "pair": [
           15,
           33
          ],
          "source": 15,
          "target": 33,
          "weight": 4,
          "x": 133.19583066401864,
          "y": 22.50430600852861
         },
         {
          "edge": 49,
          "pair": [
           15,
           33
          ],
          "source": 15,
          "target": 33,
          "weight": 4,
          "x": 134.83452007652568,
          "y": 65.97481198114315
         },
         {
          "edge": 50,
          "pair": [
           18,
           32
          ],
          "source": 18,
          "target": 32,
          "weight": 1,
          "x": 120.84457918643675,
          "y": 54.42597562126649
         },
         {
          "edge": 50,
          "pair": [
           18,
           32
          ],
          "source": 18,
          "target": 32,
          "weight": 1,
          "x": 115.80579177746667,
          "y": 46.8038479630529
         },
         {
          "edge": 51,
          "pair": [
           18,
           33
          ],
          "source": 18,
          "target": 33,
          "weight": 2,
          "x": 120.84457918643675,
          "y": 54.42597562126649
         },
         {
          "edge": 51,
          "pair": [
           18,
           33
          ],
          "source": 18,
          "target": 33,
          "weight": 2,
          "x": 134.83452007652568,
          "y": 65.97481198114315
         },
         {
          "edge": 52,
          "pair": [
           19,
           33
          ],
          "source": 19,
          "target": 33,
          "weight": 1,
          "x": 183.55830304659642,
          "y": 127.45762485306913
         },
         {
          "edge": 52,
          "pair": [
           19,
           33
          ],
          "source": 19,
          "target": 33,
          "weight": 1,
          "x": 134.83452007652568,
          "y": 65.97481198114315
         },
         {
          "edge": 53,
          "pair": [
           20,
           32
          ],
          "source": 20,
          "target": 32,
          "weight": 3,
          "x": 135.94347165801793,
          "y": 39.93716418101464
         },
         {
          "edge": 53,
          "pair": [
           20,
           32
          ],
          "source": 20,
          "target": 32,
          "weight": 3,
          "x": 115.80579177746667,
          "y": 46.8038479630529
         },
         {
          "edge": 54,
          "pair": [
           20,
           33
          ],
          "source": 20,
          "target": 33,
          "weight": 1,
          "x": 135.94347165801793,
          "y": 39.93716418101464
         },
         {
          "edge": 54,
          "pair": [
           20,
           33
          ],
          "source": 20,
          "target": 33,
          "weight": 1,
          "x": 134.83452007652568,
          "y": 65.97481198114315
         },
         {
          "edge": 55,
          "pair": [
           22,
           32
          ],
          "source": 22,
          "target": 32,
          "weight": 2,
          "x": 137.83034628743854,
          "y": 32.68836521587771
         },
         {
          "edge": 55,
          "pair": [
           22,
           32
          ],
          "source": 22,
          "target": 32,
          "weight": 2,
          "x": 115.80579177746667,
          "y": 46.8038479630529
         },
         {
          "edge": 56,
          "pair": [
           22,
           33
          ],
          "source": 22,
          "target": 33,
          "weight": 3,
          "x": 137.83034628743854,
          "y": 32.68836521587771
         },
         {
          "edge": 56,
          "pair": [
           22,
           33
          ],
          "source": 22,
          "target": 33,
          "weight": 3,
          "x": 134.83452007652568,
          "y": 65.97481198114315
         },
         {
          "edge": 57,
          "pair": [
           23,
           25
          ],
          "source": 23,
          "target": 25,
          "weight": 5,
          "x": 68.10717077066344,
          "y": 64.52393628045607
         },
         {
          "edge": 57,
          "pair": [
           23,
           25
          ],
          "source": 23,
          "target": 25,
          "weight": 5,
          "x": 43.967049969983194,
          "y": 113.23718595298581
         },
         {
          "edge": 58,
          "pair": [
           23,
           27
          ],
          "source": 23,
          "target": 27,
          "weight": 4,
          "x": 68.10717077066344,
          "y": 64.52393628045607
         },
         {
          "edge": 58,
          "pair": [
           23,
           27
          ],
          "source": 23,
          "target": 27,
          "weight": 4,
          "x": 76.40223301731972,
          "y": 104.47467081890252
         },
         {
          "edge": 59,
          "pair": [
           23,
           29
          ],
          "source": 23,
          "target": 29,
          "weight": 3,
          "x": 68.10717077066344,
          "y": 64.52393628045607
         },
         {
          "edge": 59,
          "pair": [
           23,
           29
          ],
          "source": 23,
          "target": 29,
          "weight": 3,
          "x": 101.71331301717727,
          "y": 24.130493836766846
         },
         {
          "edge": 60,
          "pair": [
           23,
           32
          ],
          "source": 23,
          "target": 32,
          "weight": 5,
          "x": 68.10717077066344,
          "y": 64.52393628045607
         },
         {
          "edge": 60,
          "pair": [
           23,
           32
          ],
          "source": 23,
          "target": 32,
          "weight": 5,
          "x": 115.80579177746667,
          "y": 46.8038479630529
         },
         {
          "edge": 61,
          "pair": [
           23,
           33
          ],
          "source": 23,
          "target": 33,
          "weight": 4,
          "x": 68.10717077066344,
          "y": 64.52393628045607
         },
         {
          "edge": 61,
          "pair": [
           23,
           33
          ],
          "source": 23,
          "target": 33,
          "weight": 4,
          "x": 134.83452007652568,
          "y": 65.97481198114315
         },
         {
          "edge": 62,
          "pair": [
           24,
           25
          ],
          "source": 24,
          "target": 25,
          "weight": 2,
          "x": 53.32660666559339,
          "y": 125.06356941250365
         },
         {
          "edge": 62,
          "pair": [
           24,
           25
          ],
          "source": 24,
          "target": 25,
          "weight": 2,
          "x": 43.967049969983194,
          "y": 113.23718595298581
         },
         {
          "edge": 63,
          "pair": [
           24,
           27
          ],
          "source": 24,
          "target": 27,
          "weight": 3,
          "x": 53.32660666559339,
          "y": 125.06356941250365
         },
         {
          "edge": 63,
          "pair": [
           24,
           27
          ],
          "source": 24,
          "target": 27,
          "weight": 3,
          "x": 76.40223301731972,
          "y": 104.47467081890252
         },
         {
          "edge": 64,
          "pair": [
           24,
           31
          ],
          "source": 24,
          "target": 31,
          "weight": 2,
          "x": 53.32660666559339,
          "y": 125.06356941250365
         },
         {
          "edge": 64,
          "pair": [
           24,
           31
          ],
          "source": 24,
          "target": 31,
          "weight": 2,
          "x": 82.62717515110698,
          "y": 121.95233188725487
         },
         {
          "edge": 65,
          "pair": [
           25,
           31
          ],
          "source": 25,
          "target": 31,
          "weight": 7,
          "x": 43.967049969983194,
          "y": 113.23718595298581
         },
         {
          "edge": 65,
          "pair": [
           25,
           31
          ],
          "source": 25,
          "target": 31,
          "weight": 7,
          "x": 82.62717515110698,
          "y": 121.95233188725487
         },
         {
          "edge": 66,
          "pair": [
           26,
           29
          ],
          "source": 26,
          "target": 29,
          "weight": 4,
          "x": 134.40847306512765,
          "y": 16
         },
         {
          "edge": 66,
          "pair": [
           26,
           29
          ],
          "source": 26,
          "target": 29,
          "weight": 4,
          "x": 101.71331301717727,
          "y": 24.130493836766846
         },
         {
          "edge": 67,
          "pair": [
           26,
           33
          ],
          "source": 26,
          "target": 33,
          "weight": 2,
          "x": 134.40847306512765,
          "y": 16
         },
         {
          "edge": 67,
          "pair": [
           26,
           33
          ],
          "source": 26,
          "target": 33,
          "weight": 2,
          "x": 134.83452007652568,
          "y": 65.97481198114315
         },
         {
          "edge": 68,
          "pair": [
           27,
           33
          ],
          "source": 27,
          "target": 33,
          "weight": 4,
          "x": 76.40223301731972,
          "y": 104.47467081890252
         },
         {
          "edge": 68,
          "pair": [
           27,
           33
          ],
          "source": 27,
          "target": 33,
          "weight": 4,
          "x": 134.83452007652568,
          "y": 65.97481198114315
         },
         {
          "edge": 69,
          "pair": [
           28,
           31
          ],
          "source": 28,
          "target": 31,
          "weight": 2,
          "x": 105.3957041893718,
          "y": 120.97346770836296
         },
         {
          "edge": 69,
          "pair": [
           28,
           31
          ],
          "source": 28,
          "target": 31,
          "weight": 2,
          "x": 82.62717515110698,
          "y": 121.95233188725487
         },
         {
          "edge": 70,
          "pair": [
           28,
           33
          ],
          "source": 28,
          "target": 33,
          "weight": 2,
          "x": 105.3957041893718,
          "y": 120.97346770836296
         },
         {
          "edge": 70,
          "pair": [
           28,
           33
          ],
          "source": 28,
          "target": 33,
          "weight": 2,
          "x": 134.83452007652568,
          "y": 65.97481198114315
         },
         {
          "edge": 71,
          "pair": [
           29,
           32
          ],
          "source": 29,
          "target": 32,
          "weight": 4,
          "x": 101.71331301717727,
          "y": 24.130493836766846
         },
         {
          "edge": 71,
          "pair": [
           29,
           32
          ],
          "source": 29,
          "target": 32,
          "weight": 4,
          "x": 115.80579177746667,
          "y": 46.8038479630529
         },
         {
          "edge": 72,
          "pair": [
           29,
           33
          ],
          "source": 29,
          "target": 33,
          "weight": 2,
          "x": 101.71331301717727,
          "y": 24.130493836766846
         },
         {
          "edge": 72,
          "pair": [
           29,
           33
          ],
          "source": 29,
          "target": 33,
          "weight": 2,
          "x": 134.83452007652568,
          "y": 65.97481198114315
         },
         {
          "edge": 73,
          "pair": [
           30,
           32
          ],
          "source": 30,
          "target": 32,
          "weight": 3,
          "x": 180.917560336488,
          "y": 77.1264905795907
         },
         {
          "edge": 73,
          "pair": [
           30,
           32
          ],
          "source": 30,
          "target": 32,
          "weight": 3,
          "x": 115.80579177746667,
          "y": 46.8038479630529
         },
         {
          "edge": 74,
          "pair": [
           30,
           33
          ],
          "source": 30,
          "target": 33,
          "weight": 3,
          "x": 180.917560336488,
          "y": 77.1264905795907
         },
         {
          "edge": 74,
          "pair": [
           30,
           33
          ],
          "source": 30,
          "target": 33,
          "weight": 3,
          "x": 134.83452007652568,
          "y": 65.97481198114315
         },
         {
          "edge": 75,
          "pair": [
           31,
           32
          ],
          "source": 31,
          "target": 32,
          "weight": 4,
          "x": 82.62717515110698,
          "y": 121.95233188725487
         },
         {
          "edge": 75,
          "pair": [
           31,
           32
          ],
          "source": 31,
          "target": 32,
          "weight": 4,
          "x": 115.80579177746667,
          "y": 46.8038479630529
         },
         {
          "edge": 76,
          "pair": [
           31,
           33
          ],
          "source": 31,
          "target": 33,
          "weight": 4,
          "x": 82.62717515110698,
          "y": 121.95233188725487
         },
         {
          "edge": 76,
          "pair": [
           31,
           33
          ],
          "source": 31,
          "target": 33,
          "weight": 4,
          "x": 134.83452007652568,
          "y": 65.97481198114315
         },
         {
          "edge": 77,
          "pair": [
           32,
           33
          ],
          "source": 32,
          "target": 33,
          "weight": 5,
          "x": 115.80579177746667,
          "y": 46.8038479630529
         },
         {
          "edge": 77,
          "pair": [
           32,
           33
          ],
          "source": 32,
          "target": 33,
          "weight": 5,
          "x": 134.83452007652568,
          "y": 65.97481198114315
         }
        ],
        "data-e3f23e6250a2547063d4eb4c40b84fbc": [
         {
          "edge": 0,
          "pair": [
           0,
           1
          ],
          "source": 0,
          "target": 1,
          "weight": 4,
          "x": 109.21737482736917,
          "y": 113.69017033023773
         },
         {
          "edge": 0,
          "pair": [
           0,
           1
          ],
          "source": 0,
          "target": 1,
          "weight": 4,
          "x": 132.18323779229812,
          "y": 121.3523642198119
         },
         {
          "edge": 1,
          "pair": [
           0,
           2
          ],
          "source": 0,
          "target": 2,
          "weight": 5,
          "x": 109.21737482736917,
          "y": 113.69017033023773
         },
         {
          "edge": 1,
          "pair": [
           0,
           2
          ],
          "source": 0,
          "target": 2,
          "weight": 5,
          "x": 142.66166800802432,
          "y": 146.5568435986972
         },
         {
          "edge": 2,
          "pair": [
           0,
           3
          ],
          "source": 0,
          "target": 3,
          "weight": 3,
          "x": 109.21737482736917,
          "y": 113.69017033023773
         },
         {
          "edge": 2,
          "pair": [
           0,
           3
          ],
          "source": 0,
          "target": 3,
          "weight": 3,
          "x": 140.02099605786296,
          "y": 96.93449788126571
         },
         {
          "edge": 3,
          "pair": [
           0,
           4
          ],
          "source": 0,
          "target": 4,
          "weight": 3,
          "x": 109.21737482736917,
          "y": 113.69017033023773
         },
         {
          "edge": 3,
          "pair": [
           0,
           4
          ],
          "source": 0,
          "target": 4,
          "weight": 3,
          "x": 79.95255013178684,
          "y": 72.16449024641298
         },
         {
          "edge": 4,
          "pair": [
           0,
           5
          ],
          "source": 0,
          "target": 5,
          "weight": 3,
          "x": 109.21737482736917,
          "y": 113.69017033023773
         },
         {
          "edge": 4,
          "pair": [
           0,
           5
          ],
          "source": 0,
          "target": 5,
          "weight": 3,
          "x": 48.112620790007824,
          "y": 91.22081508176035
         },
         {
          "edge": 5,
          "pair": [
           0,
           6
          ],
          "source": 0,
          "target": 6,
          "weight": 3,
          "x": 109.21737482736917,
          "y": 113.69017033023773
         },
         {
          "edge": 5,
          "pair": [
           0,
           6
          ],
          "source": 0,
          "target": 6,
          "weight": 3,
          "x": 55.11077167633867,
          "y": 81.87994696938405
         },
         {
          "edge": 6,
          "pair": [
           0,
           7
          ],
          "source": 0,
          "target": 7,
          "weight": 2,
          "x": 109.21737482736917,
          "y": 113.69017033023773
         },
         {
          "edge": 6,
          "pair": [
           0,
           7
          ],
          "source": 0,
          "target": 7,
          "weight": 2,
          "x": 135.64480200854078,
          "y": 110.07524588399292
         },
         {
          "edge": 7,
          "pair": [
           0,
           8
          ],
          "source": 0,
          "target": 8,
          "weight": 2,
          "x": 109.21737482736917,
          "y": 113.69017033023773
         },
         {
          "edge": 7,
          "pair": [
           0,
           8
          ],
          "source": 0,
          "target": 8,
          "weight": 2,
          "x": 165.01903985681926,
          "y": 154.91839356083892
         },
         {
          "edge": 8,
          "pair": [
           0,
           10
          ],
          "source": 0,
          "target": 10,
          "weight": 2,
          "x": 109.21737482736917,
          "y": 113.69017033023773
         },
         {
          "edge": 8,
          "pair": [
           0,
           10
          ],
          "source": 0,
          "target": 10,
          "weight": 2,
          "x": 62.85173599087686,
          "y": 65.35282554040126
         },
         {
          "edge": 9,
          "pair": [
           0,
           11
          ],
          "source": 0,
          "target": 11,
          "weight": 3,
          "x": 109.21737482736917,
          "y": 113.69017033023773
         },
         {
          "edge": 9,
          "pair": [
           0,
           11
          ],
          "source": 0,
          "target": 11,
          "weight": 3,
          "x": 66.22938064151293,
          "y": 141.67024230765222
         },
         {
          "edge": 10,
          "pair": [
           0,
           12
          ],
          "source": 0,
          "target": 12,
          "weight": 1,
          "x": 109.21737482736917,
          "y": 113.69017033023773
         },
         {
          "edge": 10,
          "pair": [
           0,
           12
          ],
          "source": 0,
          "target": 12,
          "weight": 1,
          "x": 149.86889893869017,
          "y": 56.17821398117589
         },
         {
          "edge": 11,
          "pair": [
           0,
           13
          ],
          "source": 0,
          "target": 13,
          "weight": 3,
          "x": 109.21737482736917,
          "y": 113.69017033023773
         },
         {
          "edge": 11,
          "pair": [
           0,
           13
          ],
          "source": 0,
          "target": 13,
          "weight": 3,
          "x": 150.60058749935806,
          "y": 132.2328120101675
         },
         {
          "edge": 12,
          "pair": [
           0,
           17
          ],
          "source": 0,
          "target": 17,
          "weight": 2,
          "x": 109.21737482736917,
          "y": 113.69017033023773
         },
         {
          "edge": 12,
          "pair": [
           0,
           17
          ],
          "source": 0,
          "target": 17,
          "weight": 2,
          "x": 111.4260351373485,
          "y": 62.16322698234085
         },
         {
          "edge": 13,
          "pair": [
           0,
           19
          ],
          "source": 0,
          "target": 19,
          "weight": 2,
          "x": 109.21737482736917,
          "y": 113.69017033023773
         },
         {
          "edge": 13,
          "pair": [
           0,
           19
          ],
          "source": 0,
          "target": 19,
          "weight": 2,
          "x": 164.14197026344692,
          "y": 107.65921497185028
         },
         {
          "edge": 14,
          "pair": [
           0,
           21
          ],
          "source": 0,
          "target": 21,
          "weight": 2,
          "x": 109.21737482736917,
          "y": 113.69017033023773
         },
         {
          "edge": 14,
          "pair": [
           0,
           21
          ],
          "source": 0,
          "target": 21,
          "weight": 2,
          "x": 81.0242985865018,
          "y": 118.18638865927
         },
         {
          "edge": 15,
          "pair": [
           0,
           31
          ],
          "source": 0,
          "target": 31,
          "weight": 2,
          "x": 109.21737482736917,
          "y": 113.69017033023773
         },
         {
          "edge": 15,
          "pair": [
           0,
           31
          ],
          "source": 0,
          "target": 31,
          "weight": 2,
          "x": 155.7862858626828,
          "y": 198.31982237106334
         },
         {
          "edge": 16,
          "pair": [
           1,
           2
          ],
          "source": 1,
          "target": 2,
          "weight": 6,
          "x": 132.18323779229812,
          "y": 121.3523642198119
         },
         {
          "edge": 16,
          "pair": [
           1,
           2
          ],
          "source": 1,
          "target": 2,
          "weight": 6,
          "x": 142.66166800802432,
          "y": 146.5568435986972
         },
         {
          "edge": 17,
          "pair": [
           1,
           3
          ],
          "source": 1,
          "target": 3,
          "weight": 3,
          "x": 132.18323779229812,
          "y": 121.3523642198119
         },
         {
          "edge": 17,
          "pair": [
           1,
           3
          ],
          "source": 1,
          "target": 3,
          "weight": 3,
          "x": 140.02099605786296,
          "y": 96.93449788126571
         },
         {
          "edge": 18,
          "pair": [
           1,
           7
          ],
          "source": 1,
          "target": 7,
          "weight": 4,
          "x": 132.18323779229812,
          "y": 121.3523642198119
         },
         {
          "edge": 18,
          "pair": [
           1,
           7
          ],
          "source": 1,
          "target": 7,
          "weight": 4,
          "x": 135.64480200854078,
          "y": 110.07524588399292
         },
         {
          "edge": 19,
          "pair": [
           1,
           13
          ],
          "source": 1,
          "target": 13,
          "weight": 5,
          "x": 132.18323779229812,
          "y": 121.3523642198119
         },
         {
          "edge": 19,
          "pair": [
           1,
           13
          ],
          "source": 1,
          "target": 13,
          "weight": 5,
          "x": 150.60058749935806,
          "y": 132.2328120101675
         },
         {
          "edge": 20,
          "pair": [
           1,
           17
          ],
          "source": 1,
          "target": 17,
          "weight": 1,
          "x": 132.18323779229812,
          "y": 121.3523642198119
         },
         {
          "edge": 20,
          "pair": [
           1,
           17
          ],
          "source": 1,
          "target": 17,
          "weight": 1,
          "x": 111.4260351373485,
          "y": 62.16322698234085
         },
         {
          "edge": 21,
          "pair": [
           1,
           19
          ],
          "source": 1,
          "target": 19,
          "weight": 2,
          "x": 132.18323779229812,
          "y": 121.3523642198119
         },
         {
          "edge": 21,
          "pair": [
           1,
           19
          ],
          "source": 1,
          "target": 19,
          "weight": 2,
          "x": 164.14197026344692,
          "y": 107.65921497185028
         },
         {
          "edge": 22,
          "pair": [
           1,
           21
          ],
          "source": 1,
          "target": 21,
          "weight": 2,
          "x": 132.18323779229812,
          "y": 121.3523642198119
         },
         {
          "edge": 22,
          "pair": [
           1,
           21
          ],
          "source": 1,
          "target": 21,
          "weight": 2,
          "x": 81.0242985865018,
          "y": 118.18638865927
         },
         {
          "edge": 23,
          "pair": [
           1,
           30
          ],
          "source": 1,
          "target": 30,
          "weight": 2,
          "x": 132.18323779229812,
          "y": 121.3523642198119
         },
         {
          "edge": 23,
          "pair": [
           1,
           30
          ],
          "source": 1,
          "target": 30,
          "weight": 2,
          "x": 184.89504828115483,
          "y": 147.52492234663248
         },
         {
          "edge": 24,
          "pair": [
           2,
           3
          ],
          "source": 2,
          "target": 3,
          "weight": 3,
          "x": 142.66166800802432,
          "y": 146.5568435986972
         },
         {
          "edge": 24,
          "pair": [
           2,
           3
          ],
          "source": 2,
          "target": 3,
          "weight": 3,
          "x": 140.02099605786296,
          "y": 96.93449788126571
         },
         {
          "edge": 25,
          "pair": [
           2,
           7
          ],
          "source": 2,
          "target": 7,
          "weight": 4,
          "x": 142.66166800802432,
          "y": 146.5568435986972
         },
         {
          "edge": 25,
          "pair": [
           2,
           7
          ],
          "source": 2,
          "target": 7,
          "weight": 4,
          "x": 135.64480200854078,
          "y": 110.07524588399292
         },
         {
          "edge": 26,
          "pair": [
           2,
           8
          ],
          "source": 2,
          "target": 8,
          "weight": 5,
          "x": 142.66166800802432,
          "y": 146.5568435986972
         },
         {
          "edge": 26,
          "pair": [
           2,
           8
          ],
          "source": 2,
          "target": 8,
          "weight": 5,
          "x": 165.01903985681926,
          "y": 154.91839356083892
         },
         {
          "edge": 27,
          "pair": [
           2,
           9
          ],
          "source": 2,
          "target": 9,
          "weight": 1,
          "x": 142.66166800802432,
          "y": 146.5568435986972
         },
         {
          "edge": 27,
          "pair": [
           2,
           9
          ],
          "source": 2,
          "target": 9,
          "weight": 1,
          "x": 130.510651009559,
          "y": 205.68054477625847
         },
         {
          "edge": 28,
          "pair": [
           2,
           13
          ],
          "source": 2,
          "target": 13,
          "weight": 3,
          "x": 142.66166800802432,
          "y": 146.5568435986972
         },
         {
          "edge": 28,
          "pair": [
           2,
           13
          ],
          "source": 2,
          "target": 13,
          "weight": 3,
          "x": 150.60058749935806,
          "y": 132.2328120101675
         },
         {
          "edge": 29,
          "pair": [
           2,
           27
          ],
          "source": 2,
          "target": 27,
          "weight": 2,
          "x": 142.66166800802432,
          "y": 146.5568435986972
         },
         {
          "edge": 29,
          "pair": [
           2,
           27
          ],
          "source": 2,
          "target": 27,
          "weight": 2,
          "x": 168.9281805694228,
          "y": 213.66292104204388
         },
         {
          "edge": 30,
          "pair": [
           2,
           28
          ],
          "source": 2,
          "target": 28,
          "weight": 2,
          "x": 142.66166800802432,
          "y": 146.5568435986972
         },
         {
          "edge": 30,
          "pair": [
           2,
           28
          ],
          "source": 2,
          "target": 28,
          "weight": 2,
          "x": 162.13888753632392,
          "y": 192.21466799902228
         },
         {
          "edge": 31,
          "pair": [
           2,
           32
          ],
          "source": 2,
          "target": 32,
          "weight": 2,
          "x": 142.66166800802432,
          "y": 146.5568435986972
         },
         {
          "edge": 31,
          "pair": [
           2,
           32
          ],
          "source": 2,
          "target": 32,
          "weight": 2,
          "x": 200.97951813398362,
          "y": 180.70942102295686
         },
         {
          "edge": 32,
          "pair": [
           3,
           7
          ],
          "source": 3,
          "target": 7,
          "weight": 3,
          "x": 140.02099605786296,
          "y": 96.93449788126571
         },
         {
          "edge": 32,
          "pair": [
           3,
           7
          ],
          "source": 3,
          "target": 7,
          "weight": 3,
          "x": 135.64480200854078,
          "y": 110.07524588399292
         },
         {
          "edge": 33,
          "pair": [
           3,
           12
          ],
          "source": 3,
          "target": 12,
          "weight": 3,
          "x": 140.02099605786296,
          "y": 96.93449788126571
         },
         {
          "edge": 33,
          "pair": [
           3,
           12
          ],
          "source": 3,
          "target": 12,
          "weight": 3,
          "x": 149.86889893869017,
          "y": 56.17821398117589
         },
         {
          "edge": 34,
          "pair": [
           3,
           13
          ],
          "source": 3,
          "target": 13,
          "weight": 3,
          "x": 140.02099605786296,
          "y": 96.93449788126571
         },
         {
          "edge": 34,
          "pair": [
           3,
           13
          ],
          "source": 3,
          "target": 13,
          "weight": 3,
          "x": 150.60058749935806,
          "y": 132.2328120101675
         },
         {
          "edge": 35,
          "pair": [
           4,
           6
          ],
          "source": 4,
          "target": 6,
          "weight": 2,
          "x": 79.95255013178684,
          "y": 72.16449024641298
         },
         {
          "edge": 35,
          "pair": [
           4,
           6
          ],
          "source": 4,
          "target": 6,
          "weight": 2,
          "x": 55.11077167633867,
          "y": 81.87994696938405
         },
         {
          "edge": 36,
          "pair": [
           4,
           10
          ],
          "source": 4,
          "target": 10,
          "weight": 3,
          "x": 79.95255013178684,
          "y": 72.16449024641298
         },
         {
          "edge": 36,
          "pair": [
           4,
           10
          ],
          "source": 4,
          "target": 10,
          "weight": 3,
          "x": 62.85173599087686,
          "y": 65.35282554040126
         },
         {
          "edge": 37,
          "pair": [
           5,
           6
          ],
          "source": 5,
          "target": 6,
          "weight": 5,
          "x": 48.112620790007824,
          "y": 91.22081508176035
         },
         {
          "edge": 37,
          "pair": [
           5,
           6
          ],
          "source": 5,
          "target": 6,
          "weight": 5,
          "x": 55.11077167633867,
          "y": 81.87994696938405
         },
         {
          "edge": 38,
          "pair": [
           5,
           10
          ],
          "source": 5,
          "target": 10,
          "weight": 3,
          "x": 48.112620790007824,
          "y": 91.22081508176035
         },
         {
          "edge": 38,
          "pair": [
           5,
           10
          ],
          "source": 5,
          "target": 10,
          "weight": 3,
          "x": 62.85173599087686,
          "y": 65.35282554040126
         },
         {
          "edge": 39,
          "pair": [
           5,
           16
          ],
          "source": 5,
          "target": 16,
          "weight": 3,
          "x": 48.112620790007824,
          "y": 91.22081508176035
         },
         {
          "edge": 39,
          "pair": [
           5,
           16
          ],
          "source": 5,
          "target": 16,
          "weight": 3,
          "x": 16,
          "y": 70.08210627712133
         },
         {
          "edge": 40,
          "pair": [
           6,
           16
          ],
          "source": 6,
          "target": 16,
          "weight": 3,
          "x": 55.11077167633867,
          "y": 81.87994696938405
         },
         {
          "edge": 40,
          "pair": [
           6,
           16
          ],
          "source": 6,
          "target": 16,
          "weight": 3,
          "x": 16,
          "y": 70.08210627712133
         },
         {
          "edge": 41,
          "pair": [
           8,
           30
          ],
          "source": 8,
          "target": 30,
          "weight": 3,
          "x": 165.01903985681926,
          "y": 154.91839356083892
         },
         {
          "edge": 41,
          "pair": [
           8,
           30
          ],
          "source": 8,
          "target": 30,
          "weight": 3,
          "x": 184.89504828115483,
          "y": 147.52492234663248
         },
         {
          "edge": 42,
          "pair": [
           8,
           32
          ],
          "source": 8,
          "target": 32,
          "weight": 3,
          "x": 165.01903985681926,
          "y": 154.91839356083892
         },
         {
          "edge": 42,
          "pair": [
           8,
           32
          ],
          "source": 8,
          "target": 32,
          "weight": 3,
          "x": 200.97951813398362,
          "y": 180.70942102295686
         },
         {
          "edge": 43,
          "pair": [
           8,
           33
          ],
          "source": 8,
          "target": 33,
          "weight": 4,
          "x": 165.01903985681926,
          "y": 154.91839356083892
         },
         {
          "edge": 43,
          "pair": [
           8,
           33
          ],
          "source": 8,
          "target": 33,
          "weight": 4,
          "x": 191.1773259288198,
          "y": 182.63580237831079
         },
         {
          "edge": 44,
          "pair": [
           9,
           33
          ],
          "source": 9,
          "target": 33,
          "weight": 2,
          "x": 130.510651009559,
          "y": 205.68054477625847
         },
         {
          "edge": 44,
          "pair": [
           9,
           33
          ],
          "source": 9,
          "target": 33,
          "weight": 2,
          "x": 191.1773259288198,
          "y": 182.63580237831079
         },
         {
          "edge": 45,
          "pair": [
           13,
           33
          ],
          "source": 13,
          "target": 33,
          "weight": 3,
          "x": 150.60058749935806,
          "y": 132.2328120101675
         },
         {
          "edge": 45,
          "pair": [
           13,
           33
          ],
          "source": 13,
          "target": 33,
          "weight": 3,
          "x": 191.1773259288198,
          "y": 182.63580237831079
         },
         {
          "edge": 46,
          "pair": [
           14,
           32
          ],
          "source": 14,
          "target": 32,
          "weight": 3,
          "x": 176.68291369681407,
          "y": 183.9392512203733
         },
         {
          "edge": 46,
          "pair": [
           14,
           32
          ],
          "source": 14,
          "target": 32,
          "weight": 3,
          "x": 200.97951813398362,
          "y": 180.70942102295686
         },
         {
          "edge": 47,
          "pair": [
           14,
           33
          ],
          "source": 14,
          "target": 33,
          "weight": 2,
          "x": 176.68291369681407,
          "y": 183.9392512203733
         },
         {
          "edge": 47,
          "pair": [
           14,
           33
          ],
          "source": 14,
          "target": 33,
          "weight": 2,
          "x": 191.1773259288198,
          "y": 182.63580237831079
         },
         {
          "edge": 48,
          "pair": [
           15,
           32
          ],
          "source": 15,
          "target": 32,
          "weight": 3,
          "x": 207.93785625160797,
          "y": 148.1337143195409
         },
         {
          "edge": 48,
          "pair": [
           15,
           32
          ],
          "source": 15,
          "target": 32,
          "weight": 3,
          "x": 200.97951813398362,
          "y": 180.70942102295686
         },
         {
          "edge": 49,
          "pair": [
           15,
           33
          ],
          "source": 15,
          "target": 33,
          "weight": 4,
          "x": 207.93785625160797,
          "y": 148.1337143195409
         },
         {
          "edge": 49,
          "pair": [
           15,
           33
          ],
          "source": 15,
          "target": 33,
          "weight": 4,
          "x": 191.1773259288198,
          "y": 182.63580237831079
         },
         {
          "edge": 50,
          "pair": [
           18,
           32
          ],
          "source": 18,
          "target": 32,
          "weight": 1,
          "x": 228.80583414260417,
          "y": 233.66270782032723
         },
         {
          "edge": 50,
          "pair": [
           18,
           32
          ],
          "source": 18,
          "target": 32,
          "weight": 1,
          "x": 200.97951813398362,
          "y": 180.70942102295686
         },
         {
          "edge": 51,
          "pair": [
           18,
           33
          ],
          "source": 18,
          "target": 33,
          "weight": 2,
          "x": 228.80583414260417,
          "y": 233.66270782032723
         },
         {
          "edge": 51,
          "pair": [
           18,
           33
          ],
          "source": 18,
          "target": 33,
          "weight": 2,
          "x": 191.1773259288198,
          "y": 182.63580237831079
         },
         {
          "edge": 52,
          "pair": [
           19,
           33
          ],
          "source": 19,
          "target": 33,
          "weight": 1,
          "x": 164.14197026344692,
          "y": 107.65921497185028
         },
         {
          "edge": 52,
          "pair": [
           19,
           33
          ],
          "source": 19,
          "target": 33,
          "weight": 1,
          "x": 191.1773259288198,
          "y": 182.63580237831079
         },
         {
          "edge": 53,
          "pair": [
           20,
           32
          ],
          "source": 20,
          "target": 32,
          "weight": 3,
          "x": 248.34307189714252,
          "y": 164.4935619216727
         },
         {
          "edge": 53,
          "pair": [
           20,
           32
          ],
          "source": 20,
          "target": 32,
          "weight": 3,
          "x": 200.97951813398362,
          "y": 180.70942102295686
         },
         {
          "edge": 54,
          "pair": [
           20,
           33
          ],
          "source": 20,
          "target": 33,
          "weight": 1,
          "x": 248.34307189714252,
          "y": 164.4935619216727
         },
         {
          "edge": 54,
          "pair": [
           20,
           33
          ],
          "source": 20,
          "target": 33,
          "weight": 1,
          "x": 191.1773259288198,
          "y": 182.63580237831079
         },
         {
          "edge": 55,
          "pair": [
           22,
           32
          ],
          "source": 22,
          "target": 32,
          "weight": 2,
          "x": 238.70803282857867,
          "y": 184.3504372186825
         },
         {
          "edge": 55,
          "pair": [
           22,
           32
          ],
          "source": 22,
          "target": 32,
          "weight": 2,
          "x": 200.97951813398362,
          "y": 180.70942102295686
         },
         {
          "edge": 56,
          "pair": [
           22,
           33
          ],
          "source": 22,
          "target": 33,
          "weight": 3,
          "x": 238.70803282857867,
          "y": 184.3504372186825
         },
         {
          "edge": 56,
          "pair": [
           22,
           33
          ],
          "source": 22,
          "target": 33,
          "weight": 3,
          "x": 191.1773259288198,
          "y": 182.63580237831079
         },
         {
          "edge": 57,
          "pair": [
           23,
           25
          ],
          "source": 23,
          "target": 25,
          "weight": 5,
          "x": 196.560662125522,
          "y": 215.62146115873384
         },
         {
          "edge": 57,
          "pair": [
           23,
           25
          ],
          "source": 23,
          "target": 25,
          "weight": 5,
          "x": 168.4787409256817,
          "y": 233.66994548724898
         },
         {
          "edge": 58,
          "pair": [
           23,
           27
          ],
          "source": 23,
          "target": 27,
          "weight": 4,
          "x": 196.560662125522,
          "y": 215.62146115873384
         },
         {
          "edge": 58,
          "pair": [
           23,
           27
          ],
          "source": 23,
          "target": 27,
          "weight": 4,
          "x": 168.9281805694228,
          "y": 213.66292104204388
         },
         {
          "edge": 59,
          "pair": [
           23,
           29
          ],
          "source": 23,
          "target": 29,
          "weight": 3,
          "x": 196.560662125522,
          "y": 215.62146115873384
         },
         {
          "edge": 59,
          "pair": [
           23,
           29
          ],
          "source": 23,
          "target": 29,
          "weight": 3,
          "x": 227.25465060755863,
          "y": 207.84634431005705
         },
         {
          "edge": 60,
          "pair": [
           23,
           32
          ],
          "source": 23,
          "target": 32,
          "weight": 5,
          "x": 196.560662125522,
          "y": 215.62146115873384
         },
         {
          "edge": 60,
          "pair": [
           23,
           32
          ],
          "source": 23,
          "target": 32,
          "weight": 5,
          "x": 200.97951813398362,
          "y": 180.70942102295686
         },
         {
          "edge": 61,
          "pair": [
           23,
           33
          ],
          "source": 23,
          "target": 33,
          "weight": 4,
          "x": 196.560662125522,
          "y": 215.62146115873384
         },
         {
          "edge": 61,
          "pair": [
           23,
           33
          ],
          "source": 23,
          "target": 33,
          "weight": 4,
          "x": 191.1773259288198,
          "y": 182.63580237831079
         },
         {
          "edge": 62,
          "pair": [
           24,
           25
          ],
          "source": 24,
          "target": 25,
          "weight": 2,
          "x": 150.96712715235986,
          "y": 251.02619833480185
         },
         {
          "edge": 62,
          "pair": [
           24,
           25
          ],
          "source": 24,
          "target": 25,
          "weight": 2,
          "x": 168.4787409256817,
          "y": 233.66994548724898
         },
         {
          "edge": 63,
          "pair": [
           24,
           27
          ],
          "source": 24,
          "target": 27,
          "weight": 3,
          "x": 150.96712715235986,
          "y": 251.02619833480185
         },
         {
          "edge": 63,
          "pair": [
           24,
           27
          ],
          "source": 24,
          "target": 27,
          "weight": 3,
          "x": 168.9281805694228,
          "y": 213.66292104204388
         },
         {
          "edge": 64,
          "pair": [
           24,
           31
          ],
          "source": 24,
          "target": 31,
          "weight": 2,
          "x": 150.96712715235986,
          "y": 251.02619833480185
         },
         {
          "edge": 64,
          "pair": [
           24,
           31
          ],
          "source": 24,
          "target": 31,
          "weight": 2,
          "x": 155.7862858626828,
          "y": 198.31982237106334
         },
         {
          "edge": 65,
          "pair": [
           25,
           31
          ],
          "source": 25,
          "target": 31,
          "weight": 7,
          "x": 168.4787409256817,
          "y": 233.66994548724898
         },
         {
          "edge": 65,
          "pair": [
           25,
           31
          ],
          "source": 25,
          "target": 31,
          "weight": 7,
          "x": 155.7862858626828,
          "y": 198.31982237106334
         },
         {
          "edge": 66,
          "pair": [
           26,
           29
          ],
          "source": 26,
          "target": 29,
          "weight": 4,
          "x": 251.7792448434008,
          "y": 214.19047776989257
         },
         {
          "edge": 66,
          "pair": [
           26,
           29
          ],
          "source": 26,
          "target": 29,
          "weight": 4,
          "x": 227.25465060755863,
          "y": 207.84634431005705
         },
         {
          "edge": 67,
          "pair": [
           26,
           33
          ],
          "source": 26,
          "target": 33,
          "weight": 2,
          "x": 251.7792448434008,
          "y": 214.19047776989257
         },
         {
          "edge": 67,
          "pair": [
           26,
           33
          ],
          "source": 26,
          "target": 33,
          "weight": 2,
          "x": 191.1773259288198,
          "y": 182.63580237831079
         },
         {
          "edge": 68,
          "pair": [
           27,
           33
          ],
          "source": 27,
          "target": 33,
          "weight": 4,
          "x": 168.9281805694228,
          "y": 213.66292104204388
         },
         {
          "edge": 68,
          "pair": [
           27,
           33
          ],
          "source": 27,
          "target": 33,
          "weight": 4,
          "x": 191.1773259288198,
          "y": 182.63580237831079
         },
         {
          "edge": 69,
          "pair": [
           28,
           31
          ],
          "source": 28,
          "target": 31,
          "weight": 2,
          "x": 162.13888753632392,
          "y": 192.21466799902228
         },
         {
          "edge": 69,
          "pair": [
           28,
           31
          ],
          "source": 28,
          "target": 31,
          "weight": 2,
          "x": 155.7862858626828,
          "y": 198.31982237106334
         },
         {
          "edge": 70,
          "pair": [
           28,
           33
          ],
          "source": 28,
          "target": 33,
          "weight": 2,
          "x": 162.13888753632392,
          "y": 192.21466799902228
         },
         {
          "edge": 70,
          "pair": [
           28,
           33
          ],
          "source": 28,
          "target": 33,
          "weight": 2,
          "x": 191.1773259288198,
          "y": 182.63580237831079
         },
         {
          "edge": 71,
          "pair": [
           29,
           32
          ],
          "source": 29,
          "target": 32,
          "weight": 4,
          "x": 227.25465060755863,
          "y": 207.84634431005705
         },
         {
          "edge": 71,
          "pair": [
           29,
           32
          ],
          "source": 29,
          "target": 32,
          "weight": 4,
          "x": 200.97951813398362,
          "y": 180.70942102295686
         },
         {
          "edge": 72,
          "pair": [
           29,
           33
          ],
          "source": 29,
          "target": 33,
          "weight": 2,
          "x": 227.25465060755863,
          "y": 207.84634431005705
         },
         {
          "edge": 72,
          "pair": [
           29,
           33
          ],
          "source": 29,
          "target": 33,
          "weight": 2,
          "x": 191.1773259288198,
          "y": 182.63580237831079
         },
         {
          "edge": 73,
          "pair": [
           30,
           32
          ],
          "source": 30,
          "target": 32,
          "weight": 3,
          "x": 184.89504828115483,
          "y": 147.52492234663248
         },
         {
          "edge": 73,
          "pair": [
           30,
           32
          ],
          "source": 30,
          "target": 32,
          "weight": 3,
          "x": 200.97951813398362,
          "y": 180.70942102295686
         },
         {
          "edge": 74,
          "pair": [
           30,
           33
          ],
          "source": 30,
          "target": 33,
          "weight": 3,
          "x": 184.89504828115483,
          "y": 147.52492234663248
         },
         {
          "edge": 74,
          "pair": [
           30,
           33
          ],
          "source": 30,
          "target": 33,
          "weight": 3,
          "x": 191.1773259288198,
          "y": 182.63580237831079
         },
         {
          "edge": 75,
          "pair": [
           31,
           32
          ],
          "source": 31,
          "target": 32,
          "weight": 4,
          "x": 155.7862858626828,
          "y": 198.31982237106334
         },
         {
          "edge": 75,
          "pair": [
           31,
           32
          ],
          "source": 31,
          "target": 32,
          "weight": 4,
          "x": 200.97951813398362,
          "y": 180.70942102295686
         },
         {
          "edge": 76,
          "pair": [
           31,
           33
          ],
          "source": 31,
          "target": 33,
          "weight": 4,
          "x": 155.7862858626828,
          "y": 198.31982237106334
         },
         {
          "edge": 76,
          "pair": [
           31,
           33
          ],
          "source": 31,
          "target": 33,
          "weight": 4,
          "x": 191.1773259288198,
          "y": 182.63580237831079
         },
         {
          "edge": 77,
          "pair": [
           32,
           33
          ],
          "source": 32,
          "target": 33,
          "weight": 5,
          "x": 200.97951813398362,
          "y": 180.70942102295686
         },
         {
          "edge": 77,
          "pair": [
           32,
           33
          ],
          "source": 32,
          "target": 33,
          "weight": 5,
          "x": 191.1773259288198,
          "y": 182.63580237831079
         }
        ]
       },
       "vconcat": [
        {
         "hconcat": [
          {
           "height": 300,
           "layer": [
            {
             "data": {
              "name": "data-ba430ea5287c5d2c3f185c0821d1b151"
             },
             "encoding": {
              "color": {
               "value": "black"
              },
              "detail": {
               "field": "edge",
               "type": "quantitative"
              },
              "opacity": {
               "value": 0.3
              },
              "strokeWidth": {
               "field": "weight",
               "legend": null,
               "scale": {
                "domain": [
                 0,
                 1
                ],
                "range": [
                 0,
                 0.2
                ]
               },
               "type": "quantitative"
              },
              "x": {
               "axis": {
                "domain": false,
                "grid": false,
                "labels": false,
                "ticks": false,
                "title": ""
               },
               "field": "x",
               "type": "quantitative"
              },
              "y": {
               "axis": {
                "domain": false,
                "grid": false,
                "labels": false,
                "ticks": false,
                "title": ""
               },
               "field": "y",
               "type": "quantitative"
              }
             },
             "mark": "line"
            },
            {
             "data": {
              "name": "data-447c792c61bffbee459a3810625c0c72"
             },
             "encoding": {
              "fill": {
               "field": "club",
               "legend": null,
               "type": "nominal"
              },
              "opacity": {
               "value": 1
              },
              "size": {
               "field": "degree_centrality",
               "legend": null,
               "scale": {
                "domain": [
                 0,
                 1
                ],
                "range": [
                 16,
                 256
                ]
               },
               "type": "quantitative"
              },
              "stroke": {
               "value": "#888"
              },
              "strokeWidth": {
               "value": 0.3
              },
              "tooltip": [
               {
                "field": "club",
                "type": "nominal"
               }
              ],
              "x": {
               "axis": {
                "domain": false,
                "grid": false,
                "labels": false,
                "ticks": false,
                "title": ""
               },
               "field": "x",
               "type": "quantitative"
              },
              "y": {
               "axis": {
                "domain": false,
                "grid": false,
                "labels": false,
                "ticks": false,
                "title": ""
               },
               "field": "y",
               "type": "quantitative"
              }
             },
             "mark": "circle"
            }
           ],
           "resolve": {
            "scale": {
             "color": "independent",
             "fill": "independent",
             "opacity": "independent",
             "size": "independent",
             "strokeWidth": "independent"
            }
           },
           "title": {
            "baseline": "bottom",
            "fontSize": 10,
            "fontWeight": "normal",
            "orient": "bottom",
            "text": "NetworkX spring layout"
           },
           "width": 300
          },
          {
           "height": 300,
           "layer": [
            {
             "data": {
              "name": "data-e3f23e6250a2547063d4eb4c40b84fbc"
             },
             "encoding": {
              "color": {
               "value": "black"
              },
              "detail": {
               "field": "edge",
               "type": "quantitative"
              },
              "opacity": {
               "value": 0.3
              },
              "strokeWidth": {
               "field": "weight",
               "legend": null,
               "scale": {
                "domain": [
                 0,
                 1
                ],
                "range": [
                 0,
                 0.2
                ]
               },
               "type": "quantitative"
              },
              "x": {
               "axis": {
                "domain": false,
                "grid": false,
                "labels": false,
                "ticks": false,
                "title": ""
               },
               "field": "x",
               "type": "quantitative"
              },
              "y": {
               "axis": {
                "domain": false,
                "grid": false,
                "labels": false,
                "ticks": false,
                "title": ""
               },
               "field": "y",
               "type": "quantitative"
              }
             },
             "mark": "line"
            },
            {
             "data": {
              "name": "data-2a2e019ca7cf8d73fb14fa870c3a3692"
             },
             "encoding": {
              "fill": {
               "field": "club",
               "legend": null,
               "type": "nominal"
              },
              "opacity": {
               "value": 1
              },
              "size": {
               "field": "degree_centrality",
               "legend": null,
               "scale": {
                "domain": [
                 0,
                 1
                ],
                "range": [
                 16,
                 256
                ]
               },
               "type": "quantitative"
              },
              "stroke": {
               "value": "#888"
              },
              "strokeWidth": {
               "value": 0.3
              },
              "tooltip": [
               {
                "field": "club",
                "type": "nominal"
               }
              ],
              "x": {
               "axis": {
                "domain": false,
                "grid": false,
                "labels": false,
                "ticks": false,
                "title": ""
               },
               "field": "x",
               "type": "quantitative"
              },
              "y": {
               "axis": {
                "domain": false,
                "grid": false,
                "labels": false,
                "ticks": false,
                "title": ""
               },
               "field": "y",
               "type": "quantitative"
              }
             },
             "mark": "circle"
            }
           ],
           "resolve": {
            "scale": {
             "color": "independent",
             "fill": "independent",
             "opacity": "independent",
             "size": "independent",
             "strokeWidth": "independent"
            }
           },
           "title": {
            "baseline": "bottom",
            "fontSize": 10,
            "fontWeight": "normal",
            "orient": "bottom",
            "text": "NetworkX Fruchterman Reingold layout"
           },
           "width": 300
          },
          {
           "height": 300,
           "layer": [
            {
             "data": {
              "name": "data-cbb996903de13b095cdc6e70d1844d51"
             },
             "encoding": {
              "color": {
               "value": "black"
              },
              "detail": {
               "field": "edge",
               "type": "quantitative"
              },
              "opacity": {
               "value": 0.3
              },
              "strokeWidth": {
               "field": "weight",
               "legend": null,
               "scale": {
                "domain": [
                 0,
                 1
                ],
                "range": [
                 0,
                 0.2
                ]
               },
               "type": "quantitative"
              },
              "x": {
               "axis": {
                "domain": false,
                "grid": false,
                "labels": false,
                "ticks": false,
                "title": ""
               },
               "field": "x",
               "type": "quantitative"
              },
              "y": {
               "axis": {
                "domain": false,
                "grid": false,
                "labels": false,
                "ticks": false,
                "title": ""
               },
               "field": "y",
               "type": "quantitative"
              }
             },
             "mark": "line"
            },
            {
             "data": {
              "name": "data-89a70a53473d4e9b9794a8549d09f139"
             },
             "encoding": {
              "fill": {
               "field": "club",
               "legend": null,
               "type": "nominal"
              },
              "opacity": {
               "value": 1
              },
              "size": {
               "field": "degree_centrality",
               "legend": null,
               "scale": {
                "domain": [
                 0,
                 1
                ],
                "range": [
                 16,
                 256
                ]
               },
               "type": "quantitative"
              },
              "stroke": {
               "value": "#888"
              },
              "strokeWidth": {
               "value": 0.3
              },
              "tooltip": [
               {
                "field": "club",
                "type": "nominal"
               }
              ],
              "x": {
               "axis": {
                "domain": false,
                "grid": false,
                "labels": false,
                "ticks": false,
                "title": ""
               },
               "field": "x",
               "type": "quantitative"
              },
              "y": {
               "axis": {
                "domain": false,
                "grid": false,
                "labels": false,
                "ticks": false,
                "title": ""
               },
               "field": "y",
               "type": "quantitative"
              }
             },
             "mark": "circle"
            }
           ],
           "resolve": {
            "scale": {
             "color": "independent",
             "fill": "independent",
             "opacity": "independent",
             "size": "independent",
             "strokeWidth": "independent"
            }
           },
           "title": {
            "baseline": "bottom",
            "fontSize": 10,
            "fontWeight": "normal",
            "orient": "bottom",
            "text": "scikit-network Force Atlas layout"
           },
           "width": 300
          }
         ]
        },
        {
         "hconcat": [
          {
           "height": 300,
           "layer": [
            {
             "data": {
              "name": "data-b5cd3a720abfea92f4eb4d91a6bdc07f"
             },
             "encoding": {
              "color": {
               "value": "black"
              },
              "detail": {
               "field": "edge",
               "type": "quantitative"
              },
              "opacity": {
               "value": 0.3
              },
              "strokeWidth": {
               "field": "weight",
               "legend": null,
               "scale": {
                "domain": [
                 0,
                 1
                ],
                "range": [
                 0,
                 0.2
                ]
               },
               "type": "quantitative"
              },
              "x": {
               "axis": {
                "domain": false,
                "grid": false,
                "labels": false,
                "ticks": false,
                "title": ""
               },
               "field": "x",
               "type": "quantitative"
              },
              "y": {
               "axis": {
                "domain": false,
                "grid": false,
                "labels": false,
                "ticks": false,
                "title": ""
               },
               "field": "y",
               "type": "quantitative"
              }
             },
             "mark": "line"
            },
            {
             "data": {
              "name": "data-19cd25a2cb1af9f15029b7f687f86521"
             },
             "encoding": {
              "fill": {
               "field": "club",
               "legend": null,
               "type": "nominal"
              },
              "opacity": {
               "value": 1
              },
              "size": {
               "field": "degree_centrality",
               "legend": null,
               "scale": {
                "domain": [
                 0,
                 1
                ],
                "range": [
                 16,
                 256
                ]
               },
               "type": "quantitative"
              },
              "stroke": {
               "value": "#888"
              },
              "strokeWidth": {
               "value": 0.3
              },
              "tooltip": [
               {
                "field": "club",
                "type": "nominal"
               }
              ],
              "x": {
               "axis": {
                "domain": false,
                "grid": false,
                "labels": false,
                "ticks": false,
                "title": ""
               },
               "field": "x",
               "type": "quantitative"
              },
              "y": {
               "axis": {
                "domain": false,
                "grid": false,
                "labels": false,
                "ticks": false,
                "title": ""
               },
               "field": "y",
               "type": "quantitative"
              }
             },
             "mark": "circle"
            }
           ],
           "resolve": {
            "scale": {
             "color": "independent",
             "fill": "independent",
             "opacity": "independent",
             "size": "independent",
             "strokeWidth": "independent"
            }
           },
           "title": {
            "baseline": "bottom",
            "fontSize": 10,
            "fontWeight": "normal",
            "orient": "bottom",
            "text": "ForceAtlas2 (fa2) library layout"
           },
           "width": 300
          },
          {
           "height": 300,
           "layer": [
            {
             "data": {
              "name": "data-59ec161e364aa016830785f8399c1e8a"
             },
             "encoding": {
              "color": {
               "value": "black"
              },
              "detail": {
               "field": "edge",
               "type": "quantitative"
              },
              "opacity": {
               "value": 0.3
              },
              "strokeWidth": {
               "field": "weight",
               "legend": null,
               "scale": {
                "domain": [
                 0,
                 1
                ],
                "range": [
                 0,
                 0.2
                ]
               },
               "type": "quantitative"
              },
              "x": {
               "axis": {
                "domain": false,
                "grid": false,
                "labels": false,
                "ticks": false,
                "title": ""
               },
               "field": "x",
               "type": "quantitative"
              },
              "y": {
               "axis": {
                "domain": false,
                "grid": false,
                "labels": false,
                "ticks": false,
                "title": ""
               },
               "field": "y",
               "type": "quantitative"
              }
             },
             "mark": "line"
            },
            {
             "data": {
              "name": "data-1859e08d4d681f2eea058e26247f564e"
             },
             "encoding": {
              "fill": {
               "field": "club",
               "legend": null,
               "type": "nominal"
              },
              "opacity": {
               "value": 1
              },
              "size": {
               "field": "degree_centrality",
               "legend": null,
               "scale": {
                "domain": [
                 0,
                 1
                ],
                "range": [
                 16,
                 256
                ]
               },
               "type": "quantitative"
              },
              "stroke": {
               "value": "#888"
              },
              "strokeWidth": {
               "value": 0.3
              },
              "tooltip": [
               {
                "field": "club",
                "type": "nominal"
               }
              ],
              "x": {
               "axis": {
                "domain": false,
                "grid": false,
                "labels": false,
                "ticks": false,
                "title": ""
               },
               "field": "x",
               "type": "quantitative"
              },
              "y": {
               "axis": {
                "domain": false,
                "grid": false,
                "labels": false,
                "ticks": false,
                "title": ""
               },
               "field": "y",
               "type": "quantitative"
              }
             },
             "mark": "circle"
            }
           ],
           "resolve": {
            "scale": {
             "color": "independent",
             "fill": "independent",
             "opacity": "independent",
             "size": "independent",
             "strokeWidth": "independent"
            }
           },
           "title": {
            "baseline": "bottom",
            "fontSize": 10,
            "fontWeight": "normal",
            "orient": "bottom",
            "text": "Graphviz dot layout"
           },
           "width": 300
          },
          {
           "height": 300,
           "layer": [
            {
             "data": {
              "name": "data-3421c71d1f82e13ff4e4827f52438cee"
             },
             "encoding": {
              "color": {
               "value": "black"
              },
              "detail": {
               "field": "edge",
               "type": "quantitative"
              },
              "opacity": {
               "value": 0.3
              },
              "strokeWidth": {
               "field": "weight",
               "legend": null,
               "scale": {
                "domain": [
                 0,
                 1
                ],
                "range": [
                 0,
                 0.2
                ]
               },
               "type": "quantitative"
              },
              "x": {
               "axis": {
                "domain": false,
                "grid": false,
                "labels": false,
                "ticks": false,
                "title": ""
               },
               "field": "x",
               "type": "quantitative"
              },
              "y": {
               "axis": {
                "domain": false,
                "grid": false,
                "labels": false,
                "ticks": false,
                "title": ""
               },
               "field": "y",
               "type": "quantitative"
              }
             },
             "mark": "line"
            },
            {
             "data": {
              "name": "data-582eec9189bc878bdf12428f598ec301"
             },
             "encoding": {
              "fill": {
               "field": "club",
               "legend": null,
               "type": "nominal"
              },
              "opacity": {
               "value": 1
              },
              "size": {
               "field": "degree_centrality",
               "legend": null,
               "scale": {
                "domain": [
                 0,
                 1
                ],
                "range": [
                 16,
                 256
                ]
               },
               "type": "quantitative"
              },
              "stroke": {
               "value": "#888"
              },
              "strokeWidth": {
               "value": 0.3
              },
              "tooltip": [
               {
                "field": "club",
                "type": "nominal"
               }
              ],
              "x": {
               "axis": {
                "domain": false,
                "grid": false,
                "labels": false,
                "ticks": false,
                "title": ""
               },
               "field": "x",
               "type": "quantitative"
              },
              "y": {
               "axis": {
                "domain": false,
                "grid": false,
                "labels": false,
                "ticks": false,
                "title": ""
               },
               "field": "y",
               "type": "quantitative"
              }
             },
             "mark": "circle"
            }
           ],
           "resolve": {
            "scale": {
             "color": "independent",
             "fill": "independent",
             "opacity": "independent",
             "size": "independent",
             "strokeWidth": "independent"
            }
           },
           "title": {
            "baseline": "bottom",
            "fontSize": 10,
            "fontWeight": "normal",
            "orient": "bottom",
            "text": "Graphviz neato layout"
           },
           "width": 300
          }
         ]
        }
       ]
      },
      "image/png": "[encoded data removed]",
      "text/plain": [
       "<VegaLite 4 object>\n",
       "\n",
       "If you see this message, it means the renderer has not been properly enabled\n",
       "for the frontend that you are using. For more information, see\n",
       "https://altair-viz.github.io/user_guide/troubleshooting.html\n"
      ]
     },
     "execution_count": 5,
     "metadata": {},
     "output_type": "execute_result"
    }
   ],
   "source": [
    "from functools import reduce\n",
    "\n",
    "cols = 3\n",
    "res = None\n",
    "\n",
    "for row in range((1+len(layout_fns)) // cols):\n",
    "    row_charts = [\n",
    "        chart_for_layout(layout_fns[i], captions[i])\n",
    "        for i in range(row * cols, min((row+1) * cols, len(layout_fns)))\n",
    "    ]\n",
    "    row_chart = reduce(\n",
    "        lambda a, x: a | x, row_charts[1:], row_charts[0]\n",
    "    )\n",
    "\n",
    "    res = row_chart if res is None else res & row_chart\n",
    "\n",
    "res.configure_view(strokeWidth=0)"
   ]
  },
  {
   "cell_type": "code",
   "execution_count": null,
   "metadata": {},
   "outputs": [],
   "source": []
  }
 ],
 "metadata": {
  "kernelspec": {
   "display_name": "Python 3 (ipykernel)",
   "language": "python",
   "name": "python3"
  },
  "language_info": {
   "codemirror_mode": {
    "name": "ipython",
    "version": 3
   },
   "file_extension": ".py",
   "mimetype": "text/x-python",
   "name": "python",
   "nbconvert_exporter": "python",
   "pygments_lexer": "ipython3",
   "version": "3.10.7"
  },
  "vscode": {
   "interpreter": {
    "hash": "121ccb6ef33f050b5231fe1f8644b93952e7f3a79e0892dcb9cd03f1749809c5"
   }
  }
 },
 "nbformat": 4,
 "nbformat_minor": 4
}
