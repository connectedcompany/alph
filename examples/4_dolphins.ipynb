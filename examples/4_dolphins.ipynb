{
 "cells": [
  {
   "cell_type": "markdown",
   "metadata": {},
   "source": [
    "## Styling\n",
    "\n",
    "Bottlenose dolphins are [incredible creatures](https://en.wikipedia.org/wiki/Bottlenose_dolphin#:~:text=.%5B41%5D-,Physiology,-and%20senses%5B).\n",
    "\n",
    "This example uses data from a fascinating study by [Lusseau et al, 2003](https://citeseerx.ist.psu.edu/viewdoc/download?doi=10.1.1.174.3721&rep=rep1&type=pdf). Between 1995 and 2001, a group of dolphins were observed in the beautiful Doubtful Sound, New Zealand. As schools of dolphins were encountered in the fjord, each member was photographed and subsequently identified through their natural markings. This made it possible to determine how often a pair of individuals is likely to be seen together. Lusseau defined social acquaintances in the network as preferred companionships, that is individuals that were seen together more often than expected by chance. He then built a social network with 62 dolphins and 159 undirected ties representing preferred companionships. In the dolphin network, the sex of dolphins was known for all but four individuals from direct observations of genitalia using an underwater camera. \n",
    "\n",
    "The example shows\n",
    "- how to lay out a moderately sized association network\n",
    "- further examples of tweaking appearance attributes (colour, size, labels etc)"
   ]
  },
  {
   "cell_type": "code",
   "execution_count": 2,
   "metadata": {},
   "outputs": [],
   "source": [
    "import sys\n",
    "import altair as alt\n",
    "import networkx as nx\n",
    "\n",
    "\"..\" not in sys.path and sys.path.append(\"..\")\n",
    "from alph import alph, layout, util\n",
    "\n",
    "util.set_altair_renderer()"
   ]
  },
  {
   "cell_type": "markdown",
   "metadata": {},
   "source": [
    "Source:  \n",
    "http://www-personal.umich.edu/~mejn/netdata/\n",
    "\n",
    "https://rpubs.com/pspace/quickR\n",
    "\n",
    "https://www.kaggle.com/datasets/mashazhil/social-network-of-dolphins-in-new-zealand\n",
    "\n",
    "https://citeseerx.ist.psu.edu/viewdoc/download?doi=10.1.1.174.3721&rep=rep1&type=pdf\n",
    "\n",
    "https://users.dimi.uniud.it/~massimo.franceschet/bottlenose/bottlenose.html"
   ]
  },
  {
   "cell_type": "code",
   "execution_count": 3,
   "metadata": {},
   "outputs": [],
   "source": [
    "G = nx.read_gml(\"data/dolphins.gml\", label=\"id\")\n",
    "nx.set_node_attributes(G, nx.degree_centrality(G), \"degree_centrality\")\n",
    "nx.set_node_attributes(G, nx.betweenness_centrality(G), \"betweenness_centrality\")"
   ]
  },
  {
   "cell_type": "code",
   "execution_count": 60,
   "metadata": {},
   "outputs": [
    {
     "data": {
      "application/vnd.vegalite.v4+json": {
       "$schema": "https://vega.github.io/schema/vega-lite/v4.17.0.json",
       "config": {
        "text": {
         "font": "Verdana, Sans"
        },
        "view": {
         "continuousHeight": 300,
         "continuousWidth": 400,
         "stroke": "transparent"
        }
       },
       "datasets": {
        "data-8308d018c9b803950a2cec601e2eae7c": [
         {
          "__node_r": 5.186679028459569,
          "__node_size": 107.60655737704919,
          "__y_label": 260.4770855777611,
          "betweenness_centrality": 0.01908259621374376,
          "degree_centrality": 0.09836065573770492,
          "label": "Beak",
          "sex": "M",
          "x": 384.6483365818861,
          "y": 273.6637646062207
         },
         {
          "__node_r": 5.733136354476177,
          "__node_size": 131.47540983606558,
          "__y_label": 173.25933104281094,
          "betweenness_centrality": 0.21332443553281097,
          "degree_centrality": 0.13114754098360656,
          "label": "Beescratch",
          "sex": "M",
          "x": 612.2176826677946,
          "y": 186.99246739728713
         },
         {
          "__node_r": 4.575415416058765,
          "__node_size": 83.73770491803279,
          "__y_label": 234.34967886159544,
          "betweenness_centrality": 0.00907281243346817,
          "degree_centrality": 0.06557377049180328,
          "label": "Bumper",
          "sex": "M",
          "x": 276.40839083176905,
          "y": 246.9250942776542
         },
         {
          "__node_r": 4.236840765491564,
          "__node_size": 71.80327868852459,
          "__y_label": 311.61817101965323,
          "betweenness_centrality": 0.0023737965131407756,
          "degree_centrality": 0.04918032786885246,
          "label": "CCL",
          "sex": "F",
          "x": 396.7647933000897,
          "y": 323.85501178514477
         },
         {
          "__node_r": 3.4617346168325858,
          "__node_size": 47.9344262295082,
          "__y_label": 444.75882669693374,
          "betweenness_centrality": 0,
          "degree_centrality": 0.01639344262295082,
          "label": "Cross",
          "sex": "M",
          "x": 429.97828390859746,
          "y": 456.2205613137663
         },
         {
          "__node_r": 4.575415416058765,
          "__node_size": 83.73770491803279,
          "__y_label": 35.139535282139086,
          "betweenness_centrality": 0.004380300179480508,
          "degree_centrality": 0.06557377049180328,
          "label": "DN16",
          "sex": "F",
          "x": 706.0661028610668,
          "y": 47.71495069819785
         },
         {
          "__node_r": 5.186679028459569,
          "__node_size": 107.60655737704919,
          "__y_label": 60.102792432570965,
          "betweenness_centrality": 0.029372536747686685,
          "degree_centrality": 0.09836065573770492,
          "label": "DN21",
          "sex": "M",
          "x": 693.3483909122875,
          "y": 73.28947146103053
         },
         {
          "__node_r": 4.890606586803446,
          "__node_size": 95.672131147541,
          "__y_label": 184.25842762074114,
          "betweenness_centrality": 0.11823861926938342,
          "degree_centrality": 0.0819672131147541,
          "label": "DN63",
          "sex": "M",
          "x": 544.458082554685,
          "y": 197.1490342075446
         },
         {
          "__node_r": 5.186679028459569,
          "__node_size": 107.60655737704919,
          "__y_label": 306.54148288462096,
          "betweenness_centrality": 0.022365737598409235,
          "degree_centrality": 0.09836065573770492,
          "label": "Double",
          "sex": "F",
          "x": 413.98147240905143,
          "y": 319.72816191308056
         },
         {
          "__node_r": 5.466739970186925,
          "__node_size": 119.54098360655738,
          "__y_label": 46.96862578897604,
          "betweenness_centrality": 0.020894380361593475,
          "degree_centrality": 0.11475409836065574,
          "label": "Feather",
          "sex": "M",
          "x": 733.4983356496191,
          "y": 60.43536575916297
         },
         {
          "__node_r": 4.890606586803446,
          "__node_size": 95.672131147541,
          "__y_label": 250.9818371517669,
          "betweenness_centrality": 0.016092020911693046,
          "degree_centrality": 0.0819672131147541,
          "label": "Fish",
          "sex": "F",
          "x": 338.0640086310462,
          "y": 263.8724437385704
         },
         {
          "__node_r": 3.4617346168325858,
          "__node_size": 47.9344262295082,
          "__y_label": 442.0417303102726,
          "betweenness_centrality": 0,
          "degree_centrality": 0.01639344262295082,
          "label": "Five",
          "sex": "F",
          "x": 438.5386785374863,
          "y": 453.5034649271052
         },
         {
          "__node_r": 3.4617346168325858,
          "__node_size": 47.9344262295082,
          "__y_label": 370.95990647495256,
          "betweenness_centrality": 0,
          "degree_centrality": 0.01639344262295082,
          "label": "Fork",
          "sex": "M",
          "x": 238.1796613358171,
          "y": 382.42164109178515
         },
         {
          "__node_r": 5.733136354476177,
          "__node_size": 131.47540983606558,
          "__y_label": 62.82690801758115,
          "betweenness_centrality": 0.05284632843869151,
          "degree_centrality": 0.13114754098360656,
          "label": "Gallatin",
          "sex": "M",
          "x": 719.704922521676,
          "y": 76.56004437205732
         },
         {
          "__node_r": 6.693525131686934,
          "__node_size": 179.21311475409837,
          "__y_label": 304.1883274778809,
          "betweenness_centrality": 0.06197200484885411,
          "degree_centrality": 0.19672131147540983,
          "label": "Grin",
          "sex": "F",
          "x": 320.2305125744311,
          "y": 318.88185260956783
         },
         {
          "__node_r": 5.466739970186925,
          "__node_size": 119.54098360655738,
          "__y_label": 350.17038120001195,
          "betweenness_centrality": 0.03329222098223321,
          "degree_centrality": 0.11475409836065574,
          "label": "Haecksel",
          "sex": "M",
          "x": 440.5237922560966,
          "y": 363.6371211701989
         },
         {
          "__node_r": 5.186679028459569,
          "__node_size": 107.60655737704919,
          "__y_label": 320.6269800853396,
          "betweenness_centrality": 0.0033047098620869113,
          "degree_centrality": 0.09836065573770492,
          "label": "Hook",
          "sex": "F",
          "x": 278.1162542475641,
          "y": 333.8136591137992
         },
         {
          "__node_r": 5.98769229473204,
          "__node_size": 143.40983606557376,
          "__y_label": 112.0514066760256,
          "betweenness_centrality": 0.11430016291546972,
          "degree_centrality": 0.14754098360655737,
          "label": "Jet",
          "sex": "M",
          "x": 729.1538346424874,
          "y": 126.03909897075764
         },
         {
          "__node_r": 5.466739970186925,
          "__node_size": 119.54098360655738,
          "__y_label": 391.0236488841828,
          "betweenness_centrality": 0.014854899716954898,
          "degree_centrality": 0.11475409836065574,
          "label": "Jonah",
          "sex": "M",
          "x": 385.1294799104636,
          "y": 404.49038885436977
         },
         {
          "__node_r": 4.575415416058765,
          "__node_size": 83.73770491803279,
          "__y_label": 158.02478606661825,
          "betweenness_centrality": 0.013314394166853183,
          "degree_centrality": 0.06557377049180328,
          "label": "Knit",
          "sex": "M",
          "x": 552.6592993934619,
          "y": 170.60020148267702
         },
         {
          "__node_r": 5.98769229473204,
          "__node_size": 143.40983606557376,
          "__y_label": 287.165781032882,
          "betweenness_centrality": 0.10264573972090968,
          "degree_centrality": 0.14754098360655737,
          "label": "Kringel",
          "sex": "F",
          "x": 366.10788302798164,
          "y": 301.15347332761405
         },
         {
          "__node_r": 5.186679028459569,
          "__node_size": 107.60655737704919,
          "__y_label": 405.60850789962575,
          "betweenness_centrality": 0.012700653930162125,
          "degree_centrality": 0.09836065573770492,
          "label": "MN105",
          "sex": "M",
          "x": 342.0094040402407,
          "y": 418.79518692808534
         },
         {
          "__node_r": 3.4617346168325858,
          "__node_size": 47.9344262295082,
          "__y_label": 113.44386616073166,
          "betweenness_centrality": 0,
          "degree_centrality": 0.01639344262295082,
          "label": "MN23",
          "sex": "M",
          "x": 790.8837143154416,
          "y": 124.90560077756425
         },
         {
          "__node_r": 4.236840765491564,
          "__node_size": 71.80327868852459,
          "__y_label": 369.8532661547945,
          "betweenness_centrality": 0.04218278563875618,
          "degree_centrality": 0.04918032786885246,
          "label": "MN60",
          "sex": "M",
          "x": 462.0844737917888,
          "y": 382.0901069202861
         },
         {
          "__node_r": 5.186679028459569,
          "__node_size": 107.60655737704919,
          "__y_label": 407.0322761451901,
          "betweenness_centrality": 0.007383043489600868,
          "degree_centrality": 0.09836065573770492,
          "label": "MN83",
          "sex": "M",
          "x": 396.52217128620833,
          "y": 420.2189551736497
         },
         {
          "__node_r": 4.236840765491564,
          "__node_size": 71.80327868852459,
          "__y_label": 174.73001875481143,
          "betweenness_centrality": 0.0016441148408361526,
          "degree_centrality": 0.04918032786885246,
          "label": "Mus",
          "sex": "M",
          "x": 701.6405093253268,
          "y": 186.966859520303
         },
         {
          "__node_r": 4.236840765491564,
          "__node_size": 71.80327868852459,
          "__y_label": 186.04726830719108,
          "betweenness_centrality": 0.00436247723132969,
          "degree_centrality": 0.04918032786885246,
          "label": "Notch",
          "sex": "M",
          "x": 684.0300718077585,
          "y": 198.28410907268264
         },
         {
          "__node_r": 4.890606586803446,
          "__node_size": 95.672131147541,
          "__y_label": 176.7895719121036,
          "betweenness_centrality": 0.029236860493157983,
          "degree_centrality": 0.0819672131147541,
          "label": "Number1",
          "sex": "M",
          "x": 664.8524689988824,
          "y": 189.68017849890705
         },
         {
          "__node_r": 4.890606586803446,
          "__node_size": 95.672131147541,
          "__y_label": 226.97230341009418,
          "betweenness_centrality": 0.06675695466395656,
          "degree_centrality": 0.0819672131147541,
          "label": "Oscar",
          "sex": "M",
          "x": 459.02500777588284,
          "y": 239.86290999689763
         },
         {
          "__node_r": 5.98769229473204,
          "__node_size": 143.40983606557376,
          "__y_label": 381.87816239251407,
          "betweenness_centrality": 0.06552928249649563,
          "degree_centrality": 0.14754098360655737,
          "label": "Patchback",
          "sex": "M",
          "x": 331.420733955723,
          "y": 395.8658546872461
         },
         {
          "__node_r": 4.890606586803446,
          "__node_size": 95.672131147541,
          "__y_label": 192.3431295413373,
          "betweenness_centrality": 0.03305046077177225,
          "degree_centrality": 0.0819672131147541,
          "label": "PL",
          "sex": "M",
          "x": 468.5646279450912,
          "y": 205.23373612814075
         },
         {
          "__node_r": 3.4617346168325858,
          "__node_size": 47.9344262295082,
          "__y_label": 127.6240702478546,
          "betweenness_centrality": 0,
          "degree_centrality": 0.01639344262295082,
          "label": "Quasi",
          "sex": "M",
          "x": 786.2125144841348,
          "y": 139.0858048646872
         },
         {
          "__node_r": 4.236840765491564,
          "__node_size": 71.80327868852459,
          "__y_label": 18.02001604606665,
          "betweenness_centrality": 0.03278688524590164,
          "degree_centrality": 0.04918032786885246,
          "label": "Ripplefluke",
          "sex": "U",
          "x": 781.7019332908276,
          "y": 30.256856811558215
         },
         {
          "__node_r": 6.231858917993129,
          "__node_size": 155.344262295082,
          "__y_label": 356.8055571742404,
          "betweenness_centrality": 0.057166440117259784,
          "degree_centrality": 0.1639344262295082,
          "label": "Scabs",
          "sex": "F",
          "x": 254.08060543864957,
          "y": 371.0374160922335
         },
         {
          "__node_r": 4.890606586803446,
          "__node_size": 95.672131147541,
          "__y_label": 316.82569808254453,
          "betweenness_centrality": 0.032694759702956426,
          "degree_centrality": 0.0819672131147541,
          "label": "Shmuddel",
          "sex": "F",
          "x": 209.74311340801037,
          "y": 329.716304669348
         },
         {
          "__node_r": 3.4617346168325858,
          "__node_size": 47.9344262295082,
          "__y_label": 440.5540755105602,
          "betweenness_centrality": 0,
          "degree_centrality": 0.01639344262295082,
          "label": "SMN5",
          "sex": "M",
          "x": 295.846512408399,
          "y": 452.0158101273928
         },
         {
          "__node_r": 5.466739970186925,
          "__node_size": 119.54098360655738,
          "__y_label": 282.29493768772073,
          "betweenness_centrality": 0.24823719602893804,
          "degree_centrality": 0.11475409836065574,
          "label": "SN100",
          "sex": "F",
          "x": 480.64399833977984,
          "y": 295.7616776579077
         },
         {
          "__node_r": 6.466813135629291,
          "__node_size": 167.27868852459017,
          "__y_label": 335.2961572733464,
          "betweenness_centrality": 0.13856978865859435,
          "degree_centrality": 0.18032786885245902,
          "label": "SN4",
          "sex": "F",
          "x": 309.2905688020729,
          "y": 349.7629704089757
         },
         {
          "__node_r": 5.733136354476177,
          "__node_size": 131.47540983606558,
          "__y_label": 294.5446162315842,
          "betweenness_centrality": 0.04535223883584539,
          "degree_centrality": 0.13114754098360656,
          "label": "SN63",
          "sex": "F",
          "x": 229.39085452739462,
          "y": 308.2777525860604
         },
         {
          "__node_r": 3.86874826200337,
          "__node_size": 59.868852459016395,
          "__y_label": 131.03982293613137,
          "betweenness_centrality": 0.070516778539934,
          "degree_centrality": 0.03278688524590164,
          "label": "SN89",
          "sex": "F",
          "x": 604.9541256864359,
          "y": 142.90857119813475
         },
         {
          "__node_r": 5.733136354476177,
          "__node_size": 131.47540983606558,
          "__y_label": 278.23719155839683,
          "betweenness_centrality": 0.1431495183426175,
          "degree_centrality": 0.13114754098360656,
          "label": "SN9",
          "sex": "F",
          "x": 411.91139857376857,
          "y": 291.970327912873
         },
         {
          "__node_r": 4.890606586803446,
          "__node_size": 95.672131147541,
          "__y_label": 97.19372107928535,
          "betweenness_centrality": 0.023251600670186175,
          "degree_centrality": 0.0819672131147541,
          "label": "SN90",
          "sex": "M",
          "x": 670.828446459797,
          "y": 110.0843276660888
         },
         {
          "__node_r": 5.186679028459569,
          "__node_size": 107.60655737704919,
          "__y_label": 228.58645181838028,
          "betweenness_centrality": 0.029157951944837193,
          "degree_centrality": 0.09836065573770492,
          "label": "SN96",
          "sex": "M",
          "x": 361.27843356695905,
          "y": 241.77313084683985
         },
         {
          "__node_r": 5.466739970186925,
          "__node_size": 119.54098360655738,
          "__y_label": 337.0566377795936,
          "betweenness_centrality": 0.06283060442896508,
          "degree_centrality": 0.11475409836065574,
          "label": "Stripes",
          "sex": "F",
          "x": 194.04109246158524,
          "y": 350.52337774978054
         },
         {
          "__node_r": 4.575415416058765,
          "__node_size": 83.73770491803279,
          "__y_label": 262.7486879860781,
          "betweenness_centrality": 0.012037805849281259,
          "degree_centrality": 0.06557377049180328,
          "label": "Thumper",
          "sex": "M",
          "x": 243.65805609268457,
          "y": 275.32410340213687
         },
         {
          "__node_r": 6.466813135629291,
          "__node_size": 167.27868852459017,
          "__y_label": 376.4930700457965,
          "betweenness_centrality": 0.04067044059647018,
          "degree_centrality": 0.18032786885245902,
          "label": "Topless",
          "sex": "M",
          "x": 417.1502041180901,
          "y": 390.9598831814258
         },
         {
          "__node_r": 3.86874826200337,
          "__node_size": 59.868852459016395,
          "__y_label": 341.5037219525297,
          "betweenness_centrality": 0.0030084669428931724,
          "degree_centrality": 0.03278688524590164,
          "label": "TR120",
          "sex": "F",
          "x": 122.76573417734012,
          "y": 353.37247021453305
         },
         {
          "__node_r": 5.186679028459569,
          "__node_size": 107.60655737704919,
          "__y_label": 221.63549890510066,
          "betweenness_centrality": 0.0232014761195089,
          "degree_centrality": 0.09836065573770492,
          "label": "TR77",
          "sex": "F",
          "x": 402.66758841822076,
          "y": 234.82217793356023
         },
         {
          "__node_r": 3.4617346168325858,
          "__node_size": 47.9344262295082,
          "__y_label": 65.54719510238601,
          "betweenness_centrality": 0,
          "degree_centrality": 0.01639344262295082,
          "label": "TR82",
          "sex": "U",
          "x": 651.7508308155518,
          "y": 77.0089297192186
         },
         {
          "__node_r": 3.86874826200337,
          "__node_size": 59.868852459016395,
          "__y_label": 333.9512492597751,
          "betweenness_centrality": 0.0009289617486338798,
          "degree_centrality": 0.03278688524590164,
          "label": "TR88",
          "sex": "F",
          "x": 132.1950797445317,
          "y": 345.8199975217785
         },
         {
          "__node_r": 5.466739970186925,
          "__node_size": 119.54098360655738,
          "__y_label": 332.1394577174332,
          "betweenness_centrality": 0.03341103492742837,
          "degree_centrality": 0.11475409836065574,
          "label": "TR99",
          "sex": "F",
          "x": 354.73590055818636,
          "y": 345.6061976876201
         },
         {
          "__node_r": 6.231858917993129,
          "__node_size": 155.344262295082,
          "__y_label": 424.97481106412334,
          "betweenness_centrality": 0.08467725475022557,
          "degree_centrality": 0.1639344262295082,
          "label": "Trigger",
          "sex": "F",
          "x": 426.042900842828,
          "y": 439.20666998211647
         },
         {
          "__node_r": 4.575415416058765,
          "__node_size": 83.73770491803279,
          "__y_label": 291.7411109551209,
          "betweenness_centrality": 0.0192343448900826,
          "degree_centrality": 0.06557377049180328,
          "label": "TSN103",
          "sex": "F",
          "x": 294.285513487944,
          "y": 304.3165263711797
         },
         {
          "__node_r": 3.86874826200337,
          "__node_size": 59.868852459016395,
          "__y_label": 268.63483792214276,
          "betweenness_centrality": 0.0011930783242258653,
          "degree_centrality": 0.03278688524590164,
          "label": "TSN83",
          "sex": "U",
          "x": 180.36055336214162,
          "y": 280.5035861841461
         },
         {
          "__node_r": 5.466739970186925,
          "__node_size": 119.54098360655738,
          "__y_label": 114.66575724659836,
          "betweenness_centrality": 0.0991216467635194,
          "degree_centrality": 0.11475409836065574,
          "label": "Upbang",
          "sex": "M",
          "x": 623.8458026635187,
          "y": 128.13249721678528
         },
         {
          "__node_r": 3.86874826200337,
          "__node_size": 59.868852459016395,
          "__y_label": 409.2826512985475,
          "betweenness_centrality": 0.0008774695250105086,
          "degree_centrality": 0.03278688524590164,
          "label": "Vau",
          "sex": "F",
          "x": 480.47112221933776,
          "y": 421.15139956055083
         },
         {
          "__node_r": 3.86874826200337,
          "__node_size": 59.868852459016395,
          "__y_label": 19.432734075031576,
          "betweenness_centrality": 0.0001366120218579235,
          "degree_centrality": 0.03278688524590164,
          "label": "Wave",
          "sex": "F",
          "x": 701.731766391181,
          "y": 31.301482337034948
         },
         {
          "__node_r": 5.98769229473204,
          "__node_size": 143.40983606557376,
          "__y_label": 73.90433648501839,
          "betweenness_centrality": 0.08420468343495603,
          "degree_centrality": 0.14754098360655737,
          "label": "Web",
          "sex": "M",
          "x": 661.3191467852586,
          "y": 87.89202877975043
         },
         {
          "__node_r": 3.4617346168325858,
          "__node_size": 47.9344262295082,
          "__y_label": 283.7550218397132,
          "betweenness_centrality": 0,
          "degree_centrality": 0.01639344262295082,
          "label": "Whitetip",
          "sex": "F",
          "x": 157.5824843160945,
          "y": 295.2167564565458
         },
         {
          "__node_r": 4.890606586803446,
          "__node_size": 95.672131147541,
          "__y_label": 319.7891341128474,
          "betweenness_centrality": 0.020332774690384588,
          "degree_centrality": 0.0819672131147541,
          "label": "Zap",
          "sex": "U",
          "x": 448.33991534863117,
          "y": 332.6797406996509
         },
         {
          "__node_r": 3.4617346168325858,
          "__node_size": 47.9344262295082,
          "__y_label": 5.848626591336842,
          "betweenness_centrality": 0,
          "degree_centrality": 0.01639344262295082,
          "label": "Zig",
          "sex": "M",
          "x": 800,
          "y": 17.31036120816943
         },
         {
          "__node_r": 4.236840765491564,
          "__node_size": 71.80327868852459,
          "__y_label": 253.7848753730334,
          "betweenness_centrality": 0.014194982613015397,
          "degree_centrality": 0.04918032786885246,
          "label": "Zipfel",
          "sex": "M",
          "x": 208.66279967359236,
          "y": 266.021716138525
         }
        ],
        "data-9daa32e211765fac853e6f4d84075ab1": [
         {
          "edge": 0,
          "pair": [
           0,
           10
          ],
          "source": 0,
          "target": 10,
          "x": 384.6483365818861,
          "y": 273.6637646062207
         },
         {
          "edge": 0,
          "pair": [
           0,
           10
          ],
          "source": 0,
          "target": 10,
          "x": 338.0640086310462,
          "y": 263.8724437385704
         },
         {
          "edge": 1,
          "pair": [
           0,
           14
          ],
          "source": 0,
          "target": 14,
          "x": 384.6483365818861,
          "y": 273.6637646062207
         },
         {
          "edge": 1,
          "pair": [
           0,
           14
          ],
          "source": 0,
          "target": 14,
          "x": 320.2305125744311,
          "y": 318.88185260956783
         },
         {
          "edge": 2,
          "pair": [
           0,
           15
          ],
          "source": 0,
          "target": 15,
          "x": 384.6483365818861,
          "y": 273.6637646062207
         },
         {
          "edge": 2,
          "pair": [
           0,
           15
          ],
          "source": 0,
          "target": 15,
          "x": 440.5237922560966,
          "y": 363.6371211701989
         },
         {
          "edge": 3,
          "pair": [
           0,
           40
          ],
          "source": 0,
          "target": 40,
          "x": 384.6483365818861,
          "y": 273.6637646062207
         },
         {
          "edge": 3,
          "pair": [
           0,
           40
          ],
          "source": 0,
          "target": 40,
          "x": 411.91139857376857,
          "y": 291.970327912873
         },
         {
          "edge": 4,
          "pair": [
           0,
           42
          ],
          "source": 0,
          "target": 42,
          "x": 384.6483365818861,
          "y": 273.6637646062207
         },
         {
          "edge": 4,
          "pair": [
           0,
           42
          ],
          "source": 0,
          "target": 42,
          "x": 361.27843356695905,
          "y": 241.77313084683985
         },
         {
          "edge": 5,
          "pair": [
           0,
           47
          ],
          "source": 0,
          "target": 47,
          "x": 384.6483365818861,
          "y": 273.6637646062207
         },
         {
          "edge": 5,
          "pair": [
           0,
           47
          ],
          "source": 0,
          "target": 47,
          "x": 402.66758841822076,
          "y": 234.82217793356023
         },
         {
          "edge": 6,
          "pair": [
           1,
           17
          ],
          "source": 1,
          "target": 17,
          "x": 612.2176826677946,
          "y": 186.99246739728713
         },
         {
          "edge": 6,
          "pair": [
           1,
           17
          ],
          "source": 1,
          "target": 17,
          "x": 729.1538346424874,
          "y": 126.03909897075764
         },
         {
          "edge": 7,
          "pair": [
           1,
           19
          ],
          "source": 1,
          "target": 19,
          "x": 612.2176826677946,
          "y": 186.99246739728713
         },
         {
          "edge": 7,
          "pair": [
           1,
           19
          ],
          "source": 1,
          "target": 19,
          "x": 552.6592993934619,
          "y": 170.60020148267702
         },
         {
          "edge": 8,
          "pair": [
           1,
           26
          ],
          "source": 1,
          "target": 26,
          "x": 612.2176826677946,
          "y": 186.99246739728713
         },
         {
          "edge": 8,
          "pair": [
           1,
           26
          ],
          "source": 1,
          "target": 26,
          "x": 684.0300718077585,
          "y": 198.28410907268264
         },
         {
          "edge": 9,
          "pair": [
           1,
           27
          ],
          "source": 1,
          "target": 27,
          "x": 612.2176826677946,
          "y": 186.99246739728713
         },
         {
          "edge": 9,
          "pair": [
           1,
           27
          ],
          "source": 1,
          "target": 27,
          "x": 664.8524689988824,
          "y": 189.68017849890705
         },
         {
          "edge": 10,
          "pair": [
           1,
           28
          ],
          "source": 1,
          "target": 28,
          "x": 612.2176826677946,
          "y": 186.99246739728713
         },
         {
          "edge": 10,
          "pair": [
           1,
           28
          ],
          "source": 1,
          "target": 28,
          "x": 459.02500777588284,
          "y": 239.86290999689763
         },
         {
          "edge": 11,
          "pair": [
           1,
           36
          ],
          "source": 1,
          "target": 36,
          "x": 612.2176826677946,
          "y": 186.99246739728713
         },
         {
          "edge": 11,
          "pair": [
           1,
           36
          ],
          "source": 1,
          "target": 36,
          "x": 480.64399833977984,
          "y": 295.7616776579077
         },
         {
          "edge": 12,
          "pair": [
           1,
           41
          ],
          "source": 1,
          "target": 41,
          "x": 612.2176826677946,
          "y": 186.99246739728713
         },
         {
          "edge": 12,
          "pair": [
           1,
           41
          ],
          "source": 1,
          "target": 41,
          "x": 670.828446459797,
          "y": 110.0843276660888
         },
         {
          "edge": 13,
          "pair": [
           1,
           54
          ],
          "source": 1,
          "target": 54,
          "x": 612.2176826677946,
          "y": 186.99246739728713
         },
         {
          "edge": 13,
          "pair": [
           1,
           54
          ],
          "source": 1,
          "target": 54,
          "x": 623.8458026635187,
          "y": 128.13249721678528
         },
         {
          "edge": 14,
          "pair": [
           2,
           10
          ],
          "source": 2,
          "target": 10,
          "x": 276.40839083176905,
          "y": 246.9250942776542
         },
         {
          "edge": 14,
          "pair": [
           2,
           10
          ],
          "source": 2,
          "target": 10,
          "x": 338.0640086310462,
          "y": 263.8724437385704
         },
         {
          "edge": 15,
          "pair": [
           2,
           42
          ],
          "source": 2,
          "target": 42,
          "x": 276.40839083176905,
          "y": 246.9250942776542
         },
         {
          "edge": 15,
          "pair": [
           2,
           42
          ],
          "source": 2,
          "target": 42,
          "x": 361.27843356695905,
          "y": 241.77313084683985
         },
         {
          "edge": 16,
          "pair": [
           2,
           44
          ],
          "source": 2,
          "target": 44,
          "x": 276.40839083176905,
          "y": 246.9250942776542
         },
         {
          "edge": 16,
          "pair": [
           2,
           44
          ],
          "source": 2,
          "target": 44,
          "x": 243.65805609268457,
          "y": 275.32410340213687
         },
         {
          "edge": 17,
          "pair": [
           2,
           61
          ],
          "source": 2,
          "target": 61,
          "x": 276.40839083176905,
          "y": 246.9250942776542
         },
         {
          "edge": 17,
          "pair": [
           2,
           61
          ],
          "source": 2,
          "target": 61,
          "x": 208.66279967359236,
          "y": 266.021716138525
         },
         {
          "edge": 18,
          "pair": [
           3,
           8
          ],
          "source": 3,
          "target": 8,
          "x": 396.7647933000897,
          "y": 323.85501178514477
         },
         {
          "edge": 18,
          "pair": [
           3,
           8
          ],
          "source": 3,
          "target": 8,
          "x": 413.98147240905143,
          "y": 319.72816191308056
         },
         {
          "edge": 19,
          "pair": [
           3,
           14
          ],
          "source": 3,
          "target": 14,
          "x": 396.7647933000897,
          "y": 323.85501178514477
         },
         {
          "edge": 19,
          "pair": [
           3,
           14
          ],
          "source": 3,
          "target": 14,
          "x": 320.2305125744311,
          "y": 318.88185260956783
         },
         {
          "edge": 20,
          "pair": [
           3,
           59
          ],
          "source": 3,
          "target": 59,
          "x": 396.7647933000897,
          "y": 323.85501178514477
         },
         {
          "edge": 20,
          "pair": [
           3,
           59
          ],
          "source": 3,
          "target": 59,
          "x": 448.33991534863117,
          "y": 332.6797406996509
         },
         {
          "edge": 21,
          "pair": [
           4,
           51
          ],
          "source": 4,
          "target": 51,
          "x": 429.97828390859746,
          "y": 456.2205613137663
         },
         {
          "edge": 21,
          "pair": [
           4,
           51
          ],
          "source": 4,
          "target": 51,
          "x": 426.042900842828,
          "y": 439.20666998211647
         },
         {
          "edge": 22,
          "pair": [
           5,
           9
          ],
          "source": 5,
          "target": 9,
          "x": 706.0661028610668,
          "y": 47.71495069819785
         },
         {
          "edge": 22,
          "pair": [
           5,
           9
          ],
          "source": 5,
          "target": 9,
          "x": 733.4983356496191,
          "y": 60.43536575916297
         },
         {
          "edge": 23,
          "pair": [
           5,
           13
          ],
          "source": 5,
          "target": 13,
          "x": 706.0661028610668,
          "y": 47.71495069819785
         },
         {
          "edge": 23,
          "pair": [
           5,
           13
          ],
          "source": 5,
          "target": 13,
          "x": 719.704922521676,
          "y": 76.56004437205732
         },
         {
          "edge": 24,
          "pair": [
           5,
           56
          ],
          "source": 5,
          "target": 56,
          "x": 706.0661028610668,
          "y": 47.71495069819785
         },
         {
          "edge": 24,
          "pair": [
           5,
           56
          ],
          "source": 5,
          "target": 56,
          "x": 701.731766391181,
          "y": 31.301482337034948
         },
         {
          "edge": 25,
          "pair": [
           5,
           57
          ],
          "source": 5,
          "target": 57,
          "x": 706.0661028610668,
          "y": 47.71495069819785
         },
         {
          "edge": 25,
          "pair": [
           5,
           57
          ],
          "source": 5,
          "target": 57,
          "x": 661.3191467852586,
          "y": 87.89202877975043
         },
         {
          "edge": 26,
          "pair": [
           6,
           9
          ],
          "source": 6,
          "target": 9,
          "x": 693.3483909122875,
          "y": 73.28947146103053
         },
         {
          "edge": 26,
          "pair": [
           6,
           9
          ],
          "source": 6,
          "target": 9,
          "x": 733.4983356496191,
          "y": 60.43536575916297
         },
         {
          "edge": 27,
          "pair": [
           6,
           13
          ],
          "source": 6,
          "target": 13,
          "x": 693.3483909122875,
          "y": 73.28947146103053
         },
         {
          "edge": 27,
          "pair": [
           6,
           13
          ],
          "source": 6,
          "target": 13,
          "x": 719.704922521676,
          "y": 76.56004437205732
         },
         {
          "edge": 28,
          "pair": [
           6,
           17
          ],
          "source": 6,
          "target": 17,
          "x": 693.3483909122875,
          "y": 73.28947146103053
         },
         {
          "edge": 28,
          "pair": [
           6,
           17
          ],
          "source": 6,
          "target": 17,
          "x": 729.1538346424874,
          "y": 126.03909897075764
         },
         {
          "edge": 29,
          "pair": [
           6,
           54
          ],
          "source": 6,
          "target": 54,
          "x": 693.3483909122875,
          "y": 73.28947146103053
         },
         {
          "edge": 29,
          "pair": [
           6,
           54
          ],
          "source": 6,
          "target": 54,
          "x": 623.8458026635187,
          "y": 128.13249721678528
         },
         {
          "edge": 30,
          "pair": [
           6,
           56
          ],
          "source": 6,
          "target": 56,
          "x": 693.3483909122875,
          "y": 73.28947146103053
         },
         {
          "edge": 30,
          "pair": [
           6,
           56
          ],
          "source": 6,
          "target": 56,
          "x": 701.731766391181,
          "y": 31.301482337034948
         },
         {
          "edge": 31,
          "pair": [
           6,
           57
          ],
          "source": 6,
          "target": 57,
          "x": 693.3483909122875,
          "y": 73.28947146103053
         },
         {
          "edge": 31,
          "pair": [
           6,
           57
          ],
          "source": 6,
          "target": 57,
          "x": 661.3191467852586,
          "y": 87.89202877975043
         },
         {
          "edge": 32,
          "pair": [
           7,
           19
          ],
          "source": 7,
          "target": 19,
          "x": 544.458082554685,
          "y": 197.1490342075446
         },
         {
          "edge": 32,
          "pair": [
           7,
           19
          ],
          "source": 7,
          "target": 19,
          "x": 552.6592993934619,
          "y": 170.60020148267702
         },
         {
          "edge": 33,
          "pair": [
           7,
           27
          ],
          "source": 7,
          "target": 27,
          "x": 544.458082554685,
          "y": 197.1490342075446
         },
         {
          "edge": 33,
          "pair": [
           7,
           27
          ],
          "source": 7,
          "target": 27,
          "x": 664.8524689988824,
          "y": 189.68017849890705
         },
         {
          "edge": 34,
          "pair": [
           7,
           30
          ],
          "source": 7,
          "target": 30,
          "x": 544.458082554685,
          "y": 197.1490342075446
         },
         {
          "edge": 34,
          "pair": [
           7,
           30
          ],
          "source": 7,
          "target": 30,
          "x": 468.5646279450912,
          "y": 205.23373612814075
         },
         {
          "edge": 35,
          "pair": [
           7,
           40
          ],
          "source": 7,
          "target": 40,
          "x": 544.458082554685,
          "y": 197.1490342075446
         },
         {
          "edge": 35,
          "pair": [
           7,
           40
          ],
          "source": 7,
          "target": 40,
          "x": 411.91139857376857,
          "y": 291.970327912873
         },
         {
          "edge": 36,
          "pair": [
           7,
           54
          ],
          "source": 7,
          "target": 54,
          "x": 544.458082554685,
          "y": 197.1490342075446
         },
         {
          "edge": 36,
          "pair": [
           7,
           54
          ],
          "source": 7,
          "target": 54,
          "x": 623.8458026635187,
          "y": 128.13249721678528
         },
         {
          "edge": 37,
          "pair": [
           8,
           20
          ],
          "source": 8,
          "target": 20,
          "x": 413.98147240905143,
          "y": 319.72816191308056
         },
         {
          "edge": 37,
          "pair": [
           8,
           20
          ],
          "source": 8,
          "target": 20,
          "x": 366.10788302798164,
          "y": 301.15347332761405
         },
         {
          "edge": 38,
          "pair": [
           8,
           28
          ],
          "source": 8,
          "target": 28,
          "x": 413.98147240905143,
          "y": 319.72816191308056
         },
         {
          "edge": 38,
          "pair": [
           8,
           28
          ],
          "source": 8,
          "target": 28,
          "x": 459.02500777588284,
          "y": 239.86290999689763
         },
         {
          "edge": 39,
          "pair": [
           8,
           37
          ],
          "source": 8,
          "target": 37,
          "x": 413.98147240905143,
          "y": 319.72816191308056
         },
         {
          "edge": 39,
          "pair": [
           8,
           37
          ],
          "source": 8,
          "target": 37,
          "x": 309.2905688020729,
          "y": 349.7629704089757
         },
         {
          "edge": 40,
          "pair": [
           8,
           45
          ],
          "source": 8,
          "target": 45,
          "x": 413.98147240905143,
          "y": 319.72816191308056
         },
         {
          "edge": 40,
          "pair": [
           8,
           45
          ],
          "source": 8,
          "target": 45,
          "x": 417.1502041180901,
          "y": 390.9598831814258
         },
         {
          "edge": 41,
          "pair": [
           8,
           59
          ],
          "source": 8,
          "target": 59,
          "x": 413.98147240905143,
          "y": 319.72816191308056
         },
         {
          "edge": 41,
          "pair": [
           8,
           59
          ],
          "source": 8,
          "target": 59,
          "x": 448.33991534863117,
          "y": 332.6797406996509
         },
         {
          "edge": 42,
          "pair": [
           9,
           13
          ],
          "source": 9,
          "target": 13,
          "x": 733.4983356496191,
          "y": 60.43536575916297
         },
         {
          "edge": 42,
          "pair": [
           9,
           13
          ],
          "source": 9,
          "target": 13,
          "x": 719.704922521676,
          "y": 76.56004437205732
         },
         {
          "edge": 43,
          "pair": [
           9,
           17
          ],
          "source": 9,
          "target": 17,
          "x": 733.4983356496191,
          "y": 60.43536575916297
         },
         {
          "edge": 43,
          "pair": [
           9,
           17
          ],
          "source": 9,
          "target": 17,
          "x": 729.1538346424874,
          "y": 126.03909897075764
         },
         {
          "edge": 44,
          "pair": [
           9,
           32
          ],
          "source": 9,
          "target": 32,
          "x": 733.4983356496191,
          "y": 60.43536575916297
         },
         {
          "edge": 44,
          "pair": [
           9,
           32
          ],
          "source": 9,
          "target": 32,
          "x": 781.7019332908276,
          "y": 30.256856811558215
         },
         {
          "edge": 45,
          "pair": [
           9,
           41
          ],
          "source": 9,
          "target": 41,
          "x": 733.4983356496191,
          "y": 60.43536575916297
         },
         {
          "edge": 45,
          "pair": [
           9,
           41
          ],
          "source": 9,
          "target": 41,
          "x": 670.828446459797,
          "y": 110.0843276660888
         },
         {
          "edge": 46,
          "pair": [
           9,
           57
          ],
          "source": 9,
          "target": 57,
          "x": 733.4983356496191,
          "y": 60.43536575916297
         },
         {
          "edge": 46,
          "pair": [
           9,
           57
          ],
          "source": 9,
          "target": 57,
          "x": 661.3191467852586,
          "y": 87.89202877975043
         },
         {
          "edge": 47,
          "pair": [
           10,
           29
          ],
          "source": 10,
          "target": 29,
          "x": 338.0640086310462,
          "y": 263.8724437385704
         },
         {
          "edge": 47,
          "pair": [
           10,
           29
          ],
          "source": 10,
          "target": 29,
          "x": 331.420733955723,
          "y": 395.8658546872461
         },
         {
          "edge": 48,
          "pair": [
           10,
           42
          ],
          "source": 10,
          "target": 42,
          "x": 338.0640086310462,
          "y": 263.8724437385704
         },
         {
          "edge": 48,
          "pair": [
           10,
           42
          ],
          "source": 10,
          "target": 42,
          "x": 361.27843356695905,
          "y": 241.77313084683985
         },
         {
          "edge": 49,
          "pair": [
           10,
           47
          ],
          "source": 10,
          "target": 47,
          "x": 338.0640086310462,
          "y": 263.8724437385704
         },
         {
          "edge": 49,
          "pair": [
           10,
           47
          ],
          "source": 10,
          "target": 47,
          "x": 402.66758841822076,
          "y": 234.82217793356023
         },
         {
          "edge": 50,
          "pair": [
           11,
           51
          ],
          "source": 11,
          "target": 51,
          "x": 438.5386785374863,
          "y": 453.5034649271052
         },
         {
          "edge": 50,
          "pair": [
           11,
           51
          ],
          "source": 11,
          "target": 51,
          "x": 426.042900842828,
          "y": 439.20666998211647
         },
         {
          "edge": 51,
          "pair": [
           12,
           33
          ],
          "source": 12,
          "target": 33,
          "x": 238.1796613358171,
          "y": 382.42164109178515
         },
         {
          "edge": 51,
          "pair": [
           12,
           33
          ],
          "source": 12,
          "target": 33,
          "x": 254.08060543864957,
          "y": 371.0374160922335
         },
         {
          "edge": 52,
          "pair": [
           13,
           17
          ],
          "source": 13,
          "target": 17,
          "x": 719.704922521676,
          "y": 76.56004437205732
         },
         {
          "edge": 52,
          "pair": [
           13,
           17
          ],
          "source": 13,
          "target": 17,
          "x": 729.1538346424874,
          "y": 126.03909897075764
         },
         {
          "edge": 53,
          "pair": [
           13,
           32
          ],
          "source": 13,
          "target": 32,
          "x": 719.704922521676,
          "y": 76.56004437205732
         },
         {
          "edge": 53,
          "pair": [
           13,
           32
          ],
          "source": 13,
          "target": 32,
          "x": 781.7019332908276,
          "y": 30.256856811558215
         },
         {
          "edge": 54,
          "pair": [
           13,
           41
          ],
          "source": 13,
          "target": 41,
          "x": 719.704922521676,
          "y": 76.56004437205732
         },
         {
          "edge": 54,
          "pair": [
           13,
           41
          ],
          "source": 13,
          "target": 41,
          "x": 670.828446459797,
          "y": 110.0843276660888
         },
         {
          "edge": 55,
          "pair": [
           13,
           54
          ],
          "source": 13,
          "target": 54,
          "x": 719.704922521676,
          "y": 76.56004437205732
         },
         {
          "edge": 55,
          "pair": [
           13,
           54
          ],
          "source": 13,
          "target": 54,
          "x": 623.8458026635187,
          "y": 128.13249721678528
         },
         {
          "edge": 56,
          "pair": [
           13,
           57
          ],
          "source": 13,
          "target": 57,
          "x": 719.704922521676,
          "y": 76.56004437205732
         },
         {
          "edge": 56,
          "pair": [
           13,
           57
          ],
          "source": 13,
          "target": 57,
          "x": 661.3191467852586,
          "y": 87.89202877975043
         },
         {
          "edge": 57,
          "pair": [
           14,
           16
          ],
          "source": 14,
          "target": 16,
          "x": 320.2305125744311,
          "y": 318.88185260956783
         },
         {
          "edge": 57,
          "pair": [
           14,
           16
          ],
          "source": 14,
          "target": 16,
          "x": 278.1162542475641,
          "y": 333.8136591137992
         },
         {
          "edge": 58,
          "pair": [
           14,
           24
          ],
          "source": 14,
          "target": 24,
          "x": 320.2305125744311,
          "y": 318.88185260956783
         },
         {
          "edge": 58,
          "pair": [
           14,
           24
          ],
          "source": 14,
          "target": 24,
          "x": 396.52217128620833,
          "y": 420.2189551736497
         },
         {
          "edge": 59,
          "pair": [
           14,
           33
          ],
          "source": 14,
          "target": 33,
          "x": 320.2305125744311,
          "y": 318.88185260956783
         },
         {
          "edge": 59,
          "pair": [
           14,
           33
          ],
          "source": 14,
          "target": 33,
          "x": 254.08060543864957,
          "y": 371.0374160922335
         },
         {
          "edge": 60,
          "pair": [
           14,
           34
          ],
          "source": 14,
          "target": 34,
          "x": 320.2305125744311,
          "y": 318.88185260956783
         },
         {
          "edge": 60,
          "pair": [
           14,
           34
          ],
          "source": 14,
          "target": 34,
          "x": 209.74311340801037,
          "y": 329.716304669348
         },
         {
          "edge": 61,
          "pair": [
           14,
           37
          ],
          "source": 14,
          "target": 37,
          "x": 320.2305125744311,
          "y": 318.88185260956783
         },
         {
          "edge": 61,
          "pair": [
           14,
           37
          ],
          "source": 14,
          "target": 37,
          "x": 309.2905688020729,
          "y": 349.7629704089757
         },
         {
          "edge": 62,
          "pair": [
           14,
           38
          ],
          "source": 14,
          "target": 38,
          "x": 320.2305125744311,
          "y": 318.88185260956783
         },
         {
          "edge": 62,
          "pair": [
           14,
           38
          ],
          "source": 14,
          "target": 38,
          "x": 229.39085452739462,
          "y": 308.2777525860604
         },
         {
          "edge": 63,
          "pair": [
           14,
           40
          ],
          "source": 14,
          "target": 40,
          "x": 320.2305125744311,
          "y": 318.88185260956783
         },
         {
          "edge": 63,
          "pair": [
           14,
           40
          ],
          "source": 14,
          "target": 40,
          "x": 411.91139857376857,
          "y": 291.970327912873
         },
         {
          "edge": 64,
          "pair": [
           14,
           43
          ],
          "source": 14,
          "target": 43,
          "x": 320.2305125744311,
          "y": 318.88185260956783
         },
         {
          "edge": 64,
          "pair": [
           14,
           43
          ],
          "source": 14,
          "target": 43,
          "x": 194.04109246158524,
          "y": 350.52337774978054
         },
         {
          "edge": 65,
          "pair": [
           14,
           50
          ],
          "source": 14,
          "target": 50,
          "x": 320.2305125744311,
          "y": 318.88185260956783
         },
         {
          "edge": 65,
          "pair": [
           14,
           50
          ],
          "source": 14,
          "target": 50,
          "x": 354.73590055818636,
          "y": 345.6061976876201
         },
         {
          "edge": 66,
          "pair": [
           14,
           52
          ],
          "source": 14,
          "target": 52,
          "x": 320.2305125744311,
          "y": 318.88185260956783
         },
         {
          "edge": 66,
          "pair": [
           14,
           52
          ],
          "source": 14,
          "target": 52,
          "x": 294.285513487944,
          "y": 304.3165263711797
         },
         {
          "edge": 67,
          "pair": [
           15,
           18
          ],
          "source": 15,
          "target": 18,
          "x": 440.5237922560966,
          "y": 363.6371211701989
         },
         {
          "edge": 67,
          "pair": [
           15,
           18
          ],
          "source": 15,
          "target": 18,
          "x": 385.1294799104636,
          "y": 404.49038885436977
         },
         {
          "edge": 68,
          "pair": [
           15,
           24
          ],
          "source": 15,
          "target": 24,
          "x": 440.5237922560966,
          "y": 363.6371211701989
         },
         {
          "edge": 68,
          "pair": [
           15,
           24
          ],
          "source": 15,
          "target": 24,
          "x": 396.52217128620833,
          "y": 420.2189551736497
         },
         {
          "edge": 69,
          "pair": [
           15,
           40
          ],
          "source": 15,
          "target": 40,
          "x": 440.5237922560966,
          "y": 363.6371211701989
         },
         {
          "edge": 69,
          "pair": [
           15,
           40
          ],
          "source": 15,
          "target": 40,
          "x": 411.91139857376857,
          "y": 291.970327912873
         },
         {
          "edge": 70,
          "pair": [
           15,
           45
          ],
          "source": 15,
          "target": 45,
          "x": 440.5237922560966,
          "y": 363.6371211701989
         },
         {
          "edge": 70,
          "pair": [
           15,
           45
          ],
          "source": 15,
          "target": 45,
          "x": 417.1502041180901,
          "y": 390.9598831814258
         },
         {
          "edge": 71,
          "pair": [
           15,
           55
          ],
          "source": 15,
          "target": 55,
          "x": 440.5237922560966,
          "y": 363.6371211701989
         },
         {
          "edge": 71,
          "pair": [
           15,
           55
          ],
          "source": 15,
          "target": 55,
          "x": 480.47112221933776,
          "y": 421.15139956055083
         },
         {
          "edge": 72,
          "pair": [
           15,
           59
          ],
          "source": 15,
          "target": 59,
          "x": 440.5237922560966,
          "y": 363.6371211701989
         },
         {
          "edge": 72,
          "pair": [
           15,
           59
          ],
          "source": 15,
          "target": 59,
          "x": 448.33991534863117,
          "y": 332.6797406996509
         },
         {
          "edge": 73,
          "pair": [
           16,
           20
          ],
          "source": 16,
          "target": 20,
          "x": 278.1162542475641,
          "y": 333.8136591137992
         },
         {
          "edge": 73,
          "pair": [
           16,
           20
          ],
          "source": 16,
          "target": 20,
          "x": 366.10788302798164,
          "y": 301.15347332761405
         },
         {
          "edge": 74,
          "pair": [
           16,
           33
          ],
          "source": 16,
          "target": 33,
          "x": 278.1162542475641,
          "y": 333.8136591137992
         },
         {
          "edge": 74,
          "pair": [
           16,
           33
          ],
          "source": 16,
          "target": 33,
          "x": 254.08060543864957,
          "y": 371.0374160922335
         },
         {
          "edge": 75,
          "pair": [
           16,
           37
          ],
          "source": 16,
          "target": 37,
          "x": 278.1162542475641,
          "y": 333.8136591137992
         },
         {
          "edge": 75,
          "pair": [
           16,
           37
          ],
          "source": 16,
          "target": 37,
          "x": 309.2905688020729,
          "y": 349.7629704089757
         },
         {
          "edge": 76,
          "pair": [
           16,
           38
          ],
          "source": 16,
          "target": 38,
          "x": 278.1162542475641,
          "y": 333.8136591137992
         },
         {
          "edge": 76,
          "pair": [
           16,
           38
          ],
          "source": 16,
          "target": 38,
          "x": 229.39085452739462,
          "y": 308.2777525860604
         },
         {
          "edge": 77,
          "pair": [
           16,
           50
          ],
          "source": 16,
          "target": 50,
          "x": 278.1162542475641,
          "y": 333.8136591137992
         },
         {
          "edge": 77,
          "pair": [
           16,
           50
          ],
          "source": 16,
          "target": 50,
          "x": 354.73590055818636,
          "y": 345.6061976876201
         },
         {
          "edge": 78,
          "pair": [
           17,
           22
          ],
          "source": 17,
          "target": 22,
          "x": 729.1538346424874,
          "y": 126.03909897075764
         },
         {
          "edge": 78,
          "pair": [
           17,
           22
          ],
          "source": 17,
          "target": 22,
          "x": 790.8837143154416,
          "y": 124.90560077756425
         },
         {
          "edge": 79,
          "pair": [
           17,
           25
          ],
          "source": 17,
          "target": 25,
          "x": 729.1538346424874,
          "y": 126.03909897075764
         },
         {
          "edge": 79,
          "pair": [
           17,
           25
          ],
          "source": 17,
          "target": 25,
          "x": 701.6405093253268,
          "y": 186.966859520303
         },
         {
          "edge": 80,
          "pair": [
           17,
           27
          ],
          "source": 17,
          "target": 27,
          "x": 729.1538346424874,
          "y": 126.03909897075764
         },
         {
          "edge": 80,
          "pair": [
           17,
           27
          ],
          "source": 17,
          "target": 27,
          "x": 664.8524689988824,
          "y": 189.68017849890705
         },
         {
          "edge": 81,
          "pair": [
           17,
           31
          ],
          "source": 17,
          "target": 31,
          "x": 729.1538346424874,
          "y": 126.03909897075764
         },
         {
          "edge": 81,
          "pair": [
           17,
           31
          ],
          "source": 17,
          "target": 31,
          "x": 786.2125144841348,
          "y": 139.0858048646872
         },
         {
          "edge": 82,
          "pair": [
           17,
           57
          ],
          "source": 17,
          "target": 57,
          "x": 729.1538346424874,
          "y": 126.03909897075764
         },
         {
          "edge": 82,
          "pair": [
           17,
           57
          ],
          "source": 17,
          "target": 57,
          "x": 661.3191467852586,
          "y": 87.89202877975043
         },
         {
          "edge": 83,
          "pair": [
           18,
           20
          ],
          "source": 18,
          "target": 20,
          "x": 385.1294799104636,
          "y": 404.49038885436977
         },
         {
          "edge": 83,
          "pair": [
           18,
           20
          ],
          "source": 18,
          "target": 20,
          "x": 366.10788302798164,
          "y": 301.15347332761405
         },
         {
          "edge": 84,
          "pair": [
           18,
           21
          ],
          "source": 18,
          "target": 21,
          "x": 385.1294799104636,
          "y": 404.49038885436977
         },
         {
          "edge": 84,
          "pair": [
           18,
           21
          ],
          "source": 18,
          "target": 21,
          "x": 342.0094040402407,
          "y": 418.79518692808534
         },
         {
          "edge": 85,
          "pair": [
           18,
           24
          ],
          "source": 18,
          "target": 24,
          "x": 385.1294799104636,
          "y": 404.49038885436977
         },
         {
          "edge": 85,
          "pair": [
           18,
           24
          ],
          "source": 18,
          "target": 24,
          "x": 396.52217128620833,
          "y": 420.2189551736497
         },
         {
          "edge": 86,
          "pair": [
           18,
           29
          ],
          "source": 18,
          "target": 29,
          "x": 385.1294799104636,
          "y": 404.49038885436977
         },
         {
          "edge": 86,
          "pair": [
           18,
           29
          ],
          "source": 18,
          "target": 29,
          "x": 331.420733955723,
          "y": 395.8658546872461
         },
         {
          "edge": 87,
          "pair": [
           18,
           45
          ],
          "source": 18,
          "target": 45,
          "x": 385.1294799104636,
          "y": 404.49038885436977
         },
         {
          "edge": 87,
          "pair": [
           18,
           45
          ],
          "source": 18,
          "target": 45,
          "x": 417.1502041180901,
          "y": 390.9598831814258
         },
         {
          "edge": 88,
          "pair": [
           18,
           51
          ],
          "source": 18,
          "target": 51,
          "x": 385.1294799104636,
          "y": 404.49038885436977
         },
         {
          "edge": 88,
          "pair": [
           18,
           51
          ],
          "source": 18,
          "target": 51,
          "x": 426.042900842828,
          "y": 439.20666998211647
         },
         {
          "edge": 89,
          "pair": [
           19,
           30
          ],
          "source": 19,
          "target": 30,
          "x": 552.6592993934619,
          "y": 170.60020148267702
         },
         {
          "edge": 89,
          "pair": [
           19,
           30
          ],
          "source": 19,
          "target": 30,
          "x": 468.5646279450912,
          "y": 205.23373612814075
         },
         {
          "edge": 90,
          "pair": [
           19,
           54
          ],
          "source": 19,
          "target": 54,
          "x": 552.6592993934619,
          "y": 170.60020148267702
         },
         {
          "edge": 90,
          "pair": [
           19,
           54
          ],
          "source": 19,
          "target": 54,
          "x": 623.8458026635187,
          "y": 128.13249721678528
         },
         {
          "edge": 91,
          "pair": [
           20,
           28
          ],
          "source": 20,
          "target": 28,
          "x": 366.10788302798164,
          "y": 301.15347332761405
         },
         {
          "edge": 91,
          "pair": [
           20,
           28
          ],
          "source": 20,
          "target": 28,
          "x": 459.02500777588284,
          "y": 239.86290999689763
         },
         {
          "edge": 92,
          "pair": [
           20,
           36
          ],
          "source": 20,
          "target": 36,
          "x": 366.10788302798164,
          "y": 301.15347332761405
         },
         {
          "edge": 92,
          "pair": [
           20,
           36
          ],
          "source": 20,
          "target": 36,
          "x": 480.64399833977984,
          "y": 295.7616776579077
         },
         {
          "edge": 93,
          "pair": [
           20,
           38
          ],
          "source": 20,
          "target": 38,
          "x": 366.10788302798164,
          "y": 301.15347332761405
         },
         {
          "edge": 93,
          "pair": [
           20,
           38
          ],
          "source": 20,
          "target": 38,
          "x": 229.39085452739462,
          "y": 308.2777525860604
         },
         {
          "edge": 94,
          "pair": [
           20,
           44
          ],
          "source": 20,
          "target": 44,
          "x": 366.10788302798164,
          "y": 301.15347332761405
         },
         {
          "edge": 94,
          "pair": [
           20,
           44
          ],
          "source": 20,
          "target": 44,
          "x": 243.65805609268457,
          "y": 275.32410340213687
         },
         {
          "edge": 95,
          "pair": [
           20,
           47
          ],
          "source": 20,
          "target": 47,
          "x": 366.10788302798164,
          "y": 301.15347332761405
         },
         {
          "edge": 95,
          "pair": [
           20,
           47
          ],
          "source": 20,
          "target": 47,
          "x": 402.66758841822076,
          "y": 234.82217793356023
         },
         {
          "edge": 96,
          "pair": [
           20,
           50
          ],
          "source": 20,
          "target": 50,
          "x": 366.10788302798164,
          "y": 301.15347332761405
         },
         {
          "edge": 96,
          "pair": [
           20,
           50
          ],
          "source": 20,
          "target": 50,
          "x": 354.73590055818636,
          "y": 345.6061976876201
         },
         {
          "edge": 97,
          "pair": [
           21,
           29
          ],
          "source": 21,
          "target": 29,
          "x": 342.0094040402407,
          "y": 418.79518692808534
         },
         {
          "edge": 97,
          "pair": [
           21,
           29
          ],
          "source": 21,
          "target": 29,
          "x": 331.420733955723,
          "y": 395.8658546872461
         },
         {
          "edge": 98,
          "pair": [
           21,
           33
          ],
          "source": 21,
          "target": 33,
          "x": 342.0094040402407,
          "y": 418.79518692808534
         },
         {
          "edge": 98,
          "pair": [
           21,
           33
          ],
          "source": 21,
          "target": 33,
          "x": 254.08060543864957,
          "y": 371.0374160922335
         },
         {
          "edge": 99,
          "pair": [
           21,
           37
          ],
          "source": 21,
          "target": 37,
          "x": 342.0094040402407,
          "y": 418.79518692808534
         },
         {
          "edge": 99,
          "pair": [
           21,
           37
          ],
          "source": 21,
          "target": 37,
          "x": 309.2905688020729,
          "y": 349.7629704089757
         },
         {
          "edge": 100,
          "pair": [
           21,
           45
          ],
          "source": 21,
          "target": 45,
          "x": 342.0094040402407,
          "y": 418.79518692808534
         },
         {
          "edge": 100,
          "pair": [
           21,
           45
          ],
          "source": 21,
          "target": 45,
          "x": 417.1502041180901,
          "y": 390.9598831814258
         },
         {
          "edge": 101,
          "pair": [
           21,
           51
          ],
          "source": 21,
          "target": 51,
          "x": 342.0094040402407,
          "y": 418.79518692808534
         },
         {
          "edge": 101,
          "pair": [
           21,
           51
          ],
          "source": 21,
          "target": 51,
          "x": 426.042900842828,
          "y": 439.20666998211647
         },
         {
          "edge": 102,
          "pair": [
           23,
           36
          ],
          "source": 23,
          "target": 36,
          "x": 462.0844737917888,
          "y": 382.0901069202861
         },
         {
          "edge": 102,
          "pair": [
           23,
           36
          ],
          "source": 23,
          "target": 36,
          "x": 480.64399833977984,
          "y": 295.7616776579077
         },
         {
          "edge": 103,
          "pair": [
           23,
           45
          ],
          "source": 23,
          "target": 45,
          "x": 462.0844737917888,
          "y": 382.0901069202861
         },
         {
          "edge": 103,
          "pair": [
           23,
           45
          ],
          "source": 23,
          "target": 45,
          "x": 417.1502041180901,
          "y": 390.9598831814258
         },
         {
          "edge": 104,
          "pair": [
           23,
           51
          ],
          "source": 23,
          "target": 51,
          "x": 462.0844737917888,
          "y": 382.0901069202861
         },
         {
          "edge": 104,
          "pair": [
           23,
           51
          ],
          "source": 23,
          "target": 51,
          "x": 426.042900842828,
          "y": 439.20666998211647
         },
         {
          "edge": 105,
          "pair": [
           24,
           29
          ],
          "source": 24,
          "target": 29,
          "x": 396.52217128620833,
          "y": 420.2189551736497
         },
         {
          "edge": 105,
          "pair": [
           24,
           29
          ],
          "source": 24,
          "target": 29,
          "x": 331.420733955723,
          "y": 395.8658546872461
         },
         {
          "edge": 106,
          "pair": [
           24,
           45
          ],
          "source": 24,
          "target": 45,
          "x": 396.52217128620833,
          "y": 420.2189551736497
         },
         {
          "edge": 106,
          "pair": [
           24,
           45
          ],
          "source": 24,
          "target": 45,
          "x": 417.1502041180901,
          "y": 390.9598831814258
         },
         {
          "edge": 107,
          "pair": [
           24,
           51
          ],
          "source": 24,
          "target": 51,
          "x": 396.52217128620833,
          "y": 420.2189551736497
         },
         {
          "edge": 107,
          "pair": [
           24,
           51
          ],
          "source": 24,
          "target": 51,
          "x": 426.042900842828,
          "y": 439.20666998211647
         },
         {
          "edge": 108,
          "pair": [
           25,
           26
          ],
          "source": 25,
          "target": 26,
          "x": 701.6405093253268,
          "y": 186.966859520303
         },
         {
          "edge": 108,
          "pair": [
           25,
           26
          ],
          "source": 25,
          "target": 26,
          "x": 684.0300718077585,
          "y": 198.28410907268264
         },
         {
          "edge": 109,
          "pair": [
           25,
           27
          ],
          "source": 25,
          "target": 27,
          "x": 701.6405093253268,
          "y": 186.966859520303
         },
         {
          "edge": 109,
          "pair": [
           25,
           27
          ],
          "source": 25,
          "target": 27,
          "x": 664.8524689988824,
          "y": 189.68017849890705
         },
         {
          "edge": 110,
          "pair": [
           26,
           27
          ],
          "source": 26,
          "target": 27,
          "x": 684.0300718077585,
          "y": 198.28410907268264
         },
         {
          "edge": 110,
          "pair": [
           26,
           27
          ],
          "source": 26,
          "target": 27,
          "x": 664.8524689988824,
          "y": 189.68017849890705
         },
         {
          "edge": 111,
          "pair": [
           28,
           30
          ],
          "source": 28,
          "target": 30,
          "x": 459.02500777588284,
          "y": 239.86290999689763
         },
         {
          "edge": 111,
          "pair": [
           28,
           30
          ],
          "source": 28,
          "target": 30,
          "x": 468.5646279450912,
          "y": 205.23373612814075
         },
         {
          "edge": 112,
          "pair": [
           28,
           47
          ],
          "source": 28,
          "target": 47,
          "x": 459.02500777588284,
          "y": 239.86290999689763
         },
         {
          "edge": 112,
          "pair": [
           28,
           47
          ],
          "source": 28,
          "target": 47,
          "x": 402.66758841822076,
          "y": 234.82217793356023
         },
         {
          "edge": 113,
          "pair": [
           29,
           35
          ],
          "source": 29,
          "target": 35,
          "x": 331.420733955723,
          "y": 395.8658546872461
         },
         {
          "edge": 113,
          "pair": [
           29,
           35
          ],
          "source": 29,
          "target": 35,
          "x": 295.846512408399,
          "y": 452.0158101273928
         },
         {
          "edge": 114,
          "pair": [
           29,
           43
          ],
          "source": 29,
          "target": 43,
          "x": 331.420733955723,
          "y": 395.8658546872461
         },
         {
          "edge": 114,
          "pair": [
           29,
           43
          ],
          "source": 29,
          "target": 43,
          "x": 194.04109246158524,
          "y": 350.52337774978054
         },
         {
          "edge": 115,
          "pair": [
           29,
           45
          ],
          "source": 29,
          "target": 45,
          "x": 331.420733955723,
          "y": 395.8658546872461
         },
         {
          "edge": 115,
          "pair": [
           29,
           45
          ],
          "source": 29,
          "target": 45,
          "x": 417.1502041180901,
          "y": 390.9598831814258
         },
         {
          "edge": 116,
          "pair": [
           29,
           51
          ],
          "source": 29,
          "target": 51,
          "x": 331.420733955723,
          "y": 395.8658546872461
         },
         {
          "edge": 116,
          "pair": [
           29,
           51
          ],
          "source": 29,
          "target": 51,
          "x": 426.042900842828,
          "y": 439.20666998211647
         },
         {
          "edge": 117,
          "pair": [
           29,
           52
          ],
          "source": 29,
          "target": 52,
          "x": 331.420733955723,
          "y": 395.8658546872461
         },
         {
          "edge": 117,
          "pair": [
           29,
           52
          ],
          "source": 29,
          "target": 52,
          "x": 294.285513487944,
          "y": 304.3165263711797
         },
         {
          "edge": 118,
          "pair": [
           30,
           42
          ],
          "source": 30,
          "target": 42,
          "x": 468.5646279450912,
          "y": 205.23373612814075
         },
         {
          "edge": 118,
          "pair": [
           30,
           42
          ],
          "source": 30,
          "target": 42,
          "x": 361.27843356695905,
          "y": 241.77313084683985
         },
         {
          "edge": 119,
          "pair": [
           30,
           47
          ],
          "source": 30,
          "target": 47,
          "x": 468.5646279450912,
          "y": 205.23373612814075
         },
         {
          "edge": 119,
          "pair": [
           30,
           47
          ],
          "source": 30,
          "target": 47,
          "x": 402.66758841822076,
          "y": 234.82217793356023
         },
         {
          "edge": 120,
          "pair": [
           32,
           60
          ],
          "source": 32,
          "target": 60,
          "x": 781.7019332908276,
          "y": 30.256856811558215
         },
         {
          "edge": 120,
          "pair": [
           32,
           60
          ],
          "source": 32,
          "target": 60,
          "x": 800,
          "y": 17.31036120816943
         },
         {
          "edge": 121,
          "pair": [
           33,
           34
          ],
          "source": 33,
          "target": 34,
          "x": 254.08060543864957,
          "y": 371.0374160922335
         },
         {
          "edge": 121,
          "pair": [
           33,
           34
          ],
          "source": 33,
          "target": 34,
          "x": 209.74311340801037,
          "y": 329.716304669348
         },
         {
          "edge": 122,
          "pair": [
           33,
           37
          ],
          "source": 33,
          "target": 37,
          "x": 254.08060543864957,
          "y": 371.0374160922335
         },
         {
          "edge": 122,
          "pair": [
           33,
           37
          ],
          "source": 33,
          "target": 37,
          "x": 309.2905688020729,
          "y": 349.7629704089757
         },
         {
          "edge": 123,
          "pair": [
           33,
           38
          ],
          "source": 33,
          "target": 38,
          "x": 254.08060543864957,
          "y": 371.0374160922335
         },
         {
          "edge": 123,
          "pair": [
           33,
           38
          ],
          "source": 33,
          "target": 38,
          "x": 229.39085452739462,
          "y": 308.2777525860604
         },
         {
          "edge": 124,
          "pair": [
           33,
           40
          ],
          "source": 33,
          "target": 40,
          "x": 254.08060543864957,
          "y": 371.0374160922335
         },
         {
          "edge": 124,
          "pair": [
           33,
           40
          ],
          "source": 33,
          "target": 40,
          "x": 411.91139857376857,
          "y": 291.970327912873
         },
         {
          "edge": 125,
          "pair": [
           33,
           43
          ],
          "source": 33,
          "target": 43,
          "x": 254.08060543864957,
          "y": 371.0374160922335
         },
         {
          "edge": 125,
          "pair": [
           33,
           43
          ],
          "source": 33,
          "target": 43,
          "x": 194.04109246158524,
          "y": 350.52337774978054
         },
         {
          "edge": 126,
          "pair": [
           33,
           50
          ],
          "source": 33,
          "target": 50,
          "x": 254.08060543864957,
          "y": 371.0374160922335
         },
         {
          "edge": 126,
          "pair": [
           33,
           50
          ],
          "source": 33,
          "target": 50,
          "x": 354.73590055818636,
          "y": 345.6061976876201
         },
         {
          "edge": 127,
          "pair": [
           34,
           37
          ],
          "source": 34,
          "target": 37,
          "x": 209.74311340801037,
          "y": 329.716304669348
         },
         {
          "edge": 127,
          "pair": [
           34,
           37
          ],
          "source": 34,
          "target": 37,
          "x": 309.2905688020729,
          "y": 349.7629704089757
         },
         {
          "edge": 128,
          "pair": [
           34,
           44
          ],
          "source": 34,
          "target": 44,
          "x": 209.74311340801037,
          "y": 329.716304669348
         },
         {
          "edge": 128,
          "pair": [
           34,
           44
          ],
          "source": 34,
          "target": 44,
          "x": 243.65805609268457,
          "y": 275.32410340213687
         },
         {
          "edge": 129,
          "pair": [
           34,
           49
          ],
          "source": 34,
          "target": 49,
          "x": 209.74311340801037,
          "y": 329.716304669348
         },
         {
          "edge": 129,
          "pair": [
           34,
           49
          ],
          "source": 34,
          "target": 49,
          "x": 132.1950797445317,
          "y": 345.8199975217785
         },
         {
          "edge": 130,
          "pair": [
           36,
           37
          ],
          "source": 36,
          "target": 37,
          "x": 480.64399833977984,
          "y": 295.7616776579077
         },
         {
          "edge": 130,
          "pair": [
           36,
           37
          ],
          "source": 36,
          "target": 37,
          "x": 309.2905688020729,
          "y": 349.7629704089757
         },
         {
          "edge": 131,
          "pair": [
           36,
           39
          ],
          "source": 36,
          "target": 39,
          "x": 480.64399833977984,
          "y": 295.7616776579077
         },
         {
          "edge": 131,
          "pair": [
           36,
           39
          ],
          "source": 36,
          "target": 39,
          "x": 604.9541256864359,
          "y": 142.90857119813475
         },
         {
          "edge": 132,
          "pair": [
           36,
           40
          ],
          "source": 36,
          "target": 40,
          "x": 480.64399833977984,
          "y": 295.7616776579077
         },
         {
          "edge": 132,
          "pair": [
           36,
           40
          ],
          "source": 36,
          "target": 40,
          "x": 411.91139857376857,
          "y": 291.970327912873
         },
         {
          "edge": 133,
          "pair": [
           36,
           59
          ],
          "source": 36,
          "target": 59,
          "x": 480.64399833977984,
          "y": 295.7616776579077
         },
         {
          "edge": 133,
          "pair": [
           36,
           59
          ],
          "source": 36,
          "target": 59,
          "x": 448.33991534863117,
          "y": 332.6797406996509
         },
         {
          "edge": 134,
          "pair": [
           37,
           40
          ],
          "source": 37,
          "target": 40,
          "x": 309.2905688020729,
          "y": 349.7629704089757
         },
         {
          "edge": 134,
          "pair": [
           37,
           40
          ],
          "source": 37,
          "target": 40,
          "x": 411.91139857376857,
          "y": 291.970327912873
         },
         {
          "edge": 135,
          "pair": [
           37,
           43
          ],
          "source": 37,
          "target": 43,
          "x": 309.2905688020729,
          "y": 349.7629704089757
         },
         {
          "edge": 135,
          "pair": [
           37,
           43
          ],
          "source": 37,
          "target": 43,
          "x": 194.04109246158524,
          "y": 350.52337774978054
         },
         {
          "edge": 136,
          "pair": [
           37,
           45
          ],
          "source": 37,
          "target": 45,
          "x": 309.2905688020729,
          "y": 349.7629704089757
         },
         {
          "edge": 136,
          "pair": [
           37,
           45
          ],
          "source": 37,
          "target": 45,
          "x": 417.1502041180901,
          "y": 390.9598831814258
         },
         {
          "edge": 137,
          "pair": [
           37,
           61
          ],
          "source": 37,
          "target": 61,
          "x": 309.2905688020729,
          "y": 349.7629704089757
         },
         {
          "edge": 137,
          "pair": [
           37,
           61
          ],
          "source": 37,
          "target": 61,
          "x": 208.66279967359236,
          "y": 266.021716138525
         },
         {
          "edge": 138,
          "pair": [
           38,
           43
          ],
          "source": 38,
          "target": 43,
          "x": 229.39085452739462,
          "y": 308.2777525860604
         },
         {
          "edge": 138,
          "pair": [
           38,
           43
          ],
          "source": 38,
          "target": 43,
          "x": 194.04109246158524,
          "y": 350.52337774978054
         },
         {
          "edge": 139,
          "pair": [
           38,
           44
          ],
          "source": 38,
          "target": 44,
          "x": 229.39085452739462,
          "y": 308.2777525860604
         },
         {
          "edge": 139,
          "pair": [
           38,
           44
          ],
          "source": 38,
          "target": 44,
          "x": 243.65805609268457,
          "y": 275.32410340213687
         },
         {
          "edge": 140,
          "pair": [
           38,
           52
          ],
          "source": 38,
          "target": 52,
          "x": 229.39085452739462,
          "y": 308.2777525860604
         },
         {
          "edge": 140,
          "pair": [
           38,
           52
          ],
          "source": 38,
          "target": 52,
          "x": 294.285513487944,
          "y": 304.3165263711797
         },
         {
          "edge": 141,
          "pair": [
           38,
           58
          ],
          "source": 38,
          "target": 58,
          "x": 229.39085452739462,
          "y": 308.2777525860604
         },
         {
          "edge": 141,
          "pair": [
           38,
           58
          ],
          "source": 38,
          "target": 58,
          "x": 157.5824843160945,
          "y": 295.2167564565458
         },
         {
          "edge": 142,
          "pair": [
           39,
           57
          ],
          "source": 39,
          "target": 57,
          "x": 604.9541256864359,
          "y": 142.90857119813475
         },
         {
          "edge": 142,
          "pair": [
           39,
           57
          ],
          "source": 39,
          "target": 57,
          "x": 661.3191467852586,
          "y": 87.89202877975043
         },
         {
          "edge": 143,
          "pair": [
           40,
           52
          ],
          "source": 40,
          "target": 52,
          "x": 411.91139857376857,
          "y": 291.970327912873
         },
         {
          "edge": 143,
          "pair": [
           40,
           52
          ],
          "source": 40,
          "target": 52,
          "x": 294.285513487944,
          "y": 304.3165263711797
         },
         {
          "edge": 144,
          "pair": [
           41,
           54
          ],
          "source": 41,
          "target": 54,
          "x": 670.828446459797,
          "y": 110.0843276660888
         },
         {
          "edge": 144,
          "pair": [
           41,
           54
          ],
          "source": 41,
          "target": 54,
          "x": 623.8458026635187,
          "y": 128.13249721678528
         },
         {
          "edge": 145,
          "pair": [
           41,
           57
          ],
          "source": 41,
          "target": 57,
          "x": 670.828446459797,
          "y": 110.0843276660888
         },
         {
          "edge": 145,
          "pair": [
           41,
           57
          ],
          "source": 41,
          "target": 57,
          "x": 661.3191467852586,
          "y": 87.89202877975043
         },
         {
          "edge": 146,
          "pair": [
           42,
           47
          ],
          "source": 42,
          "target": 47,
          "x": 361.27843356695905,
          "y": 241.77313084683985
         },
         {
          "edge": 146,
          "pair": [
           42,
           47
          ],
          "source": 42,
          "target": 47,
          "x": 402.66758841822076,
          "y": 234.82217793356023
         },
         {
          "edge": 147,
          "pair": [
           42,
           50
          ],
          "source": 42,
          "target": 50,
          "x": 361.27843356695905,
          "y": 241.77313084683985
         },
         {
          "edge": 147,
          "pair": [
           42,
           50
          ],
          "source": 42,
          "target": 50,
          "x": 354.73590055818636,
          "y": 345.6061976876201
         },
         {
          "edge": 148,
          "pair": [
           43,
           46
          ],
          "source": 43,
          "target": 46,
          "x": 194.04109246158524,
          "y": 350.52337774978054
         },
         {
          "edge": 148,
          "pair": [
           43,
           46
          ],
          "source": 43,
          "target": 46,
          "x": 122.76573417734012,
          "y": 353.37247021453305
         },
         {
          "edge": 149,
          "pair": [
           43,
           53
          ],
          "source": 43,
          "target": 53,
          "x": 194.04109246158524,
          "y": 350.52337774978054
         },
         {
          "edge": 149,
          "pair": [
           43,
           53
          ],
          "source": 43,
          "target": 53,
          "x": 180.36055336214162,
          "y": 280.5035861841461
         },
         {
          "edge": 150,
          "pair": [
           45,
           50
          ],
          "source": 45,
          "target": 50,
          "x": 417.1502041180901,
          "y": 390.9598831814258
         },
         {
          "edge": 150,
          "pair": [
           45,
           50
          ],
          "source": 45,
          "target": 50,
          "x": 354.73590055818636,
          "y": 345.6061976876201
         },
         {
          "edge": 151,
          "pair": [
           45,
           51
          ],
          "source": 45,
          "target": 51,
          "x": 417.1502041180901,
          "y": 390.9598831814258
         },
         {
          "edge": 151,
          "pair": [
           45,
           51
          ],
          "source": 45,
          "target": 51,
          "x": 426.042900842828,
          "y": 439.20666998211647
         },
         {
          "edge": 152,
          "pair": [
           45,
           59
          ],
          "source": 45,
          "target": 59,
          "x": 417.1502041180901,
          "y": 390.9598831814258
         },
         {
          "edge": 152,
          "pair": [
           45,
           59
          ],
          "source": 45,
          "target": 59,
          "x": 448.33991534863117,
          "y": 332.6797406996509
         },
         {
          "edge": 153,
          "pair": [
           46,
           49
          ],
          "source": 46,
          "target": 49,
          "x": 122.76573417734012,
          "y": 353.37247021453305
         },
         {
          "edge": 153,
          "pair": [
           46,
           49
          ],
          "source": 46,
          "target": 49,
          "x": 132.1950797445317,
          "y": 345.8199975217785
         },
         {
          "edge": 154,
          "pair": [
           48,
           57
          ],
          "source": 48,
          "target": 57,
          "x": 651.7508308155518,
          "y": 77.0089297192186
         },
         {
          "edge": 154,
          "pair": [
           48,
           57
          ],
          "source": 48,
          "target": 57,
          "x": 661.3191467852586,
          "y": 87.89202877975043
         },
         {
          "edge": 155,
          "pair": [
           50,
           51
          ],
          "source": 50,
          "target": 51,
          "x": 354.73590055818636,
          "y": 345.6061976876201
         },
         {
          "edge": 155,
          "pair": [
           50,
           51
          ],
          "source": 50,
          "target": 51,
          "x": 426.042900842828,
          "y": 439.20666998211647
         },
         {
          "edge": 156,
          "pair": [
           51,
           55
          ],
          "source": 51,
          "target": 55,
          "x": 426.042900842828,
          "y": 439.20666998211647
         },
         {
          "edge": 156,
          "pair": [
           51,
           55
          ],
          "source": 51,
          "target": 55,
          "x": 480.47112221933776,
          "y": 421.15139956055083
         },
         {
          "edge": 157,
          "pair": [
           53,
           61
          ],
          "source": 53,
          "target": 61,
          "x": 180.36055336214162,
          "y": 280.5035861841461
         },
         {
          "edge": 157,
          "pair": [
           53,
           61
          ],
          "source": 53,
          "target": 61,
          "x": 208.66279967359236,
          "y": 266.021716138525
         },
         {
          "edge": 158,
          "pair": [
           54,
           57
          ],
          "source": 54,
          "target": 57,
          "x": 623.8458026635187,
          "y": 128.13249721678528
         },
         {
          "edge": 158,
          "pair": [
           54,
           57
          ],
          "source": 54,
          "target": 57,
          "x": 661.3191467852586,
          "y": 87.89202877975043
         }
        ]
       },
       "height": 500,
       "layer": [
        {
         "data": {
          "name": "data-9daa32e211765fac853e6f4d84075ab1"
         },
         "encoding": {
          "color": {
           "value": "black"
          },
          "detail": {
           "field": "edge",
           "type": "quantitative"
          },
          "opacity": {
           "value": 0.4
          },
          "strokeWidth": {
           "value": 0.5
          },
          "x": {
           "axis": {
            "domain": false,
            "grid": false,
            "labels": false,
            "ticks": false,
            "title": ""
           },
           "field": "x",
           "type": "quantitative"
          },
          "y": {
           "axis": {
            "domain": false,
            "grid": false,
            "labels": false,
            "ticks": false,
            "title": ""
           },
           "field": "y",
           "type": "quantitative"
          }
         },
         "mark": "line"
        },
        {
         "data": {
          "name": "data-8308d018c9b803950a2cec601e2eae7c"
         },
         "layer": [
          {
           "encoding": {
            "fill": {
             "field": "sex",
             "legend": null,
             "scale": {
              "domain": [
               "M",
               "F",
               "U"
              ],
              "range": [
               "darkblue",
               "orange",
               "green"
              ]
             },
             "type": "nominal"
            },
            "opacity": {
             "value": 1
            },
            "size": {
             "field": "degree_centrality",
             "legend": null,
             "scale": {
              "domain": [
               0,
               0.5
              ],
              "range": [
               36,
               400
              ]
             },
             "type": "quantitative"
            },
            "stroke": {
             "value": "#565656"
            },
            "strokeWidth": {
             "value": 0
            },
            "tooltip": [
             {
              "field": "label",
              "type": "nominal"
             },
             {
              "field": "sex",
              "type": "nominal"
             }
            ],
            "x": {
             "axis": {
              "domain": false,
              "grid": false,
              "labels": false,
              "ticks": false,
              "title": ""
             },
             "field": "x",
             "type": "quantitative"
            },
            "y": {
             "axis": {
              "domain": false,
              "grid": false,
              "labels": false,
              "ticks": false,
              "title": ""
             },
             "field": "y",
             "type": "quantitative"
            }
           },
           "mark": "circle"
          },
          {
           "encoding": {
            "text": {
             "condition": {
              "field": "label",
              "test": "((datum.degree_centrality > 0.14) || (datum.betweenness_centrality > 0.05))",
              "type": "nominal"
             },
             "value": ""
            },
            "x": {
             "axis": {
              "domain": false,
              "grid": false,
              "labels": false,
              "ticks": false,
              "title": ""
             },
             "field": "x",
             "type": "quantitative"
            },
            "y": {
             "axis": {
              "domain": false,
              "grid": false,
              "labels": false,
              "ticks": false,
              "title": ""
             },
             "field": "__y_label",
             "type": "quantitative"
            }
           },
           "mark": {
            "align": "center",
            "baseline": "middle",
            "color": "black",
            "size": 9,
            "type": "text"
           }
          }
         ]
        }
       ],
       "padding": 20,
       "resolve": {
        "scale": {
         "color": "independent",
         "fill": "independent",
         "opacity": "independent",
         "size": "independent",
         "strokeWidth": "independent"
        }
       },
       "width": 720
      },
      "image/png": "[encoded data removed]",
      "text/plain": [
       "<VegaLite 4 object>\n",
       "\n",
       "If you see this message, it means the renderer has not been properly enabled\n",
       "for the frontend that you are using. For more information, see\n",
       "https://altair-viz.github.io/user_guide/troubleshooting.html\n"
      ]
     },
     "execution_count": 60,
     "metadata": {},
     "output_type": "execute_result"
    }
   ],
   "source": [
    "alph(\n",
    "    G,\n",
    "    layout_fn=lambda g: \n",
    "        layout.force_atlas(g, strongGravityMode=False, gravity=2, seed=123\n",
    "    ),\n",
    "    node_args=dict(\n",
    "        size=alt.Size(\n",
    "            \"degree_centrality\", scale=alt.Scale(domain=[0,0.5], range=[6**2, 20**2]), legend=None\n",
    "        ),\n",
    "        fill=alt.Color(\n",
    "            \"sex\", scale=alt.Scale(domain=[\"M\", \"F\", \"U\"], range=[\"darkblue\", \"orange\", \"green\"]), legend=None\n",
    "        ),\n",
    "        tooltip_attrs=[\"label\", \"sex\"],\n",
    "        label_attr=alt.condition(\n",
    "            (alt.datum.degree_centrality > 0.14) | (alt.datum.betweenness_centrality > 0.05),\n",
    "            \"label\",\n",
    "            alt.value(\"\")\n",
    "        ),\n",
    "        label_offset=8,\n",
    "        label_size=9,\n",
    "    ),\n",
    "    edge_args=dict(\n",
    "        color=\"black\",\n",
    "        opacity=0.4,\n",
    "        strokeWidth=alt.value(0.5),\n",
    "    ),\n",
    ").configure_view(\n",
    "    stroke=\"transparent\"\n",
    ").configure_text(\n",
    "    font=\"Verdana, Sans\"\n",
    ").properties(\n",
    "    width=720, height=500, padding=20\n",
    ")"
   ]
  },
  {
   "cell_type": "code",
   "execution_count": null,
   "metadata": {},
   "outputs": [],
   "source": []
  }
 ],
 "metadata": {
  "kernelspec": {
   "display_name": "Python 3 (ipykernel)",
   "language": "python",
   "name": "python3"
  },
  "language_info": {
   "codemirror_mode": {
    "name": "ipython",
    "version": 3
   },
   "file_extension": ".py",
   "mimetype": "text/x-python",
   "name": "python",
   "nbconvert_exporter": "python",
   "pygments_lexer": "ipython3",
   "version": "3.10.7"
  },
  "vscode": {
   "interpreter": {
    "hash": "121ccb6ef33f050b5231fe1f8644b93952e7f3a79e0892dcb9cd03f1749809c5"
   }
  }
 },
 "nbformat": 4,
 "nbformat_minor": 4
}
