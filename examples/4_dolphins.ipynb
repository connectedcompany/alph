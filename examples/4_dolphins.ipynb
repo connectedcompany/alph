{
 "cells": [
  {
   "attachments": {},
   "cell_type": "markdown",
   "metadata": {},
   "source": [
    "## More styling\n",
    "\n",
    "Bottlenose dolphins are [incredible creatures](https://en.wikipedia.org/wiki/Bottlenose_dolphin#:~:text=.%5B41%5D-,Physiology,-and%20senses%5B). We'll honour them in our own small way by plotting [data](http://www-personal.umich.edu/~mejn/netdata/) from a fascinating study by [Lusseau et al, 2003](https://citeseerx.ist.psu.edu/viewdoc/download?doi=10.1.1.174.3721&rep=rep1&type=pdf). A group of dolphins were continuously observed for 7 years, enabling inference of \"preferred companionships\", hence various studies of the nature and dynamics of their relationships.\n",
    "\n",
    "The example shows\n",
    "- how to nicely lay out a non-trivial association network\n",
    "- further examples of tweaking appearance attributes (colour, size, labels etc)"
   ]
  },
  {
   "cell_type": "code",
   "execution_count": null,
   "metadata": {},
   "outputs": [],
   "source": [
    "# If running for the first rime, uncomment below to install dependencies\n",
    "\n",
    "# !sudo apt install libgraphviz-dev graphviz  # on Colab, Debian / Ubuntu etc - or on a Mac: brew install graphviz\n",
    "# !pip install alph[graphviz] cython \"git+https://github.com/connectedcompany/forceatlas2.git\""
   ]
  },
  {
   "cell_type": "code",
   "execution_count": 1,
   "metadata": {},
   "outputs": [],
   "source": [
    "import sys\n",
    "import altair as alt\n",
    "import networkx as nx\n",
    "\n",
    "\"..\" not in sys.path and sys.path.append(\"..\")\n",
    "from alph import alph, layout, util\n",
    "\n",
    "util.set_altair_renderer()"
   ]
  },
  {
   "attachments": {},
   "cell_type": "markdown",
   "metadata": {},
   "source": [
    "Let's load the graph, and add centrality measures that we'll use to aid the visual representation."
   ]
  },
  {
   "cell_type": "code",
   "execution_count": 2,
   "metadata": {},
   "outputs": [],
   "source": [
    "G = nx.read_gml(\"data/dolphins.gml\", label=\"id\")\n",
    "nx.set_node_attributes(G, nx.degree_centrality(G), \"degree_centrality\")\n",
    "nx.set_node_attributes(G, nx.betweenness_centrality(G), \"betweenness_centrality\")"
   ]
  },
  {
   "attachments": {},
   "cell_type": "markdown",
   "metadata": {},
   "source": [
    "Plot the network, using\n",
    "- degree centrality to size the nodes\n",
    "- sex for node colour, noting that sex was not known for 4 individuals\n",
    "- selective labelling based on high centrality scores\n",
    "- non-default text font"
   ]
  },
  {
   "cell_type": "code",
   "execution_count": 3,
   "metadata": {},
   "outputs": [
    {
     "data": {
      "application/vnd.vegalite.v4+json": {
       "$schema": "https://vega.github.io/schema/vega-lite/v4.17.0.json",
       "config": {
        "text": {
         "font": "Verdana, Sans"
        },
        "view": {
         "continuousHeight": 300,
         "continuousWidth": 400,
         "stroke": "transparent"
        }
       },
       "datasets": {
        "data-5fa9cd9eb60a369b54a130b950e9d02f": [
         {
          "edge": 0,
          "pair": [
           0,
           10
          ],
          "source": 0,
          "target": 10,
          "x": 420.1819664820528,
          "y": 278.9394965760847
         },
         {
          "edge": 0,
          "pair": [
           0,
           10
          ],
          "source": 0,
          "target": 10,
          "x": 468.63235192846537,
          "y": 272.84512858874047
         },
         {
          "edge": 1,
          "pair": [
           0,
           14
          ],
          "source": 0,
          "target": 14,
          "x": 420.1819664820528,
          "y": 278.9394965760847
         },
         {
          "edge": 1,
          "pair": [
           0,
           14
          ],
          "source": 0,
          "target": 14,
          "x": 474.1199375165614,
          "y": 344.6568984705549
         },
         {
          "edge": 2,
          "pair": [
           0,
           15
          ],
          "source": 0,
          "target": 15,
          "x": 420.1819664820528,
          "y": 278.9394965760847
         },
         {
          "edge": 2,
          "pair": [
           0,
           15
          ],
          "source": 0,
          "target": 15,
          "x": 349.13029822522935,
          "y": 357.9050033609482
         },
         {
          "edge": 3,
          "pair": [
           0,
           40
          ],
          "source": 0,
          "target": 40,
          "x": 420.1819664820528,
          "y": 278.9394965760847
         },
         {
          "edge": 3,
          "pair": [
           0,
           40
          ],
          "source": 0,
          "target": 40,
          "x": 390.4741278961767,
          "y": 292.0872743338017
         },
         {
          "edge": 4,
          "pair": [
           0,
           42
          ],
          "source": 0,
          "target": 42,
          "x": 420.1819664820528,
          "y": 278.9394965760847
         },
         {
          "edge": 4,
          "pair": [
           0,
           42
          ],
          "source": 0,
          "target": 42,
          "x": 450.2457638115743,
          "y": 247.1298315374348
         },
         {
          "edge": 5,
          "pair": [
           0,
           47
          ],
          "source": 0,
          "target": 47,
          "x": 420.1819664820528,
          "y": 278.9394965760847
         },
         {
          "edge": 5,
          "pair": [
           0,
           47
          ],
          "source": 0,
          "target": 47,
          "x": 413.3970657730198,
          "y": 235.80902160600218
         },
         {
          "edge": 6,
          "pair": [
           1,
           17
          ],
          "source": 1,
          "target": 17,
          "x": 241.93482526534757,
          "y": 142.77026042870528
         },
         {
          "edge": 6,
          "pair": [
           1,
           17
          ],
          "source": 1,
          "target": 17,
          "x": 152.54431316923723,
          "y": 65.6895971789418
         },
         {
          "edge": 7,
          "pair": [
           1,
           19
          ],
          "source": 1,
          "target": 19,
          "x": 241.93482526534757,
          "y": 142.77026042870528
         },
         {
          "edge": 7,
          "pair": [
           1,
           19
          ],
          "source": 1,
          "target": 19,
          "x": 272.3627094873166,
          "y": 161.4207661932077
         },
         {
          "edge": 8,
          "pair": [
           1,
           26
          ],
          "source": 1,
          "target": 26,
          "x": 241.93482526534757,
          "y": 142.77026042870528
         },
         {
          "edge": 8,
          "pair": [
           1,
           26
          ],
          "source": 1,
          "target": 26,
          "x": 255.75766257294552,
          "y": 82.59487797642322
         },
         {
          "edge": 9,
          "pair": [
           1,
           27
          ],
          "source": 1,
          "target": 27,
          "x": 241.93482526534757,
          "y": 142.77026042870528
         },
         {
          "edge": 9,
          "pair": [
           1,
           27
          ],
          "source": 1,
          "target": 27,
          "x": 251.4835067788634,
          "y": 97.34501358030315
         },
         {
          "edge": 10,
          "pair": [
           1,
           28
          ],
          "source": 1,
          "target": 28,
          "x": 241.93482526534757,
          "y": 142.77026042870528
         },
         {
          "edge": 10,
          "pair": [
           1,
           28
          ],
          "source": 1,
          "target": 28,
          "x": 363.3737431841263,
          "y": 228.97740564671759
         },
         {
          "edge": 11,
          "pair": [
           1,
           36
          ],
          "source": 1,
          "target": 36,
          "x": 241.93482526534757,
          "y": 142.77026042870528
         },
         {
          "edge": 11,
          "pair": [
           1,
           36
          ],
          "source": 1,
          "target": 36,
          "x": 316.8527314538498,
          "y": 286.0830003662734
         },
         {
          "edge": 12,
          "pair": [
           1,
           41
          ],
          "source": 1,
          "target": 41,
          "x": 241.93482526534757,
          "y": 142.77026042870528
         },
         {
          "edge": 12,
          "pair": [
           1,
           41
          ],
          "source": 1,
          "target": 41,
          "x": 136.62513594397998,
          "y": 113.13294620293385
         },
         {
          "edge": 13,
          "pair": [
           1,
           54
          ],
          "source": 1,
          "target": 54,
          "x": 241.93482526534757,
          "y": 142.77026042870528
         },
         {
          "edge": 13,
          "pair": [
           1,
           54
          ],
          "source": 1,
          "target": 54,
          "x": 183.4187026820754,
          "y": 132.5082348086523
         },
         {
          "edge": 14,
          "pair": [
           2,
           10
          ],
          "source": 2,
          "target": 10,
          "x": 529.9079897671813,
          "y": 256.34837784419597
         },
         {
          "edge": 14,
          "pair": [
           2,
           10
          ],
          "source": 2,
          "target": 10,
          "x": 468.63235192846537,
          "y": 272.84512858874047
         },
         {
          "edge": 15,
          "pair": [
           2,
           42
          ],
          "source": 2,
          "target": 42,
          "x": 529.9079897671813,
          "y": 256.34837784419597
         },
         {
          "edge": 15,
          "pair": [
           2,
           42
          ],
          "source": 2,
          "target": 42,
          "x": 450.2457638115743,
          "y": 247.1298315374348
         },
         {
          "edge": 16,
          "pair": [
           2,
           44
          ],
          "source": 2,
          "target": 44,
          "x": 529.9079897671813,
          "y": 256.34837784419597
         },
         {
          "edge": 16,
          "pair": [
           2,
           44
          ],
          "source": 2,
          "target": 44,
          "x": 557.605739165761,
          "y": 288.14581023802407
         },
         {
          "edge": 17,
          "pair": [
           2,
           61
          ],
          "source": 2,
          "target": 61,
          "x": 529.9079897671813,
          "y": 256.34837784419597
         },
         {
          "edge": 17,
          "pair": [
           2,
           61
          ],
          "source": 2,
          "target": 61,
          "x": 590.5852450080308,
          "y": 269.21929317540145
         },
         {
          "edge": 18,
          "pair": [
           3,
           8
          ],
          "source": 3,
          "target": 8,
          "x": 396.84015761094594,
          "y": 328.5993868000802
         },
         {
          "edge": 18,
          "pair": [
           3,
           8
          ],
          "source": 3,
          "target": 8,
          "x": 388.50675063695064,
          "y": 311.9532395865606
         },
         {
          "edge": 19,
          "pair": [
           3,
           14
          ],
          "source": 3,
          "target": 14,
          "x": 396.84015761094594,
          "y": 328.5993868000802
         },
         {
          "edge": 19,
          "pair": [
           3,
           14
          ],
          "source": 3,
          "target": 14,
          "x": 474.1199375165614,
          "y": 344.6568984705549
         },
         {
          "edge": 20,
          "pair": [
           3,
           59
          ],
          "source": 3,
          "target": 59,
          "x": 396.84015761094594,
          "y": 328.5993868000802
         },
         {
          "edge": 20,
          "pair": [
           3,
           59
          ],
          "source": 3,
          "target": 59,
          "x": 347.57192810832873,
          "y": 326.0744317044589
         },
         {
          "edge": 21,
          "pair": [
           4,
           51
          ],
          "source": 4,
          "target": 51,
          "x": 340.16774452513584,
          "y": 444.908758296925
         },
         {
          "edge": 21,
          "pair": [
           4,
           51
          ],
          "source": 4,
          "target": 51,
          "x": 347.98361606049554,
          "y": 428.9173756958455
         },
         {
          "edge": 22,
          "pair": [
           5,
           9
          ],
          "source": 5,
          "target": 9,
          "x": 53.164265161505526,
          "y": 97.45808556154053
         },
         {
          "edge": 22,
          "pair": [
           5,
           9
          ],
          "source": 5,
          "target": 9,
          "x": 64.24321172642232,
          "y": 76.1028032987136
         },
         {
          "edge": 23,
          "pair": [
           5,
           13
          ],
          "source": 5,
          "target": 13,
          "x": 53.164265161505526,
          "y": 97.45808556154053
         },
         {
          "edge": 23,
          "pair": [
           5,
           13
          ],
          "source": 5,
          "target": 13,
          "x": 89.24418233483244,
          "y": 78.75512596472103
         },
         {
          "edge": 24,
          "pair": [
           5,
           56
          ],
          "source": 5,
          "target": 56,
          "x": 53.164265161505526,
          "y": 97.45808556154053
         },
         {
          "edge": 24,
          "pair": [
           5,
           56
          ],
          "source": 5,
          "target": 56,
          "x": 34.52635826550194,
          "y": 99.13420279001164
         },
         {
          "edge": 25,
          "pair": [
           5,
           57
          ],
          "source": 5,
          "target": 57,
          "x": 53.164265161505526,
          "y": 97.45808556154053
         },
         {
          "edge": 25,
          "pair": [
           5,
           57
          ],
          "source": 5,
          "target": 57,
          "x": 102.1371235225073,
          "y": 128.0267702151954
         },
         {
          "edge": 26,
          "pair": [
           6,
           9
          ],
          "source": 6,
          "target": 9,
          "x": 96.94373117867435,
          "y": 96.81503137778145
         },
         {
          "edge": 26,
          "pair": [
           6,
           9
          ],
          "source": 6,
          "target": 9,
          "x": 64.24321172642232,
          "y": 76.1028032987136
         },
         {
          "edge": 27,
          "pair": [
           6,
           13
          ],
          "source": 6,
          "target": 13,
          "x": 96.94373117867435,
          "y": 96.81503137778145
         },
         {
          "edge": 27,
          "pair": [
           6,
           13
          ],
          "source": 6,
          "target": 13,
          "x": 89.24418233483244,
          "y": 78.75512596472103
         },
         {
          "edge": 28,
          "pair": [
           6,
           17
          ],
          "source": 6,
          "target": 17,
          "x": 96.94373117867435,
          "y": 96.81503137778145
         },
         {
          "edge": 28,
          "pair": [
           6,
           17
          ],
          "source": 6,
          "target": 17,
          "x": 152.54431316923723,
          "y": 65.6895971789418
         },
         {
          "edge": 29,
          "pair": [
           6,
           54
          ],
          "source": 6,
          "target": 54,
          "x": 96.94373117867435,
          "y": 96.81503137778145
         },
         {
          "edge": 29,
          "pair": [
           6,
           54
          ],
          "source": 6,
          "target": 54,
          "x": 183.4187026820754,
          "y": 132.5082348086523
         },
         {
          "edge": 30,
          "pair": [
           6,
           56
          ],
          "source": 6,
          "target": 56,
          "x": 96.94373117867435,
          "y": 96.81503137778145
         },
         {
          "edge": 30,
          "pair": [
           6,
           56
          ],
          "source": 6,
          "target": 56,
          "x": 34.52635826550194,
          "y": 99.13420279001164
         },
         {
          "edge": 31,
          "pair": [
           6,
           57
          ],
          "source": 6,
          "target": 57,
          "x": 96.94373117867435,
          "y": 96.81503137778145
         },
         {
          "edge": 31,
          "pair": [
           6,
           57
          ],
          "source": 6,
          "target": 57,
          "x": 102.1371235225073,
          "y": 128.0267702151954
         },
         {
          "edge": 32,
          "pair": [
           7,
           19
          ],
          "source": 7,
          "target": 19,
          "x": 294.4273570131189,
          "y": 174.7448699370336
         },
         {
          "edge": 32,
          "pair": [
           7,
           19
          ],
          "source": 7,
          "target": 19,
          "x": 272.3627094873166,
          "y": 161.4207661932077
         },
         {
          "edge": 33,
          "pair": [
           7,
           27
          ],
          "source": 7,
          "target": 27,
          "x": 294.4273570131189,
          "y": 174.7448699370336
         },
         {
          "edge": 33,
          "pair": [
           7,
           27
          ],
          "source": 7,
          "target": 27,
          "x": 251.4835067788634,
          "y": 97.34501358030315
         },
         {
          "edge": 34,
          "pair": [
           7,
           30
          ],
          "source": 7,
          "target": 30,
          "x": 294.4273570131189,
          "y": 174.7448699370336
         },
         {
          "edge": 34,
          "pair": [
           7,
           30
          ],
          "source": 7,
          "target": 30,
          "x": 356.2015269321151,
          "y": 197.95203323022267
         },
         {
          "edge": 35,
          "pair": [
           7,
           40
          ],
          "source": 7,
          "target": 40,
          "x": 294.4273570131189,
          "y": 174.7448699370336
         },
         {
          "edge": 35,
          "pair": [
           7,
           40
          ],
          "source": 7,
          "target": 40,
          "x": 390.4741278961767,
          "y": 292.0872743338017
         },
         {
          "edge": 36,
          "pair": [
           7,
           54
          ],
          "source": 7,
          "target": 54,
          "x": 294.4273570131189,
          "y": 174.7448699370336
         },
         {
          "edge": 36,
          "pair": [
           7,
           54
          ],
          "source": 7,
          "target": 54,
          "x": 183.4187026820754,
          "y": 132.5082348086523
         },
         {
          "edge": 37,
          "pair": [
           8,
           20
          ],
          "source": 8,
          "target": 20,
          "x": 388.50675063695064,
          "y": 311.9532395865606
         },
         {
          "edge": 37,
          "pair": [
           8,
           20
          ],
          "source": 8,
          "target": 20,
          "x": 435.4274723077632,
          "y": 305.19957385770715
         },
         {
          "edge": 38,
          "pair": [
           8,
           28
          ],
          "source": 8,
          "target": 28,
          "x": 388.50675063695064,
          "y": 311.9532395865606
         },
         {
          "edge": 38,
          "pair": [
           8,
           28
          ],
          "source": 8,
          "target": 28,
          "x": 363.3737431841263,
          "y": 228.97740564671759
         },
         {
          "edge": 39,
          "pair": [
           8,
           37
          ],
          "source": 8,
          "target": 37,
          "x": 388.50675063695064,
          "y": 311.9532395865606
         },
         {
          "edge": 39,
          "pair": [
           8,
           37
          ],
          "source": 8,
          "target": 37,
          "x": 487.5154831171504,
          "y": 320.2581913739102
         },
         {
          "edge": 40,
          "pair": [
           8,
           45
          ],
          "source": 8,
          "target": 45,
          "x": 388.50675063695064,
          "y": 311.9532395865606
         },
         {
          "edge": 40,
          "pair": [
           8,
           45
          ],
          "source": 8,
          "target": 45,
          "x": 369.91580289474916,
          "y": 382.5147075817652
         },
         {
          "edge": 41,
          "pair": [
           8,
           59
          ],
          "source": 8,
          "target": 59,
          "x": 388.50675063695064,
          "y": 311.9532395865606
         },
         {
          "edge": 41,
          "pair": [
           8,
           59
          ],
          "source": 8,
          "target": 59,
          "x": 347.57192810832873,
          "y": 326.0744317044589
         },
         {
          "edge": 42,
          "pair": [
           9,
           13
          ],
          "source": 9,
          "target": 13,
          "x": 64.24321172642232,
          "y": 76.1028032987136
         },
         {
          "edge": 42,
          "pair": [
           9,
           13
          ],
          "source": 9,
          "target": 13,
          "x": 89.24418233483244,
          "y": 78.75512596472103
         },
         {
          "edge": 43,
          "pair": [
           9,
           17
          ],
          "source": 9,
          "target": 17,
          "x": 64.24321172642232,
          "y": 76.1028032987136
         },
         {
          "edge": 43,
          "pair": [
           9,
           17
          ],
          "source": 9,
          "target": 17,
          "x": 152.54431316923723,
          "y": 65.6895971789418
         },
         {
          "edge": 44,
          "pair": [
           9,
           32
          ],
          "source": 9,
          "target": 32,
          "x": 64.24321172642232,
          "y": 76.1028032987136
         },
         {
          "edge": 44,
          "pair": [
           9,
           32
          ],
          "source": 9,
          "target": 32,
          "x": 19.392313988806972,
          "y": 42.7228733028854
         },
         {
          "edge": 45,
          "pair": [
           9,
           41
          ],
          "source": 9,
          "target": 41,
          "x": 64.24321172642232,
          "y": 76.1028032987136
         },
         {
          "edge": 45,
          "pair": [
           9,
           41
          ],
          "source": 9,
          "target": 41,
          "x": 136.62513594397998,
          "y": 113.13294620293385
         },
         {
          "edge": 46,
          "pair": [
           9,
           57
          ],
          "source": 9,
          "target": 57,
          "x": 64.24321172642232,
          "y": 76.1028032987136
         },
         {
          "edge": 46,
          "pair": [
           9,
           57
          ],
          "source": 9,
          "target": 57,
          "x": 102.1371235225073,
          "y": 128.0267702151954
         },
         {
          "edge": 47,
          "pair": [
           10,
           29
          ],
          "source": 10,
          "target": 29,
          "x": 468.63235192846537,
          "y": 272.84512858874047
         },
         {
          "edge": 47,
          "pair": [
           10,
           29
          ],
          "source": 10,
          "target": 29,
          "x": 454.6695293651842,
          "y": 412.2671904698788
         },
         {
          "edge": 48,
          "pair": [
           10,
           42
          ],
          "source": 10,
          "target": 42,
          "x": 468.63235192846537,
          "y": 272.84512858874047
         },
         {
          "edge": 48,
          "pair": [
           10,
           42
          ],
          "source": 10,
          "target": 42,
          "x": 450.2457638115743,
          "y": 247.1298315374348
         },
         {
          "edge": 49,
          "pair": [
           10,
           47
          ],
          "source": 10,
          "target": 47,
          "x": 468.63235192846537,
          "y": 272.84512858874047
         },
         {
          "edge": 49,
          "pair": [
           10,
           47
          ],
          "source": 10,
          "target": 47,
          "x": 413.3970657730198,
          "y": 235.80902160600218
         },
         {
          "edge": 50,
          "pair": [
           11,
           51
          ],
          "source": 11,
          "target": 51,
          "x": 332.59143760973427,
          "y": 441.09968199891756
         },
         {
          "edge": 50,
          "pair": [
           11,
           51
          ],
          "source": 11,
          "target": 51,
          "x": 347.98361606049554,
          "y": 428.9173756958455
         },
         {
          "edge": 51,
          "pair": [
           12,
           33
          ],
          "source": 12,
          "target": 33,
          "x": 548.0599275635443,
          "y": 388.3742786165243
         },
         {
          "edge": 51,
          "pair": [
           12,
           33
          ],
          "source": 12,
          "target": 33,
          "x": 533.6093869500093,
          "y": 375.78265648706713
         },
         {
          "edge": 52,
          "pair": [
           13,
           17
          ],
          "source": 13,
          "target": 17,
          "x": 89.24418233483244,
          "y": 78.75512596472103
         },
         {
          "edge": 52,
          "pair": [
           13,
           17
          ],
          "source": 13,
          "target": 17,
          "x": 152.54431316923723,
          "y": 65.6895971789418
         },
         {
          "edge": 53,
          "pair": [
           13,
           32
          ],
          "source": 13,
          "target": 32,
          "x": 89.24418233483244,
          "y": 78.75512596472103
         },
         {
          "edge": 53,
          "pair": [
           13,
           32
          ],
          "source": 13,
          "target": 32,
          "x": 19.392313988806972,
          "y": 42.7228733028854
         },
         {
          "edge": 54,
          "pair": [
           13,
           41
          ],
          "source": 13,
          "target": 41,
          "x": 89.24418233483244,
          "y": 78.75512596472103
         },
         {
          "edge": 54,
          "pair": [
           13,
           41
          ],
          "source": 13,
          "target": 41,
          "x": 136.62513594397998,
          "y": 113.13294620293385
         },
         {
          "edge": 55,
          "pair": [
           13,
           54
          ],
          "source": 13,
          "target": 54,
          "x": 89.24418233483244,
          "y": 78.75512596472103
         },
         {
          "edge": 55,
          "pair": [
           13,
           54
          ],
          "source": 13,
          "target": 54,
          "x": 183.4187026820754,
          "y": 132.5082348086523
         },
         {
          "edge": 56,
          "pair": [
           13,
           57
          ],
          "source": 13,
          "target": 57,
          "x": 89.24418233483244,
          "y": 78.75512596472103
         },
         {
          "edge": 56,
          "pair": [
           13,
           57
          ],
          "source": 13,
          "target": 57,
          "x": 102.1371235225073,
          "y": 128.0267702151954
         },
         {
          "edge": 57,
          "pair": [
           14,
           16
          ],
          "source": 14,
          "target": 16,
          "x": 474.1199375165614,
          "y": 344.6568984705549
         },
         {
          "edge": 57,
          "pair": [
           14,
           16
          ],
          "source": 14,
          "target": 16,
          "x": 514.9653314049835,
          "y": 341.5486357981058
         },
         {
          "edge": 58,
          "pair": [
           14,
           24
          ],
          "source": 14,
          "target": 24,
          "x": 474.1199375165614,
          "y": 344.6568984705549
         },
         {
          "edge": 58,
          "pair": [
           14,
           24
          ],
          "source": 14,
          "target": 24,
          "x": 388.2830810526646,
          "y": 423.5616273904526
         },
         {
          "edge": 59,
          "pair": [
           14,
           33
          ],
          "source": 14,
          "target": 33,
          "x": 474.1199375165614,
          "y": 344.6568984705549
         },
         {
          "edge": 59,
          "pair": [
           14,
           33
          ],
          "source": 14,
          "target": 33,
          "x": 533.6093869500093,
          "y": 375.78265648706713
         },
         {
          "edge": 60,
          "pair": [
           14,
           34
          ],
          "source": 14,
          "target": 34,
          "x": 474.1199375165614,
          "y": 344.6568984705549
         },
         {
          "edge": 60,
          "pair": [
           14,
           34
          ],
          "source": 14,
          "target": 34,
          "x": 584.2219907475559,
          "y": 318.1579068979096
         },
         {
          "edge": 61,
          "pair": [
           14,
           37
          ],
          "source": 14,
          "target": 37,
          "x": 474.1199375165614,
          "y": 344.6568984705549
         },
         {
          "edge": 61,
          "pair": [
           14,
           37
          ],
          "source": 14,
          "target": 37,
          "x": 487.5154831171504,
          "y": 320.2581913739102
         },
         {
          "edge": 62,
          "pair": [
           14,
           38
          ],
          "source": 14,
          "target": 38,
          "x": 474.1199375165614,
          "y": 344.6568984705549
         },
         {
          "edge": 62,
          "pair": [
           14,
           38
          ],
          "source": 14,
          "target": 38,
          "x": 564.9040008625649,
          "y": 349.6245571513718
         },
         {
          "edge": 63,
          "pair": [
           14,
           40
          ],
          "source": 14,
          "target": 40,
          "x": 474.1199375165614,
          "y": 344.6568984705549
         },
         {
          "edge": 63,
          "pair": [
           14,
           40
          ],
          "source": 14,
          "target": 40,
          "x": 390.4741278961767,
          "y": 292.0872743338017
         },
         {
          "edge": 64,
          "pair": [
           14,
           43
          ],
          "source": 14,
          "target": 43,
          "x": 474.1199375165614,
          "y": 344.6568984705549
         },
         {
          "edge": 64,
          "pair": [
           14,
           43
          ],
          "source": 14,
          "target": 43,
          "x": 600.5690031835941,
          "y": 355.22375451235825
         },
         {
          "edge": 65,
          "pair": [
           14,
           50
          ],
          "source": 14,
          "target": 50,
          "x": 474.1199375165614,
          "y": 344.6568984705549
         },
         {
          "edge": 65,
          "pair": [
           14,
           50
          ],
          "source": 14,
          "target": 50,
          "x": 436.59417626384067,
          "y": 348.79060543512145
         },
         {
          "edge": 66,
          "pair": [
           14,
           52
          ],
          "source": 14,
          "target": 52,
          "x": 474.1199375165614,
          "y": 344.6568984705549
         },
         {
          "edge": 66,
          "pair": [
           14,
           52
          ],
          "source": 14,
          "target": 52,
          "x": 487.89342457214764,
          "y": 375.22495309943366
         },
         {
          "edge": 67,
          "pair": [
           15,
           18
          ],
          "source": 15,
          "target": 18,
          "x": 349.13029822522935,
          "y": 357.9050033609482
         },
         {
          "edge": 67,
          "pair": [
           15,
           18
          ],
          "source": 15,
          "target": 18,
          "x": 391.7937875385147,
          "y": 403.82888157316836
         },
         {
          "edge": 68,
          "pair": [
           15,
           24
          ],
          "source": 15,
          "target": 24,
          "x": 349.13029822522935,
          "y": 357.9050033609482
         },
         {
          "edge": 68,
          "pair": [
           15,
           24
          ],
          "source": 15,
          "target": 24,
          "x": 388.2830810526646,
          "y": 423.5616273904526
         },
         {
          "edge": 69,
          "pair": [
           15,
           40
          ],
          "source": 15,
          "target": 40,
          "x": 349.13029822522935,
          "y": 357.9050033609482
         },
         {
          "edge": 69,
          "pair": [
           15,
           40
          ],
          "source": 15,
          "target": 40,
          "x": 390.4741278961767,
          "y": 292.0872743338017
         },
         {
          "edge": 70,
          "pair": [
           15,
           45
          ],
          "source": 15,
          "target": 45,
          "x": 349.13029822522935,
          "y": 357.9050033609482
         },
         {
          "edge": 70,
          "pair": [
           15,
           45
          ],
          "source": 15,
          "target": 45,
          "x": 369.91580289474916,
          "y": 382.5147075817652
         },
         {
          "edge": 71,
          "pair": [
           15,
           55
          ],
          "source": 15,
          "target": 55,
          "x": 349.13029822522935,
          "y": 357.9050033609482
         },
         {
          "edge": 71,
          "pair": [
           15,
           55
          ],
          "source": 15,
          "target": 55,
          "x": 299.23390716385023,
          "y": 407.6361598519059
         },
         {
          "edge": 72,
          "pair": [
           15,
           59
          ],
          "source": 15,
          "target": 59,
          "x": 349.13029822522935,
          "y": 357.9050033609482
         },
         {
          "edge": 72,
          "pair": [
           15,
           59
          ],
          "source": 15,
          "target": 59,
          "x": 347.57192810832873,
          "y": 326.0744317044589
         },
         {
          "edge": 73,
          "pair": [
           16,
           20
          ],
          "source": 16,
          "target": 20,
          "x": 514.9653314049835,
          "y": 341.5486357981058
         },
         {
          "edge": 73,
          "pair": [
           16,
           20
          ],
          "source": 16,
          "target": 20,
          "x": 435.4274723077632,
          "y": 305.19957385770715
         },
         {
          "edge": 74,
          "pair": [
           16,
           33
          ],
          "source": 16,
          "target": 33,
          "x": 514.9653314049835,
          "y": 341.5486357981058
         },
         {
          "edge": 74,
          "pair": [
           16,
           33
          ],
          "source": 16,
          "target": 33,
          "x": 533.6093869500093,
          "y": 375.78265648706713
         },
         {
          "edge": 75,
          "pair": [
           16,
           37
          ],
          "source": 16,
          "target": 37,
          "x": 514.9653314049835,
          "y": 341.5486357981058
         },
         {
          "edge": 75,
          "pair": [
           16,
           37
          ],
          "source": 16,
          "target": 37,
          "x": 487.5154831171504,
          "y": 320.2581913739102
         },
         {
          "edge": 76,
          "pair": [
           16,
           38
          ],
          "source": 16,
          "target": 38,
          "x": 514.9653314049835,
          "y": 341.5486357981058
         },
         {
          "edge": 76,
          "pair": [
           16,
           38
          ],
          "source": 16,
          "target": 38,
          "x": 564.9040008625649,
          "y": 349.6245571513718
         },
         {
          "edge": 77,
          "pair": [
           16,
           50
          ],
          "source": 16,
          "target": 50,
          "x": 514.9653314049835,
          "y": 341.5486357981058
         },
         {
          "edge": 77,
          "pair": [
           16,
           50
          ],
          "source": 16,
          "target": 50,
          "x": 436.59417626384067,
          "y": 348.79060543512145
         },
         {
          "edge": 78,
          "pair": [
           17,
           22
          ],
          "source": 17,
          "target": 22,
          "x": 152.54431316923723,
          "y": 65.6895971789418
         },
         {
          "edge": 78,
          "pair": [
           17,
           22
          ],
          "source": 17,
          "target": 22,
          "x": 141.9811555080648,
          "y": 20.811494230780696
         },
         {
          "edge": 79,
          "pair": [
           17,
           25
          ],
          "source": 17,
          "target": 25,
          "x": 152.54431316923723,
          "y": 65.6895971789418
         },
         {
          "edge": 79,
          "pair": [
           17,
           25
          ],
          "source": 17,
          "target": 25,
          "x": 239.6033641058536,
          "y": 71.49583340580165
         },
         {
          "edge": 80,
          "pair": [
           17,
           27
          ],
          "source": 17,
          "target": 27,
          "x": 152.54431316923723,
          "y": 65.6895971789418
         },
         {
          "edge": 80,
          "pair": [
           17,
           27
          ],
          "source": 17,
          "target": 27,
          "x": 251.4835067788634,
          "y": 97.34501358030315
         },
         {
          "edge": 81,
          "pair": [
           17,
           31
          ],
          "source": 17,
          "target": 31,
          "x": 152.54431316923723,
          "y": 65.6895971789418
         },
         {
          "edge": 81,
          "pair": [
           17,
           31
          ],
          "source": 17,
          "target": 31,
          "x": 161.0537794005124,
          "y": 22.043058104260787
         },
         {
          "edge": 82,
          "pair": [
           17,
           57
          ],
          "source": 17,
          "target": 57,
          "x": 152.54431316923723,
          "y": 65.6895971789418
         },
         {
          "edge": 82,
          "pair": [
           17,
           57
          ],
          "source": 17,
          "target": 57,
          "x": 102.1371235225073,
          "y": 128.0267702151954
         },
         {
          "edge": 83,
          "pair": [
           18,
           20
          ],
          "source": 18,
          "target": 20,
          "x": 391.7937875385147,
          "y": 403.82888157316836
         },
         {
          "edge": 83,
          "pair": [
           18,
           20
          ],
          "source": 18,
          "target": 20,
          "x": 435.4274723077632,
          "y": 305.19957385770715
         },
         {
          "edge": 84,
          "pair": [
           18,
           21
          ],
          "source": 18,
          "target": 21,
          "x": 391.7937875385147,
          "y": 403.82888157316836
         },
         {
          "edge": 84,
          "pair": [
           18,
           21
          ],
          "source": 18,
          "target": 21,
          "x": 432.46970953930554,
          "y": 401.6029545066018
         },
         {
          "edge": 85,
          "pair": [
           18,
           24
          ],
          "source": 18,
          "target": 24,
          "x": 391.7937875385147,
          "y": 403.82888157316836
         },
         {
          "edge": 85,
          "pair": [
           18,
           24
          ],
          "source": 18,
          "target": 24,
          "x": 388.2830810526646,
          "y": 423.5616273904526
         },
         {
          "edge": 86,
          "pair": [
           18,
           29
          ],
          "source": 18,
          "target": 29,
          "x": 391.7937875385147,
          "y": 403.82888157316836
         },
         {
          "edge": 86,
          "pair": [
           18,
           29
          ],
          "source": 18,
          "target": 29,
          "x": 454.6695293651842,
          "y": 412.2671904698788
         },
         {
          "edge": 87,
          "pair": [
           18,
           45
          ],
          "source": 18,
          "target": 45,
          "x": 391.7937875385147,
          "y": 403.82888157316836
         },
         {
          "edge": 87,
          "pair": [
           18,
           45
          ],
          "source": 18,
          "target": 45,
          "x": 369.91580289474916,
          "y": 382.5147075817652
         },
         {
          "edge": 88,
          "pair": [
           18,
           51
          ],
          "source": 18,
          "target": 51,
          "x": 391.7937875385147,
          "y": 403.82888157316836
         },
         {
          "edge": 88,
          "pair": [
           18,
           51
          ],
          "source": 18,
          "target": 51,
          "x": 347.98361606049554,
          "y": 428.9173756958455
         },
         {
          "edge": 89,
          "pair": [
           19,
           30
          ],
          "source": 19,
          "target": 30,
          "x": 272.3627094873166,
          "y": 161.4207661932077
         },
         {
          "edge": 89,
          "pair": [
           19,
           30
          ],
          "source": 19,
          "target": 30,
          "x": 356.2015269321151,
          "y": 197.95203323022267
         },
         {
          "edge": 90,
          "pair": [
           19,
           54
          ],
          "source": 19,
          "target": 54,
          "x": 272.3627094873166,
          "y": 161.4207661932077
         },
         {
          "edge": 90,
          "pair": [
           19,
           54
          ],
          "source": 19,
          "target": 54,
          "x": 183.4187026820754,
          "y": 132.5082348086523
         },
         {
          "edge": 91,
          "pair": [
           20,
           28
          ],
          "source": 20,
          "target": 28,
          "x": 435.4274723077632,
          "y": 305.19957385770715
         },
         {
          "edge": 91,
          "pair": [
           20,
           28
          ],
          "source": 20,
          "target": 28,
          "x": 363.3737431841263,
          "y": 228.97740564671759
         },
         {
          "edge": 92,
          "pair": [
           20,
           36
          ],
          "source": 20,
          "target": 36,
          "x": 435.4274723077632,
          "y": 305.19957385770715
         },
         {
          "edge": 92,
          "pair": [
           20,
           36
          ],
          "source": 20,
          "target": 36,
          "x": 316.8527314538498,
          "y": 286.0830003662734
         },
         {
          "edge": 93,
          "pair": [
           20,
           38
          ],
          "source": 20,
          "target": 38,
          "x": 435.4274723077632,
          "y": 305.19957385770715
         },
         {
          "edge": 93,
          "pair": [
           20,
           38
          ],
          "source": 20,
          "target": 38,
          "x": 564.9040008625649,
          "y": 349.6245571513718
         },
         {
          "edge": 94,
          "pair": [
           20,
           44
          ],
          "source": 20,
          "target": 44,
          "x": 435.4274723077632,
          "y": 305.19957385770715
         },
         {
          "edge": 94,
          "pair": [
           20,
           44
          ],
          "source": 20,
          "target": 44,
          "x": 557.605739165761,
          "y": 288.14581023802407
         },
         {
          "edge": 95,
          "pair": [
           20,
           47
          ],
          "source": 20,
          "target": 47,
          "x": 435.4274723077632,
          "y": 305.19957385770715
         },
         {
          "edge": 95,
          "pair": [
           20,
           47
          ],
          "source": 20,
          "target": 47,
          "x": 413.3970657730198,
          "y": 235.80902160600218
         },
         {
          "edge": 96,
          "pair": [
           20,
           50
          ],
          "source": 20,
          "target": 50,
          "x": 435.4274723077632,
          "y": 305.19957385770715
         },
         {
          "edge": 96,
          "pair": [
           20,
           50
          ],
          "source": 20,
          "target": 50,
          "x": 436.59417626384067,
          "y": 348.79060543512145
         },
         {
          "edge": 97,
          "pair": [
           21,
           29
          ],
          "source": 21,
          "target": 29,
          "x": 432.46970953930554,
          "y": 401.6029545066018
         },
         {
          "edge": 97,
          "pair": [
           21,
           29
          ],
          "source": 21,
          "target": 29,
          "x": 454.6695293651842,
          "y": 412.2671904698788
         },
         {
          "edge": 98,
          "pair": [
           21,
           33
          ],
          "source": 21,
          "target": 33,
          "x": 432.46970953930554,
          "y": 401.6029545066018
         },
         {
          "edge": 98,
          "pair": [
           21,
           33
          ],
          "source": 21,
          "target": 33,
          "x": 533.6093869500093,
          "y": 375.78265648706713
         },
         {
          "edge": 99,
          "pair": [
           21,
           37
          ],
          "source": 21,
          "target": 37,
          "x": 432.46970953930554,
          "y": 401.6029545066018
         },
         {
          "edge": 99,
          "pair": [
           21,
           37
          ],
          "source": 21,
          "target": 37,
          "x": 487.5154831171504,
          "y": 320.2581913739102
         },
         {
          "edge": 100,
          "pair": [
           21,
           45
          ],
          "source": 21,
          "target": 45,
          "x": 432.46970953930554,
          "y": 401.6029545066018
         },
         {
          "edge": 100,
          "pair": [
           21,
           45
          ],
          "source": 21,
          "target": 45,
          "x": 369.91580289474916,
          "y": 382.5147075817652
         },
         {
          "edge": 101,
          "pair": [
           21,
           51
          ],
          "source": 21,
          "target": 51,
          "x": 432.46970953930554,
          "y": 401.6029545066018
         },
         {
          "edge": 101,
          "pair": [
           21,
           51
          ],
          "source": 21,
          "target": 51,
          "x": 347.98361606049554,
          "y": 428.9173756958455
         },
         {
          "edge": 102,
          "pair": [
           23,
           36
          ],
          "source": 23,
          "target": 36,
          "x": 323.1560725597825,
          "y": 370.1560791748669
         },
         {
          "edge": 102,
          "pair": [
           23,
           36
          ],
          "source": 23,
          "target": 36,
          "x": 316.8527314538498,
          "y": 286.0830003662734
         },
         {
          "edge": 103,
          "pair": [
           23,
           45
          ],
          "source": 23,
          "target": 45,
          "x": 323.1560725597825,
          "y": 370.1560791748669
         },
         {
          "edge": 103,
          "pair": [
           23,
           45
          ],
          "source": 23,
          "target": 45,
          "x": 369.91580289474916,
          "y": 382.5147075817652
         },
         {
          "edge": 104,
          "pair": [
           23,
           51
          ],
          "source": 23,
          "target": 51,
          "x": 323.1560725597825,
          "y": 370.1560791748669
         },
         {
          "edge": 104,
          "pair": [
           23,
           51
          ],
          "source": 23,
          "target": 51,
          "x": 347.98361606049554,
          "y": 428.9173756958455
         },
         {
          "edge": 105,
          "pair": [
           24,
           29
          ],
          "source": 24,
          "target": 29,
          "x": 388.2830810526646,
          "y": 423.5616273904526
         },
         {
          "edge": 105,
          "pair": [
           24,
           29
          ],
          "source": 24,
          "target": 29,
          "x": 454.6695293651842,
          "y": 412.2671904698788
         },
         {
          "edge": 106,
          "pair": [
           24,
           45
          ],
          "source": 24,
          "target": 45,
          "x": 388.2830810526646,
          "y": 423.5616273904526
         },
         {
          "edge": 106,
          "pair": [
           24,
           45
          ],
          "source": 24,
          "target": 45,
          "x": 369.91580289474916,
          "y": 382.5147075817652
         },
         {
          "edge": 107,
          "pair": [
           24,
           51
          ],
          "source": 24,
          "target": 51,
          "x": 388.2830810526646,
          "y": 423.5616273904526
         },
         {
          "edge": 107,
          "pair": [
           24,
           51
          ],
          "source": 24,
          "target": 51,
          "x": 347.98361606049554,
          "y": 428.9173756958455
         },
         {
          "edge": 108,
          "pair": [
           25,
           26
          ],
          "source": 25,
          "target": 26,
          "x": 239.6033641058536,
          "y": 71.49583340580165
         },
         {
          "edge": 108,
          "pair": [
           25,
           26
          ],
          "source": 25,
          "target": 26,
          "x": 255.75766257294552,
          "y": 82.59487797642322
         },
         {
          "edge": 109,
          "pair": [
           25,
           27
          ],
          "source": 25,
          "target": 27,
          "x": 239.6033641058536,
          "y": 71.49583340580165
         },
         {
          "edge": 109,
          "pair": [
           25,
           27
          ],
          "source": 25,
          "target": 27,
          "x": 251.4835067788634,
          "y": 97.34501358030315
         },
         {
          "edge": 110,
          "pair": [
           26,
           27
          ],
          "source": 26,
          "target": 27,
          "x": 255.75766257294552,
          "y": 82.59487797642322
         },
         {
          "edge": 110,
          "pair": [
           26,
           27
          ],
          "source": 26,
          "target": 27,
          "x": 251.4835067788634,
          "y": 97.34501358030315
         },
         {
          "edge": 111,
          "pair": [
           28,
           30
          ],
          "source": 28,
          "target": 30,
          "x": 363.3737431841263,
          "y": 228.97740564671759
         },
         {
          "edge": 111,
          "pair": [
           28,
           30
          ],
          "source": 28,
          "target": 30,
          "x": 356.2015269321151,
          "y": 197.95203323022267
         },
         {
          "edge": 112,
          "pair": [
           28,
           47
          ],
          "source": 28,
          "target": 47,
          "x": 363.3737431841263,
          "y": 228.97740564671759
         },
         {
          "edge": 112,
          "pair": [
           28,
           47
          ],
          "source": 28,
          "target": 47,
          "x": 413.3970657730198,
          "y": 235.80902160600218
         },
         {
          "edge": 113,
          "pair": [
           29,
           35
          ],
          "source": 29,
          "target": 35,
          "x": 454.6695293651842,
          "y": 412.2671904698788
         },
         {
          "edge": 113,
          "pair": [
           29,
           35
          ],
          "source": 29,
          "target": 35,
          "x": 476.39286911350706,
          "y": 468.015811214998
         },
         {
          "edge": 114,
          "pair": [
           29,
           43
          ],
          "source": 29,
          "target": 43,
          "x": 454.6695293651842,
          "y": 412.2671904698788
         },
         {
          "edge": 114,
          "pair": [
           29,
           43
          ],
          "source": 29,
          "target": 43,
          "x": 600.5690031835941,
          "y": 355.22375451235825
         },
         {
          "edge": 115,
          "pair": [
           29,
           45
          ],
          "source": 29,
          "target": 45,
          "x": 454.6695293651842,
          "y": 412.2671904698788
         },
         {
          "edge": 115,
          "pair": [
           29,
           45
          ],
          "source": 29,
          "target": 45,
          "x": 369.91580289474916,
          "y": 382.5147075817652
         },
         {
          "edge": 116,
          "pair": [
           29,
           51
          ],
          "source": 29,
          "target": 51,
          "x": 454.6695293651842,
          "y": 412.2671904698788
         },
         {
          "edge": 116,
          "pair": [
           29,
           51
          ],
          "source": 29,
          "target": 51,
          "x": 347.98361606049554,
          "y": 428.9173756958455
         },
         {
          "edge": 117,
          "pair": [
           29,
           52
          ],
          "source": 29,
          "target": 52,
          "x": 454.6695293651842,
          "y": 412.2671904698788
         },
         {
          "edge": 117,
          "pair": [
           29,
           52
          ],
          "source": 29,
          "target": 52,
          "x": 487.89342457214764,
          "y": 375.22495309943366
         },
         {
          "edge": 118,
          "pair": [
           30,
           42
          ],
          "source": 30,
          "target": 42,
          "x": 356.2015269321151,
          "y": 197.95203323022267
         },
         {
          "edge": 118,
          "pair": [
           30,
           42
          ],
          "source": 30,
          "target": 42,
          "x": 450.2457638115743,
          "y": 247.1298315374348
         },
         {
          "edge": 119,
          "pair": [
           30,
           47
          ],
          "source": 30,
          "target": 47,
          "x": 356.2015269321151,
          "y": 197.95203323022267
         },
         {
          "edge": 119,
          "pair": [
           30,
           47
          ],
          "source": 30,
          "target": 47,
          "x": 413.3970657730198,
          "y": 235.80902160600218
         },
         {
          "edge": 120,
          "pair": [
           32,
           60
          ],
          "source": 32,
          "target": 60,
          "x": 19.392313988806972,
          "y": 42.7228733028854
         },
         {
          "edge": 120,
          "pair": [
           32,
           60
          ],
          "source": 32,
          "target": 60,
          "x": 0,
          "y": 31.152012443750966
         },
         {
          "edge": 121,
          "pair": [
           33,
           34
          ],
          "source": 33,
          "target": 34,
          "x": 533.6093869500093,
          "y": 375.78265648706713
         },
         {
          "edge": 121,
          "pair": [
           33,
           34
          ],
          "source": 33,
          "target": 34,
          "x": 584.2219907475559,
          "y": 318.1579068979096
         },
         {
          "edge": 122,
          "pair": [
           33,
           37
          ],
          "source": 33,
          "target": 37,
          "x": 533.6093869500093,
          "y": 375.78265648706713
         },
         {
          "edge": 122,
          "pair": [
           33,
           37
          ],
          "source": 33,
          "target": 37,
          "x": 487.5154831171504,
          "y": 320.2581913739102
         },
         {
          "edge": 123,
          "pair": [
           33,
           38
          ],
          "source": 33,
          "target": 38,
          "x": 533.6093869500093,
          "y": 375.78265648706713
         },
         {
          "edge": 123,
          "pair": [
           33,
           38
          ],
          "source": 33,
          "target": 38,
          "x": 564.9040008625649,
          "y": 349.6245571513718
         },
         {
          "edge": 124,
          "pair": [
           33,
           40
          ],
          "source": 33,
          "target": 40,
          "x": 533.6093869500093,
          "y": 375.78265648706713
         },
         {
          "edge": 124,
          "pair": [
           33,
           40
          ],
          "source": 33,
          "target": 40,
          "x": 390.4741278961767,
          "y": 292.0872743338017
         },
         {
          "edge": 125,
          "pair": [
           33,
           43
          ],
          "source": 33,
          "target": 43,
          "x": 533.6093869500093,
          "y": 375.78265648706713
         },
         {
          "edge": 125,
          "pair": [
           33,
           43
          ],
          "source": 33,
          "target": 43,
          "x": 600.5690031835941,
          "y": 355.22375451235825
         },
         {
          "edge": 126,
          "pair": [
           33,
           50
          ],
          "source": 33,
          "target": 50,
          "x": 533.6093869500093,
          "y": 375.78265648706713
         },
         {
          "edge": 126,
          "pair": [
           33,
           50
          ],
          "source": 33,
          "target": 50,
          "x": 436.59417626384067,
          "y": 348.79060543512145
         },
         {
          "edge": 127,
          "pair": [
           34,
           37
          ],
          "source": 34,
          "target": 37,
          "x": 584.2219907475559,
          "y": 318.1579068979096
         },
         {
          "edge": 127,
          "pair": [
           34,
           37
          ],
          "source": 34,
          "target": 37,
          "x": 487.5154831171504,
          "y": 320.2581913739102
         },
         {
          "edge": 128,
          "pair": [
           34,
           44
          ],
          "source": 34,
          "target": 44,
          "x": 584.2219907475559,
          "y": 318.1579068979096
         },
         {
          "edge": 128,
          "pair": [
           34,
           44
          ],
          "source": 34,
          "target": 44,
          "x": 557.605739165761,
          "y": 288.14581023802407
         },
         {
          "edge": 129,
          "pair": [
           34,
           49
          ],
          "source": 34,
          "target": 49,
          "x": 584.2219907475559,
          "y": 318.1579068979096
         },
         {
          "edge": 129,
          "pair": [
           34,
           49
          ],
          "source": 34,
          "target": 49,
          "x": 661.9183385449686,
          "y": 331.4537904110634
         },
         {
          "edge": 130,
          "pair": [
           36,
           37
          ],
          "source": 36,
          "target": 37,
          "x": 316.8527314538498,
          "y": 286.0830003662734
         },
         {
          "edge": 130,
          "pair": [
           36,
           37
          ],
          "source": 36,
          "target": 37,
          "x": 487.5154831171504,
          "y": 320.2581913739102
         },
         {
          "edge": 131,
          "pair": [
           36,
           39
          ],
          "source": 36,
          "target": 39,
          "x": 316.8527314538498,
          "y": 286.0830003662734
         },
         {
          "edge": 131,
          "pair": [
           36,
           39
          ],
          "source": 36,
          "target": 39,
          "x": 152.6020870350991,
          "y": 178.4657618794538
         },
         {
          "edge": 132,
          "pair": [
           36,
           40
          ],
          "source": 36,
          "target": 40,
          "x": 316.8527314538498,
          "y": 286.0830003662734
         },
         {
          "edge": 132,
          "pair": [
           36,
           40
          ],
          "source": 36,
          "target": 40,
          "x": 390.4741278961767,
          "y": 292.0872743338017
         },
         {
          "edge": 133,
          "pair": [
           36,
           59
          ],
          "source": 36,
          "target": 59,
          "x": 316.8527314538498,
          "y": 286.0830003662734
         },
         {
          "edge": 133,
          "pair": [
           36,
           59
          ],
          "source": 36,
          "target": 59,
          "x": 347.57192810832873,
          "y": 326.0744317044589
         },
         {
          "edge": 134,
          "pair": [
           37,
           40
          ],
          "source": 37,
          "target": 40,
          "x": 487.5154831171504,
          "y": 320.2581913739102
         },
         {
          "edge": 134,
          "pair": [
           37,
           40
          ],
          "source": 37,
          "target": 40,
          "x": 390.4741278961767,
          "y": 292.0872743338017
         },
         {
          "edge": 135,
          "pair": [
           37,
           43
          ],
          "source": 37,
          "target": 43,
          "x": 487.5154831171504,
          "y": 320.2581913739102
         },
         {
          "edge": 135,
          "pair": [
           37,
           43
          ],
          "source": 37,
          "target": 43,
          "x": 600.5690031835941,
          "y": 355.22375451235825
         },
         {
          "edge": 136,
          "pair": [
           37,
           45
          ],
          "source": 37,
          "target": 45,
          "x": 487.5154831171504,
          "y": 320.2581913739102
         },
         {
          "edge": 136,
          "pair": [
           37,
           45
          ],
          "source": 37,
          "target": 45,
          "x": 369.91580289474916,
          "y": 382.5147075817652
         },
         {
          "edge": 137,
          "pair": [
           37,
           61
          ],
          "source": 37,
          "target": 61,
          "x": 487.5154831171504,
          "y": 320.2581913739102
         },
         {
          "edge": 137,
          "pair": [
           37,
           61
          ],
          "source": 37,
          "target": 61,
          "x": 590.5852450080308,
          "y": 269.21929317540145
         },
         {
          "edge": 138,
          "pair": [
           38,
           43
          ],
          "source": 38,
          "target": 43,
          "x": 564.9040008625649,
          "y": 349.6245571513718
         },
         {
          "edge": 138,
          "pair": [
           38,
           43
          ],
          "source": 38,
          "target": 43,
          "x": 600.5690031835941,
          "y": 355.22375451235825
         },
         {
          "edge": 139,
          "pair": [
           38,
           44
          ],
          "source": 38,
          "target": 44,
          "x": 564.9040008625649,
          "y": 349.6245571513718
         },
         {
          "edge": 139,
          "pair": [
           38,
           44
          ],
          "source": 38,
          "target": 44,
          "x": 557.605739165761,
          "y": 288.14581023802407
         },
         {
          "edge": 140,
          "pair": [
           38,
           52
          ],
          "source": 38,
          "target": 52,
          "x": 564.9040008625649,
          "y": 349.6245571513718
         },
         {
          "edge": 140,
          "pair": [
           38,
           52
          ],
          "source": 38,
          "target": 52,
          "x": 487.89342457214764,
          "y": 375.22495309943366
         },
         {
          "edge": 141,
          "pair": [
           38,
           58
          ],
          "source": 38,
          "target": 58,
          "x": 564.9040008625649,
          "y": 349.6245571513718
         },
         {
          "edge": 141,
          "pair": [
           38,
           58
          ],
          "source": 38,
          "target": 58,
          "x": 631.6513269840664,
          "y": 376.35142950953707
         },
         {
          "edge": 142,
          "pair": [
           39,
           57
          ],
          "source": 39,
          "target": 57,
          "x": 152.6020870350991,
          "y": 178.4657618794538
         },
         {
          "edge": 142,
          "pair": [
           39,
           57
          ],
          "source": 39,
          "target": 57,
          "x": 102.1371235225073,
          "y": 128.0267702151954
         },
         {
          "edge": 143,
          "pair": [
           40,
           52
          ],
          "source": 40,
          "target": 52,
          "x": 390.4741278961767,
          "y": 292.0872743338017
         },
         {
          "edge": 143,
          "pair": [
           40,
           52
          ],
          "source": 40,
          "target": 52,
          "x": 487.89342457214764,
          "y": 375.22495309943366
         },
         {
          "edge": 144,
          "pair": [
           41,
           54
          ],
          "source": 41,
          "target": 54,
          "x": 136.62513594397998,
          "y": 113.13294620293385
         },
         {
          "edge": 144,
          "pair": [
           41,
           54
          ],
          "source": 41,
          "target": 54,
          "x": 183.4187026820754,
          "y": 132.5082348086523
         },
         {
          "edge": 145,
          "pair": [
           41,
           57
          ],
          "source": 41,
          "target": 57,
          "x": 136.62513594397998,
          "y": 113.13294620293385
         },
         {
          "edge": 145,
          "pair": [
           41,
           57
          ],
          "source": 41,
          "target": 57,
          "x": 102.1371235225073,
          "y": 128.0267702151954
         },
         {
          "edge": 146,
          "pair": [
           42,
           47
          ],
          "source": 42,
          "target": 47,
          "x": 450.2457638115743,
          "y": 247.1298315374348
         },
         {
          "edge": 146,
          "pair": [
           42,
           47
          ],
          "source": 42,
          "target": 47,
          "x": 413.3970657730198,
          "y": 235.80902160600218
         },
         {
          "edge": 147,
          "pair": [
           42,
           50
          ],
          "source": 42,
          "target": 50,
          "x": 450.2457638115743,
          "y": 247.1298315374348
         },
         {
          "edge": 147,
          "pair": [
           42,
           50
          ],
          "source": 42,
          "target": 50,
          "x": 436.59417626384067,
          "y": 348.79060543512145
         },
         {
          "edge": 148,
          "pair": [
           43,
           46
          ],
          "source": 43,
          "target": 46,
          "x": 600.5690031835941,
          "y": 355.22375451235825
         },
         {
          "edge": 148,
          "pair": [
           43,
           46
          ],
          "source": 43,
          "target": 46,
          "x": 670.5732837854907,
          "y": 341.6609939923135
         },
         {
          "edge": 149,
          "pair": [
           43,
           53
          ],
          "source": 43,
          "target": 53,
          "x": 600.5690031835941,
          "y": 355.22375451235825
         },
         {
          "edge": 149,
          "pair": [
           43,
           53
          ],
          "source": 43,
          "target": 53,
          "x": 617.086648195976,
          "y": 285.4203195333471
         },
         {
          "edge": 150,
          "pair": [
           45,
           50
          ],
          "source": 45,
          "target": 50,
          "x": 369.91580289474916,
          "y": 382.5147075817652
         },
         {
          "edge": 150,
          "pair": [
           45,
           50
          ],
          "source": 45,
          "target": 50,
          "x": 436.59417626384067,
          "y": 348.79060543512145
         },
         {
          "edge": 151,
          "pair": [
           45,
           51
          ],
          "source": 45,
          "target": 51,
          "x": 369.91580289474916,
          "y": 382.5147075817652
         },
         {
          "edge": 151,
          "pair": [
           45,
           51
          ],
          "source": 45,
          "target": 51,
          "x": 347.98361606049554,
          "y": 428.9173756958455
         },
         {
          "edge": 152,
          "pair": [
           45,
           59
          ],
          "source": 45,
          "target": 59,
          "x": 369.91580289474916,
          "y": 382.5147075817652
         },
         {
          "edge": 152,
          "pair": [
           45,
           59
          ],
          "source": 45,
          "target": 59,
          "x": 347.57192810832873,
          "y": 326.0744317044589
         },
         {
          "edge": 153,
          "pair": [
           46,
           49
          ],
          "source": 46,
          "target": 49,
          "x": 670.5732837854907,
          "y": 341.6609939923135
         },
         {
          "edge": 153,
          "pair": [
           46,
           49
          ],
          "source": 46,
          "target": 49,
          "x": 661.9183385449686,
          "y": 331.4537904110634
         },
         {
          "edge": 154,
          "pair": [
           48,
           57
          ],
          "source": 48,
          "target": 57,
          "x": 88.5769978365488,
          "y": 136.07879065971164
         },
         {
          "edge": 154,
          "pair": [
           48,
           57
          ],
          "source": 48,
          "target": 57,
          "x": 102.1371235225073,
          "y": 128.0267702151954
         },
         {
          "edge": 155,
          "pair": [
           50,
           51
          ],
          "source": 50,
          "target": 51,
          "x": 436.59417626384067,
          "y": 348.79060543512145
         },
         {
          "edge": 155,
          "pair": [
           50,
           51
          ],
          "source": 50,
          "target": 51,
          "x": 347.98361606049554,
          "y": 428.9173756958455
         },
         {
          "edge": 156,
          "pair": [
           51,
           55
          ],
          "source": 51,
          "target": 55,
          "x": 347.98361606049554,
          "y": 428.9173756958455
         },
         {
          "edge": 156,
          "pair": [
           51,
           55
          ],
          "source": 51,
          "target": 55,
          "x": 299.23390716385023,
          "y": 407.6361598519059
         },
         {
          "edge": 157,
          "pair": [
           53,
           61
          ],
          "source": 53,
          "target": 61,
          "x": 617.086648195976,
          "y": 285.4203195333471
         },
         {
          "edge": 157,
          "pair": [
           53,
           61
          ],
          "source": 53,
          "target": 61,
          "x": 590.5852450080308,
          "y": 269.21929317540145
         },
         {
          "edge": 158,
          "pair": [
           54,
           57
          ],
          "source": 54,
          "target": 57,
          "x": 183.4187026820754,
          "y": 132.5082348086523
         },
         {
          "edge": 158,
          "pair": [
           54,
           57
          ],
          "source": 54,
          "target": 57,
          "x": 102.1371235225073,
          "y": 128.0267702151954
         }
        ],
        "data-ae4ea019c4c04f969e9e65c77e663cb5": [
         {
          "__node_r": 5.186679028459569,
          "__node_size": 107.60655737704919,
          "__y_label": 265.7528175476251,
          "betweenness_centrality": 0.01908259621374376,
          "degree_centrality": 0.09836065573770492,
          "label": "Beak",
          "sex": "M",
          "x": 420.1819664820528,
          "y": 278.9394965760847
         },
         {
          "__node_r": 5.733136354476177,
          "__node_size": 131.47540983606558,
          "__y_label": 129.0371240742291,
          "betweenness_centrality": 0.21332443553281097,
          "degree_centrality": 0.13114754098360656,
          "label": "Beescratch",
          "sex": "M",
          "x": 241.93482526534757,
          "y": 142.77026042870528
         },
         {
          "__node_r": 4.575415416058765,
          "__node_size": 83.73770491803279,
          "__y_label": 243.7729624281372,
          "betweenness_centrality": 0.00907281243346817,
          "degree_centrality": 0.06557377049180328,
          "label": "Bumper",
          "sex": "M",
          "x": 529.9079897671813,
          "y": 256.34837784419597
         },
         {
          "__node_r": 4.236840765491564,
          "__node_size": 71.80327868852459,
          "__y_label": 316.3625460345886,
          "betweenness_centrality": 0.0023737965131407756,
          "degree_centrality": 0.04918032786885246,
          "label": "CCL",
          "sex": "F",
          "x": 396.84015761094594,
          "y": 328.5993868000802
         },
         {
          "__node_r": 3.4617346168325858,
          "__node_size": 47.9344262295082,
          "__y_label": 433.4470236800924,
          "betweenness_centrality": 0,
          "degree_centrality": 0.01639344262295082,
          "label": "Cross",
          "sex": "M",
          "x": 340.16774452513584,
          "y": 444.908758296925
         },
         {
          "__node_r": 4.575415416058765,
          "__node_size": 83.73770491803279,
          "__y_label": 84.88267014548177,
          "betweenness_centrality": 0.004380300179480508,
          "degree_centrality": 0.06557377049180328,
          "label": "DN16",
          "sex": "F",
          "x": 53.164265161505526,
          "y": 97.45808556154053
         },
         {
          "__node_r": 5.186679028459569,
          "__node_size": 107.60655737704919,
          "__y_label": 83.62835234932189,
          "betweenness_centrality": 0.029372536747686685,
          "degree_centrality": 0.09836065573770492,
          "label": "DN21",
          "sex": "M",
          "x": 96.94373117867435,
          "y": 96.81503137778145
         },
         {
          "__node_r": 4.890606586803446,
          "__node_size": 95.672131147541,
          "__y_label": 161.85426335023016,
          "betweenness_centrality": 0.11823861926938342,
          "degree_centrality": 0.0819672131147541,
          "label": "DN63",
          "sex": "M",
          "x": 294.4273570131189,
          "y": 174.7448699370336
         },
         {
          "__node_r": 5.186679028459569,
          "__node_size": 107.60655737704919,
          "__y_label": 298.766560558101,
          "betweenness_centrality": 0.022365737598409235,
          "degree_centrality": 0.09836065573770492,
          "label": "Double",
          "sex": "F",
          "x": 388.50675063695064,
          "y": 311.9532395865606
         },
         {
          "__node_r": 5.466739970186925,
          "__node_size": 119.54098360655738,
          "__y_label": 62.636063328526674,
          "betweenness_centrality": 0.020894380361593475,
          "degree_centrality": 0.11475409836065574,
          "label": "Feather",
          "sex": "M",
          "x": 64.24321172642232,
          "y": 76.1028032987136
         },
         {
          "__node_r": 4.890606586803446,
          "__node_size": 95.672131147541,
          "__y_label": 259.954522001937,
          "betweenness_centrality": 0.016092020911693046,
          "degree_centrality": 0.0819672131147541,
          "label": "Fish",
          "sex": "F",
          "x": 468.63235192846537,
          "y": 272.84512858874047
         },
         {
          "__node_r": 3.4617346168325858,
          "__node_size": 47.9344262295082,
          "__y_label": 429.637947382085,
          "betweenness_centrality": 0,
          "degree_centrality": 0.01639344262295082,
          "label": "Five",
          "sex": "F",
          "x": 332.59143760973427,
          "y": 441.09968199891756
         },
         {
          "__node_r": 3.4617346168325858,
          "__node_size": 47.9344262295082,
          "__y_label": 376.9125439996917,
          "betweenness_centrality": 0,
          "degree_centrality": 0.01639344262295082,
          "label": "Fork",
          "sex": "M",
          "x": 548.0599275635443,
          "y": 388.3742786165243
         },
         {
          "__node_r": 5.733136354476177,
          "__node_size": 131.47540983606558,
          "__y_label": 65.02198961024486,
          "betweenness_centrality": 0.05284632843869151,
          "degree_centrality": 0.13114754098360656,
          "label": "Gallatin",
          "sex": "M",
          "x": 89.24418233483244,
          "y": 78.75512596472103
         },
         {
          "__node_r": 6.693525131686934,
          "__node_size": 179.21311475409837,
          "__y_label": 329.96337333886794,
          "betweenness_centrality": 0.06197200484885411,
          "degree_centrality": 0.19672131147540983,
          "label": "Grin",
          "sex": "F",
          "x": 474.1199375165614,
          "y": 344.6568984705549
         },
         {
          "__node_r": 5.466739970186925,
          "__node_size": 119.54098360655738,
          "__y_label": 344.4382633907613,
          "betweenness_centrality": 0.03329222098223321,
          "degree_centrality": 0.11475409836065574,
          "label": "Haecksel",
          "sex": "M",
          "x": 349.13029822522935,
          "y": 357.9050033609482
         },
         {
          "__node_r": 5.186679028459569,
          "__node_size": 107.60655737704919,
          "__y_label": 328.3619567696462,
          "betweenness_centrality": 0.0033047098620869113,
          "degree_centrality": 0.09836065573770492,
          "label": "Hook",
          "sex": "F",
          "x": 514.9653314049835,
          "y": 341.5486357981058
         },
         {
          "__node_r": 5.98769229473204,
          "__node_size": 143.40983606557376,
          "__y_label": 51.70190488420975,
          "betweenness_centrality": 0.11430016291546972,
          "degree_centrality": 0.14754098360655737,
          "label": "Jet",
          "sex": "M",
          "x": 152.54431316923723,
          "y": 65.6895971789418
         },
         {
          "__node_r": 5.466739970186925,
          "__node_size": 119.54098360655738,
          "__y_label": 390.3621416029814,
          "betweenness_centrality": 0.014854899716954898,
          "degree_centrality": 0.11475409836065574,
          "label": "Jonah",
          "sex": "M",
          "x": 391.7937875385147,
          "y": 403.82888157316836
         },
         {
          "__node_r": 4.575415416058765,
          "__node_size": 83.73770491803279,
          "__y_label": 148.84535077714892,
          "betweenness_centrality": 0.013314394166853183,
          "degree_centrality": 0.06557377049180328,
          "label": "Knit",
          "sex": "M",
          "x": 272.3627094873166,
          "y": 161.4207661932077
         },
         {
          "__node_r": 5.98769229473204,
          "__node_size": 143.40983606557376,
          "__y_label": 291.2118815629751,
          "betweenness_centrality": 0.10264573972090968,
          "degree_centrality": 0.14754098360655737,
          "label": "Kringel",
          "sex": "F",
          "x": 435.4274723077632,
          "y": 305.19957385770715
         },
         {
          "__node_r": 5.186679028459569,
          "__node_size": 107.60655737704919,
          "__y_label": 388.4162754781422,
          "betweenness_centrality": 0.012700653930162125,
          "degree_centrality": 0.09836065573770492,
          "label": "MN105",
          "sex": "M",
          "x": 432.46970953930554,
          "y": 401.6029545066018
         },
         {
          "__node_r": 3.4617346168325858,
          "__node_size": 47.9344262295082,
          "__y_label": 9.349759613948109,
          "betweenness_centrality": 0,
          "degree_centrality": 0.01639344262295082,
          "label": "MN23",
          "sex": "M",
          "x": 141.9811555080648,
          "y": 20.811494230780696
         },
         {
          "__node_r": 4.236840765491564,
          "__node_size": 71.80327868852459,
          "__y_label": 357.91923840937534,
          "betweenness_centrality": 0.04218278563875618,
          "degree_centrality": 0.04918032786885246,
          "label": "MN60",
          "sex": "M",
          "x": 323.1560725597825,
          "y": 370.1560791748669
         },
         {
          "__node_r": 5.186679028459569,
          "__node_size": 107.60655737704919,
          "__y_label": 410.374948361993,
          "betweenness_centrality": 0.007383043489600868,
          "degree_centrality": 0.09836065573770492,
          "label": "MN83",
          "sex": "M",
          "x": 388.2830810526646,
          "y": 423.5616273904526
         },
         {
          "__node_r": 4.236840765491564,
          "__node_size": 71.80327868852459,
          "__y_label": 59.25899264031008,
          "betweenness_centrality": 0.0016441148408361526,
          "degree_centrality": 0.04918032786885246,
          "label": "Mus",
          "sex": "M",
          "x": 239.6033641058536,
          "y": 71.49583340580165
         },
         {
          "__node_r": 4.236840765491564,
          "__node_size": 71.80327868852459,
          "__y_label": 70.35803721093166,
          "betweenness_centrality": 0.00436247723132969,
          "degree_centrality": 0.04918032786885246,
          "label": "Notch",
          "sex": "M",
          "x": 255.75766257294552,
          "y": 82.59487797642322
         },
         {
          "__node_r": 4.890606586803446,
          "__node_size": 95.672131147541,
          "__y_label": 84.4544069934997,
          "betweenness_centrality": 0.029236860493157983,
          "degree_centrality": 0.0819672131147541,
          "label": "Number1",
          "sex": "M",
          "x": 251.4835067788634,
          "y": 97.34501358030315
         },
         {
          "__node_r": 4.890606586803446,
          "__node_size": 95.672131147541,
          "__y_label": 216.08679905991414,
          "betweenness_centrality": 0.06675695466395656,
          "degree_centrality": 0.0819672131147541,
          "label": "Oscar",
          "sex": "M",
          "x": 363.3737431841263,
          "y": 228.97740564671759
         },
         {
          "__node_r": 5.98769229473204,
          "__node_size": 143.40983606557376,
          "__y_label": 398.2794981751468,
          "betweenness_centrality": 0.06552928249649563,
          "degree_centrality": 0.14754098360655737,
          "label": "Patchback",
          "sex": "M",
          "x": 454.6695293651842,
          "y": 412.2671904698788
         },
         {
          "__node_r": 4.890606586803446,
          "__node_size": 95.672131147541,
          "__y_label": 185.06142664341922,
          "betweenness_centrality": 0.03305046077177225,
          "degree_centrality": 0.0819672131147541,
          "label": "PL",
          "sex": "M",
          "x": 356.2015269321151,
          "y": 197.95203323022267
         },
         {
          "__node_r": 3.4617346168325858,
          "__node_size": 47.9344262295082,
          "__y_label": 10.5813234874282,
          "betweenness_centrality": 0,
          "degree_centrality": 0.01639344262295082,
          "label": "Quasi",
          "sex": "M",
          "x": 161.0537794005124,
          "y": 22.043058104260787
         },
         {
          "__node_r": 4.236840765491564,
          "__node_size": 71.80327868852459,
          "__y_label": 30.486032537393832,
          "betweenness_centrality": 0.03278688524590164,
          "degree_centrality": 0.04918032786885246,
          "label": "Ripplefluke",
          "sex": "U",
          "x": 19.392313988806972,
          "y": 42.7228733028854
         },
         {
          "__node_r": 6.231858917993129,
          "__node_size": 155.344262295082,
          "__y_label": 361.550797569074,
          "betweenness_centrality": 0.057166440117259784,
          "degree_centrality": 0.1639344262295082,
          "label": "Scabs",
          "sex": "F",
          "x": 533.6093869500093,
          "y": 375.78265648706713
         },
         {
          "__node_r": 4.890606586803446,
          "__node_size": 95.672131147541,
          "__y_label": 305.2673003111061,
          "betweenness_centrality": 0.032694759702956426,
          "degree_centrality": 0.0819672131147541,
          "label": "Shmuddel",
          "sex": "F",
          "x": 584.2219907475559,
          "y": 318.1579068979096
         },
         {
          "__node_r": 3.4617346168325858,
          "__node_size": 47.9344262295082,
          "__y_label": 456.5540765981654,
          "betweenness_centrality": 0,
          "degree_centrality": 0.01639344262295082,
          "label": "SMN5",
          "sex": "M",
          "x": 476.39286911350706,
          "y": 468.015811214998
         },
         {
          "__node_r": 5.466739970186925,
          "__node_size": 119.54098360655738,
          "__y_label": 272.61626039608643,
          "betweenness_centrality": 0.24823719602893804,
          "degree_centrality": 0.11475409836065574,
          "label": "SN100",
          "sex": "F",
          "x": 316.8527314538498,
          "y": 286.0830003662734
         },
         {
          "__node_r": 6.466813135629291,
          "__node_size": 167.27868852459017,
          "__y_label": 305.7913782382809,
          "betweenness_centrality": 0.13856978865859435,
          "degree_centrality": 0.18032786885245902,
          "label": "SN4",
          "sex": "F",
          "x": 487.5154831171504,
          "y": 320.2581913739102
         },
         {
          "__node_r": 5.733136354476177,
          "__node_size": 131.47540983606558,
          "__y_label": 335.8914207968956,
          "betweenness_centrality": 0.04535223883584539,
          "degree_centrality": 0.13114754098360656,
          "label": "SN63",
          "sex": "F",
          "x": 564.9040008625649,
          "y": 349.6245571513718
         },
         {
          "__node_r": 3.86874826200337,
          "__node_size": 59.868852459016395,
          "__y_label": 166.59701361745041,
          "betweenness_centrality": 0.070516778539934,
          "degree_centrality": 0.03278688524590164,
          "label": "SN89",
          "sex": "F",
          "x": 152.6020870350991,
          "y": 178.4657618794538
         },
         {
          "__node_r": 5.733136354476177,
          "__node_size": 131.47540983606558,
          "__y_label": 278.3541379793255,
          "betweenness_centrality": 0.1431495183426175,
          "degree_centrality": 0.13114754098360656,
          "label": "SN9",
          "sex": "F",
          "x": 390.4741278961767,
          "y": 292.0872743338017
         },
         {
          "__node_r": 4.890606586803446,
          "__node_size": 95.672131147541,
          "__y_label": 100.24233961613041,
          "betweenness_centrality": 0.023251600670186175,
          "degree_centrality": 0.0819672131147541,
          "label": "SN90",
          "sex": "M",
          "x": 136.62513594397998,
          "y": 113.13294620293385
         },
         {
          "__node_r": 5.186679028459569,
          "__node_size": 107.60655737704919,
          "__y_label": 233.94315250897523,
          "betweenness_centrality": 0.029157951944837193,
          "degree_centrality": 0.09836065573770492,
          "label": "SN96",
          "sex": "M",
          "x": 450.2457638115743,
          "y": 247.1298315374348
         },
         {
          "__node_r": 5.466739970186925,
          "__node_size": 119.54098360655738,
          "__y_label": 341.7570145421713,
          "betweenness_centrality": 0.06283060442896508,
          "degree_centrality": 0.11475409836065574,
          "label": "Stripes",
          "sex": "F",
          "x": 600.5690031835941,
          "y": 355.22375451235825
         },
         {
          "__node_r": 4.575415416058765,
          "__node_size": 83.73770491803279,
          "__y_label": 275.5703948219653,
          "betweenness_centrality": 0.012037805849281259,
          "degree_centrality": 0.06557377049180328,
          "label": "Thumper",
          "sex": "M",
          "x": 557.605739165761,
          "y": 288.14581023802407
         },
         {
          "__node_r": 6.466813135629291,
          "__node_size": 167.27868852459017,
          "__y_label": 368.0478944461359,
          "betweenness_centrality": 0.04067044059647018,
          "degree_centrality": 0.18032786885245902,
          "label": "Topless",
          "sex": "M",
          "x": 369.91580289474916,
          "y": 382.5147075817652
         },
         {
          "__node_r": 3.86874826200337,
          "__node_size": 59.868852459016395,
          "__y_label": 329.7922457303101,
          "betweenness_centrality": 0.0030084669428931724,
          "degree_centrality": 0.03278688524590164,
          "label": "TR120",
          "sex": "F",
          "x": 670.5732837854907,
          "y": 341.6609939923135
         },
         {
          "__node_r": 5.186679028459569,
          "__node_size": 107.60655737704919,
          "__y_label": 222.6223425775426,
          "betweenness_centrality": 0.0232014761195089,
          "degree_centrality": 0.09836065573770492,
          "label": "TR77",
          "sex": "F",
          "x": 413.3970657730198,
          "y": 235.80902160600218
         },
         {
          "__node_r": 3.4617346168325858,
          "__node_size": 47.9344262295082,
          "__y_label": 124.61705604287906,
          "betweenness_centrality": 0,
          "degree_centrality": 0.01639344262295082,
          "label": "TR82",
          "sex": "U",
          "x": 88.5769978365488,
          "y": 136.07879065971164
         },
         {
          "__node_r": 3.86874826200337,
          "__node_size": 59.868852459016395,
          "__y_label": 319.58504214906003,
          "betweenness_centrality": 0.0009289617486338798,
          "degree_centrality": 0.03278688524590164,
          "label": "TR88",
          "sex": "F",
          "x": 661.9183385449686,
          "y": 331.4537904110634
         },
         {
          "__node_r": 5.466739970186925,
          "__node_size": 119.54098360655738,
          "__y_label": 335.3238654649345,
          "betweenness_centrality": 0.03341103492742837,
          "degree_centrality": 0.11475409836065574,
          "label": "TR99",
          "sex": "F",
          "x": 436.59417626384067,
          "y": 348.79060543512145
         },
         {
          "__node_r": 6.231858917993129,
          "__node_size": 155.344262295082,
          "__y_label": 414.6855167778524,
          "betweenness_centrality": 0.08467725475022557,
          "degree_centrality": 0.1639344262295082,
          "label": "Trigger",
          "sex": "F",
          "x": 347.98361606049554,
          "y": 428.9173756958455
         },
         {
          "__node_r": 4.575415416058765,
          "__node_size": 83.73770491803279,
          "__y_label": 362.6495376833749,
          "betweenness_centrality": 0.0192343448900826,
          "degree_centrality": 0.06557377049180328,
          "label": "TSN103",
          "sex": "F",
          "x": 487.89342457214764,
          "y": 375.22495309943366
         },
         {
          "__node_r": 3.86874826200337,
          "__node_size": 59.868852459016395,
          "__y_label": 273.55157127134373,
          "betweenness_centrality": 0.0011930783242258653,
          "degree_centrality": 0.03278688524590164,
          "label": "TSN83",
          "sex": "U",
          "x": 617.086648195976,
          "y": 285.4203195333471
         },
         {
          "__node_r": 5.466739970186925,
          "__node_size": 119.54098360655738,
          "__y_label": 119.04149483846538,
          "betweenness_centrality": 0.0991216467635194,
          "degree_centrality": 0.11475409836065574,
          "label": "Upbang",
          "sex": "M",
          "x": 183.4187026820754,
          "y": 132.5082348086523
         },
         {
          "__node_r": 3.86874826200337,
          "__node_size": 59.868852459016395,
          "__y_label": 395.76741158990257,
          "betweenness_centrality": 0.0008774695250105086,
          "degree_centrality": 0.03278688524590164,
          "label": "Vau",
          "sex": "F",
          "x": 299.23390716385023,
          "y": 407.6361598519059
         },
         {
          "__node_r": 3.86874826200337,
          "__node_size": 59.868852459016395,
          "__y_label": 87.26545452800828,
          "betweenness_centrality": 0.0001366120218579235,
          "degree_centrality": 0.03278688524590164,
          "label": "Wave",
          "sex": "F",
          "x": 34.52635826550194,
          "y": 99.13420279001164
         },
         {
          "__node_r": 5.98769229473204,
          "__node_size": 143.40983606557376,
          "__y_label": 114.03907792046336,
          "betweenness_centrality": 0.08420468343495603,
          "degree_centrality": 0.14754098360655737,
          "label": "Web",
          "sex": "M",
          "x": 102.1371235225073,
          "y": 128.0267702151954
         },
         {
          "__node_r": 3.4617346168325858,
          "__node_size": 47.9344262295082,
          "__y_label": 364.8896948927045,
          "betweenness_centrality": 0,
          "degree_centrality": 0.01639344262295082,
          "label": "Whitetip",
          "sex": "F",
          "x": 631.6513269840664,
          "y": 376.35142950953707
         },
         {
          "__node_r": 4.890606586803446,
          "__node_size": 95.672131147541,
          "__y_label": 313.18382511765543,
          "betweenness_centrality": 0.020332774690384588,
          "degree_centrality": 0.0819672131147541,
          "label": "Zap",
          "sex": "U",
          "x": 347.57192810832873,
          "y": 326.0744317044589
         },
         {
          "__node_r": 3.4617346168325858,
          "__node_size": 47.9344262295082,
          "__y_label": 19.69027782691838,
          "betweenness_centrality": 0,
          "degree_centrality": 0.01639344262295082,
          "label": "Zig",
          "sex": "M",
          "x": 0,
          "y": 31.152012443750966
         },
         {
          "__node_r": 4.236840765491564,
          "__node_size": 71.80327868852459,
          "__y_label": 256.9824524099099,
          "betweenness_centrality": 0.014194982613015397,
          "degree_centrality": 0.04918032786885246,
          "label": "Zipfel",
          "sex": "M",
          "x": 590.5852450080308,
          "y": 269.21929317540145
         }
        ]
       },
       "height": 500,
       "layer": [
        {
         "data": {
          "name": "data-5fa9cd9eb60a369b54a130b950e9d02f"
         },
         "encoding": {
          "color": {
           "value": "black"
          },
          "detail": {
           "field": "edge",
           "type": "quantitative"
          },
          "opacity": {
           "value": 0.4
          },
          "strokeWidth": {
           "value": 0.5
          },
          "x": {
           "axis": {
            "domain": false,
            "grid": false,
            "labels": false,
            "ticks": false,
            "title": ""
           },
           "field": "x",
           "type": "quantitative"
          },
          "y": {
           "axis": {
            "domain": false,
            "grid": false,
            "labels": false,
            "ticks": false,
            "title": ""
           },
           "field": "y",
           "type": "quantitative"
          }
         },
         "mark": "line"
        },
        {
         "data": {
          "name": "data-ae4ea019c4c04f969e9e65c77e663cb5"
         },
         "layer": [
          {
           "encoding": {
            "fill": {
             "field": "sex",
             "legend": null,
             "scale": {
              "domain": [
               "M",
               "F",
               "U"
              ],
              "range": [
               "darkblue",
               "orange",
               "green"
              ]
             },
             "type": "nominal"
            },
            "opacity": {
             "value": 1
            },
            "size": {
             "field": "degree_centrality",
             "legend": null,
             "scale": {
              "domain": [
               0,
               0.5
              ],
              "range": [
               36,
               400
              ]
             },
             "type": "quantitative"
            },
            "stroke": {
             "value": "#565656"
            },
            "strokeWidth": {
             "value": 0
            },
            "tooltip": [
             {
              "field": "label",
              "type": "nominal"
             },
             {
              "field": "sex",
              "type": "nominal"
             }
            ],
            "x": {
             "axis": {
              "domain": false,
              "grid": false,
              "labels": false,
              "ticks": false,
              "title": ""
             },
             "field": "x",
             "type": "quantitative"
            },
            "y": {
             "axis": {
              "domain": false,
              "grid": false,
              "labels": false,
              "ticks": false,
              "title": ""
             },
             "field": "y",
             "type": "quantitative"
            }
           },
           "mark": "circle"
          },
          {
           "encoding": {
            "text": {
             "condition": {
              "field": "label",
              "test": "((datum.degree_centrality > 0.14) || (datum.betweenness_centrality > 0.05))",
              "type": "nominal"
             },
             "value": ""
            },
            "x": {
             "axis": {
              "domain": false,
              "grid": false,
              "labels": false,
              "ticks": false,
              "title": ""
             },
             "field": "x",
             "type": "quantitative"
            },
            "y": {
             "axis": {
              "domain": false,
              "grid": false,
              "labels": false,
              "ticks": false,
              "title": ""
             },
             "field": "__y_label",
             "type": "quantitative"
            }
           },
           "mark": {
            "align": "center",
            "baseline": "middle",
            "color": "black",
            "size": 9,
            "type": "text"
           }
          }
         ]
        }
       ],
       "padding": 20,
       "resolve": {
        "scale": {
         "color": "independent",
         "fill": "independent",
         "opacity": "independent",
         "size": "independent",
         "strokeWidth": "independent"
        }
       },
       "width": 720
      },
      "image/png": "[encoded data removed]",
      "text/plain": [
       "<VegaLite 4 object>\n",
       "\n",
       "If you see this message, it means the renderer has not been properly enabled\n",
       "for the frontend that you are using. For more information, see\n",
       "https://altair-viz.github.io/user_guide/troubleshooting.html\n"
      ]
     },
     "execution_count": 3,
     "metadata": {},
     "output_type": "execute_result"
    }
   ],
   "source": [
    "alph(\n",
    "    G,\n",
    "    layout_fn=lambda g: \n",
    "        layout.force_atlas(g, strongGravityMode=False, gravity=2, seed=33\n",
    "    ),\n",
    "    node_args=dict(\n",
    "        size=alt.Size(\n",
    "            \"degree_centrality\", scale=alt.Scale(domain=[0,0.5], range=[6**2, 20**2]), legend=None\n",
    "        ),\n",
    "        fill=alt.Color(\n",
    "            \"sex\", scale=alt.Scale(domain=[\"M\", \"F\", \"U\"], range=[\"darkblue\", \"orange\", \"green\"]), legend=None\n",
    "        ),\n",
    "        tooltip_attrs=[\"label\", \"sex\"],\n",
    "        label_attr=alt.condition(\n",
    "            (alt.datum.degree_centrality > 0.14) | (alt.datum.betweenness_centrality > 0.05),\n",
    "            \"label\",\n",
    "            alt.value(\"\")\n",
    "        ),\n",
    "        label_offset=8,\n",
    "        label_size=9,\n",
    "    ),\n",
    "    edge_args=dict(\n",
    "        color=\"black\",\n",
    "        opacity=0.4,\n",
    "        strokeWidth=alt.value(0.5),\n",
    "    ),\n",
    ").configure_view(\n",
    "    stroke=\"transparent\"\n",
    ").configure_text(\n",
    "    font=\"Verdana, Sans\"\n",
    ").properties(\n",
    "    width=720, height=500, padding=20\n",
    ")"
   ]
  },
  {
   "cell_type": "code",
   "execution_count": null,
   "metadata": {},
   "outputs": [],
   "source": []
  }
 ],
 "metadata": {
  "kernelspec": {
   "display_name": "Python 3 (ipykernel)",
   "language": "python",
   "name": "python3"
  },
  "language_info": {
   "codemirror_mode": {
    "name": "ipython",
    "version": 3
   },
   "file_extension": ".py",
   "mimetype": "text/x-python",
   "name": "python",
   "nbconvert_exporter": "python",
   "pygments_lexer": "ipython3",
   "version": "3.10.7"
  },
  "vscode": {
   "interpreter": {
    "hash": "121ccb6ef33f050b5231fe1f8644b93952e7f3a79e0892dcb9cd03f1749809c5"
   }
  }
 },
 "nbformat": 4,
 "nbformat_minor": 4
}
