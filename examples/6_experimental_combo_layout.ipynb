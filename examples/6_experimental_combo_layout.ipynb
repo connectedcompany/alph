{
 "cells": [
  {
   "cell_type": "markdown",
   "metadata": {},
   "source": [
    "## Experimental feature: Combo node layout"
   ]
  },
  {
   "cell_type": "code",
   "execution_count": 1,
   "metadata": {},
   "outputs": [],
   "source": [
    "import sys\n",
    "import altair as alt\n",
    "import networkx as nx\n",
    "import numpy as np\n",
    "import pandas as pd\n",
    "from faker import Faker\n",
    "\n",
    "\"..\" not in sys.path and sys.path.append(\"..\")\n",
    "from alph import alph, layers, layout, util\n",
    "\n",
    "util.set_altair_renderer()"
   ]
  },
  {
   "cell_type": "markdown",
   "metadata": {},
   "source": [
    "Let's generate some data:\n",
    "\n",
    "- a graph made up of interaction patterns\n",
    "- some fake names\n",
    "- a centrality measure\n",
    "- a couple of categories - jobs and countries\n"
   ]
  },
  {
   "cell_type": "code",
   "execution_count": 2,
   "metadata": {},
   "outputs": [
    {
     "name": "stdout",
     "output_type": "stream",
     "text": [
      "G: 26 node(s), 39 edge(s)\n"
     ]
    }
   ],
   "source": [
    "seed = 321\n",
    "np_random = np.random.RandomState(seed)\n",
    "Faker.seed(seed)\n",
    "fake = Faker(\"en_uk\")\n",
    "\n",
    "jobs = [fake.job() for _ in range(8)]\n",
    "countries = [fake.country() for _ in range(4)]\n",
    "\n",
    "G = util.generate_interaction_graph(\n",
    "    nodes=list(\"abcdefghijklmnopqrstuvwxyz\"), mean_time_between_interactions=1, seed=seed\n",
    ")\n",
    "\n",
    "nx.set_node_attributes(G, {\n",
    "    n: {\n",
    "        \"id\": n,\n",
    "        \"name\": fake.first_name(),\n",
    "        \"job\": np_random.choice(jobs),\n",
    "        \"country\": np_random.choice(countries, p=[0.4, 0.3, 0.2, 0.1]),\n",
    "    } for n in G.nodes()\n",
    "})\n",
    "nx.set_node_attributes(G, nx.degree_centrality(G), \"degree_centrality\")\n",
    "\n",
    "print(f\"G: {len(G.nodes)} node(s), {len(G.edges)} edge(s)\")"
   ]
  },
  {
   "cell_type": "code",
   "execution_count": 5,
   "metadata": {},
   "outputs": [
    {
     "data": {
      "application/vnd.vegalite.v4+json": {
       "$schema": "https://vega.github.io/schema/vega-lite/v4.17.0.json",
       "config": {
        "view": {
         "continuousHeight": 300,
         "continuousWidth": 400,
         "strokeWidth": 0
        }
       },
       "datasets": {
        "data-230cb374c89cee1edce2f5f5bf757e24": [
         {
          "__combo_group_value": "Vietnam",
          "__node_r": 3.5355339059327378,
          "__node_size": 50,
          "country": "Vietnam",
          "degree_centrality": 0.28,
          "id": "c",
          "job": "Nurse, adult",
          "name": "Sandra",
          "x": 614.9842133870285,
          "y": 411.4811957074403
         },
         {
          "__combo_group_value": "Vietnam",
          "__node_r": 3.5355339059327378,
          "__node_size": 50,
          "country": "Vietnam",
          "degree_centrality": 0.08,
          "id": "f",
          "job": "Private music teacher",
          "name": "Denise",
          "x": 613.706527667943,
          "y": 445.92059032671966
         },
         {
          "__combo_group_value": "Vietnam",
          "__node_r": 3.5355339059327378,
          "__node_size": 50,
          "country": "Vietnam",
          "degree_centrality": 0.12,
          "id": "g",
          "job": "Comptroller",
          "name": "Tony",
          "x": 600.5985943152306,
          "y": 431.90358516491136
         },
         {
          "__combo_group_value": "Vietnam",
          "__node_r": 3.5355339059327378,
          "__node_size": 50,
          "country": "Vietnam",
          "degree_centrality": 0.08,
          "id": "h",
          "job": "Private music teacher",
          "name": "Ann",
          "x": 599.220320358547,
          "y": 398.68035183986615
         },
         {
          "__combo_group_value": "Vietnam",
          "__node_r": 3.5355339059327378,
          "__node_size": 50,
          "country": "Vietnam",
          "degree_centrality": 0.16,
          "id": "l",
          "job": "Nurse, adult",
          "name": "Wendy",
          "x": 577.9158517130813,
          "y": 434.8676120203348
         },
         {
          "__combo_group_value": "Vietnam",
          "__node_r": 3.5355339059327378,
          "__node_size": 50,
          "country": "Vietnam",
          "degree_centrality": 0.08,
          "id": "r",
          "job": "Surveyor, planning and development",
          "name": "Ann",
          "x": 626.7744799744495,
          "y": 432.24946100939945
         },
         {
          "__combo_group_value": "Vietnam",
          "__node_r": 3.5355339059327378,
          "__node_size": 50,
          "country": "Vietnam",
          "degree_centrality": 0.08,
          "id": "s",
          "job": "Minerals surveyor",
          "name": "Abbie",
          "x": 574.2207211941777,
          "y": 415.2617568921098
         },
         {
          "__combo_group_value": "Vietnam",
          "__node_r": 3.5355339059327378,
          "__node_size": 50,
          "country": "Vietnam",
          "degree_centrality": 0.04,
          "id": "t",
          "job": "Financial trader",
          "name": "Katherine",
          "x": 590.0768087226193,
          "y": 416.60726876756047
         },
         {
          "__combo_group_value": "Vietnam",
          "__node_r": 3.5355339059327378,
          "__node_size": 50,
          "country": "Vietnam",
          "degree_centrality": 0.04,
          "id": "u",
          "job": "Licensed conveyancer",
          "name": "Glenn",
          "x": 582.4662595333032,
          "y": 400.4880124179021
         },
         {
          "__combo_group_value": "Vietnam",
          "__node_r": 3.5355339059327378,
          "__node_size": 50,
          "country": "Vietnam",
          "degree_centrality": 0.04,
          "id": "w",
          "job": "Financial trader",
          "name": "Tony",
          "x": 599.1217900285387,
          "y": 454.15645394260474
         },
         {
          "__combo_group_value": "Vietnam",
          "__node_r": 3.5355339059327378,
          "__node_size": 50,
          "country": "Vietnam",
          "degree_centrality": 0.04,
          "id": "x",
          "job": "Comptroller",
          "name": "Angela",
          "x": 584.270542166769,
          "y": 443.93084332227176
         }
        ],
        "data-4609bbca25a8696cb46d9089d7e28a0a": [
         {
          "__combo_size": 6508.799999999999,
          "__node_r": 40.33856715353186,
          "__node_size": 6508.799999999999,
          "__y_label": 88.00714899482867,
          "country": "Netherlands Antilles",
          "x": 106.08690870832378,
          "y": 137.34571614836054
         }
        ],
        "data-582aa66bdf5dd8e7cb699abf72c9f6e5": [
         {
          "edge": 0,
          "pair": [
           "c",
           "f"
          ],
          "source": "c",
          "target": "f",
          "weight": 0.2945741005184152,
          "x": 614.9842133870285,
          "y": 411.4811957074403
         },
         {
          "edge": 0,
          "pair": [
           "c",
           "f"
          ],
          "source": "c",
          "target": "f",
          "weight": 0.2945741005184152,
          "x": 613.706527667943,
          "y": 445.92059032671966
         },
         {
          "edge": 1,
          "pair": [
           "c",
           "g"
          ],
          "source": "c",
          "target": "g",
          "weight": 0.12101191984454629,
          "x": 614.9842133870285,
          "y": 411.4811957074403
         },
         {
          "edge": 1,
          "pair": [
           "c",
           "g"
          ],
          "source": "c",
          "target": "g",
          "weight": 0.12101191984454629,
          "x": 600.5985943152306,
          "y": 431.90358516491136
         },
         {
          "edge": 2,
          "pair": [
           "c",
           "h"
          ],
          "source": "c",
          "target": "h",
          "weight": 1.7390515657912486,
          "x": 614.9842133870285,
          "y": 411.4811957074403
         },
         {
          "edge": 2,
          "pair": [
           "c",
           "h"
          ],
          "source": "c",
          "target": "h",
          "weight": 1.7390515657912486,
          "x": 599.220320358547,
          "y": 398.68035183986615
         },
         {
          "edge": 3,
          "pair": [
           "c",
           "r"
          ],
          "source": "c",
          "target": "r",
          "weight": 0.16523677374144413,
          "x": 614.9842133870285,
          "y": 411.4811957074403
         },
         {
          "edge": 3,
          "pair": [
           "c",
           "r"
          ],
          "source": "c",
          "target": "r",
          "weight": 0.16523677374144413,
          "x": 626.7744799744495,
          "y": 432.24946100939945
         },
         {
          "edge": 4,
          "pair": [
           "l",
           "x"
          ],
          "source": "l",
          "target": "x",
          "weight": 2.26278224012567,
          "x": 577.9158517130813,
          "y": 434.8676120203348
         },
         {
          "edge": 4,
          "pair": [
           "l",
           "x"
          ],
          "source": "l",
          "target": "x",
          "weight": 2.26278224012567,
          "x": 584.270542166769,
          "y": 443.93084332227176
         },
         {
          "edge": 5,
          "pair": [
           "s",
           "s"
          ],
          "source": "s",
          "target": "s",
          "weight": 2.568380467694695,
          "x": 574.2207211941777,
          "y": 415.2617568921098
         },
         {
          "edge": 5,
          "pair": [
           "s",
           "s"
          ],
          "source": "s",
          "target": "s",
          "weight": 2.568380467694695,
          "x": 574.2207211941777,
          "y": 415.2617568921098
         }
        ],
        "data-5a788222654e1b79b9d41e56be37265d": [
         {
          "__combo_size": 14276.16,
          "__node_r": 59.741442901891816,
          "__node_size": 14276.16,
          "__y_label": 355.544289589767,
          "country": "Vietnam",
          "x": 600,
          "y": 424.28573249165885
         }
        ],
        "data-64c2b4d062893c43da15ddbbfd014730": [
         {
          "__combo_group_value": "Netherlands Antilles",
          "__node_r": 3.5355339059327378,
          "__node_size": 50,
          "country": "Netherlands Antilles",
          "degree_centrality": 0.36,
          "id": "d",
          "job": "Health and safety adviser",
          "name": "Francis",
          "x": 113.82378676264842,
          "y": 126.10168289439564
         },
         {
          "__combo_group_value": "Netherlands Antilles",
          "__node_r": 3.5355339059327378,
          "__node_size": 50,
          "country": "Netherlands Antilles",
          "degree_centrality": 0.12,
          "id": "k",
          "job": "Comptroller",
          "name": "Kimberley",
          "x": 125.38761877915502,
          "y": 144.41819815075488
         },
         {
          "__combo_group_value": "Netherlands Antilles",
          "__node_r": 3.5355339059327378,
          "__node_size": 50,
          "country": "Netherlands Antilles",
          "degree_centrality": 0.08,
          "id": "m",
          "job": "Licensed conveyancer",
          "name": "Gordon",
          "x": 110.05394928190992,
          "y": 157.51499972512647
         },
         {
          "__combo_group_value": "Netherlands Antilles",
          "__node_r": 3.5355339059327378,
          "__node_size": 50,
          "country": "Netherlands Antilles",
          "degree_centrality": 0.08,
          "id": "n",
          "job": "Licensed conveyancer",
          "name": "Nicholas",
          "x": 91.97668997741516,
          "y": 120.82554293469776
         },
         {
          "__combo_group_value": "Netherlands Antilles",
          "__node_r": 3.5355339059327378,
          "__node_size": 50,
          "country": "Netherlands Antilles",
          "degree_centrality": 0.04,
          "id": "q",
          "job": "Surveyor, planning and development",
          "name": "Lauren",
          "x": 93.77126469724473,
          "y": 143.22895321957668
         }
        ],
        "data-6ace866d2c0c9e75cbdfb660090b8dc5": [
         {
          "edge": 0,
          "pair": [
           "Jamaica",
           "Korea"
          ],
          "source": "Jamaica",
          "target": "Korea",
          "weight": 6.134183779265394,
          "x": 379.0041871761546,
          "y": 183.76802960839453
         },
         {
          "edge": 0,
          "pair": [
           "Jamaica",
           "Korea"
          ],
          "source": "Jamaica",
          "target": "Korea",
          "weight": 6.134183779265394,
          "x": 184.09963667851463,
          "y": 347.16332394850383
         },
         {
          "edge": 1,
          "pair": [
           "Jamaica",
           "Netherlands Antilles"
          ],
          "source": "Jamaica",
          "target": "Netherlands Antilles",
          "weight": 6.3537610153697575,
          "x": 379.0041871761546,
          "y": 183.76802960839453
         },
         {
          "edge": 1,
          "pair": [
           "Jamaica",
           "Netherlands Antilles"
          ],
          "source": "Jamaica",
          "target": "Netherlands Antilles",
          "weight": 6.3537610153697575,
          "x": 106.08690870832378,
          "y": 137.34571614836054
         },
         {
          "edge": 2,
          "pair": [
           "Jamaica",
           "Vietnam"
          ],
          "source": "Jamaica",
          "target": "Vietnam",
          "weight": 3.6739210943692115,
          "x": 379.0041871761546,
          "y": 183.76802960839453
         },
         {
          "edge": 2,
          "pair": [
           "Jamaica",
           "Vietnam"
          ],
          "source": "Jamaica",
          "target": "Vietnam",
          "weight": 3.6739210943692115,
          "x": 600,
          "y": 424.28573249165885
         },
         {
          "edge": 3,
          "pair": [
           "Korea",
           "Netherlands Antilles"
          ],
          "source": "Korea",
          "target": "Netherlands Antilles",
          "weight": 7.51166897135213,
          "x": 184.09963667851463,
          "y": 347.16332394850383
         },
         {
          "edge": 3,
          "pair": [
           "Korea",
           "Netherlands Antilles"
          ],
          "source": "Korea",
          "target": "Netherlands Antilles",
          "weight": 7.51166897135213,
          "x": 106.08690870832378,
          "y": 137.34571614836054
         },
         {
          "edge": 4,
          "pair": [
           "Korea",
           "Vietnam"
          ],
          "source": "Korea",
          "target": "Vietnam",
          "weight": 2.7028616007119086,
          "x": 184.09963667851463,
          "y": 347.16332394850383
         },
         {
          "edge": 4,
          "pair": [
           "Korea",
           "Vietnam"
          ],
          "source": "Korea",
          "target": "Vietnam",
          "weight": 2.7028616007119086,
          "x": 600,
          "y": 424.28573249165885
         },
         {
          "edge": 5,
          "pair": [
           "Netherlands Antilles",
           "Vietnam"
          ],
          "source": "Netherlands Antilles",
          "target": "Vietnam",
          "weight": 1.312372920606029,
          "x": 106.08690870832378,
          "y": 137.34571614836054
         },
         {
          "edge": 5,
          "pair": [
           "Netherlands Antilles",
           "Vietnam"
          ],
          "source": "Netherlands Antilles",
          "target": "Vietnam",
          "weight": 1.312372920606029,
          "x": 600,
          "y": 424.28573249165885
         }
        ],
        "data-8f68c540dbe1d58e46ded35292258318": [
         {
          "edge": 0,
          "pair": [
           "b",
           "b"
          ],
          "source": "b",
          "target": "b",
          "weight": 0.2386299670960798,
          "x": 369.0857253330781,
          "y": 176.2442731873184
         },
         {
          "edge": 0,
          "pair": [
           "b",
           "b"
          ],
          "source": "b",
          "target": "b",
          "weight": 0.2386299670960798,
          "x": 369.0857253330781,
          "y": 176.2442731873184
         },
         {
          "edge": 1,
          "pair": [
           "b",
           "v"
          ],
          "source": "b",
          "target": "v",
          "weight": 0.6038455777931652,
          "x": 369.0857253330781,
          "y": 176.2442731873184
         },
         {
          "edge": 1,
          "pair": [
           "b",
           "v"
          ],
          "source": "b",
          "target": "v",
          "weight": 0.6038455777931652,
          "x": 393.7620905743631,
          "y": 177.38849504058228
         }
        ],
        "data-a60d5f59d9c6718cf7c5aac62f5d1204": [
         {
          "__combo_size": 5214.24,
          "__node_r": 36.10484731999292,
          "__node_size": 5214.24,
          "__y_label": 138.6631822884016,
          "country": "Jamaica",
          "x": 379.0041871761546,
          "y": 183.76802960839453
         }
        ],
        "data-ab6d060f9a4373ce885f97f6524f48c6": [
         {
          "__combo_group_value": "Korea",
          "__node_r": 3.5355339059327378,
          "__node_size": 50,
          "country": "Korea",
          "degree_centrality": 0.44,
          "id": "a",
          "job": "Surveyor, planning and development",
          "name": "Rosie",
          "x": 166.4988433398384,
          "y": 348.14197622197446
         },
         {
          "__combo_group_value": "Korea",
          "__node_r": 3.5355339059327378,
          "__node_size": 50,
          "country": "Korea",
          "degree_centrality": 0.04,
          "id": "e",
          "job": "Health and safety adviser",
          "name": "Stephen",
          "x": 172.8605678587545,
          "y": 326.1959116939487
         },
         {
          "__combo_group_value": "Korea",
          "__node_r": 3.5355339059327378,
          "__node_size": 50,
          "country": "Korea",
          "degree_centrality": 0.04,
          "id": "j",
          "job": "Private music teacher",
          "name": "Charlotte",
          "x": 195.33870549827475,
          "y": 368.130736203059
         },
         {
          "__combo_group_value": "Korea",
          "__node_r": 3.5355339059327378,
          "__node_size": 50,
          "country": "Korea",
          "degree_centrality": 0.04,
          "id": "p",
          "job": "Nurse, adult",
          "name": "Rhys",
          "x": 175.25435293022406,
          "y": 369.24748116583953
         },
         {
          "__combo_group_value": "Korea",
          "__node_r": 3.5355339059327378,
          "__node_size": 50,
          "country": "Korea",
          "degree_centrality": 0.04,
          "id": "y",
          "job": "Financial trader",
          "name": "Linda",
          "x": 192.94492042680523,
          "y": 325.07916673116813
         },
         {
          "__combo_group_value": "Korea",
          "__node_r": 3.5355339059327378,
          "__node_size": 50,
          "country": "Korea",
          "degree_centrality": 0.08,
          "id": "z",
          "job": "Comptroller",
          "name": "Sian",
          "x": 201.70043001719085,
          "y": 346.1846716750332
         }
        ],
        "data-ea016af0523ae69ee7167195b939cb07": [
         {
          "edge": 0,
          "pair": [
           "d",
           "q"
          ],
          "source": "d",
          "target": "q",
          "weight": 0.38267513728658287,
          "x": 113.82378676264842,
          "y": 126.10168289439564
         },
         {
          "edge": 0,
          "pair": [
           "d",
           "q"
          ],
          "source": "d",
          "target": "q",
          "weight": 0.38267513728658287,
          "x": 93.77126469724473,
          "y": 143.22895321957668
         }
        ],
        "data-ebefe5cbe9f58d4da3f5ead0a31ce890": [
         {
          "__combo_group_value": "Jamaica",
          "__node_r": 3.5355339059327378,
          "__node_size": 50,
          "country": "Jamaica",
          "degree_centrality": 0.52,
          "id": "b",
          "job": "Financial trader",
          "name": "Mary",
          "x": 369.0857253330781,
          "y": 176.2442731873184
         },
         {
          "__combo_group_value": "Jamaica",
          "__node_r": 3.5355339059327378,
          "__node_size": 50,
          "country": "Jamaica",
          "degree_centrality": 0.08,
          "id": "i",
          "job": "Licensed conveyancer",
          "name": "Ryan",
          "x": 368.7176119073117,
          "y": 201.820453268391
         },
         {
          "__combo_group_value": "Jamaica",
          "__node_r": 3.5355339059327378,
          "__node_size": 50,
          "country": "Jamaica",
          "degree_centrality": 0.04,
          "id": "o",
          "job": "Private music teacher",
          "name": "Ross",
          "x": 389.53034117780993,
          "y": 201.04594434725092
         },
         {
          "__combo_group_value": "Jamaica",
          "__node_r": 3.5355339059327378,
          "__node_size": 50,
          "country": "Jamaica",
          "degree_centrality": 0.08,
          "id": "v",
          "job": "Minerals surveyor",
          "name": "Jason",
          "x": 393.7620905743631,
          "y": 177.38849504058228
         }
        ],
        "data-f2d53a2c622b5749adae5fdb8f8542c4": [
         {
          "edge": 0,
          "pair": [
           "a",
           "a"
          ],
          "source": "a",
          "target": "a",
          "weight": 0.28458215954322813,
          "x": 166.4988433398384,
          "y": 348.14197622197446
         },
         {
          "edge": 0,
          "pair": [
           "a",
           "a"
          ],
          "source": "a",
          "target": "a",
          "weight": 0.28458215954322813,
          "x": 166.4988433398384,
          "y": 348.14197622197446
         },
         {
          "edge": 1,
          "pair": [
           "z",
           "z"
          ],
          "source": "z",
          "target": "z",
          "weight": 1.6160160122436436,
          "x": 201.70043001719085,
          "y": 346.1846716750332
         },
         {
          "edge": 1,
          "pair": [
           "z",
           "z"
          ],
          "source": "z",
          "target": "z",
          "weight": 1.6160160122436436,
          "x": 201.70043001719085,
          "y": 346.1846716750332
         }
        ],
        "data-fd08f4c2957b2c9a5dffc38245e2ff20": [
         {
          "__combo_size": 7803.36,
          "__node_r": 44.16831443467138,
          "__node_size": 7803.36,
          "__y_label": 293.99500951383243,
          "country": "Korea",
          "x": 184.09963667851463,
          "y": 347.16332394850383
         }
        ]
       },
       "height": 500,
       "layer": [
        {
         "data": {
          "name": "data-6ace866d2c0c9e75cbdfb660090b8dc5"
         },
         "encoding": {
          "color": {
           "value": "#606060"
          },
          "detail": {
           "field": "edge",
           "type": "quantitative"
          },
          "opacity": {
           "field": "weight",
           "legend": null,
           "scale": {
            "range": [
             0.3,
             1
            ]
           },
           "type": "quantitative"
          },
          "strokeWidth": {
           "field": "weight",
           "legend": null,
           "scale": {
            "range": [
             0.1,
             10
            ]
           },
           "type": "quantitative"
          },
          "x": {
           "axis": {
            "domain": false,
            "grid": false,
            "labels": false,
            "ticks": false,
            "title": ""
           },
           "field": "x",
           "type": "quantitative"
          },
          "y": {
           "axis": {
            "domain": false,
            "grid": false,
            "labels": false,
            "ticks": false,
            "title": ""
           },
           "field": "y",
           "type": "quantitative"
          }
         },
         "mark": "line"
        },
        {
         "data": {
          "name": "data-5a788222654e1b79b9d41e56be37265d"
         },
         "layer": [
          {
           "encoding": {
            "fill": {
             "value": "#d9d9d9"
            },
            "opacity": {
             "value": 1
            },
            "size": {
             "field": "__combo_size",
             "legend": null,
             "scale": null,
             "type": "quantitative"
            },
            "stroke": {
             "value": "#565656"
            },
            "strokeWidth": {
             "value": 3
            },
            "tooltip": [
             {
              "field": "country",
              "type": "nominal"
             }
            ],
            "x": {
             "axis": {
              "domain": false,
              "grid": false,
              "labels": false,
              "ticks": false,
              "title": ""
             },
             "field": "x",
             "type": "quantitative"
            },
            "y": {
             "axis": {
              "domain": false,
              "grid": false,
              "labels": false,
              "ticks": false,
              "title": ""
             },
             "field": "y",
             "type": "quantitative"
            }
           },
           "mark": "circle"
          },
          {
           "encoding": {
            "text": {
             "field": "country",
             "type": "nominal"
            },
            "x": {
             "axis": {
              "domain": false,
              "grid": false,
              "labels": false,
              "ticks": false,
              "title": ""
             },
             "field": "x",
             "type": "quantitative"
            },
            "y": {
             "axis": {
              "domain": false,
              "grid": false,
              "labels": false,
              "ticks": false,
              "title": ""
             },
             "field": "__y_label",
             "type": "quantitative"
            }
           },
           "mark": {
            "align": "center",
            "baseline": "middle",
            "color": "black",
            "size": 10,
            "type": "text"
           }
          }
         ]
        },
        {
         "data": {
          "name": "data-582aa66bdf5dd8e7cb699abf72c9f6e5"
         },
         "encoding": {
          "color": {
           "value": "black"
          },
          "detail": {
           "field": "edge",
           "type": "quantitative"
          },
          "opacity": {
           "field": "weight",
           "legend": null,
           "scale": {
            "range": [
             0.5,
             3
            ]
           },
           "type": "quantitative"
          },
          "strokeWidth": {
           "field": "weight",
           "legend": null,
           "scale": {
            "range": [
             0.3,
             1
            ]
           },
           "type": "quantitative"
          },
          "x": {
           "axis": {
            "domain": false,
            "grid": false,
            "labels": false,
            "ticks": false,
            "title": ""
           },
           "field": "x",
           "type": "quantitative"
          },
          "y": {
           "axis": {
            "domain": false,
            "grid": false,
            "labels": false,
            "ticks": false,
            "title": ""
           },
           "field": "y",
           "type": "quantitative"
          }
         },
         "mark": "line"
        },
        {
         "data": {
          "name": "data-230cb374c89cee1edce2f5f5bf757e24"
         },
         "encoding": {
          "fill": {
           "field": "job",
           "legend": null,
           "scale": {
            "scheme": "category10"
           },
           "type": "nominal"
          },
          "opacity": {
           "value": 1
          },
          "size": {
           "value": 50
          },
          "stroke": {
           "value": "#565656"
          },
          "strokeWidth": {
           "value": 0
          },
          "tooltip": [
           {
            "field": "name",
            "type": "nominal"
           },
           {
            "field": "job",
            "type": "nominal"
           },
           {
            "field": "country",
            "type": "nominal"
           }
          ],
          "x": {
           "axis": {
            "domain": false,
            "grid": false,
            "labels": false,
            "ticks": false,
            "title": ""
           },
           "field": "x",
           "type": "quantitative"
          },
          "y": {
           "axis": {
            "domain": false,
            "grid": false,
            "labels": false,
            "ticks": false,
            "title": ""
           },
           "field": "y",
           "type": "quantitative"
          }
         },
         "mark": "circle"
        },
        {
         "data": {
          "name": "data-fd08f4c2957b2c9a5dffc38245e2ff20"
         },
         "layer": [
          {
           "encoding": {
            "fill": {
             "value": "#d9d9d9"
            },
            "opacity": {
             "value": 1
            },
            "size": {
             "field": "__combo_size",
             "legend": null,
             "scale": null,
             "type": "quantitative"
            },
            "stroke": {
             "value": "#565656"
            },
            "strokeWidth": {
             "value": 3
            },
            "tooltip": [
             {
              "field": "country",
              "type": "nominal"
             }
            ],
            "x": {
             "axis": {
              "domain": false,
              "grid": false,
              "labels": false,
              "ticks": false,
              "title": ""
             },
             "field": "x",
             "type": "quantitative"
            },
            "y": {
             "axis": {
              "domain": false,
              "grid": false,
              "labels": false,
              "ticks": false,
              "title": ""
             },
             "field": "y",
             "type": "quantitative"
            }
           },
           "mark": "circle"
          },
          {
           "encoding": {
            "text": {
             "field": "country",
             "type": "nominal"
            },
            "x": {
             "axis": {
              "domain": false,
              "grid": false,
              "labels": false,
              "ticks": false,
              "title": ""
             },
             "field": "x",
             "type": "quantitative"
            },
            "y": {
             "axis": {
              "domain": false,
              "grid": false,
              "labels": false,
              "ticks": false,
              "title": ""
             },
             "field": "__y_label",
             "type": "quantitative"
            }
           },
           "mark": {
            "align": "center",
            "baseline": "middle",
            "color": "black",
            "size": 10,
            "type": "text"
           }
          }
         ]
        },
        {
         "data": {
          "name": "data-f2d53a2c622b5749adae5fdb8f8542c4"
         },
         "encoding": {
          "color": {
           "value": "black"
          },
          "detail": {
           "field": "edge",
           "type": "quantitative"
          },
          "opacity": {
           "field": "weight",
           "legend": null,
           "scale": {
            "range": [
             0.5,
             3
            ]
           },
           "type": "quantitative"
          },
          "strokeWidth": {
           "field": "weight",
           "legend": null,
           "scale": {
            "range": [
             0.3,
             1
            ]
           },
           "type": "quantitative"
          },
          "x": {
           "axis": {
            "domain": false,
            "grid": false,
            "labels": false,
            "ticks": false,
            "title": ""
           },
           "field": "x",
           "type": "quantitative"
          },
          "y": {
           "axis": {
            "domain": false,
            "grid": false,
            "labels": false,
            "ticks": false,
            "title": ""
           },
           "field": "y",
           "type": "quantitative"
          }
         },
         "mark": "line"
        },
        {
         "data": {
          "name": "data-ab6d060f9a4373ce885f97f6524f48c6"
         },
         "encoding": {
          "fill": {
           "field": "job",
           "legend": null,
           "scale": {
            "scheme": "category10"
           },
           "type": "nominal"
          },
          "opacity": {
           "value": 1
          },
          "size": {
           "value": 50
          },
          "stroke": {
           "value": "#565656"
          },
          "strokeWidth": {
           "value": 0
          },
          "tooltip": [
           {
            "field": "name",
            "type": "nominal"
           },
           {
            "field": "job",
            "type": "nominal"
           },
           {
            "field": "country",
            "type": "nominal"
           }
          ],
          "x": {
           "axis": {
            "domain": false,
            "grid": false,
            "labels": false,
            "ticks": false,
            "title": ""
           },
           "field": "x",
           "type": "quantitative"
          },
          "y": {
           "axis": {
            "domain": false,
            "grid": false,
            "labels": false,
            "ticks": false,
            "title": ""
           },
           "field": "y",
           "type": "quantitative"
          }
         },
         "mark": "circle"
        },
        {
         "data": {
          "name": "data-4609bbca25a8696cb46d9089d7e28a0a"
         },
         "layer": [
          {
           "encoding": {
            "fill": {
             "value": "#d9d9d9"
            },
            "opacity": {
             "value": 1
            },
            "size": {
             "field": "__combo_size",
             "legend": null,
             "scale": null,
             "type": "quantitative"
            },
            "stroke": {
             "value": "#565656"
            },
            "strokeWidth": {
             "value": 3
            },
            "tooltip": [
             {
              "field": "country",
              "type": "nominal"
             }
            ],
            "x": {
             "axis": {
              "domain": false,
              "grid": false,
              "labels": false,
              "ticks": false,
              "title": ""
             },
             "field": "x",
             "type": "quantitative"
            },
            "y": {
             "axis": {
              "domain": false,
              "grid": false,
              "labels": false,
              "ticks": false,
              "title": ""
             },
             "field": "y",
             "type": "quantitative"
            }
           },
           "mark": "circle"
          },
          {
           "encoding": {
            "text": {
             "field": "country",
             "type": "nominal"
            },
            "x": {
             "axis": {
              "domain": false,
              "grid": false,
              "labels": false,
              "ticks": false,
              "title": ""
             },
             "field": "x",
             "type": "quantitative"
            },
            "y": {
             "axis": {
              "domain": false,
              "grid": false,
              "labels": false,
              "ticks": false,
              "title": ""
             },
             "field": "__y_label",
             "type": "quantitative"
            }
           },
           "mark": {
            "align": "center",
            "baseline": "middle",
            "color": "black",
            "size": 10,
            "type": "text"
           }
          }
         ]
        },
        {
         "data": {
          "name": "data-ea016af0523ae69ee7167195b939cb07"
         },
         "encoding": {
          "color": {
           "value": "black"
          },
          "detail": {
           "field": "edge",
           "type": "quantitative"
          },
          "opacity": {
           "field": "weight",
           "legend": null,
           "scale": {
            "range": [
             0.5,
             3
            ]
           },
           "type": "quantitative"
          },
          "strokeWidth": {
           "field": "weight",
           "legend": null,
           "scale": {
            "range": [
             0.3,
             1
            ]
           },
           "type": "quantitative"
          },
          "x": {
           "axis": {
            "domain": false,
            "grid": false,
            "labels": false,
            "ticks": false,
            "title": ""
           },
           "field": "x",
           "type": "quantitative"
          },
          "y": {
           "axis": {
            "domain": false,
            "grid": false,
            "labels": false,
            "ticks": false,
            "title": ""
           },
           "field": "y",
           "type": "quantitative"
          }
         },
         "mark": "line"
        },
        {
         "data": {
          "name": "data-64c2b4d062893c43da15ddbbfd014730"
         },
         "encoding": {
          "fill": {
           "field": "job",
           "legend": null,
           "scale": {
            "scheme": "category10"
           },
           "type": "nominal"
          },
          "opacity": {
           "value": 1
          },
          "size": {
           "value": 50
          },
          "stroke": {
           "value": "#565656"
          },
          "strokeWidth": {
           "value": 0
          },
          "tooltip": [
           {
            "field": "name",
            "type": "nominal"
           },
           {
            "field": "job",
            "type": "nominal"
           },
           {
            "field": "country",
            "type": "nominal"
           }
          ],
          "x": {
           "axis": {
            "domain": false,
            "grid": false,
            "labels": false,
            "ticks": false,
            "title": ""
           },
           "field": "x",
           "type": "quantitative"
          },
          "y": {
           "axis": {
            "domain": false,
            "grid": false,
            "labels": false,
            "ticks": false,
            "title": ""
           },
           "field": "y",
           "type": "quantitative"
          }
         },
         "mark": "circle"
        },
        {
         "data": {
          "name": "data-a60d5f59d9c6718cf7c5aac62f5d1204"
         },
         "layer": [
          {
           "encoding": {
            "fill": {
             "value": "#d9d9d9"
            },
            "opacity": {
             "value": 1
            },
            "size": {
             "field": "__combo_size",
             "legend": null,
             "scale": null,
             "type": "quantitative"
            },
            "stroke": {
             "value": "#565656"
            },
            "strokeWidth": {
             "value": 3
            },
            "tooltip": [
             {
              "field": "country",
              "type": "nominal"
             }
            ],
            "x": {
             "axis": {
              "domain": false,
              "grid": false,
              "labels": false,
              "ticks": false,
              "title": ""
             },
             "field": "x",
             "type": "quantitative"
            },
            "y": {
             "axis": {
              "domain": false,
              "grid": false,
              "labels": false,
              "ticks": false,
              "title": ""
             },
             "field": "y",
             "type": "quantitative"
            }
           },
           "mark": "circle"
          },
          {
           "encoding": {
            "text": {
             "field": "country",
             "type": "nominal"
            },
            "x": {
             "axis": {
              "domain": false,
              "grid": false,
              "labels": false,
              "ticks": false,
              "title": ""
             },
             "field": "x",
             "type": "quantitative"
            },
            "y": {
             "axis": {
              "domain": false,
              "grid": false,
              "labels": false,
              "ticks": false,
              "title": ""
             },
             "field": "__y_label",
             "type": "quantitative"
            }
           },
           "mark": {
            "align": "center",
            "baseline": "middle",
            "color": "black",
            "size": 10,
            "type": "text"
           }
          }
         ]
        },
        {
         "data": {
          "name": "data-8f68c540dbe1d58e46ded35292258318"
         },
         "encoding": {
          "color": {
           "value": "black"
          },
          "detail": {
           "field": "edge",
           "type": "quantitative"
          },
          "opacity": {
           "field": "weight",
           "legend": null,
           "scale": {
            "range": [
             0.5,
             3
            ]
           },
           "type": "quantitative"
          },
          "strokeWidth": {
           "field": "weight",
           "legend": null,
           "scale": {
            "range": [
             0.3,
             1
            ]
           },
           "type": "quantitative"
          },
          "x": {
           "axis": {
            "domain": false,
            "grid": false,
            "labels": false,
            "ticks": false,
            "title": ""
           },
           "field": "x",
           "type": "quantitative"
          },
          "y": {
           "axis": {
            "domain": false,
            "grid": false,
            "labels": false,
            "ticks": false,
            "title": ""
           },
           "field": "y",
           "type": "quantitative"
          }
         },
         "mark": "line"
        },
        {
         "data": {
          "name": "data-ebefe5cbe9f58d4da3f5ead0a31ce890"
         },
         "encoding": {
          "fill": {
           "field": "job",
           "legend": null,
           "scale": {
            "scheme": "category10"
           },
           "type": "nominal"
          },
          "opacity": {
           "value": 1
          },
          "size": {
           "value": 50
          },
          "stroke": {
           "value": "#565656"
          },
          "strokeWidth": {
           "value": 0
          },
          "tooltip": [
           {
            "field": "name",
            "type": "nominal"
           },
           {
            "field": "job",
            "type": "nominal"
           },
           {
            "field": "country",
            "type": "nominal"
           }
          ],
          "x": {
           "axis": {
            "domain": false,
            "grid": false,
            "labels": false,
            "ticks": false,
            "title": ""
           },
           "field": "x",
           "type": "quantitative"
          },
          "y": {
           "axis": {
            "domain": false,
            "grid": false,
            "labels": false,
            "ticks": false,
            "title": ""
           },
           "field": "y",
           "type": "quantitative"
          }
         },
         "mark": "circle"
        }
       ],
       "resolve": {
        "scale": {
         "color": "independent",
         "fill": "independent",
         "opacity": "independent",
         "size": "independent",
         "strokeWidth": "independent"
        }
       },
       "width": 600
      },
      "image/png": "[encoded data removed]",
      "text/plain": [
       "<VegaLite 4 object>\n",
       "\n",
       "If you see this message, it means the renderer has not been properly enabled\n",
       "for the frontend that you are using. For more information, see\n",
       "https://altair-viz.github.io/user_guide/troubleshooting.html\n"
      ]
     },
     "execution_count": 5,
     "metadata": {},
     "output_type": "execute_result"
    }
   ],
   "source": [
    "alph(\n",
    "    G,\n",
    "    weight_attr=\"weight\",\n",
    "    combo_group_by=\"country\",\n",
    "    combo_layout_fn=lambda G: layout.force_atlas(\n",
    "        G, weight_attr=\"weight\", gravity=1, seed=seed\n",
    "    ),\n",
    "    node_args=dict(        \n",
    "        fill=alt.Color(\"job\", scale=alt.Scale(scheme=\"category10\"), legend=None),\n",
    "        tooltip_attrs=[\"name\", \"job\", \"country\"],\n",
    "        strokeWidth=0,\n",
    "    ),\n",
    "    combo_node_args=dict(\n",
    "        tooltip_attrs=[\"country:N\"],\n",
    "        label_attr=\"country:N\",\n",
    "        label_offset=9,\n",
    "    ),\n",
    "    combo_node_additional_attrs={\n",
    "        country: {\"country\": country}  for country in countries\n",
    "    },\n",
    "    combo_inner_graph_scale_factor=0.5,\n",
    "    width=600,\n",
    "    height=500,\n",
    ").configure_view(strokeWidth=0)"
   ]
  },
  {
   "cell_type": "markdown",
   "metadata": {},
   "source": [
    "Larger combo with some missing categories"
   ]
  },
  {
   "cell_type": "code",
   "execution_count": 7,
   "metadata": {},
   "outputs": [
    {
     "name": "stdout",
     "output_type": "stream",
     "text": [
      "Qatar                         10\n",
      "NaN                            9\n",
      "Slovakia (Slovak Republic)     9\n",
      "dtype: int64\n"
     ]
    }
   ],
   "source": [
    "more_countries = [\n",
    "    None,   # let some nodes have no country\n",
    "    *[fake.country() for _ in range(15)]\n",
    "]\n",
    "\n",
    "G2 = util.generate_interaction_graph(\n",
    "    nodes=[fake.name() for _ in range(100)], mean_time_between_interactions=1, seed=seed\n",
    ")\n",
    "\n",
    "nx.set_node_attributes(G2, {\n",
    "    n: {\n",
    "        \"id\": n,\n",
    "        \"name\": fake.first_name(),\n",
    "        \"country\": np_random.choice(more_countries),\n",
    "    } for n in G2.nodes()\n",
    "})\n",
    "\n",
    "print(pd.Series([d for _, d in G2.nodes(data=\"country\")]).value_counts(dropna=False)[:3])"
   ]
  },
  {
   "cell_type": "code",
   "execution_count": 9,
   "metadata": {},
   "outputs": [
    {
     "data": {
      "application/vnd.vegalite.v4+json": {
       "$schema": "https://vega.github.io/schema/vega-lite/v4.17.0.json",
       "config": {
        "view": {
         "continuousHeight": 300,
         "continuousWidth": 400,
         "strokeWidth": 0
        }
       },
       "datasets": {
        "data-0647b7dd827278ffe79e70d4b8db04f0": [
         {
          "__combo_group_value": "Malta",
          "__node_r": 3,
          "__node_size": 36,
          "country": "Malta",
          "id": "Dr Gavin Smith",
          "name": "Abigail",
          "x": 469.10681329157705,
          "y": 342.3436766837974
         },
         {
          "__combo_group_value": "Malta",
          "__node_r": 3,
          "__node_size": 36,
          "country": "Malta",
          "id": "Mrs Natasha Wood",
          "name": "Tracy",
          "x": 457.9019177064617,
          "y": 337.8036826785513
         },
         {
          "__combo_group_value": "Malta",
          "__node_r": 3,
          "__node_size": 36,
          "country": "Malta",
          "id": "Ms Chloe Barker",
          "name": "Brett",
          "x": 467.4361156405916,
          "y": 330.36995545771236
         },
         {
          "__combo_group_value": "Malta",
          "__node_r": 3,
          "__node_size": 36,
          "country": "Malta",
          "id": "Teresa Harrison",
          "name": "Philip",
          "x": 459.57261535744715,
          "y": 349.77740390463634
         },
         {
          "__combo_group_value": "Malta",
          "__node_r": 3,
          "__node_size": 36,
          "country": "Malta",
          "id": "Beverley Turner",
          "name": "Sean",
          "x": 470.7775109425625,
          "y": 354.31739790988246
         },
         {
          "__combo_group_value": "Malta",
          "__node_r": 3,
          "__node_size": 36,
          "country": "Malta",
          "id": "Joel Woods",
          "name": "Mohamed",
          "x": 478.64101122570696,
          "y": 334.9099494629585
         },
         {
          "__combo_group_value": "Malta",
          "__node_r": 3,
          "__node_size": 36,
          "country": "Malta",
          "id": "Colin Hunt-Lawson",
          "name": "Shirley",
          "x": 480.3117088766924,
          "y": 346.8836706890435
         }
        ],
        "data-0ef95783848d143124f007b58ac66fa0": [
         {
          "edge": 0,
          "pair": [
           "Kirsty Lambert",
           "Keith Rogers"
          ],
          "source": "Kirsty Lambert",
          "target": "Keith Rogers",
          "weight": 0.04892830429075872,
          "x": 241.37456561654886,
          "y": 422.39638203968775
         },
         {
          "edge": 0,
          "pair": [
           "Kirsty Lambert",
           "Keith Rogers"
          ],
          "source": "Kirsty Lambert",
          "target": "Keith Rogers",
          "weight": 0.04892830429075872,
          "x": 236.78877480282316,
          "y": 436.6296388617055
         }
        ],
        "data-1a4122f953b23ef12c30ed49461c5c49": [
         {
          "__combo_group_value": "Qatar",
          "__node_r": 3,
          "__node_size": 36,
          "country": "Qatar",
          "id": "Dr Jodie Mills",
          "name": "Pauline",
          "x": 348.46259297680075,
          "y": 451.40074502262524
         },
         {
          "__combo_group_value": "Qatar",
          "__node_r": 3,
          "__node_size": 36,
          "country": "Qatar",
          "id": "Dr Kirsty Mills",
          "name": "Teresa",
          "x": 349.2639816132732,
          "y": 470.52165583046013
         },
         {
          "__combo_group_value": "Qatar",
          "__node_r": 3,
          "__node_size": 36,
          "country": "Qatar",
          "id": "Stanley Thomas",
          "name": "Robin",
          "x": 353.1023036517364,
          "y": 459.51964325493697
         },
         {
          "__combo_group_value": "Qatar",
          "__node_r": 3,
          "__node_size": 36,
          "country": "Qatar",
          "id": "Barbara King",
          "name": "Lisa",
          "x": 356.85921485267846,
          "y": 470.59051114108536
         },
         {
          "__combo_group_value": "Qatar",
          "__node_r": 3,
          "__node_size": 36,
          "country": "Qatar",
          "id": "Dr Tom Lee",
          "name": "Jenna",
          "x": 339.41262312824443,
          "y": 457.9126834774779
         },
         {
          "__combo_group_value": "Qatar",
          "__node_r": 3,
          "__node_size": 36,
          "country": "Qatar",
          "id": "Lucy Smith",
          "name": "Jeffrey",
          "x": 363.3184497771207,
          "y": 467.0234461419684
         },
         {
          "__combo_group_value": "Qatar",
          "__node_r": 3,
          "__node_size": 36,
          "country": "Qatar",
          "id": "Annette Lewis-Wright",
          "name": "Amy",
          "x": 358.1599483249222,
          "y": 446.96197626058404
         },
         {
          "__combo_group_value": "Qatar",
          "__node_r": 3,
          "__node_size": 36,
          "country": "Qatar",
          "id": "Chloe Jackson",
          "name": "Fiona",
          "x": 343.00902478366663,
          "y": 465.77338040623755
         },
         {
          "__combo_group_value": "Qatar",
          "__node_r": 3,
          "__node_size": 36,
          "country": "Qatar",
          "id": "Jean Naylor",
          "name": "Francis",
          "x": 365.67418614878426,
          "y": 460.384432541352
         },
         {
          "__combo_group_value": "Qatar",
          "__node_r": 3,
          "__node_size": 36,
          "country": "Qatar",
          "id": "Lewis Turner",
          "name": "Susan",
          "x": 366.2134283840204,
          "y": 453.21520509559997
         }
        ],
        "data-1cdbfdc42f69c24ed9d06b74f446a8c3": [
         {
          "__combo_size": 2293.92,
          "__node_r": 23.94744245217013,
          "__node_size": 2293.92,
          "__y_label": 306.39623423162726,
          "country": "Malta",
          "x": 469.10681329157705,
          "y": 342.3436766837974
         }
        ],
        "data-26ea445a56244377b2c5d077c2789130": [
         {
          "__combo_size": 358.56,
          "__node_r": 9.4678403028357,
          "__node_size": 358.56,
          "__y_label": 189.08736626559474,
          "country": "Somalia",
          "x": 788.3667178881205,
          "y": 210.55520656843044
         }
        ],
        "data-27d0dcaa33df10c28bc82fcf360956fa": [
         {
          "__combo_size": 1971.3600000000001,
          "__node_r": 22.2,
          "__node_size": 1971.3600000000001,
          "__y_label": 227.4121378411994,
          "country": "Monaco",
          "x": 522.6524824888058,
          "y": 261.6121378411994
         }
        ],
        "data-2c4360f43fec59042b402ab319b355a2": [
         {
          "__combo_group_value": "Somalia",
          "__node_r": 3,
          "__node_size": 36,
          "country": "Somalia",
          "id": "Mark Richards-Richardson",
          "name": "Terence",
          "x": 787.4009407851095,
          "y": 205.82128641701257
         }
        ],
        "data-2dd9659256cc5383c5a64ec71c29da33": [
         {
          "__combo_group_value": "United Kingdom",
          "__node_r": 3,
          "__node_size": 36,
          "country": "United Kingdom",
          "id": "Maurice Howarth",
          "name": "Shirley",
          "x": 738.3895009945941,
          "y": 243.65496949512573
         },
         {
          "__combo_group_value": "United Kingdom",
          "__node_r": 3,
          "__node_size": 36,
          "country": "United Kingdom",
          "id": "Shannon Barber",
          "name": "Gillian",
          "x": 748.6906868190204,
          "y": 249.76023472118123
         },
         {
          "__combo_group_value": "United Kingdom",
          "__node_r": 3,
          "__node_size": 36,
          "country": "United Kingdom",
          "id": "Miss Susan Miles",
          "name": "Chloe",
          "x": 748.5539649486277,
          "y": 261.7339559472663
         },
         {
          "__combo_group_value": "United Kingdom",
          "__node_r": 3,
          "__node_size": 36,
          "country": "United Kingdom",
          "id": "Christopher White",
          "name": "Rebecca",
          "x": 738.2527791242014,
          "y": 255.62869072121077
         },
         {
          "__combo_group_value": "United Kingdom",
          "__node_r": 3,
          "__node_size": 36,
          "country": "United Kingdom",
          "id": "Russell West",
          "name": "Brett",
          "x": 727.8148714293825,
          "y": 261.4971467212403
         },
         {
          "__combo_group_value": "United Kingdom",
          "__node_r": 3,
          "__node_size": 36,
          "country": "United Kingdom",
          "id": "Stuart Parsons",
          "name": "Sylvia",
          "x": 727.9515932997751,
          "y": 249.52342549515524
         },
         {
          "__combo_group_value": "United Kingdom",
          "__node_r": 3,
          "__node_size": 36,
          "country": "United Kingdom",
          "id": "Dr Laura Wong",
          "name": "Amy",
          "x": 738.1160572538088,
          "y": 267.6024119472958
         }
        ],
        "data-30721634761f695bd4c48360773bd29c": [
         {
          "__combo_size": 2616.48,
          "__node_r": 25.57576978313654,
          "__node_size": 2616.48,
          "__y_label": 97.40387339627847,
          "country": "Burundi",
          "x": 600.5882577079766,
          "y": 134.979643179415
         }
        ],
        "data-3295e4f3df6e09eefefa7c4e1a935eab": [
         {
          "__combo_group_value": "__combo_empty_Dylan Nicholls-Taylor",
          "__combo_promoted": true,
          "__node_r": 3,
          "__node_size": 36,
          "country": null,
          "id": "Dylan Nicholls-Taylor",
          "name": "Barry",
          "x": 52.40851251247299,
          "y": 354.0087854022437
         }
        ],
        "data-355d64a1f4a48d49cd5586bcf74cd23b": [
         {
          "__combo_group_value": "Monaco",
          "__node_r": 3,
          "__node_size": 36,
          "country": "Monaco",
          "id": "Hugh Watson",
          "name": "Shane",
          "x": 522.6524824888058,
          "y": 261.6121378411994
         },
         {
          "__combo_group_value": "Monaco",
          "__node_r": 3,
          "__node_size": 36,
          "country": "Monaco",
          "id": "Emily Reynolds-Robinson",
          "name": "Emily",
          "x": 527.022401016074,
          "y": 251.36077975259715
         },
         {
          "__combo_group_value": "Monaco",
          "__node_r": 3,
          "__node_size": 36,
          "country": "Monaco",
          "id": "Lesley Thompson-Hurst",
          "name": "Sam",
          "x": 513.0915470357625,
          "y": 267.33708708625386
         },
         {
          "__combo_group_value": "Monaco",
          "__node_r": 3,
          "__node_size": 36,
          "country": "Monaco",
          "id": "Miss Samantha Carr",
          "name": "Jenna",
          "x": 525.1427412366615,
          "y": 272.47423441434955
         },
         {
          "__combo_group_value": "Monaco",
          "__node_r": 3,
          "__node_size": 36,
          "country": "Monaco",
          "id": "Nigel Peacock",
          "name": "Steven",
          "x": 514.2532406667254,
          "y": 254.28825448536097
         },
         {
          "__combo_group_value": "Monaco",
          "__node_r": 3,
          "__node_size": 36,
          "country": "Monaco",
          "id": "Graeme Sanderson-Fisher",
          "name": "Antony",
          "x": 533.7524824888059,
          "y": 262.60033346743546
         }
        ],
        "data-37623b87173407ab66f60c70923628ed": [
         {
          "__combo_size": 1971.3600000000001,
          "__node_r": 22.2,
          "__node_size": 1971.3600000000001,
          "__y_label": 277.0418606277915,
          "country": "Guinea-Bissau",
          "x": 250.36379598288613,
          "y": 311.2418606277915
         }
        ],
        "data-39e3c5bb80c32f70775421b9211367b1": [
         {
          "__combo_size": 2616.48,
          "__node_r": 25.57576978313654,
          "__node_size": 2616.48,
          "__y_label": 221.79492372531934,
          "country": "Lebanon",
          "x": 386.65220191465926,
          "y": 259.3706935084559
         }
        ],
        "data-3d1f9217963d825d1239d2775ce3f3e6": [
         {
          "__combo_group_value": "Lebanon",
          "__node_r": 3,
          "__node_size": 36,
          "country": "Lebanon",
          "id": "Amanda Webster-Abbott",
          "name": "Denis",
          "x": 386.65220191465926,
          "y": 259.3706935084559
         },
         {
          "__combo_group_value": "Lebanon",
          "__node_r": 3,
          "__node_size": 36,
          "country": "Lebanon",
          "id": "Dr Lewis Pearson",
          "name": "Dorothy",
          "x": 384.83398766834006,
          "y": 246.66893986635154
         },
         {
          "__combo_group_value": "Lebanon",
          "__node_r": 3,
          "__node_size": 36,
          "country": "Lebanon",
          "id": "Steven Andrews-Pope",
          "name": "Ruth",
          "x": 374.67349848753827,
          "y": 263.9697274108432
         },
         {
          "__combo_group_value": "Lebanon",
          "__node_r": 3,
          "__node_size": 36,
          "country": "Lebanon",
          "id": "Mr Frank John",
          "name": "Barry",
          "x": 399.44008680622755,
          "y": 260.4244717727167
         },
         {
          "__combo_group_value": "Lebanon",
          "__node_r": 3,
          "__node_size": 36,
          "country": "Lebanon",
          "id": "Ben Holden-Baker",
          "name": "Iain",
          "x": 395.4491947544351,
          "y": 250.02974250723756
         },
         {
          "__combo_group_value": "Lebanon",
          "__node_r": 3,
          "__node_size": 36,
          "country": "Lebanon",
          "id": "Elaine Hughes",
          "name": "Lydia",
          "x": 393.8014407093558,
          "y": 270.02568451204826
         },
         {
          "__combo_group_value": "Lebanon",
          "__node_r": 3,
          "__node_size": 36,
          "country": "Lebanon",
          "id": "Leah Watson",
          "name": "Carl",
          "x": 375.58793299453487,
          "y": 252.87281678652604
         },
         {
          "__combo_group_value": "Lebanon",
          "__node_r": 3,
          "__node_size": 36,
          "country": "Lebanon",
          "id": "Timothy Taylor",
          "name": "Norman",
          "x": 382.7792719821832,
          "y": 271.60347170346785
         }
        ],
        "data-414ff3b6afb99b7e0f3a6cd2b81ac3c0": [
         {
          "__combo_size": 3261.6,
          "__node_r": 28.555209682297903,
          "__node_size": 3261.6,
          "__y_label": 417.48670379863773,
          "country": "Qatar",
          "x": 353.6902279693934,
          "y": 458.04191348093565
         }
        ],
        "data-51a0f8f6fff9080f21f0d1feb832aa11": [
         {
          "__combo_size": 2293.92,
          "__node_r": 23.94744245217013,
          "__node_size": 2293.92,
          "__y_label": 77.28015090988143,
          "country": "Bosnia and Herzegovina",
          "x": 285.4298910970829,
          "y": 113.22759336205155
         }
        ],
        "data-59793db1760a0fe32b4626b45db82f7c": [
         {
          "__combo_size": 2293.92,
          "__node_r": 23.94744245217013,
          "__node_size": 2293.92,
          "__y_label": 219.68124826904065,
          "country": "United Kingdom",
          "x": 738.2527791242014,
          "y": 255.62869072121077
         }
        ],
        "data-5bd670f39eae9d9e1c27a25852e4d348": [
         {
          "__combo_size": 2939.04,
          "__node_r": 27.106456795383643,
          "__node_size": 2939.04,
          "__y_label": -11.312433005186744,
          "country": "Slovakia (Slovak Republic)",
          "x": 361.1680051145686,
          "y": 27.7940237901969
         }
        ],
        "data-5e00c1fe51c62cdd3a7d59d61fb646b7": [
         {
          "__combo_group_value": "__combo_empty_Josh Wright",
          "__combo_promoted": true,
          "__node_r": 3,
          "__node_size": 36,
          "country": null,
          "id": "Josh Wright",
          "name": "Jacob",
          "x": 648.2614121950443,
          "y": 31.56563808011696
         }
        ],
        "data-62c0f37f1a4badcf4d61e9a0e02cd5f7": [
         {
          "__combo_group_value": "__combo_empty_Lindsey Jones",
          "__combo_promoted": true,
          "__node_r": 3,
          "__node_size": 36,
          "country": null,
          "id": "Lindsey Jones",
          "name": "Suzanne",
          "x": 94.74031887416486,
          "y": 75.50378572920498
         }
        ],
        "data-6bcdbc8c201d888c4114370e85a38176": [
         {
          "__combo_group_value": "Bouvet Island (Bouvetoya)",
          "__node_r": 3,
          "__node_size": 36,
          "country": "Bouvet Island (Bouvetoya)",
          "id": "Elliot Sharpe-Stanley",
          "name": "Leon",
          "x": 320.1473838603625,
          "y": 199.1609089358239
         },
         {
          "__combo_group_value": "Bouvet Island (Bouvetoya)",
          "__node_r": 3,
          "__node_size": 36,
          "country": "Bouvet Island (Bouvetoya)",
          "id": "Linda Cox",
          "name": "Elaine",
          "x": 336.3283303368435,
          "y": 201.18875154593508
         },
         {
          "__combo_group_value": "Bouvet Island (Bouvetoya)",
          "__node_r": 3,
          "__node_size": 36,
          "country": "Bouvet Island (Bouvetoya)",
          "id": "Joanne Campbell-Finch",
          "name": "Samuel",
          "x": 334.30048772673234,
          "y": 217.36969802241612
         },
         {
          "__combo_group_value": "Bouvet Island (Bouvetoya)",
          "__node_r": 3,
          "__node_size": 36,
          "country": "Bouvet Island (Bouvetoya)",
          "id": "Adam Davies",
          "name": "Elliott",
          "x": 318.1195412502513,
          "y": 215.34185541230494
         }
        ],
        "data-7a7e07032de12436a8f47fed264b4726": [
         {
          "__combo_size": 1648.8,
          "__node_r": 20.30270917882636,
          "__node_size": 1648.8,
          "__y_label": 396.6501610888789,
          "country": "French Guiana",
          "x": 237.3431218535367,
          "y": 428.9528702677053
         }
        ],
        "data-85b4045ca82d9073a999abb9c1075312": [
         {
          "__combo_group_value": "French Guiana",
          "__node_r": 3,
          "__node_size": 36,
          "country": "French Guiana",
          "id": "Kirsty Lambert",
          "name": "Hazel",
          "x": 241.37456561654886,
          "y": 422.39638203968775
         },
         {
          "__combo_group_value": "French Guiana",
          "__node_r": 3,
          "__node_size": 36,
          "country": "French Guiana",
          "id": "Miss Naomi Davey",
          "name": "Christine",
          "x": 227.2981380196177,
          "y": 430.82874693477766
         },
         {
          "__combo_group_value": "French Guiana",
          "__node_r": 3,
          "__node_size": 36,
          "country": "French Guiana",
          "id": "Keith Rogers",
          "name": "Leah",
          "x": 236.78877480282316,
          "y": 436.6296388617055
         },
         {
          "__combo_group_value": "French Guiana",
          "__node_r": 3,
          "__node_size": 36,
          "country": "French Guiana",
          "id": "Jade Morgan",
          "name": "Luke",
          "x": 230.28255767344527,
          "y": 421.56578376810546
         },
         {
          "__combo_group_value": "French Guiana",
          "__node_r": 3,
          "__node_size": 36,
          "country": "French Guiana",
          "id": "Carly Williams-Barnes",
          "name": "Damian",
          "x": 247.4944764429499,
          "y": 432.2235193682675
         }
        ],
        "data-860a40ebaaa9282d07f539b8bf5020f4": [
         {
          "__combo_group_value": "__combo_empty_Mitchell Gallagher",
          "__combo_promoted": true,
          "__node_r": 3,
          "__node_size": 36,
          "country": null,
          "id": "Mitchell Gallagher",
          "name": "Sally",
          "x": 69.49478299931398,
          "y": 237.794769647197
         }
        ],
        "data-9d00550aaccd4ad2427a15417bfdb63c": [
         {
          "__combo_size": 1648.8,
          "__node_r": 20.30270917882636,
          "__node_size": 1648.8,
          "__y_label": 307.0335892540852,
          "country": "United States of America",
          "x": 664.8042658857902,
          "y": 339.3362984329116
         }
        ],
        "data-9d3ae4a414730f2b186377e66592763b": [
         {
          "edge": 0,
          "pair": [
           "Natasha Clayton",
           "Natasha Clayton"
          ],
          "source": "Natasha Clayton",
          "target": "Natasha Clayton",
          "weight": 0.5630858939391532,
          "x": 247.74578144718754,
          "y": 318.58950229890513
         },
         {
          "edge": 0,
          "pair": [
           "Natasha Clayton",
           "Natasha Clayton"
          ],
          "source": "Natasha Clayton",
          "target": "Natasha Clayton",
          "weight": 0.5630858939391532,
          "x": 247.74578144718754,
          "y": 318.58950229890513
         }
        ],
        "data-a7c64f372b529854c41158c3c6ee26ed": [
         {
          "edge": 0,
          "pair": [
           "Dr Jodie Mills",
           "Stanley Thomas"
          ],
          "source": "Dr Jodie Mills",
          "target": "Stanley Thomas",
          "weight": 2.7903052585248433,
          "x": 348.46259297680075,
          "y": 451.40074502262524
         },
         {
          "edge": 0,
          "pair": [
           "Dr Jodie Mills",
           "Stanley Thomas"
          ],
          "source": "Dr Jodie Mills",
          "target": "Stanley Thomas",
          "weight": 2.7903052585248433,
          "x": 353.1023036517364,
          "y": 459.51964325493697
         },
         {
          "edge": 1,
          "pair": [
           "Dr Jodie Mills",
           "Annette Lewis-Wright"
          ],
          "source": "Dr Jodie Mills",
          "target": "Annette Lewis-Wright",
          "weight": 1.1186956263443646,
          "x": 348.46259297680075,
          "y": 451.40074502262524
         },
         {
          "edge": 1,
          "pair": [
           "Dr Jodie Mills",
           "Annette Lewis-Wright"
          ],
          "source": "Dr Jodie Mills",
          "target": "Annette Lewis-Wright",
          "weight": 1.1186956263443646,
          "x": 358.1599483249222,
          "y": 446.96197626058404
         }
        ],
        "data-aab587fe30ce042769f75dd9bda5c90f": [
         {
          "edge": 0,
          "pair": [
           "Bosnia and Herzegovina",
           "Bouvet Island (Bouvetoya)"
          ],
          "source": "Bosnia and Herzegovina",
          "target": "Bouvet Island (Bouvetoya)",
          "weight": 0.17112716453119503,
          "x": 285.4298910970829,
          "y": 113.22759336205155
         },
         {
          "edge": 0,
          "pair": [
           "Bosnia and Herzegovina",
           "Bouvet Island (Bouvetoya)"
          ],
          "source": "Bosnia and Herzegovina",
          "target": "Bouvet Island (Bouvetoya)",
          "weight": 0.17112716453119503,
          "x": 327.2239357935474,
          "y": 208.26530347912
         },
         {
          "edge": 1,
          "pair": [
           "Bosnia and Herzegovina",
           "Burundi"
          ],
          "source": "Bosnia and Herzegovina",
          "target": "Burundi",
          "weight": 2.575816821172486,
          "x": 285.4298910970829,
          "y": 113.22759336205155
         },
         {
          "edge": 1,
          "pair": [
           "Bosnia and Herzegovina",
           "Burundi"
          ],
          "source": "Bosnia and Herzegovina",
          "target": "Burundi",
          "weight": 2.575816821172486,
          "x": 600.5882577079766,
          "y": 134.979643179415
         },
         {
          "edge": 2,
          "pair": [
           "Bosnia and Herzegovina",
           "Fiji"
          ],
          "source": "Bosnia and Herzegovina",
          "target": "Fiji",
          "weight": 2.452625773678599,
          "x": 285.4298910970829,
          "y": 113.22759336205155
         },
         {
          "edge": 2,
          "pair": [
           "Bosnia and Herzegovina",
           "Fiji"
          ],
          "source": "Bosnia and Herzegovina",
          "target": "Fiji",
          "weight": 2.452625773678599,
          "x": 455.9880903208384,
          "y": 176.2063211918198
         },
         {
          "edge": 3,
          "pair": [
           "Bosnia and Herzegovina",
           "Guinea-Bissau"
          ],
          "source": "Bosnia and Herzegovina",
          "target": "Guinea-Bissau",
          "weight": 1.0363049069293109,
          "x": 285.4298910970829,
          "y": 113.22759336205155
         },
         {
          "edge": 3,
          "pair": [
           "Bosnia and Herzegovina",
           "Guinea-Bissau"
          ],
          "source": "Bosnia and Herzegovina",
          "target": "Guinea-Bissau",
          "weight": 1.0363049069293109,
          "x": 250.36379598288613,
          "y": 311.2418606277915
         },
         {
          "edge": 4,
          "pair": [
           "Bosnia and Herzegovina",
           "Lebanon"
          ],
          "source": "Bosnia and Herzegovina",
          "target": "Lebanon",
          "weight": 3.1099240997780466,
          "x": 285.4298910970829,
          "y": 113.22759336205155
         },
         {
          "edge": 4,
          "pair": [
           "Bosnia and Herzegovina",
           "Lebanon"
          ],
          "source": "Bosnia and Herzegovina",
          "target": "Lebanon",
          "weight": 3.1099240997780466,
          "x": 386.65220191465926,
          "y": 259.3706935084559
         },
         {
          "edge": 5,
          "pair": [
           "Bosnia and Herzegovina",
           "Malta"
          ],
          "source": "Bosnia and Herzegovina",
          "target": "Malta",
          "weight": 2.0076716546943993,
          "x": 285.4298910970829,
          "y": 113.22759336205155
         },
         {
          "edge": 5,
          "pair": [
           "Bosnia and Herzegovina",
           "Malta"
          ],
          "source": "Bosnia and Herzegovina",
          "target": "Malta",
          "weight": 2.0076716546943993,
          "x": 469.10681329157705,
          "y": 342.3436766837974
         },
         {
          "edge": 6,
          "pair": [
           "Bosnia and Herzegovina",
           "Qatar"
          ],
          "source": "Bosnia and Herzegovina",
          "target": "Qatar",
          "weight": 0.022868514110934574,
          "x": 285.4298910970829,
          "y": 113.22759336205155
         },
         {
          "edge": 6,
          "pair": [
           "Bosnia and Herzegovina",
           "Qatar"
          ],
          "source": "Bosnia and Herzegovina",
          "target": "Qatar",
          "weight": 0.022868514110934574,
          "x": 353.6902279693934,
          "y": 458.04191348093565
         },
         {
          "edge": 7,
          "pair": [
           "Bosnia and Herzegovina",
           "Slovakia (Slovak Republic)"
          ],
          "source": "Bosnia and Herzegovina",
          "target": "Slovakia (Slovak Republic)",
          "weight": 3.267884534386711,
          "x": 285.4298910970829,
          "y": 113.22759336205155
         },
         {
          "edge": 7,
          "pair": [
           "Bosnia and Herzegovina",
           "Slovakia (Slovak Republic)"
          ],
          "source": "Bosnia and Herzegovina",
          "target": "Slovakia (Slovak Republic)",
          "weight": 3.267884534386711,
          "x": 361.1680051145686,
          "y": 27.7940237901969
         },
         {
          "edge": 8,
          "pair": [
           "Bosnia and Herzegovina",
           "United States of America"
          ],
          "source": "Bosnia and Herzegovina",
          "target": "United States of America",
          "weight": 0.3531408442811768,
          "x": 285.4298910970829,
          "y": 113.22759336205155
         },
         {
          "edge": 8,
          "pair": [
           "Bosnia and Herzegovina",
           "United States of America"
          ],
          "source": "Bosnia and Herzegovina",
          "target": "United States of America",
          "weight": 0.3531408442811768,
          "x": 664.8042658857902,
          "y": 339.3362984329116
         },
         {
          "edge": 9,
          "pair": [
           "Bosnia and Herzegovina",
           "__combo_empty_Mitchell Gallagher"
          ],
          "source": "Bosnia and Herzegovina",
          "target": "__combo_empty_Mitchell Gallagher",
          "weight": 1.5296131133537723,
          "x": 285.4298910970829,
          "y": 113.22759336205155
         },
         {
          "edge": 9,
          "pair": [
           "Bosnia and Herzegovina",
           "__combo_empty_Mitchell Gallagher"
          ],
          "source": "Bosnia and Herzegovina",
          "target": "__combo_empty_Mitchell Gallagher",
          "weight": 1.5296131133537723,
          "x": 69.49478299931398,
          "y": 237.794769647197
         },
         {
          "edge": 10,
          "pair": [
           "Bouvet Island (Bouvetoya)",
           "Fiji"
          ],
          "source": "Bouvet Island (Bouvetoya)",
          "target": "Fiji",
          "weight": 4.150336048301911,
          "x": 327.2239357935474,
          "y": 208.26530347912
         },
         {
          "edge": 10,
          "pair": [
           "Bouvet Island (Bouvetoya)",
           "Fiji"
          ],
          "source": "Bouvet Island (Bouvetoya)",
          "target": "Fiji",
          "weight": 4.150336048301911,
          "x": 455.9880903208384,
          "y": 176.2063211918198
         },
         {
          "edge": 11,
          "pair": [
           "Bouvet Island (Bouvetoya)",
           "Guinea-Bissau"
          ],
          "source": "Bouvet Island (Bouvetoya)",
          "target": "Guinea-Bissau",
          "weight": 2.216703750356554,
          "x": 327.2239357935474,
          "y": 208.26530347912
         },
         {
          "edge": 11,
          "pair": [
           "Bouvet Island (Bouvetoya)",
           "Guinea-Bissau"
          ],
          "source": "Bouvet Island (Bouvetoya)",
          "target": "Guinea-Bissau",
          "weight": 2.216703750356554,
          "x": 250.36379598288613,
          "y": 311.2418606277915
         },
         {
          "edge": 12,
          "pair": [
           "Bouvet Island (Bouvetoya)",
           "Monaco"
          ],
          "source": "Bouvet Island (Bouvetoya)",
          "target": "Monaco",
          "weight": 1.8025883220578303,
          "x": 327.2239357935474,
          "y": 208.26530347912
         },
         {
          "edge": 12,
          "pair": [
           "Bouvet Island (Bouvetoya)",
           "Monaco"
          ],
          "source": "Bouvet Island (Bouvetoya)",
          "target": "Monaco",
          "weight": 1.8025883220578303,
          "x": 522.6524824888058,
          "y": 261.6121378411994
         },
         {
          "edge": 13,
          "pair": [
           "Burundi",
           "Fiji"
          ],
          "source": "Burundi",
          "target": "Fiji",
          "weight": 10.688808329057217,
          "x": 600.5882577079766,
          "y": 134.979643179415
         },
         {
          "edge": 13,
          "pair": [
           "Burundi",
           "Fiji"
          ],
          "source": "Burundi",
          "target": "Fiji",
          "weight": 10.688808329057217,
          "x": 455.9880903208384,
          "y": 176.2063211918198
         },
         {
          "edge": 14,
          "pair": [
           "Burundi",
           "French Guiana"
          ],
          "source": "Burundi",
          "target": "French Guiana",
          "weight": 0.4385137637587397,
          "x": 600.5882577079766,
          "y": 134.979643179415
         },
         {
          "edge": 14,
          "pair": [
           "Burundi",
           "French Guiana"
          ],
          "source": "Burundi",
          "target": "French Guiana",
          "weight": 0.4385137637587397,
          "x": 237.3431218535367,
          "y": 428.9528702677053
         },
         {
          "edge": 15,
          "pair": [
           "Burundi",
           "Guatemala"
          ],
          "source": "Burundi",
          "target": "Guatemala",
          "weight": 0.1425331325986696,
          "x": 600.5882577079766,
          "y": 134.979643179415
         },
         {
          "edge": 15,
          "pair": [
           "Burundi",
           "Guatemala"
          ],
          "source": "Burundi",
          "target": "Guatemala",
          "weight": 0.1425331325986696,
          "x": 625.0110033088833,
          "y": 426.9933962056007
         },
         {
          "edge": 16,
          "pair": [
           "Burundi",
           "Guinea-Bissau"
          ],
          "source": "Burundi",
          "target": "Guinea-Bissau",
          "weight": 0.8127637314700861,
          "x": 600.5882577079766,
          "y": 134.979643179415
         },
         {
          "edge": 16,
          "pair": [
           "Burundi",
           "Guinea-Bissau"
          ],
          "source": "Burundi",
          "target": "Guinea-Bissau",
          "weight": 0.8127637314700861,
          "x": 250.36379598288613,
          "y": 311.2418606277915
         },
         {
          "edge": 17,
          "pair": [
           "Burundi",
           "Monaco"
          ],
          "source": "Burundi",
          "target": "Monaco",
          "weight": 1.3838195524003853,
          "x": 600.5882577079766,
          "y": 134.979643179415
         },
         {
          "edge": 17,
          "pair": [
           "Burundi",
           "Monaco"
          ],
          "source": "Burundi",
          "target": "Monaco",
          "weight": 1.3838195524003853,
          "x": 522.6524824888058,
          "y": 261.6121378411994
         },
         {
          "edge": 18,
          "pair": [
           "Burundi",
           "Slovakia (Slovak Republic)"
          ],
          "source": "Burundi",
          "target": "Slovakia (Slovak Republic)",
          "weight": 0.7919791488824837,
          "x": 600.5882577079766,
          "y": 134.979643179415
         },
         {
          "edge": 18,
          "pair": [
           "Burundi",
           "Slovakia (Slovak Republic)"
          ],
          "source": "Burundi",
          "target": "Slovakia (Slovak Republic)",
          "weight": 0.7919791488824837,
          "x": 361.1680051145686,
          "y": 27.7940237901969
         },
         {
          "edge": 19,
          "pair": [
           "Burundi",
           "Somalia"
          ],
          "source": "Burundi",
          "target": "Somalia",
          "weight": 0.549536260965219,
          "x": 600.5882577079766,
          "y": 134.979643179415
         },
         {
          "edge": 19,
          "pair": [
           "Burundi",
           "Somalia"
          ],
          "source": "Burundi",
          "target": "Somalia",
          "weight": 0.549536260965219,
          "x": 788.3667178881205,
          "y": 210.55520656843044
         },
         {
          "edge": 20,
          "pair": [
           "Burundi",
           "United Kingdom"
          ],
          "source": "Burundi",
          "target": "United Kingdom",
          "weight": 0.0816249816378676,
          "x": 600.5882577079766,
          "y": 134.979643179415
         },
         {
          "edge": 20,
          "pair": [
           "Burundi",
           "United Kingdom"
          ],
          "source": "Burundi",
          "target": "United Kingdom",
          "weight": 0.0816249816378676,
          "x": 738.2527791242014,
          "y": 255.62869072121077
         },
         {
          "edge": 21,
          "pair": [
           "Burundi",
           "United States of America"
          ],
          "source": "Burundi",
          "target": "United States of America",
          "weight": 3.1688904936418463,
          "x": 600.5882577079766,
          "y": 134.979643179415
         },
         {
          "edge": 21,
          "pair": [
           "Burundi",
           "United States of America"
          ],
          "source": "Burundi",
          "target": "United States of America",
          "weight": 3.1688904936418463,
          "x": 664.8042658857902,
          "y": 339.3362984329116
         },
         {
          "edge": 22,
          "pair": [
           "Burundi",
           "__combo_empty_Mitchell Gallagher"
          ],
          "source": "Burundi",
          "target": "__combo_empty_Mitchell Gallagher",
          "weight": 1.0212011529207528,
          "x": 600.5882577079766,
          "y": 134.979643179415
         },
         {
          "edge": 22,
          "pair": [
           "Burundi",
           "__combo_empty_Mitchell Gallagher"
          ],
          "source": "Burundi",
          "target": "__combo_empty_Mitchell Gallagher",
          "weight": 1.0212011529207528,
          "x": 69.49478299931398,
          "y": 237.794769647197
         },
         {
          "edge": 23,
          "pair": [
           "Burundi",
           "__combo_empty_Tom Martin"
          ],
          "source": "Burundi",
          "target": "__combo_empty_Tom Martin",
          "weight": 1.8921807387105325,
          "x": 600.5882577079766,
          "y": 134.979643179415
         },
         {
          "edge": 23,
          "pair": [
           "Burundi",
           "__combo_empty_Tom Martin"
          ],
          "source": "Burundi",
          "target": "__combo_empty_Tom Martin",
          "weight": 1.8921807387105325,
          "x": 506.76561283075375,
          "y": 422.12221900901824
         },
         {
          "edge": 24,
          "pair": [
           "Fiji",
           "French Guiana"
          ],
          "source": "Fiji",
          "target": "French Guiana",
          "weight": 2.9261963737795686,
          "x": 455.9880903208384,
          "y": 176.2063211918198
         },
         {
          "edge": 24,
          "pair": [
           "Fiji",
           "French Guiana"
          ],
          "source": "Fiji",
          "target": "French Guiana",
          "weight": 2.9261963737795686,
          "x": 237.3431218535367,
          "y": 428.9528702677053
         },
         {
          "edge": 25,
          "pair": [
           "Fiji",
           "Guatemala"
          ],
          "source": "Fiji",
          "target": "Guatemala",
          "weight": 2.830428563964415,
          "x": 455.9880903208384,
          "y": 176.2063211918198
         },
         {
          "edge": 25,
          "pair": [
           "Fiji",
           "Guatemala"
          ],
          "source": "Fiji",
          "target": "Guatemala",
          "weight": 2.830428563964415,
          "x": 625.0110033088833,
          "y": 426.9933962056007
         },
         {
          "edge": 26,
          "pair": [
           "Fiji",
           "Guinea-Bissau"
          ],
          "source": "Fiji",
          "target": "Guinea-Bissau",
          "weight": 2.4127045041851614,
          "x": 455.9880903208384,
          "y": 176.2063211918198
         },
         {
          "edge": 26,
          "pair": [
           "Fiji",
           "Guinea-Bissau"
          ],
          "source": "Fiji",
          "target": "Guinea-Bissau",
          "weight": 2.4127045041851614,
          "x": 250.36379598288613,
          "y": 311.2418606277915
         },
         {
          "edge": 27,
          "pair": [
           "Fiji",
           "Lebanon"
          ],
          "source": "Fiji",
          "target": "Lebanon",
          "weight": 5.742155295849208,
          "x": 455.9880903208384,
          "y": 176.2063211918198
         },
         {
          "edge": 27,
          "pair": [
           "Fiji",
           "Lebanon"
          ],
          "source": "Fiji",
          "target": "Lebanon",
          "weight": 5.742155295849208,
          "x": 386.65220191465926,
          "y": 259.3706935084559
         },
         {
          "edge": 28,
          "pair": [
           "Fiji",
           "Malta"
          ],
          "source": "Fiji",
          "target": "Malta",
          "weight": 2.774161374431206,
          "x": 455.9880903208384,
          "y": 176.2063211918198
         },
         {
          "edge": 28,
          "pair": [
           "Fiji",
           "Malta"
          ],
          "source": "Fiji",
          "target": "Malta",
          "weight": 2.774161374431206,
          "x": 469.10681329157705,
          "y": 342.3436766837974
         },
         {
          "edge": 29,
          "pair": [
           "Fiji",
           "Monaco"
          ],
          "source": "Fiji",
          "target": "Monaco",
          "weight": 7.36639032655939,
          "x": 455.9880903208384,
          "y": 176.2063211918198
         },
         {
          "edge": 29,
          "pair": [
           "Fiji",
           "Monaco"
          ],
          "source": "Fiji",
          "target": "Monaco",
          "weight": 7.36639032655939,
          "x": 522.6524824888058,
          "y": 261.6121378411994
         },
         {
          "edge": 30,
          "pair": [
           "Fiji",
           "Qatar"
          ],
          "source": "Fiji",
          "target": "Qatar",
          "weight": 0.5939487757769766,
          "x": 455.9880903208384,
          "y": 176.2063211918198
         },
         {
          "edge": 30,
          "pair": [
           "Fiji",
           "Qatar"
          ],
          "source": "Fiji",
          "target": "Qatar",
          "weight": 0.5939487757769766,
          "x": 353.6902279693934,
          "y": 458.04191348093565
         },
         {
          "edge": 31,
          "pair": [
           "Fiji",
           "Slovakia (Slovak Republic)"
          ],
          "source": "Fiji",
          "target": "Slovakia (Slovak Republic)",
          "weight": 1.6879261139796187,
          "x": 455.9880903208384,
          "y": 176.2063211918198
         },
         {
          "edge": 31,
          "pair": [
           "Fiji",
           "Slovakia (Slovak Republic)"
          ],
          "source": "Fiji",
          "target": "Slovakia (Slovak Republic)",
          "weight": 1.6879261139796187,
          "x": 361.1680051145686,
          "y": 27.7940237901969
         },
         {
          "edge": 32,
          "pair": [
           "Fiji",
           "United Kingdom"
          ],
          "source": "Fiji",
          "target": "United Kingdom",
          "weight": 1.7642480498187647,
          "x": 455.9880903208384,
          "y": 176.2063211918198
         },
         {
          "edge": 32,
          "pair": [
           "Fiji",
           "United Kingdom"
          ],
          "source": "Fiji",
          "target": "United Kingdom",
          "weight": 1.7642480498187647,
          "x": 738.2527791242014,
          "y": 255.62869072121077
         },
         {
          "edge": 33,
          "pair": [
           "Fiji",
           "__combo_empty_Diana Harrison-Ellis"
          ],
          "source": "Fiji",
          "target": "__combo_empty_Diana Harrison-Ellis",
          "weight": 1.6160160122436436,
          "x": 455.9880903208384,
          "y": 176.2063211918198
         },
         {
          "edge": 33,
          "pair": [
           "Fiji",
           "__combo_empty_Diana Harrison-Ellis"
          ],
          "source": "Fiji",
          "target": "__combo_empty_Diana Harrison-Ellis",
          "weight": 1.6160160122436436,
          "x": 129.35971494554,
          "y": 129.5462254988817
         },
         {
          "edge": 34,
          "pair": [
           "Fiji",
           "__combo_empty_Dylan Nicholls-Taylor"
          ],
          "source": "Fiji",
          "target": "__combo_empty_Dylan Nicholls-Taylor",
          "weight": 0.28458215954322813,
          "x": 455.9880903208384,
          "y": 176.2063211918198
         },
         {
          "edge": 34,
          "pair": [
           "Fiji",
           "__combo_empty_Dylan Nicholls-Taylor"
          ],
          "source": "Fiji",
          "target": "__combo_empty_Dylan Nicholls-Taylor",
          "weight": 0.28458215954322813,
          "x": 52.40851251247299,
          "y": 354.0087854022437
         },
         {
          "edge": 35,
          "pair": [
           "Fiji",
           "__combo_empty_Mitchell Gallagher"
          ],
          "source": "Fiji",
          "target": "__combo_empty_Mitchell Gallagher",
          "weight": 0.36538531150764353,
          "x": 455.9880903208384,
          "y": 176.2063211918198
         },
         {
          "edge": 35,
          "pair": [
           "Fiji",
           "__combo_empty_Mitchell Gallagher"
          ],
          "source": "Fiji",
          "target": "__combo_empty_Mitchell Gallagher",
          "weight": 0.36538531150764353,
          "x": 69.49478299931398,
          "y": 237.794769647197
         },
         {
          "edge": 36,
          "pair": [
           "Fiji",
           "__combo_empty_Tom Martin"
          ],
          "source": "Fiji",
          "target": "__combo_empty_Tom Martin",
          "weight": 0.2386299670960798,
          "x": 455.9880903208384,
          "y": 176.2063211918198
         },
         {
          "edge": 36,
          "pair": [
           "Fiji",
           "__combo_empty_Tom Martin"
          ],
          "source": "Fiji",
          "target": "__combo_empty_Tom Martin",
          "weight": 0.2386299670960798,
          "x": 506.76561283075375,
          "y": 422.12221900901824
         },
         {
          "edge": 37,
          "pair": [
           "Guinea-Bissau",
           "French Guiana"
          ],
          "source": "Guinea-Bissau",
          "target": "French Guiana",
          "weight": 2.338406187044627,
          "x": 250.36379598288613,
          "y": 311.2418606277915
         },
         {
          "edge": 37,
          "pair": [
           "Guinea-Bissau",
           "French Guiana"
          ],
          "source": "Guinea-Bissau",
          "target": "French Guiana",
          "weight": 2.338406187044627,
          "x": 237.3431218535367,
          "y": 428.9528702677053
         },
         {
          "edge": 38,
          "pair": [
           "Guinea-Bissau",
           "Guatemala"
          ],
          "source": "Guinea-Bissau",
          "target": "Guatemala",
          "weight": 0.1396423642250904,
          "x": 250.36379598288613,
          "y": 311.2418606277915
         },
         {
          "edge": 38,
          "pair": [
           "Guinea-Bissau",
           "Guatemala"
          ],
          "source": "Guinea-Bissau",
          "target": "Guatemala",
          "weight": 0.1396423642250904,
          "x": 625.0110033088833,
          "y": 426.9933962056007
         },
         {
          "edge": 39,
          "pair": [
           "Guinea-Bissau",
           "Lebanon"
          ],
          "source": "Guinea-Bissau",
          "target": "Lebanon",
          "weight": 3.1652073013136213,
          "x": 250.36379598288613,
          "y": 311.2418606277915
         },
         {
          "edge": 39,
          "pair": [
           "Guinea-Bissau",
           "Lebanon"
          ],
          "source": "Guinea-Bissau",
          "target": "Lebanon",
          "weight": 3.1652073013136213,
          "x": 386.65220191465926,
          "y": 259.3706935084559
         },
         {
          "edge": 40,
          "pair": [
           "Guinea-Bissau",
           "Malta"
          ],
          "source": "Guinea-Bissau",
          "target": "Malta",
          "weight": 2.6224135523520844,
          "x": 250.36379598288613,
          "y": 311.2418606277915
         },
         {
          "edge": 40,
          "pair": [
           "Guinea-Bissau",
           "Malta"
          ],
          "source": "Guinea-Bissau",
          "target": "Malta",
          "weight": 2.6224135523520844,
          "x": 469.10681329157705,
          "y": 342.3436766837974
         },
         {
          "edge": 41,
          "pair": [
           "Guinea-Bissau",
           "Monaco"
          ],
          "source": "Guinea-Bissau",
          "target": "Monaco",
          "weight": 1.8952334869026377,
          "x": 250.36379598288613,
          "y": 311.2418606277915
         },
         {
          "edge": 41,
          "pair": [
           "Guinea-Bissau",
           "Monaco"
          ],
          "source": "Guinea-Bissau",
          "target": "Monaco",
          "weight": 1.8952334869026377,
          "x": 522.6524824888058,
          "y": 261.6121378411994
         },
         {
          "edge": 42,
          "pair": [
           "Guinea-Bissau",
           "Qatar"
          ],
          "source": "Guinea-Bissau",
          "target": "Qatar",
          "weight": 2.794211923735671,
          "x": 250.36379598288613,
          "y": 311.2418606277915
         },
         {
          "edge": 42,
          "pair": [
           "Guinea-Bissau",
           "Qatar"
          ],
          "source": "Guinea-Bissau",
          "target": "Qatar",
          "weight": 2.794211923735671,
          "x": 353.6902279693934,
          "y": 458.04191348093565
         },
         {
          "edge": 43,
          "pair": [
           "Guinea-Bissau",
           "Slovakia (Slovak Republic)"
          ],
          "source": "Guinea-Bissau",
          "target": "Slovakia (Slovak Republic)",
          "weight": 1.0540176507150325,
          "x": 250.36379598288613,
          "y": 311.2418606277915
         },
         {
          "edge": 43,
          "pair": [
           "Guinea-Bissau",
           "Slovakia (Slovak Republic)"
          ],
          "source": "Guinea-Bissau",
          "target": "Slovakia (Slovak Republic)",
          "weight": 1.0540176507150325,
          "x": 361.1680051145686,
          "y": 27.7940237901969
         },
         {
          "edge": 44,
          "pair": [
           "Guinea-Bissau",
           "United Kingdom"
          ],
          "source": "Guinea-Bissau",
          "target": "United Kingdom",
          "weight": 1.7628197275937891,
          "x": 250.36379598288613,
          "y": 311.2418606277915
         },
         {
          "edge": 44,
          "pair": [
           "Guinea-Bissau",
           "United Kingdom"
          ],
          "source": "Guinea-Bissau",
          "target": "United Kingdom",
          "weight": 1.7628197275937891,
          "x": 738.2527791242014,
          "y": 255.62869072121077
         },
         {
          "edge": 45,
          "pair": [
           "Guinea-Bissau",
           "United States of America"
          ],
          "source": "Guinea-Bissau",
          "target": "United States of America",
          "weight": 1.3565418934586435,
          "x": 250.36379598288613,
          "y": 311.2418606277915
         },
         {
          "edge": 45,
          "pair": [
           "Guinea-Bissau",
           "United States of America"
          ],
          "source": "Guinea-Bissau",
          "target": "United States of America",
          "weight": 1.3565418934586435,
          "x": 664.8042658857902,
          "y": 339.3362984329116
         },
         {
          "edge": 46,
          "pair": [
           "Guinea-Bissau",
           "__combo_empty_Diana Harrison-Ellis"
          ],
          "source": "Guinea-Bissau",
          "target": "__combo_empty_Diana Harrison-Ellis",
          "weight": 0.5808082829315833,
          "x": 250.36379598288613,
          "y": 311.2418606277915
         },
         {
          "edge": 46,
          "pair": [
           "Guinea-Bissau",
           "__combo_empty_Diana Harrison-Ellis"
          ],
          "source": "Guinea-Bissau",
          "target": "__combo_empty_Diana Harrison-Ellis",
          "weight": 0.5808082829315833,
          "x": 129.35971494554,
          "y": 129.5462254988817
         },
         {
          "edge": 47,
          "pair": [
           "Guinea-Bissau",
           "__combo_empty_Dylan Nicholls-Taylor"
          ],
          "source": "Guinea-Bissau",
          "target": "__combo_empty_Dylan Nicholls-Taylor",
          "weight": 0.006966408273170629,
          "x": 250.36379598288613,
          "y": 311.2418606277915
         },
         {
          "edge": 47,
          "pair": [
           "Guinea-Bissau",
           "__combo_empty_Dylan Nicholls-Taylor"
          ],
          "source": "Guinea-Bissau",
          "target": "__combo_empty_Dylan Nicholls-Taylor",
          "weight": 0.006966408273170629,
          "x": 52.40851251247299,
          "y": 354.0087854022437
         },
         {
          "edge": 48,
          "pair": [
           "Guinea-Bissau",
           "__combo_empty_Mitchell Gallagher"
          ],
          "source": "Guinea-Bissau",
          "target": "__combo_empty_Mitchell Gallagher",
          "weight": 2.5587844121573715,
          "x": 250.36379598288613,
          "y": 311.2418606277915
         },
         {
          "edge": 48,
          "pair": [
           "Guinea-Bissau",
           "__combo_empty_Mitchell Gallagher"
          ],
          "source": "Guinea-Bissau",
          "target": "__combo_empty_Mitchell Gallagher",
          "weight": 2.5587844121573715,
          "x": 69.49478299931398,
          "y": 237.794769647197
         },
         {
          "edge": 49,
          "pair": [
           "Guinea-Bissau",
           "__combo_empty_Tom Martin"
          ],
          "source": "Guinea-Bissau",
          "target": "__combo_empty_Tom Martin",
          "weight": 1.7110768026528538,
          "x": 250.36379598288613,
          "y": 311.2418606277915
         },
         {
          "edge": 49,
          "pair": [
           "Guinea-Bissau",
           "__combo_empty_Tom Martin"
          ],
          "source": "Guinea-Bissau",
          "target": "__combo_empty_Tom Martin",
          "weight": 1.7110768026528538,
          "x": 506.76561283075375,
          "y": 422.12221900901824
         },
         {
          "edge": 50,
          "pair": [
           "Lebanon",
           "United States of America"
          ],
          "source": "Lebanon",
          "target": "United States of America",
          "weight": 1.1973327548066253,
          "x": 386.65220191465926,
          "y": 259.3706935084559
         },
         {
          "edge": 50,
          "pair": [
           "Lebanon",
           "United States of America"
          ],
          "source": "Lebanon",
          "target": "United States of America",
          "weight": 1.1973327548066253,
          "x": 664.8042658857902,
          "y": 339.3362984329116
         },
         {
          "edge": 51,
          "pair": [
           "Lebanon",
           "__combo_empty_Lindsey Jones"
          ],
          "source": "Lebanon",
          "target": "__combo_empty_Lindsey Jones",
          "weight": 0.2012241045744775,
          "x": 386.65220191465926,
          "y": 259.3706935084559
         },
         {
          "edge": 51,
          "pair": [
           "Lebanon",
           "__combo_empty_Lindsey Jones"
          ],
          "source": "Lebanon",
          "target": "__combo_empty_Lindsey Jones",
          "weight": 0.2012241045744775,
          "x": 94.74031887416486,
          "y": 75.50378572920498
         },
         {
          "edge": 52,
          "pair": [
           "Malta",
           "United Kingdom"
          ],
          "source": "Malta",
          "target": "United Kingdom",
          "weight": 0.6886590505067701,
          "x": 469.10681329157705,
          "y": 342.3436766837974
         },
         {
          "edge": 52,
          "pair": [
           "Malta",
           "United Kingdom"
          ],
          "source": "Malta",
          "target": "United Kingdom",
          "weight": 0.6886590505067701,
          "x": 738.2527791242014,
          "y": 255.62869072121077
         },
         {
          "edge": 53,
          "pair": [
           "Malta",
           "United States of America"
          ],
          "source": "Malta",
          "target": "United States of America",
          "weight": 0.7864074296676372,
          "x": 469.10681329157705,
          "y": 342.3436766837974
         },
         {
          "edge": 53,
          "pair": [
           "Malta",
           "United States of America"
          ],
          "source": "Malta",
          "target": "United States of America",
          "weight": 0.7864074296676372,
          "x": 664.8042658857902,
          "y": 339.3362984329116
         },
         {
          "edge": 54,
          "pair": [
           "Qatar",
           "French Guiana"
          ],
          "source": "Qatar",
          "target": "French Guiana",
          "weight": 5.836106936610585,
          "x": 353.6902279693934,
          "y": 458.04191348093565
         },
         {
          "edge": 54,
          "pair": [
           "Qatar",
           "French Guiana"
          ],
          "source": "Qatar",
          "target": "French Guiana",
          "weight": 5.836106936610585,
          "x": 237.3431218535367,
          "y": 428.9528702677053
         },
         {
          "edge": 55,
          "pair": [
           "Qatar",
           "Monaco"
          ],
          "source": "Qatar",
          "target": "Monaco",
          "weight": 0.8296151758758027,
          "x": 353.6902279693934,
          "y": 458.04191348093565
         },
         {
          "edge": 55,
          "pair": [
           "Qatar",
           "Monaco"
          ],
          "source": "Qatar",
          "target": "Monaco",
          "weight": 0.8296151758758027,
          "x": 522.6524824888058,
          "y": 261.6121378411994
         },
         {
          "edge": 56,
          "pair": [
           "Qatar",
           "United States of America"
          ],
          "source": "Qatar",
          "target": "United States of America",
          "weight": 0.6229682471832799,
          "x": 353.6902279693934,
          "y": 458.04191348093565
         },
         {
          "edge": 56,
          "pair": [
           "Qatar",
           "United States of America"
          ],
          "source": "Qatar",
          "target": "United States of America",
          "weight": 0.6229682471832799,
          "x": 664.8042658857902,
          "y": 339.3362984329116
         },
         {
          "edge": 57,
          "pair": [
           "Qatar",
           "__combo_empty_Dr Teresa Kaur"
          ],
          "source": "Qatar",
          "target": "__combo_empty_Dr Teresa Kaur",
          "weight": 0.3181747764963898,
          "x": 353.6902279693934,
          "y": 458.04191348093565
         },
         {
          "edge": 57,
          "pair": [
           "Qatar",
           "__combo_empty_Dr Teresa Kaur"
          ],
          "source": "Qatar",
          "target": "__combo_empty_Dr Teresa Kaur",
          "weight": 0.3181747764963898,
          "x": 20.9146652299239,
          "y": 155.17553369160555
         },
         {
          "edge": 58,
          "pair": [
           "Qatar",
           "__combo_empty_Mitchell Gallagher"
          ],
          "source": "Qatar",
          "target": "__combo_empty_Mitchell Gallagher",
          "weight": 0.7970979038390082,
          "x": 353.6902279693934,
          "y": 458.04191348093565
         },
         {
          "edge": 58,
          "pair": [
           "Qatar",
           "__combo_empty_Mitchell Gallagher"
          ],
          "source": "Qatar",
          "target": "__combo_empty_Mitchell Gallagher",
          "weight": 0.7970979038390082,
          "x": 69.49478299931398,
          "y": 237.794769647197
         },
         {
          "edge": 59,
          "pair": [
           "Slovakia (Slovak Republic)",
           "French Guiana"
          ],
          "source": "Slovakia (Slovak Republic)",
          "target": "French Guiana",
          "weight": 0.15268384252291875,
          "x": 361.1680051145686,
          "y": 27.7940237901969
         },
         {
          "edge": 59,
          "pair": [
           "Slovakia (Slovak Republic)",
           "French Guiana"
          ],
          "source": "Slovakia (Slovak Republic)",
          "target": "French Guiana",
          "weight": 0.15268384252291875,
          "x": 237.3431218535367,
          "y": 428.9528702677053
         },
         {
          "edge": 60,
          "pair": [
           "Slovakia (Slovak Republic)",
           "__combo_empty_Mitchell Gallagher"
          ],
          "source": "Slovakia (Slovak Republic)",
          "target": "__combo_empty_Mitchell Gallagher",
          "weight": 0.29349061009575494,
          "x": 361.1680051145686,
          "y": 27.7940237901969
         },
         {
          "edge": 60,
          "pair": [
           "Slovakia (Slovak Republic)",
           "__combo_empty_Mitchell Gallagher"
          ],
          "source": "Slovakia (Slovak Republic)",
          "target": "__combo_empty_Mitchell Gallagher",
          "weight": 0.29349061009575494,
          "x": 69.49478299931398,
          "y": 237.794769647197
         },
         {
          "edge": 61,
          "pair": [
           "United States of America",
           "French Guiana"
          ],
          "source": "United States of America",
          "target": "French Guiana",
          "weight": 0.9766398559586719,
          "x": 664.8042658857902,
          "y": 339.3362984329116
         },
         {
          "edge": 61,
          "pair": [
           "United States of America",
           "French Guiana"
          ],
          "source": "United States of America",
          "target": "French Guiana",
          "weight": 0.9766398559586719,
          "x": 237.3431218535367,
          "y": 428.9528702677053
         },
         {
          "edge": 62,
          "pair": [
           "United States of America",
           "Guatemala"
          ],
          "source": "United States of America",
          "target": "Guatemala",
          "weight": 2.2790323408723148,
          "x": 664.8042658857902,
          "y": 339.3362984329116
         },
         {
          "edge": 62,
          "pair": [
           "United States of America",
           "Guatemala"
          ],
          "source": "United States of America",
          "target": "Guatemala",
          "weight": 2.2790323408723148,
          "x": 625.0110033088833,
          "y": 426.9933962056007
         },
         {
          "edge": 63,
          "pair": [
           "United States of America",
           "Somalia"
          ],
          "source": "United States of America",
          "target": "Somalia",
          "weight": 1.280459235698856,
          "x": 664.8042658857902,
          "y": 339.3362984329116
         },
         {
          "edge": 63,
          "pair": [
           "United States of America",
           "Somalia"
          ],
          "source": "United States of America",
          "target": "Somalia",
          "weight": 1.280459235698856,
          "x": 788.3667178881205,
          "y": 210.55520656843044
         },
         {
          "edge": 64,
          "pair": [
           "United States of America",
           "United Kingdom"
          ],
          "source": "United States of America",
          "target": "United Kingdom",
          "weight": 4.239693556966244,
          "x": 664.8042658857902,
          "y": 339.3362984329116
         },
         {
          "edge": 64,
          "pair": [
           "United States of America",
           "United Kingdom"
          ],
          "source": "United States of America",
          "target": "United Kingdom",
          "weight": 4.239693556966244,
          "x": 738.2527791242014,
          "y": 255.62869072121077
         },
         {
          "edge": 65,
          "pair": [
           "United States of America",
           "__combo_empty_Wayne Hall"
          ],
          "source": "United States of America",
          "target": "__combo_empty_Wayne Hall",
          "weight": 0.011644119417170029,
          "x": 664.8042658857902,
          "y": 339.3362984329116
         },
         {
          "edge": 65,
          "pair": [
           "United States of America",
           "__combo_empty_Wayne Hall"
          ],
          "source": "United States of America",
          "target": "__combo_empty_Wayne Hall",
          "weight": 0.011644119417170029,
          "x": 523.087467688992,
          "y": 0
         },
         {
          "edge": 66,
          "pair": [
           "__combo_empty_Mitchell Gallagher",
           "French Guiana"
          ],
          "source": "__combo_empty_Mitchell Gallagher",
          "target": "French Guiana",
          "weight": 0.3317459122124127,
          "x": 69.49478299931398,
          "y": 237.794769647197
         },
         {
          "edge": 66,
          "pair": [
           "__combo_empty_Mitchell Gallagher",
           "French Guiana"
          ],
          "source": "__combo_empty_Mitchell Gallagher",
          "target": "French Guiana",
          "weight": 0.3317459122124127,
          "x": 237.3431218535367,
          "y": 428.9528702677053
         },
         {
          "edge": 67,
          "pair": [
           "__combo_empty_Mitchell Gallagher",
           "__combo_empty_Dylan Nicholls-Taylor"
          ],
          "source": "__combo_empty_Mitchell Gallagher",
          "target": "__combo_empty_Dylan Nicholls-Taylor",
          "weight": 2.620951119528192,
          "x": 69.49478299931398,
          "y": 237.794769647197
         },
         {
          "edge": 67,
          "pair": [
           "__combo_empty_Mitchell Gallagher",
           "__combo_empty_Dylan Nicholls-Taylor"
          ],
          "source": "__combo_empty_Mitchell Gallagher",
          "target": "__combo_empty_Dylan Nicholls-Taylor",
          "weight": 2.620951119528192,
          "x": 52.40851251247299,
          "y": 354.0087854022437
         },
         {
          "edge": 68,
          "pair": [
           "__combo_empty_Mitchell Gallagher",
           "__combo_empty_George Mason"
          ],
          "source": "__combo_empty_Mitchell Gallagher",
          "target": "__combo_empty_George Mason",
          "weight": 0.02888429252886541,
          "x": 69.49478299931398,
          "y": 237.794769647197
         },
         {
          "edge": 68,
          "pair": [
           "__combo_empty_Mitchell Gallagher",
           "__combo_empty_George Mason"
          ],
          "source": "__combo_empty_Mitchell Gallagher",
          "target": "__combo_empty_George Mason",
          "weight": 0.02888429252886541,
          "x": 178.408555911598,
          "y": 21.81022286541926
         },
         {
          "edge": 69,
          "pair": [
           "Monaco",
           "__combo_empty_Dylan Nicholls-Taylor"
          ],
          "source": "Monaco",
          "target": "__combo_empty_Dylan Nicholls-Taylor",
          "weight": 0.15783626496286135,
          "x": 522.6524824888058,
          "y": 261.6121378411994
         },
         {
          "edge": 69,
          "pair": [
           "Monaco",
           "__combo_empty_Dylan Nicholls-Taylor"
          ],
          "source": "Monaco",
          "target": "__combo_empty_Dylan Nicholls-Taylor",
          "weight": 0.15783626496286135,
          "x": 52.40851251247299,
          "y": 354.0087854022437
         },
         {
          "edge": 70,
          "pair": [
           "French Guiana",
           "__combo_empty_Dylan Nicholls-Taylor"
          ],
          "source": "French Guiana",
          "target": "__combo_empty_Dylan Nicholls-Taylor",
          "weight": 1.8943132317628457,
          "x": 237.3431218535367,
          "y": 428.9528702677053
         },
         {
          "edge": 70,
          "pair": [
           "French Guiana",
           "__combo_empty_Dylan Nicholls-Taylor"
          ],
          "source": "French Guiana",
          "target": "__combo_empty_Dylan Nicholls-Taylor",
          "weight": 1.8943132317628457,
          "x": 52.40851251247299,
          "y": 354.0087854022437
         },
         {
          "edge": 71,
          "pair": [
           "Somalia",
           "United Kingdom"
          ],
          "source": "Somalia",
          "target": "United Kingdom",
          "weight": 3.1879820956442946,
          "x": 788.3667178881205,
          "y": 210.55520656843044
         },
         {
          "edge": 71,
          "pair": [
           "Somalia",
           "United Kingdom"
          ],
          "source": "Somalia",
          "target": "United Kingdom",
          "weight": 3.1879820956442946,
          "x": 738.2527791242014,
          "y": 255.62869072121077
         },
         {
          "edge": 72,
          "pair": [
           "United Kingdom",
           "__combo_empty_Josh Wright"
          ],
          "source": "United Kingdom",
          "target": "__combo_empty_Josh Wright",
          "weight": 0.13043904015440266,
          "x": 738.2527791242014,
          "y": 255.62869072121077
         },
         {
          "edge": 72,
          "pair": [
           "United Kingdom",
           "__combo_empty_Josh Wright"
          ],
          "source": "United Kingdom",
          "target": "__combo_empty_Josh Wright",
          "weight": 0.13043904015440266,
          "x": 648.2614121950443,
          "y": 31.56563808011696
         }
        ],
        "data-ac7531e69820a91d8a47455f8c4ac792": [
         {
          "__combo_group_value": "Guatemala",
          "__node_r": 3,
          "__node_size": 36,
          "country": "Guatemala",
          "id": "Mr Phillip Lees",
          "name": "Jack",
          "x": 616.6611668477321,
          "y": 436.0977907488968
         },
         {
          "__combo_group_value": "Guatemala",
          "__node_r": 3,
          "__node_size": 36,
          "country": "Guatemala",
          "id": "Dr Danielle Brady",
          "name": "Jasmine",
          "x": 634.1153978521794,
          "y": 435.34323266675193
         },
         {
          "__combo_group_value": "Guatemala",
          "__node_r": 3,
          "__node_size": 36,
          "country": "Guatemala",
          "id": "Nigel Baker",
          "name": "Paula",
          "x": 615.9066087655872,
          "y": 418.6435597444494
         },
         {
          "__combo_group_value": "Guatemala",
          "__node_r": 3,
          "__node_size": 36,
          "country": "Guatemala",
          "id": "Judith Smith",
          "name": "Billy",
          "x": 633.3608397700345,
          "y": 417.88900166230457
         }
        ],
        "data-af51995cd6f248c1531480f9fc1aa68b": [
         {
          "__combo_group_value": "__combo_empty_Wayne Hall",
          "__combo_promoted": true,
          "__node_r": 3,
          "__node_size": 36,
          "country": null,
          "id": "Wayne Hall",
          "name": "Kate",
          "x": 523.087467688992,
          "y": 0
         }
        ],
        "data-afb0136620e31f247a38babe58b2cc96": [
         {
          "__combo_group_value": "__combo_empty_Tom Martin",
          "__combo_promoted": true,
          "__node_r": 3,
          "__node_size": 36,
          "country": null,
          "id": "Tom Martin",
          "name": "Ricky",
          "x": 506.76561283075375,
          "y": 422.12221900901824
         }
        ],
        "data-b1eddd9ef82ea9b36ec8d3fcfd7f2ab3": [
         {
          "__combo_group_value": "Slovakia (Slovak Republic)",
          "__node_r": 3,
          "__node_size": 36,
          "country": "Slovakia (Slovak Republic)",
          "id": "Neil Hudson",
          "name": "Dean",
          "x": 365.06788163135275,
          "y": 40.291153983434555
         },
         {
          "__combo_group_value": "Slovakia (Slovak Republic)",
          "__node_r": 3,
          "__node_size": 36,
          "country": "Slovakia (Slovak Republic)",
          "id": "Miss Nicole Parry",
          "name": "Joe",
          "x": 352.5536457889688,
          "y": 18.47357516079896
         },
         {
          "__combo_group_value": "Slovakia (Slovak Republic)",
          "__node_r": 3,
          "__node_size": 36,
          "country": "Slovakia (Slovak Republic)",
          "id": "Christian Taylor",
          "name": "Chelsea",
          "x": 373.50514213613917,
          "y": 21.92664939909786
         },
         {
          "__combo_group_value": "Slovakia (Slovak Republic)",
          "__node_r": 3,
          "__node_size": 36,
          "country": "Slovakia (Slovak Republic)",
          "id": "Dr Jake Russell",
          "name": "Carolyn",
          "x": 358.6687013155082,
          "y": 31.24817318272798
         },
         {
          "__combo_group_value": "Slovakia (Slovak Republic)",
          "__node_r": 3,
          "__node_size": 36,
          "country": "Slovakia (Slovak Republic)",
          "id": "Kirsty Green",
          "name": "Danielle",
          "x": 353.08365561650805,
          "y": 38.96695559553709
         },
         {
          "__combo_group_value": "Slovakia (Slovak Republic)",
          "__node_r": 3,
          "__node_size": 36,
          "country": "Slovakia (Slovak Republic)",
          "id": "Maurice George",
          "name": "June",
          "x": 363.9570692584558,
          "y": 23.939412669308137
         },
         {
          "__combo_group_value": "Slovakia (Slovak Republic)",
          "__node_r": 3,
          "__node_size": 36,
          "country": "Slovakia (Slovak Republic)",
          "id": "Miss Kerry Harper",
          "name": "Charlene",
          "x": 372.7149054757051,
          "y": 33.06156983117064
         },
         {
          "__combo_group_value": "Slovakia (Slovak Republic)",
          "__node_r": 3,
          "__node_size": 36,
          "country": "Slovakia (Slovak Republic)",
          "id": "Lorraine Alexander",
          "name": "Andrea",
          "x": 348.0780959238892,
          "y": 27.997928897191812
         },
         {
          "__combo_group_value": "Slovakia (Slovak Republic)",
          "__node_r": 3,
          "__node_size": 36,
          "country": "Slovakia (Slovak Republic)",
          "id": "Raymond May",
          "name": "Joan",
          "x": 362.8829488845901,
          "y": 14.240795392505078
         }
        ],
        "data-b90bf09f0d1afd1d02459de7b205d4ed": [
         {
          "__combo_group_value": "Bosnia and Herzegovina",
          "__node_r": 3,
          "__node_size": 36,
          "country": "Bosnia and Herzegovina",
          "id": "Brett Naylor-Watson",
          "name": "Joel",
          "x": 285.4298910970829,
          "y": 113.22759336205155
         },
         {
          "__combo_group_value": "Bosnia and Herzegovina",
          "__node_r": 3,
          "__node_size": 36,
          "country": "Bosnia and Herzegovina",
          "id": "Natalie Cook",
          "name": "Jeremy",
          "x": 283.98372262281083,
          "y": 125.20131458813661
         },
         {
          "__combo_group_value": "Bosnia and Herzegovina",
          "__node_r": 3,
          "__node_size": 36,
          "country": "Bosnia and Herzegovina",
          "id": "Tracey Young",
          "name": "Bernard",
          "x": 286.8760595713549,
          "y": 101.25387213596649
         },
         {
          "__combo_group_value": "Bosnia and Herzegovina",
          "__node_r": 3,
          "__node_size": 36,
          "country": "Bosnia and Herzegovina",
          "id": "Ross Banks",
          "name": "Joan",
          "x": 296.52252209384153,
          "y": 108.49315138588081
         },
         {
          "__combo_group_value": "Bosnia and Herzegovina",
          "__node_r": 3,
          "__node_size": 36,
          "country": "Bosnia and Herzegovina",
          "id": "Joseph Whitehead",
          "name": "Ruth",
          "x": 275.78342857459626,
          "y": 105.98831411213723
         },
         {
          "__combo_group_value": "Bosnia and Herzegovina",
          "__node_r": 3,
          "__node_size": 36,
          "country": "Bosnia and Herzegovina",
          "id": "Mitchell Newton",
          "name": "Roy",
          "x": 274.3372601003242,
          "y": 117.9620353382223
         },
         {
          "__combo_group_value": "Bosnia and Herzegovina",
          "__node_r": 3,
          "__node_size": 36,
          "country": "Bosnia and Herzegovina",
          "id": "Sandra Webb-Hughes",
          "name": "Ann",
          "x": 295.0763536195695,
          "y": 120.46687261196587
         }
        ],
        "data-bcc97a0f24815a196fba24a8b5fe4db1": [
         {
          "edge": 0,
          "pair": [
           "Mr Samuel Edwards",
           "Mr Samuel Edwards"
          ],
          "source": "Mr Samuel Edwards",
          "target": "Mr Samuel Edwards",
          "weight": 0.1303838748581891,
          "x": 600.0858919821914,
          "y": 136.45836545399632
         },
         {
          "edge": 0,
          "pair": [
           "Mr Samuel Edwards",
           "Mr Samuel Edwards"
          ],
          "source": "Mr Samuel Edwards",
          "target": "Mr Samuel Edwards",
          "weight": 0.1303838748581891,
          "x": 600.0858919821914,
          "y": 136.45836545399632
         },
         {
          "edge": 1,
          "pair": [
           "Mr Samuel Edwards",
           "Dr Hayley Allen"
          ],
          "source": "Mr Samuel Edwards",
          "target": "Dr Hayley Allen",
          "weight": 0.2719074549941333,
          "x": 600.0858919821914,
          "y": 136.45836545399632
         },
         {
          "edge": 1,
          "pair": [
           "Mr Samuel Edwards",
           "Dr Hayley Allen"
          ],
          "source": "Mr Samuel Edwards",
          "target": "Dr Hayley Allen",
          "weight": 0.2719074549941333,
          "x": 604.0742893555686,
          "y": 124.71844823198461
         }
        ],
        "data-bd20a7819599c60b911a875275546906": [
         {
          "__combo_size": 1326.24,
          "__node_r": 18.208789086592223,
          "__node_size": 1326.24,
          "__y_label": 145.99753210522758,
          "country": "Fiji",
          "x": 455.9880903208384,
          "y": 176.2063211918198
         }
        ],
        "data-bfeeb68153113b8539b82a156d5b522d": [
         {
          "__combo_group_value": "__combo_empty_George Mason",
          "__combo_promoted": true,
          "__node_r": 3,
          "__node_size": 36,
          "country": null,
          "id": "George Mason",
          "name": "Lawrence",
          "x": 178.408555911598,
          "y": 21.81022286541926
         }
        ],
        "data-c67d3ae69533a7612d37bcb1fa3ab76d": [
         {
          "__combo_size": 1326.24,
          "__node_r": 18.208789086592223,
          "__node_size": 1326.24,
          "__y_label": 178.0565143925278,
          "country": "Bouvet Island (Bouvetoya)",
          "x": 327.2239357935474,
          "y": 208.26530347912
         }
        ],
        "data-cb3bd3df02b8a4568338fee8fb4fd7a7": [
         {
          "__combo_group_value": "United States of America",
          "__node_r": 3,
          "__node_size": 36,
          "country": "United States of America",
          "id": "Melissa Bailey",
          "name": "Anne",
          "x": 659.0970488126824,
          "y": 330.93507001686356
         },
         {
          "__combo_group_value": "United States of America",
          "__node_r": 3,
          "__node_size": 36,
          "country": "United States of America",
          "id": "Hilary Duncan",
          "name": "Carl",
          "x": 655.0505957896465,
          "y": 342.1680620660172
         },
         {
          "__combo_group_value": "United States of America",
          "__node_r": 3,
          "__node_size": 36,
          "country": "United States of America",
          "id": "Miss Julie Bartlett",
          "name": "Terence",
          "x": 674.3596196526148,
          "y": 342.7784169679155
         },
         {
          "__combo_group_value": "United States of America",
          "__node_r": 3,
          "__node_size": 36,
          "country": "United States of America",
          "id": "Mr Antony Phillips",
          "name": "Mohamed",
          "x": 664.4833833244278,
          "y": 349.48765302232476
         },
         {
          "__combo_group_value": "United States of America",
          "__node_r": 3,
          "__node_size": 36,
          "country": "United States of America",
          "id": "Tom Johnson",
          "name": "Gregory",
          "x": 671.0306818495795,
          "y": 331.3122900914368
         }
        ],
        "data-d72891bd9b50ddb6579b83c8ff51ceed": [
         {
          "__combo_group_value": "Guinea-Bissau",
          "__node_r": 3,
          "__node_size": 36,
          "country": "Guinea-Bissau",
          "id": "Natasha Clayton",
          "name": "Steven",
          "x": 247.74578144718754,
          "y": 318.58950229890513
         },
         {
          "__combo_group_value": "Guinea-Bissau",
          "__node_r": 3,
          "__node_size": 36,
          "country": "Guinea-Bissau",
          "id": "Shane Riley",
          "name": "Rita",
          "x": 259.21187364139024,
          "y": 317.95576738255664
         },
         {
          "__combo_group_value": "Guinea-Bissau",
          "__node_r": 3,
          "__node_size": 36,
          "country": "Guinea-Bissau",
          "id": "Carole Hill",
          "name": "Norman",
          "x": 253.83991683991027,
          "y": 301.485883296641
         },
         {
          "__combo_group_value": "Guinea-Bissau",
          "__node_r": 3,
          "__node_size": 36,
          "country": "Guinea-Bissau",
          "id": "Amber Barber",
          "name": "Mary",
          "x": 244.83014851399008,
          "y": 302.92572119851013
         },
         {
          "__combo_group_value": "Guinea-Bissau",
          "__node_r": 3,
          "__node_size": 36,
          "country": "Guinea-Bissau",
          "id": "Dale Lane-Long",
          "name": "Elliot",
          "x": 239.26379598288614,
          "y": 310.8481320885654
         },
         {
          "__combo_group_value": "Guinea-Bissau",
          "__node_r": 3,
          "__node_size": 36,
          "country": "Guinea-Bissau",
          "id": "Edward Gregory",
          "name": "Joshua",
          "x": 259.9092740076511,
          "y": 308.2985158304569
         }
        ],
        "data-d97e26a7d1bd14dad68297669145a1d9": [
         {
          "__combo_group_value": "Burundi",
          "__node_r": 3,
          "__node_size": 36,
          "country": "Burundi",
          "id": "Mr Samuel Edwards",
          "name": "Anna",
          "x": 600.0858919821914,
          "y": 136.45836545399632
         },
         {
          "__combo_group_value": "Burundi",
          "__node_r": 3,
          "__node_size": 36,
          "country": "Burundi",
          "id": "Rita Dodd",
          "name": "Scott",
          "x": 591.5072525784581,
          "y": 144.1293037521415
         },
         {
          "__combo_group_value": "Burundi",
          "__node_r": 3,
          "__node_size": 36,
          "country": "Burundi",
          "id": "Joel Akhtar",
          "name": "Ashley",
          "x": 612.7404770856656,
          "y": 132.43193494306092
         },
         {
          "__combo_group_value": "Burundi",
          "__node_r": 3,
          "__node_size": 36,
          "country": "Burundi",
          "id": "Dr Hayley Allen",
          "name": "Guy",
          "x": 604.0742893555686,
          "y": 124.71844823198461
         },
         {
          "__combo_group_value": "Burundi",
          "__node_r": 3,
          "__node_size": 36,
          "country": "Burundi",
          "id": "Dr Patricia Clark",
          "name": "Glenn",
          "x": 610.9997029633519,
          "y": 141.9295662635622
         },
         {
          "__combo_group_value": "Burundi",
          "__node_r": 3,
          "__node_size": 36,
          "country": "Burundi",
          "id": "Angela Kemp-Walker",
          "name": "Ross",
          "x": 588.0978662631086,
          "y": 134.1491344586851
         },
         {
          "__combo_group_value": "Burundi",
          "__node_r": 3,
          "__node_size": 36,
          "country": "Burundi",
          "id": "Nathan Mahmood",
          "name": "Clive",
          "x": 602.216429307793,
          "y": 147.76752807098327
         },
         {
          "__combo_group_value": "Burundi",
          "__node_r": 3,
          "__node_size": 36,
          "country": "Burundi",
          "id": "Mohammed Chadwick",
          "name": "Deborah",
          "x": 592.5028519316542,
          "y": 125.55661465917389
         }
        ],
        "data-eb6b0e5bcdb22c960255159a2033ecca": [
         {
          "__combo_size": 1326.24,
          "__node_r": 18.208789086592223,
          "__node_size": 1326.24,
          "__y_label": 396.78460711900846,
          "country": "Guatemala",
          "x": 625.0110033088833,
          "y": 426.9933962056007
         }
        ],
        "data-eb726e715edb88b33a3c6d2fdb2b963c": [
         {
          "__combo_group_value": "__combo_empty_Dr Teresa Kaur",
          "__combo_promoted": true,
          "__node_r": 3,
          "__node_size": 36,
          "country": null,
          "id": "Dr Teresa Kaur",
          "name": "Alice",
          "x": 20.9146652299239,
          "y": 155.17553369160555
         }
        ],
        "data-ef160d7c714ae36c00625affbd59040c": [
         {
          "__combo_group_value": "Fiji",
          "__node_r": 3,
          "__node_size": 36,
          "country": "Fiji",
          "id": "Martin Jones",
          "name": "Norman",
          "x": 463.5331164013834,
          "y": 167.1019266485237
         },
         {
          "__combo_group_value": "Fiji",
          "__node_r": 3,
          "__node_size": 36,
          "country": "Fiji",
          "id": "Lee Yates",
          "name": "Caroline",
          "x": 446.8836957775423,
          "y": 168.66129511127482
         },
         {
          "__combo_group_value": "Fiji",
          "__node_r": 3,
          "__node_size": 36,
          "country": "Fiji",
          "id": "Carolyn Davies",
          "name": "Hazel",
          "x": 465.0924848641345,
          "y": 183.75134727236477
         },
         {
          "__combo_group_value": "Fiji",
          "__node_r": 3,
          "__node_size": 36,
          "country": "Fiji",
          "id": "Dr Adam Hammond",
          "name": "Leigh",
          "x": 448.44306424029344,
          "y": 185.3107157351159
         }
        ],
        "data-fecd13c656d994b84d9936eab57e51d3": [
         {
          "__combo_group_value": "__combo_empty_Diana Harrison-Ellis",
          "__combo_promoted": true,
          "__node_r": 3,
          "__node_size": 36,
          "country": null,
          "id": "Diana Harrison-Ellis",
          "name": "Trevor",
          "x": 129.35971494554,
          "y": 129.5462254988817
         }
        ]
       },
       "height": 500,
       "layer": [
        {
         "data": {
          "name": "data-aab587fe30ce042769f75dd9bda5c90f"
         },
         "encoding": {
          "color": {
           "value": "#606060"
          },
          "detail": {
           "field": "edge",
           "type": "quantitative"
          },
          "opacity": {
           "field": "weight",
           "legend": null,
           "scale": {
            "range": [
             0.3,
             1
            ]
           },
           "type": "quantitative"
          },
          "strokeWidth": {
           "field": "weight",
           "legend": null,
           "scale": {
            "range": [
             0.1,
             3
            ]
           },
           "type": "quantitative"
          },
          "x": {
           "axis": {
            "domain": false,
            "grid": false,
            "labels": false,
            "ticks": false,
            "title": ""
           },
           "field": "x",
           "type": "quantitative"
          },
          "y": {
           "axis": {
            "domain": false,
            "grid": false,
            "labels": false,
            "ticks": false,
            "title": ""
           },
           "field": "y",
           "type": "quantitative"
          }
         },
         "mark": "line"
        },
        {
         "data": {
          "name": "data-37623b87173407ab66f60c70923628ed"
         },
         "layer": [
          {
           "encoding": {
            "fill": {
             "value": "#d9d9d9"
            },
            "opacity": {
             "value": 1
            },
            "size": {
             "field": "__combo_size",
             "legend": null,
             "scale": null,
             "type": "quantitative"
            },
            "stroke": {
             "value": "#565656"
            },
            "strokeWidth": {
             "value": 3
            },
            "tooltip": [
             {
              "field": "country",
              "type": "nominal"
             }
            ],
            "x": {
             "axis": {
              "domain": false,
              "grid": false,
              "labels": false,
              "ticks": false,
              "title": ""
             },
             "field": "x",
             "type": "quantitative"
            },
            "y": {
             "axis": {
              "domain": false,
              "grid": false,
              "labels": false,
              "ticks": false,
              "title": ""
             },
             "field": "y",
             "type": "quantitative"
            }
           },
           "mark": "circle"
          },
          {
           "encoding": {
            "text": {
             "field": "country",
             "type": "nominal"
            },
            "x": {
             "axis": {
              "domain": false,
              "grid": false,
              "labels": false,
              "ticks": false,
              "title": ""
             },
             "field": "x",
             "type": "quantitative"
            },
            "y": {
             "axis": {
              "domain": false,
              "grid": false,
              "labels": false,
              "ticks": false,
              "title": ""
             },
             "field": "__y_label",
             "type": "quantitative"
            }
           },
           "mark": {
            "align": "center",
            "baseline": "middle",
            "color": "black",
            "size": 10,
            "type": "text"
           }
          }
         ]
        },
        {
         "data": {
          "name": "data-9d3ae4a414730f2b186377e66592763b"
         },
         "encoding": {
          "color": {
           "value": "black"
          },
          "detail": {
           "field": "edge",
           "type": "quantitative"
          },
          "opacity": {
           "field": "weight",
           "legend": null,
           "scale": {
            "range": [
             0.5,
             3
            ]
           },
           "type": "quantitative"
          },
          "strokeWidth": {
           "field": "weight",
           "legend": null,
           "scale": {
            "range": [
             0.3,
             1
            ]
           },
           "type": "quantitative"
          },
          "x": {
           "axis": {
            "domain": false,
            "grid": false,
            "labels": false,
            "ticks": false,
            "title": ""
           },
           "field": "x",
           "type": "quantitative"
          },
          "y": {
           "axis": {
            "domain": false,
            "grid": false,
            "labels": false,
            "ticks": false,
            "title": ""
           },
           "field": "y",
           "type": "quantitative"
          }
         },
         "mark": "line"
        },
        {
         "data": {
          "name": "data-d72891bd9b50ddb6579b83c8ff51ceed"
         },
         "encoding": {
          "fill": {
           "value": "black"
          },
          "opacity": {
           "value": 1
          },
          "size": {
           "value": 36
          },
          "stroke": {
           "value": "#565656"
          },
          "strokeWidth": {
           "value": 0
          },
          "tooltip": [
           {
            "field": "name",
            "type": "nominal"
           },
           {
            "field": "country",
            "type": "nominal"
           }
          ],
          "x": {
           "axis": {
            "domain": false,
            "grid": false,
            "labels": false,
            "ticks": false,
            "title": ""
           },
           "field": "x",
           "type": "quantitative"
          },
          "y": {
           "axis": {
            "domain": false,
            "grid": false,
            "labels": false,
            "ticks": false,
            "title": ""
           },
           "field": "y",
           "type": "quantitative"
          }
         },
         "mark": "circle"
        },
        {
         "data": {
          "name": "data-afb0136620e31f247a38babe58b2cc96"
         },
         "encoding": {
          "fill": {
           "value": "black"
          },
          "opacity": {
           "value": 1
          },
          "size": {
           "value": 36
          },
          "stroke": {
           "value": "#565656"
          },
          "strokeWidth": {
           "value": 0
          },
          "tooltip": [
           {
            "field": "name",
            "type": "nominal"
           },
           {
            "field": "country",
            "type": "nominal"
           }
          ],
          "x": {
           "axis": {
            "domain": false,
            "grid": false,
            "labels": false,
            "ticks": false,
            "title": ""
           },
           "field": "x",
           "type": "quantitative"
          },
          "y": {
           "axis": {
            "domain": false,
            "grid": false,
            "labels": false,
            "ticks": false,
            "title": ""
           },
           "field": "y",
           "type": "quantitative"
          }
         },
         "mark": "circle"
        },
        {
         "data": {
          "name": "data-5bd670f39eae9d9e1c27a25852e4d348"
         },
         "layer": [
          {
           "encoding": {
            "fill": {
             "value": "#d9d9d9"
            },
            "opacity": {
             "value": 1
            },
            "size": {
             "field": "__combo_size",
             "legend": null,
             "scale": null,
             "type": "quantitative"
            },
            "stroke": {
             "value": "#565656"
            },
            "strokeWidth": {
             "value": 3
            },
            "tooltip": [
             {
              "field": "country",
              "type": "nominal"
             }
            ],
            "x": {
             "axis": {
              "domain": false,
              "grid": false,
              "labels": false,
              "ticks": false,
              "title": ""
             },
             "field": "x",
             "type": "quantitative"
            },
            "y": {
             "axis": {
              "domain": false,
              "grid": false,
              "labels": false,
              "ticks": false,
              "title": ""
             },
             "field": "y",
             "type": "quantitative"
            }
           },
           "mark": "circle"
          },
          {
           "encoding": {
            "text": {
             "field": "country",
             "type": "nominal"
            },
            "x": {
             "axis": {
              "domain": false,
              "grid": false,
              "labels": false,
              "ticks": false,
              "title": ""
             },
             "field": "x",
             "type": "quantitative"
            },
            "y": {
             "axis": {
              "domain": false,
              "grid": false,
              "labels": false,
              "ticks": false,
              "title": ""
             },
             "field": "__y_label",
             "type": "quantitative"
            }
           },
           "mark": {
            "align": "center",
            "baseline": "middle",
            "color": "black",
            "size": 10,
            "type": "text"
           }
          }
         ]
        },
        {
         "data": {
          "name": "data-b1eddd9ef82ea9b36ec8d3fcfd7f2ab3"
         },
         "encoding": {
          "fill": {
           "value": "black"
          },
          "opacity": {
           "value": 1
          },
          "size": {
           "value": 36
          },
          "stroke": {
           "value": "#565656"
          },
          "strokeWidth": {
           "value": 0
          },
          "tooltip": [
           {
            "field": "name",
            "type": "nominal"
           },
           {
            "field": "country",
            "type": "nominal"
           }
          ],
          "x": {
           "axis": {
            "domain": false,
            "grid": false,
            "labels": false,
            "ticks": false,
            "title": ""
           },
           "field": "x",
           "type": "quantitative"
          },
          "y": {
           "axis": {
            "domain": false,
            "grid": false,
            "labels": false,
            "ticks": false,
            "title": ""
           },
           "field": "y",
           "type": "quantitative"
          }
         },
         "mark": "circle"
        },
        {
         "data": {
          "name": "data-9d00550aaccd4ad2427a15417bfdb63c"
         },
         "layer": [
          {
           "encoding": {
            "fill": {
             "value": "#d9d9d9"
            },
            "opacity": {
             "value": 1
            },
            "size": {
             "field": "__combo_size",
             "legend": null,
             "scale": null,
             "type": "quantitative"
            },
            "stroke": {
             "value": "#565656"
            },
            "strokeWidth": {
             "value": 3
            },
            "tooltip": [
             {
              "field": "country",
              "type": "nominal"
             }
            ],
            "x": {
             "axis": {
              "domain": false,
              "grid": false,
              "labels": false,
              "ticks": false,
              "title": ""
             },
             "field": "x",
             "type": "quantitative"
            },
            "y": {
             "axis": {
              "domain": false,
              "grid": false,
              "labels": false,
              "ticks": false,
              "title": ""
             },
             "field": "y",
             "type": "quantitative"
            }
           },
           "mark": "circle"
          },
          {
           "encoding": {
            "text": {
             "field": "country",
             "type": "nominal"
            },
            "x": {
             "axis": {
              "domain": false,
              "grid": false,
              "labels": false,
              "ticks": false,
              "title": ""
             },
             "field": "x",
             "type": "quantitative"
            },
            "y": {
             "axis": {
              "domain": false,
              "grid": false,
              "labels": false,
              "ticks": false,
              "title": ""
             },
             "field": "__y_label",
             "type": "quantitative"
            }
           },
           "mark": {
            "align": "center",
            "baseline": "middle",
            "color": "black",
            "size": 10,
            "type": "text"
           }
          }
         ]
        },
        {
         "data": {
          "name": "data-cb3bd3df02b8a4568338fee8fb4fd7a7"
         },
         "encoding": {
          "fill": {
           "value": "black"
          },
          "opacity": {
           "value": 1
          },
          "size": {
           "value": 36
          },
          "stroke": {
           "value": "#565656"
          },
          "strokeWidth": {
           "value": 0
          },
          "tooltip": [
           {
            "field": "name",
            "type": "nominal"
           },
           {
            "field": "country",
            "type": "nominal"
           }
          ],
          "x": {
           "axis": {
            "domain": false,
            "grid": false,
            "labels": false,
            "ticks": false,
            "title": ""
           },
           "field": "x",
           "type": "quantitative"
          },
          "y": {
           "axis": {
            "domain": false,
            "grid": false,
            "labels": false,
            "ticks": false,
            "title": ""
           },
           "field": "y",
           "type": "quantitative"
          }
         },
         "mark": "circle"
        },
        {
         "data": {
          "name": "data-c67d3ae69533a7612d37bcb1fa3ab76d"
         },
         "layer": [
          {
           "encoding": {
            "fill": {
             "value": "#d9d9d9"
            },
            "opacity": {
             "value": 1
            },
            "size": {
             "field": "__combo_size",
             "legend": null,
             "scale": null,
             "type": "quantitative"
            },
            "stroke": {
             "value": "#565656"
            },
            "strokeWidth": {
             "value": 3
            },
            "tooltip": [
             {
              "field": "country",
              "type": "nominal"
             }
            ],
            "x": {
             "axis": {
              "domain": false,
              "grid": false,
              "labels": false,
              "ticks": false,
              "title": ""
             },
             "field": "x",
             "type": "quantitative"
            },
            "y": {
             "axis": {
              "domain": false,
              "grid": false,
              "labels": false,
              "ticks": false,
              "title": ""
             },
             "field": "y",
             "type": "quantitative"
            }
           },
           "mark": "circle"
          },
          {
           "encoding": {
            "text": {
             "field": "country",
             "type": "nominal"
            },
            "x": {
             "axis": {
              "domain": false,
              "grid": false,
              "labels": false,
              "ticks": false,
              "title": ""
             },
             "field": "x",
             "type": "quantitative"
            },
            "y": {
             "axis": {
              "domain": false,
              "grid": false,
              "labels": false,
              "ticks": false,
              "title": ""
             },
             "field": "__y_label",
             "type": "quantitative"
            }
           },
           "mark": {
            "align": "center",
            "baseline": "middle",
            "color": "black",
            "size": 10,
            "type": "text"
           }
          }
         ]
        },
        {
         "data": {
          "name": "data-6bcdbc8c201d888c4114370e85a38176"
         },
         "encoding": {
          "fill": {
           "value": "black"
          },
          "opacity": {
           "value": 1
          },
          "size": {
           "value": 36
          },
          "stroke": {
           "value": "#565656"
          },
          "strokeWidth": {
           "value": 0
          },
          "tooltip": [
           {
            "field": "name",
            "type": "nominal"
           },
           {
            "field": "country",
            "type": "nominal"
           }
          ],
          "x": {
           "axis": {
            "domain": false,
            "grid": false,
            "labels": false,
            "ticks": false,
            "title": ""
           },
           "field": "x",
           "type": "quantitative"
          },
          "y": {
           "axis": {
            "domain": false,
            "grid": false,
            "labels": false,
            "ticks": false,
            "title": ""
           },
           "field": "y",
           "type": "quantitative"
          }
         },
         "mark": "circle"
        },
        {
         "data": {
          "name": "data-af51995cd6f248c1531480f9fc1aa68b"
         },
         "encoding": {
          "fill": {
           "value": "black"
          },
          "opacity": {
           "value": 1
          },
          "size": {
           "value": 36
          },
          "stroke": {
           "value": "#565656"
          },
          "strokeWidth": {
           "value": 0
          },
          "tooltip": [
           {
            "field": "name",
            "type": "nominal"
           },
           {
            "field": "country",
            "type": "nominal"
           }
          ],
          "x": {
           "axis": {
            "domain": false,
            "grid": false,
            "labels": false,
            "ticks": false,
            "title": ""
           },
           "field": "x",
           "type": "quantitative"
          },
          "y": {
           "axis": {
            "domain": false,
            "grid": false,
            "labels": false,
            "ticks": false,
            "title": ""
           },
           "field": "y",
           "type": "quantitative"
          }
         },
         "mark": "circle"
        },
        {
         "data": {
          "name": "data-3295e4f3df6e09eefefa7c4e1a935eab"
         },
         "encoding": {
          "fill": {
           "value": "black"
          },
          "opacity": {
           "value": 1
          },
          "size": {
           "value": 36
          },
          "stroke": {
           "value": "#565656"
          },
          "strokeWidth": {
           "value": 0
          },
          "tooltip": [
           {
            "field": "name",
            "type": "nominal"
           },
           {
            "field": "country",
            "type": "nominal"
           }
          ],
          "x": {
           "axis": {
            "domain": false,
            "grid": false,
            "labels": false,
            "ticks": false,
            "title": ""
           },
           "field": "x",
           "type": "quantitative"
          },
          "y": {
           "axis": {
            "domain": false,
            "grid": false,
            "labels": false,
            "ticks": false,
            "title": ""
           },
           "field": "y",
           "type": "quantitative"
          }
         },
         "mark": "circle"
        },
        {
         "data": {
          "name": "data-30721634761f695bd4c48360773bd29c"
         },
         "layer": [
          {
           "encoding": {
            "fill": {
             "value": "#d9d9d9"
            },
            "opacity": {
             "value": 1
            },
            "size": {
             "field": "__combo_size",
             "legend": null,
             "scale": null,
             "type": "quantitative"
            },
            "stroke": {
             "value": "#565656"
            },
            "strokeWidth": {
             "value": 3
            },
            "tooltip": [
             {
              "field": "country",
              "type": "nominal"
             }
            ],
            "x": {
             "axis": {
              "domain": false,
              "grid": false,
              "labels": false,
              "ticks": false,
              "title": ""
             },
             "field": "x",
             "type": "quantitative"
            },
            "y": {
             "axis": {
              "domain": false,
              "grid": false,
              "labels": false,
              "ticks": false,
              "title": ""
             },
             "field": "y",
             "type": "quantitative"
            }
           },
           "mark": "circle"
          },
          {
           "encoding": {
            "text": {
             "field": "country",
             "type": "nominal"
            },
            "x": {
             "axis": {
              "domain": false,
              "grid": false,
              "labels": false,
              "ticks": false,
              "title": ""
             },
             "field": "x",
             "type": "quantitative"
            },
            "y": {
             "axis": {
              "domain": false,
              "grid": false,
              "labels": false,
              "ticks": false,
              "title": ""
             },
             "field": "__y_label",
             "type": "quantitative"
            }
           },
           "mark": {
            "align": "center",
            "baseline": "middle",
            "color": "black",
            "size": 10,
            "type": "text"
           }
          }
         ]
        },
        {
         "data": {
          "name": "data-bcc97a0f24815a196fba24a8b5fe4db1"
         },
         "encoding": {
          "color": {
           "value": "black"
          },
          "detail": {
           "field": "edge",
           "type": "quantitative"
          },
          "opacity": {
           "field": "weight",
           "legend": null,
           "scale": {
            "range": [
             0.5,
             3
            ]
           },
           "type": "quantitative"
          },
          "strokeWidth": {
           "field": "weight",
           "legend": null,
           "scale": {
            "range": [
             0.3,
             1
            ]
           },
           "type": "quantitative"
          },
          "x": {
           "axis": {
            "domain": false,
            "grid": false,
            "labels": false,
            "ticks": false,
            "title": ""
           },
           "field": "x",
           "type": "quantitative"
          },
          "y": {
           "axis": {
            "domain": false,
            "grid": false,
            "labels": false,
            "ticks": false,
            "title": ""
           },
           "field": "y",
           "type": "quantitative"
          }
         },
         "mark": "line"
        },
        {
         "data": {
          "name": "data-d97e26a7d1bd14dad68297669145a1d9"
         },
         "encoding": {
          "fill": {
           "value": "black"
          },
          "opacity": {
           "value": 1
          },
          "size": {
           "value": 36
          },
          "stroke": {
           "value": "#565656"
          },
          "strokeWidth": {
           "value": 0
          },
          "tooltip": [
           {
            "field": "name",
            "type": "nominal"
           },
           {
            "field": "country",
            "type": "nominal"
           }
          ],
          "x": {
           "axis": {
            "domain": false,
            "grid": false,
            "labels": false,
            "ticks": false,
            "title": ""
           },
           "field": "x",
           "type": "quantitative"
          },
          "y": {
           "axis": {
            "domain": false,
            "grid": false,
            "labels": false,
            "ticks": false,
            "title": ""
           },
           "field": "y",
           "type": "quantitative"
          }
         },
         "mark": "circle"
        },
        {
         "data": {
          "name": "data-26ea445a56244377b2c5d077c2789130"
         },
         "layer": [
          {
           "encoding": {
            "fill": {
             "value": "#d9d9d9"
            },
            "opacity": {
             "value": 1
            },
            "size": {
             "field": "__combo_size",
             "legend": null,
             "scale": null,
             "type": "quantitative"
            },
            "stroke": {
             "value": "#565656"
            },
            "strokeWidth": {
             "value": 3
            },
            "tooltip": [
             {
              "field": "country",
              "type": "nominal"
             }
            ],
            "x": {
             "axis": {
              "domain": false,
              "grid": false,
              "labels": false,
              "ticks": false,
              "title": ""
             },
             "field": "x",
             "type": "quantitative"
            },
            "y": {
             "axis": {
              "domain": false,
              "grid": false,
              "labels": false,
              "ticks": false,
              "title": ""
             },
             "field": "y",
             "type": "quantitative"
            }
           },
           "mark": "circle"
          },
          {
           "encoding": {
            "text": {
             "field": "country",
             "type": "nominal"
            },
            "x": {
             "axis": {
              "domain": false,
              "grid": false,
              "labels": false,
              "ticks": false,
              "title": ""
             },
             "field": "x",
             "type": "quantitative"
            },
            "y": {
             "axis": {
              "domain": false,
              "grid": false,
              "labels": false,
              "ticks": false,
              "title": ""
             },
             "field": "__y_label",
             "type": "quantitative"
            }
           },
           "mark": {
            "align": "center",
            "baseline": "middle",
            "color": "black",
            "size": 10,
            "type": "text"
           }
          }
         ]
        },
        {
         "data": {
          "name": "data-2c4360f43fec59042b402ab319b355a2"
         },
         "encoding": {
          "fill": {
           "value": "black"
          },
          "opacity": {
           "value": 1
          },
          "size": {
           "value": 36
          },
          "stroke": {
           "value": "#565656"
          },
          "strokeWidth": {
           "value": 0
          },
          "tooltip": [
           {
            "field": "name",
            "type": "nominal"
           },
           {
            "field": "country",
            "type": "nominal"
           }
          ],
          "x": {
           "axis": {
            "domain": false,
            "grid": false,
            "labels": false,
            "ticks": false,
            "title": ""
           },
           "field": "x",
           "type": "quantitative"
          },
          "y": {
           "axis": {
            "domain": false,
            "grid": false,
            "labels": false,
            "ticks": false,
            "title": ""
           },
           "field": "y",
           "type": "quantitative"
          }
         },
         "mark": "circle"
        },
        {
         "data": {
          "name": "data-414ff3b6afb99b7e0f3a6cd2b81ac3c0"
         },
         "layer": [
          {
           "encoding": {
            "fill": {
             "value": "#d9d9d9"
            },
            "opacity": {
             "value": 1
            },
            "size": {
             "field": "__combo_size",
             "legend": null,
             "scale": null,
             "type": "quantitative"
            },
            "stroke": {
             "value": "#565656"
            },
            "strokeWidth": {
             "value": 3
            },
            "tooltip": [
             {
              "field": "country",
              "type": "nominal"
             }
            ],
            "x": {
             "axis": {
              "domain": false,
              "grid": false,
              "labels": false,
              "ticks": false,
              "title": ""
             },
             "field": "x",
             "type": "quantitative"
            },
            "y": {
             "axis": {
              "domain": false,
              "grid": false,
              "labels": false,
              "ticks": false,
              "title": ""
             },
             "field": "y",
             "type": "quantitative"
            }
           },
           "mark": "circle"
          },
          {
           "encoding": {
            "text": {
             "field": "country",
             "type": "nominal"
            },
            "x": {
             "axis": {
              "domain": false,
              "grid": false,
              "labels": false,
              "ticks": false,
              "title": ""
             },
             "field": "x",
             "type": "quantitative"
            },
            "y": {
             "axis": {
              "domain": false,
              "grid": false,
              "labels": false,
              "ticks": false,
              "title": ""
             },
             "field": "__y_label",
             "type": "quantitative"
            }
           },
           "mark": {
            "align": "center",
            "baseline": "middle",
            "color": "black",
            "size": 10,
            "type": "text"
           }
          }
         ]
        },
        {
         "data": {
          "name": "data-a7c64f372b529854c41158c3c6ee26ed"
         },
         "encoding": {
          "color": {
           "value": "black"
          },
          "detail": {
           "field": "edge",
           "type": "quantitative"
          },
          "opacity": {
           "field": "weight",
           "legend": null,
           "scale": {
            "range": [
             0.5,
             3
            ]
           },
           "type": "quantitative"
          },
          "strokeWidth": {
           "field": "weight",
           "legend": null,
           "scale": {
            "range": [
             0.3,
             1
            ]
           },
           "type": "quantitative"
          },
          "x": {
           "axis": {
            "domain": false,
            "grid": false,
            "labels": false,
            "ticks": false,
            "title": ""
           },
           "field": "x",
           "type": "quantitative"
          },
          "y": {
           "axis": {
            "domain": false,
            "grid": false,
            "labels": false,
            "ticks": false,
            "title": ""
           },
           "field": "y",
           "type": "quantitative"
          }
         },
         "mark": "line"
        },
        {
         "data": {
          "name": "data-1a4122f953b23ef12c30ed49461c5c49"
         },
         "encoding": {
          "fill": {
           "value": "black"
          },
          "opacity": {
           "value": 1
          },
          "size": {
           "value": 36
          },
          "stroke": {
           "value": "#565656"
          },
          "strokeWidth": {
           "value": 0
          },
          "tooltip": [
           {
            "field": "name",
            "type": "nominal"
           },
           {
            "field": "country",
            "type": "nominal"
           }
          ],
          "x": {
           "axis": {
            "domain": false,
            "grid": false,
            "labels": false,
            "ticks": false,
            "title": ""
           },
           "field": "x",
           "type": "quantitative"
          },
          "y": {
           "axis": {
            "domain": false,
            "grid": false,
            "labels": false,
            "ticks": false,
            "title": ""
           },
           "field": "y",
           "type": "quantitative"
          }
         },
         "mark": "circle"
        },
        {
         "data": {
          "name": "data-59793db1760a0fe32b4626b45db82f7c"
         },
         "layer": [
          {
           "encoding": {
            "fill": {
             "value": "#d9d9d9"
            },
            "opacity": {
             "value": 1
            },
            "size": {
             "field": "__combo_size",
             "legend": null,
             "scale": null,
             "type": "quantitative"
            },
            "stroke": {
             "value": "#565656"
            },
            "strokeWidth": {
             "value": 3
            },
            "tooltip": [
             {
              "field": "country",
              "type": "nominal"
             }
            ],
            "x": {
             "axis": {
              "domain": false,
              "grid": false,
              "labels": false,
              "ticks": false,
              "title": ""
             },
             "field": "x",
             "type": "quantitative"
            },
            "y": {
             "axis": {
              "domain": false,
              "grid": false,
              "labels": false,
              "ticks": false,
              "title": ""
             },
             "field": "y",
             "type": "quantitative"
            }
           },
           "mark": "circle"
          },
          {
           "encoding": {
            "text": {
             "field": "country",
             "type": "nominal"
            },
            "x": {
             "axis": {
              "domain": false,
              "grid": false,
              "labels": false,
              "ticks": false,
              "title": ""
             },
             "field": "x",
             "type": "quantitative"
            },
            "y": {
             "axis": {
              "domain": false,
              "grid": false,
              "labels": false,
              "ticks": false,
              "title": ""
             },
             "field": "__y_label",
             "type": "quantitative"
            }
           },
           "mark": {
            "align": "center",
            "baseline": "middle",
            "color": "black",
            "size": 10,
            "type": "text"
           }
          }
         ]
        },
        {
         "data": {
          "name": "data-2dd9659256cc5383c5a64ec71c29da33"
         },
         "encoding": {
          "fill": {
           "value": "black"
          },
          "opacity": {
           "value": 1
          },
          "size": {
           "value": 36
          },
          "stroke": {
           "value": "#565656"
          },
          "strokeWidth": {
           "value": 0
          },
          "tooltip": [
           {
            "field": "name",
            "type": "nominal"
           },
           {
            "field": "country",
            "type": "nominal"
           }
          ],
          "x": {
           "axis": {
            "domain": false,
            "grid": false,
            "labels": false,
            "ticks": false,
            "title": ""
           },
           "field": "x",
           "type": "quantitative"
          },
          "y": {
           "axis": {
            "domain": false,
            "grid": false,
            "labels": false,
            "ticks": false,
            "title": ""
           },
           "field": "y",
           "type": "quantitative"
          }
         },
         "mark": "circle"
        },
        {
         "data": {
          "name": "data-51a0f8f6fff9080f21f0d1feb832aa11"
         },
         "layer": [
          {
           "encoding": {
            "fill": {
             "value": "#d9d9d9"
            },
            "opacity": {
             "value": 1
            },
            "size": {
             "field": "__combo_size",
             "legend": null,
             "scale": null,
             "type": "quantitative"
            },
            "stroke": {
             "value": "#565656"
            },
            "strokeWidth": {
             "value": 3
            },
            "tooltip": [
             {
              "field": "country",
              "type": "nominal"
             }
            ],
            "x": {
             "axis": {
              "domain": false,
              "grid": false,
              "labels": false,
              "ticks": false,
              "title": ""
             },
             "field": "x",
             "type": "quantitative"
            },
            "y": {
             "axis": {
              "domain": false,
              "grid": false,
              "labels": false,
              "ticks": false,
              "title": ""
             },
             "field": "y",
             "type": "quantitative"
            }
           },
           "mark": "circle"
          },
          {
           "encoding": {
            "text": {
             "field": "country",
             "type": "nominal"
            },
            "x": {
             "axis": {
              "domain": false,
              "grid": false,
              "labels": false,
              "ticks": false,
              "title": ""
             },
             "field": "x",
             "type": "quantitative"
            },
            "y": {
             "axis": {
              "domain": false,
              "grid": false,
              "labels": false,
              "ticks": false,
              "title": ""
             },
             "field": "__y_label",
             "type": "quantitative"
            }
           },
           "mark": {
            "align": "center",
            "baseline": "middle",
            "color": "black",
            "size": 10,
            "type": "text"
           }
          }
         ]
        },
        {
         "data": {
          "name": "data-b90bf09f0d1afd1d02459de7b205d4ed"
         },
         "encoding": {
          "fill": {
           "value": "black"
          },
          "opacity": {
           "value": 1
          },
          "size": {
           "value": 36
          },
          "stroke": {
           "value": "#565656"
          },
          "strokeWidth": {
           "value": 0
          },
          "tooltip": [
           {
            "field": "name",
            "type": "nominal"
           },
           {
            "field": "country",
            "type": "nominal"
           }
          ],
          "x": {
           "axis": {
            "domain": false,
            "grid": false,
            "labels": false,
            "ticks": false,
            "title": ""
           },
           "field": "x",
           "type": "quantitative"
          },
          "y": {
           "axis": {
            "domain": false,
            "grid": false,
            "labels": false,
            "ticks": false,
            "title": ""
           },
           "field": "y",
           "type": "quantitative"
          }
         },
         "mark": "circle"
        },
        {
         "data": {
          "name": "data-860a40ebaaa9282d07f539b8bf5020f4"
         },
         "encoding": {
          "fill": {
           "value": "black"
          },
          "opacity": {
           "value": 1
          },
          "size": {
           "value": 36
          },
          "stroke": {
           "value": "#565656"
          },
          "strokeWidth": {
           "value": 0
          },
          "tooltip": [
           {
            "field": "name",
            "type": "nominal"
           },
           {
            "field": "country",
            "type": "nominal"
           }
          ],
          "x": {
           "axis": {
            "domain": false,
            "grid": false,
            "labels": false,
            "ticks": false,
            "title": ""
           },
           "field": "x",
           "type": "quantitative"
          },
          "y": {
           "axis": {
            "domain": false,
            "grid": false,
            "labels": false,
            "ticks": false,
            "title": ""
           },
           "field": "y",
           "type": "quantitative"
          }
         },
         "mark": "circle"
        },
        {
         "data": {
          "name": "data-39e3c5bb80c32f70775421b9211367b1"
         },
         "layer": [
          {
           "encoding": {
            "fill": {
             "value": "#d9d9d9"
            },
            "opacity": {
             "value": 1
            },
            "size": {
             "field": "__combo_size",
             "legend": null,
             "scale": null,
             "type": "quantitative"
            },
            "stroke": {
             "value": "#565656"
            },
            "strokeWidth": {
             "value": 3
            },
            "tooltip": [
             {
              "field": "country",
              "type": "nominal"
             }
            ],
            "x": {
             "axis": {
              "domain": false,
              "grid": false,
              "labels": false,
              "ticks": false,
              "title": ""
             },
             "field": "x",
             "type": "quantitative"
            },
            "y": {
             "axis": {
              "domain": false,
              "grid": false,
              "labels": false,
              "ticks": false,
              "title": ""
             },
             "field": "y",
             "type": "quantitative"
            }
           },
           "mark": "circle"
          },
          {
           "encoding": {
            "text": {
             "field": "country",
             "type": "nominal"
            },
            "x": {
             "axis": {
              "domain": false,
              "grid": false,
              "labels": false,
              "ticks": false,
              "title": ""
             },
             "field": "x",
             "type": "quantitative"
            },
            "y": {
             "axis": {
              "domain": false,
              "grid": false,
              "labels": false,
              "ticks": false,
              "title": ""
             },
             "field": "__y_label",
             "type": "quantitative"
            }
           },
           "mark": {
            "align": "center",
            "baseline": "middle",
            "color": "black",
            "size": 10,
            "type": "text"
           }
          }
         ]
        },
        {
         "data": {
          "name": "data-3d1f9217963d825d1239d2775ce3f3e6"
         },
         "encoding": {
          "fill": {
           "value": "black"
          },
          "opacity": {
           "value": 1
          },
          "size": {
           "value": 36
          },
          "stroke": {
           "value": "#565656"
          },
          "strokeWidth": {
           "value": 0
          },
          "tooltip": [
           {
            "field": "name",
            "type": "nominal"
           },
           {
            "field": "country",
            "type": "nominal"
           }
          ],
          "x": {
           "axis": {
            "domain": false,
            "grid": false,
            "labels": false,
            "ticks": false,
            "title": ""
           },
           "field": "x",
           "type": "quantitative"
          },
          "y": {
           "axis": {
            "domain": false,
            "grid": false,
            "labels": false,
            "ticks": false,
            "title": ""
           },
           "field": "y",
           "type": "quantitative"
          }
         },
         "mark": "circle"
        },
        {
         "data": {
          "name": "data-bd20a7819599c60b911a875275546906"
         },
         "layer": [
          {
           "encoding": {
            "fill": {
             "value": "#d9d9d9"
            },
            "opacity": {
             "value": 1
            },
            "size": {
             "field": "__combo_size",
             "legend": null,
             "scale": null,
             "type": "quantitative"
            },
            "stroke": {
             "value": "#565656"
            },
            "strokeWidth": {
             "value": 3
            },
            "tooltip": [
             {
              "field": "country",
              "type": "nominal"
             }
            ],
            "x": {
             "axis": {
              "domain": false,
              "grid": false,
              "labels": false,
              "ticks": false,
              "title": ""
             },
             "field": "x",
             "type": "quantitative"
            },
            "y": {
             "axis": {
              "domain": false,
              "grid": false,
              "labels": false,
              "ticks": false,
              "title": ""
             },
             "field": "y",
             "type": "quantitative"
            }
           },
           "mark": "circle"
          },
          {
           "encoding": {
            "text": {
             "field": "country",
             "type": "nominal"
            },
            "x": {
             "axis": {
              "domain": false,
              "grid": false,
              "labels": false,
              "ticks": false,
              "title": ""
             },
             "field": "x",
             "type": "quantitative"
            },
            "y": {
             "axis": {
              "domain": false,
              "grid": false,
              "labels": false,
              "ticks": false,
              "title": ""
             },
             "field": "__y_label",
             "type": "quantitative"
            }
           },
           "mark": {
            "align": "center",
            "baseline": "middle",
            "color": "black",
            "size": 10,
            "type": "text"
           }
          }
         ]
        },
        {
         "data": {
          "name": "data-ef160d7c714ae36c00625affbd59040c"
         },
         "encoding": {
          "fill": {
           "value": "black"
          },
          "opacity": {
           "value": 1
          },
          "size": {
           "value": 36
          },
          "stroke": {
           "value": "#565656"
          },
          "strokeWidth": {
           "value": 0
          },
          "tooltip": [
           {
            "field": "name",
            "type": "nominal"
           },
           {
            "field": "country",
            "type": "nominal"
           }
          ],
          "x": {
           "axis": {
            "domain": false,
            "grid": false,
            "labels": false,
            "ticks": false,
            "title": ""
           },
           "field": "x",
           "type": "quantitative"
          },
          "y": {
           "axis": {
            "domain": false,
            "grid": false,
            "labels": false,
            "ticks": false,
            "title": ""
           },
           "field": "y",
           "type": "quantitative"
          }
         },
         "mark": "circle"
        },
        {
         "data": {
          "name": "data-fecd13c656d994b84d9936eab57e51d3"
         },
         "encoding": {
          "fill": {
           "value": "black"
          },
          "opacity": {
           "value": 1
          },
          "size": {
           "value": 36
          },
          "stroke": {
           "value": "#565656"
          },
          "strokeWidth": {
           "value": 0
          },
          "tooltip": [
           {
            "field": "name",
            "type": "nominal"
           },
           {
            "field": "country",
            "type": "nominal"
           }
          ],
          "x": {
           "axis": {
            "domain": false,
            "grid": false,
            "labels": false,
            "ticks": false,
            "title": ""
           },
           "field": "x",
           "type": "quantitative"
          },
          "y": {
           "axis": {
            "domain": false,
            "grid": false,
            "labels": false,
            "ticks": false,
            "title": ""
           },
           "field": "y",
           "type": "quantitative"
          }
         },
         "mark": "circle"
        },
        {
         "data": {
          "name": "data-bfeeb68153113b8539b82a156d5b522d"
         },
         "encoding": {
          "fill": {
           "value": "black"
          },
          "opacity": {
           "value": 1
          },
          "size": {
           "value": 36
          },
          "stroke": {
           "value": "#565656"
          },
          "strokeWidth": {
           "value": 0
          },
          "tooltip": [
           {
            "field": "name",
            "type": "nominal"
           },
           {
            "field": "country",
            "type": "nominal"
           }
          ],
          "x": {
           "axis": {
            "domain": false,
            "grid": false,
            "labels": false,
            "ticks": false,
            "title": ""
           },
           "field": "x",
           "type": "quantitative"
          },
          "y": {
           "axis": {
            "domain": false,
            "grid": false,
            "labels": false,
            "ticks": false,
            "title": ""
           },
           "field": "y",
           "type": "quantitative"
          }
         },
         "mark": "circle"
        },
        {
         "data": {
          "name": "data-27d0dcaa33df10c28bc82fcf360956fa"
         },
         "layer": [
          {
           "encoding": {
            "fill": {
             "value": "#d9d9d9"
            },
            "opacity": {
             "value": 1
            },
            "size": {
             "field": "__combo_size",
             "legend": null,
             "scale": null,
             "type": "quantitative"
            },
            "stroke": {
             "value": "#565656"
            },
            "strokeWidth": {
             "value": 3
            },
            "tooltip": [
             {
              "field": "country",
              "type": "nominal"
             }
            ],
            "x": {
             "axis": {
              "domain": false,
              "grid": false,
              "labels": false,
              "ticks": false,
              "title": ""
             },
             "field": "x",
             "type": "quantitative"
            },
            "y": {
             "axis": {
              "domain": false,
              "grid": false,
              "labels": false,
              "ticks": false,
              "title": ""
             },
             "field": "y",
             "type": "quantitative"
            }
           },
           "mark": "circle"
          },
          {
           "encoding": {
            "text": {
             "field": "country",
             "type": "nominal"
            },
            "x": {
             "axis": {
              "domain": false,
              "grid": false,
              "labels": false,
              "ticks": false,
              "title": ""
             },
             "field": "x",
             "type": "quantitative"
            },
            "y": {
             "axis": {
              "domain": false,
              "grid": false,
              "labels": false,
              "ticks": false,
              "title": ""
             },
             "field": "__y_label",
             "type": "quantitative"
            }
           },
           "mark": {
            "align": "center",
            "baseline": "middle",
            "color": "black",
            "size": 10,
            "type": "text"
           }
          }
         ]
        },
        {
         "data": {
          "name": "data-355d64a1f4a48d49cd5586bcf74cd23b"
         },
         "encoding": {
          "fill": {
           "value": "black"
          },
          "opacity": {
           "value": 1
          },
          "size": {
           "value": 36
          },
          "stroke": {
           "value": "#565656"
          },
          "strokeWidth": {
           "value": 0
          },
          "tooltip": [
           {
            "field": "name",
            "type": "nominal"
           },
           {
            "field": "country",
            "type": "nominal"
           }
          ],
          "x": {
           "axis": {
            "domain": false,
            "grid": false,
            "labels": false,
            "ticks": false,
            "title": ""
           },
           "field": "x",
           "type": "quantitative"
          },
          "y": {
           "axis": {
            "domain": false,
            "grid": false,
            "labels": false,
            "ticks": false,
            "title": ""
           },
           "field": "y",
           "type": "quantitative"
          }
         },
         "mark": "circle"
        },
        {
         "data": {
          "name": "data-eb6b0e5bcdb22c960255159a2033ecca"
         },
         "layer": [
          {
           "encoding": {
            "fill": {
             "value": "#d9d9d9"
            },
            "opacity": {
             "value": 1
            },
            "size": {
             "field": "__combo_size",
             "legend": null,
             "scale": null,
             "type": "quantitative"
            },
            "stroke": {
             "value": "#565656"
            },
            "strokeWidth": {
             "value": 3
            },
            "tooltip": [
             {
              "field": "country",
              "type": "nominal"
             }
            ],
            "x": {
             "axis": {
              "domain": false,
              "grid": false,
              "labels": false,
              "ticks": false,
              "title": ""
             },
             "field": "x",
             "type": "quantitative"
            },
            "y": {
             "axis": {
              "domain": false,
              "grid": false,
              "labels": false,
              "ticks": false,
              "title": ""
             },
             "field": "y",
             "type": "quantitative"
            }
           },
           "mark": "circle"
          },
          {
           "encoding": {
            "text": {
             "field": "country",
             "type": "nominal"
            },
            "x": {
             "axis": {
              "domain": false,
              "grid": false,
              "labels": false,
              "ticks": false,
              "title": ""
             },
             "field": "x",
             "type": "quantitative"
            },
            "y": {
             "axis": {
              "domain": false,
              "grid": false,
              "labels": false,
              "ticks": false,
              "title": ""
             },
             "field": "__y_label",
             "type": "quantitative"
            }
           },
           "mark": {
            "align": "center",
            "baseline": "middle",
            "color": "black",
            "size": 10,
            "type": "text"
           }
          }
         ]
        },
        {
         "data": {
          "name": "data-ac7531e69820a91d8a47455f8c4ac792"
         },
         "encoding": {
          "fill": {
           "value": "black"
          },
          "opacity": {
           "value": 1
          },
          "size": {
           "value": 36
          },
          "stroke": {
           "value": "#565656"
          },
          "strokeWidth": {
           "value": 0
          },
          "tooltip": [
           {
            "field": "name",
            "type": "nominal"
           },
           {
            "field": "country",
            "type": "nominal"
           }
          ],
          "x": {
           "axis": {
            "domain": false,
            "grid": false,
            "labels": false,
            "ticks": false,
            "title": ""
           },
           "field": "x",
           "type": "quantitative"
          },
          "y": {
           "axis": {
            "domain": false,
            "grid": false,
            "labels": false,
            "ticks": false,
            "title": ""
           },
           "field": "y",
           "type": "quantitative"
          }
         },
         "mark": "circle"
        },
        {
         "data": {
          "name": "data-62c0f37f1a4badcf4d61e9a0e02cd5f7"
         },
         "encoding": {
          "fill": {
           "value": "black"
          },
          "opacity": {
           "value": 1
          },
          "size": {
           "value": 36
          },
          "stroke": {
           "value": "#565656"
          },
          "strokeWidth": {
           "value": 0
          },
          "tooltip": [
           {
            "field": "name",
            "type": "nominal"
           },
           {
            "field": "country",
            "type": "nominal"
           }
          ],
          "x": {
           "axis": {
            "domain": false,
            "grid": false,
            "labels": false,
            "ticks": false,
            "title": ""
           },
           "field": "x",
           "type": "quantitative"
          },
          "y": {
           "axis": {
            "domain": false,
            "grid": false,
            "labels": false,
            "ticks": false,
            "title": ""
           },
           "field": "y",
           "type": "quantitative"
          }
         },
         "mark": "circle"
        },
        {
         "data": {
          "name": "data-7a7e07032de12436a8f47fed264b4726"
         },
         "layer": [
          {
           "encoding": {
            "fill": {
             "value": "#d9d9d9"
            },
            "opacity": {
             "value": 1
            },
            "size": {
             "field": "__combo_size",
             "legend": null,
             "scale": null,
             "type": "quantitative"
            },
            "stroke": {
             "value": "#565656"
            },
            "strokeWidth": {
             "value": 3
            },
            "tooltip": [
             {
              "field": "country",
              "type": "nominal"
             }
            ],
            "x": {
             "axis": {
              "domain": false,
              "grid": false,
              "labels": false,
              "ticks": false,
              "title": ""
             },
             "field": "x",
             "type": "quantitative"
            },
            "y": {
             "axis": {
              "domain": false,
              "grid": false,
              "labels": false,
              "ticks": false,
              "title": ""
             },
             "field": "y",
             "type": "quantitative"
            }
           },
           "mark": "circle"
          },
          {
           "encoding": {
            "text": {
             "field": "country",
             "type": "nominal"
            },
            "x": {
             "axis": {
              "domain": false,
              "grid": false,
              "labels": false,
              "ticks": false,
              "title": ""
             },
             "field": "x",
             "type": "quantitative"
            },
            "y": {
             "axis": {
              "domain": false,
              "grid": false,
              "labels": false,
              "ticks": false,
              "title": ""
             },
             "field": "__y_label",
             "type": "quantitative"
            }
           },
           "mark": {
            "align": "center",
            "baseline": "middle",
            "color": "black",
            "size": 10,
            "type": "text"
           }
          }
         ]
        },
        {
         "data": {
          "name": "data-0ef95783848d143124f007b58ac66fa0"
         },
         "encoding": {
          "color": {
           "value": "black"
          },
          "detail": {
           "field": "edge",
           "type": "quantitative"
          },
          "opacity": {
           "field": "weight",
           "legend": null,
           "scale": {
            "range": [
             0.5,
             3
            ]
           },
           "type": "quantitative"
          },
          "strokeWidth": {
           "field": "weight",
           "legend": null,
           "scale": {
            "range": [
             0.3,
             1
            ]
           },
           "type": "quantitative"
          },
          "x": {
           "axis": {
            "domain": false,
            "grid": false,
            "labels": false,
            "ticks": false,
            "title": ""
           },
           "field": "x",
           "type": "quantitative"
          },
          "y": {
           "axis": {
            "domain": false,
            "grid": false,
            "labels": false,
            "ticks": false,
            "title": ""
           },
           "field": "y",
           "type": "quantitative"
          }
         },
         "mark": "line"
        },
        {
         "data": {
          "name": "data-85b4045ca82d9073a999abb9c1075312"
         },
         "encoding": {
          "fill": {
           "value": "black"
          },
          "opacity": {
           "value": 1
          },
          "size": {
           "value": 36
          },
          "stroke": {
           "value": "#565656"
          },
          "strokeWidth": {
           "value": 0
          },
          "tooltip": [
           {
            "field": "name",
            "type": "nominal"
           },
           {
            "field": "country",
            "type": "nominal"
           }
          ],
          "x": {
           "axis": {
            "domain": false,
            "grid": false,
            "labels": false,
            "ticks": false,
            "title": ""
           },
           "field": "x",
           "type": "quantitative"
          },
          "y": {
           "axis": {
            "domain": false,
            "grid": false,
            "labels": false,
            "ticks": false,
            "title": ""
           },
           "field": "y",
           "type": "quantitative"
          }
         },
         "mark": "circle"
        },
        {
         "data": {
          "name": "data-1cdbfdc42f69c24ed9d06b74f446a8c3"
         },
         "layer": [
          {
           "encoding": {
            "fill": {
             "value": "#d9d9d9"
            },
            "opacity": {
             "value": 1
            },
            "size": {
             "field": "__combo_size",
             "legend": null,
             "scale": null,
             "type": "quantitative"
            },
            "stroke": {
             "value": "#565656"
            },
            "strokeWidth": {
             "value": 3
            },
            "tooltip": [
             {
              "field": "country",
              "type": "nominal"
             }
            ],
            "x": {
             "axis": {
              "domain": false,
              "grid": false,
              "labels": false,
              "ticks": false,
              "title": ""
             },
             "field": "x",
             "type": "quantitative"
            },
            "y": {
             "axis": {
              "domain": false,
              "grid": false,
              "labels": false,
              "ticks": false,
              "title": ""
             },
             "field": "y",
             "type": "quantitative"
            }
           },
           "mark": "circle"
          },
          {
           "encoding": {
            "text": {
             "field": "country",
             "type": "nominal"
            },
            "x": {
             "axis": {
              "domain": false,
              "grid": false,
              "labels": false,
              "ticks": false,
              "title": ""
             },
             "field": "x",
             "type": "quantitative"
            },
            "y": {
             "axis": {
              "domain": false,
              "grid": false,
              "labels": false,
              "ticks": false,
              "title": ""
             },
             "field": "__y_label",
             "type": "quantitative"
            }
           },
           "mark": {
            "align": "center",
            "baseline": "middle",
            "color": "black",
            "size": 10,
            "type": "text"
           }
          }
         ]
        },
        {
         "data": {
          "name": "data-0647b7dd827278ffe79e70d4b8db04f0"
         },
         "encoding": {
          "fill": {
           "value": "black"
          },
          "opacity": {
           "value": 1
          },
          "size": {
           "value": 36
          },
          "stroke": {
           "value": "#565656"
          },
          "strokeWidth": {
           "value": 0
          },
          "tooltip": [
           {
            "field": "name",
            "type": "nominal"
           },
           {
            "field": "country",
            "type": "nominal"
           }
          ],
          "x": {
           "axis": {
            "domain": false,
            "grid": false,
            "labels": false,
            "ticks": false,
            "title": ""
           },
           "field": "x",
           "type": "quantitative"
          },
          "y": {
           "axis": {
            "domain": false,
            "grid": false,
            "labels": false,
            "ticks": false,
            "title": ""
           },
           "field": "y",
           "type": "quantitative"
          }
         },
         "mark": "circle"
        },
        {
         "data": {
          "name": "data-5e00c1fe51c62cdd3a7d59d61fb646b7"
         },
         "encoding": {
          "fill": {
           "value": "black"
          },
          "opacity": {
           "value": 1
          },
          "size": {
           "value": 36
          },
          "stroke": {
           "value": "#565656"
          },
          "strokeWidth": {
           "value": 0
          },
          "tooltip": [
           {
            "field": "name",
            "type": "nominal"
           },
           {
            "field": "country",
            "type": "nominal"
           }
          ],
          "x": {
           "axis": {
            "domain": false,
            "grid": false,
            "labels": false,
            "ticks": false,
            "title": ""
           },
           "field": "x",
           "type": "quantitative"
          },
          "y": {
           "axis": {
            "domain": false,
            "grid": false,
            "labels": false,
            "ticks": false,
            "title": ""
           },
           "field": "y",
           "type": "quantitative"
          }
         },
         "mark": "circle"
        },
        {
         "data": {
          "name": "data-eb726e715edb88b33a3c6d2fdb2b963c"
         },
         "encoding": {
          "fill": {
           "value": "black"
          },
          "opacity": {
           "value": 1
          },
          "size": {
           "value": 36
          },
          "stroke": {
           "value": "#565656"
          },
          "strokeWidth": {
           "value": 0
          },
          "tooltip": [
           {
            "field": "name",
            "type": "nominal"
           },
           {
            "field": "country",
            "type": "nominal"
           }
          ],
          "x": {
           "axis": {
            "domain": false,
            "grid": false,
            "labels": false,
            "ticks": false,
            "title": ""
           },
           "field": "x",
           "type": "quantitative"
          },
          "y": {
           "axis": {
            "domain": false,
            "grid": false,
            "labels": false,
            "ticks": false,
            "title": ""
           },
           "field": "y",
           "type": "quantitative"
          }
         },
         "mark": "circle"
        }
       ],
       "resolve": {
        "scale": {
         "color": "independent",
         "fill": "independent",
         "opacity": "independent",
         "size": "independent",
         "strokeWidth": "independent"
        }
       },
       "width": 800
      },
      "image/png": "[encoded data removed]",
      "text/plain": [
       "<VegaLite 4 object>\n",
       "\n",
       "If you see this message, it means the renderer has not been properly enabled\n",
       "for the frontend that you are using. For more information, see\n",
       "https://altair-viz.github.io/user_guide/troubleshooting.html\n"
      ]
     },
     "execution_count": 9,
     "metadata": {},
     "output_type": "execute_result"
    }
   ],
   "source": [
    "alph(\n",
    "    G2,\n",
    "    weight_attr=\"weight\",\n",
    "    node_args=dict(\n",
    "        size=36,\n",
    "        strokeWidth=0,\n",
    "        tooltip_attrs=[\"name\", \"country\"],\n",
    "    ),\n",
    "    combo_group_by=\"country\",\n",
    "    combo_layout_fn=lambda G: layout.force_atlas(\n",
    "        G,\n",
    "        weight_attr=\"weight\",\n",
    "        strongGravityMode=True,\n",
    "        gravity=1,\n",
    "        edgeWeightInfluence=1.2,\n",
    "        seed=seed,\n",
    "    ),\n",
    "    combo_node_additional_attrs={\n",
    "        country: {\"country\": country or \"\"} for country in more_countries\n",
    "    },\n",
    "    combo_node_args=dict(\n",
    "        tooltip_attrs=[\"country:N\"],\n",
    "        label_attr=\"country:N\",\n",
    "        label_offset=12,\n",
    "    ),\n",
    "    combo_edge_args=dict(\n",
    "        strokeWidth=alt.Size(\"weight\", scale=alt.Scale(range=[0.1, 3]), legend=None),\n",
    "    ),\n",
    "    combo_size_scale_range=[6**2,90**2],\n",
    "    combo_inner_graph_scale_factor=0.5,\n",
    "    combo_empty_attr_action=\"promote\",\n",
    "    width=800,\n",
    "    height=500,\n",
    ").configure_view(strokeWidth=0)"
   ]
  },
  {
   "cell_type": "code",
   "execution_count": null,
   "metadata": {},
   "outputs": [],
   "source": []
  }
 ],
 "metadata": {
  "kernelspec": {
   "display_name": "Python 3 (ipykernel)",
   "language": "python",
   "name": "python3"
  },
  "language_info": {
   "codemirror_mode": {
    "name": "ipython",
    "version": 3
   },
   "file_extension": ".py",
   "mimetype": "text/x-python",
   "name": "python",
   "nbconvert_exporter": "python",
   "pygments_lexer": "ipython3",
   "version": "3.10.7"
  },
  "metadata": {
   "interpreter": {
    "hash": "f9eeaac1386f103cfc819cf6645f9259fc0b8eda53ad5c9114a115ed18ca0cb8"
   }
  },
  "vscode": {
   "interpreter": {
    "hash": "121ccb6ef33f050b5231fe1f8644b93952e7f3a79e0892dcb9cd03f1749809c5"
   }
  }
 },
 "nbformat": 4,
 "nbformat_minor": 4
}
