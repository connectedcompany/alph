{
 "cells": [
  {
   "cell_type": "markdown",
   "metadata": {},
   "source": [
    "### Les Miserables, combo style (experimental)\n",
    "\n",
    "This example demonstrates a layout that gruops together related nodes - typically by category - and connects them based on the aggregate weights of their links.\n",
    "\n",
    "We use the [Les Miserables dataset](http://www.casos.cs.cmu.edu/computational_tools/datasets/external/lesmis/), originating from [Knuth et al](https://www.semanticscholar.org/paper/The-Stanford-GraphBase-a-platform-for-combinatorial-Knuth/77eb30495093bfe10929e7847d9d04ec41409846).\n",
    "\n",
    "To group the Les Mis characters, we pick the handy [Louvain algorithm](https://en.wikipedia.org/wiki/Louvain_method) for community detection. We aren't too interested in turning the dials here, we just want some node groupings here to visualise, and Louvain gives us that out of the box."
   ]
  },
  {
   "cell_type": "code",
   "execution_count": 1,
   "metadata": {},
   "outputs": [],
   "source": [
    "import sys\n",
    "import altair as alt\n",
    "import networkx as nx\n",
    "import numpy as np\n",
    "import pandas as pd\n",
    "\n",
    "from faker import Faker\n",
    "\n",
    "\"..\" not in sys.path and sys.path.append(\"..\")\n",
    "from alph import alph, layers, layout, util\n",
    "\n",
    "util.set_altair_renderer()"
   ]
  },
  {
   "cell_type": "markdown",
   "metadata": {},
   "source": [
    "Start by loading the data to create a graph. Then add node names as an explicit attribute for use later (node names serve as node ids in the dataset)."
   ]
  },
  {
   "cell_type": "code",
   "execution_count": 2,
   "metadata": {},
   "outputs": [
    {
     "name": "stdout",
     "output_type": "stream",
     "text": [
      "nodes: 77, links: 254, max edge value: 31\n",
      "First node: ('Myriel', {'name': 'Myriel'})\n",
      "First edge: ('Myriel', 'Napoleon', {'value': 1})\n"
     ]
    }
   ],
   "source": [
    "G = nx.read_gml(\"data/lesmis.gml\")\n",
    "max_edge_value = max([d[2] for d in G.edges(data=\"value\")])\n",
    "nx.set_node_attributes(G, {n: n for n in G.nodes()}, \"name\")\n",
    "\n",
    "print(f\"nodes: {len(G.nodes())}, links: {len(G.edges())}, max edge value: {max_edge_value}\")\n",
    "print(\"First node:\", list(G.nodes(data=True))[0])\n",
    "print(\"First edge:\", list(G.edges(data=True))[0])"
   ]
  },
  {
   "cell_type": "markdown",
   "metadata": {},
   "source": [
    "Perform community detection using the Louvain method, and assign each node to its group via an attribute."
   ]
  },
  {
   "cell_type": "code",
   "execution_count": 3,
   "metadata": {},
   "outputs": [
    {
     "name": "stdout",
     "output_type": "stream",
     "text": [
      "[('Count', '0'), ('Cravatte', '0'), ('Napoleon', '0')]\n"
     ]
    }
   ],
   "source": [
    "seed = 42\n",
    "\n",
    "communities = nx.algorithms.community.louvain_communities(G, weight=\"value\", resolution=1, seed=seed)\n",
    "node_to_group = {n: str(c) for c, ns in enumerate(communities) for n in ns}\n",
    "nx.set_node_attributes(G, node_to_group, \"group\")\n",
    "\n",
    "print(list(node_to_group.items())[:3])"
   ]
  },
  {
   "cell_type": "markdown",
   "metadata": {},
   "source": [
    "Let's now plot the Les Mis graph, before combo styling. We'll set node colours based on the group attribute."
   ]
  },
  {
   "cell_type": "code",
   "execution_count": 4,
   "metadata": {},
   "outputs": [
    {
     "data": {
      "application/vnd.vegalite.v5+json": {
       "$schema": "https://vega.github.io/schema/vega-lite/v5.8.0.json",
       "config": {
        "view": {
         "continuousHeight": 300,
         "continuousWidth": 300,
         "strokeWidth": 0
        }
       },
       "datasets": {
        "data-1c6ce606724098813018a11916960c3e": [
         {
          "__node_r": 3,
          "__node_size": 36,
          "group": "0",
          "name": "Myriel",
          "x": 744.4760508767029,
          "y": 380.8653192872373
         },
         {
          "__node_r": 3,
          "__node_size": 36,
          "group": "0",
          "name": "Napoleon",
          "x": 790.6506681620224,
          "y": 407.23813435198116
         },
         {
          "__node_r": 3,
          "__node_size": 36,
          "group": "0",
          "name": "MlleBaptistine",
          "x": 663.1763750251658,
          "y": 359.5979452948747
         },
         {
          "__node_r": 3,
          "__node_size": 36,
          "group": "0",
          "name": "MmeMagloire",
          "x": 672.1970647435082,
          "y": 347.63052113204736
         },
         {
          "__node_r": 3,
          "__node_size": 36,
          "group": "0",
          "name": "CountessDeLo",
          "x": 786.1448444391996,
          "y": 382.42681971371843
         },
         {
          "__node_r": 3,
          "__node_size": 36,
          "group": "0",
          "name": "Geborand",
          "x": 772.6873335180632,
          "y": 416.4913389926448
         },
         {
          "__node_r": 3,
          "__node_size": 36,
          "group": "0",
          "name": "Champtercier",
          "x": 755.528364527867,
          "y": 411.9630574742317
         },
         {
          "__node_r": 3,
          "__node_size": 36,
          "group": "0",
          "name": "Cravatte",
          "x": 775.910070519336,
          "y": 398.53041777501153
         },
         {
          "__node_r": 3,
          "__node_size": 36,
          "group": "0",
          "name": "Count",
          "x": 792.3080310982001,
          "y": 370.0238786878282
         },
         {
          "__node_r": 3,
          "__node_size": 36,
          "group": "0",
          "name": "OldMan",
          "x": 800,
          "y": 391.6227851485193
         },
         {
          "__node_r": 3,
          "__node_size": 36,
          "group": "1",
          "name": "Labarre",
          "x": 558.8076306630895,
          "y": 278.6046073809713
         },
         {
          "__node_r": 3,
          "__node_size": 36,
          "group": "1",
          "name": "Valjean",
          "x": 513.2447211521715,
          "y": 304.3771522522206
         },
         {
          "__node_r": 3,
          "__node_size": 36,
          "group": "2",
          "name": "Marguerite",
          "x": 531.3542945840503,
          "y": 388.78143988398483
         },
         {
          "__node_r": 3,
          "__node_size": 36,
          "group": "1",
          "name": "MmeDeR",
          "x": 558.7306520814213,
          "y": 341.0008858407247
         },
         {
          "__node_r": 3,
          "__node_size": 36,
          "group": "1",
          "name": "Isabeau",
          "x": 566.6782916455227,
          "y": 323.037294864988
         },
         {
          "__node_r": 3,
          "__node_size": 36,
          "group": "1",
          "name": "Gervais",
          "x": 575.8438163321999,
          "y": 333.7417109279322
         },
         {
          "__node_r": 3,
          "__node_size": 36,
          "group": "2",
          "name": "Tholomyes",
          "x": 414.9527337530822,
          "y": 482.3235087138373
         },
         {
          "__node_r": 3,
          "__node_size": 36,
          "group": "2",
          "name": "Listolier",
          "x": 465.7892476836673,
          "y": 540.7925853509496
         },
         {
          "__node_r": 3,
          "__node_size": 36,
          "group": "2",
          "name": "Fameuil",
          "x": 468.57633536728827,
          "y": 509.4662638098721
         },
         {
          "__node_r": 3,
          "__node_size": 36,
          "group": "2",
          "name": "Blacheville",
          "x": 443.7445656715609,
          "y": 516.5155673320799
         },
         {
          "__node_r": 3,
          "__node_size": 36,
          "group": "2",
          "name": "Favourite",
          "x": 438.7224241377239,
          "y": 542.6055270899576
         },
         {
          "__node_r": 3,
          "__node_size": 36,
          "group": "2",
          "name": "Dahlia",
          "x": 419.9398568346019,
          "y": 526.6093729151498
         },
         {
          "__node_r": 3,
          "__node_size": 36,
          "group": "2",
          "name": "Zephine",
          "x": 484.7418044782502,
          "y": 525.9947031068991
         },
         {
          "__node_r": 3,
          "__node_size": 36,
          "group": "2",
          "name": "Fantine",
          "x": 477.6989749454395,
          "y": 433.6762205257538
         },
         {
          "__node_r": 3,
          "__node_size": 36,
          "group": "4",
          "name": "MmeThenardier",
          "x": 408.66967773947414,
          "y": 324.1039722246319
         },
         {
          "__node_r": 3,
          "__node_size": 36,
          "group": "4",
          "name": "Thenardier",
          "x": 400.0462989140733,
          "y": 299.9675774023077
         },
         {
          "__node_r": 3,
          "__node_size": 36,
          "group": "1",
          "name": "Cosette",
          "x": 400.0537025186286,
          "y": 370.2721508186721
         },
         {
          "__node_r": 3,
          "__node_size": 36,
          "group": "1",
          "name": "Javert",
          "x": 446.78068635954725,
          "y": 305.1613219258526
         },
         {
          "__node_r": 3,
          "__node_size": 36,
          "group": "1",
          "name": "Fauchelevent",
          "x": 594.6619004731333,
          "y": 305.61225944978025
         },
         {
          "__node_r": 3,
          "__node_size": 36,
          "group": "3",
          "name": "Bamatabois",
          "x": 588.4312188047585,
          "y": 257.4254660062134
         },
         {
          "__node_r": 3,
          "__node_size": 36,
          "group": "1",
          "name": "Perpetue",
          "x": 527.9981470097815,
          "y": 426.40137804455804
         },
         {
          "__node_r": 3,
          "__node_size": 36,
          "group": "1",
          "name": "Simplice",
          "x": 505.57064256370023,
          "y": 382.27583015865554
         },
         {
          "__node_r": 3,
          "__node_size": 36,
          "group": "1",
          "name": "Scaufflaire",
          "x": 569.1964236829829,
          "y": 301.03828070247
         },
         {
          "__node_r": 3,
          "__node_size": 36,
          "group": "1",
          "name": "Woman1",
          "x": 499.8837509002197,
          "y": 266.46226330157475
         },
         {
          "__node_r": 3,
          "__node_size": 36,
          "group": "3",
          "name": "Judge",
          "x": 615.7472828489954,
          "y": 228.0295501574256
         },
         {
          "__node_r": 3,
          "__node_size": 36,
          "group": "3",
          "name": "Champmathieu",
          "x": 640.3603655643802,
          "y": 236.4322151480898
         },
         {
          "__node_r": 3,
          "__node_size": 36,
          "group": "3",
          "name": "Brevet",
          "x": 622.2208754298506,
          "y": 203.4748437016331
         },
         {
          "__node_r": 3,
          "__node_size": 36,
          "group": "3",
          "name": "Chenildieu",
          "x": 599.0484966579324,
          "y": 212.0113377616501
         },
         {
          "__node_r": 3,
          "__node_size": 36,
          "group": "3",
          "name": "Cochepaille",
          "x": 643.2184243133152,
          "y": 216.5132552773021
         },
         {
          "__node_r": 3,
          "__node_size": 36,
          "group": "1",
          "name": "Pontmercy",
          "x": 295.842708286816,
          "y": 364.30131819316745
         },
         {
          "__node_r": 3,
          "__node_size": 36,
          "group": "4",
          "name": "Boulatruelle",
          "x": 374.2681961892687,
          "y": 321.37100090309144
         },
         {
          "__node_r": 3,
          "__node_size": 36,
          "group": "4",
          "name": "Eponine",
          "x": 362.83176072822414,
          "y": 269.4583739797823
         },
         {
          "__node_r": 3,
          "__node_size": 36,
          "group": "4",
          "name": "Anzelma",
          "x": 374.0865446319385,
          "y": 306.8119470846386
         },
         {
          "__node_r": 3,
          "__node_size": 36,
          "group": "1",
          "name": "Woman2",
          "x": 451.06650197949784,
          "y": 346.2051562581631
         },
         {
          "__node_r": 3,
          "__node_size": 36,
          "group": "1",
          "name": "MotherInnocent",
          "x": 608.371159483517,
          "y": 316.7607175044708
         },
         {
          "__node_r": 3,
          "__node_size": 36,
          "group": "1",
          "name": "Gribier",
          "x": 657.5544314650838,
          "y": 300.5350174200118
         },
         {
          "__node_r": 3,
          "__node_size": 36,
          "group": "5",
          "name": "Jondrette",
          "x": 326.2595743264782,
          "y": 57.43368852975344
         },
         {
          "__node_r": 3,
          "__node_size": 36,
          "group": "5",
          "name": "MmeBurgon",
          "x": 326.35968097389986,
          "y": 96.16074038546267
         },
         {
          "__node_r": 3,
          "__node_size": 36,
          "group": "5",
          "name": "Gavroche",
          "x": 320.3026984538368,
          "y": 206.55508063724218
         },
         {
          "__node_r": 3,
          "__node_size": 36,
          "group": "1",
          "name": "Gillenormand",
          "x": 345.9059697282103,
          "y": 372.3511698727096
         },
         {
          "__node_r": 3,
          "__node_size": 36,
          "group": "1",
          "name": "Magnon",
          "x": 367.20941651331395,
          "y": 355.4742028708529
         },
         {
          "__node_r": 3,
          "__node_size": 36,
          "group": "1",
          "name": "MlleGillenormand",
          "x": 338.43332853867446,
          "y": 401.06011905277023
         },
         {
          "__node_r": 3,
          "__node_size": 36,
          "group": "1",
          "name": "MmePontmercy",
          "x": 278.6624123279897,
          "y": 414.3067511181494
         },
         {
          "__node_r": 3,
          "__node_size": 36,
          "group": "1",
          "name": "MlleVaubois",
          "x": 301.57642592291495,
          "y": 442.503649668463
         },
         {
          "__node_r": 3,
          "__node_size": 36,
          "group": "1",
          "name": "LtGillenormand",
          "x": 313.4053495395557,
          "y": 388.92468904197085
         },
         {
          "__node_r": 3,
          "__node_size": 36,
          "group": "1",
          "name": "Marius",
          "x": 290.60312103586926,
          "y": 319.1883281051754
         },
         {
          "__node_r": 3,
          "__node_size": 36,
          "group": "1",
          "name": "BaronessT",
          "x": 271.9439586913244,
          "y": 375.00777939650015
         },
         {
          "__node_r": 3,
          "__node_size": 36,
          "group": "5",
          "name": "Mabeuf",
          "x": 257.5114219583887,
          "y": 228.66336567757364
         },
         {
          "__node_r": 3,
          "__node_size": 36,
          "group": "5",
          "name": "Enjolras",
          "x": 282.5087953908546,
          "y": 254.49147527211466
         },
         {
          "__node_r": 3,
          "__node_size": 36,
          "group": "5",
          "name": "Combeferre",
          "x": 181.06541971756252,
          "y": 269.9991026761858
         },
         {
          "__node_r": 3,
          "__node_size": 36,
          "group": "5",
          "name": "Prouvaire",
          "x": 182.9343610775287,
          "y": 195.3705595596706
         },
         {
          "__node_r": 3,
          "__node_size": 36,
          "group": "5",
          "name": "Feuilly",
          "x": 199.48491671870332,
          "y": 251.44415860901051
         },
         {
          "__node_r": 3,
          "__node_size": 36,
          "group": "5",
          "name": "Courfeyrac",
          "x": 234.92866615229312,
          "y": 206.4940687610358
         },
         {
          "__node_r": 3,
          "__node_size": 36,
          "group": "5",
          "name": "Bahorel",
          "x": 165.4022181466924,
          "y": 237.7637796484399
         },
         {
          "__node_r": 3,
          "__node_size": 36,
          "group": "5",
          "name": "Bossuet",
          "x": 237.01996101066644,
          "y": 258.3796836278097
         },
         {
          "__node_r": 3,
          "__node_size": 36,
          "group": "5",
          "name": "Joly",
          "x": 199.99435039792093,
          "y": 221.05793580887834
         },
         {
          "__node_r": 3,
          "__node_size": 36,
          "group": "5",
          "name": "Grantaire",
          "x": 156.37227849288843,
          "y": 206.70312832888763
         },
         {
          "__node_r": 3,
          "__node_size": 36,
          "group": "5",
          "name": "MotherPlutarch",
          "x": 258.89949681095914,
          "y": 156.09814425477
         },
         {
          "__node_r": 3,
          "__node_size": 36,
          "group": "4",
          "name": "Gueulemer",
          "x": 435.8684321851509,
          "y": 261.0990200541632
         },
         {
          "__node_r": 3,
          "__node_size": 36,
          "group": "4",
          "name": "Babet",
          "x": 408.4215921583651,
          "y": 257.0967812212034
         },
         {
          "__node_r": 3,
          "__node_size": 36,
          "group": "4",
          "name": "Claquesous",
          "x": 404.95899265523497,
          "y": 280.6588632679255
         },
         {
          "__node_r": 3,
          "__node_size": 36,
          "group": "4",
          "name": "Montparnasse",
          "x": 436.16028335841776,
          "y": 234.67479361740487
         },
         {
          "__node_r": 3,
          "__node_size": 36,
          "group": "1",
          "name": "Toussaint",
          "x": 468.9170561313838,
          "y": 349.95940881857047
         },
         {
          "__node_r": 3,
          "__node_size": 36,
          "group": "5",
          "name": "Child1",
          "x": 342.18160804072164,
          "y": 130.15413680854527
         },
         {
          "__node_r": 3,
          "__node_size": 36,
          "group": "5",
          "name": "Child2",
          "x": 357.1614485742383,
          "y": 132.35930404192308
         },
         {
          "__node_r": 3,
          "__node_size": 36,
          "group": "4",
          "name": "Brujon",
          "x": 401.2456296628934,
          "y": 225.7937278864368
         },
         {
          "__node_r": 3,
          "__node_size": 36,
          "group": "5",
          "name": "MmeHucheloup",
          "x": 215.12014105733363,
          "y": 177.93853568911342
         }
        ],
        "data-f53c1b2f5519cda8b05948258caf1d80": [
         {
          "edge": 0,
          "pair": [
           "Myriel",
           "Napoleon"
          ],
          "source": "Myriel",
          "target": "Napoleon",
          "value": 1,
          "x": 744.4760508767029,
          "y": 380.8653192872373
         },
         {
          "edge": 0,
          "pair": [
           "Myriel",
           "Napoleon"
          ],
          "source": "Myriel",
          "target": "Napoleon",
          "value": 1,
          "x": 790.6506681620224,
          "y": 407.23813435198116
         },
         {
          "edge": 1,
          "pair": [
           "Myriel",
           "MlleBaptistine"
          ],
          "source": "Myriel",
          "target": "MlleBaptistine",
          "value": 8,
          "x": 744.4760508767029,
          "y": 380.8653192872373
         },
         {
          "edge": 1,
          "pair": [
           "Myriel",
           "MlleBaptistine"
          ],
          "source": "Myriel",
          "target": "MlleBaptistine",
          "value": 8,
          "x": 663.1763750251658,
          "y": 359.5979452948747
         },
         {
          "edge": 2,
          "pair": [
           "Myriel",
           "MmeMagloire"
          ],
          "source": "Myriel",
          "target": "MmeMagloire",
          "value": 10,
          "x": 744.4760508767029,
          "y": 380.8653192872373
         },
         {
          "edge": 2,
          "pair": [
           "Myriel",
           "MmeMagloire"
          ],
          "source": "Myriel",
          "target": "MmeMagloire",
          "value": 10,
          "x": 672.1970647435082,
          "y": 347.63052113204736
         },
         {
          "edge": 3,
          "pair": [
           "Myriel",
           "CountessDeLo"
          ],
          "source": "Myriel",
          "target": "CountessDeLo",
          "value": 1,
          "x": 744.4760508767029,
          "y": 380.8653192872373
         },
         {
          "edge": 3,
          "pair": [
           "Myriel",
           "CountessDeLo"
          ],
          "source": "Myriel",
          "target": "CountessDeLo",
          "value": 1,
          "x": 786.1448444391996,
          "y": 382.42681971371843
         },
         {
          "edge": 4,
          "pair": [
           "Myriel",
           "Geborand"
          ],
          "source": "Myriel",
          "target": "Geborand",
          "value": 1,
          "x": 744.4760508767029,
          "y": 380.8653192872373
         },
         {
          "edge": 4,
          "pair": [
           "Myriel",
           "Geborand"
          ],
          "source": "Myriel",
          "target": "Geborand",
          "value": 1,
          "x": 772.6873335180632,
          "y": 416.4913389926448
         },
         {
          "edge": 5,
          "pair": [
           "Myriel",
           "Champtercier"
          ],
          "source": "Myriel",
          "target": "Champtercier",
          "value": 1,
          "x": 744.4760508767029,
          "y": 380.8653192872373
         },
         {
          "edge": 5,
          "pair": [
           "Myriel",
           "Champtercier"
          ],
          "source": "Myriel",
          "target": "Champtercier",
          "value": 1,
          "x": 755.528364527867,
          "y": 411.9630574742317
         },
         {
          "edge": 6,
          "pair": [
           "Myriel",
           "Cravatte"
          ],
          "source": "Myriel",
          "target": "Cravatte",
          "value": 1,
          "x": 744.4760508767029,
          "y": 380.8653192872373
         },
         {
          "edge": 6,
          "pair": [
           "Myriel",
           "Cravatte"
          ],
          "source": "Myriel",
          "target": "Cravatte",
          "value": 1,
          "x": 775.910070519336,
          "y": 398.53041777501153
         },
         {
          "edge": 7,
          "pair": [
           "Myriel",
           "Count"
          ],
          "source": "Myriel",
          "target": "Count",
          "value": 2,
          "x": 744.4760508767029,
          "y": 380.8653192872373
         },
         {
          "edge": 7,
          "pair": [
           "Myriel",
           "Count"
          ],
          "source": "Myriel",
          "target": "Count",
          "value": 2,
          "x": 792.3080310982001,
          "y": 370.0238786878282
         },
         {
          "edge": 8,
          "pair": [
           "Myriel",
           "OldMan"
          ],
          "source": "Myriel",
          "target": "OldMan",
          "value": 1,
          "x": 744.4760508767029,
          "y": 380.8653192872373
         },
         {
          "edge": 8,
          "pair": [
           "Myriel",
           "OldMan"
          ],
          "source": "Myriel",
          "target": "OldMan",
          "value": 1,
          "x": 800,
          "y": 391.6227851485193
         },
         {
          "edge": 9,
          "pair": [
           "Myriel",
           "Valjean"
          ],
          "source": "Myriel",
          "target": "Valjean",
          "value": 5,
          "x": 744.4760508767029,
          "y": 380.8653192872373
         },
         {
          "edge": 9,
          "pair": [
           "Myriel",
           "Valjean"
          ],
          "source": "Myriel",
          "target": "Valjean",
          "value": 5,
          "x": 513.2447211521715,
          "y": 304.3771522522206
         },
         {
          "edge": 10,
          "pair": [
           "MlleBaptistine",
           "MmeMagloire"
          ],
          "source": "MlleBaptistine",
          "target": "MmeMagloire",
          "value": 6,
          "x": 663.1763750251658,
          "y": 359.5979452948747
         },
         {
          "edge": 10,
          "pair": [
           "MlleBaptistine",
           "MmeMagloire"
          ],
          "source": "MlleBaptistine",
          "target": "MmeMagloire",
          "value": 6,
          "x": 672.1970647435082,
          "y": 347.63052113204736
         },
         {
          "edge": 11,
          "pair": [
           "MlleBaptistine",
           "Valjean"
          ],
          "source": "MlleBaptistine",
          "target": "Valjean",
          "value": 3,
          "x": 663.1763750251658,
          "y": 359.5979452948747
         },
         {
          "edge": 11,
          "pair": [
           "MlleBaptistine",
           "Valjean"
          ],
          "source": "MlleBaptistine",
          "target": "Valjean",
          "value": 3,
          "x": 513.2447211521715,
          "y": 304.3771522522206
         },
         {
          "edge": 12,
          "pair": [
           "MmeMagloire",
           "Valjean"
          ],
          "source": "MmeMagloire",
          "target": "Valjean",
          "value": 3,
          "x": 672.1970647435082,
          "y": 347.63052113204736
         },
         {
          "edge": 12,
          "pair": [
           "MmeMagloire",
           "Valjean"
          ],
          "source": "MmeMagloire",
          "target": "Valjean",
          "value": 3,
          "x": 513.2447211521715,
          "y": 304.3771522522206
         },
         {
          "edge": 13,
          "pair": [
           "Labarre",
           "Valjean"
          ],
          "source": "Labarre",
          "target": "Valjean",
          "value": 1,
          "x": 558.8076306630895,
          "y": 278.6046073809713
         },
         {
          "edge": 13,
          "pair": [
           "Labarre",
           "Valjean"
          ],
          "source": "Labarre",
          "target": "Valjean",
          "value": 1,
          "x": 513.2447211521715,
          "y": 304.3771522522206
         },
         {
          "edge": 14,
          "pair": [
           "Valjean",
           "Marguerite"
          ],
          "source": "Valjean",
          "target": "Marguerite",
          "value": 1,
          "x": 513.2447211521715,
          "y": 304.3771522522206
         },
         {
          "edge": 14,
          "pair": [
           "Valjean",
           "Marguerite"
          ],
          "source": "Valjean",
          "target": "Marguerite",
          "value": 1,
          "x": 531.3542945840503,
          "y": 388.78143988398483
         },
         {
          "edge": 15,
          "pair": [
           "Valjean",
           "MmeDeR"
          ],
          "source": "Valjean",
          "target": "MmeDeR",
          "value": 1,
          "x": 513.2447211521715,
          "y": 304.3771522522206
         },
         {
          "edge": 15,
          "pair": [
           "Valjean",
           "MmeDeR"
          ],
          "source": "Valjean",
          "target": "MmeDeR",
          "value": 1,
          "x": 558.7306520814213,
          "y": 341.0008858407247
         },
         {
          "edge": 16,
          "pair": [
           "Valjean",
           "Isabeau"
          ],
          "source": "Valjean",
          "target": "Isabeau",
          "value": 1,
          "x": 513.2447211521715,
          "y": 304.3771522522206
         },
         {
          "edge": 16,
          "pair": [
           "Valjean",
           "Isabeau"
          ],
          "source": "Valjean",
          "target": "Isabeau",
          "value": 1,
          "x": 566.6782916455227,
          "y": 323.037294864988
         },
         {
          "edge": 17,
          "pair": [
           "Valjean",
           "Gervais"
          ],
          "source": "Valjean",
          "target": "Gervais",
          "value": 1,
          "x": 513.2447211521715,
          "y": 304.3771522522206
         },
         {
          "edge": 17,
          "pair": [
           "Valjean",
           "Gervais"
          ],
          "source": "Valjean",
          "target": "Gervais",
          "value": 1,
          "x": 575.8438163321999,
          "y": 333.7417109279322
         },
         {
          "edge": 18,
          "pair": [
           "Valjean",
           "Fantine"
          ],
          "source": "Valjean",
          "target": "Fantine",
          "value": 9,
          "x": 513.2447211521715,
          "y": 304.3771522522206
         },
         {
          "edge": 18,
          "pair": [
           "Valjean",
           "Fantine"
          ],
          "source": "Valjean",
          "target": "Fantine",
          "value": 9,
          "x": 477.6989749454395,
          "y": 433.6762205257538
         },
         {
          "edge": 19,
          "pair": [
           "Valjean",
           "MmeThenardier"
          ],
          "source": "Valjean",
          "target": "MmeThenardier",
          "value": 7,
          "x": 513.2447211521715,
          "y": 304.3771522522206
         },
         {
          "edge": 19,
          "pair": [
           "Valjean",
           "MmeThenardier"
          ],
          "source": "Valjean",
          "target": "MmeThenardier",
          "value": 7,
          "x": 408.66967773947414,
          "y": 324.1039722246319
         },
         {
          "edge": 20,
          "pair": [
           "Valjean",
           "Thenardier"
          ],
          "source": "Valjean",
          "target": "Thenardier",
          "value": 12,
          "x": 513.2447211521715,
          "y": 304.3771522522206
         },
         {
          "edge": 20,
          "pair": [
           "Valjean",
           "Thenardier"
          ],
          "source": "Valjean",
          "target": "Thenardier",
          "value": 12,
          "x": 400.0462989140733,
          "y": 299.9675774023077
         },
         {
          "edge": 21,
          "pair": [
           "Valjean",
           "Cosette"
          ],
          "source": "Valjean",
          "target": "Cosette",
          "value": 31,
          "x": 513.2447211521715,
          "y": 304.3771522522206
         },
         {
          "edge": 21,
          "pair": [
           "Valjean",
           "Cosette"
          ],
          "source": "Valjean",
          "target": "Cosette",
          "value": 31,
          "x": 400.0537025186286,
          "y": 370.2721508186721
         },
         {
          "edge": 22,
          "pair": [
           "Valjean",
           "Javert"
          ],
          "source": "Valjean",
          "target": "Javert",
          "value": 17,
          "x": 513.2447211521715,
          "y": 304.3771522522206
         },
         {
          "edge": 22,
          "pair": [
           "Valjean",
           "Javert"
          ],
          "source": "Valjean",
          "target": "Javert",
          "value": 17,
          "x": 446.78068635954725,
          "y": 305.1613219258526
         },
         {
          "edge": 23,
          "pair": [
           "Valjean",
           "Fauchelevent"
          ],
          "source": "Valjean",
          "target": "Fauchelevent",
          "value": 8,
          "x": 513.2447211521715,
          "y": 304.3771522522206
         },
         {
          "edge": 23,
          "pair": [
           "Valjean",
           "Fauchelevent"
          ],
          "source": "Valjean",
          "target": "Fauchelevent",
          "value": 8,
          "x": 594.6619004731333,
          "y": 305.61225944978025
         },
         {
          "edge": 24,
          "pair": [
           "Valjean",
           "Bamatabois"
          ],
          "source": "Valjean",
          "target": "Bamatabois",
          "value": 2,
          "x": 513.2447211521715,
          "y": 304.3771522522206
         },
         {
          "edge": 24,
          "pair": [
           "Valjean",
           "Bamatabois"
          ],
          "source": "Valjean",
          "target": "Bamatabois",
          "value": 2,
          "x": 588.4312188047585,
          "y": 257.4254660062134
         },
         {
          "edge": 25,
          "pair": [
           "Valjean",
           "Simplice"
          ],
          "source": "Valjean",
          "target": "Simplice",
          "value": 3,
          "x": 513.2447211521715,
          "y": 304.3771522522206
         },
         {
          "edge": 25,
          "pair": [
           "Valjean",
           "Simplice"
          ],
          "source": "Valjean",
          "target": "Simplice",
          "value": 3,
          "x": 505.57064256370023,
          "y": 382.27583015865554
         },
         {
          "edge": 26,
          "pair": [
           "Valjean",
           "Scaufflaire"
          ],
          "source": "Valjean",
          "target": "Scaufflaire",
          "value": 1,
          "x": 513.2447211521715,
          "y": 304.3771522522206
         },
         {
          "edge": 26,
          "pair": [
           "Valjean",
           "Scaufflaire"
          ],
          "source": "Valjean",
          "target": "Scaufflaire",
          "value": 1,
          "x": 569.1964236829829,
          "y": 301.03828070247
         },
         {
          "edge": 27,
          "pair": [
           "Valjean",
           "Woman1"
          ],
          "source": "Valjean",
          "target": "Woman1",
          "value": 2,
          "x": 513.2447211521715,
          "y": 304.3771522522206
         },
         {
          "edge": 27,
          "pair": [
           "Valjean",
           "Woman1"
          ],
          "source": "Valjean",
          "target": "Woman1",
          "value": 2,
          "x": 499.8837509002197,
          "y": 266.46226330157475
         },
         {
          "edge": 28,
          "pair": [
           "Valjean",
           "Judge"
          ],
          "source": "Valjean",
          "target": "Judge",
          "value": 3,
          "x": 513.2447211521715,
          "y": 304.3771522522206
         },
         {
          "edge": 28,
          "pair": [
           "Valjean",
           "Judge"
          ],
          "source": "Valjean",
          "target": "Judge",
          "value": 3,
          "x": 615.7472828489954,
          "y": 228.0295501574256
         },
         {
          "edge": 29,
          "pair": [
           "Valjean",
           "Champmathieu"
          ],
          "source": "Valjean",
          "target": "Champmathieu",
          "value": 3,
          "x": 513.2447211521715,
          "y": 304.3771522522206
         },
         {
          "edge": 29,
          "pair": [
           "Valjean",
           "Champmathieu"
          ],
          "source": "Valjean",
          "target": "Champmathieu",
          "value": 3,
          "x": 640.3603655643802,
          "y": 236.4322151480898
         },
         {
          "edge": 30,
          "pair": [
           "Valjean",
           "Brevet"
          ],
          "source": "Valjean",
          "target": "Brevet",
          "value": 2,
          "x": 513.2447211521715,
          "y": 304.3771522522206
         },
         {
          "edge": 30,
          "pair": [
           "Valjean",
           "Brevet"
          ],
          "source": "Valjean",
          "target": "Brevet",
          "value": 2,
          "x": 622.2208754298506,
          "y": 203.4748437016331
         },
         {
          "edge": 31,
          "pair": [
           "Valjean",
           "Chenildieu"
          ],
          "source": "Valjean",
          "target": "Chenildieu",
          "value": 2,
          "x": 513.2447211521715,
          "y": 304.3771522522206
         },
         {
          "edge": 31,
          "pair": [
           "Valjean",
           "Chenildieu"
          ],
          "source": "Valjean",
          "target": "Chenildieu",
          "value": 2,
          "x": 599.0484966579324,
          "y": 212.0113377616501
         },
         {
          "edge": 32,
          "pair": [
           "Valjean",
           "Cochepaille"
          ],
          "source": "Valjean",
          "target": "Cochepaille",
          "value": 2,
          "x": 513.2447211521715,
          "y": 304.3771522522206
         },
         {
          "edge": 32,
          "pair": [
           "Valjean",
           "Cochepaille"
          ],
          "source": "Valjean",
          "target": "Cochepaille",
          "value": 2,
          "x": 643.2184243133152,
          "y": 216.5132552773021
         },
         {
          "edge": 33,
          "pair": [
           "Valjean",
           "Woman2"
          ],
          "source": "Valjean",
          "target": "Woman2",
          "value": 3,
          "x": 513.2447211521715,
          "y": 304.3771522522206
         },
         {
          "edge": 33,
          "pair": [
           "Valjean",
           "Woman2"
          ],
          "source": "Valjean",
          "target": "Woman2",
          "value": 3,
          "x": 451.06650197949784,
          "y": 346.2051562581631
         },
         {
          "edge": 34,
          "pair": [
           "Valjean",
           "MotherInnocent"
          ],
          "source": "Valjean",
          "target": "MotherInnocent",
          "value": 1,
          "x": 513.2447211521715,
          "y": 304.3771522522206
         },
         {
          "edge": 34,
          "pair": [
           "Valjean",
           "MotherInnocent"
          ],
          "source": "Valjean",
          "target": "MotherInnocent",
          "value": 1,
          "x": 608.371159483517,
          "y": 316.7607175044708
         },
         {
          "edge": 35,
          "pair": [
           "Valjean",
           "Gavroche"
          ],
          "source": "Valjean",
          "target": "Gavroche",
          "value": 1,
          "x": 513.2447211521715,
          "y": 304.3771522522206
         },
         {
          "edge": 35,
          "pair": [
           "Valjean",
           "Gavroche"
          ],
          "source": "Valjean",
          "target": "Gavroche",
          "value": 1,
          "x": 320.3026984538368,
          "y": 206.55508063724218
         },
         {
          "edge": 36,
          "pair": [
           "Valjean",
           "Gillenormand"
          ],
          "source": "Valjean",
          "target": "Gillenormand",
          "value": 2,
          "x": 513.2447211521715,
          "y": 304.3771522522206
         },
         {
          "edge": 36,
          "pair": [
           "Valjean",
           "Gillenormand"
          ],
          "source": "Valjean",
          "target": "Gillenormand",
          "value": 2,
          "x": 345.9059697282103,
          "y": 372.3511698727096
         },
         {
          "edge": 37,
          "pair": [
           "Valjean",
           "MlleGillenormand"
          ],
          "source": "Valjean",
          "target": "MlleGillenormand",
          "value": 2,
          "x": 513.2447211521715,
          "y": 304.3771522522206
         },
         {
          "edge": 37,
          "pair": [
           "Valjean",
           "MlleGillenormand"
          ],
          "source": "Valjean",
          "target": "MlleGillenormand",
          "value": 2,
          "x": 338.43332853867446,
          "y": 401.06011905277023
         },
         {
          "edge": 38,
          "pair": [
           "Valjean",
           "Marius"
          ],
          "source": "Valjean",
          "target": "Marius",
          "value": 19,
          "x": 513.2447211521715,
          "y": 304.3771522522206
         },
         {
          "edge": 38,
          "pair": [
           "Valjean",
           "Marius"
          ],
          "source": "Valjean",
          "target": "Marius",
          "value": 19,
          "x": 290.60312103586926,
          "y": 319.1883281051754
         },
         {
          "edge": 39,
          "pair": [
           "Valjean",
           "Enjolras"
          ],
          "source": "Valjean",
          "target": "Enjolras",
          "value": 4,
          "x": 513.2447211521715,
          "y": 304.3771522522206
         },
         {
          "edge": 39,
          "pair": [
           "Valjean",
           "Enjolras"
          ],
          "source": "Valjean",
          "target": "Enjolras",
          "value": 4,
          "x": 282.5087953908546,
          "y": 254.49147527211466
         },
         {
          "edge": 40,
          "pair": [
           "Valjean",
           "Bossuet"
          ],
          "source": "Valjean",
          "target": "Bossuet",
          "value": 1,
          "x": 513.2447211521715,
          "y": 304.3771522522206
         },
         {
          "edge": 40,
          "pair": [
           "Valjean",
           "Bossuet"
          ],
          "source": "Valjean",
          "target": "Bossuet",
          "value": 1,
          "x": 237.01996101066644,
          "y": 258.3796836278097
         },
         {
          "edge": 41,
          "pair": [
           "Valjean",
           "Gueulemer"
          ],
          "source": "Valjean",
          "target": "Gueulemer",
          "value": 1,
          "x": 513.2447211521715,
          "y": 304.3771522522206
         },
         {
          "edge": 41,
          "pair": [
           "Valjean",
           "Gueulemer"
          ],
          "source": "Valjean",
          "target": "Gueulemer",
          "value": 1,
          "x": 435.8684321851509,
          "y": 261.0990200541632
         },
         {
          "edge": 42,
          "pair": [
           "Valjean",
           "Babet"
          ],
          "source": "Valjean",
          "target": "Babet",
          "value": 1,
          "x": 513.2447211521715,
          "y": 304.3771522522206
         },
         {
          "edge": 42,
          "pair": [
           "Valjean",
           "Babet"
          ],
          "source": "Valjean",
          "target": "Babet",
          "value": 1,
          "x": 408.4215921583651,
          "y": 257.0967812212034
         },
         {
          "edge": 43,
          "pair": [
           "Valjean",
           "Claquesous"
          ],
          "source": "Valjean",
          "target": "Claquesous",
          "value": 1,
          "x": 513.2447211521715,
          "y": 304.3771522522206
         },
         {
          "edge": 43,
          "pair": [
           "Valjean",
           "Claquesous"
          ],
          "source": "Valjean",
          "target": "Claquesous",
          "value": 1,
          "x": 404.95899265523497,
          "y": 280.6588632679255
         },
         {
          "edge": 44,
          "pair": [
           "Valjean",
           "Montparnasse"
          ],
          "source": "Valjean",
          "target": "Montparnasse",
          "value": 1,
          "x": 513.2447211521715,
          "y": 304.3771522522206
         },
         {
          "edge": 44,
          "pair": [
           "Valjean",
           "Montparnasse"
          ],
          "source": "Valjean",
          "target": "Montparnasse",
          "value": 1,
          "x": 436.16028335841776,
          "y": 234.67479361740487
         },
         {
          "edge": 45,
          "pair": [
           "Valjean",
           "Toussaint"
          ],
          "source": "Valjean",
          "target": "Toussaint",
          "value": 1,
          "x": 513.2447211521715,
          "y": 304.3771522522206
         },
         {
          "edge": 45,
          "pair": [
           "Valjean",
           "Toussaint"
          ],
          "source": "Valjean",
          "target": "Toussaint",
          "value": 1,
          "x": 468.9170561313838,
          "y": 349.95940881857047
         },
         {
          "edge": 46,
          "pair": [
           "Marguerite",
           "Fantine"
          ],
          "source": "Marguerite",
          "target": "Fantine",
          "value": 2,
          "x": 531.3542945840503,
          "y": 388.78143988398483
         },
         {
          "edge": 46,
          "pair": [
           "Marguerite",
           "Fantine"
          ],
          "source": "Marguerite",
          "target": "Fantine",
          "value": 2,
          "x": 477.6989749454395,
          "y": 433.6762205257538
         },
         {
          "edge": 47,
          "pair": [
           "Tholomyes",
           "Listolier"
          ],
          "source": "Tholomyes",
          "target": "Listolier",
          "value": 4,
          "x": 414.9527337530822,
          "y": 482.3235087138373
         },
         {
          "edge": 47,
          "pair": [
           "Tholomyes",
           "Listolier"
          ],
          "source": "Tholomyes",
          "target": "Listolier",
          "value": 4,
          "x": 465.7892476836673,
          "y": 540.7925853509496
         },
         {
          "edge": 48,
          "pair": [
           "Tholomyes",
           "Fameuil"
          ],
          "source": "Tholomyes",
          "target": "Fameuil",
          "value": 4,
          "x": 414.9527337530822,
          "y": 482.3235087138373
         },
         {
          "edge": 48,
          "pair": [
           "Tholomyes",
           "Fameuil"
          ],
          "source": "Tholomyes",
          "target": "Fameuil",
          "value": 4,
          "x": 468.57633536728827,
          "y": 509.4662638098721
         },
         {
          "edge": 49,
          "pair": [
           "Tholomyes",
           "Blacheville"
          ],
          "source": "Tholomyes",
          "target": "Blacheville",
          "value": 4,
          "x": 414.9527337530822,
          "y": 482.3235087138373
         },
         {
          "edge": 49,
          "pair": [
           "Tholomyes",
           "Blacheville"
          ],
          "source": "Tholomyes",
          "target": "Blacheville",
          "value": 4,
          "x": 443.7445656715609,
          "y": 516.5155673320799
         },
         {
          "edge": 50,
          "pair": [
           "Tholomyes",
           "Favourite"
          ],
          "source": "Tholomyes",
          "target": "Favourite",
          "value": 3,
          "x": 414.9527337530822,
          "y": 482.3235087138373
         },
         {
          "edge": 50,
          "pair": [
           "Tholomyes",
           "Favourite"
          ],
          "source": "Tholomyes",
          "target": "Favourite",
          "value": 3,
          "x": 438.7224241377239,
          "y": 542.6055270899576
         },
         {
          "edge": 51,
          "pair": [
           "Tholomyes",
           "Dahlia"
          ],
          "source": "Tholomyes",
          "target": "Dahlia",
          "value": 3,
          "x": 414.9527337530822,
          "y": 482.3235087138373
         },
         {
          "edge": 51,
          "pair": [
           "Tholomyes",
           "Dahlia"
          ],
          "source": "Tholomyes",
          "target": "Dahlia",
          "value": 3,
          "x": 419.9398568346019,
          "y": 526.6093729151498
         },
         {
          "edge": 52,
          "pair": [
           "Tholomyes",
           "Zephine"
          ],
          "source": "Tholomyes",
          "target": "Zephine",
          "value": 3,
          "x": 414.9527337530822,
          "y": 482.3235087138373
         },
         {
          "edge": 52,
          "pair": [
           "Tholomyes",
           "Zephine"
          ],
          "source": "Tholomyes",
          "target": "Zephine",
          "value": 3,
          "x": 484.7418044782502,
          "y": 525.9947031068991
         },
         {
          "edge": 53,
          "pair": [
           "Tholomyes",
           "Fantine"
          ],
          "source": "Tholomyes",
          "target": "Fantine",
          "value": 3,
          "x": 414.9527337530822,
          "y": 482.3235087138373
         },
         {
          "edge": 53,
          "pair": [
           "Tholomyes",
           "Fantine"
          ],
          "source": "Tholomyes",
          "target": "Fantine",
          "value": 3,
          "x": 477.6989749454395,
          "y": 433.6762205257538
         },
         {
          "edge": 54,
          "pair": [
           "Tholomyes",
           "Cosette"
          ],
          "source": "Tholomyes",
          "target": "Cosette",
          "value": 1,
          "x": 414.9527337530822,
          "y": 482.3235087138373
         },
         {
          "edge": 54,
          "pair": [
           "Tholomyes",
           "Cosette"
          ],
          "source": "Tholomyes",
          "target": "Cosette",
          "value": 1,
          "x": 400.0537025186286,
          "y": 370.2721508186721
         },
         {
          "edge": 55,
          "pair": [
           "Tholomyes",
           "Marius"
          ],
          "source": "Tholomyes",
          "target": "Marius",
          "value": 1,
          "x": 414.9527337530822,
          "y": 482.3235087138373
         },
         {
          "edge": 55,
          "pair": [
           "Tholomyes",
           "Marius"
          ],
          "source": "Tholomyes",
          "target": "Marius",
          "value": 1,
          "x": 290.60312103586926,
          "y": 319.1883281051754
         },
         {
          "edge": 56,
          "pair": [
           "Listolier",
           "Fameuil"
          ],
          "source": "Listolier",
          "target": "Fameuil",
          "value": 4,
          "x": 465.7892476836673,
          "y": 540.7925853509496
         },
         {
          "edge": 56,
          "pair": [
           "Listolier",
           "Fameuil"
          ],
          "source": "Listolier",
          "target": "Fameuil",
          "value": 4,
          "x": 468.57633536728827,
          "y": 509.4662638098721
         },
         {
          "edge": 57,
          "pair": [
           "Listolier",
           "Blacheville"
          ],
          "source": "Listolier",
          "target": "Blacheville",
          "value": 4,
          "x": 465.7892476836673,
          "y": 540.7925853509496
         },
         {
          "edge": 57,
          "pair": [
           "Listolier",
           "Blacheville"
          ],
          "source": "Listolier",
          "target": "Blacheville",
          "value": 4,
          "x": 443.7445656715609,
          "y": 516.5155673320799
         },
         {
          "edge": 58,
          "pair": [
           "Listolier",
           "Favourite"
          ],
          "source": "Listolier",
          "target": "Favourite",
          "value": 3,
          "x": 465.7892476836673,
          "y": 540.7925853509496
         },
         {
          "edge": 58,
          "pair": [
           "Listolier",
           "Favourite"
          ],
          "source": "Listolier",
          "target": "Favourite",
          "value": 3,
          "x": 438.7224241377239,
          "y": 542.6055270899576
         },
         {
          "edge": 59,
          "pair": [
           "Listolier",
           "Dahlia"
          ],
          "source": "Listolier",
          "target": "Dahlia",
          "value": 3,
          "x": 465.7892476836673,
          "y": 540.7925853509496
         },
         {
          "edge": 59,
          "pair": [
           "Listolier",
           "Dahlia"
          ],
          "source": "Listolier",
          "target": "Dahlia",
          "value": 3,
          "x": 419.9398568346019,
          "y": 526.6093729151498
         },
         {
          "edge": 60,
          "pair": [
           "Listolier",
           "Zephine"
          ],
          "source": "Listolier",
          "target": "Zephine",
          "value": 3,
          "x": 465.7892476836673,
          "y": 540.7925853509496
         },
         {
          "edge": 60,
          "pair": [
           "Listolier",
           "Zephine"
          ],
          "source": "Listolier",
          "target": "Zephine",
          "value": 3,
          "x": 484.7418044782502,
          "y": 525.9947031068991
         },
         {
          "edge": 61,
          "pair": [
           "Listolier",
           "Fantine"
          ],
          "source": "Listolier",
          "target": "Fantine",
          "value": 3,
          "x": 465.7892476836673,
          "y": 540.7925853509496
         },
         {
          "edge": 61,
          "pair": [
           "Listolier",
           "Fantine"
          ],
          "source": "Listolier",
          "target": "Fantine",
          "value": 3,
          "x": 477.6989749454395,
          "y": 433.6762205257538
         },
         {
          "edge": 62,
          "pair": [
           "Fameuil",
           "Blacheville"
          ],
          "source": "Fameuil",
          "target": "Blacheville",
          "value": 4,
          "x": 468.57633536728827,
          "y": 509.4662638098721
         },
         {
          "edge": 62,
          "pair": [
           "Fameuil",
           "Blacheville"
          ],
          "source": "Fameuil",
          "target": "Blacheville",
          "value": 4,
          "x": 443.7445656715609,
          "y": 516.5155673320799
         },
         {
          "edge": 63,
          "pair": [
           "Fameuil",
           "Favourite"
          ],
          "source": "Fameuil",
          "target": "Favourite",
          "value": 3,
          "x": 468.57633536728827,
          "y": 509.4662638098721
         },
         {
          "edge": 63,
          "pair": [
           "Fameuil",
           "Favourite"
          ],
          "source": "Fameuil",
          "target": "Favourite",
          "value": 3,
          "x": 438.7224241377239,
          "y": 542.6055270899576
         },
         {
          "edge": 64,
          "pair": [
           "Fameuil",
           "Dahlia"
          ],
          "source": "Fameuil",
          "target": "Dahlia",
          "value": 3,
          "x": 468.57633536728827,
          "y": 509.4662638098721
         },
         {
          "edge": 64,
          "pair": [
           "Fameuil",
           "Dahlia"
          ],
          "source": "Fameuil",
          "target": "Dahlia",
          "value": 3,
          "x": 419.9398568346019,
          "y": 526.6093729151498
         },
         {
          "edge": 65,
          "pair": [
           "Fameuil",
           "Zephine"
          ],
          "source": "Fameuil",
          "target": "Zephine",
          "value": 3,
          "x": 468.57633536728827,
          "y": 509.4662638098721
         },
         {
          "edge": 65,
          "pair": [
           "Fameuil",
           "Zephine"
          ],
          "source": "Fameuil",
          "target": "Zephine",
          "value": 3,
          "x": 484.7418044782502,
          "y": 525.9947031068991
         },
         {
          "edge": 66,
          "pair": [
           "Fameuil",
           "Fantine"
          ],
          "source": "Fameuil",
          "target": "Fantine",
          "value": 3,
          "x": 468.57633536728827,
          "y": 509.4662638098721
         },
         {
          "edge": 66,
          "pair": [
           "Fameuil",
           "Fantine"
          ],
          "source": "Fameuil",
          "target": "Fantine",
          "value": 3,
          "x": 477.6989749454395,
          "y": 433.6762205257538
         },
         {
          "edge": 67,
          "pair": [
           "Blacheville",
           "Favourite"
          ],
          "source": "Blacheville",
          "target": "Favourite",
          "value": 4,
          "x": 443.7445656715609,
          "y": 516.5155673320799
         },
         {
          "edge": 67,
          "pair": [
           "Blacheville",
           "Favourite"
          ],
          "source": "Blacheville",
          "target": "Favourite",
          "value": 4,
          "x": 438.7224241377239,
          "y": 542.6055270899576
         },
         {
          "edge": 68,
          "pair": [
           "Blacheville",
           "Dahlia"
          ],
          "source": "Blacheville",
          "target": "Dahlia",
          "value": 3,
          "x": 443.7445656715609,
          "y": 516.5155673320799
         },
         {
          "edge": 68,
          "pair": [
           "Blacheville",
           "Dahlia"
          ],
          "source": "Blacheville",
          "target": "Dahlia",
          "value": 3,
          "x": 419.9398568346019,
          "y": 526.6093729151498
         },
         {
          "edge": 69,
          "pair": [
           "Blacheville",
           "Zephine"
          ],
          "source": "Blacheville",
          "target": "Zephine",
          "value": 3,
          "x": 443.7445656715609,
          "y": 516.5155673320799
         },
         {
          "edge": 69,
          "pair": [
           "Blacheville",
           "Zephine"
          ],
          "source": "Blacheville",
          "target": "Zephine",
          "value": 3,
          "x": 484.7418044782502,
          "y": 525.9947031068991
         },
         {
          "edge": 70,
          "pair": [
           "Blacheville",
           "Fantine"
          ],
          "source": "Blacheville",
          "target": "Fantine",
          "value": 3,
          "x": 443.7445656715609,
          "y": 516.5155673320799
         },
         {
          "edge": 70,
          "pair": [
           "Blacheville",
           "Fantine"
          ],
          "source": "Blacheville",
          "target": "Fantine",
          "value": 3,
          "x": 477.6989749454395,
          "y": 433.6762205257538
         },
         {
          "edge": 71,
          "pair": [
           "Favourite",
           "Dahlia"
          ],
          "source": "Favourite",
          "target": "Dahlia",
          "value": 5,
          "x": 438.7224241377239,
          "y": 542.6055270899576
         },
         {
          "edge": 71,
          "pair": [
           "Favourite",
           "Dahlia"
          ],
          "source": "Favourite",
          "target": "Dahlia",
          "value": 5,
          "x": 419.9398568346019,
          "y": 526.6093729151498
         },
         {
          "edge": 72,
          "pair": [
           "Favourite",
           "Zephine"
          ],
          "source": "Favourite",
          "target": "Zephine",
          "value": 4,
          "x": 438.7224241377239,
          "y": 542.6055270899576
         },
         {
          "edge": 72,
          "pair": [
           "Favourite",
           "Zephine"
          ],
          "source": "Favourite",
          "target": "Zephine",
          "value": 4,
          "x": 484.7418044782502,
          "y": 525.9947031068991
         },
         {
          "edge": 73,
          "pair": [
           "Favourite",
           "Fantine"
          ],
          "source": "Favourite",
          "target": "Fantine",
          "value": 4,
          "x": 438.7224241377239,
          "y": 542.6055270899576
         },
         {
          "edge": 73,
          "pair": [
           "Favourite",
           "Fantine"
          ],
          "source": "Favourite",
          "target": "Fantine",
          "value": 4,
          "x": 477.6989749454395,
          "y": 433.6762205257538
         },
         {
          "edge": 74,
          "pair": [
           "Dahlia",
           "Zephine"
          ],
          "source": "Dahlia",
          "target": "Zephine",
          "value": 4,
          "x": 419.9398568346019,
          "y": 526.6093729151498
         },
         {
          "edge": 74,
          "pair": [
           "Dahlia",
           "Zephine"
          ],
          "source": "Dahlia",
          "target": "Zephine",
          "value": 4,
          "x": 484.7418044782502,
          "y": 525.9947031068991
         },
         {
          "edge": 75,
          "pair": [
           "Dahlia",
           "Fantine"
          ],
          "source": "Dahlia",
          "target": "Fantine",
          "value": 4,
          "x": 419.9398568346019,
          "y": 526.6093729151498
         },
         {
          "edge": 75,
          "pair": [
           "Dahlia",
           "Fantine"
          ],
          "source": "Dahlia",
          "target": "Fantine",
          "value": 4,
          "x": 477.6989749454395,
          "y": 433.6762205257538
         },
         {
          "edge": 76,
          "pair": [
           "Zephine",
           "Fantine"
          ],
          "source": "Zephine",
          "target": "Fantine",
          "value": 4,
          "x": 484.7418044782502,
          "y": 525.9947031068991
         },
         {
          "edge": 76,
          "pair": [
           "Zephine",
           "Fantine"
          ],
          "source": "Zephine",
          "target": "Fantine",
          "value": 4,
          "x": 477.6989749454395,
          "y": 433.6762205257538
         },
         {
          "edge": 77,
          "pair": [
           "Fantine",
           "MmeThenardier"
          ],
          "source": "Fantine",
          "target": "MmeThenardier",
          "value": 2,
          "x": 477.6989749454395,
          "y": 433.6762205257538
         },
         {
          "edge": 77,
          "pair": [
           "Fantine",
           "MmeThenardier"
          ],
          "source": "Fantine",
          "target": "MmeThenardier",
          "value": 2,
          "x": 408.66967773947414,
          "y": 324.1039722246319
         },
         {
          "edge": 78,
          "pair": [
           "Fantine",
           "Thenardier"
          ],
          "source": "Fantine",
          "target": "Thenardier",
          "value": 1,
          "x": 477.6989749454395,
          "y": 433.6762205257538
         },
         {
          "edge": 78,
          "pair": [
           "Fantine",
           "Thenardier"
          ],
          "source": "Fantine",
          "target": "Thenardier",
          "value": 1,
          "x": 400.0462989140733,
          "y": 299.9675774023077
         },
         {
          "edge": 79,
          "pair": [
           "Fantine",
           "Javert"
          ],
          "source": "Fantine",
          "target": "Javert",
          "value": 5,
          "x": 477.6989749454395,
          "y": 433.6762205257538
         },
         {
          "edge": 79,
          "pair": [
           "Fantine",
           "Javert"
          ],
          "source": "Fantine",
          "target": "Javert",
          "value": 5,
          "x": 446.78068635954725,
          "y": 305.1613219258526
         },
         {
          "edge": 80,
          "pair": [
           "Fantine",
           "Bamatabois"
          ],
          "source": "Fantine",
          "target": "Bamatabois",
          "value": 1,
          "x": 477.6989749454395,
          "y": 433.6762205257538
         },
         {
          "edge": 80,
          "pair": [
           "Fantine",
           "Bamatabois"
          ],
          "source": "Fantine",
          "target": "Bamatabois",
          "value": 1,
          "x": 588.4312188047585,
          "y": 257.4254660062134
         },
         {
          "edge": 81,
          "pair": [
           "Fantine",
           "Perpetue"
          ],
          "source": "Fantine",
          "target": "Perpetue",
          "value": 1,
          "x": 477.6989749454395,
          "y": 433.6762205257538
         },
         {
          "edge": 81,
          "pair": [
           "Fantine",
           "Perpetue"
          ],
          "source": "Fantine",
          "target": "Perpetue",
          "value": 1,
          "x": 527.9981470097815,
          "y": 426.40137804455804
         },
         {
          "edge": 82,
          "pair": [
           "Fantine",
           "Simplice"
          ],
          "source": "Fantine",
          "target": "Simplice",
          "value": 2,
          "x": 477.6989749454395,
          "y": 433.6762205257538
         },
         {
          "edge": 82,
          "pair": [
           "Fantine",
           "Simplice"
          ],
          "source": "Fantine",
          "target": "Simplice",
          "value": 2,
          "x": 505.57064256370023,
          "y": 382.27583015865554
         },
         {
          "edge": 83,
          "pair": [
           "MmeThenardier",
           "Thenardier"
          ],
          "source": "MmeThenardier",
          "target": "Thenardier",
          "value": 13,
          "x": 408.66967773947414,
          "y": 324.1039722246319
         },
         {
          "edge": 83,
          "pair": [
           "MmeThenardier",
           "Thenardier"
          ],
          "source": "MmeThenardier",
          "target": "Thenardier",
          "value": 13,
          "x": 400.0462989140733,
          "y": 299.9675774023077
         },
         {
          "edge": 84,
          "pair": [
           "MmeThenardier",
           "Cosette"
          ],
          "source": "MmeThenardier",
          "target": "Cosette",
          "value": 4,
          "x": 408.66967773947414,
          "y": 324.1039722246319
         },
         {
          "edge": 84,
          "pair": [
           "MmeThenardier",
           "Cosette"
          ],
          "source": "MmeThenardier",
          "target": "Cosette",
          "value": 4,
          "x": 400.0537025186286,
          "y": 370.2721508186721
         },
         {
          "edge": 85,
          "pair": [
           "MmeThenardier",
           "Javert"
          ],
          "source": "MmeThenardier",
          "target": "Javert",
          "value": 1,
          "x": 408.66967773947414,
          "y": 324.1039722246319
         },
         {
          "edge": 85,
          "pair": [
           "MmeThenardier",
           "Javert"
          ],
          "source": "MmeThenardier",
          "target": "Javert",
          "value": 1,
          "x": 446.78068635954725,
          "y": 305.1613219258526
         },
         {
          "edge": 86,
          "pair": [
           "MmeThenardier",
           "Eponine"
          ],
          "source": "MmeThenardier",
          "target": "Eponine",
          "value": 2,
          "x": 408.66967773947414,
          "y": 324.1039722246319
         },
         {
          "edge": 86,
          "pair": [
           "MmeThenardier",
           "Eponine"
          ],
          "source": "MmeThenardier",
          "target": "Eponine",
          "value": 2,
          "x": 362.83176072822414,
          "y": 269.4583739797823
         },
         {
          "edge": 87,
          "pair": [
           "MmeThenardier",
           "Anzelma"
          ],
          "source": "MmeThenardier",
          "target": "Anzelma",
          "value": 1,
          "x": 408.66967773947414,
          "y": 324.1039722246319
         },
         {
          "edge": 87,
          "pair": [
           "MmeThenardier",
           "Anzelma"
          ],
          "source": "MmeThenardier",
          "target": "Anzelma",
          "value": 1,
          "x": 374.0865446319385,
          "y": 306.8119470846386
         },
         {
          "edge": 88,
          "pair": [
           "MmeThenardier",
           "Magnon"
          ],
          "source": "MmeThenardier",
          "target": "Magnon",
          "value": 1,
          "x": 408.66967773947414,
          "y": 324.1039722246319
         },
         {
          "edge": 88,
          "pair": [
           "MmeThenardier",
           "Magnon"
          ],
          "source": "MmeThenardier",
          "target": "Magnon",
          "value": 1,
          "x": 367.20941651331395,
          "y": 355.4742028708529
         },
         {
          "edge": 89,
          "pair": [
           "MmeThenardier",
           "Gueulemer"
          ],
          "source": "MmeThenardier",
          "target": "Gueulemer",
          "value": 1,
          "x": 408.66967773947414,
          "y": 324.1039722246319
         },
         {
          "edge": 89,
          "pair": [
           "MmeThenardier",
           "Gueulemer"
          ],
          "source": "MmeThenardier",
          "target": "Gueulemer",
          "value": 1,
          "x": 435.8684321851509,
          "y": 261.0990200541632
         },
         {
          "edge": 90,
          "pair": [
           "MmeThenardier",
           "Babet"
          ],
          "source": "MmeThenardier",
          "target": "Babet",
          "value": 1,
          "x": 408.66967773947414,
          "y": 324.1039722246319
         },
         {
          "edge": 90,
          "pair": [
           "MmeThenardier",
           "Babet"
          ],
          "source": "MmeThenardier",
          "target": "Babet",
          "value": 1,
          "x": 408.4215921583651,
          "y": 257.0967812212034
         },
         {
          "edge": 91,
          "pair": [
           "MmeThenardier",
           "Claquesous"
          ],
          "source": "MmeThenardier",
          "target": "Claquesous",
          "value": 1,
          "x": 408.66967773947414,
          "y": 324.1039722246319
         },
         {
          "edge": 91,
          "pair": [
           "MmeThenardier",
           "Claquesous"
          ],
          "source": "MmeThenardier",
          "target": "Claquesous",
          "value": 1,
          "x": 404.95899265523497,
          "y": 280.6588632679255
         },
         {
          "edge": 92,
          "pair": [
           "Thenardier",
           "Cosette"
          ],
          "source": "Thenardier",
          "target": "Cosette",
          "value": 1,
          "x": 400.0462989140733,
          "y": 299.9675774023077
         },
         {
          "edge": 92,
          "pair": [
           "Thenardier",
           "Cosette"
          ],
          "source": "Thenardier",
          "target": "Cosette",
          "value": 1,
          "x": 400.0537025186286,
          "y": 370.2721508186721
         },
         {
          "edge": 93,
          "pair": [
           "Thenardier",
           "Javert"
          ],
          "source": "Thenardier",
          "target": "Javert",
          "value": 5,
          "x": 400.0462989140733,
          "y": 299.9675774023077
         },
         {
          "edge": 93,
          "pair": [
           "Thenardier",
           "Javert"
          ],
          "source": "Thenardier",
          "target": "Javert",
          "value": 5,
          "x": 446.78068635954725,
          "y": 305.1613219258526
         },
         {
          "edge": 94,
          "pair": [
           "Thenardier",
           "Pontmercy"
          ],
          "source": "Thenardier",
          "target": "Pontmercy",
          "value": 1,
          "x": 400.0462989140733,
          "y": 299.9675774023077
         },
         {
          "edge": 94,
          "pair": [
           "Thenardier",
           "Pontmercy"
          ],
          "source": "Thenardier",
          "target": "Pontmercy",
          "value": 1,
          "x": 295.842708286816,
          "y": 364.30131819316745
         },
         {
          "edge": 95,
          "pair": [
           "Thenardier",
           "Boulatruelle"
          ],
          "source": "Thenardier",
          "target": "Boulatruelle",
          "value": 1,
          "x": 400.0462989140733,
          "y": 299.9675774023077
         },
         {
          "edge": 95,
          "pair": [
           "Thenardier",
           "Boulatruelle"
          ],
          "source": "Thenardier",
          "target": "Boulatruelle",
          "value": 1,
          "x": 374.2681961892687,
          "y": 321.37100090309144
         },
         {
          "edge": 96,
          "pair": [
           "Thenardier",
           "Eponine"
          ],
          "source": "Thenardier",
          "target": "Eponine",
          "value": 3,
          "x": 400.0462989140733,
          "y": 299.9675774023077
         },
         {
          "edge": 96,
          "pair": [
           "Thenardier",
           "Eponine"
          ],
          "source": "Thenardier",
          "target": "Eponine",
          "value": 3,
          "x": 362.83176072822414,
          "y": 269.4583739797823
         },
         {
          "edge": 97,
          "pair": [
           "Thenardier",
           "Anzelma"
          ],
          "source": "Thenardier",
          "target": "Anzelma",
          "value": 2,
          "x": 400.0462989140733,
          "y": 299.9675774023077
         },
         {
          "edge": 97,
          "pair": [
           "Thenardier",
           "Anzelma"
          ],
          "source": "Thenardier",
          "target": "Anzelma",
          "value": 2,
          "x": 374.0865446319385,
          "y": 306.8119470846386
         },
         {
          "edge": 98,
          "pair": [
           "Thenardier",
           "Gavroche"
          ],
          "source": "Thenardier",
          "target": "Gavroche",
          "value": 1,
          "x": 400.0462989140733,
          "y": 299.9675774023077
         },
         {
          "edge": 98,
          "pair": [
           "Thenardier",
           "Gavroche"
          ],
          "source": "Thenardier",
          "target": "Gavroche",
          "value": 1,
          "x": 320.3026984538368,
          "y": 206.55508063724218
         },
         {
          "edge": 99,
          "pair": [
           "Thenardier",
           "Marius"
          ],
          "source": "Thenardier",
          "target": "Marius",
          "value": 2,
          "x": 400.0462989140733,
          "y": 299.9675774023077
         },
         {
          "edge": 99,
          "pair": [
           "Thenardier",
           "Marius"
          ],
          "source": "Thenardier",
          "target": "Marius",
          "value": 2,
          "x": 290.60312103586926,
          "y": 319.1883281051754
         },
         {
          "edge": 100,
          "pair": [
           "Thenardier",
           "Gueulemer"
          ],
          "source": "Thenardier",
          "target": "Gueulemer",
          "value": 5,
          "x": 400.0462989140733,
          "y": 299.9675774023077
         },
         {
          "edge": 100,
          "pair": [
           "Thenardier",
           "Gueulemer"
          ],
          "source": "Thenardier",
          "target": "Gueulemer",
          "value": 5,
          "x": 435.8684321851509,
          "y": 261.0990200541632
         },
         {
          "edge": 101,
          "pair": [
           "Thenardier",
           "Babet"
          ],
          "source": "Thenardier",
          "target": "Babet",
          "value": 6,
          "x": 400.0462989140733,
          "y": 299.9675774023077
         },
         {
          "edge": 101,
          "pair": [
           "Thenardier",
           "Babet"
          ],
          "source": "Thenardier",
          "target": "Babet",
          "value": 6,
          "x": 408.4215921583651,
          "y": 257.0967812212034
         },
         {
          "edge": 102,
          "pair": [
           "Thenardier",
           "Claquesous"
          ],
          "source": "Thenardier",
          "target": "Claquesous",
          "value": 4,
          "x": 400.0462989140733,
          "y": 299.9675774023077
         },
         {
          "edge": 102,
          "pair": [
           "Thenardier",
           "Claquesous"
          ],
          "source": "Thenardier",
          "target": "Claquesous",
          "value": 4,
          "x": 404.95899265523497,
          "y": 280.6588632679255
         },
         {
          "edge": 103,
          "pair": [
           "Thenardier",
           "Montparnasse"
          ],
          "source": "Thenardier",
          "target": "Montparnasse",
          "value": 1,
          "x": 400.0462989140733,
          "y": 299.9675774023077
         },
         {
          "edge": 103,
          "pair": [
           "Thenardier",
           "Montparnasse"
          ],
          "source": "Thenardier",
          "target": "Montparnasse",
          "value": 1,
          "x": 436.16028335841776,
          "y": 234.67479361740487
         },
         {
          "edge": 104,
          "pair": [
           "Thenardier",
           "Brujon"
          ],
          "source": "Thenardier",
          "target": "Brujon",
          "value": 3,
          "x": 400.0462989140733,
          "y": 299.9675774023077
         },
         {
          "edge": 104,
          "pair": [
           "Thenardier",
           "Brujon"
          ],
          "source": "Thenardier",
          "target": "Brujon",
          "value": 3,
          "x": 401.2456296628934,
          "y": 225.7937278864368
         },
         {
          "edge": 105,
          "pair": [
           "Cosette",
           "Javert"
          ],
          "source": "Cosette",
          "target": "Javert",
          "value": 1,
          "x": 400.0537025186286,
          "y": 370.2721508186721
         },
         {
          "edge": 105,
          "pair": [
           "Cosette",
           "Javert"
          ],
          "source": "Cosette",
          "target": "Javert",
          "value": 1,
          "x": 446.78068635954725,
          "y": 305.1613219258526
         },
         {
          "edge": 106,
          "pair": [
           "Cosette",
           "Woman2"
          ],
          "source": "Cosette",
          "target": "Woman2",
          "value": 1,
          "x": 400.0537025186286,
          "y": 370.2721508186721
         },
         {
          "edge": 106,
          "pair": [
           "Cosette",
           "Woman2"
          ],
          "source": "Cosette",
          "target": "Woman2",
          "value": 1,
          "x": 451.06650197949784,
          "y": 346.2051562581631
         },
         {
          "edge": 107,
          "pair": [
           "Cosette",
           "Gillenormand"
          ],
          "source": "Cosette",
          "target": "Gillenormand",
          "value": 3,
          "x": 400.0537025186286,
          "y": 370.2721508186721
         },
         {
          "edge": 107,
          "pair": [
           "Cosette",
           "Gillenormand"
          ],
          "source": "Cosette",
          "target": "Gillenormand",
          "value": 3,
          "x": 345.9059697282103,
          "y": 372.3511698727096
         },
         {
          "edge": 108,
          "pair": [
           "Cosette",
           "MlleGillenormand"
          ],
          "source": "Cosette",
          "target": "MlleGillenormand",
          "value": 2,
          "x": 400.0537025186286,
          "y": 370.2721508186721
         },
         {
          "edge": 108,
          "pair": [
           "Cosette",
           "MlleGillenormand"
          ],
          "source": "Cosette",
          "target": "MlleGillenormand",
          "value": 2,
          "x": 338.43332853867446,
          "y": 401.06011905277023
         },
         {
          "edge": 109,
          "pair": [
           "Cosette",
           "LtGillenormand"
          ],
          "source": "Cosette",
          "target": "LtGillenormand",
          "value": 1,
          "x": 400.0537025186286,
          "y": 370.2721508186721
         },
         {
          "edge": 109,
          "pair": [
           "Cosette",
           "LtGillenormand"
          ],
          "source": "Cosette",
          "target": "LtGillenormand",
          "value": 1,
          "x": 313.4053495395557,
          "y": 388.92468904197085
         },
         {
          "edge": 110,
          "pair": [
           "Cosette",
           "Marius"
          ],
          "source": "Cosette",
          "target": "Marius",
          "value": 21,
          "x": 400.0537025186286,
          "y": 370.2721508186721
         },
         {
          "edge": 110,
          "pair": [
           "Cosette",
           "Marius"
          ],
          "source": "Cosette",
          "target": "Marius",
          "value": 21,
          "x": 290.60312103586926,
          "y": 319.1883281051754
         },
         {
          "edge": 111,
          "pair": [
           "Cosette",
           "Toussaint"
          ],
          "source": "Cosette",
          "target": "Toussaint",
          "value": 2,
          "x": 400.0537025186286,
          "y": 370.2721508186721
         },
         {
          "edge": 111,
          "pair": [
           "Cosette",
           "Toussaint"
          ],
          "source": "Cosette",
          "target": "Toussaint",
          "value": 2,
          "x": 468.9170561313838,
          "y": 349.95940881857047
         },
         {
          "edge": 112,
          "pair": [
           "Javert",
           "Fauchelevent"
          ],
          "source": "Javert",
          "target": "Fauchelevent",
          "value": 1,
          "x": 446.78068635954725,
          "y": 305.1613219258526
         },
         {
          "edge": 112,
          "pair": [
           "Javert",
           "Fauchelevent"
          ],
          "source": "Javert",
          "target": "Fauchelevent",
          "value": 1,
          "x": 594.6619004731333,
          "y": 305.61225944978025
         },
         {
          "edge": 113,
          "pair": [
           "Javert",
           "Bamatabois"
          ],
          "source": "Javert",
          "target": "Bamatabois",
          "value": 1,
          "x": 446.78068635954725,
          "y": 305.1613219258526
         },
         {
          "edge": 113,
          "pair": [
           "Javert",
           "Bamatabois"
          ],
          "source": "Javert",
          "target": "Bamatabois",
          "value": 1,
          "x": 588.4312188047585,
          "y": 257.4254660062134
         },
         {
          "edge": 114,
          "pair": [
           "Javert",
           "Simplice"
          ],
          "source": "Javert",
          "target": "Simplice",
          "value": 1,
          "x": 446.78068635954725,
          "y": 305.1613219258526
         },
         {
          "edge": 114,
          "pair": [
           "Javert",
           "Simplice"
          ],
          "source": "Javert",
          "target": "Simplice",
          "value": 1,
          "x": 505.57064256370023,
          "y": 382.27583015865554
         },
         {
          "edge": 115,
          "pair": [
           "Javert",
           "Woman1"
          ],
          "source": "Javert",
          "target": "Woman1",
          "value": 1,
          "x": 446.78068635954725,
          "y": 305.1613219258526
         },
         {
          "edge": 115,
          "pair": [
           "Javert",
           "Woman1"
          ],
          "source": "Javert",
          "target": "Woman1",
          "value": 1,
          "x": 499.8837509002197,
          "y": 266.46226330157475
         },
         {
          "edge": 116,
          "pair": [
           "Javert",
           "Woman2"
          ],
          "source": "Javert",
          "target": "Woman2",
          "value": 1,
          "x": 446.78068635954725,
          "y": 305.1613219258526
         },
         {
          "edge": 116,
          "pair": [
           "Javert",
           "Woman2"
          ],
          "source": "Javert",
          "target": "Woman2",
          "value": 1,
          "x": 451.06650197949784,
          "y": 346.2051562581631
         },
         {
          "edge": 117,
          "pair": [
           "Javert",
           "Gavroche"
          ],
          "source": "Javert",
          "target": "Gavroche",
          "value": 1,
          "x": 446.78068635954725,
          "y": 305.1613219258526
         },
         {
          "edge": 117,
          "pair": [
           "Javert",
           "Gavroche"
          ],
          "source": "Javert",
          "target": "Gavroche",
          "value": 1,
          "x": 320.3026984538368,
          "y": 206.55508063724218
         },
         {
          "edge": 118,
          "pair": [
           "Javert",
           "Enjolras"
          ],
          "source": "Javert",
          "target": "Enjolras",
          "value": 6,
          "x": 446.78068635954725,
          "y": 305.1613219258526
         },
         {
          "edge": 118,
          "pair": [
           "Javert",
           "Enjolras"
          ],
          "source": "Javert",
          "target": "Enjolras",
          "value": 6,
          "x": 282.5087953908546,
          "y": 254.49147527211466
         },
         {
          "edge": 119,
          "pair": [
           "Javert",
           "Gueulemer"
          ],
          "source": "Javert",
          "target": "Gueulemer",
          "value": 1,
          "x": 446.78068635954725,
          "y": 305.1613219258526
         },
         {
          "edge": 119,
          "pair": [
           "Javert",
           "Gueulemer"
          ],
          "source": "Javert",
          "target": "Gueulemer",
          "value": 1,
          "x": 435.8684321851509,
          "y": 261.0990200541632
         },
         {
          "edge": 120,
          "pair": [
           "Javert",
           "Babet"
          ],
          "source": "Javert",
          "target": "Babet",
          "value": 2,
          "x": 446.78068635954725,
          "y": 305.1613219258526
         },
         {
          "edge": 120,
          "pair": [
           "Javert",
           "Babet"
          ],
          "source": "Javert",
          "target": "Babet",
          "value": 2,
          "x": 408.4215921583651,
          "y": 257.0967812212034
         },
         {
          "edge": 121,
          "pair": [
           "Javert",
           "Claquesous"
          ],
          "source": "Javert",
          "target": "Claquesous",
          "value": 1,
          "x": 446.78068635954725,
          "y": 305.1613219258526
         },
         {
          "edge": 121,
          "pair": [
           "Javert",
           "Claquesous"
          ],
          "source": "Javert",
          "target": "Claquesous",
          "value": 1,
          "x": 404.95899265523497,
          "y": 280.6588632679255
         },
         {
          "edge": 122,
          "pair": [
           "Javert",
           "Montparnasse"
          ],
          "source": "Javert",
          "target": "Montparnasse",
          "value": 1,
          "x": 446.78068635954725,
          "y": 305.1613219258526
         },
         {
          "edge": 122,
          "pair": [
           "Javert",
           "Montparnasse"
          ],
          "source": "Javert",
          "target": "Montparnasse",
          "value": 1,
          "x": 436.16028335841776,
          "y": 234.67479361740487
         },
         {
          "edge": 123,
          "pair": [
           "Javert",
           "Toussaint"
          ],
          "source": "Javert",
          "target": "Toussaint",
          "value": 1,
          "x": 446.78068635954725,
          "y": 305.1613219258526
         },
         {
          "edge": 123,
          "pair": [
           "Javert",
           "Toussaint"
          ],
          "source": "Javert",
          "target": "Toussaint",
          "value": 1,
          "x": 468.9170561313838,
          "y": 349.95940881857047
         },
         {
          "edge": 124,
          "pair": [
           "Fauchelevent",
           "MotherInnocent"
          ],
          "source": "Fauchelevent",
          "target": "MotherInnocent",
          "value": 3,
          "x": 594.6619004731333,
          "y": 305.61225944978025
         },
         {
          "edge": 124,
          "pair": [
           "Fauchelevent",
           "MotherInnocent"
          ],
          "source": "Fauchelevent",
          "target": "MotherInnocent",
          "value": 3,
          "x": 608.371159483517,
          "y": 316.7607175044708
         },
         {
          "edge": 125,
          "pair": [
           "Fauchelevent",
           "Gribier"
          ],
          "source": "Fauchelevent",
          "target": "Gribier",
          "value": 2,
          "x": 594.6619004731333,
          "y": 305.61225944978025
         },
         {
          "edge": 125,
          "pair": [
           "Fauchelevent",
           "Gribier"
          ],
          "source": "Fauchelevent",
          "target": "Gribier",
          "value": 2,
          "x": 657.5544314650838,
          "y": 300.5350174200118
         },
         {
          "edge": 126,
          "pair": [
           "Bamatabois",
           "Judge"
          ],
          "source": "Bamatabois",
          "target": "Judge",
          "value": 2,
          "x": 588.4312188047585,
          "y": 257.4254660062134
         },
         {
          "edge": 126,
          "pair": [
           "Bamatabois",
           "Judge"
          ],
          "source": "Bamatabois",
          "target": "Judge",
          "value": 2,
          "x": 615.7472828489954,
          "y": 228.0295501574256
         },
         {
          "edge": 127,
          "pair": [
           "Bamatabois",
           "Champmathieu"
          ],
          "source": "Bamatabois",
          "target": "Champmathieu",
          "value": 2,
          "x": 588.4312188047585,
          "y": 257.4254660062134
         },
         {
          "edge": 127,
          "pair": [
           "Bamatabois",
           "Champmathieu"
          ],
          "source": "Bamatabois",
          "target": "Champmathieu",
          "value": 2,
          "x": 640.3603655643802,
          "y": 236.4322151480898
         },
         {
          "edge": 128,
          "pair": [
           "Bamatabois",
           "Brevet"
          ],
          "source": "Bamatabois",
          "target": "Brevet",
          "value": 1,
          "x": 588.4312188047585,
          "y": 257.4254660062134
         },
         {
          "edge": 128,
          "pair": [
           "Bamatabois",
           "Brevet"
          ],
          "source": "Bamatabois",
          "target": "Brevet",
          "value": 1,
          "x": 622.2208754298506,
          "y": 203.4748437016331
         },
         {
          "edge": 129,
          "pair": [
           "Bamatabois",
           "Chenildieu"
          ],
          "source": "Bamatabois",
          "target": "Chenildieu",
          "value": 1,
          "x": 588.4312188047585,
          "y": 257.4254660062134
         },
         {
          "edge": 129,
          "pair": [
           "Bamatabois",
           "Chenildieu"
          ],
          "source": "Bamatabois",
          "target": "Chenildieu",
          "value": 1,
          "x": 599.0484966579324,
          "y": 212.0113377616501
         },
         {
          "edge": 130,
          "pair": [
           "Bamatabois",
           "Cochepaille"
          ],
          "source": "Bamatabois",
          "target": "Cochepaille",
          "value": 1,
          "x": 588.4312188047585,
          "y": 257.4254660062134
         },
         {
          "edge": 130,
          "pair": [
           "Bamatabois",
           "Cochepaille"
          ],
          "source": "Bamatabois",
          "target": "Cochepaille",
          "value": 1,
          "x": 643.2184243133152,
          "y": 216.5132552773021
         },
         {
          "edge": 131,
          "pair": [
           "Perpetue",
           "Simplice"
          ],
          "source": "Perpetue",
          "target": "Simplice",
          "value": 2,
          "x": 527.9981470097815,
          "y": 426.40137804455804
         },
         {
          "edge": 131,
          "pair": [
           "Perpetue",
           "Simplice"
          ],
          "source": "Perpetue",
          "target": "Simplice",
          "value": 2,
          "x": 505.57064256370023,
          "y": 382.27583015865554
         },
         {
          "edge": 132,
          "pair": [
           "Judge",
           "Champmathieu"
          ],
          "source": "Judge",
          "target": "Champmathieu",
          "value": 3,
          "x": 615.7472828489954,
          "y": 228.0295501574256
         },
         {
          "edge": 132,
          "pair": [
           "Judge",
           "Champmathieu"
          ],
          "source": "Judge",
          "target": "Champmathieu",
          "value": 3,
          "x": 640.3603655643802,
          "y": 236.4322151480898
         },
         {
          "edge": 133,
          "pair": [
           "Judge",
           "Brevet"
          ],
          "source": "Judge",
          "target": "Brevet",
          "value": 2,
          "x": 615.7472828489954,
          "y": 228.0295501574256
         },
         {
          "edge": 133,
          "pair": [
           "Judge",
           "Brevet"
          ],
          "source": "Judge",
          "target": "Brevet",
          "value": 2,
          "x": 622.2208754298506,
          "y": 203.4748437016331
         },
         {
          "edge": 134,
          "pair": [
           "Judge",
           "Chenildieu"
          ],
          "source": "Judge",
          "target": "Chenildieu",
          "value": 2,
          "x": 615.7472828489954,
          "y": 228.0295501574256
         },
         {
          "edge": 134,
          "pair": [
           "Judge",
           "Chenildieu"
          ],
          "source": "Judge",
          "target": "Chenildieu",
          "value": 2,
          "x": 599.0484966579324,
          "y": 212.0113377616501
         },
         {
          "edge": 135,
          "pair": [
           "Judge",
           "Cochepaille"
          ],
          "source": "Judge",
          "target": "Cochepaille",
          "value": 2,
          "x": 615.7472828489954,
          "y": 228.0295501574256
         },
         {
          "edge": 135,
          "pair": [
           "Judge",
           "Cochepaille"
          ],
          "source": "Judge",
          "target": "Cochepaille",
          "value": 2,
          "x": 643.2184243133152,
          "y": 216.5132552773021
         },
         {
          "edge": 136,
          "pair": [
           "Champmathieu",
           "Brevet"
          ],
          "source": "Champmathieu",
          "target": "Brevet",
          "value": 2,
          "x": 640.3603655643802,
          "y": 236.4322151480898
         },
         {
          "edge": 136,
          "pair": [
           "Champmathieu",
           "Brevet"
          ],
          "source": "Champmathieu",
          "target": "Brevet",
          "value": 2,
          "x": 622.2208754298506,
          "y": 203.4748437016331
         },
         {
          "edge": 137,
          "pair": [
           "Champmathieu",
           "Chenildieu"
          ],
          "source": "Champmathieu",
          "target": "Chenildieu",
          "value": 2,
          "x": 640.3603655643802,
          "y": 236.4322151480898
         },
         {
          "edge": 137,
          "pair": [
           "Champmathieu",
           "Chenildieu"
          ],
          "source": "Champmathieu",
          "target": "Chenildieu",
          "value": 2,
          "x": 599.0484966579324,
          "y": 212.0113377616501
         },
         {
          "edge": 138,
          "pair": [
           "Champmathieu",
           "Cochepaille"
          ],
          "source": "Champmathieu",
          "target": "Cochepaille",
          "value": 2,
          "x": 640.3603655643802,
          "y": 236.4322151480898
         },
         {
          "edge": 138,
          "pair": [
           "Champmathieu",
           "Cochepaille"
          ],
          "source": "Champmathieu",
          "target": "Cochepaille",
          "value": 2,
          "x": 643.2184243133152,
          "y": 216.5132552773021
         },
         {
          "edge": 139,
          "pair": [
           "Brevet",
           "Chenildieu"
          ],
          "source": "Brevet",
          "target": "Chenildieu",
          "value": 2,
          "x": 622.2208754298506,
          "y": 203.4748437016331
         },
         {
          "edge": 139,
          "pair": [
           "Brevet",
           "Chenildieu"
          ],
          "source": "Brevet",
          "target": "Chenildieu",
          "value": 2,
          "x": 599.0484966579324,
          "y": 212.0113377616501
         },
         {
          "edge": 140,
          "pair": [
           "Brevet",
           "Cochepaille"
          ],
          "source": "Brevet",
          "target": "Cochepaille",
          "value": 2,
          "x": 622.2208754298506,
          "y": 203.4748437016331
         },
         {
          "edge": 140,
          "pair": [
           "Brevet",
           "Cochepaille"
          ],
          "source": "Brevet",
          "target": "Cochepaille",
          "value": 2,
          "x": 643.2184243133152,
          "y": 216.5132552773021
         },
         {
          "edge": 141,
          "pair": [
           "Chenildieu",
           "Cochepaille"
          ],
          "source": "Chenildieu",
          "target": "Cochepaille",
          "value": 2,
          "x": 599.0484966579324,
          "y": 212.0113377616501
         },
         {
          "edge": 141,
          "pair": [
           "Chenildieu",
           "Cochepaille"
          ],
          "source": "Chenildieu",
          "target": "Cochepaille",
          "value": 2,
          "x": 643.2184243133152,
          "y": 216.5132552773021
         },
         {
          "edge": 142,
          "pair": [
           "Pontmercy",
           "MmePontmercy"
          ],
          "source": "Pontmercy",
          "target": "MmePontmercy",
          "value": 1,
          "x": 295.842708286816,
          "y": 364.30131819316745
         },
         {
          "edge": 142,
          "pair": [
           "Pontmercy",
           "MmePontmercy"
          ],
          "source": "Pontmercy",
          "target": "MmePontmercy",
          "value": 1,
          "x": 278.6624123279897,
          "y": 414.3067511181494
         },
         {
          "edge": 143,
          "pair": [
           "Pontmercy",
           "Marius"
          ],
          "source": "Pontmercy",
          "target": "Marius",
          "value": 1,
          "x": 295.842708286816,
          "y": 364.30131819316745
         },
         {
          "edge": 143,
          "pair": [
           "Pontmercy",
           "Marius"
          ],
          "source": "Pontmercy",
          "target": "Marius",
          "value": 1,
          "x": 290.60312103586926,
          "y": 319.1883281051754
         },
         {
          "edge": 144,
          "pair": [
           "Eponine",
           "Anzelma"
          ],
          "source": "Eponine",
          "target": "Anzelma",
          "value": 2,
          "x": 362.83176072822414,
          "y": 269.4583739797823
         },
         {
          "edge": 144,
          "pair": [
           "Eponine",
           "Anzelma"
          ],
          "source": "Eponine",
          "target": "Anzelma",
          "value": 2,
          "x": 374.0865446319385,
          "y": 306.8119470846386
         },
         {
          "edge": 145,
          "pair": [
           "Eponine",
           "Marius"
          ],
          "source": "Eponine",
          "target": "Marius",
          "value": 5,
          "x": 362.83176072822414,
          "y": 269.4583739797823
         },
         {
          "edge": 145,
          "pair": [
           "Eponine",
           "Marius"
          ],
          "source": "Eponine",
          "target": "Marius",
          "value": 5,
          "x": 290.60312103586926,
          "y": 319.1883281051754
         },
         {
          "edge": 146,
          "pair": [
           "Eponine",
           "Mabeuf"
          ],
          "source": "Eponine",
          "target": "Mabeuf",
          "value": 1,
          "x": 362.83176072822414,
          "y": 269.4583739797823
         },
         {
          "edge": 146,
          "pair": [
           "Eponine",
           "Mabeuf"
          ],
          "source": "Eponine",
          "target": "Mabeuf",
          "value": 1,
          "x": 257.5114219583887,
          "y": 228.66336567757364
         },
         {
          "edge": 147,
          "pair": [
           "Eponine",
           "Courfeyrac"
          ],
          "source": "Eponine",
          "target": "Courfeyrac",
          "value": 1,
          "x": 362.83176072822414,
          "y": 269.4583739797823
         },
         {
          "edge": 147,
          "pair": [
           "Eponine",
           "Courfeyrac"
          ],
          "source": "Eponine",
          "target": "Courfeyrac",
          "value": 1,
          "x": 234.92866615229312,
          "y": 206.4940687610358
         },
         {
          "edge": 148,
          "pair": [
           "Eponine",
           "Gueulemer"
          ],
          "source": "Eponine",
          "target": "Gueulemer",
          "value": 1,
          "x": 362.83176072822414,
          "y": 269.4583739797823
         },
         {
          "edge": 148,
          "pair": [
           "Eponine",
           "Gueulemer"
          ],
          "source": "Eponine",
          "target": "Gueulemer",
          "value": 1,
          "x": 435.8684321851509,
          "y": 261.0990200541632
         },
         {
          "edge": 149,
          "pair": [
           "Eponine",
           "Babet"
          ],
          "source": "Eponine",
          "target": "Babet",
          "value": 1,
          "x": 362.83176072822414,
          "y": 269.4583739797823
         },
         {
          "edge": 149,
          "pair": [
           "Eponine",
           "Babet"
          ],
          "source": "Eponine",
          "target": "Babet",
          "value": 1,
          "x": 408.4215921583651,
          "y": 257.0967812212034
         },
         {
          "edge": 150,
          "pair": [
           "Eponine",
           "Claquesous"
          ],
          "source": "Eponine",
          "target": "Claquesous",
          "value": 1,
          "x": 362.83176072822414,
          "y": 269.4583739797823
         },
         {
          "edge": 150,
          "pair": [
           "Eponine",
           "Claquesous"
          ],
          "source": "Eponine",
          "target": "Claquesous",
          "value": 1,
          "x": 404.95899265523497,
          "y": 280.6588632679255
         },
         {
          "edge": 151,
          "pair": [
           "Eponine",
           "Montparnasse"
          ],
          "source": "Eponine",
          "target": "Montparnasse",
          "value": 1,
          "x": 362.83176072822414,
          "y": 269.4583739797823
         },
         {
          "edge": 151,
          "pair": [
           "Eponine",
           "Montparnasse"
          ],
          "source": "Eponine",
          "target": "Montparnasse",
          "value": 1,
          "x": 436.16028335841776,
          "y": 234.67479361740487
         },
         {
          "edge": 152,
          "pair": [
           "Eponine",
           "Brujon"
          ],
          "source": "Eponine",
          "target": "Brujon",
          "value": 1,
          "x": 362.83176072822414,
          "y": 269.4583739797823
         },
         {
          "edge": 152,
          "pair": [
           "Eponine",
           "Brujon"
          ],
          "source": "Eponine",
          "target": "Brujon",
          "value": 1,
          "x": 401.2456296628934,
          "y": 225.7937278864368
         },
         {
          "edge": 153,
          "pair": [
           "Jondrette",
           "MmeBurgon"
          ],
          "source": "Jondrette",
          "target": "MmeBurgon",
          "value": 1,
          "x": 326.2595743264782,
          "y": 57.43368852975344
         },
         {
          "edge": 153,
          "pair": [
           "Jondrette",
           "MmeBurgon"
          ],
          "source": "Jondrette",
          "target": "MmeBurgon",
          "value": 1,
          "x": 326.35968097389986,
          "y": 96.16074038546267
         },
         {
          "edge": 154,
          "pair": [
           "MmeBurgon",
           "Gavroche"
          ],
          "source": "MmeBurgon",
          "target": "Gavroche",
          "value": 2,
          "x": 326.35968097389986,
          "y": 96.16074038546267
         },
         {
          "edge": 154,
          "pair": [
           "MmeBurgon",
           "Gavroche"
          ],
          "source": "MmeBurgon",
          "target": "Gavroche",
          "value": 2,
          "x": 320.3026984538368,
          "y": 206.55508063724218
         },
         {
          "edge": 155,
          "pair": [
           "Gavroche",
           "Marius"
          ],
          "source": "Gavroche",
          "target": "Marius",
          "value": 4,
          "x": 320.3026984538368,
          "y": 206.55508063724218
         },
         {
          "edge": 155,
          "pair": [
           "Gavroche",
           "Marius"
          ],
          "source": "Gavroche",
          "target": "Marius",
          "value": 4,
          "x": 290.60312103586926,
          "y": 319.1883281051754
         },
         {
          "edge": 156,
          "pair": [
           "Gavroche",
           "Mabeuf"
          ],
          "source": "Gavroche",
          "target": "Mabeuf",
          "value": 1,
          "x": 320.3026984538368,
          "y": 206.55508063724218
         },
         {
          "edge": 156,
          "pair": [
           "Gavroche",
           "Mabeuf"
          ],
          "source": "Gavroche",
          "target": "Mabeuf",
          "value": 1,
          "x": 257.5114219583887,
          "y": 228.66336567757364
         },
         {
          "edge": 157,
          "pair": [
           "Gavroche",
           "Enjolras"
          ],
          "source": "Gavroche",
          "target": "Enjolras",
          "value": 7,
          "x": 320.3026984538368,
          "y": 206.55508063724218
         },
         {
          "edge": 157,
          "pair": [
           "Gavroche",
           "Enjolras"
          ],
          "source": "Gavroche",
          "target": "Enjolras",
          "value": 7,
          "x": 282.5087953908546,
          "y": 254.49147527211466
         },
         {
          "edge": 158,
          "pair": [
           "Gavroche",
           "Combeferre"
          ],
          "source": "Gavroche",
          "target": "Combeferre",
          "value": 6,
          "x": 320.3026984538368,
          "y": 206.55508063724218
         },
         {
          "edge": 158,
          "pair": [
           "Gavroche",
           "Combeferre"
          ],
          "source": "Gavroche",
          "target": "Combeferre",
          "value": 6,
          "x": 181.06541971756252,
          "y": 269.9991026761858
         },
         {
          "edge": 159,
          "pair": [
           "Gavroche",
           "Prouvaire"
          ],
          "source": "Gavroche",
          "target": "Prouvaire",
          "value": 1,
          "x": 320.3026984538368,
          "y": 206.55508063724218
         },
         {
          "edge": 159,
          "pair": [
           "Gavroche",
           "Prouvaire"
          ],
          "source": "Gavroche",
          "target": "Prouvaire",
          "value": 1,
          "x": 182.9343610775287,
          "y": 195.3705595596706
         },
         {
          "edge": 160,
          "pair": [
           "Gavroche",
           "Feuilly"
          ],
          "source": "Gavroche",
          "target": "Feuilly",
          "value": 2,
          "x": 320.3026984538368,
          "y": 206.55508063724218
         },
         {
          "edge": 160,
          "pair": [
           "Gavroche",
           "Feuilly"
          ],
          "source": "Gavroche",
          "target": "Feuilly",
          "value": 2,
          "x": 199.48491671870332,
          "y": 251.44415860901051
         },
         {
          "edge": 161,
          "pair": [
           "Gavroche",
           "Courfeyrac"
          ],
          "source": "Gavroche",
          "target": "Courfeyrac",
          "value": 7,
          "x": 320.3026984538368,
          "y": 206.55508063724218
         },
         {
          "edge": 161,
          "pair": [
           "Gavroche",
           "Courfeyrac"
          ],
          "source": "Gavroche",
          "target": "Courfeyrac",
          "value": 7,
          "x": 234.92866615229312,
          "y": 206.4940687610358
         },
         {
          "edge": 162,
          "pair": [
           "Gavroche",
           "Bahorel"
          ],
          "source": "Gavroche",
          "target": "Bahorel",
          "value": 5,
          "x": 320.3026984538368,
          "y": 206.55508063724218
         },
         {
          "edge": 162,
          "pair": [
           "Gavroche",
           "Bahorel"
          ],
          "source": "Gavroche",
          "target": "Bahorel",
          "value": 5,
          "x": 165.4022181466924,
          "y": 237.7637796484399
         },
         {
          "edge": 163,
          "pair": [
           "Gavroche",
           "Bossuet"
          ],
          "source": "Gavroche",
          "target": "Bossuet",
          "value": 5,
          "x": 320.3026984538368,
          "y": 206.55508063724218
         },
         {
          "edge": 163,
          "pair": [
           "Gavroche",
           "Bossuet"
          ],
          "source": "Gavroche",
          "target": "Bossuet",
          "value": 5,
          "x": 237.01996101066644,
          "y": 258.3796836278097
         },
         {
          "edge": 164,
          "pair": [
           "Gavroche",
           "Joly"
          ],
          "source": "Gavroche",
          "target": "Joly",
          "value": 3,
          "x": 320.3026984538368,
          "y": 206.55508063724218
         },
         {
          "edge": 164,
          "pair": [
           "Gavroche",
           "Joly"
          ],
          "source": "Gavroche",
          "target": "Joly",
          "value": 3,
          "x": 199.99435039792093,
          "y": 221.05793580887834
         },
         {
          "edge": 165,
          "pair": [
           "Gavroche",
           "Grantaire"
          ],
          "source": "Gavroche",
          "target": "Grantaire",
          "value": 1,
          "x": 320.3026984538368,
          "y": 206.55508063724218
         },
         {
          "edge": 165,
          "pair": [
           "Gavroche",
           "Grantaire"
          ],
          "source": "Gavroche",
          "target": "Grantaire",
          "value": 1,
          "x": 156.37227849288843,
          "y": 206.70312832888763
         },
         {
          "edge": 166,
          "pair": [
           "Gavroche",
           "Gueulemer"
          ],
          "source": "Gavroche",
          "target": "Gueulemer",
          "value": 1,
          "x": 320.3026984538368,
          "y": 206.55508063724218
         },
         {
          "edge": 166,
          "pair": [
           "Gavroche",
           "Gueulemer"
          ],
          "source": "Gavroche",
          "target": "Gueulemer",
          "value": 1,
          "x": 435.8684321851509,
          "y": 261.0990200541632
         },
         {
          "edge": 167,
          "pair": [
           "Gavroche",
           "Babet"
          ],
          "source": "Gavroche",
          "target": "Babet",
          "value": 1,
          "x": 320.3026984538368,
          "y": 206.55508063724218
         },
         {
          "edge": 167,
          "pair": [
           "Gavroche",
           "Babet"
          ],
          "source": "Gavroche",
          "target": "Babet",
          "value": 1,
          "x": 408.4215921583651,
          "y": 257.0967812212034
         },
         {
          "edge": 168,
          "pair": [
           "Gavroche",
           "Montparnasse"
          ],
          "source": "Gavroche",
          "target": "Montparnasse",
          "value": 1,
          "x": 320.3026984538368,
          "y": 206.55508063724218
         },
         {
          "edge": 168,
          "pair": [
           "Gavroche",
           "Montparnasse"
          ],
          "source": "Gavroche",
          "target": "Montparnasse",
          "value": 1,
          "x": 436.16028335841776,
          "y": 234.67479361740487
         },
         {
          "edge": 169,
          "pair": [
           "Gavroche",
           "Child1"
          ],
          "source": "Gavroche",
          "target": "Child1",
          "value": 2,
          "x": 320.3026984538368,
          "y": 206.55508063724218
         },
         {
          "edge": 169,
          "pair": [
           "Gavroche",
           "Child1"
          ],
          "source": "Gavroche",
          "target": "Child1",
          "value": 2,
          "x": 342.18160804072164,
          "y": 130.15413680854527
         },
         {
          "edge": 170,
          "pair": [
           "Gavroche",
           "Child2"
          ],
          "source": "Gavroche",
          "target": "Child2",
          "value": 2,
          "x": 320.3026984538368,
          "y": 206.55508063724218
         },
         {
          "edge": 170,
          "pair": [
           "Gavroche",
           "Child2"
          ],
          "source": "Gavroche",
          "target": "Child2",
          "value": 2,
          "x": 357.1614485742383,
          "y": 132.35930404192308
         },
         {
          "edge": 171,
          "pair": [
           "Gavroche",
           "Brujon"
          ],
          "source": "Gavroche",
          "target": "Brujon",
          "value": 1,
          "x": 320.3026984538368,
          "y": 206.55508063724218
         },
         {
          "edge": 171,
          "pair": [
           "Gavroche",
           "Brujon"
          ],
          "source": "Gavroche",
          "target": "Brujon",
          "value": 1,
          "x": 401.2456296628934,
          "y": 225.7937278864368
         },
         {
          "edge": 172,
          "pair": [
           "Gavroche",
           "MmeHucheloup"
          ],
          "source": "Gavroche",
          "target": "MmeHucheloup",
          "value": 1,
          "x": 320.3026984538368,
          "y": 206.55508063724218
         },
         {
          "edge": 172,
          "pair": [
           "Gavroche",
           "MmeHucheloup"
          ],
          "source": "Gavroche",
          "target": "MmeHucheloup",
          "value": 1,
          "x": 215.12014105733363,
          "y": 177.93853568911342
         },
         {
          "edge": 173,
          "pair": [
           "Gillenormand",
           "Magnon"
          ],
          "source": "Gillenormand",
          "target": "Magnon",
          "value": 1,
          "x": 345.9059697282103,
          "y": 372.3511698727096
         },
         {
          "edge": 173,
          "pair": [
           "Gillenormand",
           "Magnon"
          ],
          "source": "Gillenormand",
          "target": "Magnon",
          "value": 1,
          "x": 367.20941651331395,
          "y": 355.4742028708529
         },
         {
          "edge": 174,
          "pair": [
           "Gillenormand",
           "MlleGillenormand"
          ],
          "source": "Gillenormand",
          "target": "MlleGillenormand",
          "value": 9,
          "x": 345.9059697282103,
          "y": 372.3511698727096
         },
         {
          "edge": 174,
          "pair": [
           "Gillenormand",
           "MlleGillenormand"
          ],
          "source": "Gillenormand",
          "target": "MlleGillenormand",
          "value": 9,
          "x": 338.43332853867446,
          "y": 401.06011905277023
         },
         {
          "edge": 175,
          "pair": [
           "Gillenormand",
           "LtGillenormand"
          ],
          "source": "Gillenormand",
          "target": "LtGillenormand",
          "value": 1,
          "x": 345.9059697282103,
          "y": 372.3511698727096
         },
         {
          "edge": 175,
          "pair": [
           "Gillenormand",
           "LtGillenormand"
          ],
          "source": "Gillenormand",
          "target": "LtGillenormand",
          "value": 1,
          "x": 313.4053495395557,
          "y": 388.92468904197085
         },
         {
          "edge": 176,
          "pair": [
           "Gillenormand",
           "Marius"
          ],
          "source": "Gillenormand",
          "target": "Marius",
          "value": 12,
          "x": 345.9059697282103,
          "y": 372.3511698727096
         },
         {
          "edge": 176,
          "pair": [
           "Gillenormand",
           "Marius"
          ],
          "source": "Gillenormand",
          "target": "Marius",
          "value": 12,
          "x": 290.60312103586926,
          "y": 319.1883281051754
         },
         {
          "edge": 177,
          "pair": [
           "Gillenormand",
           "BaronessT"
          ],
          "source": "Gillenormand",
          "target": "BaronessT",
          "value": 1,
          "x": 345.9059697282103,
          "y": 372.3511698727096
         },
         {
          "edge": 177,
          "pair": [
           "Gillenormand",
           "BaronessT"
          ],
          "source": "Gillenormand",
          "target": "BaronessT",
          "value": 1,
          "x": 271.9439586913244,
          "y": 375.00777939650015
         },
         {
          "edge": 178,
          "pair": [
           "MlleGillenormand",
           "MmePontmercy"
          ],
          "source": "MlleGillenormand",
          "target": "MmePontmercy",
          "value": 1,
          "x": 338.43332853867446,
          "y": 401.06011905277023
         },
         {
          "edge": 178,
          "pair": [
           "MlleGillenormand",
           "MmePontmercy"
          ],
          "source": "MlleGillenormand",
          "target": "MmePontmercy",
          "value": 1,
          "x": 278.6624123279897,
          "y": 414.3067511181494
         },
         {
          "edge": 179,
          "pair": [
           "MlleGillenormand",
           "MlleVaubois"
          ],
          "source": "MlleGillenormand",
          "target": "MlleVaubois",
          "value": 1,
          "x": 338.43332853867446,
          "y": 401.06011905277023
         },
         {
          "edge": 179,
          "pair": [
           "MlleGillenormand",
           "MlleVaubois"
          ],
          "source": "MlleGillenormand",
          "target": "MlleVaubois",
          "value": 1,
          "x": 301.57642592291495,
          "y": 442.503649668463
         },
         {
          "edge": 180,
          "pair": [
           "MlleGillenormand",
           "LtGillenormand"
          ],
          "source": "MlleGillenormand",
          "target": "LtGillenormand",
          "value": 2,
          "x": 338.43332853867446,
          "y": 401.06011905277023
         },
         {
          "edge": 180,
          "pair": [
           "MlleGillenormand",
           "LtGillenormand"
          ],
          "source": "MlleGillenormand",
          "target": "LtGillenormand",
          "value": 2,
          "x": 313.4053495395557,
          "y": 388.92468904197085
         },
         {
          "edge": 181,
          "pair": [
           "MlleGillenormand",
           "Marius"
          ],
          "source": "MlleGillenormand",
          "target": "Marius",
          "value": 6,
          "x": 338.43332853867446,
          "y": 401.06011905277023
         },
         {
          "edge": 181,
          "pair": [
           "MlleGillenormand",
           "Marius"
          ],
          "source": "MlleGillenormand",
          "target": "Marius",
          "value": 6,
          "x": 290.60312103586926,
          "y": 319.1883281051754
         },
         {
          "edge": 182,
          "pair": [
           "LtGillenormand",
           "Marius"
          ],
          "source": "LtGillenormand",
          "target": "Marius",
          "value": 1,
          "x": 313.4053495395557,
          "y": 388.92468904197085
         },
         {
          "edge": 182,
          "pair": [
           "LtGillenormand",
           "Marius"
          ],
          "source": "LtGillenormand",
          "target": "Marius",
          "value": 1,
          "x": 290.60312103586926,
          "y": 319.1883281051754
         },
         {
          "edge": 183,
          "pair": [
           "Marius",
           "BaronessT"
          ],
          "source": "Marius",
          "target": "BaronessT",
          "value": 1,
          "x": 290.60312103586926,
          "y": 319.1883281051754
         },
         {
          "edge": 183,
          "pair": [
           "Marius",
           "BaronessT"
          ],
          "source": "Marius",
          "target": "BaronessT",
          "value": 1,
          "x": 271.9439586913244,
          "y": 375.00777939650015
         },
         {
          "edge": 184,
          "pair": [
           "Marius",
           "Mabeuf"
          ],
          "source": "Marius",
          "target": "Mabeuf",
          "value": 1,
          "x": 290.60312103586926,
          "y": 319.1883281051754
         },
         {
          "edge": 184,
          "pair": [
           "Marius",
           "Mabeuf"
          ],
          "source": "Marius",
          "target": "Mabeuf",
          "value": 1,
          "x": 257.5114219583887,
          "y": 228.66336567757364
         },
         {
          "edge": 185,
          "pair": [
           "Marius",
           "Enjolras"
          ],
          "source": "Marius",
          "target": "Enjolras",
          "value": 7,
          "x": 290.60312103586926,
          "y": 319.1883281051754
         },
         {
          "edge": 185,
          "pair": [
           "Marius",
           "Enjolras"
          ],
          "source": "Marius",
          "target": "Enjolras",
          "value": 7,
          "x": 282.5087953908546,
          "y": 254.49147527211466
         },
         {
          "edge": 186,
          "pair": [
           "Marius",
           "Combeferre"
          ],
          "source": "Marius",
          "target": "Combeferre",
          "value": 5,
          "x": 290.60312103586926,
          "y": 319.1883281051754
         },
         {
          "edge": 186,
          "pair": [
           "Marius",
           "Combeferre"
          ],
          "source": "Marius",
          "target": "Combeferre",
          "value": 5,
          "x": 181.06541971756252,
          "y": 269.9991026761858
         },
         {
          "edge": 187,
          "pair": [
           "Marius",
           "Feuilly"
          ],
          "source": "Marius",
          "target": "Feuilly",
          "value": 1,
          "x": 290.60312103586926,
          "y": 319.1883281051754
         },
         {
          "edge": 187,
          "pair": [
           "Marius",
           "Feuilly"
          ],
          "source": "Marius",
          "target": "Feuilly",
          "value": 1,
          "x": 199.48491671870332,
          "y": 251.44415860901051
         },
         {
          "edge": 188,
          "pair": [
           "Marius",
           "Courfeyrac"
          ],
          "source": "Marius",
          "target": "Courfeyrac",
          "value": 9,
          "x": 290.60312103586926,
          "y": 319.1883281051754
         },
         {
          "edge": 188,
          "pair": [
           "Marius",
           "Courfeyrac"
          ],
          "source": "Marius",
          "target": "Courfeyrac",
          "value": 9,
          "x": 234.92866615229312,
          "y": 206.4940687610358
         },
         {
          "edge": 189,
          "pair": [
           "Marius",
           "Bahorel"
          ],
          "source": "Marius",
          "target": "Bahorel",
          "value": 1,
          "x": 290.60312103586926,
          "y": 319.1883281051754
         },
         {
          "edge": 189,
          "pair": [
           "Marius",
           "Bahorel"
          ],
          "source": "Marius",
          "target": "Bahorel",
          "value": 1,
          "x": 165.4022181466924,
          "y": 237.7637796484399
         },
         {
          "edge": 190,
          "pair": [
           "Marius",
           "Bossuet"
          ],
          "source": "Marius",
          "target": "Bossuet",
          "value": 5,
          "x": 290.60312103586926,
          "y": 319.1883281051754
         },
         {
          "edge": 190,
          "pair": [
           "Marius",
           "Bossuet"
          ],
          "source": "Marius",
          "target": "Bossuet",
          "value": 5,
          "x": 237.01996101066644,
          "y": 258.3796836278097
         },
         {
          "edge": 191,
          "pair": [
           "Marius",
           "Joly"
          ],
          "source": "Marius",
          "target": "Joly",
          "value": 2,
          "x": 290.60312103586926,
          "y": 319.1883281051754
         },
         {
          "edge": 191,
          "pair": [
           "Marius",
           "Joly"
          ],
          "source": "Marius",
          "target": "Joly",
          "value": 2,
          "x": 199.99435039792093,
          "y": 221.05793580887834
         },
         {
          "edge": 192,
          "pair": [
           "Mabeuf",
           "Enjolras"
          ],
          "source": "Mabeuf",
          "target": "Enjolras",
          "value": 1,
          "x": 257.5114219583887,
          "y": 228.66336567757364
         },
         {
          "edge": 192,
          "pair": [
           "Mabeuf",
           "Enjolras"
          ],
          "source": "Mabeuf",
          "target": "Enjolras",
          "value": 1,
          "x": 282.5087953908546,
          "y": 254.49147527211466
         },
         {
          "edge": 193,
          "pair": [
           "Mabeuf",
           "Combeferre"
          ],
          "source": "Mabeuf",
          "target": "Combeferre",
          "value": 2,
          "x": 257.5114219583887,
          "y": 228.66336567757364
         },
         {
          "edge": 193,
          "pair": [
           "Mabeuf",
           "Combeferre"
          ],
          "source": "Mabeuf",
          "target": "Combeferre",
          "value": 2,
          "x": 181.06541971756252,
          "y": 269.9991026761858
         },
         {
          "edge": 194,
          "pair": [
           "Mabeuf",
           "Feuilly"
          ],
          "source": "Mabeuf",
          "target": "Feuilly",
          "value": 1,
          "x": 257.5114219583887,
          "y": 228.66336567757364
         },
         {
          "edge": 194,
          "pair": [
           "Mabeuf",
           "Feuilly"
          ],
          "source": "Mabeuf",
          "target": "Feuilly",
          "value": 1,
          "x": 199.48491671870332,
          "y": 251.44415860901051
         },
         {
          "edge": 195,
          "pair": [
           "Mabeuf",
           "Courfeyrac"
          ],
          "source": "Mabeuf",
          "target": "Courfeyrac",
          "value": 2,
          "x": 257.5114219583887,
          "y": 228.66336567757364
         },
         {
          "edge": 195,
          "pair": [
           "Mabeuf",
           "Courfeyrac"
          ],
          "source": "Mabeuf",
          "target": "Courfeyrac",
          "value": 2,
          "x": 234.92866615229312,
          "y": 206.4940687610358
         },
         {
          "edge": 196,
          "pair": [
           "Mabeuf",
           "Bahorel"
          ],
          "source": "Mabeuf",
          "target": "Bahorel",
          "value": 2,
          "x": 257.5114219583887,
          "y": 228.66336567757364
         },
         {
          "edge": 196,
          "pair": [
           "Mabeuf",
           "Bahorel"
          ],
          "source": "Mabeuf",
          "target": "Bahorel",
          "value": 2,
          "x": 165.4022181466924,
          "y": 237.7637796484399
         },
         {
          "edge": 197,
          "pair": [
           "Mabeuf",
           "Bossuet"
          ],
          "source": "Mabeuf",
          "target": "Bossuet",
          "value": 1,
          "x": 257.5114219583887,
          "y": 228.66336567757364
         },
         {
          "edge": 197,
          "pair": [
           "Mabeuf",
           "Bossuet"
          ],
          "source": "Mabeuf",
          "target": "Bossuet",
          "value": 1,
          "x": 237.01996101066644,
          "y": 258.3796836278097
         },
         {
          "edge": 198,
          "pair": [
           "Mabeuf",
           "Joly"
          ],
          "source": "Mabeuf",
          "target": "Joly",
          "value": 1,
          "x": 257.5114219583887,
          "y": 228.66336567757364
         },
         {
          "edge": 198,
          "pair": [
           "Mabeuf",
           "Joly"
          ],
          "source": "Mabeuf",
          "target": "Joly",
          "value": 1,
          "x": 199.99435039792093,
          "y": 221.05793580887834
         },
         {
          "edge": 199,
          "pair": [
           "Mabeuf",
           "MotherPlutarch"
          ],
          "source": "Mabeuf",
          "target": "MotherPlutarch",
          "value": 3,
          "x": 257.5114219583887,
          "y": 228.66336567757364
         },
         {
          "edge": 199,
          "pair": [
           "Mabeuf",
           "MotherPlutarch"
          ],
          "source": "Mabeuf",
          "target": "MotherPlutarch",
          "value": 3,
          "x": 258.89949681095914,
          "y": 156.09814425477
         },
         {
          "edge": 200,
          "pair": [
           "Enjolras",
           "Combeferre"
          ],
          "source": "Enjolras",
          "target": "Combeferre",
          "value": 15,
          "x": 282.5087953908546,
          "y": 254.49147527211466
         },
         {
          "edge": 200,
          "pair": [
           "Enjolras",
           "Combeferre"
          ],
          "source": "Enjolras",
          "target": "Combeferre",
          "value": 15,
          "x": 181.06541971756252,
          "y": 269.9991026761858
         },
         {
          "edge": 201,
          "pair": [
           "Enjolras",
           "Prouvaire"
          ],
          "source": "Enjolras",
          "target": "Prouvaire",
          "value": 4,
          "x": 282.5087953908546,
          "y": 254.49147527211466
         },
         {
          "edge": 201,
          "pair": [
           "Enjolras",
           "Prouvaire"
          ],
          "source": "Enjolras",
          "target": "Prouvaire",
          "value": 4,
          "x": 182.9343610775287,
          "y": 195.3705595596706
         },
         {
          "edge": 202,
          "pair": [
           "Enjolras",
           "Feuilly"
          ],
          "source": "Enjolras",
          "target": "Feuilly",
          "value": 6,
          "x": 282.5087953908546,
          "y": 254.49147527211466
         },
         {
          "edge": 202,
          "pair": [
           "Enjolras",
           "Feuilly"
          ],
          "source": "Enjolras",
          "target": "Feuilly",
          "value": 6,
          "x": 199.48491671870332,
          "y": 251.44415860901051
         },
         {
          "edge": 203,
          "pair": [
           "Enjolras",
           "Courfeyrac"
          ],
          "source": "Enjolras",
          "target": "Courfeyrac",
          "value": 17,
          "x": 282.5087953908546,
          "y": 254.49147527211466
         },
         {
          "edge": 203,
          "pair": [
           "Enjolras",
           "Courfeyrac"
          ],
          "source": "Enjolras",
          "target": "Courfeyrac",
          "value": 17,
          "x": 234.92866615229312,
          "y": 206.4940687610358
         },
         {
          "edge": 204,
          "pair": [
           "Enjolras",
           "Bahorel"
          ],
          "source": "Enjolras",
          "target": "Bahorel",
          "value": 4,
          "x": 282.5087953908546,
          "y": 254.49147527211466
         },
         {
          "edge": 204,
          "pair": [
           "Enjolras",
           "Bahorel"
          ],
          "source": "Enjolras",
          "target": "Bahorel",
          "value": 4,
          "x": 165.4022181466924,
          "y": 237.7637796484399
         },
         {
          "edge": 205,
          "pair": [
           "Enjolras",
           "Bossuet"
          ],
          "source": "Enjolras",
          "target": "Bossuet",
          "value": 10,
          "x": 282.5087953908546,
          "y": 254.49147527211466
         },
         {
          "edge": 205,
          "pair": [
           "Enjolras",
           "Bossuet"
          ],
          "source": "Enjolras",
          "target": "Bossuet",
          "value": 10,
          "x": 237.01996101066644,
          "y": 258.3796836278097
         },
         {
          "edge": 206,
          "pair": [
           "Enjolras",
           "Joly"
          ],
          "source": "Enjolras",
          "target": "Joly",
          "value": 5,
          "x": 282.5087953908546,
          "y": 254.49147527211466
         },
         {
          "edge": 206,
          "pair": [
           "Enjolras",
           "Joly"
          ],
          "source": "Enjolras",
          "target": "Joly",
          "value": 5,
          "x": 199.99435039792093,
          "y": 221.05793580887834
         },
         {
          "edge": 207,
          "pair": [
           "Enjolras",
           "Grantaire"
          ],
          "source": "Enjolras",
          "target": "Grantaire",
          "value": 3,
          "x": 282.5087953908546,
          "y": 254.49147527211466
         },
         {
          "edge": 207,
          "pair": [
           "Enjolras",
           "Grantaire"
          ],
          "source": "Enjolras",
          "target": "Grantaire",
          "value": 3,
          "x": 156.37227849288843,
          "y": 206.70312832888763
         },
         {
          "edge": 208,
          "pair": [
           "Enjolras",
           "Claquesous"
          ],
          "source": "Enjolras",
          "target": "Claquesous",
          "value": 1,
          "x": 282.5087953908546,
          "y": 254.49147527211466
         },
         {
          "edge": 208,
          "pair": [
           "Enjolras",
           "Claquesous"
          ],
          "source": "Enjolras",
          "target": "Claquesous",
          "value": 1,
          "x": 404.95899265523497,
          "y": 280.6588632679255
         },
         {
          "edge": 209,
          "pair": [
           "Enjolras",
           "MmeHucheloup"
          ],
          "source": "Enjolras",
          "target": "MmeHucheloup",
          "value": 1,
          "x": 282.5087953908546,
          "y": 254.49147527211466
         },
         {
          "edge": 209,
          "pair": [
           "Enjolras",
           "MmeHucheloup"
          ],
          "source": "Enjolras",
          "target": "MmeHucheloup",
          "value": 1,
          "x": 215.12014105733363,
          "y": 177.93853568911342
         },
         {
          "edge": 210,
          "pair": [
           "Combeferre",
           "Prouvaire"
          ],
          "source": "Combeferre",
          "target": "Prouvaire",
          "value": 2,
          "x": 181.06541971756252,
          "y": 269.9991026761858
         },
         {
          "edge": 210,
          "pair": [
           "Combeferre",
           "Prouvaire"
          ],
          "source": "Combeferre",
          "target": "Prouvaire",
          "value": 2,
          "x": 182.9343610775287,
          "y": 195.3705595596706
         },
         {
          "edge": 211,
          "pair": [
           "Combeferre",
           "Feuilly"
          ],
          "source": "Combeferre",
          "target": "Feuilly",
          "value": 5,
          "x": 181.06541971756252,
          "y": 269.9991026761858
         },
         {
          "edge": 211,
          "pair": [
           "Combeferre",
           "Feuilly"
          ],
          "source": "Combeferre",
          "target": "Feuilly",
          "value": 5,
          "x": 199.48491671870332,
          "y": 251.44415860901051
         },
         {
          "edge": 212,
          "pair": [
           "Combeferre",
           "Courfeyrac"
          ],
          "source": "Combeferre",
          "target": "Courfeyrac",
          "value": 13,
          "x": 181.06541971756252,
          "y": 269.9991026761858
         },
         {
          "edge": 212,
          "pair": [
           "Combeferre",
           "Courfeyrac"
          ],
          "source": "Combeferre",
          "target": "Courfeyrac",
          "value": 13,
          "x": 234.92866615229312,
          "y": 206.4940687610358
         },
         {
          "edge": 213,
          "pair": [
           "Combeferre",
           "Bahorel"
          ],
          "source": "Combeferre",
          "target": "Bahorel",
          "value": 5,
          "x": 181.06541971756252,
          "y": 269.9991026761858
         },
         {
          "edge": 213,
          "pair": [
           "Combeferre",
           "Bahorel"
          ],
          "source": "Combeferre",
          "target": "Bahorel",
          "value": 5,
          "x": 165.4022181466924,
          "y": 237.7637796484399
         },
         {
          "edge": 214,
          "pair": [
           "Combeferre",
           "Bossuet"
          ],
          "source": "Combeferre",
          "target": "Bossuet",
          "value": 9,
          "x": 181.06541971756252,
          "y": 269.9991026761858
         },
         {
          "edge": 214,
          "pair": [
           "Combeferre",
           "Bossuet"
          ],
          "source": "Combeferre",
          "target": "Bossuet",
          "value": 9,
          "x": 237.01996101066644,
          "y": 258.3796836278097
         },
         {
          "edge": 215,
          "pair": [
           "Combeferre",
           "Joly"
          ],
          "source": "Combeferre",
          "target": "Joly",
          "value": 5,
          "x": 181.06541971756252,
          "y": 269.9991026761858
         },
         {
          "edge": 215,
          "pair": [
           "Combeferre",
           "Joly"
          ],
          "source": "Combeferre",
          "target": "Joly",
          "value": 5,
          "x": 199.99435039792093,
          "y": 221.05793580887834
         },
         {
          "edge": 216,
          "pair": [
           "Combeferre",
           "Grantaire"
          ],
          "source": "Combeferre",
          "target": "Grantaire",
          "value": 1,
          "x": 181.06541971756252,
          "y": 269.9991026761858
         },
         {
          "edge": 216,
          "pair": [
           "Combeferre",
           "Grantaire"
          ],
          "source": "Combeferre",
          "target": "Grantaire",
          "value": 1,
          "x": 156.37227849288843,
          "y": 206.70312832888763
         },
         {
          "edge": 217,
          "pair": [
           "Prouvaire",
           "Feuilly"
          ],
          "source": "Prouvaire",
          "target": "Feuilly",
          "value": 2,
          "x": 182.9343610775287,
          "y": 195.3705595596706
         },
         {
          "edge": 217,
          "pair": [
           "Prouvaire",
           "Feuilly"
          ],
          "source": "Prouvaire",
          "target": "Feuilly",
          "value": 2,
          "x": 199.48491671870332,
          "y": 251.44415860901051
         },
         {
          "edge": 218,
          "pair": [
           "Prouvaire",
           "Courfeyrac"
          ],
          "source": "Prouvaire",
          "target": "Courfeyrac",
          "value": 3,
          "x": 182.9343610775287,
          "y": 195.3705595596706
         },
         {
          "edge": 218,
          "pair": [
           "Prouvaire",
           "Courfeyrac"
          ],
          "source": "Prouvaire",
          "target": "Courfeyrac",
          "value": 3,
          "x": 234.92866615229312,
          "y": 206.4940687610358
         },
         {
          "edge": 219,
          "pair": [
           "Prouvaire",
           "Bahorel"
          ],
          "source": "Prouvaire",
          "target": "Bahorel",
          "value": 2,
          "x": 182.9343610775287,
          "y": 195.3705595596706
         },
         {
          "edge": 219,
          "pair": [
           "Prouvaire",
           "Bahorel"
          ],
          "source": "Prouvaire",
          "target": "Bahorel",
          "value": 2,
          "x": 165.4022181466924,
          "y": 237.7637796484399
         },
         {
          "edge": 220,
          "pair": [
           "Prouvaire",
           "Bossuet"
          ],
          "source": "Prouvaire",
          "target": "Bossuet",
          "value": 2,
          "x": 182.9343610775287,
          "y": 195.3705595596706
         },
         {
          "edge": 220,
          "pair": [
           "Prouvaire",
           "Bossuet"
          ],
          "source": "Prouvaire",
          "target": "Bossuet",
          "value": 2,
          "x": 237.01996101066644,
          "y": 258.3796836278097
         },
         {
          "edge": 221,
          "pair": [
           "Prouvaire",
           "Joly"
          ],
          "source": "Prouvaire",
          "target": "Joly",
          "value": 2,
          "x": 182.9343610775287,
          "y": 195.3705595596706
         },
         {
          "edge": 221,
          "pair": [
           "Prouvaire",
           "Joly"
          ],
          "source": "Prouvaire",
          "target": "Joly",
          "value": 2,
          "x": 199.99435039792093,
          "y": 221.05793580887834
         },
         {
          "edge": 222,
          "pair": [
           "Prouvaire",
           "Grantaire"
          ],
          "source": "Prouvaire",
          "target": "Grantaire",
          "value": 1,
          "x": 182.9343610775287,
          "y": 195.3705595596706
         },
         {
          "edge": 222,
          "pair": [
           "Prouvaire",
           "Grantaire"
          ],
          "source": "Prouvaire",
          "target": "Grantaire",
          "value": 1,
          "x": 156.37227849288843,
          "y": 206.70312832888763
         },
         {
          "edge": 223,
          "pair": [
           "Feuilly",
           "Courfeyrac"
          ],
          "source": "Feuilly",
          "target": "Courfeyrac",
          "value": 6,
          "x": 199.48491671870332,
          "y": 251.44415860901051
         },
         {
          "edge": 223,
          "pair": [
           "Feuilly",
           "Courfeyrac"
          ],
          "source": "Feuilly",
          "target": "Courfeyrac",
          "value": 6,
          "x": 234.92866615229312,
          "y": 206.4940687610358
         },
         {
          "edge": 224,
          "pair": [
           "Feuilly",
           "Bahorel"
          ],
          "source": "Feuilly",
          "target": "Bahorel",
          "value": 3,
          "x": 199.48491671870332,
          "y": 251.44415860901051
         },
         {
          "edge": 224,
          "pair": [
           "Feuilly",
           "Bahorel"
          ],
          "source": "Feuilly",
          "target": "Bahorel",
          "value": 3,
          "x": 165.4022181466924,
          "y": 237.7637796484399
         },
         {
          "edge": 225,
          "pair": [
           "Feuilly",
           "Bossuet"
          ],
          "source": "Feuilly",
          "target": "Bossuet",
          "value": 6,
          "x": 199.48491671870332,
          "y": 251.44415860901051
         },
         {
          "edge": 225,
          "pair": [
           "Feuilly",
           "Bossuet"
          ],
          "source": "Feuilly",
          "target": "Bossuet",
          "value": 6,
          "x": 237.01996101066644,
          "y": 258.3796836278097
         },
         {
          "edge": 226,
          "pair": [
           "Feuilly",
           "Joly"
          ],
          "source": "Feuilly",
          "target": "Joly",
          "value": 5,
          "x": 199.48491671870332,
          "y": 251.44415860901051
         },
         {
          "edge": 226,
          "pair": [
           "Feuilly",
           "Joly"
          ],
          "source": "Feuilly",
          "target": "Joly",
          "value": 5,
          "x": 199.99435039792093,
          "y": 221.05793580887834
         },
         {
          "edge": 227,
          "pair": [
           "Feuilly",
           "Grantaire"
          ],
          "source": "Feuilly",
          "target": "Grantaire",
          "value": 1,
          "x": 199.48491671870332,
          "y": 251.44415860901051
         },
         {
          "edge": 227,
          "pair": [
           "Feuilly",
           "Grantaire"
          ],
          "source": "Feuilly",
          "target": "Grantaire",
          "value": 1,
          "x": 156.37227849288843,
          "y": 206.70312832888763
         },
         {
          "edge": 228,
          "pair": [
           "Courfeyrac",
           "Bahorel"
          ],
          "source": "Courfeyrac",
          "target": "Bahorel",
          "value": 6,
          "x": 234.92866615229312,
          "y": 206.4940687610358
         },
         {
          "edge": 228,
          "pair": [
           "Courfeyrac",
           "Bahorel"
          ],
          "source": "Courfeyrac",
          "target": "Bahorel",
          "value": 6,
          "x": 165.4022181466924,
          "y": 237.7637796484399
         },
         {
          "edge": 229,
          "pair": [
           "Courfeyrac",
           "Bossuet"
          ],
          "source": "Courfeyrac",
          "target": "Bossuet",
          "value": 12,
          "x": 234.92866615229312,
          "y": 206.4940687610358
         },
         {
          "edge": 229,
          "pair": [
           "Courfeyrac",
           "Bossuet"
          ],
          "source": "Courfeyrac",
          "target": "Bossuet",
          "value": 12,
          "x": 237.01996101066644,
          "y": 258.3796836278097
         },
         {
          "edge": 230,
          "pair": [
           "Courfeyrac",
           "Joly"
          ],
          "source": "Courfeyrac",
          "target": "Joly",
          "value": 5,
          "x": 234.92866615229312,
          "y": 206.4940687610358
         },
         {
          "edge": 230,
          "pair": [
           "Courfeyrac",
           "Joly"
          ],
          "source": "Courfeyrac",
          "target": "Joly",
          "value": 5,
          "x": 199.99435039792093,
          "y": 221.05793580887834
         },
         {
          "edge": 231,
          "pair": [
           "Courfeyrac",
           "Grantaire"
          ],
          "source": "Courfeyrac",
          "target": "Grantaire",
          "value": 2,
          "x": 234.92866615229312,
          "y": 206.4940687610358
         },
         {
          "edge": 231,
          "pair": [
           "Courfeyrac",
           "Grantaire"
          ],
          "source": "Courfeyrac",
          "target": "Grantaire",
          "value": 2,
          "x": 156.37227849288843,
          "y": 206.70312832888763
         },
         {
          "edge": 232,
          "pair": [
           "Courfeyrac",
           "MmeHucheloup"
          ],
          "source": "Courfeyrac",
          "target": "MmeHucheloup",
          "value": 1,
          "x": 234.92866615229312,
          "y": 206.4940687610358
         },
         {
          "edge": 232,
          "pair": [
           "Courfeyrac",
           "MmeHucheloup"
          ],
          "source": "Courfeyrac",
          "target": "MmeHucheloup",
          "value": 1,
          "x": 215.12014105733363,
          "y": 177.93853568911342
         },
         {
          "edge": 233,
          "pair": [
           "Bahorel",
           "Bossuet"
          ],
          "source": "Bahorel",
          "target": "Bossuet",
          "value": 4,
          "x": 165.4022181466924,
          "y": 237.7637796484399
         },
         {
          "edge": 233,
          "pair": [
           "Bahorel",
           "Bossuet"
          ],
          "source": "Bahorel",
          "target": "Bossuet",
          "value": 4,
          "x": 237.01996101066644,
          "y": 258.3796836278097
         },
         {
          "edge": 234,
          "pair": [
           "Bahorel",
           "Joly"
          ],
          "source": "Bahorel",
          "target": "Joly",
          "value": 5,
          "x": 165.4022181466924,
          "y": 237.7637796484399
         },
         {
          "edge": 234,
          "pair": [
           "Bahorel",
           "Joly"
          ],
          "source": "Bahorel",
          "target": "Joly",
          "value": 5,
          "x": 199.99435039792093,
          "y": 221.05793580887834
         },
         {
          "edge": 235,
          "pair": [
           "Bahorel",
           "Grantaire"
          ],
          "source": "Bahorel",
          "target": "Grantaire",
          "value": 1,
          "x": 165.4022181466924,
          "y": 237.7637796484399
         },
         {
          "edge": 235,
          "pair": [
           "Bahorel",
           "Grantaire"
          ],
          "source": "Bahorel",
          "target": "Grantaire",
          "value": 1,
          "x": 156.37227849288843,
          "y": 206.70312832888763
         },
         {
          "edge": 236,
          "pair": [
           "Bahorel",
           "MmeHucheloup"
          ],
          "source": "Bahorel",
          "target": "MmeHucheloup",
          "value": 1,
          "x": 165.4022181466924,
          "y": 237.7637796484399
         },
         {
          "edge": 236,
          "pair": [
           "Bahorel",
           "MmeHucheloup"
          ],
          "source": "Bahorel",
          "target": "MmeHucheloup",
          "value": 1,
          "x": 215.12014105733363,
          "y": 177.93853568911342
         },
         {
          "edge": 237,
          "pair": [
           "Bossuet",
           "Joly"
          ],
          "source": "Bossuet",
          "target": "Joly",
          "value": 7,
          "x": 237.01996101066644,
          "y": 258.3796836278097
         },
         {
          "edge": 237,
          "pair": [
           "Bossuet",
           "Joly"
          ],
          "source": "Bossuet",
          "target": "Joly",
          "value": 7,
          "x": 199.99435039792093,
          "y": 221.05793580887834
         },
         {
          "edge": 238,
          "pair": [
           "Bossuet",
           "Grantaire"
          ],
          "source": "Bossuet",
          "target": "Grantaire",
          "value": 3,
          "x": 237.01996101066644,
          "y": 258.3796836278097
         },
         {
          "edge": 238,
          "pair": [
           "Bossuet",
           "Grantaire"
          ],
          "source": "Bossuet",
          "target": "Grantaire",
          "value": 3,
          "x": 156.37227849288843,
          "y": 206.70312832888763
         },
         {
          "edge": 239,
          "pair": [
           "Bossuet",
           "MmeHucheloup"
          ],
          "source": "Bossuet",
          "target": "MmeHucheloup",
          "value": 1,
          "x": 237.01996101066644,
          "y": 258.3796836278097
         },
         {
          "edge": 239,
          "pair": [
           "Bossuet",
           "MmeHucheloup"
          ],
          "source": "Bossuet",
          "target": "MmeHucheloup",
          "value": 1,
          "x": 215.12014105733363,
          "y": 177.93853568911342
         },
         {
          "edge": 240,
          "pair": [
           "Joly",
           "Grantaire"
          ],
          "source": "Joly",
          "target": "Grantaire",
          "value": 2,
          "x": 199.99435039792093,
          "y": 221.05793580887834
         },
         {
          "edge": 240,
          "pair": [
           "Joly",
           "Grantaire"
          ],
          "source": "Joly",
          "target": "Grantaire",
          "value": 2,
          "x": 156.37227849288843,
          "y": 206.70312832888763
         },
         {
          "edge": 241,
          "pair": [
           "Joly",
           "MmeHucheloup"
          ],
          "source": "Joly",
          "target": "MmeHucheloup",
          "value": 1,
          "x": 199.99435039792093,
          "y": 221.05793580887834
         },
         {
          "edge": 241,
          "pair": [
           "Joly",
           "MmeHucheloup"
          ],
          "source": "Joly",
          "target": "MmeHucheloup",
          "value": 1,
          "x": 215.12014105733363,
          "y": 177.93853568911342
         },
         {
          "edge": 242,
          "pair": [
           "Grantaire",
           "MmeHucheloup"
          ],
          "source": "Grantaire",
          "target": "MmeHucheloup",
          "value": 1,
          "x": 156.37227849288843,
          "y": 206.70312832888763
         },
         {
          "edge": 242,
          "pair": [
           "Grantaire",
           "MmeHucheloup"
          ],
          "source": "Grantaire",
          "target": "MmeHucheloup",
          "value": 1,
          "x": 215.12014105733363,
          "y": 177.93853568911342
         },
         {
          "edge": 243,
          "pair": [
           "Gueulemer",
           "Babet"
          ],
          "source": "Gueulemer",
          "target": "Babet",
          "value": 6,
          "x": 435.8684321851509,
          "y": 261.0990200541632
         },
         {
          "edge": 243,
          "pair": [
           "Gueulemer",
           "Babet"
          ],
          "source": "Gueulemer",
          "target": "Babet",
          "value": 6,
          "x": 408.4215921583651,
          "y": 257.0967812212034
         },
         {
          "edge": 244,
          "pair": [
           "Gueulemer",
           "Claquesous"
          ],
          "source": "Gueulemer",
          "target": "Claquesous",
          "value": 4,
          "x": 435.8684321851509,
          "y": 261.0990200541632
         },
         {
          "edge": 244,
          "pair": [
           "Gueulemer",
           "Claquesous"
          ],
          "source": "Gueulemer",
          "target": "Claquesous",
          "value": 4,
          "x": 404.95899265523497,
          "y": 280.6588632679255
         },
         {
          "edge": 245,
          "pair": [
           "Gueulemer",
           "Montparnasse"
          ],
          "source": "Gueulemer",
          "target": "Montparnasse",
          "value": 2,
          "x": 435.8684321851509,
          "y": 261.0990200541632
         },
         {
          "edge": 245,
          "pair": [
           "Gueulemer",
           "Montparnasse"
          ],
          "source": "Gueulemer",
          "target": "Montparnasse",
          "value": 2,
          "x": 436.16028335841776,
          "y": 234.67479361740487
         },
         {
          "edge": 246,
          "pair": [
           "Gueulemer",
           "Brujon"
          ],
          "source": "Gueulemer",
          "target": "Brujon",
          "value": 3,
          "x": 435.8684321851509,
          "y": 261.0990200541632
         },
         {
          "edge": 246,
          "pair": [
           "Gueulemer",
           "Brujon"
          ],
          "source": "Gueulemer",
          "target": "Brujon",
          "value": 3,
          "x": 401.2456296628934,
          "y": 225.7937278864368
         },
         {
          "edge": 247,
          "pair": [
           "Babet",
           "Claquesous"
          ],
          "source": "Babet",
          "target": "Claquesous",
          "value": 4,
          "x": 408.4215921583651,
          "y": 257.0967812212034
         },
         {
          "edge": 247,
          "pair": [
           "Babet",
           "Claquesous"
          ],
          "source": "Babet",
          "target": "Claquesous",
          "value": 4,
          "x": 404.95899265523497,
          "y": 280.6588632679255
         },
         {
          "edge": 248,
          "pair": [
           "Babet",
           "Montparnasse"
          ],
          "source": "Babet",
          "target": "Montparnasse",
          "value": 2,
          "x": 408.4215921583651,
          "y": 257.0967812212034
         },
         {
          "edge": 248,
          "pair": [
           "Babet",
           "Montparnasse"
          ],
          "source": "Babet",
          "target": "Montparnasse",
          "value": 2,
          "x": 436.16028335841776,
          "y": 234.67479361740487
         },
         {
          "edge": 249,
          "pair": [
           "Babet",
           "Brujon"
          ],
          "source": "Babet",
          "target": "Brujon",
          "value": 3,
          "x": 408.4215921583651,
          "y": 257.0967812212034
         },
         {
          "edge": 249,
          "pair": [
           "Babet",
           "Brujon"
          ],
          "source": "Babet",
          "target": "Brujon",
          "value": 3,
          "x": 401.2456296628934,
          "y": 225.7937278864368
         },
         {
          "edge": 250,
          "pair": [
           "Claquesous",
           "Montparnasse"
          ],
          "source": "Claquesous",
          "target": "Montparnasse",
          "value": 2,
          "x": 404.95899265523497,
          "y": 280.6588632679255
         },
         {
          "edge": 250,
          "pair": [
           "Claquesous",
           "Montparnasse"
          ],
          "source": "Claquesous",
          "target": "Montparnasse",
          "value": 2,
          "x": 436.16028335841776,
          "y": 234.67479361740487
         },
         {
          "edge": 251,
          "pair": [
           "Claquesous",
           "Brujon"
          ],
          "source": "Claquesous",
          "target": "Brujon",
          "value": 1,
          "x": 404.95899265523497,
          "y": 280.6588632679255
         },
         {
          "edge": 251,
          "pair": [
           "Claquesous",
           "Brujon"
          ],
          "source": "Claquesous",
          "target": "Brujon",
          "value": 1,
          "x": 401.2456296628934,
          "y": 225.7937278864368
         },
         {
          "edge": 252,
          "pair": [
           "Montparnasse",
           "Brujon"
          ],
          "source": "Montparnasse",
          "target": "Brujon",
          "value": 1,
          "x": 436.16028335841776,
          "y": 234.67479361740487
         },
         {
          "edge": 252,
          "pair": [
           "Montparnasse",
           "Brujon"
          ],
          "source": "Montparnasse",
          "target": "Brujon",
          "value": 1,
          "x": 401.2456296628934,
          "y": 225.7937278864368
         },
         {
          "edge": 253,
          "pair": [
           "Child1",
           "Child2"
          ],
          "source": "Child1",
          "target": "Child2",
          "value": 3,
          "x": 342.18160804072164,
          "y": 130.15413680854527
         },
         {
          "edge": 253,
          "pair": [
           "Child1",
           "Child2"
          ],
          "source": "Child1",
          "target": "Child2",
          "value": 3,
          "x": 357.1614485742383,
          "y": 132.35930404192308
         }
        ]
       },
       "height": 420,
       "layer": [
        {
         "data": {
          "name": "data-f53c1b2f5519cda8b05948258caf1d80"
         },
         "encoding": {
          "color": {
           "value": "#333"
          },
          "detail": {
           "field": "edge",
           "type": "quantitative"
          },
          "opacity": {
           "field": "value",
           "legend": null,
           "scale": {
            "domain": [
             0,
             31
            ],
            "range": [
             0.5,
             0.8
            ]
           },
           "type": "quantitative"
          },
          "strokeWidth": {
           "field": "value",
           "legend": null,
           "scale": {
            "domain": [
             0,
             31
            ],
            "range": [
             0.1,
             1
            ]
           },
           "type": "quantitative"
          },
          "x": {
           "axis": {
            "domain": false,
            "grid": false,
            "labels": false,
            "ticks": false,
            "title": ""
           },
           "field": "x",
           "type": "quantitative"
          },
          "y": {
           "axis": {
            "domain": false,
            "grid": false,
            "labels": false,
            "ticks": false,
            "title": ""
           },
           "field": "y",
           "type": "quantitative"
          }
         },
         "mark": {
          "type": "line"
         }
        },
        {
         "data": {
          "name": "data-1c6ce606724098813018a11916960c3e"
         },
         "encoding": {
          "fill": {
           "field": "group",
           "legend": null,
           "scale": {
            "scheme": "category10"
           },
           "type": "nominal"
          },
          "opacity": {
           "value": 1
          },
          "size": {
           "value": 36
          },
          "stroke": {
           "value": "#565656"
          },
          "strokeWidth": {
           "value": 0
          },
          "tooltip": [
           {
            "field": "name",
            "type": "nominal"
           },
           {
            "field": "group",
            "type": "nominal"
           }
          ],
          "x": {
           "axis": {
            "domain": false,
            "grid": false,
            "labels": false,
            "ticks": false,
            "title": ""
           },
           "field": "x",
           "type": "quantitative"
          },
          "y": {
           "axis": {
            "domain": false,
            "grid": false,
            "labels": false,
            "ticks": false,
            "title": ""
           },
           "field": "y",
           "type": "quantitative"
          }
         },
         "mark": {
          "type": "circle"
         }
        }
       ],
       "resolve": {
        "scale": {
         "color": "independent",
         "fill": "independent",
         "opacity": "independent",
         "size": "independent",
         "strokeWidth": "independent"
        }
       },
       "width": 600
      },
      "text/plain": [
       "<VegaLite 5 object>\n",
       "\n",
       "If you see this message, it means the renderer has not been properly enabled\n",
       "for the frontend that you are using. For more information, see\n",
       "https://altair-viz.github.io/user_guide/display_frontends.html#troubleshooting\n"
      ]
     },
     "execution_count": 4,
     "metadata": {},
     "output_type": "execute_result"
    }
   ],
   "source": [
    "alph(\n",
    "    G,\n",
    "    weight_attr=\"value\",\n",
    "    layout_fn=lambda g: layout.force_atlas(\n",
    "        g, gravity=8, outboundAttractionDistribution=False,  iterations=1000, seed=seed\n",
    "    ),\n",
    "    node_args=dict(\n",
    "        size=alt.value(6**2),\n",
    "        fill=alt.Color(\"group\", scale=alt.Scale(scheme=\"category10\"), legend=None),\n",
    "        tooltip_attrs=[\"name\", \"group\"]\n",
    "    ),\n",
    "    edge_args=dict(\n",
    "        color=\"#333\",\n",
    "        opacity=alt.Size(\n",
    "            \"value:Q\",\n",
    "            scale=alt.Scale(domain=[0,max_edge_value], range=[0.5, 0.8]),\n",
    "            legend=None\n",
    "        ),\n",
    "        strokeWidth=alt.Size(\n",
    "            \"value:Q\",\n",
    "            scale=alt.Scale(domain=[0,max_edge_value], range=[0.1, 1]),\n",
    "            legend=None\n",
    "        ),\n",
    "    ),\n",
    ").configure_view(strokeWidth=0).properties(width=600, height=420)"
   ]
  },
  {
   "cell_type": "markdown",
   "metadata": {},
   "source": [
    "Now prepare to plot the combo charts. Here we've wrapped the invocation inside a function, so we can easily try a couple of different layouts.\n",
    "\n",
    "This feature is experimental, requiring a bit of tuning to get decent-looking results. So it's worth noting a few things:\n",
    "- `combo_group_by` is the attribute to use to group the nodes\n",
    "- `layout_fn`, `node_args` and `edge_args` refer to the layout and style of graphs inside the group nodes\n",
    "- analogously, `combo_layout_fn`, `combo_node_args` and `combo_edge_args` refer to the layout and style of the larger group nodes themselves; note how we've used `alt.condition` to highlight one of the edges\n",
    "- `combo_node_additional_attrs` is a way to pass additional attributes to group-level nodes, so they can be referenced from `node_args` / `edge_args`\n",
    "- `combo_size_scale_range` is the range of sizes (remember, shape size values reflect the area, not the radius / edge) for the combo nodes; this is scaled based on the number of nodes in each group\n",
    "- `combo_inner_graph_scale_factor` sets how big the group-level graphs (the ones inside the combo nodes) should be, as a fraction of the overall combo node size; values around 0.5 are typical\n",
    "- `combo_empty_attr_action` describes how to handle nodes without the group attribute; they can be dropped (`drop`), treated as additional one-per-node categories (`group`), or promoted to a combo category for each item (`promote`)."
   ]
  },
  {
   "cell_type": "code",
   "execution_count": 5,
   "metadata": {},
   "outputs": [],
   "source": [
    "nx.set_edge_attributes(G, {(u,v): w for u, v, w in G.edges(data=\"value\")}, \"weight\")\n",
    "groups = list(set([x[1] for x in G.nodes(data=\"group\")]))\n",
    "\n",
    "def combo_chart(layout_fn, **kwargs):\n",
    "    additional_combo_edge_args = {}\n",
    "    if \"additional_combo_edge_args\" in kwargs:\n",
    "        additional_combo_edge_args = kwargs[\"additional_combo_edge_args\"]\n",
    "        del kwargs[\"additional_combo_edge_args\"]\n",
    "\n",
    "    return alph(\n",
    "        G,\n",
    "        weight_attr=\"value\",\n",
    "        layout_fn=layout_fn,\n",
    "        node_args=dict(\n",
    "            size=5**2,\n",
    "            fill=\"#888\",\n",
    "            stroke=\"#222\",\n",
    "            strokeWidth=1,\n",
    "            tooltip_attrs=[\"name\", \"group\"],\n",
    "        ),\n",
    "        edge_args=dict(\n",
    "            color=\"#333\",\n",
    "            opacity=alt.Size(\n",
    "                \"value:Q\",\n",
    "                scale=alt.Scale(range=[0.5, 0.8]),\n",
    "                legend=None\n",
    "            ),\n",
    "            strokeWidth=alt.Size(\n",
    "                \"value:Q\",\n",
    "                scale=alt.Scale(range=[0.4, 1]),\n",
    "                legend=None\n",
    "            ),\n",
    "        ),\n",
    "        combo_group_by=\"group\",\n",
    "        combo_layout_fn=lambda g: layout.force_atlas(\n",
    "            g,\n",
    "            weight_attr=\"value\",\n",
    "            strongGravityMode=True,\n",
    "            gravity=6,\n",
    "            edgeWeightInfluence=1.2,\n",
    "            seed=seed,\n",
    "        ),\n",
    "        combo_node_additional_attrs={\n",
    "            group: {\"group\": group or \"\"} for group in groups\n",
    "        },\n",
    "        combo_node_args=dict(\n",
    "            fill=\"#fff\",\n",
    "            tooltip_attrs=[\"group:N\"],\n",
    "            label_attr=\"group:N\",\n",
    "            label_offset=12,\n",
    "        ),\n",
    "        combo_edge_args=dict(\n",
    "            strokeWidth=alt.Size(\"value\", scale=alt.Scale(range=[0.5, 3]), legend=None),\n",
    "            **additional_combo_edge_args,\n",
    "        ),\n",
    "        combo_size_scale_range=[40**2,100**2],\n",
    "        combo_inner_graph_scale_factor=0.6,\n",
    "        combo_empty_attr_action=\"promote\",\n",
    "        width=600,\n",
    "        height=480,\n",
    "        **kwargs\n",
    "    ).configure_view(strokeWidth=0)"
   ]
  },
  {
   "cell_type": "markdown",
   "metadata": {},
   "source": [
    "First, plot using a force-based layout. This mostly results in nice group-level layouts, especially when the number of nodes isn't particularly large."
   ]
  },
  {
   "cell_type": "code",
   "execution_count": 6,
   "metadata": {},
   "outputs": [
    {
     "data": {
      "application/vnd.vegalite.v5+json": {
       "$schema": "https://vega.github.io/schema/vega-lite/v5.8.0.json",
       "config": {
        "view": {
         "continuousHeight": 300,
         "continuousWidth": 300,
         "strokeWidth": 0
        }
       },
       "datasets": {
        "data-12d387346b6c76ad49e157feae6ac040": [
         {
          "__combo_group_value": "2",
          "__node_r": 2.5,
          "__node_size": 25,
          "group": "2",
          "name": "Marguerite",
          "x": 495.1249516386602,
          "y": 403.94843472507415
         },
         {
          "__combo_group_value": "2",
          "__node_r": 2.5,
          "__node_size": 25,
          "group": "2",
          "name": "Tholomyes",
          "x": 478.40582477296147,
          "y": 420.3079168411901
         },
         {
          "__combo_group_value": "2",
          "__node_r": 2.5,
          "__node_size": 25,
          "group": "2",
          "name": "Listolier",
          "x": 490.92430583672336,
          "y": 424.96066435940565
         },
         {
          "__combo_group_value": "2",
          "__node_r": 2.5,
          "__node_size": 25,
          "group": "2",
          "name": "Fameuil",
          "x": 479.77498034276425,
          "y": 432.05336491334623
         },
         {
          "__combo_group_value": "2",
          "__node_r": 2.5,
          "__node_size": 25,
          "group": "2",
          "name": "Blacheville",
          "x": 505.09646062053577,
          "y": 424.4038794968363
         },
         {
          "__combo_group_value": "2",
          "__node_r": 2.5,
          "__node_size": 25,
          "group": "2",
          "name": "Favourite",
          "x": 499.89647542511375,
          "y": 415.05430881906926
         },
         {
          "__combo_group_value": "2",
          "__node_r": 2.5,
          "__node_size": 25,
          "group": "2",
          "name": "Dahlia",
          "x": 489.9926940986976,
          "y": 437.83851536335237
         },
         {
          "__combo_group_value": "2",
          "__node_r": 2.5,
          "__node_size": 25,
          "group": "2",
          "name": "Zephine",
          "x": 500.89480010490206,
          "y": 434.83126775446726
         },
         {
          "__combo_group_value": "2",
          "__node_r": 2.5,
          "__node_size": 25,
          "group": "2",
          "name": "Fantine",
          "x": 487.46899524841217,
          "y": 411.9832129720535
         }
        ],
        "data-14b98e80a4aba9d048fa8a2fefd85a8f": [
         {
          "__combo_group_value": "4",
          "__node_r": 2.5,
          "__node_size": 25,
          "group": "4",
          "name": "MmeThenardier",
          "x": 262.95712507495966,
          "y": 69.98432522544024
         },
         {
          "__combo_group_value": "4",
          "__node_r": 2.5,
          "__node_size": 25,
          "group": "4",
          "name": "Thenardier",
          "x": 249.3205181150339,
          "y": 64.74193889364199
         },
         {
          "__combo_group_value": "4",
          "__node_r": 2.5,
          "__node_size": 25,
          "group": "4",
          "name": "Boulatruelle",
          "x": 223.69330022076787,
          "y": 77.17224605897455
         },
         {
          "__combo_group_value": "4",
          "__node_r": 2.5,
          "__node_size": 25,
          "group": "4",
          "name": "Eponine",
          "x": 250.41519868173333,
          "y": 82.42543837808832
         },
         {
          "__combo_group_value": "4",
          "__node_r": 2.5,
          "__node_size": 25,
          "group": "4",
          "name": "Anzelma",
          "x": 235.6561638375814,
          "y": 84.21987518228237
         },
         {
          "__combo_group_value": "4",
          "__node_r": 2.5,
          "__node_size": 25,
          "group": "4",
          "name": "Gueulemer",
          "x": 237.10173398817375,
          "y": 50.680105083577494
         },
         {
          "__combo_group_value": "4",
          "__node_r": 2.5,
          "__node_size": 25,
          "group": "4",
          "name": "Babet",
          "x": 234.38228580795123,
          "y": 68.68658337557386
         },
         {
          "__combo_group_value": "4",
          "__node_r": 2.5,
          "__node_size": 25,
          "group": "4",
          "name": "Claquesous",
          "x": 224.87738372225073,
          "y": 58.06615577817173
         },
         {
          "__combo_group_value": "4",
          "__node_r": 2.5,
          "__node_size": 25,
          "group": "4",
          "name": "Montparnasse",
          "x": 247.77796812092336,
          "y": 42.50965339725274
         },
         {
          "__combo_group_value": "4",
          "__node_r": 2.5,
          "__node_size": 25,
          "group": "4",
          "name": "Brujon",
          "x": 260.20128097840063,
          "y": 52.46506039190283
         }
        ],
        "data-24f47bd7996edf09fdeb9420a0a5d6a3": [
         {
          "edge": 0,
          "pair": [
           "MmeThenardier",
           "Thenardier"
          ],
          "source": "MmeThenardier",
          "target": "Thenardier",
          "value": 13,
          "weight": 13,
          "x": 262.95712507495966,
          "y": 69.98432522544024
         },
         {
          "edge": 0,
          "pair": [
           "MmeThenardier",
           "Thenardier"
          ],
          "source": "MmeThenardier",
          "target": "Thenardier",
          "value": 13,
          "weight": 13,
          "x": 249.3205181150339,
          "y": 64.74193889364199
         },
         {
          "edge": 1,
          "pair": [
           "MmeThenardier",
           "Eponine"
          ],
          "source": "MmeThenardier",
          "target": "Eponine",
          "value": 2,
          "weight": 2,
          "x": 262.95712507495966,
          "y": 69.98432522544024
         },
         {
          "edge": 1,
          "pair": [
           "MmeThenardier",
           "Eponine"
          ],
          "source": "MmeThenardier",
          "target": "Eponine",
          "value": 2,
          "weight": 2,
          "x": 250.41519868173333,
          "y": 82.42543837808832
         },
         {
          "edge": 2,
          "pair": [
           "MmeThenardier",
           "Anzelma"
          ],
          "source": "MmeThenardier",
          "target": "Anzelma",
          "value": 1,
          "weight": 1,
          "x": 262.95712507495966,
          "y": 69.98432522544024
         },
         {
          "edge": 2,
          "pair": [
           "MmeThenardier",
           "Anzelma"
          ],
          "source": "MmeThenardier",
          "target": "Anzelma",
          "value": 1,
          "weight": 1,
          "x": 235.6561638375814,
          "y": 84.21987518228237
         },
         {
          "edge": 3,
          "pair": [
           "MmeThenardier",
           "Gueulemer"
          ],
          "source": "MmeThenardier",
          "target": "Gueulemer",
          "value": 1,
          "weight": 1,
          "x": 262.95712507495966,
          "y": 69.98432522544024
         },
         {
          "edge": 3,
          "pair": [
           "MmeThenardier",
           "Gueulemer"
          ],
          "source": "MmeThenardier",
          "target": "Gueulemer",
          "value": 1,
          "weight": 1,
          "x": 237.10173398817375,
          "y": 50.680105083577494
         },
         {
          "edge": 4,
          "pair": [
           "MmeThenardier",
           "Babet"
          ],
          "source": "MmeThenardier",
          "target": "Babet",
          "value": 1,
          "weight": 1,
          "x": 262.95712507495966,
          "y": 69.98432522544024
         },
         {
          "edge": 4,
          "pair": [
           "MmeThenardier",
           "Babet"
          ],
          "source": "MmeThenardier",
          "target": "Babet",
          "value": 1,
          "weight": 1,
          "x": 234.38228580795123,
          "y": 68.68658337557386
         },
         {
          "edge": 5,
          "pair": [
           "MmeThenardier",
           "Claquesous"
          ],
          "source": "MmeThenardier",
          "target": "Claquesous",
          "value": 1,
          "weight": 1,
          "x": 262.95712507495966,
          "y": 69.98432522544024
         },
         {
          "edge": 5,
          "pair": [
           "MmeThenardier",
           "Claquesous"
          ],
          "source": "MmeThenardier",
          "target": "Claquesous",
          "value": 1,
          "weight": 1,
          "x": 224.87738372225073,
          "y": 58.06615577817173
         },
         {
          "edge": 6,
          "pair": [
           "Thenardier",
           "Boulatruelle"
          ],
          "source": "Thenardier",
          "target": "Boulatruelle",
          "value": 1,
          "weight": 1,
          "x": 249.3205181150339,
          "y": 64.74193889364199
         },
         {
          "edge": 6,
          "pair": [
           "Thenardier",
           "Boulatruelle"
          ],
          "source": "Thenardier",
          "target": "Boulatruelle",
          "value": 1,
          "weight": 1,
          "x": 223.69330022076787,
          "y": 77.17224605897455
         },
         {
          "edge": 7,
          "pair": [
           "Thenardier",
           "Eponine"
          ],
          "source": "Thenardier",
          "target": "Eponine",
          "value": 3,
          "weight": 3,
          "x": 249.3205181150339,
          "y": 64.74193889364199
         },
         {
          "edge": 7,
          "pair": [
           "Thenardier",
           "Eponine"
          ],
          "source": "Thenardier",
          "target": "Eponine",
          "value": 3,
          "weight": 3,
          "x": 250.41519868173333,
          "y": 82.42543837808832
         },
         {
          "edge": 8,
          "pair": [
           "Thenardier",
           "Anzelma"
          ],
          "source": "Thenardier",
          "target": "Anzelma",
          "value": 2,
          "weight": 2,
          "x": 249.3205181150339,
          "y": 64.74193889364199
         },
         {
          "edge": 8,
          "pair": [
           "Thenardier",
           "Anzelma"
          ],
          "source": "Thenardier",
          "target": "Anzelma",
          "value": 2,
          "weight": 2,
          "x": 235.6561638375814,
          "y": 84.21987518228237
         },
         {
          "edge": 9,
          "pair": [
           "Thenardier",
           "Gueulemer"
          ],
          "source": "Thenardier",
          "target": "Gueulemer",
          "value": 5,
          "weight": 5,
          "x": 249.3205181150339,
          "y": 64.74193889364199
         },
         {
          "edge": 9,
          "pair": [
           "Thenardier",
           "Gueulemer"
          ],
          "source": "Thenardier",
          "target": "Gueulemer",
          "value": 5,
          "weight": 5,
          "x": 237.10173398817375,
          "y": 50.680105083577494
         },
         {
          "edge": 10,
          "pair": [
           "Thenardier",
           "Babet"
          ],
          "source": "Thenardier",
          "target": "Babet",
          "value": 6,
          "weight": 6,
          "x": 249.3205181150339,
          "y": 64.74193889364199
         },
         {
          "edge": 10,
          "pair": [
           "Thenardier",
           "Babet"
          ],
          "source": "Thenardier",
          "target": "Babet",
          "value": 6,
          "weight": 6,
          "x": 234.38228580795123,
          "y": 68.68658337557386
         },
         {
          "edge": 11,
          "pair": [
           "Thenardier",
           "Claquesous"
          ],
          "source": "Thenardier",
          "target": "Claquesous",
          "value": 4,
          "weight": 4,
          "x": 249.3205181150339,
          "y": 64.74193889364199
         },
         {
          "edge": 11,
          "pair": [
           "Thenardier",
           "Claquesous"
          ],
          "source": "Thenardier",
          "target": "Claquesous",
          "value": 4,
          "weight": 4,
          "x": 224.87738372225073,
          "y": 58.06615577817173
         },
         {
          "edge": 12,
          "pair": [
           "Thenardier",
           "Montparnasse"
          ],
          "source": "Thenardier",
          "target": "Montparnasse",
          "value": 1,
          "weight": 1,
          "x": 249.3205181150339,
          "y": 64.74193889364199
         },
         {
          "edge": 12,
          "pair": [
           "Thenardier",
           "Montparnasse"
          ],
          "source": "Thenardier",
          "target": "Montparnasse",
          "value": 1,
          "weight": 1,
          "x": 247.77796812092336,
          "y": 42.50965339725274
         },
         {
          "edge": 13,
          "pair": [
           "Thenardier",
           "Brujon"
          ],
          "source": "Thenardier",
          "target": "Brujon",
          "value": 3,
          "weight": 3,
          "x": 249.3205181150339,
          "y": 64.74193889364199
         },
         {
          "edge": 13,
          "pair": [
           "Thenardier",
           "Brujon"
          ],
          "source": "Thenardier",
          "target": "Brujon",
          "value": 3,
          "weight": 3,
          "x": 260.20128097840063,
          "y": 52.46506039190283
         },
         {
          "edge": 14,
          "pair": [
           "Eponine",
           "Anzelma"
          ],
          "source": "Eponine",
          "target": "Anzelma",
          "value": 2,
          "weight": 2,
          "x": 250.41519868173333,
          "y": 82.42543837808832
         },
         {
          "edge": 14,
          "pair": [
           "Eponine",
           "Anzelma"
          ],
          "source": "Eponine",
          "target": "Anzelma",
          "value": 2,
          "weight": 2,
          "x": 235.6561638375814,
          "y": 84.21987518228237
         },
         {
          "edge": 15,
          "pair": [
           "Eponine",
           "Gueulemer"
          ],
          "source": "Eponine",
          "target": "Gueulemer",
          "value": 1,
          "weight": 1,
          "x": 250.41519868173333,
          "y": 82.42543837808832
         },
         {
          "edge": 15,
          "pair": [
           "Eponine",
           "Gueulemer"
          ],
          "source": "Eponine",
          "target": "Gueulemer",
          "value": 1,
          "weight": 1,
          "x": 237.10173398817375,
          "y": 50.680105083577494
         },
         {
          "edge": 16,
          "pair": [
           "Eponine",
           "Babet"
          ],
          "source": "Eponine",
          "target": "Babet",
          "value": 1,
          "weight": 1,
          "x": 250.41519868173333,
          "y": 82.42543837808832
         },
         {
          "edge": 16,
          "pair": [
           "Eponine",
           "Babet"
          ],
          "source": "Eponine",
          "target": "Babet",
          "value": 1,
          "weight": 1,
          "x": 234.38228580795123,
          "y": 68.68658337557386
         },
         {
          "edge": 17,
          "pair": [
           "Eponine",
           "Claquesous"
          ],
          "source": "Eponine",
          "target": "Claquesous",
          "value": 1,
          "weight": 1,
          "x": 250.41519868173333,
          "y": 82.42543837808832
         },
         {
          "edge": 17,
          "pair": [
           "Eponine",
           "Claquesous"
          ],
          "source": "Eponine",
          "target": "Claquesous",
          "value": 1,
          "weight": 1,
          "x": 224.87738372225073,
          "y": 58.06615577817173
         },
         {
          "edge": 18,
          "pair": [
           "Eponine",
           "Montparnasse"
          ],
          "source": "Eponine",
          "target": "Montparnasse",
          "value": 1,
          "weight": 1,
          "x": 250.41519868173333,
          "y": 82.42543837808832
         },
         {
          "edge": 18,
          "pair": [
           "Eponine",
           "Montparnasse"
          ],
          "source": "Eponine",
          "target": "Montparnasse",
          "value": 1,
          "weight": 1,
          "x": 247.77796812092336,
          "y": 42.50965339725274
         },
         {
          "edge": 19,
          "pair": [
           "Eponine",
           "Brujon"
          ],
          "source": "Eponine",
          "target": "Brujon",
          "value": 1,
          "weight": 1,
          "x": 250.41519868173333,
          "y": 82.42543837808832
         },
         {
          "edge": 19,
          "pair": [
           "Eponine",
           "Brujon"
          ],
          "source": "Eponine",
          "target": "Brujon",
          "value": 1,
          "weight": 1,
          "x": 260.20128097840063,
          "y": 52.46506039190283
         },
         {
          "edge": 20,
          "pair": [
           "Gueulemer",
           "Babet"
          ],
          "source": "Gueulemer",
          "target": "Babet",
          "value": 6,
          "weight": 6,
          "x": 237.10173398817375,
          "y": 50.680105083577494
         },
         {
          "edge": 20,
          "pair": [
           "Gueulemer",
           "Babet"
          ],
          "source": "Gueulemer",
          "target": "Babet",
          "value": 6,
          "weight": 6,
          "x": 234.38228580795123,
          "y": 68.68658337557386
         },
         {
          "edge": 21,
          "pair": [
           "Gueulemer",
           "Claquesous"
          ],
          "source": "Gueulemer",
          "target": "Claquesous",
          "value": 4,
          "weight": 4,
          "x": 237.10173398817375,
          "y": 50.680105083577494
         },
         {
          "edge": 21,
          "pair": [
           "Gueulemer",
           "Claquesous"
          ],
          "source": "Gueulemer",
          "target": "Claquesous",
          "value": 4,
          "weight": 4,
          "x": 224.87738372225073,
          "y": 58.06615577817173
         },
         {
          "edge": 22,
          "pair": [
           "Gueulemer",
           "Montparnasse"
          ],
          "source": "Gueulemer",
          "target": "Montparnasse",
          "value": 2,
          "weight": 2,
          "x": 237.10173398817375,
          "y": 50.680105083577494
         },
         {
          "edge": 22,
          "pair": [
           "Gueulemer",
           "Montparnasse"
          ],
          "source": "Gueulemer",
          "target": "Montparnasse",
          "value": 2,
          "weight": 2,
          "x": 247.77796812092336,
          "y": 42.50965339725274
         },
         {
          "edge": 23,
          "pair": [
           "Gueulemer",
           "Brujon"
          ],
          "source": "Gueulemer",
          "target": "Brujon",
          "value": 3,
          "weight": 3,
          "x": 237.10173398817375,
          "y": 50.680105083577494
         },
         {
          "edge": 23,
          "pair": [
           "Gueulemer",
           "Brujon"
          ],
          "source": "Gueulemer",
          "target": "Brujon",
          "value": 3,
          "weight": 3,
          "x": 260.20128097840063,
          "y": 52.46506039190283
         },
         {
          "edge": 24,
          "pair": [
           "Babet",
           "Claquesous"
          ],
          "source": "Babet",
          "target": "Claquesous",
          "value": 4,
          "weight": 4,
          "x": 234.38228580795123,
          "y": 68.68658337557386
         },
         {
          "edge": 24,
          "pair": [
           "Babet",
           "Claquesous"
          ],
          "source": "Babet",
          "target": "Claquesous",
          "value": 4,
          "weight": 4,
          "x": 224.87738372225073,
          "y": 58.06615577817173
         },
         {
          "edge": 25,
          "pair": [
           "Babet",
           "Montparnasse"
          ],
          "source": "Babet",
          "target": "Montparnasse",
          "value": 2,
          "weight": 2,
          "x": 234.38228580795123,
          "y": 68.68658337557386
         },
         {
          "edge": 25,
          "pair": [
           "Babet",
           "Montparnasse"
          ],
          "source": "Babet",
          "target": "Montparnasse",
          "value": 2,
          "weight": 2,
          "x": 247.77796812092336,
          "y": 42.50965339725274
         },
         {
          "edge": 26,
          "pair": [
           "Babet",
           "Brujon"
          ],
          "source": "Babet",
          "target": "Brujon",
          "value": 3,
          "weight": 3,
          "x": 234.38228580795123,
          "y": 68.68658337557386
         },
         {
          "edge": 26,
          "pair": [
           "Babet",
           "Brujon"
          ],
          "source": "Babet",
          "target": "Brujon",
          "value": 3,
          "weight": 3,
          "x": 260.20128097840063,
          "y": 52.46506039190283
         },
         {
          "edge": 27,
          "pair": [
           "Claquesous",
           "Montparnasse"
          ],
          "source": "Claquesous",
          "target": "Montparnasse",
          "value": 2,
          "weight": 2,
          "x": 224.87738372225073,
          "y": 58.06615577817173
         },
         {
          "edge": 27,
          "pair": [
           "Claquesous",
           "Montparnasse"
          ],
          "source": "Claquesous",
          "target": "Montparnasse",
          "value": 2,
          "weight": 2,
          "x": 247.77796812092336,
          "y": 42.50965339725274
         },
         {
          "edge": 28,
          "pair": [
           "Claquesous",
           "Brujon"
          ],
          "source": "Claquesous",
          "target": "Brujon",
          "value": 1,
          "weight": 1,
          "x": 224.87738372225073,
          "y": 58.06615577817173
         },
         {
          "edge": 28,
          "pair": [
           "Claquesous",
           "Brujon"
          ],
          "source": "Claquesous",
          "target": "Brujon",
          "value": 1,
          "weight": 1,
          "x": 260.20128097840063,
          "y": 52.46506039190283
         },
         {
          "edge": 29,
          "pair": [
           "Montparnasse",
           "Brujon"
          ],
          "source": "Montparnasse",
          "target": "Brujon",
          "value": 1,
          "weight": 1,
          "x": 247.77796812092336,
          "y": 42.50965339725274
         },
         {
          "edge": 29,
          "pair": [
           "Montparnasse",
           "Brujon"
          ],
          "source": "Montparnasse",
          "target": "Brujon",
          "value": 1,
          "weight": 1,
          "x": 260.20128097840063,
          "y": 52.46506039190283
         }
        ],
        "data-2b0f47e749ea1b556df01426067c665c": [
         {
          "edge": 0,
          "pair": [
           "Bamatabois",
           "Judge"
          ],
          "source": "Bamatabois",
          "target": "Judge",
          "value": 2,
          "weight": 2,
          "x": 585.0166769161623,
          "y": 121.44171004852957
         },
         {
          "edge": 0,
          "pair": [
           "Bamatabois",
           "Judge"
          ],
          "source": "Bamatabois",
          "target": "Judge",
          "value": 2,
          "weight": 2,
          "x": 586.1087577801542,
          "y": 141.68346580694828
         },
         {
          "edge": 1,
          "pair": [
           "Bamatabois",
           "Champmathieu"
          ],
          "source": "Bamatabois",
          "target": "Champmathieu",
          "value": 2,
          "weight": 2,
          "x": 585.0166769161623,
          "y": 121.44171004852957
         },
         {
          "edge": 1,
          "pair": [
           "Bamatabois",
           "Champmathieu"
          ],
          "source": "Bamatabois",
          "target": "Champmathieu",
          "value": 2,
          "weight": 2,
          "x": 604.5047881831548,
          "y": 115.86185018986886
         },
         {
          "edge": 2,
          "pair": [
           "Bamatabois",
           "Brevet"
          ],
          "source": "Bamatabois",
          "target": "Brevet",
          "value": 1,
          "weight": 1,
          "x": 585.0166769161623,
          "y": 121.44171004852957
         },
         {
          "edge": 2,
          "pair": [
           "Bamatabois",
           "Brevet"
          ],
          "source": "Bamatabois",
          "target": "Brevet",
          "value": 1,
          "weight": 1,
          "x": 605.5907005155169,
          "y": 149.27101530463898
         },
         {
          "edge": 3,
          "pair": [
           "Bamatabois",
           "Chenildieu"
          ],
          "source": "Bamatabois",
          "target": "Chenildieu",
          "value": 1,
          "weight": 1,
          "x": 585.0166769161623,
          "y": 121.44171004852957
         },
         {
          "edge": 3,
          "pair": [
           "Bamatabois",
           "Chenildieu"
          ],
          "source": "Bamatabois",
          "target": "Chenildieu",
          "value": 1,
          "weight": 1,
          "x": 600.7391209509643,
          "y": 132.64281236384656
         },
         {
          "edge": 4,
          "pair": [
           "Bamatabois",
           "Cochepaille"
          ],
          "source": "Bamatabois",
          "target": "Cochepaille",
          "value": 1,
          "weight": 1,
          "x": 585.0166769161623,
          "y": 121.44171004852957
         },
         {
          "edge": 4,
          "pair": [
           "Bamatabois",
           "Cochepaille"
          ],
          "source": "Bamatabois",
          "target": "Cochepaille",
          "value": 1,
          "weight": 1,
          "x": 618.0399556540475,
          "y": 131.79659969084153
         },
         {
          "edge": 5,
          "pair": [
           "Judge",
           "Champmathieu"
          ],
          "source": "Judge",
          "target": "Champmathieu",
          "value": 3,
          "weight": 3,
          "x": 586.1087577801542,
          "y": 141.68346580694828
         },
         {
          "edge": 5,
          "pair": [
           "Judge",
           "Champmathieu"
          ],
          "source": "Judge",
          "target": "Champmathieu",
          "value": 3,
          "weight": 3,
          "x": 604.5047881831548,
          "y": 115.86185018986886
         },
         {
          "edge": 6,
          "pair": [
           "Judge",
           "Brevet"
          ],
          "source": "Judge",
          "target": "Brevet",
          "value": 2,
          "weight": 2,
          "x": 586.1087577801542,
          "y": 141.68346580694828
         },
         {
          "edge": 6,
          "pair": [
           "Judge",
           "Brevet"
          ],
          "source": "Judge",
          "target": "Brevet",
          "value": 2,
          "weight": 2,
          "x": 605.5907005155169,
          "y": 149.27101530463898
         },
         {
          "edge": 7,
          "pair": [
           "Judge",
           "Chenildieu"
          ],
          "source": "Judge",
          "target": "Chenildieu",
          "value": 2,
          "weight": 2,
          "x": 586.1087577801542,
          "y": 141.68346580694828
         },
         {
          "edge": 7,
          "pair": [
           "Judge",
           "Chenildieu"
          ],
          "source": "Judge",
          "target": "Chenildieu",
          "value": 2,
          "weight": 2,
          "x": 600.7391209509643,
          "y": 132.64281236384656
         },
         {
          "edge": 8,
          "pair": [
           "Judge",
           "Cochepaille"
          ],
          "source": "Judge",
          "target": "Cochepaille",
          "value": 2,
          "weight": 2,
          "x": 586.1087577801542,
          "y": 141.68346580694828
         },
         {
          "edge": 8,
          "pair": [
           "Judge",
           "Cochepaille"
          ],
          "source": "Judge",
          "target": "Cochepaille",
          "value": 2,
          "weight": 2,
          "x": 618.0399556540475,
          "y": 131.79659969084153
         },
         {
          "edge": 9,
          "pair": [
           "Champmathieu",
           "Brevet"
          ],
          "source": "Champmathieu",
          "target": "Brevet",
          "value": 2,
          "weight": 2,
          "x": 604.5047881831548,
          "y": 115.86185018986886
         },
         {
          "edge": 9,
          "pair": [
           "Champmathieu",
           "Brevet"
          ],
          "source": "Champmathieu",
          "target": "Brevet",
          "value": 2,
          "weight": 2,
          "x": 605.5907005155169,
          "y": 149.27101530463898
         },
         {
          "edge": 10,
          "pair": [
           "Champmathieu",
           "Chenildieu"
          ],
          "source": "Champmathieu",
          "target": "Chenildieu",
          "value": 2,
          "weight": 2,
          "x": 604.5047881831548,
          "y": 115.86185018986886
         },
         {
          "edge": 10,
          "pair": [
           "Champmathieu",
           "Chenildieu"
          ],
          "source": "Champmathieu",
          "target": "Chenildieu",
          "value": 2,
          "weight": 2,
          "x": 600.7391209509643,
          "y": 132.64281236384656
         },
         {
          "edge": 11,
          "pair": [
           "Champmathieu",
           "Cochepaille"
          ],
          "source": "Champmathieu",
          "target": "Cochepaille",
          "value": 2,
          "weight": 2,
          "x": 604.5047881831548,
          "y": 115.86185018986886
         },
         {
          "edge": 11,
          "pair": [
           "Champmathieu",
           "Cochepaille"
          ],
          "source": "Champmathieu",
          "target": "Cochepaille",
          "value": 2,
          "weight": 2,
          "x": 618.0399556540475,
          "y": 131.79659969084153
         },
         {
          "edge": 12,
          "pair": [
           "Brevet",
           "Chenildieu"
          ],
          "source": "Brevet",
          "target": "Chenildieu",
          "value": 2,
          "weight": 2,
          "x": 605.5907005155169,
          "y": 149.27101530463898
         },
         {
          "edge": 12,
          "pair": [
           "Brevet",
           "Chenildieu"
          ],
          "source": "Brevet",
          "target": "Chenildieu",
          "value": 2,
          "weight": 2,
          "x": 600.7391209509643,
          "y": 132.64281236384656
         },
         {
          "edge": 13,
          "pair": [
           "Brevet",
           "Cochepaille"
          ],
          "source": "Brevet",
          "target": "Cochepaille",
          "value": 2,
          "weight": 2,
          "x": 605.5907005155169,
          "y": 149.27101530463898
         },
         {
          "edge": 13,
          "pair": [
           "Brevet",
           "Cochepaille"
          ],
          "source": "Brevet",
          "target": "Cochepaille",
          "value": 2,
          "weight": 2,
          "x": 618.0399556540475,
          "y": 131.79659969084153
         },
         {
          "edge": 14,
          "pair": [
           "Chenildieu",
           "Cochepaille"
          ],
          "source": "Chenildieu",
          "target": "Cochepaille",
          "value": 2,
          "weight": 2,
          "x": 600.7391209509643,
          "y": 132.64281236384656
         },
         {
          "edge": 14,
          "pair": [
           "Chenildieu",
           "Cochepaille"
          ],
          "source": "Chenildieu",
          "target": "Cochepaille",
          "value": 2,
          "weight": 2,
          "x": 618.0399556540475,
          "y": 131.79659969084153
         }
        ],
        "data-3229dfcd071ac6b09dd169e4edf0ae31": [
         {
          "edge": 0,
          "pair": [
           "Jondrette",
           "MmeBurgon"
          ],
          "source": "Jondrette",
          "target": "MmeBurgon",
          "value": 1,
          "weight": 1,
          "x": 67.5630177564144,
          "y": 204.3239953843457
         },
         {
          "edge": 0,
          "pair": [
           "Jondrette",
           "MmeBurgon"
          ],
          "source": "Jondrette",
          "target": "MmeBurgon",
          "value": 1,
          "weight": 1,
          "x": 63.00350677512181,
          "y": 211.8259122578734
         },
         {
          "edge": 1,
          "pair": [
           "MmeBurgon",
           "Gavroche"
          ],
          "source": "MmeBurgon",
          "target": "Gavroche",
          "value": 2,
          "weight": 2,
          "x": 63.00350677512181,
          "y": 211.8259122578734
         },
         {
          "edge": 1,
          "pair": [
           "MmeBurgon",
           "Gavroche"
          ],
          "source": "MmeBurgon",
          "target": "Gavroche",
          "value": 2,
          "weight": 2,
          "x": 26.406939244124654,
          "y": 208.77008040898352
         },
         {
          "edge": 2,
          "pair": [
           "Gavroche",
           "Mabeuf"
          ],
          "source": "Gavroche",
          "target": "Mabeuf",
          "value": 1,
          "weight": 1,
          "x": 26.406939244124654,
          "y": 208.77008040898352
         },
         {
          "edge": 2,
          "pair": [
           "Gavroche",
           "Mabeuf"
          ],
          "source": "Gavroche",
          "target": "Mabeuf",
          "value": 1,
          "weight": 1,
          "x": 51.6775488584057,
          "y": 218.92350593591388
         },
         {
          "edge": 3,
          "pair": [
           "Gavroche",
           "Enjolras"
          ],
          "source": "Gavroche",
          "target": "Enjolras",
          "value": 7,
          "weight": 7,
          "x": 26.406939244124654,
          "y": 208.77008040898352
         },
         {
          "edge": 3,
          "pair": [
           "Gavroche",
           "Enjolras"
          ],
          "source": "Gavroche",
          "target": "Enjolras",
          "value": 7,
          "weight": 7,
          "x": 30.687445468577195,
          "y": 197.55348723435034
         },
         {
          "edge": 4,
          "pair": [
           "Gavroche",
           "Combeferre"
          ],
          "source": "Gavroche",
          "target": "Combeferre",
          "value": 6,
          "weight": 6,
          "x": 26.406939244124654,
          "y": 208.77008040898352
         },
         {
          "edge": 4,
          "pair": [
           "Gavroche",
           "Combeferre"
          ],
          "source": "Gavroche",
          "target": "Combeferre",
          "value": 6,
          "weight": 6,
          "x": 40.927137083338025,
          "y": 205.43080332637294
         },
         {
          "edge": 5,
          "pair": [
           "Gavroche",
           "Prouvaire"
          ],
          "source": "Gavroche",
          "target": "Prouvaire",
          "value": 1,
          "weight": 1,
          "x": 26.406939244124654,
          "y": 208.77008040898352
         },
         {
          "edge": 5,
          "pair": [
           "Gavroche",
           "Prouvaire"
          ],
          "source": "Gavroche",
          "target": "Prouvaire",
          "value": 1,
          "weight": 1,
          "x": 39.635962137945086,
          "y": 217.97488553535828
         },
         {
          "edge": 6,
          "pair": [
           "Gavroche",
           "Feuilly"
          ],
          "source": "Gavroche",
          "target": "Feuilly",
          "value": 2,
          "weight": 2,
          "x": 26.406939244124654,
          "y": 208.77008040898352
         },
         {
          "edge": 6,
          "pair": [
           "Gavroche",
           "Feuilly"
          ],
          "source": "Gavroche",
          "target": "Feuilly",
          "value": 2,
          "weight": 2,
          "x": 33.92206402180421,
          "y": 182.6454709460645
         },
         {
          "edge": 7,
          "pair": [
           "Gavroche",
           "Courfeyrac"
          ],
          "source": "Gavroche",
          "target": "Courfeyrac",
          "value": 7,
          "weight": 7,
          "x": 26.406939244124654,
          "y": 208.77008040898352
         },
         {
          "edge": 7,
          "pair": [
           "Gavroche",
           "Courfeyrac"
          ],
          "source": "Gavroche",
          "target": "Courfeyrac",
          "value": 7,
          "weight": 7,
          "x": 39.134078964395584,
          "y": 193.27811155498432
         },
         {
          "edge": 8,
          "pair": [
           "Gavroche",
           "Bahorel"
          ],
          "source": "Gavroche",
          "target": "Bahorel",
          "value": 5,
          "weight": 5,
          "x": 26.406939244124654,
          "y": 208.77008040898352
         },
         {
          "edge": 8,
          "pair": [
           "Gavroche",
           "Bahorel"
          ],
          "source": "Gavroche",
          "target": "Bahorel",
          "value": 5,
          "weight": 5,
          "x": 47.71755533889865,
          "y": 182.33375335117208
         },
         {
          "edge": 9,
          "pair": [
           "Gavroche",
           "Bossuet"
          ],
          "source": "Gavroche",
          "target": "Bossuet",
          "value": 5,
          "weight": 5,
          "x": 26.406939244124654,
          "y": 208.77008040898352
         },
         {
          "edge": 9,
          "pair": [
           "Gavroche",
           "Bossuet"
          ],
          "source": "Gavroche",
          "target": "Bossuet",
          "value": 5,
          "weight": 5,
          "x": 49.38023756542039,
          "y": 194.98681359433758
         },
         {
          "edge": 10,
          "pair": [
           "Gavroche",
           "Joly"
          ],
          "source": "Gavroche",
          "target": "Joly",
          "value": 3,
          "weight": 3,
          "x": 26.406939244124654,
          "y": 208.77008040898352
         },
         {
          "edge": 10,
          "pair": [
           "Gavroche",
           "Joly"
          ],
          "source": "Gavroche",
          "target": "Joly",
          "value": 3,
          "weight": 3,
          "x": 54.783953859910206,
          "y": 204.8572403720709
         },
         {
          "edge": 11,
          "pair": [
           "Gavroche",
           "Grantaire"
          ],
          "source": "Gavroche",
          "target": "Grantaire",
          "value": 1,
          "weight": 1,
          "x": 26.406939244124654,
          "y": 208.77008040898352
         },
         {
          "edge": 11,
          "pair": [
           "Gavroche",
           "Grantaire"
          ],
          "source": "Gavroche",
          "target": "Grantaire",
          "value": 1,
          "weight": 1,
          "x": 61.69541606284521,
          "y": 190.77201694799896
         },
         {
          "edge": 12,
          "pair": [
           "Gavroche",
           "Child1"
          ],
          "source": "Gavroche",
          "target": "Child1",
          "value": 2,
          "weight": 2,
          "x": 26.406939244124654,
          "y": 208.77008040898352
         },
         {
          "edge": 12,
          "pair": [
           "Gavroche",
           "Child1"
          ],
          "source": "Gavroche",
          "target": "Child1",
          "value": 2,
          "weight": 2,
          "x": 24.769051100455876,
          "y": 220.09764944634105
         },
         {
          "edge": 13,
          "pair": [
           "Gavroche",
           "Child2"
          ],
          "source": "Gavroche",
          "target": "Child2",
          "value": 2,
          "weight": 2,
          "x": 26.406939244124654,
          "y": 208.77008040898352
         },
         {
          "edge": 13,
          "pair": [
           "Gavroche",
           "Child2"
          ],
          "source": "Gavroche",
          "target": "Child2",
          "value": 2,
          "weight": 2,
          "x": 30.973551918949717,
          "y": 223.60884430582226
         },
         {
          "edge": 14,
          "pair": [
           "Gavroche",
           "MmeHucheloup"
          ],
          "source": "Gavroche",
          "target": "MmeHucheloup",
          "value": 1,
          "weight": 1,
          "x": 26.406939244124654,
          "y": 208.77008040898352
         },
         {
          "edge": 14,
          "pair": [
           "Gavroche",
           "MmeHucheloup"
          ],
          "source": "Gavroche",
          "target": "MmeHucheloup",
          "value": 1,
          "weight": 1,
          "x": 20.06705331834815,
          "y": 190.6375894309299
         },
         {
          "edge": 15,
          "pair": [
           "Mabeuf",
           "Enjolras"
          ],
          "source": "Mabeuf",
          "target": "Enjolras",
          "value": 1,
          "weight": 1,
          "x": 51.6775488584057,
          "y": 218.92350593591388
         },
         {
          "edge": 15,
          "pair": [
           "Mabeuf",
           "Enjolras"
          ],
          "source": "Mabeuf",
          "target": "Enjolras",
          "value": 1,
          "weight": 1,
          "x": 30.687445468577195,
          "y": 197.55348723435034
         },
         {
          "edge": 16,
          "pair": [
           "Mabeuf",
           "Combeferre"
          ],
          "source": "Mabeuf",
          "target": "Combeferre",
          "value": 2,
          "weight": 2,
          "x": 51.6775488584057,
          "y": 218.92350593591388
         },
         {
          "edge": 16,
          "pair": [
           "Mabeuf",
           "Combeferre"
          ],
          "source": "Mabeuf",
          "target": "Combeferre",
          "value": 2,
          "weight": 2,
          "x": 40.927137083338025,
          "y": 205.43080332637294
         },
         {
          "edge": 17,
          "pair": [
           "Mabeuf",
           "Feuilly"
          ],
          "source": "Mabeuf",
          "target": "Feuilly",
          "value": 1,
          "weight": 1,
          "x": 51.6775488584057,
          "y": 218.92350593591388
         },
         {
          "edge": 17,
          "pair": [
           "Mabeuf",
           "Feuilly"
          ],
          "source": "Mabeuf",
          "target": "Feuilly",
          "value": 1,
          "weight": 1,
          "x": 33.92206402180421,
          "y": 182.6454709460645
         },
         {
          "edge": 18,
          "pair": [
           "Mabeuf",
           "Courfeyrac"
          ],
          "source": "Mabeuf",
          "target": "Courfeyrac",
          "value": 2,
          "weight": 2,
          "x": 51.6775488584057,
          "y": 218.92350593591388
         },
         {
          "edge": 18,
          "pair": [
           "Mabeuf",
           "Courfeyrac"
          ],
          "source": "Mabeuf",
          "target": "Courfeyrac",
          "value": 2,
          "weight": 2,
          "x": 39.134078964395584,
          "y": 193.27811155498432
         },
         {
          "edge": 19,
          "pair": [
           "Mabeuf",
           "Bahorel"
          ],
          "source": "Mabeuf",
          "target": "Bahorel",
          "value": 2,
          "weight": 2,
          "x": 51.6775488584057,
          "y": 218.92350593591388
         },
         {
          "edge": 19,
          "pair": [
           "Mabeuf",
           "Bahorel"
          ],
          "source": "Mabeuf",
          "target": "Bahorel",
          "value": 2,
          "weight": 2,
          "x": 47.71755533889865,
          "y": 182.33375335117208
         },
         {
          "edge": 20,
          "pair": [
           "Mabeuf",
           "Bossuet"
          ],
          "source": "Mabeuf",
          "target": "Bossuet",
          "value": 1,
          "weight": 1,
          "x": 51.6775488584057,
          "y": 218.92350593591388
         },
         {
          "edge": 20,
          "pair": [
           "Mabeuf",
           "Bossuet"
          ],
          "source": "Mabeuf",
          "target": "Bossuet",
          "value": 1,
          "weight": 1,
          "x": 49.38023756542039,
          "y": 194.98681359433758
         },
         {
          "edge": 21,
          "pair": [
           "Mabeuf",
           "Joly"
          ],
          "source": "Mabeuf",
          "target": "Joly",
          "value": 1,
          "weight": 1,
          "x": 51.6775488584057,
          "y": 218.92350593591388
         },
         {
          "edge": 21,
          "pair": [
           "Mabeuf",
           "Joly"
          ],
          "source": "Mabeuf",
          "target": "Joly",
          "value": 1,
          "weight": 1,
          "x": 54.783953859910206,
          "y": 204.8572403720709
         },
         {
          "edge": 22,
          "pair": [
           "Mabeuf",
           "MotherPlutarch"
          ],
          "source": "Mabeuf",
          "target": "MotherPlutarch",
          "value": 3,
          "weight": 3,
          "x": 51.6775488584057,
          "y": 218.92350593591388
         },
         {
          "edge": 22,
          "pair": [
           "Mabeuf",
           "MotherPlutarch"
          ],
          "source": "Mabeuf",
          "target": "MotherPlutarch",
          "value": 3,
          "weight": 3,
          "x": 60.50609182842608,
          "y": 218.99238106802602
         },
         {
          "edge": 23,
          "pair": [
           "Enjolras",
           "Combeferre"
          ],
          "source": "Enjolras",
          "target": "Combeferre",
          "value": 15,
          "weight": 15,
          "x": 30.687445468577195,
          "y": 197.55348723435034
         },
         {
          "edge": 23,
          "pair": [
           "Enjolras",
           "Combeferre"
          ],
          "source": "Enjolras",
          "target": "Combeferre",
          "value": 15,
          "weight": 15,
          "x": 40.927137083338025,
          "y": 205.43080332637294
         },
         {
          "edge": 24,
          "pair": [
           "Enjolras",
           "Prouvaire"
          ],
          "source": "Enjolras",
          "target": "Prouvaire",
          "value": 4,
          "weight": 4,
          "x": 30.687445468577195,
          "y": 197.55348723435034
         },
         {
          "edge": 24,
          "pair": [
           "Enjolras",
           "Prouvaire"
          ],
          "source": "Enjolras",
          "target": "Prouvaire",
          "value": 4,
          "weight": 4,
          "x": 39.635962137945086,
          "y": 217.97488553535828
         },
         {
          "edge": 25,
          "pair": [
           "Enjolras",
           "Feuilly"
          ],
          "source": "Enjolras",
          "target": "Feuilly",
          "value": 6,
          "weight": 6,
          "x": 30.687445468577195,
          "y": 197.55348723435034
         },
         {
          "edge": 25,
          "pair": [
           "Enjolras",
           "Feuilly"
          ],
          "source": "Enjolras",
          "target": "Feuilly",
          "value": 6,
          "weight": 6,
          "x": 33.92206402180421,
          "y": 182.6454709460645
         },
         {
          "edge": 26,
          "pair": [
           "Enjolras",
           "Courfeyrac"
          ],
          "source": "Enjolras",
          "target": "Courfeyrac",
          "value": 17,
          "weight": 17,
          "x": 30.687445468577195,
          "y": 197.55348723435034
         },
         {
          "edge": 26,
          "pair": [
           "Enjolras",
           "Courfeyrac"
          ],
          "source": "Enjolras",
          "target": "Courfeyrac",
          "value": 17,
          "weight": 17,
          "x": 39.134078964395584,
          "y": 193.27811155498432
         },
         {
          "edge": 27,
          "pair": [
           "Enjolras",
           "Bahorel"
          ],
          "source": "Enjolras",
          "target": "Bahorel",
          "value": 4,
          "weight": 4,
          "x": 30.687445468577195,
          "y": 197.55348723435034
         },
         {
          "edge": 27,
          "pair": [
           "Enjolras",
           "Bahorel"
          ],
          "source": "Enjolras",
          "target": "Bahorel",
          "value": 4,
          "weight": 4,
          "x": 47.71755533889865,
          "y": 182.33375335117208
         },
         {
          "edge": 28,
          "pair": [
           "Enjolras",
           "Bossuet"
          ],
          "source": "Enjolras",
          "target": "Bossuet",
          "value": 10,
          "weight": 10,
          "x": 30.687445468577195,
          "y": 197.55348723435034
         },
         {
          "edge": 28,
          "pair": [
           "Enjolras",
           "Bossuet"
          ],
          "source": "Enjolras",
          "target": "Bossuet",
          "value": 10,
          "weight": 10,
          "x": 49.38023756542039,
          "y": 194.98681359433758
         },
         {
          "edge": 29,
          "pair": [
           "Enjolras",
           "Joly"
          ],
          "source": "Enjolras",
          "target": "Joly",
          "value": 5,
          "weight": 5,
          "x": 30.687445468577195,
          "y": 197.55348723435034
         },
         {
          "edge": 29,
          "pair": [
           "Enjolras",
           "Joly"
          ],
          "source": "Enjolras",
          "target": "Joly",
          "value": 5,
          "weight": 5,
          "x": 54.783953859910206,
          "y": 204.8572403720709
         },
         {
          "edge": 30,
          "pair": [
           "Enjolras",
           "Grantaire"
          ],
          "source": "Enjolras",
          "target": "Grantaire",
          "value": 3,
          "weight": 3,
          "x": 30.687445468577195,
          "y": 197.55348723435034
         },
         {
          "edge": 30,
          "pair": [
           "Enjolras",
           "Grantaire"
          ],
          "source": "Enjolras",
          "target": "Grantaire",
          "value": 3,
          "weight": 3,
          "x": 61.69541606284521,
          "y": 190.77201694799896
         },
         {
          "edge": 31,
          "pair": [
           "Enjolras",
           "MmeHucheloup"
          ],
          "source": "Enjolras",
          "target": "MmeHucheloup",
          "value": 1,
          "weight": 1,
          "x": 30.687445468577195,
          "y": 197.55348723435034
         },
         {
          "edge": 31,
          "pair": [
           "Enjolras",
           "MmeHucheloup"
          ],
          "source": "Enjolras",
          "target": "MmeHucheloup",
          "value": 1,
          "weight": 1,
          "x": 20.06705331834815,
          "y": 190.6375894309299
         },
         {
          "edge": 32,
          "pair": [
           "Combeferre",
           "Prouvaire"
          ],
          "source": "Combeferre",
          "target": "Prouvaire",
          "value": 2,
          "weight": 2,
          "x": 40.927137083338025,
          "y": 205.43080332637294
         },
         {
          "edge": 32,
          "pair": [
           "Combeferre",
           "Prouvaire"
          ],
          "source": "Combeferre",
          "target": "Prouvaire",
          "value": 2,
          "weight": 2,
          "x": 39.635962137945086,
          "y": 217.97488553535828
         },
         {
          "edge": 33,
          "pair": [
           "Combeferre",
           "Feuilly"
          ],
          "source": "Combeferre",
          "target": "Feuilly",
          "value": 5,
          "weight": 5,
          "x": 40.927137083338025,
          "y": 205.43080332637294
         },
         {
          "edge": 33,
          "pair": [
           "Combeferre",
           "Feuilly"
          ],
          "source": "Combeferre",
          "target": "Feuilly",
          "value": 5,
          "weight": 5,
          "x": 33.92206402180421,
          "y": 182.6454709460645
         },
         {
          "edge": 34,
          "pair": [
           "Combeferre",
           "Courfeyrac"
          ],
          "source": "Combeferre",
          "target": "Courfeyrac",
          "value": 13,
          "weight": 13,
          "x": 40.927137083338025,
          "y": 205.43080332637294
         },
         {
          "edge": 34,
          "pair": [
           "Combeferre",
           "Courfeyrac"
          ],
          "source": "Combeferre",
          "target": "Courfeyrac",
          "value": 13,
          "weight": 13,
          "x": 39.134078964395584,
          "y": 193.27811155498432
         },
         {
          "edge": 35,
          "pair": [
           "Combeferre",
           "Bahorel"
          ],
          "source": "Combeferre",
          "target": "Bahorel",
          "value": 5,
          "weight": 5,
          "x": 40.927137083338025,
          "y": 205.43080332637294
         },
         {
          "edge": 35,
          "pair": [
           "Combeferre",
           "Bahorel"
          ],
          "source": "Combeferre",
          "target": "Bahorel",
          "value": 5,
          "weight": 5,
          "x": 47.71755533889865,
          "y": 182.33375335117208
         },
         {
          "edge": 36,
          "pair": [
           "Combeferre",
           "Bossuet"
          ],
          "source": "Combeferre",
          "target": "Bossuet",
          "value": 9,
          "weight": 9,
          "x": 40.927137083338025,
          "y": 205.43080332637294
         },
         {
          "edge": 36,
          "pair": [
           "Combeferre",
           "Bossuet"
          ],
          "source": "Combeferre",
          "target": "Bossuet",
          "value": 9,
          "weight": 9,
          "x": 49.38023756542039,
          "y": 194.98681359433758
         },
         {
          "edge": 37,
          "pair": [
           "Combeferre",
           "Joly"
          ],
          "source": "Combeferre",
          "target": "Joly",
          "value": 5,
          "weight": 5,
          "x": 40.927137083338025,
          "y": 205.43080332637294
         },
         {
          "edge": 37,
          "pair": [
           "Combeferre",
           "Joly"
          ],
          "source": "Combeferre",
          "target": "Joly",
          "value": 5,
          "weight": 5,
          "x": 54.783953859910206,
          "y": 204.8572403720709
         },
         {
          "edge": 38,
          "pair": [
           "Combeferre",
           "Grantaire"
          ],
          "source": "Combeferre",
          "target": "Grantaire",
          "value": 1,
          "weight": 1,
          "x": 40.927137083338025,
          "y": 205.43080332637294
         },
         {
          "edge": 38,
          "pair": [
           "Combeferre",
           "Grantaire"
          ],
          "source": "Combeferre",
          "target": "Grantaire",
          "value": 1,
          "weight": 1,
          "x": 61.69541606284521,
          "y": 190.77201694799896
         },
         {
          "edge": 39,
          "pair": [
           "Prouvaire",
           "Feuilly"
          ],
          "source": "Prouvaire",
          "target": "Feuilly",
          "value": 2,
          "weight": 2,
          "x": 39.635962137945086,
          "y": 217.97488553535828
         },
         {
          "edge": 39,
          "pair": [
           "Prouvaire",
           "Feuilly"
          ],
          "source": "Prouvaire",
          "target": "Feuilly",
          "value": 2,
          "weight": 2,
          "x": 33.92206402180421,
          "y": 182.6454709460645
         },
         {
          "edge": 40,
          "pair": [
           "Prouvaire",
           "Courfeyrac"
          ],
          "source": "Prouvaire",
          "target": "Courfeyrac",
          "value": 3,
          "weight": 3,
          "x": 39.635962137945086,
          "y": 217.97488553535828
         },
         {
          "edge": 40,
          "pair": [
           "Prouvaire",
           "Courfeyrac"
          ],
          "source": "Prouvaire",
          "target": "Courfeyrac",
          "value": 3,
          "weight": 3,
          "x": 39.134078964395584,
          "y": 193.27811155498432
         },
         {
          "edge": 41,
          "pair": [
           "Prouvaire",
           "Bahorel"
          ],
          "source": "Prouvaire",
          "target": "Bahorel",
          "value": 2,
          "weight": 2,
          "x": 39.635962137945086,
          "y": 217.97488553535828
         },
         {
          "edge": 41,
          "pair": [
           "Prouvaire",
           "Bahorel"
          ],
          "source": "Prouvaire",
          "target": "Bahorel",
          "value": 2,
          "weight": 2,
          "x": 47.71755533889865,
          "y": 182.33375335117208
         },
         {
          "edge": 42,
          "pair": [
           "Prouvaire",
           "Bossuet"
          ],
          "source": "Prouvaire",
          "target": "Bossuet",
          "value": 2,
          "weight": 2,
          "x": 39.635962137945086,
          "y": 217.97488553535828
         },
         {
          "edge": 42,
          "pair": [
           "Prouvaire",
           "Bossuet"
          ],
          "source": "Prouvaire",
          "target": "Bossuet",
          "value": 2,
          "weight": 2,
          "x": 49.38023756542039,
          "y": 194.98681359433758
         },
         {
          "edge": 43,
          "pair": [
           "Prouvaire",
           "Joly"
          ],
          "source": "Prouvaire",
          "target": "Joly",
          "value": 2,
          "weight": 2,
          "x": 39.635962137945086,
          "y": 217.97488553535828
         },
         {
          "edge": 43,
          "pair": [
           "Prouvaire",
           "Joly"
          ],
          "source": "Prouvaire",
          "target": "Joly",
          "value": 2,
          "weight": 2,
          "x": 54.783953859910206,
          "y": 204.8572403720709
         },
         {
          "edge": 44,
          "pair": [
           "Prouvaire",
           "Grantaire"
          ],
          "source": "Prouvaire",
          "target": "Grantaire",
          "value": 1,
          "weight": 1,
          "x": 39.635962137945086,
          "y": 217.97488553535828
         },
         {
          "edge": 44,
          "pair": [
           "Prouvaire",
           "Grantaire"
          ],
          "source": "Prouvaire",
          "target": "Grantaire",
          "value": 1,
          "weight": 1,
          "x": 61.69541606284521,
          "y": 190.77201694799896
         },
         {
          "edge": 45,
          "pair": [
           "Feuilly",
           "Courfeyrac"
          ],
          "source": "Feuilly",
          "target": "Courfeyrac",
          "value": 6,
          "weight": 6,
          "x": 33.92206402180421,
          "y": 182.6454709460645
         },
         {
          "edge": 45,
          "pair": [
           "Feuilly",
           "Courfeyrac"
          ],
          "source": "Feuilly",
          "target": "Courfeyrac",
          "value": 6,
          "weight": 6,
          "x": 39.134078964395584,
          "y": 193.27811155498432
         },
         {
          "edge": 46,
          "pair": [
           "Feuilly",
           "Bahorel"
          ],
          "source": "Feuilly",
          "target": "Bahorel",
          "value": 3,
          "weight": 3,
          "x": 33.92206402180421,
          "y": 182.6454709460645
         },
         {
          "edge": 46,
          "pair": [
           "Feuilly",
           "Bahorel"
          ],
          "source": "Feuilly",
          "target": "Bahorel",
          "value": 3,
          "weight": 3,
          "x": 47.71755533889865,
          "y": 182.33375335117208
         },
         {
          "edge": 47,
          "pair": [
           "Feuilly",
           "Bossuet"
          ],
          "source": "Feuilly",
          "target": "Bossuet",
          "value": 6,
          "weight": 6,
          "x": 33.92206402180421,
          "y": 182.6454709460645
         },
         {
          "edge": 47,
          "pair": [
           "Feuilly",
           "Bossuet"
          ],
          "source": "Feuilly",
          "target": "Bossuet",
          "value": 6,
          "weight": 6,
          "x": 49.38023756542039,
          "y": 194.98681359433758
         },
         {
          "edge": 48,
          "pair": [
           "Feuilly",
           "Joly"
          ],
          "source": "Feuilly",
          "target": "Joly",
          "value": 5,
          "weight": 5,
          "x": 33.92206402180421,
          "y": 182.6454709460645
         },
         {
          "edge": 48,
          "pair": [
           "Feuilly",
           "Joly"
          ],
          "source": "Feuilly",
          "target": "Joly",
          "value": 5,
          "weight": 5,
          "x": 54.783953859910206,
          "y": 204.8572403720709
         },
         {
          "edge": 49,
          "pair": [
           "Feuilly",
           "Grantaire"
          ],
          "source": "Feuilly",
          "target": "Grantaire",
          "value": 1,
          "weight": 1,
          "x": 33.92206402180421,
          "y": 182.6454709460645
         },
         {
          "edge": 49,
          "pair": [
           "Feuilly",
           "Grantaire"
          ],
          "source": "Feuilly",
          "target": "Grantaire",
          "value": 1,
          "weight": 1,
          "x": 61.69541606284521,
          "y": 190.77201694799896
         },
         {
          "edge": 50,
          "pair": [
           "Courfeyrac",
           "Bahorel"
          ],
          "source": "Courfeyrac",
          "target": "Bahorel",
          "value": 6,
          "weight": 6,
          "x": 39.134078964395584,
          "y": 193.27811155498432
         },
         {
          "edge": 50,
          "pair": [
           "Courfeyrac",
           "Bahorel"
          ],
          "source": "Courfeyrac",
          "target": "Bahorel",
          "value": 6,
          "weight": 6,
          "x": 47.71755533889865,
          "y": 182.33375335117208
         },
         {
          "edge": 51,
          "pair": [
           "Courfeyrac",
           "Bossuet"
          ],
          "source": "Courfeyrac",
          "target": "Bossuet",
          "value": 12,
          "weight": 12,
          "x": 39.134078964395584,
          "y": 193.27811155498432
         },
         {
          "edge": 51,
          "pair": [
           "Courfeyrac",
           "Bossuet"
          ],
          "source": "Courfeyrac",
          "target": "Bossuet",
          "value": 12,
          "weight": 12,
          "x": 49.38023756542039,
          "y": 194.98681359433758
         },
         {
          "edge": 52,
          "pair": [
           "Courfeyrac",
           "Joly"
          ],
          "source": "Courfeyrac",
          "target": "Joly",
          "value": 5,
          "weight": 5,
          "x": 39.134078964395584,
          "y": 193.27811155498432
         },
         {
          "edge": 52,
          "pair": [
           "Courfeyrac",
           "Joly"
          ],
          "source": "Courfeyrac",
          "target": "Joly",
          "value": 5,
          "weight": 5,
          "x": 54.783953859910206,
          "y": 204.8572403720709
         },
         {
          "edge": 53,
          "pair": [
           "Courfeyrac",
           "Grantaire"
          ],
          "source": "Courfeyrac",
          "target": "Grantaire",
          "value": 2,
          "weight": 2,
          "x": 39.134078964395584,
          "y": 193.27811155498432
         },
         {
          "edge": 53,
          "pair": [
           "Courfeyrac",
           "Grantaire"
          ],
          "source": "Courfeyrac",
          "target": "Grantaire",
          "value": 2,
          "weight": 2,
          "x": 61.69541606284521,
          "y": 190.77201694799896
         },
         {
          "edge": 54,
          "pair": [
           "Courfeyrac",
           "MmeHucheloup"
          ],
          "source": "Courfeyrac",
          "target": "MmeHucheloup",
          "value": 1,
          "weight": 1,
          "x": 39.134078964395584,
          "y": 193.27811155498432
         },
         {
          "edge": 54,
          "pair": [
           "Courfeyrac",
           "MmeHucheloup"
          ],
          "source": "Courfeyrac",
          "target": "MmeHucheloup",
          "value": 1,
          "weight": 1,
          "x": 20.06705331834815,
          "y": 190.6375894309299
         },
         {
          "edge": 55,
          "pair": [
           "Bahorel",
           "Bossuet"
          ],
          "source": "Bahorel",
          "target": "Bossuet",
          "value": 4,
          "weight": 4,
          "x": 47.71755533889865,
          "y": 182.33375335117208
         },
         {
          "edge": 55,
          "pair": [
           "Bahorel",
           "Bossuet"
          ],
          "source": "Bahorel",
          "target": "Bossuet",
          "value": 4,
          "weight": 4,
          "x": 49.38023756542039,
          "y": 194.98681359433758
         },
         {
          "edge": 56,
          "pair": [
           "Bahorel",
           "Joly"
          ],
          "source": "Bahorel",
          "target": "Joly",
          "value": 5,
          "weight": 5,
          "x": 47.71755533889865,
          "y": 182.33375335117208
         },
         {
          "edge": 56,
          "pair": [
           "Bahorel",
           "Joly"
          ],
          "source": "Bahorel",
          "target": "Joly",
          "value": 5,
          "weight": 5,
          "x": 54.783953859910206,
          "y": 204.8572403720709
         },
         {
          "edge": 57,
          "pair": [
           "Bahorel",
           "Grantaire"
          ],
          "source": "Bahorel",
          "target": "Grantaire",
          "value": 1,
          "weight": 1,
          "x": 47.71755533889865,
          "y": 182.33375335117208
         },
         {
          "edge": 57,
          "pair": [
           "Bahorel",
           "Grantaire"
          ],
          "source": "Bahorel",
          "target": "Grantaire",
          "value": 1,
          "weight": 1,
          "x": 61.69541606284521,
          "y": 190.77201694799896
         },
         {
          "edge": 58,
          "pair": [
           "Bahorel",
           "MmeHucheloup"
          ],
          "source": "Bahorel",
          "target": "MmeHucheloup",
          "value": 1,
          "weight": 1,
          "x": 47.71755533889865,
          "y": 182.33375335117208
         },
         {
          "edge": 58,
          "pair": [
           "Bahorel",
           "MmeHucheloup"
          ],
          "source": "Bahorel",
          "target": "MmeHucheloup",
          "value": 1,
          "weight": 1,
          "x": 20.06705331834815,
          "y": 190.6375894309299
         },
         {
          "edge": 59,
          "pair": [
           "Bossuet",
           "Joly"
          ],
          "source": "Bossuet",
          "target": "Joly",
          "value": 7,
          "weight": 7,
          "x": 49.38023756542039,
          "y": 194.98681359433758
         },
         {
          "edge": 59,
          "pair": [
           "Bossuet",
           "Joly"
          ],
          "source": "Bossuet",
          "target": "Joly",
          "value": 7,
          "weight": 7,
          "x": 54.783953859910206,
          "y": 204.8572403720709
         },
         {
          "edge": 60,
          "pair": [
           "Bossuet",
           "Grantaire"
          ],
          "source": "Bossuet",
          "target": "Grantaire",
          "value": 3,
          "weight": 3,
          "x": 49.38023756542039,
          "y": 194.98681359433758
         },
         {
          "edge": 60,
          "pair": [
           "Bossuet",
           "Grantaire"
          ],
          "source": "Bossuet",
          "target": "Grantaire",
          "value": 3,
          "weight": 3,
          "x": 61.69541606284521,
          "y": 190.77201694799896
         },
         {
          "edge": 61,
          "pair": [
           "Bossuet",
           "MmeHucheloup"
          ],
          "source": "Bossuet",
          "target": "MmeHucheloup",
          "value": 1,
          "weight": 1,
          "x": 49.38023756542039,
          "y": 194.98681359433758
         },
         {
          "edge": 61,
          "pair": [
           "Bossuet",
           "MmeHucheloup"
          ],
          "source": "Bossuet",
          "target": "MmeHucheloup",
          "value": 1,
          "weight": 1,
          "x": 20.06705331834815,
          "y": 190.6375894309299
         },
         {
          "edge": 62,
          "pair": [
           "Joly",
           "Grantaire"
          ],
          "source": "Joly",
          "target": "Grantaire",
          "value": 2,
          "weight": 2,
          "x": 54.783953859910206,
          "y": 204.8572403720709
         },
         {
          "edge": 62,
          "pair": [
           "Joly",
           "Grantaire"
          ],
          "source": "Joly",
          "target": "Grantaire",
          "value": 2,
          "weight": 2,
          "x": 61.69541606284521,
          "y": 190.77201694799896
         },
         {
          "edge": 63,
          "pair": [
           "Joly",
           "MmeHucheloup"
          ],
          "source": "Joly",
          "target": "MmeHucheloup",
          "value": 1,
          "weight": 1,
          "x": 54.783953859910206,
          "y": 204.8572403720709
         },
         {
          "edge": 63,
          "pair": [
           "Joly",
           "MmeHucheloup"
          ],
          "source": "Joly",
          "target": "MmeHucheloup",
          "value": 1,
          "weight": 1,
          "x": 20.06705331834815,
          "y": 190.6375894309299
         },
         {
          "edge": 64,
          "pair": [
           "Grantaire",
           "MmeHucheloup"
          ],
          "source": "Grantaire",
          "target": "MmeHucheloup",
          "value": 1,
          "weight": 1,
          "x": 61.69541606284521,
          "y": 190.77201694799896
         },
         {
          "edge": 64,
          "pair": [
           "Grantaire",
           "MmeHucheloup"
          ],
          "source": "Grantaire",
          "target": "MmeHucheloup",
          "value": 1,
          "weight": 1,
          "x": 20.06705331834815,
          "y": 190.6375894309299
         },
         {
          "edge": 65,
          "pair": [
           "Child1",
           "Child2"
          ],
          "source": "Child1",
          "target": "Child2",
          "value": 3,
          "weight": 3,
          "x": 24.769051100455876,
          "y": 220.09764944634105
         },
         {
          "edge": 65,
          "pair": [
           "Child1",
           "Child2"
          ],
          "source": "Child1",
          "target": "Child2",
          "value": 3,
          "weight": 3,
          "x": 30.973551918949717,
          "y": 223.60884430582226
         }
        ],
        "data-38d63730ce6ed5b875e09b479ecc74dd": [
         {
          "__combo_size": 3616,
          "__node_r": 30.066592756745816,
          "__node_size": 3616,
          "__y_label": 90.04964947736647,
          "group": "3",
          "x": 600,
          "y": 132.1162422341123
         }
        ],
        "data-4fb209b81c0add1ce0d0ab1e70afcc2f": [
         {
          "__combo_size": 4960,
          "__node_r": 35.21363372331802,
          "__node_size": 4960,
          "__y_label": 380.98603040125164,
          "group": "0",
          "x": 136.96375045109124,
          "y": 428.19966412456967
         }
        ],
        "data-751ca1b4f22a86381aeea90b324e5281": [
         {
          "__combo_size": 4960,
          "__node_r": 35.21363372331802,
          "__node_size": 4960,
          "__y_label": 16.424199907925534,
          "group": "4",
          "x": 244.34855817778273,
          "y": 63.63783363124355
         }
        ],
        "data-7936411d3c57320dcfe2805cce8022a7": [
         {
          "edge": 0,
          "pair": [
           "Marguerite",
           "Fantine"
          ],
          "source": "Marguerite",
          "target": "Fantine",
          "value": 2,
          "weight": 2,
          "x": 495.1249516386602,
          "y": 403.94843472507415
         },
         {
          "edge": 0,
          "pair": [
           "Marguerite",
           "Fantine"
          ],
          "source": "Marguerite",
          "target": "Fantine",
          "value": 2,
          "weight": 2,
          "x": 487.46899524841217,
          "y": 411.9832129720535
         },
         {
          "edge": 1,
          "pair": [
           "Tholomyes",
           "Listolier"
          ],
          "source": "Tholomyes",
          "target": "Listolier",
          "value": 4,
          "weight": 4,
          "x": 478.40582477296147,
          "y": 420.3079168411901
         },
         {
          "edge": 1,
          "pair": [
           "Tholomyes",
           "Listolier"
          ],
          "source": "Tholomyes",
          "target": "Listolier",
          "value": 4,
          "weight": 4,
          "x": 490.92430583672336,
          "y": 424.96066435940565
         },
         {
          "edge": 2,
          "pair": [
           "Tholomyes",
           "Fameuil"
          ],
          "source": "Tholomyes",
          "target": "Fameuil",
          "value": 4,
          "weight": 4,
          "x": 478.40582477296147,
          "y": 420.3079168411901
         },
         {
          "edge": 2,
          "pair": [
           "Tholomyes",
           "Fameuil"
          ],
          "source": "Tholomyes",
          "target": "Fameuil",
          "value": 4,
          "weight": 4,
          "x": 479.77498034276425,
          "y": 432.05336491334623
         },
         {
          "edge": 3,
          "pair": [
           "Tholomyes",
           "Blacheville"
          ],
          "source": "Tholomyes",
          "target": "Blacheville",
          "value": 4,
          "weight": 4,
          "x": 478.40582477296147,
          "y": 420.3079168411901
         },
         {
          "edge": 3,
          "pair": [
           "Tholomyes",
           "Blacheville"
          ],
          "source": "Tholomyes",
          "target": "Blacheville",
          "value": 4,
          "weight": 4,
          "x": 505.09646062053577,
          "y": 424.4038794968363
         },
         {
          "edge": 4,
          "pair": [
           "Tholomyes",
           "Favourite"
          ],
          "source": "Tholomyes",
          "target": "Favourite",
          "value": 3,
          "weight": 3,
          "x": 478.40582477296147,
          "y": 420.3079168411901
         },
         {
          "edge": 4,
          "pair": [
           "Tholomyes",
           "Favourite"
          ],
          "source": "Tholomyes",
          "target": "Favourite",
          "value": 3,
          "weight": 3,
          "x": 499.89647542511375,
          "y": 415.05430881906926
         },
         {
          "edge": 5,
          "pair": [
           "Tholomyes",
           "Dahlia"
          ],
          "source": "Tholomyes",
          "target": "Dahlia",
          "value": 3,
          "weight": 3,
          "x": 478.40582477296147,
          "y": 420.3079168411901
         },
         {
          "edge": 5,
          "pair": [
           "Tholomyes",
           "Dahlia"
          ],
          "source": "Tholomyes",
          "target": "Dahlia",
          "value": 3,
          "weight": 3,
          "x": 489.9926940986976,
          "y": 437.83851536335237
         },
         {
          "edge": 6,
          "pair": [
           "Tholomyes",
           "Zephine"
          ],
          "source": "Tholomyes",
          "target": "Zephine",
          "value": 3,
          "weight": 3,
          "x": 478.40582477296147,
          "y": 420.3079168411901
         },
         {
          "edge": 6,
          "pair": [
           "Tholomyes",
           "Zephine"
          ],
          "source": "Tholomyes",
          "target": "Zephine",
          "value": 3,
          "weight": 3,
          "x": 500.89480010490206,
          "y": 434.83126775446726
         },
         {
          "edge": 7,
          "pair": [
           "Tholomyes",
           "Fantine"
          ],
          "source": "Tholomyes",
          "target": "Fantine",
          "value": 3,
          "weight": 3,
          "x": 478.40582477296147,
          "y": 420.3079168411901
         },
         {
          "edge": 7,
          "pair": [
           "Tholomyes",
           "Fantine"
          ],
          "source": "Tholomyes",
          "target": "Fantine",
          "value": 3,
          "weight": 3,
          "x": 487.46899524841217,
          "y": 411.9832129720535
         },
         {
          "edge": 8,
          "pair": [
           "Listolier",
           "Fameuil"
          ],
          "source": "Listolier",
          "target": "Fameuil",
          "value": 4,
          "weight": 4,
          "x": 490.92430583672336,
          "y": 424.96066435940565
         },
         {
          "edge": 8,
          "pair": [
           "Listolier",
           "Fameuil"
          ],
          "source": "Listolier",
          "target": "Fameuil",
          "value": 4,
          "weight": 4,
          "x": 479.77498034276425,
          "y": 432.05336491334623
         },
         {
          "edge": 9,
          "pair": [
           "Listolier",
           "Blacheville"
          ],
          "source": "Listolier",
          "target": "Blacheville",
          "value": 4,
          "weight": 4,
          "x": 490.92430583672336,
          "y": 424.96066435940565
         },
         {
          "edge": 9,
          "pair": [
           "Listolier",
           "Blacheville"
          ],
          "source": "Listolier",
          "target": "Blacheville",
          "value": 4,
          "weight": 4,
          "x": 505.09646062053577,
          "y": 424.4038794968363
         },
         {
          "edge": 10,
          "pair": [
           "Listolier",
           "Favourite"
          ],
          "source": "Listolier",
          "target": "Favourite",
          "value": 3,
          "weight": 3,
          "x": 490.92430583672336,
          "y": 424.96066435940565
         },
         {
          "edge": 10,
          "pair": [
           "Listolier",
           "Favourite"
          ],
          "source": "Listolier",
          "target": "Favourite",
          "value": 3,
          "weight": 3,
          "x": 499.89647542511375,
          "y": 415.05430881906926
         },
         {
          "edge": 11,
          "pair": [
           "Listolier",
           "Dahlia"
          ],
          "source": "Listolier",
          "target": "Dahlia",
          "value": 3,
          "weight": 3,
          "x": 490.92430583672336,
          "y": 424.96066435940565
         },
         {
          "edge": 11,
          "pair": [
           "Listolier",
           "Dahlia"
          ],
          "source": "Listolier",
          "target": "Dahlia",
          "value": 3,
          "weight": 3,
          "x": 489.9926940986976,
          "y": 437.83851536335237
         },
         {
          "edge": 12,
          "pair": [
           "Listolier",
           "Zephine"
          ],
          "source": "Listolier",
          "target": "Zephine",
          "value": 3,
          "weight": 3,
          "x": 490.92430583672336,
          "y": 424.96066435940565
         },
         {
          "edge": 12,
          "pair": [
           "Listolier",
           "Zephine"
          ],
          "source": "Listolier",
          "target": "Zephine",
          "value": 3,
          "weight": 3,
          "x": 500.89480010490206,
          "y": 434.83126775446726
         },
         {
          "edge": 13,
          "pair": [
           "Listolier",
           "Fantine"
          ],
          "source": "Listolier",
          "target": "Fantine",
          "value": 3,
          "weight": 3,
          "x": 490.92430583672336,
          "y": 424.96066435940565
         },
         {
          "edge": 13,
          "pair": [
           "Listolier",
           "Fantine"
          ],
          "source": "Listolier",
          "target": "Fantine",
          "value": 3,
          "weight": 3,
          "x": 487.46899524841217,
          "y": 411.9832129720535
         },
         {
          "edge": 14,
          "pair": [
           "Fameuil",
           "Blacheville"
          ],
          "source": "Fameuil",
          "target": "Blacheville",
          "value": 4,
          "weight": 4,
          "x": 479.77498034276425,
          "y": 432.05336491334623
         },
         {
          "edge": 14,
          "pair": [
           "Fameuil",
           "Blacheville"
          ],
          "source": "Fameuil",
          "target": "Blacheville",
          "value": 4,
          "weight": 4,
          "x": 505.09646062053577,
          "y": 424.4038794968363
         },
         {
          "edge": 15,
          "pair": [
           "Fameuil",
           "Favourite"
          ],
          "source": "Fameuil",
          "target": "Favourite",
          "value": 3,
          "weight": 3,
          "x": 479.77498034276425,
          "y": 432.05336491334623
         },
         {
          "edge": 15,
          "pair": [
           "Fameuil",
           "Favourite"
          ],
          "source": "Fameuil",
          "target": "Favourite",
          "value": 3,
          "weight": 3,
          "x": 499.89647542511375,
          "y": 415.05430881906926
         },
         {
          "edge": 16,
          "pair": [
           "Fameuil",
           "Dahlia"
          ],
          "source": "Fameuil",
          "target": "Dahlia",
          "value": 3,
          "weight": 3,
          "x": 479.77498034276425,
          "y": 432.05336491334623
         },
         {
          "edge": 16,
          "pair": [
           "Fameuil",
           "Dahlia"
          ],
          "source": "Fameuil",
          "target": "Dahlia",
          "value": 3,
          "weight": 3,
          "x": 489.9926940986976,
          "y": 437.83851536335237
         },
         {
          "edge": 17,
          "pair": [
           "Fameuil",
           "Zephine"
          ],
          "source": "Fameuil",
          "target": "Zephine",
          "value": 3,
          "weight": 3,
          "x": 479.77498034276425,
          "y": 432.05336491334623
         },
         {
          "edge": 17,
          "pair": [
           "Fameuil",
           "Zephine"
          ],
          "source": "Fameuil",
          "target": "Zephine",
          "value": 3,
          "weight": 3,
          "x": 500.89480010490206,
          "y": 434.83126775446726
         },
         {
          "edge": 18,
          "pair": [
           "Fameuil",
           "Fantine"
          ],
          "source": "Fameuil",
          "target": "Fantine",
          "value": 3,
          "weight": 3,
          "x": 479.77498034276425,
          "y": 432.05336491334623
         },
         {
          "edge": 18,
          "pair": [
           "Fameuil",
           "Fantine"
          ],
          "source": "Fameuil",
          "target": "Fantine",
          "value": 3,
          "weight": 3,
          "x": 487.46899524841217,
          "y": 411.9832129720535
         },
         {
          "edge": 19,
          "pair": [
           "Blacheville",
           "Favourite"
          ],
          "source": "Blacheville",
          "target": "Favourite",
          "value": 4,
          "weight": 4,
          "x": 505.09646062053577,
          "y": 424.4038794968363
         },
         {
          "edge": 19,
          "pair": [
           "Blacheville",
           "Favourite"
          ],
          "source": "Blacheville",
          "target": "Favourite",
          "value": 4,
          "weight": 4,
          "x": 499.89647542511375,
          "y": 415.05430881906926
         },
         {
          "edge": 20,
          "pair": [
           "Blacheville",
           "Dahlia"
          ],
          "source": "Blacheville",
          "target": "Dahlia",
          "value": 3,
          "weight": 3,
          "x": 505.09646062053577,
          "y": 424.4038794968363
         },
         {
          "edge": 20,
          "pair": [
           "Blacheville",
           "Dahlia"
          ],
          "source": "Blacheville",
          "target": "Dahlia",
          "value": 3,
          "weight": 3,
          "x": 489.9926940986976,
          "y": 437.83851536335237
         },
         {
          "edge": 21,
          "pair": [
           "Blacheville",
           "Zephine"
          ],
          "source": "Blacheville",
          "target": "Zephine",
          "value": 3,
          "weight": 3,
          "x": 505.09646062053577,
          "y": 424.4038794968363
         },
         {
          "edge": 21,
          "pair": [
           "Blacheville",
           "Zephine"
          ],
          "source": "Blacheville",
          "target": "Zephine",
          "value": 3,
          "weight": 3,
          "x": 500.89480010490206,
          "y": 434.83126775446726
         },
         {
          "edge": 22,
          "pair": [
           "Blacheville",
           "Fantine"
          ],
          "source": "Blacheville",
          "target": "Fantine",
          "value": 3,
          "weight": 3,
          "x": 505.09646062053577,
          "y": 424.4038794968363
         },
         {
          "edge": 22,
          "pair": [
           "Blacheville",
           "Fantine"
          ],
          "source": "Blacheville",
          "target": "Fantine",
          "value": 3,
          "weight": 3,
          "x": 487.46899524841217,
          "y": 411.9832129720535
         },
         {
          "edge": 23,
          "pair": [
           "Favourite",
           "Dahlia"
          ],
          "source": "Favourite",
          "target": "Dahlia",
          "value": 5,
          "weight": 5,
          "x": 499.89647542511375,
          "y": 415.05430881906926
         },
         {
          "edge": 23,
          "pair": [
           "Favourite",
           "Dahlia"
          ],
          "source": "Favourite",
          "target": "Dahlia",
          "value": 5,
          "weight": 5,
          "x": 489.9926940986976,
          "y": 437.83851536335237
         },
         {
          "edge": 24,
          "pair": [
           "Favourite",
           "Zephine"
          ],
          "source": "Favourite",
          "target": "Zephine",
          "value": 4,
          "weight": 4,
          "x": 499.89647542511375,
          "y": 415.05430881906926
         },
         {
          "edge": 24,
          "pair": [
           "Favourite",
           "Zephine"
          ],
          "source": "Favourite",
          "target": "Zephine",
          "value": 4,
          "weight": 4,
          "x": 500.89480010490206,
          "y": 434.83126775446726
         },
         {
          "edge": 25,
          "pair": [
           "Favourite",
           "Fantine"
          ],
          "source": "Favourite",
          "target": "Fantine",
          "value": 4,
          "weight": 4,
          "x": 499.89647542511375,
          "y": 415.05430881906926
         },
         {
          "edge": 25,
          "pair": [
           "Favourite",
           "Fantine"
          ],
          "source": "Favourite",
          "target": "Fantine",
          "value": 4,
          "weight": 4,
          "x": 487.46899524841217,
          "y": 411.9832129720535
         },
         {
          "edge": 26,
          "pair": [
           "Dahlia",
           "Zephine"
          ],
          "source": "Dahlia",
          "target": "Zephine",
          "value": 4,
          "weight": 4,
          "x": 489.9926940986976,
          "y": 437.83851536335237
         },
         {
          "edge": 26,
          "pair": [
           "Dahlia",
           "Zephine"
          ],
          "source": "Dahlia",
          "target": "Zephine",
          "value": 4,
          "weight": 4,
          "x": 500.89480010490206,
          "y": 434.83126775446726
         },
         {
          "edge": 27,
          "pair": [
           "Dahlia",
           "Fantine"
          ],
          "source": "Dahlia",
          "target": "Fantine",
          "value": 4,
          "weight": 4,
          "x": 489.9926940986976,
          "y": 437.83851536335237
         },
         {
          "edge": 27,
          "pair": [
           "Dahlia",
           "Fantine"
          ],
          "source": "Dahlia",
          "target": "Fantine",
          "value": 4,
          "weight": 4,
          "x": 487.46899524841217,
          "y": 411.9832129720535
         },
         {
          "edge": 28,
          "pair": [
           "Zephine",
           "Fantine"
          ],
          "source": "Zephine",
          "target": "Fantine",
          "value": 4,
          "weight": 4,
          "x": 500.89480010490206,
          "y": 434.83126775446726
         },
         {
          "edge": 28,
          "pair": [
           "Zephine",
           "Fantine"
          ],
          "source": "Zephine",
          "target": "Fantine",
          "value": 4,
          "weight": 4,
          "x": 487.46899524841217,
          "y": 411.9832129720535
         }
        ],
        "data-7e9de54f4b6d219a42ecf8b8b2eb2cfc": [
         {
          "edge": 0,
          "pair": [
           "Myriel",
           "Napoleon"
          ],
          "source": "Myriel",
          "target": "Napoleon",
          "value": 1,
          "weight": 1,
          "x": 135.49026712821495,
          "y": 426.9725488512879
         },
         {
          "edge": 0,
          "pair": [
           "Myriel",
           "Napoleon"
          ],
          "source": "Myriel",
          "target": "Napoleon",
          "value": 1,
          "weight": 1,
          "x": 116.60073826690184,
          "y": 418.9775395636761
         },
         {
          "edge": 1,
          "pair": [
           "Myriel",
           "MlleBaptistine"
          ],
          "source": "Myriel",
          "target": "MlleBaptistine",
          "value": 8,
          "weight": 8,
          "x": 135.49026712821495,
          "y": 426.9725488512879
         },
         {
          "edge": 1,
          "pair": [
           "Myriel",
           "MlleBaptistine"
          ],
          "source": "Myriel",
          "target": "MlleBaptistine",
          "value": 8,
          "weight": 8,
          "x": 140.69562565861364,
          "y": 443.74849415991065
         },
         {
          "edge": 2,
          "pair": [
           "Myriel",
           "MmeMagloire"
          ],
          "source": "Myriel",
          "target": "MmeMagloire",
          "value": 10,
          "weight": 10,
          "x": 135.49026712821495,
          "y": 426.9725488512879
         },
         {
          "edge": 2,
          "pair": [
           "Myriel",
           "MmeMagloire"
          ],
          "source": "Myriel",
          "target": "MmeMagloire",
          "value": 10,
          "weight": 10,
          "x": 151.40977813858993,
          "y": 431.45065387269267
         },
         {
          "edge": 3,
          "pair": [
           "Myriel",
           "CountessDeLo"
          ],
          "source": "Myriel",
          "target": "CountessDeLo",
          "value": 1,
          "weight": 1,
          "x": 135.49026712821495,
          "y": 426.9725488512879
         },
         {
          "edge": 3,
          "pair": [
           "Myriel",
           "CountessDeLo"
          ],
          "source": "Myriel",
          "target": "CountessDeLo",
          "value": 1,
          "weight": 1,
          "x": 128.0287230424295,
          "y": 407.7670881634811
         },
         {
          "edge": 4,
          "pair": [
           "Myriel",
           "Geborand"
          ],
          "source": "Myriel",
          "target": "Geborand",
          "value": 1,
          "weight": 1,
          "x": 135.49026712821495,
          "y": 426.9725488512879
         },
         {
          "edge": 4,
          "pair": [
           "Myriel",
           "Geborand"
          ],
          "source": "Myriel",
          "target": "Geborand",
          "value": 1,
          "weight": 1,
          "x": 124.79680074706947,
          "y": 446.9706504794925
         },
         {
          "edge": 5,
          "pair": [
           "Myriel",
           "Champtercier"
          ],
          "source": "Myriel",
          "target": "Champtercier",
          "value": 1,
          "weight": 1,
          "x": 135.49026712821495,
          "y": 426.9725488512879
         },
         {
          "edge": 5,
          "pair": [
           "Myriel",
           "Champtercier"
          ],
          "source": "Myriel",
          "target": "Champtercier",
          "value": 1,
          "weight": 1,
          "x": 115.83557021710044,
          "y": 434.6082478634256
         },
         {
          "edge": 6,
          "pair": [
           "Myriel",
           "Cravatte"
          ],
          "source": "Myriel",
          "target": "Cravatte",
          "value": 1,
          "weight": 1,
          "x": 135.49026712821495,
          "y": 426.9725488512879
         },
         {
          "edge": 6,
          "pair": [
           "Myriel",
           "Cravatte"
          ],
          "source": "Myriel",
          "target": "Cravatte",
          "value": 1,
          "weight": 1,
          "x": 143.42472339747556,
          "y": 407.1941892356779
         },
         {
          "edge": 7,
          "pair": [
           "Myriel",
           "Count"
          ],
          "source": "Myriel",
          "target": "Count",
          "value": 2,
          "weight": 2,
          "x": 135.49026712821495,
          "y": 426.9725488512879
         },
         {
          "edge": 7,
          "pair": [
           "Myriel",
           "Count"
          ],
          "source": "Myriel",
          "target": "Count",
          "value": 2,
          "weight": 2,
          "x": 154.40271512438005,
          "y": 443.79456933628643
         },
         {
          "edge": 8,
          "pair": [
           "Myriel",
           "OldMan"
          ],
          "source": "Myriel",
          "target": "OldMan",
          "value": 1,
          "weight": 1,
          "x": 135.49026712821495,
          "y": 426.9725488512879
         },
         {
          "edge": 8,
          "pair": [
           "Myriel",
           "OldMan"
          ],
          "source": "Myriel",
          "target": "OldMan",
          "value": 1,
          "weight": 1,
          "x": 155.75754463413162,
          "y": 416.02121092116096
         },
         {
          "edge": 9,
          "pair": [
           "MlleBaptistine",
           "MmeMagloire"
          ],
          "source": "MlleBaptistine",
          "target": "MmeMagloire",
          "value": 6,
          "weight": 6,
          "x": 140.69562565861364,
          "y": 443.74849415991065
         },
         {
          "edge": 9,
          "pair": [
           "MlleBaptistine",
           "MmeMagloire"
          ],
          "source": "MlleBaptistine",
          "target": "MmeMagloire",
          "value": 6,
          "weight": 6,
          "x": 151.40977813858993,
          "y": 431.45065387269267
         }
        ],
        "data-88ba1c2fe4a7ea2b69d7750dd8679cf5": [
         {
          "__combo_group_value": "1",
          "__node_r": 2.5,
          "__node_size": 25,
          "group": "1",
          "name": "Labarre",
          "x": 270.216639091377,
          "y": 232.4585140789118
         },
         {
          "__combo_group_value": "1",
          "__node_r": 2.5,
          "__node_size": 25,
          "group": "1",
          "name": "Valjean",
          "x": 250.93634426854968,
          "y": 248.96950848214792
         },
         {
          "__combo_group_value": "1",
          "__node_r": 2.5,
          "__node_size": 25,
          "group": "1",
          "name": "MmeDeR",
          "x": 213.586818427499,
          "y": 248.7816822053042
         },
         {
          "__combo_group_value": "1",
          "__node_r": 2.5,
          "__node_size": 25,
          "group": "1",
          "name": "Isabeau",
          "x": 243.64800259631622,
          "y": 274.9254800002268
         },
         {
          "__combo_group_value": "1",
          "__node_r": 2.5,
          "__node_size": 25,
          "group": "1",
          "name": "Gervais",
          "x": 242.75864297242148,
          "y": 217.13488909066604
         },
         {
          "__combo_group_value": "1",
          "__node_r": 2.5,
          "__node_size": 25,
          "group": "1",
          "name": "Cosette",
          "x": 237.9672066230323,
          "y": 242.37071404573672
         },
         {
          "__combo_group_value": "1",
          "__node_r": 2.5,
          "__node_size": 25,
          "group": "1",
          "name": "Javert",
          "x": 262.4665312875226,
          "y": 259.9418414492441
         },
         {
          "__combo_group_value": "1",
          "__node_r": 2.5,
          "__node_size": 25,
          "group": "1",
          "name": "Fauchelevent",
          "x": 259.20521639331963,
          "y": 235.81591226754188
         },
         {
          "__combo_group_value": "1",
          "__node_r": 2.5,
          "__node_size": 25,
          "group": "1",
          "name": "Perpetue",
          "x": 252.62964165829808,
          "y": 216.26376643853754
         },
         {
          "__combo_group_value": "1",
          "__node_r": 2.5,
          "__node_size": 25,
          "group": "1",
          "name": "Simplice",
          "x": 261.32053569206397,
          "y": 225.0446763037017
         },
         {
          "__combo_group_value": "1",
          "__node_r": 2.5,
          "__node_size": 25,
          "group": "1",
          "name": "Scaufflaire",
          "x": 272.7626397974009,
          "y": 252.84633286715143
         },
         {
          "__combo_group_value": "1",
          "__node_r": 2.5,
          "__node_size": 25,
          "group": "1",
          "name": "Woman1",
          "x": 254.85317115582362,
          "y": 272.17635277979997
         },
         {
          "__combo_group_value": "1",
          "__node_r": 2.5,
          "__node_size": 25,
          "group": "1",
          "name": "Pontmercy",
          "x": 233.5400166024625,
          "y": 219.39859921288834
         },
         {
          "__combo_group_value": "1",
          "__node_r": 2.5,
          "__node_size": 25,
          "group": "1",
          "name": "Woman2",
          "x": 242.51489079763635,
          "y": 227.7681472751983
         },
         {
          "__combo_group_value": "1",
          "__node_r": 2.5,
          "__node_size": 25,
          "group": "1",
          "name": "MotherInnocent",
          "x": 251.72389485741283,
          "y": 224.6563578973982
         },
         {
          "__combo_group_value": "1",
          "__node_r": 2.5,
          "__node_size": 25,
          "group": "1",
          "name": "Gribier",
          "x": 248.49916531868698,
          "y": 267.18395456686284
         },
         {
          "__combo_group_value": "1",
          "__node_r": 2.5,
          "__node_size": 25,
          "group": "1",
          "name": "Gillenormand",
          "x": 231.11966958790444,
          "y": 267.13309471415016
         },
         {
          "__combo_group_value": "1",
          "__node_r": 2.5,
          "__node_size": 25,
          "group": "1",
          "name": "Magnon",
          "x": 230.51803885155158,
          "y": 229.37232727410577
         },
         {
          "__combo_group_value": "1",
          "__node_r": 2.5,
          "__node_size": 25,
          "group": "1",
          "name": "MlleGillenormand",
          "x": 221.02417372856715,
          "y": 256.6638422877304
         },
         {
          "__combo_group_value": "1",
          "__node_r": 2.5,
          "__node_size": 25,
          "group": "1",
          "name": "MmePontmercy",
          "x": 219.5568442967858,
          "y": 227.63064054212134
         },
         {
          "__combo_group_value": "1",
          "__node_r": 2.5,
          "__node_size": 25,
          "group": "1",
          "name": "MlleVaubois",
          "x": 225.7622880037144,
          "y": 222.5339496399092
         },
         {
          "__combo_group_value": "1",
          "__node_r": 2.5,
          "__node_size": 25,
          "group": "1",
          "name": "LtGillenormand",
          "x": 222.6246274089301,
          "y": 238.52043984087578
         },
         {
          "__combo_group_value": "1",
          "__node_r": 2.5,
          "__node_size": 25,
          "group": "1",
          "name": "Marius",
          "x": 235.49094807991978,
          "y": 254.77115835171088
         },
         {
          "__combo_group_value": "1",
          "__node_r": 2.5,
          "__node_size": 25,
          "group": "1",
          "name": "BaronessT",
          "x": 213.4216452935568,
          "y": 240.69870750325475
         },
         {
          "__combo_group_value": "1",
          "__node_r": 2.5,
          "__node_size": 25,
          "group": "1",
          "name": "Toussaint",
          "x": 269.80157170470966,
          "y": 243.25769719979294
         }
        ],
        "data-99d191c7087b5e8ee451d9572c04fb24": [
         {
          "edge": 0,
          "pair": [
           "0",
           "1"
          ],
          "source": "0",
          "target": "1",
          "value": 11,
          "x": 136.96375045109124,
          "y": 428.19966412456967
         },
         {
          "edge": 0,
          "pair": [
           "0",
           "1"
          ],
          "source": "0",
          "target": "1",
          "value": 11,
          "x": 242.7626397974009,
          "y": 245.61543854723502
         },
         {
          "edge": 1,
          "pair": [
           "1",
           "2"
          ],
          "source": "1",
          "target": "2",
          "value": 20,
          "x": 242.7626397974009,
          "y": 245.61543854723502
         },
         {
          "edge": 1,
          "pair": [
           "1",
           "2"
          ],
          "source": "1",
          "target": "2",
          "value": 20,
          "x": 491.6023162705465,
          "y": 424.3484347250741
         },
         {
          "edge": 2,
          "pair": [
           "1",
           "3"
          ],
          "source": "1",
          "target": "3",
          "value": 15,
          "x": 242.7626397974009,
          "y": 245.61543854723502
         },
         {
          "edge": 2,
          "pair": [
           "1",
           "3"
          ],
          "source": "1",
          "target": "3",
          "value": 15,
          "x": 600,
          "y": 132.1162422341123
         },
         {
          "edge": 3,
          "pair": [
           "1",
           "4"
          ],
          "source": "1",
          "target": "4",
          "value": 48,
          "x": 242.7626397974009,
          "y": 245.61543854723502
         },
         {
          "edge": 3,
          "pair": [
           "1",
           "4"
          ],
          "source": "1",
          "target": "4",
          "value": 48,
          "x": 244.34855817778273,
          "y": 63.63783363124355
         },
         {
          "edge": 4,
          "pair": [
           "1",
           "5"
          ],
          "source": "1",
          "target": "5",
          "value": 48,
          "x": 242.7626397974009,
          "y": 245.61543854723502
         },
         {
          "edge": 4,
          "pair": [
           "1",
           "5"
          ],
          "source": "1",
          "target": "5",
          "value": 48,
          "x": 41.90994776469606,
          "y": 200.55241532843993
         },
         {
          "edge": 5,
          "pair": [
           "2",
           "3"
          ],
          "source": "2",
          "target": "3",
          "value": 1,
          "x": 491.6023162705465,
          "y": 424.3484347250741
         },
         {
          "edge": 5,
          "pair": [
           "2",
           "3"
          ],
          "source": "2",
          "target": "3",
          "value": 1,
          "x": 600,
          "y": 132.1162422341123
         },
         {
          "edge": 6,
          "pair": [
           "2",
           "4"
          ],
          "source": "2",
          "target": "4",
          "value": 3,
          "x": 491.6023162705465,
          "y": 424.3484347250741
         },
         {
          "edge": 6,
          "pair": [
           "2",
           "4"
          ],
          "source": "2",
          "target": "4",
          "value": 3,
          "x": 244.34855817778273,
          "y": 63.63783363124355
         },
         {
          "edge": 7,
          "pair": [
           "4",
           "5"
          ],
          "source": "4",
          "target": "5",
          "value": 8,
          "x": 244.34855817778273,
          "y": 63.63783363124355
         },
         {
          "edge": 7,
          "pair": [
           "4",
           "5"
          ],
          "source": "4",
          "target": "5",
          "value": 8,
          "x": 41.90994776469606,
          "y": 200.55241532843993
         }
        ],
        "data-a0b2686836e559f5fc82ac80854521c6": [
         {
          "__combo_size": 7312,
          "__node_r": 42.7551166528639,
          "__node_size": 7312,
          "__y_label": 145.79729867557603,
          "group": "5",
          "x": 41.90994776469606,
          "y": 200.55241532843993
         }
        ],
        "data-ae5bf96d579bb22a3f87fdb3ae858d64": [
         {
          "__combo_size": 10000,
          "__node_r": 50,
          "__node_size": 10000,
          "__y_label": 183.61543854723502,
          "group": "1",
          "x": 242.7626397974009,
          "y": 245.61543854723502
         }
        ],
        "data-be2e1ad33a9a25addc874c272e8f990a": [
         {
          "__combo_size": 4624,
          "__node_r": 34,
          "__node_size": 4624,
          "__y_label": 378.3484347250741,
          "group": "2",
          "x": 491.6023162705465,
          "y": 424.3484347250741
         }
        ],
        "data-ca4edebac5dc06e6348b96aac8024f43": [
         {
          "__combo_group_value": "5",
          "__node_r": 2.5,
          "__node_size": 25,
          "group": "5",
          "name": "Jondrette",
          "x": 67.5630177564144,
          "y": 204.3239953843457
         },
         {
          "__combo_group_value": "5",
          "__node_r": 2.5,
          "__node_size": 25,
          "group": "5",
          "name": "MmeBurgon",
          "x": 63.00350677512181,
          "y": 211.8259122578734
         },
         {
          "__combo_group_value": "5",
          "__node_r": 2.5,
          "__node_size": 25,
          "group": "5",
          "name": "Gavroche",
          "x": 26.406939244124654,
          "y": 208.77008040898352
         },
         {
          "__combo_group_value": "5",
          "__node_r": 2.5,
          "__node_size": 25,
          "group": "5",
          "name": "Mabeuf",
          "x": 51.6775488584057,
          "y": 218.92350593591388
         },
         {
          "__combo_group_value": "5",
          "__node_r": 2.5,
          "__node_size": 25,
          "group": "5",
          "name": "Enjolras",
          "x": 30.687445468577195,
          "y": 197.55348723435034
         },
         {
          "__combo_group_value": "5",
          "__node_r": 2.5,
          "__node_size": 25,
          "group": "5",
          "name": "Combeferre",
          "x": 40.927137083338025,
          "y": 205.43080332637294
         },
         {
          "__combo_group_value": "5",
          "__node_r": 2.5,
          "__node_size": 25,
          "group": "5",
          "name": "Prouvaire",
          "x": 39.635962137945086,
          "y": 217.97488553535828
         },
         {
          "__combo_group_value": "5",
          "__node_r": 2.5,
          "__node_size": 25,
          "group": "5",
          "name": "Feuilly",
          "x": 33.92206402180421,
          "y": 182.6454709460645
         },
         {
          "__combo_group_value": "5",
          "__node_r": 2.5,
          "__node_size": 25,
          "group": "5",
          "name": "Courfeyrac",
          "x": 39.134078964395584,
          "y": 193.27811155498432
         },
         {
          "__combo_group_value": "5",
          "__node_r": 2.5,
          "__node_size": 25,
          "group": "5",
          "name": "Bahorel",
          "x": 47.71755533889865,
          "y": 182.33375335117208
         },
         {
          "__combo_group_value": "5",
          "__node_r": 2.5,
          "__node_size": 25,
          "group": "5",
          "name": "Bossuet",
          "x": 49.38023756542039,
          "y": 194.98681359433758
         },
         {
          "__combo_group_value": "5",
          "__node_r": 2.5,
          "__node_size": 25,
          "group": "5",
          "name": "Joly",
          "x": 54.783953859910206,
          "y": 204.8572403720709
         },
         {
          "__combo_group_value": "5",
          "__node_r": 2.5,
          "__node_size": 25,
          "group": "5",
          "name": "Grantaire",
          "x": 61.69541606284521,
          "y": 190.77201694799896
         },
         {
          "__combo_group_value": "5",
          "__node_r": 2.5,
          "__node_size": 25,
          "group": "5",
          "name": "MotherPlutarch",
          "x": 60.50609182842608,
          "y": 218.99238106802602
         },
         {
          "__combo_group_value": "5",
          "__node_r": 2.5,
          "__node_size": 25,
          "group": "5",
          "name": "Child1",
          "x": 24.769051100455876,
          "y": 220.09764944634105
         },
         {
          "__combo_group_value": "5",
          "__node_r": 2.5,
          "__node_size": 25,
          "group": "5",
          "name": "Child2",
          "x": 30.973551918949717,
          "y": 223.60884430582226
         },
         {
          "__combo_group_value": "5",
          "__node_r": 2.5,
          "__node_size": 25,
          "group": "5",
          "name": "MmeHucheloup",
          "x": 20.06705331834815,
          "y": 190.6375894309299
         }
        ],
        "data-db7b5dc7ff31016cb96c79d43f19c02e": [
         {
          "__combo_group_value": "3",
          "__node_r": 2.5,
          "__node_size": 25,
          "group": "3",
          "name": "Bamatabois",
          "x": 585.0166769161623,
          "y": 121.44171004852957
         },
         {
          "__combo_group_value": "3",
          "__node_r": 2.5,
          "__node_size": 25,
          "group": "3",
          "name": "Judge",
          "x": 586.1087577801542,
          "y": 141.68346580694828
         },
         {
          "__combo_group_value": "3",
          "__node_r": 2.5,
          "__node_size": 25,
          "group": "3",
          "name": "Champmathieu",
          "x": 604.5047881831548,
          "y": 115.86185018986886
         },
         {
          "__combo_group_value": "3",
          "__node_r": 2.5,
          "__node_size": 25,
          "group": "3",
          "name": "Brevet",
          "x": 605.5907005155169,
          "y": 149.27101530463898
         },
         {
          "__combo_group_value": "3",
          "__node_r": 2.5,
          "__node_size": 25,
          "group": "3",
          "name": "Chenildieu",
          "x": 600.7391209509643,
          "y": 132.64281236384656
         },
         {
          "__combo_group_value": "3",
          "__node_r": 2.5,
          "__node_size": 25,
          "group": "3",
          "name": "Cochepaille",
          "x": 618.0399556540475,
          "y": 131.79659969084153
         }
        ],
        "data-ecd48c07d843657cee6b5ade574a0c8b": [
         {
          "edge": 0,
          "pair": [
           "Labarre",
           "Valjean"
          ],
          "source": "Labarre",
          "target": "Valjean",
          "value": 1,
          "weight": 1,
          "x": 270.216639091377,
          "y": 232.4585140789118
         },
         {
          "edge": 0,
          "pair": [
           "Labarre",
           "Valjean"
          ],
          "source": "Labarre",
          "target": "Valjean",
          "value": 1,
          "weight": 1,
          "x": 250.93634426854968,
          "y": 248.96950848214792
         },
         {
          "edge": 1,
          "pair": [
           "Valjean",
           "MmeDeR"
          ],
          "source": "Valjean",
          "target": "MmeDeR",
          "value": 1,
          "weight": 1,
          "x": 250.93634426854968,
          "y": 248.96950848214792
         },
         {
          "edge": 1,
          "pair": [
           "Valjean",
           "MmeDeR"
          ],
          "source": "Valjean",
          "target": "MmeDeR",
          "value": 1,
          "weight": 1,
          "x": 213.586818427499,
          "y": 248.7816822053042
         },
         {
          "edge": 2,
          "pair": [
           "Valjean",
           "Isabeau"
          ],
          "source": "Valjean",
          "target": "Isabeau",
          "value": 1,
          "weight": 1,
          "x": 250.93634426854968,
          "y": 248.96950848214792
         },
         {
          "edge": 2,
          "pair": [
           "Valjean",
           "Isabeau"
          ],
          "source": "Valjean",
          "target": "Isabeau",
          "value": 1,
          "weight": 1,
          "x": 243.64800259631622,
          "y": 274.9254800002268
         },
         {
          "edge": 3,
          "pair": [
           "Valjean",
           "Gervais"
          ],
          "source": "Valjean",
          "target": "Gervais",
          "value": 1,
          "weight": 1,
          "x": 250.93634426854968,
          "y": 248.96950848214792
         },
         {
          "edge": 3,
          "pair": [
           "Valjean",
           "Gervais"
          ],
          "source": "Valjean",
          "target": "Gervais",
          "value": 1,
          "weight": 1,
          "x": 242.75864297242148,
          "y": 217.13488909066604
         },
         {
          "edge": 4,
          "pair": [
           "Valjean",
           "Cosette"
          ],
          "source": "Valjean",
          "target": "Cosette",
          "value": 31,
          "weight": 31,
          "x": 250.93634426854968,
          "y": 248.96950848214792
         },
         {
          "edge": 4,
          "pair": [
           "Valjean",
           "Cosette"
          ],
          "source": "Valjean",
          "target": "Cosette",
          "value": 31,
          "weight": 31,
          "x": 237.9672066230323,
          "y": 242.37071404573672
         },
         {
          "edge": 5,
          "pair": [
           "Valjean",
           "Javert"
          ],
          "source": "Valjean",
          "target": "Javert",
          "value": 17,
          "weight": 17,
          "x": 250.93634426854968,
          "y": 248.96950848214792
         },
         {
          "edge": 5,
          "pair": [
           "Valjean",
           "Javert"
          ],
          "source": "Valjean",
          "target": "Javert",
          "value": 17,
          "weight": 17,
          "x": 262.4665312875226,
          "y": 259.9418414492441
         },
         {
          "edge": 6,
          "pair": [
           "Valjean",
           "Fauchelevent"
          ],
          "source": "Valjean",
          "target": "Fauchelevent",
          "value": 8,
          "weight": 8,
          "x": 250.93634426854968,
          "y": 248.96950848214792
         },
         {
          "edge": 6,
          "pair": [
           "Valjean",
           "Fauchelevent"
          ],
          "source": "Valjean",
          "target": "Fauchelevent",
          "value": 8,
          "weight": 8,
          "x": 259.20521639331963,
          "y": 235.81591226754188
         },
         {
          "edge": 7,
          "pair": [
           "Valjean",
           "Simplice"
          ],
          "source": "Valjean",
          "target": "Simplice",
          "value": 3,
          "weight": 3,
          "x": 250.93634426854968,
          "y": 248.96950848214792
         },
         {
          "edge": 7,
          "pair": [
           "Valjean",
           "Simplice"
          ],
          "source": "Valjean",
          "target": "Simplice",
          "value": 3,
          "weight": 3,
          "x": 261.32053569206397,
          "y": 225.0446763037017
         },
         {
          "edge": 8,
          "pair": [
           "Valjean",
           "Scaufflaire"
          ],
          "source": "Valjean",
          "target": "Scaufflaire",
          "value": 1,
          "weight": 1,
          "x": 250.93634426854968,
          "y": 248.96950848214792
         },
         {
          "edge": 8,
          "pair": [
           "Valjean",
           "Scaufflaire"
          ],
          "source": "Valjean",
          "target": "Scaufflaire",
          "value": 1,
          "weight": 1,
          "x": 272.7626397974009,
          "y": 252.84633286715143
         },
         {
          "edge": 9,
          "pair": [
           "Valjean",
           "Woman1"
          ],
          "source": "Valjean",
          "target": "Woman1",
          "value": 2,
          "weight": 2,
          "x": 250.93634426854968,
          "y": 248.96950848214792
         },
         {
          "edge": 9,
          "pair": [
           "Valjean",
           "Woman1"
          ],
          "source": "Valjean",
          "target": "Woman1",
          "value": 2,
          "weight": 2,
          "x": 254.85317115582362,
          "y": 272.17635277979997
         },
         {
          "edge": 10,
          "pair": [
           "Valjean",
           "Woman2"
          ],
          "source": "Valjean",
          "target": "Woman2",
          "value": 3,
          "weight": 3,
          "x": 250.93634426854968,
          "y": 248.96950848214792
         },
         {
          "edge": 10,
          "pair": [
           "Valjean",
           "Woman2"
          ],
          "source": "Valjean",
          "target": "Woman2",
          "value": 3,
          "weight": 3,
          "x": 242.51489079763635,
          "y": 227.7681472751983
         },
         {
          "edge": 11,
          "pair": [
           "Valjean",
           "MotherInnocent"
          ],
          "source": "Valjean",
          "target": "MotherInnocent",
          "value": 1,
          "weight": 1,
          "x": 250.93634426854968,
          "y": 248.96950848214792
         },
         {
          "edge": 11,
          "pair": [
           "Valjean",
           "MotherInnocent"
          ],
          "source": "Valjean",
          "target": "MotherInnocent",
          "value": 1,
          "weight": 1,
          "x": 251.72389485741283,
          "y": 224.6563578973982
         },
         {
          "edge": 12,
          "pair": [
           "Valjean",
           "Gillenormand"
          ],
          "source": "Valjean",
          "target": "Gillenormand",
          "value": 2,
          "weight": 2,
          "x": 250.93634426854968,
          "y": 248.96950848214792
         },
         {
          "edge": 12,
          "pair": [
           "Valjean",
           "Gillenormand"
          ],
          "source": "Valjean",
          "target": "Gillenormand",
          "value": 2,
          "weight": 2,
          "x": 231.11966958790444,
          "y": 267.13309471415016
         },
         {
          "edge": 13,
          "pair": [
           "Valjean",
           "MlleGillenormand"
          ],
          "source": "Valjean",
          "target": "MlleGillenormand",
          "value": 2,
          "weight": 2,
          "x": 250.93634426854968,
          "y": 248.96950848214792
         },
         {
          "edge": 13,
          "pair": [
           "Valjean",
           "MlleGillenormand"
          ],
          "source": "Valjean",
          "target": "MlleGillenormand",
          "value": 2,
          "weight": 2,
          "x": 221.02417372856715,
          "y": 256.6638422877304
         },
         {
          "edge": 14,
          "pair": [
           "Valjean",
           "Marius"
          ],
          "source": "Valjean",
          "target": "Marius",
          "value": 19,
          "weight": 19,
          "x": 250.93634426854968,
          "y": 248.96950848214792
         },
         {
          "edge": 14,
          "pair": [
           "Valjean",
           "Marius"
          ],
          "source": "Valjean",
          "target": "Marius",
          "value": 19,
          "weight": 19,
          "x": 235.49094807991978,
          "y": 254.77115835171088
         },
         {
          "edge": 15,
          "pair": [
           "Valjean",
           "Toussaint"
          ],
          "source": "Valjean",
          "target": "Toussaint",
          "value": 1,
          "weight": 1,
          "x": 250.93634426854968,
          "y": 248.96950848214792
         },
         {
          "edge": 15,
          "pair": [
           "Valjean",
           "Toussaint"
          ],
          "source": "Valjean",
          "target": "Toussaint",
          "value": 1,
          "weight": 1,
          "x": 269.80157170470966,
          "y": 243.25769719979294
         },
         {
          "edge": 16,
          "pair": [
           "Cosette",
           "Javert"
          ],
          "source": "Cosette",
          "target": "Javert",
          "value": 1,
          "weight": 1,
          "x": 237.9672066230323,
          "y": 242.37071404573672
         },
         {
          "edge": 16,
          "pair": [
           "Cosette",
           "Javert"
          ],
          "source": "Cosette",
          "target": "Javert",
          "value": 1,
          "weight": 1,
          "x": 262.4665312875226,
          "y": 259.9418414492441
         },
         {
          "edge": 17,
          "pair": [
           "Cosette",
           "Woman2"
          ],
          "source": "Cosette",
          "target": "Woman2",
          "value": 1,
          "weight": 1,
          "x": 237.9672066230323,
          "y": 242.37071404573672
         },
         {
          "edge": 17,
          "pair": [
           "Cosette",
           "Woman2"
          ],
          "source": "Cosette",
          "target": "Woman2",
          "value": 1,
          "weight": 1,
          "x": 242.51489079763635,
          "y": 227.7681472751983
         },
         {
          "edge": 18,
          "pair": [
           "Cosette",
           "Gillenormand"
          ],
          "source": "Cosette",
          "target": "Gillenormand",
          "value": 3,
          "weight": 3,
          "x": 237.9672066230323,
          "y": 242.37071404573672
         },
         {
          "edge": 18,
          "pair": [
           "Cosette",
           "Gillenormand"
          ],
          "source": "Cosette",
          "target": "Gillenormand",
          "value": 3,
          "weight": 3,
          "x": 231.11966958790444,
          "y": 267.13309471415016
         },
         {
          "edge": 19,
          "pair": [
           "Cosette",
           "MlleGillenormand"
          ],
          "source": "Cosette",
          "target": "MlleGillenormand",
          "value": 2,
          "weight": 2,
          "x": 237.9672066230323,
          "y": 242.37071404573672
         },
         {
          "edge": 19,
          "pair": [
           "Cosette",
           "MlleGillenormand"
          ],
          "source": "Cosette",
          "target": "MlleGillenormand",
          "value": 2,
          "weight": 2,
          "x": 221.02417372856715,
          "y": 256.6638422877304
         },
         {
          "edge": 20,
          "pair": [
           "Cosette",
           "LtGillenormand"
          ],
          "source": "Cosette",
          "target": "LtGillenormand",
          "value": 1,
          "weight": 1,
          "x": 237.9672066230323,
          "y": 242.37071404573672
         },
         {
          "edge": 20,
          "pair": [
           "Cosette",
           "LtGillenormand"
          ],
          "source": "Cosette",
          "target": "LtGillenormand",
          "value": 1,
          "weight": 1,
          "x": 222.6246274089301,
          "y": 238.52043984087578
         },
         {
          "edge": 21,
          "pair": [
           "Cosette",
           "Marius"
          ],
          "source": "Cosette",
          "target": "Marius",
          "value": 21,
          "weight": 21,
          "x": 237.9672066230323,
          "y": 242.37071404573672
         },
         {
          "edge": 21,
          "pair": [
           "Cosette",
           "Marius"
          ],
          "source": "Cosette",
          "target": "Marius",
          "value": 21,
          "weight": 21,
          "x": 235.49094807991978,
          "y": 254.77115835171088
         },
         {
          "edge": 22,
          "pair": [
           "Cosette",
           "Toussaint"
          ],
          "source": "Cosette",
          "target": "Toussaint",
          "value": 2,
          "weight": 2,
          "x": 237.9672066230323,
          "y": 242.37071404573672
         },
         {
          "edge": 22,
          "pair": [
           "Cosette",
           "Toussaint"
          ],
          "source": "Cosette",
          "target": "Toussaint",
          "value": 2,
          "weight": 2,
          "x": 269.80157170470966,
          "y": 243.25769719979294
         },
         {
          "edge": 23,
          "pair": [
           "Javert",
           "Fauchelevent"
          ],
          "source": "Javert",
          "target": "Fauchelevent",
          "value": 1,
          "weight": 1,
          "x": 262.4665312875226,
          "y": 259.9418414492441
         },
         {
          "edge": 23,
          "pair": [
           "Javert",
           "Fauchelevent"
          ],
          "source": "Javert",
          "target": "Fauchelevent",
          "value": 1,
          "weight": 1,
          "x": 259.20521639331963,
          "y": 235.81591226754188
         },
         {
          "edge": 24,
          "pair": [
           "Javert",
           "Simplice"
          ],
          "source": "Javert",
          "target": "Simplice",
          "value": 1,
          "weight": 1,
          "x": 262.4665312875226,
          "y": 259.9418414492441
         },
         {
          "edge": 24,
          "pair": [
           "Javert",
           "Simplice"
          ],
          "source": "Javert",
          "target": "Simplice",
          "value": 1,
          "weight": 1,
          "x": 261.32053569206397,
          "y": 225.0446763037017
         },
         {
          "edge": 25,
          "pair": [
           "Javert",
           "Woman1"
          ],
          "source": "Javert",
          "target": "Woman1",
          "value": 1,
          "weight": 1,
          "x": 262.4665312875226,
          "y": 259.9418414492441
         },
         {
          "edge": 25,
          "pair": [
           "Javert",
           "Woman1"
          ],
          "source": "Javert",
          "target": "Woman1",
          "value": 1,
          "weight": 1,
          "x": 254.85317115582362,
          "y": 272.17635277979997
         },
         {
          "edge": 26,
          "pair": [
           "Javert",
           "Woman2"
          ],
          "source": "Javert",
          "target": "Woman2",
          "value": 1,
          "weight": 1,
          "x": 262.4665312875226,
          "y": 259.9418414492441
         },
         {
          "edge": 26,
          "pair": [
           "Javert",
           "Woman2"
          ],
          "source": "Javert",
          "target": "Woman2",
          "value": 1,
          "weight": 1,
          "x": 242.51489079763635,
          "y": 227.7681472751983
         },
         {
          "edge": 27,
          "pair": [
           "Javert",
           "Toussaint"
          ],
          "source": "Javert",
          "target": "Toussaint",
          "value": 1,
          "weight": 1,
          "x": 262.4665312875226,
          "y": 259.9418414492441
         },
         {
          "edge": 27,
          "pair": [
           "Javert",
           "Toussaint"
          ],
          "source": "Javert",
          "target": "Toussaint",
          "value": 1,
          "weight": 1,
          "x": 269.80157170470966,
          "y": 243.25769719979294
         },
         {
          "edge": 28,
          "pair": [
           "Fauchelevent",
           "MotherInnocent"
          ],
          "source": "Fauchelevent",
          "target": "MotherInnocent",
          "value": 3,
          "weight": 3,
          "x": 259.20521639331963,
          "y": 235.81591226754188
         },
         {
          "edge": 28,
          "pair": [
           "Fauchelevent",
           "MotherInnocent"
          ],
          "source": "Fauchelevent",
          "target": "MotherInnocent",
          "value": 3,
          "weight": 3,
          "x": 251.72389485741283,
          "y": 224.6563578973982
         },
         {
          "edge": 29,
          "pair": [
           "Fauchelevent",
           "Gribier"
          ],
          "source": "Fauchelevent",
          "target": "Gribier",
          "value": 2,
          "weight": 2,
          "x": 259.20521639331963,
          "y": 235.81591226754188
         },
         {
          "edge": 29,
          "pair": [
           "Fauchelevent",
           "Gribier"
          ],
          "source": "Fauchelevent",
          "target": "Gribier",
          "value": 2,
          "weight": 2,
          "x": 248.49916531868698,
          "y": 267.18395456686284
         },
         {
          "edge": 30,
          "pair": [
           "Perpetue",
           "Simplice"
          ],
          "source": "Perpetue",
          "target": "Simplice",
          "value": 2,
          "weight": 2,
          "x": 252.62964165829808,
          "y": 216.26376643853754
         },
         {
          "edge": 30,
          "pair": [
           "Perpetue",
           "Simplice"
          ],
          "source": "Perpetue",
          "target": "Simplice",
          "value": 2,
          "weight": 2,
          "x": 261.32053569206397,
          "y": 225.0446763037017
         },
         {
          "edge": 31,
          "pair": [
           "Pontmercy",
           "MmePontmercy"
          ],
          "source": "Pontmercy",
          "target": "MmePontmercy",
          "value": 1,
          "weight": 1,
          "x": 233.5400166024625,
          "y": 219.39859921288834
         },
         {
          "edge": 31,
          "pair": [
           "Pontmercy",
           "MmePontmercy"
          ],
          "source": "Pontmercy",
          "target": "MmePontmercy",
          "value": 1,
          "weight": 1,
          "x": 219.5568442967858,
          "y": 227.63064054212134
         },
         {
          "edge": 32,
          "pair": [
           "Pontmercy",
           "Marius"
          ],
          "source": "Pontmercy",
          "target": "Marius",
          "value": 1,
          "weight": 1,
          "x": 233.5400166024625,
          "y": 219.39859921288834
         },
         {
          "edge": 32,
          "pair": [
           "Pontmercy",
           "Marius"
          ],
          "source": "Pontmercy",
          "target": "Marius",
          "value": 1,
          "weight": 1,
          "x": 235.49094807991978,
          "y": 254.77115835171088
         },
         {
          "edge": 33,
          "pair": [
           "Gillenormand",
           "Magnon"
          ],
          "source": "Gillenormand",
          "target": "Magnon",
          "value": 1,
          "weight": 1,
          "x": 231.11966958790444,
          "y": 267.13309471415016
         },
         {
          "edge": 33,
          "pair": [
           "Gillenormand",
           "Magnon"
          ],
          "source": "Gillenormand",
          "target": "Magnon",
          "value": 1,
          "weight": 1,
          "x": 230.51803885155158,
          "y": 229.37232727410577
         },
         {
          "edge": 34,
          "pair": [
           "Gillenormand",
           "MlleGillenormand"
          ],
          "source": "Gillenormand",
          "target": "MlleGillenormand",
          "value": 9,
          "weight": 9,
          "x": 231.11966958790444,
          "y": 267.13309471415016
         },
         {
          "edge": 34,
          "pair": [
           "Gillenormand",
           "MlleGillenormand"
          ],
          "source": "Gillenormand",
          "target": "MlleGillenormand",
          "value": 9,
          "weight": 9,
          "x": 221.02417372856715,
          "y": 256.6638422877304
         },
         {
          "edge": 35,
          "pair": [
           "Gillenormand",
           "LtGillenormand"
          ],
          "source": "Gillenormand",
          "target": "LtGillenormand",
          "value": 1,
          "weight": 1,
          "x": 231.11966958790444,
          "y": 267.13309471415016
         },
         {
          "edge": 35,
          "pair": [
           "Gillenormand",
           "LtGillenormand"
          ],
          "source": "Gillenormand",
          "target": "LtGillenormand",
          "value": 1,
          "weight": 1,
          "x": 222.6246274089301,
          "y": 238.52043984087578
         },
         {
          "edge": 36,
          "pair": [
           "Gillenormand",
           "Marius"
          ],
          "source": "Gillenormand",
          "target": "Marius",
          "value": 12,
          "weight": 12,
          "x": 231.11966958790444,
          "y": 267.13309471415016
         },
         {
          "edge": 36,
          "pair": [
           "Gillenormand",
           "Marius"
          ],
          "source": "Gillenormand",
          "target": "Marius",
          "value": 12,
          "weight": 12,
          "x": 235.49094807991978,
          "y": 254.77115835171088
         },
         {
          "edge": 37,
          "pair": [
           "Gillenormand",
           "BaronessT"
          ],
          "source": "Gillenormand",
          "target": "BaronessT",
          "value": 1,
          "weight": 1,
          "x": 231.11966958790444,
          "y": 267.13309471415016
         },
         {
          "edge": 37,
          "pair": [
           "Gillenormand",
           "BaronessT"
          ],
          "source": "Gillenormand",
          "target": "BaronessT",
          "value": 1,
          "weight": 1,
          "x": 213.4216452935568,
          "y": 240.69870750325475
         },
         {
          "edge": 38,
          "pair": [
           "MlleGillenormand",
           "MmePontmercy"
          ],
          "source": "MlleGillenormand",
          "target": "MmePontmercy",
          "value": 1,
          "weight": 1,
          "x": 221.02417372856715,
          "y": 256.6638422877304
         },
         {
          "edge": 38,
          "pair": [
           "MlleGillenormand",
           "MmePontmercy"
          ],
          "source": "MlleGillenormand",
          "target": "MmePontmercy",
          "value": 1,
          "weight": 1,
          "x": 219.5568442967858,
          "y": 227.63064054212134
         },
         {
          "edge": 39,
          "pair": [
           "MlleGillenormand",
           "MlleVaubois"
          ],
          "source": "MlleGillenormand",
          "target": "MlleVaubois",
          "value": 1,
          "weight": 1,
          "x": 221.02417372856715,
          "y": 256.6638422877304
         },
         {
          "edge": 39,
          "pair": [
           "MlleGillenormand",
           "MlleVaubois"
          ],
          "source": "MlleGillenormand",
          "target": "MlleVaubois",
          "value": 1,
          "weight": 1,
          "x": 225.7622880037144,
          "y": 222.5339496399092
         },
         {
          "edge": 40,
          "pair": [
           "MlleGillenormand",
           "LtGillenormand"
          ],
          "source": "MlleGillenormand",
          "target": "LtGillenormand",
          "value": 2,
          "weight": 2,
          "x": 221.02417372856715,
          "y": 256.6638422877304
         },
         {
          "edge": 40,
          "pair": [
           "MlleGillenormand",
           "LtGillenormand"
          ],
          "source": "MlleGillenormand",
          "target": "LtGillenormand",
          "value": 2,
          "weight": 2,
          "x": 222.6246274089301,
          "y": 238.52043984087578
         },
         {
          "edge": 41,
          "pair": [
           "MlleGillenormand",
           "Marius"
          ],
          "source": "MlleGillenormand",
          "target": "Marius",
          "value": 6,
          "weight": 6,
          "x": 221.02417372856715,
          "y": 256.6638422877304
         },
         {
          "edge": 41,
          "pair": [
           "MlleGillenormand",
           "Marius"
          ],
          "source": "MlleGillenormand",
          "target": "Marius",
          "value": 6,
          "weight": 6,
          "x": 235.49094807991978,
          "y": 254.77115835171088
         },
         {
          "edge": 42,
          "pair": [
           "LtGillenormand",
           "Marius"
          ],
          "source": "LtGillenormand",
          "target": "Marius",
          "value": 1,
          "weight": 1,
          "x": 222.6246274089301,
          "y": 238.52043984087578
         },
         {
          "edge": 42,
          "pair": [
           "LtGillenormand",
           "Marius"
          ],
          "source": "LtGillenormand",
          "target": "Marius",
          "value": 1,
          "weight": 1,
          "x": 235.49094807991978,
          "y": 254.77115835171088
         },
         {
          "edge": 43,
          "pair": [
           "Marius",
           "BaronessT"
          ],
          "source": "Marius",
          "target": "BaronessT",
          "value": 1,
          "weight": 1,
          "x": 235.49094807991978,
          "y": 254.77115835171088
         },
         {
          "edge": 43,
          "pair": [
           "Marius",
           "BaronessT"
          ],
          "source": "Marius",
          "target": "BaronessT",
          "value": 1,
          "weight": 1,
          "x": 213.4216452935568,
          "y": 240.69870750325475
         }
        ],
        "data-f10859d1a2c0d6e4b965dd9d6d64e87f": [
         {
          "__combo_group_value": "0",
          "__node_r": 2.5,
          "__node_size": 25,
          "group": "0",
          "name": "Myriel",
          "x": 135.49026712821495,
          "y": 426.9725488512879
         },
         {
          "__combo_group_value": "0",
          "__node_r": 2.5,
          "__node_size": 25,
          "group": "0",
          "name": "Napoleon",
          "x": 116.60073826690184,
          "y": 418.9775395636761
         },
         {
          "__combo_group_value": "0",
          "__node_r": 2.5,
          "__node_size": 25,
          "group": "0",
          "name": "MlleBaptistine",
          "x": 140.69562565861364,
          "y": 443.74849415991065
         },
         {
          "__combo_group_value": "0",
          "__node_r": 2.5,
          "__node_size": 25,
          "group": "0",
          "name": "MmeMagloire",
          "x": 151.40977813858993,
          "y": 431.45065387269267
         },
         {
          "__combo_group_value": "0",
          "__node_r": 2.5,
          "__node_size": 25,
          "group": "0",
          "name": "CountessDeLo",
          "x": 128.0287230424295,
          "y": 407.7670881634811
         },
         {
          "__combo_group_value": "0",
          "__node_r": 2.5,
          "__node_size": 25,
          "group": "0",
          "name": "Geborand",
          "x": 124.79680074706947,
          "y": 446.9706504794925
         },
         {
          "__combo_group_value": "0",
          "__node_r": 2.5,
          "__node_size": 25,
          "group": "0",
          "name": "Champtercier",
          "x": 115.83557021710044,
          "y": 434.6082478634256
         },
         {
          "__combo_group_value": "0",
          "__node_r": 2.5,
          "__node_size": 25,
          "group": "0",
          "name": "Cravatte",
          "x": 143.42472339747556,
          "y": 407.1941892356779
         },
         {
          "__combo_group_value": "0",
          "__node_r": 2.5,
          "__node_size": 25,
          "group": "0",
          "name": "Count",
          "x": 154.40271512438005,
          "y": 443.79456933628643
         },
         {
          "__combo_group_value": "0",
          "__node_r": 2.5,
          "__node_size": 25,
          "group": "0",
          "name": "OldMan",
          "x": 155.75754463413162,
          "y": 416.02121092116096
         }
        ]
       },
       "height": 480,
       "layer": [
        {
         "data": {
          "name": "data-99d191c7087b5e8ee451d9572c04fb24"
         },
         "encoding": {
          "color": {
           "condition": {
            "test": "((datum.source === '1') && (datum.target === '2'))",
            "value": "blue"
           },
           "value": "#999"
          },
          "detail": {
           "field": "edge",
           "type": "quantitative"
          },
          "opacity": {
           "field": "value",
           "legend": null,
           "scale": {
            "range": [
             0.3,
             1
            ]
           },
           "type": "quantitative"
          },
          "strokeWidth": {
           "field": "value",
           "legend": null,
           "scale": {
            "range": [
             0.5,
             3
            ]
           },
           "type": "quantitative"
          },
          "x": {
           "axis": {
            "domain": false,
            "grid": false,
            "labels": false,
            "ticks": false,
            "title": ""
           },
           "field": "x",
           "type": "quantitative"
          },
          "y": {
           "axis": {
            "domain": false,
            "grid": false,
            "labels": false,
            "ticks": false,
            "title": ""
           },
           "field": "y",
           "type": "quantitative"
          }
         },
         "mark": {
          "type": "line"
         }
        },
        {
         "data": {
          "name": "data-be2e1ad33a9a25addc874c272e8f990a"
         },
         "layer": [
          {
           "encoding": {
            "fill": {
             "value": "#fff"
            },
            "opacity": {
             "value": 1
            },
            "size": {
             "field": "__combo_size",
             "legend": null,
             "scale": null,
             "type": "quantitative"
            },
            "stroke": {
             "value": "#565656"
            },
            "strokeWidth": {
             "value": 3
            },
            "tooltip": [
             {
              "field": "group",
              "type": "nominal"
             }
            ],
            "x": {
             "axis": {
              "domain": false,
              "grid": false,
              "labels": false,
              "ticks": false,
              "title": ""
             },
             "field": "x",
             "type": "quantitative"
            },
            "y": {
             "axis": {
              "domain": false,
              "grid": false,
              "labels": false,
              "ticks": false,
              "title": ""
             },
             "field": "y",
             "type": "quantitative"
            }
           },
           "mark": {
            "type": "circle"
           }
          },
          {
           "encoding": {
            "text": {
             "field": "group",
             "type": "nominal"
            },
            "x": {
             "axis": {
              "domain": false,
              "grid": false,
              "labels": false,
              "ticks": false,
              "title": ""
             },
             "field": "x",
             "type": "quantitative"
            },
            "y": {
             "axis": {
              "domain": false,
              "grid": false,
              "labels": false,
              "ticks": false,
              "title": ""
             },
             "field": "__y_label",
             "type": "quantitative"
            }
           },
           "mark": {
            "align": "center",
            "baseline": "middle",
            "color": "black",
            "size": 10,
            "type": "text"
           }
          }
         ]
        },
        {
         "data": {
          "name": "data-7936411d3c57320dcfe2805cce8022a7"
         },
         "encoding": {
          "color": {
           "value": "#333"
          },
          "detail": {
           "field": "edge",
           "type": "quantitative"
          },
          "opacity": {
           "field": "value",
           "legend": null,
           "scale": {
            "range": [
             0.5,
             0.8
            ]
           },
           "type": "quantitative"
          },
          "strokeWidth": {
           "field": "value",
           "legend": null,
           "scale": {
            "range": [
             0.4,
             1
            ]
           },
           "type": "quantitative"
          },
          "x": {
           "axis": {
            "domain": false,
            "grid": false,
            "labels": false,
            "ticks": false,
            "title": ""
           },
           "field": "x",
           "type": "quantitative"
          },
          "y": {
           "axis": {
            "domain": false,
            "grid": false,
            "labels": false,
            "ticks": false,
            "title": ""
           },
           "field": "y",
           "type": "quantitative"
          }
         },
         "mark": {
          "type": "line"
         }
        },
        {
         "data": {
          "name": "data-12d387346b6c76ad49e157feae6ac040"
         },
         "encoding": {
          "fill": {
           "value": "#888"
          },
          "opacity": {
           "value": 1
          },
          "size": {
           "value": 25
          },
          "stroke": {
           "value": "#222"
          },
          "strokeWidth": {
           "value": 1
          },
          "tooltip": [
           {
            "field": "name",
            "type": "nominal"
           },
           {
            "field": "group",
            "type": "nominal"
           }
          ],
          "x": {
           "axis": {
            "domain": false,
            "grid": false,
            "labels": false,
            "ticks": false,
            "title": ""
           },
           "field": "x",
           "type": "quantitative"
          },
          "y": {
           "axis": {
            "domain": false,
            "grid": false,
            "labels": false,
            "ticks": false,
            "title": ""
           },
           "field": "y",
           "type": "quantitative"
          }
         },
         "mark": {
          "type": "circle"
         }
        },
        {
         "data": {
          "name": "data-a0b2686836e559f5fc82ac80854521c6"
         },
         "layer": [
          {
           "encoding": {
            "fill": {
             "value": "#fff"
            },
            "opacity": {
             "value": 1
            },
            "size": {
             "field": "__combo_size",
             "legend": null,
             "scale": null,
             "type": "quantitative"
            },
            "stroke": {
             "value": "#565656"
            },
            "strokeWidth": {
             "value": 3
            },
            "tooltip": [
             {
              "field": "group",
              "type": "nominal"
             }
            ],
            "x": {
             "axis": {
              "domain": false,
              "grid": false,
              "labels": false,
              "ticks": false,
              "title": ""
             },
             "field": "x",
             "type": "quantitative"
            },
            "y": {
             "axis": {
              "domain": false,
              "grid": false,
              "labels": false,
              "ticks": false,
              "title": ""
             },
             "field": "y",
             "type": "quantitative"
            }
           },
           "mark": {
            "type": "circle"
           }
          },
          {
           "encoding": {
            "text": {
             "field": "group",
             "type": "nominal"
            },
            "x": {
             "axis": {
              "domain": false,
              "grid": false,
              "labels": false,
              "ticks": false,
              "title": ""
             },
             "field": "x",
             "type": "quantitative"
            },
            "y": {
             "axis": {
              "domain": false,
              "grid": false,
              "labels": false,
              "ticks": false,
              "title": ""
             },
             "field": "__y_label",
             "type": "quantitative"
            }
           },
           "mark": {
            "align": "center",
            "baseline": "middle",
            "color": "black",
            "size": 10,
            "type": "text"
           }
          }
         ]
        },
        {
         "data": {
          "name": "data-3229dfcd071ac6b09dd169e4edf0ae31"
         },
         "encoding": {
          "color": {
           "value": "#333"
          },
          "detail": {
           "field": "edge",
           "type": "quantitative"
          },
          "opacity": {
           "field": "value",
           "legend": null,
           "scale": {
            "range": [
             0.5,
             0.8
            ]
           },
           "type": "quantitative"
          },
          "strokeWidth": {
           "field": "value",
           "legend": null,
           "scale": {
            "range": [
             0.4,
             1
            ]
           },
           "type": "quantitative"
          },
          "x": {
           "axis": {
            "domain": false,
            "grid": false,
            "labels": false,
            "ticks": false,
            "title": ""
           },
           "field": "x",
           "type": "quantitative"
          },
          "y": {
           "axis": {
            "domain": false,
            "grid": false,
            "labels": false,
            "ticks": false,
            "title": ""
           },
           "field": "y",
           "type": "quantitative"
          }
         },
         "mark": {
          "type": "line"
         }
        },
        {
         "data": {
          "name": "data-ca4edebac5dc06e6348b96aac8024f43"
         },
         "encoding": {
          "fill": {
           "value": "#888"
          },
          "opacity": {
           "value": 1
          },
          "size": {
           "value": 25
          },
          "stroke": {
           "value": "#222"
          },
          "strokeWidth": {
           "value": 1
          },
          "tooltip": [
           {
            "field": "name",
            "type": "nominal"
           },
           {
            "field": "group",
            "type": "nominal"
           }
          ],
          "x": {
           "axis": {
            "domain": false,
            "grid": false,
            "labels": false,
            "ticks": false,
            "title": ""
           },
           "field": "x",
           "type": "quantitative"
          },
          "y": {
           "axis": {
            "domain": false,
            "grid": false,
            "labels": false,
            "ticks": false,
            "title": ""
           },
           "field": "y",
           "type": "quantitative"
          }
         },
         "mark": {
          "type": "circle"
         }
        },
        {
         "data": {
          "name": "data-ae5bf96d579bb22a3f87fdb3ae858d64"
         },
         "layer": [
          {
           "encoding": {
            "fill": {
             "value": "#fff"
            },
            "opacity": {
             "value": 1
            },
            "size": {
             "field": "__combo_size",
             "legend": null,
             "scale": null,
             "type": "quantitative"
            },
            "stroke": {
             "value": "#565656"
            },
            "strokeWidth": {
             "value": 3
            },
            "tooltip": [
             {
              "field": "group",
              "type": "nominal"
             }
            ],
            "x": {
             "axis": {
              "domain": false,
              "grid": false,
              "labels": false,
              "ticks": false,
              "title": ""
             },
             "field": "x",
             "type": "quantitative"
            },
            "y": {
             "axis": {
              "domain": false,
              "grid": false,
              "labels": false,
              "ticks": false,
              "title": ""
             },
             "field": "y",
             "type": "quantitative"
            }
           },
           "mark": {
            "type": "circle"
           }
          },
          {
           "encoding": {
            "text": {
             "field": "group",
             "type": "nominal"
            },
            "x": {
             "axis": {
              "domain": false,
              "grid": false,
              "labels": false,
              "ticks": false,
              "title": ""
             },
             "field": "x",
             "type": "quantitative"
            },
            "y": {
             "axis": {
              "domain": false,
              "grid": false,
              "labels": false,
              "ticks": false,
              "title": ""
             },
             "field": "__y_label",
             "type": "quantitative"
            }
           },
           "mark": {
            "align": "center",
            "baseline": "middle",
            "color": "black",
            "size": 10,
            "type": "text"
           }
          }
         ]
        },
        {
         "data": {
          "name": "data-ecd48c07d843657cee6b5ade574a0c8b"
         },
         "encoding": {
          "color": {
           "value": "#333"
          },
          "detail": {
           "field": "edge",
           "type": "quantitative"
          },
          "opacity": {
           "field": "value",
           "legend": null,
           "scale": {
            "range": [
             0.5,
             0.8
            ]
           },
           "type": "quantitative"
          },
          "strokeWidth": {
           "field": "value",
           "legend": null,
           "scale": {
            "range": [
             0.4,
             1
            ]
           },
           "type": "quantitative"
          },
          "x": {
           "axis": {
            "domain": false,
            "grid": false,
            "labels": false,
            "ticks": false,
            "title": ""
           },
           "field": "x",
           "type": "quantitative"
          },
          "y": {
           "axis": {
            "domain": false,
            "grid": false,
            "labels": false,
            "ticks": false,
            "title": ""
           },
           "field": "y",
           "type": "quantitative"
          }
         },
         "mark": {
          "type": "line"
         }
        },
        {
         "data": {
          "name": "data-88ba1c2fe4a7ea2b69d7750dd8679cf5"
         },
         "encoding": {
          "fill": {
           "value": "#888"
          },
          "opacity": {
           "value": 1
          },
          "size": {
           "value": 25
          },
          "stroke": {
           "value": "#222"
          },
          "strokeWidth": {
           "value": 1
          },
          "tooltip": [
           {
            "field": "name",
            "type": "nominal"
           },
           {
            "field": "group",
            "type": "nominal"
           }
          ],
          "x": {
           "axis": {
            "domain": false,
            "grid": false,
            "labels": false,
            "ticks": false,
            "title": ""
           },
           "field": "x",
           "type": "quantitative"
          },
          "y": {
           "axis": {
            "domain": false,
            "grid": false,
            "labels": false,
            "ticks": false,
            "title": ""
           },
           "field": "y",
           "type": "quantitative"
          }
         },
         "mark": {
          "type": "circle"
         }
        },
        {
         "data": {
          "name": "data-38d63730ce6ed5b875e09b479ecc74dd"
         },
         "layer": [
          {
           "encoding": {
            "fill": {
             "value": "#fff"
            },
            "opacity": {
             "value": 1
            },
            "size": {
             "field": "__combo_size",
             "legend": null,
             "scale": null,
             "type": "quantitative"
            },
            "stroke": {
             "value": "#565656"
            },
            "strokeWidth": {
             "value": 3
            },
            "tooltip": [
             {
              "field": "group",
              "type": "nominal"
             }
            ],
            "x": {
             "axis": {
              "domain": false,
              "grid": false,
              "labels": false,
              "ticks": false,
              "title": ""
             },
             "field": "x",
             "type": "quantitative"
            },
            "y": {
             "axis": {
              "domain": false,
              "grid": false,
              "labels": false,
              "ticks": false,
              "title": ""
             },
             "field": "y",
             "type": "quantitative"
            }
           },
           "mark": {
            "type": "circle"
           }
          },
          {
           "encoding": {
            "text": {
             "field": "group",
             "type": "nominal"
            },
            "x": {
             "axis": {
              "domain": false,
              "grid": false,
              "labels": false,
              "ticks": false,
              "title": ""
             },
             "field": "x",
             "type": "quantitative"
            },
            "y": {
             "axis": {
              "domain": false,
              "grid": false,
              "labels": false,
              "ticks": false,
              "title": ""
             },
             "field": "__y_label",
             "type": "quantitative"
            }
           },
           "mark": {
            "align": "center",
            "baseline": "middle",
            "color": "black",
            "size": 10,
            "type": "text"
           }
          }
         ]
        },
        {
         "data": {
          "name": "data-2b0f47e749ea1b556df01426067c665c"
         },
         "encoding": {
          "color": {
           "value": "#333"
          },
          "detail": {
           "field": "edge",
           "type": "quantitative"
          },
          "opacity": {
           "field": "value",
           "legend": null,
           "scale": {
            "range": [
             0.5,
             0.8
            ]
           },
           "type": "quantitative"
          },
          "strokeWidth": {
           "field": "value",
           "legend": null,
           "scale": {
            "range": [
             0.4,
             1
            ]
           },
           "type": "quantitative"
          },
          "x": {
           "axis": {
            "domain": false,
            "grid": false,
            "labels": false,
            "ticks": false,
            "title": ""
           },
           "field": "x",
           "type": "quantitative"
          },
          "y": {
           "axis": {
            "domain": false,
            "grid": false,
            "labels": false,
            "ticks": false,
            "title": ""
           },
           "field": "y",
           "type": "quantitative"
          }
         },
         "mark": {
          "type": "line"
         }
        },
        {
         "data": {
          "name": "data-db7b5dc7ff31016cb96c79d43f19c02e"
         },
         "encoding": {
          "fill": {
           "value": "#888"
          },
          "opacity": {
           "value": 1
          },
          "size": {
           "value": 25
          },
          "stroke": {
           "value": "#222"
          },
          "strokeWidth": {
           "value": 1
          },
          "tooltip": [
           {
            "field": "name",
            "type": "nominal"
           },
           {
            "field": "group",
            "type": "nominal"
           }
          ],
          "x": {
           "axis": {
            "domain": false,
            "grid": false,
            "labels": false,
            "ticks": false,
            "title": ""
           },
           "field": "x",
           "type": "quantitative"
          },
          "y": {
           "axis": {
            "domain": false,
            "grid": false,
            "labels": false,
            "ticks": false,
            "title": ""
           },
           "field": "y",
           "type": "quantitative"
          }
         },
         "mark": {
          "type": "circle"
         }
        },
        {
         "data": {
          "name": "data-4fb209b81c0add1ce0d0ab1e70afcc2f"
         },
         "layer": [
          {
           "encoding": {
            "fill": {
             "value": "#fff"
            },
            "opacity": {
             "value": 1
            },
            "size": {
             "field": "__combo_size",
             "legend": null,
             "scale": null,
             "type": "quantitative"
            },
            "stroke": {
             "value": "#565656"
            },
            "strokeWidth": {
             "value": 3
            },
            "tooltip": [
             {
              "field": "group",
              "type": "nominal"
             }
            ],
            "x": {
             "axis": {
              "domain": false,
              "grid": false,
              "labels": false,
              "ticks": false,
              "title": ""
             },
             "field": "x",
             "type": "quantitative"
            },
            "y": {
             "axis": {
              "domain": false,
              "grid": false,
              "labels": false,
              "ticks": false,
              "title": ""
             },
             "field": "y",
             "type": "quantitative"
            }
           },
           "mark": {
            "type": "circle"
           }
          },
          {
           "encoding": {
            "text": {
             "field": "group",
             "type": "nominal"
            },
            "x": {
             "axis": {
              "domain": false,
              "grid": false,
              "labels": false,
              "ticks": false,
              "title": ""
             },
             "field": "x",
             "type": "quantitative"
            },
            "y": {
             "axis": {
              "domain": false,
              "grid": false,
              "labels": false,
              "ticks": false,
              "title": ""
             },
             "field": "__y_label",
             "type": "quantitative"
            }
           },
           "mark": {
            "align": "center",
            "baseline": "middle",
            "color": "black",
            "size": 10,
            "type": "text"
           }
          }
         ]
        },
        {
         "data": {
          "name": "data-7e9de54f4b6d219a42ecf8b8b2eb2cfc"
         },
         "encoding": {
          "color": {
           "value": "#333"
          },
          "detail": {
           "field": "edge",
           "type": "quantitative"
          },
          "opacity": {
           "field": "value",
           "legend": null,
           "scale": {
            "range": [
             0.5,
             0.8
            ]
           },
           "type": "quantitative"
          },
          "strokeWidth": {
           "field": "value",
           "legend": null,
           "scale": {
            "range": [
             0.4,
             1
            ]
           },
           "type": "quantitative"
          },
          "x": {
           "axis": {
            "domain": false,
            "grid": false,
            "labels": false,
            "ticks": false,
            "title": ""
           },
           "field": "x",
           "type": "quantitative"
          },
          "y": {
           "axis": {
            "domain": false,
            "grid": false,
            "labels": false,
            "ticks": false,
            "title": ""
           },
           "field": "y",
           "type": "quantitative"
          }
         },
         "mark": {
          "type": "line"
         }
        },
        {
         "data": {
          "name": "data-f10859d1a2c0d6e4b965dd9d6d64e87f"
         },
         "encoding": {
          "fill": {
           "value": "#888"
          },
          "opacity": {
           "value": 1
          },
          "size": {
           "value": 25
          },
          "stroke": {
           "value": "#222"
          },
          "strokeWidth": {
           "value": 1
          },
          "tooltip": [
           {
            "field": "name",
            "type": "nominal"
           },
           {
            "field": "group",
            "type": "nominal"
           }
          ],
          "x": {
           "axis": {
            "domain": false,
            "grid": false,
            "labels": false,
            "ticks": false,
            "title": ""
           },
           "field": "x",
           "type": "quantitative"
          },
          "y": {
           "axis": {
            "domain": false,
            "grid": false,
            "labels": false,
            "ticks": false,
            "title": ""
           },
           "field": "y",
           "type": "quantitative"
          }
         },
         "mark": {
          "type": "circle"
         }
        },
        {
         "data": {
          "name": "data-751ca1b4f22a86381aeea90b324e5281"
         },
         "layer": [
          {
           "encoding": {
            "fill": {
             "value": "#fff"
            },
            "opacity": {
             "value": 1
            },
            "size": {
             "field": "__combo_size",
             "legend": null,
             "scale": null,
             "type": "quantitative"
            },
            "stroke": {
             "value": "#565656"
            },
            "strokeWidth": {
             "value": 3
            },
            "tooltip": [
             {
              "field": "group",
              "type": "nominal"
             }
            ],
            "x": {
             "axis": {
              "domain": false,
              "grid": false,
              "labels": false,
              "ticks": false,
              "title": ""
             },
             "field": "x",
             "type": "quantitative"
            },
            "y": {
             "axis": {
              "domain": false,
              "grid": false,
              "labels": false,
              "ticks": false,
              "title": ""
             },
             "field": "y",
             "type": "quantitative"
            }
           },
           "mark": {
            "type": "circle"
           }
          },
          {
           "encoding": {
            "text": {
             "field": "group",
             "type": "nominal"
            },
            "x": {
             "axis": {
              "domain": false,
              "grid": false,
              "labels": false,
              "ticks": false,
              "title": ""
             },
             "field": "x",
             "type": "quantitative"
            },
            "y": {
             "axis": {
              "domain": false,
              "grid": false,
              "labels": false,
              "ticks": false,
              "title": ""
             },
             "field": "__y_label",
             "type": "quantitative"
            }
           },
           "mark": {
            "align": "center",
            "baseline": "middle",
            "color": "black",
            "size": 10,
            "type": "text"
           }
          }
         ]
        },
        {
         "data": {
          "name": "data-24f47bd7996edf09fdeb9420a0a5d6a3"
         },
         "encoding": {
          "color": {
           "value": "#333"
          },
          "detail": {
           "field": "edge",
           "type": "quantitative"
          },
          "opacity": {
           "field": "value",
           "legend": null,
           "scale": {
            "range": [
             0.5,
             0.8
            ]
           },
           "type": "quantitative"
          },
          "strokeWidth": {
           "field": "value",
           "legend": null,
           "scale": {
            "range": [
             0.4,
             1
            ]
           },
           "type": "quantitative"
          },
          "x": {
           "axis": {
            "domain": false,
            "grid": false,
            "labels": false,
            "ticks": false,
            "title": ""
           },
           "field": "x",
           "type": "quantitative"
          },
          "y": {
           "axis": {
            "domain": false,
            "grid": false,
            "labels": false,
            "ticks": false,
            "title": ""
           },
           "field": "y",
           "type": "quantitative"
          }
         },
         "mark": {
          "type": "line"
         }
        },
        {
         "data": {
          "name": "data-14b98e80a4aba9d048fa8a2fefd85a8f"
         },
         "encoding": {
          "fill": {
           "value": "#888"
          },
          "opacity": {
           "value": 1
          },
          "size": {
           "value": 25
          },
          "stroke": {
           "value": "#222"
          },
          "strokeWidth": {
           "value": 1
          },
          "tooltip": [
           {
            "field": "name",
            "type": "nominal"
           },
           {
            "field": "group",
            "type": "nominal"
           }
          ],
          "x": {
           "axis": {
            "domain": false,
            "grid": false,
            "labels": false,
            "ticks": false,
            "title": ""
           },
           "field": "x",
           "type": "quantitative"
          },
          "y": {
           "axis": {
            "domain": false,
            "grid": false,
            "labels": false,
            "ticks": false,
            "title": ""
           },
           "field": "y",
           "type": "quantitative"
          }
         },
         "mark": {
          "type": "circle"
         }
        }
       ],
       "resolve": {
        "scale": {
         "color": "independent",
         "fill": "independent",
         "opacity": "independent",
         "size": "independent",
         "strokeWidth": "independent"
        }
       },
       "width": 600
      },
      "text/plain": [
       "<VegaLite 5 object>\n",
       "\n",
       "If you see this message, it means the renderer has not been properly enabled\n",
       "for the frontend that you are using. For more information, see\n",
       "https://altair-viz.github.io/user_guide/display_frontends.html#troubleshooting\n"
      ]
     },
     "execution_count": 6,
     "metadata": {},
     "output_type": "execute_result"
    }
   ],
   "source": [
    "combo_chart(\n",
    "    layout_fn=lambda g: layout.force_atlas(\n",
    "        g,\n",
    "        weight_attr=\"weight\",\n",
    "        strongGravityMode=True,\n",
    "        outboundAttractionDistribution=False,\n",
    "        gravity=5,\n",
    "        seed=seed,\n",
    "    ),\n",
    "    additional_combo_edge_args=dict(\n",
    "        color=alt.condition(\n",
    "            (alt.datum.source == \"1\") & (alt.datum.target == \"2\"),\n",
    "            alt.value(\"blue\"),\n",
    "            alt.value(\"#999\"),\n",
    "        )\n",
    "    )\n",
    ")"
   ]
  },
  {
   "cell_type": "markdown",
   "metadata": {},
   "source": [
    "And now use a different layout for group-level graphs. This is a little tidier,\n",
    "at the expense of connection patterns being slightly harder to spot."
   ]
  },
  {
   "cell_type": "code",
   "execution_count": 7,
   "metadata": {},
   "outputs": [
    {
     "data": {
      "application/vnd.vegalite.v5+json": {
       "$schema": "https://vega.github.io/schema/vega-lite/v5.8.0.json",
       "config": {
        "view": {
         "continuousHeight": 300,
         "continuousWidth": 300,
         "strokeWidth": 0
        }
       },
       "datasets": {
        "data-0716213653163c23003de446d2125237": [
         {
          "__combo_group_value": "0",
          "__node_r": 2.5,
          "__node_size": 25,
          "group": "0",
          "name": "Myriel",
          "x": 158.09193068508205,
          "y": 428.19966443521184
         },
         {
          "__combo_group_value": "0",
          "__node_r": 2.5,
          "__node_size": 25,
          "group": "0",
          "name": "Napoleon",
          "x": 154.05680751806958,
          "y": 440.61849693504934
         },
         {
          "__combo_group_value": "0",
          "__node_r": 2.5,
          "__node_size": 25,
          "group": "0",
          "name": "MlleBaptistine",
          "x": 143.49271683437223,
          "y": 448.2937583055385
         },
         {
          "__combo_group_value": "0",
          "__node_r": 2.5,
          "__node_size": 25,
          "group": "0",
          "name": "MmeMagloire",
          "x": 130.43478306034012,
          "y": 448.2937570462009
         },
         {
          "__combo_group_value": "0",
          "__node_r": 2.5,
          "__node_size": 25,
          "group": "0",
          "name": "CountessDeLo",
          "x": 119.87069363598044,
          "y": 440.61849693504934
         },
         {
          "__combo_group_value": "0",
          "__node_r": 2.5,
          "__node_size": 25,
          "group": "0",
          "name": "Geborand",
          "x": 115.83557046896797,
          "y": 428.1996625881277
         },
         {
          "__combo_group_value": "0",
          "__node_r": 2.5,
          "__node_size": 25,
          "group": "0",
          "name": "Champtercier",
          "x": 119.87069489531811,
          "y": 415.78083067603666
         },
         {
          "__combo_group_value": "0",
          "__node_r": 2.5,
          "__node_size": 25,
          "group": "0",
          "name": "Cravatte",
          "x": 130.43478117133364,
          "y": 408.1055718242228
         },
         {
          "__combo_group_value": "0",
          "__node_r": 2.5,
          "__node_size": 25,
          "group": "0",
          "name": "Count",
          "x": 143.4927199827164,
          "y": 408.1055718242228
         },
         {
          "__combo_group_value": "0",
          "__node_r": 2.5,
          "__node_size": 25,
          "group": "0",
          "name": "OldMan",
          "x": 154.0568062587319,
          "y": 415.78083067603666
         }
        ],
        "data-0ed6e3ebc6c3139899c541a6ed5f2146": [
         {
          "__combo_group_value": "3",
          "__node_r": 2.5,
          "__node_size": 25,
          "group": "3",
          "name": "Bamatabois",
          "x": 618.0399556540475,
          "y": 132.11624267617364
         },
         {
          "__combo_group_value": "3",
          "__node_r": 2.5,
          "__node_size": 25,
          "group": "3",
          "name": "Judge",
          "x": 609.0199774237993,
          "y": 147.7393031177806
         },
         {
          "__combo_group_value": "3",
          "__node_r": 2.5,
          "__node_size": 25,
          "group": "3",
          "name": "Champmathieu",
          "x": 590.9800215009355,
          "y": 147.73930204251548
         },
         {
          "__combo_group_value": "3",
          "__node_r": 2.5,
          "__node_size": 25,
          "group": "3",
          "name": "Brevet",
          "x": 581.960044883585,
          "y": 132.11624109907066
         },
         {
          "__combo_group_value": "3",
          "__node_r": 2.5,
          "__node_size": 25,
          "group": "3",
          "name": "Chenildieu",
          "x": 590.9800241890983,
          "y": 116.49318223456669
         },
         {
          "__combo_group_value": "3",
          "__node_r": 2.5,
          "__node_size": 25,
          "group": "3",
          "name": "Cochepaille",
          "x": 609.0199763485342,
          "y": 116.49318223456669
         }
        ],
        "data-345a525acbf99f4d65f89667a3aff607": [
         {
          "edge": 0,
          "pair": [
           "Bamatabois",
           "Judge"
          ],
          "source": "Bamatabois",
          "target": "Judge",
          "value": 2,
          "weight": 2,
          "x": 618.0399556540475,
          "y": 132.11624267617364
         },
         {
          "edge": 0,
          "pair": [
           "Bamatabois",
           "Judge"
          ],
          "source": "Bamatabois",
          "target": "Judge",
          "value": 2,
          "weight": 2,
          "x": 609.0199774237993,
          "y": 147.7393031177806
         },
         {
          "edge": 1,
          "pair": [
           "Bamatabois",
           "Champmathieu"
          ],
          "source": "Bamatabois",
          "target": "Champmathieu",
          "value": 2,
          "weight": 2,
          "x": 618.0399556540475,
          "y": 132.11624267617364
         },
         {
          "edge": 1,
          "pair": [
           "Bamatabois",
           "Champmathieu"
          ],
          "source": "Bamatabois",
          "target": "Champmathieu",
          "value": 2,
          "weight": 2,
          "x": 590.9800215009355,
          "y": 147.73930204251548
         },
         {
          "edge": 2,
          "pair": [
           "Bamatabois",
           "Brevet"
          ],
          "source": "Bamatabois",
          "target": "Brevet",
          "value": 1,
          "weight": 1,
          "x": 618.0399556540475,
          "y": 132.11624267617364
         },
         {
          "edge": 2,
          "pair": [
           "Bamatabois",
           "Brevet"
          ],
          "source": "Bamatabois",
          "target": "Brevet",
          "value": 1,
          "weight": 1,
          "x": 581.960044883585,
          "y": 132.11624109907066
         },
         {
          "edge": 3,
          "pair": [
           "Bamatabois",
           "Chenildieu"
          ],
          "source": "Bamatabois",
          "target": "Chenildieu",
          "value": 1,
          "weight": 1,
          "x": 618.0399556540475,
          "y": 132.11624267617364
         },
         {
          "edge": 3,
          "pair": [
           "Bamatabois",
           "Chenildieu"
          ],
          "source": "Bamatabois",
          "target": "Chenildieu",
          "value": 1,
          "weight": 1,
          "x": 590.9800241890983,
          "y": 116.49318223456669
         },
         {
          "edge": 4,
          "pair": [
           "Bamatabois",
           "Cochepaille"
          ],
          "source": "Bamatabois",
          "target": "Cochepaille",
          "value": 1,
          "weight": 1,
          "x": 618.0399556540475,
          "y": 132.11624267617364
         },
         {
          "edge": 4,
          "pair": [
           "Bamatabois",
           "Cochepaille"
          ],
          "source": "Bamatabois",
          "target": "Cochepaille",
          "value": 1,
          "weight": 1,
          "x": 609.0199763485342,
          "y": 116.49318223456669
         },
         {
          "edge": 5,
          "pair": [
           "Judge",
           "Champmathieu"
          ],
          "source": "Judge",
          "target": "Champmathieu",
          "value": 3,
          "weight": 3,
          "x": 609.0199774237993,
          "y": 147.7393031177806
         },
         {
          "edge": 5,
          "pair": [
           "Judge",
           "Champmathieu"
          ],
          "source": "Judge",
          "target": "Champmathieu",
          "value": 3,
          "weight": 3,
          "x": 590.9800215009355,
          "y": 147.73930204251548
         },
         {
          "edge": 6,
          "pair": [
           "Judge",
           "Brevet"
          ],
          "source": "Judge",
          "target": "Brevet",
          "value": 2,
          "weight": 2,
          "x": 609.0199774237993,
          "y": 147.7393031177806
         },
         {
          "edge": 6,
          "pair": [
           "Judge",
           "Brevet"
          ],
          "source": "Judge",
          "target": "Brevet",
          "value": 2,
          "weight": 2,
          "x": 581.960044883585,
          "y": 132.11624109907066
         },
         {
          "edge": 7,
          "pair": [
           "Judge",
           "Chenildieu"
          ],
          "source": "Judge",
          "target": "Chenildieu",
          "value": 2,
          "weight": 2,
          "x": 609.0199774237993,
          "y": 147.7393031177806
         },
         {
          "edge": 7,
          "pair": [
           "Judge",
           "Chenildieu"
          ],
          "source": "Judge",
          "target": "Chenildieu",
          "value": 2,
          "weight": 2,
          "x": 590.9800241890983,
          "y": 116.49318223456669
         },
         {
          "edge": 8,
          "pair": [
           "Judge",
           "Cochepaille"
          ],
          "source": "Judge",
          "target": "Cochepaille",
          "value": 2,
          "weight": 2,
          "x": 609.0199774237993,
          "y": 147.7393031177806
         },
         {
          "edge": 8,
          "pair": [
           "Judge",
           "Cochepaille"
          ],
          "source": "Judge",
          "target": "Cochepaille",
          "value": 2,
          "weight": 2,
          "x": 609.0199763485342,
          "y": 116.49318223456669
         },
         {
          "edge": 9,
          "pair": [
           "Champmathieu",
           "Brevet"
          ],
          "source": "Champmathieu",
          "target": "Brevet",
          "value": 2,
          "weight": 2,
          "x": 590.9800215009355,
          "y": 147.73930204251548
         },
         {
          "edge": 9,
          "pair": [
           "Champmathieu",
           "Brevet"
          ],
          "source": "Champmathieu",
          "target": "Brevet",
          "value": 2,
          "weight": 2,
          "x": 581.960044883585,
          "y": 132.11624109907066
         },
         {
          "edge": 10,
          "pair": [
           "Champmathieu",
           "Chenildieu"
          ],
          "source": "Champmathieu",
          "target": "Chenildieu",
          "value": 2,
          "weight": 2,
          "x": 590.9800215009355,
          "y": 147.73930204251548
         },
         {
          "edge": 10,
          "pair": [
           "Champmathieu",
           "Chenildieu"
          ],
          "source": "Champmathieu",
          "target": "Chenildieu",
          "value": 2,
          "weight": 2,
          "x": 590.9800241890983,
          "y": 116.49318223456669
         },
         {
          "edge": 11,
          "pair": [
           "Champmathieu",
           "Cochepaille"
          ],
          "source": "Champmathieu",
          "target": "Cochepaille",
          "value": 2,
          "weight": 2,
          "x": 590.9800215009355,
          "y": 147.73930204251548
         },
         {
          "edge": 11,
          "pair": [
           "Champmathieu",
           "Cochepaille"
          ],
          "source": "Champmathieu",
          "target": "Cochepaille",
          "value": 2,
          "weight": 2,
          "x": 609.0199763485342,
          "y": 116.49318223456669
         },
         {
          "edge": 12,
          "pair": [
           "Brevet",
           "Chenildieu"
          ],
          "source": "Brevet",
          "target": "Chenildieu",
          "value": 2,
          "weight": 2,
          "x": 581.960044883585,
          "y": 132.11624109907066
         },
         {
          "edge": 12,
          "pair": [
           "Brevet",
           "Chenildieu"
          ],
          "source": "Brevet",
          "target": "Chenildieu",
          "value": 2,
          "weight": 2,
          "x": 590.9800241890983,
          "y": 116.49318223456669
         },
         {
          "edge": 13,
          "pair": [
           "Brevet",
           "Cochepaille"
          ],
          "source": "Brevet",
          "target": "Cochepaille",
          "value": 2,
          "weight": 2,
          "x": 581.960044883585,
          "y": 132.11624109907066
         },
         {
          "edge": 13,
          "pair": [
           "Brevet",
           "Cochepaille"
          ],
          "source": "Brevet",
          "target": "Cochepaille",
          "value": 2,
          "weight": 2,
          "x": 609.0199763485342,
          "y": 116.49318223456669
         },
         {
          "edge": 14,
          "pair": [
           "Chenildieu",
           "Cochepaille"
          ],
          "source": "Chenildieu",
          "target": "Cochepaille",
          "value": 2,
          "weight": 2,
          "x": 590.9800241890983,
          "y": 116.49318223456669
         },
         {
          "edge": 14,
          "pair": [
           "Chenildieu",
           "Cochepaille"
          ],
          "source": "Chenildieu",
          "target": "Cochepaille",
          "value": 2,
          "weight": 2,
          "x": 609.0199763485342,
          "y": 116.49318223456669
         }
        ],
        "data-38d63730ce6ed5b875e09b479ecc74dd": [
         {
          "__combo_size": 3616,
          "__node_r": 30.066592756745816,
          "__node_size": 3616,
          "__y_label": 90.04964947736647,
          "group": "3",
          "x": 600,
          "y": 132.1162422341123
         }
        ],
        "data-4fb209b81c0add1ce0d0ab1e70afcc2f": [
         {
          "__combo_size": 4960,
          "__node_r": 35.21363372331802,
          "__node_size": 4960,
          "__y_label": 380.98603040125164,
          "group": "0",
          "x": 136.96375045109124,
          "y": 428.19966412456967
         }
        ],
        "data-530ceaa4dab1cb1647a403087f2aea85": [
         {
          "__combo_group_value": "4",
          "__node_r": 2.5,
          "__node_size": 25,
          "group": "4",
          "name": "MmeThenardier",
          "x": 265.47673841177357,
          "y": 63.63783394188574
         },
         {
          "__combo_group_value": "4",
          "__node_r": 2.5,
          "__node_size": 25,
          "group": "4",
          "name": "Thenardier",
          "x": 261.44161524476107,
          "y": 76.05666644172324
         },
         {
          "__combo_group_value": "4",
          "__node_r": 2.5,
          "__node_size": 25,
          "group": "4",
          "name": "Boulatruelle",
          "x": 250.87752456106372,
          "y": 83.73192781221243
         },
         {
          "__combo_group_value": "4",
          "__node_r": 2.5,
          "__node_size": 25,
          "group": "4",
          "name": "Eponine",
          "x": 237.81959078703161,
          "y": 83.73192655287475
         },
         {
          "__combo_group_value": "4",
          "__node_r": 2.5,
          "__node_size": 25,
          "group": "4",
          "name": "Anzelma",
          "x": 227.25550136267194,
          "y": 76.05666644172324
         },
         {
          "__combo_group_value": "4",
          "__node_r": 2.5,
          "__node_size": 25,
          "group": "4",
          "name": "Gueulemer",
          "x": 223.22037819565946,
          "y": 63.63783209480157
         },
         {
          "__combo_group_value": "4",
          "__node_r": 2.5,
          "__node_size": 25,
          "group": "4",
          "name": "Babet",
          "x": 227.2555026220096,
          "y": 51.219000182710566
         },
         {
          "__combo_group_value": "4",
          "__node_r": 2.5,
          "__node_size": 25,
          "group": "4",
          "name": "Claquesous",
          "x": 237.81958889802513,
          "y": 43.54374133089671
         },
         {
          "__combo_group_value": "4",
          "__node_r": 2.5,
          "__node_size": 25,
          "group": "4",
          "name": "Montparnasse",
          "x": 250.8775277094079,
          "y": 43.54374133089671
         },
         {
          "__combo_group_value": "4",
          "__node_r": 2.5,
          "__node_size": 25,
          "group": "4",
          "name": "Brujon",
          "x": 261.4416139854234,
          "y": 51.219000182710566
         }
        ],
        "data-53f2aeacc58b31aacba3a45746f0888b": [
         {
          "__combo_group_value": "1",
          "__node_r": 2.5,
          "__node_size": 25,
          "group": "1",
          "name": "Labarre",
          "x": 272.7626397974009,
          "y": 245.6154385829978
         },
         {
          "__combo_group_value": "1",
          "__node_r": 2.5,
          "__node_size": 25,
          "group": "1",
          "name": "Valjean",
          "x": 271.82013481110886,
          "y": 253.07613560275394
         },
         {
          "__combo_group_value": "1",
          "__node_r": 2.5,
          "__node_size": 25,
          "group": "1",
          "name": "MmeDeR",
          "x": 269.05183945001454,
          "y": 260.06804954975587
         },
         {
          "__combo_group_value": "1",
          "__node_r": 2.5,
          "__node_size": 25,
          "group": "1",
          "name": "Isabeau",
          "x": 264.6316985421094,
          "y": 266.1518520290549
         },
         {
          "__combo_group_value": "1",
          "__node_r": 2.5,
          "__node_size": 25,
          "group": "1",
          "name": "Gervais",
          "x": 258.83744230927505,
          "y": 270.9452777474721
         },
         {
          "__combo_group_value": "1",
          "__node_r": 2.5,
          "__node_size": 25,
          "group": "1",
          "name": "Cosette",
          "x": 252.03314932676844,
          "y": 274.14713430719456
         },
         {
          "__combo_group_value": "1",
          "__node_r": 2.5,
          "__node_size": 25,
          "group": "1",
          "name": "Javert",
          "x": 244.64635521076625,
          "y": 275.5562399422088
         },
         {
          "__combo_group_value": "1",
          "__node_r": 2.5,
          "__node_size": 25,
          "group": "1",
          "name": "Fauchelevent",
          "x": 237.14120102436507,
          "y": 275.0840549344108
         },
         {
          "__combo_group_value": "1",
          "__node_r": 2.5,
          "__node_size": 25,
          "group": "1",
          "name": "Perpetue",
          "x": 229.98925933764804,
          "y": 272.7602480912889
         },
         {
          "__combo_group_value": "1",
          "__node_r": 2.5,
          "__node_size": 25,
          "group": "1",
          "name": "Simplice",
          "x": 223.63992085251525,
          "y": 268.73083529289823
         },
         {
          "__combo_group_value": "1",
          "__node_r": 2.5,
          "__node_size": 25,
          "group": "1",
          "name": "Scaufflaire",
          "x": 218.49213062566125,
          "y": 263.2489956083472
         },
         {
          "__combo_group_value": "1",
          "__node_r": 2.5,
          "__node_size": 25,
          "group": "1",
          "name": "Woman1",
          "x": 214.8693478596993,
          "y": 256.6591765254403
         },
         {
          "__combo_group_value": "1",
          "__node_r": 2.5,
          "__node_size": 25,
          "group": "1",
          "name": "Pontmercy",
          "x": 212.99919911294904,
          "y": 249.37543421917493
         },
         {
          "__combo_group_value": "1",
          "__node_r": 2.5,
          "__node_size": 25,
          "group": "1",
          "name": "Woman2",
          "x": 212.99919911294904,
          "y": 241.85544473495997
         },
         {
          "__combo_group_value": "1",
          "__node_r": 2.5,
          "__node_size": 25,
          "group": "1",
          "name": "MotherInnocent",
          "x": 214.86934607156,
          "y": 234.5717024286946
         },
         {
          "__combo_group_value": "1",
          "__node_r": 2.5,
          "__node_size": 25,
          "group": "1",
          "name": "Gribier",
          "x": 218.49213241380056,
          "y": 227.9818797695091
         },
         {
          "__combo_group_value": "1",
          "__node_r": 2.5,
          "__node_size": 25,
          "group": "1",
          "name": "Gillenormand",
          "x": 223.6399262169332,
          "y": 222.50003829681873
         },
         {
          "__combo_group_value": "1",
          "__node_r": 2.5,
          "__node_size": 25,
          "group": "1",
          "name": "Magnon",
          "x": 229.98925665543905,
          "y": 218.47062907470672
         },
         {
          "__combo_group_value": "1",
          "__node_r": 2.5,
          "__node_size": 25,
          "group": "1",
          "name": "MlleGillenormand",
          "x": 237.14119923622576,
          "y": 216.14682223158482
         },
         {
          "__combo_group_value": "1",
          "__node_r": 2.5,
          "__node_size": 25,
          "group": "1",
          "name": "MmePontmercy",
          "x": 244.64635699890556,
          "y": 215.67463722378687
         },
         {
          "__combo_group_value": "1",
          "__node_r": 2.5,
          "__node_size": 25,
          "group": "1",
          "name": "MlleVaubois",
          "x": 252.0331537971167,
          "y": 217.08374464694037
         },
         {
          "__combo_group_value": "1",
          "__node_r": 2.5,
          "__node_size": 25,
          "group": "1",
          "name": "LtGillenormand",
          "x": 258.83743694485713,
          "y": 220.2855976303842
         },
         {
          "__combo_group_value": "1",
          "__node_r": 2.5,
          "__node_size": 25,
          "group": "1",
          "name": "Marius",
          "x": 264.6316949658308,
          "y": 225.0790233488014
         },
         {
          "__combo_group_value": "1",
          "__node_r": 2.5,
          "__node_size": 25,
          "group": "1",
          "name": "BaronessT",
          "x": 269.05183945001454,
          "y": 231.16282761623972
         },
         {
          "__combo_group_value": "1",
          "__node_r": 2.5,
          "__node_size": 25,
          "group": "1",
          "name": "Toussaint",
          "x": 271.82013481110886,
          "y": 238.15474424545064
         }
        ],
        "data-54ca59bd7581016627ae4cd7ca20b709": [
         {
          "__combo_group_value": "5",
          "__node_r": 2.5,
          "__node_size": 25,
          "group": "5",
          "name": "Jondrette",
          "x": 67.5630177564144,
          "y": 200.5524154633554
         },
         {
          "__combo_group_value": "5",
          "__node_r": 2.5,
          "__node_size": 25,
          "group": "5",
          "name": "MmeBurgon",
          "x": 65.83072315255377,
          "y": 209.81937309777572
         },
         {
          "__combo_group_value": "5",
          "__node_r": 2.5,
          "__node_size": 25,
          "group": "5",
          "name": "Gavroche",
          "x": 60.867795014013346,
          "y": 217.83477613760465
         },
         {
          "__combo_group_value": "5",
          "__node_r": 2.5,
          "__node_size": 25,
          "group": "5",
          "name": "Mabeuf",
          "x": 53.34450499856453,
          "y": 223.51610176937044
         },
         {
          "__combo_group_value": "5",
          "__node_r": 2.5,
          "__node_size": 25,
          "group": "5",
          "name": "Enjolras",
          "x": 44.276915149320395,
          "y": 226.09605296909314
         },
         {
          "__combo_group_value": "5",
          "__node_r": 2.5,
          "__node_size": 25,
          "group": "5",
          "name": "Combeferre",
          "x": 34.889654202950595,
          "y": 225.22619621103766
         },
         {
          "__combo_group_value": "5",
          "__node_r": 2.5,
          "__node_size": 25,
          "group": "5",
          "name": "Prouvaire",
          "x": 26.450519194842688,
          "y": 221.024006270406
         },
         {
          "__combo_group_value": "5",
          "__node_r": 2.5,
          "__node_size": 25,
          "group": "5",
          "name": "Feuilly",
          "x": 20.09926976238233,
          "y": 214.05701617296882
         },
         {
          "__combo_group_value": "5",
          "__node_r": 2.5,
          "__node_size": 25,
          "group": "5",
          "name": "Courfeyrac",
          "x": 16.69367099872897,
          "y": 205.2661548469719
         },
         {
          "__combo_group_value": "5",
          "__node_r": 2.5,
          "__node_size": 25,
          "group": "5",
          "name": "Bahorel",
          "x": 16.69367099872897,
          "y": 195.83867760878104
         },
         {
          "__combo_group_value": "5",
          "__node_r": 2.5,
          "__node_size": 25,
          "group": "5",
          "name": "Bossuet",
          "x": 20.099268233340233,
          "y": 187.0478162827841
         },
         {
          "__combo_group_value": "5",
          "__node_r": 2.5,
          "__node_size": 25,
          "group": "5",
          "name": "Joly",
          "x": 26.450517665800593,
          "y": 180.08082618534692
         },
         {
          "__combo_group_value": "5",
          "__node_r": 2.5,
          "__node_size": 25,
          "group": "5",
          "name": "Grantaire",
          "x": 34.88965496747164,
          "y": 175.87863471567314
         },
         {
          "__combo_group_value": "5",
          "__node_r": 2.5,
          "__node_size": 25,
          "group": "5",
          "name": "MotherPlutarch",
          "x": 44.276910562194104,
          "y": 175.00877642857557
         },
         {
          "__combo_group_value": "5",
          "__node_r": 2.5,
          "__node_size": 25,
          "group": "5",
          "name": "Child1",
          "x": 53.34450576308558,
          "y": 177.58872915734037
         },
         {
          "__combo_group_value": "5",
          "__node_r": 2.5,
          "__node_size": 25,
          "group": "5",
          "name": "Child2",
          "x": 60.86779042688706,
          "y": 183.2700502019799
         },
         {
          "__combo_group_value": "5",
          "__node_r": 2.5,
          "__node_size": 25,
          "group": "5",
          "name": "MmeHucheloup",
          "x": 65.83072315255377,
          "y": 191.28545706441406
         }
        ],
        "data-631e1a828786ad13f033e1aaffbce09a": [
         {
          "edge": 0,
          "pair": [
           "Jondrette",
           "MmeBurgon"
          ],
          "source": "Jondrette",
          "target": "MmeBurgon",
          "value": 1,
          "weight": 1,
          "x": 67.5630177564144,
          "y": 200.5524154633554
         },
         {
          "edge": 0,
          "pair": [
           "Jondrette",
           "MmeBurgon"
          ],
          "source": "Jondrette",
          "target": "MmeBurgon",
          "value": 1,
          "weight": 1,
          "x": 65.83072315255377,
          "y": 209.81937309777572
         },
         {
          "edge": 1,
          "pair": [
           "MmeBurgon",
           "Gavroche"
          ],
          "source": "MmeBurgon",
          "target": "Gavroche",
          "value": 2,
          "weight": 2,
          "x": 65.83072315255377,
          "y": 209.81937309777572
         },
         {
          "edge": 1,
          "pair": [
           "MmeBurgon",
           "Gavroche"
          ],
          "source": "MmeBurgon",
          "target": "Gavroche",
          "value": 2,
          "weight": 2,
          "x": 60.867795014013346,
          "y": 217.83477613760465
         },
         {
          "edge": 2,
          "pair": [
           "Gavroche",
           "Mabeuf"
          ],
          "source": "Gavroche",
          "target": "Mabeuf",
          "value": 1,
          "weight": 1,
          "x": 60.867795014013346,
          "y": 217.83477613760465
         },
         {
          "edge": 2,
          "pair": [
           "Gavroche",
           "Mabeuf"
          ],
          "source": "Gavroche",
          "target": "Mabeuf",
          "value": 1,
          "weight": 1,
          "x": 53.34450499856453,
          "y": 223.51610176937044
         },
         {
          "edge": 3,
          "pair": [
           "Gavroche",
           "Enjolras"
          ],
          "source": "Gavroche",
          "target": "Enjolras",
          "value": 7,
          "weight": 7,
          "x": 60.867795014013346,
          "y": 217.83477613760465
         },
         {
          "edge": 3,
          "pair": [
           "Gavroche",
           "Enjolras"
          ],
          "source": "Gavroche",
          "target": "Enjolras",
          "value": 7,
          "weight": 7,
          "x": 44.276915149320395,
          "y": 226.09605296909314
         },
         {
          "edge": 4,
          "pair": [
           "Gavroche",
           "Combeferre"
          ],
          "source": "Gavroche",
          "target": "Combeferre",
          "value": 6,
          "weight": 6,
          "x": 60.867795014013346,
          "y": 217.83477613760465
         },
         {
          "edge": 4,
          "pair": [
           "Gavroche",
           "Combeferre"
          ],
          "source": "Gavroche",
          "target": "Combeferre",
          "value": 6,
          "weight": 6,
          "x": 34.889654202950595,
          "y": 225.22619621103766
         },
         {
          "edge": 5,
          "pair": [
           "Gavroche",
           "Prouvaire"
          ],
          "source": "Gavroche",
          "target": "Prouvaire",
          "value": 1,
          "weight": 1,
          "x": 60.867795014013346,
          "y": 217.83477613760465
         },
         {
          "edge": 5,
          "pair": [
           "Gavroche",
           "Prouvaire"
          ],
          "source": "Gavroche",
          "target": "Prouvaire",
          "value": 1,
          "weight": 1,
          "x": 26.450519194842688,
          "y": 221.024006270406
         },
         {
          "edge": 6,
          "pair": [
           "Gavroche",
           "Feuilly"
          ],
          "source": "Gavroche",
          "target": "Feuilly",
          "value": 2,
          "weight": 2,
          "x": 60.867795014013346,
          "y": 217.83477613760465
         },
         {
          "edge": 6,
          "pair": [
           "Gavroche",
           "Feuilly"
          ],
          "source": "Gavroche",
          "target": "Feuilly",
          "value": 2,
          "weight": 2,
          "x": 20.09926976238233,
          "y": 214.05701617296882
         },
         {
          "edge": 7,
          "pair": [
           "Gavroche",
           "Courfeyrac"
          ],
          "source": "Gavroche",
          "target": "Courfeyrac",
          "value": 7,
          "weight": 7,
          "x": 60.867795014013346,
          "y": 217.83477613760465
         },
         {
          "edge": 7,
          "pair": [
           "Gavroche",
           "Courfeyrac"
          ],
          "source": "Gavroche",
          "target": "Courfeyrac",
          "value": 7,
          "weight": 7,
          "x": 16.69367099872897,
          "y": 205.2661548469719
         },
         {
          "edge": 8,
          "pair": [
           "Gavroche",
           "Bahorel"
          ],
          "source": "Gavroche",
          "target": "Bahorel",
          "value": 5,
          "weight": 5,
          "x": 60.867795014013346,
          "y": 217.83477613760465
         },
         {
          "edge": 8,
          "pair": [
           "Gavroche",
           "Bahorel"
          ],
          "source": "Gavroche",
          "target": "Bahorel",
          "value": 5,
          "weight": 5,
          "x": 16.69367099872897,
          "y": 195.83867760878104
         },
         {
          "edge": 9,
          "pair": [
           "Gavroche",
           "Bossuet"
          ],
          "source": "Gavroche",
          "target": "Bossuet",
          "value": 5,
          "weight": 5,
          "x": 60.867795014013346,
          "y": 217.83477613760465
         },
         {
          "edge": 9,
          "pair": [
           "Gavroche",
           "Bossuet"
          ],
          "source": "Gavroche",
          "target": "Bossuet",
          "value": 5,
          "weight": 5,
          "x": 20.099268233340233,
          "y": 187.0478162827841
         },
         {
          "edge": 10,
          "pair": [
           "Gavroche",
           "Joly"
          ],
          "source": "Gavroche",
          "target": "Joly",
          "value": 3,
          "weight": 3,
          "x": 60.867795014013346,
          "y": 217.83477613760465
         },
         {
          "edge": 10,
          "pair": [
           "Gavroche",
           "Joly"
          ],
          "source": "Gavroche",
          "target": "Joly",
          "value": 3,
          "weight": 3,
          "x": 26.450517665800593,
          "y": 180.08082618534692
         },
         {
          "edge": 11,
          "pair": [
           "Gavroche",
           "Grantaire"
          ],
          "source": "Gavroche",
          "target": "Grantaire",
          "value": 1,
          "weight": 1,
          "x": 60.867795014013346,
          "y": 217.83477613760465
         },
         {
          "edge": 11,
          "pair": [
           "Gavroche",
           "Grantaire"
          ],
          "source": "Gavroche",
          "target": "Grantaire",
          "value": 1,
          "weight": 1,
          "x": 34.88965496747164,
          "y": 175.87863471567314
         },
         {
          "edge": 12,
          "pair": [
           "Gavroche",
           "Child1"
          ],
          "source": "Gavroche",
          "target": "Child1",
          "value": 2,
          "weight": 2,
          "x": 60.867795014013346,
          "y": 217.83477613760465
         },
         {
          "edge": 12,
          "pair": [
           "Gavroche",
           "Child1"
          ],
          "source": "Gavroche",
          "target": "Child1",
          "value": 2,
          "weight": 2,
          "x": 53.34450576308558,
          "y": 177.58872915734037
         },
         {
          "edge": 13,
          "pair": [
           "Gavroche",
           "Child2"
          ],
          "source": "Gavroche",
          "target": "Child2",
          "value": 2,
          "weight": 2,
          "x": 60.867795014013346,
          "y": 217.83477613760465
         },
         {
          "edge": 13,
          "pair": [
           "Gavroche",
           "Child2"
          ],
          "source": "Gavroche",
          "target": "Child2",
          "value": 2,
          "weight": 2,
          "x": 60.86779042688706,
          "y": 183.2700502019799
         },
         {
          "edge": 14,
          "pair": [
           "Gavroche",
           "MmeHucheloup"
          ],
          "source": "Gavroche",
          "target": "MmeHucheloup",
          "value": 1,
          "weight": 1,
          "x": 60.867795014013346,
          "y": 217.83477613760465
         },
         {
          "edge": 14,
          "pair": [
           "Gavroche",
           "MmeHucheloup"
          ],
          "source": "Gavroche",
          "target": "MmeHucheloup",
          "value": 1,
          "weight": 1,
          "x": 65.83072315255377,
          "y": 191.28545706441406
         },
         {
          "edge": 15,
          "pair": [
           "Mabeuf",
           "Enjolras"
          ],
          "source": "Mabeuf",
          "target": "Enjolras",
          "value": 1,
          "weight": 1,
          "x": 53.34450499856453,
          "y": 223.51610176937044
         },
         {
          "edge": 15,
          "pair": [
           "Mabeuf",
           "Enjolras"
          ],
          "source": "Mabeuf",
          "target": "Enjolras",
          "value": 1,
          "weight": 1,
          "x": 44.276915149320395,
          "y": 226.09605296909314
         },
         {
          "edge": 16,
          "pair": [
           "Mabeuf",
           "Combeferre"
          ],
          "source": "Mabeuf",
          "target": "Combeferre",
          "value": 2,
          "weight": 2,
          "x": 53.34450499856453,
          "y": 223.51610176937044
         },
         {
          "edge": 16,
          "pair": [
           "Mabeuf",
           "Combeferre"
          ],
          "source": "Mabeuf",
          "target": "Combeferre",
          "value": 2,
          "weight": 2,
          "x": 34.889654202950595,
          "y": 225.22619621103766
         },
         {
          "edge": 17,
          "pair": [
           "Mabeuf",
           "Feuilly"
          ],
          "source": "Mabeuf",
          "target": "Feuilly",
          "value": 1,
          "weight": 1,
          "x": 53.34450499856453,
          "y": 223.51610176937044
         },
         {
          "edge": 17,
          "pair": [
           "Mabeuf",
           "Feuilly"
          ],
          "source": "Mabeuf",
          "target": "Feuilly",
          "value": 1,
          "weight": 1,
          "x": 20.09926976238233,
          "y": 214.05701617296882
         },
         {
          "edge": 18,
          "pair": [
           "Mabeuf",
           "Courfeyrac"
          ],
          "source": "Mabeuf",
          "target": "Courfeyrac",
          "value": 2,
          "weight": 2,
          "x": 53.34450499856453,
          "y": 223.51610176937044
         },
         {
          "edge": 18,
          "pair": [
           "Mabeuf",
           "Courfeyrac"
          ],
          "source": "Mabeuf",
          "target": "Courfeyrac",
          "value": 2,
          "weight": 2,
          "x": 16.69367099872897,
          "y": 205.2661548469719
         },
         {
          "edge": 19,
          "pair": [
           "Mabeuf",
           "Bahorel"
          ],
          "source": "Mabeuf",
          "target": "Bahorel",
          "value": 2,
          "weight": 2,
          "x": 53.34450499856453,
          "y": 223.51610176937044
         },
         {
          "edge": 19,
          "pair": [
           "Mabeuf",
           "Bahorel"
          ],
          "source": "Mabeuf",
          "target": "Bahorel",
          "value": 2,
          "weight": 2,
          "x": 16.69367099872897,
          "y": 195.83867760878104
         },
         {
          "edge": 20,
          "pair": [
           "Mabeuf",
           "Bossuet"
          ],
          "source": "Mabeuf",
          "target": "Bossuet",
          "value": 1,
          "weight": 1,
          "x": 53.34450499856453,
          "y": 223.51610176937044
         },
         {
          "edge": 20,
          "pair": [
           "Mabeuf",
           "Bossuet"
          ],
          "source": "Mabeuf",
          "target": "Bossuet",
          "value": 1,
          "weight": 1,
          "x": 20.099268233340233,
          "y": 187.0478162827841
         },
         {
          "edge": 21,
          "pair": [
           "Mabeuf",
           "Joly"
          ],
          "source": "Mabeuf",
          "target": "Joly",
          "value": 1,
          "weight": 1,
          "x": 53.34450499856453,
          "y": 223.51610176937044
         },
         {
          "edge": 21,
          "pair": [
           "Mabeuf",
           "Joly"
          ],
          "source": "Mabeuf",
          "target": "Joly",
          "value": 1,
          "weight": 1,
          "x": 26.450517665800593,
          "y": 180.08082618534692
         },
         {
          "edge": 22,
          "pair": [
           "Mabeuf",
           "MotherPlutarch"
          ],
          "source": "Mabeuf",
          "target": "MotherPlutarch",
          "value": 3,
          "weight": 3,
          "x": 53.34450499856453,
          "y": 223.51610176937044
         },
         {
          "edge": 22,
          "pair": [
           "Mabeuf",
           "MotherPlutarch"
          ],
          "source": "Mabeuf",
          "target": "MotherPlutarch",
          "value": 3,
          "weight": 3,
          "x": 44.276910562194104,
          "y": 175.00877642857557
         },
         {
          "edge": 23,
          "pair": [
           "Enjolras",
           "Combeferre"
          ],
          "source": "Enjolras",
          "target": "Combeferre",
          "value": 15,
          "weight": 15,
          "x": 44.276915149320395,
          "y": 226.09605296909314
         },
         {
          "edge": 23,
          "pair": [
           "Enjolras",
           "Combeferre"
          ],
          "source": "Enjolras",
          "target": "Combeferre",
          "value": 15,
          "weight": 15,
          "x": 34.889654202950595,
          "y": 225.22619621103766
         },
         {
          "edge": 24,
          "pair": [
           "Enjolras",
           "Prouvaire"
          ],
          "source": "Enjolras",
          "target": "Prouvaire",
          "value": 4,
          "weight": 4,
          "x": 44.276915149320395,
          "y": 226.09605296909314
         },
         {
          "edge": 24,
          "pair": [
           "Enjolras",
           "Prouvaire"
          ],
          "source": "Enjolras",
          "target": "Prouvaire",
          "value": 4,
          "weight": 4,
          "x": 26.450519194842688,
          "y": 221.024006270406
         },
         {
          "edge": 25,
          "pair": [
           "Enjolras",
           "Feuilly"
          ],
          "source": "Enjolras",
          "target": "Feuilly",
          "value": 6,
          "weight": 6,
          "x": 44.276915149320395,
          "y": 226.09605296909314
         },
         {
          "edge": 25,
          "pair": [
           "Enjolras",
           "Feuilly"
          ],
          "source": "Enjolras",
          "target": "Feuilly",
          "value": 6,
          "weight": 6,
          "x": 20.09926976238233,
          "y": 214.05701617296882
         },
         {
          "edge": 26,
          "pair": [
           "Enjolras",
           "Courfeyrac"
          ],
          "source": "Enjolras",
          "target": "Courfeyrac",
          "value": 17,
          "weight": 17,
          "x": 44.276915149320395,
          "y": 226.09605296909314
         },
         {
          "edge": 26,
          "pair": [
           "Enjolras",
           "Courfeyrac"
          ],
          "source": "Enjolras",
          "target": "Courfeyrac",
          "value": 17,
          "weight": 17,
          "x": 16.69367099872897,
          "y": 205.2661548469719
         },
         {
          "edge": 27,
          "pair": [
           "Enjolras",
           "Bahorel"
          ],
          "source": "Enjolras",
          "target": "Bahorel",
          "value": 4,
          "weight": 4,
          "x": 44.276915149320395,
          "y": 226.09605296909314
         },
         {
          "edge": 27,
          "pair": [
           "Enjolras",
           "Bahorel"
          ],
          "source": "Enjolras",
          "target": "Bahorel",
          "value": 4,
          "weight": 4,
          "x": 16.69367099872897,
          "y": 195.83867760878104
         },
         {
          "edge": 28,
          "pair": [
           "Enjolras",
           "Bossuet"
          ],
          "source": "Enjolras",
          "target": "Bossuet",
          "value": 10,
          "weight": 10,
          "x": 44.276915149320395,
          "y": 226.09605296909314
         },
         {
          "edge": 28,
          "pair": [
           "Enjolras",
           "Bossuet"
          ],
          "source": "Enjolras",
          "target": "Bossuet",
          "value": 10,
          "weight": 10,
          "x": 20.099268233340233,
          "y": 187.0478162827841
         },
         {
          "edge": 29,
          "pair": [
           "Enjolras",
           "Joly"
          ],
          "source": "Enjolras",
          "target": "Joly",
          "value": 5,
          "weight": 5,
          "x": 44.276915149320395,
          "y": 226.09605296909314
         },
         {
          "edge": 29,
          "pair": [
           "Enjolras",
           "Joly"
          ],
          "source": "Enjolras",
          "target": "Joly",
          "value": 5,
          "weight": 5,
          "x": 26.450517665800593,
          "y": 180.08082618534692
         },
         {
          "edge": 30,
          "pair": [
           "Enjolras",
           "Grantaire"
          ],
          "source": "Enjolras",
          "target": "Grantaire",
          "value": 3,
          "weight": 3,
          "x": 44.276915149320395,
          "y": 226.09605296909314
         },
         {
          "edge": 30,
          "pair": [
           "Enjolras",
           "Grantaire"
          ],
          "source": "Enjolras",
          "target": "Grantaire",
          "value": 3,
          "weight": 3,
          "x": 34.88965496747164,
          "y": 175.87863471567314
         },
         {
          "edge": 31,
          "pair": [
           "Enjolras",
           "MmeHucheloup"
          ],
          "source": "Enjolras",
          "target": "MmeHucheloup",
          "value": 1,
          "weight": 1,
          "x": 44.276915149320395,
          "y": 226.09605296909314
         },
         {
          "edge": 31,
          "pair": [
           "Enjolras",
           "MmeHucheloup"
          ],
          "source": "Enjolras",
          "target": "MmeHucheloup",
          "value": 1,
          "weight": 1,
          "x": 65.83072315255377,
          "y": 191.28545706441406
         },
         {
          "edge": 32,
          "pair": [
           "Combeferre",
           "Prouvaire"
          ],
          "source": "Combeferre",
          "target": "Prouvaire",
          "value": 2,
          "weight": 2,
          "x": 34.889654202950595,
          "y": 225.22619621103766
         },
         {
          "edge": 32,
          "pair": [
           "Combeferre",
           "Prouvaire"
          ],
          "source": "Combeferre",
          "target": "Prouvaire",
          "value": 2,
          "weight": 2,
          "x": 26.450519194842688,
          "y": 221.024006270406
         },
         {
          "edge": 33,
          "pair": [
           "Combeferre",
           "Feuilly"
          ],
          "source": "Combeferre",
          "target": "Feuilly",
          "value": 5,
          "weight": 5,
          "x": 34.889654202950595,
          "y": 225.22619621103766
         },
         {
          "edge": 33,
          "pair": [
           "Combeferre",
           "Feuilly"
          ],
          "source": "Combeferre",
          "target": "Feuilly",
          "value": 5,
          "weight": 5,
          "x": 20.09926976238233,
          "y": 214.05701617296882
         },
         {
          "edge": 34,
          "pair": [
           "Combeferre",
           "Courfeyrac"
          ],
          "source": "Combeferre",
          "target": "Courfeyrac",
          "value": 13,
          "weight": 13,
          "x": 34.889654202950595,
          "y": 225.22619621103766
         },
         {
          "edge": 34,
          "pair": [
           "Combeferre",
           "Courfeyrac"
          ],
          "source": "Combeferre",
          "target": "Courfeyrac",
          "value": 13,
          "weight": 13,
          "x": 16.69367099872897,
          "y": 205.2661548469719
         },
         {
          "edge": 35,
          "pair": [
           "Combeferre",
           "Bahorel"
          ],
          "source": "Combeferre",
          "target": "Bahorel",
          "value": 5,
          "weight": 5,
          "x": 34.889654202950595,
          "y": 225.22619621103766
         },
         {
          "edge": 35,
          "pair": [
           "Combeferre",
           "Bahorel"
          ],
          "source": "Combeferre",
          "target": "Bahorel",
          "value": 5,
          "weight": 5,
          "x": 16.69367099872897,
          "y": 195.83867760878104
         },
         {
          "edge": 36,
          "pair": [
           "Combeferre",
           "Bossuet"
          ],
          "source": "Combeferre",
          "target": "Bossuet",
          "value": 9,
          "weight": 9,
          "x": 34.889654202950595,
          "y": 225.22619621103766
         },
         {
          "edge": 36,
          "pair": [
           "Combeferre",
           "Bossuet"
          ],
          "source": "Combeferre",
          "target": "Bossuet",
          "value": 9,
          "weight": 9,
          "x": 20.099268233340233,
          "y": 187.0478162827841
         },
         {
          "edge": 37,
          "pair": [
           "Combeferre",
           "Joly"
          ],
          "source": "Combeferre",
          "target": "Joly",
          "value": 5,
          "weight": 5,
          "x": 34.889654202950595,
          "y": 225.22619621103766
         },
         {
          "edge": 37,
          "pair": [
           "Combeferre",
           "Joly"
          ],
          "source": "Combeferre",
          "target": "Joly",
          "value": 5,
          "weight": 5,
          "x": 26.450517665800593,
          "y": 180.08082618534692
         },
         {
          "edge": 38,
          "pair": [
           "Combeferre",
           "Grantaire"
          ],
          "source": "Combeferre",
          "target": "Grantaire",
          "value": 1,
          "weight": 1,
          "x": 34.889654202950595,
          "y": 225.22619621103766
         },
         {
          "edge": 38,
          "pair": [
           "Combeferre",
           "Grantaire"
          ],
          "source": "Combeferre",
          "target": "Grantaire",
          "value": 1,
          "weight": 1,
          "x": 34.88965496747164,
          "y": 175.87863471567314
         },
         {
          "edge": 39,
          "pair": [
           "Prouvaire",
           "Feuilly"
          ],
          "source": "Prouvaire",
          "target": "Feuilly",
          "value": 2,
          "weight": 2,
          "x": 26.450519194842688,
          "y": 221.024006270406
         },
         {
          "edge": 39,
          "pair": [
           "Prouvaire",
           "Feuilly"
          ],
          "source": "Prouvaire",
          "target": "Feuilly",
          "value": 2,
          "weight": 2,
          "x": 20.09926976238233,
          "y": 214.05701617296882
         },
         {
          "edge": 40,
          "pair": [
           "Prouvaire",
           "Courfeyrac"
          ],
          "source": "Prouvaire",
          "target": "Courfeyrac",
          "value": 3,
          "weight": 3,
          "x": 26.450519194842688,
          "y": 221.024006270406
         },
         {
          "edge": 40,
          "pair": [
           "Prouvaire",
           "Courfeyrac"
          ],
          "source": "Prouvaire",
          "target": "Courfeyrac",
          "value": 3,
          "weight": 3,
          "x": 16.69367099872897,
          "y": 205.2661548469719
         },
         {
          "edge": 41,
          "pair": [
           "Prouvaire",
           "Bahorel"
          ],
          "source": "Prouvaire",
          "target": "Bahorel",
          "value": 2,
          "weight": 2,
          "x": 26.450519194842688,
          "y": 221.024006270406
         },
         {
          "edge": 41,
          "pair": [
           "Prouvaire",
           "Bahorel"
          ],
          "source": "Prouvaire",
          "target": "Bahorel",
          "value": 2,
          "weight": 2,
          "x": 16.69367099872897,
          "y": 195.83867760878104
         },
         {
          "edge": 42,
          "pair": [
           "Prouvaire",
           "Bossuet"
          ],
          "source": "Prouvaire",
          "target": "Bossuet",
          "value": 2,
          "weight": 2,
          "x": 26.450519194842688,
          "y": 221.024006270406
         },
         {
          "edge": 42,
          "pair": [
           "Prouvaire",
           "Bossuet"
          ],
          "source": "Prouvaire",
          "target": "Bossuet",
          "value": 2,
          "weight": 2,
          "x": 20.099268233340233,
          "y": 187.0478162827841
         },
         {
          "edge": 43,
          "pair": [
           "Prouvaire",
           "Joly"
          ],
          "source": "Prouvaire",
          "target": "Joly",
          "value": 2,
          "weight": 2,
          "x": 26.450519194842688,
          "y": 221.024006270406
         },
         {
          "edge": 43,
          "pair": [
           "Prouvaire",
           "Joly"
          ],
          "source": "Prouvaire",
          "target": "Joly",
          "value": 2,
          "weight": 2,
          "x": 26.450517665800593,
          "y": 180.08082618534692
         },
         {
          "edge": 44,
          "pair": [
           "Prouvaire",
           "Grantaire"
          ],
          "source": "Prouvaire",
          "target": "Grantaire",
          "value": 1,
          "weight": 1,
          "x": 26.450519194842688,
          "y": 221.024006270406
         },
         {
          "edge": 44,
          "pair": [
           "Prouvaire",
           "Grantaire"
          ],
          "source": "Prouvaire",
          "target": "Grantaire",
          "value": 1,
          "weight": 1,
          "x": 34.88965496747164,
          "y": 175.87863471567314
         },
         {
          "edge": 45,
          "pair": [
           "Feuilly",
           "Courfeyrac"
          ],
          "source": "Feuilly",
          "target": "Courfeyrac",
          "value": 6,
          "weight": 6,
          "x": 20.09926976238233,
          "y": 214.05701617296882
         },
         {
          "edge": 45,
          "pair": [
           "Feuilly",
           "Courfeyrac"
          ],
          "source": "Feuilly",
          "target": "Courfeyrac",
          "value": 6,
          "weight": 6,
          "x": 16.69367099872897,
          "y": 205.2661548469719
         },
         {
          "edge": 46,
          "pair": [
           "Feuilly",
           "Bahorel"
          ],
          "source": "Feuilly",
          "target": "Bahorel",
          "value": 3,
          "weight": 3,
          "x": 20.09926976238233,
          "y": 214.05701617296882
         },
         {
          "edge": 46,
          "pair": [
           "Feuilly",
           "Bahorel"
          ],
          "source": "Feuilly",
          "target": "Bahorel",
          "value": 3,
          "weight": 3,
          "x": 16.69367099872897,
          "y": 195.83867760878104
         },
         {
          "edge": 47,
          "pair": [
           "Feuilly",
           "Bossuet"
          ],
          "source": "Feuilly",
          "target": "Bossuet",
          "value": 6,
          "weight": 6,
          "x": 20.09926976238233,
          "y": 214.05701617296882
         },
         {
          "edge": 47,
          "pair": [
           "Feuilly",
           "Bossuet"
          ],
          "source": "Feuilly",
          "target": "Bossuet",
          "value": 6,
          "weight": 6,
          "x": 20.099268233340233,
          "y": 187.0478162827841
         },
         {
          "edge": 48,
          "pair": [
           "Feuilly",
           "Joly"
          ],
          "source": "Feuilly",
          "target": "Joly",
          "value": 5,
          "weight": 5,
          "x": 20.09926976238233,
          "y": 214.05701617296882
         },
         {
          "edge": 48,
          "pair": [
           "Feuilly",
           "Joly"
          ],
          "source": "Feuilly",
          "target": "Joly",
          "value": 5,
          "weight": 5,
          "x": 26.450517665800593,
          "y": 180.08082618534692
         },
         {
          "edge": 49,
          "pair": [
           "Feuilly",
           "Grantaire"
          ],
          "source": "Feuilly",
          "target": "Grantaire",
          "value": 1,
          "weight": 1,
          "x": 20.09926976238233,
          "y": 214.05701617296882
         },
         {
          "edge": 49,
          "pair": [
           "Feuilly",
           "Grantaire"
          ],
          "source": "Feuilly",
          "target": "Grantaire",
          "value": 1,
          "weight": 1,
          "x": 34.88965496747164,
          "y": 175.87863471567314
         },
         {
          "edge": 50,
          "pair": [
           "Courfeyrac",
           "Bahorel"
          ],
          "source": "Courfeyrac",
          "target": "Bahorel",
          "value": 6,
          "weight": 6,
          "x": 16.69367099872897,
          "y": 205.2661548469719
         },
         {
          "edge": 50,
          "pair": [
           "Courfeyrac",
           "Bahorel"
          ],
          "source": "Courfeyrac",
          "target": "Bahorel",
          "value": 6,
          "weight": 6,
          "x": 16.69367099872897,
          "y": 195.83867760878104
         },
         {
          "edge": 51,
          "pair": [
           "Courfeyrac",
           "Bossuet"
          ],
          "source": "Courfeyrac",
          "target": "Bossuet",
          "value": 12,
          "weight": 12,
          "x": 16.69367099872897,
          "y": 205.2661548469719
         },
         {
          "edge": 51,
          "pair": [
           "Courfeyrac",
           "Bossuet"
          ],
          "source": "Courfeyrac",
          "target": "Bossuet",
          "value": 12,
          "weight": 12,
          "x": 20.099268233340233,
          "y": 187.0478162827841
         },
         {
          "edge": 52,
          "pair": [
           "Courfeyrac",
           "Joly"
          ],
          "source": "Courfeyrac",
          "target": "Joly",
          "value": 5,
          "weight": 5,
          "x": 16.69367099872897,
          "y": 205.2661548469719
         },
         {
          "edge": 52,
          "pair": [
           "Courfeyrac",
           "Joly"
          ],
          "source": "Courfeyrac",
          "target": "Joly",
          "value": 5,
          "weight": 5,
          "x": 26.450517665800593,
          "y": 180.08082618534692
         },
         {
          "edge": 53,
          "pair": [
           "Courfeyrac",
           "Grantaire"
          ],
          "source": "Courfeyrac",
          "target": "Grantaire",
          "value": 2,
          "weight": 2,
          "x": 16.69367099872897,
          "y": 205.2661548469719
         },
         {
          "edge": 53,
          "pair": [
           "Courfeyrac",
           "Grantaire"
          ],
          "source": "Courfeyrac",
          "target": "Grantaire",
          "value": 2,
          "weight": 2,
          "x": 34.88965496747164,
          "y": 175.87863471567314
         },
         {
          "edge": 54,
          "pair": [
           "Courfeyrac",
           "MmeHucheloup"
          ],
          "source": "Courfeyrac",
          "target": "MmeHucheloup",
          "value": 1,
          "weight": 1,
          "x": 16.69367099872897,
          "y": 205.2661548469719
         },
         {
          "edge": 54,
          "pair": [
           "Courfeyrac",
           "MmeHucheloup"
          ],
          "source": "Courfeyrac",
          "target": "MmeHucheloup",
          "value": 1,
          "weight": 1,
          "x": 65.83072315255377,
          "y": 191.28545706441406
         },
         {
          "edge": 55,
          "pair": [
           "Bahorel",
           "Bossuet"
          ],
          "source": "Bahorel",
          "target": "Bossuet",
          "value": 4,
          "weight": 4,
          "x": 16.69367099872897,
          "y": 195.83867760878104
         },
         {
          "edge": 55,
          "pair": [
           "Bahorel",
           "Bossuet"
          ],
          "source": "Bahorel",
          "target": "Bossuet",
          "value": 4,
          "weight": 4,
          "x": 20.099268233340233,
          "y": 187.0478162827841
         },
         {
          "edge": 56,
          "pair": [
           "Bahorel",
           "Joly"
          ],
          "source": "Bahorel",
          "target": "Joly",
          "value": 5,
          "weight": 5,
          "x": 16.69367099872897,
          "y": 195.83867760878104
         },
         {
          "edge": 56,
          "pair": [
           "Bahorel",
           "Joly"
          ],
          "source": "Bahorel",
          "target": "Joly",
          "value": 5,
          "weight": 5,
          "x": 26.450517665800593,
          "y": 180.08082618534692
         },
         {
          "edge": 57,
          "pair": [
           "Bahorel",
           "Grantaire"
          ],
          "source": "Bahorel",
          "target": "Grantaire",
          "value": 1,
          "weight": 1,
          "x": 16.69367099872897,
          "y": 195.83867760878104
         },
         {
          "edge": 57,
          "pair": [
           "Bahorel",
           "Grantaire"
          ],
          "source": "Bahorel",
          "target": "Grantaire",
          "value": 1,
          "weight": 1,
          "x": 34.88965496747164,
          "y": 175.87863471567314
         },
         {
          "edge": 58,
          "pair": [
           "Bahorel",
           "MmeHucheloup"
          ],
          "source": "Bahorel",
          "target": "MmeHucheloup",
          "value": 1,
          "weight": 1,
          "x": 16.69367099872897,
          "y": 195.83867760878104
         },
         {
          "edge": 58,
          "pair": [
           "Bahorel",
           "MmeHucheloup"
          ],
          "source": "Bahorel",
          "target": "MmeHucheloup",
          "value": 1,
          "weight": 1,
          "x": 65.83072315255377,
          "y": 191.28545706441406
         },
         {
          "edge": 59,
          "pair": [
           "Bossuet",
           "Joly"
          ],
          "source": "Bossuet",
          "target": "Joly",
          "value": 7,
          "weight": 7,
          "x": 20.099268233340233,
          "y": 187.0478162827841
         },
         {
          "edge": 59,
          "pair": [
           "Bossuet",
           "Joly"
          ],
          "source": "Bossuet",
          "target": "Joly",
          "value": 7,
          "weight": 7,
          "x": 26.450517665800593,
          "y": 180.08082618534692
         },
         {
          "edge": 60,
          "pair": [
           "Bossuet",
           "Grantaire"
          ],
          "source": "Bossuet",
          "target": "Grantaire",
          "value": 3,
          "weight": 3,
          "x": 20.099268233340233,
          "y": 187.0478162827841
         },
         {
          "edge": 60,
          "pair": [
           "Bossuet",
           "Grantaire"
          ],
          "source": "Bossuet",
          "target": "Grantaire",
          "value": 3,
          "weight": 3,
          "x": 34.88965496747164,
          "y": 175.87863471567314
         },
         {
          "edge": 61,
          "pair": [
           "Bossuet",
           "MmeHucheloup"
          ],
          "source": "Bossuet",
          "target": "MmeHucheloup",
          "value": 1,
          "weight": 1,
          "x": 20.099268233340233,
          "y": 187.0478162827841
         },
         {
          "edge": 61,
          "pair": [
           "Bossuet",
           "MmeHucheloup"
          ],
          "source": "Bossuet",
          "target": "MmeHucheloup",
          "value": 1,
          "weight": 1,
          "x": 65.83072315255377,
          "y": 191.28545706441406
         },
         {
          "edge": 62,
          "pair": [
           "Joly",
           "Grantaire"
          ],
          "source": "Joly",
          "target": "Grantaire",
          "value": 2,
          "weight": 2,
          "x": 26.450517665800593,
          "y": 180.08082618534692
         },
         {
          "edge": 62,
          "pair": [
           "Joly",
           "Grantaire"
          ],
          "source": "Joly",
          "target": "Grantaire",
          "value": 2,
          "weight": 2,
          "x": 34.88965496747164,
          "y": 175.87863471567314
         },
         {
          "edge": 63,
          "pair": [
           "Joly",
           "MmeHucheloup"
          ],
          "source": "Joly",
          "target": "MmeHucheloup",
          "value": 1,
          "weight": 1,
          "x": 26.450517665800593,
          "y": 180.08082618534692
         },
         {
          "edge": 63,
          "pair": [
           "Joly",
           "MmeHucheloup"
          ],
          "source": "Joly",
          "target": "MmeHucheloup",
          "value": 1,
          "weight": 1,
          "x": 65.83072315255377,
          "y": 191.28545706441406
         },
         {
          "edge": 64,
          "pair": [
           "Grantaire",
           "MmeHucheloup"
          ],
          "source": "Grantaire",
          "target": "MmeHucheloup",
          "value": 1,
          "weight": 1,
          "x": 34.88965496747164,
          "y": 175.87863471567314
         },
         {
          "edge": 64,
          "pair": [
           "Grantaire",
           "MmeHucheloup"
          ],
          "source": "Grantaire",
          "target": "MmeHucheloup",
          "value": 1,
          "weight": 1,
          "x": 65.83072315255377,
          "y": 191.28545706441406
         },
         {
          "edge": 65,
          "pair": [
           "Child1",
           "Child2"
          ],
          "source": "Child1",
          "target": "Child2",
          "value": 3,
          "weight": 3,
          "x": 53.34450576308558,
          "y": 177.58872915734037
         },
         {
          "edge": 65,
          "pair": [
           "Child1",
           "Child2"
          ],
          "source": "Child1",
          "target": "Child2",
          "value": 3,
          "weight": 3,
          "x": 60.86779042688706,
          "y": 183.2700502019799
         }
        ],
        "data-6bcbbfaacb720f3c8b8bf14e00269f17": [
         {
          "edge": 0,
          "pair": [
           "Labarre",
           "Valjean"
          ],
          "source": "Labarre",
          "target": "Valjean",
          "value": 1,
          "weight": 1,
          "x": 272.7626397974009,
          "y": 245.6154385829978
         },
         {
          "edge": 0,
          "pair": [
           "Labarre",
           "Valjean"
          ],
          "source": "Labarre",
          "target": "Valjean",
          "value": 1,
          "weight": 1,
          "x": 271.82013481110886,
          "y": 253.07613560275394
         },
         {
          "edge": 1,
          "pair": [
           "Valjean",
           "MmeDeR"
          ],
          "source": "Valjean",
          "target": "MmeDeR",
          "value": 1,
          "weight": 1,
          "x": 271.82013481110886,
          "y": 253.07613560275394
         },
         {
          "edge": 1,
          "pair": [
           "Valjean",
           "MmeDeR"
          ],
          "source": "Valjean",
          "target": "MmeDeR",
          "value": 1,
          "weight": 1,
          "x": 269.05183945001454,
          "y": 260.06804954975587
         },
         {
          "edge": 2,
          "pair": [
           "Valjean",
           "Isabeau"
          ],
          "source": "Valjean",
          "target": "Isabeau",
          "value": 1,
          "weight": 1,
          "x": 271.82013481110886,
          "y": 253.07613560275394
         },
         {
          "edge": 2,
          "pair": [
           "Valjean",
           "Isabeau"
          ],
          "source": "Valjean",
          "target": "Isabeau",
          "value": 1,
          "weight": 1,
          "x": 264.6316985421094,
          "y": 266.1518520290549
         },
         {
          "edge": 3,
          "pair": [
           "Valjean",
           "Gervais"
          ],
          "source": "Valjean",
          "target": "Gervais",
          "value": 1,
          "weight": 1,
          "x": 271.82013481110886,
          "y": 253.07613560275394
         },
         {
          "edge": 3,
          "pair": [
           "Valjean",
           "Gervais"
          ],
          "source": "Valjean",
          "target": "Gervais",
          "value": 1,
          "weight": 1,
          "x": 258.83744230927505,
          "y": 270.9452777474721
         },
         {
          "edge": 4,
          "pair": [
           "Valjean",
           "Cosette"
          ],
          "source": "Valjean",
          "target": "Cosette",
          "value": 31,
          "weight": 31,
          "x": 271.82013481110886,
          "y": 253.07613560275394
         },
         {
          "edge": 4,
          "pair": [
           "Valjean",
           "Cosette"
          ],
          "source": "Valjean",
          "target": "Cosette",
          "value": 31,
          "weight": 31,
          "x": 252.03314932676844,
          "y": 274.14713430719456
         },
         {
          "edge": 5,
          "pair": [
           "Valjean",
           "Javert"
          ],
          "source": "Valjean",
          "target": "Javert",
          "value": 17,
          "weight": 17,
          "x": 271.82013481110886,
          "y": 253.07613560275394
         },
         {
          "edge": 5,
          "pair": [
           "Valjean",
           "Javert"
          ],
          "source": "Valjean",
          "target": "Javert",
          "value": 17,
          "weight": 17,
          "x": 244.64635521076625,
          "y": 275.5562399422088
         },
         {
          "edge": 6,
          "pair": [
           "Valjean",
           "Fauchelevent"
          ],
          "source": "Valjean",
          "target": "Fauchelevent",
          "value": 8,
          "weight": 8,
          "x": 271.82013481110886,
          "y": 253.07613560275394
         },
         {
          "edge": 6,
          "pair": [
           "Valjean",
           "Fauchelevent"
          ],
          "source": "Valjean",
          "target": "Fauchelevent",
          "value": 8,
          "weight": 8,
          "x": 237.14120102436507,
          "y": 275.0840549344108
         },
         {
          "edge": 7,
          "pair": [
           "Valjean",
           "Simplice"
          ],
          "source": "Valjean",
          "target": "Simplice",
          "value": 3,
          "weight": 3,
          "x": 271.82013481110886,
          "y": 253.07613560275394
         },
         {
          "edge": 7,
          "pair": [
           "Valjean",
           "Simplice"
          ],
          "source": "Valjean",
          "target": "Simplice",
          "value": 3,
          "weight": 3,
          "x": 223.63992085251525,
          "y": 268.73083529289823
         },
         {
          "edge": 8,
          "pair": [
           "Valjean",
           "Scaufflaire"
          ],
          "source": "Valjean",
          "target": "Scaufflaire",
          "value": 1,
          "weight": 1,
          "x": 271.82013481110886,
          "y": 253.07613560275394
         },
         {
          "edge": 8,
          "pair": [
           "Valjean",
           "Scaufflaire"
          ],
          "source": "Valjean",
          "target": "Scaufflaire",
          "value": 1,
          "weight": 1,
          "x": 218.49213062566125,
          "y": 263.2489956083472
         },
         {
          "edge": 9,
          "pair": [
           "Valjean",
           "Woman1"
          ],
          "source": "Valjean",
          "target": "Woman1",
          "value": 2,
          "weight": 2,
          "x": 271.82013481110886,
          "y": 253.07613560275394
         },
         {
          "edge": 9,
          "pair": [
           "Valjean",
           "Woman1"
          ],
          "source": "Valjean",
          "target": "Woman1",
          "value": 2,
          "weight": 2,
          "x": 214.8693478596993,
          "y": 256.6591765254403
         },
         {
          "edge": 10,
          "pair": [
           "Valjean",
           "Woman2"
          ],
          "source": "Valjean",
          "target": "Woman2",
          "value": 3,
          "weight": 3,
          "x": 271.82013481110886,
          "y": 253.07613560275394
         },
         {
          "edge": 10,
          "pair": [
           "Valjean",
           "Woman2"
          ],
          "source": "Valjean",
          "target": "Woman2",
          "value": 3,
          "weight": 3,
          "x": 212.99919911294904,
          "y": 241.85544473495997
         },
         {
          "edge": 11,
          "pair": [
           "Valjean",
           "MotherInnocent"
          ],
          "source": "Valjean",
          "target": "MotherInnocent",
          "value": 1,
          "weight": 1,
          "x": 271.82013481110886,
          "y": 253.07613560275394
         },
         {
          "edge": 11,
          "pair": [
           "Valjean",
           "MotherInnocent"
          ],
          "source": "Valjean",
          "target": "MotherInnocent",
          "value": 1,
          "weight": 1,
          "x": 214.86934607156,
          "y": 234.5717024286946
         },
         {
          "edge": 12,
          "pair": [
           "Valjean",
           "Gillenormand"
          ],
          "source": "Valjean",
          "target": "Gillenormand",
          "value": 2,
          "weight": 2,
          "x": 271.82013481110886,
          "y": 253.07613560275394
         },
         {
          "edge": 12,
          "pair": [
           "Valjean",
           "Gillenormand"
          ],
          "source": "Valjean",
          "target": "Gillenormand",
          "value": 2,
          "weight": 2,
          "x": 223.6399262169332,
          "y": 222.50003829681873
         },
         {
          "edge": 13,
          "pair": [
           "Valjean",
           "MlleGillenormand"
          ],
          "source": "Valjean",
          "target": "MlleGillenormand",
          "value": 2,
          "weight": 2,
          "x": 271.82013481110886,
          "y": 253.07613560275394
         },
         {
          "edge": 13,
          "pair": [
           "Valjean",
           "MlleGillenormand"
          ],
          "source": "Valjean",
          "target": "MlleGillenormand",
          "value": 2,
          "weight": 2,
          "x": 237.14119923622576,
          "y": 216.14682223158482
         },
         {
          "edge": 14,
          "pair": [
           "Valjean",
           "Marius"
          ],
          "source": "Valjean",
          "target": "Marius",
          "value": 19,
          "weight": 19,
          "x": 271.82013481110886,
          "y": 253.07613560275394
         },
         {
          "edge": 14,
          "pair": [
           "Valjean",
           "Marius"
          ],
          "source": "Valjean",
          "target": "Marius",
          "value": 19,
          "weight": 19,
          "x": 264.6316949658308,
          "y": 225.0790233488014
         },
         {
          "edge": 15,
          "pair": [
           "Valjean",
           "Toussaint"
          ],
          "source": "Valjean",
          "target": "Toussaint",
          "value": 1,
          "weight": 1,
          "x": 271.82013481110886,
          "y": 253.07613560275394
         },
         {
          "edge": 15,
          "pair": [
           "Valjean",
           "Toussaint"
          ],
          "source": "Valjean",
          "target": "Toussaint",
          "value": 1,
          "weight": 1,
          "x": 271.82013481110886,
          "y": 238.15474424545064
         },
         {
          "edge": 16,
          "pair": [
           "Cosette",
           "Javert"
          ],
          "source": "Cosette",
          "target": "Javert",
          "value": 1,
          "weight": 1,
          "x": 252.03314932676844,
          "y": 274.14713430719456
         },
         {
          "edge": 16,
          "pair": [
           "Cosette",
           "Javert"
          ],
          "source": "Cosette",
          "target": "Javert",
          "value": 1,
          "weight": 1,
          "x": 244.64635521076625,
          "y": 275.5562399422088
         },
         {
          "edge": 17,
          "pair": [
           "Cosette",
           "Woman2"
          ],
          "source": "Cosette",
          "target": "Woman2",
          "value": 1,
          "weight": 1,
          "x": 252.03314932676844,
          "y": 274.14713430719456
         },
         {
          "edge": 17,
          "pair": [
           "Cosette",
           "Woman2"
          ],
          "source": "Cosette",
          "target": "Woman2",
          "value": 1,
          "weight": 1,
          "x": 212.99919911294904,
          "y": 241.85544473495997
         },
         {
          "edge": 18,
          "pair": [
           "Cosette",
           "Gillenormand"
          ],
          "source": "Cosette",
          "target": "Gillenormand",
          "value": 3,
          "weight": 3,
          "x": 252.03314932676844,
          "y": 274.14713430719456
         },
         {
          "edge": 18,
          "pair": [
           "Cosette",
           "Gillenormand"
          ],
          "source": "Cosette",
          "target": "Gillenormand",
          "value": 3,
          "weight": 3,
          "x": 223.6399262169332,
          "y": 222.50003829681873
         },
         {
          "edge": 19,
          "pair": [
           "Cosette",
           "MlleGillenormand"
          ],
          "source": "Cosette",
          "target": "MlleGillenormand",
          "value": 2,
          "weight": 2,
          "x": 252.03314932676844,
          "y": 274.14713430719456
         },
         {
          "edge": 19,
          "pair": [
           "Cosette",
           "MlleGillenormand"
          ],
          "source": "Cosette",
          "target": "MlleGillenormand",
          "value": 2,
          "weight": 2,
          "x": 237.14119923622576,
          "y": 216.14682223158482
         },
         {
          "edge": 20,
          "pair": [
           "Cosette",
           "LtGillenormand"
          ],
          "source": "Cosette",
          "target": "LtGillenormand",
          "value": 1,
          "weight": 1,
          "x": 252.03314932676844,
          "y": 274.14713430719456
         },
         {
          "edge": 20,
          "pair": [
           "Cosette",
           "LtGillenormand"
          ],
          "source": "Cosette",
          "target": "LtGillenormand",
          "value": 1,
          "weight": 1,
          "x": 258.83743694485713,
          "y": 220.2855976303842
         },
         {
          "edge": 21,
          "pair": [
           "Cosette",
           "Marius"
          ],
          "source": "Cosette",
          "target": "Marius",
          "value": 21,
          "weight": 21,
          "x": 252.03314932676844,
          "y": 274.14713430719456
         },
         {
          "edge": 21,
          "pair": [
           "Cosette",
           "Marius"
          ],
          "source": "Cosette",
          "target": "Marius",
          "value": 21,
          "weight": 21,
          "x": 264.6316949658308,
          "y": 225.0790233488014
         },
         {
          "edge": 22,
          "pair": [
           "Cosette",
           "Toussaint"
          ],
          "source": "Cosette",
          "target": "Toussaint",
          "value": 2,
          "weight": 2,
          "x": 252.03314932676844,
          "y": 274.14713430719456
         },
         {
          "edge": 22,
          "pair": [
           "Cosette",
           "Toussaint"
          ],
          "source": "Cosette",
          "target": "Toussaint",
          "value": 2,
          "weight": 2,
          "x": 271.82013481110886,
          "y": 238.15474424545064
         },
         {
          "edge": 23,
          "pair": [
           "Javert",
           "Fauchelevent"
          ],
          "source": "Javert",
          "target": "Fauchelevent",
          "value": 1,
          "weight": 1,
          "x": 244.64635521076625,
          "y": 275.5562399422088
         },
         {
          "edge": 23,
          "pair": [
           "Javert",
           "Fauchelevent"
          ],
          "source": "Javert",
          "target": "Fauchelevent",
          "value": 1,
          "weight": 1,
          "x": 237.14120102436507,
          "y": 275.0840549344108
         },
         {
          "edge": 24,
          "pair": [
           "Javert",
           "Simplice"
          ],
          "source": "Javert",
          "target": "Simplice",
          "value": 1,
          "weight": 1,
          "x": 244.64635521076625,
          "y": 275.5562399422088
         },
         {
          "edge": 24,
          "pair": [
           "Javert",
           "Simplice"
          ],
          "source": "Javert",
          "target": "Simplice",
          "value": 1,
          "weight": 1,
          "x": 223.63992085251525,
          "y": 268.73083529289823
         },
         {
          "edge": 25,
          "pair": [
           "Javert",
           "Woman1"
          ],
          "source": "Javert",
          "target": "Woman1",
          "value": 1,
          "weight": 1,
          "x": 244.64635521076625,
          "y": 275.5562399422088
         },
         {
          "edge": 25,
          "pair": [
           "Javert",
           "Woman1"
          ],
          "source": "Javert",
          "target": "Woman1",
          "value": 1,
          "weight": 1,
          "x": 214.8693478596993,
          "y": 256.6591765254403
         },
         {
          "edge": 26,
          "pair": [
           "Javert",
           "Woman2"
          ],
          "source": "Javert",
          "target": "Woman2",
          "value": 1,
          "weight": 1,
          "x": 244.64635521076625,
          "y": 275.5562399422088
         },
         {
          "edge": 26,
          "pair": [
           "Javert",
           "Woman2"
          ],
          "source": "Javert",
          "target": "Woman2",
          "value": 1,
          "weight": 1,
          "x": 212.99919911294904,
          "y": 241.85544473495997
         },
         {
          "edge": 27,
          "pair": [
           "Javert",
           "Toussaint"
          ],
          "source": "Javert",
          "target": "Toussaint",
          "value": 1,
          "weight": 1,
          "x": 244.64635521076625,
          "y": 275.5562399422088
         },
         {
          "edge": 27,
          "pair": [
           "Javert",
           "Toussaint"
          ],
          "source": "Javert",
          "target": "Toussaint",
          "value": 1,
          "weight": 1,
          "x": 271.82013481110886,
          "y": 238.15474424545064
         },
         {
          "edge": 28,
          "pair": [
           "Fauchelevent",
           "MotherInnocent"
          ],
          "source": "Fauchelevent",
          "target": "MotherInnocent",
          "value": 3,
          "weight": 3,
          "x": 237.14120102436507,
          "y": 275.0840549344108
         },
         {
          "edge": 28,
          "pair": [
           "Fauchelevent",
           "MotherInnocent"
          ],
          "source": "Fauchelevent",
          "target": "MotherInnocent",
          "value": 3,
          "weight": 3,
          "x": 214.86934607156,
          "y": 234.5717024286946
         },
         {
          "edge": 29,
          "pair": [
           "Fauchelevent",
           "Gribier"
          ],
          "source": "Fauchelevent",
          "target": "Gribier",
          "value": 2,
          "weight": 2,
          "x": 237.14120102436507,
          "y": 275.0840549344108
         },
         {
          "edge": 29,
          "pair": [
           "Fauchelevent",
           "Gribier"
          ],
          "source": "Fauchelevent",
          "target": "Gribier",
          "value": 2,
          "weight": 2,
          "x": 218.49213241380056,
          "y": 227.9818797695091
         },
         {
          "edge": 30,
          "pair": [
           "Perpetue",
           "Simplice"
          ],
          "source": "Perpetue",
          "target": "Simplice",
          "value": 2,
          "weight": 2,
          "x": 229.98925933764804,
          "y": 272.7602480912889
         },
         {
          "edge": 30,
          "pair": [
           "Perpetue",
           "Simplice"
          ],
          "source": "Perpetue",
          "target": "Simplice",
          "value": 2,
          "weight": 2,
          "x": 223.63992085251525,
          "y": 268.73083529289823
         },
         {
          "edge": 31,
          "pair": [
           "Pontmercy",
           "MmePontmercy"
          ],
          "source": "Pontmercy",
          "target": "MmePontmercy",
          "value": 1,
          "weight": 1,
          "x": 212.99919911294904,
          "y": 249.37543421917493
         },
         {
          "edge": 31,
          "pair": [
           "Pontmercy",
           "MmePontmercy"
          ],
          "source": "Pontmercy",
          "target": "MmePontmercy",
          "value": 1,
          "weight": 1,
          "x": 244.64635699890556,
          "y": 215.67463722378687
         },
         {
          "edge": 32,
          "pair": [
           "Pontmercy",
           "Marius"
          ],
          "source": "Pontmercy",
          "target": "Marius",
          "value": 1,
          "weight": 1,
          "x": 212.99919911294904,
          "y": 249.37543421917493
         },
         {
          "edge": 32,
          "pair": [
           "Pontmercy",
           "Marius"
          ],
          "source": "Pontmercy",
          "target": "Marius",
          "value": 1,
          "weight": 1,
          "x": 264.6316949658308,
          "y": 225.0790233488014
         },
         {
          "edge": 33,
          "pair": [
           "Gillenormand",
           "Magnon"
          ],
          "source": "Gillenormand",
          "target": "Magnon",
          "value": 1,
          "weight": 1,
          "x": 223.6399262169332,
          "y": 222.50003829681873
         },
         {
          "edge": 33,
          "pair": [
           "Gillenormand",
           "Magnon"
          ],
          "source": "Gillenormand",
          "target": "Magnon",
          "value": 1,
          "weight": 1,
          "x": 229.98925665543905,
          "y": 218.47062907470672
         },
         {
          "edge": 34,
          "pair": [
           "Gillenormand",
           "MlleGillenormand"
          ],
          "source": "Gillenormand",
          "target": "MlleGillenormand",
          "value": 9,
          "weight": 9,
          "x": 223.6399262169332,
          "y": 222.50003829681873
         },
         {
          "edge": 34,
          "pair": [
           "Gillenormand",
           "MlleGillenormand"
          ],
          "source": "Gillenormand",
          "target": "MlleGillenormand",
          "value": 9,
          "weight": 9,
          "x": 237.14119923622576,
          "y": 216.14682223158482
         },
         {
          "edge": 35,
          "pair": [
           "Gillenormand",
           "LtGillenormand"
          ],
          "source": "Gillenormand",
          "target": "LtGillenormand",
          "value": 1,
          "weight": 1,
          "x": 223.6399262169332,
          "y": 222.50003829681873
         },
         {
          "edge": 35,
          "pair": [
           "Gillenormand",
           "LtGillenormand"
          ],
          "source": "Gillenormand",
          "target": "LtGillenormand",
          "value": 1,
          "weight": 1,
          "x": 258.83743694485713,
          "y": 220.2855976303842
         },
         {
          "edge": 36,
          "pair": [
           "Gillenormand",
           "Marius"
          ],
          "source": "Gillenormand",
          "target": "Marius",
          "value": 12,
          "weight": 12,
          "x": 223.6399262169332,
          "y": 222.50003829681873
         },
         {
          "edge": 36,
          "pair": [
           "Gillenormand",
           "Marius"
          ],
          "source": "Gillenormand",
          "target": "Marius",
          "value": 12,
          "weight": 12,
          "x": 264.6316949658308,
          "y": 225.0790233488014
         },
         {
          "edge": 37,
          "pair": [
           "Gillenormand",
           "BaronessT"
          ],
          "source": "Gillenormand",
          "target": "BaronessT",
          "value": 1,
          "weight": 1,
          "x": 223.6399262169332,
          "y": 222.50003829681873
         },
         {
          "edge": 37,
          "pair": [
           "Gillenormand",
           "BaronessT"
          ],
          "source": "Gillenormand",
          "target": "BaronessT",
          "value": 1,
          "weight": 1,
          "x": 269.05183945001454,
          "y": 231.16282761623972
         },
         {
          "edge": 38,
          "pair": [
           "MlleGillenormand",
           "MmePontmercy"
          ],
          "source": "MlleGillenormand",
          "target": "MmePontmercy",
          "value": 1,
          "weight": 1,
          "x": 237.14119923622576,
          "y": 216.14682223158482
         },
         {
          "edge": 38,
          "pair": [
           "MlleGillenormand",
           "MmePontmercy"
          ],
          "source": "MlleGillenormand",
          "target": "MmePontmercy",
          "value": 1,
          "weight": 1,
          "x": 244.64635699890556,
          "y": 215.67463722378687
         },
         {
          "edge": 39,
          "pair": [
           "MlleGillenormand",
           "MlleVaubois"
          ],
          "source": "MlleGillenormand",
          "target": "MlleVaubois",
          "value": 1,
          "weight": 1,
          "x": 237.14119923622576,
          "y": 216.14682223158482
         },
         {
          "edge": 39,
          "pair": [
           "MlleGillenormand",
           "MlleVaubois"
          ],
          "source": "MlleGillenormand",
          "target": "MlleVaubois",
          "value": 1,
          "weight": 1,
          "x": 252.0331537971167,
          "y": 217.08374464694037
         },
         {
          "edge": 40,
          "pair": [
           "MlleGillenormand",
           "LtGillenormand"
          ],
          "source": "MlleGillenormand",
          "target": "LtGillenormand",
          "value": 2,
          "weight": 2,
          "x": 237.14119923622576,
          "y": 216.14682223158482
         },
         {
          "edge": 40,
          "pair": [
           "MlleGillenormand",
           "LtGillenormand"
          ],
          "source": "MlleGillenormand",
          "target": "LtGillenormand",
          "value": 2,
          "weight": 2,
          "x": 258.83743694485713,
          "y": 220.2855976303842
         },
         {
          "edge": 41,
          "pair": [
           "MlleGillenormand",
           "Marius"
          ],
          "source": "MlleGillenormand",
          "target": "Marius",
          "value": 6,
          "weight": 6,
          "x": 237.14119923622576,
          "y": 216.14682223158482
         },
         {
          "edge": 41,
          "pair": [
           "MlleGillenormand",
           "Marius"
          ],
          "source": "MlleGillenormand",
          "target": "Marius",
          "value": 6,
          "weight": 6,
          "x": 264.6316949658308,
          "y": 225.0790233488014
         },
         {
          "edge": 42,
          "pair": [
           "LtGillenormand",
           "Marius"
          ],
          "source": "LtGillenormand",
          "target": "Marius",
          "value": 1,
          "weight": 1,
          "x": 258.83743694485713,
          "y": 220.2855976303842
         },
         {
          "edge": 42,
          "pair": [
           "LtGillenormand",
           "Marius"
          ],
          "source": "LtGillenormand",
          "target": "Marius",
          "value": 1,
          "weight": 1,
          "x": 264.6316949658308,
          "y": 225.0790233488014
         },
         {
          "edge": 43,
          "pair": [
           "Marius",
           "BaronessT"
          ],
          "source": "Marius",
          "target": "BaronessT",
          "value": 1,
          "weight": 1,
          "x": 264.6316949658308,
          "y": 225.0790233488014
         },
         {
          "edge": 43,
          "pair": [
           "Marius",
           "BaronessT"
          ],
          "source": "Marius",
          "target": "BaronessT",
          "value": 1,
          "weight": 1,
          "x": 269.05183945001454,
          "y": 231.16282761623972
         }
        ],
        "data-751ca1b4f22a86381aeea90b324e5281": [
         {
          "__combo_size": 4960,
          "__node_r": 35.21363372331802,
          "__node_size": 4960,
          "__y_label": 16.424199907925534,
          "group": "4",
          "x": 244.34855817778273,
          "y": 63.63783363124355
         }
        ],
        "data-8bc3c76f25468960a8b7ffabe30a8f8c": [
         {
          "edge": 0,
          "pair": [
           "Marguerite",
           "Fantine"
          ],
          "source": "Marguerite",
          "target": "Fantine",
          "value": 2,
          "weight": 2,
          "x": 512.0023162705465,
          "y": 424.3484351303857
         },
         {
          "edge": 0,
          "pair": [
           "Marguerite",
           "Fantine"
          ],
          "source": "Marguerite",
          "target": "Fantine",
          "value": 2,
          "weight": 2,
          "x": 507.22962040314513,
          "y": 411.23556502470103
         },
         {
          "edge": 1,
          "pair": [
           "Tholomyes",
           "Listolier"
          ],
          "source": "Tholomyes",
          "target": "Listolier",
          "value": 4,
          "weight": 4,
          "x": 507.2296228350146,
          "y": 437.4613015882661
         },
         {
          "edge": 1,
          "pair": [
           "Tholomyes",
           "Listolier"
          ],
          "source": "Tholomyes",
          "target": "Listolier",
          "value": 4,
          "weight": 4,
          "x": 495.1447401371203,
          "y": 444.4385126836442
         },
         {
          "edge": 2,
          "pair": [
           "Tholomyes",
           "Fameuil"
          ],
          "source": "Tholomyes",
          "target": "Fameuil",
          "value": 4,
          "weight": 4,
          "x": 507.2296228350146,
          "y": 437.4613015882661
         },
         {
          "edge": 2,
          "pair": [
           "Tholomyes",
           "Fameuil"
          ],
          "source": "Tholomyes",
          "target": "Fameuil",
          "value": 4,
          "weight": 4,
          "x": 481.40231525726756,
          "y": 442.01535293349497
         },
         {
          "edge": 3,
          "pair": [
           "Tholomyes",
           "Blacheville"
          ],
          "source": "Tholomyes",
          "target": "Blacheville",
          "value": 4,
          "weight": 4,
          "x": 507.2296228350146,
          "y": 437.4613015882661
         },
         {
          "edge": 3,
          "pair": [
           "Tholomyes",
           "Blacheville"
          ],
          "source": "Tholomyes",
          "target": "Blacheville",
          "value": 4,
          "weight": 4,
          "x": 472.4325871567672,
          "y": 431.3256474416985
         },
         {
          "edge": 4,
          "pair": [
           "Tholomyes",
           "Favourite"
          ],
          "source": "Tholomyes",
          "target": "Favourite",
          "value": 3,
          "weight": 3,
          "x": 507.2296228350146,
          "y": 437.4613015882661
         },
         {
          "edge": 4,
          "pair": [
           "Tholomyes",
           "Favourite"
          ],
          "source": "Tholomyes",
          "target": "Favourite",
          "value": 3,
          "weight": 3,
          "x": 472.4325871567672,
          "y": 417.37122403500763
         },
         {
          "edge": 5,
          "pair": [
           "Tholomyes",
           "Dahlia"
          ],
          "source": "Tholomyes",
          "target": "Dahlia",
          "value": 3,
          "weight": 3,
          "x": 507.2296228350146,
          "y": 437.4613015882661
         },
         {
          "edge": 5,
          "pair": [
           "Tholomyes",
           "Dahlia"
          ],
          "source": "Tholomyes",
          "target": "Dahlia",
          "value": 3,
          "weight": 3,
          "x": 481.40231829710444,
          "y": 406.68151611134175
         },
         {
          "edge": 6,
          "pair": [
           "Tholomyes",
           "Zephine"
          ],
          "source": "Tholomyes",
          "target": "Zephine",
          "value": 3,
          "weight": 3,
          "x": 507.2296228350146,
          "y": 437.4613015882661
         },
         {
          "edge": 6,
          "pair": [
           "Tholomyes",
           "Zephine"
          ],
          "source": "Tholomyes",
          "target": "Zephine",
          "value": 3,
          "weight": 3,
          "x": 495.1447389211856,
          "y": 404.25835757712724
         },
         {
          "edge": 7,
          "pair": [
           "Tholomyes",
           "Fantine"
          ],
          "source": "Tholomyes",
          "target": "Fantine",
          "value": 3,
          "weight": 3,
          "x": 507.2296228350146,
          "y": 437.4613015882661
         },
         {
          "edge": 7,
          "pair": [
           "Tholomyes",
           "Fantine"
          ],
          "source": "Tholomyes",
          "target": "Fantine",
          "value": 3,
          "weight": 3,
          "x": 507.22962040314513,
          "y": 411.23556502470103
         },
         {
          "edge": 8,
          "pair": [
           "Listolier",
           "Fameuil"
          ],
          "source": "Listolier",
          "target": "Fameuil",
          "value": 4,
          "weight": 4,
          "x": 495.1447401371203,
          "y": 444.4385126836442
         },
         {
          "edge": 8,
          "pair": [
           "Listolier",
           "Fameuil"
          ],
          "source": "Listolier",
          "target": "Fameuil",
          "value": 4,
          "weight": 4,
          "x": 481.40231525726756,
          "y": 442.01535293349497
         },
         {
          "edge": 9,
          "pair": [
           "Listolier",
           "Blacheville"
          ],
          "source": "Listolier",
          "target": "Blacheville",
          "value": 4,
          "weight": 4,
          "x": 495.1447401371203,
          "y": 444.4385126836442
         },
         {
          "edge": 9,
          "pair": [
           "Listolier",
           "Blacheville"
          ],
          "source": "Listolier",
          "target": "Blacheville",
          "value": 4,
          "weight": 4,
          "x": 472.4325871567672,
          "y": 431.3256474416985
         },
         {
          "edge": 10,
          "pair": [
           "Listolier",
           "Favourite"
          ],
          "source": "Listolier",
          "target": "Favourite",
          "value": 3,
          "weight": 3,
          "x": 495.1447401371203,
          "y": 444.4385126836442
         },
         {
          "edge": 10,
          "pair": [
           "Listolier",
           "Favourite"
          ],
          "source": "Listolier",
          "target": "Favourite",
          "value": 3,
          "weight": 3,
          "x": 472.4325871567672,
          "y": 417.37122403500763
         },
         {
          "edge": 11,
          "pair": [
           "Listolier",
           "Dahlia"
          ],
          "source": "Listolier",
          "target": "Dahlia",
          "value": 3,
          "weight": 3,
          "x": 495.1447401371203,
          "y": 444.4385126836442
         },
         {
          "edge": 11,
          "pair": [
           "Listolier",
           "Dahlia"
          ],
          "source": "Listolier",
          "target": "Dahlia",
          "value": 3,
          "weight": 3,
          "x": 481.40231829710444,
          "y": 406.68151611134175
         },
         {
          "edge": 12,
          "pair": [
           "Listolier",
           "Zephine"
          ],
          "source": "Listolier",
          "target": "Zephine",
          "value": 3,
          "weight": 3,
          "x": 495.1447401371203,
          "y": 444.4385126836442
         },
         {
          "edge": 12,
          "pair": [
           "Listolier",
           "Zephine"
          ],
          "source": "Listolier",
          "target": "Zephine",
          "value": 3,
          "weight": 3,
          "x": 495.1447389211856,
          "y": 404.25835757712724
         },
         {
          "edge": 13,
          "pair": [
           "Listolier",
           "Fantine"
          ],
          "source": "Listolier",
          "target": "Fantine",
          "value": 3,
          "weight": 3,
          "x": 495.1447401371203,
          "y": 444.4385126836442
         },
         {
          "edge": 13,
          "pair": [
           "Listolier",
           "Fantine"
          ],
          "source": "Listolier",
          "target": "Fantine",
          "value": 3,
          "weight": 3,
          "x": 507.22962040314513,
          "y": 411.23556502470103
         },
         {
          "edge": 14,
          "pair": [
           "Fameuil",
           "Blacheville"
          ],
          "source": "Fameuil",
          "target": "Blacheville",
          "value": 4,
          "weight": 4,
          "x": 481.40231525726756,
          "y": 442.01535293349497
         },
         {
          "edge": 14,
          "pair": [
           "Fameuil",
           "Blacheville"
          ],
          "source": "Fameuil",
          "target": "Blacheville",
          "value": 4,
          "weight": 4,
          "x": 472.4325871567672,
          "y": 431.3256474416985
         },
         {
          "edge": 15,
          "pair": [
           "Fameuil",
           "Favourite"
          ],
          "source": "Fameuil",
          "target": "Favourite",
          "value": 3,
          "weight": 3,
          "x": 481.40231525726756,
          "y": 442.01535293349497
         },
         {
          "edge": 15,
          "pair": [
           "Fameuil",
           "Favourite"
          ],
          "source": "Fameuil",
          "target": "Favourite",
          "value": 3,
          "weight": 3,
          "x": 472.4325871567672,
          "y": 417.37122403500763
         },
         {
          "edge": 16,
          "pair": [
           "Fameuil",
           "Dahlia"
          ],
          "source": "Fameuil",
          "target": "Dahlia",
          "value": 3,
          "weight": 3,
          "x": 481.40231525726756,
          "y": 442.01535293349497
         },
         {
          "edge": 16,
          "pair": [
           "Fameuil",
           "Dahlia"
          ],
          "source": "Fameuil",
          "target": "Dahlia",
          "value": 3,
          "weight": 3,
          "x": 481.40231829710444,
          "y": 406.68151611134175
         },
         {
          "edge": 17,
          "pair": [
           "Fameuil",
           "Zephine"
          ],
          "source": "Fameuil",
          "target": "Zephine",
          "value": 3,
          "weight": 3,
          "x": 481.40231525726756,
          "y": 442.01535293349497
         },
         {
          "edge": 17,
          "pair": [
           "Fameuil",
           "Zephine"
          ],
          "source": "Fameuil",
          "target": "Zephine",
          "value": 3,
          "weight": 3,
          "x": 495.1447389211856,
          "y": 404.25835757712724
         },
         {
          "edge": 18,
          "pair": [
           "Fameuil",
           "Fantine"
          ],
          "source": "Fameuil",
          "target": "Fantine",
          "value": 3,
          "weight": 3,
          "x": 481.40231525726756,
          "y": 442.01535293349497
         },
         {
          "edge": 18,
          "pair": [
           "Fameuil",
           "Fantine"
          ],
          "source": "Fameuil",
          "target": "Fantine",
          "value": 3,
          "weight": 3,
          "x": 507.22962040314513,
          "y": 411.23556502470103
         },
         {
          "edge": 19,
          "pair": [
           "Blacheville",
           "Favourite"
          ],
          "source": "Blacheville",
          "target": "Favourite",
          "value": 4,
          "weight": 4,
          "x": 472.4325871567672,
          "y": 431.3256474416985
         },
         {
          "edge": 19,
          "pair": [
           "Blacheville",
           "Favourite"
          ],
          "source": "Blacheville",
          "target": "Favourite",
          "value": 4,
          "weight": 4,
          "x": 472.4325871567672,
          "y": 417.37122403500763
         },
         {
          "edge": 20,
          "pair": [
           "Blacheville",
           "Dahlia"
          ],
          "source": "Blacheville",
          "target": "Dahlia",
          "value": 3,
          "weight": 3,
          "x": 472.4325871567672,
          "y": 431.3256474416985
         },
         {
          "edge": 20,
          "pair": [
           "Blacheville",
           "Dahlia"
          ],
          "source": "Blacheville",
          "target": "Dahlia",
          "value": 3,
          "weight": 3,
          "x": 481.40231829710444,
          "y": 406.68151611134175
         },
         {
          "edge": 21,
          "pair": [
           "Blacheville",
           "Zephine"
          ],
          "source": "Blacheville",
          "target": "Zephine",
          "value": 3,
          "weight": 3,
          "x": 472.4325871567672,
          "y": 431.3256474416985
         },
         {
          "edge": 21,
          "pair": [
           "Blacheville",
           "Zephine"
          ],
          "source": "Blacheville",
          "target": "Zephine",
          "value": 3,
          "weight": 3,
          "x": 495.1447389211856,
          "y": 404.25835757712724
         },
         {
          "edge": 22,
          "pair": [
           "Blacheville",
           "Fantine"
          ],
          "source": "Blacheville",
          "target": "Fantine",
          "value": 3,
          "weight": 3,
          "x": 472.4325871567672,
          "y": 431.3256474416985
         },
         {
          "edge": 22,
          "pair": [
           "Blacheville",
           "Fantine"
          ],
          "source": "Blacheville",
          "target": "Fantine",
          "value": 3,
          "weight": 3,
          "x": 507.22962040314513,
          "y": 411.23556502470103
         },
         {
          "edge": 23,
          "pair": [
           "Favourite",
           "Dahlia"
          ],
          "source": "Favourite",
          "target": "Dahlia",
          "value": 5,
          "weight": 5,
          "x": 472.4325871567672,
          "y": 417.37122403500763
         },
         {
          "edge": 23,
          "pair": [
           "Favourite",
           "Dahlia"
          ],
          "source": "Favourite",
          "target": "Dahlia",
          "value": 5,
          "weight": 5,
          "x": 481.40231829710444,
          "y": 406.68151611134175
         },
         {
          "edge": 24,
          "pair": [
           "Favourite",
           "Zephine"
          ],
          "source": "Favourite",
          "target": "Zephine",
          "value": 4,
          "weight": 4,
          "x": 472.4325871567672,
          "y": 417.37122403500763
         },
         {
          "edge": 24,
          "pair": [
           "Favourite",
           "Zephine"
          ],
          "source": "Favourite",
          "target": "Zephine",
          "value": 4,
          "weight": 4,
          "x": 495.1447389211856,
          "y": 404.25835757712724
         },
         {
          "edge": 25,
          "pair": [
           "Favourite",
           "Fantine"
          ],
          "source": "Favourite",
          "target": "Fantine",
          "value": 4,
          "weight": 4,
          "x": 472.4325871567672,
          "y": 417.37122403500763
         },
         {
          "edge": 25,
          "pair": [
           "Favourite",
           "Fantine"
          ],
          "source": "Favourite",
          "target": "Fantine",
          "value": 4,
          "weight": 4,
          "x": 507.22962040314513,
          "y": 411.23556502470103
         },
         {
          "edge": 26,
          "pair": [
           "Dahlia",
           "Zephine"
          ],
          "source": "Dahlia",
          "target": "Zephine",
          "value": 4,
          "weight": 4,
          "x": 481.40231829710444,
          "y": 406.68151611134175
         },
         {
          "edge": 26,
          "pair": [
           "Dahlia",
           "Zephine"
          ],
          "source": "Dahlia",
          "target": "Zephine",
          "value": 4,
          "weight": 4,
          "x": 495.1447389211856,
          "y": 404.25835757712724
         },
         {
          "edge": 27,
          "pair": [
           "Dahlia",
           "Fantine"
          ],
          "source": "Dahlia",
          "target": "Fantine",
          "value": 4,
          "weight": 4,
          "x": 481.40231829710444,
          "y": 406.68151611134175
         },
         {
          "edge": 27,
          "pair": [
           "Dahlia",
           "Fantine"
          ],
          "source": "Dahlia",
          "target": "Fantine",
          "value": 4,
          "weight": 4,
          "x": 507.22962040314513,
          "y": 411.23556502470103
         },
         {
          "edge": 28,
          "pair": [
           "Zephine",
           "Fantine"
          ],
          "source": "Zephine",
          "target": "Fantine",
          "value": 4,
          "weight": 4,
          "x": 495.1447389211856,
          "y": 404.25835757712724
         },
         {
          "edge": 28,
          "pair": [
           "Zephine",
           "Fantine"
          ],
          "source": "Zephine",
          "target": "Fantine",
          "value": 4,
          "weight": 4,
          "x": 507.22962040314513,
          "y": 411.23556502470103
         }
        ],
        "data-99d191c7087b5e8ee451d9572c04fb24": [
         {
          "edge": 0,
          "pair": [
           "0",
           "1"
          ],
          "source": "0",
          "target": "1",
          "value": 11,
          "x": 136.96375045109124,
          "y": 428.19966412456967
         },
         {
          "edge": 0,
          "pair": [
           "0",
           "1"
          ],
          "source": "0",
          "target": "1",
          "value": 11,
          "x": 242.7626397974009,
          "y": 245.61543854723502
         },
         {
          "edge": 1,
          "pair": [
           "1",
           "2"
          ],
          "source": "1",
          "target": "2",
          "value": 20,
          "x": 242.7626397974009,
          "y": 245.61543854723502
         },
         {
          "edge": 1,
          "pair": [
           "1",
           "2"
          ],
          "source": "1",
          "target": "2",
          "value": 20,
          "x": 491.6023162705465,
          "y": 424.3484347250741
         },
         {
          "edge": 2,
          "pair": [
           "1",
           "3"
          ],
          "source": "1",
          "target": "3",
          "value": 15,
          "x": 242.7626397974009,
          "y": 245.61543854723502
         },
         {
          "edge": 2,
          "pair": [
           "1",
           "3"
          ],
          "source": "1",
          "target": "3",
          "value": 15,
          "x": 600,
          "y": 132.1162422341123
         },
         {
          "edge": 3,
          "pair": [
           "1",
           "4"
          ],
          "source": "1",
          "target": "4",
          "value": 48,
          "x": 242.7626397974009,
          "y": 245.61543854723502
         },
         {
          "edge": 3,
          "pair": [
           "1",
           "4"
          ],
          "source": "1",
          "target": "4",
          "value": 48,
          "x": 244.34855817778273,
          "y": 63.63783363124355
         },
         {
          "edge": 4,
          "pair": [
           "1",
           "5"
          ],
          "source": "1",
          "target": "5",
          "value": 48,
          "x": 242.7626397974009,
          "y": 245.61543854723502
         },
         {
          "edge": 4,
          "pair": [
           "1",
           "5"
          ],
          "source": "1",
          "target": "5",
          "value": 48,
          "x": 41.90994776469606,
          "y": 200.55241532843993
         },
         {
          "edge": 5,
          "pair": [
           "2",
           "3"
          ],
          "source": "2",
          "target": "3",
          "value": 1,
          "x": 491.6023162705465,
          "y": 424.3484347250741
         },
         {
          "edge": 5,
          "pair": [
           "2",
           "3"
          ],
          "source": "2",
          "target": "3",
          "value": 1,
          "x": 600,
          "y": 132.1162422341123
         },
         {
          "edge": 6,
          "pair": [
           "2",
           "4"
          ],
          "source": "2",
          "target": "4",
          "value": 3,
          "x": 491.6023162705465,
          "y": 424.3484347250741
         },
         {
          "edge": 6,
          "pair": [
           "2",
           "4"
          ],
          "source": "2",
          "target": "4",
          "value": 3,
          "x": 244.34855817778273,
          "y": 63.63783363124355
         },
         {
          "edge": 7,
          "pair": [
           "4",
           "5"
          ],
          "source": "4",
          "target": "5",
          "value": 8,
          "x": 244.34855817778273,
          "y": 63.63783363124355
         },
         {
          "edge": 7,
          "pair": [
           "4",
           "5"
          ],
          "source": "4",
          "target": "5",
          "value": 8,
          "x": 41.90994776469606,
          "y": 200.55241532843993
         }
        ],
        "data-9d651b1bbf1d94fcd71974c1454152a5": [
         {
          "edge": 0,
          "pair": [
           "Myriel",
           "Napoleon"
          ],
          "source": "Myriel",
          "target": "Napoleon",
          "value": 1,
          "weight": 1,
          "x": 158.09193068508205,
          "y": 428.19966443521184
         },
         {
          "edge": 0,
          "pair": [
           "Myriel",
           "Napoleon"
          ],
          "source": "Myriel",
          "target": "Napoleon",
          "value": 1,
          "weight": 1,
          "x": 154.05680751806958,
          "y": 440.61849693504934
         },
         {
          "edge": 1,
          "pair": [
           "Myriel",
           "MlleBaptistine"
          ],
          "source": "Myriel",
          "target": "MlleBaptistine",
          "value": 8,
          "weight": 8,
          "x": 158.09193068508205,
          "y": 428.19966443521184
         },
         {
          "edge": 1,
          "pair": [
           "Myriel",
           "MlleBaptistine"
          ],
          "source": "Myriel",
          "target": "MlleBaptistine",
          "value": 8,
          "weight": 8,
          "x": 143.49271683437223,
          "y": 448.2937583055385
         },
         {
          "edge": 2,
          "pair": [
           "Myriel",
           "MmeMagloire"
          ],
          "source": "Myriel",
          "target": "MmeMagloire",
          "value": 10,
          "weight": 10,
          "x": 158.09193068508205,
          "y": 428.19966443521184
         },
         {
          "edge": 2,
          "pair": [
           "Myriel",
           "MmeMagloire"
          ],
          "source": "Myriel",
          "target": "MmeMagloire",
          "value": 10,
          "weight": 10,
          "x": 130.43478306034012,
          "y": 448.2937570462009
         },
         {
          "edge": 3,
          "pair": [
           "Myriel",
           "CountessDeLo"
          ],
          "source": "Myriel",
          "target": "CountessDeLo",
          "value": 1,
          "weight": 1,
          "x": 158.09193068508205,
          "y": 428.19966443521184
         },
         {
          "edge": 3,
          "pair": [
           "Myriel",
           "CountessDeLo"
          ],
          "source": "Myriel",
          "target": "CountessDeLo",
          "value": 1,
          "weight": 1,
          "x": 119.87069363598044,
          "y": 440.61849693504934
         },
         {
          "edge": 4,
          "pair": [
           "Myriel",
           "Geborand"
          ],
          "source": "Myriel",
          "target": "Geborand",
          "value": 1,
          "weight": 1,
          "x": 158.09193068508205,
          "y": 428.19966443521184
         },
         {
          "edge": 4,
          "pair": [
           "Myriel",
           "Geborand"
          ],
          "source": "Myriel",
          "target": "Geborand",
          "value": 1,
          "weight": 1,
          "x": 115.83557046896797,
          "y": 428.1996625881277
         },
         {
          "edge": 5,
          "pair": [
           "Myriel",
           "Champtercier"
          ],
          "source": "Myriel",
          "target": "Champtercier",
          "value": 1,
          "weight": 1,
          "x": 158.09193068508205,
          "y": 428.19966443521184
         },
         {
          "edge": 5,
          "pair": [
           "Myriel",
           "Champtercier"
          ],
          "source": "Myriel",
          "target": "Champtercier",
          "value": 1,
          "weight": 1,
          "x": 119.87069489531811,
          "y": 415.78083067603666
         },
         {
          "edge": 6,
          "pair": [
           "Myriel",
           "Cravatte"
          ],
          "source": "Myriel",
          "target": "Cravatte",
          "value": 1,
          "weight": 1,
          "x": 158.09193068508205,
          "y": 428.19966443521184
         },
         {
          "edge": 6,
          "pair": [
           "Myriel",
           "Cravatte"
          ],
          "source": "Myriel",
          "target": "Cravatte",
          "value": 1,
          "weight": 1,
          "x": 130.43478117133364,
          "y": 408.1055718242228
         },
         {
          "edge": 7,
          "pair": [
           "Myriel",
           "Count"
          ],
          "source": "Myriel",
          "target": "Count",
          "value": 2,
          "weight": 2,
          "x": 158.09193068508205,
          "y": 428.19966443521184
         },
         {
          "edge": 7,
          "pair": [
           "Myriel",
           "Count"
          ],
          "source": "Myriel",
          "target": "Count",
          "value": 2,
          "weight": 2,
          "x": 143.4927199827164,
          "y": 408.1055718242228
         },
         {
          "edge": 8,
          "pair": [
           "Myriel",
           "OldMan"
          ],
          "source": "Myriel",
          "target": "OldMan",
          "value": 1,
          "weight": 1,
          "x": 158.09193068508205,
          "y": 428.19966443521184
         },
         {
          "edge": 8,
          "pair": [
           "Myriel",
           "OldMan"
          ],
          "source": "Myriel",
          "target": "OldMan",
          "value": 1,
          "weight": 1,
          "x": 154.0568062587319,
          "y": 415.78083067603666
         },
         {
          "edge": 9,
          "pair": [
           "MlleBaptistine",
           "MmeMagloire"
          ],
          "source": "MlleBaptistine",
          "target": "MmeMagloire",
          "value": 6,
          "weight": 6,
          "x": 143.49271683437223,
          "y": 448.2937583055385
         },
         {
          "edge": 9,
          "pair": [
           "MlleBaptistine",
           "MmeMagloire"
          ],
          "source": "MlleBaptistine",
          "target": "MmeMagloire",
          "value": 6,
          "weight": 6,
          "x": 130.43478306034012,
          "y": 448.2937570462009
         }
        ],
        "data-a0b2686836e559f5fc82ac80854521c6": [
         {
          "__combo_size": 7312,
          "__node_r": 42.7551166528639,
          "__node_size": 7312,
          "__y_label": 145.79729867557603,
          "group": "5",
          "x": 41.90994776469606,
          "y": 200.55241532843993
         }
        ],
        "data-ae5bf96d579bb22a3f87fdb3ae858d64": [
         {
          "__combo_size": 10000,
          "__node_r": 50,
          "__node_size": 10000,
          "__y_label": 183.61543854723502,
          "group": "1",
          "x": 242.7626397974009,
          "y": 245.61543854723502
         }
        ],
        "data-baf9cb0b1ef0fb819f649cc426cc8f9c": [
         {
          "edge": 0,
          "pair": [
           "MmeThenardier",
           "Thenardier"
          ],
          "source": "MmeThenardier",
          "target": "Thenardier",
          "value": 13,
          "weight": 13,
          "x": 265.47673841177357,
          "y": 63.63783394188574
         },
         {
          "edge": 0,
          "pair": [
           "MmeThenardier",
           "Thenardier"
          ],
          "source": "MmeThenardier",
          "target": "Thenardier",
          "value": 13,
          "weight": 13,
          "x": 261.44161524476107,
          "y": 76.05666644172324
         },
         {
          "edge": 1,
          "pair": [
           "MmeThenardier",
           "Eponine"
          ],
          "source": "MmeThenardier",
          "target": "Eponine",
          "value": 2,
          "weight": 2,
          "x": 265.47673841177357,
          "y": 63.63783394188574
         },
         {
          "edge": 1,
          "pair": [
           "MmeThenardier",
           "Eponine"
          ],
          "source": "MmeThenardier",
          "target": "Eponine",
          "value": 2,
          "weight": 2,
          "x": 237.81959078703161,
          "y": 83.73192655287475
         },
         {
          "edge": 2,
          "pair": [
           "MmeThenardier",
           "Anzelma"
          ],
          "source": "MmeThenardier",
          "target": "Anzelma",
          "value": 1,
          "weight": 1,
          "x": 265.47673841177357,
          "y": 63.63783394188574
         },
         {
          "edge": 2,
          "pair": [
           "MmeThenardier",
           "Anzelma"
          ],
          "source": "MmeThenardier",
          "target": "Anzelma",
          "value": 1,
          "weight": 1,
          "x": 227.25550136267194,
          "y": 76.05666644172324
         },
         {
          "edge": 3,
          "pair": [
           "MmeThenardier",
           "Gueulemer"
          ],
          "source": "MmeThenardier",
          "target": "Gueulemer",
          "value": 1,
          "weight": 1,
          "x": 265.47673841177357,
          "y": 63.63783394188574
         },
         {
          "edge": 3,
          "pair": [
           "MmeThenardier",
           "Gueulemer"
          ],
          "source": "MmeThenardier",
          "target": "Gueulemer",
          "value": 1,
          "weight": 1,
          "x": 223.22037819565946,
          "y": 63.63783209480157
         },
         {
          "edge": 4,
          "pair": [
           "MmeThenardier",
           "Babet"
          ],
          "source": "MmeThenardier",
          "target": "Babet",
          "value": 1,
          "weight": 1,
          "x": 265.47673841177357,
          "y": 63.63783394188574
         },
         {
          "edge": 4,
          "pair": [
           "MmeThenardier",
           "Babet"
          ],
          "source": "MmeThenardier",
          "target": "Babet",
          "value": 1,
          "weight": 1,
          "x": 227.2555026220096,
          "y": 51.219000182710566
         },
         {
          "edge": 5,
          "pair": [
           "MmeThenardier",
           "Claquesous"
          ],
          "source": "MmeThenardier",
          "target": "Claquesous",
          "value": 1,
          "weight": 1,
          "x": 265.47673841177357,
          "y": 63.63783394188574
         },
         {
          "edge": 5,
          "pair": [
           "MmeThenardier",
           "Claquesous"
          ],
          "source": "MmeThenardier",
          "target": "Claquesous",
          "value": 1,
          "weight": 1,
          "x": 237.81958889802513,
          "y": 43.54374133089671
         },
         {
          "edge": 6,
          "pair": [
           "Thenardier",
           "Boulatruelle"
          ],
          "source": "Thenardier",
          "target": "Boulatruelle",
          "value": 1,
          "weight": 1,
          "x": 261.44161524476107,
          "y": 76.05666644172324
         },
         {
          "edge": 6,
          "pair": [
           "Thenardier",
           "Boulatruelle"
          ],
          "source": "Thenardier",
          "target": "Boulatruelle",
          "value": 1,
          "weight": 1,
          "x": 250.87752456106372,
          "y": 83.73192781221243
         },
         {
          "edge": 7,
          "pair": [
           "Thenardier",
           "Eponine"
          ],
          "source": "Thenardier",
          "target": "Eponine",
          "value": 3,
          "weight": 3,
          "x": 261.44161524476107,
          "y": 76.05666644172324
         },
         {
          "edge": 7,
          "pair": [
           "Thenardier",
           "Eponine"
          ],
          "source": "Thenardier",
          "target": "Eponine",
          "value": 3,
          "weight": 3,
          "x": 237.81959078703161,
          "y": 83.73192655287475
         },
         {
          "edge": 8,
          "pair": [
           "Thenardier",
           "Anzelma"
          ],
          "source": "Thenardier",
          "target": "Anzelma",
          "value": 2,
          "weight": 2,
          "x": 261.44161524476107,
          "y": 76.05666644172324
         },
         {
          "edge": 8,
          "pair": [
           "Thenardier",
           "Anzelma"
          ],
          "source": "Thenardier",
          "target": "Anzelma",
          "value": 2,
          "weight": 2,
          "x": 227.25550136267194,
          "y": 76.05666644172324
         },
         {
          "edge": 9,
          "pair": [
           "Thenardier",
           "Gueulemer"
          ],
          "source": "Thenardier",
          "target": "Gueulemer",
          "value": 5,
          "weight": 5,
          "x": 261.44161524476107,
          "y": 76.05666644172324
         },
         {
          "edge": 9,
          "pair": [
           "Thenardier",
           "Gueulemer"
          ],
          "source": "Thenardier",
          "target": "Gueulemer",
          "value": 5,
          "weight": 5,
          "x": 223.22037819565946,
          "y": 63.63783209480157
         },
         {
          "edge": 10,
          "pair": [
           "Thenardier",
           "Babet"
          ],
          "source": "Thenardier",
          "target": "Babet",
          "value": 6,
          "weight": 6,
          "x": 261.44161524476107,
          "y": 76.05666644172324
         },
         {
          "edge": 10,
          "pair": [
           "Thenardier",
           "Babet"
          ],
          "source": "Thenardier",
          "target": "Babet",
          "value": 6,
          "weight": 6,
          "x": 227.2555026220096,
          "y": 51.219000182710566
         },
         {
          "edge": 11,
          "pair": [
           "Thenardier",
           "Claquesous"
          ],
          "source": "Thenardier",
          "target": "Claquesous",
          "value": 4,
          "weight": 4,
          "x": 261.44161524476107,
          "y": 76.05666644172324
         },
         {
          "edge": 11,
          "pair": [
           "Thenardier",
           "Claquesous"
          ],
          "source": "Thenardier",
          "target": "Claquesous",
          "value": 4,
          "weight": 4,
          "x": 237.81958889802513,
          "y": 43.54374133089671
         },
         {
          "edge": 12,
          "pair": [
           "Thenardier",
           "Montparnasse"
          ],
          "source": "Thenardier",
          "target": "Montparnasse",
          "value": 1,
          "weight": 1,
          "x": 261.44161524476107,
          "y": 76.05666644172324
         },
         {
          "edge": 12,
          "pair": [
           "Thenardier",
           "Montparnasse"
          ],
          "source": "Thenardier",
          "target": "Montparnasse",
          "value": 1,
          "weight": 1,
          "x": 250.8775277094079,
          "y": 43.54374133089671
         },
         {
          "edge": 13,
          "pair": [
           "Thenardier",
           "Brujon"
          ],
          "source": "Thenardier",
          "target": "Brujon",
          "value": 3,
          "weight": 3,
          "x": 261.44161524476107,
          "y": 76.05666644172324
         },
         {
          "edge": 13,
          "pair": [
           "Thenardier",
           "Brujon"
          ],
          "source": "Thenardier",
          "target": "Brujon",
          "value": 3,
          "weight": 3,
          "x": 261.4416139854234,
          "y": 51.219000182710566
         },
         {
          "edge": 14,
          "pair": [
           "Eponine",
           "Anzelma"
          ],
          "source": "Eponine",
          "target": "Anzelma",
          "value": 2,
          "weight": 2,
          "x": 237.81959078703161,
          "y": 83.73192655287475
         },
         {
          "edge": 14,
          "pair": [
           "Eponine",
           "Anzelma"
          ],
          "source": "Eponine",
          "target": "Anzelma",
          "value": 2,
          "weight": 2,
          "x": 227.25550136267194,
          "y": 76.05666644172324
         },
         {
          "edge": 15,
          "pair": [
           "Eponine",
           "Gueulemer"
          ],
          "source": "Eponine",
          "target": "Gueulemer",
          "value": 1,
          "weight": 1,
          "x": 237.81959078703161,
          "y": 83.73192655287475
         },
         {
          "edge": 15,
          "pair": [
           "Eponine",
           "Gueulemer"
          ],
          "source": "Eponine",
          "target": "Gueulemer",
          "value": 1,
          "weight": 1,
          "x": 223.22037819565946,
          "y": 63.63783209480157
         },
         {
          "edge": 16,
          "pair": [
           "Eponine",
           "Babet"
          ],
          "source": "Eponine",
          "target": "Babet",
          "value": 1,
          "weight": 1,
          "x": 237.81959078703161,
          "y": 83.73192655287475
         },
         {
          "edge": 16,
          "pair": [
           "Eponine",
           "Babet"
          ],
          "source": "Eponine",
          "target": "Babet",
          "value": 1,
          "weight": 1,
          "x": 227.2555026220096,
          "y": 51.219000182710566
         },
         {
          "edge": 17,
          "pair": [
           "Eponine",
           "Claquesous"
          ],
          "source": "Eponine",
          "target": "Claquesous",
          "value": 1,
          "weight": 1,
          "x": 237.81959078703161,
          "y": 83.73192655287475
         },
         {
          "edge": 17,
          "pair": [
           "Eponine",
           "Claquesous"
          ],
          "source": "Eponine",
          "target": "Claquesous",
          "value": 1,
          "weight": 1,
          "x": 237.81958889802513,
          "y": 43.54374133089671
         },
         {
          "edge": 18,
          "pair": [
           "Eponine",
           "Montparnasse"
          ],
          "source": "Eponine",
          "target": "Montparnasse",
          "value": 1,
          "weight": 1,
          "x": 237.81959078703161,
          "y": 83.73192655287475
         },
         {
          "edge": 18,
          "pair": [
           "Eponine",
           "Montparnasse"
          ],
          "source": "Eponine",
          "target": "Montparnasse",
          "value": 1,
          "weight": 1,
          "x": 250.8775277094079,
          "y": 43.54374133089671
         },
         {
          "edge": 19,
          "pair": [
           "Eponine",
           "Brujon"
          ],
          "source": "Eponine",
          "target": "Brujon",
          "value": 1,
          "weight": 1,
          "x": 237.81959078703161,
          "y": 83.73192655287475
         },
         {
          "edge": 19,
          "pair": [
           "Eponine",
           "Brujon"
          ],
          "source": "Eponine",
          "target": "Brujon",
          "value": 1,
          "weight": 1,
          "x": 261.4416139854234,
          "y": 51.219000182710566
         },
         {
          "edge": 20,
          "pair": [
           "Gueulemer",
           "Babet"
          ],
          "source": "Gueulemer",
          "target": "Babet",
          "value": 6,
          "weight": 6,
          "x": 223.22037819565946,
          "y": 63.63783209480157
         },
         {
          "edge": 20,
          "pair": [
           "Gueulemer",
           "Babet"
          ],
          "source": "Gueulemer",
          "target": "Babet",
          "value": 6,
          "weight": 6,
          "x": 227.2555026220096,
          "y": 51.219000182710566
         },
         {
          "edge": 21,
          "pair": [
           "Gueulemer",
           "Claquesous"
          ],
          "source": "Gueulemer",
          "target": "Claquesous",
          "value": 4,
          "weight": 4,
          "x": 223.22037819565946,
          "y": 63.63783209480157
         },
         {
          "edge": 21,
          "pair": [
           "Gueulemer",
           "Claquesous"
          ],
          "source": "Gueulemer",
          "target": "Claquesous",
          "value": 4,
          "weight": 4,
          "x": 237.81958889802513,
          "y": 43.54374133089671
         },
         {
          "edge": 22,
          "pair": [
           "Gueulemer",
           "Montparnasse"
          ],
          "source": "Gueulemer",
          "target": "Montparnasse",
          "value": 2,
          "weight": 2,
          "x": 223.22037819565946,
          "y": 63.63783209480157
         },
         {
          "edge": 22,
          "pair": [
           "Gueulemer",
           "Montparnasse"
          ],
          "source": "Gueulemer",
          "target": "Montparnasse",
          "value": 2,
          "weight": 2,
          "x": 250.8775277094079,
          "y": 43.54374133089671
         },
         {
          "edge": 23,
          "pair": [
           "Gueulemer",
           "Brujon"
          ],
          "source": "Gueulemer",
          "target": "Brujon",
          "value": 3,
          "weight": 3,
          "x": 223.22037819565946,
          "y": 63.63783209480157
         },
         {
          "edge": 23,
          "pair": [
           "Gueulemer",
           "Brujon"
          ],
          "source": "Gueulemer",
          "target": "Brujon",
          "value": 3,
          "weight": 3,
          "x": 261.4416139854234,
          "y": 51.219000182710566
         },
         {
          "edge": 24,
          "pair": [
           "Babet",
           "Claquesous"
          ],
          "source": "Babet",
          "target": "Claquesous",
          "value": 4,
          "weight": 4,
          "x": 227.2555026220096,
          "y": 51.219000182710566
         },
         {
          "edge": 24,
          "pair": [
           "Babet",
           "Claquesous"
          ],
          "source": "Babet",
          "target": "Claquesous",
          "value": 4,
          "weight": 4,
          "x": 237.81958889802513,
          "y": 43.54374133089671
         },
         {
          "edge": 25,
          "pair": [
           "Babet",
           "Montparnasse"
          ],
          "source": "Babet",
          "target": "Montparnasse",
          "value": 2,
          "weight": 2,
          "x": 227.2555026220096,
          "y": 51.219000182710566
         },
         {
          "edge": 25,
          "pair": [
           "Babet",
           "Montparnasse"
          ],
          "source": "Babet",
          "target": "Montparnasse",
          "value": 2,
          "weight": 2,
          "x": 250.8775277094079,
          "y": 43.54374133089671
         },
         {
          "edge": 26,
          "pair": [
           "Babet",
           "Brujon"
          ],
          "source": "Babet",
          "target": "Brujon",
          "value": 3,
          "weight": 3,
          "x": 227.2555026220096,
          "y": 51.219000182710566
         },
         {
          "edge": 26,
          "pair": [
           "Babet",
           "Brujon"
          ],
          "source": "Babet",
          "target": "Brujon",
          "value": 3,
          "weight": 3,
          "x": 261.4416139854234,
          "y": 51.219000182710566
         },
         {
          "edge": 27,
          "pair": [
           "Claquesous",
           "Montparnasse"
          ],
          "source": "Claquesous",
          "target": "Montparnasse",
          "value": 2,
          "weight": 2,
          "x": 237.81958889802513,
          "y": 43.54374133089671
         },
         {
          "edge": 27,
          "pair": [
           "Claquesous",
           "Montparnasse"
          ],
          "source": "Claquesous",
          "target": "Montparnasse",
          "value": 2,
          "weight": 2,
          "x": 250.8775277094079,
          "y": 43.54374133089671
         },
         {
          "edge": 28,
          "pair": [
           "Claquesous",
           "Brujon"
          ],
          "source": "Claquesous",
          "target": "Brujon",
          "value": 1,
          "weight": 1,
          "x": 237.81958889802513,
          "y": 43.54374133089671
         },
         {
          "edge": 28,
          "pair": [
           "Claquesous",
           "Brujon"
          ],
          "source": "Claquesous",
          "target": "Brujon",
          "value": 1,
          "weight": 1,
          "x": 261.4416139854234,
          "y": 51.219000182710566
         },
         {
          "edge": 29,
          "pair": [
           "Montparnasse",
           "Brujon"
          ],
          "source": "Montparnasse",
          "target": "Brujon",
          "value": 1,
          "weight": 1,
          "x": 250.8775277094079,
          "y": 43.54374133089671
         },
         {
          "edge": 29,
          "pair": [
           "Montparnasse",
           "Brujon"
          ],
          "source": "Montparnasse",
          "target": "Brujon",
          "value": 1,
          "weight": 1,
          "x": 261.4416139854234,
          "y": 51.219000182710566
         }
        ],
        "data-be2e1ad33a9a25addc874c272e8f990a": [
         {
          "__combo_size": 4624,
          "__node_r": 34,
          "__node_size": 4624,
          "__y_label": 378.3484347250741,
          "group": "2",
          "x": 491.6023162705465,
          "y": 424.3484347250741
         }
        ],
        "data-daad58c2f2979104407398bdbd53c098": [
         {
          "__combo_group_value": "2",
          "__node_r": 2.5,
          "__node_size": 25,
          "group": "2",
          "name": "Marguerite",
          "x": 512.0023162705465,
          "y": 424.3484351303857
         },
         {
          "__combo_group_value": "2",
          "__node_r": 2.5,
          "__node_size": 25,
          "group": "2",
          "name": "Tholomyes",
          "x": 507.2296228350146,
          "y": 437.4613015882661
         },
         {
          "__combo_group_value": "2",
          "__node_r": 2.5,
          "__node_size": 25,
          "group": "2",
          "name": "Listolier",
          "x": 495.1447401371203,
          "y": 444.4385126836442
         },
         {
          "__combo_group_value": "2",
          "__node_r": 2.5,
          "__node_size": 25,
          "group": "2",
          "name": "Fameuil",
          "x": 481.40231525726756,
          "y": 442.01535293349497
         },
         {
          "__combo_group_value": "2",
          "__node_r": 2.5,
          "__node_size": 25,
          "group": "2",
          "name": "Blacheville",
          "x": 472.4325871567672,
          "y": 431.3256474416985
         },
         {
          "__combo_group_value": "2",
          "__node_r": 2.5,
          "__node_size": 25,
          "group": "2",
          "name": "Favourite",
          "x": 472.4325871567672,
          "y": 417.37122403500763
         },
         {
          "__combo_group_value": "2",
          "__node_r": 2.5,
          "__node_size": 25,
          "group": "2",
          "name": "Dahlia",
          "x": 481.40231829710444,
          "y": 406.68151611134175
         },
         {
          "__combo_group_value": "2",
          "__node_r": 2.5,
          "__node_size": 25,
          "group": "2",
          "name": "Zephine",
          "x": 495.1447389211856,
          "y": 404.25835757712724
         },
         {
          "__combo_group_value": "2",
          "__node_r": 2.5,
          "__node_size": 25,
          "group": "2",
          "name": "Fantine",
          "x": 507.22962040314513,
          "y": 411.23556502470103
         }
        ]
       },
       "height": 480,
       "layer": [
        {
         "data": {
          "name": "data-99d191c7087b5e8ee451d9572c04fb24"
         },
         "encoding": {
          "color": {
           "value": "#606060"
          },
          "detail": {
           "field": "edge",
           "type": "quantitative"
          },
          "opacity": {
           "field": "value",
           "legend": null,
           "scale": {
            "range": [
             0.3,
             1
            ]
           },
           "type": "quantitative"
          },
          "strokeWidth": {
           "field": "value",
           "legend": null,
           "scale": {
            "range": [
             0.5,
             3
            ]
           },
           "type": "quantitative"
          },
          "x": {
           "axis": {
            "domain": false,
            "grid": false,
            "labels": false,
            "ticks": false,
            "title": ""
           },
           "field": "x",
           "type": "quantitative"
          },
          "y": {
           "axis": {
            "domain": false,
            "grid": false,
            "labels": false,
            "ticks": false,
            "title": ""
           },
           "field": "y",
           "type": "quantitative"
          }
         },
         "mark": {
          "type": "line"
         }
        },
        {
         "data": {
          "name": "data-be2e1ad33a9a25addc874c272e8f990a"
         },
         "layer": [
          {
           "encoding": {
            "fill": {
             "value": "#fff"
            },
            "opacity": {
             "value": 1
            },
            "size": {
             "field": "__combo_size",
             "legend": null,
             "scale": null,
             "type": "quantitative"
            },
            "stroke": {
             "value": "#565656"
            },
            "strokeWidth": {
             "value": 3
            },
            "tooltip": [
             {
              "field": "group",
              "type": "nominal"
             }
            ],
            "x": {
             "axis": {
              "domain": false,
              "grid": false,
              "labels": false,
              "ticks": false,
              "title": ""
             },
             "field": "x",
             "type": "quantitative"
            },
            "y": {
             "axis": {
              "domain": false,
              "grid": false,
              "labels": false,
              "ticks": false,
              "title": ""
             },
             "field": "y",
             "type": "quantitative"
            }
           },
           "mark": {
            "type": "circle"
           }
          },
          {
           "encoding": {
            "text": {
             "field": "group",
             "type": "nominal"
            },
            "x": {
             "axis": {
              "domain": false,
              "grid": false,
              "labels": false,
              "ticks": false,
              "title": ""
             },
             "field": "x",
             "type": "quantitative"
            },
            "y": {
             "axis": {
              "domain": false,
              "grid": false,
              "labels": false,
              "ticks": false,
              "title": ""
             },
             "field": "__y_label",
             "type": "quantitative"
            }
           },
           "mark": {
            "align": "center",
            "baseline": "middle",
            "color": "black",
            "size": 10,
            "type": "text"
           }
          }
         ]
        },
        {
         "data": {
          "name": "data-8bc3c76f25468960a8b7ffabe30a8f8c"
         },
         "encoding": {
          "color": {
           "value": "#333"
          },
          "detail": {
           "field": "edge",
           "type": "quantitative"
          },
          "opacity": {
           "field": "value",
           "legend": null,
           "scale": {
            "range": [
             0.5,
             0.8
            ]
           },
           "type": "quantitative"
          },
          "strokeWidth": {
           "field": "value",
           "legend": null,
           "scale": {
            "range": [
             0.4,
             1
            ]
           },
           "type": "quantitative"
          },
          "x": {
           "axis": {
            "domain": false,
            "grid": false,
            "labels": false,
            "ticks": false,
            "title": ""
           },
           "field": "x",
           "type": "quantitative"
          },
          "y": {
           "axis": {
            "domain": false,
            "grid": false,
            "labels": false,
            "ticks": false,
            "title": ""
           },
           "field": "y",
           "type": "quantitative"
          }
         },
         "mark": {
          "type": "line"
         }
        },
        {
         "data": {
          "name": "data-daad58c2f2979104407398bdbd53c098"
         },
         "encoding": {
          "fill": {
           "value": "#888"
          },
          "opacity": {
           "value": 1
          },
          "size": {
           "value": 25
          },
          "stroke": {
           "value": "#222"
          },
          "strokeWidth": {
           "value": 1
          },
          "tooltip": [
           {
            "field": "name",
            "type": "nominal"
           },
           {
            "field": "group",
            "type": "nominal"
           }
          ],
          "x": {
           "axis": {
            "domain": false,
            "grid": false,
            "labels": false,
            "ticks": false,
            "title": ""
           },
           "field": "x",
           "type": "quantitative"
          },
          "y": {
           "axis": {
            "domain": false,
            "grid": false,
            "labels": false,
            "ticks": false,
            "title": ""
           },
           "field": "y",
           "type": "quantitative"
          }
         },
         "mark": {
          "type": "circle"
         }
        },
        {
         "data": {
          "name": "data-a0b2686836e559f5fc82ac80854521c6"
         },
         "layer": [
          {
           "encoding": {
            "fill": {
             "value": "#fff"
            },
            "opacity": {
             "value": 1
            },
            "size": {
             "field": "__combo_size",
             "legend": null,
             "scale": null,
             "type": "quantitative"
            },
            "stroke": {
             "value": "#565656"
            },
            "strokeWidth": {
             "value": 3
            },
            "tooltip": [
             {
              "field": "group",
              "type": "nominal"
             }
            ],
            "x": {
             "axis": {
              "domain": false,
              "grid": false,
              "labels": false,
              "ticks": false,
              "title": ""
             },
             "field": "x",
             "type": "quantitative"
            },
            "y": {
             "axis": {
              "domain": false,
              "grid": false,
              "labels": false,
              "ticks": false,
              "title": ""
             },
             "field": "y",
             "type": "quantitative"
            }
           },
           "mark": {
            "type": "circle"
           }
          },
          {
           "encoding": {
            "text": {
             "field": "group",
             "type": "nominal"
            },
            "x": {
             "axis": {
              "domain": false,
              "grid": false,
              "labels": false,
              "ticks": false,
              "title": ""
             },
             "field": "x",
             "type": "quantitative"
            },
            "y": {
             "axis": {
              "domain": false,
              "grid": false,
              "labels": false,
              "ticks": false,
              "title": ""
             },
             "field": "__y_label",
             "type": "quantitative"
            }
           },
           "mark": {
            "align": "center",
            "baseline": "middle",
            "color": "black",
            "size": 10,
            "type": "text"
           }
          }
         ]
        },
        {
         "data": {
          "name": "data-631e1a828786ad13f033e1aaffbce09a"
         },
         "encoding": {
          "color": {
           "value": "#333"
          },
          "detail": {
           "field": "edge",
           "type": "quantitative"
          },
          "opacity": {
           "field": "value",
           "legend": null,
           "scale": {
            "range": [
             0.5,
             0.8
            ]
           },
           "type": "quantitative"
          },
          "strokeWidth": {
           "field": "value",
           "legend": null,
           "scale": {
            "range": [
             0.4,
             1
            ]
           },
           "type": "quantitative"
          },
          "x": {
           "axis": {
            "domain": false,
            "grid": false,
            "labels": false,
            "ticks": false,
            "title": ""
           },
           "field": "x",
           "type": "quantitative"
          },
          "y": {
           "axis": {
            "domain": false,
            "grid": false,
            "labels": false,
            "ticks": false,
            "title": ""
           },
           "field": "y",
           "type": "quantitative"
          }
         },
         "mark": {
          "type": "line"
         }
        },
        {
         "data": {
          "name": "data-54ca59bd7581016627ae4cd7ca20b709"
         },
         "encoding": {
          "fill": {
           "value": "#888"
          },
          "opacity": {
           "value": 1
          },
          "size": {
           "value": 25
          },
          "stroke": {
           "value": "#222"
          },
          "strokeWidth": {
           "value": 1
          },
          "tooltip": [
           {
            "field": "name",
            "type": "nominal"
           },
           {
            "field": "group",
            "type": "nominal"
           }
          ],
          "x": {
           "axis": {
            "domain": false,
            "grid": false,
            "labels": false,
            "ticks": false,
            "title": ""
           },
           "field": "x",
           "type": "quantitative"
          },
          "y": {
           "axis": {
            "domain": false,
            "grid": false,
            "labels": false,
            "ticks": false,
            "title": ""
           },
           "field": "y",
           "type": "quantitative"
          }
         },
         "mark": {
          "type": "circle"
         }
        },
        {
         "data": {
          "name": "data-ae5bf96d579bb22a3f87fdb3ae858d64"
         },
         "layer": [
          {
           "encoding": {
            "fill": {
             "value": "#fff"
            },
            "opacity": {
             "value": 1
            },
            "size": {
             "field": "__combo_size",
             "legend": null,
             "scale": null,
             "type": "quantitative"
            },
            "stroke": {
             "value": "#565656"
            },
            "strokeWidth": {
             "value": 3
            },
            "tooltip": [
             {
              "field": "group",
              "type": "nominal"
             }
            ],
            "x": {
             "axis": {
              "domain": false,
              "grid": false,
              "labels": false,
              "ticks": false,
              "title": ""
             },
             "field": "x",
             "type": "quantitative"
            },
            "y": {
             "axis": {
              "domain": false,
              "grid": false,
              "labels": false,
              "ticks": false,
              "title": ""
             },
             "field": "y",
             "type": "quantitative"
            }
           },
           "mark": {
            "type": "circle"
           }
          },
          {
           "encoding": {
            "text": {
             "field": "group",
             "type": "nominal"
            },
            "x": {
             "axis": {
              "domain": false,
              "grid": false,
              "labels": false,
              "ticks": false,
              "title": ""
             },
             "field": "x",
             "type": "quantitative"
            },
            "y": {
             "axis": {
              "domain": false,
              "grid": false,
              "labels": false,
              "ticks": false,
              "title": ""
             },
             "field": "__y_label",
             "type": "quantitative"
            }
           },
           "mark": {
            "align": "center",
            "baseline": "middle",
            "color": "black",
            "size": 10,
            "type": "text"
           }
          }
         ]
        },
        {
         "data": {
          "name": "data-6bcbbfaacb720f3c8b8bf14e00269f17"
         },
         "encoding": {
          "color": {
           "value": "#333"
          },
          "detail": {
           "field": "edge",
           "type": "quantitative"
          },
          "opacity": {
           "field": "value",
           "legend": null,
           "scale": {
            "range": [
             0.5,
             0.8
            ]
           },
           "type": "quantitative"
          },
          "strokeWidth": {
           "field": "value",
           "legend": null,
           "scale": {
            "range": [
             0.4,
             1
            ]
           },
           "type": "quantitative"
          },
          "x": {
           "axis": {
            "domain": false,
            "grid": false,
            "labels": false,
            "ticks": false,
            "title": ""
           },
           "field": "x",
           "type": "quantitative"
          },
          "y": {
           "axis": {
            "domain": false,
            "grid": false,
            "labels": false,
            "ticks": false,
            "title": ""
           },
           "field": "y",
           "type": "quantitative"
          }
         },
         "mark": {
          "type": "line"
         }
        },
        {
         "data": {
          "name": "data-53f2aeacc58b31aacba3a45746f0888b"
         },
         "encoding": {
          "fill": {
           "value": "#888"
          },
          "opacity": {
           "value": 1
          },
          "size": {
           "value": 25
          },
          "stroke": {
           "value": "#222"
          },
          "strokeWidth": {
           "value": 1
          },
          "tooltip": [
           {
            "field": "name",
            "type": "nominal"
           },
           {
            "field": "group",
            "type": "nominal"
           }
          ],
          "x": {
           "axis": {
            "domain": false,
            "grid": false,
            "labels": false,
            "ticks": false,
            "title": ""
           },
           "field": "x",
           "type": "quantitative"
          },
          "y": {
           "axis": {
            "domain": false,
            "grid": false,
            "labels": false,
            "ticks": false,
            "title": ""
           },
           "field": "y",
           "type": "quantitative"
          }
         },
         "mark": {
          "type": "circle"
         }
        },
        {
         "data": {
          "name": "data-38d63730ce6ed5b875e09b479ecc74dd"
         },
         "layer": [
          {
           "encoding": {
            "fill": {
             "value": "#fff"
            },
            "opacity": {
             "value": 1
            },
            "size": {
             "field": "__combo_size",
             "legend": null,
             "scale": null,
             "type": "quantitative"
            },
            "stroke": {
             "value": "#565656"
            },
            "strokeWidth": {
             "value": 3
            },
            "tooltip": [
             {
              "field": "group",
              "type": "nominal"
             }
            ],
            "x": {
             "axis": {
              "domain": false,
              "grid": false,
              "labels": false,
              "ticks": false,
              "title": ""
             },
             "field": "x",
             "type": "quantitative"
            },
            "y": {
             "axis": {
              "domain": false,
              "grid": false,
              "labels": false,
              "ticks": false,
              "title": ""
             },
             "field": "y",
             "type": "quantitative"
            }
           },
           "mark": {
            "type": "circle"
           }
          },
          {
           "encoding": {
            "text": {
             "field": "group",
             "type": "nominal"
            },
            "x": {
             "axis": {
              "domain": false,
              "grid": false,
              "labels": false,
              "ticks": false,
              "title": ""
             },
             "field": "x",
             "type": "quantitative"
            },
            "y": {
             "axis": {
              "domain": false,
              "grid": false,
              "labels": false,
              "ticks": false,
              "title": ""
             },
             "field": "__y_label",
             "type": "quantitative"
            }
           },
           "mark": {
            "align": "center",
            "baseline": "middle",
            "color": "black",
            "size": 10,
            "type": "text"
           }
          }
         ]
        },
        {
         "data": {
          "name": "data-345a525acbf99f4d65f89667a3aff607"
         },
         "encoding": {
          "color": {
           "value": "#333"
          },
          "detail": {
           "field": "edge",
           "type": "quantitative"
          },
          "opacity": {
           "field": "value",
           "legend": null,
           "scale": {
            "range": [
             0.5,
             0.8
            ]
           },
           "type": "quantitative"
          },
          "strokeWidth": {
           "field": "value",
           "legend": null,
           "scale": {
            "range": [
             0.4,
             1
            ]
           },
           "type": "quantitative"
          },
          "x": {
           "axis": {
            "domain": false,
            "grid": false,
            "labels": false,
            "ticks": false,
            "title": ""
           },
           "field": "x",
           "type": "quantitative"
          },
          "y": {
           "axis": {
            "domain": false,
            "grid": false,
            "labels": false,
            "ticks": false,
            "title": ""
           },
           "field": "y",
           "type": "quantitative"
          }
         },
         "mark": {
          "type": "line"
         }
        },
        {
         "data": {
          "name": "data-0ed6e3ebc6c3139899c541a6ed5f2146"
         },
         "encoding": {
          "fill": {
           "value": "#888"
          },
          "opacity": {
           "value": 1
          },
          "size": {
           "value": 25
          },
          "stroke": {
           "value": "#222"
          },
          "strokeWidth": {
           "value": 1
          },
          "tooltip": [
           {
            "field": "name",
            "type": "nominal"
           },
           {
            "field": "group",
            "type": "nominal"
           }
          ],
          "x": {
           "axis": {
            "domain": false,
            "grid": false,
            "labels": false,
            "ticks": false,
            "title": ""
           },
           "field": "x",
           "type": "quantitative"
          },
          "y": {
           "axis": {
            "domain": false,
            "grid": false,
            "labels": false,
            "ticks": false,
            "title": ""
           },
           "field": "y",
           "type": "quantitative"
          }
         },
         "mark": {
          "type": "circle"
         }
        },
        {
         "data": {
          "name": "data-4fb209b81c0add1ce0d0ab1e70afcc2f"
         },
         "layer": [
          {
           "encoding": {
            "fill": {
             "value": "#fff"
            },
            "opacity": {
             "value": 1
            },
            "size": {
             "field": "__combo_size",
             "legend": null,
             "scale": null,
             "type": "quantitative"
            },
            "stroke": {
             "value": "#565656"
            },
            "strokeWidth": {
             "value": 3
            },
            "tooltip": [
             {
              "field": "group",
              "type": "nominal"
             }
            ],
            "x": {
             "axis": {
              "domain": false,
              "grid": false,
              "labels": false,
              "ticks": false,
              "title": ""
             },
             "field": "x",
             "type": "quantitative"
            },
            "y": {
             "axis": {
              "domain": false,
              "grid": false,
              "labels": false,
              "ticks": false,
              "title": ""
             },
             "field": "y",
             "type": "quantitative"
            }
           },
           "mark": {
            "type": "circle"
           }
          },
          {
           "encoding": {
            "text": {
             "field": "group",
             "type": "nominal"
            },
            "x": {
             "axis": {
              "domain": false,
              "grid": false,
              "labels": false,
              "ticks": false,
              "title": ""
             },
             "field": "x",
             "type": "quantitative"
            },
            "y": {
             "axis": {
              "domain": false,
              "grid": false,
              "labels": false,
              "ticks": false,
              "title": ""
             },
             "field": "__y_label",
             "type": "quantitative"
            }
           },
           "mark": {
            "align": "center",
            "baseline": "middle",
            "color": "black",
            "size": 10,
            "type": "text"
           }
          }
         ]
        },
        {
         "data": {
          "name": "data-9d651b1bbf1d94fcd71974c1454152a5"
         },
         "encoding": {
          "color": {
           "value": "#333"
          },
          "detail": {
           "field": "edge",
           "type": "quantitative"
          },
          "opacity": {
           "field": "value",
           "legend": null,
           "scale": {
            "range": [
             0.5,
             0.8
            ]
           },
           "type": "quantitative"
          },
          "strokeWidth": {
           "field": "value",
           "legend": null,
           "scale": {
            "range": [
             0.4,
             1
            ]
           },
           "type": "quantitative"
          },
          "x": {
           "axis": {
            "domain": false,
            "grid": false,
            "labels": false,
            "ticks": false,
            "title": ""
           },
           "field": "x",
           "type": "quantitative"
          },
          "y": {
           "axis": {
            "domain": false,
            "grid": false,
            "labels": false,
            "ticks": false,
            "title": ""
           },
           "field": "y",
           "type": "quantitative"
          }
         },
         "mark": {
          "type": "line"
         }
        },
        {
         "data": {
          "name": "data-0716213653163c23003de446d2125237"
         },
         "encoding": {
          "fill": {
           "value": "#888"
          },
          "opacity": {
           "value": 1
          },
          "size": {
           "value": 25
          },
          "stroke": {
           "value": "#222"
          },
          "strokeWidth": {
           "value": 1
          },
          "tooltip": [
           {
            "field": "name",
            "type": "nominal"
           },
           {
            "field": "group",
            "type": "nominal"
           }
          ],
          "x": {
           "axis": {
            "domain": false,
            "grid": false,
            "labels": false,
            "ticks": false,
            "title": ""
           },
           "field": "x",
           "type": "quantitative"
          },
          "y": {
           "axis": {
            "domain": false,
            "grid": false,
            "labels": false,
            "ticks": false,
            "title": ""
           },
           "field": "y",
           "type": "quantitative"
          }
         },
         "mark": {
          "type": "circle"
         }
        },
        {
         "data": {
          "name": "data-751ca1b4f22a86381aeea90b324e5281"
         },
         "layer": [
          {
           "encoding": {
            "fill": {
             "value": "#fff"
            },
            "opacity": {
             "value": 1
            },
            "size": {
             "field": "__combo_size",
             "legend": null,
             "scale": null,
             "type": "quantitative"
            },
            "stroke": {
             "value": "#565656"
            },
            "strokeWidth": {
             "value": 3
            },
            "tooltip": [
             {
              "field": "group",
              "type": "nominal"
             }
            ],
            "x": {
             "axis": {
              "domain": false,
              "grid": false,
              "labels": false,
              "ticks": false,
              "title": ""
             },
             "field": "x",
             "type": "quantitative"
            },
            "y": {
             "axis": {
              "domain": false,
              "grid": false,
              "labels": false,
              "ticks": false,
              "title": ""
             },
             "field": "y",
             "type": "quantitative"
            }
           },
           "mark": {
            "type": "circle"
           }
          },
          {
           "encoding": {
            "text": {
             "field": "group",
             "type": "nominal"
            },
            "x": {
             "axis": {
              "domain": false,
              "grid": false,
              "labels": false,
              "ticks": false,
              "title": ""
             },
             "field": "x",
             "type": "quantitative"
            },
            "y": {
             "axis": {
              "domain": false,
              "grid": false,
              "labels": false,
              "ticks": false,
              "title": ""
             },
             "field": "__y_label",
             "type": "quantitative"
            }
           },
           "mark": {
            "align": "center",
            "baseline": "middle",
            "color": "black",
            "size": 10,
            "type": "text"
           }
          }
         ]
        },
        {
         "data": {
          "name": "data-baf9cb0b1ef0fb819f649cc426cc8f9c"
         },
         "encoding": {
          "color": {
           "value": "#333"
          },
          "detail": {
           "field": "edge",
           "type": "quantitative"
          },
          "opacity": {
           "field": "value",
           "legend": null,
           "scale": {
            "range": [
             0.5,
             0.8
            ]
           },
           "type": "quantitative"
          },
          "strokeWidth": {
           "field": "value",
           "legend": null,
           "scale": {
            "range": [
             0.4,
             1
            ]
           },
           "type": "quantitative"
          },
          "x": {
           "axis": {
            "domain": false,
            "grid": false,
            "labels": false,
            "ticks": false,
            "title": ""
           },
           "field": "x",
           "type": "quantitative"
          },
          "y": {
           "axis": {
            "domain": false,
            "grid": false,
            "labels": false,
            "ticks": false,
            "title": ""
           },
           "field": "y",
           "type": "quantitative"
          }
         },
         "mark": {
          "type": "line"
         }
        },
        {
         "data": {
          "name": "data-530ceaa4dab1cb1647a403087f2aea85"
         },
         "encoding": {
          "fill": {
           "value": "#888"
          },
          "opacity": {
           "value": 1
          },
          "size": {
           "value": 25
          },
          "stroke": {
           "value": "#222"
          },
          "strokeWidth": {
           "value": 1
          },
          "tooltip": [
           {
            "field": "name",
            "type": "nominal"
           },
           {
            "field": "group",
            "type": "nominal"
           }
          ],
          "x": {
           "axis": {
            "domain": false,
            "grid": false,
            "labels": false,
            "ticks": false,
            "title": ""
           },
           "field": "x",
           "type": "quantitative"
          },
          "y": {
           "axis": {
            "domain": false,
            "grid": false,
            "labels": false,
            "ticks": false,
            "title": ""
           },
           "field": "y",
           "type": "quantitative"
          }
         },
         "mark": {
          "type": "circle"
         }
        }
       ],
       "resolve": {
        "scale": {
         "color": "independent",
         "fill": "independent",
         "opacity": "independent",
         "size": "independent",
         "strokeWidth": "independent"
        }
       },
       "width": 600
      },
      "text/plain": [
       "<VegaLite 5 object>\n",
       "\n",
       "If you see this message, it means the renderer has not been properly enabled\n",
       "for the frontend that you are using. For more information, see\n",
       "https://altair-viz.github.io/user_guide/display_frontends.html#troubleshooting\n"
      ]
     },
     "execution_count": 7,
     "metadata": {},
     "output_type": "execute_result"
    }
   ],
   "source": [
    "combo_chart(layout_fn=nx.circular_layout)"
   ]
  },
  {
   "cell_type": "markdown",
   "metadata": {},
   "source": [
    "We can use other edge attributes in the original graph as edge weights, or for other properties of edges - colour, opacity etc.\n",
    "\n",
    "To illustrate, let's add an edge betweenness attribute to G, and use that to aggregate"
   ]
  },
  {
   "cell_type": "code",
   "execution_count": 8,
   "metadata": {},
   "outputs": [
    {
     "name": "stdout",
     "output_type": "stream",
     "text": [
      "Example edge betweeness entries:\n",
      " {('Myriel', 'Napoleon'): 76.0, ('Myriel', 'MlleBaptistine'): 8.0, ('Myriel', 'MmeMagloire'): 8.0}\n"
     ]
    },
    {
     "data": {
      "application/vnd.vegalite.v5+json": {
       "$schema": "https://vega.github.io/schema/vega-lite/v5.8.0.json",
       "config": {
        "view": {
         "continuousHeight": 300,
         "continuousWidth": 300,
         "strokeWidth": 0
        }
       },
       "datasets": {
        "data-0716213653163c23003de446d2125237": [
         {
          "__combo_group_value": "0",
          "__node_r": 2.5,
          "__node_size": 25,
          "group": "0",
          "name": "Myriel",
          "x": 158.09193068508205,
          "y": 428.19966443521184
         },
         {
          "__combo_group_value": "0",
          "__node_r": 2.5,
          "__node_size": 25,
          "group": "0",
          "name": "Napoleon",
          "x": 154.05680751806958,
          "y": 440.61849693504934
         },
         {
          "__combo_group_value": "0",
          "__node_r": 2.5,
          "__node_size": 25,
          "group": "0",
          "name": "MlleBaptistine",
          "x": 143.49271683437223,
          "y": 448.2937583055385
         },
         {
          "__combo_group_value": "0",
          "__node_r": 2.5,
          "__node_size": 25,
          "group": "0",
          "name": "MmeMagloire",
          "x": 130.43478306034012,
          "y": 448.2937570462009
         },
         {
          "__combo_group_value": "0",
          "__node_r": 2.5,
          "__node_size": 25,
          "group": "0",
          "name": "CountessDeLo",
          "x": 119.87069363598044,
          "y": 440.61849693504934
         },
         {
          "__combo_group_value": "0",
          "__node_r": 2.5,
          "__node_size": 25,
          "group": "0",
          "name": "Geborand",
          "x": 115.83557046896797,
          "y": 428.1996625881277
         },
         {
          "__combo_group_value": "0",
          "__node_r": 2.5,
          "__node_size": 25,
          "group": "0",
          "name": "Champtercier",
          "x": 119.87069489531811,
          "y": 415.78083067603666
         },
         {
          "__combo_group_value": "0",
          "__node_r": 2.5,
          "__node_size": 25,
          "group": "0",
          "name": "Cravatte",
          "x": 130.43478117133364,
          "y": 408.1055718242228
         },
         {
          "__combo_group_value": "0",
          "__node_r": 2.5,
          "__node_size": 25,
          "group": "0",
          "name": "Count",
          "x": 143.4927199827164,
          "y": 408.1055718242228
         },
         {
          "__combo_group_value": "0",
          "__node_r": 2.5,
          "__node_size": 25,
          "group": "0",
          "name": "OldMan",
          "x": 154.0568062587319,
          "y": 415.78083067603666
         }
        ],
        "data-0dbc1fca7f48a466d2b297418252222f": [
         {
          "edge": 0,
          "edge_betweenness": 5.583333333333333,
          "pair": [
           "Bamatabois",
           "Judge"
          ],
          "source": "Bamatabois",
          "target": "Judge",
          "value": 2,
          "weight": 2,
          "x": 618.0399556540475,
          "y": 132.11624267617364
         },
         {
          "edge": 0,
          "edge_betweenness": 5.583333333333333,
          "pair": [
           "Bamatabois",
           "Judge"
          ],
          "source": "Bamatabois",
          "target": "Judge",
          "value": 2,
          "weight": 2,
          "x": 609.0199774237993,
          "y": 147.7393031177806
         },
         {
          "edge": 1,
          "edge_betweenness": 5.583333333333333,
          "pair": [
           "Bamatabois",
           "Champmathieu"
          ],
          "source": "Bamatabois",
          "target": "Champmathieu",
          "value": 2,
          "weight": 2,
          "x": 618.0399556540475,
          "y": 132.11624267617364
         },
         {
          "edge": 1,
          "edge_betweenness": 5.583333333333333,
          "pair": [
           "Bamatabois",
           "Champmathieu"
          ],
          "source": "Bamatabois",
          "target": "Champmathieu",
          "value": 2,
          "weight": 2,
          "x": 590.9800215009355,
          "y": 147.73930204251548
         },
         {
          "edge": 2,
          "edge_betweenness": 5.583333333333333,
          "pair": [
           "Bamatabois",
           "Brevet"
          ],
          "source": "Bamatabois",
          "target": "Brevet",
          "value": 1,
          "weight": 1,
          "x": 618.0399556540475,
          "y": 132.11624267617364
         },
         {
          "edge": 2,
          "edge_betweenness": 5.583333333333333,
          "pair": [
           "Bamatabois",
           "Brevet"
          ],
          "source": "Bamatabois",
          "target": "Brevet",
          "value": 1,
          "weight": 1,
          "x": 581.960044883585,
          "y": 132.11624109907066
         },
         {
          "edge": 3,
          "edge_betweenness": 5.583333333333333,
          "pair": [
           "Bamatabois",
           "Chenildieu"
          ],
          "source": "Bamatabois",
          "target": "Chenildieu",
          "value": 1,
          "weight": 1,
          "x": 618.0399556540475,
          "y": 132.11624267617364
         },
         {
          "edge": 3,
          "edge_betweenness": 5.583333333333333,
          "pair": [
           "Bamatabois",
           "Chenildieu"
          ],
          "source": "Bamatabois",
          "target": "Chenildieu",
          "value": 1,
          "weight": 1,
          "x": 590.9800241890983,
          "y": 116.49318223456669
         },
         {
          "edge": 4,
          "edge_betweenness": 5.583333333333333,
          "pair": [
           "Bamatabois",
           "Cochepaille"
          ],
          "source": "Bamatabois",
          "target": "Cochepaille",
          "value": 1,
          "weight": 1,
          "x": 618.0399556540475,
          "y": 132.11624267617364
         },
         {
          "edge": 4,
          "edge_betweenness": 5.583333333333333,
          "pair": [
           "Bamatabois",
           "Cochepaille"
          ],
          "source": "Bamatabois",
          "target": "Cochepaille",
          "value": 1,
          "weight": 1,
          "x": 609.0199763485342,
          "y": 116.49318223456669
         },
         {
          "edge": 5,
          "edge_betweenness": 1,
          "pair": [
           "Judge",
           "Champmathieu"
          ],
          "source": "Judge",
          "target": "Champmathieu",
          "value": 3,
          "weight": 3,
          "x": 609.0199774237993,
          "y": 147.7393031177806
         },
         {
          "edge": 5,
          "edge_betweenness": 1,
          "pair": [
           "Judge",
           "Champmathieu"
          ],
          "source": "Judge",
          "target": "Champmathieu",
          "value": 3,
          "weight": 3,
          "x": 590.9800215009355,
          "y": 147.73930204251548
         },
         {
          "edge": 6,
          "edge_betweenness": 1,
          "pair": [
           "Judge",
           "Brevet"
          ],
          "source": "Judge",
          "target": "Brevet",
          "value": 2,
          "weight": 2,
          "x": 609.0199774237993,
          "y": 147.7393031177806
         },
         {
          "edge": 6,
          "edge_betweenness": 1,
          "pair": [
           "Judge",
           "Brevet"
          ],
          "source": "Judge",
          "target": "Brevet",
          "value": 2,
          "weight": 2,
          "x": 581.960044883585,
          "y": 132.11624109907066
         },
         {
          "edge": 7,
          "edge_betweenness": 1,
          "pair": [
           "Judge",
           "Chenildieu"
          ],
          "source": "Judge",
          "target": "Chenildieu",
          "value": 2,
          "weight": 2,
          "x": 609.0199774237993,
          "y": 147.7393031177806
         },
         {
          "edge": 7,
          "edge_betweenness": 1,
          "pair": [
           "Judge",
           "Chenildieu"
          ],
          "source": "Judge",
          "target": "Chenildieu",
          "value": 2,
          "weight": 2,
          "x": 590.9800241890983,
          "y": 116.49318223456669
         },
         {
          "edge": 8,
          "edge_betweenness": 1,
          "pair": [
           "Judge",
           "Cochepaille"
          ],
          "source": "Judge",
          "target": "Cochepaille",
          "value": 2,
          "weight": 2,
          "x": 609.0199774237993,
          "y": 147.7393031177806
         },
         {
          "edge": 8,
          "edge_betweenness": 1,
          "pair": [
           "Judge",
           "Cochepaille"
          ],
          "source": "Judge",
          "target": "Cochepaille",
          "value": 2,
          "weight": 2,
          "x": 609.0199763485342,
          "y": 116.49318223456669
         },
         {
          "edge": 9,
          "edge_betweenness": 1,
          "pair": [
           "Champmathieu",
           "Brevet"
          ],
          "source": "Champmathieu",
          "target": "Brevet",
          "value": 2,
          "weight": 2,
          "x": 590.9800215009355,
          "y": 147.73930204251548
         },
         {
          "edge": 9,
          "edge_betweenness": 1,
          "pair": [
           "Champmathieu",
           "Brevet"
          ],
          "source": "Champmathieu",
          "target": "Brevet",
          "value": 2,
          "weight": 2,
          "x": 581.960044883585,
          "y": 132.11624109907066
         },
         {
          "edge": 10,
          "edge_betweenness": 1,
          "pair": [
           "Champmathieu",
           "Chenildieu"
          ],
          "source": "Champmathieu",
          "target": "Chenildieu",
          "value": 2,
          "weight": 2,
          "x": 590.9800215009355,
          "y": 147.73930204251548
         },
         {
          "edge": 10,
          "edge_betweenness": 1,
          "pair": [
           "Champmathieu",
           "Chenildieu"
          ],
          "source": "Champmathieu",
          "target": "Chenildieu",
          "value": 2,
          "weight": 2,
          "x": 590.9800241890983,
          "y": 116.49318223456669
         },
         {
          "edge": 11,
          "edge_betweenness": 1,
          "pair": [
           "Champmathieu",
           "Cochepaille"
          ],
          "source": "Champmathieu",
          "target": "Cochepaille",
          "value": 2,
          "weight": 2,
          "x": 590.9800215009355,
          "y": 147.73930204251548
         },
         {
          "edge": 11,
          "edge_betweenness": 1,
          "pair": [
           "Champmathieu",
           "Cochepaille"
          ],
          "source": "Champmathieu",
          "target": "Cochepaille",
          "value": 2,
          "weight": 2,
          "x": 609.0199763485342,
          "y": 116.49318223456669
         },
         {
          "edge": 12,
          "edge_betweenness": 1,
          "pair": [
           "Brevet",
           "Chenildieu"
          ],
          "source": "Brevet",
          "target": "Chenildieu",
          "value": 2,
          "weight": 2,
          "x": 581.960044883585,
          "y": 132.11624109907066
         },
         {
          "edge": 12,
          "edge_betweenness": 1,
          "pair": [
           "Brevet",
           "Chenildieu"
          ],
          "source": "Brevet",
          "target": "Chenildieu",
          "value": 2,
          "weight": 2,
          "x": 590.9800241890983,
          "y": 116.49318223456669
         },
         {
          "edge": 13,
          "edge_betweenness": 1,
          "pair": [
           "Brevet",
           "Cochepaille"
          ],
          "source": "Brevet",
          "target": "Cochepaille",
          "value": 2,
          "weight": 2,
          "x": 581.960044883585,
          "y": 132.11624109907066
         },
         {
          "edge": 13,
          "edge_betweenness": 1,
          "pair": [
           "Brevet",
           "Cochepaille"
          ],
          "source": "Brevet",
          "target": "Cochepaille",
          "value": 2,
          "weight": 2,
          "x": 609.0199763485342,
          "y": 116.49318223456669
         },
         {
          "edge": 14,
          "edge_betweenness": 1,
          "pair": [
           "Chenildieu",
           "Cochepaille"
          ],
          "source": "Chenildieu",
          "target": "Cochepaille",
          "value": 2,
          "weight": 2,
          "x": 590.9800241890983,
          "y": 116.49318223456669
         },
         {
          "edge": 14,
          "edge_betweenness": 1,
          "pair": [
           "Chenildieu",
           "Cochepaille"
          ],
          "source": "Chenildieu",
          "target": "Cochepaille",
          "value": 2,
          "weight": 2,
          "x": 609.0199763485342,
          "y": 116.49318223456669
         }
        ],
        "data-0ed6e3ebc6c3139899c541a6ed5f2146": [
         {
          "__combo_group_value": "3",
          "__node_r": 2.5,
          "__node_size": 25,
          "group": "3",
          "name": "Bamatabois",
          "x": 618.0399556540475,
          "y": 132.11624267617364
         },
         {
          "__combo_group_value": "3",
          "__node_r": 2.5,
          "__node_size": 25,
          "group": "3",
          "name": "Judge",
          "x": 609.0199774237993,
          "y": 147.7393031177806
         },
         {
          "__combo_group_value": "3",
          "__node_r": 2.5,
          "__node_size": 25,
          "group": "3",
          "name": "Champmathieu",
          "x": 590.9800215009355,
          "y": 147.73930204251548
         },
         {
          "__combo_group_value": "3",
          "__node_r": 2.5,
          "__node_size": 25,
          "group": "3",
          "name": "Brevet",
          "x": 581.960044883585,
          "y": 132.11624109907066
         },
         {
          "__combo_group_value": "3",
          "__node_r": 2.5,
          "__node_size": 25,
          "group": "3",
          "name": "Chenildieu",
          "x": 590.9800241890983,
          "y": 116.49318223456669
         },
         {
          "__combo_group_value": "3",
          "__node_r": 2.5,
          "__node_size": 25,
          "group": "3",
          "name": "Cochepaille",
          "x": 609.0199763485342,
          "y": 116.49318223456669
         }
        ],
        "data-2d4a28f6e6406adb2dba3a53e312d082": [
         {
          "edge": 0,
          "edge_betweenness": 76,
          "pair": [
           "Myriel",
           "Napoleon"
          ],
          "source": "Myriel",
          "target": "Napoleon",
          "value": 1,
          "weight": 1,
          "x": 158.09193068508205,
          "y": 428.19966443521184
         },
         {
          "edge": 0,
          "edge_betweenness": 76,
          "pair": [
           "Myriel",
           "Napoleon"
          ],
          "source": "Myriel",
          "target": "Napoleon",
          "value": 1,
          "weight": 1,
          "x": 154.05680751806958,
          "y": 440.61849693504934
         },
         {
          "edge": 1,
          "edge_betweenness": 8,
          "pair": [
           "Myriel",
           "MlleBaptistine"
          ],
          "source": "Myriel",
          "target": "MlleBaptistine",
          "value": 8,
          "weight": 8,
          "x": 158.09193068508205,
          "y": 428.19966443521184
         },
         {
          "edge": 1,
          "edge_betweenness": 8,
          "pair": [
           "Myriel",
           "MlleBaptistine"
          ],
          "source": "Myriel",
          "target": "MlleBaptistine",
          "value": 8,
          "weight": 8,
          "x": 143.49271683437223,
          "y": 448.2937583055385
         },
         {
          "edge": 2,
          "edge_betweenness": 8,
          "pair": [
           "Myriel",
           "MmeMagloire"
          ],
          "source": "Myriel",
          "target": "MmeMagloire",
          "value": 10,
          "weight": 10,
          "x": 158.09193068508205,
          "y": 428.19966443521184
         },
         {
          "edge": 2,
          "edge_betweenness": 8,
          "pair": [
           "Myriel",
           "MmeMagloire"
          ],
          "source": "Myriel",
          "target": "MmeMagloire",
          "value": 10,
          "weight": 10,
          "x": 130.43478306034012,
          "y": 448.2937570462009
         },
         {
          "edge": 3,
          "edge_betweenness": 76,
          "pair": [
           "Myriel",
           "CountessDeLo"
          ],
          "source": "Myriel",
          "target": "CountessDeLo",
          "value": 1,
          "weight": 1,
          "x": 158.09193068508205,
          "y": 428.19966443521184
         },
         {
          "edge": 3,
          "edge_betweenness": 76,
          "pair": [
           "Myriel",
           "CountessDeLo"
          ],
          "source": "Myriel",
          "target": "CountessDeLo",
          "value": 1,
          "weight": 1,
          "x": 119.87069363598044,
          "y": 440.61849693504934
         },
         {
          "edge": 4,
          "edge_betweenness": 76,
          "pair": [
           "Myriel",
           "Geborand"
          ],
          "source": "Myriel",
          "target": "Geborand",
          "value": 1,
          "weight": 1,
          "x": 158.09193068508205,
          "y": 428.19966443521184
         },
         {
          "edge": 4,
          "edge_betweenness": 76,
          "pair": [
           "Myriel",
           "Geborand"
          ],
          "source": "Myriel",
          "target": "Geborand",
          "value": 1,
          "weight": 1,
          "x": 115.83557046896797,
          "y": 428.1996625881277
         },
         {
          "edge": 5,
          "edge_betweenness": 76,
          "pair": [
           "Myriel",
           "Champtercier"
          ],
          "source": "Myriel",
          "target": "Champtercier",
          "value": 1,
          "weight": 1,
          "x": 158.09193068508205,
          "y": 428.19966443521184
         },
         {
          "edge": 5,
          "edge_betweenness": 76,
          "pair": [
           "Myriel",
           "Champtercier"
          ],
          "source": "Myriel",
          "target": "Champtercier",
          "value": 1,
          "weight": 1,
          "x": 119.87069489531811,
          "y": 415.78083067603666
         },
         {
          "edge": 6,
          "edge_betweenness": 76,
          "pair": [
           "Myriel",
           "Cravatte"
          ],
          "source": "Myriel",
          "target": "Cravatte",
          "value": 1,
          "weight": 1,
          "x": 158.09193068508205,
          "y": 428.19966443521184
         },
         {
          "edge": 6,
          "edge_betweenness": 76,
          "pair": [
           "Myriel",
           "Cravatte"
          ],
          "source": "Myriel",
          "target": "Cravatte",
          "value": 1,
          "weight": 1,
          "x": 130.43478117133364,
          "y": 408.1055718242228
         },
         {
          "edge": 7,
          "edge_betweenness": 76,
          "pair": [
           "Myriel",
           "Count"
          ],
          "source": "Myriel",
          "target": "Count",
          "value": 2,
          "weight": 2,
          "x": 158.09193068508205,
          "y": 428.19966443521184
         },
         {
          "edge": 7,
          "edge_betweenness": 76,
          "pair": [
           "Myriel",
           "Count"
          ],
          "source": "Myriel",
          "target": "Count",
          "value": 2,
          "weight": 2,
          "x": 143.4927199827164,
          "y": 408.1055718242228
         },
         {
          "edge": 8,
          "edge_betweenness": 76,
          "pair": [
           "Myriel",
           "OldMan"
          ],
          "source": "Myriel",
          "target": "OldMan",
          "value": 1,
          "weight": 1,
          "x": 158.09193068508205,
          "y": 428.19966443521184
         },
         {
          "edge": 8,
          "edge_betweenness": 76,
          "pair": [
           "Myriel",
           "OldMan"
          ],
          "source": "Myriel",
          "target": "OldMan",
          "value": 1,
          "weight": 1,
          "x": 154.0568062587319,
          "y": 415.78083067603666
         },
         {
          "edge": 9,
          "edge_betweenness": 1,
          "pair": [
           "MlleBaptistine",
           "MmeMagloire"
          ],
          "source": "MlleBaptistine",
          "target": "MmeMagloire",
          "value": 6,
          "weight": 6,
          "x": 143.49271683437223,
          "y": 448.2937583055385
         },
         {
          "edge": 9,
          "edge_betweenness": 1,
          "pair": [
           "MlleBaptistine",
           "MmeMagloire"
          ],
          "source": "MlleBaptistine",
          "target": "MmeMagloire",
          "value": 6,
          "weight": 6,
          "x": 130.43478306034012,
          "y": 448.2937570462009
         }
        ],
        "data-38d63730ce6ed5b875e09b479ecc74dd": [
         {
          "__combo_size": 3616,
          "__node_r": 30.066592756745816,
          "__node_size": 3616,
          "__y_label": 90.04964947736647,
          "group": "3",
          "x": 600,
          "y": 132.1162422341123
         }
        ],
        "data-4fb209b81c0add1ce0d0ab1e70afcc2f": [
         {
          "__combo_size": 4960,
          "__node_r": 35.21363372331802,
          "__node_size": 4960,
          "__y_label": 380.98603040125164,
          "group": "0",
          "x": 136.96375045109124,
          "y": 428.19966412456967
         }
        ],
        "data-530ceaa4dab1cb1647a403087f2aea85": [
         {
          "__combo_group_value": "4",
          "__node_r": 2.5,
          "__node_size": 25,
          "group": "4",
          "name": "MmeThenardier",
          "x": 265.47673841177357,
          "y": 63.63783394188574
         },
         {
          "__combo_group_value": "4",
          "__node_r": 2.5,
          "__node_size": 25,
          "group": "4",
          "name": "Thenardier",
          "x": 261.44161524476107,
          "y": 76.05666644172324
         },
         {
          "__combo_group_value": "4",
          "__node_r": 2.5,
          "__node_size": 25,
          "group": "4",
          "name": "Boulatruelle",
          "x": 250.87752456106372,
          "y": 83.73192781221243
         },
         {
          "__combo_group_value": "4",
          "__node_r": 2.5,
          "__node_size": 25,
          "group": "4",
          "name": "Eponine",
          "x": 237.81959078703161,
          "y": 83.73192655287475
         },
         {
          "__combo_group_value": "4",
          "__node_r": 2.5,
          "__node_size": 25,
          "group": "4",
          "name": "Anzelma",
          "x": 227.25550136267194,
          "y": 76.05666644172324
         },
         {
          "__combo_group_value": "4",
          "__node_r": 2.5,
          "__node_size": 25,
          "group": "4",
          "name": "Gueulemer",
          "x": 223.22037819565946,
          "y": 63.63783209480157
         },
         {
          "__combo_group_value": "4",
          "__node_r": 2.5,
          "__node_size": 25,
          "group": "4",
          "name": "Babet",
          "x": 227.2555026220096,
          "y": 51.219000182710566
         },
         {
          "__combo_group_value": "4",
          "__node_r": 2.5,
          "__node_size": 25,
          "group": "4",
          "name": "Claquesous",
          "x": 237.81958889802513,
          "y": 43.54374133089671
         },
         {
          "__combo_group_value": "4",
          "__node_r": 2.5,
          "__node_size": 25,
          "group": "4",
          "name": "Montparnasse",
          "x": 250.8775277094079,
          "y": 43.54374133089671
         },
         {
          "__combo_group_value": "4",
          "__node_r": 2.5,
          "__node_size": 25,
          "group": "4",
          "name": "Brujon",
          "x": 261.4416139854234,
          "y": 51.219000182710566
         }
        ],
        "data-53f2aeacc58b31aacba3a45746f0888b": [
         {
          "__combo_group_value": "1",
          "__node_r": 2.5,
          "__node_size": 25,
          "group": "1",
          "name": "Labarre",
          "x": 272.7626397974009,
          "y": 245.6154385829978
         },
         {
          "__combo_group_value": "1",
          "__node_r": 2.5,
          "__node_size": 25,
          "group": "1",
          "name": "Valjean",
          "x": 271.82013481110886,
          "y": 253.07613560275394
         },
         {
          "__combo_group_value": "1",
          "__node_r": 2.5,
          "__node_size": 25,
          "group": "1",
          "name": "MmeDeR",
          "x": 269.05183945001454,
          "y": 260.06804954975587
         },
         {
          "__combo_group_value": "1",
          "__node_r": 2.5,
          "__node_size": 25,
          "group": "1",
          "name": "Isabeau",
          "x": 264.6316985421094,
          "y": 266.1518520290549
         },
         {
          "__combo_group_value": "1",
          "__node_r": 2.5,
          "__node_size": 25,
          "group": "1",
          "name": "Gervais",
          "x": 258.83744230927505,
          "y": 270.9452777474721
         },
         {
          "__combo_group_value": "1",
          "__node_r": 2.5,
          "__node_size": 25,
          "group": "1",
          "name": "Cosette",
          "x": 252.03314932676844,
          "y": 274.14713430719456
         },
         {
          "__combo_group_value": "1",
          "__node_r": 2.5,
          "__node_size": 25,
          "group": "1",
          "name": "Javert",
          "x": 244.64635521076625,
          "y": 275.5562399422088
         },
         {
          "__combo_group_value": "1",
          "__node_r": 2.5,
          "__node_size": 25,
          "group": "1",
          "name": "Fauchelevent",
          "x": 237.14120102436507,
          "y": 275.0840549344108
         },
         {
          "__combo_group_value": "1",
          "__node_r": 2.5,
          "__node_size": 25,
          "group": "1",
          "name": "Perpetue",
          "x": 229.98925933764804,
          "y": 272.7602480912889
         },
         {
          "__combo_group_value": "1",
          "__node_r": 2.5,
          "__node_size": 25,
          "group": "1",
          "name": "Simplice",
          "x": 223.63992085251525,
          "y": 268.73083529289823
         },
         {
          "__combo_group_value": "1",
          "__node_r": 2.5,
          "__node_size": 25,
          "group": "1",
          "name": "Scaufflaire",
          "x": 218.49213062566125,
          "y": 263.2489956083472
         },
         {
          "__combo_group_value": "1",
          "__node_r": 2.5,
          "__node_size": 25,
          "group": "1",
          "name": "Woman1",
          "x": 214.8693478596993,
          "y": 256.6591765254403
         },
         {
          "__combo_group_value": "1",
          "__node_r": 2.5,
          "__node_size": 25,
          "group": "1",
          "name": "Pontmercy",
          "x": 212.99919911294904,
          "y": 249.37543421917493
         },
         {
          "__combo_group_value": "1",
          "__node_r": 2.5,
          "__node_size": 25,
          "group": "1",
          "name": "Woman2",
          "x": 212.99919911294904,
          "y": 241.85544473495997
         },
         {
          "__combo_group_value": "1",
          "__node_r": 2.5,
          "__node_size": 25,
          "group": "1",
          "name": "MotherInnocent",
          "x": 214.86934607156,
          "y": 234.5717024286946
         },
         {
          "__combo_group_value": "1",
          "__node_r": 2.5,
          "__node_size": 25,
          "group": "1",
          "name": "Gribier",
          "x": 218.49213241380056,
          "y": 227.9818797695091
         },
         {
          "__combo_group_value": "1",
          "__node_r": 2.5,
          "__node_size": 25,
          "group": "1",
          "name": "Gillenormand",
          "x": 223.6399262169332,
          "y": 222.50003829681873
         },
         {
          "__combo_group_value": "1",
          "__node_r": 2.5,
          "__node_size": 25,
          "group": "1",
          "name": "Magnon",
          "x": 229.98925665543905,
          "y": 218.47062907470672
         },
         {
          "__combo_group_value": "1",
          "__node_r": 2.5,
          "__node_size": 25,
          "group": "1",
          "name": "MlleGillenormand",
          "x": 237.14119923622576,
          "y": 216.14682223158482
         },
         {
          "__combo_group_value": "1",
          "__node_r": 2.5,
          "__node_size": 25,
          "group": "1",
          "name": "MmePontmercy",
          "x": 244.64635699890556,
          "y": 215.67463722378687
         },
         {
          "__combo_group_value": "1",
          "__node_r": 2.5,
          "__node_size": 25,
          "group": "1",
          "name": "MlleVaubois",
          "x": 252.0331537971167,
          "y": 217.08374464694037
         },
         {
          "__combo_group_value": "1",
          "__node_r": 2.5,
          "__node_size": 25,
          "group": "1",
          "name": "LtGillenormand",
          "x": 258.83743694485713,
          "y": 220.2855976303842
         },
         {
          "__combo_group_value": "1",
          "__node_r": 2.5,
          "__node_size": 25,
          "group": "1",
          "name": "Marius",
          "x": 264.6316949658308,
          "y": 225.0790233488014
         },
         {
          "__combo_group_value": "1",
          "__node_r": 2.5,
          "__node_size": 25,
          "group": "1",
          "name": "BaronessT",
          "x": 269.05183945001454,
          "y": 231.16282761623972
         },
         {
          "__combo_group_value": "1",
          "__node_r": 2.5,
          "__node_size": 25,
          "group": "1",
          "name": "Toussaint",
          "x": 271.82013481110886,
          "y": 238.15474424545064
         }
        ],
        "data-54ca59bd7581016627ae4cd7ca20b709": [
         {
          "__combo_group_value": "5",
          "__node_r": 2.5,
          "__node_size": 25,
          "group": "5",
          "name": "Jondrette",
          "x": 67.5630177564144,
          "y": 200.5524154633554
         },
         {
          "__combo_group_value": "5",
          "__node_r": 2.5,
          "__node_size": 25,
          "group": "5",
          "name": "MmeBurgon",
          "x": 65.83072315255377,
          "y": 209.81937309777572
         },
         {
          "__combo_group_value": "5",
          "__node_r": 2.5,
          "__node_size": 25,
          "group": "5",
          "name": "Gavroche",
          "x": 60.867795014013346,
          "y": 217.83477613760465
         },
         {
          "__combo_group_value": "5",
          "__node_r": 2.5,
          "__node_size": 25,
          "group": "5",
          "name": "Mabeuf",
          "x": 53.34450499856453,
          "y": 223.51610176937044
         },
         {
          "__combo_group_value": "5",
          "__node_r": 2.5,
          "__node_size": 25,
          "group": "5",
          "name": "Enjolras",
          "x": 44.276915149320395,
          "y": 226.09605296909314
         },
         {
          "__combo_group_value": "5",
          "__node_r": 2.5,
          "__node_size": 25,
          "group": "5",
          "name": "Combeferre",
          "x": 34.889654202950595,
          "y": 225.22619621103766
         },
         {
          "__combo_group_value": "5",
          "__node_r": 2.5,
          "__node_size": 25,
          "group": "5",
          "name": "Prouvaire",
          "x": 26.450519194842688,
          "y": 221.024006270406
         },
         {
          "__combo_group_value": "5",
          "__node_r": 2.5,
          "__node_size": 25,
          "group": "5",
          "name": "Feuilly",
          "x": 20.09926976238233,
          "y": 214.05701617296882
         },
         {
          "__combo_group_value": "5",
          "__node_r": 2.5,
          "__node_size": 25,
          "group": "5",
          "name": "Courfeyrac",
          "x": 16.69367099872897,
          "y": 205.2661548469719
         },
         {
          "__combo_group_value": "5",
          "__node_r": 2.5,
          "__node_size": 25,
          "group": "5",
          "name": "Bahorel",
          "x": 16.69367099872897,
          "y": 195.83867760878104
         },
         {
          "__combo_group_value": "5",
          "__node_r": 2.5,
          "__node_size": 25,
          "group": "5",
          "name": "Bossuet",
          "x": 20.099268233340233,
          "y": 187.0478162827841
         },
         {
          "__combo_group_value": "5",
          "__node_r": 2.5,
          "__node_size": 25,
          "group": "5",
          "name": "Joly",
          "x": 26.450517665800593,
          "y": 180.08082618534692
         },
         {
          "__combo_group_value": "5",
          "__node_r": 2.5,
          "__node_size": 25,
          "group": "5",
          "name": "Grantaire",
          "x": 34.88965496747164,
          "y": 175.87863471567314
         },
         {
          "__combo_group_value": "5",
          "__node_r": 2.5,
          "__node_size": 25,
          "group": "5",
          "name": "MotherPlutarch",
          "x": 44.276910562194104,
          "y": 175.00877642857557
         },
         {
          "__combo_group_value": "5",
          "__node_r": 2.5,
          "__node_size": 25,
          "group": "5",
          "name": "Child1",
          "x": 53.34450576308558,
          "y": 177.58872915734037
         },
         {
          "__combo_group_value": "5",
          "__node_r": 2.5,
          "__node_size": 25,
          "group": "5",
          "name": "Child2",
          "x": 60.86779042688706,
          "y": 183.2700502019799
         },
         {
          "__combo_group_value": "5",
          "__node_r": 2.5,
          "__node_size": 25,
          "group": "5",
          "name": "MmeHucheloup",
          "x": 65.83072315255377,
          "y": 191.28545706441406
         }
        ],
        "data-751ca1b4f22a86381aeea90b324e5281": [
         {
          "__combo_size": 4960,
          "__node_r": 35.21363372331802,
          "__node_size": 4960,
          "__y_label": 16.424199907925534,
          "group": "4",
          "x": 244.34855817778273,
          "y": 63.63783363124355
         }
        ],
        "data-865e7cdf60a0490e17d5bfaa9130ee26": [
         {
          "edge": 0,
          "edge_betweenness": 223.33333333333334,
          "pair": [
           "0",
           "1"
          ],
          "source": "0",
          "target": "1",
          "value": 11,
          "x": 136.96375045109124,
          "y": 428.19966412456967
         },
         {
          "edge": 0,
          "edge_betweenness": 223.33333333333334,
          "pair": [
           "0",
           "1"
          ],
          "source": "0",
          "target": "1",
          "value": 11,
          "x": 242.7626397974009,
          "y": 245.61543854723502
         },
         {
          "edge": 1,
          "edge_betweenness": 81.26584246752314,
          "pair": [
           "1",
           "2"
          ],
          "source": "1",
          "target": "2",
          "value": 20,
          "x": 242.7626397974009,
          "y": 245.61543854723502
         },
         {
          "edge": 1,
          "edge_betweenness": 81.26584246752314,
          "pair": [
           "1",
           "2"
          ],
          "source": "1",
          "target": "2",
          "value": 20,
          "x": 491.6023162705465,
          "y": 424.3484347250741
         },
         {
          "edge": 2,
          "edge_betweenness": 56.24377289377291,
          "pair": [
           "1",
           "3"
          ],
          "source": "1",
          "target": "3",
          "value": 15,
          "x": 242.7626397974009,
          "y": 245.61543854723502
         },
         {
          "edge": 2,
          "edge_betweenness": 56.24377289377291,
          "pair": [
           "1",
           "3"
          ],
          "source": "1",
          "target": "3",
          "value": 15,
          "x": 600,
          "y": 132.1162422341123
         },
         {
          "edge": 3,
          "edge_betweenness": 30.966655439933295,
          "pair": [
           "1",
           "4"
          ],
          "source": "1",
          "target": "4",
          "value": 48,
          "x": 242.7626397974009,
          "y": 245.61543854723502
         },
         {
          "edge": 3,
          "edge_betweenness": 30.966655439933295,
          "pair": [
           "1",
           "4"
          ],
          "source": "1",
          "target": "4",
          "value": 48,
          "x": 244.34855817778273,
          "y": 63.63783363124355
         },
         {
          "edge": 4,
          "edge_betweenness": 61.57947570237763,
          "pair": [
           "1",
           "5"
          ],
          "source": "1",
          "target": "5",
          "value": 48,
          "x": 242.7626397974009,
          "y": 245.61543854723502
         },
         {
          "edge": 4,
          "edge_betweenness": 61.57947570237763,
          "pair": [
           "1",
           "5"
          ],
          "source": "1",
          "target": "5",
          "value": 48,
          "x": 41.90994776469606,
          "y": 200.55241532843993
         },
         {
          "edge": 5,
          "edge_betweenness": 32.29358974358975,
          "pair": [
           "2",
           "3"
          ],
          "source": "2",
          "target": "3",
          "value": 1,
          "x": 491.6023162705465,
          "y": 424.3484347250741
         },
         {
          "edge": 5,
          "edge_betweenness": 32.29358974358975,
          "pair": [
           "2",
           "3"
          ],
          "source": "2",
          "target": "3",
          "value": 1,
          "x": 600,
          "y": 132.1162422341123
         },
         {
          "edge": 6,
          "edge_betweenness": 51.21842846695787,
          "pair": [
           "2",
           "4"
          ],
          "source": "2",
          "target": "4",
          "value": 3,
          "x": 491.6023162705465,
          "y": 424.3484347250741
         },
         {
          "edge": 6,
          "edge_betweenness": 51.21842846695787,
          "pair": [
           "2",
           "4"
          ],
          "source": "2",
          "target": "4",
          "value": 3,
          "x": 244.34855817778273,
          "y": 63.63783363124355
         },
         {
          "edge": 7,
          "edge_betweenness": 22.249684309605943,
          "pair": [
           "4",
           "5"
          ],
          "source": "4",
          "target": "5",
          "value": 8,
          "x": 244.34855817778273,
          "y": 63.63783363124355
         },
         {
          "edge": 7,
          "edge_betweenness": 22.249684309605943,
          "pair": [
           "4",
           "5"
          ],
          "source": "4",
          "target": "5",
          "value": 8,
          "x": 41.90994776469606,
          "y": 200.55241532843993
         }
        ],
        "data-8ef4df47f948bc73d593804724f4b164": [
         {
          "edge": 0,
          "edge_betweenness": 76,
          "pair": [
           "Labarre",
           "Valjean"
          ],
          "source": "Labarre",
          "target": "Valjean",
          "value": 1,
          "weight": 1,
          "x": 272.7626397974009,
          "y": 245.6154385829978
         },
         {
          "edge": 0,
          "edge_betweenness": 76,
          "pair": [
           "Labarre",
           "Valjean"
          ],
          "source": "Labarre",
          "target": "Valjean",
          "value": 1,
          "weight": 1,
          "x": 271.82013481110886,
          "y": 253.07613560275394
         },
         {
          "edge": 1,
          "edge_betweenness": 76,
          "pair": [
           "Valjean",
           "MmeDeR"
          ],
          "source": "Valjean",
          "target": "MmeDeR",
          "value": 1,
          "weight": 1,
          "x": 271.82013481110886,
          "y": 253.07613560275394
         },
         {
          "edge": 1,
          "edge_betweenness": 76,
          "pair": [
           "Valjean",
           "MmeDeR"
          ],
          "source": "Valjean",
          "target": "MmeDeR",
          "value": 1,
          "weight": 1,
          "x": 269.05183945001454,
          "y": 260.06804954975587
         },
         {
          "edge": 2,
          "edge_betweenness": 76,
          "pair": [
           "Valjean",
           "Isabeau"
          ],
          "source": "Valjean",
          "target": "Isabeau",
          "value": 1,
          "weight": 1,
          "x": 271.82013481110886,
          "y": 253.07613560275394
         },
         {
          "edge": 2,
          "edge_betweenness": 76,
          "pair": [
           "Valjean",
           "Isabeau"
          ],
          "source": "Valjean",
          "target": "Isabeau",
          "value": 1,
          "weight": 1,
          "x": 264.6316985421094,
          "y": 266.1518520290549
         },
         {
          "edge": 3,
          "edge_betweenness": 76,
          "pair": [
           "Valjean",
           "Gervais"
          ],
          "source": "Valjean",
          "target": "Gervais",
          "value": 1,
          "weight": 1,
          "x": 271.82013481110886,
          "y": 253.07613560275394
         },
         {
          "edge": 3,
          "edge_betweenness": 76,
          "pair": [
           "Valjean",
           "Gervais"
          ],
          "source": "Valjean",
          "target": "Gervais",
          "value": 1,
          "weight": 1,
          "x": 258.83744230927505,
          "y": 270.9452777474721
         },
         {
          "edge": 4,
          "edge_betweenness": 45.09206349206349,
          "pair": [
           "Valjean",
           "Cosette"
          ],
          "source": "Valjean",
          "target": "Cosette",
          "value": 31,
          "weight": 31,
          "x": 271.82013481110886,
          "y": 253.07613560275394
         },
         {
          "edge": 4,
          "edge_betweenness": 45.09206349206349,
          "pair": [
           "Valjean",
           "Cosette"
          ],
          "source": "Valjean",
          "target": "Cosette",
          "value": 31,
          "weight": 31,
          "x": 252.03314932676844,
          "y": 274.14713430719456
         },
         {
          "edge": 5,
          "edge_betweenness": 22.152380952380955,
          "pair": [
           "Valjean",
           "Javert"
          ],
          "source": "Valjean",
          "target": "Javert",
          "value": 17,
          "weight": 17,
          "x": 271.82013481110886,
          "y": 253.07613560275394
         },
         {
          "edge": 5,
          "edge_betweenness": 22.152380952380955,
          "pair": [
           "Valjean",
           "Javert"
          ],
          "source": "Valjean",
          "target": "Javert",
          "value": 17,
          "weight": 17,
          "x": 244.64635521076625,
          "y": 275.5562399422088
         },
         {
          "edge": 6,
          "edge_betweenness": 106.4769230769231,
          "pair": [
           "Valjean",
           "Fauchelevent"
          ],
          "source": "Valjean",
          "target": "Fauchelevent",
          "value": 8,
          "weight": 8,
          "x": 271.82013481110886,
          "y": 253.07613560275394
         },
         {
          "edge": 6,
          "edge_betweenness": 106.4769230769231,
          "pair": [
           "Valjean",
           "Fauchelevent"
          ],
          "source": "Valjean",
          "target": "Fauchelevent",
          "value": 8,
          "weight": 8,
          "x": 237.14120102436507,
          "y": 275.0840549344108
         },
         {
          "edge": 7,
          "edge_betweenness": 67.64512644218523,
          "pair": [
           "Valjean",
           "Simplice"
          ],
          "source": "Valjean",
          "target": "Simplice",
          "value": 3,
          "weight": 3,
          "x": 271.82013481110886,
          "y": 253.07613560275394
         },
         {
          "edge": 7,
          "edge_betweenness": 67.64512644218523,
          "pair": [
           "Valjean",
           "Simplice"
          ],
          "source": "Valjean",
          "target": "Simplice",
          "value": 3,
          "weight": 3,
          "x": 223.63992085251525,
          "y": 268.73083529289823
         },
         {
          "edge": 8,
          "edge_betweenness": 76,
          "pair": [
           "Valjean",
           "Scaufflaire"
          ],
          "source": "Valjean",
          "target": "Scaufflaire",
          "value": 1,
          "weight": 1,
          "x": 271.82013481110886,
          "y": 253.07613560275394
         },
         {
          "edge": 8,
          "edge_betweenness": 76,
          "pair": [
           "Valjean",
           "Scaufflaire"
          ],
          "source": "Valjean",
          "target": "Scaufflaire",
          "value": 1,
          "weight": 1,
          "x": 218.49213062566125,
          "y": 263.2489956083472
         },
         {
          "edge": 9,
          "edge_betweenness": 54.73846153846155,
          "pair": [
           "Valjean",
           "Woman1"
          ],
          "source": "Valjean",
          "target": "Woman1",
          "value": 2,
          "weight": 2,
          "x": 271.82013481110886,
          "y": 253.07613560275394
         },
         {
          "edge": 9,
          "edge_betweenness": 54.73846153846155,
          "pair": [
           "Valjean",
           "Woman1"
          ],
          "source": "Valjean",
          "target": "Woman1",
          "value": 2,
          "weight": 2,
          "x": 214.8693478596993,
          "y": 256.6591765254403
         },
         {
          "edge": 10,
          "edge_betweenness": 46.66570512820511,
          "pair": [
           "Valjean",
           "Woman2"
          ],
          "source": "Valjean",
          "target": "Woman2",
          "value": 3,
          "weight": 3,
          "x": 271.82013481110886,
          "y": 253.07613560275394
         },
         {
          "edge": 10,
          "edge_betweenness": 46.66570512820511,
          "pair": [
           "Valjean",
           "Woman2"
          ],
          "source": "Valjean",
          "target": "Woman2",
          "value": 3,
          "weight": 3,
          "x": 212.99919911294904,
          "y": 241.85544473495997
         },
         {
          "edge": 11,
          "edge_betweenness": 73.5,
          "pair": [
           "Valjean",
           "MotherInnocent"
          ],
          "source": "Valjean",
          "target": "MotherInnocent",
          "value": 1,
          "weight": 1,
          "x": 271.82013481110886,
          "y": 253.07613560275394
         },
         {
          "edge": 11,
          "edge_betweenness": 73.5,
          "pair": [
           "Valjean",
           "MotherInnocent"
          ],
          "source": "Valjean",
          "target": "MotherInnocent",
          "value": 1,
          "weight": 1,
          "x": 214.86934607156,
          "y": 234.5717024286946
         },
         {
          "edge": 12,
          "edge_betweenness": 82.377555631503,
          "pair": [
           "Valjean",
           "Gillenormand"
          ],
          "source": "Valjean",
          "target": "Gillenormand",
          "value": 2,
          "weight": 2,
          "x": 271.82013481110886,
          "y": 253.07613560275394
         },
         {
          "edge": 12,
          "edge_betweenness": 82.377555631503,
          "pair": [
           "Valjean",
           "Gillenormand"
          ],
          "source": "Valjean",
          "target": "Gillenormand",
          "value": 2,
          "weight": 2,
          "x": 223.6399262169332,
          "y": 222.50003829681873
         },
         {
          "edge": 13,
          "edge_betweenness": 131.7895202020202,
          "pair": [
           "Valjean",
           "MlleGillenormand"
          ],
          "source": "Valjean",
          "target": "MlleGillenormand",
          "value": 2,
          "weight": 2,
          "x": 271.82013481110886,
          "y": 253.07613560275394
         },
         {
          "edge": 13,
          "edge_betweenness": 131.7895202020202,
          "pair": [
           "Valjean",
           "MlleGillenormand"
          ],
          "source": "Valjean",
          "target": "MlleGillenormand",
          "value": 2,
          "weight": 2,
          "x": 237.14119923622576,
          "y": 216.14682223158482
         },
         {
          "edge": 14,
          "edge_betweenness": 129.6433424418718,
          "pair": [
           "Valjean",
           "Marius"
          ],
          "source": "Valjean",
          "target": "Marius",
          "value": 19,
          "weight": 19,
          "x": 271.82013481110886,
          "y": 253.07613560275394
         },
         {
          "edge": 14,
          "edge_betweenness": 129.6433424418718,
          "pair": [
           "Valjean",
           "Marius"
          ],
          "source": "Valjean",
          "target": "Marius",
          "value": 19,
          "weight": 19,
          "x": 264.6316949658308,
          "y": 225.0790233488014
         },
         {
          "edge": 15,
          "edge_betweenness": 46.66570512820511,
          "pair": [
           "Valjean",
           "Toussaint"
          ],
          "source": "Valjean",
          "target": "Toussaint",
          "value": 1,
          "weight": 1,
          "x": 271.82013481110886,
          "y": 253.07613560275394
         },
         {
          "edge": 15,
          "edge_betweenness": 46.66570512820511,
          "pair": [
           "Valjean",
           "Toussaint"
          ],
          "source": "Valjean",
          "target": "Toussaint",
          "value": 1,
          "weight": 1,
          "x": 271.82013481110886,
          "y": 238.15474424545064
         },
         {
          "edge": 16,
          "edge_betweenness": 13.518253968253966,
          "pair": [
           "Cosette",
           "Javert"
          ],
          "source": "Cosette",
          "target": "Javert",
          "value": 1,
          "weight": 1,
          "x": 252.03314932676844,
          "y": 274.14713430719456
         },
         {
          "edge": 16,
          "edge_betweenness": 13.518253968253966,
          "pair": [
           "Cosette",
           "Javert"
          ],
          "source": "Cosette",
          "target": "Javert",
          "value": 1,
          "weight": 1,
          "x": 244.64635521076625,
          "y": 275.5562399422088
         },
         {
          "edge": 17,
          "edge_betweenness": 11.73108974358974,
          "pair": [
           "Cosette",
           "Woman2"
          ],
          "source": "Cosette",
          "target": "Woman2",
          "value": 1,
          "weight": 1,
          "x": 252.03314932676844,
          "y": 274.14713430719456
         },
         {
          "edge": 17,
          "edge_betweenness": 11.73108974358974,
          "pair": [
           "Cosette",
           "Woman2"
          ],
          "source": "Cosette",
          "target": "Woman2",
          "value": 1,
          "weight": 1,
          "x": 212.99919911294904,
          "y": 241.85544473495997
         },
         {
          "edge": 18,
          "edge_betweenness": 8.821428571428573,
          "pair": [
           "Cosette",
           "Gillenormand"
          ],
          "source": "Cosette",
          "target": "Gillenormand",
          "value": 3,
          "weight": 3,
          "x": 252.03314932676844,
          "y": 274.14713430719456
         },
         {
          "edge": 18,
          "edge_betweenness": 8.821428571428573,
          "pair": [
           "Cosette",
           "Gillenormand"
          ],
          "source": "Cosette",
          "target": "Gillenormand",
          "value": 3,
          "weight": 3,
          "x": 223.6399262169332,
          "y": 222.50003829681873
         },
         {
          "edge": 19,
          "edge_betweenness": 17.400000000000002,
          "pair": [
           "Cosette",
           "MlleGillenormand"
          ],
          "source": "Cosette",
          "target": "MlleGillenormand",
          "value": 2,
          "weight": 2,
          "x": 252.03314932676844,
          "y": 274.14713430719456
         },
         {
          "edge": 19,
          "edge_betweenness": 17.400000000000002,
          "pair": [
           "Cosette",
           "MlleGillenormand"
          ],
          "source": "Cosette",
          "target": "MlleGillenormand",
          "value": 2,
          "weight": 2,
          "x": 237.14119923622576,
          "y": 216.14682223158482
         },
         {
          "edge": 20,
          "edge_betweenness": 20.5,
          "pair": [
           "Cosette",
           "LtGillenormand"
          ],
          "source": "Cosette",
          "target": "LtGillenormand",
          "value": 1,
          "weight": 1,
          "x": 252.03314932676844,
          "y": 274.14713430719456
         },
         {
          "edge": 20,
          "edge_betweenness": 20.5,
          "pair": [
           "Cosette",
           "LtGillenormand"
          ],
          "source": "Cosette",
          "target": "LtGillenormand",
          "value": 1,
          "weight": 1,
          "x": 258.83743694485713,
          "y": 220.2855976303842
         },
         {
          "edge": 21,
          "edge_betweenness": 18.086904761904762,
          "pair": [
           "Cosette",
           "Marius"
          ],
          "source": "Cosette",
          "target": "Marius",
          "value": 21,
          "weight": 21,
          "x": 252.03314932676844,
          "y": 274.14713430719456
         },
         {
          "edge": 21,
          "edge_betweenness": 18.086904761904762,
          "pair": [
           "Cosette",
           "Marius"
          ],
          "source": "Cosette",
          "target": "Marius",
          "value": 21,
          "weight": 21,
          "x": 264.6316949658308,
          "y": 225.0790233488014
         },
         {
          "edge": 22,
          "edge_betweenness": 11.731089743589742,
          "pair": [
           "Cosette",
           "Toussaint"
          ],
          "source": "Cosette",
          "target": "Toussaint",
          "value": 2,
          "weight": 2,
          "x": 252.03314932676844,
          "y": 274.14713430719456
         },
         {
          "edge": 22,
          "edge_betweenness": 11.731089743589742,
          "pair": [
           "Cosette",
           "Toussaint"
          ],
          "source": "Cosette",
          "target": "Toussaint",
          "value": 2,
          "weight": 2,
          "x": 271.82013481110886,
          "y": 238.15474424545064
         },
         {
          "edge": 23,
          "edge_betweenness": 42.023076923076935,
          "pair": [
           "Javert",
           "Fauchelevent"
          ],
          "source": "Javert",
          "target": "Fauchelevent",
          "value": 1,
          "weight": 1,
          "x": 244.64635521076625,
          "y": 275.5562399422088
         },
         {
          "edge": 23,
          "edge_betweenness": 42.023076923076935,
          "pair": [
           "Javert",
           "Fauchelevent"
          ],
          "source": "Javert",
          "target": "Fauchelevent",
          "value": 1,
          "weight": 1,
          "x": 237.14120102436507,
          "y": 275.0840549344108
         },
         {
          "edge": 24,
          "edge_betweenness": 21.102791326320734,
          "pair": [
           "Javert",
           "Simplice"
          ],
          "source": "Javert",
          "target": "Simplice",
          "value": 1,
          "weight": 1,
          "x": 244.64635521076625,
          "y": 275.5562399422088
         },
         {
          "edge": 24,
          "edge_betweenness": 21.102791326320734,
          "pair": [
           "Javert",
           "Simplice"
          ],
          "source": "Javert",
          "target": "Simplice",
          "value": 1,
          "weight": 1,
          "x": 223.63992085251525,
          "y": 268.73083529289823
         },
         {
          "edge": 25,
          "edge_betweenness": 21.261538461538468,
          "pair": [
           "Javert",
           "Woman1"
          ],
          "source": "Javert",
          "target": "Woman1",
          "value": 1,
          "weight": 1,
          "x": 244.64635521076625,
          "y": 275.5562399422088
         },
         {
          "edge": 25,
          "edge_betweenness": 21.261538461538468,
          "pair": [
           "Javert",
           "Woman1"
          ],
          "source": "Javert",
          "target": "Woman1",
          "value": 1,
          "weight": 1,
          "x": 214.8693478596993,
          "y": 256.6591765254403
         },
         {
          "edge": 26,
          "edge_betweenness": 17.603205128205122,
          "pair": [
           "Javert",
           "Woman2"
          ],
          "source": "Javert",
          "target": "Woman2",
          "value": 1,
          "weight": 1,
          "x": 244.64635521076625,
          "y": 275.5562399422088
         },
         {
          "edge": 26,
          "edge_betweenness": 17.603205128205122,
          "pair": [
           "Javert",
           "Woman2"
          ],
          "source": "Javert",
          "target": "Woman2",
          "value": 1,
          "weight": 1,
          "x": 212.99919911294904,
          "y": 241.85544473495997
         },
         {
          "edge": 27,
          "edge_betweenness": 17.60320512820513,
          "pair": [
           "Javert",
           "Toussaint"
          ],
          "source": "Javert",
          "target": "Toussaint",
          "value": 1,
          "weight": 1,
          "x": 244.64635521076625,
          "y": 275.5562399422088
         },
         {
          "edge": 27,
          "edge_betweenness": 17.60320512820513,
          "pair": [
           "Javert",
           "Toussaint"
          ],
          "source": "Javert",
          "target": "Toussaint",
          "value": 1,
          "weight": 1,
          "x": 271.82013481110886,
          "y": 238.15474424545064
         },
         {
          "edge": 28,
          "edge_betweenness": 2.5,
          "pair": [
           "Fauchelevent",
           "MotherInnocent"
          ],
          "source": "Fauchelevent",
          "target": "MotherInnocent",
          "value": 3,
          "weight": 3,
          "x": 237.14120102436507,
          "y": 275.0840549344108
         },
         {
          "edge": 28,
          "edge_betweenness": 2.5,
          "pair": [
           "Fauchelevent",
           "MotherInnocent"
          ],
          "source": "Fauchelevent",
          "target": "MotherInnocent",
          "value": 3,
          "weight": 3,
          "x": 214.86934607156,
          "y": 234.5717024286946
         },
         {
          "edge": 29,
          "edge_betweenness": 76,
          "pair": [
           "Fauchelevent",
           "Gribier"
          ],
          "source": "Fauchelevent",
          "target": "Gribier",
          "value": 2,
          "weight": 2,
          "x": 237.14120102436507,
          "y": 275.0840549344108
         },
         {
          "edge": 29,
          "edge_betweenness": 76,
          "pair": [
           "Fauchelevent",
           "Gribier"
          ],
          "source": "Fauchelevent",
          "target": "Gribier",
          "value": 2,
          "weight": 2,
          "x": 218.49213241380056,
          "y": 227.9818797695091
         },
         {
          "edge": 30,
          "edge_betweenness": 25.624840845429084,
          "pair": [
           "Perpetue",
           "Simplice"
          ],
          "source": "Perpetue",
          "target": "Simplice",
          "value": 2,
          "weight": 2,
          "x": 229.98925933764804,
          "y": 272.7602480912889
         },
         {
          "edge": 30,
          "edge_betweenness": 25.624840845429084,
          "pair": [
           "Perpetue",
           "Simplice"
          ],
          "source": "Perpetue",
          "target": "Simplice",
          "value": 2,
          "weight": 2,
          "x": 223.63992085251525,
          "y": 268.73083529289823
         },
         {
          "edge": 31,
          "edge_betweenness": 21.737500000000008,
          "pair": [
           "Pontmercy",
           "MmePontmercy"
          ],
          "source": "Pontmercy",
          "target": "MmePontmercy",
          "value": 1,
          "weight": 1,
          "x": 212.99919911294904,
          "y": 249.37543421917493
         },
         {
          "edge": 31,
          "edge_betweenness": 21.737500000000008,
          "pair": [
           "Pontmercy",
           "MmePontmercy"
          ],
          "source": "Pontmercy",
          "target": "MmePontmercy",
          "value": 1,
          "weight": 1,
          "x": 244.64635699890556,
          "y": 215.67463722378687
         },
         {
          "edge": 32,
          "edge_betweenness": 47.55992063492064,
          "pair": [
           "Pontmercy",
           "Marius"
          ],
          "source": "Pontmercy",
          "target": "Marius",
          "value": 1,
          "weight": 1,
          "x": 212.99919911294904,
          "y": 249.37543421917493
         },
         {
          "edge": 32,
          "edge_betweenness": 47.55992063492064,
          "pair": [
           "Pontmercy",
           "Marius"
          ],
          "source": "Pontmercy",
          "target": "Marius",
          "value": 1,
          "weight": 1,
          "x": 264.6316949658308,
          "y": 225.0790233488014
         },
         {
          "edge": 33,
          "edge_betweenness": 32.39392230576442,
          "pair": [
           "Gillenormand",
           "Magnon"
          ],
          "source": "Gillenormand",
          "target": "Magnon",
          "value": 1,
          "weight": 1,
          "x": 223.6399262169332,
          "y": 222.50003829681873
         },
         {
          "edge": 33,
          "edge_betweenness": 32.39392230576442,
          "pair": [
           "Gillenormand",
           "Magnon"
          ],
          "source": "Gillenormand",
          "target": "Magnon",
          "value": 1,
          "weight": 1,
          "x": 229.98925665543905,
          "y": 218.47062907470672
         },
         {
          "edge": 34,
          "edge_betweenness": 7.333333333333333,
          "pair": [
           "Gillenormand",
           "MlleGillenormand"
          ],
          "source": "Gillenormand",
          "target": "MlleGillenormand",
          "value": 9,
          "weight": 9,
          "x": 223.6399262169332,
          "y": 222.50003829681873
         },
         {
          "edge": 34,
          "edge_betweenness": 7.333333333333333,
          "pair": [
           "Gillenormand",
           "MlleGillenormand"
          ],
          "source": "Gillenormand",
          "target": "MlleGillenormand",
          "value": 9,
          "weight": 9,
          "x": 237.14119923622576,
          "y": 216.14682223158482
         },
         {
          "edge": 35,
          "edge_betweenness": 9.894444444444447,
          "pair": [
           "Gillenormand",
           "LtGillenormand"
          ],
          "source": "Gillenormand",
          "target": "LtGillenormand",
          "value": 1,
          "weight": 1,
          "x": 223.6399262169332,
          "y": 222.50003829681873
         },
         {
          "edge": 35,
          "edge_betweenness": 9.894444444444447,
          "pair": [
           "Gillenormand",
           "LtGillenormand"
          ],
          "source": "Gillenormand",
          "target": "LtGillenormand",
          "value": 1,
          "weight": 1,
          "x": 258.83743694485713,
          "y": 220.2855976303842
         },
         {
          "edge": 36,
          "edge_betweenness": 28.948906356801093,
          "pair": [
           "Gillenormand",
           "Marius"
          ],
          "source": "Gillenormand",
          "target": "Marius",
          "value": 12,
          "weight": 12,
          "x": 223.6399262169332,
          "y": 222.50003829681873
         },
         {
          "edge": 36,
          "edge_betweenness": 28.948906356801093,
          "pair": [
           "Gillenormand",
           "Marius"
          ],
          "source": "Gillenormand",
          "target": "Marius",
          "value": 12,
          "weight": 12,
          "x": 264.6316949658308,
          "y": 225.0790233488014
         },
         {
          "edge": 37,
          "edge_betweenness": 21.430952380952387,
          "pair": [
           "Gillenormand",
           "BaronessT"
          ],
          "source": "Gillenormand",
          "target": "BaronessT",
          "value": 1,
          "weight": 1,
          "x": 223.6399262169332,
          "y": 222.50003829681873
         },
         {
          "edge": 37,
          "edge_betweenness": 21.430952380952387,
          "pair": [
           "Gillenormand",
           "BaronessT"
          ],
          "source": "Gillenormand",
          "target": "BaronessT",
          "value": 1,
          "weight": 1,
          "x": 269.05183945001454,
          "y": 231.16282761623972
         },
         {
          "edge": 38,
          "edge_betweenness": 56.26250000000001,
          "pair": [
           "MlleGillenormand",
           "MmePontmercy"
          ],
          "source": "MlleGillenormand",
          "target": "MmePontmercy",
          "value": 1,
          "weight": 1,
          "x": 237.14119923622576,
          "y": 216.14682223158482
         },
         {
          "edge": 38,
          "edge_betweenness": 56.26250000000001,
          "pair": [
           "MlleGillenormand",
           "MmePontmercy"
          ],
          "source": "MlleGillenormand",
          "target": "MmePontmercy",
          "value": 1,
          "weight": 1,
          "x": 244.64635699890556,
          "y": 215.67463722378687
         },
         {
          "edge": 39,
          "edge_betweenness": 76,
          "pair": [
           "MlleGillenormand",
           "MlleVaubois"
          ],
          "source": "MlleGillenormand",
          "target": "MlleVaubois",
          "value": 1,
          "weight": 1,
          "x": 237.14119923622576,
          "y": 216.14682223158482
         },
         {
          "edge": 39,
          "edge_betweenness": 76,
          "pair": [
           "MlleGillenormand",
           "MlleVaubois"
          ],
          "source": "MlleGillenormand",
          "target": "MlleVaubois",
          "value": 1,
          "weight": 1,
          "x": 252.0331537971167,
          "y": 217.08374464694037
         },
         {
          "edge": 40,
          "edge_betweenness": 10.394444444444447,
          "pair": [
           "MlleGillenormand",
           "LtGillenormand"
          ],
          "source": "MlleGillenormand",
          "target": "LtGillenormand",
          "value": 2,
          "weight": 2,
          "x": 237.14119923622576,
          "y": 216.14682223158482
         },
         {
          "edge": 40,
          "edge_betweenness": 10.394444444444447,
          "pair": [
           "MlleGillenormand",
           "LtGillenormand"
          ],
          "source": "MlleGillenormand",
          "target": "LtGillenormand",
          "value": 2,
          "weight": 2,
          "x": 258.83743694485713,
          "y": 220.2855976303842
         },
         {
          "edge": 41,
          "edge_betweenness": 48.1340909090909,
          "pair": [
           "MlleGillenormand",
           "Marius"
          ],
          "source": "MlleGillenormand",
          "target": "Marius",
          "value": 6,
          "weight": 6,
          "x": 237.14119923622576,
          "y": 216.14682223158482
         },
         {
          "edge": 41,
          "edge_betweenness": 48.1340909090909,
          "pair": [
           "MlleGillenormand",
           "Marius"
          ],
          "source": "MlleGillenormand",
          "target": "Marius",
          "value": 6,
          "weight": 6,
          "x": 264.6316949658308,
          "y": 225.0790233488014
         },
         {
          "edge": 42,
          "edge_betweenness": 35.211111111111116,
          "pair": [
           "LtGillenormand",
           "Marius"
          ],
          "source": "LtGillenormand",
          "target": "Marius",
          "value": 1,
          "weight": 1,
          "x": 258.83743694485713,
          "y": 220.2855976303842
         },
         {
          "edge": 42,
          "edge_betweenness": 35.211111111111116,
          "pair": [
           "LtGillenormand",
           "Marius"
          ],
          "source": "LtGillenormand",
          "target": "Marius",
          "value": 1,
          "weight": 1,
          "x": 264.6316949658308,
          "y": 225.0790233488014
         },
         {
          "edge": 43,
          "edge_betweenness": 54.56904761904761,
          "pair": [
           "Marius",
           "BaronessT"
          ],
          "source": "Marius",
          "target": "BaronessT",
          "value": 1,
          "weight": 1,
          "x": 264.6316949658308,
          "y": 225.0790233488014
         },
         {
          "edge": 43,
          "edge_betweenness": 54.56904761904761,
          "pair": [
           "Marius",
           "BaronessT"
          ],
          "source": "Marius",
          "target": "BaronessT",
          "value": 1,
          "weight": 1,
          "x": 269.05183945001454,
          "y": 231.16282761623972
         }
        ],
        "data-a0b2686836e559f5fc82ac80854521c6": [
         {
          "__combo_size": 7312,
          "__node_r": 42.7551166528639,
          "__node_size": 7312,
          "__y_label": 145.79729867557603,
          "group": "5",
          "x": 41.90994776469606,
          "y": 200.55241532843993
         }
        ],
        "data-ae5bf96d579bb22a3f87fdb3ae858d64": [
         {
          "__combo_size": 10000,
          "__node_r": 50,
          "__node_size": 10000,
          "__y_label": 183.61543854723502,
          "group": "1",
          "x": 242.7626397974009,
          "y": 245.61543854723502
         }
        ],
        "data-be0007f2e23326d9eceb318127f7d6f2": [
         {
          "edge": 0,
          "edge_betweenness": 76,
          "pair": [
           "Jondrette",
           "MmeBurgon"
          ],
          "source": "Jondrette",
          "target": "MmeBurgon",
          "value": 1,
          "weight": 1,
          "x": 67.5630177564144,
          "y": 200.5524154633554
         },
         {
          "edge": 0,
          "edge_betweenness": 76,
          "pair": [
           "Jondrette",
           "MmeBurgon"
          ],
          "source": "Jondrette",
          "target": "MmeBurgon",
          "value": 1,
          "weight": 1,
          "x": 65.83072315255377,
          "y": 209.81937309777572
         },
         {
          "edge": 1,
          "edge_betweenness": 150,
          "pair": [
           "MmeBurgon",
           "Gavroche"
          ],
          "source": "MmeBurgon",
          "target": "Gavroche",
          "value": 2,
          "weight": 2,
          "x": 65.83072315255377,
          "y": 209.81937309777572
         },
         {
          "edge": 1,
          "edge_betweenness": 150,
          "pair": [
           "MmeBurgon",
           "Gavroche"
          ],
          "source": "MmeBurgon",
          "target": "Gavroche",
          "value": 2,
          "weight": 2,
          "x": 60.867795014013346,
          "y": 217.83477613760465
         },
         {
          "edge": 2,
          "edge_betweenness": 34.90154698242934,
          "pair": [
           "Gavroche",
           "Mabeuf"
          ],
          "source": "Gavroche",
          "target": "Mabeuf",
          "value": 1,
          "weight": 1,
          "x": 60.867795014013346,
          "y": 217.83477613760465
         },
         {
          "edge": 2,
          "edge_betweenness": 34.90154698242934,
          "pair": [
           "Gavroche",
           "Mabeuf"
          ],
          "source": "Gavroche",
          "target": "Mabeuf",
          "value": 1,
          "weight": 1,
          "x": 53.34450499856453,
          "y": 223.51610176937044
         },
         {
          "edge": 3,
          "edge_betweenness": 7.358333333333333,
          "pair": [
           "Gavroche",
           "Enjolras"
          ],
          "source": "Gavroche",
          "target": "Enjolras",
          "value": 7,
          "weight": 7,
          "x": 60.867795014013346,
          "y": 217.83477613760465
         },
         {
          "edge": 3,
          "edge_betweenness": 7.358333333333333,
          "pair": [
           "Gavroche",
           "Enjolras"
          ],
          "source": "Gavroche",
          "target": "Enjolras",
          "value": 7,
          "weight": 7,
          "x": 44.276915149320395,
          "y": 226.09605296909314
         },
         {
          "edge": 4,
          "edge_betweenness": 19.830952380952382,
          "pair": [
           "Gavroche",
           "Combeferre"
          ],
          "source": "Gavroche",
          "target": "Combeferre",
          "value": 6,
          "weight": 6,
          "x": 60.867795014013346,
          "y": 217.83477613760465
         },
         {
          "edge": 4,
          "edge_betweenness": 19.830952380952382,
          "pair": [
           "Gavroche",
           "Combeferre"
          ],
          "source": "Gavroche",
          "target": "Combeferre",
          "value": 6,
          "weight": 6,
          "x": 34.889654202950595,
          "y": 225.22619621103766
         },
         {
          "edge": 5,
          "edge_betweenness": 28.115079365079367,
          "pair": [
           "Gavroche",
           "Prouvaire"
          ],
          "source": "Gavroche",
          "target": "Prouvaire",
          "value": 1,
          "weight": 1,
          "x": 60.867795014013346,
          "y": 217.83477613760465
         },
         {
          "edge": 5,
          "edge_betweenness": 28.115079365079367,
          "pair": [
           "Gavroche",
           "Prouvaire"
          ],
          "source": "Gavroche",
          "target": "Prouvaire",
          "value": 1,
          "weight": 1,
          "x": 26.450519194842688,
          "y": 221.024006270406
         },
         {
          "edge": 6,
          "edge_betweenness": 19.830952380952382,
          "pair": [
           "Gavroche",
           "Feuilly"
          ],
          "source": "Gavroche",
          "target": "Feuilly",
          "value": 2,
          "weight": 2,
          "x": 60.867795014013346,
          "y": 217.83477613760465
         },
         {
          "edge": 6,
          "edge_betweenness": 19.830952380952382,
          "pair": [
           "Gavroche",
           "Feuilly"
          ],
          "source": "Gavroche",
          "target": "Feuilly",
          "value": 2,
          "weight": 2,
          "x": 20.09926976238233,
          "y": 214.05701617296882
         },
         {
          "edge": 7,
          "edge_betweenness": 17.346606824548,
          "pair": [
           "Gavroche",
           "Courfeyrac"
          ],
          "source": "Gavroche",
          "target": "Courfeyrac",
          "value": 7,
          "weight": 7,
          "x": 60.867795014013346,
          "y": 217.83477613760465
         },
         {
          "edge": 7,
          "edge_betweenness": 17.346606824548,
          "pair": [
           "Gavroche",
           "Courfeyrac"
          ],
          "source": "Gavroche",
          "target": "Courfeyrac",
          "value": 7,
          "weight": 7,
          "x": 16.69367099872897,
          "y": 205.2661548469719
         },
         {
          "edge": 8,
          "edge_betweenness": 19.688095238095237,
          "pair": [
           "Gavroche",
           "Bahorel"
          ],
          "source": "Gavroche",
          "target": "Bahorel",
          "value": 5,
          "weight": 5,
          "x": 60.867795014013346,
          "y": 217.83477613760465
         },
         {
          "edge": 8,
          "edge_betweenness": 19.688095238095237,
          "pair": [
           "Gavroche",
           "Bahorel"
          ],
          "source": "Gavroche",
          "target": "Bahorel",
          "value": 5,
          "weight": 5,
          "x": 16.69367099872897,
          "y": 195.83867760878104
         },
         {
          "edge": 9,
          "edge_betweenness": 8.642857142857142,
          "pair": [
           "Gavroche",
           "Bossuet"
          ],
          "source": "Gavroche",
          "target": "Bossuet",
          "value": 5,
          "weight": 5,
          "x": 60.867795014013346,
          "y": 217.83477613760465
         },
         {
          "edge": 9,
          "edge_betweenness": 8.642857142857142,
          "pair": [
           "Gavroche",
           "Bossuet"
          ],
          "source": "Gavroche",
          "target": "Bossuet",
          "value": 5,
          "weight": 5,
          "x": 20.099268233340233,
          "y": 187.0478162827841
         },
         {
          "edge": 10,
          "edge_betweenness": 19.688095238095237,
          "pair": [
           "Gavroche",
           "Joly"
          ],
          "source": "Gavroche",
          "target": "Joly",
          "value": 3,
          "weight": 3,
          "x": 60.867795014013346,
          "y": 217.83477613760465
         },
         {
          "edge": 10,
          "edge_betweenness": 19.688095238095237,
          "pair": [
           "Gavroche",
           "Joly"
          ],
          "source": "Gavroche",
          "target": "Joly",
          "value": 3,
          "weight": 3,
          "x": 26.450517665800593,
          "y": 180.08082618534692
         },
         {
          "edge": 11,
          "edge_betweenness": 27.972222222222225,
          "pair": [
           "Gavroche",
           "Grantaire"
          ],
          "source": "Gavroche",
          "target": "Grantaire",
          "value": 1,
          "weight": 1,
          "x": 60.867795014013346,
          "y": 217.83477613760465
         },
         {
          "edge": 11,
          "edge_betweenness": 27.972222222222225,
          "pair": [
           "Gavroche",
           "Grantaire"
          ],
          "source": "Gavroche",
          "target": "Grantaire",
          "value": 1,
          "weight": 1,
          "x": 34.88965496747164,
          "y": 175.87863471567314
         },
         {
          "edge": 12,
          "edge_betweenness": 75,
          "pair": [
           "Gavroche",
           "Child1"
          ],
          "source": "Gavroche",
          "target": "Child1",
          "value": 2,
          "weight": 2,
          "x": 60.867795014013346,
          "y": 217.83477613760465
         },
         {
          "edge": 12,
          "edge_betweenness": 75,
          "pair": [
           "Gavroche",
           "Child1"
          ],
          "source": "Gavroche",
          "target": "Child1",
          "value": 2,
          "weight": 2,
          "x": 53.34450576308558,
          "y": 177.58872915734037
         },
         {
          "edge": 13,
          "edge_betweenness": 75,
          "pair": [
           "Gavroche",
           "Child2"
          ],
          "source": "Gavroche",
          "target": "Child2",
          "value": 2,
          "weight": 2,
          "x": 60.867795014013346,
          "y": 217.83477613760465
         },
         {
          "edge": 13,
          "edge_betweenness": 75,
          "pair": [
           "Gavroche",
           "Child2"
          ],
          "source": "Gavroche",
          "target": "Child2",
          "value": 2,
          "weight": 2,
          "x": 60.86779042688706,
          "y": 183.2700502019799
         },
         {
          "edge": 14,
          "edge_betweenness": 29.253918888129412,
          "pair": [
           "Gavroche",
           "MmeHucheloup"
          ],
          "source": "Gavroche",
          "target": "MmeHucheloup",
          "value": 1,
          "weight": 1,
          "x": 60.867795014013346,
          "y": 217.83477613760465
         },
         {
          "edge": 14,
          "edge_betweenness": 29.253918888129412,
          "pair": [
           "Gavroche",
           "MmeHucheloup"
          ],
          "source": "Gavroche",
          "target": "MmeHucheloup",
          "value": 1,
          "weight": 1,
          "x": 65.83072315255377,
          "y": 191.28545706441406
         },
         {
          "edge": 15,
          "edge_betweenness": 21.977081741787625,
          "pair": [
           "Mabeuf",
           "Enjolras"
          ],
          "source": "Mabeuf",
          "target": "Enjolras",
          "value": 1,
          "weight": 1,
          "x": 53.34450499856453,
          "y": 223.51610176937044
         },
         {
          "edge": 15,
          "edge_betweenness": 21.977081741787625,
          "pair": [
           "Mabeuf",
           "Enjolras"
          ],
          "source": "Mabeuf",
          "target": "Enjolras",
          "value": 1,
          "weight": 1,
          "x": 44.276915149320395,
          "y": 226.09605296909314
         },
         {
          "edge": 16,
          "edge_betweenness": 3.1,
          "pair": [
           "Mabeuf",
           "Combeferre"
          ],
          "source": "Mabeuf",
          "target": "Combeferre",
          "value": 2,
          "weight": 2,
          "x": 53.34450499856453,
          "y": 223.51610176937044
         },
         {
          "edge": 16,
          "edge_betweenness": 3.1,
          "pair": [
           "Mabeuf",
           "Combeferre"
          ],
          "source": "Mabeuf",
          "target": "Combeferre",
          "value": 2,
          "weight": 2,
          "x": 34.889654202950595,
          "y": 225.22619621103766
         },
         {
          "edge": 17,
          "edge_betweenness": 3.1,
          "pair": [
           "Mabeuf",
           "Feuilly"
          ],
          "source": "Mabeuf",
          "target": "Feuilly",
          "value": 1,
          "weight": 1,
          "x": 53.34450499856453,
          "y": 223.51610176937044
         },
         {
          "edge": 17,
          "edge_betweenness": 3.1,
          "pair": [
           "Mabeuf",
           "Feuilly"
          ],
          "source": "Mabeuf",
          "target": "Feuilly",
          "value": 1,
          "weight": 1,
          "x": 20.09926976238233,
          "y": 214.05701617296882
         },
         {
          "edge": 18,
          "edge_betweenness": 2.833333333333333,
          "pair": [
           "Mabeuf",
           "Courfeyrac"
          ],
          "source": "Mabeuf",
          "target": "Courfeyrac",
          "value": 2,
          "weight": 2,
          "x": 53.34450499856453,
          "y": 223.51610176937044
         },
         {
          "edge": 18,
          "edge_betweenness": 2.833333333333333,
          "pair": [
           "Mabeuf",
           "Courfeyrac"
          ],
          "source": "Mabeuf",
          "target": "Courfeyrac",
          "value": 2,
          "weight": 2,
          "x": 16.69367099872897,
          "y": 205.2661548469719
         },
         {
          "edge": 19,
          "edge_betweenness": 3.433333333333333,
          "pair": [
           "Mabeuf",
           "Bahorel"
          ],
          "source": "Mabeuf",
          "target": "Bahorel",
          "value": 2,
          "weight": 2,
          "x": 53.34450499856453,
          "y": 223.51610176937044
         },
         {
          "edge": 19,
          "edge_betweenness": 3.433333333333333,
          "pair": [
           "Mabeuf",
           "Bahorel"
          ],
          "source": "Mabeuf",
          "target": "Bahorel",
          "value": 2,
          "weight": 2,
          "x": 16.69367099872897,
          "y": 195.83867760878104
         },
         {
          "edge": 20,
          "edge_betweenness": 17.464731347084292,
          "pair": [
           "Mabeuf",
           "Bossuet"
          ],
          "source": "Mabeuf",
          "target": "Bossuet",
          "value": 1,
          "weight": 1,
          "x": 53.34450499856453,
          "y": 223.51610176937044
         },
         {
          "edge": 20,
          "edge_betweenness": 17.464731347084292,
          "pair": [
           "Mabeuf",
           "Bossuet"
          ],
          "source": "Mabeuf",
          "target": "Bossuet",
          "value": 1,
          "weight": 1,
          "x": 20.099268233340233,
          "y": 187.0478162827841
         },
         {
          "edge": 21,
          "edge_betweenness": 3.433333333333333,
          "pair": [
           "Mabeuf",
           "Joly"
          ],
          "source": "Mabeuf",
          "target": "Joly",
          "value": 1,
          "weight": 1,
          "x": 53.34450499856453,
          "y": 223.51610176937044
         },
         {
          "edge": 21,
          "edge_betweenness": 3.433333333333333,
          "pair": [
           "Mabeuf",
           "Joly"
          ],
          "source": "Mabeuf",
          "target": "Joly",
          "value": 1,
          "weight": 1,
          "x": 26.450517665800593,
          "y": 180.08082618534692
         },
         {
          "edge": 22,
          "edge_betweenness": 76,
          "pair": [
           "Mabeuf",
           "MotherPlutarch"
          ],
          "source": "Mabeuf",
          "target": "MotherPlutarch",
          "value": 3,
          "weight": 3,
          "x": 53.34450499856453,
          "y": 223.51610176937044
         },
         {
          "edge": 22,
          "edge_betweenness": 76,
          "pair": [
           "Mabeuf",
           "MotherPlutarch"
          ],
          "source": "Mabeuf",
          "target": "MotherPlutarch",
          "value": 3,
          "weight": 3,
          "x": 44.276910562194104,
          "y": 175.00877642857557
         },
         {
          "edge": 23,
          "edge_betweenness": 11.31984126984127,
          "pair": [
           "Enjolras",
           "Combeferre"
          ],
          "source": "Enjolras",
          "target": "Combeferre",
          "value": 15,
          "weight": 15,
          "x": 44.276915149320395,
          "y": 226.09605296909314
         },
         {
          "edge": 23,
          "edge_betweenness": 11.31984126984127,
          "pair": [
           "Enjolras",
           "Combeferre"
          ],
          "source": "Enjolras",
          "target": "Combeferre",
          "value": 15,
          "weight": 15,
          "x": 34.889654202950595,
          "y": 225.22619621103766
         },
         {
          "edge": 24,
          "edge_betweenness": 17.401154401154404,
          "pair": [
           "Enjolras",
           "Prouvaire"
          ],
          "source": "Enjolras",
          "target": "Prouvaire",
          "value": 4,
          "weight": 4,
          "x": 44.276915149320395,
          "y": 226.09605296909314
         },
         {
          "edge": 24,
          "edge_betweenness": 17.401154401154404,
          "pair": [
           "Enjolras",
           "Prouvaire"
          ],
          "source": "Enjolras",
          "target": "Prouvaire",
          "value": 4,
          "weight": 4,
          "x": 26.450519194842688,
          "y": 221.024006270406
         },
         {
          "edge": 25,
          "edge_betweenness": 11.31984126984127,
          "pair": [
           "Enjolras",
           "Feuilly"
          ],
          "source": "Enjolras",
          "target": "Feuilly",
          "value": 6,
          "weight": 6,
          "x": 44.276915149320395,
          "y": 226.09605296909314
         },
         {
          "edge": 25,
          "edge_betweenness": 11.31984126984127,
          "pair": [
           "Enjolras",
           "Feuilly"
          ],
          "source": "Enjolras",
          "target": "Feuilly",
          "value": 6,
          "weight": 6,
          "x": 20.09926976238233,
          "y": 214.05701617296882
         },
         {
          "edge": 26,
          "edge_betweenness": 10.738540870893813,
          "pair": [
           "Enjolras",
           "Courfeyrac"
          ],
          "source": "Enjolras",
          "target": "Courfeyrac",
          "value": 17,
          "weight": 17,
          "x": 44.276915149320395,
          "y": 226.09605296909314
         },
         {
          "edge": 26,
          "edge_betweenness": 10.738540870893813,
          "pair": [
           "Enjolras",
           "Courfeyrac"
          ],
          "source": "Enjolras",
          "target": "Courfeyrac",
          "value": 17,
          "weight": 17,
          "x": 16.69367099872897,
          "y": 205.2661548469719
         },
         {
          "edge": 27,
          "edge_betweenness": 11.176984126984127,
          "pair": [
           "Enjolras",
           "Bahorel"
          ],
          "source": "Enjolras",
          "target": "Bahorel",
          "value": 4,
          "weight": 4,
          "x": 44.276915149320395,
          "y": 226.09605296909314
         },
         {
          "edge": 27,
          "edge_betweenness": 11.176984126984127,
          "pair": [
           "Enjolras",
           "Bahorel"
          ],
          "source": "Enjolras",
          "target": "Bahorel",
          "value": 4,
          "weight": 4,
          "x": 16.69367099872897,
          "y": 195.83867760878104
         },
         {
          "edge": 28,
          "edge_betweenness": 1.8333333333333333,
          "pair": [
           "Enjolras",
           "Bossuet"
          ],
          "source": "Enjolras",
          "target": "Bossuet",
          "value": 10,
          "weight": 10,
          "x": 44.276915149320395,
          "y": 226.09605296909314
         },
         {
          "edge": 28,
          "edge_betweenness": 1.8333333333333333,
          "pair": [
           "Enjolras",
           "Bossuet"
          ],
          "source": "Enjolras",
          "target": "Bossuet",
          "value": 10,
          "weight": 10,
          "x": 20.099268233340233,
          "y": 187.0478162827841
         },
         {
          "edge": 29,
          "edge_betweenness": 11.176984126984127,
          "pair": [
           "Enjolras",
           "Joly"
          ],
          "source": "Enjolras",
          "target": "Joly",
          "value": 5,
          "weight": 5,
          "x": 44.276915149320395,
          "y": 226.09605296909314
         },
         {
          "edge": 29,
          "edge_betweenness": 11.176984126984127,
          "pair": [
           "Enjolras",
           "Joly"
          ],
          "source": "Enjolras",
          "target": "Joly",
          "value": 5,
          "weight": 5,
          "x": 26.450517665800593,
          "y": 180.08082618534692
         },
         {
          "edge": 30,
          "edge_betweenness": 17.258297258297258,
          "pair": [
           "Enjolras",
           "Grantaire"
          ],
          "source": "Enjolras",
          "target": "Grantaire",
          "value": 3,
          "weight": 3,
          "x": 44.276915149320395,
          "y": 226.09605296909314
         },
         {
          "edge": 30,
          "edge_betweenness": 17.258297258297258,
          "pair": [
           "Enjolras",
           "Grantaire"
          ],
          "source": "Enjolras",
          "target": "Grantaire",
          "value": 3,
          "weight": 3,
          "x": 34.88965496747164,
          "y": 175.87863471567314
         },
         {
          "edge": 31,
          "edge_betweenness": 18.402389496468444,
          "pair": [
           "Enjolras",
           "MmeHucheloup"
          ],
          "source": "Enjolras",
          "target": "MmeHucheloup",
          "value": 1,
          "weight": 1,
          "x": 44.276915149320395,
          "y": 226.09605296909314
         },
         {
          "edge": 31,
          "edge_betweenness": 18.402389496468444,
          "pair": [
           "Enjolras",
           "MmeHucheloup"
          ],
          "source": "Enjolras",
          "target": "MmeHucheloup",
          "value": 1,
          "weight": 1,
          "x": 65.83072315255377,
          "y": 191.28545706441406
         },
         {
          "edge": 32,
          "edge_betweenness": 2.781457431457431,
          "pair": [
           "Combeferre",
           "Prouvaire"
          ],
          "source": "Combeferre",
          "target": "Prouvaire",
          "value": 2,
          "weight": 2,
          "x": 34.889654202950595,
          "y": 225.22619621103766
         },
         {
          "edge": 32,
          "edge_betweenness": 2.781457431457431,
          "pair": [
           "Combeferre",
           "Prouvaire"
          ],
          "source": "Combeferre",
          "target": "Prouvaire",
          "value": 2,
          "weight": 2,
          "x": 26.450519194842688,
          "y": 221.024006270406
         },
         {
          "edge": 33,
          "edge_betweenness": 1,
          "pair": [
           "Combeferre",
           "Feuilly"
          ],
          "source": "Combeferre",
          "target": "Feuilly",
          "value": 5,
          "weight": 5,
          "x": 34.889654202950595,
          "y": 225.22619621103766
         },
         {
          "edge": 33,
          "edge_betweenness": 1,
          "pair": [
           "Combeferre",
           "Feuilly"
          ],
          "source": "Combeferre",
          "target": "Feuilly",
          "value": 5,
          "weight": 5,
          "x": 20.09926976238233,
          "y": 214.05701617296882
         },
         {
          "edge": 34,
          "edge_betweenness": 1.7428571428571429,
          "pair": [
           "Combeferre",
           "Courfeyrac"
          ],
          "source": "Combeferre",
          "target": "Courfeyrac",
          "value": 13,
          "weight": 13,
          "x": 34.889654202950595,
          "y": 225.22619621103766
         },
         {
          "edge": 34,
          "edge_betweenness": 1.7428571428571429,
          "pair": [
           "Combeferre",
           "Courfeyrac"
          ],
          "source": "Combeferre",
          "target": "Courfeyrac",
          "value": 13,
          "weight": 13,
          "x": 16.69367099872897,
          "y": 205.2661548469719
         },
         {
          "edge": 35,
          "edge_betweenness": 1.1428571428571428,
          "pair": [
           "Combeferre",
           "Bahorel"
          ],
          "source": "Combeferre",
          "target": "Bahorel",
          "value": 5,
          "weight": 5,
          "x": 34.889654202950595,
          "y": 225.22619621103766
         },
         {
          "edge": 35,
          "edge_betweenness": 1.1428571428571428,
          "pair": [
           "Combeferre",
           "Bahorel"
          ],
          "source": "Combeferre",
          "target": "Bahorel",
          "value": 5,
          "weight": 5,
          "x": 16.69367099872897,
          "y": 195.83867760878104
         },
         {
          "edge": 36,
          "edge_betweenness": 8.323015873015873,
          "pair": [
           "Combeferre",
           "Bossuet"
          ],
          "source": "Combeferre",
          "target": "Bossuet",
          "value": 9,
          "weight": 9,
          "x": 34.889654202950595,
          "y": 225.22619621103766
         },
         {
          "edge": 36,
          "edge_betweenness": 8.323015873015873,
          "pair": [
           "Combeferre",
           "Bossuet"
          ],
          "source": "Combeferre",
          "target": "Bossuet",
          "value": 9,
          "weight": 9,
          "x": 20.099268233340233,
          "y": 187.0478162827841
         },
         {
          "edge": 37,
          "edge_betweenness": 1.1428571428571428,
          "pair": [
           "Combeferre",
           "Joly"
          ],
          "source": "Combeferre",
          "target": "Joly",
          "value": 5,
          "weight": 5,
          "x": 34.889654202950595,
          "y": 225.22619621103766
         },
         {
          "edge": 37,
          "edge_betweenness": 1.1428571428571428,
          "pair": [
           "Combeferre",
           "Joly"
          ],
          "source": "Combeferre",
          "target": "Joly",
          "value": 5,
          "weight": 5,
          "x": 26.450517665800593,
          "y": 180.08082618534692
         },
         {
          "edge": 38,
          "edge_betweenness": 2.924314574314574,
          "pair": [
           "Combeferre",
           "Grantaire"
          ],
          "source": "Combeferre",
          "target": "Grantaire",
          "value": 1,
          "weight": 1,
          "x": 34.889654202950595,
          "y": 225.22619621103766
         },
         {
          "edge": 38,
          "edge_betweenness": 2.924314574314574,
          "pair": [
           "Combeferre",
           "Grantaire"
          ],
          "source": "Combeferre",
          "target": "Grantaire",
          "value": 1,
          "weight": 1,
          "x": 34.88965496747164,
          "y": 175.87863471567314
         },
         {
          "edge": 39,
          "edge_betweenness": 2.781457431457431,
          "pair": [
           "Prouvaire",
           "Feuilly"
          ],
          "source": "Prouvaire",
          "target": "Feuilly",
          "value": 2,
          "weight": 2,
          "x": 26.450519194842688,
          "y": 221.024006270406
         },
         {
          "edge": 39,
          "edge_betweenness": 2.781457431457431,
          "pair": [
           "Prouvaire",
           "Feuilly"
          ],
          "source": "Prouvaire",
          "target": "Feuilly",
          "value": 2,
          "weight": 2,
          "x": 20.09926976238233,
          "y": 214.05701617296882
         },
         {
          "edge": 40,
          "edge_betweenness": 4.5719336219336215,
          "pair": [
           "Prouvaire",
           "Courfeyrac"
          ],
          "source": "Prouvaire",
          "target": "Courfeyrac",
          "value": 3,
          "weight": 3,
          "x": 26.450519194842688,
          "y": 221.024006270406
         },
         {
          "edge": 40,
          "edge_betweenness": 4.5719336219336215,
          "pair": [
           "Prouvaire",
           "Courfeyrac"
          ],
          "source": "Prouvaire",
          "target": "Courfeyrac",
          "value": 3,
          "weight": 3,
          "x": 16.69367099872897,
          "y": 205.2661548469719
         },
         {
          "edge": 41,
          "edge_betweenness": 2.924314574314574,
          "pair": [
           "Prouvaire",
           "Bahorel"
          ],
          "source": "Prouvaire",
          "target": "Bahorel",
          "value": 2,
          "weight": 2,
          "x": 26.450519194842688,
          "y": 221.024006270406
         },
         {
          "edge": 41,
          "edge_betweenness": 2.924314574314574,
          "pair": [
           "Prouvaire",
           "Bahorel"
          ],
          "source": "Prouvaire",
          "target": "Bahorel",
          "value": 2,
          "weight": 2,
          "x": 16.69367099872897,
          "y": 195.83867760878104
         },
         {
          "edge": 42,
          "edge_betweenness": 13.357431457431456,
          "pair": [
           "Prouvaire",
           "Bossuet"
          ],
          "source": "Prouvaire",
          "target": "Bossuet",
          "value": 2,
          "weight": 2,
          "x": 26.450519194842688,
          "y": 221.024006270406
         },
         {
          "edge": 42,
          "edge_betweenness": 13.357431457431456,
          "pair": [
           "Prouvaire",
           "Bossuet"
          ],
          "source": "Prouvaire",
          "target": "Bossuet",
          "value": 2,
          "weight": 2,
          "x": 20.099268233340233,
          "y": 187.0478162827841
         },
         {
          "edge": 43,
          "edge_betweenness": 2.924314574314574,
          "pair": [
           "Prouvaire",
           "Joly"
          ],
          "source": "Prouvaire",
          "target": "Joly",
          "value": 2,
          "weight": 2,
          "x": 26.450519194842688,
          "y": 221.024006270406
         },
         {
          "edge": 43,
          "edge_betweenness": 2.924314574314574,
          "pair": [
           "Prouvaire",
           "Joly"
          ],
          "source": "Prouvaire",
          "target": "Joly",
          "value": 2,
          "weight": 2,
          "x": 26.450517665800593,
          "y": 180.08082618534692
         },
         {
          "edge": 44,
          "edge_betweenness": 1.1428571428571428,
          "pair": [
           "Prouvaire",
           "Grantaire"
          ],
          "source": "Prouvaire",
          "target": "Grantaire",
          "value": 1,
          "weight": 1,
          "x": 26.450519194842688,
          "y": 221.024006270406
         },
         {
          "edge": 44,
          "edge_betweenness": 1.1428571428571428,
          "pair": [
           "Prouvaire",
           "Grantaire"
          ],
          "source": "Prouvaire",
          "target": "Grantaire",
          "value": 1,
          "weight": 1,
          "x": 34.88965496747164,
          "y": 175.87863471567314
         },
         {
          "edge": 45,
          "edge_betweenness": 1.7428571428571429,
          "pair": [
           "Feuilly",
           "Courfeyrac"
          ],
          "source": "Feuilly",
          "target": "Courfeyrac",
          "value": 6,
          "weight": 6,
          "x": 20.09926976238233,
          "y": 214.05701617296882
         },
         {
          "edge": 45,
          "edge_betweenness": 1.7428571428571429,
          "pair": [
           "Feuilly",
           "Courfeyrac"
          ],
          "source": "Feuilly",
          "target": "Courfeyrac",
          "value": 6,
          "weight": 6,
          "x": 16.69367099872897,
          "y": 205.2661548469719
         },
         {
          "edge": 46,
          "edge_betweenness": 1.1428571428571428,
          "pair": [
           "Feuilly",
           "Bahorel"
          ],
          "source": "Feuilly",
          "target": "Bahorel",
          "value": 3,
          "weight": 3,
          "x": 20.09926976238233,
          "y": 214.05701617296882
         },
         {
          "edge": 46,
          "edge_betweenness": 1.1428571428571428,
          "pair": [
           "Feuilly",
           "Bahorel"
          ],
          "source": "Feuilly",
          "target": "Bahorel",
          "value": 3,
          "weight": 3,
          "x": 16.69367099872897,
          "y": 195.83867760878104
         },
         {
          "edge": 47,
          "edge_betweenness": 8.323015873015873,
          "pair": [
           "Feuilly",
           "Bossuet"
          ],
          "source": "Feuilly",
          "target": "Bossuet",
          "value": 6,
          "weight": 6,
          "x": 20.09926976238233,
          "y": 214.05701617296882
         },
         {
          "edge": 47,
          "edge_betweenness": 8.323015873015873,
          "pair": [
           "Feuilly",
           "Bossuet"
          ],
          "source": "Feuilly",
          "target": "Bossuet",
          "value": 6,
          "weight": 6,
          "x": 20.099268233340233,
          "y": 187.0478162827841
         },
         {
          "edge": 48,
          "edge_betweenness": 1.1428571428571428,
          "pair": [
           "Feuilly",
           "Joly"
          ],
          "source": "Feuilly",
          "target": "Joly",
          "value": 5,
          "weight": 5,
          "x": 20.09926976238233,
          "y": 214.05701617296882
         },
         {
          "edge": 48,
          "edge_betweenness": 1.1428571428571428,
          "pair": [
           "Feuilly",
           "Joly"
          ],
          "source": "Feuilly",
          "target": "Joly",
          "value": 5,
          "weight": 5,
          "x": 26.450517665800593,
          "y": 180.08082618534692
         },
         {
          "edge": 49,
          "edge_betweenness": 2.924314574314574,
          "pair": [
           "Feuilly",
           "Grantaire"
          ],
          "source": "Feuilly",
          "target": "Grantaire",
          "value": 1,
          "weight": 1,
          "x": 20.09926976238233,
          "y": 214.05701617296882
         },
         {
          "edge": 49,
          "edge_betweenness": 2.924314574314574,
          "pair": [
           "Feuilly",
           "Grantaire"
          ],
          "source": "Feuilly",
          "target": "Grantaire",
          "value": 1,
          "weight": 1,
          "x": 34.88965496747164,
          "y": 175.87863471567314
         },
         {
          "edge": 50,
          "edge_betweenness": 1.6,
          "pair": [
           "Courfeyrac",
           "Bahorel"
          ],
          "source": "Courfeyrac",
          "target": "Bahorel",
          "value": 6,
          "weight": 6,
          "x": 16.69367099872897,
          "y": 205.2661548469719
         },
         {
          "edge": 50,
          "edge_betweenness": 1.6,
          "pair": [
           "Courfeyrac",
           "Bahorel"
          ],
          "source": "Courfeyrac",
          "target": "Bahorel",
          "value": 6,
          "weight": 6,
          "x": 16.69367099872897,
          "y": 195.83867760878104
         },
         {
          "edge": 51,
          "edge_betweenness": 8.553794244970716,
          "pair": [
           "Courfeyrac",
           "Bossuet"
          ],
          "source": "Courfeyrac",
          "target": "Bossuet",
          "value": 12,
          "weight": 12,
          "x": 16.69367099872897,
          "y": 205.2661548469719
         },
         {
          "edge": 51,
          "edge_betweenness": 8.553794244970716,
          "pair": [
           "Courfeyrac",
           "Bossuet"
          ],
          "source": "Courfeyrac",
          "target": "Bossuet",
          "value": 12,
          "weight": 12,
          "x": 20.099268233340233,
          "y": 187.0478162827841
         },
         {
          "edge": 52,
          "edge_betweenness": 1.6,
          "pair": [
           "Courfeyrac",
           "Joly"
          ],
          "source": "Courfeyrac",
          "target": "Joly",
          "value": 5,
          "weight": 5,
          "x": 16.69367099872897,
          "y": 205.2661548469719
         },
         {
          "edge": 52,
          "edge_betweenness": 1.6,
          "pair": [
           "Courfeyrac",
           "Joly"
          ],
          "source": "Courfeyrac",
          "target": "Joly",
          "value": 5,
          "weight": 5,
          "x": 26.450517665800593,
          "y": 180.08082618534692
         },
         {
          "edge": 53,
          "edge_betweenness": 4.429076479076478,
          "pair": [
           "Courfeyrac",
           "Grantaire"
          ],
          "source": "Courfeyrac",
          "target": "Grantaire",
          "value": 2,
          "weight": 2,
          "x": 16.69367099872897,
          "y": 205.2661548469719
         },
         {
          "edge": 53,
          "edge_betweenness": 4.429076479076478,
          "pair": [
           "Courfeyrac",
           "Grantaire"
          ],
          "source": "Courfeyrac",
          "target": "Grantaire",
          "value": 2,
          "weight": 2,
          "x": 34.88965496747164,
          "y": 175.87863471567314
         },
         {
          "edge": 54,
          "edge_betweenness": 5.318358395989975,
          "pair": [
           "Courfeyrac",
           "MmeHucheloup"
          ],
          "source": "Courfeyrac",
          "target": "MmeHucheloup",
          "value": 1,
          "weight": 1,
          "x": 16.69367099872897,
          "y": 205.2661548469719
         },
         {
          "edge": 54,
          "edge_betweenness": 5.318358395989975,
          "pair": [
           "Courfeyrac",
           "MmeHucheloup"
          ],
          "source": "Courfeyrac",
          "target": "MmeHucheloup",
          "value": 1,
          "weight": 1,
          "x": 65.83072315255377,
          "y": 191.28545706441406
         },
         {
          "edge": 55,
          "edge_betweenness": 8.18015873015873,
          "pair": [
           "Bahorel",
           "Bossuet"
          ],
          "source": "Bahorel",
          "target": "Bossuet",
          "value": 4,
          "weight": 4,
          "x": 16.69367099872897,
          "y": 195.83867760878104
         },
         {
          "edge": 55,
          "edge_betweenness": 8.18015873015873,
          "pair": [
           "Bahorel",
           "Bossuet"
          ],
          "source": "Bahorel",
          "target": "Bossuet",
          "value": 4,
          "weight": 4,
          "x": 20.099268233340233,
          "y": 187.0478162827841
         },
         {
          "edge": 56,
          "edge_betweenness": 1,
          "pair": [
           "Bahorel",
           "Joly"
          ],
          "source": "Bahorel",
          "target": "Joly",
          "value": 5,
          "weight": 5,
          "x": 16.69367099872897,
          "y": 195.83867760878104
         },
         {
          "edge": 56,
          "edge_betweenness": 1,
          "pair": [
           "Bahorel",
           "Joly"
          ],
          "source": "Bahorel",
          "target": "Joly",
          "value": 5,
          "weight": 5,
          "x": 26.450517665800593,
          "y": 180.08082618534692
         },
         {
          "edge": 57,
          "edge_betweenness": 2.781457431457431,
          "pair": [
           "Bahorel",
           "Grantaire"
          ],
          "source": "Bahorel",
          "target": "Grantaire",
          "value": 1,
          "weight": 1,
          "x": 16.69367099872897,
          "y": 195.83867760878104
         },
         {
          "edge": 57,
          "edge_betweenness": 2.781457431457431,
          "pair": [
           "Bahorel",
           "Grantaire"
          ],
          "source": "Bahorel",
          "target": "Grantaire",
          "value": 1,
          "weight": 1,
          "x": 34.88965496747164,
          "y": 175.87863471567314
         },
         {
          "edge": 58,
          "edge_betweenness": 3.6657268170426063,
          "pair": [
           "Bahorel",
           "MmeHucheloup"
          ],
          "source": "Bahorel",
          "target": "MmeHucheloup",
          "value": 1,
          "weight": 1,
          "x": 16.69367099872897,
          "y": 195.83867760878104
         },
         {
          "edge": 58,
          "edge_betweenness": 3.6657268170426063,
          "pair": [
           "Bahorel",
           "MmeHucheloup"
          ],
          "source": "Bahorel",
          "target": "MmeHucheloup",
          "value": 1,
          "weight": 1,
          "x": 65.83072315255377,
          "y": 191.28545706441406
         },
         {
          "edge": 59,
          "edge_betweenness": 8.18015873015873,
          "pair": [
           "Bossuet",
           "Joly"
          ],
          "source": "Bossuet",
          "target": "Joly",
          "value": 7,
          "weight": 7,
          "x": 20.099268233340233,
          "y": 187.0478162827841
         },
         {
          "edge": 59,
          "edge_betweenness": 8.18015873015873,
          "pair": [
           "Bossuet",
           "Joly"
          ],
          "source": "Bossuet",
          "target": "Joly",
          "value": 7,
          "weight": 7,
          "x": 26.450517665800593,
          "y": 180.08082618534692
         },
         {
          "edge": 60,
          "edge_betweenness": 13.214574314574316,
          "pair": [
           "Bossuet",
           "Grantaire"
          ],
          "source": "Bossuet",
          "target": "Grantaire",
          "value": 3,
          "weight": 3,
          "x": 20.099268233340233,
          "y": 187.0478162827841
         },
         {
          "edge": 60,
          "edge_betweenness": 13.214574314574316,
          "pair": [
           "Bossuet",
           "Grantaire"
          ],
          "source": "Bossuet",
          "target": "Grantaire",
          "value": 3,
          "weight": 3,
          "x": 34.88965496747164,
          "y": 175.87863471567314
         },
         {
          "edge": 61,
          "edge_betweenness": 14.265308156755522,
          "pair": [
           "Bossuet",
           "MmeHucheloup"
          ],
          "source": "Bossuet",
          "target": "MmeHucheloup",
          "value": 1,
          "weight": 1,
          "x": 20.099268233340233,
          "y": 187.0478162827841
         },
         {
          "edge": 61,
          "edge_betweenness": 14.265308156755522,
          "pair": [
           "Bossuet",
           "MmeHucheloup"
          ],
          "source": "Bossuet",
          "target": "MmeHucheloup",
          "value": 1,
          "weight": 1,
          "x": 65.83072315255377,
          "y": 191.28545706441406
         },
         {
          "edge": 62,
          "edge_betweenness": 2.781457431457431,
          "pair": [
           "Joly",
           "Grantaire"
          ],
          "source": "Joly",
          "target": "Grantaire",
          "value": 2,
          "weight": 2,
          "x": 26.450517665800593,
          "y": 180.08082618534692
         },
         {
          "edge": 62,
          "edge_betweenness": 2.781457431457431,
          "pair": [
           "Joly",
           "Grantaire"
          ],
          "source": "Joly",
          "target": "Grantaire",
          "value": 2,
          "weight": 2,
          "x": 34.88965496747164,
          "y": 175.87863471567314
         },
         {
          "edge": 63,
          "edge_betweenness": 3.6657268170426063,
          "pair": [
           "Joly",
           "MmeHucheloup"
          ],
          "source": "Joly",
          "target": "MmeHucheloup",
          "value": 1,
          "weight": 1,
          "x": 26.450517665800593,
          "y": 180.08082618534692
         },
         {
          "edge": 63,
          "edge_betweenness": 3.6657268170426063,
          "pair": [
           "Joly",
           "MmeHucheloup"
          ],
          "source": "Joly",
          "target": "MmeHucheloup",
          "value": 1,
          "weight": 1,
          "x": 65.83072315255377,
          "y": 191.28545706441406
         },
         {
          "edge": 64,
          "edge_betweenness": 1.4285714285714286,
          "pair": [
           "Grantaire",
           "MmeHucheloup"
          ],
          "source": "Grantaire",
          "target": "MmeHucheloup",
          "value": 1,
          "weight": 1,
          "x": 34.88965496747164,
          "y": 175.87863471567314
         },
         {
          "edge": 64,
          "edge_betweenness": 1.4285714285714286,
          "pair": [
           "Grantaire",
           "MmeHucheloup"
          ],
          "source": "Grantaire",
          "target": "MmeHucheloup",
          "value": 1,
          "weight": 1,
          "x": 65.83072315255377,
          "y": 191.28545706441406
         },
         {
          "edge": 65,
          "edge_betweenness": 1,
          "pair": [
           "Child1",
           "Child2"
          ],
          "source": "Child1",
          "target": "Child2",
          "value": 3,
          "weight": 3,
          "x": 53.34450576308558,
          "y": 177.58872915734037
         },
         {
          "edge": 65,
          "edge_betweenness": 1,
          "pair": [
           "Child1",
           "Child2"
          ],
          "source": "Child1",
          "target": "Child2",
          "value": 3,
          "weight": 3,
          "x": 60.86779042688706,
          "y": 183.2700502019799
         }
        ],
        "data-be2e1ad33a9a25addc874c272e8f990a": [
         {
          "__combo_size": 4624,
          "__node_r": 34,
          "__node_size": 4624,
          "__y_label": 378.3484347250741,
          "group": "2",
          "x": 491.6023162705465,
          "y": 424.3484347250741
         }
        ],
        "data-daad58c2f2979104407398bdbd53c098": [
         {
          "__combo_group_value": "2",
          "__node_r": 2.5,
          "__node_size": 25,
          "group": "2",
          "name": "Marguerite",
          "x": 512.0023162705465,
          "y": 424.3484351303857
         },
         {
          "__combo_group_value": "2",
          "__node_r": 2.5,
          "__node_size": 25,
          "group": "2",
          "name": "Tholomyes",
          "x": 507.2296228350146,
          "y": 437.4613015882661
         },
         {
          "__combo_group_value": "2",
          "__node_r": 2.5,
          "__node_size": 25,
          "group": "2",
          "name": "Listolier",
          "x": 495.1447401371203,
          "y": 444.4385126836442
         },
         {
          "__combo_group_value": "2",
          "__node_r": 2.5,
          "__node_size": 25,
          "group": "2",
          "name": "Fameuil",
          "x": 481.40231525726756,
          "y": 442.01535293349497
         },
         {
          "__combo_group_value": "2",
          "__node_r": 2.5,
          "__node_size": 25,
          "group": "2",
          "name": "Blacheville",
          "x": 472.4325871567672,
          "y": 431.3256474416985
         },
         {
          "__combo_group_value": "2",
          "__node_r": 2.5,
          "__node_size": 25,
          "group": "2",
          "name": "Favourite",
          "x": 472.4325871567672,
          "y": 417.37122403500763
         },
         {
          "__combo_group_value": "2",
          "__node_r": 2.5,
          "__node_size": 25,
          "group": "2",
          "name": "Dahlia",
          "x": 481.40231829710444,
          "y": 406.68151611134175
         },
         {
          "__combo_group_value": "2",
          "__node_r": 2.5,
          "__node_size": 25,
          "group": "2",
          "name": "Zephine",
          "x": 495.1447389211856,
          "y": 404.25835757712724
         },
         {
          "__combo_group_value": "2",
          "__node_r": 2.5,
          "__node_size": 25,
          "group": "2",
          "name": "Fantine",
          "x": 507.22962040314513,
          "y": 411.23556502470103
         }
        ],
        "data-e2b3b98aa826abddc0643e0aa2391a41": [
         {
          "edge": 0,
          "edge_betweenness": 13.53174603174603,
          "pair": [
           "Marguerite",
           "Fantine"
          ],
          "source": "Marguerite",
          "target": "Fantine",
          "value": 2,
          "weight": 2,
          "x": 512.0023162705465,
          "y": 424.3484351303857
         },
         {
          "edge": 0,
          "edge_betweenness": 13.53174603174603,
          "pair": [
           "Marguerite",
           "Fantine"
          ],
          "source": "Marguerite",
          "target": "Fantine",
          "value": 2,
          "weight": 2,
          "x": 507.22962040314513,
          "y": 411.23556502470103
         },
         {
          "edge": 1,
          "edge_betweenness": 19.826190476190476,
          "pair": [
           "Tholomyes",
           "Listolier"
          ],
          "source": "Tholomyes",
          "target": "Listolier",
          "value": 4,
          "weight": 4,
          "x": 507.2296228350146,
          "y": 437.4613015882661
         },
         {
          "edge": 1,
          "edge_betweenness": 19.826190476190476,
          "pair": [
           "Tholomyes",
           "Listolier"
          ],
          "source": "Tholomyes",
          "target": "Listolier",
          "value": 4,
          "weight": 4,
          "x": 495.1447401371203,
          "y": 444.4385126836442
         },
         {
          "edge": 2,
          "edge_betweenness": 19.826190476190476,
          "pair": [
           "Tholomyes",
           "Fameuil"
          ],
          "source": "Tholomyes",
          "target": "Fameuil",
          "value": 4,
          "weight": 4,
          "x": 507.2296228350146,
          "y": 437.4613015882661
         },
         {
          "edge": 2,
          "edge_betweenness": 19.826190476190476,
          "pair": [
           "Tholomyes",
           "Fameuil"
          ],
          "source": "Tholomyes",
          "target": "Fameuil",
          "value": 4,
          "weight": 4,
          "x": 481.40231525726756,
          "y": 442.01535293349497
         },
         {
          "edge": 3,
          "edge_betweenness": 19.826190476190476,
          "pair": [
           "Tholomyes",
           "Blacheville"
          ],
          "source": "Tholomyes",
          "target": "Blacheville",
          "value": 4,
          "weight": 4,
          "x": 507.2296228350146,
          "y": 437.4613015882661
         },
         {
          "edge": 3,
          "edge_betweenness": 19.826190476190476,
          "pair": [
           "Tholomyes",
           "Blacheville"
          ],
          "source": "Tholomyes",
          "target": "Blacheville",
          "value": 4,
          "weight": 4,
          "x": 472.4325871567672,
          "y": 431.3256474416985
         },
         {
          "edge": 4,
          "edge_betweenness": 19.826190476190476,
          "pair": [
           "Tholomyes",
           "Favourite"
          ],
          "source": "Tholomyes",
          "target": "Favourite",
          "value": 3,
          "weight": 3,
          "x": 507.2296228350146,
          "y": 437.4613015882661
         },
         {
          "edge": 4,
          "edge_betweenness": 19.826190476190476,
          "pair": [
           "Tholomyes",
           "Favourite"
          ],
          "source": "Tholomyes",
          "target": "Favourite",
          "value": 3,
          "weight": 3,
          "x": 472.4325871567672,
          "y": 417.37122403500763
         },
         {
          "edge": 5,
          "edge_betweenness": 19.826190476190476,
          "pair": [
           "Tholomyes",
           "Dahlia"
          ],
          "source": "Tholomyes",
          "target": "Dahlia",
          "value": 3,
          "weight": 3,
          "x": 507.2296228350146,
          "y": 437.4613015882661
         },
         {
          "edge": 5,
          "edge_betweenness": 19.826190476190476,
          "pair": [
           "Tholomyes",
           "Dahlia"
          ],
          "source": "Tholomyes",
          "target": "Dahlia",
          "value": 3,
          "weight": 3,
          "x": 481.40231829710444,
          "y": 406.68151611134175
         },
         {
          "edge": 6,
          "edge_betweenness": 19.826190476190476,
          "pair": [
           "Tholomyes",
           "Zephine"
          ],
          "source": "Tholomyes",
          "target": "Zephine",
          "value": 3,
          "weight": 3,
          "x": 507.2296228350146,
          "y": 437.4613015882661
         },
         {
          "edge": 6,
          "edge_betweenness": 19.826190476190476,
          "pair": [
           "Tholomyes",
           "Zephine"
          ],
          "source": "Tholomyes",
          "target": "Zephine",
          "value": 3,
          "weight": 3,
          "x": 495.1447389211856,
          "y": 404.25835757712724
         },
         {
          "edge": 7,
          "edge_betweenness": 20.953166114930823,
          "pair": [
           "Tholomyes",
           "Fantine"
          ],
          "source": "Tholomyes",
          "target": "Fantine",
          "value": 3,
          "weight": 3,
          "x": 507.2296228350146,
          "y": 437.4613015882661
         },
         {
          "edge": 7,
          "edge_betweenness": 20.953166114930823,
          "pair": [
           "Tholomyes",
           "Fantine"
          ],
          "source": "Tholomyes",
          "target": "Fantine",
          "value": 3,
          "weight": 3,
          "x": 507.22962040314513,
          "y": 411.23556502470103
         },
         {
          "edge": 8,
          "edge_betweenness": 1,
          "pair": [
           "Listolier",
           "Fameuil"
          ],
          "source": "Listolier",
          "target": "Fameuil",
          "value": 4,
          "weight": 4,
          "x": 495.1447401371203,
          "y": 444.4385126836442
         },
         {
          "edge": 8,
          "edge_betweenness": 1,
          "pair": [
           "Listolier",
           "Fameuil"
          ],
          "source": "Listolier",
          "target": "Fameuil",
          "value": 4,
          "weight": 4,
          "x": 481.40231525726756,
          "y": 442.01535293349497
         },
         {
          "edge": 9,
          "edge_betweenness": 1,
          "pair": [
           "Listolier",
           "Blacheville"
          ],
          "source": "Listolier",
          "target": "Blacheville",
          "value": 4,
          "weight": 4,
          "x": 495.1447401371203,
          "y": 444.4385126836442
         },
         {
          "edge": 9,
          "edge_betweenness": 1,
          "pair": [
           "Listolier",
           "Blacheville"
          ],
          "source": "Listolier",
          "target": "Blacheville",
          "value": 4,
          "weight": 4,
          "x": 472.4325871567672,
          "y": 431.3256474416985
         },
         {
          "edge": 10,
          "edge_betweenness": 1,
          "pair": [
           "Listolier",
           "Favourite"
          ],
          "source": "Listolier",
          "target": "Favourite",
          "value": 3,
          "weight": 3,
          "x": 495.1447401371203,
          "y": 444.4385126836442
         },
         {
          "edge": 10,
          "edge_betweenness": 1,
          "pair": [
           "Listolier",
           "Favourite"
          ],
          "source": "Listolier",
          "target": "Favourite",
          "value": 3,
          "weight": 3,
          "x": 472.4325871567672,
          "y": 417.37122403500763
         },
         {
          "edge": 11,
          "edge_betweenness": 1,
          "pair": [
           "Listolier",
           "Dahlia"
          ],
          "source": "Listolier",
          "target": "Dahlia",
          "value": 3,
          "weight": 3,
          "x": 495.1447401371203,
          "y": 444.4385126836442
         },
         {
          "edge": 11,
          "edge_betweenness": 1,
          "pair": [
           "Listolier",
           "Dahlia"
          ],
          "source": "Listolier",
          "target": "Dahlia",
          "value": 3,
          "weight": 3,
          "x": 481.40231829710444,
          "y": 406.68151611134175
         },
         {
          "edge": 12,
          "edge_betweenness": 1,
          "pair": [
           "Listolier",
           "Zephine"
          ],
          "source": "Listolier",
          "target": "Zephine",
          "value": 3,
          "weight": 3,
          "x": 495.1447401371203,
          "y": 444.4385126836442
         },
         {
          "edge": 12,
          "edge_betweenness": 1,
          "pair": [
           "Listolier",
           "Zephine"
          ],
          "source": "Listolier",
          "target": "Zephine",
          "value": 3,
          "weight": 3,
          "x": 495.1447389211856,
          "y": 404.25835757712724
         },
         {
          "edge": 13,
          "edge_betweenness": 51.173809523809524,
          "pair": [
           "Listolier",
           "Fantine"
          ],
          "source": "Listolier",
          "target": "Fantine",
          "value": 3,
          "weight": 3,
          "x": 495.1447401371203,
          "y": 444.4385126836442
         },
         {
          "edge": 13,
          "edge_betweenness": 51.173809523809524,
          "pair": [
           "Listolier",
           "Fantine"
          ],
          "source": "Listolier",
          "target": "Fantine",
          "value": 3,
          "weight": 3,
          "x": 507.22962040314513,
          "y": 411.23556502470103
         },
         {
          "edge": 14,
          "edge_betweenness": 1,
          "pair": [
           "Fameuil",
           "Blacheville"
          ],
          "source": "Fameuil",
          "target": "Blacheville",
          "value": 4,
          "weight": 4,
          "x": 481.40231525726756,
          "y": 442.01535293349497
         },
         {
          "edge": 14,
          "edge_betweenness": 1,
          "pair": [
           "Fameuil",
           "Blacheville"
          ],
          "source": "Fameuil",
          "target": "Blacheville",
          "value": 4,
          "weight": 4,
          "x": 472.4325871567672,
          "y": 431.3256474416985
         },
         {
          "edge": 15,
          "edge_betweenness": 1,
          "pair": [
           "Fameuil",
           "Favourite"
          ],
          "source": "Fameuil",
          "target": "Favourite",
          "value": 3,
          "weight": 3,
          "x": 481.40231525726756,
          "y": 442.01535293349497
         },
         {
          "edge": 15,
          "edge_betweenness": 1,
          "pair": [
           "Fameuil",
           "Favourite"
          ],
          "source": "Fameuil",
          "target": "Favourite",
          "value": 3,
          "weight": 3,
          "x": 472.4325871567672,
          "y": 417.37122403500763
         },
         {
          "edge": 16,
          "edge_betweenness": 1,
          "pair": [
           "Fameuil",
           "Dahlia"
          ],
          "source": "Fameuil",
          "target": "Dahlia",
          "value": 3,
          "weight": 3,
          "x": 481.40231525726756,
          "y": 442.01535293349497
         },
         {
          "edge": 16,
          "edge_betweenness": 1,
          "pair": [
           "Fameuil",
           "Dahlia"
          ],
          "source": "Fameuil",
          "target": "Dahlia",
          "value": 3,
          "weight": 3,
          "x": 481.40231829710444,
          "y": 406.68151611134175
         },
         {
          "edge": 17,
          "edge_betweenness": 1,
          "pair": [
           "Fameuil",
           "Zephine"
          ],
          "source": "Fameuil",
          "target": "Zephine",
          "value": 3,
          "weight": 3,
          "x": 481.40231525726756,
          "y": 442.01535293349497
         },
         {
          "edge": 17,
          "edge_betweenness": 1,
          "pair": [
           "Fameuil",
           "Zephine"
          ],
          "source": "Fameuil",
          "target": "Zephine",
          "value": 3,
          "weight": 3,
          "x": 495.1447389211856,
          "y": 404.25835757712724
         },
         {
          "edge": 18,
          "edge_betweenness": 51.173809523809524,
          "pair": [
           "Fameuil",
           "Fantine"
          ],
          "source": "Fameuil",
          "target": "Fantine",
          "value": 3,
          "weight": 3,
          "x": 481.40231525726756,
          "y": 442.01535293349497
         },
         {
          "edge": 18,
          "edge_betweenness": 51.173809523809524,
          "pair": [
           "Fameuil",
           "Fantine"
          ],
          "source": "Fameuil",
          "target": "Fantine",
          "value": 3,
          "weight": 3,
          "x": 507.22962040314513,
          "y": 411.23556502470103
         },
         {
          "edge": 19,
          "edge_betweenness": 1,
          "pair": [
           "Blacheville",
           "Favourite"
          ],
          "source": "Blacheville",
          "target": "Favourite",
          "value": 4,
          "weight": 4,
          "x": 472.4325871567672,
          "y": 431.3256474416985
         },
         {
          "edge": 19,
          "edge_betweenness": 1,
          "pair": [
           "Blacheville",
           "Favourite"
          ],
          "source": "Blacheville",
          "target": "Favourite",
          "value": 4,
          "weight": 4,
          "x": 472.4325871567672,
          "y": 417.37122403500763
         },
         {
          "edge": 20,
          "edge_betweenness": 1,
          "pair": [
           "Blacheville",
           "Dahlia"
          ],
          "source": "Blacheville",
          "target": "Dahlia",
          "value": 3,
          "weight": 3,
          "x": 472.4325871567672,
          "y": 431.3256474416985
         },
         {
          "edge": 20,
          "edge_betweenness": 1,
          "pair": [
           "Blacheville",
           "Dahlia"
          ],
          "source": "Blacheville",
          "target": "Dahlia",
          "value": 3,
          "weight": 3,
          "x": 481.40231829710444,
          "y": 406.68151611134175
         },
         {
          "edge": 21,
          "edge_betweenness": 1,
          "pair": [
           "Blacheville",
           "Zephine"
          ],
          "source": "Blacheville",
          "target": "Zephine",
          "value": 3,
          "weight": 3,
          "x": 472.4325871567672,
          "y": 431.3256474416985
         },
         {
          "edge": 21,
          "edge_betweenness": 1,
          "pair": [
           "Blacheville",
           "Zephine"
          ],
          "source": "Blacheville",
          "target": "Zephine",
          "value": 3,
          "weight": 3,
          "x": 495.1447389211856,
          "y": 404.25835757712724
         },
         {
          "edge": 22,
          "edge_betweenness": 51.173809523809524,
          "pair": [
           "Blacheville",
           "Fantine"
          ],
          "source": "Blacheville",
          "target": "Fantine",
          "value": 3,
          "weight": 3,
          "x": 472.4325871567672,
          "y": 431.3256474416985
         },
         {
          "edge": 22,
          "edge_betweenness": 51.173809523809524,
          "pair": [
           "Blacheville",
           "Fantine"
          ],
          "source": "Blacheville",
          "target": "Fantine",
          "value": 3,
          "weight": 3,
          "x": 507.22962040314513,
          "y": 411.23556502470103
         },
         {
          "edge": 23,
          "edge_betweenness": 1,
          "pair": [
           "Favourite",
           "Dahlia"
          ],
          "source": "Favourite",
          "target": "Dahlia",
          "value": 5,
          "weight": 5,
          "x": 472.4325871567672,
          "y": 417.37122403500763
         },
         {
          "edge": 23,
          "edge_betweenness": 1,
          "pair": [
           "Favourite",
           "Dahlia"
          ],
          "source": "Favourite",
          "target": "Dahlia",
          "value": 5,
          "weight": 5,
          "x": 481.40231829710444,
          "y": 406.68151611134175
         },
         {
          "edge": 24,
          "edge_betweenness": 1,
          "pair": [
           "Favourite",
           "Zephine"
          ],
          "source": "Favourite",
          "target": "Zephine",
          "value": 4,
          "weight": 4,
          "x": 472.4325871567672,
          "y": 417.37122403500763
         },
         {
          "edge": 24,
          "edge_betweenness": 1,
          "pair": [
           "Favourite",
           "Zephine"
          ],
          "source": "Favourite",
          "target": "Zephine",
          "value": 4,
          "weight": 4,
          "x": 495.1447389211856,
          "y": 404.25835757712724
         },
         {
          "edge": 25,
          "edge_betweenness": 51.173809523809524,
          "pair": [
           "Favourite",
           "Fantine"
          ],
          "source": "Favourite",
          "target": "Fantine",
          "value": 4,
          "weight": 4,
          "x": 472.4325871567672,
          "y": 417.37122403500763
         },
         {
          "edge": 25,
          "edge_betweenness": 51.173809523809524,
          "pair": [
           "Favourite",
           "Fantine"
          ],
          "source": "Favourite",
          "target": "Fantine",
          "value": 4,
          "weight": 4,
          "x": 507.22962040314513,
          "y": 411.23556502470103
         },
         {
          "edge": 26,
          "edge_betweenness": 1,
          "pair": [
           "Dahlia",
           "Zephine"
          ],
          "source": "Dahlia",
          "target": "Zephine",
          "value": 4,
          "weight": 4,
          "x": 481.40231829710444,
          "y": 406.68151611134175
         },
         {
          "edge": 26,
          "edge_betweenness": 1,
          "pair": [
           "Dahlia",
           "Zephine"
          ],
          "source": "Dahlia",
          "target": "Zephine",
          "value": 4,
          "weight": 4,
          "x": 495.1447389211856,
          "y": 404.25835757712724
         },
         {
          "edge": 27,
          "edge_betweenness": 51.173809523809524,
          "pair": [
           "Dahlia",
           "Fantine"
          ],
          "source": "Dahlia",
          "target": "Fantine",
          "value": 4,
          "weight": 4,
          "x": 481.40231829710444,
          "y": 406.68151611134175
         },
         {
          "edge": 27,
          "edge_betweenness": 51.173809523809524,
          "pair": [
           "Dahlia",
           "Fantine"
          ],
          "source": "Dahlia",
          "target": "Fantine",
          "value": 4,
          "weight": 4,
          "x": 507.22962040314513,
          "y": 411.23556502470103
         },
         {
          "edge": 28,
          "edge_betweenness": 51.173809523809524,
          "pair": [
           "Zephine",
           "Fantine"
          ],
          "source": "Zephine",
          "target": "Fantine",
          "value": 4,
          "weight": 4,
          "x": 495.1447389211856,
          "y": 404.25835757712724
         },
         {
          "edge": 28,
          "edge_betweenness": 51.173809523809524,
          "pair": [
           "Zephine",
           "Fantine"
          ],
          "source": "Zephine",
          "target": "Fantine",
          "value": 4,
          "weight": 4,
          "x": 507.22962040314513,
          "y": 411.23556502470103
         }
        ],
        "data-eb30f3b045b0a7f6ec24940a0e038a96": [
         {
          "edge": 0,
          "edge_betweenness": 9.589536340852128,
          "pair": [
           "MmeThenardier",
           "Thenardier"
          ],
          "source": "MmeThenardier",
          "target": "Thenardier",
          "value": 13,
          "weight": 13,
          "x": 265.47673841177357,
          "y": 63.63783394188574
         },
         {
          "edge": 0,
          "edge_betweenness": 9.589536340852128,
          "pair": [
           "MmeThenardier",
           "Thenardier"
          ],
          "source": "MmeThenardier",
          "target": "Thenardier",
          "value": 13,
          "weight": 13,
          "x": 261.44161524476107,
          "y": 76.05666644172324
         },
         {
          "edge": 1,
          "edge_betweenness": 17.35939964748014,
          "pair": [
           "MmeThenardier",
           "Eponine"
          ],
          "source": "MmeThenardier",
          "target": "Eponine",
          "value": 2,
          "weight": 2,
          "x": 265.47673841177357,
          "y": 63.63783394188574
         },
         {
          "edge": 1,
          "edge_betweenness": 17.35939964748014,
          "pair": [
           "MmeThenardier",
           "Eponine"
          ],
          "source": "MmeThenardier",
          "target": "Eponine",
          "value": 2,
          "weight": 2,
          "x": 237.81959078703161,
          "y": 83.73192655287475
         },
         {
          "edge": 2,
          "edge_betweenness": 25.071428571428584,
          "pair": [
           "MmeThenardier",
           "Anzelma"
          ],
          "source": "MmeThenardier",
          "target": "Anzelma",
          "value": 1,
          "weight": 1,
          "x": 265.47673841177357,
          "y": 63.63783394188574
         },
         {
          "edge": 2,
          "edge_betweenness": 25.071428571428584,
          "pair": [
           "MmeThenardier",
           "Anzelma"
          ],
          "source": "MmeThenardier",
          "target": "Anzelma",
          "value": 1,
          "weight": 1,
          "x": 227.25550136267194,
          "y": 76.05666644172324
         },
         {
          "edge": 3,
          "edge_betweenness": 7.863345864661652,
          "pair": [
           "MmeThenardier",
           "Gueulemer"
          ],
          "source": "MmeThenardier",
          "target": "Gueulemer",
          "value": 1,
          "weight": 1,
          "x": 265.47673841177357,
          "y": 63.63783394188574
         },
         {
          "edge": 3,
          "edge_betweenness": 7.863345864661652,
          "pair": [
           "MmeThenardier",
           "Gueulemer"
          ],
          "source": "MmeThenardier",
          "target": "Gueulemer",
          "value": 1,
          "weight": 1,
          "x": 223.22037819565946,
          "y": 63.63783209480157
         },
         {
          "edge": 4,
          "edge_betweenness": 7.863345864661652,
          "pair": [
           "MmeThenardier",
           "Babet"
          ],
          "source": "MmeThenardier",
          "target": "Babet",
          "value": 1,
          "weight": 1,
          "x": 265.47673841177357,
          "y": 63.63783394188574
         },
         {
          "edge": 4,
          "edge_betweenness": 7.863345864661652,
          "pair": [
           "MmeThenardier",
           "Babet"
          ],
          "source": "MmeThenardier",
          "target": "Babet",
          "value": 1,
          "weight": 1,
          "x": 227.2555026220096,
          "y": 51.219000182710566
         },
         {
          "edge": 5,
          "edge_betweenness": 6.765726817042606,
          "pair": [
           "MmeThenardier",
           "Claquesous"
          ],
          "source": "MmeThenardier",
          "target": "Claquesous",
          "value": 1,
          "weight": 1,
          "x": 265.47673841177357,
          "y": 63.63783394188574
         },
         {
          "edge": 5,
          "edge_betweenness": 6.765726817042606,
          "pair": [
           "MmeThenardier",
           "Claquesous"
          ],
          "source": "MmeThenardier",
          "target": "Claquesous",
          "value": 1,
          "weight": 1,
          "x": 237.81958889802513,
          "y": 43.54374133089671
         },
         {
          "edge": 6,
          "edge_betweenness": 76,
          "pair": [
           "Thenardier",
           "Boulatruelle"
          ],
          "source": "Thenardier",
          "target": "Boulatruelle",
          "value": 1,
          "weight": 1,
          "x": 261.44161524476107,
          "y": 76.05666644172324
         },
         {
          "edge": 6,
          "edge_betweenness": 76,
          "pair": [
           "Thenardier",
           "Boulatruelle"
          ],
          "source": "Thenardier",
          "target": "Boulatruelle",
          "value": 1,
          "weight": 1,
          "x": 250.87752456106372,
          "y": 83.73192781221243
         },
         {
          "edge": 7,
          "edge_betweenness": 14.009149020913723,
          "pair": [
           "Thenardier",
           "Eponine"
          ],
          "source": "Thenardier",
          "target": "Eponine",
          "value": 3,
          "weight": 3,
          "x": 261.44161524476107,
          "y": 76.05666644172324
         },
         {
          "edge": 7,
          "edge_betweenness": 14.009149020913723,
          "pair": [
           "Thenardier",
           "Eponine"
          ],
          "source": "Thenardier",
          "target": "Eponine",
          "value": 3,
          "weight": 3,
          "x": 237.81959078703161,
          "y": 83.73192655287475
         },
         {
          "edge": 8,
          "edge_betweenness": 38.373809523809534,
          "pair": [
           "Thenardier",
           "Anzelma"
          ],
          "source": "Thenardier",
          "target": "Anzelma",
          "value": 2,
          "weight": 2,
          "x": 261.44161524476107,
          "y": 76.05666644172324
         },
         {
          "edge": 8,
          "edge_betweenness": 38.373809523809534,
          "pair": [
           "Thenardier",
           "Anzelma"
          ],
          "source": "Thenardier",
          "target": "Anzelma",
          "value": 2,
          "weight": 2,
          "x": 227.25550136267194,
          "y": 76.05666644172324
         },
         {
          "edge": 9,
          "edge_betweenness": 6.9,
          "pair": [
           "Thenardier",
           "Gueulemer"
          ],
          "source": "Thenardier",
          "target": "Gueulemer",
          "value": 5,
          "weight": 5,
          "x": 261.44161524476107,
          "y": 76.05666644172324
         },
         {
          "edge": 9,
          "edge_betweenness": 6.9,
          "pair": [
           "Thenardier",
           "Gueulemer"
          ],
          "source": "Thenardier",
          "target": "Gueulemer",
          "value": 5,
          "weight": 5,
          "x": 223.22037819565946,
          "y": 63.63783209480157
         },
         {
          "edge": 10,
          "edge_betweenness": 6.9,
          "pair": [
           "Thenardier",
           "Babet"
          ],
          "source": "Thenardier",
          "target": "Babet",
          "value": 6,
          "weight": 6,
          "x": 261.44161524476107,
          "y": 76.05666644172324
         },
         {
          "edge": 10,
          "edge_betweenness": 6.9,
          "pair": [
           "Thenardier",
           "Babet"
          ],
          "source": "Thenardier",
          "target": "Babet",
          "value": 6,
          "weight": 6,
          "x": 227.2555026220096,
          "y": 51.219000182710566
         },
         {
          "edge": 11,
          "edge_betweenness": 8.008333333333333,
          "pair": [
           "Thenardier",
           "Claquesous"
          ],
          "source": "Thenardier",
          "target": "Claquesous",
          "value": 4,
          "weight": 4,
          "x": 261.44161524476107,
          "y": 76.05666644172324
         },
         {
          "edge": 11,
          "edge_betweenness": 8.008333333333333,
          "pair": [
           "Thenardier",
           "Claquesous"
          ],
          "source": "Thenardier",
          "target": "Claquesous",
          "value": 4,
          "weight": 4,
          "x": 237.81958889802513,
          "y": 43.54374133089671
         },
         {
          "edge": 12,
          "edge_betweenness": 8.106746031746031,
          "pair": [
           "Thenardier",
           "Montparnasse"
          ],
          "source": "Thenardier",
          "target": "Montparnasse",
          "value": 1,
          "weight": 1,
          "x": 261.44161524476107,
          "y": 76.05666644172324
         },
         {
          "edge": 12,
          "edge_betweenness": 8.106746031746031,
          "pair": [
           "Thenardier",
           "Montparnasse"
          ],
          "source": "Thenardier",
          "target": "Montparnasse",
          "value": 1,
          "weight": 1,
          "x": 250.8775277094079,
          "y": 43.54374133089671
         },
         {
          "edge": 13,
          "edge_betweenness": 22.108791208791207,
          "pair": [
           "Thenardier",
           "Brujon"
          ],
          "source": "Thenardier",
          "target": "Brujon",
          "value": 3,
          "weight": 3,
          "x": 261.44161524476107,
          "y": 76.05666644172324
         },
         {
          "edge": 13,
          "edge_betweenness": 22.108791208791207,
          "pair": [
           "Thenardier",
           "Brujon"
          ],
          "source": "Thenardier",
          "target": "Brujon",
          "value": 3,
          "weight": 3,
          "x": 261.4416139854234,
          "y": 51.219000182710566
         },
         {
          "edge": 14,
          "edge_betweenness": 12.554761904761904,
          "pair": [
           "Eponine",
           "Anzelma"
          ],
          "source": "Eponine",
          "target": "Anzelma",
          "value": 2,
          "weight": 2,
          "x": 237.81959078703161,
          "y": 83.73192655287475
         },
         {
          "edge": 14,
          "edge_betweenness": 12.554761904761904,
          "pair": [
           "Eponine",
           "Anzelma"
          ],
          "source": "Eponine",
          "target": "Anzelma",
          "value": 2,
          "weight": 2,
          "x": 227.25550136267194,
          "y": 76.05666644172324
         },
         {
          "edge": 15,
          "edge_betweenness": 8.490506715506715,
          "pair": [
           "Eponine",
           "Gueulemer"
          ],
          "source": "Eponine",
          "target": "Gueulemer",
          "value": 1,
          "weight": 1,
          "x": 237.81959078703161,
          "y": 83.73192655287475
         },
         {
          "edge": 15,
          "edge_betweenness": 8.490506715506715,
          "pair": [
           "Eponine",
           "Gueulemer"
          ],
          "source": "Eponine",
          "target": "Gueulemer",
          "value": 1,
          "weight": 1,
          "x": 223.22037819565946,
          "y": 63.63783209480157
         },
         {
          "edge": 16,
          "edge_betweenness": 8.490506715506715,
          "pair": [
           "Eponine",
           "Babet"
          ],
          "source": "Eponine",
          "target": "Babet",
          "value": 1,
          "weight": 1,
          "x": 237.81959078703161,
          "y": 83.73192655287475
         },
         {
          "edge": 16,
          "edge_betweenness": 8.490506715506715,
          "pair": [
           "Eponine",
           "Babet"
          ],
          "source": "Eponine",
          "target": "Babet",
          "value": 1,
          "weight": 1,
          "x": 227.2555026220096,
          "y": 51.219000182710566
         },
         {
          "edge": 17,
          "edge_betweenness": 8.198840048840047,
          "pair": [
           "Eponine",
           "Claquesous"
          ],
          "source": "Eponine",
          "target": "Claquesous",
          "value": 1,
          "weight": 1,
          "x": 237.81959078703161,
          "y": 83.73192655287475
         },
         {
          "edge": 17,
          "edge_betweenness": 8.198840048840047,
          "pair": [
           "Eponine",
           "Claquesous"
          ],
          "source": "Eponine",
          "target": "Claquesous",
          "value": 1,
          "weight": 1,
          "x": 237.81958889802513,
          "y": 43.54374133089671
         },
         {
          "edge": 18,
          "edge_betweenness": 8.9528083028083,
          "pair": [
           "Eponine",
           "Montparnasse"
          ],
          "source": "Eponine",
          "target": "Montparnasse",
          "value": 1,
          "weight": 1,
          "x": 237.81959078703161,
          "y": 83.73192655287475
         },
         {
          "edge": 18,
          "edge_betweenness": 8.9528083028083,
          "pair": [
           "Eponine",
           "Montparnasse"
          ],
          "source": "Eponine",
          "target": "Montparnasse",
          "value": 1,
          "weight": 1,
          "x": 250.8775277094079,
          "y": 43.54374133089671
         },
         {
          "edge": 19,
          "edge_betweenness": 5.441666666666666,
          "pair": [
           "Eponine",
           "Brujon"
          ],
          "source": "Eponine",
          "target": "Brujon",
          "value": 1,
          "weight": 1,
          "x": 237.81959078703161,
          "y": 83.73192655287475
         },
         {
          "edge": 19,
          "edge_betweenness": 5.441666666666666,
          "pair": [
           "Eponine",
           "Brujon"
          ],
          "source": "Eponine",
          "target": "Brujon",
          "value": 1,
          "weight": 1,
          "x": 261.4416139854234,
          "y": 51.219000182710566
         },
         {
          "edge": 20,
          "edge_betweenness": 1,
          "pair": [
           "Gueulemer",
           "Babet"
          ],
          "source": "Gueulemer",
          "target": "Babet",
          "value": 6,
          "weight": 6,
          "x": 223.22037819565946,
          "y": 63.63783209480157
         },
         {
          "edge": 20,
          "edge_betweenness": 1,
          "pair": [
           "Gueulemer",
           "Babet"
          ],
          "source": "Gueulemer",
          "target": "Babet",
          "value": 6,
          "weight": 6,
          "x": 227.2555026220096,
          "y": 51.219000182710566
         },
         {
          "edge": 21,
          "edge_betweenness": 1.875,
          "pair": [
           "Gueulemer",
           "Claquesous"
          ],
          "source": "Gueulemer",
          "target": "Claquesous",
          "value": 4,
          "weight": 4,
          "x": 223.22037819565946,
          "y": 63.63783209480157
         },
         {
          "edge": 21,
          "edge_betweenness": 1.875,
          "pair": [
           "Gueulemer",
           "Claquesous"
          ],
          "source": "Gueulemer",
          "target": "Claquesous",
          "value": 4,
          "weight": 4,
          "x": 237.81958889802513,
          "y": 43.54374133089671
         },
         {
          "edge": 22,
          "edge_betweenness": 1.2678571428571428,
          "pair": [
           "Gueulemer",
           "Montparnasse"
          ],
          "source": "Gueulemer",
          "target": "Montparnasse",
          "value": 2,
          "weight": 2,
          "x": 223.22037819565946,
          "y": 63.63783209480157
         },
         {
          "edge": 22,
          "edge_betweenness": 1.2678571428571428,
          "pair": [
           "Gueulemer",
           "Montparnasse"
          ],
          "source": "Gueulemer",
          "target": "Montparnasse",
          "value": 2,
          "weight": 2,
          "x": 250.8775277094079,
          "y": 43.54374133089671
         },
         {
          "edge": 23,
          "edge_betweenness": 6.791575091575092,
          "pair": [
           "Gueulemer",
           "Brujon"
          ],
          "source": "Gueulemer",
          "target": "Brujon",
          "value": 3,
          "weight": 3,
          "x": 223.22037819565946,
          "y": 63.63783209480157
         },
         {
          "edge": 23,
          "edge_betweenness": 6.791575091575092,
          "pair": [
           "Gueulemer",
           "Brujon"
          ],
          "source": "Gueulemer",
          "target": "Brujon",
          "value": 3,
          "weight": 3,
          "x": 261.4416139854234,
          "y": 51.219000182710566
         },
         {
          "edge": 24,
          "edge_betweenness": 1.875,
          "pair": [
           "Babet",
           "Claquesous"
          ],
          "source": "Babet",
          "target": "Claquesous",
          "value": 4,
          "weight": 4,
          "x": 227.2555026220096,
          "y": 51.219000182710566
         },
         {
          "edge": 24,
          "edge_betweenness": 1.875,
          "pair": [
           "Babet",
           "Claquesous"
          ],
          "source": "Babet",
          "target": "Claquesous",
          "value": 4,
          "weight": 4,
          "x": 237.81958889802513,
          "y": 43.54374133089671
         },
         {
          "edge": 25,
          "edge_betweenness": 1.2678571428571428,
          "pair": [
           "Babet",
           "Montparnasse"
          ],
          "source": "Babet",
          "target": "Montparnasse",
          "value": 2,
          "weight": 2,
          "x": 227.2555026220096,
          "y": 51.219000182710566
         },
         {
          "edge": 25,
          "edge_betweenness": 1.2678571428571428,
          "pair": [
           "Babet",
           "Montparnasse"
          ],
          "source": "Babet",
          "target": "Montparnasse",
          "value": 2,
          "weight": 2,
          "x": 250.8775277094079,
          "y": 43.54374133089671
         },
         {
          "edge": 26,
          "edge_betweenness": 6.791575091575092,
          "pair": [
           "Babet",
           "Brujon"
          ],
          "source": "Babet",
          "target": "Brujon",
          "value": 3,
          "weight": 3,
          "x": 227.2555026220096,
          "y": 51.219000182710566
         },
         {
          "edge": 26,
          "edge_betweenness": 6.791575091575092,
          "pair": [
           "Babet",
           "Brujon"
          ],
          "source": "Babet",
          "target": "Brujon",
          "value": 3,
          "weight": 3,
          "x": 261.4416139854234,
          "y": 51.219000182710566
         },
         {
          "edge": 27,
          "edge_betweenness": 2.142857142857143,
          "pair": [
           "Claquesous",
           "Montparnasse"
          ],
          "source": "Claquesous",
          "target": "Montparnasse",
          "value": 2,
          "weight": 2,
          "x": 237.81958889802513,
          "y": 43.54374133089671
         },
         {
          "edge": 27,
          "edge_betweenness": 2.142857142857143,
          "pair": [
           "Claquesous",
           "Montparnasse"
          ],
          "source": "Claquesous",
          "target": "Montparnasse",
          "value": 2,
          "weight": 2,
          "x": 250.8775277094079,
          "y": 43.54374133089671
         },
         {
          "edge": 28,
          "edge_betweenness": 7.916575091575091,
          "pair": [
           "Claquesous",
           "Brujon"
          ],
          "source": "Claquesous",
          "target": "Brujon",
          "value": 1,
          "weight": 1,
          "x": 237.81958889802513,
          "y": 43.54374133089671
         },
         {
          "edge": 28,
          "edge_betweenness": 7.916575091575091,
          "pair": [
           "Claquesous",
           "Brujon"
          ],
          "source": "Claquesous",
          "target": "Brujon",
          "value": 1,
          "weight": 1,
          "x": 261.4416139854234,
          "y": 51.219000182710566
         },
         {
          "edge": 29,
          "edge_betweenness": 6.391575091575092,
          "pair": [
           "Montparnasse",
           "Brujon"
          ],
          "source": "Montparnasse",
          "target": "Brujon",
          "value": 1,
          "weight": 1,
          "x": 250.8775277094079,
          "y": 43.54374133089671
         },
         {
          "edge": 29,
          "edge_betweenness": 6.391575091575092,
          "pair": [
           "Montparnasse",
           "Brujon"
          ],
          "source": "Montparnasse",
          "target": "Brujon",
          "value": 1,
          "weight": 1,
          "x": 261.4416139854234,
          "y": 51.219000182710566
         }
        ]
       },
       "height": 480,
       "layer": [
        {
         "data": {
          "name": "data-865e7cdf60a0490e17d5bfaa9130ee26"
         },
         "encoding": {
          "color": {
           "field": "edge_betweenness",
           "scale": {
            "domain": [
             0,
             150
            ],
            "range": [
             "#200",
             "#f00"
            ],
            "type": "linear"
           },
           "type": "quantitative"
          },
          "detail": {
           "field": "edge",
           "type": "quantitative"
          },
          "opacity": {
           "field": "value",
           "legend": null,
           "scale": {
            "range": [
             0.3,
             1
            ]
           },
           "type": "quantitative"
          },
          "strokeWidth": {
           "field": "value",
           "legend": null,
           "scale": {
            "range": [
             0.5,
             3
            ]
           },
           "type": "quantitative"
          },
          "x": {
           "axis": {
            "domain": false,
            "grid": false,
            "labels": false,
            "ticks": false,
            "title": ""
           },
           "field": "x",
           "type": "quantitative"
          },
          "y": {
           "axis": {
            "domain": false,
            "grid": false,
            "labels": false,
            "ticks": false,
            "title": ""
           },
           "field": "y",
           "type": "quantitative"
          }
         },
         "mark": {
          "type": "line"
         }
        },
        {
         "data": {
          "name": "data-be2e1ad33a9a25addc874c272e8f990a"
         },
         "layer": [
          {
           "encoding": {
            "fill": {
             "value": "#fff"
            },
            "opacity": {
             "value": 1
            },
            "size": {
             "field": "__combo_size",
             "legend": null,
             "scale": null,
             "type": "quantitative"
            },
            "stroke": {
             "value": "#565656"
            },
            "strokeWidth": {
             "value": 3
            },
            "tooltip": [
             {
              "field": "group",
              "type": "nominal"
             }
            ],
            "x": {
             "axis": {
              "domain": false,
              "grid": false,
              "labels": false,
              "ticks": false,
              "title": ""
             },
             "field": "x",
             "type": "quantitative"
            },
            "y": {
             "axis": {
              "domain": false,
              "grid": false,
              "labels": false,
              "ticks": false,
              "title": ""
             },
             "field": "y",
             "type": "quantitative"
            }
           },
           "mark": {
            "type": "circle"
           }
          },
          {
           "encoding": {
            "text": {
             "field": "group",
             "type": "nominal"
            },
            "x": {
             "axis": {
              "domain": false,
              "grid": false,
              "labels": false,
              "ticks": false,
              "title": ""
             },
             "field": "x",
             "type": "quantitative"
            },
            "y": {
             "axis": {
              "domain": false,
              "grid": false,
              "labels": false,
              "ticks": false,
              "title": ""
             },
             "field": "__y_label",
             "type": "quantitative"
            }
           },
           "mark": {
            "align": "center",
            "baseline": "middle",
            "color": "black",
            "size": 10,
            "type": "text"
           }
          }
         ]
        },
        {
         "data": {
          "name": "data-e2b3b98aa826abddc0643e0aa2391a41"
         },
         "encoding": {
          "color": {
           "value": "#333"
          },
          "detail": {
           "field": "edge",
           "type": "quantitative"
          },
          "opacity": {
           "field": "value",
           "legend": null,
           "scale": {
            "range": [
             0.5,
             0.8
            ]
           },
           "type": "quantitative"
          },
          "strokeWidth": {
           "field": "value",
           "legend": null,
           "scale": {
            "range": [
             0.4,
             1
            ]
           },
           "type": "quantitative"
          },
          "x": {
           "axis": {
            "domain": false,
            "grid": false,
            "labels": false,
            "ticks": false,
            "title": ""
           },
           "field": "x",
           "type": "quantitative"
          },
          "y": {
           "axis": {
            "domain": false,
            "grid": false,
            "labels": false,
            "ticks": false,
            "title": ""
           },
           "field": "y",
           "type": "quantitative"
          }
         },
         "mark": {
          "type": "line"
         }
        },
        {
         "data": {
          "name": "data-daad58c2f2979104407398bdbd53c098"
         },
         "encoding": {
          "fill": {
           "value": "#888"
          },
          "opacity": {
           "value": 1
          },
          "size": {
           "value": 25
          },
          "stroke": {
           "value": "#222"
          },
          "strokeWidth": {
           "value": 1
          },
          "tooltip": [
           {
            "field": "name",
            "type": "nominal"
           },
           {
            "field": "group",
            "type": "nominal"
           }
          ],
          "x": {
           "axis": {
            "domain": false,
            "grid": false,
            "labels": false,
            "ticks": false,
            "title": ""
           },
           "field": "x",
           "type": "quantitative"
          },
          "y": {
           "axis": {
            "domain": false,
            "grid": false,
            "labels": false,
            "ticks": false,
            "title": ""
           },
           "field": "y",
           "type": "quantitative"
          }
         },
         "mark": {
          "type": "circle"
         }
        },
        {
         "data": {
          "name": "data-a0b2686836e559f5fc82ac80854521c6"
         },
         "layer": [
          {
           "encoding": {
            "fill": {
             "value": "#fff"
            },
            "opacity": {
             "value": 1
            },
            "size": {
             "field": "__combo_size",
             "legend": null,
             "scale": null,
             "type": "quantitative"
            },
            "stroke": {
             "value": "#565656"
            },
            "strokeWidth": {
             "value": 3
            },
            "tooltip": [
             {
              "field": "group",
              "type": "nominal"
             }
            ],
            "x": {
             "axis": {
              "domain": false,
              "grid": false,
              "labels": false,
              "ticks": false,
              "title": ""
             },
             "field": "x",
             "type": "quantitative"
            },
            "y": {
             "axis": {
              "domain": false,
              "grid": false,
              "labels": false,
              "ticks": false,
              "title": ""
             },
             "field": "y",
             "type": "quantitative"
            }
           },
           "mark": {
            "type": "circle"
           }
          },
          {
           "encoding": {
            "text": {
             "field": "group",
             "type": "nominal"
            },
            "x": {
             "axis": {
              "domain": false,
              "grid": false,
              "labels": false,
              "ticks": false,
              "title": ""
             },
             "field": "x",
             "type": "quantitative"
            },
            "y": {
             "axis": {
              "domain": false,
              "grid": false,
              "labels": false,
              "ticks": false,
              "title": ""
             },
             "field": "__y_label",
             "type": "quantitative"
            }
           },
           "mark": {
            "align": "center",
            "baseline": "middle",
            "color": "black",
            "size": 10,
            "type": "text"
           }
          }
         ]
        },
        {
         "data": {
          "name": "data-be0007f2e23326d9eceb318127f7d6f2"
         },
         "encoding": {
          "color": {
           "value": "#333"
          },
          "detail": {
           "field": "edge",
           "type": "quantitative"
          },
          "opacity": {
           "field": "value",
           "legend": null,
           "scale": {
            "range": [
             0.5,
             0.8
            ]
           },
           "type": "quantitative"
          },
          "strokeWidth": {
           "field": "value",
           "legend": null,
           "scale": {
            "range": [
             0.4,
             1
            ]
           },
           "type": "quantitative"
          },
          "x": {
           "axis": {
            "domain": false,
            "grid": false,
            "labels": false,
            "ticks": false,
            "title": ""
           },
           "field": "x",
           "type": "quantitative"
          },
          "y": {
           "axis": {
            "domain": false,
            "grid": false,
            "labels": false,
            "ticks": false,
            "title": ""
           },
           "field": "y",
           "type": "quantitative"
          }
         },
         "mark": {
          "type": "line"
         }
        },
        {
         "data": {
          "name": "data-54ca59bd7581016627ae4cd7ca20b709"
         },
         "encoding": {
          "fill": {
           "value": "#888"
          },
          "opacity": {
           "value": 1
          },
          "size": {
           "value": 25
          },
          "stroke": {
           "value": "#222"
          },
          "strokeWidth": {
           "value": 1
          },
          "tooltip": [
           {
            "field": "name",
            "type": "nominal"
           },
           {
            "field": "group",
            "type": "nominal"
           }
          ],
          "x": {
           "axis": {
            "domain": false,
            "grid": false,
            "labels": false,
            "ticks": false,
            "title": ""
           },
           "field": "x",
           "type": "quantitative"
          },
          "y": {
           "axis": {
            "domain": false,
            "grid": false,
            "labels": false,
            "ticks": false,
            "title": ""
           },
           "field": "y",
           "type": "quantitative"
          }
         },
         "mark": {
          "type": "circle"
         }
        },
        {
         "data": {
          "name": "data-ae5bf96d579bb22a3f87fdb3ae858d64"
         },
         "layer": [
          {
           "encoding": {
            "fill": {
             "value": "#fff"
            },
            "opacity": {
             "value": 1
            },
            "size": {
             "field": "__combo_size",
             "legend": null,
             "scale": null,
             "type": "quantitative"
            },
            "stroke": {
             "value": "#565656"
            },
            "strokeWidth": {
             "value": 3
            },
            "tooltip": [
             {
              "field": "group",
              "type": "nominal"
             }
            ],
            "x": {
             "axis": {
              "domain": false,
              "grid": false,
              "labels": false,
              "ticks": false,
              "title": ""
             },
             "field": "x",
             "type": "quantitative"
            },
            "y": {
             "axis": {
              "domain": false,
              "grid": false,
              "labels": false,
              "ticks": false,
              "title": ""
             },
             "field": "y",
             "type": "quantitative"
            }
           },
           "mark": {
            "type": "circle"
           }
          },
          {
           "encoding": {
            "text": {
             "field": "group",
             "type": "nominal"
            },
            "x": {
             "axis": {
              "domain": false,
              "grid": false,
              "labels": false,
              "ticks": false,
              "title": ""
             },
             "field": "x",
             "type": "quantitative"
            },
            "y": {
             "axis": {
              "domain": false,
              "grid": false,
              "labels": false,
              "ticks": false,
              "title": ""
             },
             "field": "__y_label",
             "type": "quantitative"
            }
           },
           "mark": {
            "align": "center",
            "baseline": "middle",
            "color": "black",
            "size": 10,
            "type": "text"
           }
          }
         ]
        },
        {
         "data": {
          "name": "data-8ef4df47f948bc73d593804724f4b164"
         },
         "encoding": {
          "color": {
           "value": "#333"
          },
          "detail": {
           "field": "edge",
           "type": "quantitative"
          },
          "opacity": {
           "field": "value",
           "legend": null,
           "scale": {
            "range": [
             0.5,
             0.8
            ]
           },
           "type": "quantitative"
          },
          "strokeWidth": {
           "field": "value",
           "legend": null,
           "scale": {
            "range": [
             0.4,
             1
            ]
           },
           "type": "quantitative"
          },
          "x": {
           "axis": {
            "domain": false,
            "grid": false,
            "labels": false,
            "ticks": false,
            "title": ""
           },
           "field": "x",
           "type": "quantitative"
          },
          "y": {
           "axis": {
            "domain": false,
            "grid": false,
            "labels": false,
            "ticks": false,
            "title": ""
           },
           "field": "y",
           "type": "quantitative"
          }
         },
         "mark": {
          "type": "line"
         }
        },
        {
         "data": {
          "name": "data-53f2aeacc58b31aacba3a45746f0888b"
         },
         "encoding": {
          "fill": {
           "value": "#888"
          },
          "opacity": {
           "value": 1
          },
          "size": {
           "value": 25
          },
          "stroke": {
           "value": "#222"
          },
          "strokeWidth": {
           "value": 1
          },
          "tooltip": [
           {
            "field": "name",
            "type": "nominal"
           },
           {
            "field": "group",
            "type": "nominal"
           }
          ],
          "x": {
           "axis": {
            "domain": false,
            "grid": false,
            "labels": false,
            "ticks": false,
            "title": ""
           },
           "field": "x",
           "type": "quantitative"
          },
          "y": {
           "axis": {
            "domain": false,
            "grid": false,
            "labels": false,
            "ticks": false,
            "title": ""
           },
           "field": "y",
           "type": "quantitative"
          }
         },
         "mark": {
          "type": "circle"
         }
        },
        {
         "data": {
          "name": "data-38d63730ce6ed5b875e09b479ecc74dd"
         },
         "layer": [
          {
           "encoding": {
            "fill": {
             "value": "#fff"
            },
            "opacity": {
             "value": 1
            },
            "size": {
             "field": "__combo_size",
             "legend": null,
             "scale": null,
             "type": "quantitative"
            },
            "stroke": {
             "value": "#565656"
            },
            "strokeWidth": {
             "value": 3
            },
            "tooltip": [
             {
              "field": "group",
              "type": "nominal"
             }
            ],
            "x": {
             "axis": {
              "domain": false,
              "grid": false,
              "labels": false,
              "ticks": false,
              "title": ""
             },
             "field": "x",
             "type": "quantitative"
            },
            "y": {
             "axis": {
              "domain": false,
              "grid": false,
              "labels": false,
              "ticks": false,
              "title": ""
             },
             "field": "y",
             "type": "quantitative"
            }
           },
           "mark": {
            "type": "circle"
           }
          },
          {
           "encoding": {
            "text": {
             "field": "group",
             "type": "nominal"
            },
            "x": {
             "axis": {
              "domain": false,
              "grid": false,
              "labels": false,
              "ticks": false,
              "title": ""
             },
             "field": "x",
             "type": "quantitative"
            },
            "y": {
             "axis": {
              "domain": false,
              "grid": false,
              "labels": false,
              "ticks": false,
              "title": ""
             },
             "field": "__y_label",
             "type": "quantitative"
            }
           },
           "mark": {
            "align": "center",
            "baseline": "middle",
            "color": "black",
            "size": 10,
            "type": "text"
           }
          }
         ]
        },
        {
         "data": {
          "name": "data-0dbc1fca7f48a466d2b297418252222f"
         },
         "encoding": {
          "color": {
           "value": "#333"
          },
          "detail": {
           "field": "edge",
           "type": "quantitative"
          },
          "opacity": {
           "field": "value",
           "legend": null,
           "scale": {
            "range": [
             0.5,
             0.8
            ]
           },
           "type": "quantitative"
          },
          "strokeWidth": {
           "field": "value",
           "legend": null,
           "scale": {
            "range": [
             0.4,
             1
            ]
           },
           "type": "quantitative"
          },
          "x": {
           "axis": {
            "domain": false,
            "grid": false,
            "labels": false,
            "ticks": false,
            "title": ""
           },
           "field": "x",
           "type": "quantitative"
          },
          "y": {
           "axis": {
            "domain": false,
            "grid": false,
            "labels": false,
            "ticks": false,
            "title": ""
           },
           "field": "y",
           "type": "quantitative"
          }
         },
         "mark": {
          "type": "line"
         }
        },
        {
         "data": {
          "name": "data-0ed6e3ebc6c3139899c541a6ed5f2146"
         },
         "encoding": {
          "fill": {
           "value": "#888"
          },
          "opacity": {
           "value": 1
          },
          "size": {
           "value": 25
          },
          "stroke": {
           "value": "#222"
          },
          "strokeWidth": {
           "value": 1
          },
          "tooltip": [
           {
            "field": "name",
            "type": "nominal"
           },
           {
            "field": "group",
            "type": "nominal"
           }
          ],
          "x": {
           "axis": {
            "domain": false,
            "grid": false,
            "labels": false,
            "ticks": false,
            "title": ""
           },
           "field": "x",
           "type": "quantitative"
          },
          "y": {
           "axis": {
            "domain": false,
            "grid": false,
            "labels": false,
            "ticks": false,
            "title": ""
           },
           "field": "y",
           "type": "quantitative"
          }
         },
         "mark": {
          "type": "circle"
         }
        },
        {
         "data": {
          "name": "data-4fb209b81c0add1ce0d0ab1e70afcc2f"
         },
         "layer": [
          {
           "encoding": {
            "fill": {
             "value": "#fff"
            },
            "opacity": {
             "value": 1
            },
            "size": {
             "field": "__combo_size",
             "legend": null,
             "scale": null,
             "type": "quantitative"
            },
            "stroke": {
             "value": "#565656"
            },
            "strokeWidth": {
             "value": 3
            },
            "tooltip": [
             {
              "field": "group",
              "type": "nominal"
             }
            ],
            "x": {
             "axis": {
              "domain": false,
              "grid": false,
              "labels": false,
              "ticks": false,
              "title": ""
             },
             "field": "x",
             "type": "quantitative"
            },
            "y": {
             "axis": {
              "domain": false,
              "grid": false,
              "labels": false,
              "ticks": false,
              "title": ""
             },
             "field": "y",
             "type": "quantitative"
            }
           },
           "mark": {
            "type": "circle"
           }
          },
          {
           "encoding": {
            "text": {
             "field": "group",
             "type": "nominal"
            },
            "x": {
             "axis": {
              "domain": false,
              "grid": false,
              "labels": false,
              "ticks": false,
              "title": ""
             },
             "field": "x",
             "type": "quantitative"
            },
            "y": {
             "axis": {
              "domain": false,
              "grid": false,
              "labels": false,
              "ticks": false,
              "title": ""
             },
             "field": "__y_label",
             "type": "quantitative"
            }
           },
           "mark": {
            "align": "center",
            "baseline": "middle",
            "color": "black",
            "size": 10,
            "type": "text"
           }
          }
         ]
        },
        {
         "data": {
          "name": "data-2d4a28f6e6406adb2dba3a53e312d082"
         },
         "encoding": {
          "color": {
           "value": "#333"
          },
          "detail": {
           "field": "edge",
           "type": "quantitative"
          },
          "opacity": {
           "field": "value",
           "legend": null,
           "scale": {
            "range": [
             0.5,
             0.8
            ]
           },
           "type": "quantitative"
          },
          "strokeWidth": {
           "field": "value",
           "legend": null,
           "scale": {
            "range": [
             0.4,
             1
            ]
           },
           "type": "quantitative"
          },
          "x": {
           "axis": {
            "domain": false,
            "grid": false,
            "labels": false,
            "ticks": false,
            "title": ""
           },
           "field": "x",
           "type": "quantitative"
          },
          "y": {
           "axis": {
            "domain": false,
            "grid": false,
            "labels": false,
            "ticks": false,
            "title": ""
           },
           "field": "y",
           "type": "quantitative"
          }
         },
         "mark": {
          "type": "line"
         }
        },
        {
         "data": {
          "name": "data-0716213653163c23003de446d2125237"
         },
         "encoding": {
          "fill": {
           "value": "#888"
          },
          "opacity": {
           "value": 1
          },
          "size": {
           "value": 25
          },
          "stroke": {
           "value": "#222"
          },
          "strokeWidth": {
           "value": 1
          },
          "tooltip": [
           {
            "field": "name",
            "type": "nominal"
           },
           {
            "field": "group",
            "type": "nominal"
           }
          ],
          "x": {
           "axis": {
            "domain": false,
            "grid": false,
            "labels": false,
            "ticks": false,
            "title": ""
           },
           "field": "x",
           "type": "quantitative"
          },
          "y": {
           "axis": {
            "domain": false,
            "grid": false,
            "labels": false,
            "ticks": false,
            "title": ""
           },
           "field": "y",
           "type": "quantitative"
          }
         },
         "mark": {
          "type": "circle"
         }
        },
        {
         "data": {
          "name": "data-751ca1b4f22a86381aeea90b324e5281"
         },
         "layer": [
          {
           "encoding": {
            "fill": {
             "value": "#fff"
            },
            "opacity": {
             "value": 1
            },
            "size": {
             "field": "__combo_size",
             "legend": null,
             "scale": null,
             "type": "quantitative"
            },
            "stroke": {
             "value": "#565656"
            },
            "strokeWidth": {
             "value": 3
            },
            "tooltip": [
             {
              "field": "group",
              "type": "nominal"
             }
            ],
            "x": {
             "axis": {
              "domain": false,
              "grid": false,
              "labels": false,
              "ticks": false,
              "title": ""
             },
             "field": "x",
             "type": "quantitative"
            },
            "y": {
             "axis": {
              "domain": false,
              "grid": false,
              "labels": false,
              "ticks": false,
              "title": ""
             },
             "field": "y",
             "type": "quantitative"
            }
           },
           "mark": {
            "type": "circle"
           }
          },
          {
           "encoding": {
            "text": {
             "field": "group",
             "type": "nominal"
            },
            "x": {
             "axis": {
              "domain": false,
              "grid": false,
              "labels": false,
              "ticks": false,
              "title": ""
             },
             "field": "x",
             "type": "quantitative"
            },
            "y": {
             "axis": {
              "domain": false,
              "grid": false,
              "labels": false,
              "ticks": false,
              "title": ""
             },
             "field": "__y_label",
             "type": "quantitative"
            }
           },
           "mark": {
            "align": "center",
            "baseline": "middle",
            "color": "black",
            "size": 10,
            "type": "text"
           }
          }
         ]
        },
        {
         "data": {
          "name": "data-eb30f3b045b0a7f6ec24940a0e038a96"
         },
         "encoding": {
          "color": {
           "value": "#333"
          },
          "detail": {
           "field": "edge",
           "type": "quantitative"
          },
          "opacity": {
           "field": "value",
           "legend": null,
           "scale": {
            "range": [
             0.5,
             0.8
            ]
           },
           "type": "quantitative"
          },
          "strokeWidth": {
           "field": "value",
           "legend": null,
           "scale": {
            "range": [
             0.4,
             1
            ]
           },
           "type": "quantitative"
          },
          "x": {
           "axis": {
            "domain": false,
            "grid": false,
            "labels": false,
            "ticks": false,
            "title": ""
           },
           "field": "x",
           "type": "quantitative"
          },
          "y": {
           "axis": {
            "domain": false,
            "grid": false,
            "labels": false,
            "ticks": false,
            "title": ""
           },
           "field": "y",
           "type": "quantitative"
          }
         },
         "mark": {
          "type": "line"
         }
        },
        {
         "data": {
          "name": "data-530ceaa4dab1cb1647a403087f2aea85"
         },
         "encoding": {
          "fill": {
           "value": "#888"
          },
          "opacity": {
           "value": 1
          },
          "size": {
           "value": 25
          },
          "stroke": {
           "value": "#222"
          },
          "strokeWidth": {
           "value": 1
          },
          "tooltip": [
           {
            "field": "name",
            "type": "nominal"
           },
           {
            "field": "group",
            "type": "nominal"
           }
          ],
          "x": {
           "axis": {
            "domain": false,
            "grid": false,
            "labels": false,
            "ticks": false,
            "title": ""
           },
           "field": "x",
           "type": "quantitative"
          },
          "y": {
           "axis": {
            "domain": false,
            "grid": false,
            "labels": false,
            "ticks": false,
            "title": ""
           },
           "field": "y",
           "type": "quantitative"
          }
         },
         "mark": {
          "type": "circle"
         }
        }
       ],
       "resolve": {
        "scale": {
         "color": "independent",
         "fill": "independent",
         "opacity": "independent",
         "size": "independent",
         "strokeWidth": "independent"
        }
       },
       "width": 600
      },
      "text/plain": [
       "<VegaLite 5 object>\n",
       "\n",
       "If you see this message, it means the renderer has not been properly enabled\n",
       "for the frontend that you are using. For more information, see\n",
       "https://altair-viz.github.io/user_guide/display_frontends.html#troubleshooting\n"
      ]
     },
     "execution_count": 8,
     "metadata": {},
     "output_type": "execute_result"
    }
   ],
   "source": [
    "edge_betweenness = nx.edge_betweenness_centrality(G, normalized=False)\n",
    "print(\"Example edge betweeness entries:\\n\", dict(list(edge_betweenness.items())[:3]))\n",
    "\n",
    "nx.set_edge_attributes(G, edge_betweenness, \"edge_betweenness\")\n",
    "\n",
    "combo_chart(\n",
    "    layout_fn=nx.circular_layout,\n",
    "    combo_edge_agg_attrs={\n",
    "        \"edge_betweenness\": (\"edge_betweenness\", \"mean\")\n",
    "    },\n",
    "    additional_combo_edge_args=dict(\n",
    "        color=alt.Color(\n",
    "            \"edge_betweenness:Q\", scale=alt.Scale(\n",
    "                domain=[0, 150],\n",
    "                range=[\"#200\", \"#f00\"],\n",
    "                type=\"linear\"\n",
    "            )\n",
    "        )\n",
    "    )\n",
    ")"
   ]
  },
  {
   "cell_type": "code",
   "execution_count": null,
   "metadata": {},
   "outputs": [],
   "source": []
  }
 ],
 "metadata": {
  "kernelspec": {
   "display_name": "Python 3 (ipykernel)",
   "language": "python",
   "name": "python3"
  },
  "language_info": {
   "codemirror_mode": {
    "name": "ipython",
    "version": 3
   },
   "file_extension": ".py",
   "mimetype": "text/x-python",
   "name": "python",
   "nbconvert_exporter": "python",
   "pygments_lexer": "ipython3",
   "version": "3.10.7"
  },
  "vscode": {
   "interpreter": {
    "hash": "121ccb6ef33f050b5231fe1f8644b93952e7f3a79e0892dcb9cd03f1749809c5"
   }
  }
 },
 "nbformat": 4,
 "nbformat_minor": 4
}
