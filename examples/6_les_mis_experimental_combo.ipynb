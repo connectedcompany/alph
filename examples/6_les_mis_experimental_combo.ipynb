{
 "cells": [
  {
   "cell_type": "markdown",
   "metadata": {},
   "source": [
    "### Les Miserables, combo style (experimental)\n",
    "\n",
    "This example demonstrates a layout that gruops together related nodes - typically by category - and connects them based on the aggregate weights of their links.\n",
    "\n",
    "We use the [Les Miserables dataset](http://www.casos.cs.cmu.edu/computational_tools/datasets/external/lesmis/), originating from [Knuth et al](https://www.semanticscholar.org/paper/The-Stanford-GraphBase-a-platform-for-combinatorial-Knuth/77eb30495093bfe10929e7847d9d04ec41409846).\n",
    "\n",
    "To group the Les Mis characters, we pick the handy [Louvain algorithm](https://en.wikipedia.org/wiki/Louvain_method) for community detection. We aren't too interested in turning the dials here, we just want some node groupings here to visualise, and Louvain gives us that out of the box."
   ]
  },
  {
   "cell_type": "code",
   "execution_count": 1,
   "metadata": {},
   "outputs": [],
   "source": [
    "import sys\n",
    "import altair as alt\n",
    "import networkx as nx\n",
    "import numpy as np\n",
    "import pandas as pd\n",
    "from faker import Faker\n",
    "\n",
    "\"..\" not in sys.path and sys.path.append(\"..\")\n",
    "from alph import alph, layers, layout, util\n",
    "\n",
    "util.set_altair_renderer()"
   ]
  },
  {
   "cell_type": "markdown",
   "metadata": {},
   "source": [
    "Start by loading the data to create a graph. Then add node names as an explicit attribute for use later (node names serve as node ids in the dataset)."
   ]
  },
  {
   "cell_type": "code",
   "execution_count": 2,
   "metadata": {},
   "outputs": [
    {
     "name": "stdout",
     "output_type": "stream",
     "text": [
      "nodes: 77, links: 254, max edge value: 31\n"
     ]
    }
   ],
   "source": [
    "G = nx.read_gml(\"data/lesmis.gml\")\n",
    "max_edge_value = max([d[2] for d in G.edges(data=\"value\")])\n",
    "nx.set_node_attributes(G, {n: n for n in G.nodes()}, \"name\")\n",
    "\n",
    "print(f\"nodes: {len(G.nodes())}, links: {len(G.edges())}, max edge value: {max_edge_value}\")"
   ]
  },
  {
   "cell_type": "markdown",
   "metadata": {},
   "source": [
    "Perform community detection using the Louvain method, and assign each node to its group via an attribute."
   ]
  },
  {
   "cell_type": "code",
   "execution_count": 3,
   "metadata": {},
   "outputs": [
    {
     "name": "stdout",
     "output_type": "stream",
     "text": [
      "[('OldMan', '0'), ('CountessDeLo', '0'), ('Count', '0')]\n"
     ]
    }
   ],
   "source": [
    "seed = 42\n",
    "\n",
    "communities = nx.algorithms.community.louvain_communities(G, weight=\"value\", resolution=1, seed=seed)\n",
    "node_to_group = {n: str(c) for c, ns in enumerate(communities) for n in ns}\n",
    "nx.set_node_attributes(G, node_to_group, \"group\")\n",
    "\n",
    "print(list(node_to_group.items())[:3])"
   ]
  },
  {
   "cell_type": "markdown",
   "metadata": {},
   "source": [
    "Let's now plot the Les Mis graph, before combo styling. We'll set node colours based on the group attribute."
   ]
  },
  {
   "cell_type": "code",
   "execution_count": 4,
   "metadata": {},
   "outputs": [
    {
     "data": {
      "application/vnd.vegalite.v4+json": {
       "$schema": "https://vega.github.io/schema/vega-lite/v4.17.0.json",
       "config": {
        "view": {
         "continuousHeight": 300,
         "continuousWidth": 400,
         "strokeWidth": 0
        }
       },
       "datasets": {
        "data-8215248c09451a5fd31363137dd96c2c": [
         {
          "__node_r": 3,
          "__node_size": 36,
          "group": "0",
          "name": "Myriel",
          "x": 56.4387074167155,
          "y": 448.9097511868396
         },
         {
          "__node_r": 3,
          "__node_size": 36,
          "group": "0",
          "name": "Napoleon",
          "x": 33.966220584025116,
          "y": 488.18719356314347
         },
         {
          "__node_r": 3,
          "__node_size": 36,
          "group": "0",
          "name": "MlleBaptistine",
          "x": 138.80176250636532,
          "y": 414.869977125667
         },
         {
          "__node_r": 3,
          "__node_size": 36,
          "group": "0",
          "name": "MmeMagloire",
          "x": 125.7733408837536,
          "y": 404.16087306824807
         },
         {
          "__node_r": 3,
          "__node_size": 36,
          "group": "0",
          "name": "CountessDeLo",
          "x": 16.283866172424194,
          "y": 481.67958816346396
         },
         {
          "__node_r": 3,
          "__node_size": 36,
          "group": "0",
          "name": "Geborand",
          "x": 0,
          "y": 453.672272011355
         },
         {
          "__node_r": 3,
          "__node_size": 36,
          "group": "0",
          "name": "Champtercier",
          "x": 51.526240560582664,
          "y": 483.6868818281024
         },
         {
          "__node_r": 3,
          "__node_size": 36,
          "group": "0",
          "name": "Cravatte",
          "x": 9.088468651729087,
          "y": 441.4469913441324
         },
         {
          "__node_r": 3,
          "__node_size": 36,
          "group": "0",
          "name": "Count",
          "x": 1.3594889597603175,
          "y": 469.0124814629445
         },
         {
          "__node_r": 3,
          "__node_size": 36,
          "group": "0",
          "name": "OldMan",
          "x": 22.59216330473383,
          "y": 466.0320019390416
         },
         {
          "__node_r": 3,
          "__node_size": 36,
          "group": "1",
          "name": "Labarre",
          "x": 231.31647941283063,
          "y": 276.7871062714864
         },
         {
          "__node_r": 3,
          "__node_size": 36,
          "group": "1",
          "name": "Valjean",
          "x": 273.4922746010011,
          "y": 322.4702261363694
         },
         {
          "__node_r": 3,
          "__node_size": 36,
          "group": "2",
          "name": "Marguerite",
          "x": 312.9072675355339,
          "y": 418.62015127560585
         },
         {
          "__node_r": 3,
          "__node_size": 36,
          "group": "1",
          "name": "MmeDeR",
          "x": 220.78265839408107,
          "y": 345.82066154588216
         },
         {
          "__node_r": 3,
          "__node_size": 36,
          "group": "1",
          "name": "Isabeau",
          "x": 216.56508578643917,
          "y": 301.37199585116576
         },
         {
          "__node_r": 3,
          "__node_size": 36,
          "group": "1",
          "name": "Gervais",
          "x": 218.24617107772525,
          "y": 285.5936120507003
         },
         {
          "__node_r": 3,
          "__node_size": 36,
          "group": "2",
          "name": "Tholomyes",
          "x": 465.4786530020731,
          "y": 463.5537657086481
         },
         {
          "__node_r": 3,
          "__node_size": 36,
          "group": "2",
          "name": "Listolier",
          "x": 500.43499363356045,
          "y": 533.7134996245452
         },
         {
          "__node_r": 3,
          "__node_size": 36,
          "group": "2",
          "name": "Fameuil",
          "x": 471.7451840426586,
          "y": 514.2284992551298
         },
         {
          "__node_r": 3,
          "__node_size": 36,
          "group": "2",
          "name": "Blacheville",
          "x": 444.2455159060626,
          "y": 520.7354102246557
         },
         {
          "__node_r": 3,
          "__node_size": 36,
          "group": "2",
          "name": "Favourite",
          "x": 500.69340532607816,
          "y": 511.2879777352466
         },
         {
          "__node_r": 3,
          "__node_size": 36,
          "group": "2",
          "name": "Dahlia",
          "x": 446.2306022240774,
          "y": 542.287889638989
         },
         {
          "__node_r": 3,
          "__node_size": 36,
          "group": "2",
          "name": "Zephine",
          "x": 475.42648293427,
          "y": 544.7068052016323
         },
         {
          "__node_r": 3,
          "__node_size": 36,
          "group": "2",
          "name": "Fantine",
          "x": 394.2300877928052,
          "y": 453.28806877609907
         },
         {
          "__node_r": 3,
          "__node_size": 36,
          "group": "4",
          "name": "MmeThenardier",
          "x": 407.2614569273463,
          "y": 352.54667306108263
         },
         {
          "__node_r": 3,
          "__node_size": 36,
          "group": "4",
          "name": "Thenardier",
          "x": 400.16393198430916,
          "y": 300.49196332885236
         },
         {
          "__node_r": 3,
          "__node_size": 36,
          "group": "1",
          "name": "Cosette",
          "x": 352.9149758822849,
          "y": 289.97741073049264
         },
         {
          "__node_r": 3,
          "__node_size": 36,
          "group": "1",
          "name": "Javert",
          "x": 366.18112581004635,
          "y": 340.3385675543636
         },
         {
          "__node_r": 3,
          "__node_size": 36,
          "group": "1",
          "name": "Fauchelevent",
          "x": 263.19137315804517,
          "y": 402.43922087186564
         },
         {
          "__node_r": 3,
          "__node_size": 36,
          "group": "3",
          "name": "Bamatabois",
          "x": 179.42656051523377,
          "y": 336.36373194357117
         },
         {
          "__node_r": 3,
          "__node_size": 36,
          "group": "1",
          "name": "Perpetue",
          "x": 342.3857994650774,
          "y": 467.6586646245634
         },
         {
          "__node_r": 3,
          "__node_size": 36,
          "group": "1",
          "name": "Simplice",
          "x": 340.52243415638713,
          "y": 416.8610083871528
         },
         {
          "__node_r": 3,
          "__node_size": 36,
          "group": "1",
          "name": "Scaufflaire",
          "x": 229.14671389600306,
          "y": 361.6699773780994
         },
         {
          "__node_r": 3,
          "__node_size": 36,
          "group": "1",
          "name": "Woman1",
          "x": 311.3535910087553,
          "y": 365.9339324742364
         },
         {
          "__node_r": 3,
          "__node_size": 36,
          "group": "3",
          "name": "Judge",
          "x": 111.06083405187384,
          "y": 285.8700943207655
         },
         {
          "__node_r": 3,
          "__node_size": 36,
          "group": "3",
          "name": "Champmathieu",
          "x": 138.17289039603324,
          "y": 285.30751117450717
         },
         {
          "__node_r": 3,
          "__node_size": 36,
          "group": "3",
          "name": "Brevet",
          "x": 136.9553010209153,
          "y": 306.755197933076
         },
         {
          "__node_r": 3,
          "__node_size": 36,
          "group": "3",
          "name": "Chenildieu",
          "x": 101.97788671328394,
          "y": 306.2257603579743
         },
         {
          "__node_r": 3,
          "__node_size": 36,
          "group": "3",
          "name": "Cochepaille",
          "x": 118.78859183410529,
          "y": 323.31277553074074
         },
         {
          "__node_r": 3,
          "__node_size": 36,
          "group": "1",
          "name": "Pontmercy",
          "x": 349.6477948577683,
          "y": 209.73362814953936
         },
         {
          "__node_r": 3,
          "__node_size": 36,
          "group": "4",
          "name": "Boulatruelle",
          "x": 484.6797065794882,
          "y": 350.74035524358584
         },
         {
          "__node_r": 3,
          "__node_size": 36,
          "group": "4",
          "name": "Eponine",
          "x": 483.0218293546819,
          "y": 295.75517442727664
         },
         {
          "__node_r": 3,
          "__node_size": 36,
          "group": "4",
          "name": "Anzelma",
          "x": 468.41405838672773,
          "y": 356.9377062061481
         },
         {
          "__node_r": 3,
          "__node_size": 36,
          "group": "1",
          "name": "Woman2",
          "x": 328.2425423605379,
          "y": 327.0113591518115
         },
         {
          "__node_r": 3,
          "__node_size": 36,
          "group": "1",
          "name": "MotherInnocent",
          "x": 236.4992741683009,
          "y": 391.4609809357582
         },
         {
          "__node_r": 3,
          "__node_size": 36,
          "group": "1",
          "name": "Gribier",
          "x": 235.86294188659633,
          "y": 445.23631967904157
         },
         {
          "__node_r": 3,
          "__node_size": 36,
          "group": "5",
          "name": "Jondrette",
          "x": 729.0739366315212,
          "y": 305.54303174618065
         },
         {
          "__node_r": 3,
          "__node_size": 36,
          "group": "5",
          "name": "MmeBurgon",
          "x": 676.1294564746647,
          "y": 290.4903364592788
         },
         {
          "__node_r": 3,
          "__node_size": 36,
          "group": "5",
          "name": "Gavroche",
          "x": 523.2907954370992,
          "y": 245.74067573878995
         },
         {
          "__node_r": 3,
          "__node_size": 36,
          "group": "1",
          "name": "Gillenormand",
          "x": 311.29572546983,
          "y": 236.29136780948323
         },
         {
          "__node_r": 3,
          "__node_size": 36,
          "group": "1",
          "name": "Magnon",
          "x": 352.09621255071494,
          "y": 268.546043929974
         },
         {
          "__node_r": 3,
          "__node_size": 36,
          "group": "1",
          "name": "MlleGillenormand",
          "x": 276.19295293713117,
          "y": 209.7766348385322
         },
         {
          "__node_r": 3,
          "__node_size": 36,
          "group": "1",
          "name": "MmePontmercy",
          "x": 278.0437025632891,
          "y": 170.81823201167052
         },
         {
          "__node_r": 3,
          "__node_size": 36,
          "group": "1",
          "name": "MlleVaubois",
          "x": 225.50242822581086,
          "y": 169.2875724906835
         },
         {
          "__node_r": 3,
          "__node_size": 36,
          "group": "1",
          "name": "LtGillenormand",
          "x": 317.49551362712725,
          "y": 214.2769188272173
         },
         {
          "__node_r": 3,
          "__node_size": 36,
          "group": "1",
          "name": "Marius",
          "x": 419.0342786383658,
          "y": 225.59354822647282
         },
         {
          "__node_r": 3,
          "__node_size": 36,
          "group": "1",
          "name": "BaronessT",
          "x": 336.889509626011,
          "y": 189.34816988339003
         },
         {
          "__node_r": 3,
          "__node_size": 36,
          "group": "5",
          "name": "Mabeuf",
          "x": 572.5777311916509,
          "y": 210.10783866691796
         },
         {
          "__node_r": 3,
          "__node_size": 36,
          "group": "5",
          "name": "Enjolras",
          "x": 476.22443646495327,
          "y": 198.99982319960458
         },
         {
          "__node_r": 3,
          "__node_size": 36,
          "group": "5",
          "name": "Combeferre",
          "x": 543.2309141131057,
          "y": 138.37245313836567
         },
         {
          "__node_r": 3,
          "__node_size": 36,
          "group": "5",
          "name": "Prouvaire",
          "x": 586.8258145719633,
          "y": 131.04061100685195
         },
         {
          "__node_r": 3,
          "__node_size": 36,
          "group": "5",
          "name": "Feuilly",
          "x": 588.5054944296545,
          "y": 172.48940816015286
         },
         {
          "__node_r": 3,
          "__node_size": 36,
          "group": "5",
          "name": "Courfeyrac",
          "x": 530.1953223884157,
          "y": 182.04199172099828
         },
         {
          "__node_r": 3,
          "__node_size": 36,
          "group": "5",
          "name": "Bahorel",
          "x": 558.6356879383688,
          "y": 157.8862652032679
         },
         {
          "__node_r": 3,
          "__node_size": 36,
          "group": "5",
          "name": "Bossuet",
          "x": 470.22590072485184,
          "y": 159.8873674533083
         },
         {
          "__node_r": 3,
          "__node_size": 36,
          "group": "5",
          "name": "Joly",
          "x": 508.02632310745616,
          "y": 141.20083428820914
         },
         {
          "__node_r": 3,
          "__node_size": 36,
          "group": "5",
          "name": "Grantaire",
          "x": 539.5560145989812,
          "y": 108.76186276655808
         },
         {
          "__node_r": 3,
          "__node_size": 36,
          "group": "5",
          "name": "MotherPlutarch",
          "x": 662.3244783007859,
          "y": 217.23034459416638
         },
         {
          "__node_r": 3,
          "__node_size": 36,
          "group": "4",
          "name": "Gueulemer",
          "x": 423.7008310594097,
          "y": 295.4540530685985
         },
         {
          "__node_r": 3,
          "__node_size": 36,
          "group": "4",
          "name": "Babet",
          "x": 445.00586608248057,
          "y": 335.3863380936513
         },
         {
          "__node_r": 3,
          "__node_size": 36,
          "group": "4",
          "name": "Claquesous",
          "x": 411.38833025696715,
          "y": 315.52384710893375
         },
         {
          "__node_r": 3,
          "__node_size": 36,
          "group": "4",
          "name": "Montparnasse",
          "x": 444.7345046363669,
          "y": 311.38600805966485
         },
         {
          "__node_r": 3,
          "__node_size": 36,
          "group": "1",
          "name": "Toussaint",
          "x": 324.7468041735185,
          "y": 305.90051088076075
         },
         {
          "__node_r": 3,
          "__node_size": 36,
          "group": "5",
          "name": "Child1",
          "x": 628.0697875039461,
          "y": 282.63730464751507
         },
         {
          "__node_r": 3,
          "__node_size": 36,
          "group": "5",
          "name": "Child2",
          "x": 619.3934506818871,
          "y": 293.00381939314923
         },
         {
          "__node_r": 3,
          "__node_size": 36,
          "group": "4",
          "name": "Brujon",
          "x": 493.86420752495866,
          "y": 323.13433500448474
         },
         {
          "__node_r": 3,
          "__node_size": 36,
          "group": "5",
          "name": "MmeHucheloup",
          "x": 481.3503874028918,
          "y": 120.36235586827388
         }
        ],
        "data-e33e2acc418422ba3642a7a720b51ab4": [
         {
          "edge": 0,
          "pair": [
           "Myriel",
           "Napoleon"
          ],
          "source": "Myriel",
          "target": "Napoleon",
          "value": 1,
          "x": 56.4387074167155,
          "y": 448.9097511868396
         },
         {
          "edge": 0,
          "pair": [
           "Myriel",
           "Napoleon"
          ],
          "source": "Myriel",
          "target": "Napoleon",
          "value": 1,
          "x": 33.966220584025116,
          "y": 488.18719356314347
         },
         {
          "edge": 1,
          "pair": [
           "Myriel",
           "MlleBaptistine"
          ],
          "source": "Myriel",
          "target": "MlleBaptistine",
          "value": 8,
          "x": 56.4387074167155,
          "y": 448.9097511868396
         },
         {
          "edge": 1,
          "pair": [
           "Myriel",
           "MlleBaptistine"
          ],
          "source": "Myriel",
          "target": "MlleBaptistine",
          "value": 8,
          "x": 138.80176250636532,
          "y": 414.869977125667
         },
         {
          "edge": 2,
          "pair": [
           "Myriel",
           "MmeMagloire"
          ],
          "source": "Myriel",
          "target": "MmeMagloire",
          "value": 10,
          "x": 56.4387074167155,
          "y": 448.9097511868396
         },
         {
          "edge": 2,
          "pair": [
           "Myriel",
           "MmeMagloire"
          ],
          "source": "Myriel",
          "target": "MmeMagloire",
          "value": 10,
          "x": 125.7733408837536,
          "y": 404.16087306824807
         },
         {
          "edge": 3,
          "pair": [
           "Myriel",
           "CountessDeLo"
          ],
          "source": "Myriel",
          "target": "CountessDeLo",
          "value": 1,
          "x": 56.4387074167155,
          "y": 448.9097511868396
         },
         {
          "edge": 3,
          "pair": [
           "Myriel",
           "CountessDeLo"
          ],
          "source": "Myriel",
          "target": "CountessDeLo",
          "value": 1,
          "x": 16.283866172424194,
          "y": 481.67958816346396
         },
         {
          "edge": 4,
          "pair": [
           "Myriel",
           "Geborand"
          ],
          "source": "Myriel",
          "target": "Geborand",
          "value": 1,
          "x": 56.4387074167155,
          "y": 448.9097511868396
         },
         {
          "edge": 4,
          "pair": [
           "Myriel",
           "Geborand"
          ],
          "source": "Myriel",
          "target": "Geborand",
          "value": 1,
          "x": 0,
          "y": 453.672272011355
         },
         {
          "edge": 5,
          "pair": [
           "Myriel",
           "Champtercier"
          ],
          "source": "Myriel",
          "target": "Champtercier",
          "value": 1,
          "x": 56.4387074167155,
          "y": 448.9097511868396
         },
         {
          "edge": 5,
          "pair": [
           "Myriel",
           "Champtercier"
          ],
          "source": "Myriel",
          "target": "Champtercier",
          "value": 1,
          "x": 51.526240560582664,
          "y": 483.6868818281024
         },
         {
          "edge": 6,
          "pair": [
           "Myriel",
           "Cravatte"
          ],
          "source": "Myriel",
          "target": "Cravatte",
          "value": 1,
          "x": 56.4387074167155,
          "y": 448.9097511868396
         },
         {
          "edge": 6,
          "pair": [
           "Myriel",
           "Cravatte"
          ],
          "source": "Myriel",
          "target": "Cravatte",
          "value": 1,
          "x": 9.088468651729087,
          "y": 441.4469913441324
         },
         {
          "edge": 7,
          "pair": [
           "Myriel",
           "Count"
          ],
          "source": "Myriel",
          "target": "Count",
          "value": 2,
          "x": 56.4387074167155,
          "y": 448.9097511868396
         },
         {
          "edge": 7,
          "pair": [
           "Myriel",
           "Count"
          ],
          "source": "Myriel",
          "target": "Count",
          "value": 2,
          "x": 1.3594889597603175,
          "y": 469.0124814629445
         },
         {
          "edge": 8,
          "pair": [
           "Myriel",
           "OldMan"
          ],
          "source": "Myriel",
          "target": "OldMan",
          "value": 1,
          "x": 56.4387074167155,
          "y": 448.9097511868396
         },
         {
          "edge": 8,
          "pair": [
           "Myriel",
           "OldMan"
          ],
          "source": "Myriel",
          "target": "OldMan",
          "value": 1,
          "x": 22.59216330473383,
          "y": 466.0320019390416
         },
         {
          "edge": 9,
          "pair": [
           "Myriel",
           "Valjean"
          ],
          "source": "Myriel",
          "target": "Valjean",
          "value": 5,
          "x": 56.4387074167155,
          "y": 448.9097511868396
         },
         {
          "edge": 9,
          "pair": [
           "Myriel",
           "Valjean"
          ],
          "source": "Myriel",
          "target": "Valjean",
          "value": 5,
          "x": 273.4922746010011,
          "y": 322.4702261363694
         },
         {
          "edge": 10,
          "pair": [
           "MlleBaptistine",
           "MmeMagloire"
          ],
          "source": "MlleBaptistine",
          "target": "MmeMagloire",
          "value": 6,
          "x": 138.80176250636532,
          "y": 414.869977125667
         },
         {
          "edge": 10,
          "pair": [
           "MlleBaptistine",
           "MmeMagloire"
          ],
          "source": "MlleBaptistine",
          "target": "MmeMagloire",
          "value": 6,
          "x": 125.7733408837536,
          "y": 404.16087306824807
         },
         {
          "edge": 11,
          "pair": [
           "MlleBaptistine",
           "Valjean"
          ],
          "source": "MlleBaptistine",
          "target": "Valjean",
          "value": 3,
          "x": 138.80176250636532,
          "y": 414.869977125667
         },
         {
          "edge": 11,
          "pair": [
           "MlleBaptistine",
           "Valjean"
          ],
          "source": "MlleBaptistine",
          "target": "Valjean",
          "value": 3,
          "x": 273.4922746010011,
          "y": 322.4702261363694
         },
         {
          "edge": 12,
          "pair": [
           "MmeMagloire",
           "Valjean"
          ],
          "source": "MmeMagloire",
          "target": "Valjean",
          "value": 3,
          "x": 125.7733408837536,
          "y": 404.16087306824807
         },
         {
          "edge": 12,
          "pair": [
           "MmeMagloire",
           "Valjean"
          ],
          "source": "MmeMagloire",
          "target": "Valjean",
          "value": 3,
          "x": 273.4922746010011,
          "y": 322.4702261363694
         },
         {
          "edge": 13,
          "pair": [
           "Labarre",
           "Valjean"
          ],
          "source": "Labarre",
          "target": "Valjean",
          "value": 1,
          "x": 231.31647941283063,
          "y": 276.7871062714864
         },
         {
          "edge": 13,
          "pair": [
           "Labarre",
           "Valjean"
          ],
          "source": "Labarre",
          "target": "Valjean",
          "value": 1,
          "x": 273.4922746010011,
          "y": 322.4702261363694
         },
         {
          "edge": 14,
          "pair": [
           "Valjean",
           "Marguerite"
          ],
          "source": "Valjean",
          "target": "Marguerite",
          "value": 1,
          "x": 273.4922746010011,
          "y": 322.4702261363694
         },
         {
          "edge": 14,
          "pair": [
           "Valjean",
           "Marguerite"
          ],
          "source": "Valjean",
          "target": "Marguerite",
          "value": 1,
          "x": 312.9072675355339,
          "y": 418.62015127560585
         },
         {
          "edge": 15,
          "pair": [
           "Valjean",
           "MmeDeR"
          ],
          "source": "Valjean",
          "target": "MmeDeR",
          "value": 1,
          "x": 273.4922746010011,
          "y": 322.4702261363694
         },
         {
          "edge": 15,
          "pair": [
           "Valjean",
           "MmeDeR"
          ],
          "source": "Valjean",
          "target": "MmeDeR",
          "value": 1,
          "x": 220.78265839408107,
          "y": 345.82066154588216
         },
         {
          "edge": 16,
          "pair": [
           "Valjean",
           "Isabeau"
          ],
          "source": "Valjean",
          "target": "Isabeau",
          "value": 1,
          "x": 273.4922746010011,
          "y": 322.4702261363694
         },
         {
          "edge": 16,
          "pair": [
           "Valjean",
           "Isabeau"
          ],
          "source": "Valjean",
          "target": "Isabeau",
          "value": 1,
          "x": 216.56508578643917,
          "y": 301.37199585116576
         },
         {
          "edge": 17,
          "pair": [
           "Valjean",
           "Gervais"
          ],
          "source": "Valjean",
          "target": "Gervais",
          "value": 1,
          "x": 273.4922746010011,
          "y": 322.4702261363694
         },
         {
          "edge": 17,
          "pair": [
           "Valjean",
           "Gervais"
          ],
          "source": "Valjean",
          "target": "Gervais",
          "value": 1,
          "x": 218.24617107772525,
          "y": 285.5936120507003
         },
         {
          "edge": 18,
          "pair": [
           "Valjean",
           "Fantine"
          ],
          "source": "Valjean",
          "target": "Fantine",
          "value": 9,
          "x": 273.4922746010011,
          "y": 322.4702261363694
         },
         {
          "edge": 18,
          "pair": [
           "Valjean",
           "Fantine"
          ],
          "source": "Valjean",
          "target": "Fantine",
          "value": 9,
          "x": 394.2300877928052,
          "y": 453.28806877609907
         },
         {
          "edge": 19,
          "pair": [
           "Valjean",
           "MmeThenardier"
          ],
          "source": "Valjean",
          "target": "MmeThenardier",
          "value": 7,
          "x": 273.4922746010011,
          "y": 322.4702261363694
         },
         {
          "edge": 19,
          "pair": [
           "Valjean",
           "MmeThenardier"
          ],
          "source": "Valjean",
          "target": "MmeThenardier",
          "value": 7,
          "x": 407.2614569273463,
          "y": 352.54667306108263
         },
         {
          "edge": 20,
          "pair": [
           "Valjean",
           "Thenardier"
          ],
          "source": "Valjean",
          "target": "Thenardier",
          "value": 12,
          "x": 273.4922746010011,
          "y": 322.4702261363694
         },
         {
          "edge": 20,
          "pair": [
           "Valjean",
           "Thenardier"
          ],
          "source": "Valjean",
          "target": "Thenardier",
          "value": 12,
          "x": 400.16393198430916,
          "y": 300.49196332885236
         },
         {
          "edge": 21,
          "pair": [
           "Valjean",
           "Cosette"
          ],
          "source": "Valjean",
          "target": "Cosette",
          "value": 31,
          "x": 273.4922746010011,
          "y": 322.4702261363694
         },
         {
          "edge": 21,
          "pair": [
           "Valjean",
           "Cosette"
          ],
          "source": "Valjean",
          "target": "Cosette",
          "value": 31,
          "x": 352.9149758822849,
          "y": 289.97741073049264
         },
         {
          "edge": 22,
          "pair": [
           "Valjean",
           "Javert"
          ],
          "source": "Valjean",
          "target": "Javert",
          "value": 17,
          "x": 273.4922746010011,
          "y": 322.4702261363694
         },
         {
          "edge": 22,
          "pair": [
           "Valjean",
           "Javert"
          ],
          "source": "Valjean",
          "target": "Javert",
          "value": 17,
          "x": 366.18112581004635,
          "y": 340.3385675543636
         },
         {
          "edge": 23,
          "pair": [
           "Valjean",
           "Fauchelevent"
          ],
          "source": "Valjean",
          "target": "Fauchelevent",
          "value": 8,
          "x": 273.4922746010011,
          "y": 322.4702261363694
         },
         {
          "edge": 23,
          "pair": [
           "Valjean",
           "Fauchelevent"
          ],
          "source": "Valjean",
          "target": "Fauchelevent",
          "value": 8,
          "x": 263.19137315804517,
          "y": 402.43922087186564
         },
         {
          "edge": 24,
          "pair": [
           "Valjean",
           "Bamatabois"
          ],
          "source": "Valjean",
          "target": "Bamatabois",
          "value": 2,
          "x": 273.4922746010011,
          "y": 322.4702261363694
         },
         {
          "edge": 24,
          "pair": [
           "Valjean",
           "Bamatabois"
          ],
          "source": "Valjean",
          "target": "Bamatabois",
          "value": 2,
          "x": 179.42656051523377,
          "y": 336.36373194357117
         },
         {
          "edge": 25,
          "pair": [
           "Valjean",
           "Simplice"
          ],
          "source": "Valjean",
          "target": "Simplice",
          "value": 3,
          "x": 273.4922746010011,
          "y": 322.4702261363694
         },
         {
          "edge": 25,
          "pair": [
           "Valjean",
           "Simplice"
          ],
          "source": "Valjean",
          "target": "Simplice",
          "value": 3,
          "x": 340.52243415638713,
          "y": 416.8610083871528
         },
         {
          "edge": 26,
          "pair": [
           "Valjean",
           "Scaufflaire"
          ],
          "source": "Valjean",
          "target": "Scaufflaire",
          "value": 1,
          "x": 273.4922746010011,
          "y": 322.4702261363694
         },
         {
          "edge": 26,
          "pair": [
           "Valjean",
           "Scaufflaire"
          ],
          "source": "Valjean",
          "target": "Scaufflaire",
          "value": 1,
          "x": 229.14671389600306,
          "y": 361.6699773780994
         },
         {
          "edge": 27,
          "pair": [
           "Valjean",
           "Woman1"
          ],
          "source": "Valjean",
          "target": "Woman1",
          "value": 2,
          "x": 273.4922746010011,
          "y": 322.4702261363694
         },
         {
          "edge": 27,
          "pair": [
           "Valjean",
           "Woman1"
          ],
          "source": "Valjean",
          "target": "Woman1",
          "value": 2,
          "x": 311.3535910087553,
          "y": 365.9339324742364
         },
         {
          "edge": 28,
          "pair": [
           "Valjean",
           "Judge"
          ],
          "source": "Valjean",
          "target": "Judge",
          "value": 3,
          "x": 273.4922746010011,
          "y": 322.4702261363694
         },
         {
          "edge": 28,
          "pair": [
           "Valjean",
           "Judge"
          ],
          "source": "Valjean",
          "target": "Judge",
          "value": 3,
          "x": 111.06083405187384,
          "y": 285.8700943207655
         },
         {
          "edge": 29,
          "pair": [
           "Valjean",
           "Champmathieu"
          ],
          "source": "Valjean",
          "target": "Champmathieu",
          "value": 3,
          "x": 273.4922746010011,
          "y": 322.4702261363694
         },
         {
          "edge": 29,
          "pair": [
           "Valjean",
           "Champmathieu"
          ],
          "source": "Valjean",
          "target": "Champmathieu",
          "value": 3,
          "x": 138.17289039603324,
          "y": 285.30751117450717
         },
         {
          "edge": 30,
          "pair": [
           "Valjean",
           "Brevet"
          ],
          "source": "Valjean",
          "target": "Brevet",
          "value": 2,
          "x": 273.4922746010011,
          "y": 322.4702261363694
         },
         {
          "edge": 30,
          "pair": [
           "Valjean",
           "Brevet"
          ],
          "source": "Valjean",
          "target": "Brevet",
          "value": 2,
          "x": 136.9553010209153,
          "y": 306.755197933076
         },
         {
          "edge": 31,
          "pair": [
           "Valjean",
           "Chenildieu"
          ],
          "source": "Valjean",
          "target": "Chenildieu",
          "value": 2,
          "x": 273.4922746010011,
          "y": 322.4702261363694
         },
         {
          "edge": 31,
          "pair": [
           "Valjean",
           "Chenildieu"
          ],
          "source": "Valjean",
          "target": "Chenildieu",
          "value": 2,
          "x": 101.97788671328394,
          "y": 306.2257603579743
         },
         {
          "edge": 32,
          "pair": [
           "Valjean",
           "Cochepaille"
          ],
          "source": "Valjean",
          "target": "Cochepaille",
          "value": 2,
          "x": 273.4922746010011,
          "y": 322.4702261363694
         },
         {
          "edge": 32,
          "pair": [
           "Valjean",
           "Cochepaille"
          ],
          "source": "Valjean",
          "target": "Cochepaille",
          "value": 2,
          "x": 118.78859183410529,
          "y": 323.31277553074074
         },
         {
          "edge": 33,
          "pair": [
           "Valjean",
           "Woman2"
          ],
          "source": "Valjean",
          "target": "Woman2",
          "value": 3,
          "x": 273.4922746010011,
          "y": 322.4702261363694
         },
         {
          "edge": 33,
          "pair": [
           "Valjean",
           "Woman2"
          ],
          "source": "Valjean",
          "target": "Woman2",
          "value": 3,
          "x": 328.2425423605379,
          "y": 327.0113591518115
         },
         {
          "edge": 34,
          "pair": [
           "Valjean",
           "MotherInnocent"
          ],
          "source": "Valjean",
          "target": "MotherInnocent",
          "value": 1,
          "x": 273.4922746010011,
          "y": 322.4702261363694
         },
         {
          "edge": 34,
          "pair": [
           "Valjean",
           "MotherInnocent"
          ],
          "source": "Valjean",
          "target": "MotherInnocent",
          "value": 1,
          "x": 236.4992741683009,
          "y": 391.4609809357582
         },
         {
          "edge": 35,
          "pair": [
           "Valjean",
           "Gavroche"
          ],
          "source": "Valjean",
          "target": "Gavroche",
          "value": 1,
          "x": 273.4922746010011,
          "y": 322.4702261363694
         },
         {
          "edge": 35,
          "pair": [
           "Valjean",
           "Gavroche"
          ],
          "source": "Valjean",
          "target": "Gavroche",
          "value": 1,
          "x": 523.2907954370992,
          "y": 245.74067573878995
         },
         {
          "edge": 36,
          "pair": [
           "Valjean",
           "Gillenormand"
          ],
          "source": "Valjean",
          "target": "Gillenormand",
          "value": 2,
          "x": 273.4922746010011,
          "y": 322.4702261363694
         },
         {
          "edge": 36,
          "pair": [
           "Valjean",
           "Gillenormand"
          ],
          "source": "Valjean",
          "target": "Gillenormand",
          "value": 2,
          "x": 311.29572546983,
          "y": 236.29136780948323
         },
         {
          "edge": 37,
          "pair": [
           "Valjean",
           "MlleGillenormand"
          ],
          "source": "Valjean",
          "target": "MlleGillenormand",
          "value": 2,
          "x": 273.4922746010011,
          "y": 322.4702261363694
         },
         {
          "edge": 37,
          "pair": [
           "Valjean",
           "MlleGillenormand"
          ],
          "source": "Valjean",
          "target": "MlleGillenormand",
          "value": 2,
          "x": 276.19295293713117,
          "y": 209.7766348385322
         },
         {
          "edge": 38,
          "pair": [
           "Valjean",
           "Marius"
          ],
          "source": "Valjean",
          "target": "Marius",
          "value": 19,
          "x": 273.4922746010011,
          "y": 322.4702261363694
         },
         {
          "edge": 38,
          "pair": [
           "Valjean",
           "Marius"
          ],
          "source": "Valjean",
          "target": "Marius",
          "value": 19,
          "x": 419.0342786383658,
          "y": 225.59354822647282
         },
         {
          "edge": 39,
          "pair": [
           "Valjean",
           "Enjolras"
          ],
          "source": "Valjean",
          "target": "Enjolras",
          "value": 4,
          "x": 273.4922746010011,
          "y": 322.4702261363694
         },
         {
          "edge": 39,
          "pair": [
           "Valjean",
           "Enjolras"
          ],
          "source": "Valjean",
          "target": "Enjolras",
          "value": 4,
          "x": 476.22443646495327,
          "y": 198.99982319960458
         },
         {
          "edge": 40,
          "pair": [
           "Valjean",
           "Bossuet"
          ],
          "source": "Valjean",
          "target": "Bossuet",
          "value": 1,
          "x": 273.4922746010011,
          "y": 322.4702261363694
         },
         {
          "edge": 40,
          "pair": [
           "Valjean",
           "Bossuet"
          ],
          "source": "Valjean",
          "target": "Bossuet",
          "value": 1,
          "x": 470.22590072485184,
          "y": 159.8873674533083
         },
         {
          "edge": 41,
          "pair": [
           "Valjean",
           "Gueulemer"
          ],
          "source": "Valjean",
          "target": "Gueulemer",
          "value": 1,
          "x": 273.4922746010011,
          "y": 322.4702261363694
         },
         {
          "edge": 41,
          "pair": [
           "Valjean",
           "Gueulemer"
          ],
          "source": "Valjean",
          "target": "Gueulemer",
          "value": 1,
          "x": 423.7008310594097,
          "y": 295.4540530685985
         },
         {
          "edge": 42,
          "pair": [
           "Valjean",
           "Babet"
          ],
          "source": "Valjean",
          "target": "Babet",
          "value": 1,
          "x": 273.4922746010011,
          "y": 322.4702261363694
         },
         {
          "edge": 42,
          "pair": [
           "Valjean",
           "Babet"
          ],
          "source": "Valjean",
          "target": "Babet",
          "value": 1,
          "x": 445.00586608248057,
          "y": 335.3863380936513
         },
         {
          "edge": 43,
          "pair": [
           "Valjean",
           "Claquesous"
          ],
          "source": "Valjean",
          "target": "Claquesous",
          "value": 1,
          "x": 273.4922746010011,
          "y": 322.4702261363694
         },
         {
          "edge": 43,
          "pair": [
           "Valjean",
           "Claquesous"
          ],
          "source": "Valjean",
          "target": "Claquesous",
          "value": 1,
          "x": 411.38833025696715,
          "y": 315.52384710893375
         },
         {
          "edge": 44,
          "pair": [
           "Valjean",
           "Montparnasse"
          ],
          "source": "Valjean",
          "target": "Montparnasse",
          "value": 1,
          "x": 273.4922746010011,
          "y": 322.4702261363694
         },
         {
          "edge": 44,
          "pair": [
           "Valjean",
           "Montparnasse"
          ],
          "source": "Valjean",
          "target": "Montparnasse",
          "value": 1,
          "x": 444.7345046363669,
          "y": 311.38600805966485
         },
         {
          "edge": 45,
          "pair": [
           "Valjean",
           "Toussaint"
          ],
          "source": "Valjean",
          "target": "Toussaint",
          "value": 1,
          "x": 273.4922746010011,
          "y": 322.4702261363694
         },
         {
          "edge": 45,
          "pair": [
           "Valjean",
           "Toussaint"
          ],
          "source": "Valjean",
          "target": "Toussaint",
          "value": 1,
          "x": 324.7468041735185,
          "y": 305.90051088076075
         },
         {
          "edge": 46,
          "pair": [
           "Marguerite",
           "Fantine"
          ],
          "source": "Marguerite",
          "target": "Fantine",
          "value": 2,
          "x": 312.9072675355339,
          "y": 418.62015127560585
         },
         {
          "edge": 46,
          "pair": [
           "Marguerite",
           "Fantine"
          ],
          "source": "Marguerite",
          "target": "Fantine",
          "value": 2,
          "x": 394.2300877928052,
          "y": 453.28806877609907
         },
         {
          "edge": 47,
          "pair": [
           "Tholomyes",
           "Listolier"
          ],
          "source": "Tholomyes",
          "target": "Listolier",
          "value": 4,
          "x": 465.4786530020731,
          "y": 463.5537657086481
         },
         {
          "edge": 47,
          "pair": [
           "Tholomyes",
           "Listolier"
          ],
          "source": "Tholomyes",
          "target": "Listolier",
          "value": 4,
          "x": 500.43499363356045,
          "y": 533.7134996245452
         },
         {
          "edge": 48,
          "pair": [
           "Tholomyes",
           "Fameuil"
          ],
          "source": "Tholomyes",
          "target": "Fameuil",
          "value": 4,
          "x": 465.4786530020731,
          "y": 463.5537657086481
         },
         {
          "edge": 48,
          "pair": [
           "Tholomyes",
           "Fameuil"
          ],
          "source": "Tholomyes",
          "target": "Fameuil",
          "value": 4,
          "x": 471.7451840426586,
          "y": 514.2284992551298
         },
         {
          "edge": 49,
          "pair": [
           "Tholomyes",
           "Blacheville"
          ],
          "source": "Tholomyes",
          "target": "Blacheville",
          "value": 4,
          "x": 465.4786530020731,
          "y": 463.5537657086481
         },
         {
          "edge": 49,
          "pair": [
           "Tholomyes",
           "Blacheville"
          ],
          "source": "Tholomyes",
          "target": "Blacheville",
          "value": 4,
          "x": 444.2455159060626,
          "y": 520.7354102246557
         },
         {
          "edge": 50,
          "pair": [
           "Tholomyes",
           "Favourite"
          ],
          "source": "Tholomyes",
          "target": "Favourite",
          "value": 3,
          "x": 465.4786530020731,
          "y": 463.5537657086481
         },
         {
          "edge": 50,
          "pair": [
           "Tholomyes",
           "Favourite"
          ],
          "source": "Tholomyes",
          "target": "Favourite",
          "value": 3,
          "x": 500.69340532607816,
          "y": 511.2879777352466
         },
         {
          "edge": 51,
          "pair": [
           "Tholomyes",
           "Dahlia"
          ],
          "source": "Tholomyes",
          "target": "Dahlia",
          "value": 3,
          "x": 465.4786530020731,
          "y": 463.5537657086481
         },
         {
          "edge": 51,
          "pair": [
           "Tholomyes",
           "Dahlia"
          ],
          "source": "Tholomyes",
          "target": "Dahlia",
          "value": 3,
          "x": 446.2306022240774,
          "y": 542.287889638989
         },
         {
          "edge": 52,
          "pair": [
           "Tholomyes",
           "Zephine"
          ],
          "source": "Tholomyes",
          "target": "Zephine",
          "value": 3,
          "x": 465.4786530020731,
          "y": 463.5537657086481
         },
         {
          "edge": 52,
          "pair": [
           "Tholomyes",
           "Zephine"
          ],
          "source": "Tholomyes",
          "target": "Zephine",
          "value": 3,
          "x": 475.42648293427,
          "y": 544.7068052016323
         },
         {
          "edge": 53,
          "pair": [
           "Tholomyes",
           "Fantine"
          ],
          "source": "Tholomyes",
          "target": "Fantine",
          "value": 3,
          "x": 465.4786530020731,
          "y": 463.5537657086481
         },
         {
          "edge": 53,
          "pair": [
           "Tholomyes",
           "Fantine"
          ],
          "source": "Tholomyes",
          "target": "Fantine",
          "value": 3,
          "x": 394.2300877928052,
          "y": 453.28806877609907
         },
         {
          "edge": 54,
          "pair": [
           "Tholomyes",
           "Cosette"
          ],
          "source": "Tholomyes",
          "target": "Cosette",
          "value": 1,
          "x": 465.4786530020731,
          "y": 463.5537657086481
         },
         {
          "edge": 54,
          "pair": [
           "Tholomyes",
           "Cosette"
          ],
          "source": "Tholomyes",
          "target": "Cosette",
          "value": 1,
          "x": 352.9149758822849,
          "y": 289.97741073049264
         },
         {
          "edge": 55,
          "pair": [
           "Tholomyes",
           "Marius"
          ],
          "source": "Tholomyes",
          "target": "Marius",
          "value": 1,
          "x": 465.4786530020731,
          "y": 463.5537657086481
         },
         {
          "edge": 55,
          "pair": [
           "Tholomyes",
           "Marius"
          ],
          "source": "Tholomyes",
          "target": "Marius",
          "value": 1,
          "x": 419.0342786383658,
          "y": 225.59354822647282
         },
         {
          "edge": 56,
          "pair": [
           "Listolier",
           "Fameuil"
          ],
          "source": "Listolier",
          "target": "Fameuil",
          "value": 4,
          "x": 500.43499363356045,
          "y": 533.7134996245452
         },
         {
          "edge": 56,
          "pair": [
           "Listolier",
           "Fameuil"
          ],
          "source": "Listolier",
          "target": "Fameuil",
          "value": 4,
          "x": 471.7451840426586,
          "y": 514.2284992551298
         },
         {
          "edge": 57,
          "pair": [
           "Listolier",
           "Blacheville"
          ],
          "source": "Listolier",
          "target": "Blacheville",
          "value": 4,
          "x": 500.43499363356045,
          "y": 533.7134996245452
         },
         {
          "edge": 57,
          "pair": [
           "Listolier",
           "Blacheville"
          ],
          "source": "Listolier",
          "target": "Blacheville",
          "value": 4,
          "x": 444.2455159060626,
          "y": 520.7354102246557
         },
         {
          "edge": 58,
          "pair": [
           "Listolier",
           "Favourite"
          ],
          "source": "Listolier",
          "target": "Favourite",
          "value": 3,
          "x": 500.43499363356045,
          "y": 533.7134996245452
         },
         {
          "edge": 58,
          "pair": [
           "Listolier",
           "Favourite"
          ],
          "source": "Listolier",
          "target": "Favourite",
          "value": 3,
          "x": 500.69340532607816,
          "y": 511.2879777352466
         },
         {
          "edge": 59,
          "pair": [
           "Listolier",
           "Dahlia"
          ],
          "source": "Listolier",
          "target": "Dahlia",
          "value": 3,
          "x": 500.43499363356045,
          "y": 533.7134996245452
         },
         {
          "edge": 59,
          "pair": [
           "Listolier",
           "Dahlia"
          ],
          "source": "Listolier",
          "target": "Dahlia",
          "value": 3,
          "x": 446.2306022240774,
          "y": 542.287889638989
         },
         {
          "edge": 60,
          "pair": [
           "Listolier",
           "Zephine"
          ],
          "source": "Listolier",
          "target": "Zephine",
          "value": 3,
          "x": 500.43499363356045,
          "y": 533.7134996245452
         },
         {
          "edge": 60,
          "pair": [
           "Listolier",
           "Zephine"
          ],
          "source": "Listolier",
          "target": "Zephine",
          "value": 3,
          "x": 475.42648293427,
          "y": 544.7068052016323
         },
         {
          "edge": 61,
          "pair": [
           "Listolier",
           "Fantine"
          ],
          "source": "Listolier",
          "target": "Fantine",
          "value": 3,
          "x": 500.43499363356045,
          "y": 533.7134996245452
         },
         {
          "edge": 61,
          "pair": [
           "Listolier",
           "Fantine"
          ],
          "source": "Listolier",
          "target": "Fantine",
          "value": 3,
          "x": 394.2300877928052,
          "y": 453.28806877609907
         },
         {
          "edge": 62,
          "pair": [
           "Fameuil",
           "Blacheville"
          ],
          "source": "Fameuil",
          "target": "Blacheville",
          "value": 4,
          "x": 471.7451840426586,
          "y": 514.2284992551298
         },
         {
          "edge": 62,
          "pair": [
           "Fameuil",
           "Blacheville"
          ],
          "source": "Fameuil",
          "target": "Blacheville",
          "value": 4,
          "x": 444.2455159060626,
          "y": 520.7354102246557
         },
         {
          "edge": 63,
          "pair": [
           "Fameuil",
           "Favourite"
          ],
          "source": "Fameuil",
          "target": "Favourite",
          "value": 3,
          "x": 471.7451840426586,
          "y": 514.2284992551298
         },
         {
          "edge": 63,
          "pair": [
           "Fameuil",
           "Favourite"
          ],
          "source": "Fameuil",
          "target": "Favourite",
          "value": 3,
          "x": 500.69340532607816,
          "y": 511.2879777352466
         },
         {
          "edge": 64,
          "pair": [
           "Fameuil",
           "Dahlia"
          ],
          "source": "Fameuil",
          "target": "Dahlia",
          "value": 3,
          "x": 471.7451840426586,
          "y": 514.2284992551298
         },
         {
          "edge": 64,
          "pair": [
           "Fameuil",
           "Dahlia"
          ],
          "source": "Fameuil",
          "target": "Dahlia",
          "value": 3,
          "x": 446.2306022240774,
          "y": 542.287889638989
         },
         {
          "edge": 65,
          "pair": [
           "Fameuil",
           "Zephine"
          ],
          "source": "Fameuil",
          "target": "Zephine",
          "value": 3,
          "x": 471.7451840426586,
          "y": 514.2284992551298
         },
         {
          "edge": 65,
          "pair": [
           "Fameuil",
           "Zephine"
          ],
          "source": "Fameuil",
          "target": "Zephine",
          "value": 3,
          "x": 475.42648293427,
          "y": 544.7068052016323
         },
         {
          "edge": 66,
          "pair": [
           "Fameuil",
           "Fantine"
          ],
          "source": "Fameuil",
          "target": "Fantine",
          "value": 3,
          "x": 471.7451840426586,
          "y": 514.2284992551298
         },
         {
          "edge": 66,
          "pair": [
           "Fameuil",
           "Fantine"
          ],
          "source": "Fameuil",
          "target": "Fantine",
          "value": 3,
          "x": 394.2300877928052,
          "y": 453.28806877609907
         },
         {
          "edge": 67,
          "pair": [
           "Blacheville",
           "Favourite"
          ],
          "source": "Blacheville",
          "target": "Favourite",
          "value": 4,
          "x": 444.2455159060626,
          "y": 520.7354102246557
         },
         {
          "edge": 67,
          "pair": [
           "Blacheville",
           "Favourite"
          ],
          "source": "Blacheville",
          "target": "Favourite",
          "value": 4,
          "x": 500.69340532607816,
          "y": 511.2879777352466
         },
         {
          "edge": 68,
          "pair": [
           "Blacheville",
           "Dahlia"
          ],
          "source": "Blacheville",
          "target": "Dahlia",
          "value": 3,
          "x": 444.2455159060626,
          "y": 520.7354102246557
         },
         {
          "edge": 68,
          "pair": [
           "Blacheville",
           "Dahlia"
          ],
          "source": "Blacheville",
          "target": "Dahlia",
          "value": 3,
          "x": 446.2306022240774,
          "y": 542.287889638989
         },
         {
          "edge": 69,
          "pair": [
           "Blacheville",
           "Zephine"
          ],
          "source": "Blacheville",
          "target": "Zephine",
          "value": 3,
          "x": 444.2455159060626,
          "y": 520.7354102246557
         },
         {
          "edge": 69,
          "pair": [
           "Blacheville",
           "Zephine"
          ],
          "source": "Blacheville",
          "target": "Zephine",
          "value": 3,
          "x": 475.42648293427,
          "y": 544.7068052016323
         },
         {
          "edge": 70,
          "pair": [
           "Blacheville",
           "Fantine"
          ],
          "source": "Blacheville",
          "target": "Fantine",
          "value": 3,
          "x": 444.2455159060626,
          "y": 520.7354102246557
         },
         {
          "edge": 70,
          "pair": [
           "Blacheville",
           "Fantine"
          ],
          "source": "Blacheville",
          "target": "Fantine",
          "value": 3,
          "x": 394.2300877928052,
          "y": 453.28806877609907
         },
         {
          "edge": 71,
          "pair": [
           "Favourite",
           "Dahlia"
          ],
          "source": "Favourite",
          "target": "Dahlia",
          "value": 5,
          "x": 500.69340532607816,
          "y": 511.2879777352466
         },
         {
          "edge": 71,
          "pair": [
           "Favourite",
           "Dahlia"
          ],
          "source": "Favourite",
          "target": "Dahlia",
          "value": 5,
          "x": 446.2306022240774,
          "y": 542.287889638989
         },
         {
          "edge": 72,
          "pair": [
           "Favourite",
           "Zephine"
          ],
          "source": "Favourite",
          "target": "Zephine",
          "value": 4,
          "x": 500.69340532607816,
          "y": 511.2879777352466
         },
         {
          "edge": 72,
          "pair": [
           "Favourite",
           "Zephine"
          ],
          "source": "Favourite",
          "target": "Zephine",
          "value": 4,
          "x": 475.42648293427,
          "y": 544.7068052016323
         },
         {
          "edge": 73,
          "pair": [
           "Favourite",
           "Fantine"
          ],
          "source": "Favourite",
          "target": "Fantine",
          "value": 4,
          "x": 500.69340532607816,
          "y": 511.2879777352466
         },
         {
          "edge": 73,
          "pair": [
           "Favourite",
           "Fantine"
          ],
          "source": "Favourite",
          "target": "Fantine",
          "value": 4,
          "x": 394.2300877928052,
          "y": 453.28806877609907
         },
         {
          "edge": 74,
          "pair": [
           "Dahlia",
           "Zephine"
          ],
          "source": "Dahlia",
          "target": "Zephine",
          "value": 4,
          "x": 446.2306022240774,
          "y": 542.287889638989
         },
         {
          "edge": 74,
          "pair": [
           "Dahlia",
           "Zephine"
          ],
          "source": "Dahlia",
          "target": "Zephine",
          "value": 4,
          "x": 475.42648293427,
          "y": 544.7068052016323
         },
         {
          "edge": 75,
          "pair": [
           "Dahlia",
           "Fantine"
          ],
          "source": "Dahlia",
          "target": "Fantine",
          "value": 4,
          "x": 446.2306022240774,
          "y": 542.287889638989
         },
         {
          "edge": 75,
          "pair": [
           "Dahlia",
           "Fantine"
          ],
          "source": "Dahlia",
          "target": "Fantine",
          "value": 4,
          "x": 394.2300877928052,
          "y": 453.28806877609907
         },
         {
          "edge": 76,
          "pair": [
           "Zephine",
           "Fantine"
          ],
          "source": "Zephine",
          "target": "Fantine",
          "value": 4,
          "x": 475.42648293427,
          "y": 544.7068052016323
         },
         {
          "edge": 76,
          "pair": [
           "Zephine",
           "Fantine"
          ],
          "source": "Zephine",
          "target": "Fantine",
          "value": 4,
          "x": 394.2300877928052,
          "y": 453.28806877609907
         },
         {
          "edge": 77,
          "pair": [
           "Fantine",
           "MmeThenardier"
          ],
          "source": "Fantine",
          "target": "MmeThenardier",
          "value": 2,
          "x": 394.2300877928052,
          "y": 453.28806877609907
         },
         {
          "edge": 77,
          "pair": [
           "Fantine",
           "MmeThenardier"
          ],
          "source": "Fantine",
          "target": "MmeThenardier",
          "value": 2,
          "x": 407.2614569273463,
          "y": 352.54667306108263
         },
         {
          "edge": 78,
          "pair": [
           "Fantine",
           "Thenardier"
          ],
          "source": "Fantine",
          "target": "Thenardier",
          "value": 1,
          "x": 394.2300877928052,
          "y": 453.28806877609907
         },
         {
          "edge": 78,
          "pair": [
           "Fantine",
           "Thenardier"
          ],
          "source": "Fantine",
          "target": "Thenardier",
          "value": 1,
          "x": 400.16393198430916,
          "y": 300.49196332885236
         },
         {
          "edge": 79,
          "pair": [
           "Fantine",
           "Javert"
          ],
          "source": "Fantine",
          "target": "Javert",
          "value": 5,
          "x": 394.2300877928052,
          "y": 453.28806877609907
         },
         {
          "edge": 79,
          "pair": [
           "Fantine",
           "Javert"
          ],
          "source": "Fantine",
          "target": "Javert",
          "value": 5,
          "x": 366.18112581004635,
          "y": 340.3385675543636
         },
         {
          "edge": 80,
          "pair": [
           "Fantine",
           "Bamatabois"
          ],
          "source": "Fantine",
          "target": "Bamatabois",
          "value": 1,
          "x": 394.2300877928052,
          "y": 453.28806877609907
         },
         {
          "edge": 80,
          "pair": [
           "Fantine",
           "Bamatabois"
          ],
          "source": "Fantine",
          "target": "Bamatabois",
          "value": 1,
          "x": 179.42656051523377,
          "y": 336.36373194357117
         },
         {
          "edge": 81,
          "pair": [
           "Fantine",
           "Perpetue"
          ],
          "source": "Fantine",
          "target": "Perpetue",
          "value": 1,
          "x": 394.2300877928052,
          "y": 453.28806877609907
         },
         {
          "edge": 81,
          "pair": [
           "Fantine",
           "Perpetue"
          ],
          "source": "Fantine",
          "target": "Perpetue",
          "value": 1,
          "x": 342.3857994650774,
          "y": 467.6586646245634
         },
         {
          "edge": 82,
          "pair": [
           "Fantine",
           "Simplice"
          ],
          "source": "Fantine",
          "target": "Simplice",
          "value": 2,
          "x": 394.2300877928052,
          "y": 453.28806877609907
         },
         {
          "edge": 82,
          "pair": [
           "Fantine",
           "Simplice"
          ],
          "source": "Fantine",
          "target": "Simplice",
          "value": 2,
          "x": 340.52243415638713,
          "y": 416.8610083871528
         },
         {
          "edge": 83,
          "pair": [
           "MmeThenardier",
           "Thenardier"
          ],
          "source": "MmeThenardier",
          "target": "Thenardier",
          "value": 13,
          "x": 407.2614569273463,
          "y": 352.54667306108263
         },
         {
          "edge": 83,
          "pair": [
           "MmeThenardier",
           "Thenardier"
          ],
          "source": "MmeThenardier",
          "target": "Thenardier",
          "value": 13,
          "x": 400.16393198430916,
          "y": 300.49196332885236
         },
         {
          "edge": 84,
          "pair": [
           "MmeThenardier",
           "Cosette"
          ],
          "source": "MmeThenardier",
          "target": "Cosette",
          "value": 4,
          "x": 407.2614569273463,
          "y": 352.54667306108263
         },
         {
          "edge": 84,
          "pair": [
           "MmeThenardier",
           "Cosette"
          ],
          "source": "MmeThenardier",
          "target": "Cosette",
          "value": 4,
          "x": 352.9149758822849,
          "y": 289.97741073049264
         },
         {
          "edge": 85,
          "pair": [
           "MmeThenardier",
           "Javert"
          ],
          "source": "MmeThenardier",
          "target": "Javert",
          "value": 1,
          "x": 407.2614569273463,
          "y": 352.54667306108263
         },
         {
          "edge": 85,
          "pair": [
           "MmeThenardier",
           "Javert"
          ],
          "source": "MmeThenardier",
          "target": "Javert",
          "value": 1,
          "x": 366.18112581004635,
          "y": 340.3385675543636
         },
         {
          "edge": 86,
          "pair": [
           "MmeThenardier",
           "Eponine"
          ],
          "source": "MmeThenardier",
          "target": "Eponine",
          "value": 2,
          "x": 407.2614569273463,
          "y": 352.54667306108263
         },
         {
          "edge": 86,
          "pair": [
           "MmeThenardier",
           "Eponine"
          ],
          "source": "MmeThenardier",
          "target": "Eponine",
          "value": 2,
          "x": 483.0218293546819,
          "y": 295.75517442727664
         },
         {
          "edge": 87,
          "pair": [
           "MmeThenardier",
           "Anzelma"
          ],
          "source": "MmeThenardier",
          "target": "Anzelma",
          "value": 1,
          "x": 407.2614569273463,
          "y": 352.54667306108263
         },
         {
          "edge": 87,
          "pair": [
           "MmeThenardier",
           "Anzelma"
          ],
          "source": "MmeThenardier",
          "target": "Anzelma",
          "value": 1,
          "x": 468.41405838672773,
          "y": 356.9377062061481
         },
         {
          "edge": 88,
          "pair": [
           "MmeThenardier",
           "Magnon"
          ],
          "source": "MmeThenardier",
          "target": "Magnon",
          "value": 1,
          "x": 407.2614569273463,
          "y": 352.54667306108263
         },
         {
          "edge": 88,
          "pair": [
           "MmeThenardier",
           "Magnon"
          ],
          "source": "MmeThenardier",
          "target": "Magnon",
          "value": 1,
          "x": 352.09621255071494,
          "y": 268.546043929974
         },
         {
          "edge": 89,
          "pair": [
           "MmeThenardier",
           "Gueulemer"
          ],
          "source": "MmeThenardier",
          "target": "Gueulemer",
          "value": 1,
          "x": 407.2614569273463,
          "y": 352.54667306108263
         },
         {
          "edge": 89,
          "pair": [
           "MmeThenardier",
           "Gueulemer"
          ],
          "source": "MmeThenardier",
          "target": "Gueulemer",
          "value": 1,
          "x": 423.7008310594097,
          "y": 295.4540530685985
         },
         {
          "edge": 90,
          "pair": [
           "MmeThenardier",
           "Babet"
          ],
          "source": "MmeThenardier",
          "target": "Babet",
          "value": 1,
          "x": 407.2614569273463,
          "y": 352.54667306108263
         },
         {
          "edge": 90,
          "pair": [
           "MmeThenardier",
           "Babet"
          ],
          "source": "MmeThenardier",
          "target": "Babet",
          "value": 1,
          "x": 445.00586608248057,
          "y": 335.3863380936513
         },
         {
          "edge": 91,
          "pair": [
           "MmeThenardier",
           "Claquesous"
          ],
          "source": "MmeThenardier",
          "target": "Claquesous",
          "value": 1,
          "x": 407.2614569273463,
          "y": 352.54667306108263
         },
         {
          "edge": 91,
          "pair": [
           "MmeThenardier",
           "Claquesous"
          ],
          "source": "MmeThenardier",
          "target": "Claquesous",
          "value": 1,
          "x": 411.38833025696715,
          "y": 315.52384710893375
         },
         {
          "edge": 92,
          "pair": [
           "Thenardier",
           "Cosette"
          ],
          "source": "Thenardier",
          "target": "Cosette",
          "value": 1,
          "x": 400.16393198430916,
          "y": 300.49196332885236
         },
         {
          "edge": 92,
          "pair": [
           "Thenardier",
           "Cosette"
          ],
          "source": "Thenardier",
          "target": "Cosette",
          "value": 1,
          "x": 352.9149758822849,
          "y": 289.97741073049264
         },
         {
          "edge": 93,
          "pair": [
           "Thenardier",
           "Javert"
          ],
          "source": "Thenardier",
          "target": "Javert",
          "value": 5,
          "x": 400.16393198430916,
          "y": 300.49196332885236
         },
         {
          "edge": 93,
          "pair": [
           "Thenardier",
           "Javert"
          ],
          "source": "Thenardier",
          "target": "Javert",
          "value": 5,
          "x": 366.18112581004635,
          "y": 340.3385675543636
         },
         {
          "edge": 94,
          "pair": [
           "Thenardier",
           "Pontmercy"
          ],
          "source": "Thenardier",
          "target": "Pontmercy",
          "value": 1,
          "x": 400.16393198430916,
          "y": 300.49196332885236
         },
         {
          "edge": 94,
          "pair": [
           "Thenardier",
           "Pontmercy"
          ],
          "source": "Thenardier",
          "target": "Pontmercy",
          "value": 1,
          "x": 349.6477948577683,
          "y": 209.73362814953936
         },
         {
          "edge": 95,
          "pair": [
           "Thenardier",
           "Boulatruelle"
          ],
          "source": "Thenardier",
          "target": "Boulatruelle",
          "value": 1,
          "x": 400.16393198430916,
          "y": 300.49196332885236
         },
         {
          "edge": 95,
          "pair": [
           "Thenardier",
           "Boulatruelle"
          ],
          "source": "Thenardier",
          "target": "Boulatruelle",
          "value": 1,
          "x": 484.6797065794882,
          "y": 350.74035524358584
         },
         {
          "edge": 96,
          "pair": [
           "Thenardier",
           "Eponine"
          ],
          "source": "Thenardier",
          "target": "Eponine",
          "value": 3,
          "x": 400.16393198430916,
          "y": 300.49196332885236
         },
         {
          "edge": 96,
          "pair": [
           "Thenardier",
           "Eponine"
          ],
          "source": "Thenardier",
          "target": "Eponine",
          "value": 3,
          "x": 483.0218293546819,
          "y": 295.75517442727664
         },
         {
          "edge": 97,
          "pair": [
           "Thenardier",
           "Anzelma"
          ],
          "source": "Thenardier",
          "target": "Anzelma",
          "value": 2,
          "x": 400.16393198430916,
          "y": 300.49196332885236
         },
         {
          "edge": 97,
          "pair": [
           "Thenardier",
           "Anzelma"
          ],
          "source": "Thenardier",
          "target": "Anzelma",
          "value": 2,
          "x": 468.41405838672773,
          "y": 356.9377062061481
         },
         {
          "edge": 98,
          "pair": [
           "Thenardier",
           "Gavroche"
          ],
          "source": "Thenardier",
          "target": "Gavroche",
          "value": 1,
          "x": 400.16393198430916,
          "y": 300.49196332885236
         },
         {
          "edge": 98,
          "pair": [
           "Thenardier",
           "Gavroche"
          ],
          "source": "Thenardier",
          "target": "Gavroche",
          "value": 1,
          "x": 523.2907954370992,
          "y": 245.74067573878995
         },
         {
          "edge": 99,
          "pair": [
           "Thenardier",
           "Marius"
          ],
          "source": "Thenardier",
          "target": "Marius",
          "value": 2,
          "x": 400.16393198430916,
          "y": 300.49196332885236
         },
         {
          "edge": 99,
          "pair": [
           "Thenardier",
           "Marius"
          ],
          "source": "Thenardier",
          "target": "Marius",
          "value": 2,
          "x": 419.0342786383658,
          "y": 225.59354822647282
         },
         {
          "edge": 100,
          "pair": [
           "Thenardier",
           "Gueulemer"
          ],
          "source": "Thenardier",
          "target": "Gueulemer",
          "value": 5,
          "x": 400.16393198430916,
          "y": 300.49196332885236
         },
         {
          "edge": 100,
          "pair": [
           "Thenardier",
           "Gueulemer"
          ],
          "source": "Thenardier",
          "target": "Gueulemer",
          "value": 5,
          "x": 423.7008310594097,
          "y": 295.4540530685985
         },
         {
          "edge": 101,
          "pair": [
           "Thenardier",
           "Babet"
          ],
          "source": "Thenardier",
          "target": "Babet",
          "value": 6,
          "x": 400.16393198430916,
          "y": 300.49196332885236
         },
         {
          "edge": 101,
          "pair": [
           "Thenardier",
           "Babet"
          ],
          "source": "Thenardier",
          "target": "Babet",
          "value": 6,
          "x": 445.00586608248057,
          "y": 335.3863380936513
         },
         {
          "edge": 102,
          "pair": [
           "Thenardier",
           "Claquesous"
          ],
          "source": "Thenardier",
          "target": "Claquesous",
          "value": 4,
          "x": 400.16393198430916,
          "y": 300.49196332885236
         },
         {
          "edge": 102,
          "pair": [
           "Thenardier",
           "Claquesous"
          ],
          "source": "Thenardier",
          "target": "Claquesous",
          "value": 4,
          "x": 411.38833025696715,
          "y": 315.52384710893375
         },
         {
          "edge": 103,
          "pair": [
           "Thenardier",
           "Montparnasse"
          ],
          "source": "Thenardier",
          "target": "Montparnasse",
          "value": 1,
          "x": 400.16393198430916,
          "y": 300.49196332885236
         },
         {
          "edge": 103,
          "pair": [
           "Thenardier",
           "Montparnasse"
          ],
          "source": "Thenardier",
          "target": "Montparnasse",
          "value": 1,
          "x": 444.7345046363669,
          "y": 311.38600805966485
         },
         {
          "edge": 104,
          "pair": [
           "Thenardier",
           "Brujon"
          ],
          "source": "Thenardier",
          "target": "Brujon",
          "value": 3,
          "x": 400.16393198430916,
          "y": 300.49196332885236
         },
         {
          "edge": 104,
          "pair": [
           "Thenardier",
           "Brujon"
          ],
          "source": "Thenardier",
          "target": "Brujon",
          "value": 3,
          "x": 493.86420752495866,
          "y": 323.13433500448474
         },
         {
          "edge": 105,
          "pair": [
           "Cosette",
           "Javert"
          ],
          "source": "Cosette",
          "target": "Javert",
          "value": 1,
          "x": 352.9149758822849,
          "y": 289.97741073049264
         },
         {
          "edge": 105,
          "pair": [
           "Cosette",
           "Javert"
          ],
          "source": "Cosette",
          "target": "Javert",
          "value": 1,
          "x": 366.18112581004635,
          "y": 340.3385675543636
         },
         {
          "edge": 106,
          "pair": [
           "Cosette",
           "Woman2"
          ],
          "source": "Cosette",
          "target": "Woman2",
          "value": 1,
          "x": 352.9149758822849,
          "y": 289.97741073049264
         },
         {
          "edge": 106,
          "pair": [
           "Cosette",
           "Woman2"
          ],
          "source": "Cosette",
          "target": "Woman2",
          "value": 1,
          "x": 328.2425423605379,
          "y": 327.0113591518115
         },
         {
          "edge": 107,
          "pair": [
           "Cosette",
           "Gillenormand"
          ],
          "source": "Cosette",
          "target": "Gillenormand",
          "value": 3,
          "x": 352.9149758822849,
          "y": 289.97741073049264
         },
         {
          "edge": 107,
          "pair": [
           "Cosette",
           "Gillenormand"
          ],
          "source": "Cosette",
          "target": "Gillenormand",
          "value": 3,
          "x": 311.29572546983,
          "y": 236.29136780948323
         },
         {
          "edge": 108,
          "pair": [
           "Cosette",
           "MlleGillenormand"
          ],
          "source": "Cosette",
          "target": "MlleGillenormand",
          "value": 2,
          "x": 352.9149758822849,
          "y": 289.97741073049264
         },
         {
          "edge": 108,
          "pair": [
           "Cosette",
           "MlleGillenormand"
          ],
          "source": "Cosette",
          "target": "MlleGillenormand",
          "value": 2,
          "x": 276.19295293713117,
          "y": 209.7766348385322
         },
         {
          "edge": 109,
          "pair": [
           "Cosette",
           "LtGillenormand"
          ],
          "source": "Cosette",
          "target": "LtGillenormand",
          "value": 1,
          "x": 352.9149758822849,
          "y": 289.97741073049264
         },
         {
          "edge": 109,
          "pair": [
           "Cosette",
           "LtGillenormand"
          ],
          "source": "Cosette",
          "target": "LtGillenormand",
          "value": 1,
          "x": 317.49551362712725,
          "y": 214.2769188272173
         },
         {
          "edge": 110,
          "pair": [
           "Cosette",
           "Marius"
          ],
          "source": "Cosette",
          "target": "Marius",
          "value": 21,
          "x": 352.9149758822849,
          "y": 289.97741073049264
         },
         {
          "edge": 110,
          "pair": [
           "Cosette",
           "Marius"
          ],
          "source": "Cosette",
          "target": "Marius",
          "value": 21,
          "x": 419.0342786383658,
          "y": 225.59354822647282
         },
         {
          "edge": 111,
          "pair": [
           "Cosette",
           "Toussaint"
          ],
          "source": "Cosette",
          "target": "Toussaint",
          "value": 2,
          "x": 352.9149758822849,
          "y": 289.97741073049264
         },
         {
          "edge": 111,
          "pair": [
           "Cosette",
           "Toussaint"
          ],
          "source": "Cosette",
          "target": "Toussaint",
          "value": 2,
          "x": 324.7468041735185,
          "y": 305.90051088076075
         },
         {
          "edge": 112,
          "pair": [
           "Javert",
           "Fauchelevent"
          ],
          "source": "Javert",
          "target": "Fauchelevent",
          "value": 1,
          "x": 366.18112581004635,
          "y": 340.3385675543636
         },
         {
          "edge": 112,
          "pair": [
           "Javert",
           "Fauchelevent"
          ],
          "source": "Javert",
          "target": "Fauchelevent",
          "value": 1,
          "x": 263.19137315804517,
          "y": 402.43922087186564
         },
         {
          "edge": 113,
          "pair": [
           "Javert",
           "Bamatabois"
          ],
          "source": "Javert",
          "target": "Bamatabois",
          "value": 1,
          "x": 366.18112581004635,
          "y": 340.3385675543636
         },
         {
          "edge": 113,
          "pair": [
           "Javert",
           "Bamatabois"
          ],
          "source": "Javert",
          "target": "Bamatabois",
          "value": 1,
          "x": 179.42656051523377,
          "y": 336.36373194357117
         },
         {
          "edge": 114,
          "pair": [
           "Javert",
           "Simplice"
          ],
          "source": "Javert",
          "target": "Simplice",
          "value": 1,
          "x": 366.18112581004635,
          "y": 340.3385675543636
         },
         {
          "edge": 114,
          "pair": [
           "Javert",
           "Simplice"
          ],
          "source": "Javert",
          "target": "Simplice",
          "value": 1,
          "x": 340.52243415638713,
          "y": 416.8610083871528
         },
         {
          "edge": 115,
          "pair": [
           "Javert",
           "Woman1"
          ],
          "source": "Javert",
          "target": "Woman1",
          "value": 1,
          "x": 366.18112581004635,
          "y": 340.3385675543636
         },
         {
          "edge": 115,
          "pair": [
           "Javert",
           "Woman1"
          ],
          "source": "Javert",
          "target": "Woman1",
          "value": 1,
          "x": 311.3535910087553,
          "y": 365.9339324742364
         },
         {
          "edge": 116,
          "pair": [
           "Javert",
           "Woman2"
          ],
          "source": "Javert",
          "target": "Woman2",
          "value": 1,
          "x": 366.18112581004635,
          "y": 340.3385675543636
         },
         {
          "edge": 116,
          "pair": [
           "Javert",
           "Woman2"
          ],
          "source": "Javert",
          "target": "Woman2",
          "value": 1,
          "x": 328.2425423605379,
          "y": 327.0113591518115
         },
         {
          "edge": 117,
          "pair": [
           "Javert",
           "Gavroche"
          ],
          "source": "Javert",
          "target": "Gavroche",
          "value": 1,
          "x": 366.18112581004635,
          "y": 340.3385675543636
         },
         {
          "edge": 117,
          "pair": [
           "Javert",
           "Gavroche"
          ],
          "source": "Javert",
          "target": "Gavroche",
          "value": 1,
          "x": 523.2907954370992,
          "y": 245.74067573878995
         },
         {
          "edge": 118,
          "pair": [
           "Javert",
           "Enjolras"
          ],
          "source": "Javert",
          "target": "Enjolras",
          "value": 6,
          "x": 366.18112581004635,
          "y": 340.3385675543636
         },
         {
          "edge": 118,
          "pair": [
           "Javert",
           "Enjolras"
          ],
          "source": "Javert",
          "target": "Enjolras",
          "value": 6,
          "x": 476.22443646495327,
          "y": 198.99982319960458
         },
         {
          "edge": 119,
          "pair": [
           "Javert",
           "Gueulemer"
          ],
          "source": "Javert",
          "target": "Gueulemer",
          "value": 1,
          "x": 366.18112581004635,
          "y": 340.3385675543636
         },
         {
          "edge": 119,
          "pair": [
           "Javert",
           "Gueulemer"
          ],
          "source": "Javert",
          "target": "Gueulemer",
          "value": 1,
          "x": 423.7008310594097,
          "y": 295.4540530685985
         },
         {
          "edge": 120,
          "pair": [
           "Javert",
           "Babet"
          ],
          "source": "Javert",
          "target": "Babet",
          "value": 2,
          "x": 366.18112581004635,
          "y": 340.3385675543636
         },
         {
          "edge": 120,
          "pair": [
           "Javert",
           "Babet"
          ],
          "source": "Javert",
          "target": "Babet",
          "value": 2,
          "x": 445.00586608248057,
          "y": 335.3863380936513
         },
         {
          "edge": 121,
          "pair": [
           "Javert",
           "Claquesous"
          ],
          "source": "Javert",
          "target": "Claquesous",
          "value": 1,
          "x": 366.18112581004635,
          "y": 340.3385675543636
         },
         {
          "edge": 121,
          "pair": [
           "Javert",
           "Claquesous"
          ],
          "source": "Javert",
          "target": "Claquesous",
          "value": 1,
          "x": 411.38833025696715,
          "y": 315.52384710893375
         },
         {
          "edge": 122,
          "pair": [
           "Javert",
           "Montparnasse"
          ],
          "source": "Javert",
          "target": "Montparnasse",
          "value": 1,
          "x": 366.18112581004635,
          "y": 340.3385675543636
         },
         {
          "edge": 122,
          "pair": [
           "Javert",
           "Montparnasse"
          ],
          "source": "Javert",
          "target": "Montparnasse",
          "value": 1,
          "x": 444.7345046363669,
          "y": 311.38600805966485
         },
         {
          "edge": 123,
          "pair": [
           "Javert",
           "Toussaint"
          ],
          "source": "Javert",
          "target": "Toussaint",
          "value": 1,
          "x": 366.18112581004635,
          "y": 340.3385675543636
         },
         {
          "edge": 123,
          "pair": [
           "Javert",
           "Toussaint"
          ],
          "source": "Javert",
          "target": "Toussaint",
          "value": 1,
          "x": 324.7468041735185,
          "y": 305.90051088076075
         },
         {
          "edge": 124,
          "pair": [
           "Fauchelevent",
           "MotherInnocent"
          ],
          "source": "Fauchelevent",
          "target": "MotherInnocent",
          "value": 3,
          "x": 263.19137315804517,
          "y": 402.43922087186564
         },
         {
          "edge": 124,
          "pair": [
           "Fauchelevent",
           "MotherInnocent"
          ],
          "source": "Fauchelevent",
          "target": "MotherInnocent",
          "value": 3,
          "x": 236.4992741683009,
          "y": 391.4609809357582
         },
         {
          "edge": 125,
          "pair": [
           "Fauchelevent",
           "Gribier"
          ],
          "source": "Fauchelevent",
          "target": "Gribier",
          "value": 2,
          "x": 263.19137315804517,
          "y": 402.43922087186564
         },
         {
          "edge": 125,
          "pair": [
           "Fauchelevent",
           "Gribier"
          ],
          "source": "Fauchelevent",
          "target": "Gribier",
          "value": 2,
          "x": 235.86294188659633,
          "y": 445.23631967904157
         },
         {
          "edge": 126,
          "pair": [
           "Bamatabois",
           "Judge"
          ],
          "source": "Bamatabois",
          "target": "Judge",
          "value": 2,
          "x": 179.42656051523377,
          "y": 336.36373194357117
         },
         {
          "edge": 126,
          "pair": [
           "Bamatabois",
           "Judge"
          ],
          "source": "Bamatabois",
          "target": "Judge",
          "value": 2,
          "x": 111.06083405187384,
          "y": 285.8700943207655
         },
         {
          "edge": 127,
          "pair": [
           "Bamatabois",
           "Champmathieu"
          ],
          "source": "Bamatabois",
          "target": "Champmathieu",
          "value": 2,
          "x": 179.42656051523377,
          "y": 336.36373194357117
         },
         {
          "edge": 127,
          "pair": [
           "Bamatabois",
           "Champmathieu"
          ],
          "source": "Bamatabois",
          "target": "Champmathieu",
          "value": 2,
          "x": 138.17289039603324,
          "y": 285.30751117450717
         },
         {
          "edge": 128,
          "pair": [
           "Bamatabois",
           "Brevet"
          ],
          "source": "Bamatabois",
          "target": "Brevet",
          "value": 1,
          "x": 179.42656051523377,
          "y": 336.36373194357117
         },
         {
          "edge": 128,
          "pair": [
           "Bamatabois",
           "Brevet"
          ],
          "source": "Bamatabois",
          "target": "Brevet",
          "value": 1,
          "x": 136.9553010209153,
          "y": 306.755197933076
         },
         {
          "edge": 129,
          "pair": [
           "Bamatabois",
           "Chenildieu"
          ],
          "source": "Bamatabois",
          "target": "Chenildieu",
          "value": 1,
          "x": 179.42656051523377,
          "y": 336.36373194357117
         },
         {
          "edge": 129,
          "pair": [
           "Bamatabois",
           "Chenildieu"
          ],
          "source": "Bamatabois",
          "target": "Chenildieu",
          "value": 1,
          "x": 101.97788671328394,
          "y": 306.2257603579743
         },
         {
          "edge": 130,
          "pair": [
           "Bamatabois",
           "Cochepaille"
          ],
          "source": "Bamatabois",
          "target": "Cochepaille",
          "value": 1,
          "x": 179.42656051523377,
          "y": 336.36373194357117
         },
         {
          "edge": 130,
          "pair": [
           "Bamatabois",
           "Cochepaille"
          ],
          "source": "Bamatabois",
          "target": "Cochepaille",
          "value": 1,
          "x": 118.78859183410529,
          "y": 323.31277553074074
         },
         {
          "edge": 131,
          "pair": [
           "Perpetue",
           "Simplice"
          ],
          "source": "Perpetue",
          "target": "Simplice",
          "value": 2,
          "x": 342.3857994650774,
          "y": 467.6586646245634
         },
         {
          "edge": 131,
          "pair": [
           "Perpetue",
           "Simplice"
          ],
          "source": "Perpetue",
          "target": "Simplice",
          "value": 2,
          "x": 340.52243415638713,
          "y": 416.8610083871528
         },
         {
          "edge": 132,
          "pair": [
           "Judge",
           "Champmathieu"
          ],
          "source": "Judge",
          "target": "Champmathieu",
          "value": 3,
          "x": 111.06083405187384,
          "y": 285.8700943207655
         },
         {
          "edge": 132,
          "pair": [
           "Judge",
           "Champmathieu"
          ],
          "source": "Judge",
          "target": "Champmathieu",
          "value": 3,
          "x": 138.17289039603324,
          "y": 285.30751117450717
         },
         {
          "edge": 133,
          "pair": [
           "Judge",
           "Brevet"
          ],
          "source": "Judge",
          "target": "Brevet",
          "value": 2,
          "x": 111.06083405187384,
          "y": 285.8700943207655
         },
         {
          "edge": 133,
          "pair": [
           "Judge",
           "Brevet"
          ],
          "source": "Judge",
          "target": "Brevet",
          "value": 2,
          "x": 136.9553010209153,
          "y": 306.755197933076
         },
         {
          "edge": 134,
          "pair": [
           "Judge",
           "Chenildieu"
          ],
          "source": "Judge",
          "target": "Chenildieu",
          "value": 2,
          "x": 111.06083405187384,
          "y": 285.8700943207655
         },
         {
          "edge": 134,
          "pair": [
           "Judge",
           "Chenildieu"
          ],
          "source": "Judge",
          "target": "Chenildieu",
          "value": 2,
          "x": 101.97788671328394,
          "y": 306.2257603579743
         },
         {
          "edge": 135,
          "pair": [
           "Judge",
           "Cochepaille"
          ],
          "source": "Judge",
          "target": "Cochepaille",
          "value": 2,
          "x": 111.06083405187384,
          "y": 285.8700943207655
         },
         {
          "edge": 135,
          "pair": [
           "Judge",
           "Cochepaille"
          ],
          "source": "Judge",
          "target": "Cochepaille",
          "value": 2,
          "x": 118.78859183410529,
          "y": 323.31277553074074
         },
         {
          "edge": 136,
          "pair": [
           "Champmathieu",
           "Brevet"
          ],
          "source": "Champmathieu",
          "target": "Brevet",
          "value": 2,
          "x": 138.17289039603324,
          "y": 285.30751117450717
         },
         {
          "edge": 136,
          "pair": [
           "Champmathieu",
           "Brevet"
          ],
          "source": "Champmathieu",
          "target": "Brevet",
          "value": 2,
          "x": 136.9553010209153,
          "y": 306.755197933076
         },
         {
          "edge": 137,
          "pair": [
           "Champmathieu",
           "Chenildieu"
          ],
          "source": "Champmathieu",
          "target": "Chenildieu",
          "value": 2,
          "x": 138.17289039603324,
          "y": 285.30751117450717
         },
         {
          "edge": 137,
          "pair": [
           "Champmathieu",
           "Chenildieu"
          ],
          "source": "Champmathieu",
          "target": "Chenildieu",
          "value": 2,
          "x": 101.97788671328394,
          "y": 306.2257603579743
         },
         {
          "edge": 138,
          "pair": [
           "Champmathieu",
           "Cochepaille"
          ],
          "source": "Champmathieu",
          "target": "Cochepaille",
          "value": 2,
          "x": 138.17289039603324,
          "y": 285.30751117450717
         },
         {
          "edge": 138,
          "pair": [
           "Champmathieu",
           "Cochepaille"
          ],
          "source": "Champmathieu",
          "target": "Cochepaille",
          "value": 2,
          "x": 118.78859183410529,
          "y": 323.31277553074074
         },
         {
          "edge": 139,
          "pair": [
           "Brevet",
           "Chenildieu"
          ],
          "source": "Brevet",
          "target": "Chenildieu",
          "value": 2,
          "x": 136.9553010209153,
          "y": 306.755197933076
         },
         {
          "edge": 139,
          "pair": [
           "Brevet",
           "Chenildieu"
          ],
          "source": "Brevet",
          "target": "Chenildieu",
          "value": 2,
          "x": 101.97788671328394,
          "y": 306.2257603579743
         },
         {
          "edge": 140,
          "pair": [
           "Brevet",
           "Cochepaille"
          ],
          "source": "Brevet",
          "target": "Cochepaille",
          "value": 2,
          "x": 136.9553010209153,
          "y": 306.755197933076
         },
         {
          "edge": 140,
          "pair": [
           "Brevet",
           "Cochepaille"
          ],
          "source": "Brevet",
          "target": "Cochepaille",
          "value": 2,
          "x": 118.78859183410529,
          "y": 323.31277553074074
         },
         {
          "edge": 141,
          "pair": [
           "Chenildieu",
           "Cochepaille"
          ],
          "source": "Chenildieu",
          "target": "Cochepaille",
          "value": 2,
          "x": 101.97788671328394,
          "y": 306.2257603579743
         },
         {
          "edge": 141,
          "pair": [
           "Chenildieu",
           "Cochepaille"
          ],
          "source": "Chenildieu",
          "target": "Cochepaille",
          "value": 2,
          "x": 118.78859183410529,
          "y": 323.31277553074074
         },
         {
          "edge": 142,
          "pair": [
           "Pontmercy",
           "MmePontmercy"
          ],
          "source": "Pontmercy",
          "target": "MmePontmercy",
          "value": 1,
          "x": 349.6477948577683,
          "y": 209.73362814953936
         },
         {
          "edge": 142,
          "pair": [
           "Pontmercy",
           "MmePontmercy"
          ],
          "source": "Pontmercy",
          "target": "MmePontmercy",
          "value": 1,
          "x": 278.0437025632891,
          "y": 170.81823201167052
         },
         {
          "edge": 143,
          "pair": [
           "Pontmercy",
           "Marius"
          ],
          "source": "Pontmercy",
          "target": "Marius",
          "value": 1,
          "x": 349.6477948577683,
          "y": 209.73362814953936
         },
         {
          "edge": 143,
          "pair": [
           "Pontmercy",
           "Marius"
          ],
          "source": "Pontmercy",
          "target": "Marius",
          "value": 1,
          "x": 419.0342786383658,
          "y": 225.59354822647282
         },
         {
          "edge": 144,
          "pair": [
           "Eponine",
           "Anzelma"
          ],
          "source": "Eponine",
          "target": "Anzelma",
          "value": 2,
          "x": 483.0218293546819,
          "y": 295.75517442727664
         },
         {
          "edge": 144,
          "pair": [
           "Eponine",
           "Anzelma"
          ],
          "source": "Eponine",
          "target": "Anzelma",
          "value": 2,
          "x": 468.41405838672773,
          "y": 356.9377062061481
         },
         {
          "edge": 145,
          "pair": [
           "Eponine",
           "Marius"
          ],
          "source": "Eponine",
          "target": "Marius",
          "value": 5,
          "x": 483.0218293546819,
          "y": 295.75517442727664
         },
         {
          "edge": 145,
          "pair": [
           "Eponine",
           "Marius"
          ],
          "source": "Eponine",
          "target": "Marius",
          "value": 5,
          "x": 419.0342786383658,
          "y": 225.59354822647282
         },
         {
          "edge": 146,
          "pair": [
           "Eponine",
           "Mabeuf"
          ],
          "source": "Eponine",
          "target": "Mabeuf",
          "value": 1,
          "x": 483.0218293546819,
          "y": 295.75517442727664
         },
         {
          "edge": 146,
          "pair": [
           "Eponine",
           "Mabeuf"
          ],
          "source": "Eponine",
          "target": "Mabeuf",
          "value": 1,
          "x": 572.5777311916509,
          "y": 210.10783866691796
         },
         {
          "edge": 147,
          "pair": [
           "Eponine",
           "Courfeyrac"
          ],
          "source": "Eponine",
          "target": "Courfeyrac",
          "value": 1,
          "x": 483.0218293546819,
          "y": 295.75517442727664
         },
         {
          "edge": 147,
          "pair": [
           "Eponine",
           "Courfeyrac"
          ],
          "source": "Eponine",
          "target": "Courfeyrac",
          "value": 1,
          "x": 530.1953223884157,
          "y": 182.04199172099828
         },
         {
          "edge": 148,
          "pair": [
           "Eponine",
           "Gueulemer"
          ],
          "source": "Eponine",
          "target": "Gueulemer",
          "value": 1,
          "x": 483.0218293546819,
          "y": 295.75517442727664
         },
         {
          "edge": 148,
          "pair": [
           "Eponine",
           "Gueulemer"
          ],
          "source": "Eponine",
          "target": "Gueulemer",
          "value": 1,
          "x": 423.7008310594097,
          "y": 295.4540530685985
         },
         {
          "edge": 149,
          "pair": [
           "Eponine",
           "Babet"
          ],
          "source": "Eponine",
          "target": "Babet",
          "value": 1,
          "x": 483.0218293546819,
          "y": 295.75517442727664
         },
         {
          "edge": 149,
          "pair": [
           "Eponine",
           "Babet"
          ],
          "source": "Eponine",
          "target": "Babet",
          "value": 1,
          "x": 445.00586608248057,
          "y": 335.3863380936513
         },
         {
          "edge": 150,
          "pair": [
           "Eponine",
           "Claquesous"
          ],
          "source": "Eponine",
          "target": "Claquesous",
          "value": 1,
          "x": 483.0218293546819,
          "y": 295.75517442727664
         },
         {
          "edge": 150,
          "pair": [
           "Eponine",
           "Claquesous"
          ],
          "source": "Eponine",
          "target": "Claquesous",
          "value": 1,
          "x": 411.38833025696715,
          "y": 315.52384710893375
         },
         {
          "edge": 151,
          "pair": [
           "Eponine",
           "Montparnasse"
          ],
          "source": "Eponine",
          "target": "Montparnasse",
          "value": 1,
          "x": 483.0218293546819,
          "y": 295.75517442727664
         },
         {
          "edge": 151,
          "pair": [
           "Eponine",
           "Montparnasse"
          ],
          "source": "Eponine",
          "target": "Montparnasse",
          "value": 1,
          "x": 444.7345046363669,
          "y": 311.38600805966485
         },
         {
          "edge": 152,
          "pair": [
           "Eponine",
           "Brujon"
          ],
          "source": "Eponine",
          "target": "Brujon",
          "value": 1,
          "x": 483.0218293546819,
          "y": 295.75517442727664
         },
         {
          "edge": 152,
          "pair": [
           "Eponine",
           "Brujon"
          ],
          "source": "Eponine",
          "target": "Brujon",
          "value": 1,
          "x": 493.86420752495866,
          "y": 323.13433500448474
         },
         {
          "edge": 153,
          "pair": [
           "Jondrette",
           "MmeBurgon"
          ],
          "source": "Jondrette",
          "target": "MmeBurgon",
          "value": 1,
          "x": 729.0739366315212,
          "y": 305.54303174618065
         },
         {
          "edge": 153,
          "pair": [
           "Jondrette",
           "MmeBurgon"
          ],
          "source": "Jondrette",
          "target": "MmeBurgon",
          "value": 1,
          "x": 676.1294564746647,
          "y": 290.4903364592788
         },
         {
          "edge": 154,
          "pair": [
           "MmeBurgon",
           "Gavroche"
          ],
          "source": "MmeBurgon",
          "target": "Gavroche",
          "value": 2,
          "x": 676.1294564746647,
          "y": 290.4903364592788
         },
         {
          "edge": 154,
          "pair": [
           "MmeBurgon",
           "Gavroche"
          ],
          "source": "MmeBurgon",
          "target": "Gavroche",
          "value": 2,
          "x": 523.2907954370992,
          "y": 245.74067573878995
         },
         {
          "edge": 155,
          "pair": [
           "Gavroche",
           "Marius"
          ],
          "source": "Gavroche",
          "target": "Marius",
          "value": 4,
          "x": 523.2907954370992,
          "y": 245.74067573878995
         },
         {
          "edge": 155,
          "pair": [
           "Gavroche",
           "Marius"
          ],
          "source": "Gavroche",
          "target": "Marius",
          "value": 4,
          "x": 419.0342786383658,
          "y": 225.59354822647282
         },
         {
          "edge": 156,
          "pair": [
           "Gavroche",
           "Mabeuf"
          ],
          "source": "Gavroche",
          "target": "Mabeuf",
          "value": 1,
          "x": 523.2907954370992,
          "y": 245.74067573878995
         },
         {
          "edge": 156,
          "pair": [
           "Gavroche",
           "Mabeuf"
          ],
          "source": "Gavroche",
          "target": "Mabeuf",
          "value": 1,
          "x": 572.5777311916509,
          "y": 210.10783866691796
         },
         {
          "edge": 157,
          "pair": [
           "Gavroche",
           "Enjolras"
          ],
          "source": "Gavroche",
          "target": "Enjolras",
          "value": 7,
          "x": 523.2907954370992,
          "y": 245.74067573878995
         },
         {
          "edge": 157,
          "pair": [
           "Gavroche",
           "Enjolras"
          ],
          "source": "Gavroche",
          "target": "Enjolras",
          "value": 7,
          "x": 476.22443646495327,
          "y": 198.99982319960458
         },
         {
          "edge": 158,
          "pair": [
           "Gavroche",
           "Combeferre"
          ],
          "source": "Gavroche",
          "target": "Combeferre",
          "value": 6,
          "x": 523.2907954370992,
          "y": 245.74067573878995
         },
         {
          "edge": 158,
          "pair": [
           "Gavroche",
           "Combeferre"
          ],
          "source": "Gavroche",
          "target": "Combeferre",
          "value": 6,
          "x": 543.2309141131057,
          "y": 138.37245313836567
         },
         {
          "edge": 159,
          "pair": [
           "Gavroche",
           "Prouvaire"
          ],
          "source": "Gavroche",
          "target": "Prouvaire",
          "value": 1,
          "x": 523.2907954370992,
          "y": 245.74067573878995
         },
         {
          "edge": 159,
          "pair": [
           "Gavroche",
           "Prouvaire"
          ],
          "source": "Gavroche",
          "target": "Prouvaire",
          "value": 1,
          "x": 586.8258145719633,
          "y": 131.04061100685195
         },
         {
          "edge": 160,
          "pair": [
           "Gavroche",
           "Feuilly"
          ],
          "source": "Gavroche",
          "target": "Feuilly",
          "value": 2,
          "x": 523.2907954370992,
          "y": 245.74067573878995
         },
         {
          "edge": 160,
          "pair": [
           "Gavroche",
           "Feuilly"
          ],
          "source": "Gavroche",
          "target": "Feuilly",
          "value": 2,
          "x": 588.5054944296545,
          "y": 172.48940816015286
         },
         {
          "edge": 161,
          "pair": [
           "Gavroche",
           "Courfeyrac"
          ],
          "source": "Gavroche",
          "target": "Courfeyrac",
          "value": 7,
          "x": 523.2907954370992,
          "y": 245.74067573878995
         },
         {
          "edge": 161,
          "pair": [
           "Gavroche",
           "Courfeyrac"
          ],
          "source": "Gavroche",
          "target": "Courfeyrac",
          "value": 7,
          "x": 530.1953223884157,
          "y": 182.04199172099828
         },
         {
          "edge": 162,
          "pair": [
           "Gavroche",
           "Bahorel"
          ],
          "source": "Gavroche",
          "target": "Bahorel",
          "value": 5,
          "x": 523.2907954370992,
          "y": 245.74067573878995
         },
         {
          "edge": 162,
          "pair": [
           "Gavroche",
           "Bahorel"
          ],
          "source": "Gavroche",
          "target": "Bahorel",
          "value": 5,
          "x": 558.6356879383688,
          "y": 157.8862652032679
         },
         {
          "edge": 163,
          "pair": [
           "Gavroche",
           "Bossuet"
          ],
          "source": "Gavroche",
          "target": "Bossuet",
          "value": 5,
          "x": 523.2907954370992,
          "y": 245.74067573878995
         },
         {
          "edge": 163,
          "pair": [
           "Gavroche",
           "Bossuet"
          ],
          "source": "Gavroche",
          "target": "Bossuet",
          "value": 5,
          "x": 470.22590072485184,
          "y": 159.8873674533083
         },
         {
          "edge": 164,
          "pair": [
           "Gavroche",
           "Joly"
          ],
          "source": "Gavroche",
          "target": "Joly",
          "value": 3,
          "x": 523.2907954370992,
          "y": 245.74067573878995
         },
         {
          "edge": 164,
          "pair": [
           "Gavroche",
           "Joly"
          ],
          "source": "Gavroche",
          "target": "Joly",
          "value": 3,
          "x": 508.02632310745616,
          "y": 141.20083428820914
         },
         {
          "edge": 165,
          "pair": [
           "Gavroche",
           "Grantaire"
          ],
          "source": "Gavroche",
          "target": "Grantaire",
          "value": 1,
          "x": 523.2907954370992,
          "y": 245.74067573878995
         },
         {
          "edge": 165,
          "pair": [
           "Gavroche",
           "Grantaire"
          ],
          "source": "Gavroche",
          "target": "Grantaire",
          "value": 1,
          "x": 539.5560145989812,
          "y": 108.76186276655808
         },
         {
          "edge": 166,
          "pair": [
           "Gavroche",
           "Gueulemer"
          ],
          "source": "Gavroche",
          "target": "Gueulemer",
          "value": 1,
          "x": 523.2907954370992,
          "y": 245.74067573878995
         },
         {
          "edge": 166,
          "pair": [
           "Gavroche",
           "Gueulemer"
          ],
          "source": "Gavroche",
          "target": "Gueulemer",
          "value": 1,
          "x": 423.7008310594097,
          "y": 295.4540530685985
         },
         {
          "edge": 167,
          "pair": [
           "Gavroche",
           "Babet"
          ],
          "source": "Gavroche",
          "target": "Babet",
          "value": 1,
          "x": 523.2907954370992,
          "y": 245.74067573878995
         },
         {
          "edge": 167,
          "pair": [
           "Gavroche",
           "Babet"
          ],
          "source": "Gavroche",
          "target": "Babet",
          "value": 1,
          "x": 445.00586608248057,
          "y": 335.3863380936513
         },
         {
          "edge": 168,
          "pair": [
           "Gavroche",
           "Montparnasse"
          ],
          "source": "Gavroche",
          "target": "Montparnasse",
          "value": 1,
          "x": 523.2907954370992,
          "y": 245.74067573878995
         },
         {
          "edge": 168,
          "pair": [
           "Gavroche",
           "Montparnasse"
          ],
          "source": "Gavroche",
          "target": "Montparnasse",
          "value": 1,
          "x": 444.7345046363669,
          "y": 311.38600805966485
         },
         {
          "edge": 169,
          "pair": [
           "Gavroche",
           "Child1"
          ],
          "source": "Gavroche",
          "target": "Child1",
          "value": 2,
          "x": 523.2907954370992,
          "y": 245.74067573878995
         },
         {
          "edge": 169,
          "pair": [
           "Gavroche",
           "Child1"
          ],
          "source": "Gavroche",
          "target": "Child1",
          "value": 2,
          "x": 628.0697875039461,
          "y": 282.63730464751507
         },
         {
          "edge": 170,
          "pair": [
           "Gavroche",
           "Child2"
          ],
          "source": "Gavroche",
          "target": "Child2",
          "value": 2,
          "x": 523.2907954370992,
          "y": 245.74067573878995
         },
         {
          "edge": 170,
          "pair": [
           "Gavroche",
           "Child2"
          ],
          "source": "Gavroche",
          "target": "Child2",
          "value": 2,
          "x": 619.3934506818871,
          "y": 293.00381939314923
         },
         {
          "edge": 171,
          "pair": [
           "Gavroche",
           "Brujon"
          ],
          "source": "Gavroche",
          "target": "Brujon",
          "value": 1,
          "x": 523.2907954370992,
          "y": 245.74067573878995
         },
         {
          "edge": 171,
          "pair": [
           "Gavroche",
           "Brujon"
          ],
          "source": "Gavroche",
          "target": "Brujon",
          "value": 1,
          "x": 493.86420752495866,
          "y": 323.13433500448474
         },
         {
          "edge": 172,
          "pair": [
           "Gavroche",
           "MmeHucheloup"
          ],
          "source": "Gavroche",
          "target": "MmeHucheloup",
          "value": 1,
          "x": 523.2907954370992,
          "y": 245.74067573878995
         },
         {
          "edge": 172,
          "pair": [
           "Gavroche",
           "MmeHucheloup"
          ],
          "source": "Gavroche",
          "target": "MmeHucheloup",
          "value": 1,
          "x": 481.3503874028918,
          "y": 120.36235586827388
         },
         {
          "edge": 173,
          "pair": [
           "Gillenormand",
           "Magnon"
          ],
          "source": "Gillenormand",
          "target": "Magnon",
          "value": 1,
          "x": 311.29572546983,
          "y": 236.29136780948323
         },
         {
          "edge": 173,
          "pair": [
           "Gillenormand",
           "Magnon"
          ],
          "source": "Gillenormand",
          "target": "Magnon",
          "value": 1,
          "x": 352.09621255071494,
          "y": 268.546043929974
         },
         {
          "edge": 174,
          "pair": [
           "Gillenormand",
           "MlleGillenormand"
          ],
          "source": "Gillenormand",
          "target": "MlleGillenormand",
          "value": 9,
          "x": 311.29572546983,
          "y": 236.29136780948323
         },
         {
          "edge": 174,
          "pair": [
           "Gillenormand",
           "MlleGillenormand"
          ],
          "source": "Gillenormand",
          "target": "MlleGillenormand",
          "value": 9,
          "x": 276.19295293713117,
          "y": 209.7766348385322
         },
         {
          "edge": 175,
          "pair": [
           "Gillenormand",
           "LtGillenormand"
          ],
          "source": "Gillenormand",
          "target": "LtGillenormand",
          "value": 1,
          "x": 311.29572546983,
          "y": 236.29136780948323
         },
         {
          "edge": 175,
          "pair": [
           "Gillenormand",
           "LtGillenormand"
          ],
          "source": "Gillenormand",
          "target": "LtGillenormand",
          "value": 1,
          "x": 317.49551362712725,
          "y": 214.2769188272173
         },
         {
          "edge": 176,
          "pair": [
           "Gillenormand",
           "Marius"
          ],
          "source": "Gillenormand",
          "target": "Marius",
          "value": 12,
          "x": 311.29572546983,
          "y": 236.29136780948323
         },
         {
          "edge": 176,
          "pair": [
           "Gillenormand",
           "Marius"
          ],
          "source": "Gillenormand",
          "target": "Marius",
          "value": 12,
          "x": 419.0342786383658,
          "y": 225.59354822647282
         },
         {
          "edge": 177,
          "pair": [
           "Gillenormand",
           "BaronessT"
          ],
          "source": "Gillenormand",
          "target": "BaronessT",
          "value": 1,
          "x": 311.29572546983,
          "y": 236.29136780948323
         },
         {
          "edge": 177,
          "pair": [
           "Gillenormand",
           "BaronessT"
          ],
          "source": "Gillenormand",
          "target": "BaronessT",
          "value": 1,
          "x": 336.889509626011,
          "y": 189.34816988339003
         },
         {
          "edge": 178,
          "pair": [
           "MlleGillenormand",
           "MmePontmercy"
          ],
          "source": "MlleGillenormand",
          "target": "MmePontmercy",
          "value": 1,
          "x": 276.19295293713117,
          "y": 209.7766348385322
         },
         {
          "edge": 178,
          "pair": [
           "MlleGillenormand",
           "MmePontmercy"
          ],
          "source": "MlleGillenormand",
          "target": "MmePontmercy",
          "value": 1,
          "x": 278.0437025632891,
          "y": 170.81823201167052
         },
         {
          "edge": 179,
          "pair": [
           "MlleGillenormand",
           "MlleVaubois"
          ],
          "source": "MlleGillenormand",
          "target": "MlleVaubois",
          "value": 1,
          "x": 276.19295293713117,
          "y": 209.7766348385322
         },
         {
          "edge": 179,
          "pair": [
           "MlleGillenormand",
           "MlleVaubois"
          ],
          "source": "MlleGillenormand",
          "target": "MlleVaubois",
          "value": 1,
          "x": 225.50242822581086,
          "y": 169.2875724906835
         },
         {
          "edge": 180,
          "pair": [
           "MlleGillenormand",
           "LtGillenormand"
          ],
          "source": "MlleGillenormand",
          "target": "LtGillenormand",
          "value": 2,
          "x": 276.19295293713117,
          "y": 209.7766348385322
         },
         {
          "edge": 180,
          "pair": [
           "MlleGillenormand",
           "LtGillenormand"
          ],
          "source": "MlleGillenormand",
          "target": "LtGillenormand",
          "value": 2,
          "x": 317.49551362712725,
          "y": 214.2769188272173
         },
         {
          "edge": 181,
          "pair": [
           "MlleGillenormand",
           "Marius"
          ],
          "source": "MlleGillenormand",
          "target": "Marius",
          "value": 6,
          "x": 276.19295293713117,
          "y": 209.7766348385322
         },
         {
          "edge": 181,
          "pair": [
           "MlleGillenormand",
           "Marius"
          ],
          "source": "MlleGillenormand",
          "target": "Marius",
          "value": 6,
          "x": 419.0342786383658,
          "y": 225.59354822647282
         },
         {
          "edge": 182,
          "pair": [
           "LtGillenormand",
           "Marius"
          ],
          "source": "LtGillenormand",
          "target": "Marius",
          "value": 1,
          "x": 317.49551362712725,
          "y": 214.2769188272173
         },
         {
          "edge": 182,
          "pair": [
           "LtGillenormand",
           "Marius"
          ],
          "source": "LtGillenormand",
          "target": "Marius",
          "value": 1,
          "x": 419.0342786383658,
          "y": 225.59354822647282
         },
         {
          "edge": 183,
          "pair": [
           "Marius",
           "BaronessT"
          ],
          "source": "Marius",
          "target": "BaronessT",
          "value": 1,
          "x": 419.0342786383658,
          "y": 225.59354822647282
         },
         {
          "edge": 183,
          "pair": [
           "Marius",
           "BaronessT"
          ],
          "source": "Marius",
          "target": "BaronessT",
          "value": 1,
          "x": 336.889509626011,
          "y": 189.34816988339003
         },
         {
          "edge": 184,
          "pair": [
           "Marius",
           "Mabeuf"
          ],
          "source": "Marius",
          "target": "Mabeuf",
          "value": 1,
          "x": 419.0342786383658,
          "y": 225.59354822647282
         },
         {
          "edge": 184,
          "pair": [
           "Marius",
           "Mabeuf"
          ],
          "source": "Marius",
          "target": "Mabeuf",
          "value": 1,
          "x": 572.5777311916509,
          "y": 210.10783866691796
         },
         {
          "edge": 185,
          "pair": [
           "Marius",
           "Enjolras"
          ],
          "source": "Marius",
          "target": "Enjolras",
          "value": 7,
          "x": 419.0342786383658,
          "y": 225.59354822647282
         },
         {
          "edge": 185,
          "pair": [
           "Marius",
           "Enjolras"
          ],
          "source": "Marius",
          "target": "Enjolras",
          "value": 7,
          "x": 476.22443646495327,
          "y": 198.99982319960458
         },
         {
          "edge": 186,
          "pair": [
           "Marius",
           "Combeferre"
          ],
          "source": "Marius",
          "target": "Combeferre",
          "value": 5,
          "x": 419.0342786383658,
          "y": 225.59354822647282
         },
         {
          "edge": 186,
          "pair": [
           "Marius",
           "Combeferre"
          ],
          "source": "Marius",
          "target": "Combeferre",
          "value": 5,
          "x": 543.2309141131057,
          "y": 138.37245313836567
         },
         {
          "edge": 187,
          "pair": [
           "Marius",
           "Feuilly"
          ],
          "source": "Marius",
          "target": "Feuilly",
          "value": 1,
          "x": 419.0342786383658,
          "y": 225.59354822647282
         },
         {
          "edge": 187,
          "pair": [
           "Marius",
           "Feuilly"
          ],
          "source": "Marius",
          "target": "Feuilly",
          "value": 1,
          "x": 588.5054944296545,
          "y": 172.48940816015286
         },
         {
          "edge": 188,
          "pair": [
           "Marius",
           "Courfeyrac"
          ],
          "source": "Marius",
          "target": "Courfeyrac",
          "value": 9,
          "x": 419.0342786383658,
          "y": 225.59354822647282
         },
         {
          "edge": 188,
          "pair": [
           "Marius",
           "Courfeyrac"
          ],
          "source": "Marius",
          "target": "Courfeyrac",
          "value": 9,
          "x": 530.1953223884157,
          "y": 182.04199172099828
         },
         {
          "edge": 189,
          "pair": [
           "Marius",
           "Bahorel"
          ],
          "source": "Marius",
          "target": "Bahorel",
          "value": 1,
          "x": 419.0342786383658,
          "y": 225.59354822647282
         },
         {
          "edge": 189,
          "pair": [
           "Marius",
           "Bahorel"
          ],
          "source": "Marius",
          "target": "Bahorel",
          "value": 1,
          "x": 558.6356879383688,
          "y": 157.8862652032679
         },
         {
          "edge": 190,
          "pair": [
           "Marius",
           "Bossuet"
          ],
          "source": "Marius",
          "target": "Bossuet",
          "value": 5,
          "x": 419.0342786383658,
          "y": 225.59354822647282
         },
         {
          "edge": 190,
          "pair": [
           "Marius",
           "Bossuet"
          ],
          "source": "Marius",
          "target": "Bossuet",
          "value": 5,
          "x": 470.22590072485184,
          "y": 159.8873674533083
         },
         {
          "edge": 191,
          "pair": [
           "Marius",
           "Joly"
          ],
          "source": "Marius",
          "target": "Joly",
          "value": 2,
          "x": 419.0342786383658,
          "y": 225.59354822647282
         },
         {
          "edge": 191,
          "pair": [
           "Marius",
           "Joly"
          ],
          "source": "Marius",
          "target": "Joly",
          "value": 2,
          "x": 508.02632310745616,
          "y": 141.20083428820914
         },
         {
          "edge": 192,
          "pair": [
           "Mabeuf",
           "Enjolras"
          ],
          "source": "Mabeuf",
          "target": "Enjolras",
          "value": 1,
          "x": 572.5777311916509,
          "y": 210.10783866691796
         },
         {
          "edge": 192,
          "pair": [
           "Mabeuf",
           "Enjolras"
          ],
          "source": "Mabeuf",
          "target": "Enjolras",
          "value": 1,
          "x": 476.22443646495327,
          "y": 198.99982319960458
         },
         {
          "edge": 193,
          "pair": [
           "Mabeuf",
           "Combeferre"
          ],
          "source": "Mabeuf",
          "target": "Combeferre",
          "value": 2,
          "x": 572.5777311916509,
          "y": 210.10783866691796
         },
         {
          "edge": 193,
          "pair": [
           "Mabeuf",
           "Combeferre"
          ],
          "source": "Mabeuf",
          "target": "Combeferre",
          "value": 2,
          "x": 543.2309141131057,
          "y": 138.37245313836567
         },
         {
          "edge": 194,
          "pair": [
           "Mabeuf",
           "Feuilly"
          ],
          "source": "Mabeuf",
          "target": "Feuilly",
          "value": 1,
          "x": 572.5777311916509,
          "y": 210.10783866691796
         },
         {
          "edge": 194,
          "pair": [
           "Mabeuf",
           "Feuilly"
          ],
          "source": "Mabeuf",
          "target": "Feuilly",
          "value": 1,
          "x": 588.5054944296545,
          "y": 172.48940816015286
         },
         {
          "edge": 195,
          "pair": [
           "Mabeuf",
           "Courfeyrac"
          ],
          "source": "Mabeuf",
          "target": "Courfeyrac",
          "value": 2,
          "x": 572.5777311916509,
          "y": 210.10783866691796
         },
         {
          "edge": 195,
          "pair": [
           "Mabeuf",
           "Courfeyrac"
          ],
          "source": "Mabeuf",
          "target": "Courfeyrac",
          "value": 2,
          "x": 530.1953223884157,
          "y": 182.04199172099828
         },
         {
          "edge": 196,
          "pair": [
           "Mabeuf",
           "Bahorel"
          ],
          "source": "Mabeuf",
          "target": "Bahorel",
          "value": 2,
          "x": 572.5777311916509,
          "y": 210.10783866691796
         },
         {
          "edge": 196,
          "pair": [
           "Mabeuf",
           "Bahorel"
          ],
          "source": "Mabeuf",
          "target": "Bahorel",
          "value": 2,
          "x": 558.6356879383688,
          "y": 157.8862652032679
         },
         {
          "edge": 197,
          "pair": [
           "Mabeuf",
           "Bossuet"
          ],
          "source": "Mabeuf",
          "target": "Bossuet",
          "value": 1,
          "x": 572.5777311916509,
          "y": 210.10783866691796
         },
         {
          "edge": 197,
          "pair": [
           "Mabeuf",
           "Bossuet"
          ],
          "source": "Mabeuf",
          "target": "Bossuet",
          "value": 1,
          "x": 470.22590072485184,
          "y": 159.8873674533083
         },
         {
          "edge": 198,
          "pair": [
           "Mabeuf",
           "Joly"
          ],
          "source": "Mabeuf",
          "target": "Joly",
          "value": 1,
          "x": 572.5777311916509,
          "y": 210.10783866691796
         },
         {
          "edge": 198,
          "pair": [
           "Mabeuf",
           "Joly"
          ],
          "source": "Mabeuf",
          "target": "Joly",
          "value": 1,
          "x": 508.02632310745616,
          "y": 141.20083428820914
         },
         {
          "edge": 199,
          "pair": [
           "Mabeuf",
           "MotherPlutarch"
          ],
          "source": "Mabeuf",
          "target": "MotherPlutarch",
          "value": 3,
          "x": 572.5777311916509,
          "y": 210.10783866691796
         },
         {
          "edge": 199,
          "pair": [
           "Mabeuf",
           "MotherPlutarch"
          ],
          "source": "Mabeuf",
          "target": "MotherPlutarch",
          "value": 3,
          "x": 662.3244783007859,
          "y": 217.23034459416638
         },
         {
          "edge": 200,
          "pair": [
           "Enjolras",
           "Combeferre"
          ],
          "source": "Enjolras",
          "target": "Combeferre",
          "value": 15,
          "x": 476.22443646495327,
          "y": 198.99982319960458
         },
         {
          "edge": 200,
          "pair": [
           "Enjolras",
           "Combeferre"
          ],
          "source": "Enjolras",
          "target": "Combeferre",
          "value": 15,
          "x": 543.2309141131057,
          "y": 138.37245313836567
         },
         {
          "edge": 201,
          "pair": [
           "Enjolras",
           "Prouvaire"
          ],
          "source": "Enjolras",
          "target": "Prouvaire",
          "value": 4,
          "x": 476.22443646495327,
          "y": 198.99982319960458
         },
         {
          "edge": 201,
          "pair": [
           "Enjolras",
           "Prouvaire"
          ],
          "source": "Enjolras",
          "target": "Prouvaire",
          "value": 4,
          "x": 586.8258145719633,
          "y": 131.04061100685195
         },
         {
          "edge": 202,
          "pair": [
           "Enjolras",
           "Feuilly"
          ],
          "source": "Enjolras",
          "target": "Feuilly",
          "value": 6,
          "x": 476.22443646495327,
          "y": 198.99982319960458
         },
         {
          "edge": 202,
          "pair": [
           "Enjolras",
           "Feuilly"
          ],
          "source": "Enjolras",
          "target": "Feuilly",
          "value": 6,
          "x": 588.5054944296545,
          "y": 172.48940816015286
         },
         {
          "edge": 203,
          "pair": [
           "Enjolras",
           "Courfeyrac"
          ],
          "source": "Enjolras",
          "target": "Courfeyrac",
          "value": 17,
          "x": 476.22443646495327,
          "y": 198.99982319960458
         },
         {
          "edge": 203,
          "pair": [
           "Enjolras",
           "Courfeyrac"
          ],
          "source": "Enjolras",
          "target": "Courfeyrac",
          "value": 17,
          "x": 530.1953223884157,
          "y": 182.04199172099828
         },
         {
          "edge": 204,
          "pair": [
           "Enjolras",
           "Bahorel"
          ],
          "source": "Enjolras",
          "target": "Bahorel",
          "value": 4,
          "x": 476.22443646495327,
          "y": 198.99982319960458
         },
         {
          "edge": 204,
          "pair": [
           "Enjolras",
           "Bahorel"
          ],
          "source": "Enjolras",
          "target": "Bahorel",
          "value": 4,
          "x": 558.6356879383688,
          "y": 157.8862652032679
         },
         {
          "edge": 205,
          "pair": [
           "Enjolras",
           "Bossuet"
          ],
          "source": "Enjolras",
          "target": "Bossuet",
          "value": 10,
          "x": 476.22443646495327,
          "y": 198.99982319960458
         },
         {
          "edge": 205,
          "pair": [
           "Enjolras",
           "Bossuet"
          ],
          "source": "Enjolras",
          "target": "Bossuet",
          "value": 10,
          "x": 470.22590072485184,
          "y": 159.8873674533083
         },
         {
          "edge": 206,
          "pair": [
           "Enjolras",
           "Joly"
          ],
          "source": "Enjolras",
          "target": "Joly",
          "value": 5,
          "x": 476.22443646495327,
          "y": 198.99982319960458
         },
         {
          "edge": 206,
          "pair": [
           "Enjolras",
           "Joly"
          ],
          "source": "Enjolras",
          "target": "Joly",
          "value": 5,
          "x": 508.02632310745616,
          "y": 141.20083428820914
         },
         {
          "edge": 207,
          "pair": [
           "Enjolras",
           "Grantaire"
          ],
          "source": "Enjolras",
          "target": "Grantaire",
          "value": 3,
          "x": 476.22443646495327,
          "y": 198.99982319960458
         },
         {
          "edge": 207,
          "pair": [
           "Enjolras",
           "Grantaire"
          ],
          "source": "Enjolras",
          "target": "Grantaire",
          "value": 3,
          "x": 539.5560145989812,
          "y": 108.76186276655808
         },
         {
          "edge": 208,
          "pair": [
           "Enjolras",
           "Claquesous"
          ],
          "source": "Enjolras",
          "target": "Claquesous",
          "value": 1,
          "x": 476.22443646495327,
          "y": 198.99982319960458
         },
         {
          "edge": 208,
          "pair": [
           "Enjolras",
           "Claquesous"
          ],
          "source": "Enjolras",
          "target": "Claquesous",
          "value": 1,
          "x": 411.38833025696715,
          "y": 315.52384710893375
         },
         {
          "edge": 209,
          "pair": [
           "Enjolras",
           "MmeHucheloup"
          ],
          "source": "Enjolras",
          "target": "MmeHucheloup",
          "value": 1,
          "x": 476.22443646495327,
          "y": 198.99982319960458
         },
         {
          "edge": 209,
          "pair": [
           "Enjolras",
           "MmeHucheloup"
          ],
          "source": "Enjolras",
          "target": "MmeHucheloup",
          "value": 1,
          "x": 481.3503874028918,
          "y": 120.36235586827388
         },
         {
          "edge": 210,
          "pair": [
           "Combeferre",
           "Prouvaire"
          ],
          "source": "Combeferre",
          "target": "Prouvaire",
          "value": 2,
          "x": 543.2309141131057,
          "y": 138.37245313836567
         },
         {
          "edge": 210,
          "pair": [
           "Combeferre",
           "Prouvaire"
          ],
          "source": "Combeferre",
          "target": "Prouvaire",
          "value": 2,
          "x": 586.8258145719633,
          "y": 131.04061100685195
         },
         {
          "edge": 211,
          "pair": [
           "Combeferre",
           "Feuilly"
          ],
          "source": "Combeferre",
          "target": "Feuilly",
          "value": 5,
          "x": 543.2309141131057,
          "y": 138.37245313836567
         },
         {
          "edge": 211,
          "pair": [
           "Combeferre",
           "Feuilly"
          ],
          "source": "Combeferre",
          "target": "Feuilly",
          "value": 5,
          "x": 588.5054944296545,
          "y": 172.48940816015286
         },
         {
          "edge": 212,
          "pair": [
           "Combeferre",
           "Courfeyrac"
          ],
          "source": "Combeferre",
          "target": "Courfeyrac",
          "value": 13,
          "x": 543.2309141131057,
          "y": 138.37245313836567
         },
         {
          "edge": 212,
          "pair": [
           "Combeferre",
           "Courfeyrac"
          ],
          "source": "Combeferre",
          "target": "Courfeyrac",
          "value": 13,
          "x": 530.1953223884157,
          "y": 182.04199172099828
         },
         {
          "edge": 213,
          "pair": [
           "Combeferre",
           "Bahorel"
          ],
          "source": "Combeferre",
          "target": "Bahorel",
          "value": 5,
          "x": 543.2309141131057,
          "y": 138.37245313836567
         },
         {
          "edge": 213,
          "pair": [
           "Combeferre",
           "Bahorel"
          ],
          "source": "Combeferre",
          "target": "Bahorel",
          "value": 5,
          "x": 558.6356879383688,
          "y": 157.8862652032679
         },
         {
          "edge": 214,
          "pair": [
           "Combeferre",
           "Bossuet"
          ],
          "source": "Combeferre",
          "target": "Bossuet",
          "value": 9,
          "x": 543.2309141131057,
          "y": 138.37245313836567
         },
         {
          "edge": 214,
          "pair": [
           "Combeferre",
           "Bossuet"
          ],
          "source": "Combeferre",
          "target": "Bossuet",
          "value": 9,
          "x": 470.22590072485184,
          "y": 159.8873674533083
         },
         {
          "edge": 215,
          "pair": [
           "Combeferre",
           "Joly"
          ],
          "source": "Combeferre",
          "target": "Joly",
          "value": 5,
          "x": 543.2309141131057,
          "y": 138.37245313836567
         },
         {
          "edge": 215,
          "pair": [
           "Combeferre",
           "Joly"
          ],
          "source": "Combeferre",
          "target": "Joly",
          "value": 5,
          "x": 508.02632310745616,
          "y": 141.20083428820914
         },
         {
          "edge": 216,
          "pair": [
           "Combeferre",
           "Grantaire"
          ],
          "source": "Combeferre",
          "target": "Grantaire",
          "value": 1,
          "x": 543.2309141131057,
          "y": 138.37245313836567
         },
         {
          "edge": 216,
          "pair": [
           "Combeferre",
           "Grantaire"
          ],
          "source": "Combeferre",
          "target": "Grantaire",
          "value": 1,
          "x": 539.5560145989812,
          "y": 108.76186276655808
         },
         {
          "edge": 217,
          "pair": [
           "Prouvaire",
           "Feuilly"
          ],
          "source": "Prouvaire",
          "target": "Feuilly",
          "value": 2,
          "x": 586.8258145719633,
          "y": 131.04061100685195
         },
         {
          "edge": 217,
          "pair": [
           "Prouvaire",
           "Feuilly"
          ],
          "source": "Prouvaire",
          "target": "Feuilly",
          "value": 2,
          "x": 588.5054944296545,
          "y": 172.48940816015286
         },
         {
          "edge": 218,
          "pair": [
           "Prouvaire",
           "Courfeyrac"
          ],
          "source": "Prouvaire",
          "target": "Courfeyrac",
          "value": 3,
          "x": 586.8258145719633,
          "y": 131.04061100685195
         },
         {
          "edge": 218,
          "pair": [
           "Prouvaire",
           "Courfeyrac"
          ],
          "source": "Prouvaire",
          "target": "Courfeyrac",
          "value": 3,
          "x": 530.1953223884157,
          "y": 182.04199172099828
         },
         {
          "edge": 219,
          "pair": [
           "Prouvaire",
           "Bahorel"
          ],
          "source": "Prouvaire",
          "target": "Bahorel",
          "value": 2,
          "x": 586.8258145719633,
          "y": 131.04061100685195
         },
         {
          "edge": 219,
          "pair": [
           "Prouvaire",
           "Bahorel"
          ],
          "source": "Prouvaire",
          "target": "Bahorel",
          "value": 2,
          "x": 558.6356879383688,
          "y": 157.8862652032679
         },
         {
          "edge": 220,
          "pair": [
           "Prouvaire",
           "Bossuet"
          ],
          "source": "Prouvaire",
          "target": "Bossuet",
          "value": 2,
          "x": 586.8258145719633,
          "y": 131.04061100685195
         },
         {
          "edge": 220,
          "pair": [
           "Prouvaire",
           "Bossuet"
          ],
          "source": "Prouvaire",
          "target": "Bossuet",
          "value": 2,
          "x": 470.22590072485184,
          "y": 159.8873674533083
         },
         {
          "edge": 221,
          "pair": [
           "Prouvaire",
           "Joly"
          ],
          "source": "Prouvaire",
          "target": "Joly",
          "value": 2,
          "x": 586.8258145719633,
          "y": 131.04061100685195
         },
         {
          "edge": 221,
          "pair": [
           "Prouvaire",
           "Joly"
          ],
          "source": "Prouvaire",
          "target": "Joly",
          "value": 2,
          "x": 508.02632310745616,
          "y": 141.20083428820914
         },
         {
          "edge": 222,
          "pair": [
           "Prouvaire",
           "Grantaire"
          ],
          "source": "Prouvaire",
          "target": "Grantaire",
          "value": 1,
          "x": 586.8258145719633,
          "y": 131.04061100685195
         },
         {
          "edge": 222,
          "pair": [
           "Prouvaire",
           "Grantaire"
          ],
          "source": "Prouvaire",
          "target": "Grantaire",
          "value": 1,
          "x": 539.5560145989812,
          "y": 108.76186276655808
         },
         {
          "edge": 223,
          "pair": [
           "Feuilly",
           "Courfeyrac"
          ],
          "source": "Feuilly",
          "target": "Courfeyrac",
          "value": 6,
          "x": 588.5054944296545,
          "y": 172.48940816015286
         },
         {
          "edge": 223,
          "pair": [
           "Feuilly",
           "Courfeyrac"
          ],
          "source": "Feuilly",
          "target": "Courfeyrac",
          "value": 6,
          "x": 530.1953223884157,
          "y": 182.04199172099828
         },
         {
          "edge": 224,
          "pair": [
           "Feuilly",
           "Bahorel"
          ],
          "source": "Feuilly",
          "target": "Bahorel",
          "value": 3,
          "x": 588.5054944296545,
          "y": 172.48940816015286
         },
         {
          "edge": 224,
          "pair": [
           "Feuilly",
           "Bahorel"
          ],
          "source": "Feuilly",
          "target": "Bahorel",
          "value": 3,
          "x": 558.6356879383688,
          "y": 157.8862652032679
         },
         {
          "edge": 225,
          "pair": [
           "Feuilly",
           "Bossuet"
          ],
          "source": "Feuilly",
          "target": "Bossuet",
          "value": 6,
          "x": 588.5054944296545,
          "y": 172.48940816015286
         },
         {
          "edge": 225,
          "pair": [
           "Feuilly",
           "Bossuet"
          ],
          "source": "Feuilly",
          "target": "Bossuet",
          "value": 6,
          "x": 470.22590072485184,
          "y": 159.8873674533083
         },
         {
          "edge": 226,
          "pair": [
           "Feuilly",
           "Joly"
          ],
          "source": "Feuilly",
          "target": "Joly",
          "value": 5,
          "x": 588.5054944296545,
          "y": 172.48940816015286
         },
         {
          "edge": 226,
          "pair": [
           "Feuilly",
           "Joly"
          ],
          "source": "Feuilly",
          "target": "Joly",
          "value": 5,
          "x": 508.02632310745616,
          "y": 141.20083428820914
         },
         {
          "edge": 227,
          "pair": [
           "Feuilly",
           "Grantaire"
          ],
          "source": "Feuilly",
          "target": "Grantaire",
          "value": 1,
          "x": 588.5054944296545,
          "y": 172.48940816015286
         },
         {
          "edge": 227,
          "pair": [
           "Feuilly",
           "Grantaire"
          ],
          "source": "Feuilly",
          "target": "Grantaire",
          "value": 1,
          "x": 539.5560145989812,
          "y": 108.76186276655808
         },
         {
          "edge": 228,
          "pair": [
           "Courfeyrac",
           "Bahorel"
          ],
          "source": "Courfeyrac",
          "target": "Bahorel",
          "value": 6,
          "x": 530.1953223884157,
          "y": 182.04199172099828
         },
         {
          "edge": 228,
          "pair": [
           "Courfeyrac",
           "Bahorel"
          ],
          "source": "Courfeyrac",
          "target": "Bahorel",
          "value": 6,
          "x": 558.6356879383688,
          "y": 157.8862652032679
         },
         {
          "edge": 229,
          "pair": [
           "Courfeyrac",
           "Bossuet"
          ],
          "source": "Courfeyrac",
          "target": "Bossuet",
          "value": 12,
          "x": 530.1953223884157,
          "y": 182.04199172099828
         },
         {
          "edge": 229,
          "pair": [
           "Courfeyrac",
           "Bossuet"
          ],
          "source": "Courfeyrac",
          "target": "Bossuet",
          "value": 12,
          "x": 470.22590072485184,
          "y": 159.8873674533083
         },
         {
          "edge": 230,
          "pair": [
           "Courfeyrac",
           "Joly"
          ],
          "source": "Courfeyrac",
          "target": "Joly",
          "value": 5,
          "x": 530.1953223884157,
          "y": 182.04199172099828
         },
         {
          "edge": 230,
          "pair": [
           "Courfeyrac",
           "Joly"
          ],
          "source": "Courfeyrac",
          "target": "Joly",
          "value": 5,
          "x": 508.02632310745616,
          "y": 141.20083428820914
         },
         {
          "edge": 231,
          "pair": [
           "Courfeyrac",
           "Grantaire"
          ],
          "source": "Courfeyrac",
          "target": "Grantaire",
          "value": 2,
          "x": 530.1953223884157,
          "y": 182.04199172099828
         },
         {
          "edge": 231,
          "pair": [
           "Courfeyrac",
           "Grantaire"
          ],
          "source": "Courfeyrac",
          "target": "Grantaire",
          "value": 2,
          "x": 539.5560145989812,
          "y": 108.76186276655808
         },
         {
          "edge": 232,
          "pair": [
           "Courfeyrac",
           "MmeHucheloup"
          ],
          "source": "Courfeyrac",
          "target": "MmeHucheloup",
          "value": 1,
          "x": 530.1953223884157,
          "y": 182.04199172099828
         },
         {
          "edge": 232,
          "pair": [
           "Courfeyrac",
           "MmeHucheloup"
          ],
          "source": "Courfeyrac",
          "target": "MmeHucheloup",
          "value": 1,
          "x": 481.3503874028918,
          "y": 120.36235586827388
         },
         {
          "edge": 233,
          "pair": [
           "Bahorel",
           "Bossuet"
          ],
          "source": "Bahorel",
          "target": "Bossuet",
          "value": 4,
          "x": 558.6356879383688,
          "y": 157.8862652032679
         },
         {
          "edge": 233,
          "pair": [
           "Bahorel",
           "Bossuet"
          ],
          "source": "Bahorel",
          "target": "Bossuet",
          "value": 4,
          "x": 470.22590072485184,
          "y": 159.8873674533083
         },
         {
          "edge": 234,
          "pair": [
           "Bahorel",
           "Joly"
          ],
          "source": "Bahorel",
          "target": "Joly",
          "value": 5,
          "x": 558.6356879383688,
          "y": 157.8862652032679
         },
         {
          "edge": 234,
          "pair": [
           "Bahorel",
           "Joly"
          ],
          "source": "Bahorel",
          "target": "Joly",
          "value": 5,
          "x": 508.02632310745616,
          "y": 141.20083428820914
         },
         {
          "edge": 235,
          "pair": [
           "Bahorel",
           "Grantaire"
          ],
          "source": "Bahorel",
          "target": "Grantaire",
          "value": 1,
          "x": 558.6356879383688,
          "y": 157.8862652032679
         },
         {
          "edge": 235,
          "pair": [
           "Bahorel",
           "Grantaire"
          ],
          "source": "Bahorel",
          "target": "Grantaire",
          "value": 1,
          "x": 539.5560145989812,
          "y": 108.76186276655808
         },
         {
          "edge": 236,
          "pair": [
           "Bahorel",
           "MmeHucheloup"
          ],
          "source": "Bahorel",
          "target": "MmeHucheloup",
          "value": 1,
          "x": 558.6356879383688,
          "y": 157.8862652032679
         },
         {
          "edge": 236,
          "pair": [
           "Bahorel",
           "MmeHucheloup"
          ],
          "source": "Bahorel",
          "target": "MmeHucheloup",
          "value": 1,
          "x": 481.3503874028918,
          "y": 120.36235586827388
         },
         {
          "edge": 237,
          "pair": [
           "Bossuet",
           "Joly"
          ],
          "source": "Bossuet",
          "target": "Joly",
          "value": 7,
          "x": 470.22590072485184,
          "y": 159.8873674533083
         },
         {
          "edge": 237,
          "pair": [
           "Bossuet",
           "Joly"
          ],
          "source": "Bossuet",
          "target": "Joly",
          "value": 7,
          "x": 508.02632310745616,
          "y": 141.20083428820914
         },
         {
          "edge": 238,
          "pair": [
           "Bossuet",
           "Grantaire"
          ],
          "source": "Bossuet",
          "target": "Grantaire",
          "value": 3,
          "x": 470.22590072485184,
          "y": 159.8873674533083
         },
         {
          "edge": 238,
          "pair": [
           "Bossuet",
           "Grantaire"
          ],
          "source": "Bossuet",
          "target": "Grantaire",
          "value": 3,
          "x": 539.5560145989812,
          "y": 108.76186276655808
         },
         {
          "edge": 239,
          "pair": [
           "Bossuet",
           "MmeHucheloup"
          ],
          "source": "Bossuet",
          "target": "MmeHucheloup",
          "value": 1,
          "x": 470.22590072485184,
          "y": 159.8873674533083
         },
         {
          "edge": 239,
          "pair": [
           "Bossuet",
           "MmeHucheloup"
          ],
          "source": "Bossuet",
          "target": "MmeHucheloup",
          "value": 1,
          "x": 481.3503874028918,
          "y": 120.36235586827388
         },
         {
          "edge": 240,
          "pair": [
           "Joly",
           "Grantaire"
          ],
          "source": "Joly",
          "target": "Grantaire",
          "value": 2,
          "x": 508.02632310745616,
          "y": 141.20083428820914
         },
         {
          "edge": 240,
          "pair": [
           "Joly",
           "Grantaire"
          ],
          "source": "Joly",
          "target": "Grantaire",
          "value": 2,
          "x": 539.5560145989812,
          "y": 108.76186276655808
         },
         {
          "edge": 241,
          "pair": [
           "Joly",
           "MmeHucheloup"
          ],
          "source": "Joly",
          "target": "MmeHucheloup",
          "value": 1,
          "x": 508.02632310745616,
          "y": 141.20083428820914
         },
         {
          "edge": 241,
          "pair": [
           "Joly",
           "MmeHucheloup"
          ],
          "source": "Joly",
          "target": "MmeHucheloup",
          "value": 1,
          "x": 481.3503874028918,
          "y": 120.36235586827388
         },
         {
          "edge": 242,
          "pair": [
           "Grantaire",
           "MmeHucheloup"
          ],
          "source": "Grantaire",
          "target": "MmeHucheloup",
          "value": 1,
          "x": 539.5560145989812,
          "y": 108.76186276655808
         },
         {
          "edge": 242,
          "pair": [
           "Grantaire",
           "MmeHucheloup"
          ],
          "source": "Grantaire",
          "target": "MmeHucheloup",
          "value": 1,
          "x": 481.3503874028918,
          "y": 120.36235586827388
         },
         {
          "edge": 243,
          "pair": [
           "Gueulemer",
           "Babet"
          ],
          "source": "Gueulemer",
          "target": "Babet",
          "value": 6,
          "x": 423.7008310594097,
          "y": 295.4540530685985
         },
         {
          "edge": 243,
          "pair": [
           "Gueulemer",
           "Babet"
          ],
          "source": "Gueulemer",
          "target": "Babet",
          "value": 6,
          "x": 445.00586608248057,
          "y": 335.3863380936513
         },
         {
          "edge": 244,
          "pair": [
           "Gueulemer",
           "Claquesous"
          ],
          "source": "Gueulemer",
          "target": "Claquesous",
          "value": 4,
          "x": 423.7008310594097,
          "y": 295.4540530685985
         },
         {
          "edge": 244,
          "pair": [
           "Gueulemer",
           "Claquesous"
          ],
          "source": "Gueulemer",
          "target": "Claquesous",
          "value": 4,
          "x": 411.38833025696715,
          "y": 315.52384710893375
         },
         {
          "edge": 245,
          "pair": [
           "Gueulemer",
           "Montparnasse"
          ],
          "source": "Gueulemer",
          "target": "Montparnasse",
          "value": 2,
          "x": 423.7008310594097,
          "y": 295.4540530685985
         },
         {
          "edge": 245,
          "pair": [
           "Gueulemer",
           "Montparnasse"
          ],
          "source": "Gueulemer",
          "target": "Montparnasse",
          "value": 2,
          "x": 444.7345046363669,
          "y": 311.38600805966485
         },
         {
          "edge": 246,
          "pair": [
           "Gueulemer",
           "Brujon"
          ],
          "source": "Gueulemer",
          "target": "Brujon",
          "value": 3,
          "x": 423.7008310594097,
          "y": 295.4540530685985
         },
         {
          "edge": 246,
          "pair": [
           "Gueulemer",
           "Brujon"
          ],
          "source": "Gueulemer",
          "target": "Brujon",
          "value": 3,
          "x": 493.86420752495866,
          "y": 323.13433500448474
         },
         {
          "edge": 247,
          "pair": [
           "Babet",
           "Claquesous"
          ],
          "source": "Babet",
          "target": "Claquesous",
          "value": 4,
          "x": 445.00586608248057,
          "y": 335.3863380936513
         },
         {
          "edge": 247,
          "pair": [
           "Babet",
           "Claquesous"
          ],
          "source": "Babet",
          "target": "Claquesous",
          "value": 4,
          "x": 411.38833025696715,
          "y": 315.52384710893375
         },
         {
          "edge": 248,
          "pair": [
           "Babet",
           "Montparnasse"
          ],
          "source": "Babet",
          "target": "Montparnasse",
          "value": 2,
          "x": 445.00586608248057,
          "y": 335.3863380936513
         },
         {
          "edge": 248,
          "pair": [
           "Babet",
           "Montparnasse"
          ],
          "source": "Babet",
          "target": "Montparnasse",
          "value": 2,
          "x": 444.7345046363669,
          "y": 311.38600805966485
         },
         {
          "edge": 249,
          "pair": [
           "Babet",
           "Brujon"
          ],
          "source": "Babet",
          "target": "Brujon",
          "value": 3,
          "x": 445.00586608248057,
          "y": 335.3863380936513
         },
         {
          "edge": 249,
          "pair": [
           "Babet",
           "Brujon"
          ],
          "source": "Babet",
          "target": "Brujon",
          "value": 3,
          "x": 493.86420752495866,
          "y": 323.13433500448474
         },
         {
          "edge": 250,
          "pair": [
           "Claquesous",
           "Montparnasse"
          ],
          "source": "Claquesous",
          "target": "Montparnasse",
          "value": 2,
          "x": 411.38833025696715,
          "y": 315.52384710893375
         },
         {
          "edge": 250,
          "pair": [
           "Claquesous",
           "Montparnasse"
          ],
          "source": "Claquesous",
          "target": "Montparnasse",
          "value": 2,
          "x": 444.7345046363669,
          "y": 311.38600805966485
         },
         {
          "edge": 251,
          "pair": [
           "Claquesous",
           "Brujon"
          ],
          "source": "Claquesous",
          "target": "Brujon",
          "value": 1,
          "x": 411.38833025696715,
          "y": 315.52384710893375
         },
         {
          "edge": 251,
          "pair": [
           "Claquesous",
           "Brujon"
          ],
          "source": "Claquesous",
          "target": "Brujon",
          "value": 1,
          "x": 493.86420752495866,
          "y": 323.13433500448474
         },
         {
          "edge": 252,
          "pair": [
           "Montparnasse",
           "Brujon"
          ],
          "source": "Montparnasse",
          "target": "Brujon",
          "value": 1,
          "x": 444.7345046363669,
          "y": 311.38600805966485
         },
         {
          "edge": 252,
          "pair": [
           "Montparnasse",
           "Brujon"
          ],
          "source": "Montparnasse",
          "target": "Brujon",
          "value": 1,
          "x": 493.86420752495866,
          "y": 323.13433500448474
         },
         {
          "edge": 253,
          "pair": [
           "Child1",
           "Child2"
          ],
          "source": "Child1",
          "target": "Child2",
          "value": 3,
          "x": 628.0697875039461,
          "y": 282.63730464751507
         },
         {
          "edge": 253,
          "pair": [
           "Child1",
           "Child2"
          ],
          "source": "Child1",
          "target": "Child2",
          "value": 3,
          "x": 619.3934506818871,
          "y": 293.00381939314923
         }
        ]
       },
       "height": 420,
       "layer": [
        {
         "data": {
          "name": "data-e33e2acc418422ba3642a7a720b51ab4"
         },
         "encoding": {
          "color": {
           "value": "#333"
          },
          "detail": {
           "field": "edge",
           "type": "quantitative"
          },
          "opacity": {
           "field": "value",
           "legend": null,
           "scale": {
            "domain": [
             0,
             31
            ],
            "range": [
             0.5,
             0.8
            ]
           },
           "type": "quantitative"
          },
          "strokeWidth": {
           "field": "value",
           "legend": null,
           "scale": {
            "domain": [
             0,
             31
            ],
            "range": [
             0.1,
             1
            ]
           },
           "type": "quantitative"
          },
          "x": {
           "axis": {
            "domain": false,
            "grid": false,
            "labels": false,
            "ticks": false,
            "title": ""
           },
           "field": "x",
           "type": "quantitative"
          },
          "y": {
           "axis": {
            "domain": false,
            "grid": false,
            "labels": false,
            "ticks": false,
            "title": ""
           },
           "field": "y",
           "type": "quantitative"
          }
         },
         "mark": "line"
        },
        {
         "data": {
          "name": "data-8215248c09451a5fd31363137dd96c2c"
         },
         "encoding": {
          "fill": {
           "field": "group",
           "legend": null,
           "scale": {
            "scheme": "category10"
           },
           "type": "nominal"
          },
          "opacity": {
           "value": 1
          },
          "size": {
           "value": 36
          },
          "stroke": {
           "value": "#565656"
          },
          "strokeWidth": {
           "value": 0
          },
          "tooltip": [
           {
            "field": "name",
            "type": "nominal"
           },
           {
            "field": "group",
            "type": "nominal"
           }
          ],
          "x": {
           "axis": {
            "domain": false,
            "grid": false,
            "labels": false,
            "ticks": false,
            "title": ""
           },
           "field": "x",
           "type": "quantitative"
          },
          "y": {
           "axis": {
            "domain": false,
            "grid": false,
            "labels": false,
            "ticks": false,
            "title": ""
           },
           "field": "y",
           "type": "quantitative"
          }
         },
         "mark": "circle"
        }
       ],
       "resolve": {
        "scale": {
         "color": "independent",
         "fill": "independent",
         "opacity": "independent",
         "size": "independent",
         "strokeWidth": "independent"
        }
       },
       "width": 600
      },
      "image/png": "[encoded data removed]",
      "text/plain": [
       "<VegaLite 4 object>\n",
       "\n",
       "If you see this message, it means the renderer has not been properly enabled\n",
       "for the frontend that you are using. For more information, see\n",
       "https://altair-viz.github.io/user_guide/troubleshooting.html\n"
      ]
     },
     "execution_count": 4,
     "metadata": {},
     "output_type": "execute_result"
    }
   ],
   "source": [
    "alph(\n",
    "    G,\n",
    "    weight_attr=\"value\",\n",
    "    layout_fn=lambda g: layout.force_atlas(\n",
    "        g, gravity=8, outboundAttractionDistribution=False,  iterations=1000, seed=seed\n",
    "    ),\n",
    "    node_args=dict(\n",
    "        size=alt.value(6**2),\n",
    "        fill=alt.Color(\"group\", scale=alt.Scale(scheme=\"category10\"), legend=None),\n",
    "        tooltip_attrs=[\"name\", \"group\"]\n",
    "    ),\n",
    "    edge_args=dict(\n",
    "        color=\"#333\",\n",
    "        opacity=alt.Size(\n",
    "            \"value:Q\",\n",
    "            scale=alt.Scale(domain=[0,max_edge_value], range=[0.5, 0.8]),\n",
    "            legend=None\n",
    "        ),\n",
    "        strokeWidth=alt.Size(\n",
    "            \"value:Q\",\n",
    "            scale=alt.Scale(domain=[0,max_edge_value], range=[0.1, 1]),\n",
    "            legend=None\n",
    "        ),\n",
    "    ),\n",
    ").configure_view(strokeWidth=0).properties(width=600, height=420)"
   ]
  },
  {
   "cell_type": "markdown",
   "metadata": {},
   "source": [
    "Now prepare to plot the combo charts. Here we've wrapped the invocation inside a function, so we can easily try a couple of different layouts.\n",
    "\n",
    "This feature is experimental, requiring a bit of tuning to get decent-looking results. So it's worth noting a few things:\n",
    "- `combo_group_by` is the attribute to use to group the nodes\n",
    "- `layout_fn`, `node_args` and `edge_args` refer to the layout and style of graphs inside the group nodes\n",
    "- analogously, `combo_layout_fn`, `combo_node_args` and `combo_edge_args` refer to the layout and style of the larger group nodes themselves \n",
    "- `combo_node_additional_attrs` is a way to pass additional attributes to group-level nodes, so they can be referenced from `node_args` / `edge_args`\n",
    "- `combo_size_scale_range` is the range of sizes (remember, shape size values reflect the area, not the radius / edge) for the combo nodes; this is scaled based on the number of nodes in each group\n",
    "- `combo_inner_graph_scale_factor` sets how big the group-level graphs (the ones inside the combo nodes) should be, as a fraction of the overall combo node size; values around 0.5 are typical\n",
    "- `combo_empty_attr_action` describes how to handle nodes without the group attribute; they can be dropped (`drop`), treated as additional one-per-node categories (`group`), or promoted to a combo category for each item (`promote`)."
   ]
  },
  {
   "cell_type": "code",
   "execution_count": 10,
   "metadata": {},
   "outputs": [],
   "source": [
    "nx.set_edge_attributes(G, {(u,v): w for u, v, w in G.edges(data=\"value\")}, \"weight\")\n",
    "groups = list(set([x[1] for x in G.nodes(data=\"group\")]))\n",
    "\n",
    "def combo_chart(layout_fn):\n",
    "    return alph(\n",
    "        G,\n",
    "        weight_attr=\"value\",\n",
    "        layout_fn=layout_fn,\n",
    "        node_args=dict(\n",
    "            size=5**2,\n",
    "            fill=\"#888\",\n",
    "            stroke=\"#222\",\n",
    "            strokeWidth=1,\n",
    "            tooltip_attrs=[\"name\", \"group\"],\n",
    "        ),\n",
    "        edge_args=dict(\n",
    "            color=\"#333\",\n",
    "            opacity=alt.Size(\n",
    "                \"value:Q\",\n",
    "                scale=alt.Scale(range=[0.5, 0.8]),\n",
    "                legend=None\n",
    "            ),\n",
    "            strokeWidth=alt.Size(\n",
    "                \"value:Q\",\n",
    "                scale=alt.Scale(range=[0.4, 1]),\n",
    "                legend=None\n",
    "            ),\n",
    "        ),\n",
    "        combo_group_by=\"group\",\n",
    "        combo_layout_fn=lambda g: layout.force_atlas(\n",
    "            g,\n",
    "            weight_attr=\"value\",\n",
    "            strongGravityMode=True,\n",
    "            gravity=6,\n",
    "            edgeWeightInfluence=1.2,\n",
    "            seed=seed,\n",
    "        ),\n",
    "        combo_node_additional_attrs={\n",
    "            group: {\"group\": group or \"\"} for group in groups\n",
    "        },\n",
    "        combo_node_args=dict(\n",
    "            fill=\"#fff\",\n",
    "            tooltip_attrs=[\"group:N\"],\n",
    "            label_attr=\"group:N\",\n",
    "            label_offset=12,\n",
    "        ),\n",
    "        combo_edge_args=dict(\n",
    "            strokeWidth=alt.Size(\"value\", scale=alt.Scale(range=[0.5, 3]), legend=None),\n",
    "        ),\n",
    "        combo_size_scale_range=[40**2,100**2],\n",
    "        combo_inner_graph_scale_factor=0.6,\n",
    "        combo_empty_attr_action=\"promote\",\n",
    "        width=600,\n",
    "        height=480,\n",
    "    ).configure_view(strokeWidth=0)"
   ]
  },
  {
   "cell_type": "markdown",
   "metadata": {},
   "source": [
    "First, plot using a force-based layout. This mostly results in nice group-level layouts, especially when the number of nodes isn't particularly large."
   ]
  },
  {
   "cell_type": "code",
   "execution_count": 6,
   "metadata": {},
   "outputs": [
    {
     "data": {
      "application/vnd.vegalite.v4+json": {
       "$schema": "https://vega.github.io/schema/vega-lite/v4.17.0.json",
       "config": {
        "view": {
         "continuousHeight": 300,
         "continuousWidth": 400,
         "strokeWidth": 0
        }
       },
       "datasets": {
        "data-0f5b4e2a6914718eed974c0ad9113546": [
         {
          "__combo_group_value": "2",
          "__node_r": 2.5,
          "__node_size": 25,
          "group": "2",
          "name": "Marguerite",
          "x": 620.4,
          "y": 220.58077440090406
         },
         {
          "__combo_group_value": "2",
          "__node_r": 2.5,
          "__node_size": 25,
          "group": "2",
          "name": "Tholomyes",
          "x": 582.1345969381043,
          "y": 206.65569617196334
         },
         {
          "__combo_group_value": "2",
          "__node_r": 2.5,
          "__node_size": 25,
          "group": "2",
          "name": "Listolier",
          "x": 598.7344388940189,
          "y": 203.61711141639526
         },
         {
          "__combo_group_value": "2",
          "__node_r": 2.5,
          "__node_size": 25,
          "group": "2",
          "name": "Fameuil",
          "x": 590.8434977918847,
          "y": 218.9918701447824
         },
         {
          "__combo_group_value": "2",
          "__node_r": 2.5,
          "__node_size": 25,
          "group": "2",
          "name": "Blacheville",
          "x": 599.564874233297,
          "y": 186.16766760754737
         },
         {
          "__combo_group_value": "2",
          "__node_r": 2.5,
          "__node_size": 25,
          "group": "2",
          "name": "Favourite",
          "x": 612.6452006854444,
          "y": 192.29638514907623
         },
         {
          "__combo_group_value": "2",
          "__node_r": 2.5,
          "__node_size": 25,
          "group": "2",
          "name": "Dahlia",
          "x": 605.6794337037804,
          "y": 218.5243488211239
         },
         {
          "__combo_group_value": "2",
          "__node_r": 2.5,
          "__node_size": 25,
          "group": "2",
          "name": "Zephine",
          "x": 586.5920113581813,
          "y": 192.32735641103693
         },
         {
          "__combo_group_value": "2",
          "__node_r": 2.5,
          "__node_size": 25,
          "group": "2",
          "name": "Fantine",
          "x": 616.6275079069235,
          "y": 206.67059537130638
         }
        ],
        "data-128a9e7c344d289d72ac64fb801d6ab2": [
         {
          "__combo_group_value": "3",
          "__node_r": 2.5,
          "__node_size": 25,
          "group": "3",
          "name": "Bamatabois",
          "x": 42.519205841435706,
          "y": 55.8249855261799
         },
         {
          "__combo_group_value": "3",
          "__node_r": 2.5,
          "__node_size": 25,
          "group": "3",
          "name": "Judge",
          "x": 27.25837249390959,
          "y": 64.9442289025825
         },
         {
          "__combo_group_value": "3",
          "__node_r": 2.5,
          "__node_size": 25,
          "group": "3",
          "name": "Champmathieu",
          "x": 60.0633510544029,
          "y": 58.698416048282006
         },
         {
          "__combo_group_value": "3",
          "__node_r": 2.5,
          "__node_size": 25,
          "group": "3",
          "name": "Brevet",
          "x": 46.01311408371756,
          "y": 74.17609332497798
         },
         {
          "__combo_group_value": "3",
          "__node_r": 2.5,
          "__node_size": 25,
          "group": "3",
          "name": "Chenildieu",
          "x": 50.54717461175163,
          "y": 39.541956429998535
         },
         {
          "__combo_group_value": "3",
          "__node_r": 2.5,
          "__node_size": 25,
          "group": "3",
          "name": "Cochepaille",
          "x": 29.069462658033018,
          "y": 43.631145793562055
         }
        ],
        "data-28ec3947db56b84258ed292706482365": [
         {
          "__combo_group_value": "0",
          "__node_r": 2.5,
          "__node_size": 25,
          "group": "0",
          "name": "Myriel",
          "x": 49.48206738000163,
          "y": 349.1843372486288
         },
         {
          "__combo_group_value": "0",
          "__node_r": 2.5,
          "__node_size": 25,
          "group": "0",
          "name": "Napoleon",
          "x": 68.57792396594996,
          "y": 358.39453653991006
         },
         {
          "__combo_group_value": "0",
          "__node_r": 2.5,
          "__node_size": 25,
          "group": "0",
          "name": "MlleBaptistine",
          "x": 34.53405905657226,
          "y": 358.5140388149571
         },
         {
          "__combo_group_value": "0",
          "__node_r": 2.5,
          "__node_size": 25,
          "group": "0",
          "name": "MmeMagloire",
          "x": 32.89725609600813,
          "y": 346.247671520627
         },
         {
          "__combo_group_value": "0",
          "__node_r": 2.5,
          "__node_size": 25,
          "group": "0",
          "name": "CountessDeLo",
          "x": 59.26002305943489,
          "y": 367.7751996559002
         },
         {
          "__combo_group_value": "0",
          "__node_r": 2.5,
          "__node_size": 25,
          "group": "0",
          "name": "Geborand",
          "x": 51.857585096094574,
          "y": 328.39869268631367
         },
         {
          "__combo_group_value": "0",
          "__node_r": 2.5,
          "__node_size": 25,
          "group": "0",
          "name": "Champtercier",
          "x": 64.03718273388635,
          "y": 333.8517092277156
         },
         {
          "__combo_group_value": "0",
          "__node_r": 2.5,
          "__node_size": 25,
          "group": "0",
          "name": "Cravatte",
          "x": 45.74800631996502,
          "y": 370.35497651994814
         },
         {
          "__combo_group_value": "0",
          "__node_r": 2.5,
          "__node_size": 25,
          "group": "0",
          "name": "Count",
          "x": 69.20992601265105,
          "y": 345.6061404866286
         },
         {
          "__combo_group_value": "0",
          "__node_r": 2.5,
          "__node_size": 25,
          "group": "0",
          "name": "OldMan",
          "x": 38.11501129874068,
          "y": 330.95643742642335
         }
        ],
        "data-33fa581a1d43f5fd3eaddc86db7f1b54": [
         {
          "edge": 0,
          "pair": [
           "Jondrette",
           "MmeBurgon"
          ],
          "source": "Jondrette",
          "target": "MmeBurgon",
          "value": 1,
          "weight": 1,
          "x": 314.6528029472671,
          "y": 103.15618867777074
         },
         {
          "edge": 0,
          "pair": [
           "Jondrette",
           "MmeBurgon"
          ],
          "source": "Jondrette",
          "target": "MmeBurgon",
          "value": 1,
          "weight": 1,
          "x": 339.92813320240526,
          "y": 108.35409740130392
         },
         {
          "edge": 1,
          "pair": [
           "MmeBurgon",
           "Gavroche"
          ],
          "source": "MmeBurgon",
          "target": "Gavroche",
          "value": 2,
          "weight": 2,
          "x": 339.92813320240526,
          "y": 108.35409740130392
         },
         {
          "edge": 1,
          "pair": [
           "MmeBurgon",
           "Gavroche"
          ],
          "source": "MmeBurgon",
          "target": "Gavroche",
          "value": 2,
          "weight": 2,
          "x": 338.7101367945058,
          "y": 139.58310264104284
         },
         {
          "edge": 2,
          "pair": [
           "Gavroche",
           "Mabeuf"
          ],
          "source": "Gavroche",
          "target": "Mabeuf",
          "value": 1,
          "weight": 1,
          "x": 338.7101367945058,
          "y": 139.58310264104284
         },
         {
          "edge": 2,
          "pair": [
           "Gavroche",
           "Mabeuf"
          ],
          "source": "Gavroche",
          "target": "Mabeuf",
          "value": 1,
          "weight": 1,
          "x": 308.0226315409231,
          "y": 146.54468121871554
         },
         {
          "edge": 3,
          "pair": [
           "Gavroche",
           "Enjolras"
          ],
          "source": "Gavroche",
          "target": "Enjolras",
          "value": 7,
          "weight": 7,
          "x": 338.7101367945058,
          "y": 139.58310264104284
         },
         {
          "edge": 3,
          "pair": [
           "Gavroche",
           "Enjolras"
          ],
          "source": "Gavroche",
          "target": "Enjolras",
          "value": 7,
          "weight": 7,
          "x": 315.69723402466474,
          "y": 131.44186400610513
         },
         {
          "edge": 4,
          "pair": [
           "Gavroche",
           "Combeferre"
          ],
          "source": "Gavroche",
          "target": "Combeferre",
          "value": 6,
          "weight": 6,
          "x": 338.7101367945058,
          "y": 139.58310264104284
         },
         {
          "edge": 4,
          "pair": [
           "Gavroche",
           "Combeferre"
          ],
          "source": "Gavroche",
          "target": "Combeferre",
          "value": 6,
          "weight": 6,
          "x": 328.2773330461079,
          "y": 131.3506983660333
         },
         {
          "edge": 5,
          "pair": [
           "Gavroche",
           "Prouvaire"
          ],
          "source": "Gavroche",
          "target": "Prouvaire",
          "value": 1,
          "weight": 1,
          "x": 338.7101367945058,
          "y": 139.58310264104284
         },
         {
          "edge": 5,
          "pair": [
           "Gavroche",
           "Prouvaire"
          ],
          "source": "Gavroche",
          "target": "Prouvaire",
          "value": 1,
          "weight": 1,
          "x": 327.3059030148434,
          "y": 151.30822834464374
         },
         {
          "edge": 6,
          "pair": [
           "Gavroche",
           "Feuilly"
          ],
          "source": "Gavroche",
          "target": "Feuilly",
          "value": 2,
          "weight": 2,
          "x": 338.7101367945058,
          "y": 139.58310264104284
         },
         {
          "edge": 6,
          "pair": [
           "Gavroche",
           "Feuilly"
          ],
          "source": "Gavroche",
          "target": "Feuilly",
          "value": 2,
          "weight": 2,
          "x": 304.11842882883946,
          "y": 128.18172328336294
         },
         {
          "edge": 7,
          "pair": [
           "Gavroche",
           "Courfeyrac"
          ],
          "source": "Gavroche",
          "target": "Courfeyrac",
          "value": 7,
          "weight": 7,
          "x": 338.7101367945058,
          "y": 139.58310264104284
         },
         {
          "edge": 7,
          "pair": [
           "Gavroche",
           "Courfeyrac"
          ],
          "source": "Gavroche",
          "target": "Courfeyrac",
          "value": 7,
          "weight": 7,
          "x": 321.02227347792467,
          "y": 140.32806996116005
         },
         {
          "edge": 8,
          "pair": [
           "Gavroche",
           "Bahorel"
          ],
          "source": "Gavroche",
          "target": "Bahorel",
          "value": 5,
          "weight": 5,
          "x": 338.7101367945058,
          "y": 139.58310264104284
         },
         {
          "edge": 8,
          "pair": [
           "Gavroche",
           "Bahorel"
          ],
          "source": "Gavroche",
          "target": "Bahorel",
          "value": 5,
          "weight": 5,
          "x": 310.34305983609664,
          "y": 115.9072674791363
         },
         {
          "edge": 9,
          "pair": [
           "Gavroche",
           "Bossuet"
          ],
          "source": "Gavroche",
          "target": "Bossuet",
          "value": 5,
          "weight": 5,
          "x": 338.7101367945058,
          "y": 139.58310264104284
         },
         {
          "edge": 9,
          "pair": [
           "Gavroche",
           "Bossuet"
          ],
          "source": "Gavroche",
          "target": "Bossuet",
          "value": 5,
          "weight": 5,
          "x": 321.96546821460186,
          "y": 120.42597421331185
         },
         {
          "edge": 10,
          "pair": [
           "Gavroche",
           "Joly"
          ],
          "source": "Gavroche",
          "target": "Joly",
          "value": 3,
          "weight": 3,
          "x": 338.7101367945058,
          "y": 139.58310264104284
         },
         {
          "edge": 10,
          "pair": [
           "Gavroche",
           "Joly"
          ],
          "source": "Gavroche",
          "target": "Joly",
          "value": 3,
          "weight": 3,
          "x": 334.7559105974407,
          "y": 119.60614523879383
         },
         {
          "edge": 11,
          "pair": [
           "Gavroche",
           "Grantaire"
          ],
          "source": "Gavroche",
          "target": "Grantaire",
          "value": 1,
          "weight": 1,
          "x": 338.7101367945058,
          "y": 139.58310264104284
         },
         {
          "edge": 11,
          "pair": [
           "Gavroche",
           "Grantaire"
          ],
          "source": "Gavroche",
          "target": "Grantaire",
          "value": 1,
          "weight": 1,
          "x": 326.21417522528833,
          "y": 106.38692830211244
         },
         {
          "edge": 12,
          "pair": [
           "Gavroche",
           "Child1"
          ],
          "source": "Gavroche",
          "target": "Child1",
          "value": 2,
          "weight": 2,
          "x": 338.7101367945058,
          "y": 139.58310264104284
         },
         {
          "edge": 12,
          "pair": [
           "Gavroche",
           "Child1"
          ],
          "source": "Gavroche",
          "target": "Child1",
          "value": 2,
          "weight": 2,
          "x": 346.61108607280295,
          "y": 115.452400472948
         },
         {
          "edge": 13,
          "pair": [
           "Gavroche",
           "Child2"
          ],
          "source": "Gavroche",
          "target": "Child2",
          "value": 2,
          "weight": 2,
          "x": 338.7101367945058,
          "y": 139.58310264104284
         },
         {
          "edge": 13,
          "pair": [
           "Gavroche",
           "Child2"
          ],
          "source": "Gavroche",
          "target": "Child2",
          "value": 2,
          "weight": 2,
          "x": 349.3705875468958,
          "y": 121.14958488772504
         },
         {
          "edge": 14,
          "pair": [
           "Gavroche",
           "MmeHucheloup"
          ],
          "source": "Gavroche",
          "target": "MmeHucheloup",
          "value": 1,
          "weight": 1,
          "x": 338.7101367945058,
          "y": 139.58310264104284
         },
         {
          "edge": 14,
          "pair": [
           "Gavroche",
           "MmeHucheloup"
          ],
          "source": "Gavroche",
          "target": "MmeHucheloup",
          "value": 1,
          "weight": 1,
          "x": 348.29242501888416,
          "y": 130.2138346438135
         },
         {
          "edge": 15,
          "pair": [
           "Mabeuf",
           "Enjolras"
          ],
          "source": "Mabeuf",
          "target": "Enjolras",
          "value": 1,
          "weight": 1,
          "x": 308.0226315409231,
          "y": 146.54468121871554
         },
         {
          "edge": 15,
          "pair": [
           "Mabeuf",
           "Enjolras"
          ],
          "source": "Mabeuf",
          "target": "Enjolras",
          "value": 1,
          "weight": 1,
          "x": 315.69723402466474,
          "y": 131.44186400610513
         },
         {
          "edge": 16,
          "pair": [
           "Mabeuf",
           "Combeferre"
          ],
          "source": "Mabeuf",
          "target": "Combeferre",
          "value": 2,
          "weight": 2,
          "x": 308.0226315409231,
          "y": 146.54468121871554
         },
         {
          "edge": 16,
          "pair": [
           "Mabeuf",
           "Combeferre"
          ],
          "source": "Mabeuf",
          "target": "Combeferre",
          "value": 2,
          "weight": 2,
          "x": 328.2773330461079,
          "y": 131.3506983660333
         },
         {
          "edge": 17,
          "pair": [
           "Mabeuf",
           "Feuilly"
          ],
          "source": "Mabeuf",
          "target": "Feuilly",
          "value": 1,
          "weight": 1,
          "x": 308.0226315409231,
          "y": 146.54468121871554
         },
         {
          "edge": 17,
          "pair": [
           "Mabeuf",
           "Feuilly"
          ],
          "source": "Mabeuf",
          "target": "Feuilly",
          "value": 1,
          "weight": 1,
          "x": 304.11842882883946,
          "y": 128.18172328336294
         },
         {
          "edge": 18,
          "pair": [
           "Mabeuf",
           "Courfeyrac"
          ],
          "source": "Mabeuf",
          "target": "Courfeyrac",
          "value": 2,
          "weight": 2,
          "x": 308.0226315409231,
          "y": 146.54468121871554
         },
         {
          "edge": 18,
          "pair": [
           "Mabeuf",
           "Courfeyrac"
          ],
          "source": "Mabeuf",
          "target": "Courfeyrac",
          "value": 2,
          "weight": 2,
          "x": 321.02227347792467,
          "y": 140.32806996116005
         },
         {
          "edge": 19,
          "pair": [
           "Mabeuf",
           "Bahorel"
          ],
          "source": "Mabeuf",
          "target": "Bahorel",
          "value": 2,
          "weight": 2,
          "x": 308.0226315409231,
          "y": 146.54468121871554
         },
         {
          "edge": 19,
          "pair": [
           "Mabeuf",
           "Bahorel"
          ],
          "source": "Mabeuf",
          "target": "Bahorel",
          "value": 2,
          "weight": 2,
          "x": 310.34305983609664,
          "y": 115.9072674791363
         },
         {
          "edge": 20,
          "pair": [
           "Mabeuf",
           "Bossuet"
          ],
          "source": "Mabeuf",
          "target": "Bossuet",
          "value": 1,
          "weight": 1,
          "x": 308.0226315409231,
          "y": 146.54468121871554
         },
         {
          "edge": 20,
          "pair": [
           "Mabeuf",
           "Bossuet"
          ],
          "source": "Mabeuf",
          "target": "Bossuet",
          "value": 1,
          "weight": 1,
          "x": 321.96546821460186,
          "y": 120.42597421331185
         },
         {
          "edge": 21,
          "pair": [
           "Mabeuf",
           "Joly"
          ],
          "source": "Mabeuf",
          "target": "Joly",
          "value": 1,
          "weight": 1,
          "x": 308.0226315409231,
          "y": 146.54468121871554
         },
         {
          "edge": 21,
          "pair": [
           "Mabeuf",
           "Joly"
          ],
          "source": "Mabeuf",
          "target": "Joly",
          "value": 1,
          "weight": 1,
          "x": 334.7559105974407,
          "y": 119.60614523879383
         },
         {
          "edge": 22,
          "pair": [
           "Mabeuf",
           "MotherPlutarch"
          ],
          "source": "Mabeuf",
          "target": "MotherPlutarch",
          "value": 3,
          "weight": 3,
          "x": 308.0226315409231,
          "y": 146.54468121871554
         },
         {
          "edge": 22,
          "pair": [
           "Mabeuf",
           "MotherPlutarch"
          ],
          "source": "Mabeuf",
          "target": "MotherPlutarch",
          "value": 3,
          "weight": 3,
          "x": 299.2867411037248,
          "y": 139.8939517319881
         },
         {
          "edge": 23,
          "pair": [
           "Enjolras",
           "Combeferre"
          ],
          "source": "Enjolras",
          "target": "Combeferre",
          "value": 15,
          "weight": 15,
          "x": 315.69723402466474,
          "y": 131.44186400610513
         },
         {
          "edge": 23,
          "pair": [
           "Enjolras",
           "Combeferre"
          ],
          "source": "Enjolras",
          "target": "Combeferre",
          "value": 15,
          "weight": 15,
          "x": 328.2773330461079,
          "y": 131.3506983660333
         },
         {
          "edge": 24,
          "pair": [
           "Enjolras",
           "Prouvaire"
          ],
          "source": "Enjolras",
          "target": "Prouvaire",
          "value": 4,
          "weight": 4,
          "x": 315.69723402466474,
          "y": 131.44186400610513
         },
         {
          "edge": 24,
          "pair": [
           "Enjolras",
           "Prouvaire"
          ],
          "source": "Enjolras",
          "target": "Prouvaire",
          "value": 4,
          "weight": 4,
          "x": 327.3059030148434,
          "y": 151.30822834464374
         },
         {
          "edge": 25,
          "pair": [
           "Enjolras",
           "Feuilly"
          ],
          "source": "Enjolras",
          "target": "Feuilly",
          "value": 6,
          "weight": 6,
          "x": 315.69723402466474,
          "y": 131.44186400610513
         },
         {
          "edge": 25,
          "pair": [
           "Enjolras",
           "Feuilly"
          ],
          "source": "Enjolras",
          "target": "Feuilly",
          "value": 6,
          "weight": 6,
          "x": 304.11842882883946,
          "y": 128.18172328336294
         },
         {
          "edge": 26,
          "pair": [
           "Enjolras",
           "Courfeyrac"
          ],
          "source": "Enjolras",
          "target": "Courfeyrac",
          "value": 17,
          "weight": 17,
          "x": 315.69723402466474,
          "y": 131.44186400610513
         },
         {
          "edge": 26,
          "pair": [
           "Enjolras",
           "Courfeyrac"
          ],
          "source": "Enjolras",
          "target": "Courfeyrac",
          "value": 17,
          "weight": 17,
          "x": 321.02227347792467,
          "y": 140.32806996116005
         },
         {
          "edge": 27,
          "pair": [
           "Enjolras",
           "Bahorel"
          ],
          "source": "Enjolras",
          "target": "Bahorel",
          "value": 4,
          "weight": 4,
          "x": 315.69723402466474,
          "y": 131.44186400610513
         },
         {
          "edge": 27,
          "pair": [
           "Enjolras",
           "Bahorel"
          ],
          "source": "Enjolras",
          "target": "Bahorel",
          "value": 4,
          "weight": 4,
          "x": 310.34305983609664,
          "y": 115.9072674791363
         },
         {
          "edge": 28,
          "pair": [
           "Enjolras",
           "Bossuet"
          ],
          "source": "Enjolras",
          "target": "Bossuet",
          "value": 10,
          "weight": 10,
          "x": 315.69723402466474,
          "y": 131.44186400610513
         },
         {
          "edge": 28,
          "pair": [
           "Enjolras",
           "Bossuet"
          ],
          "source": "Enjolras",
          "target": "Bossuet",
          "value": 10,
          "weight": 10,
          "x": 321.96546821460186,
          "y": 120.42597421331185
         },
         {
          "edge": 29,
          "pair": [
           "Enjolras",
           "Joly"
          ],
          "source": "Enjolras",
          "target": "Joly",
          "value": 5,
          "weight": 5,
          "x": 315.69723402466474,
          "y": 131.44186400610513
         },
         {
          "edge": 29,
          "pair": [
           "Enjolras",
           "Joly"
          ],
          "source": "Enjolras",
          "target": "Joly",
          "value": 5,
          "weight": 5,
          "x": 334.7559105974407,
          "y": 119.60614523879383
         },
         {
          "edge": 30,
          "pair": [
           "Enjolras",
           "Grantaire"
          ],
          "source": "Enjolras",
          "target": "Grantaire",
          "value": 3,
          "weight": 3,
          "x": 315.69723402466474,
          "y": 131.44186400610513
         },
         {
          "edge": 30,
          "pair": [
           "Enjolras",
           "Grantaire"
          ],
          "source": "Enjolras",
          "target": "Grantaire",
          "value": 3,
          "weight": 3,
          "x": 326.21417522528833,
          "y": 106.38692830211244
         },
         {
          "edge": 31,
          "pair": [
           "Enjolras",
           "MmeHucheloup"
          ],
          "source": "Enjolras",
          "target": "MmeHucheloup",
          "value": 1,
          "weight": 1,
          "x": 315.69723402466474,
          "y": 131.44186400610513
         },
         {
          "edge": 31,
          "pair": [
           "Enjolras",
           "MmeHucheloup"
          ],
          "source": "Enjolras",
          "target": "MmeHucheloup",
          "value": 1,
          "weight": 1,
          "x": 348.29242501888416,
          "y": 130.2138346438135
         },
         {
          "edge": 32,
          "pair": [
           "Combeferre",
           "Prouvaire"
          ],
          "source": "Combeferre",
          "target": "Prouvaire",
          "value": 2,
          "weight": 2,
          "x": 328.2773330461079,
          "y": 131.3506983660333
         },
         {
          "edge": 32,
          "pair": [
           "Combeferre",
           "Prouvaire"
          ],
          "source": "Combeferre",
          "target": "Prouvaire",
          "value": 2,
          "weight": 2,
          "x": 327.3059030148434,
          "y": 151.30822834464374
         },
         {
          "edge": 33,
          "pair": [
           "Combeferre",
           "Feuilly"
          ],
          "source": "Combeferre",
          "target": "Feuilly",
          "value": 5,
          "weight": 5,
          "x": 328.2773330461079,
          "y": 131.3506983660333
         },
         {
          "edge": 33,
          "pair": [
           "Combeferre",
           "Feuilly"
          ],
          "source": "Combeferre",
          "target": "Feuilly",
          "value": 5,
          "weight": 5,
          "x": 304.11842882883946,
          "y": 128.18172328336294
         },
         {
          "edge": 34,
          "pair": [
           "Combeferre",
           "Courfeyrac"
          ],
          "source": "Combeferre",
          "target": "Courfeyrac",
          "value": 13,
          "weight": 13,
          "x": 328.2773330461079,
          "y": 131.3506983660333
         },
         {
          "edge": 34,
          "pair": [
           "Combeferre",
           "Courfeyrac"
          ],
          "source": "Combeferre",
          "target": "Courfeyrac",
          "value": 13,
          "weight": 13,
          "x": 321.02227347792467,
          "y": 140.32806996116005
         },
         {
          "edge": 35,
          "pair": [
           "Combeferre",
           "Bahorel"
          ],
          "source": "Combeferre",
          "target": "Bahorel",
          "value": 5,
          "weight": 5,
          "x": 328.2773330461079,
          "y": 131.3506983660333
         },
         {
          "edge": 35,
          "pair": [
           "Combeferre",
           "Bahorel"
          ],
          "source": "Combeferre",
          "target": "Bahorel",
          "value": 5,
          "weight": 5,
          "x": 310.34305983609664,
          "y": 115.9072674791363
         },
         {
          "edge": 36,
          "pair": [
           "Combeferre",
           "Bossuet"
          ],
          "source": "Combeferre",
          "target": "Bossuet",
          "value": 9,
          "weight": 9,
          "x": 328.2773330461079,
          "y": 131.3506983660333
         },
         {
          "edge": 36,
          "pair": [
           "Combeferre",
           "Bossuet"
          ],
          "source": "Combeferre",
          "target": "Bossuet",
          "value": 9,
          "weight": 9,
          "x": 321.96546821460186,
          "y": 120.42597421331185
         },
         {
          "edge": 37,
          "pair": [
           "Combeferre",
           "Joly"
          ],
          "source": "Combeferre",
          "target": "Joly",
          "value": 5,
          "weight": 5,
          "x": 328.2773330461079,
          "y": 131.3506983660333
         },
         {
          "edge": 37,
          "pair": [
           "Combeferre",
           "Joly"
          ],
          "source": "Combeferre",
          "target": "Joly",
          "value": 5,
          "weight": 5,
          "x": 334.7559105974407,
          "y": 119.60614523879383
         },
         {
          "edge": 38,
          "pair": [
           "Combeferre",
           "Grantaire"
          ],
          "source": "Combeferre",
          "target": "Grantaire",
          "value": 1,
          "weight": 1,
          "x": 328.2773330461079,
          "y": 131.3506983660333
         },
         {
          "edge": 38,
          "pair": [
           "Combeferre",
           "Grantaire"
          ],
          "source": "Combeferre",
          "target": "Grantaire",
          "value": 1,
          "weight": 1,
          "x": 326.21417522528833,
          "y": 106.38692830211244
         },
         {
          "edge": 39,
          "pair": [
           "Prouvaire",
           "Feuilly"
          ],
          "source": "Prouvaire",
          "target": "Feuilly",
          "value": 2,
          "weight": 2,
          "x": 327.3059030148434,
          "y": 151.30822834464374
         },
         {
          "edge": 39,
          "pair": [
           "Prouvaire",
           "Feuilly"
          ],
          "source": "Prouvaire",
          "target": "Feuilly",
          "value": 2,
          "weight": 2,
          "x": 304.11842882883946,
          "y": 128.18172328336294
         },
         {
          "edge": 40,
          "pair": [
           "Prouvaire",
           "Courfeyrac"
          ],
          "source": "Prouvaire",
          "target": "Courfeyrac",
          "value": 3,
          "weight": 3,
          "x": 327.3059030148434,
          "y": 151.30822834464374
         },
         {
          "edge": 40,
          "pair": [
           "Prouvaire",
           "Courfeyrac"
          ],
          "source": "Prouvaire",
          "target": "Courfeyrac",
          "value": 3,
          "weight": 3,
          "x": 321.02227347792467,
          "y": 140.32806996116005
         },
         {
          "edge": 41,
          "pair": [
           "Prouvaire",
           "Bahorel"
          ],
          "source": "Prouvaire",
          "target": "Bahorel",
          "value": 2,
          "weight": 2,
          "x": 327.3059030148434,
          "y": 151.30822834464374
         },
         {
          "edge": 41,
          "pair": [
           "Prouvaire",
           "Bahorel"
          ],
          "source": "Prouvaire",
          "target": "Bahorel",
          "value": 2,
          "weight": 2,
          "x": 310.34305983609664,
          "y": 115.9072674791363
         },
         {
          "edge": 42,
          "pair": [
           "Prouvaire",
           "Bossuet"
          ],
          "source": "Prouvaire",
          "target": "Bossuet",
          "value": 2,
          "weight": 2,
          "x": 327.3059030148434,
          "y": 151.30822834464374
         },
         {
          "edge": 42,
          "pair": [
           "Prouvaire",
           "Bossuet"
          ],
          "source": "Prouvaire",
          "target": "Bossuet",
          "value": 2,
          "weight": 2,
          "x": 321.96546821460186,
          "y": 120.42597421331185
         },
         {
          "edge": 43,
          "pair": [
           "Prouvaire",
           "Joly"
          ],
          "source": "Prouvaire",
          "target": "Joly",
          "value": 2,
          "weight": 2,
          "x": 327.3059030148434,
          "y": 151.30822834464374
         },
         {
          "edge": 43,
          "pair": [
           "Prouvaire",
           "Joly"
          ],
          "source": "Prouvaire",
          "target": "Joly",
          "value": 2,
          "weight": 2,
          "x": 334.7559105974407,
          "y": 119.60614523879383
         },
         {
          "edge": 44,
          "pair": [
           "Prouvaire",
           "Grantaire"
          ],
          "source": "Prouvaire",
          "target": "Grantaire",
          "value": 1,
          "weight": 1,
          "x": 327.3059030148434,
          "y": 151.30822834464374
         },
         {
          "edge": 44,
          "pair": [
           "Prouvaire",
           "Grantaire"
          ],
          "source": "Prouvaire",
          "target": "Grantaire",
          "value": 1,
          "weight": 1,
          "x": 326.21417522528833,
          "y": 106.38692830211244
         },
         {
          "edge": 45,
          "pair": [
           "Feuilly",
           "Courfeyrac"
          ],
          "source": "Feuilly",
          "target": "Courfeyrac",
          "value": 6,
          "weight": 6,
          "x": 304.11842882883946,
          "y": 128.18172328336294
         },
         {
          "edge": 45,
          "pair": [
           "Feuilly",
           "Courfeyrac"
          ],
          "source": "Feuilly",
          "target": "Courfeyrac",
          "value": 6,
          "weight": 6,
          "x": 321.02227347792467,
          "y": 140.32806996116005
         },
         {
          "edge": 46,
          "pair": [
           "Feuilly",
           "Bahorel"
          ],
          "source": "Feuilly",
          "target": "Bahorel",
          "value": 3,
          "weight": 3,
          "x": 304.11842882883946,
          "y": 128.18172328336294
         },
         {
          "edge": 46,
          "pair": [
           "Feuilly",
           "Bahorel"
          ],
          "source": "Feuilly",
          "target": "Bahorel",
          "value": 3,
          "weight": 3,
          "x": 310.34305983609664,
          "y": 115.9072674791363
         },
         {
          "edge": 47,
          "pair": [
           "Feuilly",
           "Bossuet"
          ],
          "source": "Feuilly",
          "target": "Bossuet",
          "value": 6,
          "weight": 6,
          "x": 304.11842882883946,
          "y": 128.18172328336294
         },
         {
          "edge": 47,
          "pair": [
           "Feuilly",
           "Bossuet"
          ],
          "source": "Feuilly",
          "target": "Bossuet",
          "value": 6,
          "weight": 6,
          "x": 321.96546821460186,
          "y": 120.42597421331185
         },
         {
          "edge": 48,
          "pair": [
           "Feuilly",
           "Joly"
          ],
          "source": "Feuilly",
          "target": "Joly",
          "value": 5,
          "weight": 5,
          "x": 304.11842882883946,
          "y": 128.18172328336294
         },
         {
          "edge": 48,
          "pair": [
           "Feuilly",
           "Joly"
          ],
          "source": "Feuilly",
          "target": "Joly",
          "value": 5,
          "weight": 5,
          "x": 334.7559105974407,
          "y": 119.60614523879383
         },
         {
          "edge": 49,
          "pair": [
           "Feuilly",
           "Grantaire"
          ],
          "source": "Feuilly",
          "target": "Grantaire",
          "value": 1,
          "weight": 1,
          "x": 304.11842882883946,
          "y": 128.18172328336294
         },
         {
          "edge": 49,
          "pair": [
           "Feuilly",
           "Grantaire"
          ],
          "source": "Feuilly",
          "target": "Grantaire",
          "value": 1,
          "weight": 1,
          "x": 326.21417522528833,
          "y": 106.38692830211244
         },
         {
          "edge": 50,
          "pair": [
           "Courfeyrac",
           "Bahorel"
          ],
          "source": "Courfeyrac",
          "target": "Bahorel",
          "value": 6,
          "weight": 6,
          "x": 321.02227347792467,
          "y": 140.32806996116005
         },
         {
          "edge": 50,
          "pair": [
           "Courfeyrac",
           "Bahorel"
          ],
          "source": "Courfeyrac",
          "target": "Bahorel",
          "value": 6,
          "weight": 6,
          "x": 310.34305983609664,
          "y": 115.9072674791363
         },
         {
          "edge": 51,
          "pair": [
           "Courfeyrac",
           "Bossuet"
          ],
          "source": "Courfeyrac",
          "target": "Bossuet",
          "value": 12,
          "weight": 12,
          "x": 321.02227347792467,
          "y": 140.32806996116005
         },
         {
          "edge": 51,
          "pair": [
           "Courfeyrac",
           "Bossuet"
          ],
          "source": "Courfeyrac",
          "target": "Bossuet",
          "value": 12,
          "weight": 12,
          "x": 321.96546821460186,
          "y": 120.42597421331185
         },
         {
          "edge": 52,
          "pair": [
           "Courfeyrac",
           "Joly"
          ],
          "source": "Courfeyrac",
          "target": "Joly",
          "value": 5,
          "weight": 5,
          "x": 321.02227347792467,
          "y": 140.32806996116005
         },
         {
          "edge": 52,
          "pair": [
           "Courfeyrac",
           "Joly"
          ],
          "source": "Courfeyrac",
          "target": "Joly",
          "value": 5,
          "weight": 5,
          "x": 334.7559105974407,
          "y": 119.60614523879383
         },
         {
          "edge": 53,
          "pair": [
           "Courfeyrac",
           "Grantaire"
          ],
          "source": "Courfeyrac",
          "target": "Grantaire",
          "value": 2,
          "weight": 2,
          "x": 321.02227347792467,
          "y": 140.32806996116005
         },
         {
          "edge": 53,
          "pair": [
           "Courfeyrac",
           "Grantaire"
          ],
          "source": "Courfeyrac",
          "target": "Grantaire",
          "value": 2,
          "weight": 2,
          "x": 326.21417522528833,
          "y": 106.38692830211244
         },
         {
          "edge": 54,
          "pair": [
           "Courfeyrac",
           "MmeHucheloup"
          ],
          "source": "Courfeyrac",
          "target": "MmeHucheloup",
          "value": 1,
          "weight": 1,
          "x": 321.02227347792467,
          "y": 140.32806996116005
         },
         {
          "edge": 54,
          "pair": [
           "Courfeyrac",
           "MmeHucheloup"
          ],
          "source": "Courfeyrac",
          "target": "MmeHucheloup",
          "value": 1,
          "weight": 1,
          "x": 348.29242501888416,
          "y": 130.2138346438135
         },
         {
          "edge": 55,
          "pair": [
           "Bahorel",
           "Bossuet"
          ],
          "source": "Bahorel",
          "target": "Bossuet",
          "value": 4,
          "weight": 4,
          "x": 310.34305983609664,
          "y": 115.9072674791363
         },
         {
          "edge": 55,
          "pair": [
           "Bahorel",
           "Bossuet"
          ],
          "source": "Bahorel",
          "target": "Bossuet",
          "value": 4,
          "weight": 4,
          "x": 321.96546821460186,
          "y": 120.42597421331185
         },
         {
          "edge": 56,
          "pair": [
           "Bahorel",
           "Joly"
          ],
          "source": "Bahorel",
          "target": "Joly",
          "value": 5,
          "weight": 5,
          "x": 310.34305983609664,
          "y": 115.9072674791363
         },
         {
          "edge": 56,
          "pair": [
           "Bahorel",
           "Joly"
          ],
          "source": "Bahorel",
          "target": "Joly",
          "value": 5,
          "weight": 5,
          "x": 334.7559105974407,
          "y": 119.60614523879383
         },
         {
          "edge": 57,
          "pair": [
           "Bahorel",
           "Grantaire"
          ],
          "source": "Bahorel",
          "target": "Grantaire",
          "value": 1,
          "weight": 1,
          "x": 310.34305983609664,
          "y": 115.9072674791363
         },
         {
          "edge": 57,
          "pair": [
           "Bahorel",
           "Grantaire"
          ],
          "source": "Bahorel",
          "target": "Grantaire",
          "value": 1,
          "weight": 1,
          "x": 326.21417522528833,
          "y": 106.38692830211244
         },
         {
          "edge": 58,
          "pair": [
           "Bahorel",
           "MmeHucheloup"
          ],
          "source": "Bahorel",
          "target": "MmeHucheloup",
          "value": 1,
          "weight": 1,
          "x": 310.34305983609664,
          "y": 115.9072674791363
         },
         {
          "edge": 58,
          "pair": [
           "Bahorel",
           "MmeHucheloup"
          ],
          "source": "Bahorel",
          "target": "MmeHucheloup",
          "value": 1,
          "weight": 1,
          "x": 348.29242501888416,
          "y": 130.2138346438135
         },
         {
          "edge": 59,
          "pair": [
           "Bossuet",
           "Joly"
          ],
          "source": "Bossuet",
          "target": "Joly",
          "value": 7,
          "weight": 7,
          "x": 321.96546821460186,
          "y": 120.42597421331185
         },
         {
          "edge": 59,
          "pair": [
           "Bossuet",
           "Joly"
          ],
          "source": "Bossuet",
          "target": "Joly",
          "value": 7,
          "weight": 7,
          "x": 334.7559105974407,
          "y": 119.60614523879383
         },
         {
          "edge": 60,
          "pair": [
           "Bossuet",
           "Grantaire"
          ],
          "source": "Bossuet",
          "target": "Grantaire",
          "value": 3,
          "weight": 3,
          "x": 321.96546821460186,
          "y": 120.42597421331185
         },
         {
          "edge": 60,
          "pair": [
           "Bossuet",
           "Grantaire"
          ],
          "source": "Bossuet",
          "target": "Grantaire",
          "value": 3,
          "weight": 3,
          "x": 326.21417522528833,
          "y": 106.38692830211244
         },
         {
          "edge": 61,
          "pair": [
           "Bossuet",
           "MmeHucheloup"
          ],
          "source": "Bossuet",
          "target": "MmeHucheloup",
          "value": 1,
          "weight": 1,
          "x": 321.96546821460186,
          "y": 120.42597421331185
         },
         {
          "edge": 61,
          "pair": [
           "Bossuet",
           "MmeHucheloup"
          ],
          "source": "Bossuet",
          "target": "MmeHucheloup",
          "value": 1,
          "weight": 1,
          "x": 348.29242501888416,
          "y": 130.2138346438135
         },
         {
          "edge": 62,
          "pair": [
           "Joly",
           "Grantaire"
          ],
          "source": "Joly",
          "target": "Grantaire",
          "value": 2,
          "weight": 2,
          "x": 334.7559105974407,
          "y": 119.60614523879383
         },
         {
          "edge": 62,
          "pair": [
           "Joly",
           "Grantaire"
          ],
          "source": "Joly",
          "target": "Grantaire",
          "value": 2,
          "weight": 2,
          "x": 326.21417522528833,
          "y": 106.38692830211244
         },
         {
          "edge": 63,
          "pair": [
           "Joly",
           "MmeHucheloup"
          ],
          "source": "Joly",
          "target": "MmeHucheloup",
          "value": 1,
          "weight": 1,
          "x": 334.7559105974407,
          "y": 119.60614523879383
         },
         {
          "edge": 63,
          "pair": [
           "Joly",
           "MmeHucheloup"
          ],
          "source": "Joly",
          "target": "MmeHucheloup",
          "value": 1,
          "weight": 1,
          "x": 348.29242501888416,
          "y": 130.2138346438135
         },
         {
          "edge": 64,
          "pair": [
           "Grantaire",
           "MmeHucheloup"
          ],
          "source": "Grantaire",
          "target": "MmeHucheloup",
          "value": 1,
          "weight": 1,
          "x": 326.21417522528833,
          "y": 106.38692830211244
         },
         {
          "edge": 64,
          "pair": [
           "Grantaire",
           "MmeHucheloup"
          ],
          "source": "Grantaire",
          "target": "MmeHucheloup",
          "value": 1,
          "weight": 1,
          "x": 348.29242501888416,
          "y": 130.2138346438135
         },
         {
          "edge": 65,
          "pair": [
           "Child1",
           "Child2"
          ],
          "source": "Child1",
          "target": "Child2",
          "value": 3,
          "weight": 3,
          "x": 346.61108607280295,
          "y": 115.452400472948
         },
         {
          "edge": 65,
          "pair": [
           "Child1",
           "Child2"
          ],
          "source": "Child1",
          "target": "Child2",
          "value": 3,
          "weight": 3,
          "x": 349.3705875468958,
          "y": 121.14958488772504
         }
        ],
        "data-34b5491e9fe0d8df910b977bac84afe2": [
         {
          "edge": 0,
          "pair": [
           "Labarre",
           "Valjean"
          ],
          "source": "Labarre",
          "target": "Valjean",
          "value": 1,
          "weight": 1,
          "x": 277.4001623414098,
          "y": 285.59886519235
         },
         {
          "edge": 0,
          "pair": [
           "Labarre",
           "Valjean"
          ],
          "source": "Labarre",
          "target": "Valjean",
          "value": 1,
          "weight": 1,
          "x": 254.03377179808598,
          "y": 270.2680668758711
         },
         {
          "edge": 1,
          "pair": [
           "Valjean",
           "MmeDeR"
          ],
          "source": "Valjean",
          "target": "MmeDeR",
          "value": 1,
          "weight": 1,
          "x": 254.03377179808598,
          "y": 270.2680668758711
         },
         {
          "edge": 1,
          "pair": [
           "Valjean",
           "MmeDeR"
          ],
          "source": "Valjean",
          "target": "MmeDeR",
          "value": 1,
          "weight": 1,
          "x": 229.4367269700823,
          "y": 254.4702431135298
         },
         {
          "edge": 2,
          "pair": [
           "Valjean",
           "Isabeau"
          ],
          "source": "Valjean",
          "target": "Isabeau",
          "value": 1,
          "weight": 1,
          "x": 254.03377179808598,
          "y": 270.2680668758711
         },
         {
          "edge": 2,
          "pair": [
           "Valjean",
           "Isabeau"
          ],
          "source": "Valjean",
          "target": "Isabeau",
          "value": 1,
          "weight": 1,
          "x": 228.1299628645868,
          "y": 269.0212976034281
         },
         {
          "edge": 3,
          "pair": [
           "Valjean",
           "Gervais"
          ],
          "source": "Valjean",
          "target": "Gervais",
          "value": 1,
          "weight": 1,
          "x": 254.03377179808598,
          "y": 270.2680668758711
         },
         {
          "edge": 3,
          "pair": [
           "Valjean",
           "Gervais"
          ],
          "source": "Valjean",
          "target": "Gervais",
          "value": 1,
          "weight": 1,
          "x": 267.85647210201853,
          "y": 291.6996647537326
         },
         {
          "edge": 4,
          "pair": [
           "Valjean",
           "Cosette"
          ],
          "source": "Valjean",
          "target": "Cosette",
          "value": 31,
          "weight": 31,
          "x": 254.03377179808598,
          "y": 270.2680668758711
         },
         {
          "edge": 4,
          "pair": [
           "Valjean",
           "Cosette"
          ],
          "source": "Valjean",
          "target": "Cosette",
          "value": 31,
          "weight": 31,
          "x": 256.4815901106244,
          "y": 255.93302494632093
         },
         {
          "edge": 5,
          "pair": [
           "Valjean",
           "Javert"
          ],
          "source": "Valjean",
          "target": "Javert",
          "value": 17,
          "weight": 17,
          "x": 254.03377179808598,
          "y": 270.2680668758711
         },
         {
          "edge": 5,
          "pair": [
           "Valjean",
           "Javert"
          ],
          "source": "Valjean",
          "target": "Javert",
          "value": 17,
          "weight": 17,
          "x": 255.9584018725882,
          "y": 286.21483009138103
         },
         {
          "edge": 6,
          "pair": [
           "Valjean",
           "Fauchelevent"
          ],
          "source": "Valjean",
          "target": "Fauchelevent",
          "value": 8,
          "weight": 8,
          "x": 254.03377179808598,
          "y": 270.2680668758711
         },
         {
          "edge": 6,
          "pair": [
           "Valjean",
           "Fauchelevent"
          ],
          "source": "Valjean",
          "target": "Fauchelevent",
          "value": 8,
          "weight": 8,
          "x": 241.79615025404303,
          "y": 253.73339270969163
         },
         {
          "edge": 7,
          "pair": [
           "Valjean",
           "Simplice"
          ],
          "source": "Valjean",
          "target": "Simplice",
          "value": 3,
          "weight": 3,
          "x": 254.03377179808598,
          "y": 270.2680668758711
         },
         {
          "edge": 7,
          "pair": [
           "Valjean",
           "Simplice"
          ],
          "source": "Valjean",
          "target": "Simplice",
          "value": 3,
          "weight": 3,
          "x": 242.6823653154901,
          "y": 286.8435923924943
         },
         {
          "edge": 8,
          "pair": [
           "Valjean",
           "Scaufflaire"
          ],
          "source": "Valjean",
          "target": "Scaufflaire",
          "value": 1,
          "weight": 1,
          "x": 254.03377179808598,
          "y": 270.2680668758711
         },
         {
          "edge": 8,
          "pair": [
           "Valjean",
           "Scaufflaire"
          ],
          "source": "Valjean",
          "target": "Scaufflaire",
          "value": 1,
          "weight": 1,
          "x": 286.1403222591366,
          "y": 269.40432189398376
         },
         {
          "edge": 9,
          "pair": [
           "Valjean",
           "Woman1"
          ],
          "source": "Valjean",
          "target": "Woman1",
          "value": 2,
          "weight": 2,
          "x": 254.03377179808598,
          "y": 270.2680668758711
         },
         {
          "edge": 9,
          "pair": [
           "Valjean",
           "Woman1"
          ],
          "source": "Valjean",
          "target": "Woman1",
          "value": 2,
          "weight": 2,
          "x": 269.8315318160342,
          "y": 282.90256196500764
         },
         {
          "edge": 10,
          "pair": [
           "Valjean",
           "Woman2"
          ],
          "source": "Valjean",
          "target": "Woman2",
          "value": 3,
          "weight": 3,
          "x": 254.03377179808598,
          "y": 270.2680668758711
         },
         {
          "edge": 10,
          "pair": [
           "Valjean",
           "Woman2"
          ],
          "source": "Valjean",
          "target": "Woman2",
          "value": 3,
          "weight": 3,
          "x": 236.97807501498755,
          "y": 274.04391119018703
         },
         {
          "edge": 11,
          "pair": [
           "Valjean",
           "MotherInnocent"
          ],
          "source": "Valjean",
          "target": "MotherInnocent",
          "value": 1,
          "weight": 1,
          "x": 254.03377179808598,
          "y": 270.2680668758711
         },
         {
          "edge": 11,
          "pair": [
           "Valjean",
           "MotherInnocent"
          ],
          "source": "Valjean",
          "target": "MotherInnocent",
          "value": 1,
          "weight": 1,
          "x": 235.49335286439216,
          "y": 245.780238036929
         },
         {
          "edge": 12,
          "pair": [
           "Valjean",
           "Gillenormand"
          ],
          "source": "Valjean",
          "target": "Gillenormand",
          "value": 2,
          "weight": 2,
          "x": 254.03377179808598,
          "y": 270.2680668758711
         },
         {
          "edge": 12,
          "pair": [
           "Valjean",
           "Gillenormand"
          ],
          "source": "Valjean",
          "target": "Gillenormand",
          "value": 2,
          "weight": 2,
          "x": 280.4984489672085,
          "y": 258.3921636655674
         },
         {
          "edge": 13,
          "pair": [
           "Valjean",
           "MlleGillenormand"
          ],
          "source": "Valjean",
          "target": "MlleGillenormand",
          "value": 2,
          "weight": 2,
          "x": 254.03377179808598,
          "y": 270.2680668758711
         },
         {
          "edge": 13,
          "pair": [
           "Valjean",
           "MlleGillenormand"
          ],
          "source": "Valjean",
          "target": "MlleGillenormand",
          "value": 2,
          "weight": 2,
          "x": 270.5340685778473,
          "y": 245.64670162350316
         },
         {
          "edge": 14,
          "pair": [
           "Valjean",
           "Marius"
          ],
          "source": "Valjean",
          "target": "Marius",
          "value": 19,
          "weight": 19,
          "x": 254.03377179808598,
          "y": 270.2680668758711
         },
         {
          "edge": 14,
          "pair": [
           "Valjean",
           "Marius"
          ],
          "source": "Valjean",
          "target": "Marius",
          "value": 19,
          "weight": 19,
          "x": 268.29029802297026,
          "y": 262.0184682527905
         },
         {
          "edge": 15,
          "pair": [
           "Valjean",
           "Toussaint"
          ],
          "source": "Valjean",
          "target": "Toussaint",
          "value": 1,
          "weight": 1,
          "x": 254.03377179808598,
          "y": 270.2680668758711
         },
         {
          "edge": 15,
          "pair": [
           "Valjean",
           "Toussaint"
          ],
          "source": "Valjean",
          "target": "Toussaint",
          "value": 1,
          "weight": 1,
          "x": 234.5099421641185,
          "y": 262.5399958227465
         },
         {
          "edge": 16,
          "pair": [
           "Cosette",
           "Javert"
          ],
          "source": "Cosette",
          "target": "Javert",
          "value": 1,
          "weight": 1,
          "x": 256.4815901106244,
          "y": 255.93302494632093
         },
         {
          "edge": 16,
          "pair": [
           "Cosette",
           "Javert"
          ],
          "source": "Cosette",
          "target": "Javert",
          "value": 1,
          "weight": 1,
          "x": 255.9584018725882,
          "y": 286.21483009138103
         },
         {
          "edge": 17,
          "pair": [
           "Cosette",
           "Woman2"
          ],
          "source": "Cosette",
          "target": "Woman2",
          "value": 1,
          "weight": 1,
          "x": 256.4815901106244,
          "y": 255.93302494632093
         },
         {
          "edge": 17,
          "pair": [
           "Cosette",
           "Woman2"
          ],
          "source": "Cosette",
          "target": "Woman2",
          "value": 1,
          "weight": 1,
          "x": 236.97807501498755,
          "y": 274.04391119018703
         },
         {
          "edge": 18,
          "pair": [
           "Cosette",
           "Gillenormand"
          ],
          "source": "Cosette",
          "target": "Gillenormand",
          "value": 3,
          "weight": 3,
          "x": 256.4815901106244,
          "y": 255.93302494632093
         },
         {
          "edge": 18,
          "pair": [
           "Cosette",
           "Gillenormand"
          ],
          "source": "Cosette",
          "target": "Gillenormand",
          "value": 3,
          "weight": 3,
          "x": 280.4984489672085,
          "y": 258.3921636655674
         },
         {
          "edge": 19,
          "pair": [
           "Cosette",
           "MlleGillenormand"
          ],
          "source": "Cosette",
          "target": "MlleGillenormand",
          "value": 2,
          "weight": 2,
          "x": 256.4815901106244,
          "y": 255.93302494632093
         },
         {
          "edge": 19,
          "pair": [
           "Cosette",
           "MlleGillenormand"
          ],
          "source": "Cosette",
          "target": "MlleGillenormand",
          "value": 2,
          "weight": 2,
          "x": 270.5340685778473,
          "y": 245.64670162350316
         },
         {
          "edge": 20,
          "pair": [
           "Cosette",
           "LtGillenormand"
          ],
          "source": "Cosette",
          "target": "LtGillenormand",
          "value": 1,
          "weight": 1,
          "x": 256.4815901106244,
          "y": 255.93302494632093
         },
         {
          "edge": 20,
          "pair": [
           "Cosette",
           "LtGillenormand"
          ],
          "source": "Cosette",
          "target": "LtGillenormand",
          "value": 1,
          "weight": 1,
          "x": 255.91344137019635,
          "y": 238.95934732250373
         },
         {
          "edge": 21,
          "pair": [
           "Cosette",
           "Marius"
          ],
          "source": "Cosette",
          "target": "Marius",
          "value": 21,
          "weight": 21,
          "x": 256.4815901106244,
          "y": 255.93302494632093
         },
         {
          "edge": 21,
          "pair": [
           "Cosette",
           "Marius"
          ],
          "source": "Cosette",
          "target": "Marius",
          "value": 21,
          "weight": 21,
          "x": 268.29029802297026,
          "y": 262.0184682527905
         },
         {
          "edge": 22,
          "pair": [
           "Cosette",
           "Toussaint"
          ],
          "source": "Cosette",
          "target": "Toussaint",
          "value": 2,
          "weight": 2,
          "x": 256.4815901106244,
          "y": 255.93302494632093
         },
         {
          "edge": 22,
          "pair": [
           "Cosette",
           "Toussaint"
          ],
          "source": "Cosette",
          "target": "Toussaint",
          "value": 2,
          "weight": 2,
          "x": 234.5099421641185,
          "y": 262.5399958227465
         },
         {
          "edge": 23,
          "pair": [
           "Javert",
           "Fauchelevent"
          ],
          "source": "Javert",
          "target": "Fauchelevent",
          "value": 1,
          "weight": 1,
          "x": 255.9584018725882,
          "y": 286.21483009138103
         },
         {
          "edge": 23,
          "pair": [
           "Javert",
           "Fauchelevent"
          ],
          "source": "Javert",
          "target": "Fauchelevent",
          "value": 1,
          "weight": 1,
          "x": 241.79615025404303,
          "y": 253.73339270969163
         },
         {
          "edge": 24,
          "pair": [
           "Javert",
           "Simplice"
          ],
          "source": "Javert",
          "target": "Simplice",
          "value": 1,
          "weight": 1,
          "x": 255.9584018725882,
          "y": 286.21483009138103
         },
         {
          "edge": 24,
          "pair": [
           "Javert",
           "Simplice"
          ],
          "source": "Javert",
          "target": "Simplice",
          "value": 1,
          "weight": 1,
          "x": 242.6823653154901,
          "y": 286.8435923924943
         },
         {
          "edge": 25,
          "pair": [
           "Javert",
           "Woman1"
          ],
          "source": "Javert",
          "target": "Woman1",
          "value": 1,
          "weight": 1,
          "x": 255.9584018725882,
          "y": 286.21483009138103
         },
         {
          "edge": 25,
          "pair": [
           "Javert",
           "Woman1"
          ],
          "source": "Javert",
          "target": "Woman1",
          "value": 1,
          "weight": 1,
          "x": 269.8315318160342,
          "y": 282.90256196500764
         },
         {
          "edge": 26,
          "pair": [
           "Javert",
           "Woman2"
          ],
          "source": "Javert",
          "target": "Woman2",
          "value": 1,
          "weight": 1,
          "x": 255.9584018725882,
          "y": 286.21483009138103
         },
         {
          "edge": 26,
          "pair": [
           "Javert",
           "Woman2"
          ],
          "source": "Javert",
          "target": "Woman2",
          "value": 1,
          "weight": 1,
          "x": 236.97807501498755,
          "y": 274.04391119018703
         },
         {
          "edge": 27,
          "pair": [
           "Javert",
           "Toussaint"
          ],
          "source": "Javert",
          "target": "Toussaint",
          "value": 1,
          "weight": 1,
          "x": 255.9584018725882,
          "y": 286.21483009138103
         },
         {
          "edge": 27,
          "pair": [
           "Javert",
           "Toussaint"
          ],
          "source": "Javert",
          "target": "Toussaint",
          "value": 1,
          "weight": 1,
          "x": 234.5099421641185,
          "y": 262.5399958227465
         },
         {
          "edge": 28,
          "pair": [
           "Fauchelevent",
           "MotherInnocent"
          ],
          "source": "Fauchelevent",
          "target": "MotherInnocent",
          "value": 3,
          "weight": 3,
          "x": 241.79615025404303,
          "y": 253.73339270969163
         },
         {
          "edge": 28,
          "pair": [
           "Fauchelevent",
           "MotherInnocent"
          ],
          "source": "Fauchelevent",
          "target": "MotherInnocent",
          "value": 3,
          "weight": 3,
          "x": 235.49335286439216,
          "y": 245.780238036929
         },
         {
          "edge": 29,
          "pair": [
           "Fauchelevent",
           "Gribier"
          ],
          "source": "Fauchelevent",
          "target": "Gribier",
          "value": 2,
          "weight": 2,
          "x": 241.79615025404303,
          "y": 253.73339270969163
         },
         {
          "edge": 29,
          "pair": [
           "Fauchelevent",
           "Gribier"
          ],
          "source": "Fauchelevent",
          "target": "Gribier",
          "value": 2,
          "weight": 2,
          "x": 242.3841578353166,
          "y": 241.1234352637651
         },
         {
          "edge": 30,
          "pair": [
           "Perpetue",
           "Simplice"
          ],
          "source": "Perpetue",
          "target": "Simplice",
          "value": 2,
          "weight": 2,
          "x": 233.9021096042554,
          "y": 282.77620366253046
         },
         {
          "edge": 30,
          "pair": [
           "Perpetue",
           "Simplice"
          ],
          "source": "Perpetue",
          "target": "Simplice",
          "value": 2,
          "weight": 2,
          "x": 242.6823653154901,
          "y": 286.8435923924943
         },
         {
          "edge": 31,
          "pair": [
           "Pontmercy",
           "MmePontmercy"
          ],
          "source": "Pontmercy",
          "target": "MmePontmercy",
          "value": 1,
          "weight": 1,
          "x": 282.81805473041146,
          "y": 244.5093310464248
         },
         {
          "edge": 31,
          "pair": [
           "Pontmercy",
           "MmePontmercy"
          ],
          "source": "Pontmercy",
          "target": "MmePontmercy",
          "value": 1,
          "weight": 1,
          "x": 266.39611334044025,
          "y": 233.7228999724434
         },
         {
          "edge": 32,
          "pair": [
           "Pontmercy",
           "Marius"
          ],
          "source": "Pontmercy",
          "target": "Marius",
          "value": 1,
          "weight": 1,
          "x": 282.81805473041146,
          "y": 244.5093310464248
         },
         {
          "edge": 32,
          "pair": [
           "Pontmercy",
           "Marius"
          ],
          "source": "Pontmercy",
          "target": "Marius",
          "value": 1,
          "weight": 1,
          "x": 268.29029802297026,
          "y": 262.0184682527905
         },
         {
          "edge": 33,
          "pair": [
           "Gillenormand",
           "Magnon"
          ],
          "source": "Gillenormand",
          "target": "Magnon",
          "value": 1,
          "weight": 1,
          "x": 280.4984489672085,
          "y": 258.3921636655674
         },
         {
          "edge": 33,
          "pair": [
           "Gillenormand",
           "Magnon"
          ],
          "source": "Gillenormand",
          "target": "Magnon",
          "value": 1,
          "weight": 1,
          "x": 285.6023274529398,
          "y": 277.1062988337577
         },
         {
          "edge": 34,
          "pair": [
           "Gillenormand",
           "MlleGillenormand"
          ],
          "source": "Gillenormand",
          "target": "MlleGillenormand",
          "value": 9,
          "weight": 9,
          "x": 280.4984489672085,
          "y": 258.3921636655674
         },
         {
          "edge": 34,
          "pair": [
           "Gillenormand",
           "MlleGillenormand"
          ],
          "source": "Gillenormand",
          "target": "MlleGillenormand",
          "value": 9,
          "weight": 9,
          "x": 270.5340685778473,
          "y": 245.64670162350316
         },
         {
          "edge": 35,
          "pair": [
           "Gillenormand",
           "LtGillenormand"
          ],
          "source": "Gillenormand",
          "target": "LtGillenormand",
          "value": 1,
          "weight": 1,
          "x": 280.4984489672085,
          "y": 258.3921636655674
         },
         {
          "edge": 35,
          "pair": [
           "Gillenormand",
           "LtGillenormand"
          ],
          "source": "Gillenormand",
          "target": "LtGillenormand",
          "value": 1,
          "weight": 1,
          "x": 255.91344137019635,
          "y": 238.95934732250373
         },
         {
          "edge": 36,
          "pair": [
           "Gillenormand",
           "Marius"
          ],
          "source": "Gillenormand",
          "target": "Marius",
          "value": 12,
          "weight": 12,
          "x": 280.4984489672085,
          "y": 258.3921636655674
         },
         {
          "edge": 36,
          "pair": [
           "Gillenormand",
           "Marius"
          ],
          "source": "Gillenormand",
          "target": "Marius",
          "value": 12,
          "weight": 12,
          "x": 268.29029802297026,
          "y": 262.0184682527905
         },
         {
          "edge": 37,
          "pair": [
           "Gillenormand",
           "BaronessT"
          ],
          "source": "Gillenormand",
          "target": "BaronessT",
          "value": 1,
          "weight": 1,
          "x": 280.4984489672085,
          "y": 258.3921636655674
         },
         {
          "edge": 37,
          "pair": [
           "Gillenormand",
           "BaronessT"
          ],
          "source": "Gillenormand",
          "target": "BaronessT",
          "value": 1,
          "weight": 1,
          "x": 277.97831858771804,
          "y": 275.4541018240253
         },
         {
          "edge": 38,
          "pair": [
           "MlleGillenormand",
           "MmePontmercy"
          ],
          "source": "MlleGillenormand",
          "target": "MmePontmercy",
          "value": 1,
          "weight": 1,
          "x": 270.5340685778473,
          "y": 245.64670162350316
         },
         {
          "edge": 38,
          "pair": [
           "MlleGillenormand",
           "MmePontmercy"
          ],
          "source": "MlleGillenormand",
          "target": "MmePontmercy",
          "value": 1,
          "weight": 1,
          "x": 266.39611334044025,
          "y": 233.7228999724434
         },
         {
          "edge": 39,
          "pair": [
           "MlleGillenormand",
           "MlleVaubois"
          ],
          "source": "MlleGillenormand",
          "target": "MlleVaubois",
          "value": 1,
          "weight": 1,
          "x": 270.5340685778473,
          "y": 245.64670162350316
         },
         {
          "edge": 39,
          "pair": [
           "MlleGillenormand",
           "MlleVaubois"
          ],
          "source": "MlleGillenormand",
          "target": "MlleVaubois",
          "value": 1,
          "weight": 1,
          "x": 247.52083628446263,
          "y": 235.06978562633614
         },
         {
          "edge": 40,
          "pair": [
           "MlleGillenormand",
           "LtGillenormand"
          ],
          "source": "MlleGillenormand",
          "target": "LtGillenormand",
          "value": 2,
          "weight": 2,
          "x": 270.5340685778473,
          "y": 245.64670162350316
         },
         {
          "edge": 40,
          "pair": [
           "MlleGillenormand",
           "LtGillenormand"
          ],
          "source": "MlleGillenormand",
          "target": "LtGillenormand",
          "value": 2,
          "weight": 2,
          "x": 255.91344137019635,
          "y": 238.95934732250373
         },
         {
          "edge": 41,
          "pair": [
           "MlleGillenormand",
           "Marius"
          ],
          "source": "MlleGillenormand",
          "target": "Marius",
          "value": 6,
          "weight": 6,
          "x": 270.5340685778473,
          "y": 245.64670162350316
         },
         {
          "edge": 41,
          "pair": [
           "MlleGillenormand",
           "Marius"
          ],
          "source": "MlleGillenormand",
          "target": "Marius",
          "value": 6,
          "weight": 6,
          "x": 268.29029802297026,
          "y": 262.0184682527905
         },
         {
          "edge": 42,
          "pair": [
           "LtGillenormand",
           "Marius"
          ],
          "source": "LtGillenormand",
          "target": "Marius",
          "value": 1,
          "weight": 1,
          "x": 255.91344137019635,
          "y": 238.95934732250373
         },
         {
          "edge": 42,
          "pair": [
           "LtGillenormand",
           "Marius"
          ],
          "source": "LtGillenormand",
          "target": "Marius",
          "value": 1,
          "weight": 1,
          "x": 268.29029802297026,
          "y": 262.0184682527905
         },
         {
          "edge": 43,
          "pair": [
           "Marius",
           "BaronessT"
          ],
          "source": "Marius",
          "target": "BaronessT",
          "value": 1,
          "weight": 1,
          "x": 268.29029802297026,
          "y": 262.0184682527905
         },
         {
          "edge": 43,
          "pair": [
           "Marius",
           "BaronessT"
          ],
          "source": "Marius",
          "target": "BaronessT",
          "value": 1,
          "weight": 1,
          "x": 277.97831858771804,
          "y": 275.4541018240253
         }
        ],
        "data-355d6aacfb01b86613a4ae451e0642a0": [
         {
          "__combo_size": 7312,
          "__node_r": 42.7551166528639,
          "__node_size": 7312,
          "__y_label": 74.05414201662518,
          "group": "5",
          "x": 324.4698118664829,
          "y": 128.80925866948908
         }
        ],
        "data-35ca0ec4f932fa7d55690b22e91c48f1": [
         {
          "__combo_group_value": "5",
          "__node_r": 2.5,
          "__node_size": 25,
          "group": "5",
          "name": "Jondrette",
          "x": 314.6528029472671,
          "y": 103.15618867777074
         },
         {
          "__combo_group_value": "5",
          "__node_r": 2.5,
          "__node_size": 25,
          "group": "5",
          "name": "MmeBurgon",
          "x": 339.92813320240526,
          "y": 108.35409740130392
         },
         {
          "__combo_group_value": "5",
          "__node_r": 2.5,
          "__node_size": 25,
          "group": "5",
          "name": "Gavroche",
          "x": 338.7101367945058,
          "y": 139.58310264104284
         },
         {
          "__combo_group_value": "5",
          "__node_r": 2.5,
          "__node_size": 25,
          "group": "5",
          "name": "Mabeuf",
          "x": 308.0226315409231,
          "y": 146.54468121871554
         },
         {
          "__combo_group_value": "5",
          "__node_r": 2.5,
          "__node_size": 25,
          "group": "5",
          "name": "Enjolras",
          "x": 315.69723402466474,
          "y": 131.44186400610513
         },
         {
          "__combo_group_value": "5",
          "__node_r": 2.5,
          "__node_size": 25,
          "group": "5",
          "name": "Combeferre",
          "x": 328.2773330461079,
          "y": 131.3506983660333
         },
         {
          "__combo_group_value": "5",
          "__node_r": 2.5,
          "__node_size": 25,
          "group": "5",
          "name": "Prouvaire",
          "x": 327.3059030148434,
          "y": 151.30822834464374
         },
         {
          "__combo_group_value": "5",
          "__node_r": 2.5,
          "__node_size": 25,
          "group": "5",
          "name": "Feuilly",
          "x": 304.11842882883946,
          "y": 128.18172328336294
         },
         {
          "__combo_group_value": "5",
          "__node_r": 2.5,
          "__node_size": 25,
          "group": "5",
          "name": "Courfeyrac",
          "x": 321.02227347792467,
          "y": 140.32806996116005
         },
         {
          "__combo_group_value": "5",
          "__node_r": 2.5,
          "__node_size": 25,
          "group": "5",
          "name": "Bahorel",
          "x": 310.34305983609664,
          "y": 115.9072674791363
         },
         {
          "__combo_group_value": "5",
          "__node_r": 2.5,
          "__node_size": 25,
          "group": "5",
          "name": "Bossuet",
          "x": 321.96546821460186,
          "y": 120.42597421331185
         },
         {
          "__combo_group_value": "5",
          "__node_r": 2.5,
          "__node_size": 25,
          "group": "5",
          "name": "Joly",
          "x": 334.7559105974407,
          "y": 119.60614523879383
         },
         {
          "__combo_group_value": "5",
          "__node_r": 2.5,
          "__node_size": 25,
          "group": "5",
          "name": "Grantaire",
          "x": 326.21417522528833,
          "y": 106.38692830211244
         },
         {
          "__combo_group_value": "5",
          "__node_r": 2.5,
          "__node_size": 25,
          "group": "5",
          "name": "MotherPlutarch",
          "x": 299.2867411037248,
          "y": 139.8939517319881
         },
         {
          "__combo_group_value": "5",
          "__node_r": 2.5,
          "__node_size": 25,
          "group": "5",
          "name": "Child1",
          "x": 346.61108607280295,
          "y": 115.452400472948
         },
         {
          "__combo_group_value": "5",
          "__node_r": 2.5,
          "__node_size": 25,
          "group": "5",
          "name": "Child2",
          "x": 349.3705875468958,
          "y": 121.14958488772504
         },
         {
          "__combo_group_value": "5",
          "__node_r": 2.5,
          "__node_size": 25,
          "group": "5",
          "name": "MmeHucheloup",
          "x": 348.29242501888416,
          "y": 130.2138346438135
         }
        ],
        "data-4513146e2fe3ad80d3d939e634335160": [
         {
          "__combo_size": 4624,
          "__node_r": 34,
          "__node_size": 4624,
          "__y_label": 157.72896108834283,
          "group": "2",
          "x": 600,
          "y": 203.72896108834283
         }
        ],
        "data-808d32ac7c7c59dda817ef6f7ef758ba": [
         {
          "__combo_group_value": "1",
          "__node_r": 2.5,
          "__node_size": 25,
          "group": "1",
          "name": "Labarre",
          "x": 277.4001623414098,
          "y": 285.59886519235
         },
         {
          "__combo_group_value": "1",
          "__node_r": 2.5,
          "__node_size": 25,
          "group": "1",
          "name": "Valjean",
          "x": 254.03377179808598,
          "y": 270.2680668758711
         },
         {
          "__combo_group_value": "1",
          "__node_r": 2.5,
          "__node_size": 25,
          "group": "1",
          "name": "MmeDeR",
          "x": 229.4367269700823,
          "y": 254.4702431135298
         },
         {
          "__combo_group_value": "1",
          "__node_r": 2.5,
          "__node_size": 25,
          "group": "1",
          "name": "Isabeau",
          "x": 228.1299628645868,
          "y": 269.0212976034281
         },
         {
          "__combo_group_value": "1",
          "__node_r": 2.5,
          "__node_size": 25,
          "group": "1",
          "name": "Gervais",
          "x": 267.85647210201853,
          "y": 291.6996647537326
         },
         {
          "__combo_group_value": "1",
          "__node_r": 2.5,
          "__node_size": 25,
          "group": "1",
          "name": "Cosette",
          "x": 256.4815901106244,
          "y": 255.93302494632093
         },
         {
          "__combo_group_value": "1",
          "__node_r": 2.5,
          "__node_size": 25,
          "group": "1",
          "name": "Javert",
          "x": 255.9584018725882,
          "y": 286.21483009138103
         },
         {
          "__combo_group_value": "1",
          "__node_r": 2.5,
          "__node_size": 25,
          "group": "1",
          "name": "Fauchelevent",
          "x": 241.79615025404303,
          "y": 253.73339270969163
         },
         {
          "__combo_group_value": "1",
          "__node_r": 2.5,
          "__node_size": 25,
          "group": "1",
          "name": "Perpetue",
          "x": 233.9021096042554,
          "y": 282.77620366253046
         },
         {
          "__combo_group_value": "1",
          "__node_r": 2.5,
          "__node_size": 25,
          "group": "1",
          "name": "Simplice",
          "x": 242.6823653154901,
          "y": 286.8435923924943
         },
         {
          "__combo_group_value": "1",
          "__node_r": 2.5,
          "__node_size": 25,
          "group": "1",
          "name": "Scaufflaire",
          "x": 286.1403222591366,
          "y": 269.40432189398376
         },
         {
          "__combo_group_value": "1",
          "__node_r": 2.5,
          "__node_size": 25,
          "group": "1",
          "name": "Woman1",
          "x": 269.8315318160342,
          "y": 282.90256196500764
         },
         {
          "__combo_group_value": "1",
          "__node_r": 2.5,
          "__node_size": 25,
          "group": "1",
          "name": "Pontmercy",
          "x": 282.81805473041146,
          "y": 244.5093310464248
         },
         {
          "__combo_group_value": "1",
          "__node_r": 2.5,
          "__node_size": 25,
          "group": "1",
          "name": "Woman2",
          "x": 236.97807501498755,
          "y": 274.04391119018703
         },
         {
          "__combo_group_value": "1",
          "__node_r": 2.5,
          "__node_size": 25,
          "group": "1",
          "name": "MotherInnocent",
          "x": 235.49335286439216,
          "y": 245.780238036929
         },
         {
          "__combo_group_value": "1",
          "__node_r": 2.5,
          "__node_size": 25,
          "group": "1",
          "name": "Gribier",
          "x": 242.3841578353166,
          "y": 241.1234352637651
         },
         {
          "__combo_group_value": "1",
          "__node_r": 2.5,
          "__node_size": 25,
          "group": "1",
          "name": "Gillenormand",
          "x": 280.4984489672085,
          "y": 258.3921636655674
         },
         {
          "__combo_group_value": "1",
          "__node_r": 2.5,
          "__node_size": 25,
          "group": "1",
          "name": "Magnon",
          "x": 285.6023274529398,
          "y": 277.1062988337577
         },
         {
          "__combo_group_value": "1",
          "__node_r": 2.5,
          "__node_size": 25,
          "group": "1",
          "name": "MlleGillenormand",
          "x": 270.5340685778473,
          "y": 245.64670162350316
         },
         {
          "__combo_group_value": "1",
          "__node_r": 2.5,
          "__node_size": 25,
          "group": "1",
          "name": "MmePontmercy",
          "x": 266.39611334044025,
          "y": 233.7228999724434
         },
         {
          "__combo_group_value": "1",
          "__node_r": 2.5,
          "__node_size": 25,
          "group": "1",
          "name": "MlleVaubois",
          "x": 247.52083628446263,
          "y": 235.06978562633614
         },
         {
          "__combo_group_value": "1",
          "__node_r": 2.5,
          "__node_size": 25,
          "group": "1",
          "name": "LtGillenormand",
          "x": 255.91344137019635,
          "y": 238.95934732250373
         },
         {
          "__combo_group_value": "1",
          "__node_r": 2.5,
          "__node_size": 25,
          "group": "1",
          "name": "Marius",
          "x": 268.29029802297026,
          "y": 262.0184682527905
         },
         {
          "__combo_group_value": "1",
          "__node_r": 2.5,
          "__node_size": 25,
          "group": "1",
          "name": "BaronessT",
          "x": 277.97831858771804,
          "y": 275.4541018240253
         },
         {
          "__combo_group_value": "1",
          "__node_r": 2.5,
          "__node_size": 25,
          "group": "1",
          "name": "Toussaint",
          "x": 234.5099421641185,
          "y": 262.5399958227465
         }
        ],
        "data-8c02b1cae3b33f2c3904fe56296f793b": [
         {
          "edge": 0,
          "pair": [
           "Myriel",
           "Napoleon"
          ],
          "source": "Myriel",
          "target": "Napoleon",
          "value": 1,
          "weight": 1,
          "x": 49.48206738000163,
          "y": 349.1843372486288
         },
         {
          "edge": 0,
          "pair": [
           "Myriel",
           "Napoleon"
          ],
          "source": "Myriel",
          "target": "Napoleon",
          "value": 1,
          "weight": 1,
          "x": 68.57792396594996,
          "y": 358.39453653991006
         },
         {
          "edge": 1,
          "pair": [
           "Myriel",
           "MlleBaptistine"
          ],
          "source": "Myriel",
          "target": "MlleBaptistine",
          "value": 8,
          "weight": 8,
          "x": 49.48206738000163,
          "y": 349.1843372486288
         },
         {
          "edge": 1,
          "pair": [
           "Myriel",
           "MlleBaptistine"
          ],
          "source": "Myriel",
          "target": "MlleBaptistine",
          "value": 8,
          "weight": 8,
          "x": 34.53405905657226,
          "y": 358.5140388149571
         },
         {
          "edge": 2,
          "pair": [
           "Myriel",
           "MmeMagloire"
          ],
          "source": "Myriel",
          "target": "MmeMagloire",
          "value": 10,
          "weight": 10,
          "x": 49.48206738000163,
          "y": 349.1843372486288
         },
         {
          "edge": 2,
          "pair": [
           "Myriel",
           "MmeMagloire"
          ],
          "source": "Myriel",
          "target": "MmeMagloire",
          "value": 10,
          "weight": 10,
          "x": 32.89725609600813,
          "y": 346.247671520627
         },
         {
          "edge": 3,
          "pair": [
           "Myriel",
           "CountessDeLo"
          ],
          "source": "Myriel",
          "target": "CountessDeLo",
          "value": 1,
          "weight": 1,
          "x": 49.48206738000163,
          "y": 349.1843372486288
         },
         {
          "edge": 3,
          "pair": [
           "Myriel",
           "CountessDeLo"
          ],
          "source": "Myriel",
          "target": "CountessDeLo",
          "value": 1,
          "weight": 1,
          "x": 59.26002305943489,
          "y": 367.7751996559002
         },
         {
          "edge": 4,
          "pair": [
           "Myriel",
           "Geborand"
          ],
          "source": "Myriel",
          "target": "Geborand",
          "value": 1,
          "weight": 1,
          "x": 49.48206738000163,
          "y": 349.1843372486288
         },
         {
          "edge": 4,
          "pair": [
           "Myriel",
           "Geborand"
          ],
          "source": "Myriel",
          "target": "Geborand",
          "value": 1,
          "weight": 1,
          "x": 51.857585096094574,
          "y": 328.39869268631367
         },
         {
          "edge": 5,
          "pair": [
           "Myriel",
           "Champtercier"
          ],
          "source": "Myriel",
          "target": "Champtercier",
          "value": 1,
          "weight": 1,
          "x": 49.48206738000163,
          "y": 349.1843372486288
         },
         {
          "edge": 5,
          "pair": [
           "Myriel",
           "Champtercier"
          ],
          "source": "Myriel",
          "target": "Champtercier",
          "value": 1,
          "weight": 1,
          "x": 64.03718273388635,
          "y": 333.8517092277156
         },
         {
          "edge": 6,
          "pair": [
           "Myriel",
           "Cravatte"
          ],
          "source": "Myriel",
          "target": "Cravatte",
          "value": 1,
          "weight": 1,
          "x": 49.48206738000163,
          "y": 349.1843372486288
         },
         {
          "edge": 6,
          "pair": [
           "Myriel",
           "Cravatte"
          ],
          "source": "Myriel",
          "target": "Cravatte",
          "value": 1,
          "weight": 1,
          "x": 45.74800631996502,
          "y": 370.35497651994814
         },
         {
          "edge": 7,
          "pair": [
           "Myriel",
           "Count"
          ],
          "source": "Myriel",
          "target": "Count",
          "value": 2,
          "weight": 2,
          "x": 49.48206738000163,
          "y": 349.1843372486288
         },
         {
          "edge": 7,
          "pair": [
           "Myriel",
           "Count"
          ],
          "source": "Myriel",
          "target": "Count",
          "value": 2,
          "weight": 2,
          "x": 69.20992601265105,
          "y": 345.6061404866286
         },
         {
          "edge": 8,
          "pair": [
           "Myriel",
           "OldMan"
          ],
          "source": "Myriel",
          "target": "OldMan",
          "value": 1,
          "weight": 1,
          "x": 49.48206738000163,
          "y": 349.1843372486288
         },
         {
          "edge": 8,
          "pair": [
           "Myriel",
           "OldMan"
          ],
          "source": "Myriel",
          "target": "OldMan",
          "value": 1,
          "weight": 1,
          "x": 38.11501129874068,
          "y": 330.95643742642335
         },
         {
          "edge": 9,
          "pair": [
           "MlleBaptistine",
           "MmeMagloire"
          ],
          "source": "MlleBaptistine",
          "target": "MmeMagloire",
          "value": 6,
          "weight": 6,
          "x": 34.53405905657226,
          "y": 358.5140388149571
         },
         {
          "edge": 9,
          "pair": [
           "MlleBaptistine",
           "MmeMagloire"
          ],
          "source": "MlleBaptistine",
          "target": "MmeMagloire",
          "value": 6,
          "weight": 6,
          "x": 32.89725609600813,
          "y": 346.247671520627
         }
        ],
        "data-8fc217f3e0382d4f55be9a881289e892": [
         {
          "__combo_group_value": "4",
          "__node_r": 2.5,
          "__node_size": 25,
          "group": "4",
          "name": "MmeThenardier",
          "x": 368.29019214780067,
          "y": 427.4979355945239
         },
         {
          "__combo_group_value": "4",
          "__node_r": 2.5,
          "__node_size": 25,
          "group": "4",
          "name": "Thenardier",
          "x": 364.8250303346382,
          "y": 414.8059952093051
         },
         {
          "__combo_group_value": "4",
          "__node_r": 2.5,
          "__node_size": 25,
          "group": "4",
          "name": "Boulatruelle",
          "x": 383.7172173756619,
          "y": 421.16484208933963
         },
         {
          "__combo_group_value": "4",
          "__node_r": 2.5,
          "__node_size": 25,
          "group": "4",
          "name": "Eponine",
          "x": 344.74062031784763,
          "y": 412.9462223125647
         },
         {
          "__combo_group_value": "4",
          "__node_r": 2.5,
          "__node_size": 25,
          "group": "4",
          "name": "Anzelma",
          "x": 351.04500980824696,
          "y": 427.1385922415662
         },
         {
          "__combo_group_value": "4",
          "__node_r": 2.5,
          "__node_size": 25,
          "group": "4",
          "name": "Gueulemer",
          "x": 361.7439876236472,
          "y": 399.84113332118875
         },
         {
          "__combo_group_value": "4",
          "__node_r": 2.5,
          "__node_size": 25,
          "group": "4",
          "name": "Babet",
          "x": 379.9082403794499,
          "y": 407.0473109251386
         },
         {
          "__combo_group_value": "4",
          "__node_r": 2.5,
          "__node_size": 25,
          "group": "4",
          "name": "Claquesous",
          "x": 376.6752622773273,
          "y": 392.5253793028196
         },
         {
          "__combo_group_value": "4",
          "__node_r": 2.5,
          "__node_size": 25,
          "group": "4",
          "name": "Montparnasse",
          "x": 345.6351530496076,
          "y": 395.08080329059317
         },
         {
          "__combo_group_value": "4",
          "__node_r": 2.5,
          "__node_size": 25,
          "group": "4",
          "name": "Brujon",
          "x": 360.41377310457557,
          "y": 385.55316111524945
         }
        ],
        "data-9becee46c745c0f80491b384dcc59457": [
         {
          "__combo_size": 10000,
          "__node_r": 50,
          "__node_size": 10000,
          "__y_label": 201.1234800668073,
          "group": "1",
          "x": 258.1299628645868,
          "y": 263.1234800668073
         }
        ],
        "data-9d8469679a32f2716a7450fdf3520fb2": [
         {
          "__combo_size": 4960,
          "__node_r": 35.21363372331802,
          "__node_size": 4960,
          "__y_label": 359.46770762592223,
          "group": "4",
          "x": 362.7074872935515,
          "y": 406.68134134924026
         }
        ],
        "data-a0297b67ff2d30eca624c96f78273667": [
         {
          "edge": 0,
          "pair": [
           "Bamatabois",
           "Judge"
          ],
          "source": "Bamatabois",
          "target": "Judge",
          "value": 2,
          "weight": 2,
          "x": 42.519205841435706,
          "y": 55.8249855261799
         },
         {
          "edge": 0,
          "pair": [
           "Bamatabois",
           "Judge"
          ],
          "source": "Bamatabois",
          "target": "Judge",
          "value": 2,
          "weight": 2,
          "x": 27.25837249390959,
          "y": 64.9442289025825
         },
         {
          "edge": 1,
          "pair": [
           "Bamatabois",
           "Champmathieu"
          ],
          "source": "Bamatabois",
          "target": "Champmathieu",
          "value": 2,
          "weight": 2,
          "x": 42.519205841435706,
          "y": 55.8249855261799
         },
         {
          "edge": 1,
          "pair": [
           "Bamatabois",
           "Champmathieu"
          ],
          "source": "Bamatabois",
          "target": "Champmathieu",
          "value": 2,
          "weight": 2,
          "x": 60.0633510544029,
          "y": 58.698416048282006
         },
         {
          "edge": 2,
          "pair": [
           "Bamatabois",
           "Brevet"
          ],
          "source": "Bamatabois",
          "target": "Brevet",
          "value": 1,
          "weight": 1,
          "x": 42.519205841435706,
          "y": 55.8249855261799
         },
         {
          "edge": 2,
          "pair": [
           "Bamatabois",
           "Brevet"
          ],
          "source": "Bamatabois",
          "target": "Brevet",
          "value": 1,
          "weight": 1,
          "x": 46.01311408371756,
          "y": 74.17609332497798
         },
         {
          "edge": 3,
          "pair": [
           "Bamatabois",
           "Chenildieu"
          ],
          "source": "Bamatabois",
          "target": "Chenildieu",
          "value": 1,
          "weight": 1,
          "x": 42.519205841435706,
          "y": 55.8249855261799
         },
         {
          "edge": 3,
          "pair": [
           "Bamatabois",
           "Chenildieu"
          ],
          "source": "Bamatabois",
          "target": "Chenildieu",
          "value": 1,
          "weight": 1,
          "x": 50.54717461175163,
          "y": 39.541956429998535
         },
         {
          "edge": 4,
          "pair": [
           "Bamatabois",
           "Cochepaille"
          ],
          "source": "Bamatabois",
          "target": "Cochepaille",
          "value": 1,
          "weight": 1,
          "x": 42.519205841435706,
          "y": 55.8249855261799
         },
         {
          "edge": 4,
          "pair": [
           "Bamatabois",
           "Cochepaille"
          ],
          "source": "Bamatabois",
          "target": "Cochepaille",
          "value": 1,
          "weight": 1,
          "x": 29.069462658033018,
          "y": 43.631145793562055
         },
         {
          "edge": 5,
          "pair": [
           "Judge",
           "Champmathieu"
          ],
          "source": "Judge",
          "target": "Champmathieu",
          "value": 3,
          "weight": 3,
          "x": 27.25837249390959,
          "y": 64.9442289025825
         },
         {
          "edge": 5,
          "pair": [
           "Judge",
           "Champmathieu"
          ],
          "source": "Judge",
          "target": "Champmathieu",
          "value": 3,
          "weight": 3,
          "x": 60.0633510544029,
          "y": 58.698416048282006
         },
         {
          "edge": 6,
          "pair": [
           "Judge",
           "Brevet"
          ],
          "source": "Judge",
          "target": "Brevet",
          "value": 2,
          "weight": 2,
          "x": 27.25837249390959,
          "y": 64.9442289025825
         },
         {
          "edge": 6,
          "pair": [
           "Judge",
           "Brevet"
          ],
          "source": "Judge",
          "target": "Brevet",
          "value": 2,
          "weight": 2,
          "x": 46.01311408371756,
          "y": 74.17609332497798
         },
         {
          "edge": 7,
          "pair": [
           "Judge",
           "Chenildieu"
          ],
          "source": "Judge",
          "target": "Chenildieu",
          "value": 2,
          "weight": 2,
          "x": 27.25837249390959,
          "y": 64.9442289025825
         },
         {
          "edge": 7,
          "pair": [
           "Judge",
           "Chenildieu"
          ],
          "source": "Judge",
          "target": "Chenildieu",
          "value": 2,
          "weight": 2,
          "x": 50.54717461175163,
          "y": 39.541956429998535
         },
         {
          "edge": 8,
          "pair": [
           "Judge",
           "Cochepaille"
          ],
          "source": "Judge",
          "target": "Cochepaille",
          "value": 2,
          "weight": 2,
          "x": 27.25837249390959,
          "y": 64.9442289025825
         },
         {
          "edge": 8,
          "pair": [
           "Judge",
           "Cochepaille"
          ],
          "source": "Judge",
          "target": "Cochepaille",
          "value": 2,
          "weight": 2,
          "x": 29.069462658033018,
          "y": 43.631145793562055
         },
         {
          "edge": 9,
          "pair": [
           "Champmathieu",
           "Brevet"
          ],
          "source": "Champmathieu",
          "target": "Brevet",
          "value": 2,
          "weight": 2,
          "x": 60.0633510544029,
          "y": 58.698416048282006
         },
         {
          "edge": 9,
          "pair": [
           "Champmathieu",
           "Brevet"
          ],
          "source": "Champmathieu",
          "target": "Brevet",
          "value": 2,
          "weight": 2,
          "x": 46.01311408371756,
          "y": 74.17609332497798
         },
         {
          "edge": 10,
          "pair": [
           "Champmathieu",
           "Chenildieu"
          ],
          "source": "Champmathieu",
          "target": "Chenildieu",
          "value": 2,
          "weight": 2,
          "x": 60.0633510544029,
          "y": 58.698416048282006
         },
         {
          "edge": 10,
          "pair": [
           "Champmathieu",
           "Chenildieu"
          ],
          "source": "Champmathieu",
          "target": "Chenildieu",
          "value": 2,
          "weight": 2,
          "x": 50.54717461175163,
          "y": 39.541956429998535
         },
         {
          "edge": 11,
          "pair": [
           "Champmathieu",
           "Cochepaille"
          ],
          "source": "Champmathieu",
          "target": "Cochepaille",
          "value": 2,
          "weight": 2,
          "x": 60.0633510544029,
          "y": 58.698416048282006
         },
         {
          "edge": 11,
          "pair": [
           "Champmathieu",
           "Cochepaille"
          ],
          "source": "Champmathieu",
          "target": "Cochepaille",
          "value": 2,
          "weight": 2,
          "x": 29.069462658033018,
          "y": 43.631145793562055
         },
         {
          "edge": 12,
          "pair": [
           "Brevet",
           "Chenildieu"
          ],
          "source": "Brevet",
          "target": "Chenildieu",
          "value": 2,
          "weight": 2,
          "x": 46.01311408371756,
          "y": 74.17609332497798
         },
         {
          "edge": 12,
          "pair": [
           "Brevet",
           "Chenildieu"
          ],
          "source": "Brevet",
          "target": "Chenildieu",
          "value": 2,
          "weight": 2,
          "x": 50.54717461175163,
          "y": 39.541956429998535
         },
         {
          "edge": 13,
          "pair": [
           "Brevet",
           "Cochepaille"
          ],
          "source": "Brevet",
          "target": "Cochepaille",
          "value": 2,
          "weight": 2,
          "x": 46.01311408371756,
          "y": 74.17609332497798
         },
         {
          "edge": 13,
          "pair": [
           "Brevet",
           "Cochepaille"
          ],
          "source": "Brevet",
          "target": "Cochepaille",
          "value": 2,
          "weight": 2,
          "x": 29.069462658033018,
          "y": 43.631145793562055
         },
         {
          "edge": 14,
          "pair": [
           "Chenildieu",
           "Cochepaille"
          ],
          "source": "Chenildieu",
          "target": "Cochepaille",
          "value": 2,
          "weight": 2,
          "x": 50.54717461175163,
          "y": 39.541956429998535
         },
         {
          "edge": 14,
          "pair": [
           "Chenildieu",
           "Cochepaille"
          ],
          "source": "Chenildieu",
          "target": "Cochepaille",
          "value": 2,
          "weight": 2,
          "x": 29.069462658033018,
          "y": 43.631145793562055
         }
        ],
        "data-bdff151d5a826a2f627a60676805e49e": [
         {
          "edge": 0,
          "pair": [
           "Marguerite",
           "Fantine"
          ],
          "source": "Marguerite",
          "target": "Fantine",
          "value": 2,
          "weight": 2,
          "x": 620.4,
          "y": 220.58077440090406
         },
         {
          "edge": 0,
          "pair": [
           "Marguerite",
           "Fantine"
          ],
          "source": "Marguerite",
          "target": "Fantine",
          "value": 2,
          "weight": 2,
          "x": 616.6275079069235,
          "y": 206.67059537130638
         },
         {
          "edge": 1,
          "pair": [
           "Tholomyes",
           "Listolier"
          ],
          "source": "Tholomyes",
          "target": "Listolier",
          "value": 4,
          "weight": 4,
          "x": 582.1345969381043,
          "y": 206.65569617196334
         },
         {
          "edge": 1,
          "pair": [
           "Tholomyes",
           "Listolier"
          ],
          "source": "Tholomyes",
          "target": "Listolier",
          "value": 4,
          "weight": 4,
          "x": 598.7344388940189,
          "y": 203.61711141639526
         },
         {
          "edge": 2,
          "pair": [
           "Tholomyes",
           "Fameuil"
          ],
          "source": "Tholomyes",
          "target": "Fameuil",
          "value": 4,
          "weight": 4,
          "x": 582.1345969381043,
          "y": 206.65569617196334
         },
         {
          "edge": 2,
          "pair": [
           "Tholomyes",
           "Fameuil"
          ],
          "source": "Tholomyes",
          "target": "Fameuil",
          "value": 4,
          "weight": 4,
          "x": 590.8434977918847,
          "y": 218.9918701447824
         },
         {
          "edge": 3,
          "pair": [
           "Tholomyes",
           "Blacheville"
          ],
          "source": "Tholomyes",
          "target": "Blacheville",
          "value": 4,
          "weight": 4,
          "x": 582.1345969381043,
          "y": 206.65569617196334
         },
         {
          "edge": 3,
          "pair": [
           "Tholomyes",
           "Blacheville"
          ],
          "source": "Tholomyes",
          "target": "Blacheville",
          "value": 4,
          "weight": 4,
          "x": 599.564874233297,
          "y": 186.16766760754737
         },
         {
          "edge": 4,
          "pair": [
           "Tholomyes",
           "Favourite"
          ],
          "source": "Tholomyes",
          "target": "Favourite",
          "value": 3,
          "weight": 3,
          "x": 582.1345969381043,
          "y": 206.65569617196334
         },
         {
          "edge": 4,
          "pair": [
           "Tholomyes",
           "Favourite"
          ],
          "source": "Tholomyes",
          "target": "Favourite",
          "value": 3,
          "weight": 3,
          "x": 612.6452006854444,
          "y": 192.29638514907623
         },
         {
          "edge": 5,
          "pair": [
           "Tholomyes",
           "Dahlia"
          ],
          "source": "Tholomyes",
          "target": "Dahlia",
          "value": 3,
          "weight": 3,
          "x": 582.1345969381043,
          "y": 206.65569617196334
         },
         {
          "edge": 5,
          "pair": [
           "Tholomyes",
           "Dahlia"
          ],
          "source": "Tholomyes",
          "target": "Dahlia",
          "value": 3,
          "weight": 3,
          "x": 605.6794337037804,
          "y": 218.5243488211239
         },
         {
          "edge": 6,
          "pair": [
           "Tholomyes",
           "Zephine"
          ],
          "source": "Tholomyes",
          "target": "Zephine",
          "value": 3,
          "weight": 3,
          "x": 582.1345969381043,
          "y": 206.65569617196334
         },
         {
          "edge": 6,
          "pair": [
           "Tholomyes",
           "Zephine"
          ],
          "source": "Tholomyes",
          "target": "Zephine",
          "value": 3,
          "weight": 3,
          "x": 586.5920113581813,
          "y": 192.32735641103693
         },
         {
          "edge": 7,
          "pair": [
           "Tholomyes",
           "Fantine"
          ],
          "source": "Tholomyes",
          "target": "Fantine",
          "value": 3,
          "weight": 3,
          "x": 582.1345969381043,
          "y": 206.65569617196334
         },
         {
          "edge": 7,
          "pair": [
           "Tholomyes",
           "Fantine"
          ],
          "source": "Tholomyes",
          "target": "Fantine",
          "value": 3,
          "weight": 3,
          "x": 616.6275079069235,
          "y": 206.67059537130638
         },
         {
          "edge": 8,
          "pair": [
           "Listolier",
           "Fameuil"
          ],
          "source": "Listolier",
          "target": "Fameuil",
          "value": 4,
          "weight": 4,
          "x": 598.7344388940189,
          "y": 203.61711141639526
         },
         {
          "edge": 8,
          "pair": [
           "Listolier",
           "Fameuil"
          ],
          "source": "Listolier",
          "target": "Fameuil",
          "value": 4,
          "weight": 4,
          "x": 590.8434977918847,
          "y": 218.9918701447824
         },
         {
          "edge": 9,
          "pair": [
           "Listolier",
           "Blacheville"
          ],
          "source": "Listolier",
          "target": "Blacheville",
          "value": 4,
          "weight": 4,
          "x": 598.7344388940189,
          "y": 203.61711141639526
         },
         {
          "edge": 9,
          "pair": [
           "Listolier",
           "Blacheville"
          ],
          "source": "Listolier",
          "target": "Blacheville",
          "value": 4,
          "weight": 4,
          "x": 599.564874233297,
          "y": 186.16766760754737
         },
         {
          "edge": 10,
          "pair": [
           "Listolier",
           "Favourite"
          ],
          "source": "Listolier",
          "target": "Favourite",
          "value": 3,
          "weight": 3,
          "x": 598.7344388940189,
          "y": 203.61711141639526
         },
         {
          "edge": 10,
          "pair": [
           "Listolier",
           "Favourite"
          ],
          "source": "Listolier",
          "target": "Favourite",
          "value": 3,
          "weight": 3,
          "x": 612.6452006854444,
          "y": 192.29638514907623
         },
         {
          "edge": 11,
          "pair": [
           "Listolier",
           "Dahlia"
          ],
          "source": "Listolier",
          "target": "Dahlia",
          "value": 3,
          "weight": 3,
          "x": 598.7344388940189,
          "y": 203.61711141639526
         },
         {
          "edge": 11,
          "pair": [
           "Listolier",
           "Dahlia"
          ],
          "source": "Listolier",
          "target": "Dahlia",
          "value": 3,
          "weight": 3,
          "x": 605.6794337037804,
          "y": 218.5243488211239
         },
         {
          "edge": 12,
          "pair": [
           "Listolier",
           "Zephine"
          ],
          "source": "Listolier",
          "target": "Zephine",
          "value": 3,
          "weight": 3,
          "x": 598.7344388940189,
          "y": 203.61711141639526
         },
         {
          "edge": 12,
          "pair": [
           "Listolier",
           "Zephine"
          ],
          "source": "Listolier",
          "target": "Zephine",
          "value": 3,
          "weight": 3,
          "x": 586.5920113581813,
          "y": 192.32735641103693
         },
         {
          "edge": 13,
          "pair": [
           "Listolier",
           "Fantine"
          ],
          "source": "Listolier",
          "target": "Fantine",
          "value": 3,
          "weight": 3,
          "x": 598.7344388940189,
          "y": 203.61711141639526
         },
         {
          "edge": 13,
          "pair": [
           "Listolier",
           "Fantine"
          ],
          "source": "Listolier",
          "target": "Fantine",
          "value": 3,
          "weight": 3,
          "x": 616.6275079069235,
          "y": 206.67059537130638
         },
         {
          "edge": 14,
          "pair": [
           "Fameuil",
           "Blacheville"
          ],
          "source": "Fameuil",
          "target": "Blacheville",
          "value": 4,
          "weight": 4,
          "x": 590.8434977918847,
          "y": 218.9918701447824
         },
         {
          "edge": 14,
          "pair": [
           "Fameuil",
           "Blacheville"
          ],
          "source": "Fameuil",
          "target": "Blacheville",
          "value": 4,
          "weight": 4,
          "x": 599.564874233297,
          "y": 186.16766760754737
         },
         {
          "edge": 15,
          "pair": [
           "Fameuil",
           "Favourite"
          ],
          "source": "Fameuil",
          "target": "Favourite",
          "value": 3,
          "weight": 3,
          "x": 590.8434977918847,
          "y": 218.9918701447824
         },
         {
          "edge": 15,
          "pair": [
           "Fameuil",
           "Favourite"
          ],
          "source": "Fameuil",
          "target": "Favourite",
          "value": 3,
          "weight": 3,
          "x": 612.6452006854444,
          "y": 192.29638514907623
         },
         {
          "edge": 16,
          "pair": [
           "Fameuil",
           "Dahlia"
          ],
          "source": "Fameuil",
          "target": "Dahlia",
          "value": 3,
          "weight": 3,
          "x": 590.8434977918847,
          "y": 218.9918701447824
         },
         {
          "edge": 16,
          "pair": [
           "Fameuil",
           "Dahlia"
          ],
          "source": "Fameuil",
          "target": "Dahlia",
          "value": 3,
          "weight": 3,
          "x": 605.6794337037804,
          "y": 218.5243488211239
         },
         {
          "edge": 17,
          "pair": [
           "Fameuil",
           "Zephine"
          ],
          "source": "Fameuil",
          "target": "Zephine",
          "value": 3,
          "weight": 3,
          "x": 590.8434977918847,
          "y": 218.9918701447824
         },
         {
          "edge": 17,
          "pair": [
           "Fameuil",
           "Zephine"
          ],
          "source": "Fameuil",
          "target": "Zephine",
          "value": 3,
          "weight": 3,
          "x": 586.5920113581813,
          "y": 192.32735641103693
         },
         {
          "edge": 18,
          "pair": [
           "Fameuil",
           "Fantine"
          ],
          "source": "Fameuil",
          "target": "Fantine",
          "value": 3,
          "weight": 3,
          "x": 590.8434977918847,
          "y": 218.9918701447824
         },
         {
          "edge": 18,
          "pair": [
           "Fameuil",
           "Fantine"
          ],
          "source": "Fameuil",
          "target": "Fantine",
          "value": 3,
          "weight": 3,
          "x": 616.6275079069235,
          "y": 206.67059537130638
         },
         {
          "edge": 19,
          "pair": [
           "Blacheville",
           "Favourite"
          ],
          "source": "Blacheville",
          "target": "Favourite",
          "value": 4,
          "weight": 4,
          "x": 599.564874233297,
          "y": 186.16766760754737
         },
         {
          "edge": 19,
          "pair": [
           "Blacheville",
           "Favourite"
          ],
          "source": "Blacheville",
          "target": "Favourite",
          "value": 4,
          "weight": 4,
          "x": 612.6452006854444,
          "y": 192.29638514907623
         },
         {
          "edge": 20,
          "pair": [
           "Blacheville",
           "Dahlia"
          ],
          "source": "Blacheville",
          "target": "Dahlia",
          "value": 3,
          "weight": 3,
          "x": 599.564874233297,
          "y": 186.16766760754737
         },
         {
          "edge": 20,
          "pair": [
           "Blacheville",
           "Dahlia"
          ],
          "source": "Blacheville",
          "target": "Dahlia",
          "value": 3,
          "weight": 3,
          "x": 605.6794337037804,
          "y": 218.5243488211239
         },
         {
          "edge": 21,
          "pair": [
           "Blacheville",
           "Zephine"
          ],
          "source": "Blacheville",
          "target": "Zephine",
          "value": 3,
          "weight": 3,
          "x": 599.564874233297,
          "y": 186.16766760754737
         },
         {
          "edge": 21,
          "pair": [
           "Blacheville",
           "Zephine"
          ],
          "source": "Blacheville",
          "target": "Zephine",
          "value": 3,
          "weight": 3,
          "x": 586.5920113581813,
          "y": 192.32735641103693
         },
         {
          "edge": 22,
          "pair": [
           "Blacheville",
           "Fantine"
          ],
          "source": "Blacheville",
          "target": "Fantine",
          "value": 3,
          "weight": 3,
          "x": 599.564874233297,
          "y": 186.16766760754737
         },
         {
          "edge": 22,
          "pair": [
           "Blacheville",
           "Fantine"
          ],
          "source": "Blacheville",
          "target": "Fantine",
          "value": 3,
          "weight": 3,
          "x": 616.6275079069235,
          "y": 206.67059537130638
         },
         {
          "edge": 23,
          "pair": [
           "Favourite",
           "Dahlia"
          ],
          "source": "Favourite",
          "target": "Dahlia",
          "value": 5,
          "weight": 5,
          "x": 612.6452006854444,
          "y": 192.29638514907623
         },
         {
          "edge": 23,
          "pair": [
           "Favourite",
           "Dahlia"
          ],
          "source": "Favourite",
          "target": "Dahlia",
          "value": 5,
          "weight": 5,
          "x": 605.6794337037804,
          "y": 218.5243488211239
         },
         {
          "edge": 24,
          "pair": [
           "Favourite",
           "Zephine"
          ],
          "source": "Favourite",
          "target": "Zephine",
          "value": 4,
          "weight": 4,
          "x": 612.6452006854444,
          "y": 192.29638514907623
         },
         {
          "edge": 24,
          "pair": [
           "Favourite",
           "Zephine"
          ],
          "source": "Favourite",
          "target": "Zephine",
          "value": 4,
          "weight": 4,
          "x": 586.5920113581813,
          "y": 192.32735641103693
         },
         {
          "edge": 25,
          "pair": [
           "Favourite",
           "Fantine"
          ],
          "source": "Favourite",
          "target": "Fantine",
          "value": 4,
          "weight": 4,
          "x": 612.6452006854444,
          "y": 192.29638514907623
         },
         {
          "edge": 25,
          "pair": [
           "Favourite",
           "Fantine"
          ],
          "source": "Favourite",
          "target": "Fantine",
          "value": 4,
          "weight": 4,
          "x": 616.6275079069235,
          "y": 206.67059537130638
         },
         {
          "edge": 26,
          "pair": [
           "Dahlia",
           "Zephine"
          ],
          "source": "Dahlia",
          "target": "Zephine",
          "value": 4,
          "weight": 4,
          "x": 605.6794337037804,
          "y": 218.5243488211239
         },
         {
          "edge": 26,
          "pair": [
           "Dahlia",
           "Zephine"
          ],
          "source": "Dahlia",
          "target": "Zephine",
          "value": 4,
          "weight": 4,
          "x": 586.5920113581813,
          "y": 192.32735641103693
         },
         {
          "edge": 27,
          "pair": [
           "Dahlia",
           "Fantine"
          ],
          "source": "Dahlia",
          "target": "Fantine",
          "value": 4,
          "weight": 4,
          "x": 605.6794337037804,
          "y": 218.5243488211239
         },
         {
          "edge": 27,
          "pair": [
           "Dahlia",
           "Fantine"
          ],
          "source": "Dahlia",
          "target": "Fantine",
          "value": 4,
          "weight": 4,
          "x": 616.6275079069235,
          "y": 206.67059537130638
         },
         {
          "edge": 28,
          "pair": [
           "Zephine",
           "Fantine"
          ],
          "source": "Zephine",
          "target": "Fantine",
          "value": 4,
          "weight": 4,
          "x": 586.5920113581813,
          "y": 192.32735641103693
         },
         {
          "edge": 28,
          "pair": [
           "Zephine",
           "Fantine"
          ],
          "source": "Zephine",
          "target": "Fantine",
          "value": 4,
          "weight": 4,
          "x": 616.6275079069235,
          "y": 206.67059537130638
         }
        ],
        "data-cf207409f361c069378f1743f2e51e27": [
         {
          "__combo_size": 4960,
          "__node_r": 35.21363372331802,
          "__node_size": 4960,
          "__y_label": 302.0131625626393,
          "group": "0",
          "x": 49.690864541040085,
          "y": 349.22679628595733
         }
        ],
        "data-e61cd111d978eea1d3348ca47e312bfc": [
         {
          "__combo_size": 3616,
          "__node_r": 30.066592756745816,
          "__node_size": 3616,
          "__y_label": 14.069544914184679,
          "group": "3",
          "x": 42.57844679054173,
          "y": 56.136137670930495
         }
        ],
        "data-f11a406b839da0818959c522bef03d13": [
         {
          "edge": 0,
          "pair": [
           "MmeThenardier",
           "Thenardier"
          ],
          "source": "MmeThenardier",
          "target": "Thenardier",
          "value": 13,
          "weight": 13,
          "x": 368.29019214780067,
          "y": 427.4979355945239
         },
         {
          "edge": 0,
          "pair": [
           "MmeThenardier",
           "Thenardier"
          ],
          "source": "MmeThenardier",
          "target": "Thenardier",
          "value": 13,
          "weight": 13,
          "x": 364.8250303346382,
          "y": 414.8059952093051
         },
         {
          "edge": 1,
          "pair": [
           "MmeThenardier",
           "Eponine"
          ],
          "source": "MmeThenardier",
          "target": "Eponine",
          "value": 2,
          "weight": 2,
          "x": 368.29019214780067,
          "y": 427.4979355945239
         },
         {
          "edge": 1,
          "pair": [
           "MmeThenardier",
           "Eponine"
          ],
          "source": "MmeThenardier",
          "target": "Eponine",
          "value": 2,
          "weight": 2,
          "x": 344.74062031784763,
          "y": 412.9462223125647
         },
         {
          "edge": 2,
          "pair": [
           "MmeThenardier",
           "Anzelma"
          ],
          "source": "MmeThenardier",
          "target": "Anzelma",
          "value": 1,
          "weight": 1,
          "x": 368.29019214780067,
          "y": 427.4979355945239
         },
         {
          "edge": 2,
          "pair": [
           "MmeThenardier",
           "Anzelma"
          ],
          "source": "MmeThenardier",
          "target": "Anzelma",
          "value": 1,
          "weight": 1,
          "x": 351.04500980824696,
          "y": 427.1385922415662
         },
         {
          "edge": 3,
          "pair": [
           "MmeThenardier",
           "Gueulemer"
          ],
          "source": "MmeThenardier",
          "target": "Gueulemer",
          "value": 1,
          "weight": 1,
          "x": 368.29019214780067,
          "y": 427.4979355945239
         },
         {
          "edge": 3,
          "pair": [
           "MmeThenardier",
           "Gueulemer"
          ],
          "source": "MmeThenardier",
          "target": "Gueulemer",
          "value": 1,
          "weight": 1,
          "x": 361.7439876236472,
          "y": 399.84113332118875
         },
         {
          "edge": 4,
          "pair": [
           "MmeThenardier",
           "Babet"
          ],
          "source": "MmeThenardier",
          "target": "Babet",
          "value": 1,
          "weight": 1,
          "x": 368.29019214780067,
          "y": 427.4979355945239
         },
         {
          "edge": 4,
          "pair": [
           "MmeThenardier",
           "Babet"
          ],
          "source": "MmeThenardier",
          "target": "Babet",
          "value": 1,
          "weight": 1,
          "x": 379.9082403794499,
          "y": 407.0473109251386
         },
         {
          "edge": 5,
          "pair": [
           "MmeThenardier",
           "Claquesous"
          ],
          "source": "MmeThenardier",
          "target": "Claquesous",
          "value": 1,
          "weight": 1,
          "x": 368.29019214780067,
          "y": 427.4979355945239
         },
         {
          "edge": 5,
          "pair": [
           "MmeThenardier",
           "Claquesous"
          ],
          "source": "MmeThenardier",
          "target": "Claquesous",
          "value": 1,
          "weight": 1,
          "x": 376.6752622773273,
          "y": 392.5253793028196
         },
         {
          "edge": 6,
          "pair": [
           "Thenardier",
           "Boulatruelle"
          ],
          "source": "Thenardier",
          "target": "Boulatruelle",
          "value": 1,
          "weight": 1,
          "x": 364.8250303346382,
          "y": 414.8059952093051
         },
         {
          "edge": 6,
          "pair": [
           "Thenardier",
           "Boulatruelle"
          ],
          "source": "Thenardier",
          "target": "Boulatruelle",
          "value": 1,
          "weight": 1,
          "x": 383.7172173756619,
          "y": 421.16484208933963
         },
         {
          "edge": 7,
          "pair": [
           "Thenardier",
           "Eponine"
          ],
          "source": "Thenardier",
          "target": "Eponine",
          "value": 3,
          "weight": 3,
          "x": 364.8250303346382,
          "y": 414.8059952093051
         },
         {
          "edge": 7,
          "pair": [
           "Thenardier",
           "Eponine"
          ],
          "source": "Thenardier",
          "target": "Eponine",
          "value": 3,
          "weight": 3,
          "x": 344.74062031784763,
          "y": 412.9462223125647
         },
         {
          "edge": 8,
          "pair": [
           "Thenardier",
           "Anzelma"
          ],
          "source": "Thenardier",
          "target": "Anzelma",
          "value": 2,
          "weight": 2,
          "x": 364.8250303346382,
          "y": 414.8059952093051
         },
         {
          "edge": 8,
          "pair": [
           "Thenardier",
           "Anzelma"
          ],
          "source": "Thenardier",
          "target": "Anzelma",
          "value": 2,
          "weight": 2,
          "x": 351.04500980824696,
          "y": 427.1385922415662
         },
         {
          "edge": 9,
          "pair": [
           "Thenardier",
           "Gueulemer"
          ],
          "source": "Thenardier",
          "target": "Gueulemer",
          "value": 5,
          "weight": 5,
          "x": 364.8250303346382,
          "y": 414.8059952093051
         },
         {
          "edge": 9,
          "pair": [
           "Thenardier",
           "Gueulemer"
          ],
          "source": "Thenardier",
          "target": "Gueulemer",
          "value": 5,
          "weight": 5,
          "x": 361.7439876236472,
          "y": 399.84113332118875
         },
         {
          "edge": 10,
          "pair": [
           "Thenardier",
           "Babet"
          ],
          "source": "Thenardier",
          "target": "Babet",
          "value": 6,
          "weight": 6,
          "x": 364.8250303346382,
          "y": 414.8059952093051
         },
         {
          "edge": 10,
          "pair": [
           "Thenardier",
           "Babet"
          ],
          "source": "Thenardier",
          "target": "Babet",
          "value": 6,
          "weight": 6,
          "x": 379.9082403794499,
          "y": 407.0473109251386
         },
         {
          "edge": 11,
          "pair": [
           "Thenardier",
           "Claquesous"
          ],
          "source": "Thenardier",
          "target": "Claquesous",
          "value": 4,
          "weight": 4,
          "x": 364.8250303346382,
          "y": 414.8059952093051
         },
         {
          "edge": 11,
          "pair": [
           "Thenardier",
           "Claquesous"
          ],
          "source": "Thenardier",
          "target": "Claquesous",
          "value": 4,
          "weight": 4,
          "x": 376.6752622773273,
          "y": 392.5253793028196
         },
         {
          "edge": 12,
          "pair": [
           "Thenardier",
           "Montparnasse"
          ],
          "source": "Thenardier",
          "target": "Montparnasse",
          "value": 1,
          "weight": 1,
          "x": 364.8250303346382,
          "y": 414.8059952093051
         },
         {
          "edge": 12,
          "pair": [
           "Thenardier",
           "Montparnasse"
          ],
          "source": "Thenardier",
          "target": "Montparnasse",
          "value": 1,
          "weight": 1,
          "x": 345.6351530496076,
          "y": 395.08080329059317
         },
         {
          "edge": 13,
          "pair": [
           "Thenardier",
           "Brujon"
          ],
          "source": "Thenardier",
          "target": "Brujon",
          "value": 3,
          "weight": 3,
          "x": 364.8250303346382,
          "y": 414.8059952093051
         },
         {
          "edge": 13,
          "pair": [
           "Thenardier",
           "Brujon"
          ],
          "source": "Thenardier",
          "target": "Brujon",
          "value": 3,
          "weight": 3,
          "x": 360.41377310457557,
          "y": 385.55316111524945
         },
         {
          "edge": 14,
          "pair": [
           "Eponine",
           "Anzelma"
          ],
          "source": "Eponine",
          "target": "Anzelma",
          "value": 2,
          "weight": 2,
          "x": 344.74062031784763,
          "y": 412.9462223125647
         },
         {
          "edge": 14,
          "pair": [
           "Eponine",
           "Anzelma"
          ],
          "source": "Eponine",
          "target": "Anzelma",
          "value": 2,
          "weight": 2,
          "x": 351.04500980824696,
          "y": 427.1385922415662
         },
         {
          "edge": 15,
          "pair": [
           "Eponine",
           "Gueulemer"
          ],
          "source": "Eponine",
          "target": "Gueulemer",
          "value": 1,
          "weight": 1,
          "x": 344.74062031784763,
          "y": 412.9462223125647
         },
         {
          "edge": 15,
          "pair": [
           "Eponine",
           "Gueulemer"
          ],
          "source": "Eponine",
          "target": "Gueulemer",
          "value": 1,
          "weight": 1,
          "x": 361.7439876236472,
          "y": 399.84113332118875
         },
         {
          "edge": 16,
          "pair": [
           "Eponine",
           "Babet"
          ],
          "source": "Eponine",
          "target": "Babet",
          "value": 1,
          "weight": 1,
          "x": 344.74062031784763,
          "y": 412.9462223125647
         },
         {
          "edge": 16,
          "pair": [
           "Eponine",
           "Babet"
          ],
          "source": "Eponine",
          "target": "Babet",
          "value": 1,
          "weight": 1,
          "x": 379.9082403794499,
          "y": 407.0473109251386
         },
         {
          "edge": 17,
          "pair": [
           "Eponine",
           "Claquesous"
          ],
          "source": "Eponine",
          "target": "Claquesous",
          "value": 1,
          "weight": 1,
          "x": 344.74062031784763,
          "y": 412.9462223125647
         },
         {
          "edge": 17,
          "pair": [
           "Eponine",
           "Claquesous"
          ],
          "source": "Eponine",
          "target": "Claquesous",
          "value": 1,
          "weight": 1,
          "x": 376.6752622773273,
          "y": 392.5253793028196
         },
         {
          "edge": 18,
          "pair": [
           "Eponine",
           "Montparnasse"
          ],
          "source": "Eponine",
          "target": "Montparnasse",
          "value": 1,
          "weight": 1,
          "x": 344.74062031784763,
          "y": 412.9462223125647
         },
         {
          "edge": 18,
          "pair": [
           "Eponine",
           "Montparnasse"
          ],
          "source": "Eponine",
          "target": "Montparnasse",
          "value": 1,
          "weight": 1,
          "x": 345.6351530496076,
          "y": 395.08080329059317
         },
         {
          "edge": 19,
          "pair": [
           "Eponine",
           "Brujon"
          ],
          "source": "Eponine",
          "target": "Brujon",
          "value": 1,
          "weight": 1,
          "x": 344.74062031784763,
          "y": 412.9462223125647
         },
         {
          "edge": 19,
          "pair": [
           "Eponine",
           "Brujon"
          ],
          "source": "Eponine",
          "target": "Brujon",
          "value": 1,
          "weight": 1,
          "x": 360.41377310457557,
          "y": 385.55316111524945
         },
         {
          "edge": 20,
          "pair": [
           "Gueulemer",
           "Babet"
          ],
          "source": "Gueulemer",
          "target": "Babet",
          "value": 6,
          "weight": 6,
          "x": 361.7439876236472,
          "y": 399.84113332118875
         },
         {
          "edge": 20,
          "pair": [
           "Gueulemer",
           "Babet"
          ],
          "source": "Gueulemer",
          "target": "Babet",
          "value": 6,
          "weight": 6,
          "x": 379.9082403794499,
          "y": 407.0473109251386
         },
         {
          "edge": 21,
          "pair": [
           "Gueulemer",
           "Claquesous"
          ],
          "source": "Gueulemer",
          "target": "Claquesous",
          "value": 4,
          "weight": 4,
          "x": 361.7439876236472,
          "y": 399.84113332118875
         },
         {
          "edge": 21,
          "pair": [
           "Gueulemer",
           "Claquesous"
          ],
          "source": "Gueulemer",
          "target": "Claquesous",
          "value": 4,
          "weight": 4,
          "x": 376.6752622773273,
          "y": 392.5253793028196
         },
         {
          "edge": 22,
          "pair": [
           "Gueulemer",
           "Montparnasse"
          ],
          "source": "Gueulemer",
          "target": "Montparnasse",
          "value": 2,
          "weight": 2,
          "x": 361.7439876236472,
          "y": 399.84113332118875
         },
         {
          "edge": 22,
          "pair": [
           "Gueulemer",
           "Montparnasse"
          ],
          "source": "Gueulemer",
          "target": "Montparnasse",
          "value": 2,
          "weight": 2,
          "x": 345.6351530496076,
          "y": 395.08080329059317
         },
         {
          "edge": 23,
          "pair": [
           "Gueulemer",
           "Brujon"
          ],
          "source": "Gueulemer",
          "target": "Brujon",
          "value": 3,
          "weight": 3,
          "x": 361.7439876236472,
          "y": 399.84113332118875
         },
         {
          "edge": 23,
          "pair": [
           "Gueulemer",
           "Brujon"
          ],
          "source": "Gueulemer",
          "target": "Brujon",
          "value": 3,
          "weight": 3,
          "x": 360.41377310457557,
          "y": 385.55316111524945
         },
         {
          "edge": 24,
          "pair": [
           "Babet",
           "Claquesous"
          ],
          "source": "Babet",
          "target": "Claquesous",
          "value": 4,
          "weight": 4,
          "x": 379.9082403794499,
          "y": 407.0473109251386
         },
         {
          "edge": 24,
          "pair": [
           "Babet",
           "Claquesous"
          ],
          "source": "Babet",
          "target": "Claquesous",
          "value": 4,
          "weight": 4,
          "x": 376.6752622773273,
          "y": 392.5253793028196
         },
         {
          "edge": 25,
          "pair": [
           "Babet",
           "Montparnasse"
          ],
          "source": "Babet",
          "target": "Montparnasse",
          "value": 2,
          "weight": 2,
          "x": 379.9082403794499,
          "y": 407.0473109251386
         },
         {
          "edge": 25,
          "pair": [
           "Babet",
           "Montparnasse"
          ],
          "source": "Babet",
          "target": "Montparnasse",
          "value": 2,
          "weight": 2,
          "x": 345.6351530496076,
          "y": 395.08080329059317
         },
         {
          "edge": 26,
          "pair": [
           "Babet",
           "Brujon"
          ],
          "source": "Babet",
          "target": "Brujon",
          "value": 3,
          "weight": 3,
          "x": 379.9082403794499,
          "y": 407.0473109251386
         },
         {
          "edge": 26,
          "pair": [
           "Babet",
           "Brujon"
          ],
          "source": "Babet",
          "target": "Brujon",
          "value": 3,
          "weight": 3,
          "x": 360.41377310457557,
          "y": 385.55316111524945
         },
         {
          "edge": 27,
          "pair": [
           "Claquesous",
           "Montparnasse"
          ],
          "source": "Claquesous",
          "target": "Montparnasse",
          "value": 2,
          "weight": 2,
          "x": 376.6752622773273,
          "y": 392.5253793028196
         },
         {
          "edge": 27,
          "pair": [
           "Claquesous",
           "Montparnasse"
          ],
          "source": "Claquesous",
          "target": "Montparnasse",
          "value": 2,
          "weight": 2,
          "x": 345.6351530496076,
          "y": 395.08080329059317
         },
         {
          "edge": 28,
          "pair": [
           "Claquesous",
           "Brujon"
          ],
          "source": "Claquesous",
          "target": "Brujon",
          "value": 1,
          "weight": 1,
          "x": 376.6752622773273,
          "y": 392.5253793028196
         },
         {
          "edge": 28,
          "pair": [
           "Claquesous",
           "Brujon"
          ],
          "source": "Claquesous",
          "target": "Brujon",
          "value": 1,
          "weight": 1,
          "x": 360.41377310457557,
          "y": 385.55316111524945
         },
         {
          "edge": 29,
          "pair": [
           "Montparnasse",
           "Brujon"
          ],
          "source": "Montparnasse",
          "target": "Brujon",
          "value": 1,
          "weight": 1,
          "x": 345.6351530496076,
          "y": 395.08080329059317
         },
         {
          "edge": 29,
          "pair": [
           "Montparnasse",
           "Brujon"
          ],
          "source": "Montparnasse",
          "target": "Brujon",
          "value": 1,
          "weight": 1,
          "x": 360.41377310457557,
          "y": 385.55316111524945
         }
        ],
        "data-fea248df525a2acb2ca41330f23593ac": [
         {
          "edge": 0,
          "pair": [
           "0",
           "1"
          ],
          "source": "0",
          "target": "1",
          "value": 11,
          "x": 49.690864541040085,
          "y": 349.22679628595733
         },
         {
          "edge": 0,
          "pair": [
           "0",
           "1"
          ],
          "source": "0",
          "target": "1",
          "value": 11,
          "x": 258.1299628645868,
          "y": 263.1234800668073
         },
         {
          "edge": 1,
          "pair": [
           "1",
           "2"
          ],
          "source": "1",
          "target": "2",
          "value": 20,
          "x": 258.1299628645868,
          "y": 263.1234800668073
         },
         {
          "edge": 1,
          "pair": [
           "1",
           "2"
          ],
          "source": "1",
          "target": "2",
          "value": 20,
          "x": 600,
          "y": 203.72896108834283
         },
         {
          "edge": 2,
          "pair": [
           "1",
           "3"
          ],
          "source": "1",
          "target": "3",
          "value": 15,
          "x": 258.1299628645868,
          "y": 263.1234800668073
         },
         {
          "edge": 2,
          "pair": [
           "1",
           "3"
          ],
          "source": "1",
          "target": "3",
          "value": 15,
          "x": 42.57844679054173,
          "y": 56.136137670930495
         },
         {
          "edge": 3,
          "pair": [
           "1",
           "4"
          ],
          "source": "1",
          "target": "4",
          "value": 48,
          "x": 258.1299628645868,
          "y": 263.1234800668073
         },
         {
          "edge": 3,
          "pair": [
           "1",
           "4"
          ],
          "source": "1",
          "target": "4",
          "value": 48,
          "x": 362.7074872935515,
          "y": 406.68134134924026
         },
         {
          "edge": 4,
          "pair": [
           "1",
           "5"
          ],
          "source": "1",
          "target": "5",
          "value": 48,
          "x": 258.1299628645868,
          "y": 263.1234800668073
         },
         {
          "edge": 4,
          "pair": [
           "1",
           "5"
          ],
          "source": "1",
          "target": "5",
          "value": 48,
          "x": 324.4698118664829,
          "y": 128.80925866948908
         },
         {
          "edge": 5,
          "pair": [
           "2",
           "3"
          ],
          "source": "2",
          "target": "3",
          "value": 1,
          "x": 600,
          "y": 203.72896108834283
         },
         {
          "edge": 5,
          "pair": [
           "2",
           "3"
          ],
          "source": "2",
          "target": "3",
          "value": 1,
          "x": 42.57844679054173,
          "y": 56.136137670930495
         },
         {
          "edge": 6,
          "pair": [
           "2",
           "4"
          ],
          "source": "2",
          "target": "4",
          "value": 3,
          "x": 600,
          "y": 203.72896108834283
         },
         {
          "edge": 6,
          "pair": [
           "2",
           "4"
          ],
          "source": "2",
          "target": "4",
          "value": 3,
          "x": 362.7074872935515,
          "y": 406.68134134924026
         },
         {
          "edge": 7,
          "pair": [
           "4",
           "5"
          ],
          "source": "4",
          "target": "5",
          "value": 8,
          "x": 362.7074872935515,
          "y": 406.68134134924026
         },
         {
          "edge": 7,
          "pair": [
           "4",
           "5"
          ],
          "source": "4",
          "target": "5",
          "value": 8,
          "x": 324.4698118664829,
          "y": 128.80925866948908
         }
        ]
       },
       "height": 480,
       "layer": [
        {
         "data": {
          "name": "data-fea248df525a2acb2ca41330f23593ac"
         },
         "encoding": {
          "color": {
           "value": "#606060"
          },
          "detail": {
           "field": "edge",
           "type": "quantitative"
          },
          "opacity": {
           "field": "value",
           "legend": null,
           "scale": {
            "range": [
             0.3,
             1
            ]
           },
           "type": "quantitative"
          },
          "strokeWidth": {
           "field": "value",
           "legend": null,
           "scale": {
            "range": [
             0.5,
             3
            ]
           },
           "type": "quantitative"
          },
          "x": {
           "axis": {
            "domain": false,
            "grid": false,
            "labels": false,
            "ticks": false,
            "title": ""
           },
           "field": "x",
           "type": "quantitative"
          },
          "y": {
           "axis": {
            "domain": false,
            "grid": false,
            "labels": false,
            "ticks": false,
            "title": ""
           },
           "field": "y",
           "type": "quantitative"
          }
         },
         "mark": "line"
        },
        {
         "data": {
          "name": "data-9d8469679a32f2716a7450fdf3520fb2"
         },
         "layer": [
          {
           "encoding": {
            "fill": {
             "value": "#fff"
            },
            "opacity": {
             "value": 1
            },
            "size": {
             "field": "__combo_size",
             "legend": null,
             "scale": null,
             "type": "quantitative"
            },
            "stroke": {
             "value": "#565656"
            },
            "strokeWidth": {
             "value": 3
            },
            "tooltip": [
             {
              "field": "group",
              "type": "nominal"
             }
            ],
            "x": {
             "axis": {
              "domain": false,
              "grid": false,
              "labels": false,
              "ticks": false,
              "title": ""
             },
             "field": "x",
             "type": "quantitative"
            },
            "y": {
             "axis": {
              "domain": false,
              "grid": false,
              "labels": false,
              "ticks": false,
              "title": ""
             },
             "field": "y",
             "type": "quantitative"
            }
           },
           "mark": "circle"
          },
          {
           "encoding": {
            "text": {
             "field": "group",
             "type": "nominal"
            },
            "x": {
             "axis": {
              "domain": false,
              "grid": false,
              "labels": false,
              "ticks": false,
              "title": ""
             },
             "field": "x",
             "type": "quantitative"
            },
            "y": {
             "axis": {
              "domain": false,
              "grid": false,
              "labels": false,
              "ticks": false,
              "title": ""
             },
             "field": "__y_label",
             "type": "quantitative"
            }
           },
           "mark": {
            "align": "center",
            "baseline": "middle",
            "color": "black",
            "size": 10,
            "type": "text"
           }
          }
         ]
        },
        {
         "data": {
          "name": "data-f11a406b839da0818959c522bef03d13"
         },
         "encoding": {
          "color": {
           "value": "#333"
          },
          "detail": {
           "field": "edge",
           "type": "quantitative"
          },
          "opacity": {
           "field": "value",
           "legend": null,
           "scale": {
            "range": [
             0.5,
             0.8
            ]
           },
           "type": "quantitative"
          },
          "strokeWidth": {
           "field": "value",
           "legend": null,
           "scale": {
            "range": [
             0.4,
             1
            ]
           },
           "type": "quantitative"
          },
          "x": {
           "axis": {
            "domain": false,
            "grid": false,
            "labels": false,
            "ticks": false,
            "title": ""
           },
           "field": "x",
           "type": "quantitative"
          },
          "y": {
           "axis": {
            "domain": false,
            "grid": false,
            "labels": false,
            "ticks": false,
            "title": ""
           },
           "field": "y",
           "type": "quantitative"
          }
         },
         "mark": "line"
        },
        {
         "data": {
          "name": "data-8fc217f3e0382d4f55be9a881289e892"
         },
         "encoding": {
          "fill": {
           "value": "#888"
          },
          "opacity": {
           "value": 1
          },
          "size": {
           "value": 25
          },
          "stroke": {
           "value": "#222"
          },
          "strokeWidth": {
           "value": 1
          },
          "tooltip": [
           {
            "field": "name",
            "type": "nominal"
           },
           {
            "field": "group",
            "type": "nominal"
           }
          ],
          "x": {
           "axis": {
            "domain": false,
            "grid": false,
            "labels": false,
            "ticks": false,
            "title": ""
           },
           "field": "x",
           "type": "quantitative"
          },
          "y": {
           "axis": {
            "domain": false,
            "grid": false,
            "labels": false,
            "ticks": false,
            "title": ""
           },
           "field": "y",
           "type": "quantitative"
          }
         },
         "mark": "circle"
        },
        {
         "data": {
          "name": "data-355d6aacfb01b86613a4ae451e0642a0"
         },
         "layer": [
          {
           "encoding": {
            "fill": {
             "value": "#fff"
            },
            "opacity": {
             "value": 1
            },
            "size": {
             "field": "__combo_size",
             "legend": null,
             "scale": null,
             "type": "quantitative"
            },
            "stroke": {
             "value": "#565656"
            },
            "strokeWidth": {
             "value": 3
            },
            "tooltip": [
             {
              "field": "group",
              "type": "nominal"
             }
            ],
            "x": {
             "axis": {
              "domain": false,
              "grid": false,
              "labels": false,
              "ticks": false,
              "title": ""
             },
             "field": "x",
             "type": "quantitative"
            },
            "y": {
             "axis": {
              "domain": false,
              "grid": false,
              "labels": false,
              "ticks": false,
              "title": ""
             },
             "field": "y",
             "type": "quantitative"
            }
           },
           "mark": "circle"
          },
          {
           "encoding": {
            "text": {
             "field": "group",
             "type": "nominal"
            },
            "x": {
             "axis": {
              "domain": false,
              "grid": false,
              "labels": false,
              "ticks": false,
              "title": ""
             },
             "field": "x",
             "type": "quantitative"
            },
            "y": {
             "axis": {
              "domain": false,
              "grid": false,
              "labels": false,
              "ticks": false,
              "title": ""
             },
             "field": "__y_label",
             "type": "quantitative"
            }
           },
           "mark": {
            "align": "center",
            "baseline": "middle",
            "color": "black",
            "size": 10,
            "type": "text"
           }
          }
         ]
        },
        {
         "data": {
          "name": "data-33fa581a1d43f5fd3eaddc86db7f1b54"
         },
         "encoding": {
          "color": {
           "value": "#333"
          },
          "detail": {
           "field": "edge",
           "type": "quantitative"
          },
          "opacity": {
           "field": "value",
           "legend": null,
           "scale": {
            "range": [
             0.5,
             0.8
            ]
           },
           "type": "quantitative"
          },
          "strokeWidth": {
           "field": "value",
           "legend": null,
           "scale": {
            "range": [
             0.4,
             1
            ]
           },
           "type": "quantitative"
          },
          "x": {
           "axis": {
            "domain": false,
            "grid": false,
            "labels": false,
            "ticks": false,
            "title": ""
           },
           "field": "x",
           "type": "quantitative"
          },
          "y": {
           "axis": {
            "domain": false,
            "grid": false,
            "labels": false,
            "ticks": false,
            "title": ""
           },
           "field": "y",
           "type": "quantitative"
          }
         },
         "mark": "line"
        },
        {
         "data": {
          "name": "data-35ca0ec4f932fa7d55690b22e91c48f1"
         },
         "encoding": {
          "fill": {
           "value": "#888"
          },
          "opacity": {
           "value": 1
          },
          "size": {
           "value": 25
          },
          "stroke": {
           "value": "#222"
          },
          "strokeWidth": {
           "value": 1
          },
          "tooltip": [
           {
            "field": "name",
            "type": "nominal"
           },
           {
            "field": "group",
            "type": "nominal"
           }
          ],
          "x": {
           "axis": {
            "domain": false,
            "grid": false,
            "labels": false,
            "ticks": false,
            "title": ""
           },
           "field": "x",
           "type": "quantitative"
          },
          "y": {
           "axis": {
            "domain": false,
            "grid": false,
            "labels": false,
            "ticks": false,
            "title": ""
           },
           "field": "y",
           "type": "quantitative"
          }
         },
         "mark": "circle"
        },
        {
         "data": {
          "name": "data-4513146e2fe3ad80d3d939e634335160"
         },
         "layer": [
          {
           "encoding": {
            "fill": {
             "value": "#fff"
            },
            "opacity": {
             "value": 1
            },
            "size": {
             "field": "__combo_size",
             "legend": null,
             "scale": null,
             "type": "quantitative"
            },
            "stroke": {
             "value": "#565656"
            },
            "strokeWidth": {
             "value": 3
            },
            "tooltip": [
             {
              "field": "group",
              "type": "nominal"
             }
            ],
            "x": {
             "axis": {
              "domain": false,
              "grid": false,
              "labels": false,
              "ticks": false,
              "title": ""
             },
             "field": "x",
             "type": "quantitative"
            },
            "y": {
             "axis": {
              "domain": false,
              "grid": false,
              "labels": false,
              "ticks": false,
              "title": ""
             },
             "field": "y",
             "type": "quantitative"
            }
           },
           "mark": "circle"
          },
          {
           "encoding": {
            "text": {
             "field": "group",
             "type": "nominal"
            },
            "x": {
             "axis": {
              "domain": false,
              "grid": false,
              "labels": false,
              "ticks": false,
              "title": ""
             },
             "field": "x",
             "type": "quantitative"
            },
            "y": {
             "axis": {
              "domain": false,
              "grid": false,
              "labels": false,
              "ticks": false,
              "title": ""
             },
             "field": "__y_label",
             "type": "quantitative"
            }
           },
           "mark": {
            "align": "center",
            "baseline": "middle",
            "color": "black",
            "size": 10,
            "type": "text"
           }
          }
         ]
        },
        {
         "data": {
          "name": "data-bdff151d5a826a2f627a60676805e49e"
         },
         "encoding": {
          "color": {
           "value": "#333"
          },
          "detail": {
           "field": "edge",
           "type": "quantitative"
          },
          "opacity": {
           "field": "value",
           "legend": null,
           "scale": {
            "range": [
             0.5,
             0.8
            ]
           },
           "type": "quantitative"
          },
          "strokeWidth": {
           "field": "value",
           "legend": null,
           "scale": {
            "range": [
             0.4,
             1
            ]
           },
           "type": "quantitative"
          },
          "x": {
           "axis": {
            "domain": false,
            "grid": false,
            "labels": false,
            "ticks": false,
            "title": ""
           },
           "field": "x",
           "type": "quantitative"
          },
          "y": {
           "axis": {
            "domain": false,
            "grid": false,
            "labels": false,
            "ticks": false,
            "title": ""
           },
           "field": "y",
           "type": "quantitative"
          }
         },
         "mark": "line"
        },
        {
         "data": {
          "name": "data-0f5b4e2a6914718eed974c0ad9113546"
         },
         "encoding": {
          "fill": {
           "value": "#888"
          },
          "opacity": {
           "value": 1
          },
          "size": {
           "value": 25
          },
          "stroke": {
           "value": "#222"
          },
          "strokeWidth": {
           "value": 1
          },
          "tooltip": [
           {
            "field": "name",
            "type": "nominal"
           },
           {
            "field": "group",
            "type": "nominal"
           }
          ],
          "x": {
           "axis": {
            "domain": false,
            "grid": false,
            "labels": false,
            "ticks": false,
            "title": ""
           },
           "field": "x",
           "type": "quantitative"
          },
          "y": {
           "axis": {
            "domain": false,
            "grid": false,
            "labels": false,
            "ticks": false,
            "title": ""
           },
           "field": "y",
           "type": "quantitative"
          }
         },
         "mark": "circle"
        },
        {
         "data": {
          "name": "data-e61cd111d978eea1d3348ca47e312bfc"
         },
         "layer": [
          {
           "encoding": {
            "fill": {
             "value": "#fff"
            },
            "opacity": {
             "value": 1
            },
            "size": {
             "field": "__combo_size",
             "legend": null,
             "scale": null,
             "type": "quantitative"
            },
            "stroke": {
             "value": "#565656"
            },
            "strokeWidth": {
             "value": 3
            },
            "tooltip": [
             {
              "field": "group",
              "type": "nominal"
             }
            ],
            "x": {
             "axis": {
              "domain": false,
              "grid": false,
              "labels": false,
              "ticks": false,
              "title": ""
             },
             "field": "x",
             "type": "quantitative"
            },
            "y": {
             "axis": {
              "domain": false,
              "grid": false,
              "labels": false,
              "ticks": false,
              "title": ""
             },
             "field": "y",
             "type": "quantitative"
            }
           },
           "mark": "circle"
          },
          {
           "encoding": {
            "text": {
             "field": "group",
             "type": "nominal"
            },
            "x": {
             "axis": {
              "domain": false,
              "grid": false,
              "labels": false,
              "ticks": false,
              "title": ""
             },
             "field": "x",
             "type": "quantitative"
            },
            "y": {
             "axis": {
              "domain": false,
              "grid": false,
              "labels": false,
              "ticks": false,
              "title": ""
             },
             "field": "__y_label",
             "type": "quantitative"
            }
           },
           "mark": {
            "align": "center",
            "baseline": "middle",
            "color": "black",
            "size": 10,
            "type": "text"
           }
          }
         ]
        },
        {
         "data": {
          "name": "data-a0297b67ff2d30eca624c96f78273667"
         },
         "encoding": {
          "color": {
           "value": "#333"
          },
          "detail": {
           "field": "edge",
           "type": "quantitative"
          },
          "opacity": {
           "field": "value",
           "legend": null,
           "scale": {
            "range": [
             0.5,
             0.8
            ]
           },
           "type": "quantitative"
          },
          "strokeWidth": {
           "field": "value",
           "legend": null,
           "scale": {
            "range": [
             0.4,
             1
            ]
           },
           "type": "quantitative"
          },
          "x": {
           "axis": {
            "domain": false,
            "grid": false,
            "labels": false,
            "ticks": false,
            "title": ""
           },
           "field": "x",
           "type": "quantitative"
          },
          "y": {
           "axis": {
            "domain": false,
            "grid": false,
            "labels": false,
            "ticks": false,
            "title": ""
           },
           "field": "y",
           "type": "quantitative"
          }
         },
         "mark": "line"
        },
        {
         "data": {
          "name": "data-128a9e7c344d289d72ac64fb801d6ab2"
         },
         "encoding": {
          "fill": {
           "value": "#888"
          },
          "opacity": {
           "value": 1
          },
          "size": {
           "value": 25
          },
          "stroke": {
           "value": "#222"
          },
          "strokeWidth": {
           "value": 1
          },
          "tooltip": [
           {
            "field": "name",
            "type": "nominal"
           },
           {
            "field": "group",
            "type": "nominal"
           }
          ],
          "x": {
           "axis": {
            "domain": false,
            "grid": false,
            "labels": false,
            "ticks": false,
            "title": ""
           },
           "field": "x",
           "type": "quantitative"
          },
          "y": {
           "axis": {
            "domain": false,
            "grid": false,
            "labels": false,
            "ticks": false,
            "title": ""
           },
           "field": "y",
           "type": "quantitative"
          }
         },
         "mark": "circle"
        },
        {
         "data": {
          "name": "data-cf207409f361c069378f1743f2e51e27"
         },
         "layer": [
          {
           "encoding": {
            "fill": {
             "value": "#fff"
            },
            "opacity": {
             "value": 1
            },
            "size": {
             "field": "__combo_size",
             "legend": null,
             "scale": null,
             "type": "quantitative"
            },
            "stroke": {
             "value": "#565656"
            },
            "strokeWidth": {
             "value": 3
            },
            "tooltip": [
             {
              "field": "group",
              "type": "nominal"
             }
            ],
            "x": {
             "axis": {
              "domain": false,
              "grid": false,
              "labels": false,
              "ticks": false,
              "title": ""
             },
             "field": "x",
             "type": "quantitative"
            },
            "y": {
             "axis": {
              "domain": false,
              "grid": false,
              "labels": false,
              "ticks": false,
              "title": ""
             },
             "field": "y",
             "type": "quantitative"
            }
           },
           "mark": "circle"
          },
          {
           "encoding": {
            "text": {
             "field": "group",
             "type": "nominal"
            },
            "x": {
             "axis": {
              "domain": false,
              "grid": false,
              "labels": false,
              "ticks": false,
              "title": ""
             },
             "field": "x",
             "type": "quantitative"
            },
            "y": {
             "axis": {
              "domain": false,
              "grid": false,
              "labels": false,
              "ticks": false,
              "title": ""
             },
             "field": "__y_label",
             "type": "quantitative"
            }
           },
           "mark": {
            "align": "center",
            "baseline": "middle",
            "color": "black",
            "size": 10,
            "type": "text"
           }
          }
         ]
        },
        {
         "data": {
          "name": "data-8c02b1cae3b33f2c3904fe56296f793b"
         },
         "encoding": {
          "color": {
           "value": "#333"
          },
          "detail": {
           "field": "edge",
           "type": "quantitative"
          },
          "opacity": {
           "field": "value",
           "legend": null,
           "scale": {
            "range": [
             0.5,
             0.8
            ]
           },
           "type": "quantitative"
          },
          "strokeWidth": {
           "field": "value",
           "legend": null,
           "scale": {
            "range": [
             0.4,
             1
            ]
           },
           "type": "quantitative"
          },
          "x": {
           "axis": {
            "domain": false,
            "grid": false,
            "labels": false,
            "ticks": false,
            "title": ""
           },
           "field": "x",
           "type": "quantitative"
          },
          "y": {
           "axis": {
            "domain": false,
            "grid": false,
            "labels": false,
            "ticks": false,
            "title": ""
           },
           "field": "y",
           "type": "quantitative"
          }
         },
         "mark": "line"
        },
        {
         "data": {
          "name": "data-28ec3947db56b84258ed292706482365"
         },
         "encoding": {
          "fill": {
           "value": "#888"
          },
          "opacity": {
           "value": 1
          },
          "size": {
           "value": 25
          },
          "stroke": {
           "value": "#222"
          },
          "strokeWidth": {
           "value": 1
          },
          "tooltip": [
           {
            "field": "name",
            "type": "nominal"
           },
           {
            "field": "group",
            "type": "nominal"
           }
          ],
          "x": {
           "axis": {
            "domain": false,
            "grid": false,
            "labels": false,
            "ticks": false,
            "title": ""
           },
           "field": "x",
           "type": "quantitative"
          },
          "y": {
           "axis": {
            "domain": false,
            "grid": false,
            "labels": false,
            "ticks": false,
            "title": ""
           },
           "field": "y",
           "type": "quantitative"
          }
         },
         "mark": "circle"
        },
        {
         "data": {
          "name": "data-9becee46c745c0f80491b384dcc59457"
         },
         "layer": [
          {
           "encoding": {
            "fill": {
             "value": "#fff"
            },
            "opacity": {
             "value": 1
            },
            "size": {
             "field": "__combo_size",
             "legend": null,
             "scale": null,
             "type": "quantitative"
            },
            "stroke": {
             "value": "#565656"
            },
            "strokeWidth": {
             "value": 3
            },
            "tooltip": [
             {
              "field": "group",
              "type": "nominal"
             }
            ],
            "x": {
             "axis": {
              "domain": false,
              "grid": false,
              "labels": false,
              "ticks": false,
              "title": ""
             },
             "field": "x",
             "type": "quantitative"
            },
            "y": {
             "axis": {
              "domain": false,
              "grid": false,
              "labels": false,
              "ticks": false,
              "title": ""
             },
             "field": "y",
             "type": "quantitative"
            }
           },
           "mark": "circle"
          },
          {
           "encoding": {
            "text": {
             "field": "group",
             "type": "nominal"
            },
            "x": {
             "axis": {
              "domain": false,
              "grid": false,
              "labels": false,
              "ticks": false,
              "title": ""
             },
             "field": "x",
             "type": "quantitative"
            },
            "y": {
             "axis": {
              "domain": false,
              "grid": false,
              "labels": false,
              "ticks": false,
              "title": ""
             },
             "field": "__y_label",
             "type": "quantitative"
            }
           },
           "mark": {
            "align": "center",
            "baseline": "middle",
            "color": "black",
            "size": 10,
            "type": "text"
           }
          }
         ]
        },
        {
         "data": {
          "name": "data-34b5491e9fe0d8df910b977bac84afe2"
         },
         "encoding": {
          "color": {
           "value": "#333"
          },
          "detail": {
           "field": "edge",
           "type": "quantitative"
          },
          "opacity": {
           "field": "value",
           "legend": null,
           "scale": {
            "range": [
             0.5,
             0.8
            ]
           },
           "type": "quantitative"
          },
          "strokeWidth": {
           "field": "value",
           "legend": null,
           "scale": {
            "range": [
             0.4,
             1
            ]
           },
           "type": "quantitative"
          },
          "x": {
           "axis": {
            "domain": false,
            "grid": false,
            "labels": false,
            "ticks": false,
            "title": ""
           },
           "field": "x",
           "type": "quantitative"
          },
          "y": {
           "axis": {
            "domain": false,
            "grid": false,
            "labels": false,
            "ticks": false,
            "title": ""
           },
           "field": "y",
           "type": "quantitative"
          }
         },
         "mark": "line"
        },
        {
         "data": {
          "name": "data-808d32ac7c7c59dda817ef6f7ef758ba"
         },
         "encoding": {
          "fill": {
           "value": "#888"
          },
          "opacity": {
           "value": 1
          },
          "size": {
           "value": 25
          },
          "stroke": {
           "value": "#222"
          },
          "strokeWidth": {
           "value": 1
          },
          "tooltip": [
           {
            "field": "name",
            "type": "nominal"
           },
           {
            "field": "group",
            "type": "nominal"
           }
          ],
          "x": {
           "axis": {
            "domain": false,
            "grid": false,
            "labels": false,
            "ticks": false,
            "title": ""
           },
           "field": "x",
           "type": "quantitative"
          },
          "y": {
           "axis": {
            "domain": false,
            "grid": false,
            "labels": false,
            "ticks": false,
            "title": ""
           },
           "field": "y",
           "type": "quantitative"
          }
         },
         "mark": "circle"
        }
       ],
       "resolve": {
        "scale": {
         "color": "independent",
         "fill": "independent",
         "opacity": "independent",
         "size": "independent",
         "strokeWidth": "independent"
        }
       },
       "width": 600
      },
      "image/png": "[encoded data removed]",
      "text/plain": [
       "<VegaLite 4 object>\n",
       "\n",
       "If you see this message, it means the renderer has not been properly enabled\n",
       "for the frontend that you are using. For more information, see\n",
       "https://altair-viz.github.io/user_guide/troubleshooting.html\n"
      ]
     },
     "execution_count": 6,
     "metadata": {},
     "output_type": "execute_result"
    }
   ],
   "source": [
    "combo_chart(\n",
    "    layout_fn=lambda g: layout.force_atlas(\n",
    "        g,\n",
    "        weight_attr=\"weight\",\n",
    "        strongGravityMode=True,\n",
    "        outboundAttractionDistribution=False,\n",
    "        gravity=5,\n",
    "        seed=seed,\n",
    "    ),\n",
    ")"
   ]
  },
  {
   "cell_type": "markdown",
   "metadata": {},
   "source": [
    "And now use a different layout for group-level graphs. This is a little tidier,\n",
    "at the expense of connection patterns being slightly harder to spot."
   ]
  },
  {
   "cell_type": "code",
   "execution_count": 7,
   "metadata": {},
   "outputs": [
    {
     "data": {
      "application/vnd.vegalite.v4+json": {
       "$schema": "https://vega.github.io/schema/vega-lite/v4.17.0.json",
       "config": {
        "view": {
         "continuousHeight": 300,
         "continuousWidth": 400,
         "strokeWidth": 0
        }
       },
       "datasets": {
        "data-110c1cf9c6872d7fc505f7a155096117": [
         {
          "edge": 0,
          "pair": [
           "Labarre",
           "Valjean"
          ],
          "source": "Labarre",
          "target": "Valjean",
          "value": 1,
          "weight": 1,
          "x": 288.1299628645868,
          "y": 263.1234801025701
         },
         {
          "edge": 0,
          "pair": [
           "Labarre",
           "Valjean"
          ],
          "source": "Labarre",
          "target": "Valjean",
          "value": 1,
          "weight": 1,
          "x": 287.18745787829477,
          "y": 270.5841771223262
         },
         {
          "edge": 1,
          "pair": [
           "Valjean",
           "MmeDeR"
          ],
          "source": "Valjean",
          "target": "MmeDeR",
          "value": 1,
          "weight": 1,
          "x": 287.18745787829477,
          "y": 270.5841771223262
         },
         {
          "edge": 1,
          "pair": [
           "Valjean",
           "MmeDeR"
          ],
          "source": "Valjean",
          "target": "MmeDeR",
          "value": 1,
          "weight": 1,
          "x": 284.41916251720045,
          "y": 277.57609106932813
         },
         {
          "edge": 2,
          "pair": [
           "Valjean",
           "Isabeau"
          ],
          "source": "Valjean",
          "target": "Isabeau",
          "value": 1,
          "weight": 1,
          "x": 287.18745787829477,
          "y": 270.5841771223262
         },
         {
          "edge": 2,
          "pair": [
           "Valjean",
           "Isabeau"
          ],
          "source": "Valjean",
          "target": "Isabeau",
          "value": 1,
          "weight": 1,
          "x": 279.9990216092953,
          "y": 283.65989354862717
         },
         {
          "edge": 3,
          "pair": [
           "Valjean",
           "Gervais"
          ],
          "source": "Valjean",
          "target": "Gervais",
          "value": 1,
          "weight": 1,
          "x": 287.18745787829477,
          "y": 270.5841771223262
         },
         {
          "edge": 3,
          "pair": [
           "Valjean",
           "Gervais"
          ],
          "source": "Valjean",
          "target": "Gervais",
          "value": 1,
          "weight": 1,
          "x": 274.20476537646095,
          "y": 288.4533192670444
         },
         {
          "edge": 4,
          "pair": [
           "Valjean",
           "Cosette"
          ],
          "source": "Valjean",
          "target": "Cosette",
          "value": 31,
          "weight": 31,
          "x": 287.18745787829477,
          "y": 270.5841771223262
         },
         {
          "edge": 4,
          "pair": [
           "Valjean",
           "Cosette"
          ],
          "source": "Valjean",
          "target": "Cosette",
          "value": 31,
          "weight": 31,
          "x": 267.4004723939543,
          "y": 291.6551758267668
         },
         {
          "edge": 5,
          "pair": [
           "Valjean",
           "Javert"
          ],
          "source": "Valjean",
          "target": "Javert",
          "value": 17,
          "weight": 17,
          "x": 287.18745787829477,
          "y": 270.5841771223262
         },
         {
          "edge": 5,
          "pair": [
           "Valjean",
           "Javert"
          ],
          "source": "Valjean",
          "target": "Javert",
          "value": 17,
          "weight": 17,
          "x": 260.0136782779521,
          "y": 293.06428146178104
         },
         {
          "edge": 6,
          "pair": [
           "Valjean",
           "Fauchelevent"
          ],
          "source": "Valjean",
          "target": "Fauchelevent",
          "value": 8,
          "weight": 8,
          "x": 287.18745787829477,
          "y": 270.5841771223262
         },
         {
          "edge": 6,
          "pair": [
           "Valjean",
           "Fauchelevent"
          ],
          "source": "Valjean",
          "target": "Fauchelevent",
          "value": 8,
          "weight": 8,
          "x": 252.50852409155095,
          "y": 292.59209645398306
         },
         {
          "edge": 7,
          "pair": [
           "Valjean",
           "Simplice"
          ],
          "source": "Valjean",
          "target": "Simplice",
          "value": 3,
          "weight": 3,
          "x": 287.18745787829477,
          "y": 270.5841771223262
         },
         {
          "edge": 7,
          "pair": [
           "Valjean",
           "Simplice"
          ],
          "source": "Valjean",
          "target": "Simplice",
          "value": 3,
          "weight": 3,
          "x": 239.00724391970112,
          "y": 286.23887681247055
         },
         {
          "edge": 8,
          "pair": [
           "Valjean",
           "Scaufflaire"
          ],
          "source": "Valjean",
          "target": "Scaufflaire",
          "value": 1,
          "weight": 1,
          "x": 287.18745787829477,
          "y": 270.5841771223262
         },
         {
          "edge": 8,
          "pair": [
           "Valjean",
           "Scaufflaire"
          ],
          "source": "Valjean",
          "target": "Scaufflaire",
          "value": 1,
          "weight": 1,
          "x": 233.85945369284713,
          "y": 280.7570371279195
         },
         {
          "edge": 9,
          "pair": [
           "Valjean",
           "Woman1"
          ],
          "source": "Valjean",
          "target": "Woman1",
          "value": 2,
          "weight": 2,
          "x": 287.18745787829477,
          "y": 270.5841771223262
         },
         {
          "edge": 9,
          "pair": [
           "Valjean",
           "Woman1"
          ],
          "source": "Valjean",
          "target": "Woman1",
          "value": 2,
          "weight": 2,
          "x": 230.23667092688518,
          "y": 274.1672180450126
         },
         {
          "edge": 10,
          "pair": [
           "Valjean",
           "Woman2"
          ],
          "source": "Valjean",
          "target": "Woman2",
          "value": 3,
          "weight": 3,
          "x": 287.18745787829477,
          "y": 270.5841771223262
         },
         {
          "edge": 10,
          "pair": [
           "Valjean",
           "Woman2"
          ],
          "source": "Valjean",
          "target": "Woman2",
          "value": 3,
          "weight": 3,
          "x": 228.36652218013492,
          "y": 259.3634862545323
         },
         {
          "edge": 11,
          "pair": [
           "Valjean",
           "MotherInnocent"
          ],
          "source": "Valjean",
          "target": "MotherInnocent",
          "value": 1,
          "weight": 1,
          "x": 287.18745787829477,
          "y": 270.5841771223262
         },
         {
          "edge": 11,
          "pair": [
           "Valjean",
           "MotherInnocent"
          ],
          "source": "Valjean",
          "target": "MotherInnocent",
          "value": 1,
          "weight": 1,
          "x": 230.23666913874587,
          "y": 252.0797439482669
         },
         {
          "edge": 12,
          "pair": [
           "Valjean",
           "Gillenormand"
          ],
          "source": "Valjean",
          "target": "Gillenormand",
          "value": 2,
          "weight": 2,
          "x": 287.18745787829477,
          "y": 270.5841771223262
         },
         {
          "edge": 12,
          "pair": [
           "Valjean",
           "Gillenormand"
          ],
          "source": "Valjean",
          "target": "Gillenormand",
          "value": 2,
          "weight": 2,
          "x": 239.00724928411907,
          "y": 240.00807981639102
         },
         {
          "edge": 13,
          "pair": [
           "Valjean",
           "MlleGillenormand"
          ],
          "source": "Valjean",
          "target": "MlleGillenormand",
          "value": 2,
          "weight": 2,
          "x": 287.18745787829477,
          "y": 270.5841771223262
         },
         {
          "edge": 13,
          "pair": [
           "Valjean",
           "MlleGillenormand"
          ],
          "source": "Valjean",
          "target": "MlleGillenormand",
          "value": 2,
          "weight": 2,
          "x": 252.50852230341164,
          "y": 233.6548637511571
         },
         {
          "edge": 14,
          "pair": [
           "Valjean",
           "Marius"
          ],
          "source": "Valjean",
          "target": "Marius",
          "value": 19,
          "weight": 19,
          "x": 287.18745787829477,
          "y": 270.5841771223262
         },
         {
          "edge": 14,
          "pair": [
           "Valjean",
           "Marius"
          ],
          "source": "Valjean",
          "target": "Marius",
          "value": 19,
          "weight": 19,
          "x": 279.9990180330167,
          "y": 242.5870648683737
         },
         {
          "edge": 15,
          "pair": [
           "Valjean",
           "Toussaint"
          ],
          "source": "Valjean",
          "target": "Toussaint",
          "value": 1,
          "weight": 1,
          "x": 287.18745787829477,
          "y": 270.5841771223262
         },
         {
          "edge": 15,
          "pair": [
           "Valjean",
           "Toussaint"
          ],
          "source": "Valjean",
          "target": "Toussaint",
          "value": 1,
          "weight": 1,
          "x": 287.18745787829477,
          "y": 255.66278576502293
         },
         {
          "edge": 16,
          "pair": [
           "Cosette",
           "Javert"
          ],
          "source": "Cosette",
          "target": "Javert",
          "value": 1,
          "weight": 1,
          "x": 267.4004723939543,
          "y": 291.6551758267668
         },
         {
          "edge": 16,
          "pair": [
           "Cosette",
           "Javert"
          ],
          "source": "Cosette",
          "target": "Javert",
          "value": 1,
          "weight": 1,
          "x": 260.0136782779521,
          "y": 293.06428146178104
         },
         {
          "edge": 17,
          "pair": [
           "Cosette",
           "Woman2"
          ],
          "source": "Cosette",
          "target": "Woman2",
          "value": 1,
          "weight": 1,
          "x": 267.4004723939543,
          "y": 291.6551758267668
         },
         {
          "edge": 17,
          "pair": [
           "Cosette",
           "Woman2"
          ],
          "source": "Cosette",
          "target": "Woman2",
          "value": 1,
          "weight": 1,
          "x": 228.36652218013492,
          "y": 259.3634862545323
         },
         {
          "edge": 18,
          "pair": [
           "Cosette",
           "Gillenormand"
          ],
          "source": "Cosette",
          "target": "Gillenormand",
          "value": 3,
          "weight": 3,
          "x": 267.4004723939543,
          "y": 291.6551758267668
         },
         {
          "edge": 18,
          "pair": [
           "Cosette",
           "Gillenormand"
          ],
          "source": "Cosette",
          "target": "Gillenormand",
          "value": 3,
          "weight": 3,
          "x": 239.00724928411907,
          "y": 240.00807981639102
         },
         {
          "edge": 19,
          "pair": [
           "Cosette",
           "MlleGillenormand"
          ],
          "source": "Cosette",
          "target": "MlleGillenormand",
          "value": 2,
          "weight": 2,
          "x": 267.4004723939543,
          "y": 291.6551758267668
         },
         {
          "edge": 19,
          "pair": [
           "Cosette",
           "MlleGillenormand"
          ],
          "source": "Cosette",
          "target": "MlleGillenormand",
          "value": 2,
          "weight": 2,
          "x": 252.50852230341164,
          "y": 233.6548637511571
         },
         {
          "edge": 20,
          "pair": [
           "Cosette",
           "LtGillenormand"
          ],
          "source": "Cosette",
          "target": "LtGillenormand",
          "value": 1,
          "weight": 1,
          "x": 267.4004723939543,
          "y": 291.6551758267668
         },
         {
          "edge": 20,
          "pair": [
           "Cosette",
           "LtGillenormand"
          ],
          "source": "Cosette",
          "target": "LtGillenormand",
          "value": 1,
          "weight": 1,
          "x": 274.204760012043,
          "y": 237.79363914995648
         },
         {
          "edge": 21,
          "pair": [
           "Cosette",
           "Marius"
          ],
          "source": "Cosette",
          "target": "Marius",
          "value": 21,
          "weight": 21,
          "x": 267.4004723939543,
          "y": 291.6551758267668
         },
         {
          "edge": 21,
          "pair": [
           "Cosette",
           "Marius"
          ],
          "source": "Cosette",
          "target": "Marius",
          "value": 21,
          "weight": 21,
          "x": 279.9990180330167,
          "y": 242.5870648683737
         },
         {
          "edge": 22,
          "pair": [
           "Cosette",
           "Toussaint"
          ],
          "source": "Cosette",
          "target": "Toussaint",
          "value": 2,
          "weight": 2,
          "x": 267.4004723939543,
          "y": 291.6551758267668
         },
         {
          "edge": 22,
          "pair": [
           "Cosette",
           "Toussaint"
          ],
          "source": "Cosette",
          "target": "Toussaint",
          "value": 2,
          "weight": 2,
          "x": 287.18745787829477,
          "y": 255.66278576502293
         },
         {
          "edge": 23,
          "pair": [
           "Javert",
           "Fauchelevent"
          ],
          "source": "Javert",
          "target": "Fauchelevent",
          "value": 1,
          "weight": 1,
          "x": 260.0136782779521,
          "y": 293.06428146178104
         },
         {
          "edge": 23,
          "pair": [
           "Javert",
           "Fauchelevent"
          ],
          "source": "Javert",
          "target": "Fauchelevent",
          "value": 1,
          "weight": 1,
          "x": 252.50852409155095,
          "y": 292.59209645398306
         },
         {
          "edge": 24,
          "pair": [
           "Javert",
           "Simplice"
          ],
          "source": "Javert",
          "target": "Simplice",
          "value": 1,
          "weight": 1,
          "x": 260.0136782779521,
          "y": 293.06428146178104
         },
         {
          "edge": 24,
          "pair": [
           "Javert",
           "Simplice"
          ],
          "source": "Javert",
          "target": "Simplice",
          "value": 1,
          "weight": 1,
          "x": 239.00724391970112,
          "y": 286.23887681247055
         },
         {
          "edge": 25,
          "pair": [
           "Javert",
           "Woman1"
          ],
          "source": "Javert",
          "target": "Woman1",
          "value": 1,
          "weight": 1,
          "x": 260.0136782779521,
          "y": 293.06428146178104
         },
         {
          "edge": 25,
          "pair": [
           "Javert",
           "Woman1"
          ],
          "source": "Javert",
          "target": "Woman1",
          "value": 1,
          "weight": 1,
          "x": 230.23667092688518,
          "y": 274.1672180450126
         },
         {
          "edge": 26,
          "pair": [
           "Javert",
           "Woman2"
          ],
          "source": "Javert",
          "target": "Woman2",
          "value": 1,
          "weight": 1,
          "x": 260.0136782779521,
          "y": 293.06428146178104
         },
         {
          "edge": 26,
          "pair": [
           "Javert",
           "Woman2"
          ],
          "source": "Javert",
          "target": "Woman2",
          "value": 1,
          "weight": 1,
          "x": 228.36652218013492,
          "y": 259.3634862545323
         },
         {
          "edge": 27,
          "pair": [
           "Javert",
           "Toussaint"
          ],
          "source": "Javert",
          "target": "Toussaint",
          "value": 1,
          "weight": 1,
          "x": 260.0136782779521,
          "y": 293.06428146178104
         },
         {
          "edge": 27,
          "pair": [
           "Javert",
           "Toussaint"
          ],
          "source": "Javert",
          "target": "Toussaint",
          "value": 1,
          "weight": 1,
          "x": 287.18745787829477,
          "y": 255.66278576502293
         },
         {
          "edge": 28,
          "pair": [
           "Fauchelevent",
           "MotherInnocent"
          ],
          "source": "Fauchelevent",
          "target": "MotherInnocent",
          "value": 3,
          "weight": 3,
          "x": 252.50852409155095,
          "y": 292.59209645398306
         },
         {
          "edge": 28,
          "pair": [
           "Fauchelevent",
           "MotherInnocent"
          ],
          "source": "Fauchelevent",
          "target": "MotherInnocent",
          "value": 3,
          "weight": 3,
          "x": 230.23666913874587,
          "y": 252.0797439482669
         },
         {
          "edge": 29,
          "pair": [
           "Fauchelevent",
           "Gribier"
          ],
          "source": "Fauchelevent",
          "target": "Gribier",
          "value": 2,
          "weight": 2,
          "x": 252.50852409155095,
          "y": 292.59209645398306
         },
         {
          "edge": 29,
          "pair": [
           "Fauchelevent",
           "Gribier"
          ],
          "source": "Fauchelevent",
          "target": "Gribier",
          "value": 2,
          "weight": 2,
          "x": 233.85945548098644,
          "y": 245.4899212890814
         },
         {
          "edge": 30,
          "pair": [
           "Perpetue",
           "Simplice"
          ],
          "source": "Perpetue",
          "target": "Simplice",
          "value": 2,
          "weight": 2,
          "x": 245.35658240483392,
          "y": 290.2682896108612
         },
         {
          "edge": 30,
          "pair": [
           "Perpetue",
           "Simplice"
          ],
          "source": "Perpetue",
          "target": "Simplice",
          "value": 2,
          "weight": 2,
          "x": 239.00724391970112,
          "y": 286.23887681247055
         },
         {
          "edge": 31,
          "pair": [
           "Pontmercy",
           "MmePontmercy"
          ],
          "source": "Pontmercy",
          "target": "MmePontmercy",
          "value": 1,
          "weight": 1,
          "x": 228.36652218013492,
          "y": 266.8834757387472
         },
         {
          "edge": 31,
          "pair": [
           "Pontmercy",
           "MmePontmercy"
          ],
          "source": "Pontmercy",
          "target": "MmePontmercy",
          "value": 1,
          "weight": 1,
          "x": 260.01368006609147,
          "y": 233.18267874335913
         },
         {
          "edge": 32,
          "pair": [
           "Pontmercy",
           "Marius"
          ],
          "source": "Pontmercy",
          "target": "Marius",
          "value": 1,
          "weight": 1,
          "x": 228.36652218013492,
          "y": 266.8834757387472
         },
         {
          "edge": 32,
          "pair": [
           "Pontmercy",
           "Marius"
          ],
          "source": "Pontmercy",
          "target": "Marius",
          "value": 1,
          "weight": 1,
          "x": 279.9990180330167,
          "y": 242.5870648683737
         },
         {
          "edge": 33,
          "pair": [
           "Gillenormand",
           "Magnon"
          ],
          "source": "Gillenormand",
          "target": "Magnon",
          "value": 1,
          "weight": 1,
          "x": 239.00724928411907,
          "y": 240.00807981639102
         },
         {
          "edge": 33,
          "pair": [
           "Gillenormand",
           "Magnon"
          ],
          "source": "Gillenormand",
          "target": "Magnon",
          "value": 1,
          "weight": 1,
          "x": 245.35657972262493,
          "y": 235.978670594279
         },
         {
          "edge": 34,
          "pair": [
           "Gillenormand",
           "MlleGillenormand"
          ],
          "source": "Gillenormand",
          "target": "MlleGillenormand",
          "value": 9,
          "weight": 9,
          "x": 239.00724928411907,
          "y": 240.00807981639102
         },
         {
          "edge": 34,
          "pair": [
           "Gillenormand",
           "MlleGillenormand"
          ],
          "source": "Gillenormand",
          "target": "MlleGillenormand",
          "value": 9,
          "weight": 9,
          "x": 252.50852230341164,
          "y": 233.6548637511571
         },
         {
          "edge": 35,
          "pair": [
           "Gillenormand",
           "LtGillenormand"
          ],
          "source": "Gillenormand",
          "target": "LtGillenormand",
          "value": 1,
          "weight": 1,
          "x": 239.00724928411907,
          "y": 240.00807981639102
         },
         {
          "edge": 35,
          "pair": [
           "Gillenormand",
           "LtGillenormand"
          ],
          "source": "Gillenormand",
          "target": "LtGillenormand",
          "value": 1,
          "weight": 1,
          "x": 274.204760012043,
          "y": 237.79363914995648
         },
         {
          "edge": 36,
          "pair": [
           "Gillenormand",
           "Marius"
          ],
          "source": "Gillenormand",
          "target": "Marius",
          "value": 12,
          "weight": 12,
          "x": 239.00724928411907,
          "y": 240.00807981639102
         },
         {
          "edge": 36,
          "pair": [
           "Gillenormand",
           "Marius"
          ],
          "source": "Gillenormand",
          "target": "Marius",
          "value": 12,
          "weight": 12,
          "x": 279.9990180330167,
          "y": 242.5870648683737
         },
         {
          "edge": 37,
          "pair": [
           "Gillenormand",
           "BaronessT"
          ],
          "source": "Gillenormand",
          "target": "BaronessT",
          "value": 1,
          "weight": 1,
          "x": 239.00724928411907,
          "y": 240.00807981639102
         },
         {
          "edge": 37,
          "pair": [
           "Gillenormand",
           "BaronessT"
          ],
          "source": "Gillenormand",
          "target": "BaronessT",
          "value": 1,
          "weight": 1,
          "x": 284.41916251720045,
          "y": 248.670869135812
         },
         {
          "edge": 38,
          "pair": [
           "MlleGillenormand",
           "MmePontmercy"
          ],
          "source": "MlleGillenormand",
          "target": "MmePontmercy",
          "value": 1,
          "weight": 1,
          "x": 252.50852230341164,
          "y": 233.6548637511571
         },
         {
          "edge": 38,
          "pair": [
           "MlleGillenormand",
           "MmePontmercy"
          ],
          "source": "MlleGillenormand",
          "target": "MmePontmercy",
          "value": 1,
          "weight": 1,
          "x": 260.01368006609147,
          "y": 233.18267874335913
         },
         {
          "edge": 39,
          "pair": [
           "MlleGillenormand",
           "MlleVaubois"
          ],
          "source": "MlleGillenormand",
          "target": "MlleVaubois",
          "value": 1,
          "weight": 1,
          "x": 252.50852230341164,
          "y": 233.6548637511571
         },
         {
          "edge": 39,
          "pair": [
           "MlleGillenormand",
           "MlleVaubois"
          ],
          "source": "MlleGillenormand",
          "target": "MlleVaubois",
          "value": 1,
          "weight": 1,
          "x": 267.4004768643026,
          "y": 234.59178616651266
         },
         {
          "edge": 40,
          "pair": [
           "MlleGillenormand",
           "LtGillenormand"
          ],
          "source": "MlleGillenormand",
          "target": "LtGillenormand",
          "value": 2,
          "weight": 2,
          "x": 252.50852230341164,
          "y": 233.6548637511571
         },
         {
          "edge": 40,
          "pair": [
           "MlleGillenormand",
           "LtGillenormand"
          ],
          "source": "MlleGillenormand",
          "target": "LtGillenormand",
          "value": 2,
          "weight": 2,
          "x": 274.204760012043,
          "y": 237.79363914995648
         },
         {
          "edge": 41,
          "pair": [
           "MlleGillenormand",
           "Marius"
          ],
          "source": "MlleGillenormand",
          "target": "Marius",
          "value": 6,
          "weight": 6,
          "x": 252.50852230341164,
          "y": 233.6548637511571
         },
         {
          "edge": 41,
          "pair": [
           "MlleGillenormand",
           "Marius"
          ],
          "source": "MlleGillenormand",
          "target": "Marius",
          "value": 6,
          "weight": 6,
          "x": 279.9990180330167,
          "y": 242.5870648683737
         },
         {
          "edge": 42,
          "pair": [
           "LtGillenormand",
           "Marius"
          ],
          "source": "LtGillenormand",
          "target": "Marius",
          "value": 1,
          "weight": 1,
          "x": 274.204760012043,
          "y": 237.79363914995648
         },
         {
          "edge": 42,
          "pair": [
           "LtGillenormand",
           "Marius"
          ],
          "source": "LtGillenormand",
          "target": "Marius",
          "value": 1,
          "weight": 1,
          "x": 279.9990180330167,
          "y": 242.5870648683737
         },
         {
          "edge": 43,
          "pair": [
           "Marius",
           "BaronessT"
          ],
          "source": "Marius",
          "target": "BaronessT",
          "value": 1,
          "weight": 1,
          "x": 279.9990180330167,
          "y": 242.5870648683737
         },
         {
          "edge": 43,
          "pair": [
           "Marius",
           "BaronessT"
          ],
          "source": "Marius",
          "target": "BaronessT",
          "value": 1,
          "weight": 1,
          "x": 284.41916251720045,
          "y": 248.670869135812
         }
        ],
        "data-23a28d000d3bd3cd1f2b36493de8a35c": [
         {
          "__combo_group_value": "3",
          "__node_r": 2.5,
          "__node_size": 25,
          "group": "3",
          "name": "Bamatabois",
          "x": 60.61840244458922,
          "y": 56.13613811299185
         },
         {
          "__combo_group_value": "3",
          "__node_r": 2.5,
          "__node_size": 25,
          "group": "3",
          "name": "Judge",
          "x": 51.59842421434105,
          "y": 71.7591985545988
         },
         {
          "__combo_group_value": "3",
          "__node_r": 2.5,
          "__node_size": 25,
          "group": "3",
          "name": "Champmathieu",
          "x": 33.55846829147728,
          "y": 71.75919747933366
         },
         {
          "__combo_group_value": "3",
          "__node_r": 2.5,
          "__node_size": 25,
          "group": "3",
          "name": "Brevet",
          "x": 24.53849167412681,
          "y": 56.13613653588886
         },
         {
          "__combo_group_value": "3",
          "__node_r": 2.5,
          "__node_size": 25,
          "group": "3",
          "name": "Chenildieu",
          "x": 33.55847097964011,
          "y": 40.51307767138489
         },
         {
          "__combo_group_value": "3",
          "__node_r": 2.5,
          "__node_size": 25,
          "group": "3",
          "name": "Cochepaille",
          "x": 51.59842313907592,
          "y": 40.51307767138489
         }
        ],
        "data-355d6aacfb01b86613a4ae451e0642a0": [
         {
          "__combo_size": 7312,
          "__node_r": 42.7551166528639,
          "__node_size": 7312,
          "__y_label": 74.05414201662518,
          "group": "5",
          "x": 324.4698118664829,
          "y": 128.80925866948908
         }
        ],
        "data-3972fb86aa12d090901ad7e64deb4b66": [
         {
          "edge": 0,
          "pair": [
           "MmeThenardier",
           "Thenardier"
          ],
          "source": "MmeThenardier",
          "target": "Thenardier",
          "value": 13,
          "weight": 13,
          "x": 383.8356675275423,
          "y": 406.68134165988243
         },
         {
          "edge": 0,
          "pair": [
           "MmeThenardier",
           "Thenardier"
          ],
          "source": "MmeThenardier",
          "target": "Thenardier",
          "value": 13,
          "weight": 13,
          "x": 379.8005443605298,
          "y": 419.1001741597199
         },
         {
          "edge": 1,
          "pair": [
           "MmeThenardier",
           "Eponine"
          ],
          "source": "MmeThenardier",
          "target": "Eponine",
          "value": 2,
          "weight": 2,
          "x": 383.8356675275423,
          "y": 406.68134165988243
         },
         {
          "edge": 1,
          "pair": [
           "MmeThenardier",
           "Eponine"
          ],
          "source": "MmeThenardier",
          "target": "Eponine",
          "value": 2,
          "weight": 2,
          "x": 356.17851990280036,
          "y": 426.7754342708715
         },
         {
          "edge": 2,
          "pair": [
           "MmeThenardier",
           "Anzelma"
          ],
          "source": "MmeThenardier",
          "target": "Anzelma",
          "value": 1,
          "weight": 1,
          "x": 383.8356675275423,
          "y": 406.68134165988243
         },
         {
          "edge": 2,
          "pair": [
           "MmeThenardier",
           "Anzelma"
          ],
          "source": "MmeThenardier",
          "target": "Anzelma",
          "value": 1,
          "weight": 1,
          "x": 345.6144304784407,
          "y": 419.1001741597199
         },
         {
          "edge": 3,
          "pair": [
           "MmeThenardier",
           "Gueulemer"
          ],
          "source": "MmeThenardier",
          "target": "Gueulemer",
          "value": 1,
          "weight": 1,
          "x": 383.8356675275423,
          "y": 406.68134165988243
         },
         {
          "edge": 3,
          "pair": [
           "MmeThenardier",
           "Gueulemer"
          ],
          "source": "MmeThenardier",
          "target": "Gueulemer",
          "value": 1,
          "weight": 1,
          "x": 341.5793073114282,
          "y": 406.6813398127983
         },
         {
          "edge": 4,
          "pair": [
           "MmeThenardier",
           "Babet"
          ],
          "source": "MmeThenardier",
          "target": "Babet",
          "value": 1,
          "weight": 1,
          "x": 383.8356675275423,
          "y": 406.68134165988243
         },
         {
          "edge": 4,
          "pair": [
           "MmeThenardier",
           "Babet"
          ],
          "source": "MmeThenardier",
          "target": "Babet",
          "value": 1,
          "weight": 1,
          "x": 345.6144317377784,
          "y": 394.26250790070725
         },
         {
          "edge": 5,
          "pair": [
           "MmeThenardier",
           "Claquesous"
          ],
          "source": "MmeThenardier",
          "target": "Claquesous",
          "value": 1,
          "weight": 1,
          "x": 383.8356675275423,
          "y": 406.68134165988243
         },
         {
          "edge": 5,
          "pair": [
           "MmeThenardier",
           "Claquesous"
          ],
          "source": "MmeThenardier",
          "target": "Claquesous",
          "value": 1,
          "weight": 1,
          "x": 356.17851801379385,
          "y": 386.5872490488934
         },
         {
          "edge": 6,
          "pair": [
           "Thenardier",
           "Boulatruelle"
          ],
          "source": "Thenardier",
          "target": "Boulatruelle",
          "value": 1,
          "weight": 1,
          "x": 379.8005443605298,
          "y": 419.1001741597199
         },
         {
          "edge": 6,
          "pair": [
           "Thenardier",
           "Boulatruelle"
          ],
          "source": "Thenardier",
          "target": "Boulatruelle",
          "value": 1,
          "weight": 1,
          "x": 369.23645367683247,
          "y": 426.7754355302091
         },
         {
          "edge": 7,
          "pair": [
           "Thenardier",
           "Eponine"
          ],
          "source": "Thenardier",
          "target": "Eponine",
          "value": 3,
          "weight": 3,
          "x": 379.8005443605298,
          "y": 419.1001741597199
         },
         {
          "edge": 7,
          "pair": [
           "Thenardier",
           "Eponine"
          ],
          "source": "Thenardier",
          "target": "Eponine",
          "value": 3,
          "weight": 3,
          "x": 356.17851990280036,
          "y": 426.7754342708715
         },
         {
          "edge": 8,
          "pair": [
           "Thenardier",
           "Anzelma"
          ],
          "source": "Thenardier",
          "target": "Anzelma",
          "value": 2,
          "weight": 2,
          "x": 379.8005443605298,
          "y": 419.1001741597199
         },
         {
          "edge": 8,
          "pair": [
           "Thenardier",
           "Anzelma"
          ],
          "source": "Thenardier",
          "target": "Anzelma",
          "value": 2,
          "weight": 2,
          "x": 345.6144304784407,
          "y": 419.1001741597199
         },
         {
          "edge": 9,
          "pair": [
           "Thenardier",
           "Gueulemer"
          ],
          "source": "Thenardier",
          "target": "Gueulemer",
          "value": 5,
          "weight": 5,
          "x": 379.8005443605298,
          "y": 419.1001741597199
         },
         {
          "edge": 9,
          "pair": [
           "Thenardier",
           "Gueulemer"
          ],
          "source": "Thenardier",
          "target": "Gueulemer",
          "value": 5,
          "weight": 5,
          "x": 341.5793073114282,
          "y": 406.6813398127983
         },
         {
          "edge": 10,
          "pair": [
           "Thenardier",
           "Babet"
          ],
          "source": "Thenardier",
          "target": "Babet",
          "value": 6,
          "weight": 6,
          "x": 379.8005443605298,
          "y": 419.1001741597199
         },
         {
          "edge": 10,
          "pair": [
           "Thenardier",
           "Babet"
          ],
          "source": "Thenardier",
          "target": "Babet",
          "value": 6,
          "weight": 6,
          "x": 345.6144317377784,
          "y": 394.26250790070725
         },
         {
          "edge": 11,
          "pair": [
           "Thenardier",
           "Claquesous"
          ],
          "source": "Thenardier",
          "target": "Claquesous",
          "value": 4,
          "weight": 4,
          "x": 379.8005443605298,
          "y": 419.1001741597199
         },
         {
          "edge": 11,
          "pair": [
           "Thenardier",
           "Claquesous"
          ],
          "source": "Thenardier",
          "target": "Claquesous",
          "value": 4,
          "weight": 4,
          "x": 356.17851801379385,
          "y": 386.5872490488934
         },
         {
          "edge": 12,
          "pair": [
           "Thenardier",
           "Montparnasse"
          ],
          "source": "Thenardier",
          "target": "Montparnasse",
          "value": 1,
          "weight": 1,
          "x": 379.8005443605298,
          "y": 419.1001741597199
         },
         {
          "edge": 12,
          "pair": [
           "Thenardier",
           "Montparnasse"
          ],
          "source": "Thenardier",
          "target": "Montparnasse",
          "value": 1,
          "weight": 1,
          "x": 369.2364568251766,
          "y": 386.5872490488934
         },
         {
          "edge": 13,
          "pair": [
           "Thenardier",
           "Brujon"
          ],
          "source": "Thenardier",
          "target": "Brujon",
          "value": 3,
          "weight": 3,
          "x": 379.8005443605298,
          "y": 419.1001741597199
         },
         {
          "edge": 13,
          "pair": [
           "Thenardier",
           "Brujon"
          ],
          "source": "Thenardier",
          "target": "Brujon",
          "value": 3,
          "weight": 3,
          "x": 379.80054310119215,
          "y": 394.26250790070725
         },
         {
          "edge": 14,
          "pair": [
           "Eponine",
           "Anzelma"
          ],
          "source": "Eponine",
          "target": "Anzelma",
          "value": 2,
          "weight": 2,
          "x": 356.17851990280036,
          "y": 426.7754342708715
         },
         {
          "edge": 14,
          "pair": [
           "Eponine",
           "Anzelma"
          ],
          "source": "Eponine",
          "target": "Anzelma",
          "value": 2,
          "weight": 2,
          "x": 345.6144304784407,
          "y": 419.1001741597199
         },
         {
          "edge": 15,
          "pair": [
           "Eponine",
           "Gueulemer"
          ],
          "source": "Eponine",
          "target": "Gueulemer",
          "value": 1,
          "weight": 1,
          "x": 356.17851990280036,
          "y": 426.7754342708715
         },
         {
          "edge": 15,
          "pair": [
           "Eponine",
           "Gueulemer"
          ],
          "source": "Eponine",
          "target": "Gueulemer",
          "value": 1,
          "weight": 1,
          "x": 341.5793073114282,
          "y": 406.6813398127983
         },
         {
          "edge": 16,
          "pair": [
           "Eponine",
           "Babet"
          ],
          "source": "Eponine",
          "target": "Babet",
          "value": 1,
          "weight": 1,
          "x": 356.17851990280036,
          "y": 426.7754342708715
         },
         {
          "edge": 16,
          "pair": [
           "Eponine",
           "Babet"
          ],
          "source": "Eponine",
          "target": "Babet",
          "value": 1,
          "weight": 1,
          "x": 345.6144317377784,
          "y": 394.26250790070725
         },
         {
          "edge": 17,
          "pair": [
           "Eponine",
           "Claquesous"
          ],
          "source": "Eponine",
          "target": "Claquesous",
          "value": 1,
          "weight": 1,
          "x": 356.17851990280036,
          "y": 426.7754342708715
         },
         {
          "edge": 17,
          "pair": [
           "Eponine",
           "Claquesous"
          ],
          "source": "Eponine",
          "target": "Claquesous",
          "value": 1,
          "weight": 1,
          "x": 356.17851801379385,
          "y": 386.5872490488934
         },
         {
          "edge": 18,
          "pair": [
           "Eponine",
           "Montparnasse"
          ],
          "source": "Eponine",
          "target": "Montparnasse",
          "value": 1,
          "weight": 1,
          "x": 356.17851990280036,
          "y": 426.7754342708715
         },
         {
          "edge": 18,
          "pair": [
           "Eponine",
           "Montparnasse"
          ],
          "source": "Eponine",
          "target": "Montparnasse",
          "value": 1,
          "weight": 1,
          "x": 369.2364568251766,
          "y": 386.5872490488934
         },
         {
          "edge": 19,
          "pair": [
           "Eponine",
           "Brujon"
          ],
          "source": "Eponine",
          "target": "Brujon",
          "value": 1,
          "weight": 1,
          "x": 356.17851990280036,
          "y": 426.7754342708715
         },
         {
          "edge": 19,
          "pair": [
           "Eponine",
           "Brujon"
          ],
          "source": "Eponine",
          "target": "Brujon",
          "value": 1,
          "weight": 1,
          "x": 379.80054310119215,
          "y": 394.26250790070725
         },
         {
          "edge": 20,
          "pair": [
           "Gueulemer",
           "Babet"
          ],
          "source": "Gueulemer",
          "target": "Babet",
          "value": 6,
          "weight": 6,
          "x": 341.5793073114282,
          "y": 406.6813398127983
         },
         {
          "edge": 20,
          "pair": [
           "Gueulemer",
           "Babet"
          ],
          "source": "Gueulemer",
          "target": "Babet",
          "value": 6,
          "weight": 6,
          "x": 345.6144317377784,
          "y": 394.26250790070725
         },
         {
          "edge": 21,
          "pair": [
           "Gueulemer",
           "Claquesous"
          ],
          "source": "Gueulemer",
          "target": "Claquesous",
          "value": 4,
          "weight": 4,
          "x": 341.5793073114282,
          "y": 406.6813398127983
         },
         {
          "edge": 21,
          "pair": [
           "Gueulemer",
           "Claquesous"
          ],
          "source": "Gueulemer",
          "target": "Claquesous",
          "value": 4,
          "weight": 4,
          "x": 356.17851801379385,
          "y": 386.5872490488934
         },
         {
          "edge": 22,
          "pair": [
           "Gueulemer",
           "Montparnasse"
          ],
          "source": "Gueulemer",
          "target": "Montparnasse",
          "value": 2,
          "weight": 2,
          "x": 341.5793073114282,
          "y": 406.6813398127983
         },
         {
          "edge": 22,
          "pair": [
           "Gueulemer",
           "Montparnasse"
          ],
          "source": "Gueulemer",
          "target": "Montparnasse",
          "value": 2,
          "weight": 2,
          "x": 369.2364568251766,
          "y": 386.5872490488934
         },
         {
          "edge": 23,
          "pair": [
           "Gueulemer",
           "Brujon"
          ],
          "source": "Gueulemer",
          "target": "Brujon",
          "value": 3,
          "weight": 3,
          "x": 341.5793073114282,
          "y": 406.6813398127983
         },
         {
          "edge": 23,
          "pair": [
           "Gueulemer",
           "Brujon"
          ],
          "source": "Gueulemer",
          "target": "Brujon",
          "value": 3,
          "weight": 3,
          "x": 379.80054310119215,
          "y": 394.26250790070725
         },
         {
          "edge": 24,
          "pair": [
           "Babet",
           "Claquesous"
          ],
          "source": "Babet",
          "target": "Claquesous",
          "value": 4,
          "weight": 4,
          "x": 345.6144317377784,
          "y": 394.26250790070725
         },
         {
          "edge": 24,
          "pair": [
           "Babet",
           "Claquesous"
          ],
          "source": "Babet",
          "target": "Claquesous",
          "value": 4,
          "weight": 4,
          "x": 356.17851801379385,
          "y": 386.5872490488934
         },
         {
          "edge": 25,
          "pair": [
           "Babet",
           "Montparnasse"
          ],
          "source": "Babet",
          "target": "Montparnasse",
          "value": 2,
          "weight": 2,
          "x": 345.6144317377784,
          "y": 394.26250790070725
         },
         {
          "edge": 25,
          "pair": [
           "Babet",
           "Montparnasse"
          ],
          "source": "Babet",
          "target": "Montparnasse",
          "value": 2,
          "weight": 2,
          "x": 369.2364568251766,
          "y": 386.5872490488934
         },
         {
          "edge": 26,
          "pair": [
           "Babet",
           "Brujon"
          ],
          "source": "Babet",
          "target": "Brujon",
          "value": 3,
          "weight": 3,
          "x": 345.6144317377784,
          "y": 394.26250790070725
         },
         {
          "edge": 26,
          "pair": [
           "Babet",
           "Brujon"
          ],
          "source": "Babet",
          "target": "Brujon",
          "value": 3,
          "weight": 3,
          "x": 379.80054310119215,
          "y": 394.26250790070725
         },
         {
          "edge": 27,
          "pair": [
           "Claquesous",
           "Montparnasse"
          ],
          "source": "Claquesous",
          "target": "Montparnasse",
          "value": 2,
          "weight": 2,
          "x": 356.17851801379385,
          "y": 386.5872490488934
         },
         {
          "edge": 27,
          "pair": [
           "Claquesous",
           "Montparnasse"
          ],
          "source": "Claquesous",
          "target": "Montparnasse",
          "value": 2,
          "weight": 2,
          "x": 369.2364568251766,
          "y": 386.5872490488934
         },
         {
          "edge": 28,
          "pair": [
           "Claquesous",
           "Brujon"
          ],
          "source": "Claquesous",
          "target": "Brujon",
          "value": 1,
          "weight": 1,
          "x": 356.17851801379385,
          "y": 386.5872490488934
         },
         {
          "edge": 28,
          "pair": [
           "Claquesous",
           "Brujon"
          ],
          "source": "Claquesous",
          "target": "Brujon",
          "value": 1,
          "weight": 1,
          "x": 379.80054310119215,
          "y": 394.26250790070725
         },
         {
          "edge": 29,
          "pair": [
           "Montparnasse",
           "Brujon"
          ],
          "source": "Montparnasse",
          "target": "Brujon",
          "value": 1,
          "weight": 1,
          "x": 369.2364568251766,
          "y": 386.5872490488934
         },
         {
          "edge": 29,
          "pair": [
           "Montparnasse",
           "Brujon"
          ],
          "source": "Montparnasse",
          "target": "Brujon",
          "value": 1,
          "weight": 1,
          "x": 379.80054310119215,
          "y": 394.26250790070725
         }
        ],
        "data-3c564846f7d5527922c3210fe8fc2783": [
         {
          "__combo_group_value": "0",
          "__node_r": 2.5,
          "__node_size": 25,
          "group": "0",
          "name": "Myriel",
          "x": 70.8190447750309,
          "y": 349.2267965965995
         },
         {
          "__combo_group_value": "0",
          "__node_r": 2.5,
          "__node_size": 25,
          "group": "0",
          "name": "Napoleon",
          "x": 66.78392160801842,
          "y": 361.645629096437
         },
         {
          "__combo_group_value": "0",
          "__node_r": 2.5,
          "__node_size": 25,
          "group": "0",
          "name": "MlleBaptistine",
          "x": 56.21983092432106,
          "y": 369.3208904669262
         },
         {
          "__combo_group_value": "0",
          "__node_r": 2.5,
          "__node_size": 25,
          "group": "0",
          "name": "MmeMagloire",
          "x": 43.16189715028897,
          "y": 369.32088920758855
         },
         {
          "__combo_group_value": "0",
          "__node_r": 2.5,
          "__node_size": 25,
          "group": "0",
          "name": "CountessDeLo",
          "x": 32.597807725929286,
          "y": 361.645629096437
         },
         {
          "__combo_group_value": "0",
          "__node_r": 2.5,
          "__node_size": 25,
          "group": "0",
          "name": "Geborand",
          "x": 28.56268455891681,
          "y": 349.22679474951536
         },
         {
          "__combo_group_value": "0",
          "__node_r": 2.5,
          "__node_size": 25,
          "group": "0",
          "name": "Champtercier",
          "x": 32.59780898526695,
          "y": 336.8079628374243
         },
         {
          "__combo_group_value": "0",
          "__node_r": 2.5,
          "__node_size": 25,
          "group": "0",
          "name": "Cravatte",
          "x": 43.16189526128247,
          "y": 329.1327039856105
         },
         {
          "__combo_group_value": "0",
          "__node_r": 2.5,
          "__node_size": 25,
          "group": "0",
          "name": "Count",
          "x": 56.219834072665236,
          "y": 329.1327039856105
         },
         {
          "__combo_group_value": "0",
          "__node_r": 2.5,
          "__node_size": 25,
          "group": "0",
          "name": "OldMan",
          "x": 66.78392034868075,
          "y": 336.8079628374243
         }
        ],
        "data-4513146e2fe3ad80d3d939e634335160": [
         {
          "__combo_size": 4624,
          "__node_r": 34,
          "__node_size": 4624,
          "__y_label": 157.72896108834283,
          "group": "2",
          "x": 600,
          "y": 203.72896108834283
         }
        ],
        "data-7ef89b2c70aa73ca6c1661c35a9682fd": [
         {
          "__combo_group_value": "1",
          "__node_r": 2.5,
          "__node_size": 25,
          "group": "1",
          "name": "Labarre",
          "x": 288.1299628645868,
          "y": 263.1234801025701
         },
         {
          "__combo_group_value": "1",
          "__node_r": 2.5,
          "__node_size": 25,
          "group": "1",
          "name": "Valjean",
          "x": 287.18745787829477,
          "y": 270.5841771223262
         },
         {
          "__combo_group_value": "1",
          "__node_r": 2.5,
          "__node_size": 25,
          "group": "1",
          "name": "MmeDeR",
          "x": 284.41916251720045,
          "y": 277.57609106932813
         },
         {
          "__combo_group_value": "1",
          "__node_r": 2.5,
          "__node_size": 25,
          "group": "1",
          "name": "Isabeau",
          "x": 279.9990216092953,
          "y": 283.65989354862717
         },
         {
          "__combo_group_value": "1",
          "__node_r": 2.5,
          "__node_size": 25,
          "group": "1",
          "name": "Gervais",
          "x": 274.20476537646095,
          "y": 288.4533192670444
         },
         {
          "__combo_group_value": "1",
          "__node_r": 2.5,
          "__node_size": 25,
          "group": "1",
          "name": "Cosette",
          "x": 267.4004723939543,
          "y": 291.6551758267668
         },
         {
          "__combo_group_value": "1",
          "__node_r": 2.5,
          "__node_size": 25,
          "group": "1",
          "name": "Javert",
          "x": 260.0136782779521,
          "y": 293.06428146178104
         },
         {
          "__combo_group_value": "1",
          "__node_r": 2.5,
          "__node_size": 25,
          "group": "1",
          "name": "Fauchelevent",
          "x": 252.50852409155095,
          "y": 292.59209645398306
         },
         {
          "__combo_group_value": "1",
          "__node_r": 2.5,
          "__node_size": 25,
          "group": "1",
          "name": "Perpetue",
          "x": 245.35658240483392,
          "y": 290.2682896108612
         },
         {
          "__combo_group_value": "1",
          "__node_r": 2.5,
          "__node_size": 25,
          "group": "1",
          "name": "Simplice",
          "x": 239.00724391970112,
          "y": 286.23887681247055
         },
         {
          "__combo_group_value": "1",
          "__node_r": 2.5,
          "__node_size": 25,
          "group": "1",
          "name": "Scaufflaire",
          "x": 233.85945369284713,
          "y": 280.7570371279195
         },
         {
          "__combo_group_value": "1",
          "__node_r": 2.5,
          "__node_size": 25,
          "group": "1",
          "name": "Woman1",
          "x": 230.23667092688518,
          "y": 274.1672180450126
         },
         {
          "__combo_group_value": "1",
          "__node_r": 2.5,
          "__node_size": 25,
          "group": "1",
          "name": "Pontmercy",
          "x": 228.36652218013492,
          "y": 266.8834757387472
         },
         {
          "__combo_group_value": "1",
          "__node_r": 2.5,
          "__node_size": 25,
          "group": "1",
          "name": "Woman2",
          "x": 228.36652218013492,
          "y": 259.3634862545323
         },
         {
          "__combo_group_value": "1",
          "__node_r": 2.5,
          "__node_size": 25,
          "group": "1",
          "name": "MotherInnocent",
          "x": 230.23666913874587,
          "y": 252.0797439482669
         },
         {
          "__combo_group_value": "1",
          "__node_r": 2.5,
          "__node_size": 25,
          "group": "1",
          "name": "Gribier",
          "x": 233.85945548098644,
          "y": 245.4899212890814
         },
         {
          "__combo_group_value": "1",
          "__node_r": 2.5,
          "__node_size": 25,
          "group": "1",
          "name": "Gillenormand",
          "x": 239.00724928411907,
          "y": 240.00807981639102
         },
         {
          "__combo_group_value": "1",
          "__node_r": 2.5,
          "__node_size": 25,
          "group": "1",
          "name": "Magnon",
          "x": 245.35657972262493,
          "y": 235.978670594279
         },
         {
          "__combo_group_value": "1",
          "__node_r": 2.5,
          "__node_size": 25,
          "group": "1",
          "name": "MlleGillenormand",
          "x": 252.50852230341164,
          "y": 233.6548637511571
         },
         {
          "__combo_group_value": "1",
          "__node_r": 2.5,
          "__node_size": 25,
          "group": "1",
          "name": "MmePontmercy",
          "x": 260.01368006609147,
          "y": 233.18267874335913
         },
         {
          "__combo_group_value": "1",
          "__node_r": 2.5,
          "__node_size": 25,
          "group": "1",
          "name": "MlleVaubois",
          "x": 267.4004768643026,
          "y": 234.59178616651266
         },
         {
          "__combo_group_value": "1",
          "__node_r": 2.5,
          "__node_size": 25,
          "group": "1",
          "name": "LtGillenormand",
          "x": 274.204760012043,
          "y": 237.79363914995648
         },
         {
          "__combo_group_value": "1",
          "__node_r": 2.5,
          "__node_size": 25,
          "group": "1",
          "name": "Marius",
          "x": 279.9990180330167,
          "y": 242.5870648683737
         },
         {
          "__combo_group_value": "1",
          "__node_r": 2.5,
          "__node_size": 25,
          "group": "1",
          "name": "BaronessT",
          "x": 284.41916251720045,
          "y": 248.670869135812
         },
         {
          "__combo_group_value": "1",
          "__node_r": 2.5,
          "__node_size": 25,
          "group": "1",
          "name": "Toussaint",
          "x": 287.18745787829477,
          "y": 255.66278576502293
         }
        ],
        "data-8848e4190ee93baac443bf047cc724c4": [
         {
          "edge": 0,
          "pair": [
           "Marguerite",
           "Fantine"
          ],
          "source": "Marguerite",
          "target": "Fantine",
          "value": 2,
          "weight": 2,
          "x": 620.4,
          "y": 203.72896149365442
         },
         {
          "edge": 0,
          "pair": [
           "Marguerite",
           "Fantine"
          ],
          "source": "Marguerite",
          "target": "Fantine",
          "value": 2,
          "weight": 2,
          "x": 615.6273041325986,
          "y": 190.61609138796976
         },
         {
          "edge": 1,
          "pair": [
           "Tholomyes",
           "Listolier"
          ],
          "source": "Tholomyes",
          "target": "Listolier",
          "value": 4,
          "weight": 4,
          "x": 615.6273065644681,
          "y": 216.84182795153484
         },
         {
          "edge": 1,
          "pair": [
           "Tholomyes",
           "Listolier"
          ],
          "source": "Tholomyes",
          "target": "Listolier",
          "value": 4,
          "weight": 4,
          "x": 603.5424238665738,
          "y": 223.8190390469129
         },
         {
          "edge": 2,
          "pair": [
           "Tholomyes",
           "Fameuil"
          ],
          "source": "Tholomyes",
          "target": "Fameuil",
          "value": 4,
          "weight": 4,
          "x": 615.6273065644681,
          "y": 216.84182795153484
         },
         {
          "edge": 2,
          "pair": [
           "Tholomyes",
           "Fameuil"
          ],
          "source": "Tholomyes",
          "target": "Fameuil",
          "value": 4,
          "weight": 4,
          "x": 589.799998986721,
          "y": 221.39587929676364
         },
         {
          "edge": 3,
          "pair": [
           "Tholomyes",
           "Blacheville"
          ],
          "source": "Tholomyes",
          "target": "Blacheville",
          "value": 4,
          "weight": 4,
          "x": 615.6273065644681,
          "y": 216.84182795153484
         },
         {
          "edge": 3,
          "pair": [
           "Tholomyes",
           "Blacheville"
          ],
          "source": "Tholomyes",
          "target": "Blacheville",
          "value": 4,
          "weight": 4,
          "x": 580.8302708862208,
          "y": 210.70617380496722
         },
         {
          "edge": 4,
          "pair": [
           "Tholomyes",
           "Favourite"
          ],
          "source": "Tholomyes",
          "target": "Favourite",
          "value": 3,
          "weight": 3,
          "x": 615.6273065644681,
          "y": 216.84182795153484
         },
         {
          "edge": 4,
          "pair": [
           "Tholomyes",
           "Favourite"
          ],
          "source": "Tholomyes",
          "target": "Favourite",
          "value": 3,
          "weight": 3,
          "x": 580.8302708862208,
          "y": 196.75175039827636
         },
         {
          "edge": 5,
          "pair": [
           "Tholomyes",
           "Dahlia"
          ],
          "source": "Tholomyes",
          "target": "Dahlia",
          "value": 3,
          "weight": 3,
          "x": 615.6273065644681,
          "y": 216.84182795153484
         },
         {
          "edge": 5,
          "pair": [
           "Tholomyes",
           "Dahlia"
          ],
          "source": "Tholomyes",
          "target": "Dahlia",
          "value": 3,
          "weight": 3,
          "x": 589.8000020265579,
          "y": 186.06204247461042
         },
         {
          "edge": 6,
          "pair": [
           "Tholomyes",
           "Zephine"
          ],
          "source": "Tholomyes",
          "target": "Zephine",
          "value": 3,
          "weight": 3,
          "x": 615.6273065644681,
          "y": 216.84182795153484
         },
         {
          "edge": 6,
          "pair": [
           "Tholomyes",
           "Zephine"
          ],
          "source": "Tholomyes",
          "target": "Zephine",
          "value": 3,
          "weight": 3,
          "x": 603.5424226506391,
          "y": 183.6388839403959
         },
         {
          "edge": 7,
          "pair": [
           "Tholomyes",
           "Fantine"
          ],
          "source": "Tholomyes",
          "target": "Fantine",
          "value": 3,
          "weight": 3,
          "x": 615.6273065644681,
          "y": 216.84182795153484
         },
         {
          "edge": 7,
          "pair": [
           "Tholomyes",
           "Fantine"
          ],
          "source": "Tholomyes",
          "target": "Fantine",
          "value": 3,
          "weight": 3,
          "x": 615.6273041325986,
          "y": 190.61609138796976
         },
         {
          "edge": 8,
          "pair": [
           "Listolier",
           "Fameuil"
          ],
          "source": "Listolier",
          "target": "Fameuil",
          "value": 4,
          "weight": 4,
          "x": 603.5424238665738,
          "y": 223.8190390469129
         },
         {
          "edge": 8,
          "pair": [
           "Listolier",
           "Fameuil"
          ],
          "source": "Listolier",
          "target": "Fameuil",
          "value": 4,
          "weight": 4,
          "x": 589.799998986721,
          "y": 221.39587929676364
         },
         {
          "edge": 9,
          "pair": [
           "Listolier",
           "Blacheville"
          ],
          "source": "Listolier",
          "target": "Blacheville",
          "value": 4,
          "weight": 4,
          "x": 603.5424238665738,
          "y": 223.8190390469129
         },
         {
          "edge": 9,
          "pair": [
           "Listolier",
           "Blacheville"
          ],
          "source": "Listolier",
          "target": "Blacheville",
          "value": 4,
          "weight": 4,
          "x": 580.8302708862208,
          "y": 210.70617380496722
         },
         {
          "edge": 10,
          "pair": [
           "Listolier",
           "Favourite"
          ],
          "source": "Listolier",
          "target": "Favourite",
          "value": 3,
          "weight": 3,
          "x": 603.5424238665738,
          "y": 223.8190390469129
         },
         {
          "edge": 10,
          "pair": [
           "Listolier",
           "Favourite"
          ],
          "source": "Listolier",
          "target": "Favourite",
          "value": 3,
          "weight": 3,
          "x": 580.8302708862208,
          "y": 196.75175039827636
         },
         {
          "edge": 11,
          "pair": [
           "Listolier",
           "Dahlia"
          ],
          "source": "Listolier",
          "target": "Dahlia",
          "value": 3,
          "weight": 3,
          "x": 603.5424238665738,
          "y": 223.8190390469129
         },
         {
          "edge": 11,
          "pair": [
           "Listolier",
           "Dahlia"
          ],
          "source": "Listolier",
          "target": "Dahlia",
          "value": 3,
          "weight": 3,
          "x": 589.8000020265579,
          "y": 186.06204247461042
         },
         {
          "edge": 12,
          "pair": [
           "Listolier",
           "Zephine"
          ],
          "source": "Listolier",
          "target": "Zephine",
          "value": 3,
          "weight": 3,
          "x": 603.5424238665738,
          "y": 223.8190390469129
         },
         {
          "edge": 12,
          "pair": [
           "Listolier",
           "Zephine"
          ],
          "source": "Listolier",
          "target": "Zephine",
          "value": 3,
          "weight": 3,
          "x": 603.5424226506391,
          "y": 183.6388839403959
         },
         {
          "edge": 13,
          "pair": [
           "Listolier",
           "Fantine"
          ],
          "source": "Listolier",
          "target": "Fantine",
          "value": 3,
          "weight": 3,
          "x": 603.5424238665738,
          "y": 223.8190390469129
         },
         {
          "edge": 13,
          "pair": [
           "Listolier",
           "Fantine"
          ],
          "source": "Listolier",
          "target": "Fantine",
          "value": 3,
          "weight": 3,
          "x": 615.6273041325986,
          "y": 190.61609138796976
         },
         {
          "edge": 14,
          "pair": [
           "Fameuil",
           "Blacheville"
          ],
          "source": "Fameuil",
          "target": "Blacheville",
          "value": 4,
          "weight": 4,
          "x": 589.799998986721,
          "y": 221.39587929676364
         },
         {
          "edge": 14,
          "pair": [
           "Fameuil",
           "Blacheville"
          ],
          "source": "Fameuil",
          "target": "Blacheville",
          "value": 4,
          "weight": 4,
          "x": 580.8302708862208,
          "y": 210.70617380496722
         },
         {
          "edge": 15,
          "pair": [
           "Fameuil",
           "Favourite"
          ],
          "source": "Fameuil",
          "target": "Favourite",
          "value": 3,
          "weight": 3,
          "x": 589.799998986721,
          "y": 221.39587929676364
         },
         {
          "edge": 15,
          "pair": [
           "Fameuil",
           "Favourite"
          ],
          "source": "Fameuil",
          "target": "Favourite",
          "value": 3,
          "weight": 3,
          "x": 580.8302708862208,
          "y": 196.75175039827636
         },
         {
          "edge": 16,
          "pair": [
           "Fameuil",
           "Dahlia"
          ],
          "source": "Fameuil",
          "target": "Dahlia",
          "value": 3,
          "weight": 3,
          "x": 589.799998986721,
          "y": 221.39587929676364
         },
         {
          "edge": 16,
          "pair": [
           "Fameuil",
           "Dahlia"
          ],
          "source": "Fameuil",
          "target": "Dahlia",
          "value": 3,
          "weight": 3,
          "x": 589.8000020265579,
          "y": 186.06204247461042
         },
         {
          "edge": 17,
          "pair": [
           "Fameuil",
           "Zephine"
          ],
          "source": "Fameuil",
          "target": "Zephine",
          "value": 3,
          "weight": 3,
          "x": 589.799998986721,
          "y": 221.39587929676364
         },
         {
          "edge": 17,
          "pair": [
           "Fameuil",
           "Zephine"
          ],
          "source": "Fameuil",
          "target": "Zephine",
          "value": 3,
          "weight": 3,
          "x": 603.5424226506391,
          "y": 183.6388839403959
         },
         {
          "edge": 18,
          "pair": [
           "Fameuil",
           "Fantine"
          ],
          "source": "Fameuil",
          "target": "Fantine",
          "value": 3,
          "weight": 3,
          "x": 589.799998986721,
          "y": 221.39587929676364
         },
         {
          "edge": 18,
          "pair": [
           "Fameuil",
           "Fantine"
          ],
          "source": "Fameuil",
          "target": "Fantine",
          "value": 3,
          "weight": 3,
          "x": 615.6273041325986,
          "y": 190.61609138796976
         },
         {
          "edge": 19,
          "pair": [
           "Blacheville",
           "Favourite"
          ],
          "source": "Blacheville",
          "target": "Favourite",
          "value": 4,
          "weight": 4,
          "x": 580.8302708862208,
          "y": 210.70617380496722
         },
         {
          "edge": 19,
          "pair": [
           "Blacheville",
           "Favourite"
          ],
          "source": "Blacheville",
          "target": "Favourite",
          "value": 4,
          "weight": 4,
          "x": 580.8302708862208,
          "y": 196.75175039827636
         },
         {
          "edge": 20,
          "pair": [
           "Blacheville",
           "Dahlia"
          ],
          "source": "Blacheville",
          "target": "Dahlia",
          "value": 3,
          "weight": 3,
          "x": 580.8302708862208,
          "y": 210.70617380496722
         },
         {
          "edge": 20,
          "pair": [
           "Blacheville",
           "Dahlia"
          ],
          "source": "Blacheville",
          "target": "Dahlia",
          "value": 3,
          "weight": 3,
          "x": 589.8000020265579,
          "y": 186.06204247461042
         },
         {
          "edge": 21,
          "pair": [
           "Blacheville",
           "Zephine"
          ],
          "source": "Blacheville",
          "target": "Zephine",
          "value": 3,
          "weight": 3,
          "x": 580.8302708862208,
          "y": 210.70617380496722
         },
         {
          "edge": 21,
          "pair": [
           "Blacheville",
           "Zephine"
          ],
          "source": "Blacheville",
          "target": "Zephine",
          "value": 3,
          "weight": 3,
          "x": 603.5424226506391,
          "y": 183.6388839403959
         },
         {
          "edge": 22,
          "pair": [
           "Blacheville",
           "Fantine"
          ],
          "source": "Blacheville",
          "target": "Fantine",
          "value": 3,
          "weight": 3,
          "x": 580.8302708862208,
          "y": 210.70617380496722
         },
         {
          "edge": 22,
          "pair": [
           "Blacheville",
           "Fantine"
          ],
          "source": "Blacheville",
          "target": "Fantine",
          "value": 3,
          "weight": 3,
          "x": 615.6273041325986,
          "y": 190.61609138796976
         },
         {
          "edge": 23,
          "pair": [
           "Favourite",
           "Dahlia"
          ],
          "source": "Favourite",
          "target": "Dahlia",
          "value": 5,
          "weight": 5,
          "x": 580.8302708862208,
          "y": 196.75175039827636
         },
         {
          "edge": 23,
          "pair": [
           "Favourite",
           "Dahlia"
          ],
          "source": "Favourite",
          "target": "Dahlia",
          "value": 5,
          "weight": 5,
          "x": 589.8000020265579,
          "y": 186.06204247461042
         },
         {
          "edge": 24,
          "pair": [
           "Favourite",
           "Zephine"
          ],
          "source": "Favourite",
          "target": "Zephine",
          "value": 4,
          "weight": 4,
          "x": 580.8302708862208,
          "y": 196.75175039827636
         },
         {
          "edge": 24,
          "pair": [
           "Favourite",
           "Zephine"
          ],
          "source": "Favourite",
          "target": "Zephine",
          "value": 4,
          "weight": 4,
          "x": 603.5424226506391,
          "y": 183.6388839403959
         },
         {
          "edge": 25,
          "pair": [
           "Favourite",
           "Fantine"
          ],
          "source": "Favourite",
          "target": "Fantine",
          "value": 4,
          "weight": 4,
          "x": 580.8302708862208,
          "y": 196.75175039827636
         },
         {
          "edge": 25,
          "pair": [
           "Favourite",
           "Fantine"
          ],
          "source": "Favourite",
          "target": "Fantine",
          "value": 4,
          "weight": 4,
          "x": 615.6273041325986,
          "y": 190.61609138796976
         },
         {
          "edge": 26,
          "pair": [
           "Dahlia",
           "Zephine"
          ],
          "source": "Dahlia",
          "target": "Zephine",
          "value": 4,
          "weight": 4,
          "x": 589.8000020265579,
          "y": 186.06204247461042
         },
         {
          "edge": 26,
          "pair": [
           "Dahlia",
           "Zephine"
          ],
          "source": "Dahlia",
          "target": "Zephine",
          "value": 4,
          "weight": 4,
          "x": 603.5424226506391,
          "y": 183.6388839403959
         },
         {
          "edge": 27,
          "pair": [
           "Dahlia",
           "Fantine"
          ],
          "source": "Dahlia",
          "target": "Fantine",
          "value": 4,
          "weight": 4,
          "x": 589.8000020265579,
          "y": 186.06204247461042
         },
         {
          "edge": 27,
          "pair": [
           "Dahlia",
           "Fantine"
          ],
          "source": "Dahlia",
          "target": "Fantine",
          "value": 4,
          "weight": 4,
          "x": 615.6273041325986,
          "y": 190.61609138796976
         },
         {
          "edge": 28,
          "pair": [
           "Zephine",
           "Fantine"
          ],
          "source": "Zephine",
          "target": "Fantine",
          "value": 4,
          "weight": 4,
          "x": 603.5424226506391,
          "y": 183.6388839403959
         },
         {
          "edge": 28,
          "pair": [
           "Zephine",
           "Fantine"
          ],
          "source": "Zephine",
          "target": "Fantine",
          "value": 4,
          "weight": 4,
          "x": 615.6273041325986,
          "y": 190.61609138796976
         }
        ],
        "data-9becee46c745c0f80491b384dcc59457": [
         {
          "__combo_size": 10000,
          "__node_r": 50,
          "__node_size": 10000,
          "__y_label": 201.1234800668073,
          "group": "1",
          "x": 258.1299628645868,
          "y": 263.1234800668073
         }
        ],
        "data-9d8469679a32f2716a7450fdf3520fb2": [
         {
          "__combo_size": 4960,
          "__node_r": 35.21363372331802,
          "__node_size": 4960,
          "__y_label": 359.46770762592223,
          "group": "4",
          "x": 362.7074872935515,
          "y": 406.68134134924026
         }
        ],
        "data-a294954f77a0b99f5d58265fc91b1b83": [
         {
          "__combo_group_value": "4",
          "__node_r": 2.5,
          "__node_size": 25,
          "group": "4",
          "name": "MmeThenardier",
          "x": 383.8356675275423,
          "y": 406.68134165988243
         },
         {
          "__combo_group_value": "4",
          "__node_r": 2.5,
          "__node_size": 25,
          "group": "4",
          "name": "Thenardier",
          "x": 379.8005443605298,
          "y": 419.1001741597199
         },
         {
          "__combo_group_value": "4",
          "__node_r": 2.5,
          "__node_size": 25,
          "group": "4",
          "name": "Boulatruelle",
          "x": 369.23645367683247,
          "y": 426.7754355302091
         },
         {
          "__combo_group_value": "4",
          "__node_r": 2.5,
          "__node_size": 25,
          "group": "4",
          "name": "Eponine",
          "x": 356.17851990280036,
          "y": 426.7754342708715
         },
         {
          "__combo_group_value": "4",
          "__node_r": 2.5,
          "__node_size": 25,
          "group": "4",
          "name": "Anzelma",
          "x": 345.6144304784407,
          "y": 419.1001741597199
         },
         {
          "__combo_group_value": "4",
          "__node_r": 2.5,
          "__node_size": 25,
          "group": "4",
          "name": "Gueulemer",
          "x": 341.5793073114282,
          "y": 406.6813398127983
         },
         {
          "__combo_group_value": "4",
          "__node_r": 2.5,
          "__node_size": 25,
          "group": "4",
          "name": "Babet",
          "x": 345.6144317377784,
          "y": 394.26250790070725
         },
         {
          "__combo_group_value": "4",
          "__node_r": 2.5,
          "__node_size": 25,
          "group": "4",
          "name": "Claquesous",
          "x": 356.17851801379385,
          "y": 386.5872490488934
         },
         {
          "__combo_group_value": "4",
          "__node_r": 2.5,
          "__node_size": 25,
          "group": "4",
          "name": "Montparnasse",
          "x": 369.2364568251766,
          "y": 386.5872490488934
         },
         {
          "__combo_group_value": "4",
          "__node_r": 2.5,
          "__node_size": 25,
          "group": "4",
          "name": "Brujon",
          "x": 379.80054310119215,
          "y": 394.26250790070725
         }
        ],
        "data-a789db16d662b025c354301d420145f2": [
         {
          "edge": 0,
          "pair": [
           "Myriel",
           "Napoleon"
          ],
          "source": "Myriel",
          "target": "Napoleon",
          "value": 1,
          "weight": 1,
          "x": 70.8190447750309,
          "y": 349.2267965965995
         },
         {
          "edge": 0,
          "pair": [
           "Myriel",
           "Napoleon"
          ],
          "source": "Myriel",
          "target": "Napoleon",
          "value": 1,
          "weight": 1,
          "x": 66.78392160801842,
          "y": 361.645629096437
         },
         {
          "edge": 1,
          "pair": [
           "Myriel",
           "MlleBaptistine"
          ],
          "source": "Myriel",
          "target": "MlleBaptistine",
          "value": 8,
          "weight": 8,
          "x": 70.8190447750309,
          "y": 349.2267965965995
         },
         {
          "edge": 1,
          "pair": [
           "Myriel",
           "MlleBaptistine"
          ],
          "source": "Myriel",
          "target": "MlleBaptistine",
          "value": 8,
          "weight": 8,
          "x": 56.21983092432106,
          "y": 369.3208904669262
         },
         {
          "edge": 2,
          "pair": [
           "Myriel",
           "MmeMagloire"
          ],
          "source": "Myriel",
          "target": "MmeMagloire",
          "value": 10,
          "weight": 10,
          "x": 70.8190447750309,
          "y": 349.2267965965995
         },
         {
          "edge": 2,
          "pair": [
           "Myriel",
           "MmeMagloire"
          ],
          "source": "Myriel",
          "target": "MmeMagloire",
          "value": 10,
          "weight": 10,
          "x": 43.16189715028897,
          "y": 369.32088920758855
         },
         {
          "edge": 3,
          "pair": [
           "Myriel",
           "CountessDeLo"
          ],
          "source": "Myriel",
          "target": "CountessDeLo",
          "value": 1,
          "weight": 1,
          "x": 70.8190447750309,
          "y": 349.2267965965995
         },
         {
          "edge": 3,
          "pair": [
           "Myriel",
           "CountessDeLo"
          ],
          "source": "Myriel",
          "target": "CountessDeLo",
          "value": 1,
          "weight": 1,
          "x": 32.597807725929286,
          "y": 361.645629096437
         },
         {
          "edge": 4,
          "pair": [
           "Myriel",
           "Geborand"
          ],
          "source": "Myriel",
          "target": "Geborand",
          "value": 1,
          "weight": 1,
          "x": 70.8190447750309,
          "y": 349.2267965965995
         },
         {
          "edge": 4,
          "pair": [
           "Myriel",
           "Geborand"
          ],
          "source": "Myriel",
          "target": "Geborand",
          "value": 1,
          "weight": 1,
          "x": 28.56268455891681,
          "y": 349.22679474951536
         },
         {
          "edge": 5,
          "pair": [
           "Myriel",
           "Champtercier"
          ],
          "source": "Myriel",
          "target": "Champtercier",
          "value": 1,
          "weight": 1,
          "x": 70.8190447750309,
          "y": 349.2267965965995
         },
         {
          "edge": 5,
          "pair": [
           "Myriel",
           "Champtercier"
          ],
          "source": "Myriel",
          "target": "Champtercier",
          "value": 1,
          "weight": 1,
          "x": 32.59780898526695,
          "y": 336.8079628374243
         },
         {
          "edge": 6,
          "pair": [
           "Myriel",
           "Cravatte"
          ],
          "source": "Myriel",
          "target": "Cravatte",
          "value": 1,
          "weight": 1,
          "x": 70.8190447750309,
          "y": 349.2267965965995
         },
         {
          "edge": 6,
          "pair": [
           "Myriel",
           "Cravatte"
          ],
          "source": "Myriel",
          "target": "Cravatte",
          "value": 1,
          "weight": 1,
          "x": 43.16189526128247,
          "y": 329.1327039856105
         },
         {
          "edge": 7,
          "pair": [
           "Myriel",
           "Count"
          ],
          "source": "Myriel",
          "target": "Count",
          "value": 2,
          "weight": 2,
          "x": 70.8190447750309,
          "y": 349.2267965965995
         },
         {
          "edge": 7,
          "pair": [
           "Myriel",
           "Count"
          ],
          "source": "Myriel",
          "target": "Count",
          "value": 2,
          "weight": 2,
          "x": 56.219834072665236,
          "y": 329.1327039856105
         },
         {
          "edge": 8,
          "pair": [
           "Myriel",
           "OldMan"
          ],
          "source": "Myriel",
          "target": "OldMan",
          "value": 1,
          "weight": 1,
          "x": 70.8190447750309,
          "y": 349.2267965965995
         },
         {
          "edge": 8,
          "pair": [
           "Myriel",
           "OldMan"
          ],
          "source": "Myriel",
          "target": "OldMan",
          "value": 1,
          "weight": 1,
          "x": 66.78392034868075,
          "y": 336.8079628374243
         },
         {
          "edge": 9,
          "pair": [
           "MlleBaptistine",
           "MmeMagloire"
          ],
          "source": "MlleBaptistine",
          "target": "MmeMagloire",
          "value": 6,
          "weight": 6,
          "x": 56.21983092432106,
          "y": 369.3208904669262
         },
         {
          "edge": 9,
          "pair": [
           "MlleBaptistine",
           "MmeMagloire"
          ],
          "source": "MlleBaptistine",
          "target": "MmeMagloire",
          "value": 6,
          "weight": 6,
          "x": 43.16189715028897,
          "y": 369.32088920758855
         }
        ],
        "data-ad9cd6846befa7f94d538d21d9f8db59": [
         {
          "__combo_group_value": "5",
          "__node_r": 2.5,
          "__node_size": 25,
          "group": "5",
          "name": "Jondrette",
          "x": 350.12288185820125,
          "y": 128.80925880440455
         },
         {
          "__combo_group_value": "5",
          "__node_r": 2.5,
          "__node_size": 25,
          "group": "5",
          "name": "MmeBurgon",
          "x": 348.39058725434063,
          "y": 138.07621643882487
         },
         {
          "__combo_group_value": "5",
          "__node_r": 2.5,
          "__node_size": 25,
          "group": "5",
          "name": "Gavroche",
          "x": 343.4276591158002,
          "y": 146.0916194786538
         },
         {
          "__combo_group_value": "5",
          "__node_r": 2.5,
          "__node_size": 25,
          "group": "5",
          "name": "Mabeuf",
          "x": 335.9043691003514,
          "y": 151.77294511041958
         },
         {
          "__combo_group_value": "5",
          "__node_r": 2.5,
          "__node_size": 25,
          "group": "5",
          "name": "Enjolras",
          "x": 326.83677925110726,
          "y": 154.35289631014228
         },
         {
          "__combo_group_value": "5",
          "__node_r": 2.5,
          "__node_size": 25,
          "group": "5",
          "name": "Combeferre",
          "x": 317.44951830473747,
          "y": 153.4830395520868
         },
         {
          "__combo_group_value": "5",
          "__node_r": 2.5,
          "__node_size": 25,
          "group": "5",
          "name": "Prouvaire",
          "x": 309.0103832966296,
          "y": 149.28084961145515
         },
         {
          "__combo_group_value": "5",
          "__node_r": 2.5,
          "__node_size": 25,
          "group": "5",
          "name": "Feuilly",
          "x": 302.6591338641692,
          "y": 142.31385951401796
         },
         {
          "__combo_group_value": "5",
          "__node_r": 2.5,
          "__node_size": 25,
          "group": "5",
          "name": "Courfeyrac",
          "x": 299.2535351005158,
          "y": 133.52299818802103
         },
         {
          "__combo_group_value": "5",
          "__node_r": 2.5,
          "__node_size": 25,
          "group": "5",
          "name": "Bahorel",
          "x": 299.2535351005158,
          "y": 124.09552094983017
         },
         {
          "__combo_group_value": "5",
          "__node_r": 2.5,
          "__node_size": 25,
          "group": "5",
          "name": "Bossuet",
          "x": 302.6591323351271,
          "y": 115.30465962383326
         },
         {
          "__combo_group_value": "5",
          "__node_r": 2.5,
          "__node_size": 25,
          "group": "5",
          "name": "Joly",
          "x": 309.0103817675875,
          "y": 108.33766952639607
         },
         {
          "__combo_group_value": "5",
          "__node_r": 2.5,
          "__node_size": 25,
          "group": "5",
          "name": "Grantaire",
          "x": 317.44951906925854,
          "y": 104.1354780567223
         },
         {
          "__combo_group_value": "5",
          "__node_r": 2.5,
          "__node_size": 25,
          "group": "5",
          "name": "MotherPlutarch",
          "x": 326.836774663981,
          "y": 103.26561976962473
         },
         {
          "__combo_group_value": "5",
          "__node_r": 2.5,
          "__node_size": 25,
          "group": "5",
          "name": "Child1",
          "x": 335.9043698648725,
          "y": 105.84557249838952
         },
         {
          "__combo_group_value": "5",
          "__node_r": 2.5,
          "__node_size": 25,
          "group": "5",
          "name": "Child2",
          "x": 343.42765452867394,
          "y": 111.52689354302905
         },
         {
          "__combo_group_value": "5",
          "__node_r": 2.5,
          "__node_size": 25,
          "group": "5",
          "name": "MmeHucheloup",
          "x": 348.39058725434063,
          "y": 119.54230040546322
         }
        ],
        "data-c726d725a9553acf3258c328cf2a6935": [
         {
          "__combo_group_value": "2",
          "__node_r": 2.5,
          "__node_size": 25,
          "group": "2",
          "name": "Marguerite",
          "x": 620.4,
          "y": 203.72896149365442
         },
         {
          "__combo_group_value": "2",
          "__node_r": 2.5,
          "__node_size": 25,
          "group": "2",
          "name": "Tholomyes",
          "x": 615.6273065644681,
          "y": 216.84182795153484
         },
         {
          "__combo_group_value": "2",
          "__node_r": 2.5,
          "__node_size": 25,
          "group": "2",
          "name": "Listolier",
          "x": 603.5424238665738,
          "y": 223.8190390469129
         },
         {
          "__combo_group_value": "2",
          "__node_r": 2.5,
          "__node_size": 25,
          "group": "2",
          "name": "Fameuil",
          "x": 589.799998986721,
          "y": 221.39587929676364
         },
         {
          "__combo_group_value": "2",
          "__node_r": 2.5,
          "__node_size": 25,
          "group": "2",
          "name": "Blacheville",
          "x": 580.8302708862208,
          "y": 210.70617380496722
         },
         {
          "__combo_group_value": "2",
          "__node_r": 2.5,
          "__node_size": 25,
          "group": "2",
          "name": "Favourite",
          "x": 580.8302708862208,
          "y": 196.75175039827636
         },
         {
          "__combo_group_value": "2",
          "__node_r": 2.5,
          "__node_size": 25,
          "group": "2",
          "name": "Dahlia",
          "x": 589.8000020265579,
          "y": 186.06204247461042
         },
         {
          "__combo_group_value": "2",
          "__node_r": 2.5,
          "__node_size": 25,
          "group": "2",
          "name": "Zephine",
          "x": 603.5424226506391,
          "y": 183.6388839403959
         },
         {
          "__combo_group_value": "2",
          "__node_r": 2.5,
          "__node_size": 25,
          "group": "2",
          "name": "Fantine",
          "x": 615.6273041325986,
          "y": 190.61609138796976
         }
        ],
        "data-c72c781a3177c2f86a2f137358bab42f": [
         {
          "edge": 0,
          "pair": [
           "Bamatabois",
           "Judge"
          ],
          "source": "Bamatabois",
          "target": "Judge",
          "value": 2,
          "weight": 2,
          "x": 60.61840244458922,
          "y": 56.13613811299185
         },
         {
          "edge": 0,
          "pair": [
           "Bamatabois",
           "Judge"
          ],
          "source": "Bamatabois",
          "target": "Judge",
          "value": 2,
          "weight": 2,
          "x": 51.59842421434105,
          "y": 71.7591985545988
         },
         {
          "edge": 1,
          "pair": [
           "Bamatabois",
           "Champmathieu"
          ],
          "source": "Bamatabois",
          "target": "Champmathieu",
          "value": 2,
          "weight": 2,
          "x": 60.61840244458922,
          "y": 56.13613811299185
         },
         {
          "edge": 1,
          "pair": [
           "Bamatabois",
           "Champmathieu"
          ],
          "source": "Bamatabois",
          "target": "Champmathieu",
          "value": 2,
          "weight": 2,
          "x": 33.55846829147728,
          "y": 71.75919747933366
         },
         {
          "edge": 2,
          "pair": [
           "Bamatabois",
           "Brevet"
          ],
          "source": "Bamatabois",
          "target": "Brevet",
          "value": 1,
          "weight": 1,
          "x": 60.61840244458922,
          "y": 56.13613811299185
         },
         {
          "edge": 2,
          "pair": [
           "Bamatabois",
           "Brevet"
          ],
          "source": "Bamatabois",
          "target": "Brevet",
          "value": 1,
          "weight": 1,
          "x": 24.53849167412681,
          "y": 56.13613653588886
         },
         {
          "edge": 3,
          "pair": [
           "Bamatabois",
           "Chenildieu"
          ],
          "source": "Bamatabois",
          "target": "Chenildieu",
          "value": 1,
          "weight": 1,
          "x": 60.61840244458922,
          "y": 56.13613811299185
         },
         {
          "edge": 3,
          "pair": [
           "Bamatabois",
           "Chenildieu"
          ],
          "source": "Bamatabois",
          "target": "Chenildieu",
          "value": 1,
          "weight": 1,
          "x": 33.55847097964011,
          "y": 40.51307767138489
         },
         {
          "edge": 4,
          "pair": [
           "Bamatabois",
           "Cochepaille"
          ],
          "source": "Bamatabois",
          "target": "Cochepaille",
          "value": 1,
          "weight": 1,
          "x": 60.61840244458922,
          "y": 56.13613811299185
         },
         {
          "edge": 4,
          "pair": [
           "Bamatabois",
           "Cochepaille"
          ],
          "source": "Bamatabois",
          "target": "Cochepaille",
          "value": 1,
          "weight": 1,
          "x": 51.59842313907592,
          "y": 40.51307767138489
         },
         {
          "edge": 5,
          "pair": [
           "Judge",
           "Champmathieu"
          ],
          "source": "Judge",
          "target": "Champmathieu",
          "value": 3,
          "weight": 3,
          "x": 51.59842421434105,
          "y": 71.7591985545988
         },
         {
          "edge": 5,
          "pair": [
           "Judge",
           "Champmathieu"
          ],
          "source": "Judge",
          "target": "Champmathieu",
          "value": 3,
          "weight": 3,
          "x": 33.55846829147728,
          "y": 71.75919747933366
         },
         {
          "edge": 6,
          "pair": [
           "Judge",
           "Brevet"
          ],
          "source": "Judge",
          "target": "Brevet",
          "value": 2,
          "weight": 2,
          "x": 51.59842421434105,
          "y": 71.7591985545988
         },
         {
          "edge": 6,
          "pair": [
           "Judge",
           "Brevet"
          ],
          "source": "Judge",
          "target": "Brevet",
          "value": 2,
          "weight": 2,
          "x": 24.53849167412681,
          "y": 56.13613653588886
         },
         {
          "edge": 7,
          "pair": [
           "Judge",
           "Chenildieu"
          ],
          "source": "Judge",
          "target": "Chenildieu",
          "value": 2,
          "weight": 2,
          "x": 51.59842421434105,
          "y": 71.7591985545988
         },
         {
          "edge": 7,
          "pair": [
           "Judge",
           "Chenildieu"
          ],
          "source": "Judge",
          "target": "Chenildieu",
          "value": 2,
          "weight": 2,
          "x": 33.55847097964011,
          "y": 40.51307767138489
         },
         {
          "edge": 8,
          "pair": [
           "Judge",
           "Cochepaille"
          ],
          "source": "Judge",
          "target": "Cochepaille",
          "value": 2,
          "weight": 2,
          "x": 51.59842421434105,
          "y": 71.7591985545988
         },
         {
          "edge": 8,
          "pair": [
           "Judge",
           "Cochepaille"
          ],
          "source": "Judge",
          "target": "Cochepaille",
          "value": 2,
          "weight": 2,
          "x": 51.59842313907592,
          "y": 40.51307767138489
         },
         {
          "edge": 9,
          "pair": [
           "Champmathieu",
           "Brevet"
          ],
          "source": "Champmathieu",
          "target": "Brevet",
          "value": 2,
          "weight": 2,
          "x": 33.55846829147728,
          "y": 71.75919747933366
         },
         {
          "edge": 9,
          "pair": [
           "Champmathieu",
           "Brevet"
          ],
          "source": "Champmathieu",
          "target": "Brevet",
          "value": 2,
          "weight": 2,
          "x": 24.53849167412681,
          "y": 56.13613653588886
         },
         {
          "edge": 10,
          "pair": [
           "Champmathieu",
           "Chenildieu"
          ],
          "source": "Champmathieu",
          "target": "Chenildieu",
          "value": 2,
          "weight": 2,
          "x": 33.55846829147728,
          "y": 71.75919747933366
         },
         {
          "edge": 10,
          "pair": [
           "Champmathieu",
           "Chenildieu"
          ],
          "source": "Champmathieu",
          "target": "Chenildieu",
          "value": 2,
          "weight": 2,
          "x": 33.55847097964011,
          "y": 40.51307767138489
         },
         {
          "edge": 11,
          "pair": [
           "Champmathieu",
           "Cochepaille"
          ],
          "source": "Champmathieu",
          "target": "Cochepaille",
          "value": 2,
          "weight": 2,
          "x": 33.55846829147728,
          "y": 71.75919747933366
         },
         {
          "edge": 11,
          "pair": [
           "Champmathieu",
           "Cochepaille"
          ],
          "source": "Champmathieu",
          "target": "Cochepaille",
          "value": 2,
          "weight": 2,
          "x": 51.59842313907592,
          "y": 40.51307767138489
         },
         {
          "edge": 12,
          "pair": [
           "Brevet",
           "Chenildieu"
          ],
          "source": "Brevet",
          "target": "Chenildieu",
          "value": 2,
          "weight": 2,
          "x": 24.53849167412681,
          "y": 56.13613653588886
         },
         {
          "edge": 12,
          "pair": [
           "Brevet",
           "Chenildieu"
          ],
          "source": "Brevet",
          "target": "Chenildieu",
          "value": 2,
          "weight": 2,
          "x": 33.55847097964011,
          "y": 40.51307767138489
         },
         {
          "edge": 13,
          "pair": [
           "Brevet",
           "Cochepaille"
          ],
          "source": "Brevet",
          "target": "Cochepaille",
          "value": 2,
          "weight": 2,
          "x": 24.53849167412681,
          "y": 56.13613653588886
         },
         {
          "edge": 13,
          "pair": [
           "Brevet",
           "Cochepaille"
          ],
          "source": "Brevet",
          "target": "Cochepaille",
          "value": 2,
          "weight": 2,
          "x": 51.59842313907592,
          "y": 40.51307767138489
         },
         {
          "edge": 14,
          "pair": [
           "Chenildieu",
           "Cochepaille"
          ],
          "source": "Chenildieu",
          "target": "Cochepaille",
          "value": 2,
          "weight": 2,
          "x": 33.55847097964011,
          "y": 40.51307767138489
         },
         {
          "edge": 14,
          "pair": [
           "Chenildieu",
           "Cochepaille"
          ],
          "source": "Chenildieu",
          "target": "Cochepaille",
          "value": 2,
          "weight": 2,
          "x": 51.59842313907592,
          "y": 40.51307767138489
         }
        ],
        "data-c7721fb843d5c91f4ab52642bdd35eea": [
         {
          "edge": 0,
          "pair": [
           "Jondrette",
           "MmeBurgon"
          ],
          "source": "Jondrette",
          "target": "MmeBurgon",
          "value": 1,
          "weight": 1,
          "x": 350.12288185820125,
          "y": 128.80925880440455
         },
         {
          "edge": 0,
          "pair": [
           "Jondrette",
           "MmeBurgon"
          ],
          "source": "Jondrette",
          "target": "MmeBurgon",
          "value": 1,
          "weight": 1,
          "x": 348.39058725434063,
          "y": 138.07621643882487
         },
         {
          "edge": 1,
          "pair": [
           "MmeBurgon",
           "Gavroche"
          ],
          "source": "MmeBurgon",
          "target": "Gavroche",
          "value": 2,
          "weight": 2,
          "x": 348.39058725434063,
          "y": 138.07621643882487
         },
         {
          "edge": 1,
          "pair": [
           "MmeBurgon",
           "Gavroche"
          ],
          "source": "MmeBurgon",
          "target": "Gavroche",
          "value": 2,
          "weight": 2,
          "x": 343.4276591158002,
          "y": 146.0916194786538
         },
         {
          "edge": 2,
          "pair": [
           "Gavroche",
           "Mabeuf"
          ],
          "source": "Gavroche",
          "target": "Mabeuf",
          "value": 1,
          "weight": 1,
          "x": 343.4276591158002,
          "y": 146.0916194786538
         },
         {
          "edge": 2,
          "pair": [
           "Gavroche",
           "Mabeuf"
          ],
          "source": "Gavroche",
          "target": "Mabeuf",
          "value": 1,
          "weight": 1,
          "x": 335.9043691003514,
          "y": 151.77294511041958
         },
         {
          "edge": 3,
          "pair": [
           "Gavroche",
           "Enjolras"
          ],
          "source": "Gavroche",
          "target": "Enjolras",
          "value": 7,
          "weight": 7,
          "x": 343.4276591158002,
          "y": 146.0916194786538
         },
         {
          "edge": 3,
          "pair": [
           "Gavroche",
           "Enjolras"
          ],
          "source": "Gavroche",
          "target": "Enjolras",
          "value": 7,
          "weight": 7,
          "x": 326.83677925110726,
          "y": 154.35289631014228
         },
         {
          "edge": 4,
          "pair": [
           "Gavroche",
           "Combeferre"
          ],
          "source": "Gavroche",
          "target": "Combeferre",
          "value": 6,
          "weight": 6,
          "x": 343.4276591158002,
          "y": 146.0916194786538
         },
         {
          "edge": 4,
          "pair": [
           "Gavroche",
           "Combeferre"
          ],
          "source": "Gavroche",
          "target": "Combeferre",
          "value": 6,
          "weight": 6,
          "x": 317.44951830473747,
          "y": 153.4830395520868
         },
         {
          "edge": 5,
          "pair": [
           "Gavroche",
           "Prouvaire"
          ],
          "source": "Gavroche",
          "target": "Prouvaire",
          "value": 1,
          "weight": 1,
          "x": 343.4276591158002,
          "y": 146.0916194786538
         },
         {
          "edge": 5,
          "pair": [
           "Gavroche",
           "Prouvaire"
          ],
          "source": "Gavroche",
          "target": "Prouvaire",
          "value": 1,
          "weight": 1,
          "x": 309.0103832966296,
          "y": 149.28084961145515
         },
         {
          "edge": 6,
          "pair": [
           "Gavroche",
           "Feuilly"
          ],
          "source": "Gavroche",
          "target": "Feuilly",
          "value": 2,
          "weight": 2,
          "x": 343.4276591158002,
          "y": 146.0916194786538
         },
         {
          "edge": 6,
          "pair": [
           "Gavroche",
           "Feuilly"
          ],
          "source": "Gavroche",
          "target": "Feuilly",
          "value": 2,
          "weight": 2,
          "x": 302.6591338641692,
          "y": 142.31385951401796
         },
         {
          "edge": 7,
          "pair": [
           "Gavroche",
           "Courfeyrac"
          ],
          "source": "Gavroche",
          "target": "Courfeyrac",
          "value": 7,
          "weight": 7,
          "x": 343.4276591158002,
          "y": 146.0916194786538
         },
         {
          "edge": 7,
          "pair": [
           "Gavroche",
           "Courfeyrac"
          ],
          "source": "Gavroche",
          "target": "Courfeyrac",
          "value": 7,
          "weight": 7,
          "x": 299.2535351005158,
          "y": 133.52299818802103
         },
         {
          "edge": 8,
          "pair": [
           "Gavroche",
           "Bahorel"
          ],
          "source": "Gavroche",
          "target": "Bahorel",
          "value": 5,
          "weight": 5,
          "x": 343.4276591158002,
          "y": 146.0916194786538
         },
         {
          "edge": 8,
          "pair": [
           "Gavroche",
           "Bahorel"
          ],
          "source": "Gavroche",
          "target": "Bahorel",
          "value": 5,
          "weight": 5,
          "x": 299.2535351005158,
          "y": 124.09552094983017
         },
         {
          "edge": 9,
          "pair": [
           "Gavroche",
           "Bossuet"
          ],
          "source": "Gavroche",
          "target": "Bossuet",
          "value": 5,
          "weight": 5,
          "x": 343.4276591158002,
          "y": 146.0916194786538
         },
         {
          "edge": 9,
          "pair": [
           "Gavroche",
           "Bossuet"
          ],
          "source": "Gavroche",
          "target": "Bossuet",
          "value": 5,
          "weight": 5,
          "x": 302.6591323351271,
          "y": 115.30465962383326
         },
         {
          "edge": 10,
          "pair": [
           "Gavroche",
           "Joly"
          ],
          "source": "Gavroche",
          "target": "Joly",
          "value": 3,
          "weight": 3,
          "x": 343.4276591158002,
          "y": 146.0916194786538
         },
         {
          "edge": 10,
          "pair": [
           "Gavroche",
           "Joly"
          ],
          "source": "Gavroche",
          "target": "Joly",
          "value": 3,
          "weight": 3,
          "x": 309.0103817675875,
          "y": 108.33766952639607
         },
         {
          "edge": 11,
          "pair": [
           "Gavroche",
           "Grantaire"
          ],
          "source": "Gavroche",
          "target": "Grantaire",
          "value": 1,
          "weight": 1,
          "x": 343.4276591158002,
          "y": 146.0916194786538
         },
         {
          "edge": 11,
          "pair": [
           "Gavroche",
           "Grantaire"
          ],
          "source": "Gavroche",
          "target": "Grantaire",
          "value": 1,
          "weight": 1,
          "x": 317.44951906925854,
          "y": 104.1354780567223
         },
         {
          "edge": 12,
          "pair": [
           "Gavroche",
           "Child1"
          ],
          "source": "Gavroche",
          "target": "Child1",
          "value": 2,
          "weight": 2,
          "x": 343.4276591158002,
          "y": 146.0916194786538
         },
         {
          "edge": 12,
          "pair": [
           "Gavroche",
           "Child1"
          ],
          "source": "Gavroche",
          "target": "Child1",
          "value": 2,
          "weight": 2,
          "x": 335.9043698648725,
          "y": 105.84557249838952
         },
         {
          "edge": 13,
          "pair": [
           "Gavroche",
           "Child2"
          ],
          "source": "Gavroche",
          "target": "Child2",
          "value": 2,
          "weight": 2,
          "x": 343.4276591158002,
          "y": 146.0916194786538
         },
         {
          "edge": 13,
          "pair": [
           "Gavroche",
           "Child2"
          ],
          "source": "Gavroche",
          "target": "Child2",
          "value": 2,
          "weight": 2,
          "x": 343.42765452867394,
          "y": 111.52689354302905
         },
         {
          "edge": 14,
          "pair": [
           "Gavroche",
           "MmeHucheloup"
          ],
          "source": "Gavroche",
          "target": "MmeHucheloup",
          "value": 1,
          "weight": 1,
          "x": 343.4276591158002,
          "y": 146.0916194786538
         },
         {
          "edge": 14,
          "pair": [
           "Gavroche",
           "MmeHucheloup"
          ],
          "source": "Gavroche",
          "target": "MmeHucheloup",
          "value": 1,
          "weight": 1,
          "x": 348.39058725434063,
          "y": 119.54230040546322
         },
         {
          "edge": 15,
          "pair": [
           "Mabeuf",
           "Enjolras"
          ],
          "source": "Mabeuf",
          "target": "Enjolras",
          "value": 1,
          "weight": 1,
          "x": 335.9043691003514,
          "y": 151.77294511041958
         },
         {
          "edge": 15,
          "pair": [
           "Mabeuf",
           "Enjolras"
          ],
          "source": "Mabeuf",
          "target": "Enjolras",
          "value": 1,
          "weight": 1,
          "x": 326.83677925110726,
          "y": 154.35289631014228
         },
         {
          "edge": 16,
          "pair": [
           "Mabeuf",
           "Combeferre"
          ],
          "source": "Mabeuf",
          "target": "Combeferre",
          "value": 2,
          "weight": 2,
          "x": 335.9043691003514,
          "y": 151.77294511041958
         },
         {
          "edge": 16,
          "pair": [
           "Mabeuf",
           "Combeferre"
          ],
          "source": "Mabeuf",
          "target": "Combeferre",
          "value": 2,
          "weight": 2,
          "x": 317.44951830473747,
          "y": 153.4830395520868
         },
         {
          "edge": 17,
          "pair": [
           "Mabeuf",
           "Feuilly"
          ],
          "source": "Mabeuf",
          "target": "Feuilly",
          "value": 1,
          "weight": 1,
          "x": 335.9043691003514,
          "y": 151.77294511041958
         },
         {
          "edge": 17,
          "pair": [
           "Mabeuf",
           "Feuilly"
          ],
          "source": "Mabeuf",
          "target": "Feuilly",
          "value": 1,
          "weight": 1,
          "x": 302.6591338641692,
          "y": 142.31385951401796
         },
         {
          "edge": 18,
          "pair": [
           "Mabeuf",
           "Courfeyrac"
          ],
          "source": "Mabeuf",
          "target": "Courfeyrac",
          "value": 2,
          "weight": 2,
          "x": 335.9043691003514,
          "y": 151.77294511041958
         },
         {
          "edge": 18,
          "pair": [
           "Mabeuf",
           "Courfeyrac"
          ],
          "source": "Mabeuf",
          "target": "Courfeyrac",
          "value": 2,
          "weight": 2,
          "x": 299.2535351005158,
          "y": 133.52299818802103
         },
         {
          "edge": 19,
          "pair": [
           "Mabeuf",
           "Bahorel"
          ],
          "source": "Mabeuf",
          "target": "Bahorel",
          "value": 2,
          "weight": 2,
          "x": 335.9043691003514,
          "y": 151.77294511041958
         },
         {
          "edge": 19,
          "pair": [
           "Mabeuf",
           "Bahorel"
          ],
          "source": "Mabeuf",
          "target": "Bahorel",
          "value": 2,
          "weight": 2,
          "x": 299.2535351005158,
          "y": 124.09552094983017
         },
         {
          "edge": 20,
          "pair": [
           "Mabeuf",
           "Bossuet"
          ],
          "source": "Mabeuf",
          "target": "Bossuet",
          "value": 1,
          "weight": 1,
          "x": 335.9043691003514,
          "y": 151.77294511041958
         },
         {
          "edge": 20,
          "pair": [
           "Mabeuf",
           "Bossuet"
          ],
          "source": "Mabeuf",
          "target": "Bossuet",
          "value": 1,
          "weight": 1,
          "x": 302.6591323351271,
          "y": 115.30465962383326
         },
         {
          "edge": 21,
          "pair": [
           "Mabeuf",
           "Joly"
          ],
          "source": "Mabeuf",
          "target": "Joly",
          "value": 1,
          "weight": 1,
          "x": 335.9043691003514,
          "y": 151.77294511041958
         },
         {
          "edge": 21,
          "pair": [
           "Mabeuf",
           "Joly"
          ],
          "source": "Mabeuf",
          "target": "Joly",
          "value": 1,
          "weight": 1,
          "x": 309.0103817675875,
          "y": 108.33766952639607
         },
         {
          "edge": 22,
          "pair": [
           "Mabeuf",
           "MotherPlutarch"
          ],
          "source": "Mabeuf",
          "target": "MotherPlutarch",
          "value": 3,
          "weight": 3,
          "x": 335.9043691003514,
          "y": 151.77294511041958
         },
         {
          "edge": 22,
          "pair": [
           "Mabeuf",
           "MotherPlutarch"
          ],
          "source": "Mabeuf",
          "target": "MotherPlutarch",
          "value": 3,
          "weight": 3,
          "x": 326.836774663981,
          "y": 103.26561976962473
         },
         {
          "edge": 23,
          "pair": [
           "Enjolras",
           "Combeferre"
          ],
          "source": "Enjolras",
          "target": "Combeferre",
          "value": 15,
          "weight": 15,
          "x": 326.83677925110726,
          "y": 154.35289631014228
         },
         {
          "edge": 23,
          "pair": [
           "Enjolras",
           "Combeferre"
          ],
          "source": "Enjolras",
          "target": "Combeferre",
          "value": 15,
          "weight": 15,
          "x": 317.44951830473747,
          "y": 153.4830395520868
         },
         {
          "edge": 24,
          "pair": [
           "Enjolras",
           "Prouvaire"
          ],
          "source": "Enjolras",
          "target": "Prouvaire",
          "value": 4,
          "weight": 4,
          "x": 326.83677925110726,
          "y": 154.35289631014228
         },
         {
          "edge": 24,
          "pair": [
           "Enjolras",
           "Prouvaire"
          ],
          "source": "Enjolras",
          "target": "Prouvaire",
          "value": 4,
          "weight": 4,
          "x": 309.0103832966296,
          "y": 149.28084961145515
         },
         {
          "edge": 25,
          "pair": [
           "Enjolras",
           "Feuilly"
          ],
          "source": "Enjolras",
          "target": "Feuilly",
          "value": 6,
          "weight": 6,
          "x": 326.83677925110726,
          "y": 154.35289631014228
         },
         {
          "edge": 25,
          "pair": [
           "Enjolras",
           "Feuilly"
          ],
          "source": "Enjolras",
          "target": "Feuilly",
          "value": 6,
          "weight": 6,
          "x": 302.6591338641692,
          "y": 142.31385951401796
         },
         {
          "edge": 26,
          "pair": [
           "Enjolras",
           "Courfeyrac"
          ],
          "source": "Enjolras",
          "target": "Courfeyrac",
          "value": 17,
          "weight": 17,
          "x": 326.83677925110726,
          "y": 154.35289631014228
         },
         {
          "edge": 26,
          "pair": [
           "Enjolras",
           "Courfeyrac"
          ],
          "source": "Enjolras",
          "target": "Courfeyrac",
          "value": 17,
          "weight": 17,
          "x": 299.2535351005158,
          "y": 133.52299818802103
         },
         {
          "edge": 27,
          "pair": [
           "Enjolras",
           "Bahorel"
          ],
          "source": "Enjolras",
          "target": "Bahorel",
          "value": 4,
          "weight": 4,
          "x": 326.83677925110726,
          "y": 154.35289631014228
         },
         {
          "edge": 27,
          "pair": [
           "Enjolras",
           "Bahorel"
          ],
          "source": "Enjolras",
          "target": "Bahorel",
          "value": 4,
          "weight": 4,
          "x": 299.2535351005158,
          "y": 124.09552094983017
         },
         {
          "edge": 28,
          "pair": [
           "Enjolras",
           "Bossuet"
          ],
          "source": "Enjolras",
          "target": "Bossuet",
          "value": 10,
          "weight": 10,
          "x": 326.83677925110726,
          "y": 154.35289631014228
         },
         {
          "edge": 28,
          "pair": [
           "Enjolras",
           "Bossuet"
          ],
          "source": "Enjolras",
          "target": "Bossuet",
          "value": 10,
          "weight": 10,
          "x": 302.6591323351271,
          "y": 115.30465962383326
         },
         {
          "edge": 29,
          "pair": [
           "Enjolras",
           "Joly"
          ],
          "source": "Enjolras",
          "target": "Joly",
          "value": 5,
          "weight": 5,
          "x": 326.83677925110726,
          "y": 154.35289631014228
         },
         {
          "edge": 29,
          "pair": [
           "Enjolras",
           "Joly"
          ],
          "source": "Enjolras",
          "target": "Joly",
          "value": 5,
          "weight": 5,
          "x": 309.0103817675875,
          "y": 108.33766952639607
         },
         {
          "edge": 30,
          "pair": [
           "Enjolras",
           "Grantaire"
          ],
          "source": "Enjolras",
          "target": "Grantaire",
          "value": 3,
          "weight": 3,
          "x": 326.83677925110726,
          "y": 154.35289631014228
         },
         {
          "edge": 30,
          "pair": [
           "Enjolras",
           "Grantaire"
          ],
          "source": "Enjolras",
          "target": "Grantaire",
          "value": 3,
          "weight": 3,
          "x": 317.44951906925854,
          "y": 104.1354780567223
         },
         {
          "edge": 31,
          "pair": [
           "Enjolras",
           "MmeHucheloup"
          ],
          "source": "Enjolras",
          "target": "MmeHucheloup",
          "value": 1,
          "weight": 1,
          "x": 326.83677925110726,
          "y": 154.35289631014228
         },
         {
          "edge": 31,
          "pair": [
           "Enjolras",
           "MmeHucheloup"
          ],
          "source": "Enjolras",
          "target": "MmeHucheloup",
          "value": 1,
          "weight": 1,
          "x": 348.39058725434063,
          "y": 119.54230040546322
         },
         {
          "edge": 32,
          "pair": [
           "Combeferre",
           "Prouvaire"
          ],
          "source": "Combeferre",
          "target": "Prouvaire",
          "value": 2,
          "weight": 2,
          "x": 317.44951830473747,
          "y": 153.4830395520868
         },
         {
          "edge": 32,
          "pair": [
           "Combeferre",
           "Prouvaire"
          ],
          "source": "Combeferre",
          "target": "Prouvaire",
          "value": 2,
          "weight": 2,
          "x": 309.0103832966296,
          "y": 149.28084961145515
         },
         {
          "edge": 33,
          "pair": [
           "Combeferre",
           "Feuilly"
          ],
          "source": "Combeferre",
          "target": "Feuilly",
          "value": 5,
          "weight": 5,
          "x": 317.44951830473747,
          "y": 153.4830395520868
         },
         {
          "edge": 33,
          "pair": [
           "Combeferre",
           "Feuilly"
          ],
          "source": "Combeferre",
          "target": "Feuilly",
          "value": 5,
          "weight": 5,
          "x": 302.6591338641692,
          "y": 142.31385951401796
         },
         {
          "edge": 34,
          "pair": [
           "Combeferre",
           "Courfeyrac"
          ],
          "source": "Combeferre",
          "target": "Courfeyrac",
          "value": 13,
          "weight": 13,
          "x": 317.44951830473747,
          "y": 153.4830395520868
         },
         {
          "edge": 34,
          "pair": [
           "Combeferre",
           "Courfeyrac"
          ],
          "source": "Combeferre",
          "target": "Courfeyrac",
          "value": 13,
          "weight": 13,
          "x": 299.2535351005158,
          "y": 133.52299818802103
         },
         {
          "edge": 35,
          "pair": [
           "Combeferre",
           "Bahorel"
          ],
          "source": "Combeferre",
          "target": "Bahorel",
          "value": 5,
          "weight": 5,
          "x": 317.44951830473747,
          "y": 153.4830395520868
         },
         {
          "edge": 35,
          "pair": [
           "Combeferre",
           "Bahorel"
          ],
          "source": "Combeferre",
          "target": "Bahorel",
          "value": 5,
          "weight": 5,
          "x": 299.2535351005158,
          "y": 124.09552094983017
         },
         {
          "edge": 36,
          "pair": [
           "Combeferre",
           "Bossuet"
          ],
          "source": "Combeferre",
          "target": "Bossuet",
          "value": 9,
          "weight": 9,
          "x": 317.44951830473747,
          "y": 153.4830395520868
         },
         {
          "edge": 36,
          "pair": [
           "Combeferre",
           "Bossuet"
          ],
          "source": "Combeferre",
          "target": "Bossuet",
          "value": 9,
          "weight": 9,
          "x": 302.6591323351271,
          "y": 115.30465962383326
         },
         {
          "edge": 37,
          "pair": [
           "Combeferre",
           "Joly"
          ],
          "source": "Combeferre",
          "target": "Joly",
          "value": 5,
          "weight": 5,
          "x": 317.44951830473747,
          "y": 153.4830395520868
         },
         {
          "edge": 37,
          "pair": [
           "Combeferre",
           "Joly"
          ],
          "source": "Combeferre",
          "target": "Joly",
          "value": 5,
          "weight": 5,
          "x": 309.0103817675875,
          "y": 108.33766952639607
         },
         {
          "edge": 38,
          "pair": [
           "Combeferre",
           "Grantaire"
          ],
          "source": "Combeferre",
          "target": "Grantaire",
          "value": 1,
          "weight": 1,
          "x": 317.44951830473747,
          "y": 153.4830395520868
         },
         {
          "edge": 38,
          "pair": [
           "Combeferre",
           "Grantaire"
          ],
          "source": "Combeferre",
          "target": "Grantaire",
          "value": 1,
          "weight": 1,
          "x": 317.44951906925854,
          "y": 104.1354780567223
         },
         {
          "edge": 39,
          "pair": [
           "Prouvaire",
           "Feuilly"
          ],
          "source": "Prouvaire",
          "target": "Feuilly",
          "value": 2,
          "weight": 2,
          "x": 309.0103832966296,
          "y": 149.28084961145515
         },
         {
          "edge": 39,
          "pair": [
           "Prouvaire",
           "Feuilly"
          ],
          "source": "Prouvaire",
          "target": "Feuilly",
          "value": 2,
          "weight": 2,
          "x": 302.6591338641692,
          "y": 142.31385951401796
         },
         {
          "edge": 40,
          "pair": [
           "Prouvaire",
           "Courfeyrac"
          ],
          "source": "Prouvaire",
          "target": "Courfeyrac",
          "value": 3,
          "weight": 3,
          "x": 309.0103832966296,
          "y": 149.28084961145515
         },
         {
          "edge": 40,
          "pair": [
           "Prouvaire",
           "Courfeyrac"
          ],
          "source": "Prouvaire",
          "target": "Courfeyrac",
          "value": 3,
          "weight": 3,
          "x": 299.2535351005158,
          "y": 133.52299818802103
         },
         {
          "edge": 41,
          "pair": [
           "Prouvaire",
           "Bahorel"
          ],
          "source": "Prouvaire",
          "target": "Bahorel",
          "value": 2,
          "weight": 2,
          "x": 309.0103832966296,
          "y": 149.28084961145515
         },
         {
          "edge": 41,
          "pair": [
           "Prouvaire",
           "Bahorel"
          ],
          "source": "Prouvaire",
          "target": "Bahorel",
          "value": 2,
          "weight": 2,
          "x": 299.2535351005158,
          "y": 124.09552094983017
         },
         {
          "edge": 42,
          "pair": [
           "Prouvaire",
           "Bossuet"
          ],
          "source": "Prouvaire",
          "target": "Bossuet",
          "value": 2,
          "weight": 2,
          "x": 309.0103832966296,
          "y": 149.28084961145515
         },
         {
          "edge": 42,
          "pair": [
           "Prouvaire",
           "Bossuet"
          ],
          "source": "Prouvaire",
          "target": "Bossuet",
          "value": 2,
          "weight": 2,
          "x": 302.6591323351271,
          "y": 115.30465962383326
         },
         {
          "edge": 43,
          "pair": [
           "Prouvaire",
           "Joly"
          ],
          "source": "Prouvaire",
          "target": "Joly",
          "value": 2,
          "weight": 2,
          "x": 309.0103832966296,
          "y": 149.28084961145515
         },
         {
          "edge": 43,
          "pair": [
           "Prouvaire",
           "Joly"
          ],
          "source": "Prouvaire",
          "target": "Joly",
          "value": 2,
          "weight": 2,
          "x": 309.0103817675875,
          "y": 108.33766952639607
         },
         {
          "edge": 44,
          "pair": [
           "Prouvaire",
           "Grantaire"
          ],
          "source": "Prouvaire",
          "target": "Grantaire",
          "value": 1,
          "weight": 1,
          "x": 309.0103832966296,
          "y": 149.28084961145515
         },
         {
          "edge": 44,
          "pair": [
           "Prouvaire",
           "Grantaire"
          ],
          "source": "Prouvaire",
          "target": "Grantaire",
          "value": 1,
          "weight": 1,
          "x": 317.44951906925854,
          "y": 104.1354780567223
         },
         {
          "edge": 45,
          "pair": [
           "Feuilly",
           "Courfeyrac"
          ],
          "source": "Feuilly",
          "target": "Courfeyrac",
          "value": 6,
          "weight": 6,
          "x": 302.6591338641692,
          "y": 142.31385951401796
         },
         {
          "edge": 45,
          "pair": [
           "Feuilly",
           "Courfeyrac"
          ],
          "source": "Feuilly",
          "target": "Courfeyrac",
          "value": 6,
          "weight": 6,
          "x": 299.2535351005158,
          "y": 133.52299818802103
         },
         {
          "edge": 46,
          "pair": [
           "Feuilly",
           "Bahorel"
          ],
          "source": "Feuilly",
          "target": "Bahorel",
          "value": 3,
          "weight": 3,
          "x": 302.6591338641692,
          "y": 142.31385951401796
         },
         {
          "edge": 46,
          "pair": [
           "Feuilly",
           "Bahorel"
          ],
          "source": "Feuilly",
          "target": "Bahorel",
          "value": 3,
          "weight": 3,
          "x": 299.2535351005158,
          "y": 124.09552094983017
         },
         {
          "edge": 47,
          "pair": [
           "Feuilly",
           "Bossuet"
          ],
          "source": "Feuilly",
          "target": "Bossuet",
          "value": 6,
          "weight": 6,
          "x": 302.6591338641692,
          "y": 142.31385951401796
         },
         {
          "edge": 47,
          "pair": [
           "Feuilly",
           "Bossuet"
          ],
          "source": "Feuilly",
          "target": "Bossuet",
          "value": 6,
          "weight": 6,
          "x": 302.6591323351271,
          "y": 115.30465962383326
         },
         {
          "edge": 48,
          "pair": [
           "Feuilly",
           "Joly"
          ],
          "source": "Feuilly",
          "target": "Joly",
          "value": 5,
          "weight": 5,
          "x": 302.6591338641692,
          "y": 142.31385951401796
         },
         {
          "edge": 48,
          "pair": [
           "Feuilly",
           "Joly"
          ],
          "source": "Feuilly",
          "target": "Joly",
          "value": 5,
          "weight": 5,
          "x": 309.0103817675875,
          "y": 108.33766952639607
         },
         {
          "edge": 49,
          "pair": [
           "Feuilly",
           "Grantaire"
          ],
          "source": "Feuilly",
          "target": "Grantaire",
          "value": 1,
          "weight": 1,
          "x": 302.6591338641692,
          "y": 142.31385951401796
         },
         {
          "edge": 49,
          "pair": [
           "Feuilly",
           "Grantaire"
          ],
          "source": "Feuilly",
          "target": "Grantaire",
          "value": 1,
          "weight": 1,
          "x": 317.44951906925854,
          "y": 104.1354780567223
         },
         {
          "edge": 50,
          "pair": [
           "Courfeyrac",
           "Bahorel"
          ],
          "source": "Courfeyrac",
          "target": "Bahorel",
          "value": 6,
          "weight": 6,
          "x": 299.2535351005158,
          "y": 133.52299818802103
         },
         {
          "edge": 50,
          "pair": [
           "Courfeyrac",
           "Bahorel"
          ],
          "source": "Courfeyrac",
          "target": "Bahorel",
          "value": 6,
          "weight": 6,
          "x": 299.2535351005158,
          "y": 124.09552094983017
         },
         {
          "edge": 51,
          "pair": [
           "Courfeyrac",
           "Bossuet"
          ],
          "source": "Courfeyrac",
          "target": "Bossuet",
          "value": 12,
          "weight": 12,
          "x": 299.2535351005158,
          "y": 133.52299818802103
         },
         {
          "edge": 51,
          "pair": [
           "Courfeyrac",
           "Bossuet"
          ],
          "source": "Courfeyrac",
          "target": "Bossuet",
          "value": 12,
          "weight": 12,
          "x": 302.6591323351271,
          "y": 115.30465962383326
         },
         {
          "edge": 52,
          "pair": [
           "Courfeyrac",
           "Joly"
          ],
          "source": "Courfeyrac",
          "target": "Joly",
          "value": 5,
          "weight": 5,
          "x": 299.2535351005158,
          "y": 133.52299818802103
         },
         {
          "edge": 52,
          "pair": [
           "Courfeyrac",
           "Joly"
          ],
          "source": "Courfeyrac",
          "target": "Joly",
          "value": 5,
          "weight": 5,
          "x": 309.0103817675875,
          "y": 108.33766952639607
         },
         {
          "edge": 53,
          "pair": [
           "Courfeyrac",
           "Grantaire"
          ],
          "source": "Courfeyrac",
          "target": "Grantaire",
          "value": 2,
          "weight": 2,
          "x": 299.2535351005158,
          "y": 133.52299818802103
         },
         {
          "edge": 53,
          "pair": [
           "Courfeyrac",
           "Grantaire"
          ],
          "source": "Courfeyrac",
          "target": "Grantaire",
          "value": 2,
          "weight": 2,
          "x": 317.44951906925854,
          "y": 104.1354780567223
         },
         {
          "edge": 54,
          "pair": [
           "Courfeyrac",
           "MmeHucheloup"
          ],
          "source": "Courfeyrac",
          "target": "MmeHucheloup",
          "value": 1,
          "weight": 1,
          "x": 299.2535351005158,
          "y": 133.52299818802103
         },
         {
          "edge": 54,
          "pair": [
           "Courfeyrac",
           "MmeHucheloup"
          ],
          "source": "Courfeyrac",
          "target": "MmeHucheloup",
          "value": 1,
          "weight": 1,
          "x": 348.39058725434063,
          "y": 119.54230040546322
         },
         {
          "edge": 55,
          "pair": [
           "Bahorel",
           "Bossuet"
          ],
          "source": "Bahorel",
          "target": "Bossuet",
          "value": 4,
          "weight": 4,
          "x": 299.2535351005158,
          "y": 124.09552094983017
         },
         {
          "edge": 55,
          "pair": [
           "Bahorel",
           "Bossuet"
          ],
          "source": "Bahorel",
          "target": "Bossuet",
          "value": 4,
          "weight": 4,
          "x": 302.6591323351271,
          "y": 115.30465962383326
         },
         {
          "edge": 56,
          "pair": [
           "Bahorel",
           "Joly"
          ],
          "source": "Bahorel",
          "target": "Joly",
          "value": 5,
          "weight": 5,
          "x": 299.2535351005158,
          "y": 124.09552094983017
         },
         {
          "edge": 56,
          "pair": [
           "Bahorel",
           "Joly"
          ],
          "source": "Bahorel",
          "target": "Joly",
          "value": 5,
          "weight": 5,
          "x": 309.0103817675875,
          "y": 108.33766952639607
         },
         {
          "edge": 57,
          "pair": [
           "Bahorel",
           "Grantaire"
          ],
          "source": "Bahorel",
          "target": "Grantaire",
          "value": 1,
          "weight": 1,
          "x": 299.2535351005158,
          "y": 124.09552094983017
         },
         {
          "edge": 57,
          "pair": [
           "Bahorel",
           "Grantaire"
          ],
          "source": "Bahorel",
          "target": "Grantaire",
          "value": 1,
          "weight": 1,
          "x": 317.44951906925854,
          "y": 104.1354780567223
         },
         {
          "edge": 58,
          "pair": [
           "Bahorel",
           "MmeHucheloup"
          ],
          "source": "Bahorel",
          "target": "MmeHucheloup",
          "value": 1,
          "weight": 1,
          "x": 299.2535351005158,
          "y": 124.09552094983017
         },
         {
          "edge": 58,
          "pair": [
           "Bahorel",
           "MmeHucheloup"
          ],
          "source": "Bahorel",
          "target": "MmeHucheloup",
          "value": 1,
          "weight": 1,
          "x": 348.39058725434063,
          "y": 119.54230040546322
         },
         {
          "edge": 59,
          "pair": [
           "Bossuet",
           "Joly"
          ],
          "source": "Bossuet",
          "target": "Joly",
          "value": 7,
          "weight": 7,
          "x": 302.6591323351271,
          "y": 115.30465962383326
         },
         {
          "edge": 59,
          "pair": [
           "Bossuet",
           "Joly"
          ],
          "source": "Bossuet",
          "target": "Joly",
          "value": 7,
          "weight": 7,
          "x": 309.0103817675875,
          "y": 108.33766952639607
         },
         {
          "edge": 60,
          "pair": [
           "Bossuet",
           "Grantaire"
          ],
          "source": "Bossuet",
          "target": "Grantaire",
          "value": 3,
          "weight": 3,
          "x": 302.6591323351271,
          "y": 115.30465962383326
         },
         {
          "edge": 60,
          "pair": [
           "Bossuet",
           "Grantaire"
          ],
          "source": "Bossuet",
          "target": "Grantaire",
          "value": 3,
          "weight": 3,
          "x": 317.44951906925854,
          "y": 104.1354780567223
         },
         {
          "edge": 61,
          "pair": [
           "Bossuet",
           "MmeHucheloup"
          ],
          "source": "Bossuet",
          "target": "MmeHucheloup",
          "value": 1,
          "weight": 1,
          "x": 302.6591323351271,
          "y": 115.30465962383326
         },
         {
          "edge": 61,
          "pair": [
           "Bossuet",
           "MmeHucheloup"
          ],
          "source": "Bossuet",
          "target": "MmeHucheloup",
          "value": 1,
          "weight": 1,
          "x": 348.39058725434063,
          "y": 119.54230040546322
         },
         {
          "edge": 62,
          "pair": [
           "Joly",
           "Grantaire"
          ],
          "source": "Joly",
          "target": "Grantaire",
          "value": 2,
          "weight": 2,
          "x": 309.0103817675875,
          "y": 108.33766952639607
         },
         {
          "edge": 62,
          "pair": [
           "Joly",
           "Grantaire"
          ],
          "source": "Joly",
          "target": "Grantaire",
          "value": 2,
          "weight": 2,
          "x": 317.44951906925854,
          "y": 104.1354780567223
         },
         {
          "edge": 63,
          "pair": [
           "Joly",
           "MmeHucheloup"
          ],
          "source": "Joly",
          "target": "MmeHucheloup",
          "value": 1,
          "weight": 1,
          "x": 309.0103817675875,
          "y": 108.33766952639607
         },
         {
          "edge": 63,
          "pair": [
           "Joly",
           "MmeHucheloup"
          ],
          "source": "Joly",
          "target": "MmeHucheloup",
          "value": 1,
          "weight": 1,
          "x": 348.39058725434063,
          "y": 119.54230040546322
         },
         {
          "edge": 64,
          "pair": [
           "Grantaire",
           "MmeHucheloup"
          ],
          "source": "Grantaire",
          "target": "MmeHucheloup",
          "value": 1,
          "weight": 1,
          "x": 317.44951906925854,
          "y": 104.1354780567223
         },
         {
          "edge": 64,
          "pair": [
           "Grantaire",
           "MmeHucheloup"
          ],
          "source": "Grantaire",
          "target": "MmeHucheloup",
          "value": 1,
          "weight": 1,
          "x": 348.39058725434063,
          "y": 119.54230040546322
         },
         {
          "edge": 65,
          "pair": [
           "Child1",
           "Child2"
          ],
          "source": "Child1",
          "target": "Child2",
          "value": 3,
          "weight": 3,
          "x": 335.9043698648725,
          "y": 105.84557249838952
         },
         {
          "edge": 65,
          "pair": [
           "Child1",
           "Child2"
          ],
          "source": "Child1",
          "target": "Child2",
          "value": 3,
          "weight": 3,
          "x": 343.42765452867394,
          "y": 111.52689354302905
         }
        ],
        "data-cf207409f361c069378f1743f2e51e27": [
         {
          "__combo_size": 4960,
          "__node_r": 35.21363372331802,
          "__node_size": 4960,
          "__y_label": 302.0131625626393,
          "group": "0",
          "x": 49.690864541040085,
          "y": 349.22679628595733
         }
        ],
        "data-e61cd111d978eea1d3348ca47e312bfc": [
         {
          "__combo_size": 3616,
          "__node_r": 30.066592756745816,
          "__node_size": 3616,
          "__y_label": 14.069544914184679,
          "group": "3",
          "x": 42.57844679054173,
          "y": 56.136137670930495
         }
        ],
        "data-fea248df525a2acb2ca41330f23593ac": [
         {
          "edge": 0,
          "pair": [
           "0",
           "1"
          ],
          "source": "0",
          "target": "1",
          "value": 11,
          "x": 49.690864541040085,
          "y": 349.22679628595733
         },
         {
          "edge": 0,
          "pair": [
           "0",
           "1"
          ],
          "source": "0",
          "target": "1",
          "value": 11,
          "x": 258.1299628645868,
          "y": 263.1234800668073
         },
         {
          "edge": 1,
          "pair": [
           "1",
           "2"
          ],
          "source": "1",
          "target": "2",
          "value": 20,
          "x": 258.1299628645868,
          "y": 263.1234800668073
         },
         {
          "edge": 1,
          "pair": [
           "1",
           "2"
          ],
          "source": "1",
          "target": "2",
          "value": 20,
          "x": 600,
          "y": 203.72896108834283
         },
         {
          "edge": 2,
          "pair": [
           "1",
           "3"
          ],
          "source": "1",
          "target": "3",
          "value": 15,
          "x": 258.1299628645868,
          "y": 263.1234800668073
         },
         {
          "edge": 2,
          "pair": [
           "1",
           "3"
          ],
          "source": "1",
          "target": "3",
          "value": 15,
          "x": 42.57844679054173,
          "y": 56.136137670930495
         },
         {
          "edge": 3,
          "pair": [
           "1",
           "4"
          ],
          "source": "1",
          "target": "4",
          "value": 48,
          "x": 258.1299628645868,
          "y": 263.1234800668073
         },
         {
          "edge": 3,
          "pair": [
           "1",
           "4"
          ],
          "source": "1",
          "target": "4",
          "value": 48,
          "x": 362.7074872935515,
          "y": 406.68134134924026
         },
         {
          "edge": 4,
          "pair": [
           "1",
           "5"
          ],
          "source": "1",
          "target": "5",
          "value": 48,
          "x": 258.1299628645868,
          "y": 263.1234800668073
         },
         {
          "edge": 4,
          "pair": [
           "1",
           "5"
          ],
          "source": "1",
          "target": "5",
          "value": 48,
          "x": 324.4698118664829,
          "y": 128.80925866948908
         },
         {
          "edge": 5,
          "pair": [
           "2",
           "3"
          ],
          "source": "2",
          "target": "3",
          "value": 1,
          "x": 600,
          "y": 203.72896108834283
         },
         {
          "edge": 5,
          "pair": [
           "2",
           "3"
          ],
          "source": "2",
          "target": "3",
          "value": 1,
          "x": 42.57844679054173,
          "y": 56.136137670930495
         },
         {
          "edge": 6,
          "pair": [
           "2",
           "4"
          ],
          "source": "2",
          "target": "4",
          "value": 3,
          "x": 600,
          "y": 203.72896108834283
         },
         {
          "edge": 6,
          "pair": [
           "2",
           "4"
          ],
          "source": "2",
          "target": "4",
          "value": 3,
          "x": 362.7074872935515,
          "y": 406.68134134924026
         },
         {
          "edge": 7,
          "pair": [
           "4",
           "5"
          ],
          "source": "4",
          "target": "5",
          "value": 8,
          "x": 362.7074872935515,
          "y": 406.68134134924026
         },
         {
          "edge": 7,
          "pair": [
           "4",
           "5"
          ],
          "source": "4",
          "target": "5",
          "value": 8,
          "x": 324.4698118664829,
          "y": 128.80925866948908
         }
        ]
       },
       "height": 480,
       "layer": [
        {
         "data": {
          "name": "data-fea248df525a2acb2ca41330f23593ac"
         },
         "encoding": {
          "color": {
           "value": "#606060"
          },
          "detail": {
           "field": "edge",
           "type": "quantitative"
          },
          "opacity": {
           "field": "value",
           "legend": null,
           "scale": {
            "range": [
             0.3,
             1
            ]
           },
           "type": "quantitative"
          },
          "strokeWidth": {
           "field": "value",
           "legend": null,
           "scale": {
            "range": [
             0.5,
             3
            ]
           },
           "type": "quantitative"
          },
          "x": {
           "axis": {
            "domain": false,
            "grid": false,
            "labels": false,
            "ticks": false,
            "title": ""
           },
           "field": "x",
           "type": "quantitative"
          },
          "y": {
           "axis": {
            "domain": false,
            "grid": false,
            "labels": false,
            "ticks": false,
            "title": ""
           },
           "field": "y",
           "type": "quantitative"
          }
         },
         "mark": "line"
        },
        {
         "data": {
          "name": "data-9d8469679a32f2716a7450fdf3520fb2"
         },
         "layer": [
          {
           "encoding": {
            "fill": {
             "value": "#fff"
            },
            "opacity": {
             "value": 1
            },
            "size": {
             "field": "__combo_size",
             "legend": null,
             "scale": null,
             "type": "quantitative"
            },
            "stroke": {
             "value": "#565656"
            },
            "strokeWidth": {
             "value": 3
            },
            "tooltip": [
             {
              "field": "group",
              "type": "nominal"
             }
            ],
            "x": {
             "axis": {
              "domain": false,
              "grid": false,
              "labels": false,
              "ticks": false,
              "title": ""
             },
             "field": "x",
             "type": "quantitative"
            },
            "y": {
             "axis": {
              "domain": false,
              "grid": false,
              "labels": false,
              "ticks": false,
              "title": ""
             },
             "field": "y",
             "type": "quantitative"
            }
           },
           "mark": "circle"
          },
          {
           "encoding": {
            "text": {
             "field": "group",
             "type": "nominal"
            },
            "x": {
             "axis": {
              "domain": false,
              "grid": false,
              "labels": false,
              "ticks": false,
              "title": ""
             },
             "field": "x",
             "type": "quantitative"
            },
            "y": {
             "axis": {
              "domain": false,
              "grid": false,
              "labels": false,
              "ticks": false,
              "title": ""
             },
             "field": "__y_label",
             "type": "quantitative"
            }
           },
           "mark": {
            "align": "center",
            "baseline": "middle",
            "color": "black",
            "size": 10,
            "type": "text"
           }
          }
         ]
        },
        {
         "data": {
          "name": "data-3972fb86aa12d090901ad7e64deb4b66"
         },
         "encoding": {
          "color": {
           "value": "#333"
          },
          "detail": {
           "field": "edge",
           "type": "quantitative"
          },
          "opacity": {
           "field": "value",
           "legend": null,
           "scale": {
            "range": [
             0.5,
             0.8
            ]
           },
           "type": "quantitative"
          },
          "strokeWidth": {
           "field": "value",
           "legend": null,
           "scale": {
            "range": [
             0.4,
             1
            ]
           },
           "type": "quantitative"
          },
          "x": {
           "axis": {
            "domain": false,
            "grid": false,
            "labels": false,
            "ticks": false,
            "title": ""
           },
           "field": "x",
           "type": "quantitative"
          },
          "y": {
           "axis": {
            "domain": false,
            "grid": false,
            "labels": false,
            "ticks": false,
            "title": ""
           },
           "field": "y",
           "type": "quantitative"
          }
         },
         "mark": "line"
        },
        {
         "data": {
          "name": "data-a294954f77a0b99f5d58265fc91b1b83"
         },
         "encoding": {
          "fill": {
           "value": "#888"
          },
          "opacity": {
           "value": 1
          },
          "size": {
           "value": 25
          },
          "stroke": {
           "value": "#222"
          },
          "strokeWidth": {
           "value": 1
          },
          "tooltip": [
           {
            "field": "name",
            "type": "nominal"
           },
           {
            "field": "group",
            "type": "nominal"
           }
          ],
          "x": {
           "axis": {
            "domain": false,
            "grid": false,
            "labels": false,
            "ticks": false,
            "title": ""
           },
           "field": "x",
           "type": "quantitative"
          },
          "y": {
           "axis": {
            "domain": false,
            "grid": false,
            "labels": false,
            "ticks": false,
            "title": ""
           },
           "field": "y",
           "type": "quantitative"
          }
         },
         "mark": "circle"
        },
        {
         "data": {
          "name": "data-355d6aacfb01b86613a4ae451e0642a0"
         },
         "layer": [
          {
           "encoding": {
            "fill": {
             "value": "#fff"
            },
            "opacity": {
             "value": 1
            },
            "size": {
             "field": "__combo_size",
             "legend": null,
             "scale": null,
             "type": "quantitative"
            },
            "stroke": {
             "value": "#565656"
            },
            "strokeWidth": {
             "value": 3
            },
            "tooltip": [
             {
              "field": "group",
              "type": "nominal"
             }
            ],
            "x": {
             "axis": {
              "domain": false,
              "grid": false,
              "labels": false,
              "ticks": false,
              "title": ""
             },
             "field": "x",
             "type": "quantitative"
            },
            "y": {
             "axis": {
              "domain": false,
              "grid": false,
              "labels": false,
              "ticks": false,
              "title": ""
             },
             "field": "y",
             "type": "quantitative"
            }
           },
           "mark": "circle"
          },
          {
           "encoding": {
            "text": {
             "field": "group",
             "type": "nominal"
            },
            "x": {
             "axis": {
              "domain": false,
              "grid": false,
              "labels": false,
              "ticks": false,
              "title": ""
             },
             "field": "x",
             "type": "quantitative"
            },
            "y": {
             "axis": {
              "domain": false,
              "grid": false,
              "labels": false,
              "ticks": false,
              "title": ""
             },
             "field": "__y_label",
             "type": "quantitative"
            }
           },
           "mark": {
            "align": "center",
            "baseline": "middle",
            "color": "black",
            "size": 10,
            "type": "text"
           }
          }
         ]
        },
        {
         "data": {
          "name": "data-c7721fb843d5c91f4ab52642bdd35eea"
         },
         "encoding": {
          "color": {
           "value": "#333"
          },
          "detail": {
           "field": "edge",
           "type": "quantitative"
          },
          "opacity": {
           "field": "value",
           "legend": null,
           "scale": {
            "range": [
             0.5,
             0.8
            ]
           },
           "type": "quantitative"
          },
          "strokeWidth": {
           "field": "value",
           "legend": null,
           "scale": {
            "range": [
             0.4,
             1
            ]
           },
           "type": "quantitative"
          },
          "x": {
           "axis": {
            "domain": false,
            "grid": false,
            "labels": false,
            "ticks": false,
            "title": ""
           },
           "field": "x",
           "type": "quantitative"
          },
          "y": {
           "axis": {
            "domain": false,
            "grid": false,
            "labels": false,
            "ticks": false,
            "title": ""
           },
           "field": "y",
           "type": "quantitative"
          }
         },
         "mark": "line"
        },
        {
         "data": {
          "name": "data-ad9cd6846befa7f94d538d21d9f8db59"
         },
         "encoding": {
          "fill": {
           "value": "#888"
          },
          "opacity": {
           "value": 1
          },
          "size": {
           "value": 25
          },
          "stroke": {
           "value": "#222"
          },
          "strokeWidth": {
           "value": 1
          },
          "tooltip": [
           {
            "field": "name",
            "type": "nominal"
           },
           {
            "field": "group",
            "type": "nominal"
           }
          ],
          "x": {
           "axis": {
            "domain": false,
            "grid": false,
            "labels": false,
            "ticks": false,
            "title": ""
           },
           "field": "x",
           "type": "quantitative"
          },
          "y": {
           "axis": {
            "domain": false,
            "grid": false,
            "labels": false,
            "ticks": false,
            "title": ""
           },
           "field": "y",
           "type": "quantitative"
          }
         },
         "mark": "circle"
        },
        {
         "data": {
          "name": "data-4513146e2fe3ad80d3d939e634335160"
         },
         "layer": [
          {
           "encoding": {
            "fill": {
             "value": "#fff"
            },
            "opacity": {
             "value": 1
            },
            "size": {
             "field": "__combo_size",
             "legend": null,
             "scale": null,
             "type": "quantitative"
            },
            "stroke": {
             "value": "#565656"
            },
            "strokeWidth": {
             "value": 3
            },
            "tooltip": [
             {
              "field": "group",
              "type": "nominal"
             }
            ],
            "x": {
             "axis": {
              "domain": false,
              "grid": false,
              "labels": false,
              "ticks": false,
              "title": ""
             },
             "field": "x",
             "type": "quantitative"
            },
            "y": {
             "axis": {
              "domain": false,
              "grid": false,
              "labels": false,
              "ticks": false,
              "title": ""
             },
             "field": "y",
             "type": "quantitative"
            }
           },
           "mark": "circle"
          },
          {
           "encoding": {
            "text": {
             "field": "group",
             "type": "nominal"
            },
            "x": {
             "axis": {
              "domain": false,
              "grid": false,
              "labels": false,
              "ticks": false,
              "title": ""
             },
             "field": "x",
             "type": "quantitative"
            },
            "y": {
             "axis": {
              "domain": false,
              "grid": false,
              "labels": false,
              "ticks": false,
              "title": ""
             },
             "field": "__y_label",
             "type": "quantitative"
            }
           },
           "mark": {
            "align": "center",
            "baseline": "middle",
            "color": "black",
            "size": 10,
            "type": "text"
           }
          }
         ]
        },
        {
         "data": {
          "name": "data-8848e4190ee93baac443bf047cc724c4"
         },
         "encoding": {
          "color": {
           "value": "#333"
          },
          "detail": {
           "field": "edge",
           "type": "quantitative"
          },
          "opacity": {
           "field": "value",
           "legend": null,
           "scale": {
            "range": [
             0.5,
             0.8
            ]
           },
           "type": "quantitative"
          },
          "strokeWidth": {
           "field": "value",
           "legend": null,
           "scale": {
            "range": [
             0.4,
             1
            ]
           },
           "type": "quantitative"
          },
          "x": {
           "axis": {
            "domain": false,
            "grid": false,
            "labels": false,
            "ticks": false,
            "title": ""
           },
           "field": "x",
           "type": "quantitative"
          },
          "y": {
           "axis": {
            "domain": false,
            "grid": false,
            "labels": false,
            "ticks": false,
            "title": ""
           },
           "field": "y",
           "type": "quantitative"
          }
         },
         "mark": "line"
        },
        {
         "data": {
          "name": "data-c726d725a9553acf3258c328cf2a6935"
         },
         "encoding": {
          "fill": {
           "value": "#888"
          },
          "opacity": {
           "value": 1
          },
          "size": {
           "value": 25
          },
          "stroke": {
           "value": "#222"
          },
          "strokeWidth": {
           "value": 1
          },
          "tooltip": [
           {
            "field": "name",
            "type": "nominal"
           },
           {
            "field": "group",
            "type": "nominal"
           }
          ],
          "x": {
           "axis": {
            "domain": false,
            "grid": false,
            "labels": false,
            "ticks": false,
            "title": ""
           },
           "field": "x",
           "type": "quantitative"
          },
          "y": {
           "axis": {
            "domain": false,
            "grid": false,
            "labels": false,
            "ticks": false,
            "title": ""
           },
           "field": "y",
           "type": "quantitative"
          }
         },
         "mark": "circle"
        },
        {
         "data": {
          "name": "data-e61cd111d978eea1d3348ca47e312bfc"
         },
         "layer": [
          {
           "encoding": {
            "fill": {
             "value": "#fff"
            },
            "opacity": {
             "value": 1
            },
            "size": {
             "field": "__combo_size",
             "legend": null,
             "scale": null,
             "type": "quantitative"
            },
            "stroke": {
             "value": "#565656"
            },
            "strokeWidth": {
             "value": 3
            },
            "tooltip": [
             {
              "field": "group",
              "type": "nominal"
             }
            ],
            "x": {
             "axis": {
              "domain": false,
              "grid": false,
              "labels": false,
              "ticks": false,
              "title": ""
             },
             "field": "x",
             "type": "quantitative"
            },
            "y": {
             "axis": {
              "domain": false,
              "grid": false,
              "labels": false,
              "ticks": false,
              "title": ""
             },
             "field": "y",
             "type": "quantitative"
            }
           },
           "mark": "circle"
          },
          {
           "encoding": {
            "text": {
             "field": "group",
             "type": "nominal"
            },
            "x": {
             "axis": {
              "domain": false,
              "grid": false,
              "labels": false,
              "ticks": false,
              "title": ""
             },
             "field": "x",
             "type": "quantitative"
            },
            "y": {
             "axis": {
              "domain": false,
              "grid": false,
              "labels": false,
              "ticks": false,
              "title": ""
             },
             "field": "__y_label",
             "type": "quantitative"
            }
           },
           "mark": {
            "align": "center",
            "baseline": "middle",
            "color": "black",
            "size": 10,
            "type": "text"
           }
          }
         ]
        },
        {
         "data": {
          "name": "data-c72c781a3177c2f86a2f137358bab42f"
         },
         "encoding": {
          "color": {
           "value": "#333"
          },
          "detail": {
           "field": "edge",
           "type": "quantitative"
          },
          "opacity": {
           "field": "value",
           "legend": null,
           "scale": {
            "range": [
             0.5,
             0.8
            ]
           },
           "type": "quantitative"
          },
          "strokeWidth": {
           "field": "value",
           "legend": null,
           "scale": {
            "range": [
             0.4,
             1
            ]
           },
           "type": "quantitative"
          },
          "x": {
           "axis": {
            "domain": false,
            "grid": false,
            "labels": false,
            "ticks": false,
            "title": ""
           },
           "field": "x",
           "type": "quantitative"
          },
          "y": {
           "axis": {
            "domain": false,
            "grid": false,
            "labels": false,
            "ticks": false,
            "title": ""
           },
           "field": "y",
           "type": "quantitative"
          }
         },
         "mark": "line"
        },
        {
         "data": {
          "name": "data-23a28d000d3bd3cd1f2b36493de8a35c"
         },
         "encoding": {
          "fill": {
           "value": "#888"
          },
          "opacity": {
           "value": 1
          },
          "size": {
           "value": 25
          },
          "stroke": {
           "value": "#222"
          },
          "strokeWidth": {
           "value": 1
          },
          "tooltip": [
           {
            "field": "name",
            "type": "nominal"
           },
           {
            "field": "group",
            "type": "nominal"
           }
          ],
          "x": {
           "axis": {
            "domain": false,
            "grid": false,
            "labels": false,
            "ticks": false,
            "title": ""
           },
           "field": "x",
           "type": "quantitative"
          },
          "y": {
           "axis": {
            "domain": false,
            "grid": false,
            "labels": false,
            "ticks": false,
            "title": ""
           },
           "field": "y",
           "type": "quantitative"
          }
         },
         "mark": "circle"
        },
        {
         "data": {
          "name": "data-cf207409f361c069378f1743f2e51e27"
         },
         "layer": [
          {
           "encoding": {
            "fill": {
             "value": "#fff"
            },
            "opacity": {
             "value": 1
            },
            "size": {
             "field": "__combo_size",
             "legend": null,
             "scale": null,
             "type": "quantitative"
            },
            "stroke": {
             "value": "#565656"
            },
            "strokeWidth": {
             "value": 3
            },
            "tooltip": [
             {
              "field": "group",
              "type": "nominal"
             }
            ],
            "x": {
             "axis": {
              "domain": false,
              "grid": false,
              "labels": false,
              "ticks": false,
              "title": ""
             },
             "field": "x",
             "type": "quantitative"
            },
            "y": {
             "axis": {
              "domain": false,
              "grid": false,
              "labels": false,
              "ticks": false,
              "title": ""
             },
             "field": "y",
             "type": "quantitative"
            }
           },
           "mark": "circle"
          },
          {
           "encoding": {
            "text": {
             "field": "group",
             "type": "nominal"
            },
            "x": {
             "axis": {
              "domain": false,
              "grid": false,
              "labels": false,
              "ticks": false,
              "title": ""
             },
             "field": "x",
             "type": "quantitative"
            },
            "y": {
             "axis": {
              "domain": false,
              "grid": false,
              "labels": false,
              "ticks": false,
              "title": ""
             },
             "field": "__y_label",
             "type": "quantitative"
            }
           },
           "mark": {
            "align": "center",
            "baseline": "middle",
            "color": "black",
            "size": 10,
            "type": "text"
           }
          }
         ]
        },
        {
         "data": {
          "name": "data-a789db16d662b025c354301d420145f2"
         },
         "encoding": {
          "color": {
           "value": "#333"
          },
          "detail": {
           "field": "edge",
           "type": "quantitative"
          },
          "opacity": {
           "field": "value",
           "legend": null,
           "scale": {
            "range": [
             0.5,
             0.8
            ]
           },
           "type": "quantitative"
          },
          "strokeWidth": {
           "field": "value",
           "legend": null,
           "scale": {
            "range": [
             0.4,
             1
            ]
           },
           "type": "quantitative"
          },
          "x": {
           "axis": {
            "domain": false,
            "grid": false,
            "labels": false,
            "ticks": false,
            "title": ""
           },
           "field": "x",
           "type": "quantitative"
          },
          "y": {
           "axis": {
            "domain": false,
            "grid": false,
            "labels": false,
            "ticks": false,
            "title": ""
           },
           "field": "y",
           "type": "quantitative"
          }
         },
         "mark": "line"
        },
        {
         "data": {
          "name": "data-3c564846f7d5527922c3210fe8fc2783"
         },
         "encoding": {
          "fill": {
           "value": "#888"
          },
          "opacity": {
           "value": 1
          },
          "size": {
           "value": 25
          },
          "stroke": {
           "value": "#222"
          },
          "strokeWidth": {
           "value": 1
          },
          "tooltip": [
           {
            "field": "name",
            "type": "nominal"
           },
           {
            "field": "group",
            "type": "nominal"
           }
          ],
          "x": {
           "axis": {
            "domain": false,
            "grid": false,
            "labels": false,
            "ticks": false,
            "title": ""
           },
           "field": "x",
           "type": "quantitative"
          },
          "y": {
           "axis": {
            "domain": false,
            "grid": false,
            "labels": false,
            "ticks": false,
            "title": ""
           },
           "field": "y",
           "type": "quantitative"
          }
         },
         "mark": "circle"
        },
        {
         "data": {
          "name": "data-9becee46c745c0f80491b384dcc59457"
         },
         "layer": [
          {
           "encoding": {
            "fill": {
             "value": "#fff"
            },
            "opacity": {
             "value": 1
            },
            "size": {
             "field": "__combo_size",
             "legend": null,
             "scale": null,
             "type": "quantitative"
            },
            "stroke": {
             "value": "#565656"
            },
            "strokeWidth": {
             "value": 3
            },
            "tooltip": [
             {
              "field": "group",
              "type": "nominal"
             }
            ],
            "x": {
             "axis": {
              "domain": false,
              "grid": false,
              "labels": false,
              "ticks": false,
              "title": ""
             },
             "field": "x",
             "type": "quantitative"
            },
            "y": {
             "axis": {
              "domain": false,
              "grid": false,
              "labels": false,
              "ticks": false,
              "title": ""
             },
             "field": "y",
             "type": "quantitative"
            }
           },
           "mark": "circle"
          },
          {
           "encoding": {
            "text": {
             "field": "group",
             "type": "nominal"
            },
            "x": {
             "axis": {
              "domain": false,
              "grid": false,
              "labels": false,
              "ticks": false,
              "title": ""
             },
             "field": "x",
             "type": "quantitative"
            },
            "y": {
             "axis": {
              "domain": false,
              "grid": false,
              "labels": false,
              "ticks": false,
              "title": ""
             },
             "field": "__y_label",
             "type": "quantitative"
            }
           },
           "mark": {
            "align": "center",
            "baseline": "middle",
            "color": "black",
            "size": 10,
            "type": "text"
           }
          }
         ]
        },
        {
         "data": {
          "name": "data-110c1cf9c6872d7fc505f7a155096117"
         },
         "encoding": {
          "color": {
           "value": "#333"
          },
          "detail": {
           "field": "edge",
           "type": "quantitative"
          },
          "opacity": {
           "field": "value",
           "legend": null,
           "scale": {
            "range": [
             0.5,
             0.8
            ]
           },
           "type": "quantitative"
          },
          "strokeWidth": {
           "field": "value",
           "legend": null,
           "scale": {
            "range": [
             0.4,
             1
            ]
           },
           "type": "quantitative"
          },
          "x": {
           "axis": {
            "domain": false,
            "grid": false,
            "labels": false,
            "ticks": false,
            "title": ""
           },
           "field": "x",
           "type": "quantitative"
          },
          "y": {
           "axis": {
            "domain": false,
            "grid": false,
            "labels": false,
            "ticks": false,
            "title": ""
           },
           "field": "y",
           "type": "quantitative"
          }
         },
         "mark": "line"
        },
        {
         "data": {
          "name": "data-7ef89b2c70aa73ca6c1661c35a9682fd"
         },
         "encoding": {
          "fill": {
           "value": "#888"
          },
          "opacity": {
           "value": 1
          },
          "size": {
           "value": 25
          },
          "stroke": {
           "value": "#222"
          },
          "strokeWidth": {
           "value": 1
          },
          "tooltip": [
           {
            "field": "name",
            "type": "nominal"
           },
           {
            "field": "group",
            "type": "nominal"
           }
          ],
          "x": {
           "axis": {
            "domain": false,
            "grid": false,
            "labels": false,
            "ticks": false,
            "title": ""
           },
           "field": "x",
           "type": "quantitative"
          },
          "y": {
           "axis": {
            "domain": false,
            "grid": false,
            "labels": false,
            "ticks": false,
            "title": ""
           },
           "field": "y",
           "type": "quantitative"
          }
         },
         "mark": "circle"
        }
       ],
       "resolve": {
        "scale": {
         "color": "independent",
         "fill": "independent",
         "opacity": "independent",
         "size": "independent",
         "strokeWidth": "independent"
        }
       },
       "width": 600
      },
      "image/png": "[encoded data removed]",
      "text/plain": [
       "<VegaLite 4 object>\n",
       "\n",
       "If you see this message, it means the renderer has not been properly enabled\n",
       "for the frontend that you are using. For more information, see\n",
       "https://altair-viz.github.io/user_guide/troubleshooting.html\n"
      ]
     },
     "execution_count": 7,
     "metadata": {},
     "output_type": "execute_result"
    }
   ],
   "source": [
    "combo_chart(layout_fn=nx.circular_layout)"
   ]
  },
  {
   "cell_type": "code",
   "execution_count": null,
   "metadata": {},
   "outputs": [],
   "source": []
  }
 ],
 "metadata": {
  "kernelspec": {
   "display_name": "Python 3 (ipykernel)",
   "language": "python",
   "name": "python3"
  },
  "language_info": {
   "codemirror_mode": {
    "name": "ipython",
    "version": 3
   },
   "file_extension": ".py",
   "mimetype": "text/x-python",
   "name": "python",
   "nbconvert_exporter": "python",
   "pygments_lexer": "ipython3",
   "version": "3.10.7"
  },
  "vscode": {
   "interpreter": {
    "hash": "121ccb6ef33f050b5231fe1f8644b93952e7f3a79e0892dcb9cd03f1749809c5"
   }
  }
 },
 "nbformat": 4,
 "nbformat_minor": 4
}
