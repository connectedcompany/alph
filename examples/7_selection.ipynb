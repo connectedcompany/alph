{
 "cells": [
  {
   "cell_type": "code",
   "execution_count": 1,
   "metadata": {},
   "outputs": [],
   "source": [
    "import sys\n",
    "import altair as alt\n",
    "import networkx as nx\n",
    "\n",
    "\"..\" not in sys.path and sys.path.append(\"..\")\n",
    "from alph import alph, util\n",
    "\n",
    "util.set_altair_renderer()"
   ]
  },
  {
   "cell_type": "markdown",
   "metadata": {},
   "source": [
    "## Using altair interactive selections for nodes\n",
    "\n",
    "A quick example illustrating how to use interactive altair selections with nodes.\n",
    "\n",
    "Here we highlight the nearest node to the mouse pointer in red."
   ]
  },
  {
   "cell_type": "code",
   "execution_count": 2,
   "metadata": {},
   "outputs": [
    {
     "data": {
      "application/vnd.vegalite.v5+json": {
       "$schema": "https://vega.github.io/schema/vega-lite/v5.16.3.json",
       "config": {
        "view": {
         "continuousHeight": 300,
         "continuousWidth": 300,
         "strokeWidth": 0
        }
       },
       "datasets": {
        "data-c08fa5e6125e6b9b5b39ba9d5c5978bd": [
         {
          "edge": 0,
          "pair": [
           0,
           1
          ],
          "source": 0,
          "target": 1,
          "x": 453.73304681604566,
          "y": 521.4050129838961
         },
         {
          "edge": 0,
          "pair": [
           0,
           1
          ],
          "source": 0,
          "target": 1,
          "x": 710.4055881017313,
          "y": 430.32704355084195
         },
         {
          "edge": 1,
          "pair": [
           0,
           2
          ],
          "source": 0,
          "target": 2,
          "x": 453.73304681604566,
          "y": 521.4050129838961
         },
         {
          "edge": 1,
          "pair": [
           0,
           2
          ],
          "source": 0,
          "target": 2,
          "x": 225.5996703921336,
          "y": 438.0774111280322
         },
         {
          "edge": 2,
          "pair": [
           0,
           3
          ],
          "source": 0,
          "target": 3,
          "x": 453.73304681604566,
          "y": 521.4050129838961
         },
         {
          "edge": 2,
          "pair": [
           0,
           3
          ],
          "source": 0,
          "target": 3,
          "x": 536.0764261389228,
          "y": 402.24173661138224
         },
         {
          "edge": 3,
          "pair": [
           0,
           5
          ],
          "source": 0,
          "target": 5,
          "x": 453.73304681604566,
          "y": 521.4050129838961
         },
         {
          "edge": 3,
          "pair": [
           0,
           5
          ],
          "source": 0,
          "target": 5,
          "x": 370.73522625421697,
          "y": 347.4705609541472
         },
         {
          "edge": 4,
          "pair": [
           1,
           3
          ],
          "source": 1,
          "target": 3,
          "x": 710.4055881017313,
          "y": 430.32704355084195
         },
         {
          "edge": 4,
          "pair": [
           1,
           3
          ],
          "source": 1,
          "target": 3,
          "x": 536.0764261389228,
          "y": 402.24173661138224
         },
         {
          "edge": 5,
          "pair": [
           1,
           4
          ],
          "source": 1,
          "target": 4,
          "x": 710.4055881017313,
          "y": 430.32704355084195
         },
         {
          "edge": 5,
          "pair": [
           1,
           4
          ],
          "source": 1,
          "target": 4,
          "x": 765.1629657939311,
          "y": 272.9732621115331
         },
         {
          "edge": 6,
          "pair": [
           1,
           6
          ],
          "source": 1,
          "target": 6,
          "x": 710.4055881017313,
          "y": 430.32704355084195
         },
         {
          "edge": 6,
          "pair": [
           1,
           6
          ],
          "source": 1,
          "target": 6,
          "x": 569.2776873489825,
          "y": 260.4411245785809
         },
         {
          "edge": 7,
          "pair": [
           2,
           3
          ],
          "source": 2,
          "target": 3,
          "x": 225.5996703921336,
          "y": 438.0774111280322
         },
         {
          "edge": 7,
          "pair": [
           2,
           3
          ],
          "source": 2,
          "target": 3,
          "x": 536.0764261389228,
          "y": 402.24173661138224
         },
         {
          "edge": 8,
          "pair": [
           2,
           5
          ],
          "source": 2,
          "target": 5,
          "x": 225.5996703921336,
          "y": 438.0774111280322
         },
         {
          "edge": 8,
          "pair": [
           2,
           5
          ],
          "source": 2,
          "target": 5,
          "x": 370.73522625421697,
          "y": 347.4705609541472
         },
         {
          "edge": 9,
          "pair": [
           3,
           4
          ],
          "source": 3,
          "target": 4,
          "x": 536.0764261389228,
          "y": 402.24173661138224
         },
         {
          "edge": 9,
          "pair": [
           3,
           4
          ],
          "source": 3,
          "target": 4,
          "x": 765.1629657939311,
          "y": 272.9732621115331
         },
         {
          "edge": 10,
          "pair": [
           3,
           5
          ],
          "source": 3,
          "target": 5,
          "x": 536.0764261389228,
          "y": 402.24173661138224
         },
         {
          "edge": 10,
          "pair": [
           3,
           5
          ],
          "source": 3,
          "target": 5,
          "x": 370.73522625421697,
          "y": 347.4705609541472
         },
         {
          "edge": 11,
          "pair": [
           3,
           6
          ],
          "source": 3,
          "target": 6,
          "x": 536.0764261389228,
          "y": 402.24173661138224
         },
         {
          "edge": 11,
          "pair": [
           3,
           6
          ],
          "source": 3,
          "target": 6,
          "x": 569.2776873489825,
          "y": 260.4411245785809
         },
         {
          "edge": 12,
          "pair": [
           4,
           6
          ],
          "source": 4,
          "target": 6,
          "x": 765.1629657939311,
          "y": 272.9732621115331
         },
         {
          "edge": 12,
          "pair": [
           4,
           6
          ],
          "source": 4,
          "target": 6,
          "x": 569.2776873489825,
          "y": 260.4411245785809
         },
         {
          "edge": 13,
          "pair": [
           5,
           6
          ],
          "source": 5,
          "target": 6,
          "x": 370.73522625421697,
          "y": 347.4705609541472
         },
         {
          "edge": 13,
          "pair": [
           5,
           6
          ],
          "source": 5,
          "target": 6,
          "x": 569.2776873489825,
          "y": 260.4411245785809
         },
         {
          "edge": 14,
          "pair": [
           5,
           7
          ],
          "source": 5,
          "target": 7,
          "x": 370.73522625421697,
          "y": 347.4705609541472
         },
         {
          "edge": 14,
          "pair": [
           5,
           7
          ],
          "source": 5,
          "target": 7,
          "x": 312.9882881033638,
          "y": 166.35146030249825
         },
         {
          "edge": 15,
          "pair": [
           6,
           7
          ],
          "source": 6,
          "target": 7,
          "x": 569.2776873489825,
          "y": 260.4411245785809
         },
         {
          "edge": 15,
          "pair": [
           6,
           7
          ],
          "source": 6,
          "target": 7,
          "x": 312.9882881033638,
          "y": 166.35146030249825
         },
         {
          "edge": 16,
          "pair": [
           7,
           8
          ],
          "source": 7,
          "target": 8,
          "x": 312.9882881033638,
          "y": 166.35146030249825
         },
         {
          "edge": 16,
          "pair": [
           7,
           8
          ],
          "source": 7,
          "target": 8,
          "x": 56.02110105067237,
          "y": 155.61003138145708
         },
         {
          "edge": 17,
          "pair": [
           8,
           9
          ],
          "source": 8,
          "target": 9,
          "x": 56.02110105067237,
          "y": 155.61003138145708
         },
         {
          "edge": 17,
          "pair": [
           8,
           9
          ],
          "source": 8,
          "target": 9,
          "x": 0,
          "y": 5.102356397631025
         }
        ],
        "data-f768e4b1d45986577a4d970f025883ed": [
         {
          "__node_r": 5,
          "__node_size": 100,
          "x": 453.73304681604566,
          "y": 521.4050129838961
         },
         {
          "__node_r": 5,
          "__node_size": 100,
          "x": 710.4055881017313,
          "y": 430.32704355084195
         },
         {
          "__node_r": 5,
          "__node_size": 100,
          "x": 225.5996703921336,
          "y": 438.0774111280322
         },
         {
          "__node_r": 5,
          "__node_size": 100,
          "x": 536.0764261389228,
          "y": 402.24173661138224
         },
         {
          "__node_r": 5,
          "__node_size": 100,
          "x": 765.1629657939311,
          "y": 272.9732621115331
         },
         {
          "__node_r": 5,
          "__node_size": 100,
          "x": 370.73522625421697,
          "y": 347.4705609541472
         },
         {
          "__node_r": 5,
          "__node_size": 100,
          "x": 569.2776873489825,
          "y": 260.4411245785809
         },
         {
          "__node_r": 5,
          "__node_size": 100,
          "x": 312.9882881033638,
          "y": 166.35146030249825
         },
         {
          "__node_r": 5,
          "__node_size": 100,
          "x": 56.02110105067237,
          "y": 155.61003138145708
         },
         {
          "__node_r": 5,
          "__node_size": 100,
          "x": 0,
          "y": 5.102356397631025
         }
        ]
       },
       "height": 240,
       "layer": [
        {
         "data": {
          "name": "data-c08fa5e6125e6b9b5b39ba9d5c5978bd"
         },
         "encoding": {
          "color": {
           "value": "#606060"
          },
          "detail": {
           "field": "edge",
           "type": "quantitative"
          },
          "opacity": {
           "value": 1
          },
          "strokeWidth": {
           "value": 2
          },
          "x": {
           "axis": {
            "domain": false,
            "grid": false,
            "labels": false,
            "ticks": false,
            "title": ""
           },
           "field": "x",
           "type": "quantitative"
          },
          "y": {
           "axis": {
            "domain": false,
            "grid": false,
            "labels": false,
            "ticks": false,
            "title": ""
           },
           "field": "y",
           "type": "quantitative"
          }
         },
         "mark": {
          "type": "line"
         }
        },
        {
         "data": {
          "name": "data-f768e4b1d45986577a4d970f025883ed"
         },
         "encoding": {
          "fill": {
           "condition": {
            "empty": false,
            "param": "param_1",
            "value": "red"
           },
           "value": "black"
          },
          "opacity": {
           "value": 1
          },
          "size": {
           "value": 100
          },
          "stroke": {
           "value": "#565656"
          },
          "strokeWidth": {
           "value": 0
          },
          "tooltip": [],
          "x": {
           "axis": {
            "domain": false,
            "grid": false,
            "labels": false,
            "ticks": false,
            "title": ""
           },
           "field": "x",
           "type": "quantitative"
          },
          "y": {
           "axis": {
            "domain": false,
            "grid": false,
            "labels": false,
            "ticks": false,
            "title": ""
           },
           "field": "y",
           "type": "quantitative"
          }
         },
         "mark": {
          "type": "circle"
         },
         "name": "view_1"
        }
       ],
       "params": [
        {
         "name": "param_1",
         "select": {
          "fields": [
           "x",
           "y"
          ],
          "nearest": true,
          "on": "mouseover",
          "type": "point"
         },
         "views": [
          "view_1"
         ]
        }
       ],
       "resolve": {
        "scale": {
         "color": "independent",
         "fill": "independent",
         "opacity": "independent",
         "size": "independent",
         "strokeWidth": "independent"
        }
       },
       "width": 240
      },
      "image/png": "[encoded data removed]",
      "text/plain": [
       "<VegaLite 5 object>\n",
       "\n",
       "If you see this message, it means the renderer has not been properly enabled\n",
       "for the frontend that you are using. For more information, see\n",
       "https://altair-viz.github.io/user_guide/display_frontends.html#troubleshooting\n"
      ]
     },
     "execution_count": 2,
     "metadata": {},
     "output_type": "execute_result"
    }
   ],
   "source": [
    "G = nx.krackhardt_kite_graph()\n",
    "\n",
    "nearest_node = alt.selection_point(nearest=True, on='mouseover',fields=['x', 'y'], empty=False)\n",
    "\n",
    "alph(\n",
    "    G,\n",
    "    layout_fn = lambda g: nx.spring_layout(g, k=1, seed=20),\n",
    "    node_args = dict(\n",
    "      fill=alt.condition(nearest_node, alt.value(\"red\"), alt.value(\"black\")),\n",
    "    ),\n",
    "    nodes_layer_params=nearest_node,\n",
    ").configure_view(strokeWidth=0).properties(width=240, height=240)"
   ]
  },
  {
   "cell_type": "code",
   "execution_count": null,
   "metadata": {},
   "outputs": [],
   "source": []
  }
 ],
 "metadata": {
  "kernelspec": {
   "display_name": "Python 3 (ipykernel)",
   "language": "python",
   "name": "python3"
  },
  "language_info": {
   "codemirror_mode": {
    "name": "ipython",
    "version": 3
   },
   "file_extension": ".py",
   "mimetype": "text/x-python",
   "name": "python",
   "nbconvert_exporter": "python",
   "pygments_lexer": "ipython3",
   "version": "3.10.7"
  }
 },
 "nbformat": 4,
 "nbformat_minor": 4
}
