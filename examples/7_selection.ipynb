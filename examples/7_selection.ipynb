{
 "cells": [
  {
   "cell_type": "code",
   "execution_count": 39,
   "metadata": {},
   "outputs": [],
   "source": [
    "import sys\n",
    "import altair as alt\n",
    "import networkx as nx\n",
    "\n",
    "\"..\" not in sys.path and sys.path.append(\"..\")\n",
    "from alph import alph, util\n",
    "\n",
    "util.set_altair_renderer()"
   ]
  },
  {
   "cell_type": "markdown",
   "metadata": {},
   "source": [
    "## Using altair interactive selections for nodes\n",
    "\n",
    "A quick example illustrating how to use interactive altair selections with nodes.\n",
    "\n",
    "Here we highlight the nearest node to the mouse pointer in red."
   ]
  },
  {
   "cell_type": "code",
   "execution_count": 50,
   "metadata": {},
   "outputs": [
    {
     "data": {
      "text/html": [
       "\n",
       "<style>\n",
       "  #altair-viz-6fbc7144554f4acb96b5baa3b85ea79f.vega-embed {\n",
       "    width: 100%;\n",
       "    display: flex;\n",
       "  }\n",
       "\n",
       "  #altair-viz-6fbc7144554f4acb96b5baa3b85ea79f.vega-embed details,\n",
       "  #altair-viz-6fbc7144554f4acb96b5baa3b85ea79f.vega-embed details summary {\n",
       "    position: relative;\n",
       "  }\n",
       "</style>\n",
       "<div id=\"altair-viz-6fbc7144554f4acb96b5baa3b85ea79f\"></div>\n",
       "<script type=\"text/javascript\">\n",
       "  var VEGA_DEBUG = (typeof VEGA_DEBUG == \"undefined\") ? {} : VEGA_DEBUG;\n",
       "  (function(spec, embedOpt){\n",
       "    let outputDiv = document.currentScript.previousElementSibling;\n",
       "    if (outputDiv.id !== \"altair-viz-6fbc7144554f4acb96b5baa3b85ea79f\") {\n",
       "      outputDiv = document.getElementById(\"altair-viz-6fbc7144554f4acb96b5baa3b85ea79f\");\n",
       "    }\n",
       "    const paths = {\n",
       "      \"vega\": \"https://cdn.jsdelivr.net/npm/vega@5?noext\",\n",
       "      \"vega-lib\": \"https://cdn.jsdelivr.net/npm/vega-lib?noext\",\n",
       "      \"vega-lite\": \"https://cdn.jsdelivr.net/npm/vega-lite@5.16.3?noext\",\n",
       "      \"vega-embed\": \"https://cdn.jsdelivr.net/npm/vega-embed@6?noext\",\n",
       "    };\n",
       "\n",
       "    function maybeLoadScript(lib, version) {\n",
       "      var key = `${lib.replace(\"-\", \"\")}_version`;\n",
       "      return (VEGA_DEBUG[key] == version) ?\n",
       "        Promise.resolve(paths[lib]) :\n",
       "        new Promise(function(resolve, reject) {\n",
       "          var s = document.createElement('script');\n",
       "          document.getElementsByTagName(\"head\")[0].appendChild(s);\n",
       "          s.async = true;\n",
       "          s.onload = () => {\n",
       "            VEGA_DEBUG[key] = version;\n",
       "            return resolve(paths[lib]);\n",
       "          };\n",
       "          s.onerror = () => reject(`Error loading script: ${paths[lib]}`);\n",
       "          s.src = paths[lib];\n",
       "        });\n",
       "    }\n",
       "\n",
       "    function showError(err) {\n",
       "      outputDiv.innerHTML = `<div class=\"error\" style=\"color:red;\">${err}</div>`;\n",
       "      throw err;\n",
       "    }\n",
       "\n",
       "    function displayChart(vegaEmbed) {\n",
       "      vegaEmbed(outputDiv, spec, embedOpt)\n",
       "        .catch(err => showError(`Javascript Error: ${err.message}<br>This usually means there's a typo in your chart specification. See the javascript console for the full traceback.`));\n",
       "    }\n",
       "\n",
       "    if(typeof define === \"function\" && define.amd) {\n",
       "      requirejs.config({paths});\n",
       "      require([\"vega-embed\"], displayChart, err => showError(`Error loading script: ${err.message}`));\n",
       "    } else {\n",
       "      maybeLoadScript(\"vega\", \"5\")\n",
       "        .then(() => maybeLoadScript(\"vega-lite\", \"5.16.3\"))\n",
       "        .then(() => maybeLoadScript(\"vega-embed\", \"6\"))\n",
       "        .catch(showError)\n",
       "        .then(() => displayChart(vegaEmbed));\n",
       "    }\n",
       "  })({\"config\": {\"view\": {\"continuousWidth\": 300, \"continuousHeight\": 300, \"strokeWidth\": 0}}, \"layer\": [{\"data\": {\"name\": \"data-c08fa5e6125e6b9b5b39ba9d5c5978bd\"}, \"mark\": {\"type\": \"line\"}, \"encoding\": {\"color\": {\"value\": \"#606060\"}, \"detail\": {\"field\": \"edge\", \"type\": \"quantitative\"}, \"opacity\": {\"value\": 1.0}, \"strokeWidth\": {\"value\": 2.0}, \"x\": {\"axis\": {\"domain\": false, \"grid\": false, \"labels\": false, \"ticks\": false, \"title\": \"\"}, \"field\": \"x\", \"type\": \"quantitative\"}, \"y\": {\"axis\": {\"domain\": false, \"grid\": false, \"labels\": false, \"ticks\": false, \"title\": \"\"}, \"field\": \"y\", \"type\": \"quantitative\"}}}, {\"data\": {\"name\": \"data-f768e4b1d45986577a4d970f025883ed\"}, \"mark\": {\"type\": \"circle\"}, \"encoding\": {\"fill\": {\"condition\": {\"param\": \"param_54\", \"value\": \"red\", \"empty\": false}, \"value\": \"black\"}, \"opacity\": {\"value\": 1}, \"size\": {\"value\": 100}, \"stroke\": {\"value\": \"#565656\"}, \"strokeWidth\": {\"value\": 0}, \"tooltip\": [], \"x\": {\"axis\": {\"domain\": false, \"grid\": false, \"labels\": false, \"ticks\": false, \"title\": \"\"}, \"field\": \"x\", \"type\": \"quantitative\"}, \"y\": {\"axis\": {\"domain\": false, \"grid\": false, \"labels\": false, \"ticks\": false, \"title\": \"\"}, \"field\": \"y\", \"type\": \"quantitative\"}}, \"name\": \"view_41\"}], \"height\": 240, \"params\": [{\"name\": \"param_54\", \"select\": {\"type\": \"point\", \"fields\": [\"x\", \"y\"], \"nearest\": true, \"on\": \"mouseover\"}, \"views\": [\"view_41\"]}], \"resolve\": {\"scale\": {\"color\": \"independent\", \"fill\": \"independent\", \"opacity\": \"independent\", \"size\": \"independent\", \"strokeWidth\": \"independent\"}}, \"width\": 240, \"$schema\": \"https://vega.github.io/schema/vega-lite/v5.16.3.json\", \"datasets\": {\"data-c08fa5e6125e6b9b5b39ba9d5c5978bd\": [{\"edge\": 0, \"target\": 1, \"x\": 453.73304681604566, \"y\": 521.4050129838961, \"pair\": [0, 1], \"source\": 0}, {\"edge\": 0, \"target\": 1, \"x\": 710.4055881017313, \"y\": 430.32704355084195, \"pair\": [0, 1], \"source\": 0}, {\"edge\": 1, \"target\": 2, \"x\": 453.73304681604566, \"y\": 521.4050129838961, \"pair\": [0, 2], \"source\": 0}, {\"edge\": 1, \"target\": 2, \"x\": 225.5996703921336, \"y\": 438.0774111280322, \"pair\": [0, 2], \"source\": 0}, {\"edge\": 2, \"target\": 3, \"x\": 453.73304681604566, \"y\": 521.4050129838961, \"pair\": [0, 3], \"source\": 0}, {\"edge\": 2, \"target\": 3, \"x\": 536.0764261389228, \"y\": 402.24173661138224, \"pair\": [0, 3], \"source\": 0}, {\"edge\": 3, \"target\": 5, \"x\": 453.73304681604566, \"y\": 521.4050129838961, \"pair\": [0, 5], \"source\": 0}, {\"edge\": 3, \"target\": 5, \"x\": 370.73522625421697, \"y\": 347.4705609541472, \"pair\": [0, 5], \"source\": 0}, {\"edge\": 4, \"target\": 3, \"x\": 710.4055881017313, \"y\": 430.32704355084195, \"pair\": [1, 3], \"source\": 1}, {\"edge\": 4, \"target\": 3, \"x\": 536.0764261389228, \"y\": 402.24173661138224, \"pair\": [1, 3], \"source\": 1}, {\"edge\": 5, \"target\": 4, \"x\": 710.4055881017313, \"y\": 430.32704355084195, \"pair\": [1, 4], \"source\": 1}, {\"edge\": 5, \"target\": 4, \"x\": 765.1629657939311, \"y\": 272.9732621115331, \"pair\": [1, 4], \"source\": 1}, {\"edge\": 6, \"target\": 6, \"x\": 710.4055881017313, \"y\": 430.32704355084195, \"pair\": [1, 6], \"source\": 1}, {\"edge\": 6, \"target\": 6, \"x\": 569.2776873489825, \"y\": 260.4411245785809, \"pair\": [1, 6], \"source\": 1}, {\"edge\": 7, \"target\": 3, \"x\": 225.5996703921336, \"y\": 438.0774111280322, \"pair\": [2, 3], \"source\": 2}, {\"edge\": 7, \"target\": 3, \"x\": 536.0764261389228, \"y\": 402.24173661138224, \"pair\": [2, 3], \"source\": 2}, {\"edge\": 8, \"target\": 5, \"x\": 225.5996703921336, \"y\": 438.0774111280322, \"pair\": [2, 5], \"source\": 2}, {\"edge\": 8, \"target\": 5, \"x\": 370.73522625421697, \"y\": 347.4705609541472, \"pair\": [2, 5], \"source\": 2}, {\"edge\": 9, \"target\": 4, \"x\": 536.0764261389228, \"y\": 402.24173661138224, \"pair\": [3, 4], \"source\": 3}, {\"edge\": 9, \"target\": 4, \"x\": 765.1629657939311, \"y\": 272.9732621115331, \"pair\": [3, 4], \"source\": 3}, {\"edge\": 10, \"target\": 5, \"x\": 536.0764261389228, \"y\": 402.24173661138224, \"pair\": [3, 5], \"source\": 3}, {\"edge\": 10, \"target\": 5, \"x\": 370.73522625421697, \"y\": 347.4705609541472, \"pair\": [3, 5], \"source\": 3}, {\"edge\": 11, \"target\": 6, \"x\": 536.0764261389228, \"y\": 402.24173661138224, \"pair\": [3, 6], \"source\": 3}, {\"edge\": 11, \"target\": 6, \"x\": 569.2776873489825, \"y\": 260.4411245785809, \"pair\": [3, 6], \"source\": 3}, {\"edge\": 12, \"target\": 6, \"x\": 765.1629657939311, \"y\": 272.9732621115331, \"pair\": [4, 6], \"source\": 4}, {\"edge\": 12, \"target\": 6, \"x\": 569.2776873489825, \"y\": 260.4411245785809, \"pair\": [4, 6], \"source\": 4}, {\"edge\": 13, \"target\": 6, \"x\": 370.73522625421697, \"y\": 347.4705609541472, \"pair\": [5, 6], \"source\": 5}, {\"edge\": 13, \"target\": 6, \"x\": 569.2776873489825, \"y\": 260.4411245785809, \"pair\": [5, 6], \"source\": 5}, {\"edge\": 14, \"target\": 7, \"x\": 370.73522625421697, \"y\": 347.4705609541472, \"pair\": [5, 7], \"source\": 5}, {\"edge\": 14, \"target\": 7, \"x\": 312.9882881033638, \"y\": 166.35146030249825, \"pair\": [5, 7], \"source\": 5}, {\"edge\": 15, \"target\": 7, \"x\": 569.2776873489825, \"y\": 260.4411245785809, \"pair\": [6, 7], \"source\": 6}, {\"edge\": 15, \"target\": 7, \"x\": 312.9882881033638, \"y\": 166.35146030249825, \"pair\": [6, 7], \"source\": 6}, {\"edge\": 16, \"target\": 8, \"x\": 312.9882881033638, \"y\": 166.35146030249825, \"pair\": [7, 8], \"source\": 7}, {\"edge\": 16, \"target\": 8, \"x\": 56.02110105067237, \"y\": 155.61003138145708, \"pair\": [7, 8], \"source\": 7}, {\"edge\": 17, \"target\": 9, \"x\": 56.02110105067237, \"y\": 155.61003138145708, \"pair\": [8, 9], \"source\": 8}, {\"edge\": 17, \"target\": 9, \"x\": 0.0, \"y\": 5.102356397631025, \"pair\": [8, 9], \"source\": 8}], \"data-f768e4b1d45986577a4d970f025883ed\": [{\"x\": 453.73304681604566, \"y\": 521.4050129838961, \"__node_size\": 100, \"__node_r\": 5.0}, {\"x\": 710.4055881017313, \"y\": 430.32704355084195, \"__node_size\": 100, \"__node_r\": 5.0}, {\"x\": 225.5996703921336, \"y\": 438.0774111280322, \"__node_size\": 100, \"__node_r\": 5.0}, {\"x\": 536.0764261389228, \"y\": 402.24173661138224, \"__node_size\": 100, \"__node_r\": 5.0}, {\"x\": 765.1629657939311, \"y\": 272.9732621115331, \"__node_size\": 100, \"__node_r\": 5.0}, {\"x\": 370.73522625421697, \"y\": 347.4705609541472, \"__node_size\": 100, \"__node_r\": 5.0}, {\"x\": 569.2776873489825, \"y\": 260.4411245785809, \"__node_size\": 100, \"__node_r\": 5.0}, {\"x\": 312.9882881033638, \"y\": 166.35146030249825, \"__node_size\": 100, \"__node_r\": 5.0}, {\"x\": 56.02110105067237, \"y\": 155.61003138145708, \"__node_size\": 100, \"__node_r\": 5.0}, {\"x\": 0.0, \"y\": 5.102356397631025, \"__node_size\": 100, \"__node_r\": 5.0}]}}, {\"mode\": \"vega-lite\"});\n",
       "</script>"
      ],
      "text/plain": [
       "alt.LayerChart(...)"
      ]
     },
     "execution_count": 50,
     "metadata": {},
     "output_type": "execute_result"
    }
   ],
   "source": [
    "G = nx.krackhardt_kite_graph()\n",
    "\n",
    "nearest_node = alt.selection_point(nearest=True, on='mouseover',fields=['x', 'y'], empty=False)\n",
    "\n",
    "alph(\n",
    "    G,\n",
    "    layout_fn = lambda g: nx.spring_layout(g, k=1, seed=20),\n",
    "    node_args = dict(\n",
    "      fill=alt.condition(nearest_node, alt.value(\"red\"), alt.value(\"black\")),\n",
    "    ),\n",
    "    nodes_layer_params=nearest_node,\n",
    ").configure_view(strokeWidth=0).properties(width=240, height=240)"
   ]
  },
  {
   "cell_type": "code",
   "execution_count": null,
   "metadata": {},
   "outputs": [],
   "source": []
  }
 ],
 "metadata": {
  "kernelspec": {
   "display_name": ".venv",
   "language": "python",
   "name": "python3"
  },
  "language_info": {
   "codemirror_mode": {
    "name": "ipython",
    "version": 3
   },
   "file_extension": ".py",
   "mimetype": "text/x-python",
   "name": "python",
   "nbconvert_exporter": "python",
   "pygments_lexer": "ipython3",
   "version": "3.10.7"
  }
 },
 "nbformat": 4,
 "nbformat_minor": 2
}
