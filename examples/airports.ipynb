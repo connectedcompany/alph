{
 "cells": [
  {
   "cell_type": "code",
   "execution_count": 2,
   "metadata": {},
   "outputs": [],
   "source": [
    "import os\n",
    "import sys\n",
    "import altair as alt\n",
    "import networkx as nx\n",
    "import numpy as np\n",
    "import pandas as pd\n",
    "from IPython.display import display\n",
    "\n",
    "\"..\" in sys.path or sys.path.append(\"..\")\n",
    "from alph import alph, layout"
   ]
  },
  {
   "cell_type": "code",
   "execution_count": 3,
   "metadata": {},
   "outputs": [
    {
     "data": {
      "text/plain": [
       "DataTransformerRegistry.enable('chart_data_dir')"
      ]
     },
     "execution_count": 3,
     "metadata": {},
     "output_type": "execute_result"
    }
   ],
   "source": [
    "# Pick a different appraoch for large Altair graphs if you like\n",
    "# https://altair-viz.github.io/user_guide/faq.html#maxrowserror-how-can-i-plot-large-datasets\n",
    "# https://altair-viz.github.io/user_guide/data_transformers.html#storing-json-data-in-a-separate-directory\n",
    "\n",
    "def chart_data_dir(data, data_dir='out'):\n",
    "    os.makedirs(data_dir, exist_ok=True)\n",
    "    return alt.to_json(data, filename=data_dir + \"/{prefix}-{hash}.{extension}\")\n",
    "\n",
    "\n",
    "alt.data_transformers.register(\"chart_data_dir\", chart_data_dir)\n",
    "alt.data_transformers.enable(\"chart_data_dir\")"
   ]
  },
  {
   "cell_type": "code",
   "execution_count": 4,
   "metadata": {},
   "outputs": [
    {
     "name": "stdout",
     "output_type": "stream",
     "text": [
      "7698 airport(s), 66771 route(s)\n"
     ]
    },
    {
     "data": {
      "text/html": [
       "<div>\n",
       "<style scoped>\n",
       "    .dataframe tbody tr th:only-of-type {\n",
       "        vertical-align: middle;\n",
       "    }\n",
       "\n",
       "    .dataframe tbody tr th {\n",
       "        vertical-align: top;\n",
       "    }\n",
       "\n",
       "    .dataframe thead th {\n",
       "        text-align: right;\n",
       "    }\n",
       "</style>\n",
       "<table border=\"1\" class=\"dataframe\">\n",
       "  <thead>\n",
       "    <tr style=\"text-align: right;\">\n",
       "      <th></th>\n",
       "      <th>airline</th>\n",
       "      <th>airline_id</th>\n",
       "      <th>source_airport</th>\n",
       "      <th>source_airport_id</th>\n",
       "      <th>destination_airport</th>\n",
       "      <th>destination_airport_id</th>\n",
       "      <th>codeshare</th>\n",
       "      <th>stops</th>\n",
       "      <th>equipment</th>\n",
       "    </tr>\n",
       "  </thead>\n",
       "  <tbody>\n",
       "    <tr>\n",
       "      <th>0</th>\n",
       "      <td>2B</td>\n",
       "      <td>410</td>\n",
       "      <td>AER</td>\n",
       "      <td>2965</td>\n",
       "      <td>KZN</td>\n",
       "      <td>2990</td>\n",
       "      <td>NaN</td>\n",
       "      <td>0</td>\n",
       "      <td>CR2</td>\n",
       "    </tr>\n",
       "    <tr>\n",
       "      <th>1</th>\n",
       "      <td>2B</td>\n",
       "      <td>410</td>\n",
       "      <td>ASF</td>\n",
       "      <td>2966</td>\n",
       "      <td>KZN</td>\n",
       "      <td>2990</td>\n",
       "      <td>NaN</td>\n",
       "      <td>0</td>\n",
       "      <td>CR2</td>\n",
       "    </tr>\n",
       "  </tbody>\n",
       "</table>\n",
       "</div>"
      ],
      "text/plain": [
       "  airline airline_id source_airport  source_airport_id destination_airport  \\\n",
       "0      2B        410            AER               2965                 KZN   \n",
       "1      2B        410            ASF               2966                 KZN   \n",
       "\n",
       "   destination_airport_id codeshare  stops equipment  \n",
       "0                    2990       NaN      0       CR2  \n",
       "1                    2990       NaN      0       CR2  "
      ]
     },
     "metadata": {},
     "output_type": "display_data"
    },
    {
     "data": {
      "text/html": [
       "<div>\n",
       "<style scoped>\n",
       "    .dataframe tbody tr th:only-of-type {\n",
       "        vertical-align: middle;\n",
       "    }\n",
       "\n",
       "    .dataframe tbody tr th {\n",
       "        vertical-align: top;\n",
       "    }\n",
       "\n",
       "    .dataframe thead th {\n",
       "        text-align: right;\n",
       "    }\n",
       "</style>\n",
       "<table border=\"1\" class=\"dataframe\">\n",
       "  <thead>\n",
       "    <tr style=\"text-align: right;\">\n",
       "      <th></th>\n",
       "      <th>airport_id</th>\n",
       "      <th>name</th>\n",
       "      <th>city</th>\n",
       "      <th>country</th>\n",
       "      <th>iata</th>\n",
       "      <th>icao</th>\n",
       "      <th>latitude</th>\n",
       "      <th>longitude</th>\n",
       "      <th>altitude</th>\n",
       "      <th>timezone</th>\n",
       "      <th>dst</th>\n",
       "      <th>tz_database_time_zone</th>\n",
       "      <th>type</th>\n",
       "      <th>source</th>\n",
       "    </tr>\n",
       "  </thead>\n",
       "  <tbody>\n",
       "    <tr>\n",
       "      <th>0</th>\n",
       "      <td>1</td>\n",
       "      <td>Goroka Airport</td>\n",
       "      <td>Goroka</td>\n",
       "      <td>Papua New Guinea</td>\n",
       "      <td>GKA</td>\n",
       "      <td>AYGA</td>\n",
       "      <td>-6.08169</td>\n",
       "      <td>145.391998</td>\n",
       "      <td>5282</td>\n",
       "      <td>10</td>\n",
       "      <td>U</td>\n",
       "      <td>Pacific/Port_Moresby</td>\n",
       "      <td>airport</td>\n",
       "      <td>OurAirports</td>\n",
       "    </tr>\n",
       "    <tr>\n",
       "      <th>1</th>\n",
       "      <td>2</td>\n",
       "      <td>Madang Airport</td>\n",
       "      <td>Madang</td>\n",
       "      <td>Papua New Guinea</td>\n",
       "      <td>MAG</td>\n",
       "      <td>AYMD</td>\n",
       "      <td>-5.20708</td>\n",
       "      <td>145.789001</td>\n",
       "      <td>20</td>\n",
       "      <td>10</td>\n",
       "      <td>U</td>\n",
       "      <td>Pacific/Port_Moresby</td>\n",
       "      <td>airport</td>\n",
       "      <td>OurAirports</td>\n",
       "    </tr>\n",
       "  </tbody>\n",
       "</table>\n",
       "</div>"
      ],
      "text/plain": [
       "   airport_id            name    city           country iata  icao  latitude  \\\n",
       "0           1  Goroka Airport  Goroka  Papua New Guinea  GKA  AYGA  -6.08169   \n",
       "1           2  Madang Airport  Madang  Papua New Guinea  MAG  AYMD  -5.20708   \n",
       "\n",
       "    longitude  altitude timezone dst tz_database_time_zone     type  \\\n",
       "0  145.391998      5282       10   U  Pacific/Port_Moresby  airport   \n",
       "1  145.789001        20       10   U  Pacific/Port_Moresby  airport   \n",
       "\n",
       "        source  \n",
       "0  OurAirports  \n",
       "1  OurAirports  "
      ]
     },
     "metadata": {},
     "output_type": "display_data"
    }
   ],
   "source": [
    "# Ref: https://openflights.org/data.html\n",
    "# https://www.kaggle.com/code/divyanshrai/airport-route-analysis\n",
    "\n",
    "routes_url = \"https://raw.githubusercontent.com/jpatokal/openflights/master/data/routes.dat\"\n",
    "airports_url = \"https://raw.githubusercontent.com/jpatokal/openflights/master/data/airports.dat\"\n",
    "\n",
    "airports_cols = [\n",
    "    x.lower().replace(\" \", \"_\")\n",
    "    for x in [\n",
    "        \"Airport ID\", \"Name\", \"City\", \"Country\", \"IATA\",\n",
    "        \"ICAO\", \"Latitude\", \"Longitude\", \"Altitude\", \n",
    "        \"Timezone\", \"DST\", \"Tz database time zone\", \"Type\", \"Source\",\n",
    "    ]\n",
    "]\n",
    "routes_cols = [\n",
    "    x.lower().replace(\" \", \"_\")\n",
    "    for x in [\n",
    "        \"Airline\", \"Airline ID\",\n",
    "        \"Source airport\", \"Source airport ID\",\n",
    "        \"Destination airport\", \"Destination airport ID\",\n",
    "        \"Codeshare\", \"Stops\", \"Equipment\"\n",
    "    ]\n",
    "]\n",
    "\n",
    "airports = pd.read_csv(airports_url, names=airports_cols)\n",
    "\n",
    "routes = pd.read_csv(routes_url, names=routes_cols).pipe(\n",
    "    lambda d: d[\n",
    "        (d[\"source_airport_id\"] != \"\\\\N\") & (d[\"destination_airport_id\"] != \"\\\\N\")\n",
    "    ]\n",
    ").astype({\n",
    "    \"source_airport_id\": int,\n",
    "    \"destination_airport_id\": int,\n",
    "}).pipe(\n",
    "    lambda d: d[\n",
    "        (d[\"source_airport_id\"].isin(airports[\"airport_id\"])) & (d[\"destination_airport_id\"].isin(airports[\"airport_id\"]))\n",
    "    ]\n",
    ")\n",
    "\n",
    "print(f\"{airports.shape[0]} airport(s), {routes.shape[0]} route(s)\")\n",
    "display(routes.head(2))\n",
    "display(airports.head(2))"
   ]
  },
  {
   "cell_type": "code",
   "execution_count": 5,
   "metadata": {},
   "outputs": [
    {
     "name": "stdout",
     "output_type": "stream",
     "text": [
      "18858 unique undirected route(s)\n"
     ]
    },
    {
     "data": {
      "text/html": [
       "<div>\n",
       "<style scoped>\n",
       "    .dataframe tbody tr th:only-of-type {\n",
       "        vertical-align: middle;\n",
       "    }\n",
       "\n",
       "    .dataframe tbody tr th {\n",
       "        vertical-align: top;\n",
       "    }\n",
       "\n",
       "    .dataframe thead th {\n",
       "        text-align: right;\n",
       "    }\n",
       "</style>\n",
       "<table border=\"1\" class=\"dataframe\">\n",
       "  <thead>\n",
       "    <tr style=\"text-align: right;\">\n",
       "      <th></th>\n",
       "      <th>a_id</th>\n",
       "      <th>b_id</th>\n",
       "      <th>weight</th>\n",
       "      <th>weight_norm</th>\n",
       "    </tr>\n",
       "  </thead>\n",
       "  <tbody>\n",
       "    <tr>\n",
       "      <th>17137</th>\n",
       "      <td>3682</td>\n",
       "      <td>3830</td>\n",
       "      <td>39</td>\n",
       "      <td>1.000000</td>\n",
       "    </tr>\n",
       "    <tr>\n",
       "      <th>12958</th>\n",
       "      <td>3077</td>\n",
       "      <td>3885</td>\n",
       "      <td>24</td>\n",
       "      <td>0.615385</td>\n",
       "    </tr>\n",
       "    <tr>\n",
       "      <th>16444</th>\n",
       "      <td>3576</td>\n",
       "      <td>3682</td>\n",
       "      <td>24</td>\n",
       "      <td>0.615385</td>\n",
       "    </tr>\n",
       "    <tr>\n",
       "      <th>3623</th>\n",
       "      <td>507</td>\n",
       "      <td>3797</td>\n",
       "      <td>24</td>\n",
       "      <td>0.615385</td>\n",
       "    </tr>\n",
       "    <tr>\n",
       "      <th>13247</th>\n",
       "      <td>3179</td>\n",
       "      <td>3885</td>\n",
       "      <td>23</td>\n",
       "      <td>0.589744</td>\n",
       "    </tr>\n",
       "  </tbody>\n",
       "</table>\n",
       "</div>"
      ],
      "text/plain": [
       "       a_id  b_id  weight  weight_norm\n",
       "17137  3682  3830      39     1.000000\n",
       "12958  3077  3885      24     0.615385\n",
       "16444  3576  3682      24     0.615385\n",
       "3623    507  3797      24     0.615385\n",
       "13247  3179  3885      23     0.589744"
      ]
     },
     "execution_count": 5,
     "metadata": {},
     "output_type": "execute_result"
    }
   ],
   "source": [
    "route_edges = (\n",
    "    routes\n",
    "    .assign(\n",
    "        a_id=lambda d: np.where(\n",
    "            d[\"source_airport_id\"] <= d[\"destination_airport_id\"], d[\"source_airport_id\"], d[\"destination_airport_id\"]\n",
    "        ),\n",
    "        b_id=lambda d: np.where(\n",
    "            d[\"source_airport_id\"] <= d[\"destination_airport_id\"], d[\"destination_airport_id\"], d[\"source_airport_id\"]\n",
    "        ),\n",
    "    )\n",
    "    .pipe(lambda d: d[d[\"a_id\"] != d[\"b_id\"]])\n",
    "    .groupby([\"a_id\", \"b_id\"])\n",
    "    [\"airline_id\"].count()\n",
    "    .rename(\"weight\")    \n",
    "    .reset_index()\n",
    ").assign(\n",
    "    weight_norm=lambda d: d[\"weight\"] / d[\"weight\"].max(),\n",
    ")\n",
    "\n",
    "print(f\"{len(route_edges)} unique undirected route(s)\")\n",
    "route_edges.sort_values(by=\"weight\", ascending=False).head()"
   ]
  },
  {
   "cell_type": "code",
   "execution_count": 6,
   "metadata": {},
   "outputs": [
    {
     "name": "stdout",
     "output_type": "stream",
     "text": [
      "nodes: 3214 edges: 18858\n",
      "max deg centrality: 0.0771864301276066\n"
     ]
    }
   ],
   "source": [
    "airports_by_id = airports[[\n",
    "    \"airport_id\", \"name\", \"city\", \"country\", \"iata\", \"icao\"\n",
    "]].set_index(\"airport_id\").to_dict(\"index\")\n",
    "\n",
    "G = nx.from_pandas_edgelist(route_edges, source=\"a_id\", target=\"b_id\", edge_attr=\"weight\")\n",
    "nx.set_node_attributes(G, {n: airports_by_id[n] for n in G.nodes()})\n",
    "nx.set_node_attributes(G, nx.degree_centrality(G), \"degree_centrality\")\n",
    "\n",
    "print(\"nodes:\", len(G.nodes()), \"edges:\", len(G.edges()))\n",
    "print(\"max deg centrality:\", max([d for _, d in G.nodes(data=\"degree_centrality\")]))"
   ]
  },
  {
   "cell_type": "code",
   "execution_count": 7,
   "metadata": {},
   "outputs": [],
   "source": [
    "def alph_call(G, layout_fn=None):\n",
    "    if layout_fn is None:\n",
    "        layout_fn = lambda g: layout.force_atlas(\n",
    "            g, weight_attr=\"weight\", strongGravityMode=False, edgeWeightInfluence=1, gravity=80, seed=123\n",
    "        )\n",
    "    \n",
    "    return alph(\n",
    "        G,\n",
    "        layout_fn=layout_fn,\n",
    "        # layout_fn=lambda g: nx.spring_layout(\n",
    "        #     g, weight=\"weight\", k=1, iterations=1000, seed=123\n",
    "        # ),\n",
    "        node_args=dict(\n",
    "            size=alt.Size(\n",
    "                \"degree_centrality\",\n",
    "                scale=alt.Scale(domain=[0,0.1], range=[3**2, 8**2]),\n",
    "                legend=None\n",
    "            ),\n",
    "            fill=alt.Color(\n",
    "                \"degree_centrality\",\n",
    "                scale=alt.Scale(domain=[0,0.1], range=[\"#4b6f91\", \"orange\"]),\n",
    "                legend=None\n",
    "            ),\n",
    "            halo_offset=None,\n",
    "            tooltip_attrs=[\"iata\", \"city\", \"country\"],\n",
    "        ),\n",
    "        edge_args=dict(\n",
    "            color=\"#aaa\",\n",
    "            opacity=alt.Size(\n",
    "                \"weight:Q\",\n",
    "                scale=alt.Scale(domain=[0,1], range=[0.0, 0.5]),\n",
    "                legend=None\n",
    "            ),\n",
    "            strokeWidth=alt.Size(\n",
    "                \"weight:Q\",\n",
    "                scale=alt.Scale(domain=[0,1], range=[0, 0.1]),\n",
    "                legend=None\n",
    "            ),\n",
    "        ),\n",
    "    ).configure_view(strokeWidth=0).properties( width=960, height=540)\n",
    "\n",
    "# %reload_ext line_profiler\n",
    "# %lprun -f alph alph_call()\n",
    "\n",
    "#alph_call()"
   ]
  },
  {
   "cell_type": "code",
   "execution_count": null,
   "metadata": {},
   "outputs": [],
   "source": [
    "# normalise longitude / latitude; they don't have to be -1:1 or 0:1 range,\n",
    "# however by default lat is -90:90 and long is -180:180, so we get them onto equivalent scales\n",
    "pos_long_lat = {\n",
    "    k: (\n",
    "        np.interp(item[\"longitude\"], [-180,180], [-1, 1]),\n",
    "        np.interp(item[\"latitude\"], [-90,90], [-1,1]),\n",
    "    )\n",
    "    for k, item in airports.set_index(\"airport_id\").to_dict(\"index\").items()\n",
    "}\n",
    "# creates {airport_id: (long, lat), ...} - e.g. {1: (145.391998291, -6.081689834590001), ...}\n",
    "\n",
    "# optionally, sort nodes to ensure high centrality nodes are last, hence rendered over the top of others\n",
    "def sort_graph_nodes_by_attr(G, attr_name, reverse=False):\n",
    "    G_sorted = nx.Graph()\n",
    "    \n",
    "    G_sorted.add_nodes_from(sorted(\n",
    "        G.nodes(data=True),\n",
    "        key=lambda nd: nd[1][attr_name],\n",
    "        reverse=reverse,\n",
    "    ))\n",
    "    G_sorted.add_edges_from(G.edges(data=True))\n",
    "    \n",
    "    return G_sorted\n",
    "\n",
    "G_sorted = sort_graph_nodes_by_attr(G, \"degree_centrality\")\n",
    "alph_call(G_sorted, layout_fn=lambda _: pos_long_lat)"
   ]
  },
  {
   "cell_type": "code",
   "execution_count": 9,
   "metadata": {},
   "outputs": [
    {
     "data": {
      "text/html": [
       "\n",
       "<div id=\"altair-viz-2ae4c73e8c494124bba3cc6393adcec6\"></div>\n",
       "<script type=\"text/javascript\">\n",
       "  var VEGA_DEBUG = (typeof VEGA_DEBUG == \"undefined\") ? {} : VEGA_DEBUG;\n",
       "  (function(spec, embedOpt){\n",
       "    let outputDiv = document.currentScript.previousElementSibling;\n",
       "    if (outputDiv.id !== \"altair-viz-2ae4c73e8c494124bba3cc6393adcec6\") {\n",
       "      outputDiv = document.getElementById(\"altair-viz-2ae4c73e8c494124bba3cc6393adcec6\");\n",
       "    }\n",
       "    const paths = {\n",
       "      \"vega\": \"https://cdn.jsdelivr.net/npm//vega@5?noext\",\n",
       "      \"vega-lib\": \"https://cdn.jsdelivr.net/npm//vega-lib?noext\",\n",
       "      \"vega-lite\": \"https://cdn.jsdelivr.net/npm//vega-lite@4.17.0?noext\",\n",
       "      \"vega-embed\": \"https://cdn.jsdelivr.net/npm//vega-embed@6?noext\",\n",
       "    };\n",
       "\n",
       "    function maybeLoadScript(lib, version) {\n",
       "      var key = `${lib.replace(\"-\", \"\")}_version`;\n",
       "      return (VEGA_DEBUG[key] == version) ?\n",
       "        Promise.resolve(paths[lib]) :\n",
       "        new Promise(function(resolve, reject) {\n",
       "          var s = document.createElement('script');\n",
       "          document.getElementsByTagName(\"head\")[0].appendChild(s);\n",
       "          s.async = true;\n",
       "          s.onload = () => {\n",
       "            VEGA_DEBUG[key] = version;\n",
       "            return resolve(paths[lib]);\n",
       "          };\n",
       "          s.onerror = () => reject(`Error loading script: ${paths[lib]}`);\n",
       "          s.src = paths[lib];\n",
       "        });\n",
       "    }\n",
       "\n",
       "    function showError(err) {\n",
       "      outputDiv.innerHTML = `<div class=\"error\" style=\"color:red;\">${err}</div>`;\n",
       "      throw err;\n",
       "    }\n",
       "\n",
       "    function displayChart(vegaEmbed) {\n",
       "      vegaEmbed(outputDiv, spec, embedOpt)\n",
       "        .catch(err => showError(`Javascript Error: ${err.message}<br>This usually means there's a typo in your chart specification. See the javascript console for the full traceback.`));\n",
       "    }\n",
       "\n",
       "    if(typeof define === \"function\" && define.amd) {\n",
       "      requirejs.config({paths});\n",
       "      require([\"vega-embed\"], displayChart, err => showError(`Error loading script: ${err.message}`));\n",
       "    } else {\n",
       "      maybeLoadScript(\"vega\", \"5\")\n",
       "        .then(() => maybeLoadScript(\"vega-lite\", \"4.17.0\"))\n",
       "        .then(() => maybeLoadScript(\"vega-embed\", \"6\"))\n",
       "        .catch(showError)\n",
       "        .then(() => displayChart(vegaEmbed));\n",
       "    }\n",
       "  })({\"config\": {\"view\": {\"continuousWidth\": 400, \"continuousHeight\": 300, \"strokeWidth\": 0}}, \"layer\": [{\"data\": {\"url\": \"out/altair-data-70e31d6505b46caf99b6fc3414ae2d50.json\", \"format\": {\"type\": \"json\"}}, \"mark\": \"line\", \"encoding\": {\"color\": {\"value\": \"#aaa\"}, \"detail\": {\"field\": \"edge\", \"type\": \"quantitative\"}, \"opacity\": {\"field\": \"weight\", \"legend\": null, \"scale\": {\"domain\": [0, 1], \"range\": [0.0, 0.5]}, \"type\": \"quantitative\"}, \"strokeWidth\": {\"field\": \"weight\", \"legend\": null, \"scale\": {\"domain\": [0, 1], \"range\": [0, 0.1]}, \"type\": \"quantitative\"}, \"x\": {\"axis\": {\"domain\": false, \"grid\": false, \"labels\": false, \"ticks\": false, \"title\": \"\"}, \"field\": \"x\", \"type\": \"quantitative\"}, \"y\": {\"axis\": {\"domain\": false, \"grid\": false, \"labels\": false, \"ticks\": false, \"title\": \"\"}, \"field\": \"y\", \"type\": \"quantitative\"}}}, {\"data\": {\"url\": \"out/altair-data-acf7ba0d15d55f483caca5aea7d6f7cc.json\", \"format\": {\"type\": \"json\"}}, \"mark\": \"circle\", \"encoding\": {\"fill\": {\"field\": \"degree_centrality\", \"legend\": null, \"scale\": {\"domain\": [0, 0.1], \"range\": [\"#4b6f91\", \"orange\"]}, \"type\": \"quantitative\"}, \"opacity\": {\"value\": 1}, \"size\": {\"field\": \"degree_centrality\", \"legend\": null, \"scale\": {\"domain\": [0, 0.1], \"range\": [9, 64]}, \"type\": \"quantitative\"}, \"stroke\": {\"value\": \"#565656\"}, \"strokeWidth\": {\"value\": 0}, \"tooltip\": [{\"field\": \"iata\", \"type\": \"nominal\"}, {\"field\": \"city\", \"type\": \"nominal\"}, {\"field\": \"country\", \"type\": \"nominal\"}], \"x\": {\"axis\": {\"domain\": false, \"grid\": false, \"labels\": false, \"ticks\": false, \"title\": \"\"}, \"field\": \"x\", \"type\": \"quantitative\"}, \"y\": {\"axis\": {\"domain\": false, \"grid\": false, \"labels\": false, \"ticks\": false, \"title\": \"\"}, \"field\": \"y\", \"type\": \"quantitative\"}}}], \"height\": 540, \"resolve\": {\"scale\": {\"color\": \"independent\", \"fill\": \"independent\", \"opacity\": \"independent\", \"size\": \"independent\", \"strokeWidth\": \"independent\"}}, \"width\": 960, \"$schema\": \"https://vega.github.io/schema/vega-lite/v4.17.0.json\"}, {\"mode\": \"vega-lite\"});\n",
       "</script>"
      ],
      "text/plain": [
       "alt.LayerChart(...)"
      ]
     },
     "execution_count": 9,
     "metadata": {},
     "output_type": "execute_result"
    }
   ],
   "source": [
    "alph_call(G_sorted)"
   ]
  },
  {
   "cell_type": "code",
   "execution_count": 10,
   "metadata": {},
   "outputs": [
    {
     "name": "stdout",
     "output_type": "stream",
     "text": [
      "alpha = 0.05\n",
      "original: nodes = 1000, edges = 4975\n",
      "backbone: nodes = 22, edges = 11\n",
      "[(11, 895, {'weight': 78, 'alpha': 0.0268}), (17, 900, {'weight': 92, 'alpha': 0.0337}), (30, 875, {'weight': 94, 'alpha': 0.0332}), (103, 164, {'weight': 81, 'alpha': 0.0312}), (363, 613, {'weight': 93, 'alpha': 0.0162}), (865, 101, {'weight': 99, 'alpha': 0.0274}), (212, 448, {'weight': 81, 'alpha': 0.044}), (452, 571, {'weight': 84, 'alpha': 0.0262}), (976, 237, {'weight': 87, 'alpha': 0.0486}), (54, 525, {'weight': 87, 'alpha': 0.0326}), (209, 807, {'weight': 76, 'alpha': 0.0311})]\n"
     ]
    }
   ],
   "source": [
    "# https://github.com/aekpalakorn/python-backbone-network/blob/master/backbone.py\n",
    "\n",
    "from scipy import integrate\n",
    "\n",
    "\n",
    "def disparity_filter_undirected(G, weight_attr='weight'):\n",
    "    assert not G.is_directed()\n",
    "\n",
    "    B = nx.Graph()\n",
    "    for u in G:\n",
    "        k = len(G[u])\n",
    "        if k > 1:\n",
    "            sum_w = sum(np.absolute(G[u][v][weight_attr]) for v in G[u])\n",
    "            for v in G[u]:\n",
    "                w = G[u][v][weight_attr]\n",
    "                p_ij = float(np.absolute(w))/sum_w\n",
    "                alpha_ij = 1 - (k-1) * integrate.quad(lambda x: (1-x)**(k-2), 0, p_ij)[0]\n",
    "                B.add_edge(u, v, weight = w, alpha=float('%.4f' % alpha_ij))\n",
    "    return B\n",
    "\n",
    "            \n",
    "G = nx.barabasi_albert_graph(1000, 5)\n",
    "for u, v in G.edges():\n",
    "    G[u][v]['weight'] = np.random.randint(1,100)\n",
    "G = disparity_filter_undirected(G)\n",
    "\n",
    "alpha = 0.05\n",
    "G2 = nx.Graph([(u, v, d) for u, v, d in G.edges(data=True) if d['alpha'] < alpha])\n",
    "\n",
    "print('alpha = %s' % alpha)\n",
    "print('original: nodes = %s, edges = %s' % (G.number_of_nodes(), G.number_of_edges()))\n",
    "print('backbone: nodes = %s, edges = %s' % (G2.number_of_nodes(), G2.number_of_edges()))\n",
    "print(G2.edges(data=True))"
   ]
  },
  {
   "cell_type": "code",
   "execution_count": 35,
   "metadata": {},
   "outputs": [
    {
     "name": "stdout",
     "output_type": "stream",
     "text": [
      "backbone: nodes = 2658, edges = 8240\n"
     ]
    }
   ],
   "source": [
    "G_df = disparity_filter_undirected(G_sorted)\n",
    "\n",
    "alpha = 0.5\n",
    "G_bb = G_sorted.copy()\n",
    "G_bb.remove_edges_from([\n",
    "    (u, v)\n",
    "    for u, v, d in G_df.edges(data=True)\n",
    "     if d.get(\"alpha\", 1) < alpha # if no alpha, we need to prune\n",
    "])\n",
    "G_bb.remove_nodes_from(list(nx.isolates(G_bb)))\n",
    "\n",
    "# recalc node centrality\n",
    "nx.set_node_attributes(G_bb, nx.degree_centrality(G_bb), \"degree_centrality\")\n",
    "\n",
    "print('backbone: nodes = %s, edges = %s' % (G_bb.number_of_nodes(), G_bb.number_of_edges()))"
   ]
  },
  {
   "cell_type": "code",
   "execution_count": 31,
   "metadata": {},
   "outputs": [
    {
     "data": {
      "text/plain": [
       "3214"
      ]
     },
     "execution_count": 31,
     "metadata": {},
     "output_type": "execute_result"
    }
   ],
   "source": [
    "len(G_bb.nodes())"
   ]
  },
  {
   "cell_type": "code",
   "execution_count": 32,
   "metadata": {},
   "outputs": [
    {
     "data": {
      "text/html": [
       "\n",
       "<div id=\"altair-viz-fa48bb1c2c804d82bde11a7d95772953\"></div>\n",
       "<script type=\"text/javascript\">\n",
       "  var VEGA_DEBUG = (typeof VEGA_DEBUG == \"undefined\") ? {} : VEGA_DEBUG;\n",
       "  (function(spec, embedOpt){\n",
       "    let outputDiv = document.currentScript.previousElementSibling;\n",
       "    if (outputDiv.id !== \"altair-viz-fa48bb1c2c804d82bde11a7d95772953\") {\n",
       "      outputDiv = document.getElementById(\"altair-viz-fa48bb1c2c804d82bde11a7d95772953\");\n",
       "    }\n",
       "    const paths = {\n",
       "      \"vega\": \"https://cdn.jsdelivr.net/npm//vega@5?noext\",\n",
       "      \"vega-lib\": \"https://cdn.jsdelivr.net/npm//vega-lib?noext\",\n",
       "      \"vega-lite\": \"https://cdn.jsdelivr.net/npm//vega-lite@4.17.0?noext\",\n",
       "      \"vega-embed\": \"https://cdn.jsdelivr.net/npm//vega-embed@6?noext\",\n",
       "    };\n",
       "\n",
       "    function maybeLoadScript(lib, version) {\n",
       "      var key = `${lib.replace(\"-\", \"\")}_version`;\n",
       "      return (VEGA_DEBUG[key] == version) ?\n",
       "        Promise.resolve(paths[lib]) :\n",
       "        new Promise(function(resolve, reject) {\n",
       "          var s = document.createElement('script');\n",
       "          document.getElementsByTagName(\"head\")[0].appendChild(s);\n",
       "          s.async = true;\n",
       "          s.onload = () => {\n",
       "            VEGA_DEBUG[key] = version;\n",
       "            return resolve(paths[lib]);\n",
       "          };\n",
       "          s.onerror = () => reject(`Error loading script: ${paths[lib]}`);\n",
       "          s.src = paths[lib];\n",
       "        });\n",
       "    }\n",
       "\n",
       "    function showError(err) {\n",
       "      outputDiv.innerHTML = `<div class=\"error\" style=\"color:red;\">${err}</div>`;\n",
       "      throw err;\n",
       "    }\n",
       "\n",
       "    function displayChart(vegaEmbed) {\n",
       "      vegaEmbed(outputDiv, spec, embedOpt)\n",
       "        .catch(err => showError(`Javascript Error: ${err.message}<br>This usually means there's a typo in your chart specification. See the javascript console for the full traceback.`));\n",
       "    }\n",
       "\n",
       "    if(typeof define === \"function\" && define.amd) {\n",
       "      requirejs.config({paths});\n",
       "      require([\"vega-embed\"], displayChart, err => showError(`Error loading script: ${err.message}`));\n",
       "    } else {\n",
       "      maybeLoadScript(\"vega\", \"5\")\n",
       "        .then(() => maybeLoadScript(\"vega-lite\", \"4.17.0\"))\n",
       "        .then(() => maybeLoadScript(\"vega-embed\", \"6\"))\n",
       "        .catch(showError)\n",
       "        .then(() => displayChart(vegaEmbed));\n",
       "    }\n",
       "  })({\"config\": {\"view\": {\"continuousWidth\": 400, \"continuousHeight\": 300, \"strokeWidth\": 0}}, \"layer\": [{\"data\": {\"url\": \"out/altair-data-2ddb33e065097f4b0e2137316810904d.json\", \"format\": {\"type\": \"json\"}}, \"mark\": \"line\", \"encoding\": {\"color\": {\"value\": \"#aaa\"}, \"detail\": {\"field\": \"edge\", \"type\": \"quantitative\"}, \"opacity\": {\"field\": \"weight\", \"legend\": null, \"scale\": {\"domain\": [0, 1], \"range\": [0.0, 0.5]}, \"type\": \"quantitative\"}, \"strokeWidth\": {\"field\": \"weight\", \"legend\": null, \"scale\": {\"domain\": [0, 1], \"range\": [0, 0.1]}, \"type\": \"quantitative\"}, \"x\": {\"axis\": {\"domain\": false, \"grid\": false, \"labels\": false, \"ticks\": false, \"title\": \"\"}, \"field\": \"x\", \"type\": \"quantitative\"}, \"y\": {\"axis\": {\"domain\": false, \"grid\": false, \"labels\": false, \"ticks\": false, \"title\": \"\"}, \"field\": \"y\", \"type\": \"quantitative\"}}}, {\"data\": {\"url\": \"out/altair-data-73fdb8e144803a83c43e0430618abf8b.json\", \"format\": {\"type\": \"json\"}}, \"mark\": \"circle\", \"encoding\": {\"fill\": {\"field\": \"degree_centrality\", \"legend\": null, \"scale\": {\"domain\": [0, 0.1], \"range\": [\"#4b6f91\", \"orange\"]}, \"type\": \"quantitative\"}, \"opacity\": {\"value\": 1}, \"size\": {\"field\": \"degree_centrality\", \"legend\": null, \"scale\": {\"domain\": [0, 0.1], \"range\": [9, 64]}, \"type\": \"quantitative\"}, \"stroke\": {\"value\": \"#565656\"}, \"strokeWidth\": {\"value\": 0}, \"tooltip\": [{\"field\": \"iata\", \"type\": \"nominal\"}, {\"field\": \"city\", \"type\": \"nominal\"}, {\"field\": \"country\", \"type\": \"nominal\"}], \"x\": {\"axis\": {\"domain\": false, \"grid\": false, \"labels\": false, \"ticks\": false, \"title\": \"\"}, \"field\": \"x\", \"type\": \"quantitative\"}, \"y\": {\"axis\": {\"domain\": false, \"grid\": false, \"labels\": false, \"ticks\": false, \"title\": \"\"}, \"field\": \"y\", \"type\": \"quantitative\"}}}], \"height\": 540, \"resolve\": {\"scale\": {\"color\": \"independent\", \"fill\": \"independent\", \"opacity\": \"independent\", \"size\": \"independent\", \"strokeWidth\": \"independent\"}}, \"width\": 960, \"$schema\": \"https://vega.github.io/schema/vega-lite/v4.17.0.json\"}, {\"mode\": \"vega-lite\"});\n",
       "</script>"
      ],
      "text/plain": [
       "alt.LayerChart(...)"
      ]
     },
     "execution_count": 32,
     "metadata": {},
     "output_type": "execute_result"
    }
   ],
   "source": [
    "alph_call(G_bb)"
   ]
  },
  {
   "cell_type": "code",
   "execution_count": 57,
   "metadata": {},
   "outputs": [
    {
     "name": "stdout",
     "output_type": "stream",
     "text": [
      "nodes: 3214, edges: 5728\n"
     ]
    }
   ],
   "source": [
    "min_weight_threshold = 5 # could use quantile, etc\n",
    "edges_thr = [(u, v) for u, v, d in G_sorted.edges(data=True) if d[\"weight\"] >= min_weight_threshold]\n",
    "edges_mst = list(nx.maximum_spanning_edges(G_sorted, data=False))\n",
    "edges_to_keep = list(set([*edges_thr, *edges_mst]))\n",
    "\n",
    "G_mst = G_sorted.copy()\n",
    "G_mst.remove_edges_from(\n",
    "    [(u, v) for u, v in G_sorted.edges() if (u, v) not in edges_to_keep]\n",
    ")\n",
    "G_mst.remove_nodes_from(list(nx.isolates(G_mst)))\n",
    "\n",
    "# recalc node centrality\n",
    "nx.set_node_attributes(G_mst, nx.degree_centrality(G_mst), \"degree_centrality\")\n",
    "\n",
    "\n",
    "print(f\"nodes: {G_mst.number_of_nodes()}, edges: {G_mst.number_of_edges()}\")\n"
   ]
  },
  {
   "cell_type": "code",
   "execution_count": 58,
   "metadata": {},
   "outputs": [],
   "source": [
    "alph_call(G_mst)"
   ]
  },
  {
   "cell_type": "code",
   "execution_count": null,
   "metadata": {},
   "outputs": [],
   "source": []
  }
 ],
 "metadata": {
  "kernelspec": {
   "display_name": "Python 3.8.2 ('venv': venv)",
   "language": "python",
   "name": "python3"
  },
  "language_info": {
   "codemirror_mode": {
    "name": "ipython",
    "version": 3
   },
   "file_extension": ".py",
   "mimetype": "text/x-python",
   "name": "python",
   "nbconvert_exporter": "python",
   "pygments_lexer": "ipython3",
   "version": "3.10.7"
  },
  "orig_nbformat": 4,
  "vscode": {
   "interpreter": {
    "hash": "121ccb6ef33f050b5231fe1f8644b93952e7f3a79e0892dcb9cd03f1749809c5"
   }
  }
 },
 "nbformat": 4,
 "nbformat_minor": 2
}
