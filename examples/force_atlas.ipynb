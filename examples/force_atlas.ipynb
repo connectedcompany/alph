{
 "cells": [
  {
   "cell_type": "code",
   "execution_count": 5,
   "metadata": {},
   "outputs": [
    {
     "name": "stdout",
     "output_type": "stream",
     "text": [
      "The autoreload extension is already loaded. To reload it, use:\n",
      "  %reload_ext autoreload\n"
     ]
    }
   ],
   "source": [
    "import altair as alt\n",
    "import networkx as nx\n",
    "import numpy as np\n",
    "import sys\n",
    "\"..\" not in sys.path and sys.path.append(\"..\")\n",
    "\n",
    "from alph import alph, layout\n",
    "\n",
    "%load_ext autoreload\n",
    "%autoreload 2"
   ]
  },
  {
   "cell_type": "code",
   "execution_count": 6,
   "metadata": {},
   "outputs": [
    {
     "ename": "AttributeError",
     "evalue": "module 'alph.layout' has no attribute 'force_atlas_sknet'",
     "output_type": "error",
     "traceback": [
      "\u001b[0;31m---------------------------------------------------------------------------\u001b[0m",
      "\u001b[0;31mAttributeError\u001b[0m                            Traceback (most recent call last)",
      "\u001b[1;32m/Users/urosrapajic/work/alph/examples/force_atlas.ipynb Cell 2\u001b[0m in \u001b[0;36m<cell line: 9>\u001b[0;34m()\u001b[0m\n\u001b[1;32m      <a href='vscode-notebook-cell:/Users/urosrapajic/work/alph/examples/force_atlas.ipynb#W1sZmlsZQ%3D%3D?line=1'>2</a>\u001b[0m G_karate_club \u001b[39m=\u001b[39m nx\u001b[39m.\u001b[39mkarate_club_graph()\n\u001b[1;32m      <a href='vscode-notebook-cell:/Users/urosrapajic/work/alph/examples/force_atlas.ipynb#W1sZmlsZQ%3D%3D?line=2'>3</a>\u001b[0m nx\u001b[39m.\u001b[39mset_node_attributes(\n\u001b[1;32m      <a href='vscode-notebook-cell:/Users/urosrapajic/work/alph/examples/force_atlas.ipynb#W1sZmlsZQ%3D%3D?line=3'>4</a>\u001b[0m     G_karate_club,\n\u001b[1;32m      <a href='vscode-notebook-cell:/Users/urosrapajic/work/alph/examples/force_atlas.ipynb#W1sZmlsZQ%3D%3D?line=4'>5</a>\u001b[0m     nx\u001b[39m.\u001b[39mdegree_centrality(G_karate_club),\n\u001b[1;32m      <a href='vscode-notebook-cell:/Users/urosrapajic/work/alph/examples/force_atlas.ipynb#W1sZmlsZQ%3D%3D?line=5'>6</a>\u001b[0m     \u001b[39m\"\u001b[39m\u001b[39mdegree_centrality\u001b[39m\u001b[39m\"\u001b[39m\n\u001b[1;32m      <a href='vscode-notebook-cell:/Users/urosrapajic/work/alph/examples/force_atlas.ipynb#W1sZmlsZQ%3D%3D?line=6'>7</a>\u001b[0m )\n\u001b[0;32m----> <a href='vscode-notebook-cell:/Users/urosrapajic/work/alph/examples/force_atlas.ipynb#W1sZmlsZQ%3D%3D?line=8'>9</a>\u001b[0m alph(\n\u001b[1;32m     <a href='vscode-notebook-cell:/Users/urosrapajic/work/alph/examples/force_atlas.ipynb#W1sZmlsZQ%3D%3D?line=9'>10</a>\u001b[0m     G_karate_club,\n\u001b[1;32m     <a href='vscode-notebook-cell:/Users/urosrapajic/work/alph/examples/force_atlas.ipynb#W1sZmlsZQ%3D%3D?line=10'>11</a>\u001b[0m     weight_attr\u001b[39m=\u001b[39;49m\u001b[39m\"\u001b[39;49m\u001b[39mweight\u001b[39;49m\u001b[39m\"\u001b[39;49m,\n\u001b[1;32m     <a href='vscode-notebook-cell:/Users/urosrapajic/work/alph/examples/force_atlas.ipynb#W1sZmlsZQ%3D%3D?line=11'>12</a>\u001b[0m     layout_fn\u001b[39m=\u001b[39;49m\u001b[39mlambda\u001b[39;49;00m g: layout\u001b[39m.\u001b[39;49mforce_atlas_sknet(\n\u001b[1;32m     <a href='vscode-notebook-cell:/Users/urosrapajic/work/alph/examples/force_atlas.ipynb#W1sZmlsZQ%3D%3D?line=12'>13</a>\u001b[0m         g,\n\u001b[1;32m     <a href='vscode-notebook-cell:/Users/urosrapajic/work/alph/examples/force_atlas.ipynb#W1sZmlsZQ%3D%3D?line=13'>14</a>\u001b[0m         init_seed\u001b[39m=\u001b[39;49mSEED,\n\u001b[1;32m     <a href='vscode-notebook-cell:/Users/urosrapajic/work/alph/examples/force_atlas.ipynb#W1sZmlsZQ%3D%3D?line=14'>15</a>\u001b[0m         gravity_factor\u001b[39m=\u001b[39;49m\u001b[39m0.005\u001b[39;49m,\n\u001b[1;32m     <a href='vscode-notebook-cell:/Users/urosrapajic/work/alph/examples/force_atlas.ipynb#W1sZmlsZQ%3D%3D?line=15'>16</a>\u001b[0m         repulsive_factor\u001b[39m=\u001b[39;49m\u001b[39m0.6\u001b[39;49m,\n\u001b[1;32m     <a href='vscode-notebook-cell:/Users/urosrapajic/work/alph/examples/force_atlas.ipynb#W1sZmlsZQ%3D%3D?line=16'>17</a>\u001b[0m         n_iter\u001b[39m=\u001b[39;49m\u001b[39m100\u001b[39;49m,\n\u001b[1;32m     <a href='vscode-notebook-cell:/Users/urosrapajic/work/alph/examples/force_atlas.ipynb#W1sZmlsZQ%3D%3D?line=17'>18</a>\u001b[0m     ),\n\u001b[1;32m     <a href='vscode-notebook-cell:/Users/urosrapajic/work/alph/examples/force_atlas.ipynb#W1sZmlsZQ%3D%3D?line=18'>19</a>\u001b[0m     node_args\u001b[39m=\u001b[39;49m\u001b[39mdict\u001b[39;49m(\n\u001b[1;32m     <a href='vscode-notebook-cell:/Users/urosrapajic/work/alph/examples/force_atlas.ipynb#W1sZmlsZQ%3D%3D?line=19'>20</a>\u001b[0m         size\u001b[39m=\u001b[39;49malt\u001b[39m.\u001b[39;49mSize(\u001b[39m\"\u001b[39;49m\u001b[39mdegree_centrality\u001b[39;49m\u001b[39m\"\u001b[39;49m, scale\u001b[39m=\u001b[39;49malt\u001b[39m.\u001b[39;49mScale(domain\u001b[39m=\u001b[39;49m[\u001b[39m0\u001b[39;49m,\u001b[39m1\u001b[39;49m], \u001b[39mrange\u001b[39;49m\u001b[39m=\u001b[39;49m[\u001b[39m100\u001b[39;49m, \u001b[39m1600\u001b[39;49m]), legend\u001b[39m=\u001b[39;49m\u001b[39mNone\u001b[39;49;00m),\n\u001b[1;32m     <a href='vscode-notebook-cell:/Users/urosrapajic/work/alph/examples/force_atlas.ipynb#W1sZmlsZQ%3D%3D?line=20'>21</a>\u001b[0m         halo_offset\u001b[39m=\u001b[39;49m\u001b[39mNone\u001b[39;49;00m,\n\u001b[1;32m     <a href='vscode-notebook-cell:/Users/urosrapajic/work/alph/examples/force_atlas.ipynb#W1sZmlsZQ%3D%3D?line=21'>22</a>\u001b[0m         \u001b[39m#fill=\"#ccc\",\u001b[39;49;00m\n\u001b[1;32m     <a href='vscode-notebook-cell:/Users/urosrapajic/work/alph/examples/force_atlas.ipynb#W1sZmlsZQ%3D%3D?line=22'>23</a>\u001b[0m         fill\u001b[39m=\u001b[39;49malt\u001b[39m.\u001b[39;49mColor(\u001b[39m\"\u001b[39;49m\u001b[39mclub:N\u001b[39;49m\u001b[39m\"\u001b[39;49m),\n\u001b[1;32m     <a href='vscode-notebook-cell:/Users/urosrapajic/work/alph/examples/force_atlas.ipynb#W1sZmlsZQ%3D%3D?line=23'>24</a>\u001b[0m         stroke\u001b[39m=\u001b[39;49m\u001b[39m\"\u001b[39;49m\u001b[39mnavy\u001b[39;49m\u001b[39m\"\u001b[39;49m,\n\u001b[1;32m     <a href='vscode-notebook-cell:/Users/urosrapajic/work/alph/examples/force_atlas.ipynb#W1sZmlsZQ%3D%3D?line=24'>25</a>\u001b[0m         strokeWidth\u001b[39m=\u001b[39;49m\u001b[39m1\u001b[39;49m,\n\u001b[1;32m     <a href='vscode-notebook-cell:/Users/urosrapajic/work/alph/examples/force_atlas.ipynb#W1sZmlsZQ%3D%3D?line=25'>26</a>\u001b[0m         tooltip_attrs\u001b[39m=\u001b[39;49m[\u001b[39m\"\u001b[39;49m\u001b[39mclub\u001b[39;49m\u001b[39m\"\u001b[39;49m],\n\u001b[1;32m     <a href='vscode-notebook-cell:/Users/urosrapajic/work/alph/examples/force_atlas.ipynb#W1sZmlsZQ%3D%3D?line=26'>27</a>\u001b[0m         \u001b[39m#label_attr=\"name\",\u001b[39;49;00m\n\u001b[1;32m     <a href='vscode-notebook-cell:/Users/urosrapajic/work/alph/examples/force_atlas.ipynb#W1sZmlsZQ%3D%3D?line=27'>28</a>\u001b[0m     ),\n\u001b[1;32m     <a href='vscode-notebook-cell:/Users/urosrapajic/work/alph/examples/force_atlas.ipynb#W1sZmlsZQ%3D%3D?line=28'>29</a>\u001b[0m     edge_args\u001b[39m=\u001b[39;49m\u001b[39mdict\u001b[39;49m(\n\u001b[1;32m     <a href='vscode-notebook-cell:/Users/urosrapajic/work/alph/examples/force_atlas.ipynb#W1sZmlsZQ%3D%3D?line=29'>30</a>\u001b[0m         color\u001b[39m=\u001b[39;49m\u001b[39m\"\u001b[39;49m\u001b[39mblack\u001b[39;49m\u001b[39m\"\u001b[39;49m,\n\u001b[1;32m     <a href='vscode-notebook-cell:/Users/urosrapajic/work/alph/examples/force_atlas.ipynb#W1sZmlsZQ%3D%3D?line=30'>31</a>\u001b[0m         opacity\u001b[39m=\u001b[39;49m\u001b[39m0.3\u001b[39;49m,\n\u001b[1;32m     <a href='vscode-notebook-cell:/Users/urosrapajic/work/alph/examples/force_atlas.ipynb#W1sZmlsZQ%3D%3D?line=31'>32</a>\u001b[0m         \u001b[39m#strokeWidth=1,\u001b[39;49;00m\n\u001b[1;32m     <a href='vscode-notebook-cell:/Users/urosrapajic/work/alph/examples/force_atlas.ipynb#W1sZmlsZQ%3D%3D?line=32'>33</a>\u001b[0m     ),\n\u001b[1;32m     <a href='vscode-notebook-cell:/Users/urosrapajic/work/alph/examples/force_atlas.ipynb#W1sZmlsZQ%3D%3D?line=33'>34</a>\u001b[0m     width\u001b[39m=\u001b[39;49m\u001b[39m800\u001b[39;49m,\n\u001b[1;32m     <a href='vscode-notebook-cell:/Users/urosrapajic/work/alph/examples/force_atlas.ipynb#W1sZmlsZQ%3D%3D?line=34'>35</a>\u001b[0m     height\u001b[39m=\u001b[39;49m\u001b[39m500\u001b[39;49m,\n\u001b[1;32m     <a href='vscode-notebook-cell:/Users/urosrapajic/work/alph/examples/force_atlas.ipynb#W1sZmlsZQ%3D%3D?line=35'>36</a>\u001b[0m )\u001b[39m.\u001b[39mconfigure_view(strokeWidth\u001b[39m=\u001b[39m\u001b[39m0\u001b[39m)\n",
      "File \u001b[0;32m~/work/alph/venv/lib/python3.8/site-packages/alph/core.py:178\u001b[0m, in \u001b[0;36malph\u001b[0;34m(G, weight_attr, layout_fn, node_args, edge_args, combo_group_by, combo_node_additional_attrs, combo_layout_fn, combo_node_args, combo_edge_args, combo_empty_attr_action, combo_size_scale_domain, combo_size_scale_range, combo_inner_graph_scale_factor, non_serializable_datetime_format, width, height, padding)\u001b[0m\n\u001b[1;32m    176\u001b[0m \u001b[39melse\u001b[39;00m:\n\u001b[1;32m    177\u001b[0m     \u001b[39mif\u001b[39;00m layout_fn:\n\u001b[0;32m--> 178\u001b[0m         pos \u001b[39m=\u001b[39m layout_fn(G)\n\u001b[1;32m    179\u001b[0m     \u001b[39melse\u001b[39;00m:\n\u001b[1;32m    180\u001b[0m         pos \u001b[39m=\u001b[39m layout\u001b[39m.\u001b[39mdefault_network_layout(G, weight_attr\u001b[39m=\u001b[39mweight_attr)\n",
      "\u001b[1;32m/Users/urosrapajic/work/alph/examples/force_atlas.ipynb Cell 2\u001b[0m in \u001b[0;36m<lambda>\u001b[0;34m(g)\u001b[0m\n\u001b[1;32m      <a href='vscode-notebook-cell:/Users/urosrapajic/work/alph/examples/force_atlas.ipynb#W1sZmlsZQ%3D%3D?line=1'>2</a>\u001b[0m G_karate_club \u001b[39m=\u001b[39m nx\u001b[39m.\u001b[39mkarate_club_graph()\n\u001b[1;32m      <a href='vscode-notebook-cell:/Users/urosrapajic/work/alph/examples/force_atlas.ipynb#W1sZmlsZQ%3D%3D?line=2'>3</a>\u001b[0m nx\u001b[39m.\u001b[39mset_node_attributes(\n\u001b[1;32m      <a href='vscode-notebook-cell:/Users/urosrapajic/work/alph/examples/force_atlas.ipynb#W1sZmlsZQ%3D%3D?line=3'>4</a>\u001b[0m     G_karate_club,\n\u001b[1;32m      <a href='vscode-notebook-cell:/Users/urosrapajic/work/alph/examples/force_atlas.ipynb#W1sZmlsZQ%3D%3D?line=4'>5</a>\u001b[0m     nx\u001b[39m.\u001b[39mdegree_centrality(G_karate_club),\n\u001b[1;32m      <a href='vscode-notebook-cell:/Users/urosrapajic/work/alph/examples/force_atlas.ipynb#W1sZmlsZQ%3D%3D?line=5'>6</a>\u001b[0m     \u001b[39m\"\u001b[39m\u001b[39mdegree_centrality\u001b[39m\u001b[39m\"\u001b[39m\n\u001b[1;32m      <a href='vscode-notebook-cell:/Users/urosrapajic/work/alph/examples/force_atlas.ipynb#W1sZmlsZQ%3D%3D?line=6'>7</a>\u001b[0m )\n\u001b[1;32m      <a href='vscode-notebook-cell:/Users/urosrapajic/work/alph/examples/force_atlas.ipynb#W1sZmlsZQ%3D%3D?line=8'>9</a>\u001b[0m alph(\n\u001b[1;32m     <a href='vscode-notebook-cell:/Users/urosrapajic/work/alph/examples/force_atlas.ipynb#W1sZmlsZQ%3D%3D?line=9'>10</a>\u001b[0m     G_karate_club,\n\u001b[1;32m     <a href='vscode-notebook-cell:/Users/urosrapajic/work/alph/examples/force_atlas.ipynb#W1sZmlsZQ%3D%3D?line=10'>11</a>\u001b[0m     weight_attr\u001b[39m=\u001b[39m\u001b[39m\"\u001b[39m\u001b[39mweight\u001b[39m\u001b[39m\"\u001b[39m,\n\u001b[0;32m---> <a href='vscode-notebook-cell:/Users/urosrapajic/work/alph/examples/force_atlas.ipynb#W1sZmlsZQ%3D%3D?line=11'>12</a>\u001b[0m     layout_fn\u001b[39m=\u001b[39m\u001b[39mlambda\u001b[39;00m g: layout\u001b[39m.\u001b[39;49mforce_atlas_sknet(\n\u001b[1;32m     <a href='vscode-notebook-cell:/Users/urosrapajic/work/alph/examples/force_atlas.ipynb#W1sZmlsZQ%3D%3D?line=12'>13</a>\u001b[0m         g,\n\u001b[1;32m     <a href='vscode-notebook-cell:/Users/urosrapajic/work/alph/examples/force_atlas.ipynb#W1sZmlsZQ%3D%3D?line=13'>14</a>\u001b[0m         init_seed\u001b[39m=\u001b[39mSEED,\n\u001b[1;32m     <a href='vscode-notebook-cell:/Users/urosrapajic/work/alph/examples/force_atlas.ipynb#W1sZmlsZQ%3D%3D?line=14'>15</a>\u001b[0m         gravity_factor\u001b[39m=\u001b[39m\u001b[39m0.005\u001b[39m,\n\u001b[1;32m     <a href='vscode-notebook-cell:/Users/urosrapajic/work/alph/examples/force_atlas.ipynb#W1sZmlsZQ%3D%3D?line=15'>16</a>\u001b[0m         repulsive_factor\u001b[39m=\u001b[39m\u001b[39m0.6\u001b[39m,\n\u001b[1;32m     <a href='vscode-notebook-cell:/Users/urosrapajic/work/alph/examples/force_atlas.ipynb#W1sZmlsZQ%3D%3D?line=16'>17</a>\u001b[0m         n_iter\u001b[39m=\u001b[39m\u001b[39m100\u001b[39m,\n\u001b[1;32m     <a href='vscode-notebook-cell:/Users/urosrapajic/work/alph/examples/force_atlas.ipynb#W1sZmlsZQ%3D%3D?line=17'>18</a>\u001b[0m     ),\n\u001b[1;32m     <a href='vscode-notebook-cell:/Users/urosrapajic/work/alph/examples/force_atlas.ipynb#W1sZmlsZQ%3D%3D?line=18'>19</a>\u001b[0m     node_args\u001b[39m=\u001b[39m\u001b[39mdict\u001b[39m(\n\u001b[1;32m     <a href='vscode-notebook-cell:/Users/urosrapajic/work/alph/examples/force_atlas.ipynb#W1sZmlsZQ%3D%3D?line=19'>20</a>\u001b[0m         size\u001b[39m=\u001b[39malt\u001b[39m.\u001b[39mSize(\u001b[39m\"\u001b[39m\u001b[39mdegree_centrality\u001b[39m\u001b[39m\"\u001b[39m, scale\u001b[39m=\u001b[39malt\u001b[39m.\u001b[39mScale(domain\u001b[39m=\u001b[39m[\u001b[39m0\u001b[39m,\u001b[39m1\u001b[39m], \u001b[39mrange\u001b[39m\u001b[39m=\u001b[39m[\u001b[39m100\u001b[39m, \u001b[39m1600\u001b[39m]), legend\u001b[39m=\u001b[39m\u001b[39mNone\u001b[39;00m),\n\u001b[1;32m     <a href='vscode-notebook-cell:/Users/urosrapajic/work/alph/examples/force_atlas.ipynb#W1sZmlsZQ%3D%3D?line=20'>21</a>\u001b[0m         halo_offset\u001b[39m=\u001b[39m\u001b[39mNone\u001b[39;00m,\n\u001b[1;32m     <a href='vscode-notebook-cell:/Users/urosrapajic/work/alph/examples/force_atlas.ipynb#W1sZmlsZQ%3D%3D?line=21'>22</a>\u001b[0m         \u001b[39m#fill=\"#ccc\",\u001b[39;00m\n\u001b[1;32m     <a href='vscode-notebook-cell:/Users/urosrapajic/work/alph/examples/force_atlas.ipynb#W1sZmlsZQ%3D%3D?line=22'>23</a>\u001b[0m         fill\u001b[39m=\u001b[39malt\u001b[39m.\u001b[39mColor(\u001b[39m\"\u001b[39m\u001b[39mclub:N\u001b[39m\u001b[39m\"\u001b[39m),\n\u001b[1;32m     <a href='vscode-notebook-cell:/Users/urosrapajic/work/alph/examples/force_atlas.ipynb#W1sZmlsZQ%3D%3D?line=23'>24</a>\u001b[0m         stroke\u001b[39m=\u001b[39m\u001b[39m\"\u001b[39m\u001b[39mnavy\u001b[39m\u001b[39m\"\u001b[39m,\n\u001b[1;32m     <a href='vscode-notebook-cell:/Users/urosrapajic/work/alph/examples/force_atlas.ipynb#W1sZmlsZQ%3D%3D?line=24'>25</a>\u001b[0m         strokeWidth\u001b[39m=\u001b[39m\u001b[39m1\u001b[39m,\n\u001b[1;32m     <a href='vscode-notebook-cell:/Users/urosrapajic/work/alph/examples/force_atlas.ipynb#W1sZmlsZQ%3D%3D?line=25'>26</a>\u001b[0m         tooltip_attrs\u001b[39m=\u001b[39m[\u001b[39m\"\u001b[39m\u001b[39mclub\u001b[39m\u001b[39m\"\u001b[39m],\n\u001b[1;32m     <a href='vscode-notebook-cell:/Users/urosrapajic/work/alph/examples/force_atlas.ipynb#W1sZmlsZQ%3D%3D?line=26'>27</a>\u001b[0m         \u001b[39m#label_attr=\"name\",\u001b[39;00m\n\u001b[1;32m     <a href='vscode-notebook-cell:/Users/urosrapajic/work/alph/examples/force_atlas.ipynb#W1sZmlsZQ%3D%3D?line=27'>28</a>\u001b[0m     ),\n\u001b[1;32m     <a href='vscode-notebook-cell:/Users/urosrapajic/work/alph/examples/force_atlas.ipynb#W1sZmlsZQ%3D%3D?line=28'>29</a>\u001b[0m     edge_args\u001b[39m=\u001b[39m\u001b[39mdict\u001b[39m(\n\u001b[1;32m     <a href='vscode-notebook-cell:/Users/urosrapajic/work/alph/examples/force_atlas.ipynb#W1sZmlsZQ%3D%3D?line=29'>30</a>\u001b[0m         color\u001b[39m=\u001b[39m\u001b[39m\"\u001b[39m\u001b[39mblack\u001b[39m\u001b[39m\"\u001b[39m,\n\u001b[1;32m     <a href='vscode-notebook-cell:/Users/urosrapajic/work/alph/examples/force_atlas.ipynb#W1sZmlsZQ%3D%3D?line=30'>31</a>\u001b[0m         opacity\u001b[39m=\u001b[39m\u001b[39m0.3\u001b[39m,\n\u001b[1;32m     <a href='vscode-notebook-cell:/Users/urosrapajic/work/alph/examples/force_atlas.ipynb#W1sZmlsZQ%3D%3D?line=31'>32</a>\u001b[0m         \u001b[39m#strokeWidth=1,\u001b[39;00m\n\u001b[1;32m     <a href='vscode-notebook-cell:/Users/urosrapajic/work/alph/examples/force_atlas.ipynb#W1sZmlsZQ%3D%3D?line=32'>33</a>\u001b[0m     ),\n\u001b[1;32m     <a href='vscode-notebook-cell:/Users/urosrapajic/work/alph/examples/force_atlas.ipynb#W1sZmlsZQ%3D%3D?line=33'>34</a>\u001b[0m     width\u001b[39m=\u001b[39m\u001b[39m800\u001b[39m,\n\u001b[1;32m     <a href='vscode-notebook-cell:/Users/urosrapajic/work/alph/examples/force_atlas.ipynb#W1sZmlsZQ%3D%3D?line=34'>35</a>\u001b[0m     height\u001b[39m=\u001b[39m\u001b[39m500\u001b[39m,\n\u001b[1;32m     <a href='vscode-notebook-cell:/Users/urosrapajic/work/alph/examples/force_atlas.ipynb#W1sZmlsZQ%3D%3D?line=35'>36</a>\u001b[0m )\u001b[39m.\u001b[39mconfigure_view(strokeWidth\u001b[39m=\u001b[39m\u001b[39m0\u001b[39m)\n",
      "\u001b[0;31mAttributeError\u001b[0m: module 'alph.layout' has no attribute 'force_atlas_sknet'"
     ]
    }
   ],
   "source": [
    "SEED = 42\n",
    "G_karate_club = nx.karate_club_graph()\n",
    "nx.set_node_attributes(\n",
    "    G_karate_club,\n",
    "    nx.degree_centrality(G_karate_club),\n",
    "    \"degree_centrality\"\n",
    ")\n",
    " \n",
    "alph(\n",
    "    G_karate_club,\n",
    "    weight_attr=\"weight\",\n",
    "    layout_fn=lambda g: layout.force_atlas_sknet(\n",
    "        g,\n",
    "        init_seed=SEED,\n",
    "        gravity_factor=0.005,\n",
    "        repulsive_factor=0.6,\n",
    "        n_iter=100,\n",
    "    ),\n",
    "    node_args=dict(\n",
    "        size=alt.Size(\"degree_centrality\", scale=alt.Scale(domain=[0,1], range=[100, 1600]), legend=None),\n",
    "        halo_offset=None,\n",
    "        #fill=\"#ccc\",\n",
    "        fill=alt.Color(\"club:N\"),\n",
    "        stroke=\"navy\",\n",
    "        strokeWidth=1,\n",
    "        tooltip_attrs=[\"club\"],\n",
    "        #label_attr=\"name\",\n",
    "    ),\n",
    "    edge_args=dict(\n",
    "        color=\"black\",\n",
    "        opacity=0.3,\n",
    "        #strokeWidth=1,\n",
    "    ),\n",
    "    width=800,\n",
    "    height=500,\n",
    ").configure_view(strokeWidth=0)"
   ]
  },
  {
   "cell_type": "code",
   "execution_count": 6,
   "metadata": {},
   "outputs": [
    {
     "ename": "ImportError",
     "evalue": "cannot import name 'force_atlas_sknet' from 'alph.layout' (/Users/urosrapajic/work/alph/venv/lib/python3.8/site-packages/alph/layout.py)",
     "output_type": "error",
     "traceback": [
      "\u001b[0;31m---------------------------------------------------------------------------\u001b[0m",
      "\u001b[0;31mImportError\u001b[0m                               Traceback (most recent call last)",
      "\u001b[1;32m/Users/urosrapajic/work/alph/examples/force_atlas.ipynb Cell 3\u001b[0m in \u001b[0;36m<cell line: 1>\u001b[0;34m()\u001b[0m\n\u001b[0;32m----> <a href='vscode-notebook-cell:/Users/urosrapajic/work/alph/examples/force_atlas.ipynb#W2sZmlsZQ%3D%3D?line=0'>1</a>\u001b[0m \u001b[39mfrom\u001b[39;00m \u001b[39malph\u001b[39;00m\u001b[39m.\u001b[39;00m\u001b[39mlayout\u001b[39;00m \u001b[39mimport\u001b[39;00m force_atlas_sknet\n",
      "\u001b[0;31mImportError\u001b[0m: cannot import name 'force_atlas_sknet' from 'alph.layout' (/Users/urosrapajic/work/alph/venv/lib/python3.8/site-packages/alph/layout.py)"
     ]
    }
   ],
   "source": [
    "from alph.layout import force_atlas_sknet"
   ]
  },
  {
   "cell_type": "code",
   "execution_count": null,
   "metadata": {},
   "outputs": [],
   "source": []
  }
 ],
 "metadata": {
  "kernelspec": {
   "display_name": "Python 3.8.2 ('venv': venv)",
   "language": "python",
   "name": "python3"
  },
  "language_info": {
   "codemirror_mode": {
    "name": "ipython",
    "version": 3
   },
   "file_extension": ".py",
   "mimetype": "text/x-python",
   "name": "python",
   "nbconvert_exporter": "python",
   "pygments_lexer": "ipython3",
   "version": "3.8.2"
  },
  "vscode": {
   "interpreter": {
    "hash": "121ccb6ef33f050b5231fe1f8644b93952e7f3a79e0892dcb9cd03f1749809c5"
   }
  }
 },
 "nbformat": 4,
 "nbformat_minor": 2
}
